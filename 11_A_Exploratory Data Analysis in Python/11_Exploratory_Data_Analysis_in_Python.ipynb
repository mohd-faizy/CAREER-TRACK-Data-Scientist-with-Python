{
  "nbformat": 4,
  "nbformat_minor": 0,
  "metadata": {
    "colab": {
      "provenance": [],
      "toc_visible": true
    },
    "kernelspec": {
      "name": "python3",
      "display_name": "Python 3"
    },
    "language_info": {
      "name": "python"
    }
  },
  "cells": [
    {
      "cell_type": "markdown",
      "source": [
        "# <center>**Exploratory Data Analysis in Python📊🐍📉**</center>"
      ],
      "metadata": {
        "id": "SWtZYSlC45Ky"
      }
    },
    {
      "cell_type": "code",
      "source": [
        "import pandas as pd\n",
        "import numpy as np\n",
        "import seaborn as sns\n",
        "import matplotlib.pyplot as plt"
      ],
      "metadata": {
        "id": "3HE0AQkGDpPT"
      },
      "execution_count": 1,
      "outputs": []
    },
    {
      "cell_type": "code",
      "source": [
        "url_books  = \"https://raw.githubusercontent.com/mohd-faizy/CAREER-TRACK-Data-Scientist-with-Python/main/11_Exploratory%20Data%20Analysis%20in%20Python/_dataset/clean_books.csv\"\n",
        "url_unemployment  = \"https://raw.githubusercontent.com/mohd-faizy/CAREER-TRACK-Data-Scientist-with-Python/main/11_Exploratory%20Data%20Analysis%20in%20Python/_dataset/clean_unemployment.csv\"\n",
        "url_divorce  = \"https://raw.githubusercontent.com/mohd-faizy/CAREER-TRACK-Data-Scientist-with-Python/main/11_Exploratory%20Data%20Analysis%20in%20Python/_dataset/divorce.csv\"\n",
        "url_salaries  = \"https://raw.githubusercontent.com/mohd-faizy/CAREER-TRACK-Data-Scientist-with-Python/main/11_Exploratory%20Data%20Analysis%20in%20Python/_dataset/ds_salaries_clean.csv\""
      ],
      "metadata": {
        "id": "cdtw0oXZCQPr"
      },
      "execution_count": 2,
      "outputs": []
    },
    {
      "cell_type": "code",
      "source": [
        "books  = pd.read_csv(url_books)\n",
        "unemployment = pd.read_csv(url_unemployment)\n",
        "divorce   = pd.read_csv(url_divorce)\n",
        "salaries = pd.read_csv(url_salaries)"
      ],
      "metadata": {
        "id": "HNvtiecoCk4R"
      },
      "execution_count": 3,
      "outputs": []
    },
    {
      "cell_type": "code",
      "source": [
        "\n",
        "data_url = [url_books, url_unemployment, url_divorce, url_salaries]\n",
        "data_name = ['books', 'unemployment', 'divorce', 'salaries']\n",
        "\n",
        "for name, url in zip(data_name, data_url):\n",
        "    df = pd.read_csv(url)\n",
        "    print(name)\n",
        "    print('-'*100)\n",
        "    display(df.columns)\n",
        "    print('\\n')"
      ],
      "metadata": {
        "colab": {
          "base_uri": "https://localhost:8080/",
          "height": 503
        },
        "id": "z8-ojnb2EsDw",
        "outputId": "b38d463d-c99d-46a2-bc6a-53763d6b7ae2"
      },
      "execution_count": 4,
      "outputs": [
        {
          "output_type": "stream",
          "name": "stdout",
          "text": [
            "books\n",
            "----------------------------------------------------------------------------------------------------\n"
          ]
        },
        {
          "output_type": "display_data",
          "data": {
            "text/plain": [
              "Index(['name', 'author', 'rating', 'year', 'genre'], dtype='object')"
            ]
          },
          "metadata": {}
        },
        {
          "output_type": "stream",
          "name": "stdout",
          "text": [
            "\n",
            "\n",
            "unemployment\n",
            "----------------------------------------------------------------------------------------------------\n"
          ]
        },
        {
          "output_type": "display_data",
          "data": {
            "text/plain": [
              "Index(['country_code', 'country_name', 'continent', '2010', '2011', '2012',\n",
              "       '2013', '2014', '2015', '2016', '2017', '2018', '2019', '2020', '2021'],\n",
              "      dtype='object')"
            ]
          },
          "metadata": {}
        },
        {
          "output_type": "stream",
          "name": "stdout",
          "text": [
            "\n",
            "\n",
            "divorce\n",
            "----------------------------------------------------------------------------------------------------\n"
          ]
        },
        {
          "output_type": "display_data",
          "data": {
            "text/plain": [
              "Index(['divorce_date', 'dob_man', 'education_man', 'income_man', 'dob_woman',\n",
              "       'education_woman', 'income_woman', 'marriage_date', 'marriage_duration',\n",
              "       'num_kids'],\n",
              "      dtype='object')"
            ]
          },
          "metadata": {}
        },
        {
          "output_type": "stream",
          "name": "stdout",
          "text": [
            "\n",
            "\n",
            "salaries\n",
            "----------------------------------------------------------------------------------------------------\n"
          ]
        },
        {
          "output_type": "display_data",
          "data": {
            "text/plain": [
              "Index(['Working_Year', 'Designation', 'Experience', 'Employment_Status',\n",
              "       'Employee_Location', 'Company_Size', 'Remote_Working_Ratio',\n",
              "       'Salary_USD'],\n",
              "      dtype='object')"
            ]
          },
          "metadata": {}
        },
        {
          "output_type": "stream",
          "name": "stdout",
          "text": [
            "\n",
            "\n"
          ]
        }
      ]
    },
    {
      "cell_type": "markdown",
      "source": [
        "## **1️⃣Getting to Know a Dataset**"
      ],
      "metadata": {
        "id": "rxK0-KhAgEo9"
      }
    },
    {
      "cell_type": "markdown",
      "source": [
        "### **Initial exploration**\n",
        "\n"
      ],
      "metadata": {
        "id": "gfo67tjSjBy3"
      }
    },
    {
      "cell_type": "markdown",
      "source": [
        "#### **Functions for initial exploration**\n"
      ],
      "metadata": {
        "id": "zqyTkWMojeq4"
      }
    },
    {
      "cell_type": "code",
      "source": [
        "# Print the first five rows of unemployment\n",
        "display(unemployment.head(5))\n",
        "\n",
        "# Print a summary of non-missing values and data types in the unemployment DataFrame\n",
        "print(unemployment.info())\n",
        "\n",
        "# Print summary statistics for numerical columns in unemployment\n",
        "display(unemployment.describe())"
      ],
      "metadata": {
        "id": "94n3MXJhm-U5",
        "colab": {
          "base_uri": "https://localhost:8080/",
          "height": 889
        },
        "outputId": "dced188a-0039-4ecd-ab86-893191e05932"
      },
      "execution_count": 5,
      "outputs": [
        {
          "output_type": "display_data",
          "data": {
            "text/plain": [
              "  country_code          country_name      continent   2010   2011   2012  \\\n",
              "0          AFG           Afghanistan           Asia  11.35  11.05  11.34   \n",
              "1          AGO                Angola         Africa   9.43   7.36   7.35   \n",
              "2          ALB               Albania         Europe  14.09  13.48  13.38   \n",
              "3          ARE  United Arab Emirates           Asia   2.48   2.30   2.18   \n",
              "4          ARG             Argentina  South America   7.71   7.18   7.22   \n",
              "\n",
              "    2013   2014   2015   2016   2017   2018   2019   2020   2021  \n",
              "0  11.19  11.14  11.13  11.16  11.18  11.15  11.22  11.71  13.28  \n",
              "1   7.37   7.37   7.39   7.41   7.41   7.42   7.42   8.33   8.53  \n",
              "2  15.87  18.05  17.19  15.42  13.62  12.30  11.47  13.33  11.82  \n",
              "3   2.04   1.91   1.77   1.64   2.46   2.35   2.23   3.19   3.36  \n",
              "4   7.10   7.27   7.52   8.11   8.35   9.22   9.84  11.46  10.90  "
            ],
            "text/html": [
              "\n",
              "  <div id=\"df-e7abb7a5-cd49-498d-bae1-decc55599751\">\n",
              "    <div class=\"colab-df-container\">\n",
              "      <div>\n",
              "<style scoped>\n",
              "    .dataframe tbody tr th:only-of-type {\n",
              "        vertical-align: middle;\n",
              "    }\n",
              "\n",
              "    .dataframe tbody tr th {\n",
              "        vertical-align: top;\n",
              "    }\n",
              "\n",
              "    .dataframe thead th {\n",
              "        text-align: right;\n",
              "    }\n",
              "</style>\n",
              "<table border=\"1\" class=\"dataframe\">\n",
              "  <thead>\n",
              "    <tr style=\"text-align: right;\">\n",
              "      <th></th>\n",
              "      <th>country_code</th>\n",
              "      <th>country_name</th>\n",
              "      <th>continent</th>\n",
              "      <th>2010</th>\n",
              "      <th>2011</th>\n",
              "      <th>2012</th>\n",
              "      <th>2013</th>\n",
              "      <th>2014</th>\n",
              "      <th>2015</th>\n",
              "      <th>2016</th>\n",
              "      <th>2017</th>\n",
              "      <th>2018</th>\n",
              "      <th>2019</th>\n",
              "      <th>2020</th>\n",
              "      <th>2021</th>\n",
              "    </tr>\n",
              "  </thead>\n",
              "  <tbody>\n",
              "    <tr>\n",
              "      <th>0</th>\n",
              "      <td>AFG</td>\n",
              "      <td>Afghanistan</td>\n",
              "      <td>Asia</td>\n",
              "      <td>11.35</td>\n",
              "      <td>11.05</td>\n",
              "      <td>11.34</td>\n",
              "      <td>11.19</td>\n",
              "      <td>11.14</td>\n",
              "      <td>11.13</td>\n",
              "      <td>11.16</td>\n",
              "      <td>11.18</td>\n",
              "      <td>11.15</td>\n",
              "      <td>11.22</td>\n",
              "      <td>11.71</td>\n",
              "      <td>13.28</td>\n",
              "    </tr>\n",
              "    <tr>\n",
              "      <th>1</th>\n",
              "      <td>AGO</td>\n",
              "      <td>Angola</td>\n",
              "      <td>Africa</td>\n",
              "      <td>9.43</td>\n",
              "      <td>7.36</td>\n",
              "      <td>7.35</td>\n",
              "      <td>7.37</td>\n",
              "      <td>7.37</td>\n",
              "      <td>7.39</td>\n",
              "      <td>7.41</td>\n",
              "      <td>7.41</td>\n",
              "      <td>7.42</td>\n",
              "      <td>7.42</td>\n",
              "      <td>8.33</td>\n",
              "      <td>8.53</td>\n",
              "    </tr>\n",
              "    <tr>\n",
              "      <th>2</th>\n",
              "      <td>ALB</td>\n",
              "      <td>Albania</td>\n",
              "      <td>Europe</td>\n",
              "      <td>14.09</td>\n",
              "      <td>13.48</td>\n",
              "      <td>13.38</td>\n",
              "      <td>15.87</td>\n",
              "      <td>18.05</td>\n",
              "      <td>17.19</td>\n",
              "      <td>15.42</td>\n",
              "      <td>13.62</td>\n",
              "      <td>12.30</td>\n",
              "      <td>11.47</td>\n",
              "      <td>13.33</td>\n",
              "      <td>11.82</td>\n",
              "    </tr>\n",
              "    <tr>\n",
              "      <th>3</th>\n",
              "      <td>ARE</td>\n",
              "      <td>United Arab Emirates</td>\n",
              "      <td>Asia</td>\n",
              "      <td>2.48</td>\n",
              "      <td>2.30</td>\n",
              "      <td>2.18</td>\n",
              "      <td>2.04</td>\n",
              "      <td>1.91</td>\n",
              "      <td>1.77</td>\n",
              "      <td>1.64</td>\n",
              "      <td>2.46</td>\n",
              "      <td>2.35</td>\n",
              "      <td>2.23</td>\n",
              "      <td>3.19</td>\n",
              "      <td>3.36</td>\n",
              "    </tr>\n",
              "    <tr>\n",
              "      <th>4</th>\n",
              "      <td>ARG</td>\n",
              "      <td>Argentina</td>\n",
              "      <td>South America</td>\n",
              "      <td>7.71</td>\n",
              "      <td>7.18</td>\n",
              "      <td>7.22</td>\n",
              "      <td>7.10</td>\n",
              "      <td>7.27</td>\n",
              "      <td>7.52</td>\n",
              "      <td>8.11</td>\n",
              "      <td>8.35</td>\n",
              "      <td>9.22</td>\n",
              "      <td>9.84</td>\n",
              "      <td>11.46</td>\n",
              "      <td>10.90</td>\n",
              "    </tr>\n",
              "  </tbody>\n",
              "</table>\n",
              "</div>\n",
              "      <button class=\"colab-df-convert\" onclick=\"convertToInteractive('df-e7abb7a5-cd49-498d-bae1-decc55599751')\"\n",
              "              title=\"Convert this dataframe to an interactive table.\"\n",
              "              style=\"display:none;\">\n",
              "        \n",
              "  <svg xmlns=\"http://www.w3.org/2000/svg\" height=\"24px\"viewBox=\"0 0 24 24\"\n",
              "       width=\"24px\">\n",
              "    <path d=\"M0 0h24v24H0V0z\" fill=\"none\"/>\n",
              "    <path d=\"M18.56 5.44l.94 2.06.94-2.06 2.06-.94-2.06-.94-.94-2.06-.94 2.06-2.06.94zm-11 1L8.5 8.5l.94-2.06 2.06-.94-2.06-.94L8.5 2.5l-.94 2.06-2.06.94zm10 10l.94 2.06.94-2.06 2.06-.94-2.06-.94-.94-2.06-.94 2.06-2.06.94z\"/><path d=\"M17.41 7.96l-1.37-1.37c-.4-.4-.92-.59-1.43-.59-.52 0-1.04.2-1.43.59L10.3 9.45l-7.72 7.72c-.78.78-.78 2.05 0 2.83L4 21.41c.39.39.9.59 1.41.59.51 0 1.02-.2 1.41-.59l7.78-7.78 2.81-2.81c.8-.78.8-2.07 0-2.86zM5.41 20L4 18.59l7.72-7.72 1.47 1.35L5.41 20z\"/>\n",
              "  </svg>\n",
              "      </button>\n",
              "      \n",
              "  <style>\n",
              "    .colab-df-container {\n",
              "      display:flex;\n",
              "      flex-wrap:wrap;\n",
              "      gap: 12px;\n",
              "    }\n",
              "\n",
              "    .colab-df-convert {\n",
              "      background-color: #E8F0FE;\n",
              "      border: none;\n",
              "      border-radius: 50%;\n",
              "      cursor: pointer;\n",
              "      display: none;\n",
              "      fill: #1967D2;\n",
              "      height: 32px;\n",
              "      padding: 0 0 0 0;\n",
              "      width: 32px;\n",
              "    }\n",
              "\n",
              "    .colab-df-convert:hover {\n",
              "      background-color: #E2EBFA;\n",
              "      box-shadow: 0px 1px 2px rgba(60, 64, 67, 0.3), 0px 1px 3px 1px rgba(60, 64, 67, 0.15);\n",
              "      fill: #174EA6;\n",
              "    }\n",
              "\n",
              "    [theme=dark] .colab-df-convert {\n",
              "      background-color: #3B4455;\n",
              "      fill: #D2E3FC;\n",
              "    }\n",
              "\n",
              "    [theme=dark] .colab-df-convert:hover {\n",
              "      background-color: #434B5C;\n",
              "      box-shadow: 0px 1px 3px 1px rgba(0, 0, 0, 0.15);\n",
              "      filter: drop-shadow(0px 1px 2px rgba(0, 0, 0, 0.3));\n",
              "      fill: #FFFFFF;\n",
              "    }\n",
              "  </style>\n",
              "\n",
              "      <script>\n",
              "        const buttonEl =\n",
              "          document.querySelector('#df-e7abb7a5-cd49-498d-bae1-decc55599751 button.colab-df-convert');\n",
              "        buttonEl.style.display =\n",
              "          google.colab.kernel.accessAllowed ? 'block' : 'none';\n",
              "\n",
              "        async function convertToInteractive(key) {\n",
              "          const element = document.querySelector('#df-e7abb7a5-cd49-498d-bae1-decc55599751');\n",
              "          const dataTable =\n",
              "            await google.colab.kernel.invokeFunction('convertToInteractive',\n",
              "                                                     [key], {});\n",
              "          if (!dataTable) return;\n",
              "\n",
              "          const docLinkHtml = 'Like what you see? Visit the ' +\n",
              "            '<a target=\"_blank\" href=https://colab.research.google.com/notebooks/data_table.ipynb>data table notebook</a>'\n",
              "            + ' to learn more about interactive tables.';\n",
              "          element.innerHTML = '';\n",
              "          dataTable['output_type'] = 'display_data';\n",
              "          await google.colab.output.renderOutput(dataTable, element);\n",
              "          const docLink = document.createElement('div');\n",
              "          docLink.innerHTML = docLinkHtml;\n",
              "          element.appendChild(docLink);\n",
              "        }\n",
              "      </script>\n",
              "    </div>\n",
              "  </div>\n",
              "  "
            ]
          },
          "metadata": {}
        },
        {
          "output_type": "stream",
          "name": "stdout",
          "text": [
            "<class 'pandas.core.frame.DataFrame'>\n",
            "RangeIndex: 182 entries, 0 to 181\n",
            "Data columns (total 15 columns):\n",
            " #   Column        Non-Null Count  Dtype  \n",
            "---  ------        --------------  -----  \n",
            " 0   country_code  182 non-null    object \n",
            " 1   country_name  182 non-null    object \n",
            " 2   continent     177 non-null    object \n",
            " 3   2010          182 non-null    float64\n",
            " 4   2011          182 non-null    float64\n",
            " 5   2012          182 non-null    float64\n",
            " 6   2013          182 non-null    float64\n",
            " 7   2014          182 non-null    float64\n",
            " 8   2015          182 non-null    float64\n",
            " 9   2016          182 non-null    float64\n",
            " 10  2017          182 non-null    float64\n",
            " 11  2018          182 non-null    float64\n",
            " 12  2019          182 non-null    float64\n",
            " 13  2020          182 non-null    float64\n",
            " 14  2021          182 non-null    float64\n",
            "dtypes: float64(12), object(3)\n",
            "memory usage: 21.5+ KB\n",
            "None\n"
          ]
        },
        {
          "output_type": "display_data",
          "data": {
            "text/plain": [
              "             2010        2011        2012        2013        2014        2015  \\\n",
              "count  182.000000  182.000000  182.000000  182.000000  182.000000  182.000000   \n",
              "mean     8.409286    8.315440    8.317967    8.344780    8.179670    8.058901   \n",
              "std      6.248887    6.266795    6.367270    6.416041    6.284241    6.161170   \n",
              "min      0.450000    0.320000    0.480000    0.250000    0.200000    0.170000   \n",
              "25%      4.015000    3.775000    3.742500    3.692500    3.625000    3.662500   \n",
              "50%      6.965000    6.805000    6.690000    6.395000    6.450000    6.170000   \n",
              "75%     10.957500   11.045000   11.285000   11.310000   10.695000   10.215000   \n",
              "max     32.020000   31.380000   31.020000   29.000000   28.030000   27.690000   \n",
              "\n",
              "             2016        2017        2018        2019        2020        2021  \n",
              "count  182.000000  182.000000  182.000000  182.000000  182.000000  182.000000  \n",
              "mean     7.925879    7.668626    7.426429    7.243736    8.420934    8.390879  \n",
              "std      6.045439    5.902152    5.818915    5.696573    6.040915    6.067192  \n",
              "min      0.150000    0.140000    0.110000    0.100000    0.210000    0.260000  \n",
              "25%      3.800000    3.690000    3.625000    3.487500    4.285000    4.335000  \n",
              "50%      5.925000    5.650000    5.375000    5.240000    6.695000    6.425000  \n",
              "75%     10.245000   10.315000    9.257500    9.445000   11.155000   10.840000  \n",
              "max     26.540000   27.040000   26.910000   28.470000   29.220000   33.560000  "
            ],
            "text/html": [
              "\n",
              "  <div id=\"df-c0748eb0-4eba-4e31-9084-f5209b2e3b0f\">\n",
              "    <div class=\"colab-df-container\">\n",
              "      <div>\n",
              "<style scoped>\n",
              "    .dataframe tbody tr th:only-of-type {\n",
              "        vertical-align: middle;\n",
              "    }\n",
              "\n",
              "    .dataframe tbody tr th {\n",
              "        vertical-align: top;\n",
              "    }\n",
              "\n",
              "    .dataframe thead th {\n",
              "        text-align: right;\n",
              "    }\n",
              "</style>\n",
              "<table border=\"1\" class=\"dataframe\">\n",
              "  <thead>\n",
              "    <tr style=\"text-align: right;\">\n",
              "      <th></th>\n",
              "      <th>2010</th>\n",
              "      <th>2011</th>\n",
              "      <th>2012</th>\n",
              "      <th>2013</th>\n",
              "      <th>2014</th>\n",
              "      <th>2015</th>\n",
              "      <th>2016</th>\n",
              "      <th>2017</th>\n",
              "      <th>2018</th>\n",
              "      <th>2019</th>\n",
              "      <th>2020</th>\n",
              "      <th>2021</th>\n",
              "    </tr>\n",
              "  </thead>\n",
              "  <tbody>\n",
              "    <tr>\n",
              "      <th>count</th>\n",
              "      <td>182.000000</td>\n",
              "      <td>182.000000</td>\n",
              "      <td>182.000000</td>\n",
              "      <td>182.000000</td>\n",
              "      <td>182.000000</td>\n",
              "      <td>182.000000</td>\n",
              "      <td>182.000000</td>\n",
              "      <td>182.000000</td>\n",
              "      <td>182.000000</td>\n",
              "      <td>182.000000</td>\n",
              "      <td>182.000000</td>\n",
              "      <td>182.000000</td>\n",
              "    </tr>\n",
              "    <tr>\n",
              "      <th>mean</th>\n",
              "      <td>8.409286</td>\n",
              "      <td>8.315440</td>\n",
              "      <td>8.317967</td>\n",
              "      <td>8.344780</td>\n",
              "      <td>8.179670</td>\n",
              "      <td>8.058901</td>\n",
              "      <td>7.925879</td>\n",
              "      <td>7.668626</td>\n",
              "      <td>7.426429</td>\n",
              "      <td>7.243736</td>\n",
              "      <td>8.420934</td>\n",
              "      <td>8.390879</td>\n",
              "    </tr>\n",
              "    <tr>\n",
              "      <th>std</th>\n",
              "      <td>6.248887</td>\n",
              "      <td>6.266795</td>\n",
              "      <td>6.367270</td>\n",
              "      <td>6.416041</td>\n",
              "      <td>6.284241</td>\n",
              "      <td>6.161170</td>\n",
              "      <td>6.045439</td>\n",
              "      <td>5.902152</td>\n",
              "      <td>5.818915</td>\n",
              "      <td>5.696573</td>\n",
              "      <td>6.040915</td>\n",
              "      <td>6.067192</td>\n",
              "    </tr>\n",
              "    <tr>\n",
              "      <th>min</th>\n",
              "      <td>0.450000</td>\n",
              "      <td>0.320000</td>\n",
              "      <td>0.480000</td>\n",
              "      <td>0.250000</td>\n",
              "      <td>0.200000</td>\n",
              "      <td>0.170000</td>\n",
              "      <td>0.150000</td>\n",
              "      <td>0.140000</td>\n",
              "      <td>0.110000</td>\n",
              "      <td>0.100000</td>\n",
              "      <td>0.210000</td>\n",
              "      <td>0.260000</td>\n",
              "    </tr>\n",
              "    <tr>\n",
              "      <th>25%</th>\n",
              "      <td>4.015000</td>\n",
              "      <td>3.775000</td>\n",
              "      <td>3.742500</td>\n",
              "      <td>3.692500</td>\n",
              "      <td>3.625000</td>\n",
              "      <td>3.662500</td>\n",
              "      <td>3.800000</td>\n",
              "      <td>3.690000</td>\n",
              "      <td>3.625000</td>\n",
              "      <td>3.487500</td>\n",
              "      <td>4.285000</td>\n",
              "      <td>4.335000</td>\n",
              "    </tr>\n",
              "    <tr>\n",
              "      <th>50%</th>\n",
              "      <td>6.965000</td>\n",
              "      <td>6.805000</td>\n",
              "      <td>6.690000</td>\n",
              "      <td>6.395000</td>\n",
              "      <td>6.450000</td>\n",
              "      <td>6.170000</td>\n",
              "      <td>5.925000</td>\n",
              "      <td>5.650000</td>\n",
              "      <td>5.375000</td>\n",
              "      <td>5.240000</td>\n",
              "      <td>6.695000</td>\n",
              "      <td>6.425000</td>\n",
              "    </tr>\n",
              "    <tr>\n",
              "      <th>75%</th>\n",
              "      <td>10.957500</td>\n",
              "      <td>11.045000</td>\n",
              "      <td>11.285000</td>\n",
              "      <td>11.310000</td>\n",
              "      <td>10.695000</td>\n",
              "      <td>10.215000</td>\n",
              "      <td>10.245000</td>\n",
              "      <td>10.315000</td>\n",
              "      <td>9.257500</td>\n",
              "      <td>9.445000</td>\n",
              "      <td>11.155000</td>\n",
              "      <td>10.840000</td>\n",
              "    </tr>\n",
              "    <tr>\n",
              "      <th>max</th>\n",
              "      <td>32.020000</td>\n",
              "      <td>31.380000</td>\n",
              "      <td>31.020000</td>\n",
              "      <td>29.000000</td>\n",
              "      <td>28.030000</td>\n",
              "      <td>27.690000</td>\n",
              "      <td>26.540000</td>\n",
              "      <td>27.040000</td>\n",
              "      <td>26.910000</td>\n",
              "      <td>28.470000</td>\n",
              "      <td>29.220000</td>\n",
              "      <td>33.560000</td>\n",
              "    </tr>\n",
              "  </tbody>\n",
              "</table>\n",
              "</div>\n",
              "      <button class=\"colab-df-convert\" onclick=\"convertToInteractive('df-c0748eb0-4eba-4e31-9084-f5209b2e3b0f')\"\n",
              "              title=\"Convert this dataframe to an interactive table.\"\n",
              "              style=\"display:none;\">\n",
              "        \n",
              "  <svg xmlns=\"http://www.w3.org/2000/svg\" height=\"24px\"viewBox=\"0 0 24 24\"\n",
              "       width=\"24px\">\n",
              "    <path d=\"M0 0h24v24H0V0z\" fill=\"none\"/>\n",
              "    <path d=\"M18.56 5.44l.94 2.06.94-2.06 2.06-.94-2.06-.94-.94-2.06-.94 2.06-2.06.94zm-11 1L8.5 8.5l.94-2.06 2.06-.94-2.06-.94L8.5 2.5l-.94 2.06-2.06.94zm10 10l.94 2.06.94-2.06 2.06-.94-2.06-.94-.94-2.06-.94 2.06-2.06.94z\"/><path d=\"M17.41 7.96l-1.37-1.37c-.4-.4-.92-.59-1.43-.59-.52 0-1.04.2-1.43.59L10.3 9.45l-7.72 7.72c-.78.78-.78 2.05 0 2.83L4 21.41c.39.39.9.59 1.41.59.51 0 1.02-.2 1.41-.59l7.78-7.78 2.81-2.81c.8-.78.8-2.07 0-2.86zM5.41 20L4 18.59l7.72-7.72 1.47 1.35L5.41 20z\"/>\n",
              "  </svg>\n",
              "      </button>\n",
              "      \n",
              "  <style>\n",
              "    .colab-df-container {\n",
              "      display:flex;\n",
              "      flex-wrap:wrap;\n",
              "      gap: 12px;\n",
              "    }\n",
              "\n",
              "    .colab-df-convert {\n",
              "      background-color: #E8F0FE;\n",
              "      border: none;\n",
              "      border-radius: 50%;\n",
              "      cursor: pointer;\n",
              "      display: none;\n",
              "      fill: #1967D2;\n",
              "      height: 32px;\n",
              "      padding: 0 0 0 0;\n",
              "      width: 32px;\n",
              "    }\n",
              "\n",
              "    .colab-df-convert:hover {\n",
              "      background-color: #E2EBFA;\n",
              "      box-shadow: 0px 1px 2px rgba(60, 64, 67, 0.3), 0px 1px 3px 1px rgba(60, 64, 67, 0.15);\n",
              "      fill: #174EA6;\n",
              "    }\n",
              "\n",
              "    [theme=dark] .colab-df-convert {\n",
              "      background-color: #3B4455;\n",
              "      fill: #D2E3FC;\n",
              "    }\n",
              "\n",
              "    [theme=dark] .colab-df-convert:hover {\n",
              "      background-color: #434B5C;\n",
              "      box-shadow: 0px 1px 3px 1px rgba(0, 0, 0, 0.15);\n",
              "      filter: drop-shadow(0px 1px 2px rgba(0, 0, 0, 0.3));\n",
              "      fill: #FFFFFF;\n",
              "    }\n",
              "  </style>\n",
              "\n",
              "      <script>\n",
              "        const buttonEl =\n",
              "          document.querySelector('#df-c0748eb0-4eba-4e31-9084-f5209b2e3b0f button.colab-df-convert');\n",
              "        buttonEl.style.display =\n",
              "          google.colab.kernel.accessAllowed ? 'block' : 'none';\n",
              "\n",
              "        async function convertToInteractive(key) {\n",
              "          const element = document.querySelector('#df-c0748eb0-4eba-4e31-9084-f5209b2e3b0f');\n",
              "          const dataTable =\n",
              "            await google.colab.kernel.invokeFunction('convertToInteractive',\n",
              "                                                     [key], {});\n",
              "          if (!dataTable) return;\n",
              "\n",
              "          const docLinkHtml = 'Like what you see? Visit the ' +\n",
              "            '<a target=\"_blank\" href=https://colab.research.google.com/notebooks/data_table.ipynb>data table notebook</a>'\n",
              "            + ' to learn more about interactive tables.';\n",
              "          element.innerHTML = '';\n",
              "          dataTable['output_type'] = 'display_data';\n",
              "          await google.colab.output.renderOutput(dataTable, element);\n",
              "          const docLink = document.createElement('div');\n",
              "          docLink.innerHTML = docLinkHtml;\n",
              "          element.appendChild(docLink);\n",
              "        }\n",
              "      </script>\n",
              "    </div>\n",
              "  </div>\n",
              "  "
            ]
          },
          "metadata": {}
        }
      ]
    },
    {
      "cell_type": "markdown",
      "source": [
        "#### **Counting categorical values**\n"
      ],
      "metadata": {
        "id": "1ae-P36Bjgi4"
      }
    },
    {
      "cell_type": "code",
      "source": [
        "# Assuming 'unemployment' is your DataFrame and 'continent' is the column name\n",
        "continent_counts = unemployment['continent'].value_counts()\n",
        "\n",
        "print(continent_counts)"
      ],
      "metadata": {
        "id": "v8AUVRQuj2nZ",
        "colab": {
          "base_uri": "https://localhost:8080/"
        },
        "outputId": "4e0f2416-e15d-48a6-c0d8-32f40da03f1b"
      },
      "execution_count": 6,
      "outputs": [
        {
          "output_type": "stream",
          "name": "stdout",
          "text": [
            "Africa           53\n",
            "Asia             47\n",
            "Europe           39\n",
            "North America    18\n",
            "South America    12\n",
            "Oceania           8\n",
            "Name: continent, dtype: int64\n"
          ]
        }
      ]
    },
    {
      "cell_type": "markdown",
      "source": [
        "#### **Global unemployment in 2021**\n"
      ],
      "metadata": {
        "id": "yS6NZuSxjh_n"
      }
    },
    {
      "cell_type": "code",
      "source": [
        "# Import the required visualization libraries\n",
        "import seaborn as sns\n",
        "import matplotlib.pyplot as plt\n",
        "\n",
        "# Create a histogram of 2021 unemployment; show a full percent in each bin\n",
        "sns.histplot(data=unemployment, x=\"2021\", binwidth=1)\n",
        "plt.xlabel('Unemployment Percentage')\n",
        "plt.ylabel('Count')\n",
        "plt.title('Distribution of 2021 Unemployment')\n",
        "plt.show()"
      ],
      "metadata": {
        "id": "Em_XyZ1-j3Hf",
        "colab": {
          "base_uri": "https://localhost:8080/",
          "height": 472
        },
        "outputId": "86556ec4-3b29-409e-957e-f7f191a79b2e"
      },
      "execution_count": 7,
      "outputs": [
        {
          "output_type": "display_data",
          "data": {
            "text/plain": [
              "<Figure size 640x480 with 1 Axes>"
            ],
            "image/png": "[encoded data removed]"
          },
          "metadata": {}
        }
      ]
    },
    {
      "cell_type": "markdown",
      "source": [
        "### **Data validation**\n"
      ],
      "metadata": {
        "id": "BBajEc3Ljjiy"
      }
    },
    {
      "cell_type": "markdown",
      "source": [
        "#### **Detecting data types**\n"
      ],
      "metadata": {
        "id": "awr9qILEjk9s"
      }
    },
    {
      "cell_type": "code",
      "source": [
        "# Update the data type of the \"2019\" column to a float\n",
        "unemployment[\"2019\"] = unemployment[\"2019\"].astype(int)\n",
        "\n",
        "# Print the dtypes to check your work\n",
        "print(unemployment.dtypes)"
      ],
      "metadata": {
        "id": "CycxoWbkj4Do",
        "colab": {
          "base_uri": "https://localhost:8080/"
        },
        "outputId": "f85cf2b2-b5d4-446d-e56d-d2cf7cc40908"
      },
      "execution_count": 8,
      "outputs": [
        {
          "output_type": "stream",
          "name": "stdout",
          "text": [
            "country_code     object\n",
            "country_name     object\n",
            "continent        object\n",
            "2010            float64\n",
            "2011            float64\n",
            "2012            float64\n",
            "2013            float64\n",
            "2014            float64\n",
            "2015            float64\n",
            "2016            float64\n",
            "2017            float64\n",
            "2018            float64\n",
            "2019              int64\n",
            "2020            float64\n",
            "2021            float64\n",
            "dtype: object\n"
          ]
        }
      ]
    },
    {
      "cell_type": "markdown",
      "source": [
        "#### **Validating continents**\n"
      ],
      "metadata": {
        "id": "Ffkf_wmhjnCN"
      }
    },
    {
      "cell_type": "code",
      "source": [
        "# Define a Series describing whether each continent is outside of Oceania\n",
        "not_oceania = ~unemployment[\"continent\"].isin([\"Oceania\"])\n",
        "\n",
        "# Print unemployment without records related to countries in Oceania\n",
        "display(unemployment[not_oceania].head(5))"
      ],
      "metadata": {
        "id": "jEL8uL6Uj4Y6",
        "colab": {
          "base_uri": "https://localhost:8080/",
          "height": 206
        },
        "outputId": "d7ca71b8-9721-4ff3-e531-8324b66f4628"
      },
      "execution_count": 9,
      "outputs": [
        {
          "output_type": "display_data",
          "data": {
            "text/plain": [
              "  country_code          country_name      continent   2010   2011   2012  \\\n",
              "0          AFG           Afghanistan           Asia  11.35  11.05  11.34   \n",
              "1          AGO                Angola         Africa   9.43   7.36   7.35   \n",
              "2          ALB               Albania         Europe  14.09  13.48  13.38   \n",
              "3          ARE  United Arab Emirates           Asia   2.48   2.30   2.18   \n",
              "4          ARG             Argentina  South America   7.71   7.18   7.22   \n",
              "\n",
              "    2013   2014   2015   2016   2017   2018  2019   2020   2021  \n",
              "0  11.19  11.14  11.13  11.16  11.18  11.15    11  11.71  13.28  \n",
              "1   7.37   7.37   7.39   7.41   7.41   7.42     7   8.33   8.53  \n",
              "2  15.87  18.05  17.19  15.42  13.62  12.30    11  13.33  11.82  \n",
              "3   2.04   1.91   1.77   1.64   2.46   2.35     2   3.19   3.36  \n",
              "4   7.10   7.27   7.52   8.11   8.35   9.22     9  11.46  10.90  "
            ],
            "text/html": [
              "\n",
              "  <div id=\"df-03e27f7c-b656-486c-8e71-ec4c852d3edd\">\n",
              "    <div class=\"colab-df-container\">\n",
              "      <div>\n",
              "<style scoped>\n",
              "    .dataframe tbody tr th:only-of-type {\n",
              "        vertical-align: middle;\n",
              "    }\n",
              "\n",
              "    .dataframe tbody tr th {\n",
              "        vertical-align: top;\n",
              "    }\n",
              "\n",
              "    .dataframe thead th {\n",
              "        text-align: right;\n",
              "    }\n",
              "</style>\n",
              "<table border=\"1\" class=\"dataframe\">\n",
              "  <thead>\n",
              "    <tr style=\"text-align: right;\">\n",
              "      <th></th>\n",
              "      <th>country_code</th>\n",
              "      <th>country_name</th>\n",
              "      <th>continent</th>\n",
              "      <th>2010</th>\n",
              "      <th>2011</th>\n",
              "      <th>2012</th>\n",
              "      <th>2013</th>\n",
              "      <th>2014</th>\n",
              "      <th>2015</th>\n",
              "      <th>2016</th>\n",
              "      <th>2017</th>\n",
              "      <th>2018</th>\n",
              "      <th>2019</th>\n",
              "      <th>2020</th>\n",
              "      <th>2021</th>\n",
              "    </tr>\n",
              "  </thead>\n",
              "  <tbody>\n",
              "    <tr>\n",
              "      <th>0</th>\n",
              "      <td>AFG</td>\n",
              "      <td>Afghanistan</td>\n",
              "      <td>Asia</td>\n",
              "      <td>11.35</td>\n",
              "      <td>11.05</td>\n",
              "      <td>11.34</td>\n",
              "      <td>11.19</td>\n",
              "      <td>11.14</td>\n",
              "      <td>11.13</td>\n",
              "      <td>11.16</td>\n",
              "      <td>11.18</td>\n",
              "      <td>11.15</td>\n",
              "      <td>11</td>\n",
              "      <td>11.71</td>\n",
              "      <td>13.28</td>\n",
              "    </tr>\n",
              "    <tr>\n",
              "      <th>1</th>\n",
              "      <td>AGO</td>\n",
              "      <td>Angola</td>\n",
              "      <td>Africa</td>\n",
              "      <td>9.43</td>\n",
              "      <td>7.36</td>\n",
              "      <td>7.35</td>\n",
              "      <td>7.37</td>\n",
              "      <td>7.37</td>\n",
              "      <td>7.39</td>\n",
              "      <td>7.41</td>\n",
              "      <td>7.41</td>\n",
              "      <td>7.42</td>\n",
              "      <td>7</td>\n",
              "      <td>8.33</td>\n",
              "      <td>8.53</td>\n",
              "    </tr>\n",
              "    <tr>\n",
              "      <th>2</th>\n",
              "      <td>ALB</td>\n",
              "      <td>Albania</td>\n",
              "      <td>Europe</td>\n",
              "      <td>14.09</td>\n",
              "      <td>13.48</td>\n",
              "      <td>13.38</td>\n",
              "      <td>15.87</td>\n",
              "      <td>18.05</td>\n",
              "      <td>17.19</td>\n",
              "      <td>15.42</td>\n",
              "      <td>13.62</td>\n",
              "      <td>12.30</td>\n",
              "      <td>11</td>\n",
              "      <td>13.33</td>\n",
              "      <td>11.82</td>\n",
              "    </tr>\n",
              "    <tr>\n",
              "      <th>3</th>\n",
              "      <td>ARE</td>\n",
              "      <td>United Arab Emirates</td>\n",
              "      <td>Asia</td>\n",
              "      <td>2.48</td>\n",
              "      <td>2.30</td>\n",
              "      <td>2.18</td>\n",
              "      <td>2.04</td>\n",
              "      <td>1.91</td>\n",
              "      <td>1.77</td>\n",
              "      <td>1.64</td>\n",
              "      <td>2.46</td>\n",
              "      <td>2.35</td>\n",
              "      <td>2</td>\n",
              "      <td>3.19</td>\n",
              "      <td>3.36</td>\n",
              "    </tr>\n",
              "    <tr>\n",
              "      <th>4</th>\n",
              "      <td>ARG</td>\n",
              "      <td>Argentina</td>\n",
              "      <td>South America</td>\n",
              "      <td>7.71</td>\n",
              "      <td>7.18</td>\n",
              "      <td>7.22</td>\n",
              "      <td>7.10</td>\n",
              "      <td>7.27</td>\n",
              "      <td>7.52</td>\n",
              "      <td>8.11</td>\n",
              "      <td>8.35</td>\n",
              "      <td>9.22</td>\n",
              "      <td>9</td>\n",
              "      <td>11.46</td>\n",
              "      <td>10.90</td>\n",
              "    </tr>\n",
              "  </tbody>\n",
              "</table>\n",
              "</div>\n",
              "      <button class=\"colab-df-convert\" onclick=\"convertToInteractive('df-03e27f7c-b656-486c-8e71-ec4c852d3edd')\"\n",
              "              title=\"Convert this dataframe to an interactive table.\"\n",
              "              style=\"display:none;\">\n",
              "        \n",
              "  <svg xmlns=\"http://www.w3.org/2000/svg\" height=\"24px\"viewBox=\"0 0 24 24\"\n",
              "       width=\"24px\">\n",
              "    <path d=\"M0 0h24v24H0V0z\" fill=\"none\"/>\n",
              "    <path d=\"M18.56 5.44l.94 2.06.94-2.06 2.06-.94-2.06-.94-.94-2.06-.94 2.06-2.06.94zm-11 1L8.5 8.5l.94-2.06 2.06-.94-2.06-.94L8.5 2.5l-.94 2.06-2.06.94zm10 10l.94 2.06.94-2.06 2.06-.94-2.06-.94-.94-2.06-.94 2.06-2.06.94z\"/><path d=\"M17.41 7.96l-1.37-1.37c-.4-.4-.92-.59-1.43-.59-.52 0-1.04.2-1.43.59L10.3 9.45l-7.72 7.72c-.78.78-.78 2.05 0 2.83L4 21.41c.39.39.9.59 1.41.59.51 0 1.02-.2 1.41-.59l7.78-7.78 2.81-2.81c.8-.78.8-2.07 0-2.86zM5.41 20L4 18.59l7.72-7.72 1.47 1.35L5.41 20z\"/>\n",
              "  </svg>\n",
              "      </button>\n",
              "      \n",
              "  <style>\n",
              "    .colab-df-container {\n",
              "      display:flex;\n",
              "      flex-wrap:wrap;\n",
              "      gap: 12px;\n",
              "    }\n",
              "\n",
              "    .colab-df-convert {\n",
              "      background-color: #E8F0FE;\n",
              "      border: none;\n",
              "      border-radius: 50%;\n",
              "      cursor: pointer;\n",
              "      display: none;\n",
              "      fill: #1967D2;\n",
              "      height: 32px;\n",
              "      padding: 0 0 0 0;\n",
              "      width: 32px;\n",
              "    }\n",
              "\n",
              "    .colab-df-convert:hover {\n",
              "      background-color: #E2EBFA;\n",
              "      box-shadow: 0px 1px 2px rgba(60, 64, 67, 0.3), 0px 1px 3px 1px rgba(60, 64, 67, 0.15);\n",
              "      fill: #174EA6;\n",
              "    }\n",
              "\n",
              "    [theme=dark] .colab-df-convert {\n",
              "      background-color: #3B4455;\n",
              "      fill: #D2E3FC;\n",
              "    }\n",
              "\n",
              "    [theme=dark] .colab-df-convert:hover {\n",
              "      background-color: #434B5C;\n",
              "      box-shadow: 0px 1px 3px 1px rgba(0, 0, 0, 0.15);\n",
              "      filter: drop-shadow(0px 1px 2px rgba(0, 0, 0, 0.3));\n",
              "      fill: #FFFFFF;\n",
              "    }\n",
              "  </style>\n",
              "\n",
              "      <script>\n",
              "        const buttonEl =\n",
              "          document.querySelector('#df-03e27f7c-b656-486c-8e71-ec4c852d3edd button.colab-df-convert');\n",
              "        buttonEl.style.display =\n",
              "          google.colab.kernel.accessAllowed ? 'block' : 'none';\n",
              "\n",
              "        async function convertToInteractive(key) {\n",
              "          const element = document.querySelector('#df-03e27f7c-b656-486c-8e71-ec4c852d3edd');\n",
              "          const dataTable =\n",
              "            await google.colab.kernel.invokeFunction('convertToInteractive',\n",
              "                                                     [key], {});\n",
              "          if (!dataTable) return;\n",
              "\n",
              "          const docLinkHtml = 'Like what you see? Visit the ' +\n",
              "            '<a target=\"_blank\" href=https://colab.research.google.com/notebooks/data_table.ipynb>data table notebook</a>'\n",
              "            + ' to learn more about interactive tables.';\n",
              "          element.innerHTML = '';\n",
              "          dataTable['output_type'] = 'display_data';\n",
              "          await google.colab.output.renderOutput(dataTable, element);\n",
              "          const docLink = document.createElement('div');\n",
              "          docLink.innerHTML = docLinkHtml;\n",
              "          element.appendChild(docLink);\n",
              "        }\n",
              "      </script>\n",
              "    </div>\n",
              "  </div>\n",
              "  "
            ]
          },
          "metadata": {}
        }
      ]
    },
    {
      "cell_type": "markdown",
      "source": [
        "#### **Validating range**\n"
      ],
      "metadata": {
        "id": "e6skf58PjouX"
      }
    },
    {
      "cell_type": "code",
      "source": [
        "# Print the minimum and maximum unemployment rates during 2021\n",
        "print(unemployment[\"2021\"].min(), unemployment[\"2021\"].max())\n",
        "\n",
        "# Create a boxplot of 2021 unemployment rates, broken down by continent\n",
        "sns.boxplot(data=unemployment, x=\"2021\", y=\"continent\")\n",
        "plt.xlabel('Continent')\n",
        "plt.ylabel('Unemployment Rate')\n",
        "plt.title('2021 Unemployment Rates by Continent')\n",
        "plt.show()"
      ],
      "metadata": {
        "id": "LNEreWvsj42o",
        "colab": {
          "base_uri": "https://localhost:8080/",
          "height": 489
        },
        "outputId": "152d9d87-ea40-4b3f-fdc0-a5b2147dc9bc"
      },
      "execution_count": 10,
      "outputs": [
        {
          "output_type": "stream",
          "name": "stdout",
          "text": [
            "0.26 33.56\n"
          ]
        },
        {
          "output_type": "display_data",
          "data": {
            "text/plain": [
              "<Figure size 640x480 with 1 Axes>"
            ],
            "image/png": "[encoded data removed]"
          },
          "metadata": {}
        }
      ]
    },
    {
      "cell_type": "markdown",
      "source": [
        "### **Data summarization**\n"
      ],
      "metadata": {
        "id": "DLCxOtX1jqIv"
      }
    },
    {
      "cell_type": "markdown",
      "source": [
        "#### **Summaries with `.groupby()` and `.agg()`**\n"
      ],
      "metadata": {
        "id": "JIqIQ7vNjr2H"
      }
    },
    {
      "cell_type": "code",
      "source": [
        "# Print the mean and standard deviation of rates by year\n",
        "display(unemployment.agg([\"mean\", \"std\"]))"
      ],
      "metadata": {
        "id": "wR2YwLrej5q5",
        "colab": {
          "base_uri": "https://localhost:8080/",
          "height": 167
        },
        "outputId": "eb7a99c7-fcf9-40e4-c806-d656cea9e7fb"
      },
      "execution_count": 11,
      "outputs": [
        {
          "output_type": "stream",
          "name": "stderr",
          "text": [
            "<ipython-input-11-b503640c847c>:2: FutureWarning: ['country_code', 'country_name', 'continent'] did not aggregate successfully. If any error is raised this will raise in a future version of pandas. Drop these columns/ops to avoid this warning.\n",
            "  display(unemployment.agg([\"mean\", \"std\"]))\n"
          ]
        },
        {
          "output_type": "display_data",
          "data": {
            "text/plain": [
              "          2010      2011      2012      2013      2014      2015      2016  \\\n",
              "mean  8.409286  8.315440  8.317967  8.344780  8.179670  8.058901  7.925879   \n",
              "std   6.248887  6.266795  6.367270  6.416041  6.284241  6.161170  6.045439   \n",
              "\n",
              "          2017      2018      2019      2020      2021  \n",
              "mean  7.668626  7.426429  6.758242  8.420934  8.390879  \n",
              "std   5.902152  5.818915  5.677990  6.040915  6.067192  "
            ],
            "text/html": [
              "\n",
              "  <div id=\"df-ca0ef40e-0d42-4243-a06c-101392f15b29\">\n",
              "    <div class=\"colab-df-container\">\n",
              "      <div>\n",
              "<style scoped>\n",
              "    .dataframe tbody tr th:only-of-type {\n",
              "        vertical-align: middle;\n",
              "    }\n",
              "\n",
              "    .dataframe tbody tr th {\n",
              "        vertical-align: top;\n",
              "    }\n",
              "\n",
              "    .dataframe thead th {\n",
              "        text-align: right;\n",
              "    }\n",
              "</style>\n",
              "<table border=\"1\" class=\"dataframe\">\n",
              "  <thead>\n",
              "    <tr style=\"text-align: right;\">\n",
              "      <th></th>\n",
              "      <th>2010</th>\n",
              "      <th>2011</th>\n",
              "      <th>2012</th>\n",
              "      <th>2013</th>\n",
              "      <th>2014</th>\n",
              "      <th>2015</th>\n",
              "      <th>2016</th>\n",
              "      <th>2017</th>\n",
              "      <th>2018</th>\n",
              "      <th>2019</th>\n",
              "      <th>2020</th>\n",
              "      <th>2021</th>\n",
              "    </tr>\n",
              "  </thead>\n",
              "  <tbody>\n",
              "    <tr>\n",
              "      <th>mean</th>\n",
              "      <td>8.409286</td>\n",
              "      <td>8.315440</td>\n",
              "      <td>8.317967</td>\n",
              "      <td>8.344780</td>\n",
              "      <td>8.179670</td>\n",
              "      <td>8.058901</td>\n",
              "      <td>7.925879</td>\n",
              "      <td>7.668626</td>\n",
              "      <td>7.426429</td>\n",
              "      <td>6.758242</td>\n",
              "      <td>8.420934</td>\n",
              "      <td>8.390879</td>\n",
              "    </tr>\n",
              "    <tr>\n",
              "      <th>std</th>\n",
              "      <td>6.248887</td>\n",
              "      <td>6.266795</td>\n",
              "      <td>6.367270</td>\n",
              "      <td>6.416041</td>\n",
              "      <td>6.284241</td>\n",
              "      <td>6.161170</td>\n",
              "      <td>6.045439</td>\n",
              "      <td>5.902152</td>\n",
              "      <td>5.818915</td>\n",
              "      <td>5.677990</td>\n",
              "      <td>6.040915</td>\n",
              "      <td>6.067192</td>\n",
              "    </tr>\n",
              "  </tbody>\n",
              "</table>\n",
              "</div>\n",
              "      <button class=\"colab-df-convert\" onclick=\"convertToInteractive('df-ca0ef40e-0d42-4243-a06c-101392f15b29')\"\n",
              "              title=\"Convert this dataframe to an interactive table.\"\n",
              "              style=\"display:none;\">\n",
              "        \n",
              "  <svg xmlns=\"http://www.w3.org/2000/svg\" height=\"24px\"viewBox=\"0 0 24 24\"\n",
              "       width=\"24px\">\n",
              "    <path d=\"M0 0h24v24H0V0z\" fill=\"none\"/>\n",
              "    <path d=\"M18.56 5.44l.94 2.06.94-2.06 2.06-.94-2.06-.94-.94-2.06-.94 2.06-2.06.94zm-11 1L8.5 8.5l.94-2.06 2.06-.94-2.06-.94L8.5 2.5l-.94 2.06-2.06.94zm10 10l.94 2.06.94-2.06 2.06-.94-2.06-.94-.94-2.06-.94 2.06-2.06.94z\"/><path d=\"M17.41 7.96l-1.37-1.37c-.4-.4-.92-.59-1.43-.59-.52 0-1.04.2-1.43.59L10.3 9.45l-7.72 7.72c-.78.78-.78 2.05 0 2.83L4 21.41c.39.39.9.59 1.41.59.51 0 1.02-.2 1.41-.59l7.78-7.78 2.81-2.81c.8-.78.8-2.07 0-2.86zM5.41 20L4 18.59l7.72-7.72 1.47 1.35L5.41 20z\"/>\n",
              "  </svg>\n",
              "      </button>\n",
              "      \n",
              "  <style>\n",
              "    .colab-df-container {\n",
              "      display:flex;\n",
              "      flex-wrap:wrap;\n",
              "      gap: 12px;\n",
              "    }\n",
              "\n",
              "    .colab-df-convert {\n",
              "      background-color: #E8F0FE;\n",
              "      border: none;\n",
              "      border-radius: 50%;\n",
              "      cursor: pointer;\n",
              "      display: none;\n",
              "      fill: #1967D2;\n",
              "      height: 32px;\n",
              "      padding: 0 0 0 0;\n",
              "      width: 32px;\n",
              "    }\n",
              "\n",
              "    .colab-df-convert:hover {\n",
              "      background-color: #E2EBFA;\n",
              "      box-shadow: 0px 1px 2px rgba(60, 64, 67, 0.3), 0px 1px 3px 1px rgba(60, 64, 67, 0.15);\n",
              "      fill: #174EA6;\n",
              "    }\n",
              "\n",
              "    [theme=dark] .colab-df-convert {\n",
              "      background-color: #3B4455;\n",
              "      fill: #D2E3FC;\n",
              "    }\n",
              "\n",
              "    [theme=dark] .colab-df-convert:hover {\n",
              "      background-color: #434B5C;\n",
              "      box-shadow: 0px 1px 3px 1px rgba(0, 0, 0, 0.15);\n",
              "      filter: drop-shadow(0px 1px 2px rgba(0, 0, 0, 0.3));\n",
              "      fill: #FFFFFF;\n",
              "    }\n",
              "  </style>\n",
              "\n",
              "      <script>\n",
              "        const buttonEl =\n",
              "          document.querySelector('#df-ca0ef40e-0d42-4243-a06c-101392f15b29 button.colab-df-convert');\n",
              "        buttonEl.style.display =\n",
              "          google.colab.kernel.accessAllowed ? 'block' : 'none';\n",
              "\n",
              "        async function convertToInteractive(key) {\n",
              "          const element = document.querySelector('#df-ca0ef40e-0d42-4243-a06c-101392f15b29');\n",
              "          const dataTable =\n",
              "            await google.colab.kernel.invokeFunction('convertToInteractive',\n",
              "                                                     [key], {});\n",
              "          if (!dataTable) return;\n",
              "\n",
              "          const docLinkHtml = 'Like what you see? Visit the ' +\n",
              "            '<a target=\"_blank\" href=https://colab.research.google.com/notebooks/data_table.ipynb>data table notebook</a>'\n",
              "            + ' to learn more about interactive tables.';\n",
              "          element.innerHTML = '';\n",
              "          dataTable['output_type'] = 'display_data';\n",
              "          await google.colab.output.renderOutput(dataTable, element);\n",
              "          const docLink = document.createElement('div');\n",
              "          docLink.innerHTML = docLinkHtml;\n",
              "          element.appendChild(docLink);\n",
              "        }\n",
              "      </script>\n",
              "    </div>\n",
              "  </div>\n",
              "  "
            ]
          },
          "metadata": {}
        }
      ]
    },
    {
      "cell_type": "code",
      "source": [
        "# Print yearly mean and standard deviation grouped by continent\n",
        "display(unemployment.groupby(\"continent\").agg([\"mean\", \"std\"]))"
      ],
      "metadata": {
        "colab": {
          "base_uri": "https://localhost:8080/",
          "height": 463
        },
        "id": "kDBtvUiWjRFi",
        "outputId": "b1bbd657-60d0-4ad7-8bb1-13b2b7904f4a"
      },
      "execution_count": 12,
      "outputs": [
        {
          "output_type": "stream",
          "name": "stderr",
          "text": [
            "<ipython-input-12-e6ceb728a8cf>:2: FutureWarning: ['country_code', 'country_name'] did not aggregate successfully. If any error is raised this will raise in a future version of pandas. Drop these columns/ops to avoid this warning.\n",
            "  display(unemployment.groupby(\"continent\").agg([\"mean\", \"std\"]))\n"
          ]
        },
        {
          "output_type": "display_data",
          "data": {
            "text/plain": [
              "                    2010                 2011                 2012            \\\n",
              "                    mean       std       mean       std       mean       std   \n",
              "continent                                                                      \n",
              "Africa          9.343585  7.411259   9.369245  7.401556   9.240755  7.264542   \n",
              "Asia            6.240638  5.146175   5.942128  4.779575   5.835319  4.756904   \n",
              "Europe         11.008205  6.392063  10.947949  6.539538  11.325641  7.003527   \n",
              "North America   8.663333  5.115805   8.563333  5.377041   8.448889  5.495819   \n",
              "Oceania         3.622500  2.054721   3.647500  2.008466   4.103750  2.723118   \n",
              "South America   6.870833  2.807058   6.518333  2.801577   6.410833  2.936508   \n",
              "\n",
              "                    2013                 2014            ...      2017  \\\n",
              "                    mean       std       mean       std  ...      mean   \n",
              "continent                                                ...             \n",
              "Africa          9.132453  7.309285   9.121321  7.291359  ...  9.284528   \n",
              "Asia            5.852128  4.668405   5.853191  4.681301  ...  6.171277   \n",
              "Europe         11.466667  6.969209  10.971282  6.759765  ...  8.359744   \n",
              "North America   8.840556  6.081829   8.512222  5.801927  ...  7.391111   \n",
              "Oceania         3.980000  2.640119   3.976250  2.659205  ...  3.872500   \n",
              "South America   6.335000  2.808780   6.347500  2.834332  ...  7.281667   \n",
              "\n",
              "                             2018                2019                 2020  \\\n",
              "                    std      mean       std      mean       std       mean   \n",
              "continent                                                                    \n",
              "Africa         7.407620  9.237925  7.358425  8.773585  7.417862  10.307736   \n",
              "Asia           5.277201  6.090213  5.409128  5.468085  5.233052   7.012340   \n",
              "Europe         5.177845  7.427436  4.738206  6.333333  4.157006   7.470513   \n",
              "North America  5.326446  7.281111  5.253180  6.611111  4.803661   9.297778   \n",
              "Oceania        2.492834  3.851250  2.455893  3.375000  2.503569   4.273750   \n",
              "South America  3.398994  7.496667  3.408856  7.083333  3.232177  10.275000   \n",
              "\n",
              "                              2021            \n",
              "                    std       mean       std  \n",
              "continent                                     \n",
              "Africa         7.928166  10.473585  8.131636  \n",
              "Asia           5.699609   6.906170  5.414745  \n",
              "Europe         4.071218   7.414872  3.947825  \n",
              "North America  4.963045   9.155000  5.076482  \n",
              "Oceania        2.617490   4.280000  2.671522  \n",
              "South America  3.411263   9.924167  3.611624  \n",
              "\n",
              "[6 rows x 24 columns]"
            ],
            "text/html": [
              "\n",
              "  <div id=\"df-89a81ff9-dfb4-47cc-aa6c-c726bcf80dca\">\n",
              "    <div class=\"colab-df-container\">\n",
              "      <div>\n",
              "<style scoped>\n",
              "    .dataframe tbody tr th:only-of-type {\n",
              "        vertical-align: middle;\n",
              "    }\n",
              "\n",
              "    .dataframe tbody tr th {\n",
              "        vertical-align: top;\n",
              "    }\n",
              "\n",
              "    .dataframe thead tr th {\n",
              "        text-align: left;\n",
              "    }\n",
              "\n",
              "    .dataframe thead tr:last-of-type th {\n",
              "        text-align: right;\n",
              "    }\n",
              "</style>\n",
              "<table border=\"1\" class=\"dataframe\">\n",
              "  <thead>\n",
              "    <tr>\n",
              "      <th></th>\n",
              "      <th colspan=\"2\" halign=\"left\">2010</th>\n",
              "      <th colspan=\"2\" halign=\"left\">2011</th>\n",
              "      <th colspan=\"2\" halign=\"left\">2012</th>\n",
              "      <th colspan=\"2\" halign=\"left\">2013</th>\n",
              "      <th colspan=\"2\" halign=\"left\">2014</th>\n",
              "      <th>...</th>\n",
              "      <th colspan=\"2\" halign=\"left\">2017</th>\n",
              "      <th colspan=\"2\" halign=\"left\">2018</th>\n",
              "      <th colspan=\"2\" halign=\"left\">2019</th>\n",
              "      <th colspan=\"2\" halign=\"left\">2020</th>\n",
              "      <th colspan=\"2\" halign=\"left\">2021</th>\n",
              "    </tr>\n",
              "    <tr>\n",
              "      <th></th>\n",
              "      <th>mean</th>\n",
              "      <th>std</th>\n",
              "      <th>mean</th>\n",
              "      <th>std</th>\n",
              "      <th>mean</th>\n",
              "      <th>std</th>\n",
              "      <th>mean</th>\n",
              "      <th>std</th>\n",
              "      <th>mean</th>\n",
              "      <th>std</th>\n",
              "      <th>...</th>\n",
              "      <th>mean</th>\n",
              "      <th>std</th>\n",
              "      <th>mean</th>\n",
              "      <th>std</th>\n",
              "      <th>mean</th>\n",
              "      <th>std</th>\n",
              "      <th>mean</th>\n",
              "      <th>std</th>\n",
              "      <th>mean</th>\n",
              "      <th>std</th>\n",
              "    </tr>\n",
              "    <tr>\n",
              "      <th>continent</th>\n",
              "      <th></th>\n",
              "      <th></th>\n",
              "      <th></th>\n",
              "      <th></th>\n",
              "      <th></th>\n",
              "      <th></th>\n",
              "      <th></th>\n",
              "      <th></th>\n",
              "      <th></th>\n",
              "      <th></th>\n",
              "      <th></th>\n",
              "      <th></th>\n",
              "      <th></th>\n",
              "      <th></th>\n",
              "      <th></th>\n",
              "      <th></th>\n",
              "      <th></th>\n",
              "      <th></th>\n",
              "      <th></th>\n",
              "      <th></th>\n",
              "      <th></th>\n",
              "    </tr>\n",
              "  </thead>\n",
              "  <tbody>\n",
              "    <tr>\n",
              "      <th>Africa</th>\n",
              "      <td>9.343585</td>\n",
              "      <td>7.411259</td>\n",
              "      <td>9.369245</td>\n",
              "      <td>7.401556</td>\n",
              "      <td>9.240755</td>\n",
              "      <td>7.264542</td>\n",
              "      <td>9.132453</td>\n",
              "      <td>7.309285</td>\n",
              "      <td>9.121321</td>\n",
              "      <td>7.291359</td>\n",
              "      <td>...</td>\n",
              "      <td>9.284528</td>\n",
              "      <td>7.407620</td>\n",
              "      <td>9.237925</td>\n",
              "      <td>7.358425</td>\n",
              "      <td>8.773585</td>\n",
              "      <td>7.417862</td>\n",
              "      <td>10.307736</td>\n",
              "      <td>7.928166</td>\n",
              "      <td>10.473585</td>\n",
              "      <td>8.131636</td>\n",
              "    </tr>\n",
              "    <tr>\n",
              "      <th>Asia</th>\n",
              "      <td>6.240638</td>\n",
              "      <td>5.146175</td>\n",
              "      <td>5.942128</td>\n",
              "      <td>4.779575</td>\n",
              "      <td>5.835319</td>\n",
              "      <td>4.756904</td>\n",
              "      <td>5.852128</td>\n",
              "      <td>4.668405</td>\n",
              "      <td>5.853191</td>\n",
              "      <td>4.681301</td>\n",
              "      <td>...</td>\n",
              "      <td>6.171277</td>\n",
              "      <td>5.277201</td>\n",
              "      <td>6.090213</td>\n",
              "      <td>5.409128</td>\n",
              "      <td>5.468085</td>\n",
              "      <td>5.233052</td>\n",
              "      <td>7.012340</td>\n",
              "      <td>5.699609</td>\n",
              "      <td>6.906170</td>\n",
              "      <td>5.414745</td>\n",
              "    </tr>\n",
              "    <tr>\n",
              "      <th>Europe</th>\n",
              "      <td>11.008205</td>\n",
              "      <td>6.392063</td>\n",
              "      <td>10.947949</td>\n",
              "      <td>6.539538</td>\n",
              "      <td>11.325641</td>\n",
              "      <td>7.003527</td>\n",
              "      <td>11.466667</td>\n",
              "      <td>6.969209</td>\n",
              "      <td>10.971282</td>\n",
              "      <td>6.759765</td>\n",
              "      <td>...</td>\n",
              "      <td>8.359744</td>\n",
              "      <td>5.177845</td>\n",
              "      <td>7.427436</td>\n",
              "      <td>4.738206</td>\n",
              "      <td>6.333333</td>\n",
              "      <td>4.157006</td>\n",
              "      <td>7.470513</td>\n",
              "      <td>4.071218</td>\n",
              "      <td>7.414872</td>\n",
              "      <td>3.947825</td>\n",
              "    </tr>\n",
              "    <tr>\n",
              "      <th>North America</th>\n",
              "      <td>8.663333</td>\n",
              "      <td>5.115805</td>\n",
              "      <td>8.563333</td>\n",
              "      <td>5.377041</td>\n",
              "      <td>8.448889</td>\n",
              "      <td>5.495819</td>\n",
              "      <td>8.840556</td>\n",
              "      <td>6.081829</td>\n",
              "      <td>8.512222</td>\n",
              "      <td>5.801927</td>\n",
              "      <td>...</td>\n",
              "      <td>7.391111</td>\n",
              "      <td>5.326446</td>\n",
              "      <td>7.281111</td>\n",
              "      <td>5.253180</td>\n",
              "      <td>6.611111</td>\n",
              "      <td>4.803661</td>\n",
              "      <td>9.297778</td>\n",
              "      <td>4.963045</td>\n",
              "      <td>9.155000</td>\n",
              "      <td>5.076482</td>\n",
              "    </tr>\n",
              "    <tr>\n",
              "      <th>Oceania</th>\n",
              "      <td>3.622500</td>\n",
              "      <td>2.054721</td>\n",
              "      <td>3.647500</td>\n",
              "      <td>2.008466</td>\n",
              "      <td>4.103750</td>\n",
              "      <td>2.723118</td>\n",
              "      <td>3.980000</td>\n",
              "      <td>2.640119</td>\n",
              "      <td>3.976250</td>\n",
              "      <td>2.659205</td>\n",
              "      <td>...</td>\n",
              "      <td>3.872500</td>\n",
              "      <td>2.492834</td>\n",
              "      <td>3.851250</td>\n",
              "      <td>2.455893</td>\n",
              "      <td>3.375000</td>\n",
              "      <td>2.503569</td>\n",
              "      <td>4.273750</td>\n",
              "      <td>2.617490</td>\n",
              "      <td>4.280000</td>\n",
              "      <td>2.671522</td>\n",
              "    </tr>\n",
              "    <tr>\n",
              "      <th>South America</th>\n",
              "      <td>6.870833</td>\n",
              "      <td>2.807058</td>\n",
              "      <td>6.518333</td>\n",
              "      <td>2.801577</td>\n",
              "      <td>6.410833</td>\n",
              "      <td>2.936508</td>\n",
              "      <td>6.335000</td>\n",
              "      <td>2.808780</td>\n",
              "      <td>6.347500</td>\n",
              "      <td>2.834332</td>\n",
              "      <td>...</td>\n",
              "      <td>7.281667</td>\n",
              "      <td>3.398994</td>\n",
              "      <td>7.496667</td>\n",
              "      <td>3.408856</td>\n",
              "      <td>7.083333</td>\n",
              "      <td>3.232177</td>\n",
              "      <td>10.275000</td>\n",
              "      <td>3.411263</td>\n",
              "      <td>9.924167</td>\n",
              "      <td>3.611624</td>\n",
              "    </tr>\n",
              "  </tbody>\n",
              "</table>\n",
              "<p>6 rows × 24 columns</p>\n",
              "</div>\n",
              "      <button class=\"colab-df-convert\" onclick=\"convertToInteractive('df-89a81ff9-dfb4-47cc-aa6c-c726bcf80dca')\"\n",
              "              title=\"Convert this dataframe to an interactive table.\"\n",
              "              style=\"display:none;\">\n",
              "        \n",
              "  <svg xmlns=\"http://www.w3.org/2000/svg\" height=\"24px\"viewBox=\"0 0 24 24\"\n",
              "       width=\"24px\">\n",
              "    <path d=\"M0 0h24v24H0V0z\" fill=\"none\"/>\n",
              "    <path d=\"M18.56 5.44l.94 2.06.94-2.06 2.06-.94-2.06-.94-.94-2.06-.94 2.06-2.06.94zm-11 1L8.5 8.5l.94-2.06 2.06-.94-2.06-.94L8.5 2.5l-.94 2.06-2.06.94zm10 10l.94 2.06.94-2.06 2.06-.94-2.06-.94-.94-2.06-.94 2.06-2.06.94z\"/><path d=\"M17.41 7.96l-1.37-1.37c-.4-.4-.92-.59-1.43-.59-.52 0-1.04.2-1.43.59L10.3 9.45l-7.72 7.72c-.78.78-.78 2.05 0 2.83L4 21.41c.39.39.9.59 1.41.59.51 0 1.02-.2 1.41-.59l7.78-7.78 2.81-2.81c.8-.78.8-2.07 0-2.86zM5.41 20L4 18.59l7.72-7.72 1.47 1.35L5.41 20z\"/>\n",
              "  </svg>\n",
              "      </button>\n",
              "      \n",
              "  <style>\n",
              "    .colab-df-container {\n",
              "      display:flex;\n",
              "      flex-wrap:wrap;\n",
              "      gap: 12px;\n",
              "    }\n",
              "\n",
              "    .colab-df-convert {\n",
              "      background-color: #E8F0FE;\n",
              "      border: none;\n",
              "      border-radius: 50%;\n",
              "      cursor: pointer;\n",
              "      display: none;\n",
              "      fill: #1967D2;\n",
              "      height: 32px;\n",
              "      padding: 0 0 0 0;\n",
              "      width: 32px;\n",
              "    }\n",
              "\n",
              "    .colab-df-convert:hover {\n",
              "      background-color: #E2EBFA;\n",
              "      box-shadow: 0px 1px 2px rgba(60, 64, 67, 0.3), 0px 1px 3px 1px rgba(60, 64, 67, 0.15);\n",
              "      fill: #174EA6;\n",
              "    }\n",
              "\n",
              "    [theme=dark] .colab-df-convert {\n",
              "      background-color: #3B4455;\n",
              "      fill: #D2E3FC;\n",
              "    }\n",
              "\n",
              "    [theme=dark] .colab-df-convert:hover {\n",
              "      background-color: #434B5C;\n",
              "      box-shadow: 0px 1px 3px 1px rgba(0, 0, 0, 0.15);\n",
              "      filter: drop-shadow(0px 1px 2px rgba(0, 0, 0, 0.3));\n",
              "      fill: #FFFFFF;\n",
              "    }\n",
              "  </style>\n",
              "\n",
              "      <script>\n",
              "        const buttonEl =\n",
              "          document.querySelector('#df-89a81ff9-dfb4-47cc-aa6c-c726bcf80dca button.colab-df-convert');\n",
              "        buttonEl.style.display =\n",
              "          google.colab.kernel.accessAllowed ? 'block' : 'none';\n",
              "\n",
              "        async function convertToInteractive(key) {\n",
              "          const element = document.querySelector('#df-89a81ff9-dfb4-47cc-aa6c-c726bcf80dca');\n",
              "          const dataTable =\n",
              "            await google.colab.kernel.invokeFunction('convertToInteractive',\n",
              "                                                     [key], {});\n",
              "          if (!dataTable) return;\n",
              "\n",
              "          const docLinkHtml = 'Like what you see? Visit the ' +\n",
              "            '<a target=\"_blank\" href=https://colab.research.google.com/notebooks/data_table.ipynb>data table notebook</a>'\n",
              "            + ' to learn more about interactive tables.';\n",
              "          element.innerHTML = '';\n",
              "          dataTable['output_type'] = 'display_data';\n",
              "          await google.colab.output.renderOutput(dataTable, element);\n",
              "          const docLink = document.createElement('div');\n",
              "          docLink.innerHTML = docLinkHtml;\n",
              "          element.appendChild(docLink);\n",
              "        }\n",
              "      </script>\n",
              "    </div>\n",
              "  </div>\n",
              "  "
            ]
          },
          "metadata": {}
        }
      ]
    },
    {
      "cell_type": "markdown",
      "source": [
        "#### **Named aggregations**\n"
      ],
      "metadata": {
        "id": "GQQW4wLKjtWp"
      }
    },
    {
      "cell_type": "code",
      "source": [
        "continent_summary = unemployment.groupby(\"continent\").agg(\n",
        "    # Create the mean_rate_2021 column\n",
        "    mean_rate_2021 = (\"2021\", \"mean\"),\n",
        "    # Create the std_rate_2021 column\n",
        "    std_rate_2021 = (\"2021\", \"std\"),\n",
        ")\n",
        "\n",
        "print(continent_summary)"
      ],
      "metadata": {
        "id": "W9cOBLQgj5_w",
        "colab": {
          "base_uri": "https://localhost:8080/"
        },
        "outputId": "a5397f27-096c-429a-eaaa-2cb648cf4a1c"
      },
      "execution_count": 13,
      "outputs": [
        {
          "output_type": "stream",
          "name": "stdout",
          "text": [
            "               mean_rate_2021  std_rate_2021\n",
            "continent                                   \n",
            "Africa              10.473585       8.131636\n",
            "Asia                 6.906170       5.414745\n",
            "Europe               7.414872       3.947825\n",
            "North America        9.155000       5.076482\n",
            "Oceania              4.280000       2.671522\n",
            "South America        9.924167       3.611624\n"
          ]
        }
      ]
    },
    {
      "cell_type": "markdown",
      "source": [
        "#### **Visualizing categorical summaries**"
      ],
      "metadata": {
        "id": "DCBKAJpMjuuf"
      }
    },
    {
      "cell_type": "code",
      "execution_count": 14,
      "metadata": {
        "id": "9b6ty9Glfrho",
        "colab": {
          "base_uri": "https://localhost:8080/",
          "height": 472
        },
        "outputId": "04f16fbb-aa04-4465-bab9-77f7e4f3d932"
      },
      "outputs": [
        {
          "output_type": "display_data",
          "data": {
            "text/plain": [
              "<Figure size 640x480 with 1 Axes>"
            ],
            "image/png": "[encoded data removed]"
          },
          "metadata": {}
        }
      ],
      "source": [
        "# Create a bar plot of continents and their average unemployment\n",
        "sns.barplot(data=unemployment, x='continent', y='2021', errorbar=('ci', 95))\n",
        "plt.xlabel('Continent')\n",
        "plt.ylabel('Average Unemployment Rate')\n",
        "plt.title('Average 2021 Unemployment Rates by Continent')\n",
        "plt.show()"
      ]
    },
    {
      "cell_type": "markdown",
      "source": [
        "While Europe has higher average unemployment than Asia, it also has a smaller confidence interval for that average, so the average value is more reliable."
      ],
      "metadata": {
        "id": "SJUjXgPukNxc"
      }
    },
    {
      "cell_type": "markdown",
      "source": [
        "## **2️⃣Data Cleaning and Imputation**"
      ],
      "metadata": {
        "id": "i1BhzWIIgG5H"
      }
    },
    {
      "cell_type": "markdown",
      "source": [
        "### **Addressing missing data**\n"
      ],
      "metadata": {
        "id": "CL69E6zjj-g4"
      }
    },
    {
      "cell_type": "markdown",
      "source": [
        "#### **Dealing with missing data**\n"
      ],
      "metadata": {
        "id": "hpIG3ZoekYTZ"
      }
    },
    {
      "cell_type": "code",
      "source": [
        "url_plane = \"https://raw.githubusercontent.com/mohd-faizy/CAREER-TRACK-Data-Scientist-with-Python/main/11_Exploratory%20Data%20Analysis%20in%20Python/_dataset/planes.csv\"\n",
        "planes = pd.read_csv(url_plane)\n",
        "\n",
        "planes.head()"
      ],
      "metadata": {
        "colab": {
          "base_uri": "https://localhost:8080/",
          "height": 206
        },
        "id": "1zwlWHJVmKsD",
        "outputId": "c422bf60-158c-438d-b9fc-82fd780e1cf3"
      },
      "execution_count": 15,
      "outputs": [
        {
          "output_type": "execute_result",
          "data": {
            "text/plain": [
              "       Airline Date_of_Journey    Source Destination                  Route  \\\n",
              "0       IndiGo      24/03/2019  Banglore   New Delhi              BLR → DEL   \n",
              "1    Air India       1/05/2019   Kolkata    Banglore  CCU → IXR → BBI → BLR   \n",
              "2  Jet Airways       9/06/2019     Delhi      Cochin  DEL → LKO → BOM → COK   \n",
              "3       IndiGo      12/05/2019   Kolkata    Banglore        CCU → NAG → BLR   \n",
              "4       IndiGo      01/03/2019  Banglore   New Delhi        BLR → NAG → DEL   \n",
              "\n",
              "  Dep_Time  Arrival_Time Duration Total_Stops Additional_Info  Price  \n",
              "0    22:20  01:10 22 Mar   2h 50m    non-stop         No info   3897  \n",
              "1    05:50         13:15   7h 25m     2 stops         No info   7662  \n",
              "2    09:25  04:25 10 Jun      19h     2 stops         No info  13882  \n",
              "3    18:05         23:30   5h 25m      1 stop         No info   6218  \n",
              "4    16:50         21:35   4h 45m      1 stop         No info  13302  "
            ],
            "text/html": [
              "\n",
              "  <div id=\"df-6471d3fd-f5da-4770-962e-59cbbccb5827\">\n",
              "    <div class=\"colab-df-container\">\n",
              "      <div>\n",
              "<style scoped>\n",
              "    .dataframe tbody tr th:only-of-type {\n",
              "        vertical-align: middle;\n",
              "    }\n",
              "\n",
              "    .dataframe tbody tr th {\n",
              "        vertical-align: top;\n",
              "    }\n",
              "\n",
              "    .dataframe thead th {\n",
              "        text-align: right;\n",
              "    }\n",
              "</style>\n",
              "<table border=\"1\" class=\"dataframe\">\n",
              "  <thead>\n",
              "    <tr style=\"text-align: right;\">\n",
              "      <th></th>\n",
              "      <th>Airline</th>\n",
              "      <th>Date_of_Journey</th>\n",
              "      <th>Source</th>\n",
              "      <th>Destination</th>\n",
              "      <th>Route</th>\n",
              "      <th>Dep_Time</th>\n",
              "      <th>Arrival_Time</th>\n",
              "      <th>Duration</th>\n",
              "      <th>Total_Stops</th>\n",
              "      <th>Additional_Info</th>\n",
              "      <th>Price</th>\n",
              "    </tr>\n",
              "  </thead>\n",
              "  <tbody>\n",
              "    <tr>\n",
              "      <th>0</th>\n",
              "      <td>IndiGo</td>\n",
              "      <td>24/03/2019</td>\n",
              "      <td>Banglore</td>\n",
              "      <td>New Delhi</td>\n",
              "      <td>BLR → DEL</td>\n",
              "      <td>22:20</td>\n",
              "      <td>01:10 22 Mar</td>\n",
              "      <td>2h 50m</td>\n",
              "      <td>non-stop</td>\n",
              "      <td>No info</td>\n",
              "      <td>3897</td>\n",
              "    </tr>\n",
              "    <tr>\n",
              "      <th>1</th>\n",
              "      <td>Air India</td>\n",
              "      <td>1/05/2019</td>\n",
              "      <td>Kolkata</td>\n",
              "      <td>Banglore</td>\n",
              "      <td>CCU → IXR → BBI → BLR</td>\n",
              "      <td>05:50</td>\n",
              "      <td>13:15</td>\n",
              "      <td>7h 25m</td>\n",
              "      <td>2 stops</td>\n",
              "      <td>No info</td>\n",
              "      <td>7662</td>\n",
              "    </tr>\n",
              "    <tr>\n",
              "      <th>2</th>\n",
              "      <td>Jet Airways</td>\n",
              "      <td>9/06/2019</td>\n",
              "      <td>Delhi</td>\n",
              "      <td>Cochin</td>\n",
              "      <td>DEL → LKO → BOM → COK</td>\n",
              "      <td>09:25</td>\n",
              "      <td>04:25 10 Jun</td>\n",
              "      <td>19h</td>\n",
              "      <td>2 stops</td>\n",
              "      <td>No info</td>\n",
              "      <td>13882</td>\n",
              "    </tr>\n",
              "    <tr>\n",
              "      <th>3</th>\n",
              "      <td>IndiGo</td>\n",
              "      <td>12/05/2019</td>\n",
              "      <td>Kolkata</td>\n",
              "      <td>Banglore</td>\n",
              "      <td>CCU → NAG → BLR</td>\n",
              "      <td>18:05</td>\n",
              "      <td>23:30</td>\n",
              "      <td>5h 25m</td>\n",
              "      <td>1 stop</td>\n",
              "      <td>No info</td>\n",
              "      <td>6218</td>\n",
              "    </tr>\n",
              "    <tr>\n",
              "      <th>4</th>\n",
              "      <td>IndiGo</td>\n",
              "      <td>01/03/2019</td>\n",
              "      <td>Banglore</td>\n",
              "      <td>New Delhi</td>\n",
              "      <td>BLR → NAG → DEL</td>\n",
              "      <td>16:50</td>\n",
              "      <td>21:35</td>\n",
              "      <td>4h 45m</td>\n",
              "      <td>1 stop</td>\n",
              "      <td>No info</td>\n",
              "      <td>13302</td>\n",
              "    </tr>\n",
              "  </tbody>\n",
              "</table>\n",
              "</div>\n",
              "      <button class=\"colab-df-convert\" onclick=\"convertToInteractive('df-6471d3fd-f5da-4770-962e-59cbbccb5827')\"\n",
              "              title=\"Convert this dataframe to an interactive table.\"\n",
              "              style=\"display:none;\">\n",
              "        \n",
              "  <svg xmlns=\"http://www.w3.org/2000/svg\" height=\"24px\"viewBox=\"0 0 24 24\"\n",
              "       width=\"24px\">\n",
              "    <path d=\"M0 0h24v24H0V0z\" fill=\"none\"/>\n",
              "    <path d=\"M18.56 5.44l.94 2.06.94-2.06 2.06-.94-2.06-.94-.94-2.06-.94 2.06-2.06.94zm-11 1L8.5 8.5l.94-2.06 2.06-.94-2.06-.94L8.5 2.5l-.94 2.06-2.06.94zm10 10l.94 2.06.94-2.06 2.06-.94-2.06-.94-.94-2.06-.94 2.06-2.06.94z\"/><path d=\"M17.41 7.96l-1.37-1.37c-.4-.4-.92-.59-1.43-.59-.52 0-1.04.2-1.43.59L10.3 9.45l-7.72 7.72c-.78.78-.78 2.05 0 2.83L4 21.41c.39.39.9.59 1.41.59.51 0 1.02-.2 1.41-.59l7.78-7.78 2.81-2.81c.8-.78.8-2.07 0-2.86zM5.41 20L4 18.59l7.72-7.72 1.47 1.35L5.41 20z\"/>\n",
              "  </svg>\n",
              "      </button>\n",
              "      \n",
              "  <style>\n",
              "    .colab-df-container {\n",
              "      display:flex;\n",
              "      flex-wrap:wrap;\n",
              "      gap: 12px;\n",
              "    }\n",
              "\n",
              "    .colab-df-convert {\n",
              "      background-color: #E8F0FE;\n",
              "      border: none;\n",
              "      border-radius: 50%;\n",
              "      cursor: pointer;\n",
              "      display: none;\n",
              "      fill: #1967D2;\n",
              "      height: 32px;\n",
              "      padding: 0 0 0 0;\n",
              "      width: 32px;\n",
              "    }\n",
              "\n",
              "    .colab-df-convert:hover {\n",
              "      background-color: #E2EBFA;\n",
              "      box-shadow: 0px 1px 2px rgba(60, 64, 67, 0.3), 0px 1px 3px 1px rgba(60, 64, 67, 0.15);\n",
              "      fill: #174EA6;\n",
              "    }\n",
              "\n",
              "    [theme=dark] .colab-df-convert {\n",
              "      background-color: #3B4455;\n",
              "      fill: #D2E3FC;\n",
              "    }\n",
              "\n",
              "    [theme=dark] .colab-df-convert:hover {\n",
              "      background-color: #434B5C;\n",
              "      box-shadow: 0px 1px 3px 1px rgba(0, 0, 0, 0.15);\n",
              "      filter: drop-shadow(0px 1px 2px rgba(0, 0, 0, 0.3));\n",
              "      fill: #FFFFFF;\n",
              "    }\n",
              "  </style>\n",
              "\n",
              "      <script>\n",
              "        const buttonEl =\n",
              "          document.querySelector('#df-6471d3fd-f5da-4770-962e-59cbbccb5827 button.colab-df-convert');\n",
              "        buttonEl.style.display =\n",
              "          google.colab.kernel.accessAllowed ? 'block' : 'none';\n",
              "\n",
              "        async function convertToInteractive(key) {\n",
              "          const element = document.querySelector('#df-6471d3fd-f5da-4770-962e-59cbbccb5827');\n",
              "          const dataTable =\n",
              "            await google.colab.kernel.invokeFunction('convertToInteractive',\n",
              "                                                     [key], {});\n",
              "          if (!dataTable) return;\n",
              "\n",
              "          const docLinkHtml = 'Like what you see? Visit the ' +\n",
              "            '<a target=\"_blank\" href=https://colab.research.google.com/notebooks/data_table.ipynb>data table notebook</a>'\n",
              "            + ' to learn more about interactive tables.';\n",
              "          element.innerHTML = '';\n",
              "          dataTable['output_type'] = 'display_data';\n",
              "          await google.colab.output.renderOutput(dataTable, element);\n",
              "          const docLink = document.createElement('div');\n",
              "          docLink.innerHTML = docLinkHtml;\n",
              "          element.appendChild(docLink);\n",
              "        }\n",
              "      </script>\n",
              "    </div>\n",
              "  </div>\n",
              "  "
            ]
          },
          "metadata": {},
          "execution_count": 15
        }
      ]
    },
    {
      "cell_type": "code",
      "source": [
        "# Count the number of missing values in each column\n",
        "print(planes.isnull().sum())"
      ],
      "metadata": {
        "id": "MkUp27-gmr20",
        "colab": {
          "base_uri": "https://localhost:8080/"
        },
        "outputId": "156c8950-da52-4bda-fd5e-02d79425bd72"
      },
      "execution_count": 16,
      "outputs": [
        {
          "output_type": "stream",
          "name": "stdout",
          "text": [
            "Airline            0\n",
            "Date_of_Journey    0\n",
            "Source             0\n",
            "Destination        0\n",
            "Route              1\n",
            "Dep_Time           0\n",
            "Arrival_Time       0\n",
            "Duration           0\n",
            "Total_Stops        1\n",
            "Additional_Info    0\n",
            "Price              0\n",
            "dtype: int64\n"
          ]
        }
      ]
    },
    {
      "cell_type": "code",
      "source": [
        "# Count the number of missing values in each column\n",
        "print(planes.isna().sum())\n",
        "\n",
        "# Find the five percent threshold\n",
        "threshold = len(planes) * 0.05"
      ],
      "metadata": {
        "colab": {
          "base_uri": "https://localhost:8080/"
        },
        "id": "Bs7JXNtmmkpW",
        "outputId": "ba2c1db0-ae12-4caa-aea4-0c3dc0d18121"
      },
      "execution_count": 17,
      "outputs": [
        {
          "output_type": "stream",
          "name": "stdout",
          "text": [
            "Airline            0\n",
            "Date_of_Journey    0\n",
            "Source             0\n",
            "Destination        0\n",
            "Route              1\n",
            "Dep_Time           0\n",
            "Arrival_Time       0\n",
            "Duration           0\n",
            "Total_Stops        1\n",
            "Additional_Info    0\n",
            "Price              0\n",
            "dtype: int64\n"
          ]
        }
      ]
    },
    {
      "cell_type": "code",
      "source": [
        "# Count the number of missing values in each column\n",
        "print(planes.isna().sum())\n",
        "print(\"\\n\")\n",
        "\n",
        "# Find the five percent threshold\n",
        "threshold = len(planes) * 0.05\n",
        "\n",
        "# Create a filter\n",
        "cols_to_drop = planes.columns[planes.isna().sum() <= threshold]\n",
        "\n",
        "# Drop missing values for columns below the threshold\n",
        "planes.dropna(subset=cols_to_drop, inplace=True)\n",
        "\n",
        "# Print the number of missing values in each column\n",
        "print(planes.isna().sum())"
      ],
      "metadata": {
        "colab": {
          "base_uri": "https://localhost:8080/"
        },
        "id": "ifKfPrUmmsWr",
        "outputId": "0752c382-f61d-4ed1-8d1c-ca82eb4e789f"
      },
      "execution_count": 18,
      "outputs": [
        {
          "output_type": "stream",
          "name": "stdout",
          "text": [
            "Airline            0\n",
            "Date_of_Journey    0\n",
            "Source             0\n",
            "Destination        0\n",
            "Route              1\n",
            "Dep_Time           0\n",
            "Arrival_Time       0\n",
            "Duration           0\n",
            "Total_Stops        1\n",
            "Additional_Info    0\n",
            "Price              0\n",
            "dtype: int64\n",
            "\n",
            "\n",
            "Airline            0\n",
            "Date_of_Journey    0\n",
            "Source             0\n",
            "Destination        0\n",
            "Route              0\n",
            "Dep_Time           0\n",
            "Arrival_Time       0\n",
            "Duration           0\n",
            "Total_Stops        0\n",
            "Additional_Info    0\n",
            "Price              0\n",
            "dtype: int64\n"
          ]
        }
      ]
    },
    {
      "cell_type": "markdown",
      "source": [
        "#### **Strategies for remaining missing data**\n"
      ],
      "metadata": {
        "id": "u8Kt2Hn7kZ6_"
      }
    },
    {
      "cell_type": "code",
      "source": [
        "# Check the values of the Additional_Info column\n",
        "print(planes[\"Additional_Info\"].value_counts())\n",
        "\n",
        "# Create a box plot of Price by Airline\n",
        "sns.boxplot(data=planes, x=\"Price\", y=\"Airline\")\n",
        "plt.xticks(rotation=90)\n",
        "plt.show()"
      ],
      "metadata": {
        "id": "aUo3mxUzmsgx",
        "colab": {
          "base_uri": "https://localhost:8080/",
          "height": 670
        },
        "outputId": "ae5c86e6-1585-485c-b40e-73d92321143a"
      },
      "execution_count": 19,
      "outputs": [
        {
          "output_type": "stream",
          "name": "stdout",
          "text": [
            "No info                         8344\n",
            "In-flight meal not included     1982\n",
            "No check-in baggage included     320\n",
            "1 Long layover                    19\n",
            "Change airports                    7\n",
            "Business class                     4\n",
            "No Info                            3\n",
            "1 Short layover                    1\n",
            "Red-eye flight                     1\n",
            "2 Long layover                     1\n",
            "Name: Additional_Info, dtype: int64\n"
          ]
        },
        {
          "output_type": "display_data",
          "data": {
            "text/plain": [
              "<Figure size 640x480 with 1 Axes>"
            ],
            "image/png": "[encoded data removed]"
          },
          "metadata": {}
        }
      ]
    },
    {
      "cell_type": "markdown",
      "source": [
        "**How should you deal with the missing values in `\"Additional_Info\"` and `\"Price\"`?**\n",
        "\n",
        "- we don't need the `\"Additional_Info\"` column, and should impute median `\"Price\"` by `\"Airline\"` to accurately represent the data!\n",
        "\n"
      ],
      "metadata": {
        "id": "tEYnY0z3wHpN"
      }
    },
    {
      "cell_type": "markdown",
      "source": [
        "#### **Imputing missing plane prices**\n"
      ],
      "metadata": {
        "id": "eoamPC56kbuI"
      }
    },
    {
      "cell_type": "code",
      "source": [
        "# Calculate median plane ticket prices by Airline\n",
        "airline_prices = planes.groupby(\"Airline\")[\"Price\"].median()\n",
        "\n",
        "print(airline_prices)"
      ],
      "metadata": {
        "id": "uBKPogBVmtEs",
        "colab": {
          "base_uri": "https://localhost:8080/"
        },
        "outputId": "6c0a7c44-e719-4b41-fb35-d24f99ff81fa"
      },
      "execution_count": 20,
      "outputs": [
        {
          "output_type": "stream",
          "name": "stdout",
          "text": [
            "Airline\n",
            "Air Asia                              5162.0\n",
            "Air India                             9443.0\n",
            "GoAir                                 5135.0\n",
            "IndiGo                                5000.0\n",
            "Jet Airways                          11467.0\n",
            "Jet Airways Business                 54747.0\n",
            "Multiple carriers                    10197.0\n",
            "Multiple carriers Premium economy    11269.0\n",
            "SpiceJet                              3873.0\n",
            "Trujet                                4140.0\n",
            "Vistara                               7980.0\n",
            "Vistara Premium economy               9125.0\n",
            "Name: Price, dtype: float64\n"
          ]
        }
      ]
    },
    {
      "cell_type": "code",
      "source": [
        "# Convert to a dictionary\n",
        "prices_dict = airline_prices.to_dict()\n",
        "\n",
        "print(prices_dict)"
      ],
      "metadata": {
        "colab": {
          "base_uri": "https://localhost:8080/"
        },
        "id": "FVdDkNrXxfNG",
        "outputId": "d89272c7-57d3-41d1-f434-f6fdfc10d180"
      },
      "execution_count": 21,
      "outputs": [
        {
          "output_type": "stream",
          "name": "stdout",
          "text": [
            "{'Air Asia': 5162.0, 'Air India': 9443.0, 'GoAir': 5135.0, 'IndiGo': 5000.0, 'Jet Airways': 11467.0, 'Jet Airways Business': 54747.0, 'Multiple carriers': 10197.0, 'Multiple carriers Premium economy': 11269.0, 'SpiceJet': 3873.0, 'Trujet': 4140.0, 'Vistara': 7980.0, 'Vistara Premium economy': 9125.0}\n"
          ]
        }
      ]
    },
    {
      "cell_type": "code",
      "source": [
        "# Map the dictionary to missing values of Price by Airline\n",
        "planes[\"Price\"] = planes[\"Price\"].fillna(planes[\"Airline\"].map(prices_dict))\n",
        "\n",
        "# Check for missing values\n",
        "print(planes.isna().sum())"
      ],
      "metadata": {
        "colab": {
          "base_uri": "https://localhost:8080/"
        },
        "id": "AS_i4keQxroY",
        "outputId": "922093e5-0f5e-47ba-8855-cfa3aab1e806"
      },
      "execution_count": 22,
      "outputs": [
        {
          "output_type": "stream",
          "name": "stdout",
          "text": [
            "Airline            0\n",
            "Date_of_Journey    0\n",
            "Source             0\n",
            "Destination        0\n",
            "Route              0\n",
            "Dep_Time           0\n",
            "Arrival_Time       0\n",
            "Duration           0\n",
            "Total_Stops        0\n",
            "Additional_Info    0\n",
            "Price              0\n",
            "dtype: int64\n"
          ]
        }
      ]
    },
    {
      "cell_type": "markdown",
      "source": [
        "### **Converting and analyzing categorical data**\n"
      ],
      "metadata": {
        "id": "SgmH6Vzokdox"
      }
    },
    {
      "cell_type": "markdown",
      "source": [
        "#### **Finding the number of unique values**\n"
      ],
      "metadata": {
        "id": "ub0e9OE3kfXc"
      }
    },
    {
      "cell_type": "code",
      "source": [
        "# Filter the DataFrame for object columns\n",
        "non_numeric = planes.select_dtypes(\"object\")\n",
        "\n",
        "# Loop through columns\n",
        "for col in non_numeric.columns:\n",
        "  \n",
        "  # Print the number of unique values\n",
        "  print(f\"Number of unique values in {col} column: \", non_numeric[col].nunique())"
      ],
      "metadata": {
        "id": "0BS2uaHRmtq6",
        "colab": {
          "base_uri": "https://localhost:8080/"
        },
        "outputId": "0f6a5e14-763d-4ed4-e99a-e4697fa68e00"
      },
      "execution_count": 23,
      "outputs": [
        {
          "output_type": "stream",
          "name": "stdout",
          "text": [
            "Number of unique values in Airline column:  12\n",
            "Number of unique values in Date_of_Journey column:  44\n",
            "Number of unique values in Source column:  5\n",
            "Number of unique values in Destination column:  6\n",
            "Number of unique values in Route column:  128\n",
            "Number of unique values in Dep_Time column:  222\n",
            "Number of unique values in Arrival_Time column:  1343\n",
            "Number of unique values in Duration column:  368\n",
            "Number of unique values in Total_Stops column:  5\n",
            "Number of unique values in Additional_Info column:  10\n"
          ]
        }
      ]
    },
    {
      "cell_type": "markdown",
      "source": [
        "#### **Flight duration categories**\n"
      ],
      "metadata": {
        "id": "Ev7zgdvAkhOa"
      }
    },
    {
      "cell_type": "code",
      "source": [
        "# Create a list of categories\n",
        "flight_categories = [\"Short-haul\", \"Medium\", \"Long-haul\"]"
      ],
      "metadata": {
        "id": "OGBISRHYmuUD"
      },
      "execution_count": 24,
      "outputs": []
    },
    {
      "cell_type": "code",
      "source": [
        "# Create a list of categories\n",
        "flight_categories = [\"Short-haul\", \"Medium\", \"Long-haul\"]\n",
        "\n",
        "# Create short_flights\n",
        "short_flights = \"0h|1h|2h|3h|4h\"\n",
        "\n",
        "# Create medium_flights\n",
        "medium_flights = \"5h|6h|7h|8h|9h\"\n",
        "\n",
        "# Create long_flights\n",
        "long_flights = \"10h|11h|12h|13h|14h|15h|16h\""
      ],
      "metadata": {
        "id": "rhT0Y3Dqx_Cx"
      },
      "execution_count": 25,
      "outputs": []
    },
    {
      "cell_type": "markdown",
      "source": [
        "#### **Adding duration categories**\n"
      ],
      "metadata": {
        "id": "znTCWj2RkizM"
      }
    },
    {
      "cell_type": "code",
      "source": [
        "# Create conditions for values in flight_categories to be created\n",
        "conditions = [\n",
        "    (planes[\"Duration\"].str.contains(short_flights)),\n",
        "    (planes[\"Duration\"].str.contains(medium_flights)),\n",
        "    (planes[\"Duration\"].str.contains(long_flights))\n",
        "]\n",
        "\n",
        "# Apply the conditions list to the flight_categories\n",
        "planes[\"Duration_Category\"] = np.select(conditions, \n",
        "                                        flight_categories,\n",
        "                                        default=\"Extreme duration\")\n",
        "\n",
        "# Plot the counts of each category\n",
        "sns.countplot(data=planes, x=\"Duration_Category\")\n",
        "plt.show()"
      ],
      "metadata": {
        "id": "tvVOlAtdmu0J",
        "colab": {
          "base_uri": "https://localhost:8080/",
          "height": 450
        },
        "outputId": "01114a0c-0611-484c-9359-5caa944f8820"
      },
      "execution_count": 26,
      "outputs": [
        {
          "output_type": "display_data",
          "data": {
            "text/plain": [
              "<Figure size 640x480 with 1 Axes>"
            ],
            "image/png": "[encoded data removed]"
          },
          "metadata": {}
        }
      ]
    },
    {
      "cell_type": "markdown",
      "source": [
        "Creative categorical transformation work! It's clear that the majority of flights are short-haul, and virtually none are longer than 16 hours! Now let's take a deep dive into working with numerical data."
      ],
      "metadata": {
        "id": "JWPJqCkSyF-I"
      }
    },
    {
      "cell_type": "markdown",
      "source": [
        "### **Working with numeric data**\n"
      ],
      "metadata": {
        "id": "tlqj6sEtkkUh"
      }
    },
    {
      "cell_type": "markdown",
      "source": [
        "#### **Flight duration**\n"
      ],
      "metadata": {
        "id": "1th7ssQHkmEI"
      }
    },
    {
      "cell_type": "code",
      "source": [
        "# Preview the column\n",
        "print(planes[\"Duration\"].head())\n",
        "\n",
        "# Remove the string characters and split on space\n",
        "planes[\"Duration\"] = planes[\"Duration\"].str.replace(\"h\", \"\").str.replace(\"m\", \"\").str.split(\" \").str[0]\n",
        "\n",
        "# Convert to float data type\n",
        "planes[\"Duration\"] = planes[\"Duration\"].astype(float)\n",
        "\n",
        "# Plot a histogram\n",
        "sns.histplot(data=planes, x=\"Duration\")\n",
        "plt.show()\n"
      ],
      "metadata": {
        "id": "8fNkfqZZmvaQ",
        "colab": {
          "base_uri": "https://localhost:8080/",
          "height": 553
        },
        "outputId": "c311c2fa-3c8b-478d-e4fc-7b9e039218fe"
      },
      "execution_count": 27,
      "outputs": [
        {
          "output_type": "stream",
          "name": "stdout",
          "text": [
            "0    2h 50m\n",
            "1    7h 25m\n",
            "2       19h\n",
            "3    5h 25m\n",
            "4    4h 45m\n",
            "Name: Duration, dtype: object\n"
          ]
        },
        {
          "output_type": "display_data",
          "data": {
            "text/plain": [
              "<Figure size 640x480 with 1 Axes>"
            ],
            "image/png": "[encoded data removed]"
          },
          "metadata": {}
        }
      ]
    },
    {
      "cell_type": "markdown",
      "source": [
        "#### **Adding descriptive statistics**\n"
      ],
      "metadata": {
        "id": "tmYeQjv-knqf"
      }
    },
    {
      "cell_type": "code",
      "source": [
        "# Price standard deviation by Airline\n",
        "planes[\"airline_price_st_dev\"] = planes.groupby(\"Airline\")[\"Price\"].transform(lambda x: x.std())\n",
        "\n",
        "print(planes[[\"Airline\", \"airline_price_st_dev\"]].value_counts())"
      ],
      "metadata": {
        "id": "cOj4c8Elmv_w",
        "colab": {
          "base_uri": "https://localhost:8080/"
        },
        "outputId": "c0ad8163-50fa-41a4-b26d-d159afada592"
      },
      "execution_count": 28,
      "outputs": [
        {
          "output_type": "stream",
          "name": "stdout",
          "text": [
            "Airline                            airline_price_st_dev\n",
            "Jet Airways                        4258.940578             3849\n",
            "IndiGo                             2264.142168             2053\n",
            "Air India                          3901.734561             1751\n",
            "Multiple carriers                  3721.234997             1196\n",
            "SpiceJet                           1849.922514              818\n",
            "Vistara                            2914.298578              479\n",
            "Air Asia                           2027.362290              319\n",
            "GoAir                              2703.585767              194\n",
            "Multiple carriers Premium economy  1717.153936               13\n",
            "Jet Airways Business               11667.596748               6\n",
            "Vistara Premium economy            2915.405518                3\n",
            "dtype: int64\n"
          ]
        }
      ]
    },
    {
      "cell_type": "code",
      "source": [
        "# Median Duration by Airline\n",
        "planes[\"airline_median_duration\"] = planes.groupby(\"Airline\")[\"Duration\"].transform(lambda x: x.median())\n",
        "\n",
        "print(planes[[\"Airline\",\"airline_median_duration\"]].value_counts())"
      ],
      "metadata": {
        "colab": {
          "base_uri": "https://localhost:8080/"
        },
        "id": "db0vJGcpy8jr",
        "outputId": "cea39891-9504-4447-f68c-60fbe0a9954e"
      },
      "execution_count": 29,
      "outputs": [
        {
          "output_type": "stream",
          "name": "stdout",
          "text": [
            "Airline                            airline_median_duration\n",
            "Jet Airways                        13.0                       3849\n",
            "IndiGo                             2.0                        2053\n",
            "Air India                          15.0                       1751\n",
            "Multiple carriers                  10.0                       1196\n",
            "SpiceJet                           2.0                         818\n",
            "Vistara                            3.0                         479\n",
            "Air Asia                           2.0                         319\n",
            "GoAir                              5.0                         194\n",
            "Multiple carriers Premium economy  10.0                         13\n",
            "Jet Airways Business               5.5                           6\n",
            "Vistara Premium economy            2.0                           3\n",
            "Trujet                             3.0                           1\n",
            "dtype: int64\n"
          ]
        }
      ]
    },
    {
      "cell_type": "code",
      "source": [
        "# Mean Price by Destination\n",
        "planes[\"price_destination_mean\"] = planes.groupby(\"Destination\")[\"Price\"].transform(lambda x: x.mean())\n",
        "\n",
        "print(planes[[\"Destination\",\"price_destination_mean\"]].value_counts())"
      ],
      "metadata": {
        "colab": {
          "base_uri": "https://localhost:8080/"
        },
        "id": "_bBn-ZvAy-Vn",
        "outputId": "c5bd15c4-eec9-4534-f2b0-a56e8e7be540"
      },
      "execution_count": 30,
      "outputs": [
        {
          "output_type": "stream",
          "name": "stdout",
          "text": [
            "Destination  price_destination_mean\n",
            "Cochin       10540.113536              4536\n",
            "Banglore     9158.389411               2871\n",
            "Delhi        5143.918577               1265\n",
            "New Delhi    11917.716738               932\n",
            "Hyderabad    5059.708752                697\n",
            "Kolkata      4789.892388                381\n",
            "dtype: int64\n"
          ]
        }
      ]
    },
    {
      "cell_type": "markdown",
      "source": [
        "### **Handling outliers**\n"
      ],
      "metadata": {
        "id": "cch1lM-kkpLn"
      }
    },
    {
      "cell_type": "markdown",
      "source": [
        "#### **Identifying outliers**\n"
      ],
      "metadata": {
        "id": "RxIwopR5ksaH"
      }
    },
    {
      "cell_type": "code",
      "source": [
        "# Plot a histogram of flight prices\n",
        "sns.histplot(data=planes, x=\"Price\")\n",
        "\n",
        "plt.show()"
      ],
      "metadata": {
        "id": "nMPZ7WISmxV0",
        "colab": {
          "base_uri": "https://localhost:8080/",
          "height": 449
        },
        "outputId": "84b255a2-a8ef-4db4-97e0-b5dd9ebcd32c"
      },
      "execution_count": 31,
      "outputs": [
        {
          "output_type": "display_data",
          "data": {
            "text/plain": [
              "<Figure size 640x480 with 1 Axes>"
            ],
            "image/png": "[encoded data removed]"
          },
          "metadata": {}
        }
      ]
    },
    {
      "cell_type": "code",
      "source": [
        "# Display descriptive statistics for flight duration\n",
        "print(planes[\"Duration\"].describe())"
      ],
      "metadata": {
        "colab": {
          "base_uri": "https://localhost:8080/"
        },
        "id": "2kLbhmYczYJe",
        "outputId": "1124748d-6e10-44dd-a6c9-725d0601ec17"
      },
      "execution_count": 32,
      "outputs": [
        {
          "output_type": "stream",
          "name": "stdout",
          "text": [
            "count    10682.000000\n",
            "mean        10.245366\n",
            "std          8.494489\n",
            "min          1.000000\n",
            "25%          2.000000\n",
            "50%          8.000000\n",
            "75%         15.000000\n",
            "max         47.000000\n",
            "Name: Duration, dtype: float64\n"
          ]
        }
      ]
    },
    {
      "cell_type": "markdown",
      "source": [
        "**Which column potentially contains outliers?**\n",
        "\n",
        "- `Price` and `Duration` \n",
        "\n",
        "`Histograms`, `boxplots`, and descriptive statistics are also useful methods for identifying extreme values"
      ],
      "metadata": {
        "id": "Zhm0LhTWzjJi"
      }
    },
    {
      "cell_type": "markdown",
      "source": [
        "#### **Removing outliers**"
      ],
      "metadata": {
        "id": "PR9DYzI0kt1L"
      }
    },
    {
      "cell_type": "code",
      "source": [
        "# Find the 75th and 25th percentiles\n",
        "price_seventy_fifth = planes[\"Price\"].quantile(0.75)\n",
        "price_twenty_fifth = planes[\"Price\"].quantile(0.25)\n",
        "\n",
        "# Calculate iqr\n",
        "prices_iqr = price_seventy_fifth - price_twenty_fifth\n",
        "\n",
        "# Calculate the thresholds\n",
        "upper = price_seventy_fifth + (1.5 * prices_iqr)\n",
        "lower = price_twenty_fifth - (1.5 * prices_iqr)\n",
        "\n",
        "# Subset the data\n",
        "planes = planes[(planes[\"Price\"] > lower) & (planes[\"Price\"] < upper)]\n",
        "\n",
        "# Print the summary statistics of the \"Price\" column\n",
        "display(planes[\"Price\"].describe())"
      ],
      "metadata": {
        "id": "mKWzUtsagUhS",
        "colab": {
          "base_uri": "https://localhost:8080/",
          "height": 173
        },
        "outputId": "609ee040-891c-47f6-cdc9-9597f5c79508"
      },
      "execution_count": 33,
      "outputs": [
        {
          "output_type": "display_data",
          "data": {
            "text/plain": [
              "count    10588.000000\n",
              "mean      8897.795618\n",
              "std       4069.289138\n",
              "min       1759.000000\n",
              "25%       5228.000000\n",
              "50%       8355.000000\n",
              "75%      12312.500000\n",
              "max      23001.000000\n",
              "Name: Price, dtype: float64"
            ]
          },
          "metadata": {}
        }
      ]
    },
    {
      "cell_type": "markdown",
      "source": [
        "## **3️⃣Relationships in Data**"
      ],
      "metadata": {
        "id": "ga06nwGbgU0z"
      }
    },
    {
      "cell_type": "markdown",
      "source": [
        "### **Patterns over time**\n"
      ],
      "metadata": {
        "id": "khQMOfI3kz8o"
      }
    },
    {
      "cell_type": "markdown",
      "source": [
        "#### **Importing DateTime data**\n"
      ],
      "metadata": {
        "id": "UFUL4UrvlDFJ"
      }
    },
    {
      "cell_type": "code",
      "source": [
        "# Import divorce.csv, parsing the appropriate columns as dates in the import\n",
        "divorce = pd.read_csv(url_divorce, parse_dates=[\"divorce_date\", \"dob_man\", \"dob_woman\", \"marriage_date\"])\n",
        "print(divorce.dtypes)"
      ],
      "metadata": {
        "id": "ZZnU0P8smymq",
        "colab": {
          "base_uri": "https://localhost:8080/"
        },
        "outputId": "a3e02cbe-dc0e-4aa6-f8d8-0fb41ab8a98a"
      },
      "execution_count": 34,
      "outputs": [
        {
          "output_type": "stream",
          "name": "stdout",
          "text": [
            "divorce_date         datetime64[ns]\n",
            "dob_man              datetime64[ns]\n",
            "education_man                object\n",
            "income_man                  float64\n",
            "dob_woman            datetime64[ns]\n",
            "education_woman              object\n",
            "income_woman                float64\n",
            "marriage_date        datetime64[ns]\n",
            "marriage_duration           float64\n",
            "num_kids                    float64\n",
            "dtype: object\n"
          ]
        }
      ]
    },
    {
      "cell_type": "markdown",
      "source": [
        "#### **Updating data type to DateTime**\n"
      ],
      "metadata": {
        "id": "KFwJPqXplEhC"
      }
    },
    {
      "cell_type": "code",
      "source": [
        "# Convert the marriage_date column to DateTime values\n",
        "divorce[\"marriage_date\"] = pd.to_datetime(divorce[\"marriage_date\"])"
      ],
      "metadata": {
        "id": "JAyXZEGVmzDo"
      },
      "execution_count": 35,
      "outputs": []
    },
    {
      "cell_type": "markdown",
      "source": [
        "#### **Visualizing relationships over time**\n"
      ],
      "metadata": {
        "id": "qwhmpP9RlMQn"
      }
    },
    {
      "cell_type": "code",
      "source": [
        "# Define the marriage_year column\n",
        "divorce[\"marriage_year\"] = divorce[\"marriage_date\"].dt.year\n",
        "\n",
        "# Create a line plot showing the average number of kids by year\n",
        "sns.lineplot(data=divorce, x=\"marriage_year\", y=\"num_kids\")\n",
        "plt.show()"
      ],
      "metadata": {
        "id": "2XGuTJ81mzfx",
        "colab": {
          "base_uri": "https://localhost:8080/",
          "height": 450
        },
        "outputId": "d7cda605-6221-45f7-8fdb-891aaf4fffc3"
      },
      "execution_count": 36,
      "outputs": [
        {
          "output_type": "display_data",
          "data": {
            "text/plain": [
              "<Figure size 640x480 with 1 Axes>"
            ],
            "image/png": "[encoded data removed]"
          },
          "metadata": {}
        }
      ]
    },
    {
      "cell_type": "markdown",
      "source": [
        "### **Correlation**\n"
      ],
      "metadata": {
        "id": "pkzhWPwplN62"
      }
    },
    {
      "cell_type": "markdown",
      "source": [
        "#### **Visualizing variable relationships**\n"
      ],
      "metadata": {
        "id": "xiXp3NNblQ1P"
      }
    },
    {
      "cell_type": "code",
      "source": [
        "# Create the scatterplot\n",
        "sns.scatterplot(data=divorce, x=\"marriage_duration\", y=\"num_kids\")\n",
        "plt.show()"
      ],
      "metadata": {
        "id": "R3j4b33Gm0lw",
        "colab": {
          "base_uri": "https://localhost:8080/",
          "height": 450
        },
        "outputId": "836770a2-420e-4f98-a92d-52581684a1e4"
      },
      "execution_count": 37,
      "outputs": [
        {
          "output_type": "display_data",
          "data": {
            "text/plain": [
              "<Figure size 640x480 with 1 Axes>"
            ],
            "image/png": "[encoded data removed]"
          },
          "metadata": {}
        }
      ]
    },
    {
      "cell_type": "markdown",
      "source": [
        "There is a slight positive relationship in your scatterplot. In the dataset, couples with no children have no value in the num_kids column. If you are confident that all or most of the missing values in num_kids are related to couples without children, you could consider updating these values to 0, which might increase the correlation"
      ],
      "metadata": {
        "id": "7O7XRzGB1-9P"
      }
    },
    {
      "cell_type": "markdown",
      "source": [
        "#### **Visualizing multiple variable relationships**\n"
      ],
      "metadata": {
        "id": "ak7JS8u9lSuq"
      }
    },
    {
      "cell_type": "code",
      "source": [
        "# Create a pairplot for income_woman and marriage_duration\n",
        "sns.pairplot(data=divorce, vars=[\"income_woman\", \"marriage_duration\"])\n",
        "plt.show()"
      ],
      "metadata": {
        "id": "g6NQjCuKm1BT",
        "colab": {
          "base_uri": "https://localhost:8080/",
          "height": 513
        },
        "outputId": "54692979-d832-42bd-a425-42e1bf453e16"
      },
      "execution_count": 38,
      "outputs": [
        {
          "output_type": "display_data",
          "data": {
            "text/plain": [
              "<Figure size 500x500 with 6 Axes>"
            ],
            "image/png": "[encoded data removed]"
          },
          "metadata": {}
        }
      ]
    },
    {
      "cell_type": "markdown",
      "source": [
        "we can see that the relationship between `income_woman` and `marriage_duration` is not a strong one. You can also get a sense of the distributions of both variables in the upper left and lower right plots."
      ],
      "metadata": {
        "id": "8oKm5Gb42Jmo"
      }
    },
    {
      "cell_type": "markdown",
      "source": [
        "### **Factor relationships and distributions**\n"
      ],
      "metadata": {
        "id": "a4EnOHlklUO_"
      }
    },
    {
      "cell_type": "markdown",
      "source": [
        "#### **Categorial data in scatter plots**\n"
      ],
      "metadata": {
        "id": "TF0msPkklVtW"
      }
    },
    {
      "cell_type": "code",
      "source": [
        "divorce.columns"
      ],
      "metadata": {
        "colab": {
          "base_uri": "https://localhost:8080/"
        },
        "id": "5J8pU7gf2fnH",
        "outputId": "3a0ca200-5e42-4e49-e213-b991658ed8c6"
      },
      "execution_count": 39,
      "outputs": [
        {
          "output_type": "execute_result",
          "data": {
            "text/plain": [
              "Index(['divorce_date', 'dob_man', 'education_man', 'income_man', 'dob_woman',\n",
              "       'education_woman', 'income_woman', 'marriage_date', 'marriage_duration',\n",
              "       'num_kids', 'marriage_year'],\n",
              "      dtype='object')"
            ]
          },
          "metadata": {},
          "execution_count": 39
        }
      ]
    },
    {
      "cell_type": "code",
      "source": [
        "# Calculate the age at marriage\n",
        "divorce['woman_age_marriage'] = (divorce['marriage_date'] - divorce['dob_woman']).dt.days // 365\n",
        "\n",
        "# Create the scatter plot\n",
        "sns.scatterplot(data=divorce, x='woman_age_marriage', y='income_woman', hue='education_woman')\n",
        "plt.show()\n"
      ],
      "metadata": {
        "colab": {
          "base_uri": "https://localhost:8080/",
          "height": 450
        },
        "id": "PTpGaAkn3h0H",
        "outputId": "7e9faf8d-6402-4a4e-82cc-4f2e241304e0"
      },
      "execution_count": 40,
      "outputs": [
        {
          "output_type": "display_data",
          "data": {
            "text/plain": [
              "<Figure size 640x480 with 1 Axes>"
            ],
            "image/png": "[encoded data removed]"
          },
          "metadata": {}
        }
      ]
    },
    {
      "cell_type": "markdown",
      "source": [
        "#### **Exploring with violin and KDE plots**"
      ],
      "metadata": {
        "id": "sXnqVL03lXJ2"
      }
    },
    {
      "cell_type": "code",
      "source": [
        "# Create the violin plot\n",
        "sns.violinplot(data=divorce, x=\"num_kids\", y=\"marriage_duration\")\n",
        "plt.show()"
      ],
      "metadata": {
        "colab": {
          "base_uri": "https://localhost:8080/",
          "height": 450
        },
        "id": "379WrUVT5HJ_",
        "outputId": "6036b4c5-ed9f-4e33-b189-364ce6b2e601"
      },
      "execution_count": 41,
      "outputs": [
        {
          "output_type": "display_data",
          "data": {
            "text/plain": [
              "<Figure size 640x480 with 1 Axes>"
            ],
            "image/png": "[encoded data removed]"
          },
          "metadata": {}
        }
      ]
    },
    {
      "cell_type": "code",
      "source": [
        "# Create the KDE plot\n",
        "sns.kdeplot(data=divorce, x=\"marriage_duration\", hue=\"num_kids\")\n",
        "plt.show()"
      ],
      "metadata": {
        "id": "QdX5JSm5glTn",
        "colab": {
          "base_uri": "https://localhost:8080/",
          "height": 450
        },
        "outputId": "6d785ee6-9189-4bf8-997c-f688b419caaf"
      },
      "execution_count": 42,
      "outputs": [
        {
          "output_type": "display_data",
          "data": {
            "text/plain": [
              "<Figure size 640x480 with 1 Axes>"
            ],
            "image/png": "[encoded data removed]"
          },
          "metadata": {}
        }
      ]
    },
    {
      "cell_type": "code",
      "source": [
        "# Update the KDE plot so that marriage duration can't be smoothed too far\n",
        "sns.kdeplot(data=divorce, x=\"marriage_duration\", hue=\"num_kids\", cut=0)\n",
        "plt.show()"
      ],
      "metadata": {
        "colab": {
          "base_uri": "https://localhost:8080/",
          "height": 450
        },
        "id": "w-Q-AvSw4lG1",
        "outputId": "cf4bad99-c9a9-443e-f09c-cc03895317e0"
      },
      "execution_count": 43,
      "outputs": [
        {
          "output_type": "display_data",
          "data": {
            "text/plain": [
              "<Figure size 640x480 with 1 Axes>"
            ],
            "image/png": "[encoded data removed]"
          },
          "metadata": {}
        }
      ]
    },
    {
      "cell_type": "code",
      "source": [
        "# Update the KDE plot to show a cumulative distribution function(CDF)\n",
        "sns.kdeplot(data=divorce, x=\"marriage_duration\", hue=\"num_kids\", cut=0, cumulative=True)\n",
        "plt.show()"
      ],
      "metadata": {
        "colab": {
          "base_uri": "https://localhost:8080/",
          "height": 450
        },
        "id": "MJ_3k76i4oDQ",
        "outputId": "8856f584-35e7-4cfa-9f9a-36539a2fe7ff"
      },
      "execution_count": 44,
      "outputs": [
        {
          "output_type": "display_data",
          "data": {
            "text/plain": [
              "<Figure size 640x480 with 1 Axes>"
            ],
            "image/png": "[encoded data removed]"
          },
          "metadata": {}
        }
      ]
    },
    {
      "cell_type": "markdown",
      "source": [
        "## **4️⃣Turning Exploratory Analysis into Action**"
      ],
      "metadata": {
        "id": "zibu8RVegc94"
      }
    },
    {
      "cell_type": "code",
      "source": [
        "salaries.columns"
      ],
      "metadata": {
        "colab": {
          "base_uri": "https://localhost:8080/"
        },
        "id": "z9dMvJrb5yLn",
        "outputId": "605a18a1-0004-4518-d6c5-60de0967e265"
      },
      "execution_count": 45,
      "outputs": [
        {
          "output_type": "execute_result",
          "data": {
            "text/plain": [
              "Index(['Working_Year', 'Designation', 'Experience', 'Employment_Status',\n",
              "       'Employee_Location', 'Company_Size', 'Remote_Working_Ratio',\n",
              "       'Salary_USD'],\n",
              "      dtype='object')"
            ]
          },
          "metadata": {},
          "execution_count": 45
        }
      ]
    },
    {
      "cell_type": "code",
      "source": [
        "salaries.head(5)"
      ],
      "metadata": {
        "colab": {
          "base_uri": "https://localhost:8080/",
          "height": 206
        },
        "id": "eiVWD8DT75NH",
        "outputId": "e7a9954f-bb3a-4044-b5ef-d414c0581df5"
      },
      "execution_count": 46,
      "outputs": [
        {
          "output_type": "execute_result",
          "data": {
            "text/plain": [
              "   Working_Year                 Designation Experience Employment_Status  \\\n",
              "0          2020              Data Scientist        Mid                FT   \n",
              "1          2020  Machine Learning Scientist     Senior                FT   \n",
              "2          2020           Big Data Engineer     Senior                FT   \n",
              "3          2020        Product Data Analyst        Mid                FT   \n",
              "4          2020   Machine Learning Engineer     Senior                FT   \n",
              "\n",
              "  Employee_Location Company_Size  Remote_Working_Ratio  Salary_USD  \n",
              "0                DE            L                     0     76227.0  \n",
              "1                JP            S                     0    248257.0  \n",
              "2                GB            M                    50    104100.0  \n",
              "3                HN            S                     0     19097.0  \n",
              "4                US            L                    50    143225.0  "
            ],
            "text/html": [
              "\n",
              "  <div id=\"df-cfc1965f-6675-4631-80ae-24a7dcce11b4\">\n",
              "    <div class=\"colab-df-container\">\n",
              "      <div>\n",
              "<style scoped>\n",
              "    .dataframe tbody tr th:only-of-type {\n",
              "        vertical-align: middle;\n",
              "    }\n",
              "\n",
              "    .dataframe tbody tr th {\n",
              "        vertical-align: top;\n",
              "    }\n",
              "\n",
              "    .dataframe thead th {\n",
              "        text-align: right;\n",
              "    }\n",
              "</style>\n",
              "<table border=\"1\" class=\"dataframe\">\n",
              "  <thead>\n",
              "    <tr style=\"text-align: right;\">\n",
              "      <th></th>\n",
              "      <th>Working_Year</th>\n",
              "      <th>Designation</th>\n",
              "      <th>Experience</th>\n",
              "      <th>Employment_Status</th>\n",
              "      <th>Employee_Location</th>\n",
              "      <th>Company_Size</th>\n",
              "      <th>Remote_Working_Ratio</th>\n",
              "      <th>Salary_USD</th>\n",
              "    </tr>\n",
              "  </thead>\n",
              "  <tbody>\n",
              "    <tr>\n",
              "      <th>0</th>\n",
              "      <td>2020</td>\n",
              "      <td>Data Scientist</td>\n",
              "      <td>Mid</td>\n",
              "      <td>FT</td>\n",
              "      <td>DE</td>\n",
              "      <td>L</td>\n",
              "      <td>0</td>\n",
              "      <td>76227.0</td>\n",
              "    </tr>\n",
              "    <tr>\n",
              "      <th>1</th>\n",
              "      <td>2020</td>\n",
              "      <td>Machine Learning Scientist</td>\n",
              "      <td>Senior</td>\n",
              "      <td>FT</td>\n",
              "      <td>JP</td>\n",
              "      <td>S</td>\n",
              "      <td>0</td>\n",
              "      <td>248257.0</td>\n",
              "    </tr>\n",
              "    <tr>\n",
              "      <th>2</th>\n",
              "      <td>2020</td>\n",
              "      <td>Big Data Engineer</td>\n",
              "      <td>Senior</td>\n",
              "      <td>FT</td>\n",
              "      <td>GB</td>\n",
              "      <td>M</td>\n",
              "      <td>50</td>\n",
              "      <td>104100.0</td>\n",
              "    </tr>\n",
              "    <tr>\n",
              "      <th>3</th>\n",
              "      <td>2020</td>\n",
              "      <td>Product Data Analyst</td>\n",
              "      <td>Mid</td>\n",
              "      <td>FT</td>\n",
              "      <td>HN</td>\n",
              "      <td>S</td>\n",
              "      <td>0</td>\n",
              "      <td>19097.0</td>\n",
              "    </tr>\n",
              "    <tr>\n",
              "      <th>4</th>\n",
              "      <td>2020</td>\n",
              "      <td>Machine Learning Engineer</td>\n",
              "      <td>Senior</td>\n",
              "      <td>FT</td>\n",
              "      <td>US</td>\n",
              "      <td>L</td>\n",
              "      <td>50</td>\n",
              "      <td>143225.0</td>\n",
              "    </tr>\n",
              "  </tbody>\n",
              "</table>\n",
              "</div>\n",
              "      <button class=\"colab-df-convert\" onclick=\"convertToInteractive('df-cfc1965f-6675-4631-80ae-24a7dcce11b4')\"\n",
              "              title=\"Convert this dataframe to an interactive table.\"\n",
              "              style=\"display:none;\">\n",
              "        \n",
              "  <svg xmlns=\"http://www.w3.org/2000/svg\" height=\"24px\"viewBox=\"0 0 24 24\"\n",
              "       width=\"24px\">\n",
              "    <path d=\"M0 0h24v24H0V0z\" fill=\"none\"/>\n",
              "    <path d=\"M18.56 5.44l.94 2.06.94-2.06 2.06-.94-2.06-.94-.94-2.06-.94 2.06-2.06.94zm-11 1L8.5 8.5l.94-2.06 2.06-.94-2.06-.94L8.5 2.5l-.94 2.06-2.06.94zm10 10l.94 2.06.94-2.06 2.06-.94-2.06-.94-.94-2.06-.94 2.06-2.06.94z\"/><path d=\"M17.41 7.96l-1.37-1.37c-.4-.4-.92-.59-1.43-.59-.52 0-1.04.2-1.43.59L10.3 9.45l-7.72 7.72c-.78.78-.78 2.05 0 2.83L4 21.41c.39.39.9.59 1.41.59.51 0 1.02-.2 1.41-.59l7.78-7.78 2.81-2.81c.8-.78.8-2.07 0-2.86zM5.41 20L4 18.59l7.72-7.72 1.47 1.35L5.41 20z\"/>\n",
              "  </svg>\n",
              "      </button>\n",
              "      \n",
              "  <style>\n",
              "    .colab-df-container {\n",
              "      display:flex;\n",
              "      flex-wrap:wrap;\n",
              "      gap: 12px;\n",
              "    }\n",
              "\n",
              "    .colab-df-convert {\n",
              "      background-color: #E8F0FE;\n",
              "      border: none;\n",
              "      border-radius: 50%;\n",
              "      cursor: pointer;\n",
              "      display: none;\n",
              "      fill: #1967D2;\n",
              "      height: 32px;\n",
              "      padding: 0 0 0 0;\n",
              "      width: 32px;\n",
              "    }\n",
              "\n",
              "    .colab-df-convert:hover {\n",
              "      background-color: #E2EBFA;\n",
              "      box-shadow: 0px 1px 2px rgba(60, 64, 67, 0.3), 0px 1px 3px 1px rgba(60, 64, 67, 0.15);\n",
              "      fill: #174EA6;\n",
              "    }\n",
              "\n",
              "    [theme=dark] .colab-df-convert {\n",
              "      background-color: #3B4455;\n",
              "      fill: #D2E3FC;\n",
              "    }\n",
              "\n",
              "    [theme=dark] .colab-df-convert:hover {\n",
              "      background-color: #434B5C;\n",
              "      box-shadow: 0px 1px 3px 1px rgba(0, 0, 0, 0.15);\n",
              "      filter: drop-shadow(0px 1px 2px rgba(0, 0, 0, 0.3));\n",
              "      fill: #FFFFFF;\n",
              "    }\n",
              "  </style>\n",
              "\n",
              "      <script>\n",
              "        const buttonEl =\n",
              "          document.querySelector('#df-cfc1965f-6675-4631-80ae-24a7dcce11b4 button.colab-df-convert');\n",
              "        buttonEl.style.display =\n",
              "          google.colab.kernel.accessAllowed ? 'block' : 'none';\n",
              "\n",
              "        async function convertToInteractive(key) {\n",
              "          const element = document.querySelector('#df-cfc1965f-6675-4631-80ae-24a7dcce11b4');\n",
              "          const dataTable =\n",
              "            await google.colab.kernel.invokeFunction('convertToInteractive',\n",
              "                                                     [key], {});\n",
              "          if (!dataTable) return;\n",
              "\n",
              "          const docLinkHtml = 'Like what you see? Visit the ' +\n",
              "            '<a target=\"_blank\" href=https://colab.research.google.com/notebooks/data_table.ipynb>data table notebook</a>'\n",
              "            + ' to learn more about interactive tables.';\n",
              "          element.innerHTML = '';\n",
              "          dataTable['output_type'] = 'display_data';\n",
              "          await google.colab.output.renderOutput(dataTable, element);\n",
              "          const docLink = document.createElement('div');\n",
              "          docLink.innerHTML = docLinkHtml;\n",
              "          element.appendChild(docLink);\n",
              "        }\n",
              "      </script>\n",
              "    </div>\n",
              "  </div>\n",
              "  "
            ]
          },
          "metadata": {},
          "execution_count": 46
        }
      ]
    },
    {
      "cell_type": "markdown",
      "source": [
        "### **Considerations for categorical data**\n",
        "\n"
      ],
      "metadata": {
        "id": "dNWGpL-8lfO6"
      }
    },
    {
      "cell_type": "markdown",
      "source": [
        "#### **Checking for class imbalance**\n"
      ],
      "metadata": {
        "id": "337v-3RomMGY"
      }
    },
    {
      "cell_type": "code",
      "source": [
        "# Print the relative frequency of Job_Category\n",
        "display(salaries[\"Designation\"].value_counts(normalize=True))"
      ],
      "metadata": {
        "id": "XOJnB7MTmffg",
        "colab": {
          "base_uri": "https://localhost:8080/",
          "height": 902
        },
        "outputId": "0aca2ab1-28aa-413c-891e-139e48c5b2d2"
      },
      "execution_count": 47,
      "outputs": [
        {
          "output_type": "display_data",
          "data": {
            "text/plain": [
              "Data Scientist                              0.235585\n",
              "Data Engineer                               0.217463\n",
              "Data Analyst                                0.159802\n",
              "Machine Learning Engineer                   0.067545\n",
              "Research Scientist                          0.026359\n",
              "Data Science Manager                        0.019769\n",
              "Data Architect                              0.018122\n",
              "Big Data Engineer                           0.013180\n",
              "Machine Learning Scientist                  0.013180\n",
              "Principal Data Scientist                    0.011532\n",
              "AI Scientist                                0.011532\n",
              "Data Science Consultant                     0.011532\n",
              "Director of Data Science                    0.011532\n",
              "Data Analytics Manager                      0.011532\n",
              "ML Engineer                                 0.009885\n",
              "Computer Vision Engineer                    0.009885\n",
              "BI Data Analyst                             0.009885\n",
              "Lead Data Engineer                          0.009885\n",
              "Data Engineering Manager                    0.008237\n",
              "Business Data Analyst                       0.008237\n",
              "Head of Data                                0.008237\n",
              "Applied Data Scientist                      0.008237\n",
              "Applied Machine Learning Scientist          0.006590\n",
              "Head of Data Science                        0.006590\n",
              "Analytics Engineer                          0.006590\n",
              "Data Analytics Engineer                     0.006590\n",
              "Machine Learning Developer                  0.004942\n",
              "Machine Learning Infrastructure Engineer    0.004942\n",
              "Lead Data Scientist                         0.004942\n",
              "Computer Vision Software Engineer           0.004942\n",
              "Lead Data Analyst                           0.004942\n",
              "Data Science Engineer                       0.004942\n",
              "Principal Data Engineer                     0.004942\n",
              "Principal Data Analyst                      0.003295\n",
              "ETL Developer                               0.003295\n",
              "Product Data Analyst                        0.003295\n",
              "Director of Data Engineering                0.003295\n",
              "Financial Data Analyst                      0.003295\n",
              "Cloud Data Engineer                         0.003295\n",
              "Lead Machine Learning Engineer              0.001647\n",
              "NLP Engineer                                0.001647\n",
              "Head of Machine Learning                    0.001647\n",
              "3D Computer Vision Researcher               0.001647\n",
              "Data Specialist                             0.001647\n",
              "Staff Data Scientist                        0.001647\n",
              "Big Data Architect                          0.001647\n",
              "Finance Data Analyst                        0.001647\n",
              "Marketing Data Analyst                      0.001647\n",
              "Machine Learning Manager                    0.001647\n",
              "Data Analytics Lead                         0.001647\n",
              "Name: Designation, dtype: float64"
            ]
          },
          "metadata": {}
        }
      ]
    },
    {
      "cell_type": "markdown",
      "source": [
        "#### **Cross-tabulation**\n"
      ],
      "metadata": {
        "id": "1HJanStgmNox"
      }
    },
    {
      "cell_type": "markdown",
      "source": [
        "It looks like Data Science is the most popular class and has a similar representation. Still, the other categories have quite different relative frequencies, which might not be surprising given the target audience is data scientists! "
      ],
      "metadata": {
        "id": "YuRI_AHD6-FN"
      }
    },
    {
      "cell_type": "code",
      "source": [
        "# Cross-tabulate Job_Category and Company_Size\n",
        "display(pd.crosstab(salaries[\"Designation\"],\n",
        "                    salaries[\"Company_Size\"])\n",
        "                    )"
      ],
      "metadata": {
        "colab": {
          "base_uri": "https://localhost:8080/",
          "height": 1000
        },
        "id": "0AFT_cX66DsA",
        "outputId": "be517aed-2380-41cc-fc24-c99e0578746d"
      },
      "execution_count": 48,
      "outputs": [
        {
          "output_type": "display_data",
          "data": {
            "text/plain": [
              "Company_Size                               L   M   S\n",
              "Designation                                         \n",
              "3D Computer Vision Researcher              0   1   0\n",
              "AI Scientist                               2   2   3\n",
              "Analytics Engineer                         0   4   0\n",
              "Applied Data Scientist                     5   0   0\n",
              "Applied Machine Learning Scientist         2   2   0\n",
              "BI Data Analyst                            2   2   2\n",
              "Big Data Architect                         0   1   0\n",
              "Big Data Engineer                          4   2   2\n",
              "Business Data Analyst                      4   1   0\n",
              "Cloud Data Engineer                        1   0   1\n",
              "Computer Vision Engineer                   0   4   2\n",
              "Computer Vision Software Engineer          0   1   2\n",
              "Data Analyst                              13  76   8\n",
              "Data Analytics Engineer                    2   2   0\n",
              "Data Analytics Lead                        1   0   0\n",
              "Data Analytics Manager                     2   5   0\n",
              "Data Architect                             3   8   0\n",
              "Data Engineer                             37  89   6\n",
              "Data Engineering Manager                   4   0   1\n",
              "Data Science Consultant                    3   1   3\n",
              "Data Science Engineer                      2   1   0\n",
              "Data Science Manager                       6   6   0\n",
              "Data Scientist                            45  77  21\n",
              "Data Specialist                            1   0   0\n",
              "Director of Data Engineering               1   1   0\n",
              "Director of Data Science                   5   1   1\n",
              "ETL Developer                              0   2   0\n",
              "Finance Data Analyst                       1   0   0\n",
              "Financial Data Analyst                     2   0   0\n",
              "Head of Data                               3   1   1\n",
              "Head of Data Science                       0   3   1\n",
              "Head of Machine Learning                   1   0   0\n",
              "Lead Data Analyst                          3   0   0\n",
              "Lead Data Engineer                         1   1   4\n",
              "Lead Data Scientist                        2   0   1\n",
              "Lead Machine Learning Engineer             0   1   0\n",
              "ML Engineer                                2   0   4\n",
              "Machine Learning Developer                 0   2   1\n",
              "Machine Learning Engineer                 13  16  12\n",
              "Machine Learning Infrastructure Engineer   1   2   0\n",
              "Machine Learning Manager                   1   0   0\n",
              "Machine Learning Scientist                 4   2   2\n",
              "Marketing Data Analyst                     1   0   0\n",
              "NLP Engineer                               1   0   0\n",
              "Principal Data Analyst                     0   1   1\n",
              "Principal Data Engineer                    2   1   0\n",
              "Principal Data Scientist                   3   3   1\n",
              "Product Data Analyst                       1   0   1\n",
              "Research Scientist                        11   3   2\n",
              "Staff Data Scientist                       0   1   0"
            ],
            "text/html": [
              "\n",
              "  <div id=\"df-64644a39-08dc-42b0-a7e0-0273899c3eaf\">\n",
              "    <div class=\"colab-df-container\">\n",
              "      <div>\n",
              "<style scoped>\n",
              "    .dataframe tbody tr th:only-of-type {\n",
              "        vertical-align: middle;\n",
              "    }\n",
              "\n",
              "    .dataframe tbody tr th {\n",
              "        vertical-align: top;\n",
              "    }\n",
              "\n",
              "    .dataframe thead th {\n",
              "        text-align: right;\n",
              "    }\n",
              "</style>\n",
              "<table border=\"1\" class=\"dataframe\">\n",
              "  <thead>\n",
              "    <tr style=\"text-align: right;\">\n",
              "      <th>Company_Size</th>\n",
              "      <th>L</th>\n",
              "      <th>M</th>\n",
              "      <th>S</th>\n",
              "    </tr>\n",
              "    <tr>\n",
              "      <th>Designation</th>\n",
              "      <th></th>\n",
              "      <th></th>\n",
              "      <th></th>\n",
              "    </tr>\n",
              "  </thead>\n",
              "  <tbody>\n",
              "    <tr>\n",
              "      <th>3D Computer Vision Researcher</th>\n",
              "      <td>0</td>\n",
              "      <td>1</td>\n",
              "      <td>0</td>\n",
              "    </tr>\n",
              "    <tr>\n",
              "      <th>AI Scientist</th>\n",
              "      <td>2</td>\n",
              "      <td>2</td>\n",
              "      <td>3</td>\n",
              "    </tr>\n",
              "    <tr>\n",
              "      <th>Analytics Engineer</th>\n",
              "      <td>0</td>\n",
              "      <td>4</td>\n",
              "      <td>0</td>\n",
              "    </tr>\n",
              "    <tr>\n",
              "      <th>Applied Data Scientist</th>\n",
              "      <td>5</td>\n",
              "      <td>0</td>\n",
              "      <td>0</td>\n",
              "    </tr>\n",
              "    <tr>\n",
              "      <th>Applied Machine Learning Scientist</th>\n",
              "      <td>2</td>\n",
              "      <td>2</td>\n",
              "      <td>0</td>\n",
              "    </tr>\n",
              "    <tr>\n",
              "      <th>BI Data Analyst</th>\n",
              "      <td>2</td>\n",
              "      <td>2</td>\n",
              "      <td>2</td>\n",
              "    </tr>\n",
              "    <tr>\n",
              "      <th>Big Data Architect</th>\n",
              "      <td>0</td>\n",
              "      <td>1</td>\n",
              "      <td>0</td>\n",
              "    </tr>\n",
              "    <tr>\n",
              "      <th>Big Data Engineer</th>\n",
              "      <td>4</td>\n",
              "      <td>2</td>\n",
              "      <td>2</td>\n",
              "    </tr>\n",
              "    <tr>\n",
              "      <th>Business Data Analyst</th>\n",
              "      <td>4</td>\n",
              "      <td>1</td>\n",
              "      <td>0</td>\n",
              "    </tr>\n",
              "    <tr>\n",
              "      <th>Cloud Data Engineer</th>\n",
              "      <td>1</td>\n",
              "      <td>0</td>\n",
              "      <td>1</td>\n",
              "    </tr>\n",
              "    <tr>\n",
              "      <th>Computer Vision Engineer</th>\n",
              "      <td>0</td>\n",
              "      <td>4</td>\n",
              "      <td>2</td>\n",
              "    </tr>\n",
              "    <tr>\n",
              "      <th>Computer Vision Software Engineer</th>\n",
              "      <td>0</td>\n",
              "      <td>1</td>\n",
              "      <td>2</td>\n",
              "    </tr>\n",
              "    <tr>\n",
              "      <th>Data Analyst</th>\n",
              "      <td>13</td>\n",
              "      <td>76</td>\n",
              "      <td>8</td>\n",
              "    </tr>\n",
              "    <tr>\n",
              "      <th>Data Analytics Engineer</th>\n",
              "      <td>2</td>\n",
              "      <td>2</td>\n",
              "      <td>0</td>\n",
              "    </tr>\n",
              "    <tr>\n",
              "      <th>Data Analytics Lead</th>\n",
              "      <td>1</td>\n",
              "      <td>0</td>\n",
              "      <td>0</td>\n",
              "    </tr>\n",
              "    <tr>\n",
              "      <th>Data Analytics Manager</th>\n",
              "      <td>2</td>\n",
              "      <td>5</td>\n",
              "      <td>0</td>\n",
              "    </tr>\n",
              "    <tr>\n",
              "      <th>Data Architect</th>\n",
              "      <td>3</td>\n",
              "      <td>8</td>\n",
              "      <td>0</td>\n",
              "    </tr>\n",
              "    <tr>\n",
              "      <th>Data Engineer</th>\n",
              "      <td>37</td>\n",
              "      <td>89</td>\n",
              "      <td>6</td>\n",
              "    </tr>\n",
              "    <tr>\n",
              "      <th>Data Engineering Manager</th>\n",
              "      <td>4</td>\n",
              "      <td>0</td>\n",
              "      <td>1</td>\n",
              "    </tr>\n",
              "    <tr>\n",
              "      <th>Data Science Consultant</th>\n",
              "      <td>3</td>\n",
              "      <td>1</td>\n",
              "      <td>3</td>\n",
              "    </tr>\n",
              "    <tr>\n",
              "      <th>Data Science Engineer</th>\n",
              "      <td>2</td>\n",
              "      <td>1</td>\n",
              "      <td>0</td>\n",
              "    </tr>\n",
              "    <tr>\n",
              "      <th>Data Science Manager</th>\n",
              "      <td>6</td>\n",
              "      <td>6</td>\n",
              "      <td>0</td>\n",
              "    </tr>\n",
              "    <tr>\n",
              "      <th>Data Scientist</th>\n",
              "      <td>45</td>\n",
              "      <td>77</td>\n",
              "      <td>21</td>\n",
              "    </tr>\n",
              "    <tr>\n",
              "      <th>Data Specialist</th>\n",
              "      <td>1</td>\n",
              "      <td>0</td>\n",
              "      <td>0</td>\n",
              "    </tr>\n",
              "    <tr>\n",
              "      <th>Director of Data Engineering</th>\n",
              "      <td>1</td>\n",
              "      <td>1</td>\n",
              "      <td>0</td>\n",
              "    </tr>\n",
              "    <tr>\n",
              "      <th>Director of Data Science</th>\n",
              "      <td>5</td>\n",
              "      <td>1</td>\n",
              "      <td>1</td>\n",
              "    </tr>\n",
              "    <tr>\n",
              "      <th>ETL Developer</th>\n",
              "      <td>0</td>\n",
              "      <td>2</td>\n",
              "      <td>0</td>\n",
              "    </tr>\n",
              "    <tr>\n",
              "      <th>Finance Data Analyst</th>\n",
              "      <td>1</td>\n",
              "      <td>0</td>\n",
              "      <td>0</td>\n",
              "    </tr>\n",
              "    <tr>\n",
              "      <th>Financial Data Analyst</th>\n",
              "      <td>2</td>\n",
              "      <td>0</td>\n",
              "      <td>0</td>\n",
              "    </tr>\n",
              "    <tr>\n",
              "      <th>Head of Data</th>\n",
              "      <td>3</td>\n",
              "      <td>1</td>\n",
              "      <td>1</td>\n",
              "    </tr>\n",
              "    <tr>\n",
              "      <th>Head of Data Science</th>\n",
              "      <td>0</td>\n",
              "      <td>3</td>\n",
              "      <td>1</td>\n",
              "    </tr>\n",
              "    <tr>\n",
              "      <th>Head of Machine Learning</th>\n",
              "      <td>1</td>\n",
              "      <td>0</td>\n",
              "      <td>0</td>\n",
              "    </tr>\n",
              "    <tr>\n",
              "      <th>Lead Data Analyst</th>\n",
              "      <td>3</td>\n",
              "      <td>0</td>\n",
              "      <td>0</td>\n",
              "    </tr>\n",
              "    <tr>\n",
              "      <th>Lead Data Engineer</th>\n",
              "      <td>1</td>\n",
              "      <td>1</td>\n",
              "      <td>4</td>\n",
              "    </tr>\n",
              "    <tr>\n",
              "      <th>Lead Data Scientist</th>\n",
              "      <td>2</td>\n",
              "      <td>0</td>\n",
              "      <td>1</td>\n",
              "    </tr>\n",
              "    <tr>\n",
              "      <th>Lead Machine Learning Engineer</th>\n",
              "      <td>0</td>\n",
              "      <td>1</td>\n",
              "      <td>0</td>\n",
              "    </tr>\n",
              "    <tr>\n",
              "      <th>ML Engineer</th>\n",
              "      <td>2</td>\n",
              "      <td>0</td>\n",
              "      <td>4</td>\n",
              "    </tr>\n",
              "    <tr>\n",
              "      <th>Machine Learning Developer</th>\n",
              "      <td>0</td>\n",
              "      <td>2</td>\n",
              "      <td>1</td>\n",
              "    </tr>\n",
              "    <tr>\n",
              "      <th>Machine Learning Engineer</th>\n",
              "      <td>13</td>\n",
              "      <td>16</td>\n",
              "      <td>12</td>\n",
              "    </tr>\n",
              "    <tr>\n",
              "      <th>Machine Learning Infrastructure Engineer</th>\n",
              "      <td>1</td>\n",
              "      <td>2</td>\n",
              "      <td>0</td>\n",
              "    </tr>\n",
              "    <tr>\n",
              "      <th>Machine Learning Manager</th>\n",
              "      <td>1</td>\n",
              "      <td>0</td>\n",
              "      <td>0</td>\n",
              "    </tr>\n",
              "    <tr>\n",
              "      <th>Machine Learning Scientist</th>\n",
              "      <td>4</td>\n",
              "      <td>2</td>\n",
              "      <td>2</td>\n",
              "    </tr>\n",
              "    <tr>\n",
              "      <th>Marketing Data Analyst</th>\n",
              "      <td>1</td>\n",
              "      <td>0</td>\n",
              "      <td>0</td>\n",
              "    </tr>\n",
              "    <tr>\n",
              "      <th>NLP Engineer</th>\n",
              "      <td>1</td>\n",
              "      <td>0</td>\n",
              "      <td>0</td>\n",
              "    </tr>\n",
              "    <tr>\n",
              "      <th>Principal Data Analyst</th>\n",
              "      <td>0</td>\n",
              "      <td>1</td>\n",
              "      <td>1</td>\n",
              "    </tr>\n",
              "    <tr>\n",
              "      <th>Principal Data Engineer</th>\n",
              "      <td>2</td>\n",
              "      <td>1</td>\n",
              "      <td>0</td>\n",
              "    </tr>\n",
              "    <tr>\n",
              "      <th>Principal Data Scientist</th>\n",
              "      <td>3</td>\n",
              "      <td>3</td>\n",
              "      <td>1</td>\n",
              "    </tr>\n",
              "    <tr>\n",
              "      <th>Product Data Analyst</th>\n",
              "      <td>1</td>\n",
              "      <td>0</td>\n",
              "      <td>1</td>\n",
              "    </tr>\n",
              "    <tr>\n",
              "      <th>Research Scientist</th>\n",
              "      <td>11</td>\n",
              "      <td>3</td>\n",
              "      <td>2</td>\n",
              "    </tr>\n",
              "    <tr>\n",
              "      <th>Staff Data Scientist</th>\n",
              "      <td>0</td>\n",
              "      <td>1</td>\n",
              "      <td>0</td>\n",
              "    </tr>\n",
              "  </tbody>\n",
              "</table>\n",
              "</div>\n",
              "      <button class=\"colab-df-convert\" onclick=\"convertToInteractive('df-64644a39-08dc-42b0-a7e0-0273899c3eaf')\"\n",
              "              title=\"Convert this dataframe to an interactive table.\"\n",
              "              style=\"display:none;\">\n",
              "        \n",
              "  <svg xmlns=\"http://www.w3.org/2000/svg\" height=\"24px\"viewBox=\"0 0 24 24\"\n",
              "       width=\"24px\">\n",
              "    <path d=\"M0 0h24v24H0V0z\" fill=\"none\"/>\n",
              "    <path d=\"M18.56 5.44l.94 2.06.94-2.06 2.06-.94-2.06-.94-.94-2.06-.94 2.06-2.06.94zm-11 1L8.5 8.5l.94-2.06 2.06-.94-2.06-.94L8.5 2.5l-.94 2.06-2.06.94zm10 10l.94 2.06.94-2.06 2.06-.94-2.06-.94-.94-2.06-.94 2.06-2.06.94z\"/><path d=\"M17.41 7.96l-1.37-1.37c-.4-.4-.92-.59-1.43-.59-.52 0-1.04.2-1.43.59L10.3 9.45l-7.72 7.72c-.78.78-.78 2.05 0 2.83L4 21.41c.39.39.9.59 1.41.59.51 0 1.02-.2 1.41-.59l7.78-7.78 2.81-2.81c.8-.78.8-2.07 0-2.86zM5.41 20L4 18.59l7.72-7.72 1.47 1.35L5.41 20z\"/>\n",
              "  </svg>\n",
              "      </button>\n",
              "      \n",
              "  <style>\n",
              "    .colab-df-container {\n",
              "      display:flex;\n",
              "      flex-wrap:wrap;\n",
              "      gap: 12px;\n",
              "    }\n",
              "\n",
              "    .colab-df-convert {\n",
              "      background-color: #E8F0FE;\n",
              "      border: none;\n",
              "      border-radius: 50%;\n",
              "      cursor: pointer;\n",
              "      display: none;\n",
              "      fill: #1967D2;\n",
              "      height: 32px;\n",
              "      padding: 0 0 0 0;\n",
              "      width: 32px;\n",
              "    }\n",
              "\n",
              "    .colab-df-convert:hover {\n",
              "      background-color: #E2EBFA;\n",
              "      box-shadow: 0px 1px 2px rgba(60, 64, 67, 0.3), 0px 1px 3px 1px rgba(60, 64, 67, 0.15);\n",
              "      fill: #174EA6;\n",
              "    }\n",
              "\n",
              "    [theme=dark] .colab-df-convert {\n",
              "      background-color: #3B4455;\n",
              "      fill: #D2E3FC;\n",
              "    }\n",
              "\n",
              "    [theme=dark] .colab-df-convert:hover {\n",
              "      background-color: #434B5C;\n",
              "      box-shadow: 0px 1px 3px 1px rgba(0, 0, 0, 0.15);\n",
              "      filter: drop-shadow(0px 1px 2px rgba(0, 0, 0, 0.3));\n",
              "      fill: #FFFFFF;\n",
              "    }\n",
              "  </style>\n",
              "\n",
              "      <script>\n",
              "        const buttonEl =\n",
              "          document.querySelector('#df-64644a39-08dc-42b0-a7e0-0273899c3eaf button.colab-df-convert');\n",
              "        buttonEl.style.display =\n",
              "          google.colab.kernel.accessAllowed ? 'block' : 'none';\n",
              "\n",
              "        async function convertToInteractive(key) {\n",
              "          const element = document.querySelector('#df-64644a39-08dc-42b0-a7e0-0273899c3eaf');\n",
              "          const dataTable =\n",
              "            await google.colab.kernel.invokeFunction('convertToInteractive',\n",
              "                                                     [key], {});\n",
              "          if (!dataTable) return;\n",
              "\n",
              "          const docLinkHtml = 'Like what you see? Visit the ' +\n",
              "            '<a target=\"_blank\" href=https://colab.research.google.com/notebooks/data_table.ipynb>data table notebook</a>'\n",
              "            + ' to learn more about interactive tables.';\n",
              "          element.innerHTML = '';\n",
              "          dataTable['output_type'] = 'display_data';\n",
              "          await google.colab.output.renderOutput(dataTable, element);\n",
              "          const docLink = document.createElement('div');\n",
              "          docLink.innerHTML = docLinkHtml;\n",
              "          element.appendChild(docLink);\n",
              "        }\n",
              "      </script>\n",
              "    </div>\n",
              "  </div>\n",
              "  "
            ]
          },
          "metadata": {}
        }
      ]
    },
    {
      "cell_type": "code",
      "source": [
        "# Cross-tabulate Job_Category and Company_Size\n",
        "display(pd.crosstab(salaries[\"Designation\"],\n",
        "                    salaries[\"Company_Size\"],\n",
        "                    values=salaries[\"Salary_USD\"],\n",
        "                    aggfunc=\"mean\"))"
      ],
      "metadata": {
        "colab": {
          "base_uri": "https://localhost:8080/",
          "height": 1000
        },
        "id": "8YTVpS0j6UQ5",
        "outputId": "4bd9d555-4a40-4c01-ff75-feb12e237776"
      },
      "execution_count": 49,
      "outputs": [
        {
          "output_type": "display_data",
          "data": {
            "text/plain": [
              "Company_Size                                          L              M  \\\n",
              "Designation                                                              \n",
              "3D Computer Vision Researcher                       NaN    5165.000000   \n",
              "AI Scientist                              121741.500000   63019.000000   \n",
              "Analytics Engineer                                  NaN  167096.000000   \n",
              "Applied Data Scientist                    167721.400000            NaN   \n",
              "Applied Machine Learning Scientist        237754.000000   33550.500000   \n",
              "BI Data Analyst                            88923.000000   94528.500000   \n",
              "Big Data Architect                                  NaN   95200.000000   \n",
              "Big Data Engineer                          27384.750000   80695.000000   \n",
              "Business Data Analyst                      87132.000000   17609.000000   \n",
              "Cloud Data Engineer                        85261.000000            NaN   \n",
              "Computer Vision Engineer                            NaN   42467.750000   \n",
              "Computer Vision Software Engineer                   NaN   66838.000000   \n",
              "Data Analyst                               78084.230769   95049.368421   \n",
              "Data Analytics Engineer                    90326.000000   33419.500000   \n",
              "Data Analytics Lead                       386708.000000            NaN   \n",
              "Data Analytics Manager                    124128.500000  120297.600000   \n",
              "Data Architect                            159139.000000  173852.875000   \n",
              "Data Engineer                              99547.162162  113981.134831   \n",
              "Data Engineering Manager                  132920.750000            NaN   \n",
              "Data Science Consultant                    77553.000000    5449.000000   \n",
              "Data Science Engineer                      89382.500000   38374.000000   \n",
              "Data Science Manager                      136662.000000  165692.833333   \n",
              "Data Scientist                             98647.177778  120672.623377   \n",
              "Data Specialist                           157548.000000            NaN   \n",
              "Director of Data Engineering              190967.000000  108351.000000   \n",
              "Director of Data Science                  203855.200000  124153.000000   \n",
              "ETL Developer                                       NaN   52475.000000   \n",
              "Finance Data Analyst                       59100.000000            NaN   \n",
              "Financial Data Analyst                    262579.000000            NaN   \n",
              "Head of Data                              180730.666667  190967.000000   \n",
              "Head of Data Science                                NaN  151779.000000   \n",
              "Head of Machine Learning                   75469.000000            NaN   \n",
              "Lead Data Analyst                          88038.666667            NaN   \n",
              "Lead Data Engineer                        263534.000000   53471.000000   \n",
              "Lead Data Scientist                        74272.000000            NaN   \n",
              "Lead Machine Learning Engineer                      NaN   83960.000000   \n",
              "ML Engineer                               139397.500000            NaN   \n",
              "Machine Learning Developer                          NaN   75232.000000   \n",
              "Machine Learning Engineer                  94016.615385  121007.875000   \n",
              "Machine Learning Infrastructure Engineer   55624.000000  117053.500000   \n",
              "Machine Learning Manager                  111815.000000            NaN   \n",
              "Machine Learning Scientist                172419.250000   78774.000000   \n",
              "Marketing Data Analyst                     84650.000000            NaN   \n",
              "NLP Engineer                               35554.000000            NaN   \n",
              "Principal Data Analyst                              NaN  162322.000000   \n",
              "Principal Data Engineer                   374772.000000  190967.000000   \n",
              "Principal Data Scientist                  192876.333333  154268.666667   \n",
              "Product Data Analyst                        5798.000000            NaN   \n",
              "Research Scientist                         92108.000000  183474.000000   \n",
              "Staff Data Scientist                                NaN  100258.000000   \n",
              "\n",
              "Company_Size                                          S  \n",
              "Designation                                              \n",
              "3D Computer Vision Researcher                       NaN  \n",
              "AI Scientist                               24173.000000  \n",
              "Analytics Engineer                                  NaN  \n",
              "Applied Data Scientist                              NaN  \n",
              "Applied Machine Learning Scientist                  NaN  \n",
              "BI Data Analyst                            30684.500000  \n",
              "Big Data Architect                                  NaN  \n",
              "Big Data Engineer                          63041.500000  \n",
              "Business Data Analyst                               NaN  \n",
              "Cloud Data Engineer                       152773.000000  \n",
              "Computer Vision Engineer                   42303.500000  \n",
              "Computer Vision Software Engineer         117323.500000  \n",
              "Data Analyst                               45601.875000  \n",
              "Data Analytics Engineer                             NaN  \n",
              "Data Analytics Lead                                 NaN  \n",
              "Data Analytics Manager                              NaN  \n",
              "Data Architect                                      NaN  \n",
              "Data Engineer                              63346.000000  \n",
              "Data Engineering Manager                   56625.000000  \n",
              "Data Science Consultant                    75296.333333  \n",
              "Data Science Engineer                               NaN  \n",
              "Data Science Manager                                NaN  \n",
              "Data Scientist                             49580.428571  \n",
              "Data Specialist                                     NaN  \n",
              "Director of Data Engineering                        NaN  \n",
              "Director of Data Science                  160412.000000  \n",
              "ETL Developer                                       NaN  \n",
              "Finance Data Analyst                                NaN  \n",
              "Financial Data Analyst                              NaN  \n",
              "Head of Data                               31485.000000  \n",
              "Head of Data Science                      105032.000000  \n",
              "Head of Machine Learning                            NaN  \n",
              "Lead Data Analyst                                   NaN  \n",
              "Lead Data Engineer                        120869.250000  \n",
              "Lead Data Scientist                       181418.000000  \n",
              "Lead Machine Learning Engineer                      NaN  \n",
              "ML Engineer                                98596.500000  \n",
              "Machine Learning Developer                 95483.000000  \n",
              "Machine Learning Engineer                  78960.333333  \n",
              "Machine Learning Infrastructure Engineer            NaN  \n",
              "Machine Learning Manager                            NaN  \n",
              "Machine Learning Scientist                181418.500000  \n",
              "Marketing Data Analyst                              NaN  \n",
              "NLP Engineer                                        NaN  \n",
              "Principal Data Analyst                     71613.000000  \n",
              "Principal Data Engineer                             NaN  \n",
              "Principal Data Scientist                  397211.000000  \n",
              "Product Data Analyst                       19097.000000  \n",
              "Research Scientist                         50958.500000  \n",
              "Staff Data Scientist                                NaN  "
            ],
            "text/html": [
              "\n",
              "  <div id=\"df-b9ddf87a-0215-4ba0-947f-04c5b1db9fb1\">\n",
              "    <div class=\"colab-df-container\">\n",
              "      <div>\n",
              "<style scoped>\n",
              "    .dataframe tbody tr th:only-of-type {\n",
              "        vertical-align: middle;\n",
              "    }\n",
              "\n",
              "    .dataframe tbody tr th {\n",
              "        vertical-align: top;\n",
              "    }\n",
              "\n",
              "    .dataframe thead th {\n",
              "        text-align: right;\n",
              "    }\n",
              "</style>\n",
              "<table border=\"1\" class=\"dataframe\">\n",
              "  <thead>\n",
              "    <tr style=\"text-align: right;\">\n",
              "      <th>Company_Size</th>\n",
              "      <th>L</th>\n",
              "      <th>M</th>\n",
              "      <th>S</th>\n",
              "    </tr>\n",
              "    <tr>\n",
              "      <th>Designation</th>\n",
              "      <th></th>\n",
              "      <th></th>\n",
              "      <th></th>\n",
              "    </tr>\n",
              "  </thead>\n",
              "  <tbody>\n",
              "    <tr>\n",
              "      <th>3D Computer Vision Researcher</th>\n",
              "      <td>NaN</td>\n",
              "      <td>5165.000000</td>\n",
              "      <td>NaN</td>\n",
              "    </tr>\n",
              "    <tr>\n",
              "      <th>AI Scientist</th>\n",
              "      <td>121741.500000</td>\n",
              "      <td>63019.000000</td>\n",
              "      <td>24173.000000</td>\n",
              "    </tr>\n",
              "    <tr>\n",
              "      <th>Analytics Engineer</th>\n",
              "      <td>NaN</td>\n",
              "      <td>167096.000000</td>\n",
              "      <td>NaN</td>\n",
              "    </tr>\n",
              "    <tr>\n",
              "      <th>Applied Data Scientist</th>\n",
              "      <td>167721.400000</td>\n",
              "      <td>NaN</td>\n",
              "      <td>NaN</td>\n",
              "    </tr>\n",
              "    <tr>\n",
              "      <th>Applied Machine Learning Scientist</th>\n",
              "      <td>237754.000000</td>\n",
              "      <td>33550.500000</td>\n",
              "      <td>NaN</td>\n",
              "    </tr>\n",
              "    <tr>\n",
              "      <th>BI Data Analyst</th>\n",
              "      <td>88923.000000</td>\n",
              "      <td>94528.500000</td>\n",
              "      <td>30684.500000</td>\n",
              "    </tr>\n",
              "    <tr>\n",
              "      <th>Big Data Architect</th>\n",
              "      <td>NaN</td>\n",
              "      <td>95200.000000</td>\n",
              "      <td>NaN</td>\n",
              "    </tr>\n",
              "    <tr>\n",
              "      <th>Big Data Engineer</th>\n",
              "      <td>27384.750000</td>\n",
              "      <td>80695.000000</td>\n",
              "      <td>63041.500000</td>\n",
              "    </tr>\n",
              "    <tr>\n",
              "      <th>Business Data Analyst</th>\n",
              "      <td>87132.000000</td>\n",
              "      <td>17609.000000</td>\n",
              "      <td>NaN</td>\n",
              "    </tr>\n",
              "    <tr>\n",
              "      <th>Cloud Data Engineer</th>\n",
              "      <td>85261.000000</td>\n",
              "      <td>NaN</td>\n",
              "      <td>152773.000000</td>\n",
              "    </tr>\n",
              "    <tr>\n",
              "      <th>Computer Vision Engineer</th>\n",
              "      <td>NaN</td>\n",
              "      <td>42467.750000</td>\n",
              "      <td>42303.500000</td>\n",
              "    </tr>\n",
              "    <tr>\n",
              "      <th>Computer Vision Software Engineer</th>\n",
              "      <td>NaN</td>\n",
              "      <td>66838.000000</td>\n",
              "      <td>117323.500000</td>\n",
              "    </tr>\n",
              "    <tr>\n",
              "      <th>Data Analyst</th>\n",
              "      <td>78084.230769</td>\n",
              "      <td>95049.368421</td>\n",
              "      <td>45601.875000</td>\n",
              "    </tr>\n",
              "    <tr>\n",
              "      <th>Data Analytics Engineer</th>\n",
              "      <td>90326.000000</td>\n",
              "      <td>33419.500000</td>\n",
              "      <td>NaN</td>\n",
              "    </tr>\n",
              "    <tr>\n",
              "      <th>Data Analytics Lead</th>\n",
              "      <td>386708.000000</td>\n",
              "      <td>NaN</td>\n",
              "      <td>NaN</td>\n",
              "    </tr>\n",
              "    <tr>\n",
              "      <th>Data Analytics Manager</th>\n",
              "      <td>124128.500000</td>\n",
              "      <td>120297.600000</td>\n",
              "      <td>NaN</td>\n",
              "    </tr>\n",
              "    <tr>\n",
              "      <th>Data Architect</th>\n",
              "      <td>159139.000000</td>\n",
              "      <td>173852.875000</td>\n",
              "      <td>NaN</td>\n",
              "    </tr>\n",
              "    <tr>\n",
              "      <th>Data Engineer</th>\n",
              "      <td>99547.162162</td>\n",
              "      <td>113981.134831</td>\n",
              "      <td>63346.000000</td>\n",
              "    </tr>\n",
              "    <tr>\n",
              "      <th>Data Engineering Manager</th>\n",
              "      <td>132920.750000</td>\n",
              "      <td>NaN</td>\n",
              "      <td>56625.000000</td>\n",
              "    </tr>\n",
              "    <tr>\n",
              "      <th>Data Science Consultant</th>\n",
              "      <td>77553.000000</td>\n",
              "      <td>5449.000000</td>\n",
              "      <td>75296.333333</td>\n",
              "    </tr>\n",
              "    <tr>\n",
              "      <th>Data Science Engineer</th>\n",
              "      <td>89382.500000</td>\n",
              "      <td>38374.000000</td>\n",
              "      <td>NaN</td>\n",
              "    </tr>\n",
              "    <tr>\n",
              "      <th>Data Science Manager</th>\n",
              "      <td>136662.000000</td>\n",
              "      <td>165692.833333</td>\n",
              "      <td>NaN</td>\n",
              "    </tr>\n",
              "    <tr>\n",
              "      <th>Data Scientist</th>\n",
              "      <td>98647.177778</td>\n",
              "      <td>120672.623377</td>\n",
              "      <td>49580.428571</td>\n",
              "    </tr>\n",
              "    <tr>\n",
              "      <th>Data Specialist</th>\n",
              "      <td>157548.000000</td>\n",
              "      <td>NaN</td>\n",
              "      <td>NaN</td>\n",
              "    </tr>\n",
              "    <tr>\n",
              "      <th>Director of Data Engineering</th>\n",
              "      <td>190967.000000</td>\n",
              "      <td>108351.000000</td>\n",
              "      <td>NaN</td>\n",
              "    </tr>\n",
              "    <tr>\n",
              "      <th>Director of Data Science</th>\n",
              "      <td>203855.200000</td>\n",
              "      <td>124153.000000</td>\n",
              "      <td>160412.000000</td>\n",
              "    </tr>\n",
              "    <tr>\n",
              "      <th>ETL Developer</th>\n",
              "      <td>NaN</td>\n",
              "      <td>52475.000000</td>\n",
              "      <td>NaN</td>\n",
              "    </tr>\n",
              "    <tr>\n",
              "      <th>Finance Data Analyst</th>\n",
              "      <td>59100.000000</td>\n",
              "      <td>NaN</td>\n",
              "      <td>NaN</td>\n",
              "    </tr>\n",
              "    <tr>\n",
              "      <th>Financial Data Analyst</th>\n",
              "      <td>262579.000000</td>\n",
              "      <td>NaN</td>\n",
              "      <td>NaN</td>\n",
              "    </tr>\n",
              "    <tr>\n",
              "      <th>Head of Data</th>\n",
              "      <td>180730.666667</td>\n",
              "      <td>190967.000000</td>\n",
              "      <td>31485.000000</td>\n",
              "    </tr>\n",
              "    <tr>\n",
              "      <th>Head of Data Science</th>\n",
              "      <td>NaN</td>\n",
              "      <td>151779.000000</td>\n",
              "      <td>105032.000000</td>\n",
              "    </tr>\n",
              "    <tr>\n",
              "      <th>Head of Machine Learning</th>\n",
              "      <td>75469.000000</td>\n",
              "      <td>NaN</td>\n",
              "      <td>NaN</td>\n",
              "    </tr>\n",
              "    <tr>\n",
              "      <th>Lead Data Analyst</th>\n",
              "      <td>88038.666667</td>\n",
              "      <td>NaN</td>\n",
              "      <td>NaN</td>\n",
              "    </tr>\n",
              "    <tr>\n",
              "      <th>Lead Data Engineer</th>\n",
              "      <td>263534.000000</td>\n",
              "      <td>53471.000000</td>\n",
              "      <td>120869.250000</td>\n",
              "    </tr>\n",
              "    <tr>\n",
              "      <th>Lead Data Scientist</th>\n",
              "      <td>74272.000000</td>\n",
              "      <td>NaN</td>\n",
              "      <td>181418.000000</td>\n",
              "    </tr>\n",
              "    <tr>\n",
              "      <th>Lead Machine Learning Engineer</th>\n",
              "      <td>NaN</td>\n",
              "      <td>83960.000000</td>\n",
              "      <td>NaN</td>\n",
              "    </tr>\n",
              "    <tr>\n",
              "      <th>ML Engineer</th>\n",
              "      <td>139397.500000</td>\n",
              "      <td>NaN</td>\n",
              "      <td>98596.500000</td>\n",
              "    </tr>\n",
              "    <tr>\n",
              "      <th>Machine Learning Developer</th>\n",
              "      <td>NaN</td>\n",
              "      <td>75232.000000</td>\n",
              "      <td>95483.000000</td>\n",
              "    </tr>\n",
              "    <tr>\n",
              "      <th>Machine Learning Engineer</th>\n",
              "      <td>94016.615385</td>\n",
              "      <td>121007.875000</td>\n",
              "      <td>78960.333333</td>\n",
              "    </tr>\n",
              "    <tr>\n",
              "      <th>Machine Learning Infrastructure Engineer</th>\n",
              "      <td>55624.000000</td>\n",
              "      <td>117053.500000</td>\n",
              "      <td>NaN</td>\n",
              "    </tr>\n",
              "    <tr>\n",
              "      <th>Machine Learning Manager</th>\n",
              "      <td>111815.000000</td>\n",
              "      <td>NaN</td>\n",
              "      <td>NaN</td>\n",
              "    </tr>\n",
              "    <tr>\n",
              "      <th>Machine Learning Scientist</th>\n",
              "      <td>172419.250000</td>\n",
              "      <td>78774.000000</td>\n",
              "      <td>181418.500000</td>\n",
              "    </tr>\n",
              "    <tr>\n",
              "      <th>Marketing Data Analyst</th>\n",
              "      <td>84650.000000</td>\n",
              "      <td>NaN</td>\n",
              "      <td>NaN</td>\n",
              "    </tr>\n",
              "    <tr>\n",
              "      <th>NLP Engineer</th>\n",
              "      <td>35554.000000</td>\n",
              "      <td>NaN</td>\n",
              "      <td>NaN</td>\n",
              "    </tr>\n",
              "    <tr>\n",
              "      <th>Principal Data Analyst</th>\n",
              "      <td>NaN</td>\n",
              "      <td>162322.000000</td>\n",
              "      <td>71613.000000</td>\n",
              "    </tr>\n",
              "    <tr>\n",
              "      <th>Principal Data Engineer</th>\n",
              "      <td>374772.000000</td>\n",
              "      <td>190967.000000</td>\n",
              "      <td>NaN</td>\n",
              "    </tr>\n",
              "    <tr>\n",
              "      <th>Principal Data Scientist</th>\n",
              "      <td>192876.333333</td>\n",
              "      <td>154268.666667</td>\n",
              "      <td>397211.000000</td>\n",
              "    </tr>\n",
              "    <tr>\n",
              "      <th>Product Data Analyst</th>\n",
              "      <td>5798.000000</td>\n",
              "      <td>NaN</td>\n",
              "      <td>19097.000000</td>\n",
              "    </tr>\n",
              "    <tr>\n",
              "      <th>Research Scientist</th>\n",
              "      <td>92108.000000</td>\n",
              "      <td>183474.000000</td>\n",
              "      <td>50958.500000</td>\n",
              "    </tr>\n",
              "    <tr>\n",
              "      <th>Staff Data Scientist</th>\n",
              "      <td>NaN</td>\n",
              "      <td>100258.000000</td>\n",
              "      <td>NaN</td>\n",
              "    </tr>\n",
              "  </tbody>\n",
              "</table>\n",
              "</div>\n",
              "      <button class=\"colab-df-convert\" onclick=\"convertToInteractive('df-b9ddf87a-0215-4ba0-947f-04c5b1db9fb1')\"\n",
              "              title=\"Convert this dataframe to an interactive table.\"\n",
              "              style=\"display:none;\">\n",
              "        \n",
              "  <svg xmlns=\"http://www.w3.org/2000/svg\" height=\"24px\"viewBox=\"0 0 24 24\"\n",
              "       width=\"24px\">\n",
              "    <path d=\"M0 0h24v24H0V0z\" fill=\"none\"/>\n",
              "    <path d=\"M18.56 5.44l.94 2.06.94-2.06 2.06-.94-2.06-.94-.94-2.06-.94 2.06-2.06.94zm-11 1L8.5 8.5l.94-2.06 2.06-.94-2.06-.94L8.5 2.5l-.94 2.06-2.06.94zm10 10l.94 2.06.94-2.06 2.06-.94-2.06-.94-.94-2.06-.94 2.06-2.06.94z\"/><path d=\"M17.41 7.96l-1.37-1.37c-.4-.4-.92-.59-1.43-.59-.52 0-1.04.2-1.43.59L10.3 9.45l-7.72 7.72c-.78.78-.78 2.05 0 2.83L4 21.41c.39.39.9.59 1.41.59.51 0 1.02-.2 1.41-.59l7.78-7.78 2.81-2.81c.8-.78.8-2.07 0-2.86zM5.41 20L4 18.59l7.72-7.72 1.47 1.35L5.41 20z\"/>\n",
              "  </svg>\n",
              "      </button>\n",
              "      \n",
              "  <style>\n",
              "    .colab-df-container {\n",
              "      display:flex;\n",
              "      flex-wrap:wrap;\n",
              "      gap: 12px;\n",
              "    }\n",
              "\n",
              "    .colab-df-convert {\n",
              "      background-color: #E8F0FE;\n",
              "      border: none;\n",
              "      border-radius: 50%;\n",
              "      cursor: pointer;\n",
              "      display: none;\n",
              "      fill: #1967D2;\n",
              "      height: 32px;\n",
              "      padding: 0 0 0 0;\n",
              "      width: 32px;\n",
              "    }\n",
              "\n",
              "    .colab-df-convert:hover {\n",
              "      background-color: #E2EBFA;\n",
              "      box-shadow: 0px 1px 2px rgba(60, 64, 67, 0.3), 0px 1px 3px 1px rgba(60, 64, 67, 0.15);\n",
              "      fill: #174EA6;\n",
              "    }\n",
              "\n",
              "    [theme=dark] .colab-df-convert {\n",
              "      background-color: #3B4455;\n",
              "      fill: #D2E3FC;\n",
              "    }\n",
              "\n",
              "    [theme=dark] .colab-df-convert:hover {\n",
              "      background-color: #434B5C;\n",
              "      box-shadow: 0px 1px 3px 1px rgba(0, 0, 0, 0.15);\n",
              "      filter: drop-shadow(0px 1px 2px rgba(0, 0, 0, 0.3));\n",
              "      fill: #FFFFFF;\n",
              "    }\n",
              "  </style>\n",
              "\n",
              "      <script>\n",
              "        const buttonEl =\n",
              "          document.querySelector('#df-b9ddf87a-0215-4ba0-947f-04c5b1db9fb1 button.colab-df-convert');\n",
              "        buttonEl.style.display =\n",
              "          google.colab.kernel.accessAllowed ? 'block' : 'none';\n",
              "\n",
              "        async function convertToInteractive(key) {\n",
              "          const element = document.querySelector('#df-b9ddf87a-0215-4ba0-947f-04c5b1db9fb1');\n",
              "          const dataTable =\n",
              "            await google.colab.kernel.invokeFunction('convertToInteractive',\n",
              "                                                     [key], {});\n",
              "          if (!dataTable) return;\n",
              "\n",
              "          const docLinkHtml = 'Like what you see? Visit the ' +\n",
              "            '<a target=\"_blank\" href=https://colab.research.google.com/notebooks/data_table.ipynb>data table notebook</a>'\n",
              "            + ' to learn more about interactive tables.';\n",
              "          element.innerHTML = '';\n",
              "          dataTable['output_type'] = 'display_data';\n",
              "          await google.colab.output.renderOutput(dataTable, element);\n",
              "          const docLink = document.createElement('div');\n",
              "          docLink.innerHTML = docLinkHtml;\n",
              "          element.appendChild(docLink);\n",
              "        }\n",
              "      </script>\n",
              "    </div>\n",
              "  </div>\n",
              "  "
            ]
          },
          "metadata": {}
        }
      ]
    },
    {
      "cell_type": "markdown",
      "source": [
        "### **Generating new features**\n"
      ],
      "metadata": {
        "id": "NxvoYOhbmPMN"
      }
    },
    {
      "cell_type": "markdown",
      "source": [
        "#### **Extracting features for correlation**\n"
      ],
      "metadata": {
        "id": "YQSK2wo5mR7g"
      }
    },
    {
      "cell_type": "code",
      "source": [
        "# Adding random dates and months in `Working_Year` column\n",
        "# Convert \"Working_Year\" column to datetime type\n",
        "salaries[\"Working_Year\"] = pd.to_datetime(salaries[\"Working_Year\"], format=\"%Y\")\n",
        "\n",
        "# Generate random dates and months\n",
        "random_dates = pd.to_datetime(np.random.choice(pd.date_range(start='2022-01-01', end='2022-12-31'), size=len(salaries)))\n",
        "random_months = random_dates.month\n",
        "\n",
        "# Create a new DataFrame with modified \"Working_Year\" column\n",
        "new_salaries = salaries.copy()\n",
        "new_salaries[\"Response_Date\"] = random_dates\n",
        "\n",
        "# Convert USD to INR using an exchange rate (example: 1 USD = 82.44 INR)\n",
        "exchange_rate = 82.44\n",
        "new_salaries[\"Salary_INR\"] = new_salaries[\"Salary_USD\"] * exchange_rate\n",
        "\n",
        "# Print the new DataFrame\n",
        "display(new_salaries)"
      ],
      "metadata": {
        "colab": {
          "base_uri": "https://localhost:8080/",
          "height": 424
        },
        "id": "rC8NXBMZ9eW_",
        "outputId": "82043838-d259-42f0-b060-09179ba70cd8"
      },
      "execution_count": 50,
      "outputs": [
        {
          "output_type": "display_data",
          "data": {
            "text/plain": [
              "    Working_Year                 Designation Experience Employment_Status  \\\n",
              "0     2020-01-01              Data Scientist        Mid                FT   \n",
              "1     2020-01-01  Machine Learning Scientist     Senior                FT   \n",
              "2     2020-01-01           Big Data Engineer     Senior                FT   \n",
              "3     2020-01-01        Product Data Analyst        Mid                FT   \n",
              "4     2020-01-01   Machine Learning Engineer     Senior                FT   \n",
              "..           ...                         ...        ...               ...   \n",
              "602   2022-01-01               Data Engineer     Senior                FT   \n",
              "603   2022-01-01               Data Engineer     Senior                FT   \n",
              "604   2022-01-01                Data Analyst     Senior                FT   \n",
              "605   2022-01-01                Data Analyst     Senior                FT   \n",
              "606   2022-01-01                AI Scientist        Mid                FT   \n",
              "\n",
              "    Employee_Location Company_Size  Remote_Working_Ratio  Salary_USD  \\\n",
              "0                  DE            L                     0     76227.0   \n",
              "1                  JP            S                     0    248257.0   \n",
              "2                  GB            M                    50    104100.0   \n",
              "3                  HN            S                     0     19097.0   \n",
              "4                  US            L                    50    143225.0   \n",
              "..                ...          ...                   ...         ...   \n",
              "602                US            M                   100    147044.0   \n",
              "603                US            M                   100    120309.0   \n",
              "604                US            M                     0    123174.0   \n",
              "605                US            M                   100    143225.0   \n",
              "606                IN            L                   100    190967.0   \n",
              "\n",
              "    Response_Date   Salary_INR  \n",
              "0      2022-03-16   6284153.88  \n",
              "1      2022-03-22  20466307.08  \n",
              "2      2022-05-16   8582004.00  \n",
              "3      2022-01-13   1574356.68  \n",
              "4      2022-11-02  11807469.00  \n",
              "..            ...          ...  \n",
              "602    2022-01-03  12122307.36  \n",
              "603    2022-10-03   9918273.96  \n",
              "604    2022-12-04  10154464.56  \n",
              "605    2022-03-03  11807469.00  \n",
              "606    2022-01-21  15743319.48  \n",
              "\n",
              "[607 rows x 10 columns]"
            ],
            "text/html": [
              "\n",
              "  <div id=\"df-9b585b38-7f85-4d6a-866e-2663fc82746d\">\n",
              "    <div class=\"colab-df-container\">\n",
              "      <div>\n",
              "<style scoped>\n",
              "    .dataframe tbody tr th:only-of-type {\n",
              "        vertical-align: middle;\n",
              "    }\n",
              "\n",
              "    .dataframe tbody tr th {\n",
              "        vertical-align: top;\n",
              "    }\n",
              "\n",
              "    .dataframe thead th {\n",
              "        text-align: right;\n",
              "    }\n",
              "</style>\n",
              "<table border=\"1\" class=\"dataframe\">\n",
              "  <thead>\n",
              "    <tr style=\"text-align: right;\">\n",
              "      <th></th>\n",
              "      <th>Working_Year</th>\n",
              "      <th>Designation</th>\n",
              "      <th>Experience</th>\n",
              "      <th>Employment_Status</th>\n",
              "      <th>Employee_Location</th>\n",
              "      <th>Company_Size</th>\n",
              "      <th>Remote_Working_Ratio</th>\n",
              "      <th>Salary_USD</th>\n",
              "      <th>Response_Date</th>\n",
              "      <th>Salary_INR</th>\n",
              "    </tr>\n",
              "  </thead>\n",
              "  <tbody>\n",
              "    <tr>\n",
              "      <th>0</th>\n",
              "      <td>2020-01-01</td>\n",
              "      <td>Data Scientist</td>\n",
              "      <td>Mid</td>\n",
              "      <td>FT</td>\n",
              "      <td>DE</td>\n",
              "      <td>L</td>\n",
              "      <td>0</td>\n",
              "      <td>76227.0</td>\n",
              "      <td>2022-03-16</td>\n",
              "      <td>6284153.88</td>\n",
              "    </tr>\n",
              "    <tr>\n",
              "      <th>1</th>\n",
              "      <td>2020-01-01</td>\n",
              "      <td>Machine Learning Scientist</td>\n",
              "      <td>Senior</td>\n",
              "      <td>FT</td>\n",
              "      <td>JP</td>\n",
              "      <td>S</td>\n",
              "      <td>0</td>\n",
              "      <td>248257.0</td>\n",
              "      <td>2022-03-22</td>\n",
              "      <td>20466307.08</td>\n",
              "    </tr>\n",
              "    <tr>\n",
              "      <th>2</th>\n",
              "      <td>2020-01-01</td>\n",
              "      <td>Big Data Engineer</td>\n",
              "      <td>Senior</td>\n",
              "      <td>FT</td>\n",
              "      <td>GB</td>\n",
              "      <td>M</td>\n",
              "      <td>50</td>\n",
              "      <td>104100.0</td>\n",
              "      <td>2022-05-16</td>\n",
              "      <td>8582004.00</td>\n",
              "    </tr>\n",
              "    <tr>\n",
              "      <th>3</th>\n",
              "      <td>2020-01-01</td>\n",
              "      <td>Product Data Analyst</td>\n",
              "      <td>Mid</td>\n",
              "      <td>FT</td>\n",
              "      <td>HN</td>\n",
              "      <td>S</td>\n",
              "      <td>0</td>\n",
              "      <td>19097.0</td>\n",
              "      <td>2022-01-13</td>\n",
              "      <td>1574356.68</td>\n",
              "    </tr>\n",
              "    <tr>\n",
              "      <th>4</th>\n",
              "      <td>2020-01-01</td>\n",
              "      <td>Machine Learning Engineer</td>\n",
              "      <td>Senior</td>\n",
              "      <td>FT</td>\n",
              "      <td>US</td>\n",
              "      <td>L</td>\n",
              "      <td>50</td>\n",
              "      <td>143225.0</td>\n",
              "      <td>2022-11-02</td>\n",
              "      <td>11807469.00</td>\n",
              "    </tr>\n",
              "    <tr>\n",
              "      <th>...</th>\n",
              "      <td>...</td>\n",
              "      <td>...</td>\n",
              "      <td>...</td>\n",
              "      <td>...</td>\n",
              "      <td>...</td>\n",
              "      <td>...</td>\n",
              "      <td>...</td>\n",
              "      <td>...</td>\n",
              "      <td>...</td>\n",
              "      <td>...</td>\n",
              "    </tr>\n",
              "    <tr>\n",
              "      <th>602</th>\n",
              "      <td>2022-01-01</td>\n",
              "      <td>Data Engineer</td>\n",
              "      <td>Senior</td>\n",
              "      <td>FT</td>\n",
              "      <td>US</td>\n",
              "      <td>M</td>\n",
              "      <td>100</td>\n",
              "      <td>147044.0</td>\n",
              "      <td>2022-01-03</td>\n",
              "      <td>12122307.36</td>\n",
              "    </tr>\n",
              "    <tr>\n",
              "      <th>603</th>\n",
              "      <td>2022-01-01</td>\n",
              "      <td>Data Engineer</td>\n",
              "      <td>Senior</td>\n",
              "      <td>FT</td>\n",
              "      <td>US</td>\n",
              "      <td>M</td>\n",
              "      <td>100</td>\n",
              "      <td>120309.0</td>\n",
              "      <td>2022-10-03</td>\n",
              "      <td>9918273.96</td>\n",
              "    </tr>\n",
              "    <tr>\n",
              "      <th>604</th>\n",
              "      <td>2022-01-01</td>\n",
              "      <td>Data Analyst</td>\n",
              "      <td>Senior</td>\n",
              "      <td>FT</td>\n",
              "      <td>US</td>\n",
              "      <td>M</td>\n",
              "      <td>0</td>\n",
              "      <td>123174.0</td>\n",
              "      <td>2022-12-04</td>\n",
              "      <td>10154464.56</td>\n",
              "    </tr>\n",
              "    <tr>\n",
              "      <th>605</th>\n",
              "      <td>2022-01-01</td>\n",
              "      <td>Data Analyst</td>\n",
              "      <td>Senior</td>\n",
              "      <td>FT</td>\n",
              "      <td>US</td>\n",
              "      <td>M</td>\n",
              "      <td>100</td>\n",
              "      <td>143225.0</td>\n",
              "      <td>2022-03-03</td>\n",
              "      <td>11807469.00</td>\n",
              "    </tr>\n",
              "    <tr>\n",
              "      <th>606</th>\n",
              "      <td>2022-01-01</td>\n",
              "      <td>AI Scientist</td>\n",
              "      <td>Mid</td>\n",
              "      <td>FT</td>\n",
              "      <td>IN</td>\n",
              "      <td>L</td>\n",
              "      <td>100</td>\n",
              "      <td>190967.0</td>\n",
              "      <td>2022-01-21</td>\n",
              "      <td>15743319.48</td>\n",
              "    </tr>\n",
              "  </tbody>\n",
              "</table>\n",
              "<p>607 rows × 10 columns</p>\n",
              "</div>\n",
              "      <button class=\"colab-df-convert\" onclick=\"convertToInteractive('df-9b585b38-7f85-4d6a-866e-2663fc82746d')\"\n",
              "              title=\"Convert this dataframe to an interactive table.\"\n",
              "              style=\"display:none;\">\n",
              "        \n",
              "  <svg xmlns=\"http://www.w3.org/2000/svg\" height=\"24px\"viewBox=\"0 0 24 24\"\n",
              "       width=\"24px\">\n",
              "    <path d=\"M0 0h24v24H0V0z\" fill=\"none\"/>\n",
              "    <path d=\"M18.56 5.44l.94 2.06.94-2.06 2.06-.94-2.06-.94-.94-2.06-.94 2.06-2.06.94zm-11 1L8.5 8.5l.94-2.06 2.06-.94-2.06-.94L8.5 2.5l-.94 2.06-2.06.94zm10 10l.94 2.06.94-2.06 2.06-.94-2.06-.94-.94-2.06-.94 2.06-2.06.94z\"/><path d=\"M17.41 7.96l-1.37-1.37c-.4-.4-.92-.59-1.43-.59-.52 0-1.04.2-1.43.59L10.3 9.45l-7.72 7.72c-.78.78-.78 2.05 0 2.83L4 21.41c.39.39.9.59 1.41.59.51 0 1.02-.2 1.41-.59l7.78-7.78 2.81-2.81c.8-.78.8-2.07 0-2.86zM5.41 20L4 18.59l7.72-7.72 1.47 1.35L5.41 20z\"/>\n",
              "  </svg>\n",
              "      </button>\n",
              "      \n",
              "  <style>\n",
              "    .colab-df-container {\n",
              "      display:flex;\n",
              "      flex-wrap:wrap;\n",
              "      gap: 12px;\n",
              "    }\n",
              "\n",
              "    .colab-df-convert {\n",
              "      background-color: #E8F0FE;\n",
              "      border: none;\n",
              "      border-radius: 50%;\n",
              "      cursor: pointer;\n",
              "      display: none;\n",
              "      fill: #1967D2;\n",
              "      height: 32px;\n",
              "      padding: 0 0 0 0;\n",
              "      width: 32px;\n",
              "    }\n",
              "\n",
              "    .colab-df-convert:hover {\n",
              "      background-color: #E2EBFA;\n",
              "      box-shadow: 0px 1px 2px rgba(60, 64, 67, 0.3), 0px 1px 3px 1px rgba(60, 64, 67, 0.15);\n",
              "      fill: #174EA6;\n",
              "    }\n",
              "\n",
              "    [theme=dark] .colab-df-convert {\n",
              "      background-color: #3B4455;\n",
              "      fill: #D2E3FC;\n",
              "    }\n",
              "\n",
              "    [theme=dark] .colab-df-convert:hover {\n",
              "      background-color: #434B5C;\n",
              "      box-shadow: 0px 1px 3px 1px rgba(0, 0, 0, 0.15);\n",
              "      filter: drop-shadow(0px 1px 2px rgba(0, 0, 0, 0.3));\n",
              "      fill: #FFFFFF;\n",
              "    }\n",
              "  </style>\n",
              "\n",
              "      <script>\n",
              "        const buttonEl =\n",
              "          document.querySelector('#df-9b585b38-7f85-4d6a-866e-2663fc82746d button.colab-df-convert');\n",
              "        buttonEl.style.display =\n",
              "          google.colab.kernel.accessAllowed ? 'block' : 'none';\n",
              "\n",
              "        async function convertToInteractive(key) {\n",
              "          const element = document.querySelector('#df-9b585b38-7f85-4d6a-866e-2663fc82746d');\n",
              "          const dataTable =\n",
              "            await google.colab.kernel.invokeFunction('convertToInteractive',\n",
              "                                                     [key], {});\n",
              "          if (!dataTable) return;\n",
              "\n",
              "          const docLinkHtml = 'Like what you see? Visit the ' +\n",
              "            '<a target=\"_blank\" href=https://colab.research.google.com/notebooks/data_table.ipynb>data table notebook</a>'\n",
              "            + ' to learn more about interactive tables.';\n",
              "          element.innerHTML = '';\n",
              "          dataTable['output_type'] = 'display_data';\n",
              "          await google.colab.output.renderOutput(dataTable, element);\n",
              "          const docLink = document.createElement('div');\n",
              "          docLink.innerHTML = docLinkHtml;\n",
              "          element.appendChild(docLink);\n",
              "        }\n",
              "      </script>\n",
              "    </div>\n",
              "  </div>\n",
              "  "
            ]
          },
          "metadata": {}
        }
      ]
    },
    {
      "cell_type": "code",
      "source": [
        "# Get the month of the response\n",
        "new_salaries[\"month\"] = new_salaries[\"Response_Date\"].dt.month\n",
        "\n",
        "# Extract the weekday of the response\n",
        "new_salaries[\"weekday\"] = new_salaries[\"Response_Date\"].dt.weekday\n",
        "\n",
        "# Create a heatmap\n",
        "sns.heatmap(new_salaries.corr(numeric_only=True), annot=True)\n",
        "plt.show()"
      ],
      "metadata": {
        "id": "wLRke6UVmgr8",
        "colab": {
          "base_uri": "https://localhost:8080/",
          "height": 582
        },
        "outputId": "6a1d03c2-cc90-49ad-98ef-77eee981e50c"
      },
      "execution_count": 51,
      "outputs": [
        {
          "output_type": "display_data",
          "data": {
            "text/plain": [
              "<Figure size 640x480 with 2 Axes>"
            ],
            "image/png": "[encoded data removed]"
          },
          "metadata": {}
        }
      ]
    },
    {
      "cell_type": "markdown",
      "source": [
        "#### **Calculating salary percentiles**\n"
      ],
      "metadata": {
        "id": "F0cLis20mTnS"
      }
    },
    {
      "cell_type": "code",
      "source": [
        "# Find the 25th percentile\n",
        "twenty_fifth = salaries[\"Salary_USD\"].quantile(0.25)\n",
        "\n",
        "# Save the median\n",
        "salaries_median = salaries[\"Salary_USD\"].median()\n",
        "\n",
        "# Gather the 75th percentile\n",
        "seventy_fifth = salaries[\"Salary_USD\"].quantile(0.75)\n",
        "print(twenty_fifth, salaries_median, seventy_fifth)"
      ],
      "metadata": {
        "id": "40_nkS2zmhRx",
        "colab": {
          "base_uri": "https://localhost:8080/"
        },
        "outputId": "55180353-12a3-4cad-b83a-33fde4f55fea"
      },
      "execution_count": 52,
      "outputs": [
        {
          "output_type": "stream",
          "name": "stdout",
          "text": [
            "59893.0 96982.0 143225.0\n"
          ]
        }
      ]
    },
    {
      "cell_type": "markdown",
      "source": [
        "#### **Categorizing salaries**\n"
      ],
      "metadata": {
        "id": "LtptSMFUmVx4"
      }
    },
    {
      "cell_type": "code",
      "source": [
        "# Create salary labels\n",
        "salary_labels = [\"entry\", \"mid\", \"senior\", \"exec\"]\n",
        "\n",
        "# Create the salary ranges list\n",
        "salary_ranges = [0, twenty_fifth, salaries_median, seventy_fifth, salaries[\"Salary_USD\"].max()]\n",
        "\n",
        "# Create salary_level\n",
        "salaries[\"salary_level\"] = pd.cut(salaries[\"Salary_USD\"],\n",
        "                                  bins=salary_ranges,\n",
        "                                  labels=salary_labels)\n",
        "\n",
        "# Plot the count of salary levels at companies of different sizes\n",
        "sns.countplot(data=salaries, x=\"Company_Size\", hue=\"salary_level\")\n",
        "plt.show()"
      ],
      "metadata": {
        "id": "KfabQbEHmh5q",
        "colab": {
          "base_uri": "https://localhost:8080/",
          "height": 450
        },
        "outputId": "11721f73-3a49-4b63-accd-ec8c927a364d"
      },
      "execution_count": 53,
      "outputs": [
        {
          "output_type": "display_data",
          "data": {
            "text/plain": [
              "<Figure size 640x480 with 1 Axes>"
            ],
            "image/png": "[encoded data removed]"
          },
          "metadata": {}
        }
      ]
    },
    {
      "cell_type": "markdown",
      "source": [
        "By using `pd.cut()` to split out numeric data into categories, you can see that a large proportion of workers at small companies get paid \"entry\" level salaries, while more staff at medium-sized companies are rewarded with \"senior\" level salary. Now let's look at generating hypotheses as you reach the end of the EDA phase!"
      ],
      "metadata": {
        "id": "BKgNOHSvBhyx"
      }
    },
    {
      "cell_type": "markdown",
      "source": [
        "### **Generating hypotheses**\n"
      ],
      "metadata": {
        "id": "kH1EQOCgmYCF"
      }
    },
    {
      "cell_type": "markdown",
      "source": [
        "#### **Comparing salaries**\n"
      ],
      "metadata": {
        "id": "5b8vUrIHmZid"
      }
    },
    {
      "cell_type": "code",
      "source": [
        "# Filter for employees in the US or GB\n",
        "usa_and_gb = salaries[salaries[\"Employee_Location\"].isin([\"US\", \"GB\"])]\n",
        "\n",
        "# Create a barplot of salaries by location\n",
        "sns.barplot(data=usa_and_gb, x=\"Employee_Location\", y=\"Salary_USD\")\n",
        "plt.show()"
      ],
      "metadata": {
        "id": "N5pPGPkLmif7",
        "colab": {
          "base_uri": "https://localhost:8080/",
          "height": 450
        },
        "outputId": "1d274aee-92ac-421e-e538-a3e016404b35"
      },
      "execution_count": 54,
      "outputs": [
        {
          "output_type": "display_data",
          "data": {
            "text/plain": [
              "<Figure size 640x480 with 1 Axes>"
            ],
            "image/png": "[encoded data removed]"
          },
          "metadata": {}
        }
      ]
    },
    {
      "cell_type": "markdown",
      "source": [
        "#### **Choosing a hypothesis**\n"
      ],
      "metadata": {
        "id": "U7lLzCqwmbDV"
      }
    },
    {
      "cell_type": "code",
      "source": [
        "# Create a bar plot of salary versus company size, factoring in employment status\n",
        "sns.barplot(data=salaries, x=\"Company_Size\", y=\"Salary_USD\", hue=\"Employment_Status\")\n",
        "plt.show()"
      ],
      "metadata": {
        "id": "kdMcraWumjGg",
        "colab": {
          "base_uri": "https://localhost:8080/",
          "height": 450
        },
        "outputId": "17cf4e6b-37ce-47c7-c4be-3809e273b286"
      },
      "execution_count": 55,
      "outputs": [
        {
          "output_type": "display_data",
          "data": {
            "text/plain": [
              "<Figure size 640x480 with 1 Axes>"
            ],
            "image/png": "[encoded data removed]"
          },
          "metadata": {}
        }
      ]
    },
    {
      "cell_type": "markdown",
      "source": [
        "**What is a reasonable hypothesis to generate based on this plot?**\n",
        "\n"
      ],
      "metadata": {
        "id": "NQbeCfHZCCaP"
      }
    },
    {
      "cell_type": "markdown",
      "source": [
        "#### $\\color{skyblue}{\\textbf{Connect with me:}}$\n",
        "\n",
        "\n",
        "[<img align=\"left\" src=\"https://cdn4.iconfinder.com/data/icons/social-media-icons-the-circle-set/48/twitter_circle-512.png\" width=\"32px\"/>][twitter]\n",
        "[<img align=\"left\" src=\"https://cdn-icons-png.flaticon.com/512/145/145807.png\" width=\"32px\"/>][linkedin]\n",
        "[<img align=\"left\" src=\"https://cdn2.iconfinder.com/data/icons/whcompare-blue-green-web-hosting-1/425/cdn-512.png\" width=\"32px\"/>][Portfolio]\n",
        "\n",
        "[twitter]: https://twitter.com/F4izy\n",
        "[linkedin]: https://www.linkedin.com/in/mohd-faizy/\n",
        "[Portfolio]: https://mohdfaizy.com/"
      ],
      "metadata": {
        "id": "GuzwV2eSEd55"
      }
    }
  ]
}