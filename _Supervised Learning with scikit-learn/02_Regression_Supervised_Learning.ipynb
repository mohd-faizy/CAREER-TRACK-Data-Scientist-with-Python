{
  "nbformat": 4,
  "nbformat_minor": 0,
  "metadata": {
    "colab": {
      "name": "02_Regression_Supervised_Learning.ipynb",
      "provenance": [],
      "toc_visible": true,
      "authorship_tag": "ABX9TyOtcxetE1CFngpZ5BXKHSIZ",
      "include_colab_link": true
    },
    "kernelspec": {
      "name": "python3",
      "display_name": "Python 3"
    }
  },
  "cells": [
    {
      "cell_type": "markdown",
      "metadata": {
        "id": "view-in-github",
        "colab_type": "text"
      },
      "source": [
        "<a href=\"https://colab.research.google.com/github/mohd-faizy/CAREER-TRACK-Data-Scientist-with-Python/blob/main/02_Regression_Supervised_Learning.ipynb\" target=\"_parent\"><img src=\"https://colab.research.google.com/assets/colab-badge.svg\" alt=\"Open In Colab\"/></a>"
      ]
    },
    {
      "cell_type": "markdown",
      "metadata": {
        "id": "yKwwHeOPKaUx"
      },
      "source": [
        "--- \r\n",
        "<strong> \r\n",
        "    <h1 align='center'>Regression</h1> \r\n",
        "</strong>\r\n",
        "\r\n",
        "---"
      ]
    },
    {
      "cell_type": "markdown",
      "metadata": {
        "id": "eJZEZ1AmKF1-"
      },
      "source": [
        "In the previous Notebook, we have used **image** and **political** datasets to predict binary and multiclass outcomes. But what if your problem requires a continuous outcome? Regression is best suited to solving such problems. You will learn about fundamental concepts in regression and apply them to predict the life expectancy in a given country using Gapminder data"
      ]
    },
    {
      "cell_type": "markdown",
      "metadata": {
        "id": "JOOL0YFHKsA_"
      },
      "source": [
        "## The basics of linear regression\n",
        "- Regression mechanics\n",
        "    - $y = ax + b$\n",
        "        - $y$ = target\n",
        "        - $x$ = single feature\n",
        "        - $a, b$ = parameters of model\n",
        "    - Define an error functions for any given line\n",
        "        - Choose the line that minimizes the error function\n",
        "- The loss function\n",
        "    - Ordinary least squares (OLD) : Minimize sum of squares of residuals\n",
        "- Linear regression in higher dimensions\n",
        "$$ y = a_1 x_1 + a_2 x_2 + b $$\n",
        "    - To fit a linear regression model here:\n",
        "        - Need to specify 3 variables\n",
        "    - In higher dimensions:\n",
        "        - Must specify coefficient for each feature and the variable b\n",
        "           $ y = a_1x_1 + a_2x_2 + a_3x_3 + \\dots + a_nx_n + b $\n"
      ]
    },
    {
      "cell_type": "code",
      "metadata": {
        "colab": {
          "base_uri": "https://localhost:8080/"
        },
        "id": "eHRsiSczR0fB",
        "outputId": "4860207d-c640-4645-cee6-14cfe609f966"
      },
      "source": [
        "! git clone https://github.com/mohd-faizy/CAREER-TRACK-Data-Scientist-with-Python.git"
      ],
      "execution_count": 1,
      "outputs": [
        {
          "output_type": "stream",
          "text": [
            "Cloning into 'CAREER-TRACK-Data-Scientist-with-Python'...\n",
            "remote: Enumerating objects: 9, done.\u001b[K\n",
            "remote: Counting objects: 100% (9/9), done.\u001b[K\n",
            "remote: Compressing objects: 100% (9/9), done.\u001b[K\n",
            "remote: Total 2195 (delta 2), reused 2 (delta 0), pack-reused 2186\u001b[K\n",
            "Receiving objects: 100% (2195/2195), 269.52 MiB | 34.26 MiB/s, done.\n",
            "Resolving deltas: 100% (780/780), done.\n",
            "Checking out files: 100% (930/930), done.\n"
          ],
          "name": "stdout"
        }
      ]
    },
    {
      "cell_type": "code",
      "metadata": {
        "id": "KJN0hZ3RWQsh"
      },
      "source": [
        "import pandas as pd\r\n",
        "import numpy as np\r\n",
        "import matplotlib.pyplot as plt\r\n",
        "import seaborn as sns\r\n",
        "import os\r\n",
        "\r\n",
        "#plt.style.use('ggplot')\r\n",
        "sns.set_theme(style='whitegrid')\r\n",
        "%matplotlib inline"
      ],
      "execution_count": 2,
      "outputs": []
    },
    {
      "cell_type": "code",
      "metadata": {
        "colab": {
          "base_uri": "https://localhost:8080/"
        },
        "id": "nu0TmPzKTj2V",
        "outputId": "2119e372-4bad-40e6-a410-289c104d3953"
      },
      "source": [
        "os.chdir('/content/CAREER-TRACK-Data-Scientist-with-Python/25_Supervised Learning with scikit-learn/_dataset')\r\n",
        "cwd = os.getcwd()\r\n",
        "print('Curent working directory is ', cwd)"
      ],
      "execution_count": 3,
      "outputs": [
        {
          "output_type": "stream",
          "text": [
            "Curent working directory is  /content/CAREER-TRACK-Data-Scientist-with-Python/25_Supervised Learning with scikit-learn/_dataset\n"
          ],
          "name": "stdout"
        }
      ]
    },
    {
      "cell_type": "code",
      "metadata": {
        "colab": {
          "base_uri": "https://localhost:8080/"
        },
        "id": "b6FFGoWhUD1G",
        "outputId": "3c334bc6-b580-4773-9bd4-dd739434fb68"
      },
      "source": [
        "ls"
      ],
      "execution_count": 4,
      "outputs": [
        {
          "output_type": "stream",
          "text": [
            "automobile_miles_per_gallon.csv  gm_2008_region.csv\n",
            "boston_housing.csv               house-votes-84.csv\n",
            "diabetes.csv                     house-votes-84_missing_data.csv\n",
            "gapminder_2008_region.csv        PIMA_Indians.csv\n",
            "gapminder_all.csv                white-wine.csv\n",
            "gapminder_drop_region.csv        winequality-red.csv\n"
          ],
          "name": "stdout"
        }
      ]
    },
    {
      "cell_type": "markdown",
      "metadata": {
        "id": "xJDaPVcpKsA4"
      },
      "source": [
        "## __Introduction to Regression__"
      ]
    },
    {
      "cell_type": "markdown",
      "metadata": {
        "id": "VpHYuhiCKsA5"
      },
      "source": [
        "### Importing data for supervised learning"
      ]
    },
    {
      "cell_type": "code",
      "metadata": {
        "id": "ZABPNOOmKsA6",
        "colab": {
          "base_uri": "https://localhost:8080/"
        },
        "outputId": "b275c84a-1718-4781-d9c8-37f18ad78549"
      },
      "source": [
        "# Read the CSV file into a DataFrame: df\n",
        "df = pd.read_csv('gm_2008_region.csv')\n",
        "df.drop(labels=['Region'], axis='columns', inplace=True)\n",
        "\n",
        "# Create arrays for features and target variable\n",
        "y = df['life'].values\n",
        "X = df['fertility'].values\n",
        "\n",
        "# Print the dimensions of X and y before reshaping\n",
        "print(\"Dimensions of y before reshaping: {}\".format(y.shape))\n",
        "print(\"Dimensions of X before reshaping: {}\".format(X.shape))\n",
        "\n",
        "# Reshaping the arrays by using the `.reshape()` method and passing in -1 and 1.\n",
        "'''It simply means that you are not sure about what number of rows or columns \n",
        "   you can give and you are asking numpy to suggest number of  column or rows \n",
        "   to get reshaped in.\n",
        "'''\n",
        "y = y.reshape(-1, 1)\n",
        "X = X.reshape(-1, 1)\n",
        "\n",
        "# Print the dimensions of X and y after reshaping\n",
        "print(\"Dimensions of y after reshaping: {}\".format(y.shape))\n",
        "print(\"Dimensions of X after reshaping: {}\".format(X.shape))"
      ],
      "execution_count": 5,
      "outputs": [
        {
          "output_type": "stream",
          "text": [
            "Dimensions of y before reshaping: (139,)\n",
            "Dimensions of X before reshaping: (139,)\n",
            "Dimensions of y after reshaping: (139, 1)\n",
            "Dimensions of X after reshaping: (139, 1)\n"
          ],
          "name": "stdout"
        }
      ]
    },
    {
      "cell_type": "markdown",
      "metadata": {
        "id": "RRiYpEA0KsA8"
      },
      "source": [
        "### __EDA the Gapminder data__\n"
      ]
    },
    {
      "cell_type": "code",
      "metadata": {
        "colab": {
          "base_uri": "https://localhost:8080/",
          "height": 197
        },
        "id": "R72Pf1dbSlAG",
        "outputId": "70dfbb56-b874-44f6-b654-6b6822f0ec42"
      },
      "source": [
        "df.head()"
      ],
      "execution_count": 6,
      "outputs": [
        {
          "output_type": "execute_result",
          "data": {
            "text/html": [
              "<div>\n",
              "<style scoped>\n",
              "    .dataframe tbody tr th:only-of-type {\n",
              "        vertical-align: middle;\n",
              "    }\n",
              "\n",
              "    .dataframe tbody tr th {\n",
              "        vertical-align: top;\n",
              "    }\n",
              "\n",
              "    .dataframe thead th {\n",
              "        text-align: right;\n",
              "    }\n",
              "</style>\n",
              "<table border=\"1\" class=\"dataframe\">\n",
              "  <thead>\n",
              "    <tr style=\"text-align: right;\">\n",
              "      <th></th>\n",
              "      <th>population</th>\n",
              "      <th>fertility</th>\n",
              "      <th>HIV</th>\n",
              "      <th>CO2</th>\n",
              "      <th>BMI_male</th>\n",
              "      <th>GDP</th>\n",
              "      <th>BMI_female</th>\n",
              "      <th>life</th>\n",
              "      <th>child_mortality</th>\n",
              "    </tr>\n",
              "  </thead>\n",
              "  <tbody>\n",
              "    <tr>\n",
              "      <th>0</th>\n",
              "      <td>34811059.0</td>\n",
              "      <td>2.73</td>\n",
              "      <td>0.1</td>\n",
              "      <td>3.328945</td>\n",
              "      <td>24.59620</td>\n",
              "      <td>12314.0</td>\n",
              "      <td>129.9049</td>\n",
              "      <td>75.3</td>\n",
              "      <td>29.5</td>\n",
              "    </tr>\n",
              "    <tr>\n",
              "      <th>1</th>\n",
              "      <td>19842251.0</td>\n",
              "      <td>6.43</td>\n",
              "      <td>2.0</td>\n",
              "      <td>1.474353</td>\n",
              "      <td>22.25083</td>\n",
              "      <td>7103.0</td>\n",
              "      <td>130.1247</td>\n",
              "      <td>58.3</td>\n",
              "      <td>192.0</td>\n",
              "    </tr>\n",
              "    <tr>\n",
              "      <th>2</th>\n",
              "      <td>40381860.0</td>\n",
              "      <td>2.24</td>\n",
              "      <td>0.5</td>\n",
              "      <td>4.785170</td>\n",
              "      <td>27.50170</td>\n",
              "      <td>14646.0</td>\n",
              "      <td>118.8915</td>\n",
              "      <td>75.5</td>\n",
              "      <td>15.4</td>\n",
              "    </tr>\n",
              "    <tr>\n",
              "      <th>3</th>\n",
              "      <td>2975029.0</td>\n",
              "      <td>1.40</td>\n",
              "      <td>0.1</td>\n",
              "      <td>1.804106</td>\n",
              "      <td>25.35542</td>\n",
              "      <td>7383.0</td>\n",
              "      <td>132.8108</td>\n",
              "      <td>72.5</td>\n",
              "      <td>20.0</td>\n",
              "    </tr>\n",
              "    <tr>\n",
              "      <th>4</th>\n",
              "      <td>21370348.0</td>\n",
              "      <td>1.96</td>\n",
              "      <td>0.1</td>\n",
              "      <td>18.016313</td>\n",
              "      <td>27.56373</td>\n",
              "      <td>41312.0</td>\n",
              "      <td>117.3755</td>\n",
              "      <td>81.5</td>\n",
              "      <td>5.2</td>\n",
              "    </tr>\n",
              "  </tbody>\n",
              "</table>\n",
              "</div>"
            ],
            "text/plain": [
              "   population  fertility  HIV  ...  BMI_female  life  child_mortality\n",
              "0  34811059.0       2.73  0.1  ...    129.9049  75.3             29.5\n",
              "1  19842251.0       6.43  2.0  ...    130.1247  58.3            192.0\n",
              "2  40381860.0       2.24  0.5  ...    118.8915  75.5             15.4\n",
              "3   2975029.0       1.40  0.1  ...    132.8108  72.5             20.0\n",
              "4  21370348.0       1.96  0.1  ...    117.3755  81.5              5.2\n",
              "\n",
              "[5 rows x 9 columns]"
            ]
          },
          "metadata": {
            "tags": []
          },
          "execution_count": 6
        }
      ]
    },
    {
      "cell_type": "code",
      "metadata": {
        "colab": {
          "base_uri": "https://localhost:8080/"
        },
        "id": "44KtFMgpSfQE",
        "outputId": "fbcd1bea-e7d6-4bd9-a330-ecfd9db4a417"
      },
      "source": [
        "df.columns"
      ],
      "execution_count": 7,
      "outputs": [
        {
          "output_type": "execute_result",
          "data": {
            "text/plain": [
              "Index(['population', 'fertility', 'HIV', 'CO2', 'BMI_male', 'GDP',\n",
              "       'BMI_female', 'life', 'child_mortality'],\n",
              "      dtype='object')"
            ]
          },
          "metadata": {
            "tags": []
          },
          "execution_count": 7
        }
      ]
    },
    {
      "cell_type": "code",
      "metadata": {
        "colab": {
          "base_uri": "https://localhost:8080/"
        },
        "id": "bmZONIisSo5u",
        "outputId": "cf50cbe0-e1df-4687-ba2b-b210e70b3be9"
      },
      "source": [
        "df.isna().sum()"
      ],
      "execution_count": 8,
      "outputs": [
        {
          "output_type": "execute_result",
          "data": {
            "text/plain": [
              "population         0\n",
              "fertility          0\n",
              "HIV                0\n",
              "CO2                0\n",
              "BMI_male           0\n",
              "GDP                0\n",
              "BMI_female         0\n",
              "life               0\n",
              "child_mortality    0\n",
              "dtype: int64"
            ]
          },
          "metadata": {
            "tags": []
          },
          "execution_count": 8
        }
      ]
    },
    {
      "cell_type": "code",
      "metadata": {
        "id": "9FOC72o8KsA9",
        "colab": {
          "base_uri": "https://localhost:8080/",
          "height": 590
        },
        "outputId": "cf07704c-71f6-4bd3-8e30-0165c26c3993"
      },
      "source": [
        "#cmap = \"Paired\"\r\n",
        "#cmap = \"icefire\"\r\n",
        "#cmap = \"viridis\"\r\n",
        "#cmap = \"mako\"\r\n",
        "#cmap = \"rocket\"\r\n",
        "plt.figure(figsize=(9, 9))\r\n",
        "sns.heatmap(df.corr(), square=True, cmap='viridis')"
      ],
      "execution_count": 9,
      "outputs": [
        {
          "output_type": "execute_result",
          "data": {
            "text/plain": [
              "<matplotlib.axes._subplots.AxesSubplot at 0x7f83cf58cb10>"
            ]
          },
          "metadata": {
            "tags": []
          },
          "execution_count": 9
        },
        {
          "output_type": "display_data",
          "data": {
            "image/png": "[encoded data removed]",
            "text/plain": [
              "<Figure size 648x648 with 2 Axes>"
            ]
          },
          "metadata": {
            "tags": [],
            "needs_background": "light"
          }
        }
      ]
    },
    {
      "cell_type": "code",
      "metadata": {
        "id": "jfA2-F-OKsA9",
        "colab": {
          "base_uri": "https://localhost:8080/",
          "height": 287
        },
        "outputId": "d6c7c33a-4d7d-4ad4-92c3-94ca44543739"
      },
      "source": [
        "df.describe()"
      ],
      "execution_count": 10,
      "outputs": [
        {
          "output_type": "execute_result",
          "data": {
            "text/html": [
              "<div>\n",
              "<style scoped>\n",
              "    .dataframe tbody tr th:only-of-type {\n",
              "        vertical-align: middle;\n",
              "    }\n",
              "\n",
              "    .dataframe tbody tr th {\n",
              "        vertical-align: top;\n",
              "    }\n",
              "\n",
              "    .dataframe thead th {\n",
              "        text-align: right;\n",
              "    }\n",
              "</style>\n",
              "<table border=\"1\" class=\"dataframe\">\n",
              "  <thead>\n",
              "    <tr style=\"text-align: right;\">\n",
              "      <th></th>\n",
              "      <th>population</th>\n",
              "      <th>fertility</th>\n",
              "      <th>HIV</th>\n",
              "      <th>CO2</th>\n",
              "      <th>BMI_male</th>\n",
              "      <th>GDP</th>\n",
              "      <th>BMI_female</th>\n",
              "      <th>life</th>\n",
              "      <th>child_mortality</th>\n",
              "    </tr>\n",
              "  </thead>\n",
              "  <tbody>\n",
              "    <tr>\n",
              "      <th>count</th>\n",
              "      <td>1.390000e+02</td>\n",
              "      <td>139.000000</td>\n",
              "      <td>139.000000</td>\n",
              "      <td>139.000000</td>\n",
              "      <td>139.000000</td>\n",
              "      <td>139.000000</td>\n",
              "      <td>139.000000</td>\n",
              "      <td>139.000000</td>\n",
              "      <td>139.000000</td>\n",
              "    </tr>\n",
              "    <tr>\n",
              "      <th>mean</th>\n",
              "      <td>3.549977e+07</td>\n",
              "      <td>3.005108</td>\n",
              "      <td>1.915612</td>\n",
              "      <td>4.459874</td>\n",
              "      <td>24.623054</td>\n",
              "      <td>16638.784173</td>\n",
              "      <td>126.701914</td>\n",
              "      <td>69.602878</td>\n",
              "      <td>45.097122</td>\n",
              "    </tr>\n",
              "    <tr>\n",
              "      <th>std</th>\n",
              "      <td>1.095121e+08</td>\n",
              "      <td>1.615354</td>\n",
              "      <td>4.408974</td>\n",
              "      <td>6.268349</td>\n",
              "      <td>2.209368</td>\n",
              "      <td>19207.299083</td>\n",
              "      <td>4.471997</td>\n",
              "      <td>9.122189</td>\n",
              "      <td>45.724667</td>\n",
              "    </tr>\n",
              "    <tr>\n",
              "      <th>min</th>\n",
              "      <td>2.773150e+05</td>\n",
              "      <td>1.280000</td>\n",
              "      <td>0.060000</td>\n",
              "      <td>0.008618</td>\n",
              "      <td>20.397420</td>\n",
              "      <td>588.000000</td>\n",
              "      <td>117.375500</td>\n",
              "      <td>45.200000</td>\n",
              "      <td>2.700000</td>\n",
              "    </tr>\n",
              "    <tr>\n",
              "      <th>25%</th>\n",
              "      <td>3.752776e+06</td>\n",
              "      <td>1.810000</td>\n",
              "      <td>0.100000</td>\n",
              "      <td>0.496190</td>\n",
              "      <td>22.448135</td>\n",
              "      <td>2899.000000</td>\n",
              "      <td>123.232200</td>\n",
              "      <td>62.200000</td>\n",
              "      <td>8.100000</td>\n",
              "    </tr>\n",
              "    <tr>\n",
              "      <th>50%</th>\n",
              "      <td>9.705130e+06</td>\n",
              "      <td>2.410000</td>\n",
              "      <td>0.400000</td>\n",
              "      <td>2.223796</td>\n",
              "      <td>25.156990</td>\n",
              "      <td>9938.000000</td>\n",
              "      <td>126.519600</td>\n",
              "      <td>72.000000</td>\n",
              "      <td>24.000000</td>\n",
              "    </tr>\n",
              "    <tr>\n",
              "      <th>75%</th>\n",
              "      <td>2.791973e+07</td>\n",
              "      <td>4.095000</td>\n",
              "      <td>1.300000</td>\n",
              "      <td>6.589156</td>\n",
              "      <td>26.497575</td>\n",
              "      <td>23278.500000</td>\n",
              "      <td>130.275900</td>\n",
              "      <td>76.850000</td>\n",
              "      <td>74.200000</td>\n",
              "    </tr>\n",
              "    <tr>\n",
              "      <th>max</th>\n",
              "      <td>1.197070e+09</td>\n",
              "      <td>7.590000</td>\n",
              "      <td>25.900000</td>\n",
              "      <td>48.702062</td>\n",
              "      <td>28.456980</td>\n",
              "      <td>126076.000000</td>\n",
              "      <td>135.492000</td>\n",
              "      <td>82.600000</td>\n",
              "      <td>192.000000</td>\n",
              "    </tr>\n",
              "  </tbody>\n",
              "</table>\n",
              "</div>"
            ],
            "text/plain": [
              "         population   fertility  ...        life  child_mortality\n",
              "count  1.390000e+02  139.000000  ...  139.000000       139.000000\n",
              "mean   3.549977e+07    3.005108  ...   69.602878        45.097122\n",
              "std    1.095121e+08    1.615354  ...    9.122189        45.724667\n",
              "min    2.773150e+05    1.280000  ...   45.200000         2.700000\n",
              "25%    3.752776e+06    1.810000  ...   62.200000         8.100000\n",
              "50%    9.705130e+06    2.410000  ...   72.000000        24.000000\n",
              "75%    2.791973e+07    4.095000  ...   76.850000        74.200000\n",
              "max    1.197070e+09    7.590000  ...   82.600000       192.000000\n",
              "\n",
              "[8 rows x 9 columns]"
            ]
          },
          "metadata": {
            "tags": []
          },
          "execution_count": 10
        }
      ]
    },
    {
      "cell_type": "code",
      "metadata": {
        "id": "swta9bv7KsA-",
        "colab": {
          "base_uri": "https://localhost:8080/"
        },
        "outputId": "9247d308-120d-41b3-a49c-4cbde67acefe"
      },
      "source": [
        "df.info()"
      ],
      "execution_count": 11,
      "outputs": [
        {
          "output_type": "stream",
          "text": [
            "<class 'pandas.core.frame.DataFrame'>\n",
            "RangeIndex: 139 entries, 0 to 138\n",
            "Data columns (total 9 columns):\n",
            " #   Column           Non-Null Count  Dtype  \n",
            "---  ------           --------------  -----  \n",
            " 0   population       139 non-null    float64\n",
            " 1   fertility        139 non-null    float64\n",
            " 2   HIV              139 non-null    float64\n",
            " 3   CO2              139 non-null    float64\n",
            " 4   BMI_male         139 non-null    float64\n",
            " 5   GDP              139 non-null    float64\n",
            " 6   BMI_female       139 non-null    float64\n",
            " 7   life             139 non-null    float64\n",
            " 8   child_mortality  139 non-null    float64\n",
            "dtypes: float64(9)\n",
            "memory usage: 9.9 KB\n"
          ],
          "name": "stdout"
        }
      ]
    },
    {
      "cell_type": "markdown",
      "metadata": {
        "id": "Z9C20-hEKsA_"
      },
      "source": [
        "### Fit & predict for regression\n"
      ]
    },
    {
      "cell_type": "code",
      "metadata": {
        "id": "c4QuqYQOKsBA"
      },
      "source": [
        "X_fertility = df['fertility'].values.reshape(-1, 1)\n",
        "y = df['life'].values.reshape(-1, 1)"
      ],
      "execution_count": 12,
      "outputs": []
    },
    {
      "cell_type": "code",
      "metadata": {
        "id": "zhzyweVHKsBA",
        "colab": {
          "base_uri": "https://localhost:8080/",
          "height": 465
        },
        "outputId": "4b7adcce-17ff-4169-c4d6-6ed8a262ceeb"
      },
      "source": [
        "plt.figure(figsize=(12, 7), facecolor='lightgrey')\r\n",
        "sns.scatterplot(x='fertility', y='life', data=df)"
      ],
      "execution_count": 13,
      "outputs": [
        {
          "output_type": "execute_result",
          "data": {
            "text/plain": [
              "<matplotlib.axes._subplots.AxesSubplot at 0x7f83c03d0590>"
            ]
          },
          "metadata": {
            "tags": []
          },
          "execution_count": 13
        },
        {
          "output_type": "display_data",
          "data": {
            "image/png": "[encoded data removed]",
            "text/plain": [
              "<Figure size 864x504 with 1 Axes>"
            ]
          },
          "metadata": {
            "tags": []
          }
        }
      ]
    },
    {
      "cell_type": "code",
      "metadata": {
        "colab": {
          "base_uri": "https://localhost:8080/",
          "height": 465
        },
        "id": "eBXx9myYUvWq",
        "outputId": "89cab425-dd08-4195-f394-5b02f2d7eda8"
      },
      "source": [
        "import numpy as np\r\n",
        "import seaborn as sns\r\n",
        "import matplotlib.pyplot as plt\r\n",
        "\r\n",
        "sns.set_theme(style=\"dark\")\r\n",
        "\r\n",
        "# Draw a combo histogram and scatterplot with density contours\r\n",
        "f, ax = plt.subplots(figsize=(12, 7), facecolor='lightgrey')\r\n",
        "sns.scatterplot(x='fertility', y='life', data=df)\r\n",
        "sns.kdeplot(x='fertility', y='life', data=df, levels=5, color=\"tab:red\", linewidths=1)"
      ],
      "execution_count": 14,
      "outputs": [
        {
          "output_type": "execute_result",
          "data": {
            "text/plain": [
              "<matplotlib.axes._subplots.AxesSubplot at 0x7f83b6b96850>"
            ]
          },
          "metadata": {
            "tags": []
          },
          "execution_count": 14
        },
        {
          "output_type": "display_data",
          "data": {
            "image/png": "[encoded data removed]",
            "text/plain": [
              "<Figure size 864x504 with 1 Axes>"
            ]
          },
          "metadata": {
            "tags": []
          }
        }
      ]
    },
    {
      "cell_type": "markdown",
      "metadata": {
        "id": "10op3_C4KsBB"
      },
      "source": [
        " **Strongly Negative Correlation**\r\n",
        " \r\n",
        "As you can see, there is a **Strongly Negative Correlation**, so a linear regression should be able to capture this trend. Your job is to fit a linear regression and then predict the life expectancy, overlaying these predicted values on the plot to generate a regression line. You will also compute and print the $R^2$ score using sckit-learn's ```.score()``` method."
      ]
    },
    {
      "cell_type": "code",
      "metadata": {
        "id": "JlgsNLEUKsBD",
        "colab": {
          "base_uri": "https://localhost:8080/",
          "height": 483
        },
        "outputId": "3709b734-c003-4a00-daa7-1310341ea322"
      },
      "source": [
        "from sklearn.linear_model import LinearRegression\n",
        "\n",
        "# Create the regressor: reg\n",
        "reg = LinearRegression()\n",
        "\n",
        "# Create th prediction space\n",
        "'''Reshape your data either X.reshape(-1, 1) if your data has a single \n",
        "   feature/column and X.reshape(1, -1) if it contains a single sample.\n",
        "'''\n",
        "prediction_space = np.linspace(min(X_fertility), max(X_fertility)).reshape(-1, 1)\n",
        "\n",
        "# Fit the model to the data\n",
        "reg.fit(X_fertility, y)\n",
        "\n",
        "# compute predictions over the prediction space: y_pred\n",
        "y_pred = reg.predict(prediction_space)\n",
        "\n",
        "# Print $R^2$\n",
        "print(reg.score(X_fertility, y))\n",
        "\n",
        "# Plot regression line on scatter plot\n",
        "plt.figure(figsize=(12, 7), facecolor='lightgrey')\n",
        "sns.scatterplot(x='fertility', y='life', data=df)\n",
        "plt.plot(prediction_space, y_pred, color='tab:red', linewidth=3, alpha=0.5)"
      ],
      "execution_count": 15,
      "outputs": [
        {
          "output_type": "stream",
          "text": [
            "0.6192442167740035\n"
          ],
          "name": "stdout"
        },
        {
          "output_type": "execute_result",
          "data": {
            "text/plain": [
              "[<matplotlib.lines.Line2D at 0x7f83b1b34b50>]"
            ]
          },
          "metadata": {
            "tags": []
          },
          "execution_count": 15
        },
        {
          "output_type": "display_data",
          "data": {
            "image/png": "[encoded data removed]",
            "text/plain": [
              "<Figure size 864x504 with 1 Axes>"
            ]
          },
          "metadata": {
            "tags": []
          }
        }
      ]
    },
    {
      "cell_type": "markdown",
      "metadata": {
        "id": "QP0t2RzvKsBE"
      },
      "source": [
        "### Train/test split for regression\n",
        "Train and test sets are vital to ensure that your supervised learning model is able to generalize well to new data. This was true for classification models, and is equally true for linear regression models.\n",
        "\n",
        "In this exercise, you will split the Gapminder dataset into training and testing sets, and then fit and predict a linear regression over all features. In addition to computing the $R^2$ score, you will also compute the Root Mean Squared Error (RMSE), which is another commonly used metric to evaluate regression models."
      ]
    },
    {
      "cell_type": "code",
      "metadata": {
        "id": "zSOnfXiOKsBE",
        "colab": {
          "base_uri": "https://localhost:8080/"
        },
        "outputId": "61a35ed5-e3b2-4db6-fe59-9a8f44e18031"
      },
      "source": [
        "from sklearn.linear_model import LinearRegression\n",
        "from sklearn.metrics import mean_squared_error\n",
        "from sklearn.model_selection import train_test_split\n",
        "\n",
        "# Create training and test sets\n",
        "X_train, X_test, y_train, y_test = train_test_split(X, y, test_size=0.3, random_state=42)\n",
        "\n",
        "# Create the regressor: reg_all\n",
        "reg_all = LinearRegression()\n",
        "\n",
        "# Fit the regressor to the training data\n",
        "reg_all.fit(X_train, y_train)\n",
        "\n",
        "# Predict on the test data: y_pred\n",
        "y_pred = reg_all.predict(X_test)\n",
        "\n",
        "# compute and print R^2 and RMSE\n",
        "print(\"R^2: {}\".format(reg_all.score(X_test, y_test)))\n",
        "rmse = np.sqrt(mean_squared_error(y_test, y_pred))\n",
        "print(\"Root Mean Squared Error: {}\".format(rmse))"
      ],
      "execution_count": 16,
      "outputs": [
        {
          "output_type": "stream",
          "text": [
            "R^2: 0.7298987360907494\n",
            "Root Mean Squared Error: 4.194027914110243\n"
          ],
          "name": "stdout"
        }
      ]
    },
    {
      "cell_type": "markdown",
      "metadata": {
        "id": "EbMVIZ36KsBF"
      },
      "source": [
        "## Cross-validation"
      ]
    },
    {
      "cell_type": "markdown",
      "metadata": {
        "id": "BFdffHMMKsBF"
      },
      "source": [
        "- Cross-validation motivation\n",
        "    - Model performance is dependent on way the data is split\n",
        "    - Not representative of the model's ability to generalize\n",
        "    - Solution : **Cross-validation**!\n",
        "- k-fold Cross-validation"
      ]
    },
    {
      "cell_type": "markdown",
      "metadata": {
        "id": "GJ4GOBekKsBG"
      },
      "source": [
        "### 5-fold cross-validation\n",
        "Cross-validation is a vital step in evaluating a model. It maximizes the amount of data that is used to train the model, as during the course of training, the model is not only trained, but also tested on all of the available data.\n",
        "\n",
        "In this exercise, you will practice 5-fold cross validation on the Gapminder data. By default, scikit-learn's ```cross_val_score()``` function uses $R^2$ as the metric of choice for regression. Since you are performing 5-fold cross-validation, the function will return 5 scores. Your job is to compute these 5 scores and then take their average."
      ]
    },
    {
      "cell_type": "code",
      "metadata": {
        "id": "ctj3SMnDKsBG",
        "colab": {
          "base_uri": "https://localhost:8080/"
        },
        "outputId": "8198a6b0-5b9a-4e49-df4f-0483e0f4a1e8"
      },
      "source": [
        "from sklearn.model_selection import cross_val_score\n",
        "\n",
        "# Create a linear regression object: reg\n",
        "reg = LinearRegression()\n",
        "\n",
        "# Compute 5-fold cross-validation scores: cv_scores\n",
        "cv_scores = cross_val_score(reg, X, y, cv=5)\n",
        "\n",
        "# Print the 5-fold cross-validation scores\n",
        "print(cv_scores)\n",
        "\n",
        "print(\"Average 5-Fold CV Score: {}\".format(np.mean(cv_scores)))"
      ],
      "execution_count": 17,
      "outputs": [
        {
          "output_type": "stream",
          "text": [
            "[0.71001079 0.75007717 0.55271526 0.547501   0.52410561]\n",
            "Average 5-Fold CV Score: 0.6168819644425119\n"
          ],
          "name": "stdout"
        }
      ]
    },
    {
      "cell_type": "markdown",
      "metadata": {
        "id": "iJx602y-KsBH"
      },
      "source": [
        "### K-Fold CV comparison\n",
        "Cross validation is essential but do not forget that the more folds you use, the more computationally expensive cross-validation becomes. In this exercise, you will explore this for yourself. Your job is to perform 3-fold cross-validation and then 10-fold cross-validation on the Gapminder dataset.\n",
        "\n",
        "In the IPython Shell, you can use ```%timeit``` to see how long each 3-fold CV takes compared to 10-fold CV by executing the following ```cv=3``` and ```cv=10```:\n",
        "```python\n",
        "%timeit cross_val_score(reg, X, y, cv = ____)\n",
        "```"
      ]
    },
    {
      "cell_type": "code",
      "metadata": {
        "id": "X9UXAWkLKsBI",
        "colab": {
          "base_uri": "https://localhost:8080/"
        },
        "outputId": "8d51db54-fdd7-49d3-87a8-b4c94cb9f35e"
      },
      "source": [
        "# Create a linear regression object: reg\n",
        "reg = LinearRegression()\n",
        "\n",
        "# Perform 3-fold CV\n",
        "%timeit cross_val_score(reg, X, y, cv=3)\n",
        "cvscores_3 = cross_val_score(reg, X, y, cv=3)\n",
        "print(np.mean(cvscores_3))\n",
        "\n",
        "# Perform 10-fold CV\n",
        "%timeit cross_val_score(reg, X, y, cv=10)\n",
        "cvscores_10 = cross_val_score(reg, X, y, cv=10)\n",
        "print(np.mean(cvscores_10))"
      ],
      "execution_count": 18,
      "outputs": [
        {
          "output_type": "stream",
          "text": [
            "100 loops, best of 5: 3.33 ms per loop\n",
            "0.6294715754653507\n",
            "100 loops, best of 5: 10.4 ms per loop\n",
            "0.5883937741571185\n"
          ],
          "name": "stdout"
        }
      ]
    },
    {
      "cell_type": "markdown",
      "metadata": {
        "id": "xgDfvzW4KsBJ"
      },
      "source": [
        "## **Regularized regression**\n",
        "\n",
        "- Why regularize?\n",
        "    - Recall: Linear regression minimizes a loss function\n",
        "    - It chooses a coefficient for each feature variable\n",
        "    - Large coefficient can lead to overfitting\n",
        "    - Penalizing large coefficients : **Regularization**\n",
        "- Ridge regression\n",
        "    - Loss function = $ \\text{OLS loss function} + \\alpha \\sum^{n}_{i=1}a_i^2 $\n",
        "    - Alpha : Parameter we need to choose (Hyperparameter or $\\lambda$)\n",
        "        - Picking alpha is similar to picking k in k-NN\n",
        "    - Alpha controls model complexity\n",
        "        - Alpha = 0: get back OLS (Can lead to overfitting)\n",
        "        - Very high alpha: Can lead to underfitting\n",
        "- Lasso regression\n",
        "    - Loss function = $ \\text{OLS loss function} + \\alpha \\sum^{n}_{i=1}|a_i| $\n",
        "    - Can be used to select import features of a dataset\n",
        "    - Shrinks the coefficients of less important features to exactly 0"
      ]
    },
    {
      "cell_type": "markdown",
      "metadata": {
        "id": "6KOy_lddKsBK"
      },
      "source": [
        "### **Regularization I: Lasso**\n",
        "\n",
        "In the video, you saw how Lasso selected out the ```'RM'``` feature as being the most important for predicting Boston house prices, while shrinking the coefficients of certain other features to 0. Its ability to perform feature selection in this way becomes even more useful when you are dealing with data involving thousands of features.\n",
        "\n",
        "In this exercise, you will fit a lasso regression to the Gapminder data you have been working with and plot the coefficients. Just as with the Boston data, you will find that the coefficients of some features are shrunk to 0, with only the most important ones remaining."
      ]
    },
    {
      "cell_type": "code",
      "metadata": {
        "id": "MG9HiXJwKsBL"
      },
      "source": [
        "X = df.drop('life', axis='columns').values\n",
        "y = df['life'].values"
      ],
      "execution_count": 19,
      "outputs": []
    },
    {
      "cell_type": "code",
      "metadata": {
        "id": "EDm8aS9SKsBM",
        "colab": {
          "base_uri": "https://localhost:8080/",
          "height": 517
        },
        "outputId": "dbe666d4-365f-4d15-9975-50da7ba9d2b7"
      },
      "source": [
        "# Import Lasso\n",
        "from sklearn.linear_model import Lasso\n",
        "\n",
        "# Instantiate a lasso regressor: lasso\n",
        "lasso = Lasso(alpha=0.4, normalize=True)\n",
        "\n",
        "# Fit the regressor to the data\n",
        "lasso.fit(X, y)\n",
        "\n",
        "# Compute and print the coefficients\n",
        "lasso_coef = lasso.coef_\n",
        "print(lasso_coef)\n",
        "\n",
        "# Plot the coefficients\n",
        "df_columns = df.columns[:-1]\n",
        "plt.figure(figsize=(12, 7), facecolor='lightgrey')\n",
        "plt.plot(range(len(df_columns)), lasso_coef)\n",
        "plt.xticks(range(len(df_columns)), df_columns.values, rotation=60)\n",
        "plt.margins(0.02)"
      ],
      "execution_count": 20,
      "outputs": [
        {
          "output_type": "stream",
          "text": [
            "[-0.         -0.         -0.          0.          0.          0.\n",
            " -0.         -0.07087587]\n"
          ],
          "name": "stdout"
        },
        {
          "output_type": "display_data",
          "data": {
            "image/png": "[encoded data removed]",
            "text/plain": [
              "<Figure size 864x504 with 1 Axes>"
            ]
          },
          "metadata": {
            "tags": []
          }
        }
      ]
    },
    {
      "cell_type": "markdown",
      "metadata": {
        "id": "5gkR4iYuKsBM"
      },
      "source": [
        "### **Regularization II: Ridge**\n",
        "Lasso is great for feature selection, but when building regression models, Ridge regression should be your first choice.\n",
        "\n",
        "Recall that lasso performs regularization by adding to the loss function a penalty term of the absolute value of each coefficient multiplied by some alpha. This is also known as L1 regularization because the regularization term is the L1 norm of the coefficients. This is not the only way to regularize, however.\n",
        "\n",
        "If instead you took the sum of the squared values of the coefficients multiplied by some alpha - like in Ridge regression - you would be computing the L2 norm. In this exercise, you will practice fitting ridge regression models over a range of different alphas, and plot cross-validated R2 scores for each."
      ]
    },
    {
      "cell_type": "code",
      "metadata": {
        "id": "Hfm6E0LPKsBN"
      },
      "source": [
        "def display_plot(cv_scores, cv_scores_std):\n",
        "    fig = plt.figure(figsize=(12,7), facecolor='lightgrey')\n",
        "    ax = fig.add_subplot(1,1,1)\n",
        "    ax.plot(alpha_space, cv_scores, color='tab:red', linewidth=3,)\n",
        "\n",
        "    std_error = cv_scores_std / np.sqrt(10)\n",
        "\n",
        "    ax.fill_between(alpha_space, cv_scores + std_error, cv_scores - std_error, alpha=0.2)\n",
        "    ax.set_ylabel('CV Score +/- Std Error')\n",
        "    ax.set_xlabel('Alpha')\n",
        "    ax.axhline(np.max(cv_scores), linestyle='--', color='.5')\n",
        "    ax.set_xlim([alpha_space[0], alpha_space[-1]])\n",
        "    ax.set_xscale('log')"
      ],
      "execution_count": 21,
      "outputs": []
    },
    {
      "cell_type": "code",
      "metadata": {
        "id": "kzkZnaTXKsBN",
        "colab": {
          "base_uri": "https://localhost:8080/",
          "height": 454
        },
        "outputId": "8ec34ab3-75a0-4a01-f6a5-d043b3cdf3b5"
      },
      "source": [
        "from sklearn.linear_model import Ridge\n",
        "\n",
        "# Setup the array of alphas and lists to store scores\n",
        "alpha_space = np.logspace(-4, 0, 50)\n",
        "ridge_scores = []\n",
        "ridge_scores_std = []\n",
        "\n",
        "# Create a ridge regressor: ridge\n",
        "ridge = Ridge(normalize=True)\n",
        "\n",
        "# Compute scores over range of alphas\n",
        "for alpha in alpha_space:\n",
        "    \n",
        "    # Specify the alpha value to use: ridge.alhpa\n",
        "    ridge.alpha = alpha\n",
        "    \n",
        "    # Perform 10-fold CV: ridge_cv_scores\n",
        "    ridge_cv_scores = cross_val_score(ridge, X, y, cv=10)\n",
        "    \n",
        "    # Append the mean of ridge_cv_scores to ridge_scores\n",
        "    ridge_scores.append(np.mean(ridge_cv_scores))\n",
        "    \n",
        "    # Append the std of ridge_cv_scores to ridge_scores_std\n",
        "    ridge_scores_std.append(np.std(ridge_cv_scores))\n",
        "    \n",
        "# Display the plot\n",
        "display_plot(ridge_scores, ridge_scores_std)"
      ],
      "execution_count": 22,
      "outputs": [
        {
          "output_type": "display_data",
          "data": {
            "image/png": "[encoded data removed]",
            "text/plain": [
              "<Figure size 864x504 with 1 Axes>"
            ]
          },
          "metadata": {
            "tags": []
          }
        }
      ]
    }
  ]
}