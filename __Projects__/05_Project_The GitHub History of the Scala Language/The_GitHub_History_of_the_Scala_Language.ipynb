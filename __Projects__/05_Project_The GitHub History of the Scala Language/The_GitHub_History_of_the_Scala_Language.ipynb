{
  "nbformat": 4,
  "nbformat_minor": 0,
  "metadata": {
    "language_info": {
      "mimetype": "text/x-python",
      "version": "3.5.2",
      "codemirror_mode": {
        "version": 3,
        "name": "ipython"
      },
      "nbconvert_exporter": "python",
      "file_extension": ".py",
      "pygments_lexer": "ipython3",
      "name": "python"
    },
    "kernelspec": {
      "display_name": "Python 3",
      "language": "python",
      "name": "python3"
    },
    "colab": {
      "name": "The GitHub History of the Scala Language.ipynb",
      "provenance": [],
      "include_colab_link": true
    }
  },
  "cells": [
    {
      "cell_type": "markdown",
      "metadata": {
        "id": "view-in-github",
        "colab_type": "text"
      },
      "source": [
        "<a href=\"https://colab.research.google.com/github/mohd-faizy/DataScience-With-Python/blob/main/The_GitHub_History_of_the_Scala_Language.ipynb\" target=\"_parent\"><img src=\"https://colab.research.google.com/assets/colab-badge.svg\" alt=\"Open In Colab\"/></a>"
      ]
    },
    {
      "cell_type": "code",
      "metadata": {
        "colab": {
          "base_uri": "https://localhost:8080/"
        },
        "id": "woWfTMZA2hFz",
        "outputId": "0f982aac-55d3-4577-d72a-251740259cc2"
      },
      "source": [
        "# Cloning the repository\r\n",
        "! git clone https://github.com/mohd-faizy/DataScience-With-Python.git"
      ],
      "execution_count": 1,
      "outputs": [
        {
          "output_type": "stream",
          "text": [
            "Cloning into 'DataScience-With-Python'...\n",
            "remote: Enumerating objects: 665, done.\u001b[K\n",
            "remote: Counting objects: 100% (665/665), done.\u001b[K\n",
            "remote: Compressing objects: 100% (545/545), done.\u001b[K\n",
            "remote: Total 665 (delta 223), reused 546 (delta 110), pack-reused 0\u001b[K\n",
            "Receiving objects: 100% (665/665), 53.15 MiB | 24.72 MiB/s, done.\n",
            "Resolving deltas: 100% (223/223), done.\n"
          ],
          "name": "stdout"
        }
      ]
    },
    {
      "cell_type": "markdown",
      "metadata": {
        "id": "fPmc46xrFwEE"
      },
      "source": [
        ""
      ]
    },
    {
      "cell_type": "code",
      "metadata": {
        "id": "YK35wrMO3tgJ"
      },
      "source": [
        "# Changing the directory\r\n",
        "import os\r\n",
        "os.chdir('/content/DataScience-With-Python/07_Project_3_The GitHub History of the Scala Language')"
      ],
      "execution_count": 2,
      "outputs": []
    },
    {
      "cell_type": "markdown",
      "metadata": {
        "deletable": false,
        "run_control": {
          "frozen": true
        },
        "editable": false,
        "dc": {
          "key": "5"
        },
        "tags": [
          "context"
        ],
        "id": "S3DlOkk1y5kQ"
      },
      "source": [
        "## 1. Scala's real-world project repository data\n",
        "<p>With almost 30k commits and a history spanning over ten years, Scala is a mature programming language. It is a general-purpose programming language that has recently become another prominent language for data scientists.</p>\n",
        "<p>Scala is also an open source project. Open source projects have the advantage that their entire development histories -- who made changes, what was changed, code reviews, etc. -- are publicly available. </p>\n",
        "<p>We're going to read in, clean up, and visualize the real world project repository of Scala that spans data from a version control system (Git) as well as a project hosting site (GitHub). We will find out who has had the most influence on its development and who are the experts.</p>\n",
        "<p>The dataset we will use, which has been previously mined and extracted from GitHub, is comprised of three files:</p>\n",
        "<ol>\n",
        "<li><code>pulls_2011-2013.csv</code> contains the basic information about the pull requests, and spans from the end of 2011 up to (but not including) 2014.</li>\n",
        "<li><code>pulls_2014-2018.csv</code> contains identical information, and spans from 2014 up to 2018.</li>\n",
        "<li><code>pull_files.csv</code> contains the files that were modified by each pull request.</li>\n",
        "</ol>"
      ]
    },
    {
      "cell_type": "code",
      "metadata": {
        "tags": [
          "sample_code"
        ],
        "collapsed": true,
        "dc": {
          "key": "5"
        },
        "trusted": false,
        "id": "XTUTOugZy5kb"
      },
      "source": [
        "# Importing pandas\n",
        "import pandas as pd\n",
        "\n",
        "# Loading in the data\n",
        "pulls_one = pd.read_csv('datasets/pulls_2011-2013.csv')\n",
        "pulls_two = pd.read_csv('datasets/pulls_2014-2018.csv')\n",
        "pull_files = pd.read_csv('datasets/pull_files.csv')"
      ],
      "execution_count": 3,
      "outputs": []
    },
    {
      "cell_type": "markdown",
      "metadata": {
        "deletable": false,
        "run_control": {
          "frozen": true
        },
        "editable": false,
        "dc": {
          "key": "12"
        },
        "tags": [
          "context"
        ],
        "id": "TPtMermKy5kd"
      },
      "source": [
        "## 2. Preparing and cleaning the data\n",
        "<p>First, we will need to combine the data from the two separate pull DataFrames. </p>\n",
        "<p>Next, the raw data extracted from GitHub contains dates in the ISO8601 format. However, <code>pandas</code> imports them as regular strings. To make our analysis easier, we need to convert the strings into Python's <code>DateTime</code> objects. <code>DateTime</code> objects have the important property that they can be compared and sorted.</p>\n",
        "<p>The pull request times are all in UTC (also known as Coordinated Universal Time). The commit times, however, are in the local time of the author with time zone information (number of hours difference from UTC). To make comparisons easy, we should convert all times to UTC.</p>"
      ]
    },
    {
      "cell_type": "markdown",
      "metadata": {
        "id": "ZTFjkm-v6AzV"
      },
      "source": [
        "__Task 2: Instructions__\r\n",
        "\r\n",
        "Combine the two pulls DataFrames and then convert date to a DateTime object.\r\n",
        "\r\n",
        "- Append `pulls_one` to `pulls_two` and assign the result to pulls.\r\n",
        "\r\n",
        "- Convert the `date` column for the `pulls` object from a string into a `DateTime` object.\r\n",
        "\r\n",
        "For the conversion, we recommend using pandas' `to_datetime()` function. Set the utc parameter to True, as this will simplify future operations.\r\n",
        "\r\n",
        "Coordinated Universal Time (UTC) is the basis for civil time today. This 24-hour time standard is kept using highly precise atomic clocks combined with the Earth's rotation."
      ]
    },
    {
      "cell_type": "code",
      "metadata": {
        "tags": [
          "sample_code"
        ],
        "collapsed": true,
        "dc": {
          "key": "12"
        },
        "trusted": false,
        "id": "lqdqCRsHy5ke"
      },
      "source": [
        "# Append pulls_one to pulls_two\n",
        "pulls = pulls_two.append(pulls_one, ignore_index=True)\n",
        "\n",
        "# Convert the date for the pulls object\n",
        "pulls['date'] = pd.to_datetime(pulls['date'], utc=True)"
      ],
      "execution_count": 4,
      "outputs": []
    },
    {
      "cell_type": "markdown",
      "metadata": {
        "deletable": false,
        "run_control": {
          "frozen": true
        },
        "editable": false,
        "dc": {
          "key": "19"
        },
        "tags": [
          "context"
        ],
        "id": "js4UsDgey5ke"
      },
      "source": [
        "## 3. Merging the DataFrames\n",
        "<p>The data extracted comes in two separate files. Merging the two DataFrames will make it easier for us to analyze the data in the future tasks.</p>"
      ]
    },
    {
      "cell_type": "markdown",
      "metadata": {
        "id": "raeCJ_ad6wx_"
      },
      "source": [
        "__Task 3: Instructions__\r\n",
        "\r\n",
        "Merge the two DataFrames.\r\n",
        "\r\n",
        " - Merge pulls and pull_files on the pid column. Assign the result to the data variable.\r\n",
        " \r\n",
        "The pandas DataFrame has a merge method that will perform the joining of two DataFrames on a common field."
      ]
    },
    {
      "cell_type": "code",
      "metadata": {
        "tags": [
          "sample_code"
        ],
        "collapsed": true,
        "dc": {
          "key": "19"
        },
        "trusted": false,
        "id": "mYdJyVNJy5kf"
      },
      "source": [
        "# Merge the two DataFrames\n",
        "data = pulls.merge(pull_files, on='pid')"
      ],
      "execution_count": 5,
      "outputs": []
    },
    {
      "cell_type": "markdown",
      "metadata": {
        "deletable": false,
        "run_control": {
          "frozen": true
        },
        "editable": false,
        "dc": {
          "key": "26"
        },
        "tags": [
          "context"
        ],
        "id": "apPcwi05y5kf"
      },
      "source": [
        "## 4. Is the project still actively maintained?\n",
        "<p>The activity in an open source project is not very consistent. Some projects might be active for many years after the initial release, while others can slowly taper out into oblivion. Before committing to contributing to a project, it is important to understand the state of the project. Is development going steadily, or is there a drop? Has the project been abandoned altogether?</p>\n",
        "<p>The data used in this project was collected in January of 2018. We are interested in the evolution of the number of contributions up to that date.</p>\n",
        "<p>For Scala, we will do this by plotting a chart of the project's activity. We will calculate the number of pull requests submitted each (calendar) month during the project's lifetime. We will then plot these numbers to see the trend of contributions.</p>\n",
        "<ul>\n",
        "<li><p>A helpful reminder of how to access various components of a date can be found in <a href=\"https://campus.datacamp.com/courses/data-manipulation-with-pandas/slicing-and-indexing?ex=12\">this exercise of Data Manipulation with pandas</a></p></li>\n",
        "<li><p>Additionally, recall that you can group by multiple variables by passing a list to <code>groupby()</code>. This video from <a href=\"https://campus.datacamp.com/courses/data-manipulation-with-pandas/aggregating-data-ad6d4643-0e95-470c-8299-f69cc4c83de8?ex=9\">Data Manipulation with pandas</a> should help!</p></li>\n",
        "</ul>"
      ]
    },
    {
      "cell_type": "markdown",
      "metadata": {
        "id": "-iE7zqau_AcC"
      },
      "source": [
        "__Task 4: Instructions__\r\n",
        "\r\n",
        "Calculate and plot project activity in terms of pull requests.\r\n",
        "\r\n",
        "- Group `data` by month and year (i.e. '2011-01', '2011-02', etc), and count the number pull requests (`pid`). Store the counts in a variable called `counts`.\r\n",
        "\r\n",
        " - There are a number of ways to accomplish this.\r\n",
        " - One way would be to create two new columns containing the year and month  attributes of the `date` column, and then group by these two variables.\r\n",
        " \r\n",
        "- Plot `counts` using a bar chart (this has been done for you).\r\n",
        "\r\n",
        "_Note, the scaffolding exists to help you create the two columns as suggested above. However, this exercise will only check whether you create `counts` correctly. Thus, alternate solutions are more than welcome!_"
      ]
    },
    {
      "cell_type": "code",
      "metadata": {
        "tags": [
          "sample_code"
        ],
        "collapsed": true,
        "dc": {
          "key": "26"
        },
        "trusted": false,
        "colab": {
          "base_uri": "https://localhost:8080/",
          "height": 321
        },
        "id": "cV4eNZkTy5kg",
        "outputId": "92db7a97-12d4-403d-f7d8-789d4ed8047c"
      },
      "source": [
        "%matplotlib inline\n",
        "\n",
        "# Create a column that will store the month\n",
        "data['month'] = data['date'].dt.month\n",
        "\n",
        "# Create a column that will store the year\n",
        "data['year'] = data['date'].dt.year\n",
        "\n",
        "# Group by month_year and count the pull requests\n",
        "counts = data.groupby(['year', 'month'])['pid'].count()\n",
        "\n",
        "# Plot the results\n",
        "counts.plot(kind='bar', figsize = (20,4))"
      ],
      "execution_count": 6,
      "outputs": [
        {
          "output_type": "execute_result",
          "data": {
            "text/plain": [
              "<matplotlib.axes._subplots.AxesSubplot at 0x7faeb36c57f0>"
            ]
          },
          "metadata": {
            "tags": []
          },
          "execution_count": 6
        },
        {
          "output_type": "display_data",
          "data": {
            "image/png": "[encoded data removed]",
            "text/plain": [
              "<Figure size 1440x288 with 1 Axes>"
            ]
          },
          "metadata": {
            "tags": [],
            "needs_background": "light"
          }
        }
      ]
    },
    {
      "cell_type": "markdown",
      "metadata": {
        "deletable": false,
        "run_control": {
          "frozen": true
        },
        "editable": false,
        "dc": {
          "key": "33"
        },
        "tags": [
          "context"
        ],
        "id": "uT48jofiy5kh"
      },
      "source": [
        "## 5. Is there camaraderie in the project?\n",
        "<p>The organizational structure varies from one project to another, and it can influence your success as a contributor. A project that has a very small community might not be the best one to start working on. The small community might indicate a high barrier of entry. This can be caused by several factors, including a community that is reluctant to accept pull requests from \"outsiders,\" that the code base is hard to work with, etc. However, a large community can serve as an indicator that the project is regularly accepting pull requests from new contributors. Such a project would be a good place to start.</p>\n",
        "<p>In order to evaluate the dynamics of the community, we will plot a histogram of the number of pull requests submitted by each user. A distribution that shows that there are few people that only contribute a small number of pull requests can be used as in indicator that the project is not welcoming of new contributors. </p>"
      ]
    },
    {
      "cell_type": "markdown",
      "metadata": {
        "id": "uVxKS-11_5Tr"
      },
      "source": [
        "__Task 5: Instructions__\r\n",
        "\r\n",
        "Plot pull requests by user.\r\n",
        "\r\n",
        "- Group the pull requests by each user and count the number of pull requests they submitted. Store the counts in a variable called by_user.\r\n",
        "\r\n",
        "- Plot the histogram for by_user."
      ]
    },
    {
      "cell_type": "code",
      "metadata": {
        "tags": [
          "sample_code"
        ],
        "collapsed": true,
        "dc": {
          "key": "33"
        },
        "trusted": false,
        "colab": {
          "base_uri": "https://localhost:8080/",
          "height": 316
        },
        "id": "Z6MxRBlby5kh",
        "outputId": "3eb90fe8-31f6-4eae-cb9f-7113def530d6"
      },
      "source": [
        "# Required for matplotlib\n",
        "%matplotlib inline\n",
        "\n",
        "# Group by the submitter\n",
        "by_user = data.groupby('user').agg({'pid': 'count'})\n",
        "\n",
        "# Plot the histogram\n",
        "by_user.hist()"
      ],
      "execution_count": 7,
      "outputs": [
        {
          "output_type": "execute_result",
          "data": {
            "text/plain": [
              "array([[<matplotlib.axes._subplots.AxesSubplot object at 0x7faeb36ed128>]],\n",
              "      dtype=object)"
            ]
          },
          "metadata": {
            "tags": []
          },
          "execution_count": 7
        },
        {
          "output_type": "display_data",
          "data": {
            "image/png": "[encoded data removed]",
            "text/plain": [
              "<Figure size 432x288 with 1 Axes>"
            ]
          },
          "metadata": {
            "tags": [],
            "needs_background": "light"
          }
        }
      ]
    },
    {
      "cell_type": "markdown",
      "metadata": {
        "deletable": false,
        "run_control": {
          "frozen": true
        },
        "editable": false,
        "dc": {
          "key": "40"
        },
        "tags": [
          "context"
        ],
        "id": "DZcoahMMy5ki"
      },
      "source": [
        "## 6. What files were changed in the last ten pull requests?\n",
        "<p>Choosing the right place to make a contribution is as important as choosing the project to contribute to. Some parts of the code might be stable, some might be dead. Contributing there might not have the most impact. Therefore it is important to understand the parts of the system that have been recently changed. This allows us to pinpoint the \"hot\" areas of the code where most of the activity is happening. Focusing on those parts might not the most effective use of our times.</p>"
      ]
    },
    {
      "cell_type": "markdown",
      "metadata": {
        "id": "Iv9hJ6RGAKK4"
      },
      "source": [
        "__Task 6: Instructions__\r\n",
        "\r\n",
        "Identify the files changed in the last ten pull requests.\r\n",
        "\r\n",
        "- Select the last ten pull requests and name the resulting DataFrame `last_10`.\r\n",
        "- Merge `last_10` with the `pull_files` DataFrame on `pid`, assigning the result to `joined_pr`.\r\n",
        "- Identify the unique files in `joined_pr` (via the `file` column) using `set()`.\r\n",
        "\r\n",
        "Python's `DateTime` objects are comparable and sortable. A more recent date is larger than an older date. In task 2, we converted the `date` column into `DateTime` objects. Therefore, the largest ten values in the `date` column are the most recent ones.\r\n",
        "\r\n",
        "pandas' `nlargest` method [documentation](https://pandas.pydata.org/pandas-docs/version/0.17.0/generated/pandas.DataFrame.nlargest.html) is helpful for the first bullet.\r\n",
        "\r\n",
        "[Here](https://stackoverflow.com/questions/39551566/create-a-set-from-a-series-in-pandas) is an example of using `set()` on Stack Overflow."
      ]
    },
    {
      "cell_type": "code",
      "metadata": {
        "tags": [
          "sample_code"
        ],
        "collapsed": true,
        "dc": {
          "key": "40"
        },
        "trusted": false,
        "colab": {
          "base_uri": "https://localhost:8080/"
        },
        "id": "bI1-6CjSy5ki",
        "outputId": "0f16924f-4df0-48e2-f074-475cdc346c05"
      },
      "source": [
        "# Identify the last 10 pull requests\n",
        "last_10 = pulls.sort_values(by = 'date').tail(10)\n",
        "last_10\n",
        "\n",
        "# Join the two data sets\n",
        "joined_pr = pull_files.merge(last_10, on='pid')\n",
        "\n",
        "# Identify the unique files\n",
        "files = set(joined_pr['file'])\n",
        "\n",
        "# Print the results\n",
        "files"
      ],
      "execution_count": 8,
      "outputs": [
        {
          "output_type": "execute_result",
          "data": {
            "text/plain": [
              "{'LICENSE',\n",
              " 'doc/LICENSE.md',\n",
              " 'doc/License.rtf',\n",
              " 'project/VersionUtil.scala',\n",
              " 'src/compiler/scala/reflect/reify/phases/Calculate.scala',\n",
              " 'src/compiler/scala/tools/nsc/backend/jvm/BCodeHelpers.scala',\n",
              " 'src/compiler/scala/tools/nsc/backend/jvm/PostProcessor.scala',\n",
              " 'src/compiler/scala/tools/nsc/backend/jvm/analysis/BackendUtils.scala',\n",
              " 'src/compiler/scala/tools/nsc/profile/AsyncHelper.scala',\n",
              " 'src/compiler/scala/tools/nsc/profile/Profiler.scala',\n",
              " 'src/compiler/scala/tools/nsc/symtab/classfile/ClassfileParser.scala',\n",
              " 'src/compiler/scala/tools/nsc/typechecker/Contexts.scala',\n",
              " 'src/library/scala/Predef.scala',\n",
              " 'src/library/scala/concurrent/Lock.scala',\n",
              " 'src/library/scala/util/Properties.scala',\n",
              " 'src/reflect/scala/reflect/internal/pickling/ByteCodecs.scala',\n",
              " 'src/reflect/scala/reflect/internal/tpe/GlbLubs.scala',\n",
              " 'src/scaladoc/scala/tools/nsc/doc/html/page/Entity.scala',\n",
              " 'src/scalap/decoder.properties',\n",
              " 'test/files/neg/leibniz-liskov.check',\n",
              " 'test/files/neg/leibniz-liskov.scala',\n",
              " 'test/files/pos/leibniz-liskov.scala',\n",
              " 'test/files/pos/leibniz_liskov.scala',\n",
              " 'test/files/pos/parallel-classloader.scala',\n",
              " 'test/files/pos/t10568/Converter.java',\n",
              " 'test/files/pos/t10568/Impl.scala',\n",
              " 'test/files/pos/t10686.scala',\n",
              " 'test/files/pos/t5638/Among.java',\n",
              " 'test/files/pos/t5638/Usage.scala',\n",
              " 'test/files/pos/t9291.scala',\n",
              " 'test/files/run/t8348.check',\n",
              " 'test/files/run/t8348/TableColumn.java',\n",
              " 'test/files/run/t8348/TableColumnImpl.java',\n",
              " 'test/files/run/t8348/Test.scala'}"
            ]
          },
          "metadata": {
            "tags": []
          },
          "execution_count": 8
        }
      ]
    },
    {
      "cell_type": "markdown",
      "metadata": {
        "deletable": false,
        "run_control": {
          "frozen": true
        },
        "editable": false,
        "dc": {
          "key": "47"
        },
        "tags": [
          "context"
        ],
        "id": "MIKRdPSRy5kk"
      },
      "source": [
        "## 7. Who made the most pull requests to a given file?\n",
        "<p>When contributing to a project, we might need some guidance. We might find ourselves needing some information regarding the codebase. It is important direct any questions to the right person. Contributors to open source projects generally have other day jobs, so their time is limited. It is important to address our questions to the right people. One way to identify the right target for our inquiries is by using their contribution history.</p>\n",
        "<p>We identified <code>src/compiler/scala/reflect/reify/phases/Calculate.scala</code> as being recently changed. We are interested in the top 3 developers who changed that file. Those developers are the ones most likely to have the best understanding of the code.</p>"
      ]
    },
    {
      "cell_type": "markdown",
      "metadata": {
        "id": "qwcexuHIBiA4"
      },
      "source": [
        "__Task 7: Instructions__\r\n",
        "\r\n",
        "Identify the top 3 developers that submitted pull requests to `src/compiler/scala/reflect/reify/phases/Calculate.scala`.\r\n",
        "\r\n",
        "- Select the pull requests that changed that file and name the resulting DataFrame `file_pr`.\r\n",
        "\r\n",
        "- Count the number of changes made by each developer and name the resulting DataFrame `author_counts`.\r\n",
        "\r\n",
        "- Print the top 3 developers.\r\n",
        "\r\n",
        "pandas' `nlargest` method [documentation](https://pandas.pydata.org/pandas-docs/version/0.17.0/generated/pandas.DataFrame.nlargest.html) is helpful for the third bullet."
      ]
    },
    {
      "cell_type": "code",
      "metadata": {
        "tags": [
          "sample_code"
        ],
        "collapsed": true,
        "dc": {
          "key": "47"
        },
        "trusted": false,
        "colab": {
          "base_uri": "https://localhost:8080/",
          "height": 167
        },
        "id": "PUXpsaf9y5kl",
        "outputId": "e57b308c-0535-4f92-9d35-eac875dfea4b"
      },
      "source": [
        "# This is the file we are interested in:\n",
        "file = 'src/compiler/scala/reflect/reify/phases/Calculate.scala'\n",
        "\n",
        "# Identify the pull requests that changed the file\n",
        "file_pr = data[data['file'] == file]\n",
        "\n",
        "# Count the number of changes made by each developer\n",
        "author_counts = file_pr.groupby('user').count()\n",
        "\n",
        "# Print the top 3 developers\n",
        "author_counts.nlargest(3, 'file')"
      ],
      "execution_count": 9,
      "outputs": [
        {
          "output_type": "execute_result",
          "data": {
            "text/html": [
              "<div>\n",
              "<style scoped>\n",
              "    .dataframe tbody tr th:only-of-type {\n",
              "        vertical-align: middle;\n",
              "    }\n",
              "\n",
              "    .dataframe tbody tr th {\n",
              "        vertical-align: top;\n",
              "    }\n",
              "\n",
              "    .dataframe thead th {\n",
              "        text-align: right;\n",
              "    }\n",
              "</style>\n",
              "<table border=\"1\" class=\"dataframe\">\n",
              "  <thead>\n",
              "    <tr style=\"text-align: right;\">\n",
              "      <th></th>\n",
              "      <th>pid</th>\n",
              "      <th>date</th>\n",
              "      <th>file</th>\n",
              "      <th>month</th>\n",
              "      <th>year</th>\n",
              "    </tr>\n",
              "    <tr>\n",
              "      <th>user</th>\n",
              "      <th></th>\n",
              "      <th></th>\n",
              "      <th></th>\n",
              "      <th></th>\n",
              "      <th></th>\n",
              "    </tr>\n",
              "  </thead>\n",
              "  <tbody>\n",
              "    <tr>\n",
              "      <th>xeno-by</th>\n",
              "      <td>11</td>\n",
              "      <td>11</td>\n",
              "      <td>11</td>\n",
              "      <td>11</td>\n",
              "      <td>11</td>\n",
              "    </tr>\n",
              "    <tr>\n",
              "      <th>retronym</th>\n",
              "      <td>5</td>\n",
              "      <td>5</td>\n",
              "      <td>5</td>\n",
              "      <td>5</td>\n",
              "      <td>5</td>\n",
              "    </tr>\n",
              "    <tr>\n",
              "      <th>soc</th>\n",
              "      <td>4</td>\n",
              "      <td>4</td>\n",
              "      <td>4</td>\n",
              "      <td>4</td>\n",
              "      <td>4</td>\n",
              "    </tr>\n",
              "  </tbody>\n",
              "</table>\n",
              "</div>"
            ],
            "text/plain": [
              "          pid  date  file  month  year\n",
              "user                                  \n",
              "xeno-by    11    11    11     11    11\n",
              "retronym    5     5     5      5     5\n",
              "soc         4     4     4      4     4"
            ]
          },
          "metadata": {
            "tags": []
          },
          "execution_count": 9
        }
      ]
    },
    {
      "cell_type": "markdown",
      "metadata": {
        "deletable": false,
        "run_control": {
          "frozen": true
        },
        "editable": false,
        "dc": {
          "key": "54"
        },
        "tags": [
          "context"
        ],
        "id": "gSoyLkk0y5kl"
      },
      "source": [
        "## 8. Who made the last ten pull requests on a given file?\n",
        "<p>Open source projects suffer from fluctuating membership. This makes the problem of finding the right person more challenging: the person has to be knowledgeable <em>and</em> still be involved in the project. A person that contributed a lot in the past might no longer be available (or willing) to help. To get a better understanding, we need to investigate the more recent history of that particular part of the system. </p>\n",
        "<p>Like in the previous task, we will look at the history of  <code>src/compiler/scala/reflect/reify/phases/Calculate.scala</code>.</p>"
      ]
    },
    {
      "cell_type": "markdown",
      "metadata": {
        "id": "wvc0vHp4CXC_"
      },
      "source": [
        "__Task 8: Instructions__\r\n",
        "\r\n",
        "Identify the most recent ten pull requests that touched `src/compiler/scala/reflect/reify/phases/Calculate.scala`.\r\n",
        "\r\n",
        "- Select the pull requests that touched the file and name the resulting DataFrame `file_pr`.\r\n",
        "\r\n",
        "- Merge `file_pr` with the `pulls` DataFrame on the `pid` column and name the resulting DataFrame `joined_pr`.\r\n",
        "\r\n",
        "- Using `set()`, create a set of users for the ten most recent pull requests.\r\n",
        "\r\n",
        "To find the ten most recent pull requests, use the `nlargest` function of a `DataFrame`. Again, pandas `nlargest` method [documentation](https://pandas.pydata.org/pandas-docs/version/0.17.0/generated/pandas.DataFrame.nlargest.html) may be helpful for this third bullet."
      ]
    },
    {
      "cell_type": "code",
      "metadata": {
        "tags": [
          "sample_code"
        ],
        "collapsed": true,
        "dc": {
          "key": "54"
        },
        "trusted": false,
        "colab": {
          "base_uri": "https://localhost:8080/"
        },
        "id": "jQGcbv_Ty5km",
        "outputId": "f27567e2-759b-42ba-bdee-bd9dc8bf09e2"
      },
      "source": [
        "file = 'src/compiler/scala/reflect/reify/phases/Calculate.scala'\n",
        "\n",
        "# Select the pull requests that changed the target file\n",
        "file_pr = pull_files[pull_files['file'] == file]\n",
        "\n",
        "# Merge the obtained results with the pulls DataFrame\n",
        "joined_pr = pulls.merge(file_pr, on='pid')\n",
        "\n",
        "# Find the users of the last 10 most recent pull requests\n",
        "users_last_10 = set(joined_pr.nlargest(10, 'date')['user'])\n",
        "\n",
        "# Printing the results\n",
        "users_last_10"
      ],
      "execution_count": 10,
      "outputs": [
        {
          "output_type": "execute_result",
          "data": {
            "text/plain": [
              "{'bjornregnell', 'retronym', 'soc', 'starblood', 'xeno-by', 'zuvizudar'}"
            ]
          },
          "metadata": {
            "tags": []
          },
          "execution_count": 10
        }
      ]
    },
    {
      "cell_type": "markdown",
      "metadata": {
        "deletable": false,
        "run_control": {
          "frozen": true
        },
        "editable": false,
        "dc": {
          "key": "61"
        },
        "tags": [
          "context"
        ],
        "id": "VoReLpGty5kq"
      },
      "source": [
        "## 9. The pull requests of two special developers\n",
        "<p>Now that we have identified two potential contacts in the projects, we need to find the person who was most involved in the project in recent times. That person is most likely to answer our questions. For each calendar year, we are interested in understanding the number of pull requests the authors submitted. This will give us a high-level image of their contribution trend to the project.</p>"
      ]
    },
    {
      "cell_type": "markdown",
      "metadata": {
        "id": "F_MAajMXDfN8"
      },
      "source": [
        "__Task 9: Instructions__\r\n",
        "\r\n",
        "Plot the number of pull requests for two developers, over time.\r\n",
        "\r\n",
        "- Using the `pulls` DataFrame, select all of the pull requests by these two developers and name the resulting DataFrame `by_author`.\r\n",
        "\r\n",
        "- Fill in the `groupby` parameters to count the number of pull requests submitted by each author each year. That is, `group` by user and the year property of `date`.\r\n",
        "\r\n",
        "- Plot `counts_wide` using a bar chart.\r\n",
        "\r\n",
        "pandas `isin` method ([documentation](https://pandas.pydata.org/pandas-docs/stable/reference/api/pandas.DataFrame.isin.html) will be helpful for bullet one.\r\n",
        "\r\n",
        "`DateTime` objects expose the components of a date through their `dt` accessors.\r\n",
        "\r\n",
        "`counts` is transformed to a wide format to make plotting the bar chart of pull request count (y-axis) by year (x-axis) by user (legend) easier."
      ]
    },
    {
      "cell_type": "code",
      "metadata": {
        "tags": [
          "sample_code"
        ],
        "collapsed": true,
        "dc": {
          "key": "61"
        },
        "trusted": false,
        "colab": {
          "base_uri": "https://localhost:8080/",
          "height": 312
        },
        "id": "1EvSAPF7y5kr",
        "outputId": "99c6eac0-4cd7-45e3-ef51-18e0437580dc"
      },
      "source": [
        "%matplotlib inline\n",
        "\n",
        "# The developers we are interested in\n",
        "authors = ['xeno-by', 'soc']\n",
        "\n",
        "# Get all the developers' pull requests\n",
        "by_author = pulls[pulls['user'].isin(authors)]\n",
        "\n",
        "# Count the number of pull requests submitted each year\n",
        "counts = by_author.groupby([by_author['user'], by_author['date'].dt.year]).agg({'pid': 'count'}).reset_index()\n",
        "\n",
        "# Convert the table to a wide format\n",
        "counts_wide = counts.pivot_table(index='date', columns='user', values='pid', fill_value=0)\n",
        "\n",
        "# Plot the results\n",
        "counts_wide.plot(kind='bar')"
      ],
      "execution_count": 11,
      "outputs": [
        {
          "output_type": "execute_result",
          "data": {
            "text/plain": [
              "<matplotlib.axes._subplots.AxesSubplot at 0x7faeb2f7ebe0>"
            ]
          },
          "metadata": {
            "tags": []
          },
          "execution_count": 11
        },
        {
          "output_type": "display_data",
          "data": {
            "image/png": "[encoded data removed]",
            "text/plain": [
              "<Figure size 432x288 with 1 Axes>"
            ]
          },
          "metadata": {
            "tags": [],
            "needs_background": "light"
          }
        }
      ]
    },
    {
      "cell_type": "markdown",
      "metadata": {
        "deletable": false,
        "run_control": {
          "frozen": true
        },
        "editable": false,
        "dc": {
          "key": "68"
        },
        "tags": [
          "context"
        ],
        "id": "Eb1OrQJMy5ks"
      },
      "source": [
        "## 10. Visualizing the contributions of each developer\n",
        "<p>As mentioned before, it is important to make a distinction between the global expertise and contribution levels and the contribution levels at a more granular level (file, submodule, etc.) In our case, we want to see which of our two developers of interest have the most experience with the code in a given file. We will measure experience by the number of pull requests submitted that affect that file and how recent those pull requests were submitted.</p>"
      ]
    },
    {
      "cell_type": "markdown",
      "metadata": {
        "id": "cupL7X4wEYaf"
      },
      "source": [
        "__Task 10: Instructions__\r\n",
        "\r\n",
        "Calculate the number of pull requests submitted by a developer to a file each year.\r\n",
        "\r\n",
        "- Select the pull requests submitted by the authors from the `data` DataFrame and name the results `by_author`.\r\n",
        "\r\n",
        "- Select the pull requests from `by_author` that affect the file and name the results `by_file`.\r\n",
        "\r\n",
        "- Transform `grouped` into a wide format using `pivot_table`. Name the results `by_file_wide`.\r\n",
        "\r\n",
        "The code required to complete bullet one in this task is the same as the code for bullet one in task 9, except on the `data` DataFrame instead of the `pulls` DataFrame.\r\n",
        "\r\n",
        "`by_file` is transformed to a wide format to make plotting the bar chart of pull request count (y-axis) by year (x-axis) by user (legend) easier. The columns for `by_file_wide` are as follows:\r\n",
        "\r\n",
        "- Index column: `date`\r\n",
        "- Columns to expand: `user`\r\n",
        "- Value columns: `pid`\r\n",
        "- Fill value: 0"
      ]
    },
    {
      "cell_type": "code",
      "metadata": {
        "tags": [
          "sample_code"
        ],
        "collapsed": true,
        "dc": {
          "key": "68"
        },
        "trusted": false,
        "colab": {
          "base_uri": "https://localhost:8080/",
          "height": 312
        },
        "id": "-Nz-z3Jqy5kx",
        "outputId": "9f29a487-923c-4549-8f0c-eb1953bede73"
      },
      "source": [
        "file = 'src/compiler/scala/reflect/reify/phases/Calculate.scala'\n",
        "\n",
        "# Merge DataFrames and select the pull requests by the author\n",
        "by_author = data[data['user'].isin(authors)]\n",
        "\n",
        "# Select the pull requests that affect the file\n",
        "by_file = by_author[by_author['file'] == file]\n",
        "\n",
        "# Group and count the number of PRs done by each user each year\n",
        "grouped = by_file.groupby(['user', by_file['date'].dt.year]).count()['pid'].reset_index()\n",
        "\n",
        "# Transform the data into a wide format\n",
        "by_file_wide = grouped.pivot_table(index='date', columns='user', values='pid', fill_value=0)\n",
        "\n",
        "# Plot the results\n",
        "by_file_wide.plot(kind='bar')"
      ],
      "execution_count": 12,
      "outputs": [
        {
          "output_type": "execute_result",
          "data": {
            "text/plain": [
              "<matplotlib.axes._subplots.AxesSubplot at 0x7faeb1c3a780>"
            ]
          },
          "metadata": {
            "tags": []
          },
          "execution_count": 12
        },
        {
          "output_type": "display_data",
          "data": {
            "image/png": "[encoded data removed]",
            "text/plain": [
              "<Figure size 432x288 with 1 Axes>"
            ]
          },
          "metadata": {
            "tags": [],
            "needs_background": "light"
          }
        }
      ]
    }
  ]
}