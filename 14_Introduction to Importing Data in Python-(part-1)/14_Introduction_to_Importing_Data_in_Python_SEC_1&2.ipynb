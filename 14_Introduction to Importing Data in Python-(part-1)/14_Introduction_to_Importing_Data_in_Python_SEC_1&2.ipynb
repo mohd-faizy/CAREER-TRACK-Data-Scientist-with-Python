{
  "cells": [
    {
      "cell_type": "markdown",
      "metadata": {
        "id": "SWtZYSlC45Ky"
      },
      "source": [
        "# <center>**Introduction to Importing Data in Python**</center>"
      ]
    },
    {
      "cell_type": "code",
      "execution_count": 1,
      "metadata": {
        "id": "3HE0AQkGDpPT"
      },
      "outputs": [],
      "source": [
        "import pandas as pd\n",
        "import numpy as np\n",
        "import seaborn as sns\n",
        "import matplotlib.pyplot as plt"
      ]
    },
    {
      "cell_type": "code",
      "execution_count": 2,
      "metadata": {
        "colab": {
          "base_uri": "https://localhost:8080/"
        },
        "id": "3nJF8TMG0lMm",
        "outputId": "ce0f7d69-1ad0-4684-eb12-b3d810ffbf54"
      },
      "outputs": [
        {
          "output_type": "stream",
          "name": "stdout",
          "text": [
            "Cloning into 'CAREER-TRACK-Data-Scientist-with-Python'...\n",
            "remote: Enumerating objects: 3021, done.\u001b[K\n",
            "remote: Counting objects: 100% (328/328), done.\u001b[K\n",
            "remote: Compressing objects: 100% (210/210), done.\u001b[K\n",
            "remote: Total 3021 (delta 110), reused 327 (delta 110), pack-reused 2693\u001b[K\n",
            "Receiving objects: 100% (3021/3021), 433.84 MiB | 17.88 MiB/s, done.\n",
            "Resolving deltas: 100% (1094/1094), done.\n",
            "Updating files: 100% (915/915), done.\n"
          ]
        }
      ],
      "source": [
        "! git clone https://github.com/mohd-faizy/CAREER-TRACK-Data-Scientist-with-Python.git"
      ]
    },
    {
      "cell_type": "code",
      "source": [
        "url_Chinook = '/content/CAREER-TRACK-Data-Scientist-with-Python/14_Introduction to Importing Data in Python-(part-1)/_datasets/Chinook.sqlite'\n",
        "url_Chinook_db = '/content/CAREER-TRACK-Data-Scientist-with-Python/14_Introduction to Importing Data in Python-(part-1)/_datasets/chinook.db'\n",
        "url_LIGO = '/content/CAREER-TRACK-Data-Scientist-with-Python/14_Introduction to Importing Data in Python-(part-1)/_datasets/LIGO.hdf5'\n",
        "url_albeck_gene_expression = '/content/CAREER-TRACK-Data-Scientist-with-Python/14_Introduction to Importing Data in Python-(part-1)/_datasets/albeck_gene_expression.mat'\n",
        "url_battledeath = '/content/CAREER-TRACK-Data-Scientist-with-Python/14_Introduction to Importing Data in Python-(part-1)/_datasets/battledeath.xlsx'\n",
        "url_disarea = '/content/CAREER-TRACK-Data-Scientist-with-Python/14_Introduction to Importing Data in Python-(part-1)/_datasets/disarea.dta'\n",
        "url_sales = '/content/CAREER-TRACK-Data-Scientist-with-Python/14_Introduction to Importing Data in Python-(part-1)/_datasets/sales.sas7bdat'\n",
        "url_mnist_kaggle_some_rows = '/content/CAREER-TRACK-Data-Scientist-with-Python/14_Introduction to Importing Data in Python-(part-1)/_datasets/mnist_kaggle_some_rows.csv'\n",
        "url_digits = '/content/CAREER-TRACK-Data-Scientist-with-Python/14_Introduction to Importing Data in Python-(part-1)/_datasets/digits.csv'\n",
        "url_titanic = '/content/CAREER-TRACK-Data-Scientist-with-Python/14_Introduction to Importing Data in Python-(part-1)/_datasets/titanic.csv'\n",
        "url_moby_dick = '/content/CAREER-TRACK-Data-Scientist-with-Python/14_Introduction to Importing Data in Python-(part-1)/_datasets/moby_dick.txt'\n",
        "url_titanic_corrupt = '/content/CAREER-TRACK-Data-Scientist-with-Python/14_Introduction to Importing Data in Python-(part-1)/_datasets/titanic_corrupt.txt'\n",
        "url_seaslug = '/content/CAREER-TRACK-Data-Scientist-with-Python/14_Introduction to Importing Data in Python-(part-1)/_datasets/seaslug.txt'"
      ],
      "metadata": {
        "id": "UTswA6T_sWeA"
      },
      "execution_count": 3,
      "outputs": []
    },
    {
      "cell_type": "markdown",
      "metadata": {
        "id": "rxK0-KhAgEo9"
      },
      "source": [
        "## **1️⃣Introduction and flat files**"
      ]
    },
    {
      "cell_type": "markdown",
      "metadata": {
        "id": "8l3RaPKx06jW"
      },
      "source": [
        "### **Welcome to the course!**\n"
      ]
    },
    {
      "cell_type": "markdown",
      "metadata": {
        "id": "0yVh4uKF1lE_"
      },
      "source": [
        "#### **Importing entire text files**\n"
      ]
    },
    {
      "cell_type": "code",
      "execution_count": 4,
      "metadata": {
        "id": "6gMts65s2D6u",
        "colab": {
          "base_uri": "https://localhost:8080/"
        },
        "outputId": "9c70b858-c9ca-4a64-d98f-d5642a861cc7"
      },
      "outputs": [
        {
          "output_type": "stream",
          "name": "stdout",
          "text": [
            "CHAPTER 1. Loomings.\n",
            "\n",
            "Call me Ishmael. Some years ago--never mind how long precisely--having\n",
            "little or no money in my purse, and nothing particular to interest me on\n",
            "shore, I thought I would sail about a little and see the watery part of\n",
            "the world. It is a way I have of driving off the spleen and regulating\n",
            "the circulation. Whenever I find myself growing grim about the mouth;\n",
            "whenever it is a damp, drizzly November in my soul; whenever I find\n",
            "myself involuntarily pausing before coffin warehouses, and bringing up\n",
            "the rear of every funeral I meet; and especially whenever my hypos get\n",
            "such an upper hand of me, that it requires a strong moral principle to\n",
            "prevent me from deliberately stepping into the street, and methodically\n",
            "knocking people's hats off--then, I account it high time to get to sea\n",
            "as soon as I can. This is my substitute for pistol and ball. With a\n",
            "philosophical flourish Cato throws himself upon his sword; I quietly\n",
            "take to the ship. There is nothing surprising in this. If they but knew\n",
            "it, almost all men in their degree, some time or other, cherish very\n",
            "nearly the same feelings towards the ocean with me.\n",
            "False\n",
            "True\n"
          ]
        }
      ],
      "source": [
        "# Open a file: file\n",
        "file = open(url_moby_dick, mode='r')\n",
        "\n",
        "# Print it\n",
        "print(file.read())\n",
        "\n",
        "# Check whether file is closed\n",
        "print(file.closed)\n",
        "\n",
        "# Close file\n",
        "file.close()\n",
        "\n",
        "# Check whether file is closed\n",
        "print(file.closed)"
      ]
    },
    {
      "cell_type": "markdown",
      "metadata": {
        "id": "MVECPlIe1mu2"
      },
      "source": [
        "#### **Importing text files line by line**\n"
      ]
    },
    {
      "cell_type": "code",
      "execution_count": 5,
      "metadata": {
        "id": "8XL9r15h2Ecm",
        "colab": {
          "base_uri": "https://localhost:8080/"
        },
        "outputId": "41cf28d2-6190-4866-85fb-c239f31aa423"
      },
      "outputs": [
        {
          "output_type": "stream",
          "name": "stdout",
          "text": [
            "CHAPTER 1. Loomings.\n",
            "\n",
            "\n",
            "\n",
            "Call me Ishmael. Some years ago--never mind how long precisely--having\n",
            "\n"
          ]
        }
      ],
      "source": [
        "# Read & print the first 3 lines\n",
        "with open(url_moby_dick) as file:\n",
        "    print(file.readline())\n",
        "    print(file.readline())\n",
        "    print(file.readline())"
      ]
    },
    {
      "cell_type": "markdown",
      "metadata": {
        "id": "w8Ft_n9y1oZl"
      },
      "source": [
        "### **The importance of flat files in data science**\n"
      ]
    },
    {
      "cell_type": "markdown",
      "metadata": {
        "id": "CICJd_mM1qW2"
      },
      "source": [
        "#### **Examples of flat files**\n",
        "\n",
        "Flat files consist of multiple tables with structured relationships between the tables.\n",
        "\n",
        "- Comma-separated values (`CSV`)\n",
        "- Tab-separated values (`TSV`)\n",
        "- JavaScript Object Notation(`JSON`)\n",
        "- eXtensible Markup Language(`XML`)\n",
        "\n"
      ]
    },
    {
      "cell_type": "markdown",
      "metadata": {
        "id": "DowkFRLD1vYn"
      },
      "source": [
        "### **Importing flat files using NumPy**\n"
      ]
    },
    {
      "cell_type": "markdown",
      "metadata": {
        "id": "TnVgsyJc1wwp"
      },
      "source": [
        "#### **Using NumPy to import flat files**\n"
      ]
    },
    {
      "cell_type": "code",
      "execution_count": 6,
      "metadata": {
        "id": "Xw6VclPD2GLW",
        "colab": {
          "base_uri": "https://localhost:8080/",
          "height": 447
        },
        "outputId": "a6540e71-b618-4578-c54f-c5e5a1f9204c"
      },
      "outputs": [
        {
          "output_type": "stream",
          "name": "stdout",
          "text": [
            "<class 'numpy.ndarray'>\n"
          ]
        },
        {
          "output_type": "display_data",
          "data": {
            "text/plain": [
              "<Figure size 640x480 with 1 Axes>"
            ],
            "image/png": "[encoded data removed]"
          },
          "metadata": {}
        }
      ],
      "source": [
        "# Import package\n",
        "import numpy as np\n",
        "import matplotlib.pyplot as plt\n",
        "\n",
        "# Assign filename to variable: file\n",
        "file = url_digits\n",
        "\n",
        "# Load file as array: digits\n",
        "digits = np.loadtxt(file, delimiter=',')\n",
        "\n",
        "# Print datatype of digits\n",
        "print(type(digits))\n",
        "\n",
        "# Select and reshape a row\n",
        "im = digits[21, 1:]\n",
        "im_sq = np.reshape(im, (28, 28))\n",
        "\n",
        "# Plot reshaped data (matplotlib.pyplot already loaded as plt)\n",
        "plt.imshow(im_sq, cmap='Greys', interpolation='nearest')\n",
        "plt.show()"
      ]
    },
    {
      "cell_type": "markdown",
      "metadata": {
        "id": "MYv0t34T1yjA"
      },
      "source": [
        "#### **Customizing your NumPy import**\n"
      ]
    },
    {
      "cell_type": "code",
      "execution_count": 7,
      "metadata": {
        "id": "RjY0N6Xd2Gi-",
        "colab": {
          "base_uri": "https://localhost:8080/"
        },
        "outputId": "97af6566-2a06-4f70-8f09-b13bb5727a1b"
      },
      "outputs": [
        {
          "output_type": "stream",
          "name": "stdout",
          "text": [
            "[('Person1', 24) ('Person2', 39) ('Person3', 35) ('Person4', 20)\n",
            " ('Person5', 24) ('Person6', 30) ('Person7', 33) ('Person8', 38)\n",
            " ('Person9', 40) ('Person10', 27)]\n"
          ]
        }
      ],
      "source": [
        "import random\n",
        "import numpy as np\n",
        "\n",
        "# Create sample_data.txt file and write random data\n",
        "with open(\"sample_data.txt\", \"w\") as file:\n",
        "    # Write header\n",
        "    file.write(\"Name\\tAge\\n\")\n",
        "\n",
        "    # Generate and write random data rows\n",
        "    for i in range(10):\n",
        "        name = f\"Person{i+1}\"\n",
        "        age = random.randint(20, 50)\n",
        "        file.write(f\"{name}\\t{age}\\n\")\n",
        "\n",
        "# Load the data from sample_data.txt using NumPy\n",
        "data = np.loadtxt(\"sample_data.txt\", delimiter='\\t', skiprows=1, usecols=(0, 1), dtype='U10, int')\n",
        "\n",
        "# Print data\n",
        "print(data)"
      ]
    },
    {
      "cell_type": "code",
      "source": [
        "name = \"John\"\n",
        "age = 30\n",
        "occupation = \"Engineer\"\n",
        "\n",
        "print(\"Name:\\t\", name)\n",
        "print(\"Age:\\t\", age)\n",
        "print(\"Occupation:\\t\", occupation)"
      ],
      "metadata": {
        "colab": {
          "base_uri": "https://localhost:8080/"
        },
        "id": "PfhvNur48q9V",
        "outputId": "f512a136-88b5-44bf-db99-b85f76a0cec1"
      },
      "execution_count": 8,
      "outputs": [
        {
          "output_type": "stream",
          "name": "stdout",
          "text": [
            "Name:\t John\n",
            "Age:\t 30\n",
            "Occupation:\t Engineer\n"
          ]
        }
      ]
    },
    {
      "cell_type": "markdown",
      "metadata": {
        "id": "bTohxCPB10L5"
      },
      "source": [
        "#### **Importing different datatypes**\n"
      ]
    },
    {
      "cell_type": "code",
      "execution_count": 9,
      "metadata": {
        "id": "h9aPXCXM2Hbm",
        "colab": {
          "base_uri": "https://localhost:8080/",
          "height": 484
        },
        "outputId": "0b6a3662-ae67-41fd-b6d6-2395f012b125"
      },
      "outputs": [
        {
          "output_type": "stream",
          "name": "stdout",
          "text": [
            "['Time' 'Percent']\n",
            "[0.    0.357]\n"
          ]
        },
        {
          "output_type": "display_data",
          "data": {
            "text/plain": [
              "<Figure size 640x480 with 1 Axes>"
            ],
            "image/png": "[encoded data removed]"
          },
          "metadata": {}
        }
      ],
      "source": [
        "import numpy as np\n",
        "import matplotlib.pyplot as plt\n",
        "\n",
        "# Assign filename: file\n",
        "file = url_seaslug\n",
        "\n",
        "# Import file: data\n",
        "data = np.loadtxt(file, delimiter='\\t', dtype=str)\n",
        "\n",
        "# Print the first element of data\n",
        "print(data[0])\n",
        "\n",
        "# Import data as floats and skip the first row: data_float\n",
        "data_float = np.loadtxt(file, delimiter='\\t', dtype=float, skiprows=1)\n",
        "\n",
        "# Print the 10th element of data_float\n",
        "print(data_float[9])\n",
        "\n",
        "# Plot a scatterplot of the data\n",
        "plt.scatter(data_float[:, 0], data_float[:, 1])\n",
        "plt.xlabel('time (min.)')\n",
        "plt.ylabel('percentage of larvae')\n",
        "plt.show()"
      ]
    },
    {
      "cell_type": "markdown",
      "metadata": {
        "id": "OHYMG4OW13IW"
      },
      "source": [
        "#### **Working with mixed datatypes**\n"
      ]
    },
    {
      "cell_type": "code",
      "execution_count": 10,
      "metadata": {
        "id": "EqVg6ik42IUW",
        "colab": {
          "base_uri": "https://localhost:8080/"
        },
        "outputId": "b813d354-99c4-4e35-baaf-9a3d06aef78b"
      },
      "outputs": [
        {
          "output_type": "stream",
          "name": "stdout",
          "text": [
            "(891,)\n",
            "[0 1 1 1 0 0 0 0 1 1 1 1 0 0 0 1 0 1 0 1 0 1 1 1 0 1 0 0 1 0 0 1 1 0 0 0 1\n",
            " 0 0 1 0 0 0 1 1 0 0 1 0 0 0 0 1 1 0 1 1 0 1 0 0 1 0 0 0 1 1 0 1 0 0 0 0 0\n",
            " 1 0 0 0 1 1 0 1 1 0 1 1 0 0 1 0 0 0 0 0 0 0 0 1 1 0 0 0 0 0 0 0 1 1 0 1 0\n",
            " 0 0 0 0 0 0 0 0 0 0 0 0 1 0 1 0 1 1 0 0 0 0 1 0 0 1 0 0 0 0 1 1 0 0 0 1 0\n",
            " 0 0 0 1 0 0 0 0 1 0 0 0 0 1 0 0 0 1 1 0 0 0 0 0 1 0 0 0 0 0 0 0 0 0 0 1 1\n",
            " 0 1 1 0 0 1 0 1 1 1 1 0 0 1 0 0 0 0 0 1 0 0 1 1 1 0 1 0 0 0 1 1 0 1 0 1 0\n",
            " 0 0 1 0 1 0 0 0 1 0 0 1 0 0 0 1 0 0 0 1 0 0 0 0 0 1 1 0 0 0 0 0 0 1 1 1 1\n",
            " 1 0 1 0 0 0 0 0 1 1 1 0 1 1 0 1 1 0 0 0 1 0 0 0 1 0 0 1 0 1 1 1 1 0 0 0 0\n",
            " 0 0 1 1 1 1 0 1 0 1 1 1 0 1 1 1 0 0 0 1 1 0 1 1 0 0 1 1 0 1 0 1 1 1 1 0 0\n",
            " 0 1 0 0 1 1 0 1 1 0 0 0 1 1 1 1 0 0 0 0 0 0 0 1 0 1 1 0 0 0 0 0 0 1 1 1 1\n",
            " 1 0 0 0 0 1 1 0 0 0 1 1 0 1 0 0 0 1 0 1 1 1 0 1 1 0 0 0 0 1 1 0 0 0 0 0 0\n",
            " 1 0 0 0 0 1 0 1 0 1 1 0 0 0 0 0 0 0 0 1 1 0 1 1 1 1 0 0 1 0 1 0 0 1 0 0 1\n",
            " 1 1 1 1 1 1 0 0 0 1 0 1 0 1 1 0 1 0 0 0 0 0 0 0 0 1 0 0 1 1 0 0 0 0 0 1 0\n",
            " 0 0 1 1 0 1 0 0 1 0 0 0 0 0 0 1 0 0 0 0 0 0 0 1 0 1 1 0 1 1 0 1 1 0 0 1 0\n",
            " 1 0 1 0 0 1 0 0 1 0 0 0 1 0 0 1 0 1 0 1 0 1 1 0 0 1 0 0 1 1 0 1 1 0 0 1 1\n",
            " 0 1 0 1 1 0 0 0 0 0 0 0 0 0 1 1 1 1 1 0 0 1 1 0 1 1 1 0 0 0 1 0 1 0 0 0 1\n",
            " 0 0 0 0 1 0 0 1 1 0 0 0 1 0 0 1 1 1 0 0 1 0 0 1 0 0 1 0 0 1 1 0 0 0 0 1 0\n",
            " 0 1 0 1 0 0 1 0 0 0 0 0 1 0 1 1 1 0 1 0 1 0 1 0 1 0 0 0 0 0 0 1 0 0 0 1 0\n",
            " 0 0 0 1 1 0 0 1 0 0 0 1 0 1 0 1 0 0 0 0 0 0 0 1 1 1 1 0 0 0 0 1 0 0 1 1 0\n",
            " 0 0 0 1 1 1 1 1 0 1 0 0 0 1 1 0 0 1 0 0 0 1 0 1 1 0 0 1 0 0 0 0 0 0 1 0 0\n",
            " 1 0 1 0 1 0 0 1 0 0 1 1 0 0 1 1 0 0 0 1 0 0 1 1 0 1 0 0 0 0 0 0 0 0 1 0 0\n",
            " 1 0 1 1 1 0 0 0 0 1 0 1 0 0 0 0 0 0 0 1 1 0 0 0 1 1 1 1 0 0 0 0 1 0 0 0 0\n",
            " 0 0 0 0 0 0 1 1 0 1 0 0 0 1 1 1 1 1 0 0 0 1 0 0 1 1 0 0 1 0 0 0 0 0 0 1 0\n",
            " 0 0 1 0 1 1 1 1 0 0 0 1 0 0 1 1 0 0 1 0 1 0 0 1 1 0 0 0 1 1 0 0 0 0 0 0 1\n",
            " 0 1 0]\n"
          ]
        },
        {
          "output_type": "stream",
          "name": "stderr",
          "text": [
            "<ipython-input-10-1b8721ebdbf5>:3: VisibleDeprecationWarning: Reading unicode strings without specifying the encoding argument is deprecated. Set the encoding, use None for the system default.\n",
            "  data = np.genfromtxt(url_titanic, delimiter=',', names=True, dtype=None)\n"
          ]
        }
      ],
      "source": [
        "import numpy as np  \n",
        "\n",
        "data = np.genfromtxt(url_titanic, delimiter=',', names=True, dtype=None)\n",
        "\n",
        "print(np.shape(data))\n",
        "print(data['Survived'])"
      ]
    },
    {
      "cell_type": "markdown",
      "source": [
        "- `np.genfromtxt` is a function provided by the NumPy library that is used to load data from a text file or URL into a NumPy array.\n",
        "\n",
        "- `delimiter=','`: This parameter specifies the delimiter used in the dataset to separate the values. In this case, a comma (,) is used as the delimiter. Each comma-separated value will be considered as a separate element in the resulting array.\n",
        "\n",
        "- `names=True` : This parameter indicates that the first row of the dataset contains column names. By setting this parameter to True, the function will use the first row to assign names to each column in the resulting array.\n",
        "\n",
        "- `dtype=None`: This parameter allows NumPy to infer the data types of the columns automatically. By setting it to None, NumPy will examine the values in the dataset and determine the appropriate data type for each column.\n"
      ],
      "metadata": {
        "id": "hmvExWPN-7j7"
      }
    },
    {
      "cell_type": "code",
      "source": [
        "# Assign the filename: file\n",
        "file = url_titanic\n",
        "\n",
        "# Import file using np.recfromcsv: d\n",
        "d = np.recfromcsv(file)\n",
        "\n",
        "# Print out first three entries of d\n",
        "print(d[:3])\n"
      ],
      "metadata": {
        "colab": {
          "base_uri": "https://localhost:8080/"
        },
        "id": "e3G2LqGZ9aJS",
        "outputId": "f5268892-058a-4239-dd54-c6fa53f5092b"
      },
      "execution_count": 11,
      "outputs": [
        {
          "output_type": "stream",
          "name": "stderr",
          "text": [
            "/usr/local/lib/python3.10/dist-packages/numpy/lib/npyio.py:2538: VisibleDeprecationWarning: Reading unicode strings without specifying the encoding argument is deprecated. Set the encoding, use None for the system default.\n",
            "  output = genfromtxt(fname, **kwargs)\n"
          ]
        },
        {
          "output_type": "stream",
          "name": "stdout",
          "text": [
            "[(1, 0, 3, b'male', 22., 1, 0, b'A/5 21171',  7.25  , b'', b'S')\n",
            " (2, 1, 1, b'female', 38., 1, 0, b'PC 17599', 71.2833, b'C85', b'C')\n",
            " (3, 1, 3, b'female', 26., 0, 0, b'STON/O2. 3101282',  7.925 , b'', b'S')]\n"
          ]
        }
      ]
    },
    {
      "cell_type": "markdown",
      "metadata": {
        "id": "F_j9h0uc146O"
      },
      "source": [
        "### **Importing flat files using pandas**\n"
      ]
    },
    {
      "cell_type": "markdown",
      "metadata": {
        "id": "37X_9oSa16p2"
      },
      "source": [
        "#### **Using pandas to import flat files as DataFrames (1)**\n"
      ]
    },
    {
      "cell_type": "code",
      "execution_count": 12,
      "metadata": {
        "id": "BSPl34yz2Iye",
        "colab": {
          "base_uri": "https://localhost:8080/",
          "height": 206
        },
        "outputId": "43481bf1-f5f5-4983-cf49-e9b21d65030c"
      },
      "outputs": [
        {
          "output_type": "execute_result",
          "data": {
            "text/plain": [
              "   PassengerId  Survived  Pclass     Sex   Age  SibSp  Parch  \\\n",
              "0            1         0       3    male  22.0      1      0   \n",
              "1            2         1       1  female  38.0      1      0   \n",
              "2            3         1       3  female  26.0      0      0   \n",
              "3            4         1       1  female  35.0      1      0   \n",
              "4            5         0       3    male  35.0      0      0   \n",
              "\n",
              "             Ticket     Fare Cabin Embarked  \n",
              "0         A/5 21171   7.2500   NaN        S  \n",
              "1          PC 17599  71.2833   C85        C  \n",
              "2  STON/O2. 3101282   7.9250   NaN        S  \n",
              "3            113803  53.1000  C123        S  \n",
              "4            373450   8.0500   NaN        S  "
            ],
            "text/html": [
              "\n",
              "  <div id=\"df-6a1455be-772e-43cd-9b00-a12758b95b3e\">\n",
              "    <div class=\"colab-df-container\">\n",
              "      <div>\n",
              "<style scoped>\n",
              "    .dataframe tbody tr th:only-of-type {\n",
              "        vertical-align: middle;\n",
              "    }\n",
              "\n",
              "    .dataframe tbody tr th {\n",
              "        vertical-align: top;\n",
              "    }\n",
              "\n",
              "    .dataframe thead th {\n",
              "        text-align: right;\n",
              "    }\n",
              "</style>\n",
              "<table border=\"1\" class=\"dataframe\">\n",
              "  <thead>\n",
              "    <tr style=\"text-align: right;\">\n",
              "      <th></th>\n",
              "      <th>PassengerId</th>\n",
              "      <th>Survived</th>\n",
              "      <th>Pclass</th>\n",
              "      <th>Sex</th>\n",
              "      <th>Age</th>\n",
              "      <th>SibSp</th>\n",
              "      <th>Parch</th>\n",
              "      <th>Ticket</th>\n",
              "      <th>Fare</th>\n",
              "      <th>Cabin</th>\n",
              "      <th>Embarked</th>\n",
              "    </tr>\n",
              "  </thead>\n",
              "  <tbody>\n",
              "    <tr>\n",
              "      <th>0</th>\n",
              "      <td>1</td>\n",
              "      <td>0</td>\n",
              "      <td>3</td>\n",
              "      <td>male</td>\n",
              "      <td>22.0</td>\n",
              "      <td>1</td>\n",
              "      <td>0</td>\n",
              "      <td>A/5 21171</td>\n",
              "      <td>7.2500</td>\n",
              "      <td>NaN</td>\n",
              "      <td>S</td>\n",
              "    </tr>\n",
              "    <tr>\n",
              "      <th>1</th>\n",
              "      <td>2</td>\n",
              "      <td>1</td>\n",
              "      <td>1</td>\n",
              "      <td>female</td>\n",
              "      <td>38.0</td>\n",
              "      <td>1</td>\n",
              "      <td>0</td>\n",
              "      <td>PC 17599</td>\n",
              "      <td>71.2833</td>\n",
              "      <td>C85</td>\n",
              "      <td>C</td>\n",
              "    </tr>\n",
              "    <tr>\n",
              "      <th>2</th>\n",
              "      <td>3</td>\n",
              "      <td>1</td>\n",
              "      <td>3</td>\n",
              "      <td>female</td>\n",
              "      <td>26.0</td>\n",
              "      <td>0</td>\n",
              "      <td>0</td>\n",
              "      <td>STON/O2. 3101282</td>\n",
              "      <td>7.9250</td>\n",
              "      <td>NaN</td>\n",
              "      <td>S</td>\n",
              "    </tr>\n",
              "    <tr>\n",
              "      <th>3</th>\n",
              "      <td>4</td>\n",
              "      <td>1</td>\n",
              "      <td>1</td>\n",
              "      <td>female</td>\n",
              "      <td>35.0</td>\n",
              "      <td>1</td>\n",
              "      <td>0</td>\n",
              "      <td>113803</td>\n",
              "      <td>53.1000</td>\n",
              "      <td>C123</td>\n",
              "      <td>S</td>\n",
              "    </tr>\n",
              "    <tr>\n",
              "      <th>4</th>\n",
              "      <td>5</td>\n",
              "      <td>0</td>\n",
              "      <td>3</td>\n",
              "      <td>male</td>\n",
              "      <td>35.0</td>\n",
              "      <td>0</td>\n",
              "      <td>0</td>\n",
              "      <td>373450</td>\n",
              "      <td>8.0500</td>\n",
              "      <td>NaN</td>\n",
              "      <td>S</td>\n",
              "    </tr>\n",
              "  </tbody>\n",
              "</table>\n",
              "</div>\n",
              "      <button class=\"colab-df-convert\" onclick=\"convertToInteractive('df-6a1455be-772e-43cd-9b00-a12758b95b3e')\"\n",
              "              title=\"Convert this dataframe to an interactive table.\"\n",
              "              style=\"display:none;\">\n",
              "        \n",
              "  <svg xmlns=\"http://www.w3.org/2000/svg\" height=\"24px\"viewBox=\"0 0 24 24\"\n",
              "       width=\"24px\">\n",
              "    <path d=\"M0 0h24v24H0V0z\" fill=\"none\"/>\n",
              "    <path d=\"M18.56 5.44l.94 2.06.94-2.06 2.06-.94-2.06-.94-.94-2.06-.94 2.06-2.06.94zm-11 1L8.5 8.5l.94-2.06 2.06-.94-2.06-.94L8.5 2.5l-.94 2.06-2.06.94zm10 10l.94 2.06.94-2.06 2.06-.94-2.06-.94-.94-2.06-.94 2.06-2.06.94z\"/><path d=\"M17.41 7.96l-1.37-1.37c-.4-.4-.92-.59-1.43-.59-.52 0-1.04.2-1.43.59L10.3 9.45l-7.72 7.72c-.78.78-.78 2.05 0 2.83L4 21.41c.39.39.9.59 1.41.59.51 0 1.02-.2 1.41-.59l7.78-7.78 2.81-2.81c.8-.78.8-2.07 0-2.86zM5.41 20L4 18.59l7.72-7.72 1.47 1.35L5.41 20z\"/>\n",
              "  </svg>\n",
              "      </button>\n",
              "      \n",
              "  <style>\n",
              "    .colab-df-container {\n",
              "      display:flex;\n",
              "      flex-wrap:wrap;\n",
              "      gap: 12px;\n",
              "    }\n",
              "\n",
              "    .colab-df-convert {\n",
              "      background-color: #E8F0FE;\n",
              "      border: none;\n",
              "      border-radius: 50%;\n",
              "      cursor: pointer;\n",
              "      display: none;\n",
              "      fill: #1967D2;\n",
              "      height: 32px;\n",
              "      padding: 0 0 0 0;\n",
              "      width: 32px;\n",
              "    }\n",
              "\n",
              "    .colab-df-convert:hover {\n",
              "      background-color: #E2EBFA;\n",
              "      box-shadow: 0px 1px 2px rgba(60, 64, 67, 0.3), 0px 1px 3px 1px rgba(60, 64, 67, 0.15);\n",
              "      fill: #174EA6;\n",
              "    }\n",
              "\n",
              "    [theme=dark] .colab-df-convert {\n",
              "      background-color: #3B4455;\n",
              "      fill: #D2E3FC;\n",
              "    }\n",
              "\n",
              "    [theme=dark] .colab-df-convert:hover {\n",
              "      background-color: #434B5C;\n",
              "      box-shadow: 0px 1px 3px 1px rgba(0, 0, 0, 0.15);\n",
              "      filter: drop-shadow(0px 1px 2px rgba(0, 0, 0, 0.3));\n",
              "      fill: #FFFFFF;\n",
              "    }\n",
              "  </style>\n",
              "\n",
              "      <script>\n",
              "        const buttonEl =\n",
              "          document.querySelector('#df-6a1455be-772e-43cd-9b00-a12758b95b3e button.colab-df-convert');\n",
              "        buttonEl.style.display =\n",
              "          google.colab.kernel.accessAllowed ? 'block' : 'none';\n",
              "\n",
              "        async function convertToInteractive(key) {\n",
              "          const element = document.querySelector('#df-6a1455be-772e-43cd-9b00-a12758b95b3e');\n",
              "          const dataTable =\n",
              "            await google.colab.kernel.invokeFunction('convertToInteractive',\n",
              "                                                     [key], {});\n",
              "          if (!dataTable) return;\n",
              "\n",
              "          const docLinkHtml = 'Like what you see? Visit the ' +\n",
              "            '<a target=\"_blank\" href=https://colab.research.google.com/notebooks/data_table.ipynb>data table notebook</a>'\n",
              "            + ' to learn more about interactive tables.';\n",
              "          element.innerHTML = '';\n",
              "          dataTable['output_type'] = 'display_data';\n",
              "          await google.colab.output.renderOutput(dataTable, element);\n",
              "          const docLink = document.createElement('div');\n",
              "          docLink.innerHTML = docLinkHtml;\n",
              "          element.appendChild(docLink);\n",
              "        }\n",
              "      </script>\n",
              "    </div>\n",
              "  </div>\n",
              "  "
            ]
          },
          "metadata": {},
          "execution_count": 12
        }
      ],
      "source": [
        "# Import pandas as pd\n",
        "import pandas as pd\n",
        "\n",
        "# Assign the filename: file\n",
        "file = url_titanic\n",
        "\n",
        "# Read the file into a DataFrame: df\n",
        "df = pd.read_csv(file)\n",
        "\n",
        "# View the head of the DataFrame\n",
        "df.head()"
      ]
    },
    {
      "cell_type": "markdown",
      "metadata": {
        "id": "HOVzP88H18Ne"
      },
      "source": [
        "#### **Using pandas to import flat files as DataFrames (2)**\n"
      ]
    },
    {
      "cell_type": "code",
      "execution_count": 13,
      "metadata": {
        "id": "6HJfMTM62JQO",
        "colab": {
          "base_uri": "https://localhost:8080/"
        },
        "outputId": "2c919e9e-875f-4812-82ac-cdfadf50dcd8"
      },
      "outputs": [
        {
          "output_type": "stream",
          "name": "stdout",
          "text": [
            "<class 'numpy.ndarray'>\n"
          ]
        }
      ],
      "source": [
        "import numpy as np\n",
        "import pandas as pd\n",
        "\n",
        "# Assign the filename: file\n",
        "file = url_digits\n",
        "\n",
        "# Read the first 5 rows of the file into a DataFrame: data\n",
        "data = pd.read_csv(file, nrows=5, header=None)\n",
        "\n",
        "# Build a numpy array from the DataFrame: data_array\n",
        "data_array = data.values\n",
        "\n",
        "# Print the datatype of data_array to the shell\n",
        "print(type(data_array))"
      ]
    },
    {
      "cell_type": "markdown",
      "metadata": {
        "id": "C2I8MldK19o2"
      },
      "source": [
        "#### **Customizing your pandas import**\n"
      ]
    },
    {
      "cell_type": "code",
      "execution_count": 14,
      "metadata": {
        "id": "AEfSBNRp2J_n",
        "colab": {
          "base_uri": "https://localhost:8080/",
          "height": 661
        },
        "outputId": "dcd4721e-0cfa-4b8a-9028-4d7a712d0a48"
      },
      "outputs": [
        {
          "output_type": "display_data",
          "data": {
            "text/plain": [
              "   PassengerId  Survived  Pclass     Sex   Age  SibSp  Parch  \\\n",
              "0            1         0       3    male  22.0      1      0   \n",
              "1            2         1       1  female  38.0      1      0   \n",
              "2            3         1       3  female  26.0      0      0   \n",
              "3            4         1       1  female  35.0      1      0   \n",
              "4            5         0       3    male  35.0      0      0   \n",
              "\n",
              "             Ticket     Fare Cabin    Embarked  \n",
              "0         A/5 21171   7.2500   NaN  S #dfafdad  \n",
              "1       PC 17599#to  71.2833   C85           C  \n",
              "2  STON/O2. 3101282   7.9250   NaN           S  \n",
              "3            113803  53.1000  C123           S  \n",
              "4            373450   8.0500   NaN           S  "
            ],
            "text/html": [
              "\n",
              "  <div id=\"df-ef3a011c-94c8-4bd4-b5cd-64e9f409df75\">\n",
              "    <div class=\"colab-df-container\">\n",
              "      <div>\n",
              "<style scoped>\n",
              "    .dataframe tbody tr th:only-of-type {\n",
              "        vertical-align: middle;\n",
              "    }\n",
              "\n",
              "    .dataframe tbody tr th {\n",
              "        vertical-align: top;\n",
              "    }\n",
              "\n",
              "    .dataframe thead th {\n",
              "        text-align: right;\n",
              "    }\n",
              "</style>\n",
              "<table border=\"1\" class=\"dataframe\">\n",
              "  <thead>\n",
              "    <tr style=\"text-align: right;\">\n",
              "      <th></th>\n",
              "      <th>PassengerId</th>\n",
              "      <th>Survived</th>\n",
              "      <th>Pclass</th>\n",
              "      <th>Sex</th>\n",
              "      <th>Age</th>\n",
              "      <th>SibSp</th>\n",
              "      <th>Parch</th>\n",
              "      <th>Ticket</th>\n",
              "      <th>Fare</th>\n",
              "      <th>Cabin</th>\n",
              "      <th>Embarked</th>\n",
              "    </tr>\n",
              "  </thead>\n",
              "  <tbody>\n",
              "    <tr>\n",
              "      <th>0</th>\n",
              "      <td>1</td>\n",
              "      <td>0</td>\n",
              "      <td>3</td>\n",
              "      <td>male</td>\n",
              "      <td>22.0</td>\n",
              "      <td>1</td>\n",
              "      <td>0</td>\n",
              "      <td>A/5 21171</td>\n",
              "      <td>7.2500</td>\n",
              "      <td>NaN</td>\n",
              "      <td>S #dfafdad</td>\n",
              "    </tr>\n",
              "    <tr>\n",
              "      <th>1</th>\n",
              "      <td>2</td>\n",
              "      <td>1</td>\n",
              "      <td>1</td>\n",
              "      <td>female</td>\n",
              "      <td>38.0</td>\n",
              "      <td>1</td>\n",
              "      <td>0</td>\n",
              "      <td>PC 17599#to</td>\n",
              "      <td>71.2833</td>\n",
              "      <td>C85</td>\n",
              "      <td>C</td>\n",
              "    </tr>\n",
              "    <tr>\n",
              "      <th>2</th>\n",
              "      <td>3</td>\n",
              "      <td>1</td>\n",
              "      <td>3</td>\n",
              "      <td>female</td>\n",
              "      <td>26.0</td>\n",
              "      <td>0</td>\n",
              "      <td>0</td>\n",
              "      <td>STON/O2. 3101282</td>\n",
              "      <td>7.9250</td>\n",
              "      <td>NaN</td>\n",
              "      <td>S</td>\n",
              "    </tr>\n",
              "    <tr>\n",
              "      <th>3</th>\n",
              "      <td>4</td>\n",
              "      <td>1</td>\n",
              "      <td>1</td>\n",
              "      <td>female</td>\n",
              "      <td>35.0</td>\n",
              "      <td>1</td>\n",
              "      <td>0</td>\n",
              "      <td>113803</td>\n",
              "      <td>53.1000</td>\n",
              "      <td>C123</td>\n",
              "      <td>S</td>\n",
              "    </tr>\n",
              "    <tr>\n",
              "      <th>4</th>\n",
              "      <td>5</td>\n",
              "      <td>0</td>\n",
              "      <td>3</td>\n",
              "      <td>male</td>\n",
              "      <td>35.0</td>\n",
              "      <td>0</td>\n",
              "      <td>0</td>\n",
              "      <td>373450</td>\n",
              "      <td>8.0500</td>\n",
              "      <td>NaN</td>\n",
              "      <td>S</td>\n",
              "    </tr>\n",
              "  </tbody>\n",
              "</table>\n",
              "</div>\n",
              "      <button class=\"colab-df-convert\" onclick=\"convertToInteractive('df-ef3a011c-94c8-4bd4-b5cd-64e9f409df75')\"\n",
              "              title=\"Convert this dataframe to an interactive table.\"\n",
              "              style=\"display:none;\">\n",
              "        \n",
              "  <svg xmlns=\"http://www.w3.org/2000/svg\" height=\"24px\"viewBox=\"0 0 24 24\"\n",
              "       width=\"24px\">\n",
              "    <path d=\"M0 0h24v24H0V0z\" fill=\"none\"/>\n",
              "    <path d=\"M18.56 5.44l.94 2.06.94-2.06 2.06-.94-2.06-.94-.94-2.06-.94 2.06-2.06.94zm-11 1L8.5 8.5l.94-2.06 2.06-.94-2.06-.94L8.5 2.5l-.94 2.06-2.06.94zm10 10l.94 2.06.94-2.06 2.06-.94-2.06-.94-.94-2.06-.94 2.06-2.06.94z\"/><path d=\"M17.41 7.96l-1.37-1.37c-.4-.4-.92-.59-1.43-.59-.52 0-1.04.2-1.43.59L10.3 9.45l-7.72 7.72c-.78.78-.78 2.05 0 2.83L4 21.41c.39.39.9.59 1.41.59.51 0 1.02-.2 1.41-.59l7.78-7.78 2.81-2.81c.8-.78.8-2.07 0-2.86zM5.41 20L4 18.59l7.72-7.72 1.47 1.35L5.41 20z\"/>\n",
              "  </svg>\n",
              "      </button>\n",
              "      \n",
              "  <style>\n",
              "    .colab-df-container {\n",
              "      display:flex;\n",
              "      flex-wrap:wrap;\n",
              "      gap: 12px;\n",
              "    }\n",
              "\n",
              "    .colab-df-convert {\n",
              "      background-color: #E8F0FE;\n",
              "      border: none;\n",
              "      border-radius: 50%;\n",
              "      cursor: pointer;\n",
              "      display: none;\n",
              "      fill: #1967D2;\n",
              "      height: 32px;\n",
              "      padding: 0 0 0 0;\n",
              "      width: 32px;\n",
              "    }\n",
              "\n",
              "    .colab-df-convert:hover {\n",
              "      background-color: #E2EBFA;\n",
              "      box-shadow: 0px 1px 2px rgba(60, 64, 67, 0.3), 0px 1px 3px 1px rgba(60, 64, 67, 0.15);\n",
              "      fill: #174EA6;\n",
              "    }\n",
              "\n",
              "    [theme=dark] .colab-df-convert {\n",
              "      background-color: #3B4455;\n",
              "      fill: #D2E3FC;\n",
              "    }\n",
              "\n",
              "    [theme=dark] .colab-df-convert:hover {\n",
              "      background-color: #434B5C;\n",
              "      box-shadow: 0px 1px 3px 1px rgba(0, 0, 0, 0.15);\n",
              "      filter: drop-shadow(0px 1px 2px rgba(0, 0, 0, 0.3));\n",
              "      fill: #FFFFFF;\n",
              "    }\n",
              "  </style>\n",
              "\n",
              "      <script>\n",
              "        const buttonEl =\n",
              "          document.querySelector('#df-ef3a011c-94c8-4bd4-b5cd-64e9f409df75 button.colab-df-convert');\n",
              "        buttonEl.style.display =\n",
              "          google.colab.kernel.accessAllowed ? 'block' : 'none';\n",
              "\n",
              "        async function convertToInteractive(key) {\n",
              "          const element = document.querySelector('#df-ef3a011c-94c8-4bd4-b5cd-64e9f409df75');\n",
              "          const dataTable =\n",
              "            await google.colab.kernel.invokeFunction('convertToInteractive',\n",
              "                                                     [key], {});\n",
              "          if (!dataTable) return;\n",
              "\n",
              "          const docLinkHtml = 'Like what you see? Visit the ' +\n",
              "            '<a target=\"_blank\" href=https://colab.research.google.com/notebooks/data_table.ipynb>data table notebook</a>'\n",
              "            + ' to learn more about interactive tables.';\n",
              "          element.innerHTML = '';\n",
              "          dataTable['output_type'] = 'display_data';\n",
              "          await google.colab.output.renderOutput(dataTable, element);\n",
              "          const docLink = document.createElement('div');\n",
              "          docLink.innerHTML = docLinkHtml;\n",
              "          element.appendChild(docLink);\n",
              "        }\n",
              "      </script>\n",
              "    </div>\n",
              "  </div>\n",
              "  "
            ]
          },
          "metadata": {}
        },
        {
          "output_type": "display_data",
          "data": {
            "text/plain": [
              "<Figure size 640x480 with 1 Axes>"
            ],
            "image/png": "[encoded data removed]"
          },
          "metadata": {}
        }
      ],
      "source": [
        "# Import matplotlib.pyplot as plt\n",
        "import matplotlib.pyplot as plt\n",
        "\n",
        "# Assign filename: file\n",
        "file = url_titanic_corrupt\n",
        "\n",
        "# Import file: data\n",
        "data = pd.read_csv(file, sep='\\t', comment='#', na_values=['Nothing'])\n",
        "\n",
        "# Print the head of the DataFrame\n",
        "display(data.head())\n",
        "\n",
        "# Plot 'Age' variable in a histogram\n",
        "pd.DataFrame.hist(data[['Age']])\n",
        "plt.xlabel('Age (years)')\n",
        "plt.ylabel('count')\n",
        "plt.show()"
      ]
    },
    {
      "cell_type": "markdown",
      "metadata": {
        "id": "y1oRThK3UaWh"
      },
      "source": [
        "## **2️⃣Importing data from other file types**"
      ]
    },
    {
      "cell_type": "markdown",
      "metadata": {
        "id": "qjwZiWAy2MTX"
      },
      "source": [
        "### **Introduction to other file types**\n"
      ]
    },
    {
      "cell_type": "markdown",
      "metadata": {
        "id": "r-8hGevs2sTt"
      },
      "source": [
        "#### **Not so flat any more**\n",
        "\n",
        "**NOTE:** `XLSX` file is not a flat file like a `CSV`. Unlike CSV files, XLSX files are binary files that contain **structured data**, including multiple sheets, formatting, formulas, and specific to spreadsheet applications like Microsoft Excel.\n"
      ]
    },
    {
      "cell_type": "markdown",
      "metadata": {
        "id": "qPYY0q_d3Muu"
      },
      "source": [
        "#### **Loading a pickled file**\n"
      ]
    },
    {
      "cell_type": "code",
      "execution_count": 15,
      "metadata": {
        "id": "7i4yBL-s4U13",
        "colab": {
          "base_uri": "https://localhost:8080/"
        },
        "outputId": "28a1b8fe-c757-49e5-8cff-ff493dd9628f"
      },
      "outputs": [
        {
          "output_type": "stream",
          "name": "stdout",
          "text": [
            "Random data saved in random_data.pkl successfully!\n",
            "{'June': '61.02211841191048', 'Aug': '80.68850251898162', 'Airline': '2', 'Mar': '89.62460936560817'}\n",
            "<class 'dict'>\n"
          ]
        }
      ],
      "source": [
        "import random\n",
        "import pickle\n",
        "\n",
        "data = {\n",
        "    'June': str(random.uniform(60, 70)),\n",
        "    'Aug': str(random.uniform(80, 90)),\n",
        "    'Airline': str(random.randint(1, 10)),\n",
        "    'Mar': str(random.uniform(80, 90))\n",
        "}\n",
        "\n",
        "file_name = 'random_data.pkl'\n",
        "\n",
        "# Save the dictionary as a .pkl file\n",
        "with open(file_name, 'wb') as file:\n",
        "    pickle.dump(data, file)\n",
        "\n",
        "print(f\"Random data saved in {file_name} successfully!\")\n",
        "\n",
        "\n",
        "# Open pickle file and load data: d\n",
        "with open(file_name, 'rb') as file:\n",
        "    d = pickle.load(file)\n",
        "\n",
        "# Print d\n",
        "print(d)\n",
        "\n",
        "# Print datatype of d\n",
        "print(type(d))"
      ]
    },
    {
      "cell_type": "markdown",
      "metadata": {
        "id": "W55PHwNT3OFO"
      },
      "source": [
        "#### **Listing sheets in Excel files**\n"
      ]
    },
    {
      "cell_type": "code",
      "execution_count": 16,
      "metadata": {
        "id": "thJZFCPM4VQ_",
        "colab": {
          "base_uri": "https://localhost:8080/"
        },
        "outputId": "7c397403-a11c-40af-d231-d02565891b86"
      },
      "outputs": [
        {
          "output_type": "stream",
          "name": "stdout",
          "text": [
            "['2002', '2004']\n"
          ]
        }
      ],
      "source": [
        "# Import pandas\n",
        "import pandas as pd\n",
        "\n",
        "# Assign spreadsheet filename: file\n",
        "file = url_battledeath\n",
        "\n",
        "# Load spreadsheet: xls\n",
        "xls = pd.ExcelFile(file)\n",
        "\n",
        "# Print sheet names\n",
        "print(xls.sheet_names)"
      ]
    },
    {
      "cell_type": "markdown",
      "metadata": {
        "id": "GNxabIBD3PXm"
      },
      "source": [
        "#### **Importing sheets from Excel files**\n"
      ]
    },
    {
      "cell_type": "code",
      "execution_count": 17,
      "metadata": {
        "id": "SYjArOaJ4Vyn",
        "colab": {
          "base_uri": "https://localhost:8080/"
        },
        "outputId": "42de65bb-794b-4731-b1ce-a491d1bd6759"
      },
      "outputs": [
        {
          "output_type": "stream",
          "name": "stdout",
          "text": [
            "  War(country)      2004\n",
            "0  Afghanistan  9.451028\n",
            "1      Albania  0.130354\n",
            "2      Algeria  3.407277\n",
            "3      Andorra  0.000000\n",
            "4       Angola  2.597931\n",
            "  War, age-adjusted mortality due to       2002\n",
            "0                        Afghanistan  36.083990\n",
            "1                            Albania   0.128908\n",
            "2                            Algeria  18.314120\n",
            "3                            Andorra   0.000000\n",
            "4                             Angola  18.964560\n"
          ]
        }
      ],
      "source": [
        "# Import pandas\n",
        "import pandas as pd\n",
        "\n",
        "# Assign spreadsheet filename: file\n",
        "file = url_battledeath\n",
        "\n",
        "# Load spreadsheet: xl\n",
        "xls = pd.ExcelFile(file)\n",
        "\n",
        "# Load a sheet into a DataFrame by name: df1\n",
        "df1 = xls.parse('2004')\n",
        "\n",
        "# Print the head of the DataFrame df1\n",
        "print(df1.head())\n",
        "\n",
        "# Load a sheet into a DataFrame by index: df2\n",
        "df2 = xls.parse(0) # 0-> for 2002[first_Sheet], 1-> for 2004[second_sheet]\n",
        "\n",
        "# Print the head of the DataFrame df2\n",
        "print(df2.head())"
      ]
    },
    {
      "cell_type": "markdown",
      "metadata": {
        "id": "EIoa5Ytp3Q5W"
      },
      "source": [
        "#### **Customizing your spreadsheet import**\n"
      ]
    },
    {
      "cell_type": "code",
      "execution_count": 18,
      "metadata": {
        "id": "Lyin0J-64WMI",
        "colab": {
          "base_uri": "https://localhost:8080/"
        },
        "outputId": "ddefe728-6e5f-46b7-d82b-f11ca2bb6875"
      },
      "outputs": [
        {
          "output_type": "stream",
          "name": "stdout",
          "text": [
            "               Country  AAM due to War (2002)\n",
            "0              Albania               0.128908\n",
            "1              Algeria              18.314120\n",
            "2              Andorra               0.000000\n",
            "3               Angola              18.964560\n",
            "4  Antigua and Barbuda               0.000000\n",
            "\n",
            "\n",
            "               Country\n",
            "0              Albania\n",
            "1              Algeria\n",
            "2              Andorra\n",
            "3               Angola\n",
            "4  Antigua and Barbuda\n"
          ]
        }
      ],
      "source": [
        "# Import pandas\n",
        "import pandas as pd\n",
        "\n",
        "# Assign spreadsheet filename: file\n",
        "file = url_battledeath\n",
        "\n",
        "# Load spreadsheet: xls\n",
        "xls = pd.ExcelFile(file)\n",
        "\n",
        "# Parse the first sheet and rename the columns: df1\n",
        "df1 = xls.parse(0, skiprows=[0], names=['Country', 'AAM due to War (2002)'])\n",
        "\n",
        "# Print the head of the DataFrame df1\n",
        "print(df1.head())\n",
        "print(\"\\n\")\n",
        "\n",
        "# Parse the first column of the second sheet and rename the column: df2\n",
        "df2 = xls.parse(0, usecols=[0], skiprows=[0], names=['Country'])\n",
        "\n",
        "# Print the head of the DataFrame df2\n",
        "print(df2.head())"
      ]
    },
    {
      "cell_type": "markdown",
      "metadata": {
        "id": "OHCRSWgO3SI2"
      },
      "source": [
        "### **Importing `SAS/Stata` files using pandas**\n"
      ]
    },
    {
      "cell_type": "markdown",
      "metadata": {
        "id": "30ZcEKAg3VNG"
      },
      "source": [
        "#### **Importing `SAS` files**\n"
      ]
    },
    {
      "cell_type": "code",
      "source": [
        "!pip install sas7bdat -q"
      ],
      "metadata": {
        "colab": {
          "base_uri": "https://localhost:8080/"
        },
        "id": "x0Mtv5gxhDey",
        "outputId": "5eaf9c8c-eae5-44d2-d499-8771902a31d1"
      },
      "execution_count": 19,
      "outputs": [
        {
          "output_type": "stream",
          "name": "stdout",
          "text": [
            "  Preparing metadata (setup.py) ... \u001b[?25l\u001b[?25hdone\n",
            "  Building wheel for sas7bdat (setup.py) ... \u001b[?25l\u001b[?25hdone\n"
          ]
        }
      ]
    },
    {
      "cell_type": "code",
      "execution_count": 20,
      "metadata": {
        "id": "QCrpUSyi4XN_",
        "colab": {
          "base_uri": "https://localhost:8080/",
          "height": 556
        },
        "outputId": "f3680697-6527-4e0d-bfc2-f20777a0fbf6"
      },
      "outputs": [
        {
          "output_type": "stream",
          "name": "stdout",
          "text": [
            "     YEAR     P           S\n",
            "0  1950.0  12.9  181.899994\n",
            "1  1951.0  11.9  245.000000\n",
            "2  1952.0  10.7  250.199997\n",
            "3  1953.0  11.3  265.899994\n",
            "4  1954.0  11.2  248.500000\n"
          ]
        },
        {
          "output_type": "display_data",
          "data": {
            "text/plain": [
              "<Figure size 640x480 with 1 Axes>"
            ],
            "image/png": "[encoded data removed]"
          },
          "metadata": {}
        }
      ],
      "source": [
        "import pandas as pd\n",
        "import matplotlib.pyplot as plt\n",
        "\n",
        "# Import sas7bdat package\n",
        "from sas7bdat import SAS7BDAT\n",
        "\n",
        "# Save file to a DataFrame: df_sas\n",
        "with SAS7BDAT(url_sales) as file:\n",
        "    df_sas = file.to_data_frame()\n",
        "\n",
        "# Print head of DataFrame\n",
        "print(df_sas.head())\n",
        "\n",
        "# Plot histogram of DataFrame features (pandas and pyplot already imported)\n",
        "pd.DataFrame.hist(df_sas[['P']])\n",
        "plt.ylabel('count')\n",
        "plt.show()"
      ]
    },
    {
      "cell_type": "markdown",
      "metadata": {
        "id": "cd_uu_AG3ZKn"
      },
      "source": [
        "### **Importing `HDF5` files**\n"
      ]
    },
    {
      "cell_type": "markdown",
      "metadata": {
        "id": "MHk7vUCg3b-e"
      },
      "source": [
        "#### **Using h5py to import `HDF5` files**\n"
      ]
    },
    {
      "cell_type": "code",
      "execution_count": 21,
      "metadata": {
        "id": "MV_4fsJf4aGx",
        "colab": {
          "base_uri": "https://localhost:8080/"
        },
        "outputId": "13d0d9d8-846e-4318-d8f9-418a22b37958"
      },
      "outputs": [
        {
          "output_type": "stream",
          "name": "stdout",
          "text": [
            "<class 'h5py._hl.files.File'>\n",
            "meta\n",
            "quality\n",
            "strain\n"
          ]
        }
      ],
      "source": [
        "# Import packages\n",
        "import numpy as np\n",
        "import h5py\n",
        "\n",
        "# Assign filename: file\n",
        "file = url_LIGO\n",
        "\n",
        "# Load file: data\n",
        "data = h5py.File(file, 'r')\n",
        "\n",
        "# Print the datatype of the loaded file\n",
        "print(type(data))\n",
        "\n",
        "# Print the keys of the file\n",
        "for key in data.keys():\n",
        "    print(key)"
      ]
    },
    {
      "cell_type": "markdown",
      "metadata": {
        "id": "GXRxAB823dQY"
      },
      "source": [
        "#### **Extracting data from your `HDF5` file**\n"
      ]
    },
    {
      "cell_type": "code",
      "execution_count": 22,
      "metadata": {
        "id": "oREyg4gX4aqf",
        "colab": {
          "base_uri": "https://localhost:8080/",
          "height": 482
        },
        "outputId": "ac0bb747-6bf3-46ba-ad27-5d97bad22b32"
      },
      "outputs": [
        {
          "output_type": "stream",
          "name": "stdout",
          "text": [
            "Strain\n"
          ]
        },
        {
          "output_type": "display_data",
          "data": {
            "text/plain": [
              "<Figure size 640x480 with 1 Axes>"
            ],
            "image/png": "[encoded data removed]"
          },
          "metadata": {}
        }
      ],
      "source": [
        "import numpy as np\n",
        "import h5py\n",
        "import matplotlib.pyplot as plt\n",
        "\n",
        "# Assign filename: file\n",
        "file = url_LIGO\n",
        "\n",
        "# Load file: data\n",
        "data = h5py.File(file, 'r')\n",
        "\n",
        "# Get the HDF5 group: group\n",
        "group = data['strain']\n",
        "\n",
        "# Check out keys of group\n",
        "for key in group.keys():\n",
        "    print(key)\n",
        "\n",
        "# Output --> meta, quality, strain\n",
        "\n",
        "# Set variable equal to time series data: strain\n",
        "strain = group['Strain'][:]  # Access the dataset directly\n",
        "\n",
        "# Set number of time points to sample: num_samples\n",
        "num_samples = 10000\n",
        "\n",
        "# Set time vector\n",
        "time = np.arange(0, 1, 1/num_samples)\n",
        "\n",
        "# Plot data\n",
        "plt.plot(time, strain[:num_samples])\n",
        "plt.xlabel('GPS Time (s)')\n",
        "plt.ylabel('strain')\n",
        "plt.show()\n"
      ]
    },
    {
      "cell_type": "markdown",
      "metadata": {
        "id": "zbje5VzL3egO"
      },
      "source": [
        "### **Importing `MATLAB` files**\n"
      ]
    },
    {
      "cell_type": "markdown",
      "metadata": {
        "id": "Q9FiIqrC3f2P"
      },
      "source": [
        "#### **Loading `.mat` files**\n"
      ]
    },
    {
      "cell_type": "code",
      "execution_count": 23,
      "metadata": {
        "id": "-6y161Me4buP",
        "colab": {
          "base_uri": "https://localhost:8080/"
        },
        "outputId": "7a667892-b720-4857-d852-2b7c68a8b83a"
      },
      "outputs": [
        {
          "output_type": "stream",
          "name": "stdout",
          "text": [
            "<class 'dict'>\n"
          ]
        }
      ],
      "source": [
        "# Import package\n",
        "import scipy.io\n",
        "\n",
        "# Load MATLAB file: mat\n",
        "mat = scipy.io.loadmat(url_albeck_gene_expression)\n",
        "\n",
        "# Print the datatype type of mat\n",
        "print(type(mat))"
      ]
    },
    {
      "cell_type": "markdown",
      "metadata": {
        "id": "shqmwsNF3hOV"
      },
      "source": [
        "#### **The structure of `.mat` in Python**"
      ]
    },
    {
      "cell_type": "code",
      "execution_count": 24,
      "metadata": {
        "id": "QxcY0Xtw4cZ3",
        "colab": {
          "base_uri": "https://localhost:8080/",
          "height": 501
        },
        "outputId": "15033a37-db8d-498b-a1a8-272b71ea2468"
      },
      "outputs": [
        {
          "output_type": "stream",
          "name": "stdout",
          "text": [
            "dict_keys(['__header__', '__version__', '__globals__', 'rfpCyt', 'rfpNuc', 'cfpNuc', 'cfpCyt', 'yfpNuc', 'yfpCyt', 'CYratioCyt'])\n",
            "<class 'numpy.ndarray'>\n",
            "(200, 137)\n"
          ]
        },
        {
          "output_type": "display_data",
          "data": {
            "text/plain": [
              "<Figure size 640x480 with 1 Axes>"
            ],
            "image/png": "[encoded data removed]"
          },
          "metadata": {}
        }
      ],
      "source": [
        "# Import package\n",
        "import scipy.io\n",
        "import matplotlib.pyplot as plt\n",
        "import numpy as np\n",
        "\n",
        "# Load MATLAB file: mat\n",
        "mat = scipy.io.loadmat(url_albeck_gene_expression)\n",
        "\n",
        "# Print the keys of the MATLAB dictionary\n",
        "print(mat.keys())\n",
        "\n",
        "# Print the type of the value corresponding to the key 'CYratioCyt'\n",
        "print(type(mat['CYratioCyt']))\n",
        "\n",
        "# Print the shape of the value corresponding to the key 'CYratioCyt'\n",
        "print(np.shape(mat['CYratioCyt']))\n",
        "\n",
        "# Subset the array and plot it\n",
        "data = mat['CYratioCyt'][25, 5:]\n",
        "fig = plt.figure()\n",
        "plt.plot(data)\n",
        "plt.xlabel('time (min.)')\n",
        "plt.ylabel('normalized fluorescence (measure of expression)')\n",
        "plt.show()"
      ]
    },
    {
      "cell_type": "markdown",
      "metadata": {
        "id": "GuzwV2eSEd55"
      },
      "source": [
        "#### $\\color{skyblue}{\\textbf{Connect with me:}}$\n",
        "\n",
        "\n",
        "[<img align=\"left\" src=\"https://cdn4.iconfinder.com/data/icons/social-media-icons-the-circle-set/48/twitter_circle-512.png\" width=\"32px\"/>][twitter]\n",
        "[<img align=\"left\" src=\"https://cdn-icons-png.flaticon.com/512/145/145807.png\" width=\"32px\"/>][linkedin]\n",
        "[<img align=\"left\" src=\"https://cdn2.iconfinder.com/data/icons/whcompare-blue-green-web-hosting-1/425/cdn-512.png\" width=\"32px\"/>][Portfolio]\n",
        "\n",
        "[twitter]: https://twitter.com/F4izy\n",
        "[linkedin]: https://www.linkedin.com/in/mohd-faizy/\n",
        "[Portfolio]: https://mohdfaizy.com/"
      ]
    }
  ],
  "metadata": {
    "accelerator": "TPU",
    "colab": {
      "provenance": [],
      "toc_visible": true
    },
    "kernelspec": {
      "display_name": "Python 3",
      "name": "python3"
    },
    "language_info": {
      "name": "python"
    }
  },
  "nbformat": 4,
  "nbformat_minor": 0
}