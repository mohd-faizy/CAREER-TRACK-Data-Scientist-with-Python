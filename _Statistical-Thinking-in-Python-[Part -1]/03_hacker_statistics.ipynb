{
  "nbformat": 4,
  "nbformat_minor": 0,
  "metadata": {
    "colab": {
      "name": "03_hacker_statistics.ipynb",
      "provenance": [],
      "collapsed_sections": [],
      "toc_visible": true,
      "authorship_tag": "ABX9TyOfeCEvyLi/3SbPdl308IKy",
      "include_colab_link": true
    },
    "kernelspec": {
      "name": "python3",
      "display_name": "Python 3"
    }
  },
  "cells": [
    {
      "cell_type": "markdown",
      "metadata": {
        "id": "view-in-github",
        "colab_type": "text"
      },
      "source": [
        "<a href=\"https://colab.research.google.com/github/mohd-faizy/CAREER-TRACK-Data-Scientist-with-Python/blob/main/03_hacker_statistics.ipynb\" target=\"_parent\"><img src=\"https://colab.research.google.com/assets/colab-badge.svg\" alt=\"Open In Colab\"/></a>"
      ]
    },
    {
      "cell_type": "markdown",
      "metadata": {
        "id": "EQTMjNJnF-Xc"
      },
      "source": [
        "--- \r\n",
        "<strong> \r\n",
        "    <h1 align='center'>HACKER STATISTICS</h1> \r\n",
        "</strong>\r\n",
        "\r\n",
        "---"
      ]
    },
    {
      "cell_type": "markdown",
      "metadata": {
        "id": "NM7lPGsiHKX9"
      },
      "source": [
        "<p align='center'>\r\n",
        "    <a href='#'><img src='https://cdn.wallpapersafari.com/29/56/ymaAeU.jpg' height= 600, width= 900>\r\n",
        "    </a>\r\n",
        "<p>"
      ]
    },
    {
      "cell_type": "markdown",
      "metadata": {
        "id": "ykmKZZOliKkh"
      },
      "source": [
        "## __Probabilistic logic and statistical inference__"
      ]
    },
    {
      "cell_type": "markdown",
      "metadata": {
        "id": "Q-PIg9d7iZM7"
      },
      "source": [
        "__What is the goal of statistical inference?__Why do we do statistical inference?\r\n",
        "\r\n",
        ">**Statistical inference** involves taking your data to **probabilistic conclusions** about what you would expect if we took even more data, and we can make **decisions** based on these conclusions.\r\n",
        "\r\n",
        "- To draw **probabilistic conclusions** about what we might expect if we collected the same data again.\r\n",
        "\r\n",
        "- To draw **actionable conclusions from data**.\r\n",
        "\r\n",
        "- To **draw more general conclusions** from **relatively few data or observations**.\r\n",
        "\r\n",
        "\r\n"
      ]
    },
    {
      "cell_type": "markdown",
      "metadata": {
        "id": "Limo8k93mLCQ"
      },
      "source": [
        "__Why do we use the language of probability?__\r\n",
        "\r\n",
        "- Probability provides a measure of uncertainty.\r\n",
        "\r\n",
        "- It can be used to estimate the likelihood of an outcome.\r\n",
        "\r\n",
        "- Data are almost never exactly the same when acquired again, and probability allows us to say how much we expect them to vary.\r\n",
        "\r\n"
      ]
    },
    {
      "cell_type": "markdown",
      "metadata": {
        "id": "Aze-LdkoodRu"
      },
      "source": [
        "__Hacker statistics__\r\n",
        "\r\n",
        "Uses simulated repeated measurements to compute probabilities.\r\n",
        "\r\n",
        "`np.random module`: Suite of functions based on random number generation.\r\n",
        "\r\n",
        "__Random number seed:__\r\n",
        "- Integer fed into random number generating algorithm.\r\n",
        "- Manually seed random number generator if we need reproducibility.\r\n",
        "- Specified using `np.random.seed()`\r\n",
        "\r\n",
        "__Bernoulli trial:__  A __Bernoulli trial__ (or binomial trial) is a __random experiment__ with exactly __two possible outcomes__, __\"success\"__ and __\"failure\"__, in which the __probability of success__ is the __same__ every time the experiment is conducted.\r\n",
        "\r\n",
        "\r\n",
        "\r\n"
      ]
    },
    {
      "cell_type": "markdown",
      "metadata": {
        "id": "scj79pFjqtWP"
      },
      "source": [
        "### ***Simulating*** 4 coin flips"
      ]
    },
    {
      "cell_type": "code",
      "metadata": {
        "id": "iBAVtddJjf_i",
        "colab": {
          "base_uri": "https://localhost:8080/"
        },
        "outputId": "d121fdaa-ebc0-499a-ecd4-8c357291a157"
      },
      "source": [
        "import numpy as np\r\n",
        "np.random.seed(42)\r\n",
        "random_numbers = np.random.random(size=4)\r\n",
        "random_numbers"
      ],
      "execution_count": 1,
      "outputs": [
        {
          "output_type": "execute_result",
          "data": {
            "text/plain": [
              "array([0.37454012, 0.95071431, 0.73199394, 0.59865848])"
            ]
          },
          "metadata": {
            "tags": []
          },
          "execution_count": 1
        }
      ]
    },
    {
      "cell_type": "code",
      "metadata": {
        "id": "NeXJrBG-iOZ7",
        "colab": {
          "base_uri": "https://localhost:8080/"
        },
        "outputId": "75337811-581a-40a5-a9e0-e08515f6227a"
      },
      "source": [
        "heads = random_numbers < 0.5\r\n",
        "heads"
      ],
      "execution_count": 2,
      "outputs": [
        {
          "output_type": "execute_result",
          "data": {
            "text/plain": [
              "array([ True, False, False, False])"
            ]
          },
          "metadata": {
            "tags": []
          },
          "execution_count": 2
        }
      ]
    },
    {
      "cell_type": "code",
      "metadata": {
        "colab": {
          "base_uri": "https://localhost:8080/"
        },
        "id": "Mmyuhsiaq_r6",
        "outputId": "5ae1121f-dc4d-4011-9ea2-64a3d003f109"
      },
      "source": [
        "np.sum(heads)"
      ],
      "execution_count": 3,
      "outputs": [
        {
          "output_type": "execute_result",
          "data": {
            "text/plain": [
              "1"
            ]
          },
          "metadata": {
            "tags": []
          },
          "execution_count": 3
        }
      ]
    },
    {
      "cell_type": "code",
      "metadata": {
        "colab": {
          "base_uri": "https://localhost:8080/"
        },
        "id": "m50rHszYrDBn",
        "outputId": "57901c91-12b0-4dd3-b43b-17988a94934d"
      },
      "source": [
        "# Using for loop\r\n",
        "n_all_heads = 0 # Initialize number of 4-heads trials\r\n",
        "\r\n",
        "for _ in range(10000):\r\n",
        "    heads = np.random.random(size=4) < 0.5\r\n",
        "    n_heads = np.sum(heads)\r\n",
        "    if n_heads == 4:   # if the given trials has 4 heads we increse the count\r\n",
        "        n_all_heads += 1\r\n",
        "'''\r\n",
        "So, what is the probability of getting all four heads? It's the number of times\r\n",
        "we got all heads, divided by the total number of trials we did. \r\n",
        "'''\r\n",
        "n_all_heads / 10000 "
      ],
      "execution_count": 4,
      "outputs": [
        {
          "output_type": "execute_result",
          "data": {
            "text/plain": [
              "0.0619"
            ]
          },
          "metadata": {
            "tags": []
          },
          "execution_count": 4
        }
      ]
    },
    {
      "cell_type": "markdown",
      "metadata": {
        "id": "8sFOzdoorXo7"
      },
      "source": [
        "__Hacker stats probabilities__\r\n",
        "\r\n",
        "- Determine how to simulate data.\r\n",
        "- Simulate many many times.\r\n",
        "- Probability is approximately fraction of trials with the outcome of interest."
      ]
    },
    {
      "cell_type": "markdown",
      "metadata": {
        "id": "Z9kWcGT9t_ES"
      },
      "source": [
        "## **Generating random numbers using the `np.random` module**\r\n",
        "\r\n",
        "`np.random.random()` for a test spin. The function returns a random number between **zero** and **one**. \r\n",
        "\r\n",
        "Call `np.random.random()` a few times in the IPython shell. You should see numbers jumping around between **zero** and **one**.\r\n",
        "\r\n",
        "In this exercise, we'll generate lots of **random numbers** between **zero** and **one**, and then plot a histogram of the results. If the numbers are truly random, all bars in the histogram should be of (close to) equal height.\r\n",
        "\r\n"
      ]
    },
    {
      "cell_type": "markdown",
      "metadata": {
        "id": "hq7wi5dEuraO"
      },
      "source": [
        "__Instructions__\r\n",
        "\r\n",
        "- Seed the random number generator using the seed 42.\r\n",
        "- Initialize an empty array, `random_numbers`, of 100,000 entries to store the random numbers. Make sure you use `np.empty(100000)` to do this.\r\n",
        "\r\n",
        "- Write a `for` loop to draw 100,000 random numbers using `np.random.random()`, storing them in the random_numbers array. To do so, loop over `range(100000)`.\r\n",
        "\r\n",
        "- Plot a histogram of `random_numbers`."
      ]
    },
    {
      "cell_type": "code",
      "metadata": {
        "id": "YfD4wJc9rXJY"
      },
      "source": [
        "import numpy as np\r\n",
        "import matplotlib.pyplot as plt\r\n",
        "import seaborn as sns\r\n",
        "\r\n",
        "# Seed the random number generator\r\n",
        "np.random.seed(42)\r\n",
        "\r\n",
        "# Initialize random numbers: random_numbers\r\n",
        "random_numbers = np.empty(100000)\r\n",
        "\r\n",
        "# Generate random numbers by looping over range(100000)\r\n",
        "for i in range(100000):\r\n",
        "    random_numbers[i] = np.random.random()\r\n",
        "    print(random_numbers[i])"
      ],
      "execution_count": null,
      "outputs": []
    },
    {
      "cell_type": "code",
      "metadata": {
        "colab": {
          "base_uri": "https://localhost:8080/",
          "height": 431
        },
        "id": "IgzvnaAktCJ1",
        "outputId": "45f86553-a721-40fd-fdd5-ad2b1963cf8e"
      },
      "source": [
        "# Set default Seaborn style\r\n",
        "sns.set()\r\n",
        "\r\n",
        "# figure size\r\n",
        "plt.figure(figsize=(12, 7))\r\n",
        "\r\n",
        "# Plot a histogram\r\n",
        "_ = plt.hist(random_numbers)\r\n",
        "\r\n",
        "# Show the plot\r\n",
        "plt.show()"
      ],
      "execution_count": 6,
      "outputs": [
        {
          "output_type": "display_data",
          "data": {
            "image/png": "[encoded data removed]",
            "text/plain": [
              "<Figure size 864x504 with 1 Axes>"
            ]
          },
          "metadata": {
            "tags": []
          }
        }
      ]
    },
    {
      "cell_type": "markdown",
      "metadata": {
        "id": "YFSPW0T6teHy"
      },
      "source": [
        "The **histogram** is **almost exactly flat across the top**, indicating that there is **equal chance that a randomly-generated number** is in any of the **bins** of the **histogram**."
      ]
    },
    {
      "cell_type": "markdown",
      "metadata": {
        "id": "xUiQAEy3ven5"
      },
      "source": [
        "### ***The `np.random` module and Bernoulli trials***\r\n",
        "\r\n",
        "\r\n",
        "we can think of a **Bernoulli trial** as a flip of a possibly biased coin. Specifically, each coin flip has a probability $p$ of landing heads (success) and probability $(1-p)$ of landing tails (failure).\r\n",
        "\r\n",
        "In this exercise, you will write a function to perform $n$ Bernoulli trials, `perform_bernoulli_trials(n, p)`, which returns the number of successes out of $n$ Bernoulli trials, each of which has probability $p$ of success. To perform each Bernoulli trial, use the `np.random.random()` function, which returns a random number between $0$ and $1$."
      ]
    },
    {
      "cell_type": "markdown",
      "metadata": {
        "id": "qeK7NjJ4wj2d"
      },
      "source": [
        "__Instructions__\r\n",
        "\r\n",
        "- Define a function with signature `perform_bernoulli_trials(n, p)`.\r\n",
        "\r\n",
        "    - Initialize to `zero` a variable `n_success` the counter of `Trues`, which are Bernoulli trial successes.\r\n",
        "\r\n",
        "    - Write a `for` loop where you perform a Bernoulli trial in each iteration and increment the number of success if the result is `True`.\r\n",
        "\r\n",
        "        - Perform n iterations by looping over `range(n)`. To perform a Bernoulli trial, choose a random number between zero and one using `np.random.random()`. If the number you chose is less than p, increment `n_success` (use the `+= 1` operator to achieve this).\r\n",
        "\r\n",
        "    - The function returns the number of successes `n_success`."
      ]
    },
    {
      "cell_type": "code",
      "metadata": {
        "colab": {
          "base_uri": "https://localhost:8080/"
        },
        "id": "GnfVo7DSwK9U",
        "outputId": "95f5940f-fdb1-486c-f27c-7f7b22e0c712"
      },
      "source": [
        "import numpy as np\r\n",
        "\r\n",
        "def perform_bernoulli_trials(n, p):\r\n",
        "    \"\"\"Perform n Bernoulli trials with success probability p\r\n",
        "    and return number of successes.\"\"\"\r\n",
        "    # Initialize number of successes: n_success\r\n",
        "    n_success = 0\r\n",
        "\r\n",
        "    # Perform trials\r\n",
        "    for i in range(n):\r\n",
        "        # Choose random number between zero and one: random_number\r\n",
        "        random_number = np.random.random()\r\n",
        "\r\n",
        "        # If less than p, it's a success so add one to n_success\r\n",
        "        if random_number < p:\r\n",
        "            n_success += 1\r\n",
        "\r\n",
        "    return n_success\r\n",
        "\r\n",
        "print(perform_bernoulli_trials(10000, 0.01))\r\n",
        "print(perform_bernoulli_trials(10000, 0.65))\r\n",
        "print(perform_bernoulli_trials(10000, 0.77))\r\n",
        "print(perform_bernoulli_trials(10000, 0.99))\r\n"
      ],
      "execution_count": 7,
      "outputs": [
        {
          "output_type": "stream",
          "text": [
            "105\n",
            "6430\n",
            "7783\n",
            "9884\n"
          ],
          "name": "stdout"
        }
      ]
    },
    {
      "cell_type": "markdown",
      "metadata": {
        "id": "cdF3qAIDAgPI"
      },
      "source": [
        "### __Banking Problem: How many defaults might we expect?__\r\n",
        "\r\n",
        "Let's say a bank made 100 mortgage loans. It is possible that anywhere between 0 and 100 of the loans will be defaulted upon. $\r\n",
        "\r\n",
        "__Task__ is to know the **probability** of getting a **given number of defaults**, given that the **probability** of a default is __p=0.05__. \r\n",
        "\r\n",
        "To investigate this, we you will do a simulation. **we will perform 100 Bernoulli trials using the `perform_bernoulli_trials()`** function we wrote above and record how many defaults we get. \r\n",
        "\r\n",
        "Here, a __success__ is a __default__. (Remember that the word \"success\" just means that the __Bernoulli trial evaluates to True__, i.e., __did the loan recipient default?__) You will do this for another 100 Bernoulli trials. And again and again until we have tried it 1000 times. Then, you will plot a histogram describing the probability of the number of defaults."
      ]
    },
    {
      "cell_type": "markdown",
      "metadata": {
        "id": "_BiyRLu5TGdC"
      },
      "source": [
        "__Instruction__\r\n",
        "\r\n",
        "- Seed the random number generator to 42.\r\n",
        "\r\n",
        "- Initialize `n_defaults`, an **empty array**, using `np.empty()``. It should contain **1000 entries**, ***since we are doing 1000 simulations***.\r\n",
        "\r\n",
        "- Write a `for` loop with `1000 `iterations to compute the number of defaults per 100 loans using the `perform_bernoulli_trials()` function. \r\n",
        "    - It accepts ***two*** arguments:   \r\n",
        "    \r\n",
        "        - the number of trials __n__  in this case 100 \r\n",
        "        - and the **probability of success** __p__ \r\n",
        "    - In this case the probability of a __default__, which is __0.05__. On each iteration of the loop store the result in an entry of `n_defaults`.\r\n",
        "\r\n",
        "- Plot a histogram of `n_defaults`. Include the `density=True` keyword argument so that the height of the bars of the histogram indicate the probability.\r\n",
        "\r\n",
        "- Show your plot."
      ]
    },
    {
      "cell_type": "code",
      "metadata": {
        "colab": {
          "base_uri": "https://localhost:8080/",
          "height": 447
        },
        "id": "RYHHLf9SAold",
        "outputId": "bab9dd59-0b6f-47ff-c78d-a196cf7eef52"
      },
      "source": [
        "import numpy as np\r\n",
        "import matplotlib.pyplot as plt\r\n",
        "import seaborn as sns\r\n",
        "\r\n",
        "def perform_bernoulli_trials(n, p):\r\n",
        "    \"\"\"Perform n Bernoulli trials with success probability p\r\n",
        "    and return number of successes.\"\"\"\r\n",
        "    # Initialize number of successes: n_success\r\n",
        "    n_success = 0\r\n",
        "\r\n",
        "    # Perform trials\r\n",
        "    for i in range(n):\r\n",
        "        # Choose random number between zero and one: random_number\r\n",
        "        random_number = np.random.random()\r\n",
        "\r\n",
        "        # If less than p, it's a success so add one to n_success\r\n",
        "        if random_number < p:\r\n",
        "            n_success += 1\r\n",
        "\r\n",
        "    return n_success\r\n",
        "\r\n",
        "\r\n",
        "# Seed random number generator\r\n",
        "np.random.seed(42)\r\n",
        "\r\n",
        "# Initialize the number of defaults: n_defaults\r\n",
        "n_defaults = np.empty(1000)\r\n",
        "\r\n",
        "# Compute the number of defaults\r\n",
        "for i in range(1000):\r\n",
        "    n_defaults[i] = perform_bernoulli_trials(100, 0.05)\r\n",
        "\r\n",
        "# figure size\r\n",
        "plt.figure(figsize=(12, 7), facecolor='lightgrey')\r\n",
        "\r\n",
        "# Set default Seaborn style\r\n",
        "sns.set()\r\n",
        "\r\n",
        "# Plot the histogram with default number of bins; label your axes\r\n",
        "_ = plt.hist(n_defaults, density=True)\r\n",
        "_ = plt.xlabel('number of defaults out of 100 loans')\r\n",
        "_ = plt.ylabel('probability')\r\n",
        "\r\n",
        "# Show the plot\r\n",
        "plt.show()"
      ],
      "execution_count": 8,
      "outputs": [
        {
          "output_type": "display_data",
          "data": {
            "image/png": "[encoded data removed]",
            "text/plain": [
              "<Figure size 864x504 with 1 Axes>"
            ]
          },
          "metadata": {
            "tags": []
          }
        }
      ]
    },
    {
      "cell_type": "markdown",
      "metadata": {
        "id": "JICM6UApFoT9"
      },
      "source": [
        "This is actually **not an optimal way** to plot a histogram when the results are known to be **integers**. We will revisit this in forthcoming exercises"
      ]
    },
    {
      "cell_type": "markdown",
      "metadata": {
        "id": "KFIE0PfAcIX3"
      },
      "source": [
        "### __Will the bank fail?__\r\n",
        "\r\n",
        "**Plot the number of defaults you got from the previous exercise**, in your namespace as `n_defaults`, as a **CDF**.\r\n",
        "\r\n",
        "The `ecdf()` function is available.\r\n",
        "\r\n",
        "***If interest rates are such that the bank will lose money if 10 or more of its loans are defaulted upon, what is the probability that the bank will lose money?***"
      ]
    },
    {
      "cell_type": "markdown",
      "metadata": {
        "id": "jS-v9sALc3Xd"
      },
      "source": [
        "__Instruction__\r\n",
        "\r\n",
        "- Compute the `x` and `y` values for the `ECDF` of `n_defaults`.\r\n",
        "\r\n",
        "- Plot the `ECDF, making sure to label the axes. Remember to include `marker = '.'` and `linestyle = 'none'` in addition to `x` and `y` in your call `plt.plot()`.\r\n",
        "\r\n",
        "- Show the plot.\r\n",
        "\r\n",
        "- Compute the total number of entries in your `n_defaults` array that were greater than or equal to `10`. To do so, **compute a boolean array** that tells you **whether a given entry of `n_defaults` is `>= 10`**. Then sum all the entries in this array using `np.sum()`. For example, `np.sum(n_defaults <= 5)` would compute the number of defaults with 5 or fewer defaults.\r\n",
        "\r\n",
        "- The probability that the bank loses money is the fraction of `n_defaults` that are greater than or equal to 10. Print this result by hitting 'Submit Answer'!\r\n"
      ]
    },
    {
      "cell_type": "code",
      "metadata": {
        "colab": {
          "base_uri": "https://localhost:8080/",
          "height": 463
        },
        "id": "KCmS3IAfMMzZ",
        "outputId": "d27913b2-f5f4-41c0-d2aa-d9f4465034f5"
      },
      "source": [
        "import numpy as np\r\n",
        "import matplotlib.pyplot as plt\r\n",
        "import seaborn as sns\r\n",
        "\r\n",
        "def ecdf(data):\r\n",
        "    \"\"\"Compute ECDF for a one-dimensional array of measurements.\"\"\"\r\n",
        "\r\n",
        "    # Number of data points: n\r\n",
        "    n = len(data)\r\n",
        "\r\n",
        "    # x-data for the ECDF: x\r\n",
        "    x = np.sort(data)\r\n",
        "\r\n",
        "    # y-data for the ECDF: y\r\n",
        "    y = np.arange(1, n + 1) / n\r\n",
        "\r\n",
        "    return x, y\r\n",
        "\r\n",
        "\r\n",
        "# Seed random number generator\r\n",
        "np.random.seed(42)\r\n",
        "\r\n",
        "# Initialize the number of defaults: n_defaults\r\n",
        "n_defaults = np.empty(1000)\r\n",
        "\r\n",
        "# Compute the number of defaults\r\n",
        "for i in range(1000):\r\n",
        "    n_defaults[i] = perform_bernoulli_trials(100, 0.05)\r\n",
        "\r\n",
        "# Compute ECDF: x, y\r\n",
        "x, y = ecdf(n_defaults)\r\n",
        "\r\n",
        "# figure size\r\n",
        "plt.figure(figsize=(12, 7), facecolor='lightgrey')\r\n",
        "\r\n",
        "# Set default Seaborn style\r\n",
        "sns.set()\r\n",
        "\r\n",
        "# Plot the ECDF with labeled axes\r\n",
        "_ = plt.plot(x, y, marker='.', linestyle='none')\r\n",
        "_ = plt.xlabel('x')\r\n",
        "_ = plt.ylabel('y')\r\n",
        "\r\n",
        "# Show the plot\r\n",
        "plt.show()\r\n",
        "\r\n",
        "# Compute the number of 100-loan simulations with 10 or more defaults: n_lose_money\r\n",
        "n_lose_money = np.sum(n_defaults >= 10)\r\n",
        "\r\n",
        "# Compute and print probability of losing money\r\n",
        "print('Probability of losing money =', n_lose_money / len(n_defaults))"
      ],
      "execution_count": 9,
      "outputs": [
        {
          "output_type": "display_data",
          "data": {
            "image/png": "[encoded data removed]",
            "text/plain": [
              "<Figure size 864x504 with 1 Axes>"
            ]
          },
          "metadata": {
            "tags": []
          }
        },
        {
          "output_type": "stream",
          "text": [
            "Probability of losing money = 0.022\n"
          ],
          "name": "stdout"
        }
      ]
    },
    {
      "cell_type": "markdown",
      "metadata": {
        "id": "WXaI70-XfBWh"
      },
      "source": [
        "__ECDF Graph Interpreation__\r\n",
        "\r\n",
        "As we might expect, we most likely get `5/100` defaults. But we still have about a `2%` chance of getting `10` or more defaults out of `100` loans"
      ]
    },
    {
      "cell_type": "markdown",
      "metadata": {
        "id": "WlfBWJEXiQlC"
      },
      "source": [
        "## __Pobability distributions and stories: The Binomial distribution__"
      ]
    },
    {
      "cell_type": "markdown",
      "metadata": {
        "id": "__1HcWoXi9AR"
      },
      "source": [
        "<strong><h3>Probability mass function (PMF)</h3></strong>\r\n",
        "\r\n",
        "A PMF is defined as the set of probabilities of discrete outcomes. \r\n",
        "\r\n",
        "To understand how this works, consider a person **rolling a die** once. The outcomes are discrete because only certain values may be attained; we cannot roll a __3.7__ with a die. \r\n",
        "\r\n",
        "Each result has the same, or uniform probability, __1/6__. For this reason, the PMF associated with this story is called the **Discrete Uniform PMF**. Now the PMF is a property of a discrete probability distribution.\r\n",
        "\r\n",
        ">A $distribution$ is just a __mathematical description__ of __outcomes__.\r\n",
        "\r\n",
        "<strong><h3>Normal Distribution:</h3></strong>\r\n",
        "\r\n",
        "The Normal Distribution is one of the most important distributions.\r\n",
        "\r\n",
        "It is also called the **Gaussian Distribution** after the German mathematician **Carl Friedrich Gauss**.\r\n",
        "\r\n",
        "It **fits the probability distribution** of **many events**, eg. IQ Scores, Heartbeat etc.\r\n",
        "\r\n",
        "Use the `random.normal()` method to get a Normal Data Distribution.\r\n",
        "\r\n",
        "***It has three parameters:***\r\n",
        "\r\n",
        "- $loc$ - (Mean) where the peak of the bell exists.\r\n",
        "\r\n",
        "- $scale$ - (Standard Deviation) how flat the graph distribution should be.\r\n",
        "\r\n",
        "- $size$ - The shape of the returned array.\r\n",
        "\r\n",
        "<strong><h3>Binomial distribution:</h3></strong>\r\n",
        "\r\n",
        "Binomial Distribution is a Discrete Distribution.It describes the outcome of binary scenarios, e.g. toss of a coin, it will either be head or tails.\r\n",
        "\r\n",
        "_It has three parameters:_\r\n",
        "\r\n",
        "- $n$ - number of trials.\r\n",
        "- $p$ - probability of occurence of each trial (e.g. for toss of a coin 0.5 each).\r\n",
        "- $size$ - The shape of the returned array.\r\n",
        "\r\n",
        "The number __r__ of successes in n Bernoulli trials with probability __p__ of success is Binomially distributed.\r\n",
        "\r\n",
        "The number __r__ of heads in 4 coin flips matches this story, since a coin flip is a Bernoulli trial with __p = 0.5__.\r\n",
        "\r\n",
        "\r\n"
      ]
    },
    {
      "cell_type": "code",
      "metadata": {
        "colab": {
          "base_uri": "https://localhost:8080/"
        },
        "id": "hsSXCc47l87o",
        "outputId": "184736c1-c33b-4837-d73e-4d3f93a88e17"
      },
      "source": [
        "np.random.binomial(4, 0.5)"
      ],
      "execution_count": 10,
      "outputs": [
        {
          "output_type": "execute_result",
          "data": {
            "text/plain": [
              "2"
            ]
          },
          "metadata": {
            "tags": []
          },
          "execution_count": 10
        }
      ]
    },
    {
      "cell_type": "code",
      "metadata": {
        "colab": {
          "base_uri": "https://localhost:8080/"
        },
        "id": "n2MVwhU_mE5b",
        "outputId": "dac6019c-9050-4471-eb6a-a39ac6c29ac2"
      },
      "source": [
        "np.random.binomial(4, 0.5, size=10)"
      ],
      "execution_count": 11,
      "outputs": [
        {
          "output_type": "execute_result",
          "data": {
            "text/plain": [
              "array([2, 2, 2, 2, 2, 3, 3, 2, 2, 0])"
            ]
          },
          "metadata": {
            "tags": []
          },
          "execution_count": 11
        }
      ]
    },
    {
      "cell_type": "code",
      "metadata": {
        "colab": {
          "base_uri": "https://localhost:8080/",
          "height": 447
        },
        "id": "CXPgval5verV",
        "outputId": "ef838a7c-e8e3-4a3c-dae2-c4fab0d85505"
      },
      "source": [
        "import numpy as np\r\n",
        "import matplotlib.pyplot as plt\r\n",
        "import seaborn as sns\r\n",
        "\r\n",
        "# ECDF function\r\n",
        "def ecdf(data):\r\n",
        "    \"\"\"Compute ECDF for a one-dimensional array of measurements.\"\"\"\r\n",
        "\r\n",
        "    # Number of data points: n\r\n",
        "    n = len(data)\r\n",
        "\r\n",
        "    # x-data for the ECDF: x\r\n",
        "    x = np.sort(data)\r\n",
        "\r\n",
        "    # y-data for the ECDF: y\r\n",
        "    y = np.arange(1, n + 1) / n\r\n",
        "\r\n",
        "    return x, y\r\n",
        "\r\n",
        "n = 60   # Number of trails\r\n",
        "p = 0.1  # probability of occurence of each trial\r\n",
        "samples = np.random.binomial(n, p, size=10000)\r\n",
        "\r\n",
        "# figure size\r\n",
        "plt.figure(figsize=(12, 7), facecolor='lightgrey')\r\n",
        "\r\n",
        "# Set default Seaborn style\r\n",
        "sns.set()\r\n",
        "\r\n",
        "\r\n",
        "# Ploting ECDF\r\n",
        "x, y = ecdf(samples)\r\n",
        "\r\n",
        "_ = plt.plot(x, y, marker='.', linestyle='none')\r\n",
        "plt.margins(0.02)\r\n",
        "_ = plt.xlabel('number of successes')\r\n",
        "_ = plt.ylabel('CDF')\r\n",
        "plt.show()"
      ],
      "execution_count": 12,
      "outputs": [
        {
          "output_type": "display_data",
          "data": {
            "image/png": "[encoded data removed]",
            "text/plain": [
              "<Figure size 864x504 with 1 Axes>"
            ]
          },
          "metadata": {
            "tags": []
          }
        }
      ]
    },
    {
      "cell_type": "code",
      "metadata": {
        "colab": {
          "base_uri": "https://localhost:8080/",
          "height": 483
        },
        "id": "Xm0apAswmKmq",
        "outputId": "fde21ce6-a0a7-415d-a90e-f6608759c531"
      },
      "source": [
        "import numpy as np\r\n",
        "import matplotlib.pyplot as plt\r\n",
        "import seaborn as sns\r\n",
        "\r\n",
        "sample = np.random.binomial(n=10, p=0.5, size=1000)\r\n",
        "\r\n",
        "# figure size\r\n",
        "plt.figure(figsize=(12, 7), facecolor='lightgrey')\r\n",
        "\r\n",
        "# seaborn distribution Plot\r\n",
        "sns.distplot(sample, hist=True, kde=True, color='tab:blue')\r\n",
        "\r\n",
        "plt.show()"
      ],
      "execution_count": 13,
      "outputs": [
        {
          "output_type": "stream",
          "text": [
            "/usr/local/lib/python3.6/dist-packages/seaborn/distributions.py:2557: FutureWarning: `distplot` is a deprecated function and will be removed in a future version. Please adapt your code to use either `displot` (a figure-level function with similar flexibility) or `histplot` (an axes-level function for histograms).\n",
            "  warnings.warn(msg, FutureWarning)\n"
          ],
          "name": "stderr"
        },
        {
          "output_type": "display_data",
          "data": {
            "image/png": "[encoded data removed]",
            "text/plain": [
              "<Figure size 864x504 with 1 Axes>"
            ]
          },
          "metadata": {
            "tags": []
          }
        }
      ]
    },
    {
      "cell_type": "markdown",
      "metadata": {
        "id": "Mquz4MIK36RV"
      },
      "source": [
        "### Sampling out of the Binomial distribution\r\n",
        "\r\n",
        "Compute the `Probability Mass Function(PMF)` for the number of defaults we would expect for 100 loans as in the last section, but instead of simulating all of the Bernoulli trials, perform the sampling using `np.random.binomial()`. This is identical to the calculation you did in the last set of exercises using your custom-written.\r\n",
        "\r\n",
        "`perform_bernoulli_trials()` function, but far more **computationally efficient**. Given this extra efficiency, we will take 10,000 samples instead of 1000. After taking the samples, plot the CDF as last time. This **CDF** that you are plotting is that of the Binomial distribution.\r\n",
        "\r\n",
        "Note: random number generator is pre-seeded for you (with np.random.seed(42)) to save you typing that each time.\r\n",
        "\r\n",
        "\r\n",
        "__Instructions__\r\n",
        "\r\n",
        "- Draw samples out of the Binomial distribution using `np.random.binomial()`. You should use parameters `n = 100` and `p = 0.05`, and set the `size` keyword argument to `10000`.\r\n",
        "\r\n",
        "- Compute the CDF using your previously-written `ecdf()` function.\r\n",
        "\r\n",
        "- Plot the CDF with axis labels. The x-axis here is the number of defaults out of 100 loans, while the y-axis is the CDF.\r\n",
        "\r\n",
        "- Show the plot.\r\n",
        "\r\n",
        "\r\n"
      ]
    },
    {
      "cell_type": "code",
      "metadata": {
        "colab": {
          "base_uri": "https://localhost:8080/",
          "height": 447
        },
        "id": "mp9ugA4_5mX6",
        "outputId": "ebb562e6-9499-496e-9205-9ac640a9e98c"
      },
      "source": [
        "# Sampling out of the Binomial distribution\r\n",
        "# importing the libraries\r\n",
        "import numpy as np\r\n",
        "import matplotlib.pyplot as plt\r\n",
        "import seaborn as sns\r\n",
        "\r\n",
        "# Defining the ECDF\r\n",
        "def ecdf(data):\r\n",
        "    \"\"\"Compute ECDF for a one-dimensional array of measurements.\"\"\"\r\n",
        "\r\n",
        "    # Number of data points: n\r\n",
        "    n = len(data)\r\n",
        "\r\n",
        "    # x-data for the ECDF: x\r\n",
        "    x = np.sort(data)\r\n",
        "\r\n",
        "    # y-data for the ECDF: y\r\n",
        "    y = np.arange(1, n + 1) / n\r\n",
        "\r\n",
        "    return x, y\r\n",
        "\r\n",
        "# figure size\r\n",
        "plt.figure(figsize=(12, 7), facecolor='lightgrey')\r\n",
        "\r\n",
        "# Set default Seaborn style\r\n",
        "sns.set()\r\n",
        "\r\n",
        "# Seed random number generator\r\n",
        "np.random.seed(42)\r\n",
        "\r\n",
        "# Take 10,000 samples out of the binomial distribution: n_defaults\r\n",
        "n_defaults = np.random.binomial(n=100, p=0.05, size=10000)\r\n",
        "\r\n",
        "# Compute CDF: x, y\r\n",
        "\r\n",
        "x, y = ecdf(n_defaults)\r\n",
        "\r\n",
        "# Plot the CDF with axis labels\r\n",
        "_ = plt.plot(x, y, marker='.', linestyle='none')\r\n",
        "_ = plt.xlabel('Defaults out of 100')\r\n",
        "_ = plt.ylabel('CDF')\r\n",
        "\r\n",
        "# Show the plot\r\n",
        "plt.show()"
      ],
      "execution_count": 14,
      "outputs": [
        {
          "output_type": "display_data",
          "data": {
            "image/png": "[encoded data removed]",
            "text/plain": [
              "<Figure size 864x504 with 1 Axes>"
            ]
          },
          "metadata": {
            "tags": []
          }
        }
      ]
    },
    {
      "cell_type": "markdown",
      "metadata": {
        "id": "OvfELtWa9Qqn"
      },
      "source": [
        "$\\color{red}{\\textbf{Note:}}$ Using **built-in algorithms to directly sample out** of the distribution is **much faster**."
      ]
    },
    {
      "cell_type": "markdown",
      "metadata": {
        "id": "adfejaagyLSM"
      },
      "source": [
        "### __Difference Between Normal and Binomial Distribution__"
      ]
    },
    {
      "cell_type": "markdown",
      "metadata": {
        "id": "-H8htgMR1iuT"
      },
      "source": [
        "The main difference is that **normal distribution** is **continous** whereas **binomial** is **discrete**, but if there are enough data points it will be quite similar to normal distribution with certain `loc` and `scale`."
      ]
    },
    {
      "cell_type": "code",
      "metadata": {
        "colab": {
          "base_uri": "https://localhost:8080/",
          "height": 516
        },
        "id": "vlpXFqGIyNlT",
        "outputId": "f7bbae61-403a-4de7-c0c5-60f75693b882"
      },
      "source": [
        "# Normal Distribution\r\n",
        "import numpy as np\r\n",
        "import matplotlib.pyplot as plt\r\n",
        "import seaborn as sns\r\n",
        "\r\n",
        "nor_sample = np.random.normal(loc=50, scale=5, size=1000)\r\n",
        "bin_sample=np.random.binomial(n=100, p=0.5, size=1000)\r\n",
        "\r\n",
        "# figure size\r\n",
        "plt.figure(figsize=(12, 7), facecolor='lightgrey')\r\n",
        "\r\n",
        "sns.distplot(nor_sample, hist=False, kde=True, label='normal')\r\n",
        "sns.distplot(bin_sample, hist=False, kde=True, label='binomial')\r\n",
        "plt.legend()\r\n",
        "plt.show()"
      ],
      "execution_count": 15,
      "outputs": [
        {
          "output_type": "stream",
          "text": [
            "/usr/local/lib/python3.6/dist-packages/seaborn/distributions.py:2557: FutureWarning: `distplot` is a deprecated function and will be removed in a future version. Please adapt your code to use either `displot` (a figure-level function with similar flexibility) or `kdeplot` (an axes-level function for kernel density plots).\n",
            "  warnings.warn(msg, FutureWarning)\n",
            "/usr/local/lib/python3.6/dist-packages/seaborn/distributions.py:2557: FutureWarning: `distplot` is a deprecated function and will be removed in a future version. Please adapt your code to use either `displot` (a figure-level function with similar flexibility) or `kdeplot` (an axes-level function for kernel density plots).\n",
            "  warnings.warn(msg, FutureWarning)\n"
          ],
          "name": "stderr"
        },
        {
          "output_type": "display_data",
          "data": {
            "image/png": "[encoded data removed]",
            "text/plain": [
              "<Figure size 864x504 with 1 Axes>"
            ]
          },
          "metadata": {
            "tags": []
          }
        }
      ]
    },
    {
      "cell_type": "markdown",
      "metadata": {
        "id": "8upHlYci9lS9"
      },
      "source": [
        "### __Plotting the Binomial PMF__\r\n",
        "\r\n",
        "Plotting a nice looking PMF requires a bit of matplotlib trickery that we will not go into here. Instead, we will plot the PMF of the Binomial distribution as a histogram with skills you have already learned. \r\n",
        "\r\n",
        "The trick is setting up the edges of the bins to pass to `plt.hist()` via the `bins` keyword argument. We want the bins centered on the integers. So, the edges of the bins should be `-0.5, 0.5, 1.5, 2.5, ... up to max(n_defaults) + 1.5`. You can generate an array like this using np.arange() and then subtracting 0.5 from the array.\r\n",
        "\r\n",
        "we have already sampled out of the Binomial distribution during your exercises on loan defaults, and the resulting samples are in the NumPy array `n_defaults`.\r\n",
        "\r\n",
        "__Instructions__\r\n",
        "\r\n",
        "- Using `np.arange()`, compute the bin edges such that the `bins` are centered on the integers. Store the resulting array in the variable `bins`.\r\n",
        "\r\n",
        "- Use `plt.hist()` to plot the histogram of n_defaults with the normed=True and `bins=bins` keyword arguments.\r\n",
        "\r\n",
        "- Show the plot."
      ]
    },
    {
      "cell_type": "code",
      "metadata": {
        "colab": {
          "base_uri": "https://localhost:8080/",
          "height": 447
        },
        "id": "u4eoO4K9CuWp",
        "outputId": "5c5f23f3-a2c7-42f1-abfe-2e0cfdfe1e13"
      },
      "source": [
        "import numpy as np\r\n",
        "import matplotlib.pyplot as plt\r\n",
        "import seaborn as sns\r\n",
        "\r\n",
        "def ecdf(data):\r\n",
        "    \"\"\"Compute ECDF for a one-dimensional array of measurements.\"\"\"\r\n",
        "\r\n",
        "    # Number of data points: n\r\n",
        "    n = len(data)\r\n",
        "\r\n",
        "    # x-data for the ECDF: x\r\n",
        "    x = np.sort(data)\r\n",
        "\r\n",
        "    # y-data for the ECDF: y\r\n",
        "    y = np.arange(1, n + 1) / n\r\n",
        "\r\n",
        "    return x, y\r\n",
        "\r\n",
        "\r\n",
        "# Seed random number generator\r\n",
        "np.random.seed(42)\r\n",
        "\r\n",
        "# Take 10,000 samples out of the binomial distribution: n_defaults\r\n",
        "n_defaults = np.random.binomial(n=100, p=0.05, size=10000)\r\n",
        "\r\n",
        "# Compute bin edges: bins\r\n",
        "bins = np.arange(min(n_defaults), max(n_defaults) + 1.5) - 0.5\r\n",
        "\r\n",
        "# figure size\r\n",
        "plt.figure(figsize=(12, 7), facecolor='lightgrey')\r\n",
        "\r\n",
        "# Set default Seaborn style\r\n",
        "sns.set()\r\n",
        "\r\n",
        "# Generate histogram\r\n",
        "_ = plt.hist(n_defaults, density=True, bins=bins, color='tab:blue')\r\n",
        "\r\n",
        "# Set margins\r\n",
        "_ = plt.margins(0.02)\r\n",
        "\r\n",
        "# Label axes\r\n",
        "_ = plt.xlabel('x')\r\n",
        "_ = plt.ylabel('y')\r\n",
        "\r\n",
        "# Show the plot\r\n",
        "plt.show()"
      ],
      "execution_count": 16,
      "outputs": [
        {
          "output_type": "display_data",
          "data": {
            "image/png": "[encoded data removed]",
            "text/plain": [
              "<Figure size 864x504 with 1 Axes>"
            ]
          },
          "metadata": {
            "tags": []
          }
        }
      ]
    },
    {
      "cell_type": "markdown",
      "metadata": {
        "id": "EYyjV3JF3ooc"
      },
      "source": [
        "## __Poisson processes and the Poisson distribution__"
      ]
    },
    {
      "cell_type": "markdown",
      "metadata": {
        "id": "Z_VNFui5GOvB"
      },
      "source": [
        "### __Poisson Distribution__"
      ]
    },
    {
      "cell_type": "markdown",
      "metadata": {
        "id": "4S-8okCwCTcI"
      },
      "source": [
        "\r\n",
        "\r\n",
        ">Poisson Distribution is a Discrete Distribution. It estimates **how many times an event can happen in a specified time**. e.g. *If someone eats twice a day what is probability he will eat thrice?*\r\n",
        "\r\n",
        "**This type of distribution is useful when you need to know:**\r\n",
        "- *Which outcomes are most likely*\r\n",
        "- *The spread of potential values, and*\r\n",
        "- *The likelihood of different results.*\r\n",
        "\r\n",
        "**It has two parameters:**\r\n",
        "\r\n",
        "- `lam`(lambda) - rate or known number of occurences e.g. 2 for above problem.\r\n",
        "\r\n",
        "- `size` - The shape of the returned array\r\n",
        "\r\n",
        "\r\n",
        "<p align='center'>\r\n",
        "  <a href=\"#\">\r\n",
        "    <img src='https://github.com/mohd-faizy/CAREER-TRACK-Data-Scientist-with-Python/blob/main/22_Statistical-Thinking-in-Python-%5BPart%20-1%5D/_png/Poisson%20Distribution.png?raw=true'>\r\n",
        "  </a>\r\n",
        "</p>"
      ]
    },
    {
      "cell_type": "markdown",
      "metadata": {
        "id": "4blkpd-fgpas"
      },
      "source": [
        "The **Poisson distribution** is used to describe the distribution of rare events in a large population. **For example**, at any particular time, ***there is a certain probability that a particular cell within a large population of cells will acquire a mutation***.\r\n",
        "\r\n",
        ">Poisson distributions are often used to understand ***independent events that occur at a constant rate within a given interval of time***.\r\n",
        "\r\n",
        ">Many economic and financial data appear as count variables, such as how many times a person becomes unemployed in a given year, thus lending itself to analysis with a Poisson distribution.\r\n",
        "    \r\n",
        "The Poisson distribution is also commonly used to model financial count data where the tally is small and is often zero. For one example, in finance, it can be used to model the number of trades that a typical investor will make in a given day, which can be 0 (often), or 1, or 2, etc.\r\n",
        "\r\n",
        "As another example, this model can be used to predict the number of \"shocks\" to the market that will occur in a given time period, say over a decade.\r\n",
        "\r\n",
        "$$ P\\left( x \\right) = \\frac{{e^{ - \\lambda } \\lambda ^x }}{{x!}} $$\r\n",
        "\r\n",
        "Where:\r\n",
        "\r\n",
        "- `e` is Euler's number `(e = 2.71828...)`\r\n",
        "- `x` is the number of occurrences\r\n",
        "- `x!` is the factorial of `x\r\n",
        "- `λ` is equal to the expected value of `x` when that is also equal to its variance\r\n"
      ]
    },
    {
      "cell_type": "code",
      "metadata": {
        "colab": {
          "base_uri": "https://localhost:8080/"
        },
        "id": "9Wt6fQEh1Dda",
        "outputId": "e562c97b-b1cc-4106-f974-74d40d7c2d77"
      },
      "source": [
        "import numpy as np\r\n",
        "\r\n",
        "x = np.random.poisson(lam=2, size=10)\r\n",
        "print(x)"
      ],
      "execution_count": 17,
      "outputs": [
        {
          "output_type": "stream",
          "text": [
            "[1 1 2 6 1 0 1 1 0 1]\n"
          ],
          "name": "stdout"
        }
      ]
    },
    {
      "cell_type": "code",
      "metadata": {
        "colab": {
          "base_uri": "https://localhost:8080/",
          "height": 483
        },
        "id": "VFGt7EcUE8N7",
        "outputId": "4f7c6c04-9a09-4a1c-c2cd-b3bcb5f379da"
      },
      "source": [
        "# Visualization of Poisson Distribution\r\n",
        "import numpy as np\r\n",
        "import matplotlib.pyplot as plt\r\n",
        "import seaborn as sns\r\n",
        "\r\n",
        "# figure size\r\n",
        "plt.figure(figsize=(12, 7), facecolor='lightgrey')\r\n",
        "\r\n",
        "sns.distplot(np.random.poisson(lam=2, size=1000), hist=True,\r\n",
        "             kde=False, color='tab:blue')\r\n",
        "\r\n",
        "plt.show()"
      ],
      "execution_count": 18,
      "outputs": [
        {
          "output_type": "stream",
          "text": [
            "/usr/local/lib/python3.6/dist-packages/seaborn/distributions.py:2557: FutureWarning: `distplot` is a deprecated function and will be removed in a future version. Please adapt your code to use either `displot` (a figure-level function with similar flexibility) or `histplot` (an axes-level function for histograms).\n",
            "  warnings.warn(msg, FutureWarning)\n"
          ],
          "name": "stderr"
        },
        {
          "output_type": "display_data",
          "data": {
            "image/png": "[encoded data removed]",
            "text/plain": [
              "<Figure size 864x504 with 1 Axes>"
            ]
          },
          "metadata": {
            "tags": []
          }
        }
      ]
    },
    {
      "cell_type": "markdown",
      "metadata": {
        "id": "RSe5M1BYGIPj"
      },
      "source": [
        "### __Difference Between Normal and Poisson Distribution__"
      ]
    },
    {
      "cell_type": "markdown",
      "metadata": {
        "id": "y4Qjo92DGa73"
      },
      "source": [
        "Normal distribution is **continous** whereas poisson is **discrete**.\r\n",
        "\r\n",
        "But we can see that similar to binomial ***for a large enough poisson distribution*** it will become **similar** to normal distribution with certain **std dev** and **mean**."
      ]
    },
    {
      "cell_type": "code",
      "metadata": {
        "colab": {
          "base_uri": "https://localhost:8080/",
          "height": 517
        },
        "id": "b1HSU0UAF7te",
        "outputId": "636aad47-a1c5-40e0-ac6f-9ca6fd0e6cab"
      },
      "source": [
        "import numpy as np\r\n",
        "import matplotlib.pyplot as plt\r\n",
        "import seaborn as sns\r\n",
        "\r\n",
        "# figure size\r\n",
        "plt.figure(figsize=(12, 7), facecolor='lightgrey')\r\n",
        "\r\n",
        "sns.distplot(np.random.normal(loc=50, scale=7, size=1000), hist=False, kde=True, label='normal')\r\n",
        "sns.distplot(np.random.poisson(lam=50, size=1000), hist=False, kde=True, label='poisson')\r\n",
        "plt.legend()\r\n",
        "plt.show()"
      ],
      "execution_count": 19,
      "outputs": [
        {
          "output_type": "stream",
          "text": [
            "/usr/local/lib/python3.6/dist-packages/seaborn/distributions.py:2557: FutureWarning: `distplot` is a deprecated function and will be removed in a future version. Please adapt your code to use either `displot` (a figure-level function with similar flexibility) or `kdeplot` (an axes-level function for kernel density plots).\n",
            "  warnings.warn(msg, FutureWarning)\n",
            "/usr/local/lib/python3.6/dist-packages/seaborn/distributions.py:2557: FutureWarning: `distplot` is a deprecated function and will be removed in a future version. Please adapt your code to use either `displot` (a figure-level function with similar flexibility) or `kdeplot` (an axes-level function for kernel density plots).\n",
            "  warnings.warn(msg, FutureWarning)\n"
          ],
          "name": "stderr"
        },
        {
          "output_type": "display_data",
          "data": {
            "image/png": "[encoded data removed]",
            "text/plain": [
              "<Figure size 864x504 with 1 Axes>"
            ]
          },
          "metadata": {
            "tags": []
          }
        }
      ]
    },
    {
      "cell_type": "markdown",
      "metadata": {
        "id": "7HijRj2iRub1"
      },
      "source": [
        "### __Difference Between Poisson and Binomial Distribution__"
      ]
    },
    {
      "cell_type": "markdown",
      "metadata": {
        "id": "i5K3pHQwRwJc"
      },
      "source": [
        "For very large `n` and near-zero `p` binomial distribution is near identical to poisson distribution such that `n * p` is nearly equal to `lam`."
      ]
    },
    {
      "cell_type": "code",
      "metadata": {
        "colab": {
          "base_uri": "https://localhost:8080/",
          "height": 516
        },
        "id": "xVFfyYrCRqJa",
        "outputId": "172b7077-0a1f-480b-dc60-4cec6be2fdb9"
      },
      "source": [
        "import numpy as np\r\n",
        "import matplotlib.pyplot as plt\r\n",
        "import seaborn as sns\r\n",
        "\r\n",
        "# figure size\r\n",
        "plt.figure(figsize=(12, 7), facecolor='lightgrey')\r\n",
        "sns.distplot(np.random.poisson(lam=10, size=1000), hist=False, kde=True, label='poisson')\r\n",
        "sns.distplot(np.random.binomial(n=1000, p=0.01, size=1000), hist=False, kde=True, label='binomial')\r\n",
        "plt.legend()\r\n",
        "plt.show()"
      ],
      "execution_count": 20,
      "outputs": [
        {
          "output_type": "stream",
          "text": [
            "/usr/local/lib/python3.6/dist-packages/seaborn/distributions.py:2557: FutureWarning: `distplot` is a deprecated function and will be removed in a future version. Please adapt your code to use either `displot` (a figure-level function with similar flexibility) or `kdeplot` (an axes-level function for kernel density plots).\n",
            "  warnings.warn(msg, FutureWarning)\n",
            "/usr/local/lib/python3.6/dist-packages/seaborn/distributions.py:2557: FutureWarning: `distplot` is a deprecated function and will be removed in a future version. Please adapt your code to use either `displot` (a figure-level function with similar flexibility) or `kdeplot` (an axes-level function for kernel density plots).\n",
            "  warnings.warn(msg, FutureWarning)\n"
          ],
          "name": "stderr"
        },
        {
          "output_type": "display_data",
          "data": {
            "image/png": "[encoded data removed]",
            "text/plain": [
              "<Figure size 864x504 with 1 Axes>"
            ]
          },
          "metadata": {
            "tags": []
          }
        }
      ]
    },
    {
      "cell_type": "markdown",
      "metadata": {
        "id": "eUiNhvPYTC6l"
      },
      "source": [
        "### __Relationship between Binomial and Poisson distributions__\r\n",
        "\r\n",
        "The **Poisson distribution** is a limit of the **Binomial distribution** for **rare events**.\r\n",
        "\r\n",
        "This makes sense if you think about the stories. Say! we do a **Bernoulli trial** every minute for an hour, each with a ***success probability*** of `0.1`. We would do `60` trials, and **the number of successes** is **Binomially distributed**, and we would expect to get about `6` successes.\r\n",
        "\r\n",
        "This is just like the Poisson story, where we get on average __6 hits__ on a website per hour. So, the __Poisson distribution__ with arrival rate equal to $np$ approximates a __Binomial distribution__ for $n$ __Bernoulli trials__ with probability $p$ of success (with $n$ large  and $p$ small).\r\n",
        "\r\n",
        "__Importantly__, the __Poisson distribution__ is often simpler to work with because it has __only one parameter__ instead of __two__ for the __Binomial distribution__.\r\n",
        "\r\n",
        "Let's explore these two distributions computationally. we will compute the __mean__ and __standard deviation__ of samples from a __Poisson distribution__ with an arrival rate of __10__. Then, we will compute the __mean__ and __standard deviation__ of samples from a __Binomial distribution__ with parameters $n$ and $p$  such that $np=10$. "
      ]
    },
    {
      "cell_type": "markdown",
      "metadata": {
        "id": "FtyEO3CsV4Sf"
      },
      "source": [
        "__Instructions:__\r\n",
        "\r\n",
        "- Using the `np.random.poisson()` function, draw `10000` samples from a Poisson distribution with a mean of `10`.\r\n",
        "\r\n",
        "- Make a list of the $n$ and $p$ values to consider for the Binomial distribution. Choose `n = [20, 100, 1000]` and `p = [0.5, 0.1, 0.01]` so that $np$ is always 10.\r\n",
        "\r\n",
        "- Using `np.random.binomial()` inside the provided `for` loop, draw `10000` samples from a Binomial distribution with each `n, p` pair and print the mean and standard deviation of the samples. There are 3 `n, p` pairs: `20, 0.5, 100, 0.1,` and `1000, 0.01`. These can be accessed inside the loop as `n[i], p[i]`."
      ]
    },
    {
      "cell_type": "code",
      "metadata": {
        "colab": {
          "base_uri": "https://localhost:8080/"
        },
        "id": "NTNOLaZPTCes",
        "outputId": "b2481b3b-5ba8-4a18-8dce-d1281c6c1dae"
      },
      "source": [
        "import numpy as np\r\n",
        "\r\n",
        "# Seed random number generator\r\n",
        "np.random.seed(42)\r\n",
        "\r\n",
        "# Draw 10,000 samples out of Poisson distribution: samples_poisson\r\n",
        "samples_poisson = np.random.poisson(10, size=10000)\r\n",
        "\r\n",
        "# Print the mean and standard deviation\r\n",
        "print('Poisson:     ', np.mean(samples_poisson),\r\n",
        "      np.std(samples_poisson))\r\n",
        "\r\n",
        "# Specify values of n and p to consider for Binomial: n, p\r\n",
        "n = [20, 100, 1000]\r\n",
        "p = [0.5, 0.1, 0.01]\r\n",
        "\r\n",
        "# Draw 10,000 samples for each n,p pair: samples_binomial\r\n",
        "for i in range(3):\r\n",
        "    samples_binomial = np.random.binomial(n[i], p[i], 10000)\r\n",
        "\r\n",
        "    # Print results\r\n",
        "    print('n =', n[i], 'Binom:', np.mean(samples_binomial),\r\n",
        "          np.std(samples_binomial))"
      ],
      "execution_count": 21,
      "outputs": [
        {
          "output_type": "stream",
          "text": [
            "Poisson:      10.0186 3.144813832327758\n",
            "n = 20 Binom: 9.9637 2.2163443572694206\n",
            "n = 100 Binom: 9.9947 3.0135812433050484\n",
            "n = 1000 Binom: 9.9985 3.139378561116833\n"
          ],
          "name": "stdout"
        }
      ]
    },
    {
      "cell_type": "markdown",
      "metadata": {
        "id": "IPLup0aibA0v"
      },
      "source": [
        "The means are all about the same, which can be shown to be `True` by doing some pen-and-paper work. The `standard deviation` of the `Binomial distribution` gets closer and closer to that of the `Poisson distribution` as the `probability` `p` gets `lower` and `lower`."
      ]
    },
    {
      "cell_type": "markdown",
      "metadata": {
        "id": "aHHkESpbbYZw"
      },
      "source": [
        "### __How many no-hitters in a season?__\r\n",
        "\r\n",
        "In baseball, a no-hitter is a game in which a pitcher does not allow the other team to get a hit. This is a rare event, and since the beginning of the so-called modern era of baseball (starting in 1901), there have only been 251 of them through the 2015 season in over 200,000 games. The ECDF of the number of no-hitters in a season is shown to the right. Which probability distribution would be appropriate to describe the number of no-hitters we would expect in a given season?\r\n",
        "\r\n",
        "<p align='center'>\r\n",
        "  <a href=\"#\">\r\n",
        "    <img src='https://github.com/mohd-faizy/CAREER-TRACK-Data-Scientist-with-Python/blob/main/22_Statistical-Thinking-in-Python-%5BPart%20-1%5D/_png/hitters_in_a_season.png?raw=true' width=600 height=400 alt=\"\">\r\n",
        "  </a>\r\n",
        "</p>\r\n",
        "\r\n",
        "Note: The no-hitter data set was scraped and calculated from the data sets available at [retrosheet.org (license)](https://www.retrosheet.org/).\r\n",
        "\r\n",
        "$\\color{red}{\\textbf{Answer:}}$ - ***Both Binomial and Poisson, though Poisson is easier to model and compute.***\r\n",
        "\r\n",
        "__When we have rare events (low `p`, high `n`), the `Binomial distribution` is `Poisson`. This has a `single parameter`, the `mean` number of successes per time interval, in our case the mean number of no-hitters per season__"
      ]
    },
    {
      "cell_type": "markdown",
      "metadata": {
        "id": "OULSSeydeQ6I"
      },
      "source": [
        "### __Was 2015 anomalous?__\r\n",
        "\r\n",
        "1990 and 2015 featured the most no-hitters of any season of baseball (there were seven). Given that there are on average 251/115 no-hitters per season, what is the probability of having seven or more in a season?"
      ]
    },
    {
      "cell_type": "markdown",
      "metadata": {
        "id": "qm9IY5IxuSjL"
      },
      "source": [
        "__Instructions__\r\n",
        "\r\n",
        "- Draw `10000` samples from a Poisson distribution with a mean of `251/115` and assign to n_nohitters.\r\n",
        "\r\n",
        "- Determine how many of your samples had a result greater than or equal to `7` and assign to `n_large`.\r\n",
        "\r\n",
        "- Compute the probability, `p_large`, of having 7 or more no-hitters by dividing n_large by the total number of samples (`10000`)."
      ]
    },
    {
      "cell_type": "code",
      "metadata": {
        "colab": {
          "base_uri": "https://localhost:8080/"
        },
        "id": "u953gx2rbX9e",
        "outputId": "a45c26cd-2a61-45e8-a3c1-7214aaf6ebb7"
      },
      "source": [
        "import numpy as np\r\n",
        "\r\n",
        "# Seed random number generator\r\n",
        "np.random.seed(42)\r\n",
        "\r\n",
        "# Draw 10,000 samples out of Poisson distribution: n_nohitters\r\n",
        "n_nohitters = np.random.poisson((251 / 115), size=10000)\r\n",
        "\r\n",
        "# Compute number of samples that are seven or greater: n_large\r\n",
        "n_large = np.sum(n_nohitters >= 7)\r\n",
        "\r\n",
        "# Compute probability of getting seven or more: p_large\r\n",
        "p_large = n_large / 10000\r\n",
        "\r\n",
        "# Print the result\r\n",
        "print('Probability of seven or more no-hitters:{0:.3f}'.format(p_large))"
      ],
      "execution_count": 22,
      "outputs": [
        {
          "output_type": "stream",
          "text": [
            "Probability of seven or more no-hitters:0.007\n"
          ],
          "name": "stdout"
        }
      ]
    },
    {
      "cell_type": "markdown",
      "metadata": {
        "id": "Ph512bB1e35T"
      },
      "source": [
        "The result is about __0.007__. This means that it is not that improbable to see a 7-or-more no-hitter season in a century. We have seen two in a century and a half, so it is not unreasonable."
      ]
    },
    {
      "cell_type": "markdown",
      "metadata": {
        "id": "q2Brvf5_xD3A"
      },
      "source": [
        "## __Probability density functions__"
      ]
    },
    {
      "cell_type": "markdown",
      "metadata": {
        "id": "wlIPnm6iySoo"
      },
      "source": [
        "__Probability density function (PDF)__\r\n",
        "\r\n",
        "- Continuous analog to the PMF\r\n",
        "- Mathematical description of the relative likelihood of observing a value of a continuous variable.\r\n",
        "\r\n",
        "__Continuous variables__\r\n",
        "\r\n",
        "- Quantities that can take any value, not just discrete values"
      ]
    },
    {
      "cell_type": "markdown",
      "metadata": {
        "id": "ZiqClvNH1DUi"
      },
      "source": [
        "### __Interpreting PDFs__\r\n",
        "\r\n",
        "Consider the **PDF** shown to the right  Which of the following is true?\r\n",
        "\r\n",
        "\r\n",
        "<p align='center'>\r\n",
        "  <a href=\"#\">\r\n",
        "    <img src='https://github.com/mohd-faizy/CAREER-TRACK-Data-Scientist-with-Python/blob/main/22_Statistical-Thinking-in-Python-%5BPart%20-1%5D/_png/Interpreting_PDFs.png?raw=true' width=500px height=400>\r\n",
        "  </a>\r\n",
        "</p>\r\n",
        "\r\n",
        "__Possible Answers__\r\n",
        "\r\n",
        "- $\\color{red}{\\textbf{Correct}}$ $\\Rightarrow$ $x$ is more likely to be less than 10 than to be greater than 10. \r\n",
        "\r\n",
        ">***The probability is given by the area under the PDF, and there is more area to the left of 10 than to the right***\r\n",
        "\r\n",
        "- $x$ is more likely to be greater than 10 than to be less than 10.\r\n",
        "\r\n",
        "- We cannot tell from the PDF if $x$ is more likely to be greater than or less than 10.\r\n",
        "\r\n",
        "- This is not a valid PDF because it has two peaks."
      ]
    },
    {
      "cell_type": "markdown",
      "metadata": {
        "id": "jkV1qcXP2xSV"
      },
      "source": [
        "### __Interpreting CDFs__\r\n",
        "\r\n",
        "At right is the CDF corresponding to the PDF you considered in the last exercise. Using the CDF, what is the probability that $x$ is greater than 10?\r\n",
        "\r\n",
        "<p align='center'>\r\n",
        "  <a href=\"#\">\r\n",
        "    <img src='https://github.com/mohd-faizy/CAREER-TRACK-Data-Scientist-with-Python/blob/main/22_Statistical-Thinking-in-Python-%5BPart%20-1%5D/_png/Interpreting_CDF.png?raw=true' width=480 height=400>\r\n",
        "  </a>\r\n",
        "</p>\r\n",
        "\r\n",
        "Possible Answers\r\n",
        "\r\n",
        "-  $\\color{red}{\\textbf{Correct}}$ $\\Rightarrow$ __0.25__\r\n",
        "\r\n",
        ">The value of the CDF at `x = 10` is `0.75`, so the probability that `x < 10` is `0.75`. Thus, the probability that `x > 10` is `0.25`.\r\n",
        "\r\n",
        "- 0.75\r\n",
        "\r\n",
        "- 3.75\r\n",
        "\r\n",
        "- 15"
      ]
    },
    {
      "cell_type": "markdown",
      "metadata": {
        "id": "YC4hQo-TxbVJ"
      },
      "source": [
        "### __Michelson Speed of light__"
      ]
    },
    {
      "cell_type": "markdown",
      "metadata": {
        "id": "DdViaFttkitC"
      },
      "source": [
        "__Clone the repository__ "
      ]
    },
    {
      "cell_type": "code",
      "metadata": {
        "colab": {
          "base_uri": "https://localhost:8080/"
        },
        "id": "zDL6YbYZjfOT",
        "outputId": "e204f758-d261-4eac-8ebf-4494e0642e1b"
      },
      "source": [
        "! git clone https://github.com/mohd-faizy/CAREER-TRACK-Data-Scientist-with-Python.git"
      ],
      "execution_count": 23,
      "outputs": [
        {
          "output_type": "stream",
          "text": [
            "Cloning into 'CAREER-TRACK-Data-Scientist-with-Python'...\n",
            "remote: Enumerating objects: 86, done.\u001b[K\n",
            "remote: Counting objects: 100% (86/86), done.\u001b[K\n",
            "remote: Compressing objects: 100% (71/71), done.\u001b[K\n",
            "remote: Total 1943 (delta 35), reused 55 (delta 15), pack-reused 1857\u001b[K\n",
            "Receiving objects: 100% (1943/1943), 202.36 MiB | 33.62 MiB/s, done.\n",
            "Resolving deltas: 100% (687/687), done.\n",
            "Checking out files: 100% (836/836), done.\n"
          ],
          "name": "stdout"
        }
      ]
    },
    {
      "cell_type": "markdown",
      "metadata": {
        "id": "eZqCdlEZk5bc"
      },
      "source": [
        "__Change the current working directory__"
      ]
    },
    {
      "cell_type": "code",
      "metadata": {
        "colab": {
          "base_uri": "https://localhost:8080/"
        },
        "id": "4v_cclBnknUF",
        "outputId": "2075578a-8ece-4285-fe98-5b0f097033eb"
      },
      "source": [
        "# import os module \r\n",
        "import os \r\n",
        "   \r\n",
        "# to specified path \r\n",
        "os.chdir('/content/CAREER-TRACK-Data-Scientist-with-Python/22_Statistical-Thinking-in-Python-[Part -1]/_datasets') \r\n",
        "  \r\n",
        "# varify the path using getcwd() \r\n",
        "cwd = os.getcwd() \r\n",
        "  \r\n",
        "# print the current directory \r\n",
        "print(\"Current working directory is:\", cwd)"
      ],
      "execution_count": 24,
      "outputs": [
        {
          "output_type": "stream",
          "text": [
            "Current working directory is: /content/CAREER-TRACK-Data-Scientist-with-Python/22_Statistical-Thinking-in-Python-[Part -1]/_datasets\n"
          ],
          "name": "stdout"
        }
      ]
    },
    {
      "cell_type": "code",
      "metadata": {
        "colab": {
          "base_uri": "https://localhost:8080/"
        },
        "id": "q4eEcmDTmBQ1",
        "outputId": "b0c6a6f5-0640-4a98-8ea1-e0a428e91e2c"
      },
      "source": [
        "ls"
      ],
      "execution_count": 25,
      "outputs": [
        {
          "output_type": "stream",
          "text": [
            "2008_all_states.csv    belmont.csv  michelson_speed_of_light.csv\n",
            "2008_swing_states.csv  iris.csv\n"
          ],
          "name": "stdout"
        }
      ]
    },
    {
      "cell_type": "code",
      "metadata": {
        "colab": {
          "base_uri": "https://localhost:8080/",
          "height": 141
        },
        "id": "DCkHfZNm83A5",
        "outputId": "96d3252f-03ac-4d01-8aff-b6266c013037"
      },
      "source": [
        "import pandas as pd\r\n",
        "\r\n",
        "# loading Michelson data as pandas dataframe\r\n",
        "mspl = pd.read_csv('michelson_speed_of_light.csv')\r\n",
        "mspl.head(1)"
      ],
      "execution_count": 26,
      "outputs": [
        {
          "output_type": "execute_result",
          "data": {
            "text/html": [
              "<div>\n",
              "<style scoped>\n",
              "    .dataframe tbody tr th:only-of-type {\n",
              "        vertical-align: middle;\n",
              "    }\n",
              "\n",
              "    .dataframe tbody tr th {\n",
              "        vertical-align: top;\n",
              "    }\n",
              "\n",
              "    .dataframe thead th {\n",
              "        text-align: right;\n",
              "    }\n",
              "</style>\n",
              "<table border=\"1\" class=\"dataframe\">\n",
              "  <thead>\n",
              "    <tr style=\"text-align: right;\">\n",
              "      <th></th>\n",
              "      <th>Unnamed: 0</th>\n",
              "      <th>date</th>\n",
              "      <th>distinctness of image</th>\n",
              "      <th>temperature (F)</th>\n",
              "      <th>position of deflected image</th>\n",
              "      <th>position of slit</th>\n",
              "      <th>displacement of image in divisions</th>\n",
              "      <th>difference between greatest and least</th>\n",
              "      <th>B</th>\n",
              "      <th>Cor</th>\n",
              "      <th>revolutions per second</th>\n",
              "      <th>radius (ft)</th>\n",
              "      <th>value of one turn of screw</th>\n",
              "      <th>velocity of light in air (km/s)</th>\n",
              "      <th>remarks</th>\n",
              "    </tr>\n",
              "  </thead>\n",
              "  <tbody>\n",
              "    <tr>\n",
              "      <th>0</th>\n",
              "      <td>0</td>\n",
              "      <td>June  5</td>\n",
              "      <td>3</td>\n",
              "      <td>76</td>\n",
              "      <td>114.85</td>\n",
              "      <td>0.3</td>\n",
              "      <td>114.55</td>\n",
              "      <td>0.17</td>\n",
              "      <td>1.423</td>\n",
              "      <td>-0.132</td>\n",
              "      <td>257.36</td>\n",
              "      <td>28.672</td>\n",
              "      <td>0.99614</td>\n",
              "      <td>299850</td>\n",
              "      <td>Electric light.</td>\n",
              "    </tr>\n",
              "  </tbody>\n",
              "</table>\n",
              "</div>"
            ],
            "text/plain": [
              "   Unnamed: 0     date  ...  velocity of light in air (km/s)          remarks\n",
              "0           0  June  5  ...                           299850  Electric light.\n",
              "\n",
              "[1 rows x 15 columns]"
            ]
          },
          "metadata": {
            "tags": []
          },
          "execution_count": 26
        }
      ]
    },
    {
      "cell_type": "code",
      "metadata": {
        "colab": {
          "base_uri": "https://localhost:8080/"
        },
        "id": "pHfOAkpKBp77",
        "outputId": "dc5e43b9-e15e-4435-edf7-67a0ff372290"
      },
      "source": [
        "mspl.isna().sum()"
      ],
      "execution_count": 27,
      "outputs": [
        {
          "output_type": "execute_result",
          "data": {
            "text/plain": [
              "Unnamed: 0                               0\n",
              "date                                     0\n",
              "distinctness of image                    0\n",
              "temperature (F)                          0\n",
              "position of deflected image              0\n",
              "position of slit                         0\n",
              "displacement of image in divisions       0\n",
              "difference between greatest and least    0\n",
              "B                                        0\n",
              "Cor                                      0\n",
              "revolutions per second                   0\n",
              "radius (ft)                              0\n",
              "value of one turn of screw               0\n",
              "velocity of light in air (km/s)          0\n",
              "remarks                                  0\n",
              "dtype: int64"
            ]
          },
          "metadata": {
            "tags": []
          },
          "execution_count": 27
        }
      ]
    },
    {
      "cell_type": "code",
      "metadata": {
        "colab": {
          "base_uri": "https://localhost:8080/",
          "height": 293
        },
        "id": "rKnl_1-Q-kZX",
        "outputId": "aee875b8-8528-43e5-a37d-cfee14ecc468"
      },
      "source": [
        "mspl.describe()"
      ],
      "execution_count": 28,
      "outputs": [
        {
          "output_type": "execute_result",
          "data": {
            "text/html": [
              "<div>\n",
              "<style scoped>\n",
              "    .dataframe tbody tr th:only-of-type {\n",
              "        vertical-align: middle;\n",
              "    }\n",
              "\n",
              "    .dataframe tbody tr th {\n",
              "        vertical-align: top;\n",
              "    }\n",
              "\n",
              "    .dataframe thead th {\n",
              "        text-align: right;\n",
              "    }\n",
              "</style>\n",
              "<table border=\"1\" class=\"dataframe\">\n",
              "  <thead>\n",
              "    <tr style=\"text-align: right;\">\n",
              "      <th></th>\n",
              "      <th>Unnamed: 0</th>\n",
              "      <th>distinctness of image</th>\n",
              "      <th>temperature (F)</th>\n",
              "      <th>position of deflected image</th>\n",
              "      <th>position of slit</th>\n",
              "      <th>B</th>\n",
              "      <th>Cor</th>\n",
              "      <th>radius (ft)</th>\n",
              "      <th>value of one turn of screw</th>\n",
              "      <th>velocity of light in air (km/s)</th>\n",
              "    </tr>\n",
              "  </thead>\n",
              "  <tbody>\n",
              "    <tr>\n",
              "      <th>count</th>\n",
              "      <td>100.000000</td>\n",
              "      <td>100.00000</td>\n",
              "      <td>100.000000</td>\n",
              "      <td>100.000000</td>\n",
              "      <td>100.000000</td>\n",
              "      <td>100.000000</td>\n",
              "      <td>100.000000</td>\n",
              "      <td>100.000000</td>\n",
              "      <td>100.000000</td>\n",
              "      <td>100.000000</td>\n",
              "    </tr>\n",
              "    <tr>\n",
              "      <th>mean</th>\n",
              "      <td>49.500000</td>\n",
              "      <td>2.31000</td>\n",
              "      <td>76.390000</td>\n",
              "      <td>110.019400</td>\n",
              "      <td>11.019720</td>\n",
              "      <td>1.503800</td>\n",
              "      <td>-0.136650</td>\n",
              "      <td>30.612040</td>\n",
              "      <td>0.996188</td>\n",
              "      <td>299852.400000</td>\n",
              "    </tr>\n",
              "    <tr>\n",
              "      <th>std</th>\n",
              "      <td>29.011492</td>\n",
              "      <td>0.72048</td>\n",
              "      <td>8.651379</td>\n",
              "      <td>31.895792</td>\n",
              "      <td>36.765551</td>\n",
              "      <td>0.025428</td>\n",
              "      <td>0.103874</td>\n",
              "      <td>2.512436</td>\n",
              "      <td>0.000111</td>\n",
              "      <td>79.010548</td>\n",
              "    </tr>\n",
              "    <tr>\n",
              "      <th>min</th>\n",
              "      <td>0.000000</td>\n",
              "      <td>1.00000</td>\n",
              "      <td>58.000000</td>\n",
              "      <td>2.140000</td>\n",
              "      <td>0.074000</td>\n",
              "      <td>1.423000</td>\n",
              "      <td>-0.300000</td>\n",
              "      <td>28.129000</td>\n",
              "      <td>0.995740</td>\n",
              "      <td>299620.000000</td>\n",
              "    </tr>\n",
              "    <tr>\n",
              "      <th>25%</th>\n",
              "      <td>24.750000</td>\n",
              "      <td>2.00000</td>\n",
              "      <td>72.000000</td>\n",
              "      <td>112.770000</td>\n",
              "      <td>0.260000</td>\n",
              "      <td>1.483000</td>\n",
              "      <td>-0.219000</td>\n",
              "      <td>28.159000</td>\n",
              "      <td>0.996140</td>\n",
              "      <td>299807.500000</td>\n",
              "    </tr>\n",
              "    <tr>\n",
              "      <th>50%</th>\n",
              "      <td>49.500000</td>\n",
              "      <td>2.00000</td>\n",
              "      <td>77.000000</td>\n",
              "      <td>112.940000</td>\n",
              "      <td>0.265000</td>\n",
              "      <td>1.508000</td>\n",
              "      <td>-0.144000</td>\n",
              "      <td>28.685000</td>\n",
              "      <td>0.996140</td>\n",
              "      <td>299850.000000</td>\n",
              "    </tr>\n",
              "    <tr>\n",
              "      <th>75%</th>\n",
              "      <td>74.250000</td>\n",
              "      <td>3.00000</td>\n",
              "      <td>83.250000</td>\n",
              "      <td>133.440000</td>\n",
              "      <td>0.265000</td>\n",
              "      <td>1.517000</td>\n",
              "      <td>-0.084000</td>\n",
              "      <td>33.328000</td>\n",
              "      <td>0.996270</td>\n",
              "      <td>299892.500000</td>\n",
              "    </tr>\n",
              "    <tr>\n",
              "      <th>max</th>\n",
              "      <td>99.000000</td>\n",
              "      <td>3.00000</td>\n",
              "      <td>90.000000</td>\n",
              "      <td>133.580000</td>\n",
              "      <td>135.145000</td>\n",
              "      <td>1.550000</td>\n",
              "      <td>0.084000</td>\n",
              "      <td>33.345000</td>\n",
              "      <td>0.996450</td>\n",
              "      <td>300070.000000</td>\n",
              "    </tr>\n",
              "  </tbody>\n",
              "</table>\n",
              "</div>"
            ],
            "text/plain": [
              "       Unnamed: 0  ...  velocity of light in air (km/s)\n",
              "count  100.000000  ...                       100.000000\n",
              "mean    49.500000  ...                    299852.400000\n",
              "std     29.011492  ...                        79.010548\n",
              "min      0.000000  ...                    299620.000000\n",
              "25%     24.750000  ...                    299807.500000\n",
              "50%     49.500000  ...                    299850.000000\n",
              "75%     74.250000  ...                    299892.500000\n",
              "max     99.000000  ...                    300070.000000\n",
              "\n",
              "[8 rows x 10 columns]"
            ]
          },
          "metadata": {
            "tags": []
          },
          "execution_count": 28
        }
      ]
    },
    {
      "cell_type": "code",
      "metadata": {
        "colab": {
          "base_uri": "https://localhost:8080/"
        },
        "id": "HgCMMUA6A-jf",
        "outputId": "bfe1593f-bb4e-4a2d-83dd-95f55617a679"
      },
      "source": [
        "print(mspl.columns )\r\n",
        "print(mspl.shape)"
      ],
      "execution_count": 29,
      "outputs": [
        {
          "output_type": "stream",
          "text": [
            "Index(['Unnamed: 0', 'date', 'distinctness of image', 'temperature (F)',\n",
            "       'position of deflected image', 'position of slit',\n",
            "       'displacement of image in divisions',\n",
            "       'difference between greatest and least', 'B', 'Cor',\n",
            "       'revolutions per second', 'radius (ft)', 'value of one turn of screw',\n",
            "       'velocity of light in air (km/s)', 'remarks'],\n",
            "      dtype='object')\n",
            "(100, 15)\n"
          ],
          "name": "stdout"
        }
      ]
    },
    {
      "cell_type": "code",
      "metadata": {
        "colab": {
          "base_uri": "https://localhost:8080/"
        },
        "id": "pyELPkOGCZw2",
        "outputId": "92b29e17-da4d-4139-f87c-2d620b130882"
      },
      "source": [
        "vel_air = mspl['velocity of light in air (km/s)']\r\n",
        "print(np.mean(vel_air))\r\n",
        "print(np.std(vel_air))"
      ],
      "execution_count": 30,
      "outputs": [
        {
          "output_type": "stream",
          "text": [
            "299852.4\n",
            "78.61450247886843\n"
          ],
          "name": "stdout"
        }
      ]
    },
    {
      "cell_type": "code",
      "metadata": {
        "colab": {
          "base_uri": "https://localhost:8080/"
        },
        "id": "8RFKto6nN-hA",
        "outputId": "09cb7dcb-35df-4b3a-fe45-143cb4560ab5"
      },
      "source": [
        "mspl.info()"
      ],
      "execution_count": 31,
      "outputs": [
        {
          "output_type": "stream",
          "text": [
            "<class 'pandas.core.frame.DataFrame'>\n",
            "RangeIndex: 100 entries, 0 to 99\n",
            "Data columns (total 15 columns):\n",
            " #   Column                                 Non-Null Count  Dtype  \n",
            "---  ------                                 --------------  -----  \n",
            " 0   Unnamed: 0                             100 non-null    int64  \n",
            " 1   date                                   100 non-null    object \n",
            " 2   distinctness of image                  100 non-null    int64  \n",
            " 3   temperature (F)                        100 non-null    int64  \n",
            " 4   position of deflected image            100 non-null    float64\n",
            " 5   position of slit                       100 non-null    float64\n",
            " 6   displacement of image in divisions     100 non-null    object \n",
            " 7   difference between greatest and least  100 non-null    object \n",
            " 8   B                                      100 non-null    float64\n",
            " 9   Cor                                    100 non-null    float64\n",
            " 10  revolutions per second                 100 non-null    object \n",
            " 11  radius (ft)                            100 non-null    float64\n",
            " 12  value of one turn of screw             100 non-null    float64\n",
            " 13  velocity of light in air (km/s)        100 non-null    int64  \n",
            " 14  remarks                                100 non-null    object \n",
            "dtypes: float64(6), int64(4), object(5)\n",
            "memory usage: 11.8+ KB\n"
          ],
          "name": "stdout"
        }
      ]
    },
    {
      "cell_type": "markdown",
      "metadata": {
        "id": "3eqmPVaiw0KZ"
      },
      "source": [
        "__Checking Normality of Michelson data__"
      ]
    },
    {
      "cell_type": "code",
      "metadata": {
        "colab": {
          "base_uri": "https://localhost:8080/",
          "height": 447
        },
        "id": "w5tYf5A8j076",
        "outputId": "81542b05-81b2-4dc5-b2a9-a19b1c3e697e"
      },
      "source": [
        "import numpy as np\n",
        "import pandas as pd\n",
        "import matplotlib.pyplot as plt\n",
        "import seaborn as sns\n",
        "\n",
        "def ecdf(data):\n",
        "    \"\"\"Compute ECDF for a one-dimensional array of measurements.\"\"\"\n",
        "\n",
        "    # Number of data points: n\n",
        "    n = len(data)\n",
        "\n",
        "    # x-data for the ECDF: x\n",
        "    x = np.sort(data)\n",
        "\n",
        "    # y-data for the ECDF: y\n",
        "    y = np.arange(1, n + 1) / n\n",
        "\n",
        "    return x, y\n",
        "\n",
        "vel_air_arr = np.array(vel_air)\n",
        "mean = np.mean(vel_air_arr)\n",
        "std = np.std(vel_air_arr)\n",
        "samples = np.random.normal(mean, std, size=10000)\n",
        "\n",
        "x, y = ecdf(vel_air_arr)\n",
        "x_theor, y_theor = ecdf(samples)\n",
        "\n",
        "# Set default Seaborn style\n",
        "sns.set()\n",
        "\n",
        "# figure size\n",
        "plt.figure(figsize=(12, 7), facecolor='lightgrey')\n",
        "\n",
        "# Checking Normality of Michelson data\n",
        "_ = plt.plot(x_theor, y_theor)\n",
        "_ = plt.plot(x, y, marker='.', linestyle='none')\n",
        "_ = plt.xlabel('speed of light (km/s)')\n",
        "_ = plt.ylabel('CDF')\n",
        "plt.show()"
      ],
      "execution_count": 32,
      "outputs": [
        {
          "output_type": "display_data",
          "data": {
            "image/png": "[encoded data removed]",
            "text/plain": [
              "<Figure size 864x504 with 1 Axes>"
            ]
          },
          "metadata": {
            "tags": []
          }
        }
      ]
    },
    {
      "cell_type": "markdown",
      "metadata": {
        "id": "3Jo8-JxED6WC"
      },
      "source": [
        "### __The Normal PDF__\r\n",
        "\r\n",
        "In this exercise, we will explore the Normal PDF and also learn a way to plot a PDF of a known distribution using hacker statistics. Specifically, a Normal PDF for various values of the variance.\r\n",
        "\r\n"
      ]
    },
    {
      "cell_type": "code",
      "metadata": {
        "colab": {
          "base_uri": "https://localhost:8080/",
          "height": 431
        },
        "id": "74yv0IYV-LIY",
        "outputId": "e91269d4-cec8-4a9d-c537-077dd6d0d1ff"
      },
      "source": [
        "import numpy as np\r\n",
        "import matplotlib.pyplot as plt\r\n",
        "import seaborn as sns\r\n",
        "\r\n",
        "# Seed random number generator\r\n",
        "np.random.seed(42)\r\n",
        "\r\n",
        "# Draw 100000 samples from Normal distribution with stds of interest: samples_std1, samples_std3,\r\n",
        "#   samples_std10\r\n",
        "samples_std1 = np.random.normal(20, 1, size=100000)\r\n",
        "samples_std3 = np.random.normal(20, 3, size=100000)\r\n",
        "samples_std10 = np.random.normal(20, 10, size=100000)\r\n",
        "\r\n",
        "# figure size\r\n",
        "plt.figure(figsize=(12, 7), facecolor='lightgrey')\r\n",
        "\r\n",
        "# Set default Seaborn style\r\n",
        "sns.set()\r\n",
        "\r\n",
        "# Make histograms\r\n",
        "_ = plt.hist(samples_std1, bins=100, density=True, histtype='step')\r\n",
        "_ = plt.hist(samples_std3, bins=100, density=True, histtype='step')\r\n",
        "_ = plt.hist(samples_std10, bins=100, density=True, histtype='step')\r\n",
        "\r\n",
        "# Make a legend, set limits and show plot\r\n",
        "_ = plt.legend(('std = 1', 'std = 3', 'std = 10'))\r\n",
        "plt.ylim(-0.01, 0.42)\r\n",
        "plt.show()\r\n"
      ],
      "execution_count": 33,
      "outputs": [
        {
          "output_type": "display_data",
          "data": {
            "image/png": "[encoded data removed]",
            "text/plain": [
              "<Figure size 864x504 with 1 Axes>"
            ]
          },
          "metadata": {
            "tags": []
          }
        }
      ]
    },
    {
      "cell_type": "markdown",
      "metadata": {
        "id": "4ZTSQgczFCi1"
      },
      "source": [
        "Different standard deviations result in PDFs of different widths. The peaks are all centered at the mean of 20."
      ]
    },
    {
      "cell_type": "markdown",
      "metadata": {
        "id": "ZA6DTYE9FI0W"
      },
      "source": [
        "### __The Normal CDF__\r\n",
        "\r\n",
        "Now that you have a feel for how the Normal PDF looks, let's consider its CDF. Using the samples you generated in the last exercise (in your namespace as `samples_std1`, `samples_std3`, and `samples_std10`), generate and plot the CDFs."
      ]
    },
    {
      "cell_type": "code",
      "metadata": {
        "colab": {
          "base_uri": "https://localhost:8080/",
          "height": 431
        },
        "id": "JmLU9s2mFETd",
        "outputId": "7fc6c5fc-00a8-40d8-ee3c-7036c52e8390"
      },
      "source": [
        "import numpy as np\r\n",
        "import matplotlib.pyplot as plt\r\n",
        "import seaborn as sns\r\n",
        "\r\n",
        "def ecdf(data):\r\n",
        "    \"\"\"Compute ECDF for a one-dimensional array of measurements.\"\"\"\r\n",
        "\r\n",
        "    # Number of data points: n\r\n",
        "    n = len(data)\r\n",
        "\r\n",
        "    # x-data for the ECDF: x\r\n",
        "    x = np.sort(data)\r\n",
        "\r\n",
        "    # y-data for the ECDF: y\r\n",
        "    y = np.arange(1, n+1) / n\r\n",
        "\r\n",
        "    return x, y\r\n",
        "\r\n",
        "# Seed random number generator\r\n",
        "np.random.seed(42)\r\n",
        "\r\n",
        "# Draw 100000 samples from Normal distribution with stds of interest: samples_std1, samples_std3,\r\n",
        "#   samples_std10\r\n",
        "samples_std1 = np.random.normal(20, 1, size=100000)\r\n",
        "samples_std3 = np.random.normal(20, 3, size=100000)\r\n",
        "samples_std10 = np.random.normal(20, 10, size=100000)\r\n",
        "\r\n",
        "# Generate CDFs\r\n",
        "x_std1, y_std1 = ecdf(samples_std1)\r\n",
        "x_std3, y_std3 = ecdf(samples_std3)\r\n",
        "x_std10, y_std10 = ecdf(samples_std10)\r\n",
        "\r\n",
        "# figure size\r\n",
        "plt.figure(figsize=(12, 7), facecolor='lightgrey')\r\n",
        "\r\n",
        "# Set default Seaborn style\r\n",
        "sns.set()\r\n",
        "\r\n",
        "# Plot CDFs\r\n",
        "_ = plt.plot(x_std1, y_std1, marker='.', linestyle='none')\r\n",
        "_ = plt.plot(x_std3, y_std3, marker='.', linestyle='none')\r\n",
        "_ = plt.plot(x_std10, y_std10, marker='.', linestyle='none')\r\n",
        "\r\n",
        "# Make 2% margin\r\n",
        "plt.margins(0.02)\r\n",
        "\r\n",
        "# Make a legend and show the plot\r\n",
        "_ = plt.legend(('std = 1', 'std = 3', 'std = 10'), loc='lower right')\r\n",
        "plt.show()"
      ],
      "execution_count": 34,
      "outputs": [
        {
          "output_type": "display_data",
          "data": {
            "image/png": "[encoded data removed]",
            "text/plain": [
              "<Figure size 864x504 with 1 Axes>"
            ]
          },
          "metadata": {
            "tags": []
          }
        }
      ]
    },
    {
      "cell_type": "markdown",
      "metadata": {
        "id": "1I74fTcSII3m"
      },
      "source": [
        "There is no need to label the axes because we have not defined what is being described by the Normal distribution; we are just looking at shapes of CDFs.\r\n",
        "\r\n",
        "- The CDFs all pass through the **mean** at the **50th percentile**; the **mean** and **median** of a **Normal distribution** are **equal**. \r\n",
        "\r\n",
        "- The width of the CDF varies with the standard deviation.\r\n",
        "\r\n"
      ]
    },
    {
      "cell_type": "markdown",
      "metadata": {
        "id": "wje7FSVMzyB0"
      },
      "source": [
        "### __Belmont Stakes Dataset__"
      ]
    },
    {
      "cell_type": "markdown",
      "metadata": {
        "id": "np6vgqJMH0rr"
      },
      "source": [
        "### __Are the Belmont Stakes results Normally distributed?__\r\n",
        "\r\n",
        "Since 1926, the **Belmont Stakes** is a `1.5` mile-long race of 3-year old thoroughbred horses.\r\n",
        "\r\n",
        "Secretariat ran the fastest Belmont Stakes in history in 1973. While that was the fastest year, 1970 was the slowest because of unusually wet and sloppy conditions.\r\n",
        "\r\n",
        "With these **two outliers removed** from the data set, compute the **mean** and **standard deviation** of the Belmont winners' times. Sample out of a Normal distribution with this mean and standard deviation using the `np.random.normal()` function and plot a CDF. Overlay the ECDF from the winning Belmont times. Are these close to Normally distributed?\r\n",
        "\r\n",
        "Note: Data is scraped from Belmont Stakes from the [Belmont Wikipedia page](https://en.wikipedia.org/wiki/Belmont_Stakes)."
      ]
    },
    {
      "cell_type": "markdown",
      "metadata": {
        "id": "CzyjRrm8PwkW"
      },
      "source": [
        "__Instructions__\r\n",
        "\r\n",
        "- Compute mean and standard deviation of Belmont winners' times with the two outliers removed. The NumPy array `belmont_no_outliers` has these data.\r\n",
        "\r\n",
        "- Take 10,000 samples out of a normal distribution with this mean and standard deviation using `np.random.normal()`.\r\n",
        "\r\n",
        "- Compute the CDF of the theoretical samples and the ECDF of the Belmont winners' data, assigning the results to `x_theor`, `y_theor` and `x` ,`y`, respectively.\r\n",
        "\r\n",
        "- Hit submit to plot the CDF of your samples with the ECDF, label your axes and show the plot."
      ]
    },
    {
      "cell_type": "code",
      "metadata": {
        "colab": {
          "base_uri": "https://localhost:8080/",
          "height": 220
        },
        "id": "-_ecomf-V9CW",
        "outputId": "e30e21dd-ee25-4ee6-bef1-0a0d84af860c"
      },
      "source": [
        "import numpy as np\r\n",
        "import matplotlib.pyplot as plt\r\n",
        "import seaborn as sns\r\n",
        "\r\n",
        "belmont= pd.read_csv('belmont.csv')\r\n",
        "belmont.set_index('Year',inplace=True)\r\n",
        "belmont.head()\r\n"
      ],
      "execution_count": 35,
      "outputs": [
        {
          "output_type": "execute_result",
          "data": {
            "text/html": [
              "<div>\n",
              "<style scoped>\n",
              "    .dataframe tbody tr th:only-of-type {\n",
              "        vertical-align: middle;\n",
              "    }\n",
              "\n",
              "    .dataframe tbody tr th {\n",
              "        vertical-align: top;\n",
              "    }\n",
              "\n",
              "    .dataframe thead th {\n",
              "        text-align: right;\n",
              "    }\n",
              "</style>\n",
              "<table border=\"1\" class=\"dataframe\">\n",
              "  <thead>\n",
              "    <tr style=\"text-align: right;\">\n",
              "      <th></th>\n",
              "      <th>Winner</th>\n",
              "      <th>Jockey</th>\n",
              "      <th>Trainer</th>\n",
              "      <th>Owner</th>\n",
              "      <th>Time</th>\n",
              "      <th>Track</th>\n",
              "      <th>miles</th>\n",
              "    </tr>\n",
              "    <tr>\n",
              "      <th>Year</th>\n",
              "      <th></th>\n",
              "      <th></th>\n",
              "      <th></th>\n",
              "      <th></th>\n",
              "      <th></th>\n",
              "      <th></th>\n",
              "      <th></th>\n",
              "    </tr>\n",
              "  </thead>\n",
              "  <tbody>\n",
              "    <tr>\n",
              "      <th>2016</th>\n",
              "      <td>Creator</td>\n",
              "      <td>Irad Ortiz, Jr</td>\n",
              "      <td>Steve Asmussen</td>\n",
              "      <td>WinStar Farm LLC</td>\n",
              "      <td>2:28.51</td>\n",
              "      <td>Belmont</td>\n",
              "      <td>1.5</td>\n",
              "    </tr>\n",
              "    <tr>\n",
              "      <th>2015</th>\n",
              "      <td>American Pharoah</td>\n",
              "      <td>Victor Espinoza</td>\n",
              "      <td>Bob Baffert</td>\n",
              "      <td>Zayat Stables, LLC</td>\n",
              "      <td>2:26.65</td>\n",
              "      <td>Belmont</td>\n",
              "      <td>1.5</td>\n",
              "    </tr>\n",
              "    <tr>\n",
              "      <th>2014</th>\n",
              "      <td>Tonalist</td>\n",
              "      <td>Joel Rosario</td>\n",
              "      <td>Christophe Clement</td>\n",
              "      <td>Robert S. Evans</td>\n",
              "      <td>2:28.52</td>\n",
              "      <td>Belmont</td>\n",
              "      <td>1.5</td>\n",
              "    </tr>\n",
              "    <tr>\n",
              "      <th>2013</th>\n",
              "      <td>Palace Malice</td>\n",
              "      <td>Mike Smith</td>\n",
              "      <td>Todd Pletcher</td>\n",
              "      <td>Dogwood Stable</td>\n",
              "      <td>2:30.70</td>\n",
              "      <td>Belmont</td>\n",
              "      <td>1.5</td>\n",
              "    </tr>\n",
              "    <tr>\n",
              "      <th>2012</th>\n",
              "      <td>Union Rags</td>\n",
              "      <td>John Velazquez</td>\n",
              "      <td>Michael Matz</td>\n",
              "      <td>Phyllis M. Wyeth</td>\n",
              "      <td>2:30.42</td>\n",
              "      <td>Belmont</td>\n",
              "      <td>1.5</td>\n",
              "    </tr>\n",
              "  </tbody>\n",
              "</table>\n",
              "</div>"
            ],
            "text/plain": [
              "                Winner           Jockey  ...    Track miles\n",
              "Year                                     ...               \n",
              "2016           Creator   Irad Ortiz, Jr  ...  Belmont   1.5\n",
              "2015  American Pharoah  Victor Espinoza  ...  Belmont   1.5\n",
              "2014          Tonalist     Joel Rosario  ...  Belmont   1.5\n",
              "2013     Palace Malice       Mike Smith  ...  Belmont   1.5\n",
              "2012        Union Rags   John Velazquez  ...  Belmont   1.5\n",
              "\n",
              "[5 rows x 7 columns]"
            ]
          },
          "metadata": {
            "tags": []
          },
          "execution_count": 35
        }
      ]
    },
    {
      "cell_type": "code",
      "metadata": {
        "colab": {
          "base_uri": "https://localhost:8080/"
        },
        "id": "GMylYDvTOiTF",
        "outputId": "ff807c3b-4b9e-420c-9ffb-6429c71c1681"
      },
      "source": [
        "belmont.dtypes"
      ],
      "execution_count": 36,
      "outputs": [
        {
          "output_type": "execute_result",
          "data": {
            "text/plain": [
              "Winner      object\n",
              "Jockey      object\n",
              "Trainer     object\n",
              "Owner       object\n",
              "Time        object\n",
              "Track       object\n",
              "miles      float64\n",
              "dtype: object"
            ]
          },
          "metadata": {
            "tags": []
          },
          "execution_count": 36
        }
      ]
    },
    {
      "cell_type": "code",
      "metadata": {
        "colab": {
          "base_uri": "https://localhost:8080/"
        },
        "id": "r3x0JbvKO-8O",
        "outputId": "56bfcf97-6c8e-4a70-f296-3615e7418cbb"
      },
      "source": [
        "belmont.info()"
      ],
      "execution_count": 37,
      "outputs": [
        {
          "output_type": "stream",
          "text": [
            "<class 'pandas.core.frame.DataFrame'>\n",
            "Int64Index: 91 entries, 2016 to 1926\n",
            "Data columns (total 7 columns):\n",
            " #   Column   Non-Null Count  Dtype  \n",
            "---  ------   --------------  -----  \n",
            " 0   Winner   91 non-null     object \n",
            " 1   Jockey   91 non-null     object \n",
            " 2   Trainer  91 non-null     object \n",
            " 3   Owner    91 non-null     object \n",
            " 4   Time     91 non-null     object \n",
            " 5   Track    91 non-null     object \n",
            " 6   miles    91 non-null     float64\n",
            "dtypes: float64(1), object(6)\n",
            "memory usage: 5.7+ KB\n"
          ],
          "name": "stdout"
        }
      ]
    },
    {
      "cell_type": "code",
      "metadata": {
        "colab": {
          "base_uri": "https://localhost:8080/"
        },
        "id": "G2yfv5bfXQEf",
        "outputId": "6c9a55ca-f49b-4192-f4de-f84f6d534d9c"
      },
      "source": [
        "import numpy as np\r\n",
        "from datetime import datetime\r\n",
        "\r\n",
        "time = pd.DatetimeIndex(belmont['Time'])\r\n",
        "# convertiing %h%m%s to minute \r\n",
        "belmont_time_m = time.hour * 60 + time.minute + time.second/60\r\n",
        "belmont_no_outliers = np.array(belmont_time_m)\r\n",
        "print(type(belmont_no_outliers))\r\n",
        "print(belmont_no_outliers)"
      ],
      "execution_count": 38,
      "outputs": [
        {
          "output_type": "stream",
          "text": [
            "<class 'numpy.ndarray'>\n",
            "[148.5        146.65       148.51666667 150.7        150.41666667\n",
            " 150.86666667 151.56666667 147.53333333 149.65       148.73333333\n",
            " 147.85       148.75       147.5        148.25       149.7\n",
            " 146.55       151.18333333 147.86666667 149.15       148.81666667\n",
            " 148.95       152.01666667 146.81666667 149.96666667 146.11666667\n",
            " 148.1        147.2        146.         146.4        148.2\n",
            " 149.8        147.         147.2        147.8        148.2\n",
            " 149.         149.8        148.6        146.8        149.6\n",
            " 149.         148.2        149.2        144.         148.\n",
            " 150.4        154.         148.8        147.2        148.8\n",
            " 149.6        148.4        148.4        150.2        148.8\n",
            " 149.2        149.2        148.4        150.2        146.6\n",
            " 149.8        149.         150.8        148.6        150.2\n",
            " 149.         148.6        150.2        148.2        149.4\n",
            " 150.8        150.2        152.2        148.2        149.2\n",
            " 151.         149.6        149.6        149.4        148.6\n",
            " 150.         150.6        149.2        152.6        152.8\n",
            " 149.6        151.6        152.8        153.2        152.4\n",
            " 152.2       ]\n"
          ],
          "name": "stdout"
        }
      ]
    },
    {
      "cell_type": "code",
      "metadata": {
        "colab": {
          "base_uri": "https://localhost:8080/",
          "height": 447
        },
        "id": "v3p4qLttIANZ",
        "outputId": "43fc31e1-8cdb-4b5a-c44d-02c22517e245"
      },
      "source": [
        "# defining ECDF\r\n",
        "def ecdf(data):\r\n",
        "    \"\"\"Compute ECDF for a one-dimensional array of measurements.\"\"\"\r\n",
        "\r\n",
        "    # Number of data points: n\r\n",
        "    n = len(data)\r\n",
        "\r\n",
        "    # x-data for the ECDF: x\r\n",
        "    x = np.sort(data)\r\n",
        "\r\n",
        "    # y-data for the ECDF: y\r\n",
        "    y = np.arange(1, n + 1) / n\r\n",
        "\r\n",
        "    return x, y\r\n",
        "\r\n",
        "\r\n",
        "# Seed random number generator\r\n",
        "np.random.seed(42)\r\n",
        "\r\n",
        "# Compute mean and standard deviation: mu, sigma\r\n",
        "mu = np.mean(belmont_no_outliers)\r\n",
        "sigma = np.std(belmont_no_outliers)\r\n",
        "\r\n",
        "# Sample out of a normal distribution with this mu and sigma: samples\r\n",
        "samples = np.random.normal(mu, sigma, 10000)\r\n",
        "\r\n",
        "# Get the CDF of the samples and of the data\r\n",
        "x_theor, y_theor = ecdf(samples)\r\n",
        "x, y = ecdf(belmont_no_outliers)\r\n",
        "\r\n",
        "# figure size\r\n",
        "plt.figure(figsize=(12, 7), facecolor='lightgrey')\r\n",
        "\r\n",
        "# Set default Seaborn style\r\n",
        "sns.set()\r\n",
        "\r\n",
        "# Plot the CDFs and show the plot\r\n",
        "_ = plt.plot(x_theor, y_theor)\r\n",
        "_ = plt.plot(x, y, marker='.', linestyle='none')\r\n",
        "plt.margins(0.02)\r\n",
        "_ = plt.xlabel('Belmont winning time (sec.)')\r\n",
        "_ = plt.ylabel('CDF')\r\n",
        "plt.show()"
      ],
      "execution_count": 39,
      "outputs": [
        {
          "output_type": "display_data",
          "data": {
            "image/png": "[encoded data removed]",
            "text/plain": [
              "<Figure size 864x504 with 1 Axes>"
            ]
          },
          "metadata": {
            "tags": []
          }
        }
      ]
    },
    {
      "cell_type": "markdown",
      "metadata": {
        "id": "23u7Ibz2GdVQ"
      },
      "source": [
        "The **theoretical CDF** and the **ECDF** of the data suggest that the winning Belmont times are, indeed, **Normally distributed**. This also suggests that in the last 100 years or so, there have not been major technological or training advances that have significantly affected the speed at which horses can run this race."
      ]
    },
    {
      "cell_type": "markdown",
      "metadata": {
        "id": "PzS9Gjf70ZER"
      },
      "source": [
        "### __What are the chances of a horse matching or beating Secretariat's record?__\r\n",
        "\r\n",
        "Assume that the Belmont winners' times are Normally distributed (with the 1970 and 1973 years removed), what is the probability that the winner of a given Belmont Stakes will run it as fast or faster than Secretariat?"
      ]
    },
    {
      "cell_type": "markdown",
      "metadata": {
        "id": "YGUrllsn0opZ"
      },
      "source": [
        "__Instructions__\r\n",
        "\r\n",
        "- Take 1,000,000 samples from the normal distribution using the `np.random.normal()` function. The mean mu and standard deviation sigma are already loaded into the namespace of your IPython instance.\r\n",
        "\r\n",
        "- Compute the fraction of samples that have a time less than or equal to Secretariat's time of 144 seconds.\r\n",
        "\r\n",
        "- Print the result."
      ]
    },
    {
      "cell_type": "code",
      "metadata": {
        "id": "X8FSfQvWPJhN"
      },
      "source": [
        "belmont.drop([1970, 1971, 1972, 1973], inplace= True)"
      ],
      "execution_count": 40,
      "outputs": []
    },
    {
      "cell_type": "code",
      "metadata": {
        "colab": {
          "base_uri": "https://localhost:8080/"
        },
        "id": "WObaOSVRSoJu",
        "outputId": "2218ca84-19ec-4457-c069-070fa77a8aa6"
      },
      "source": [
        "belmont.shape"
      ],
      "execution_count": 41,
      "outputs": [
        {
          "output_type": "execute_result",
          "data": {
            "text/plain": [
              "(87, 7)"
            ]
          },
          "metadata": {
            "tags": []
          },
          "execution_count": 41
        }
      ]
    },
    {
      "cell_type": "code",
      "metadata": {
        "id": "cnMZ_csDUQmj"
      },
      "source": [
        "import numpy as np\r\n",
        "from datetime import datetime\r\n",
        "\r\n",
        "time = pd.DatetimeIndex(belmont['Time'])\r\n",
        "# convertiing %h%m%s to minute \r\n",
        "belmont_time_m = time.hour * 60 + time.minute + time.second/60\r\n",
        "belmont_no_outliers = np.array(belmont_time_m)"
      ],
      "execution_count": 42,
      "outputs": []
    },
    {
      "cell_type": "code",
      "metadata": {
        "colab": {
          "base_uri": "https://localhost:8080/"
        },
        "id": "_65xpraD0YuE",
        "outputId": "1fc12dc7-1c16-4a69-a4a3-c8942e321ea6"
      },
      "source": [
        "# Compute mean and standard deviation: mu, sigma\r\n",
        "mu = np.mean(belmont_no_outliers)\r\n",
        "sigma = np.std(belmont_no_outliers)\r\n",
        "\r\n",
        "# Seed random number generator\r\n",
        "np.random.seed(42)\r\n",
        "\r\n",
        "# Take a million samples out of the Normal distribution: samples\r\n",
        "samples = np.random.normal(mu, sigma, 1000000)\r\n",
        "\r\n",
        "# Compute the fraction that are faster than 144 seconds: prob\r\n",
        "prob = len(samples[np.where(samples <= 144)]) / len(samples)\r\n",
        "\r\n",
        "# Print the result\r\n",
        "print('Probability of besting Secretariat:', prob)"
      ],
      "execution_count": 43,
      "outputs": [
        {
          "output_type": "stream",
          "text": [
            "Probability of besting Secretariat: 0.000636\n"
          ],
          "name": "stdout"
        }
      ]
    },
    {
      "cell_type": "markdown",
      "metadata": {
        "id": "9OAFj3nu1Fqi"
      },
      "source": [
        "We had to take a million samples because the probability of a fast time is very low and we had to be sure to sample enough. We get that there is only a `0.06%` chance of a horse running the Belmont as fast as Secretariat."
      ]
    },
    {
      "cell_type": "markdown",
      "metadata": {
        "id": "-tC8trlzf_jS"
      },
      "source": [
        "## __The Exponential distribution__"
      ]
    },
    {
      "cell_type": "markdown",
      "metadata": {
        "id": "_7hBvycJkSKg"
      },
      "source": [
        "**Trip -- bus stop:** We know that the number of buses that will arrive per hour are **Poisson distributed**. But the **amount of time** between arrivals of buses is **Exponentially distributed**.\r\n",
        "\r\n",
        ">***the waiting time between arrivals of a Poisson process are exponentially distributed.*** It has a single parameter, the mean waiting time. This distribution is not peaked.\r\n",
        "\r\n",
        "__Possible Poisson process__\r\n",
        "\r\n",
        "As an example, we can look at the time between all incidents involving **nuclear power** since 1974. We might expect incidents to be **well-modeled by a Poisson process**, ie, the **timing of one incident** is **independent** of all others.\r\n",
        "\r\n",
        "__Exponential inter-incident times__\r\n",
        "\r\n",
        "```python\r\n",
        "mean = np.mean(inter_times)\r\n",
        "samples = np.random.exponential(mean, size=10000)\r\n",
        "x, y = ecdf(inter_times)\r\n",
        "x_theor, y_theor = ecdf(samples)\r\n",
        "_ = plt.plot(x_theor, y_theor)\r\n",
        "_ = plt.plot(x, y, marker='.', linestyle='none')\r\n",
        "_ = plt.xlabel('time (days)')\r\n",
        "_ = plt.ylabel('CDF')\r\n",
        "plt.show()\r\n",
        "```\r\n",
        "\r\n"
      ]
    },
    {
      "cell_type": "markdown",
      "metadata": {
        "id": "CjGXqpWOrR6E"
      },
      "source": [
        "__Matching a story and a distribution__\r\n",
        "\r\n",
        "How might we expect the time between Major League no-hitters to be distributed? Be careful here: a few exercises ago, we considered the probability distribution for the number of no-hitters in a season. Now, we are looking at the probability distribution of the time between no hitters.\r\n",
        "\r\n",
        "$\\color{red}{\\textbf{Answer:}}$ Exponential\r\n",
        "\r\n",
        "---\r\n",
        "\r\n",
        "__Waiting for the next Secretariat__\r\n",
        "\r\n",
        "Unfortunately, Justin was not alive when Secretariat ran the Belmont in 1973. Do you think he will get to see a performance like that? To answer this, you are interested in how many years you would expect to wait until you see another performance like Secretariat's. How is the waiting time until the next performance as good or better than Secretariat's distributed? \r\n",
        "\r\n",
        "$\\color{red}{\\textbf{Answer}}$ Exponential: A horse as fast as Secretariat is a rare event, which can be modeled as a Poisson process, and the waiting time between arrivals of a Poisson process is Exponentially distributed.\r\n",
        "\r\n",
        "__The Exponential distribution describes the waiting times between rare events, and Secretariat is rare!__\r\n",
        "\r\n"
      ]
    },
    {
      "cell_type": "markdown",
      "metadata": {
        "id": "E8balxemufh-"
      },
      "source": [
        "### __If you have a story, you can simulate it!__\r\n",
        "\r\n",
        "Sometimes, the story describing our probability distribution does not have a named distribution to go along with it. In these cases, fear not! You can always simulate it. We'll do that in this and the next exercise.\r\n",
        "\r\n",
        "In earlier exercises, we looked at the rare event of no-hitters in Major League Baseball. *Hitting the cycle* is another rare baseball event. When a batter hits the cycle, he gets all four kinds of hits, a single, double, triple, and home run, in a single game. Like no-hitters, this can be modeled as a Poisson process, so the time between hits of the cycle are also Exponentially distributed.\r\n",
        "\r\n",
        "How long must we wait to see both a no-hitter and then a batter hit the cycle? The idea is that we have to wait some time for the no-hitter, and then after the no-hitter, we have to wait for hitting the cycle. Stated another way, what is the total waiting time for the arrival of two different Poisson processes? The total waiting time is the time waited for the no-hitter, plus the time waited for the hitting the cycle.\r\n",
        "\r\n",
        "Now, you will write a function to sample out of the distribution described by this story."
      ]
    },
    {
      "cell_type": "markdown",
      "metadata": {
        "id": "Z1M257hvuq2H"
      },
      "source": [
        "__Instructions__\r\n",
        "\r\n",
        "- Define a function with call signature `successive_poisson(tau1, tau2, size=1)` that samples the waiting time for a no-hitter and a hit of the cycle.\r\n",
        "\r\n",
        "    - Draw waiting times `tau1` (`size` number of samples) for the no-hitter out of an exponential distribution and assign to `t1`.\r\n",
        "\r\n",
        "    - Draw waiting times `tau2` (`size` number of samples) for hitting the cycle out of an exponential distribution and assign to `t2`.\r\n",
        "\r\n",
        "    - The function returns the sum of the waiting times for the two events.\r\n"
      ]
    },
    {
      "cell_type": "code",
      "metadata": {
        "id": "wvBDDWSGl-iS"
      },
      "source": [
        "import numpy as np\r\n",
        "\r\n",
        "def successive_poisson(tau1, tau2, size=1):\r\n",
        "    \"\"\"Compute time for arrival of 2 successive Poisson processes.\"\"\"\r\n",
        "    # Draw samples out of first exponential distribution: t1\r\n",
        "    t1 = np.random.exponential(tau1, size)\r\n",
        "\r\n",
        "    # Draw samples out of second exponential distribution: t2\r\n",
        "    t2 = np.random.exponential(tau2, size)\r\n",
        "\r\n",
        "    return t1 + t2\r\n"
      ],
      "execution_count": 44,
      "outputs": []
    },
    {
      "cell_type": "markdown",
      "metadata": {
        "id": "pn1G6EMTvVzd"
      },
      "source": [
        "### __Distribution of no-hitters and cycles__\r\n",
        "\r\n",
        "Now, you'll use your sampling function to compute the waiting time to observe a no-hitter and hitting of the cycle. The mean waiting time for a no-hitter is 764 games, and the mean waiting time for hitting the cycle is 715 games."
      ]
    },
    {
      "cell_type": "markdown",
      "metadata": {
        "id": "U3ouSrJJvcX-"
      },
      "source": [
        "- Use your `successive_poisson()` function to draw 100,000 out of the distribution of waiting times for observing a no-hitter and a hitting of the cycle.\r\n",
        "\r\n",
        "- Plot the PDF of the waiting times using the step histogram technique of a previous exercise. Don't forget the necessary keyword arguments. You should use `bins=100`, `normed=True`, and `histtype='step'`.\r\n",
        "\r\n",
        "- Label the axes.\r\n",
        "- Show your plot."
      ]
    },
    {
      "cell_type": "code",
      "metadata": {
        "colab": {
          "base_uri": "https://localhost:8080/",
          "height": 447
        },
        "id": "K9G-ptJgvssP",
        "outputId": "ca6cf10e-9d3e-45cb-f039-8ca80d347860"
      },
      "source": [
        "import numpy as np\r\n",
        "import matplotlib.pyplot as plt\r\n",
        "\r\n",
        "def successive_poisson(tau1, tau2, size=1):\r\n",
        "    # Draw samples out of first exponential distribution: t1\r\n",
        "    t1 = np.random.exponential(tau1, size)\r\n",
        "\r\n",
        "    # Draw samples out of second exponential distribution: t2\r\n",
        "    t2 = np.random.exponential(tau2, size)\r\n",
        "\r\n",
        "    return t1 + t2\r\n",
        "\r\n",
        "# Draw samples of waiting times: waiting_times\r\n",
        "waiting_times = np.array(successive_poisson(764, 715, 100000))\r\n",
        "\r\n",
        "# figure size\r\n",
        "plt.figure(figsize=(12, 7), facecolor='lightgrey')\r\n",
        "\r\n",
        "# Set default Seaborn style\r\n",
        "sns.set()\r\n",
        "\r\n",
        "# Make the histogram\r\n",
        "_ = plt.hist(waiting_times, bins=100, density=True, histtype='step')\r\n",
        "\r\n",
        "# Label axes\r\n",
        "_ = plt.xlabel('x')\r\n",
        "_ = plt.ylabel('y')\r\n",
        "\r\n",
        "# Show the plot\r\n",
        "plt.show()"
      ],
      "execution_count": 45,
      "outputs": [
        {
          "output_type": "display_data",
          "data": {
            "image/png": "[encoded data removed]",
            "text/plain": [
              "<Figure size 864x504 with 1 Axes>"
            ]
          },
          "metadata": {
            "tags": []
          }
        }
      ]
    },
    {
      "cell_type": "markdown",
      "metadata": {
        "id": "JjyY-PAWwDRh"
      },
      "source": [
        "Notice that the **PDF** is peaked, unlike the waiting time for a single Poisson process. For fun (and enlightenment), I encourage you to also plot the CDF\r\n",
        "\r\n",
        "\r\n"
      ]
    },
    {
      "cell_type": "markdown",
      "metadata": {
        "id": "XmZNd-IKwvzP"
      },
      "source": [
        "<p align='center'> \r\n",
        "    <a href=\"https://twitter.com/F4izy\"> \r\n",
        "        <img src=\"https://th.bing.com/th/id/OIP.FCKMemzqNplY37Jwi0Yk3AHaGl?w=233&h=207&c=7&o=5&pid=1.7\" width=50px \r\n",
        "            height=50px> \r\n",
        "    </a> \r\n",
        "    <a href=\"https://www.linkedin.com/in/mohd-faizy/\"> \r\n",
        "        <img src='https://th.bing.com/th/id/OIP.idrBN-LfvMIZl370Vb65SgHaHa?pid=Api&rs=1' width=50px height=50px> \r\n",
        "    </a> \r\n",
        "</p>"
      ]
    }
  ]
}