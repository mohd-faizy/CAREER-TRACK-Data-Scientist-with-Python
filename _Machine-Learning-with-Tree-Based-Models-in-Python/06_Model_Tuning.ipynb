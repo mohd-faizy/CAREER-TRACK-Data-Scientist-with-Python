{
  "nbformat": 4,
  "nbformat_minor": 0,
  "metadata": {
    "colab": {
      "name": "06_Model-Tuning.ipynb",
      "provenance": [],
      "toc_visible": true,
      "authorship_tag": "ABX9TyOwNL8nJAozeq462NP24C5o",
      "include_colab_link": true
    },
    "kernelspec": {
      "name": "python3",
      "display_name": "Python 3"
    }
  },
  "cells": [
    {
      "cell_type": "markdown",
      "metadata": {
        "id": "view-in-github",
        "colab_type": "text"
      },
      "source": [
        "<a href=\"https://colab.research.google.com/github/mohd-faizy/CAREER-TRACK-Data-Scientist-with-Python/blob/main/06_Model_Tuning.ipynb\" target=\"_parent\"><img src=\"https://colab.research.google.com/assets/colab-badge.svg\" alt=\"Open In Colab\"/></a>"
      ]
    },
    {
      "cell_type": "markdown",
      "metadata": {
        "id": "BSuEABPa0--s"
      },
      "source": [
        "--- \r\n",
        "<strong> \r\n",
        "    <h1 align='center'></h1> \r\n",
        "</strong>\r\n",
        "\r\n",
        "---\r\n"
      ]
    },
    {
      "cell_type": "markdown",
      "metadata": {
        "id": "OYnxSG45gu95"
      },
      "source": [
        "--- \r\n",
        "<strong> \r\n",
        "    <h1 align='center'>Model Tuning</h1> \r\n",
        "</strong>\r\n",
        "\r\n",
        "---\r\n"
      ]
    },
    {
      "cell_type": "markdown",
      "metadata": {
        "id": "j_uRyTc079aM"
      },
      "source": [
        "<p align='center'>\r\n",
        "    <a href='#'><img src='https://github.com/mohd-faizy/CAREER-TRACK-Data-Scientist-with-Python/blob/main/28_Machine-Learning-with-Tree-Based-Models-in-Python/_img/hyperparameter.png?raw=true'>\r\n",
        "    </a>\r\n",
        "</p>"
      ]
    },
    {
      "cell_type": "code",
      "metadata": {
        "colab": {
          "base_uri": "https://localhost:8080/"
        },
        "id": "AGv5iB1qgu96",
        "outputId": "6a67f98b-9daf-4623-9a02-303a6d30bf29"
      },
      "source": [
        "! git clone https://github.com/mohd-faizy/CAREER-TRACK-Data-Scientist-with-Python.git"
      ],
      "execution_count": 1,
      "outputs": [
        {
          "output_type": "stream",
          "text": [
            "Cloning into 'CAREER-TRACK-Data-Scientist-with-Python'...\n",
            "remote: Enumerating objects: 340, done.\u001b[K\n",
            "remote: Counting objects: 100% (340/340), done.\u001b[K\n",
            "remote: Compressing objects: 100% (308/308), done.\u001b[K\n",
            "remote: Total 2526 (delta 118), reused 211 (delta 31), pack-reused 2186\n",
            "Receiving objects: 100% (2526/2526), 304.54 MiB | 29.62 MiB/s, done.\n",
            "Resolving deltas: 100% (896/896), done.\n",
            "Checking out files: 100% (1058/1058), done.\n"
          ],
          "name": "stdout"
        }
      ]
    },
    {
      "cell_type": "code",
      "metadata": {
        "id": "vRNzVQFNgu97"
      },
      "source": [
        "import pandas as pd\r\n",
        "import numpy as np\r\n",
        "import matplotlib.pyplot as plt\r\n",
        "import seaborn as sns\r\n",
        "import os\r\n",
        "\r\n",
        "plt.style.use('ggplot')\r\n",
        "#sns.set_theme(style='whitegrid')\r\n",
        "%matplotlib inline"
      ],
      "execution_count": 2,
      "outputs": []
    },
    {
      "cell_type": "code",
      "metadata": {
        "colab": {
          "base_uri": "https://localhost:8080/"
        },
        "id": "X6J3AHwlgu97",
        "outputId": "f5cb92f2-1746-447b-eac3-ffaa47e89ad7"
      },
      "source": [
        "os.chdir('/content/CAREER-TRACK-Data-Scientist-with-Python/28_Machine-Learning-with-Tree-Based-Models-in-Python/_dataset')\r\n",
        "cwd = os.getcwd()\r\n",
        "print('Curent working directory is ', cwd)"
      ],
      "execution_count": 3,
      "outputs": [
        {
          "output_type": "stream",
          "text": [
            "Curent working directory is  /content/CAREER-TRACK-Data-Scientist-with-Python/28_Machine-Learning-with-Tree-Based-Models-in-Python/_dataset\n"
          ],
          "name": "stdout"
        }
      ]
    },
    {
      "cell_type": "code",
      "metadata": {
        "colab": {
          "base_uri": "https://localhost:8080/"
        },
        "id": "8r9JwHNzgu98",
        "outputId": "d9ba4433-b1ef-43e4-a50a-4ea8b4afb07f"
      },
      "source": [
        "ls"
      ],
      "execution_count": 4,
      "outputs": [
        {
          "output_type": "stream",
          "text": [
            "auto.csv   indian_liver_patient.csv               wbc.csv\n",
            "bikes.csv  indian_liver_patient_preprocessed.csv\n"
          ],
          "name": "stdout"
        }
      ]
    },
    {
      "cell_type": "markdown",
      "metadata": {
        "id": "nveT2udHgNDG"
      },
      "source": [
        "# **Tuning a CART's Hyperparameters**\n",
        "\n",
        "- ***Hyperparameters***\n",
        "    - Machine learning model:\n",
        "        - **parameters**: learned from data\n",
        "            - **CART** example: ***split-point*** of a node, ***split-feature*** of a node, ...\n",
        "        - **hyperparameters**: not learned from data, set prior to training\n",
        "            - **CART** example: `max_depth`, `min_samples_leaf`, ***splitting criterion***, ...\n",
        "\n",
        "$\\Rightarrow$ **What is hyperparameter tuning?**\n",
        "- __Problem__: Search for a set of optimal hyperparameters for a learning algorithm.\n",
        "- __Solution__: find a set of optimal hyperparameters that results in an optimal model.\n",
        "- __Optimal model__: yields an optimal score\n",
        "- __Score__ : defaults to accuracy (__classification__) and $R^2$ (__regression__)\n",
        "- __Cross-validation__ is used to estimate the generalization performance.\n",
        "\n",
        "\n",
        "$\\Rightarrow$ **Approaches to hyperparameter tuning**\n",
        "- ___Grid Search___\n",
        "\n",
        "    Grid search is a __tuning technique__ that attempts to compute the optimum values of hyperparameters. It is an __exhaustive search__ that is performed on a the specific parameter values of a model. The model is also known as an __estimator__. Grid search exercise can save us time, effort and resources.\n",
        "\n",
        "    `GridSearchCV` is a library function that is a member of sklearn's model_selection package. It helps to loop through predefined hyperparameters and fit your estimator (model) on your training set. So, in the end, you can select the best parameters from the listed hyperparameters.\n",
        "\n",
        "<p align='center'>\n",
        "    <a href='#'><img src='https://i2.wp.com/neptune.ai/wp-content/uploads/grid_random.png?resize=569%2C301&ssl=1'>\n",
        "    </a>\n",
        "</p>\n",
        "\n",
        "- ___Random Search___\n",
        "\n",
        "    Random search (RS) is a family of numerical optimization methods that do not require the gradient of the problem to be optimized, and RS can hence be used on functions that are not continuous or differentiable. Such optimization methods are also known as direct-search, derivative-free, or black-box methods.\n",
        "\n",
        "    Random search is a technique where random combinations of the hyperparameters are used to find the best solution for the built model. It is similar to grid search, and yet it has proven to yield better results comparatively. The drawback of random search is that it yields high variance during computing.\n",
        "\n",
        "    In Grid Search, the data scientist sets up a grid of hyperparameter values and for __each combination__, trains a model and scores on the testing data. By contrast, Random Search sets up a grid of hyperparameter values and __selects random combinations__ to train the model and score\n",
        "\n",
        "- ___Bayesian Optimization___\n",
        "\n",
        "    Bayesian optimization is a sequential design strategy for global optimization of black-box functions that does not assume any functional forms. It is usually employed to optimize expensive-to-evaluate functions\n",
        "\n",
        "    Bayesian Optimization is an approach that uses Bayes Theorem to direct the search in order to find the minimum or maximum of an objective function. It is an approach that is most useful for objective functions that are complex, noisy, and/or expensive to evaluate.\n",
        "\n",
        "    By evaluating hyperparameters that appear more promising from past results, Bayesian methods can find better model settings than random search in fewer iterations. Bayesian hyperparameter optimization takes that framework and applies it to finding the best value of model settings!\n",
        "\n",
        "- ___Genetic Algorithm___\n",
        "\n",
        "    Genetic Algorithm (GA) is a search-based optimization technique based on the principles of Genetics and Natural Selection. It is frequently used to find optimal or near-optimal solutions to difficult problems which otherwise would take a lifetime to solve.\n",
        "\n",
        "    Genetic algorithms are __stochastic search algorithms__ which act on a population of possible solutions.\n",
        "\n",
        "\n",
        "$\\Rightarrow$ **Grid search cross validation**\n",
        "- Manually set a grid of discrete hyperparameter values.\n",
        "- Set a metric for scoring model performance.\n",
        "- Search exhaustively through the grid.\n",
        "- For each set of hyperparameters, evaluate each model's CV score\n",
        "- The optimal hyperparameters are those of the model achieving the best CV score."
      ]
    },
    {
      "cell_type": "markdown",
      "metadata": {
        "id": "aCkwgNjbgNDH"
      },
      "source": [
        "### Tree hyperparameters\n",
        "We'll revisit the [Indian Liver Patient](https://www.kaggle.com/uciml/indian-liver-patient-records) dataset.\n",
        "\n",
        "Our task is to tune the __hyperparameters__ of a classification tree. Given that this dataset is imbalanced, we'll be using the __ROC-AUC__ score as a metric instead of accuracy."
      ]
    },
    {
      "cell_type": "markdown",
      "metadata": {
        "id": "BBOmy449gNDI"
      },
      "source": [
        "- Preprocess"
      ]
    },
    {
      "cell_type": "code",
      "metadata": {
        "id": "Sj1i8Y1fgNDI",
        "colab": {
          "base_uri": "https://localhost:8080/",
          "height": 130
        },
        "outputId": "8f420044-bd70-4e70-e50b-c62ff0f663a8"
      },
      "source": [
        "df_liver = pd.read_csv('indian_liver_patient_preprocessed.csv', index_col=0)\n",
        "df_liver.head(2)"
      ],
      "execution_count": 5,
      "outputs": [
        {
          "output_type": "execute_result",
          "data": {
            "text/html": [
              "<div>\n",
              "<style scoped>\n",
              "    .dataframe tbody tr th:only-of-type {\n",
              "        vertical-align: middle;\n",
              "    }\n",
              "\n",
              "    .dataframe tbody tr th {\n",
              "        vertical-align: top;\n",
              "    }\n",
              "\n",
              "    .dataframe thead th {\n",
              "        text-align: right;\n",
              "    }\n",
              "</style>\n",
              "<table border=\"1\" class=\"dataframe\">\n",
              "  <thead>\n",
              "    <tr style=\"text-align: right;\">\n",
              "      <th></th>\n",
              "      <th>Age_std</th>\n",
              "      <th>Total_Bilirubin_std</th>\n",
              "      <th>Direct_Bilirubin_std</th>\n",
              "      <th>Alkaline_Phosphotase_std</th>\n",
              "      <th>Alamine_Aminotransferase_std</th>\n",
              "      <th>Aspartate_Aminotransferase_std</th>\n",
              "      <th>Total_Protiens_std</th>\n",
              "      <th>Albumin_std</th>\n",
              "      <th>Albumin_and_Globulin_Ratio_std</th>\n",
              "      <th>Is_male_std</th>\n",
              "      <th>Liver_disease</th>\n",
              "    </tr>\n",
              "  </thead>\n",
              "  <tbody>\n",
              "    <tr>\n",
              "      <th>0</th>\n",
              "      <td>1.247403</td>\n",
              "      <td>-0.420320</td>\n",
              "      <td>-0.495414</td>\n",
              "      <td>-0.428870</td>\n",
              "      <td>-0.355832</td>\n",
              "      <td>-0.319111</td>\n",
              "      <td>0.293722</td>\n",
              "      <td>0.203446</td>\n",
              "      <td>-0.147390</td>\n",
              "      <td>0</td>\n",
              "      <td>1</td>\n",
              "    </tr>\n",
              "    <tr>\n",
              "      <th>1</th>\n",
              "      <td>1.062306</td>\n",
              "      <td>1.218936</td>\n",
              "      <td>1.423518</td>\n",
              "      <td>1.675083</td>\n",
              "      <td>-0.093573</td>\n",
              "      <td>-0.035962</td>\n",
              "      <td>0.939655</td>\n",
              "      <td>0.077462</td>\n",
              "      <td>-0.648461</td>\n",
              "      <td>1</td>\n",
              "      <td>1</td>\n",
              "    </tr>\n",
              "  </tbody>\n",
              "</table>\n",
              "</div>"
            ],
            "text/plain": [
              "    Age_std  Total_Bilirubin_std  ...  Is_male_std  Liver_disease\n",
              "0  1.247403            -0.420320  ...            0              1\n",
              "1  1.062306             1.218936  ...            1              1\n",
              "\n",
              "[2 rows x 11 columns]"
            ]
          },
          "metadata": {
            "tags": []
          },
          "execution_count": 5
        }
      ]
    },
    {
      "cell_type": "code",
      "metadata": {
        "id": "EQJMwVsEgNDK"
      },
      "source": [
        "X = df_liver.drop('Liver_disease', axis='columns')\n",
        "y = df_liver['Liver_disease']"
      ],
      "execution_count": 6,
      "outputs": []
    },
    {
      "cell_type": "code",
      "metadata": {
        "id": "Di38jPPRgNDL"
      },
      "source": [
        "from sklearn.model_selection import train_test_split\n",
        "\n",
        "X_train, X_test, y_train, y_test = train_test_split(X, y, test_size=0.2, random_state=2)"
      ],
      "execution_count": 7,
      "outputs": []
    },
    {
      "cell_type": "code",
      "metadata": {
        "id": "5Mn8ico9gNDL",
        "colab": {
          "base_uri": "https://localhost:8080/"
        },
        "outputId": "13f034fe-5d8b-494f-9084-6c54d01a4527"
      },
      "source": [
        "from sklearn.tree import DecisionTreeClassifier\n",
        "\n",
        "# Instantiate dt\n",
        "dt = DecisionTreeClassifier()\n",
        "\n",
        "# Check default hyperparameter\n",
        "dt.get_params()"
      ],
      "execution_count": 8,
      "outputs": [
        {
          "output_type": "execute_result",
          "data": {
            "text/plain": [
              "{'ccp_alpha': 0.0,\n",
              " 'class_weight': None,\n",
              " 'criterion': 'gini',\n",
              " 'max_depth': None,\n",
              " 'max_features': None,\n",
              " 'max_leaf_nodes': None,\n",
              " 'min_impurity_decrease': 0.0,\n",
              " 'min_impurity_split': None,\n",
              " 'min_samples_leaf': 1,\n",
              " 'min_samples_split': 2,\n",
              " 'min_weight_fraction_leaf': 0.0,\n",
              " 'presort': 'deprecated',\n",
              " 'random_state': None,\n",
              " 'splitter': 'best'}"
            ]
          },
          "metadata": {
            "tags": []
          },
          "execution_count": 8
        }
      ]
    },
    {
      "cell_type": "markdown",
      "metadata": {
        "id": "gb5LBnIKgNDM"
      },
      "source": [
        "### Set the tree's hyperparameter grid\n",
        "In this exercise, you'll manually set the grid of hyperparameters that will be used to tune the classification tree ```dt``` and find the optimal classifier in the next exercise.\n",
        "\n"
      ]
    },
    {
      "cell_type": "code",
      "metadata": {
        "id": "q-F4cXiNgNDM"
      },
      "source": [
        "# Define params_dt\n",
        "params_dt = {\n",
        "    'max_depth': [2, 3, 4],\n",
        "    'min_samples_leaf': [0.12, 0.14, 0.16, 0.18],\n",
        "}"
      ],
      "execution_count": 9,
      "outputs": []
    },
    {
      "cell_type": "markdown",
      "metadata": {
        "id": "gyy85DD2gNDN"
      },
      "source": [
        "### Search for the optimal tree\n",
        "In this exercise, you'll perform grid search using 5-fold cross validation to find ```dt```'s optimal hyperparameters. Note that because grid search is an exhaustive process, it may take a lot time to train the model. Here you'll only be instantiating the ```GridSearchCV``` object without fitting it to the training set. As discussed in the video, you can train such an object similar to any scikit-learn estimator by using the ```.fit()``` method:\n",
        "```python\n",
        "grid_object.fit(X_train, y_train)\n",
        "```\n"
      ]
    },
    {
      "cell_type": "code",
      "metadata": {
        "id": "BLJ5XjccgNDN",
        "colab": {
          "base_uri": "https://localhost:8080/"
        },
        "outputId": "4846c0a0-a5a5-4cc1-b0c6-2a8a89c90c8d"
      },
      "source": [
        "from sklearn.model_selection import GridSearchCV\n",
        "\n",
        "# Instantiate grid_dt\n",
        "grid_dt = GridSearchCV(estimator=dt, param_grid=params_dt, scoring='roc_auc', cv=5, n_jobs=-1)\n",
        "\n",
        "grid_dt.fit(X_train, y_train)"
      ],
      "execution_count": 10,
      "outputs": [
        {
          "output_type": "execute_result",
          "data": {
            "text/plain": [
              "GridSearchCV(cv=5, error_score=nan,\n",
              "             estimator=DecisionTreeClassifier(ccp_alpha=0.0, class_weight=None,\n",
              "                                              criterion='gini', max_depth=None,\n",
              "                                              max_features=None,\n",
              "                                              max_leaf_nodes=None,\n",
              "                                              min_impurity_decrease=0.0,\n",
              "                                              min_impurity_split=None,\n",
              "                                              min_samples_leaf=1,\n",
              "                                              min_samples_split=2,\n",
              "                                              min_weight_fraction_leaf=0.0,\n",
              "                                              presort='deprecated',\n",
              "                                              random_state=None,\n",
              "                                              splitter='best'),\n",
              "             iid='deprecated', n_jobs=-1,\n",
              "             param_grid={'max_depth': [2, 3, 4],\n",
              "                         'min_samples_leaf': [0.12, 0.14, 0.16, 0.18]},\n",
              "             pre_dispatch='2*n_jobs', refit=True, return_train_score=False,\n",
              "             scoring='roc_auc', verbose=0)"
            ]
          },
          "metadata": {
            "tags": []
          },
          "execution_count": 10
        }
      ]
    },
    {
      "cell_type": "markdown",
      "metadata": {
        "id": "Dcmq8kBtgNDO"
      },
      "source": [
        "### Evaluate the optimal tree\n",
        "In this exercise, you'll evaluate the test set ROC AUC score of grid_dt's optimal model.\n",
        "\n",
        "In order to do so, you will first determine the probability of obtaining the positive label for each test set observation. You can use the method ```predict_proba()``` of an sklearn classifier to compute a 2D array containing the probabilities of the negative and positive class-labels respectively along columns."
      ]
    },
    {
      "cell_type": "code",
      "metadata": {
        "id": "lxKCHWtugNDO",
        "colab": {
          "base_uri": "https://localhost:8080/"
        },
        "outputId": "932600ea-5390-44cf-d7d0-5283c5f1779b"
      },
      "source": [
        "from sklearn.metrics import roc_auc_score\n",
        "\n",
        "# Extract the best estimator\n",
        "best_model = grid_dt.best_estimator_\n",
        "\n",
        "# Predict the test set probabilities of the positive class\n",
        "y_pred_proba = best_model.predict_proba(X_test)[:, 1]\n",
        "\n",
        "# Compute test_roc_auc\n",
        "test_roc_auc = roc_auc_score(y_test, y_pred_proba)\n",
        "\n",
        "# Print test_roc_auc\n",
        "print(\"Test set ROC AUC score: {:.3f}\".format(test_roc_auc))"
      ],
      "execution_count": 11,
      "outputs": [
        {
          "output_type": "stream",
          "text": [
            "Test set ROC AUC score: 0.681\n"
          ],
          "name": "stdout"
        }
      ]
    },
    {
      "cell_type": "markdown",
      "metadata": {
        "id": "6EtrtR9xgNDP"
      },
      "source": [
        "# **Tuning a Tuning Random's Hyperparameters**\n",
        "\n",
        "- ***Random Forest Hyperparameters***\n",
        "    - CART hyperparameters\n",
        "    - number of estimators\n",
        "    - Whether it uses bootstrapping or not\n",
        "- ***Tuning is expensive***\n",
        "    - Hyperparameter tuning:\n",
        "        - Computationally expensive,\n",
        "        - sometimes leads to very slight improvement\n",
        "    - Weight the impact of tuning on the whole project"
      ]
    },
    {
      "cell_type": "markdown",
      "metadata": {
        "id": "QKYGfYIPnitI"
      },
      "source": [
        "We have instantiated a `RandomForestRegressor` called `rf` using `sklearn`'s default hyperparameters. we can inspect the hyperparameters of `rf` in your console.\r\n",
        "\r\n",
        "***Which of the following is not a hyperparameter of rf?***\r\n",
        "\r\n",
        "- min_weight_fraction_leaf\r\n",
        "\r\n",
        "- criterion\r\n",
        "\r\n",
        "- $\\Rightarrow $__learning_rate__ \r\n",
        "\r\n",
        "- warm_start"
      ]
    },
    {
      "cell_type": "markdown",
      "metadata": {
        "id": "W6PSwXPsgNDP"
      },
      "source": [
        "### Random forests hyperparameters\n",
        "\n",
        "In the following exercises, we'll be revisiting the [Bike Sharing Demand](https://www.kaggle.com/c/bike-sharing-demand) dataset.\n",
        "\n",
        "Recall that your task is to predict the bike rental demand using historical weather data from the Capital Bikeshare program in Washington, D.C. For this purpose, you'll be tuning the hyperparameters of a Random Forests regressor."
      ]
    },
    {
      "cell_type": "markdown",
      "metadata": {
        "id": "fJ5qYmQFgNDQ"
      },
      "source": [
        "- Preprocess"
      ]
    },
    {
      "cell_type": "code",
      "metadata": {
        "id": "U5CmNG_1gNDQ",
        "colab": {
          "base_uri": "https://localhost:8080/",
          "height": 202
        },
        "outputId": "0fd888f0-11cd-44c8-e2b2-bf740ec61480"
      },
      "source": [
        "bike = pd.read_csv('bikes.csv')\n",
        "bike.head()"
      ],
      "execution_count": 12,
      "outputs": [
        {
          "output_type": "execute_result",
          "data": {
            "text/html": [
              "<div>\n",
              "<style scoped>\n",
              "    .dataframe tbody tr th:only-of-type {\n",
              "        vertical-align: middle;\n",
              "    }\n",
              "\n",
              "    .dataframe tbody tr th {\n",
              "        vertical-align: top;\n",
              "    }\n",
              "\n",
              "    .dataframe thead th {\n",
              "        text-align: right;\n",
              "    }\n",
              "</style>\n",
              "<table border=\"1\" class=\"dataframe\">\n",
              "  <thead>\n",
              "    <tr style=\"text-align: right;\">\n",
              "      <th></th>\n",
              "      <th>hr</th>\n",
              "      <th>holiday</th>\n",
              "      <th>workingday</th>\n",
              "      <th>temp</th>\n",
              "      <th>hum</th>\n",
              "      <th>windspeed</th>\n",
              "      <th>cnt</th>\n",
              "      <th>instant</th>\n",
              "      <th>mnth</th>\n",
              "      <th>yr</th>\n",
              "      <th>Clear to partly cloudy</th>\n",
              "      <th>Light Precipitation</th>\n",
              "      <th>Misty</th>\n",
              "    </tr>\n",
              "  </thead>\n",
              "  <tbody>\n",
              "    <tr>\n",
              "      <th>0</th>\n",
              "      <td>0</td>\n",
              "      <td>0</td>\n",
              "      <td>0</td>\n",
              "      <td>0.76</td>\n",
              "      <td>0.66</td>\n",
              "      <td>0.0000</td>\n",
              "      <td>149</td>\n",
              "      <td>13004</td>\n",
              "      <td>7</td>\n",
              "      <td>1</td>\n",
              "      <td>1</td>\n",
              "      <td>0</td>\n",
              "      <td>0</td>\n",
              "    </tr>\n",
              "    <tr>\n",
              "      <th>1</th>\n",
              "      <td>1</td>\n",
              "      <td>0</td>\n",
              "      <td>0</td>\n",
              "      <td>0.74</td>\n",
              "      <td>0.70</td>\n",
              "      <td>0.1343</td>\n",
              "      <td>93</td>\n",
              "      <td>13005</td>\n",
              "      <td>7</td>\n",
              "      <td>1</td>\n",
              "      <td>1</td>\n",
              "      <td>0</td>\n",
              "      <td>0</td>\n",
              "    </tr>\n",
              "    <tr>\n",
              "      <th>2</th>\n",
              "      <td>2</td>\n",
              "      <td>0</td>\n",
              "      <td>0</td>\n",
              "      <td>0.72</td>\n",
              "      <td>0.74</td>\n",
              "      <td>0.0896</td>\n",
              "      <td>90</td>\n",
              "      <td>13006</td>\n",
              "      <td>7</td>\n",
              "      <td>1</td>\n",
              "      <td>1</td>\n",
              "      <td>0</td>\n",
              "      <td>0</td>\n",
              "    </tr>\n",
              "    <tr>\n",
              "      <th>3</th>\n",
              "      <td>3</td>\n",
              "      <td>0</td>\n",
              "      <td>0</td>\n",
              "      <td>0.72</td>\n",
              "      <td>0.84</td>\n",
              "      <td>0.1343</td>\n",
              "      <td>33</td>\n",
              "      <td>13007</td>\n",
              "      <td>7</td>\n",
              "      <td>1</td>\n",
              "      <td>1</td>\n",
              "      <td>0</td>\n",
              "      <td>0</td>\n",
              "    </tr>\n",
              "    <tr>\n",
              "      <th>4</th>\n",
              "      <td>4</td>\n",
              "      <td>0</td>\n",
              "      <td>0</td>\n",
              "      <td>0.70</td>\n",
              "      <td>0.79</td>\n",
              "      <td>0.1940</td>\n",
              "      <td>4</td>\n",
              "      <td>13008</td>\n",
              "      <td>7</td>\n",
              "      <td>1</td>\n",
              "      <td>1</td>\n",
              "      <td>0</td>\n",
              "      <td>0</td>\n",
              "    </tr>\n",
              "  </tbody>\n",
              "</table>\n",
              "</div>"
            ],
            "text/plain": [
              "   hr  holiday  workingday  ...  Clear to partly cloudy  Light Precipitation  Misty\n",
              "0   0        0           0  ...                       1                    0      0\n",
              "1   1        0           0  ...                       1                    0      0\n",
              "2   2        0           0  ...                       1                    0      0\n",
              "3   3        0           0  ...                       1                    0      0\n",
              "4   4        0           0  ...                       1                    0      0\n",
              "\n",
              "[5 rows x 13 columns]"
            ]
          },
          "metadata": {
            "tags": []
          },
          "execution_count": 12
        }
      ]
    },
    {
      "cell_type": "code",
      "metadata": {
        "id": "1cTzf0ycgNDR"
      },
      "source": [
        "X = bike.drop('cnt', axis='columns')\n",
        "y = bike['cnt']"
      ],
      "execution_count": 13,
      "outputs": []
    },
    {
      "cell_type": "code",
      "metadata": {
        "id": "I5DVNew-gNDR"
      },
      "source": [
        "X_train, X_test, y_train, y_test = train_test_split(X, y, test_size=0.2, random_state=2)"
      ],
      "execution_count": 14,
      "outputs": []
    },
    {
      "cell_type": "code",
      "metadata": {
        "id": "1F228UsqgNDR",
        "colab": {
          "base_uri": "https://localhost:8080/"
        },
        "outputId": "c908a955-7bbe-4679-cad0-e305a620fd32"
      },
      "source": [
        "from sklearn.ensemble import RandomForestRegressor\n",
        "\n",
        "# Instantiate rf\n",
        "rf = RandomForestRegressor()\n",
        "\n",
        "# Get hyperparameters\n",
        "rf.get_params()"
      ],
      "execution_count": 15,
      "outputs": [
        {
          "output_type": "execute_result",
          "data": {
            "text/plain": [
              "{'bootstrap': True,\n",
              " 'ccp_alpha': 0.0,\n",
              " 'criterion': 'mse',\n",
              " 'max_depth': None,\n",
              " 'max_features': 'auto',\n",
              " 'max_leaf_nodes': None,\n",
              " 'max_samples': None,\n",
              " 'min_impurity_decrease': 0.0,\n",
              " 'min_impurity_split': None,\n",
              " 'min_samples_leaf': 1,\n",
              " 'min_samples_split': 2,\n",
              " 'min_weight_fraction_leaf': 0.0,\n",
              " 'n_estimators': 100,\n",
              " 'n_jobs': None,\n",
              " 'oob_score': False,\n",
              " 'random_state': None,\n",
              " 'verbose': 0,\n",
              " 'warm_start': False}"
            ]
          },
          "metadata": {
            "tags": []
          },
          "execution_count": 15
        }
      ]
    },
    {
      "cell_type": "markdown",
      "metadata": {
        "id": "CXKpEqJ5gNDS"
      },
      "source": [
        "### Set the hyperparameter grid of RF\n",
        "In this exercise, you'll manually set the grid of hyperparameters that will be used to tune ```rf```'s hyperparameters and find the optimal regressor. For this purpose, you will be constructing a grid of hyperparameters and tune the number of estimators, the maximum number of features used when splitting each node and the minimum number of samples (or fraction) per leaf."
      ]
    },
    {
      "cell_type": "code",
      "metadata": {
        "id": "aSHcKdBDgNDT"
      },
      "source": [
        "# Define the dicrionary 'params_rf'\n",
        "params_rf = {\n",
        "    'n_estimators': [100, 350, 500],\n",
        "    'max_features': ['log2', 'auto', 'sqrt'],\n",
        "    'min_samples_leaf': [2, 10, 30],\n",
        "}"
      ],
      "execution_count": 16,
      "outputs": []
    },
    {
      "cell_type": "markdown",
      "metadata": {
        "id": "uGu3INT0gNDU"
      },
      "source": [
        "### Search for the optimal forest\n",
        "In this exercise, you'll perform grid search using 3-fold cross validation to find ```rf```'s optimal hyperparameters. To evaluate each model in the grid, you'll be using the negative mean squared error metric.\n",
        "\n",
        "Note that because grid search is an exhaustive search process, it may take a lot time to train the model. Here you'll only be instantiating the ```GridSearchCV``` object without fitting it to the training set. As discussed in the video, you can train such an object similar to any scikit-learn estimator by using the ```.fit()``` method:\n",
        "```python\n",
        "grid_object.fit(X_train, y_train)\n",
        "```"
      ]
    },
    {
      "cell_type": "code",
      "metadata": {
        "id": "yjg7wjRvgNDV",
        "colab": {
          "base_uri": "https://localhost:8080/"
        },
        "outputId": "10fe547d-90b3-4f35-b157-3f70e7983525"
      },
      "source": [
        "from sklearn.model_selection import GridSearchCV\n",
        "\n",
        "# Instantiate grid_rf\n",
        "grid_rf = GridSearchCV(estimator=rf, param_grid=params_rf, scoring='neg_mean_squared_error', cv=3,\n",
        "                      verbose=1, n_jobs=-1)\n",
        "\n",
        "# fit model\n",
        "grid_rf.fit(X_train, y_train)"
      ],
      "execution_count": 17,
      "outputs": [
        {
          "output_type": "stream",
          "text": [
            "Fitting 3 folds for each of 27 candidates, totalling 81 fits\n"
          ],
          "name": "stdout"
        },
        {
          "output_type": "stream",
          "text": [
            "[Parallel(n_jobs=-1)]: Using backend LokyBackend with 2 concurrent workers.\n",
            "[Parallel(n_jobs=-1)]: Done  46 tasks      | elapsed:   24.3s\n",
            "[Parallel(n_jobs=-1)]: Done  81 out of  81 | elapsed:   40.6s finished\n"
          ],
          "name": "stderr"
        },
        {
          "output_type": "execute_result",
          "data": {
            "text/plain": [
              "GridSearchCV(cv=3, error_score=nan,\n",
              "             estimator=RandomForestRegressor(bootstrap=True, ccp_alpha=0.0,\n",
              "                                             criterion='mse', max_depth=None,\n",
              "                                             max_features='auto',\n",
              "                                             max_leaf_nodes=None,\n",
              "                                             max_samples=None,\n",
              "                                             min_impurity_decrease=0.0,\n",
              "                                             min_impurity_split=None,\n",
              "                                             min_samples_leaf=1,\n",
              "                                             min_samples_split=2,\n",
              "                                             min_weight_fraction_leaf=0.0,\n",
              "                                             n_estimators=100, n_jobs=None,\n",
              "                                             oob_score=False, random_state=None,\n",
              "                                             verbose=0, warm_start=False),\n",
              "             iid='deprecated', n_jobs=-1,\n",
              "             param_grid={'max_features': ['log2', 'auto', 'sqrt'],\n",
              "                         'min_samples_leaf': [2, 10, 30],\n",
              "                         'n_estimators': [100, 350, 500]},\n",
              "             pre_dispatch='2*n_jobs', refit=True, return_train_score=False,\n",
              "             scoring='neg_mean_squared_error', verbose=1)"
            ]
          },
          "metadata": {
            "tags": []
          },
          "execution_count": 17
        }
      ]
    },
    {
      "cell_type": "markdown",
      "metadata": {
        "id": "mOT-x8oQgNDW"
      },
      "source": [
        "### Evaluate the optimal forest\n",
        "In this last exercise of the course, you'll evaluate the test set RMSE of ```grid_rf```'s optimal model."
      ]
    },
    {
      "cell_type": "code",
      "metadata": {
        "id": "6GjvkRYPgNDX",
        "colab": {
          "base_uri": "https://localhost:8080/"
        },
        "outputId": "2ed68707-385b-4e57-d983-fa8eb494ab9a"
      },
      "source": [
        "from sklearn.metrics import mean_squared_error as MSE\n",
        "\n",
        "# Extract the best estimator\n",
        "best_model = grid_rf.best_estimator_\n",
        "\n",
        "# Predict test set labels\n",
        "y_pred = best_model.predict(X_test)\n",
        "\n",
        "# Compute rmse_test\n",
        "rmse_test = MSE(y_test, y_pred) ** 0.5\n",
        "\n",
        "# Print rmse_test\n",
        "print('Test RMSE of best model: {:.3f}'.format(rmse_test))"
      ],
      "execution_count": 18,
      "outputs": [
        {
          "output_type": "stream",
          "text": [
            "Test RMSE of best model: 54.467\n"
          ],
          "name": "stdout"
        }
      ]
    },
    {
      "cell_type": "markdown",
      "metadata": {
        "id": "_BbfLw3qShcI"
      },
      "source": [
        "---\r\n",
        "---\r\n",
        "---"
      ]
    },
    {
      "cell_type": "markdown",
      "metadata": {
        "id": "Zm0Edlu5OfL6"
      },
      "source": [
        "# **Tuning CART**"
      ]
    },
    {
      "cell_type": "code",
      "metadata": {
        "colab": {
          "base_uri": "https://localhost:8080/"
        },
        "id": "d3SseyI8ilis",
        "outputId": "3d5ca1b5-c6c9-4365-ab01-9978a92045e2"
      },
      "source": [
        "# Imports\r\n",
        "import pandas as pd\r\n",
        "from sklearn.model_selection import train_test_split\r\n",
        "from sklearn.tree import DecisionTreeClassifier\r\n",
        "from sklearn.model_selection import GridSearchCV\r\n",
        "from sklearn.metrics import roc_auc_score\r\n",
        "\r\n",
        "# loding the data into the pandas dataframe\r\n",
        "df_liver = pd.read_csv('indian_liver_patient_preprocessed.csv', index_col=0)\r\n",
        "\r\n",
        "# Subseting feature and lables from the data set\r\n",
        "X = df_liver.drop('Liver_disease', axis='columns')\r\n",
        "y = df_liver['Liver_disease']\r\n",
        "\r\n",
        "# Spliting the data into train & test dataset\r\n",
        "X_train, X_test, y_train, y_test = train_test_split(X, y,\r\n",
        "                                                    test_size=0.2,\r\n",
        "                                                    random_state=2)\r\n",
        "\r\n",
        "# Instantiate DecisionTreeClassifier `dt`\r\n",
        "dt = DecisionTreeClassifier()\r\n",
        "\r\n",
        "# Check default hyperparameter\r\n",
        "dt.get_params()\r\n",
        "\r\n",
        "# Set the tree's hyperparameter grid--------------------------------------------\r\n",
        "# Define params_dt\r\n",
        "params_dt = {\r\n",
        "    'max_depth': [3, 4, 5, 6],\r\n",
        "    'min_samples_leaf': [0.04, 0.06, 0.08],\r\n",
        "    'max_features': [0.2, 0.4, 0.6, 0.8]\r\n",
        "}\r\n",
        "\r\n",
        "# Instantiate grid_dt\r\n",
        "grid_dt = GridSearchCV(estimator=dt, \r\n",
        "                       param_grid=params_dt,\r\n",
        "                       scoring='accuracy',\r\n",
        "                       cv=10,             # 5-fold cross validation\r\n",
        "                       n_jobs=-1)\r\n",
        "\r\n",
        "grid_dt.fit(X_train, y_train)\r\n",
        " \r\n",
        "# Evaluate the optimal tree-----------------------------------------------------\r\n",
        "# Extract the best params\r\n",
        "best_hyperparmas = grid_dt.best_params_\r\n",
        "print('Best hyperparameters:\\n', best_hyperparmas)\r\n",
        "\r\n",
        "# Extract the best CV score from 'grid_dt'\r\n",
        "best_CV_score = grid_dt.best_score_\r\n",
        "print('Best CV accuracy:\\n', best_CV_score)\r\n",
        "\r\n",
        "# Compute test_roc_auc\r\n",
        "test_roc_auc = roc_auc_score(y_test, y_pred_proba)\r\n",
        "\r\n",
        "# Extract best model from 'grid_dt'\r\n",
        "best_model = grid_dt.best_estimator_\r\n",
        "\r\n",
        "# Evaluate test set accuracy\r\n",
        "test_acc = best_model.score(X_test,y_test)\r\n",
        "\r\n",
        "# Print test set accuracy\r\n",
        "print(\"Test set accuracy of best model: {:.3f}\".format(test_acc))"
      ],
      "execution_count": 19,
      "outputs": [
        {
          "output_type": "stream",
          "text": [
            "Best hyperparameters:\n",
            " {'max_depth': 4, 'max_features': 0.8, 'min_samples_leaf': 0.06}\n",
            "Best CV accuracy:\n",
            " 0.7107770582793709\n",
            "Test set accuracy of best model: 0.690\n"
          ],
          "name": "stdout"
        }
      ]
    },
    {
      "cell_type": "code",
      "metadata": {
        "colab": {
          "base_uri": "https://localhost:8080/",
          "height": 480
        },
        "id": "jWzz-0B2L00P",
        "outputId": "cd5263c3-c85b-4f57-9207-1cb045f5a14a"
      },
      "source": [
        "# Imports\r\n",
        "import pandas as pd\r\n",
        "from sklearn.model_selection import train_test_split\r\n",
        "from sklearn.tree import DecisionTreeClassifier\r\n",
        "from sklearn.model_selection import GridSearchCV\r\n",
        "from sklearn.metrics import roc_auc_score\r\n",
        "\r\n",
        "# loding the data into the pandas dataframe\r\n",
        "df_liver = pd.read_csv('indian_liver_patient_preprocessed.csv', index_col=0)\r\n",
        "\r\n",
        "# Subseting feature and lables from the data set\r\n",
        "X = df_liver.drop('Liver_disease', axis='columns')\r\n",
        "y = df_liver['Liver_disease']\r\n",
        "\r\n",
        "# Spliting the data into train & test dataset\r\n",
        "X_train, X_test, y_train, y_test = train_test_split(X, y,\r\n",
        "                                                    test_size=0.2,\r\n",
        "                                                    random_state=2)\r\n",
        "\r\n",
        "# Instantiate DecisionTreeClassifier `dt`\r\n",
        "dt = DecisionTreeClassifier()\r\n",
        "\r\n",
        "# Check default hyperparameter\r\n",
        "dt.get_params()\r\n",
        "\r\n",
        "# Set the tree's hyperparameter grid--------------------------------------------\r\n",
        "# Define params_dt\r\n",
        "params_dt = {\r\n",
        "    'max_depth': [2, 3, 4],\r\n",
        "    'min_samples_leaf': [0.12, 0.14, 0.16, 0.18],\r\n",
        "}\r\n",
        "\r\n",
        "# Instantiate grid_dt\r\n",
        "grid_dt = GridSearchCV(estimator=dt, \r\n",
        "                       param_grid=params_dt,\r\n",
        "                       scoring='roc_auc',\r\n",
        "                       cv=5,             # 5-fold cross validation\r\n",
        "                       n_jobs=-1)\r\n",
        "\r\n",
        "grid_dt.fit(X_train, y_train)\r\n",
        " \r\n",
        "# Evaluate the optimal tree-----------------------------------------------------\r\n",
        "# Extract the best estimator\r\n",
        "best_model = grid_dt.best_estimator_\r\n",
        "\r\n",
        "# Predict the test set probabilities of the positive class\r\n",
        "y_pred_proba = best_model.predict_proba(X_test)[:, 1]\r\n",
        "\r\n",
        "# Compute test_roc_auc\r\n",
        "test_roc_auc = roc_auc_score(y_test, y_pred_proba)\r\n",
        "\r\n",
        "# Print test_roc_auc\r\n",
        "print(\"Test set ROC AUC score: {:.3f}\".format(test_roc_auc))\r\n",
        "\r\n",
        "\r\n",
        "import sklearn.metrics as metrics\r\n",
        "import matplotlib.pyplot as plt\r\n",
        "\r\n",
        "# calculate the fpr and tpr for all thresholds of the classification\r\n",
        "# Compute the probabilities of obtaining the positive class\r\n",
        "fpr, tpr, threshold = metrics.roc_curve(y_test, y_pred_proba)\r\n",
        "roc_auc = metrics.auc(fpr, tpr)\r\n",
        "\r\n",
        "# plot\r\n",
        "plt.figure(figsize=(12, 7))\r\n",
        "plt.title('Receiver Operating Characteristic(ROC)')\r\n",
        "plt.plot(fpr, tpr, color='tab:blue', label='AUC = %0.2f' % roc_auc)\r\n",
        "plt.legend(loc = 'lower right')\r\n",
        "plt.plot([0, 1], [0, 1],'r--') \r\n",
        "plt.xlim([0, 1])\r\n",
        "plt.ylim([0, 1])\r\n",
        "plt.ylabel('True Positive Rate')\r\n",
        "plt.xlabel('False Positive Rate')\r\n",
        "plt.show()"
      ],
      "execution_count": 20,
      "outputs": [
        {
          "output_type": "stream",
          "text": [
            "Test set ROC AUC score: 0.681\n"
          ],
          "name": "stdout"
        },
        {
          "output_type": "display_data",
          "data": {
            "image/png": "[encoded data removed]",
            "text/plain": [
              "<Figure size 864x504 with 1 Axes>"
            ]
          },
          "metadata": {
            "tags": [],
            "needs_background": "light"
          }
        }
      ]
    },
    {
      "cell_type": "markdown",
      "metadata": {
        "id": "FUmIrVuWOthF"
      },
      "source": [
        "# **Tuning Random Forest**"
      ]
    },
    {
      "cell_type": "code",
      "metadata": {
        "colab": {
          "base_uri": "https://localhost:8080/"
        },
        "id": "2o4JztfIL8K4",
        "outputId": "391f9b1c-6bc6-4372-cf16-a610fd43106b"
      },
      "source": [
        "import pandas as pd\r\n",
        "from sklearn.model_selection import train_test_split\r\n",
        "from sklearn.ensemble import RandomForestRegressor\r\n",
        "from sklearn.model_selection import GridSearchCV\r\n",
        "from sklearn.metrics import mean_squared_error as MSE\r\n",
        "\r\n",
        "# loding the data into the pandas dataframe \r\n",
        "bike = pd.read_csv('bikes.csv')\r\n",
        "\r\n",
        "# Subseting feature and lables from the data set\r\n",
        "X = bike.drop('cnt', axis='columns')\r\n",
        "y = bike['cnt']\r\n",
        "\r\n",
        "# Spliting the data into train & test dataset\r\n",
        "X_train, X_test, y_train, y_test = train_test_split(X, y,\r\n",
        "                                                    test_size=0.2,\r\n",
        "                                                    random_state=2)\r\n",
        "\r\n",
        "# Instantiate rf\r\n",
        "rf = RandomForestRegressor()\r\n",
        "\r\n",
        "# Get hyperparameters\r\n",
        "rf.get_params()\r\n",
        "\r\n",
        "# Set the hyperparameter grid of RF---------------------------------------------\r\n",
        "# Define the dicrionary 'params_rf'\r\n",
        "params_rf = {\r\n",
        "    'n_estimators': [100, 350, 500],\r\n",
        "    'max_features': ['log2', 'auto', 'sqrt'],\r\n",
        "    'min_samples_leaf': [2, 10, 30],\r\n",
        "}\r\n",
        "\r\n",
        "# Instantiate grid_rf\r\n",
        "grid_rf = GridSearchCV(estimator=rf,\r\n",
        "                       param_grid=params_rf, \r\n",
        "                       scoring='neg_mean_squared_error',\r\n",
        "                       cv=3,\r\n",
        "                       verbose=1, \r\n",
        "                       n_jobs=-1)\r\n",
        "\r\n",
        "# fit model\r\n",
        "grid_rf.fit(X_train, y_train)\r\n",
        "\r\n",
        "# Extract the best estimator\r\n",
        "best_model = grid_rf.best_estimator_\r\n",
        "\r\n",
        "# Predict test set labels\r\n",
        "y_pred = best_model.predict(X_test)\r\n",
        "\r\n",
        "# Compute rmse_test\r\n",
        "rmse_test = MSE(y_test, y_pred)**0.5\r\n",
        "\r\n",
        "# Print rmse_test\r\n",
        "print('Test RMSE of best model: {:.3f}'.format(rmse_test))"
      ],
      "execution_count": 21,
      "outputs": [
        {
          "output_type": "stream",
          "text": [
            "Fitting 3 folds for each of 27 candidates, totalling 81 fits\n"
          ],
          "name": "stdout"
        },
        {
          "output_type": "stream",
          "text": [
            "[Parallel(n_jobs=-1)]: Using backend LokyBackend with 2 concurrent workers.\n",
            "[Parallel(n_jobs=-1)]: Done  46 tasks      | elapsed:   24.3s\n",
            "[Parallel(n_jobs=-1)]: Done  81 out of  81 | elapsed:   40.5s finished\n"
          ],
          "name": "stderr"
        },
        {
          "output_type": "stream",
          "text": [
            "Test RMSE of best model: 54.418\n"
          ],
          "name": "stdout"
        }
      ]
    },
    {
      "cell_type": "markdown",
      "metadata": {
        "id": "BlMdR_wppK9y"
      },
      "source": [
        "## **Summary**"
      ]
    },
    {
      "cell_type": "markdown",
      "metadata": {
        "id": "IAL6XGEKojmY"
      },
      "source": [
        "- In **Chapter 1**, we have started off by understanding and applying the CART algorithm to train decision trees or CARTs for problems involving classification and regression.\r\n",
        "\r\n",
        "- In **Chapter 2**, we have understood what the generalization error of a supervised learning model is. In addition, you also learned how underfitting and overfitting can be diagnosed with cross-validation. Furthermore, you learned how model ensembling can produce results that are more robust than individual decision trees.\r\n",
        "\r\n",
        "- In **Chapter 3**, we have applied randomization through bootstrapping and constructed a diverse set of trees in an ensemble through bagging. You also explored how random forests introduces further randomization by sampling features at the level of each node in each tree forming the ensemble.\r\n",
        "\r\n",
        "- **Chapter 4** introduced boosting, an ensemble method in which predictors are trained sequentially and where each predictor tries to correct the errors made by its predecessor. Specifically, you saw how AdaBoost involved tweaking the weights of the training samples while gradient boosting involved fitting each tree using the residuals of its predecessor as labels. You also learned how subsampling instances and features can lead to a better performance through Stochastic Gradient Boosting.\r\n",
        "\r\n",
        "- Finally, in **Chapter 5**, we have explored hyperparameter tuning through Grid Search cross-validation and you learned how important it is to get the most out of your models."
      ]
    },
    {
      "cell_type": "markdown",
      "metadata": {
        "id": "NRggncKZmwji"
      },
      "source": [
        "<p align='center'> \r\n",
        "    <a href=\"https://twitter.com/F4izy\"> \r\n",
        "        <img src=\"https://th.bing.com/th/id/OIP.FCKMemzqNplY37Jwi0Yk3AHaGl?w=233&h=207&c=7&o=5&pid=1.7\" width=50px \r\n",
        "            height=50px> \r\n",
        "    </a> \r\n",
        "    <a href=\"https://www.linkedin.com/in/mohd-faizy/\"> \r\n",
        "        <img src='https://th.bing.com/th/id/OIP.idrBN-LfvMIZl370Vb65SgHaHa?pid=Api&rs=1' width=50px height=50px> \r\n",
        "    </a> \r\n",
        "</p>"
      ]
    }
  ]
}