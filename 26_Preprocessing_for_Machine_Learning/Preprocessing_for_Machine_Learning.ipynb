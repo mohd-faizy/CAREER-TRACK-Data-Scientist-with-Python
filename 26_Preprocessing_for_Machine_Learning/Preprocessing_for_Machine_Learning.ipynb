{
  "cells": [
    {
      "cell_type": "markdown",
      "metadata": {
        "id": "FvUPdwFD5WF8"
      },
      "source": [
        "# <center><b><font color=\"red\">Preprocessing for Machine Learning</font></b></center>"
      ]
    },
    {
      "cell_type": "code",
      "execution_count": 1,
      "metadata": {
        "colab": {
          "base_uri": "https://localhost:8080/"
        },
        "id": "l0c3u7izxW4D",
        "outputId": "abc44620-b108-4902-fb33-f63064859641"
      },
      "outputs": [
        {
          "output_type": "stream",
          "name": "stdout",
          "text": [
            "Cloning into 'CAREER-TRACK-Data-Scientist-with-Python'...\n",
            "remote: Enumerating objects: 3167, done.\u001b[K\n",
            "remote: Counting objects: 100% (474/474), done.\u001b[K\n",
            "remote: Compressing objects: 100% (323/323), done.\u001b[K\n",
            "remote: Total 3167 (delta 138), reused 474 (delta 138), pack-reused 2693\u001b[K\n",
            "Receiving objects: 100% (3167/3167), 484.15 MiB | 17.80 MiB/s, done.\n",
            "Resolving deltas: 100% (1122/1122), done.\n",
            "Updating files: 100% (786/786), done.\n"
          ]
        }
      ],
      "source": [
        "!git clone https://github.com/mohd-faizy/CAREER-TRACK-Data-Scientist-with-Python.git"
      ]
    },
    {
      "cell_type": "code",
      "execution_count": 2,
      "metadata": {
        "id": "6ApIwzvaiFJy"
      },
      "outputs": [],
      "source": [
        "import pandas as pd\n",
        "import numpy as np\n",
        "import matplotlib.pyplot as plt\n",
        "import seaborn as sns\n",
        "import os\n",
        "\n",
        "# plt.style.use('ggplot')\n",
        "# sns.set_theme(style='whitegrid')\n",
        "%matplotlib inline"
      ]
    },
    {
      "cell_type": "code",
      "execution_count": 3,
      "metadata": {
        "colab": {
          "base_uri": "https://localhost:8080/"
        },
        "id": "B825sPquzlSS",
        "outputId": "a611922e-d42c-453f-a70e-f1939e63a562"
      },
      "outputs": [
        {
          "output_type": "stream",
          "name": "stdout",
          "text": [
            "Curent working directory is  /content/CAREER-TRACK-Data-Scientist-with-Python/26_Preprocessing_for_Machine_Learning/_dataset\n"
          ]
        }
      ],
      "source": [
        "os.chdir('/content/CAREER-TRACK-Data-Scientist-with-Python/26_Preprocessing_for_Machine_Learning/_dataset')\n",
        "cwd = os.getcwd()\n",
        "print('Curent working directory is ', cwd)"
      ]
    },
    {
      "cell_type": "code",
      "execution_count": 4,
      "metadata": {
        "colab": {
          "base_uri": "https://localhost:8080/"
        },
        "id": "PO3fWwRlzmQ8",
        "outputId": "4d2fd927-1988-4e26-91d0-3c58c284b3ec"
      },
      "outputs": [
        {
          "output_type": "stream",
          "name": "stdout",
          "text": [
            "hiking.json              volunteer_opportunities.csv\n",
            "ufo_sightings_large.csv  wine_types.csv\n"
          ]
        }
      ],
      "source": [
        "ls"
      ]
    },
    {
      "cell_type": "markdown",
      "source": [
        "# **Dataset**"
      ],
      "metadata": {
        "id": "dw-ZMp6YwzZ_"
      }
    },
    {
      "cell_type": "code",
      "source": [
        "hiking_df =  pd.read_json(\"hiking.json\")\n",
        "volunteer_df =  pd.read_csv(\"volunteer_opportunities.csv\")\n",
        "wine_df =  pd.read_csv(\"wine_types.csv\")\n",
        "ufo_df =  pd.read_csv(\"ufo_sightings_large.csv\")"
      ],
      "metadata": {
        "id": "4K9hQT2TzdQr"
      },
      "execution_count": 5,
      "outputs": []
    },
    {
      "cell_type": "code",
      "source": [
        "import pandas as pd\n",
        "\n",
        "# List of filenames and corresponding DataFrame names\n",
        "file_data = [\n",
        "    (\"hiking.json\", \"hiking_dataframe\"),\n",
        "    (\"volunteer_opportunities.csv\", \"volunteer_dataframe\"),\n",
        "    (\"ufo_sightings_large.csv\", \"ufo_dataframe\"),\n",
        "    (\"wine_types.csv\", \"wine_dataframe\")\n",
        "]\n",
        "\n",
        "# Loop through the file_data list\n",
        "for file_name, df_name in file_data:\n",
        "    df = pd.read_csv(file_name)  # Read the file into a DataFrame\n",
        "    print(df_name + \":\")  # Print the DataFrame name\n",
        "    display(df.head(2))  # Print the first 5 rows of the DataFrame\n",
        "    print(\"\\n\")\n",
        "    print(\"=\"*200)\n"
      ],
      "metadata": {
        "colab": {
          "base_uri": "https://localhost:8080/",
          "height": 1000
        },
        "id": "_xBj0sAGas40",
        "outputId": "a5ac90d6-47fb-4492-88ec-d3b8c89c6ce4"
      },
      "execution_count": 6,
      "outputs": [
        {
          "output_type": "stream",
          "name": "stdout",
          "text": [
            "hiking_dataframe:\n"
          ]
        },
        {
          "output_type": "display_data",
          "data": {
            "text/plain": [
              "Empty DataFrame\n",
              "Columns: [[{\"Prop_ID\":\"B057\", Name:\"Salt Marsh Nature Trail\", Location:\"Enter behind the Salt Marsh Nature Center,  located near the intersection of East 33rd Street and Avenue U.\", Park_Name:\"Marine Park\", Length:\"0.8 miles\", Difficulty:null, Other_Details:\"<p>The first half of this mile-long trail follows the shore of Gerritsen Beach,  which empties into Jamaica Bay. The trail&rsquo;s second leg winds through a prairie of tall grass,  where you can sometimes spot cottontail rabbits and ring-necked pheasants. Check out our <a href=\\\"\\/park-features\\/hiking\\/marine-park\\\">Marine Park Trails<\\/a> page for a map and directions to scenic locations,  and comfort stations and maps are also available inside the Salt Marsh Nature Center.<\\/p>\", Accessible:\"Y\", Limited_Access:\"N\", lat:null, lon:null}, {\"Prop_ID\":\"B073\", Name:\"Lullwater\", Location:\"Enter Park at Lincoln Road and Ocean Avenue entrance.  Trails begin or are near the Prospect Park Audubon Center.\", Park_Name:\"Prospect Park\", Length:\"1.0 mile\", Difficulty:\"Easy\", Other_Details:\"Explore the Lullwater to see how nature thrives in the heart of Brooklyn.  The Lullwater is a great place to see birds and other wildlife.  Bathrooms,  caf&eacute; and trail guides are available at the Prospect Park Audubon Center.\", Accessible:\"N\", Limited_Access:\"N\".1, lat:null.1, lon:null}.1, {\"Prop_ID\":\"B073\".1, Name:\"Midwood\", Location:\"Enter Park at Lincoln Road and Ocean Avenue entrance. Trails begin or are near the Prospect Park Audubon Center.\", Park_Name:\"Prospect Park\".1, Length:\"0.75 miles\", Difficulty:\"Easy\".1, Other_Details:\"Step back in time with a walk through Brooklyn&rsquo;s oldest remaining forest. The Midwood,  home to some of Prospect Park&rsquo;s largest trees,  is a relic of Brooklyn&rsquo;s history,  and was preserved and incorporated into the park during its original construction. The thirty-minute hike loops from Prospect Park&rsquo;s Audubon Center through a forest filled with birds and other animals.\", Accessible:\"N\".1, Limited_Access:\"N\".2, lat:null.2, lon:null}.2, {\"Prop_ID\":\"B073\".2, Name:\"Peninsula\", Location:\"Enter Park at Lincoln Road and Ocean Avenue entrance.  Trails begin or are near the Prospect Park Audubon Center.\".1, Park_Name:\"Prospect Park\".2, Length:\"0.5 miles\", Difficulty:\"Easy\".2, Other_Details:\"Discover how the Peninsula has changed over the last 300 years.  The Peninsula's restored landscapes provide scenic views,  a home for Park wildlife,  and great fishing.  Bathrooms,  caf&eacute; and trail guides are available at the Prospect Park Audubon Center.\".1, Accessible:\"N\".2, Limited_Access:\"N\".3, lat:null.3, lon:null}.3, {\"Prop_ID\":\"B073\".3, Name:\"Waterfall\", Location:\"Enter Park at Lincoln Road and Ocean Avenue entrance.  Trails begin or are near the Prospect Park Audubon Center.\".2, Park_Name:\"Prospect Park\".3, Length:\"0.5 miles\".1, Difficulty:\"Easy\".3, Other_Details:\"Trace the source of the Lake on the Waterfall trail.  The Fallkill Falls is the first of six waterfalls that you will see along the Park's watercourse.  Bathrooms,  caf&eacute; and trail guides are available at the Prospect Park Audubon Center.\".2, Accessible:\"N\".3, Limited_Access:\"N\".4, lat:null.4, lon:null}.4, {\"Prop_ID\":\"Q001\", Name:\"Alley Pond Trails\", Location:\"Park-wide. Check out our <a href=\\\"\\/park-features\\/hiking\\/alley-pond\\\">Alley Pond Park Trails<\\/a> page for a map and directions to scenic locations.\", Park_Name:\"Alley Pond Park\", Length:\"Various\", Difficulty:\"Various\", Other_Details:\"Numerous trails wind through native hardwood (oak-hickory) forest and kettle ponds.  The north end of the park boasts splendid salt marsh views.\", Accessible:\"N\".4, Limited_Access:\"N\".5, lat:null.5, lon:null}.5, {\"Prop_ID\":\"Q015\", Name:\"Blue Trail\", Location:\"Forest Park Drive East,  off of Woodhaven Boulevard\", Park_Name:\"Forest Park\", Length:\"1.7 miles\", Difficulty:\"\", Other_Details:\"Forest Park's numerous trails wind through native hardwood (oak-hickory) forest and kettle ponds.  \", Accessible:\"N\".5, Limited_Access:\"N\".6, lat:null.6, lon:null}.6, {\"Prop_ID\":\"Q015\".1, Name:\"Orange Trail\", Location:\"Memorial Drive and Forest Park Drive East\", Park_Name:\"Forest Park\".1, Length:\"2.4 miles\", Difficulty:null.1, Other_Details:\"This trail will lead you through a 2.4 mile adventurous hike along the perimeter of the forest\", Accessible:\"N\".6, Limited_Access:\"N\".7, lat:null.7, ...]\n",
              "Index: []\n",
              "\n",
              "[0 rows x 427 columns]"
            ],
            "text/html": [
              "\n",
              "  <div id=\"df-ea432685-8231-4b17-8673-45bf0e7849ce\">\n",
              "    <div class=\"colab-df-container\">\n",
              "      <div>\n",
              "<style scoped>\n",
              "    .dataframe tbody tr th:only-of-type {\n",
              "        vertical-align: middle;\n",
              "    }\n",
              "\n",
              "    .dataframe tbody tr th {\n",
              "        vertical-align: top;\n",
              "    }\n",
              "\n",
              "    .dataframe thead th {\n",
              "        text-align: right;\n",
              "    }\n",
              "</style>\n",
              "<table border=\"1\" class=\"dataframe\">\n",
              "  <thead>\n",
              "    <tr style=\"text-align: right;\">\n",
              "      <th></th>\n",
              "      <th>[{\"Prop_ID\":\"B057\"</th>\n",
              "      <th>Name:\"Salt Marsh Nature Trail\"</th>\n",
              "      <th>Location:\"Enter behind the Salt Marsh Nature Center</th>\n",
              "      <th>located near the intersection of East 33rd Street and Avenue U.\"</th>\n",
              "      <th>Park_Name:\"Marine Park\"</th>\n",
              "      <th>Length:\"0.8 miles\"</th>\n",
              "      <th>Difficulty:null</th>\n",
              "      <th>Other_Details:\"&lt;p&gt;The first half of this mile-long trail follows the shore of Gerritsen Beach</th>\n",
              "      <th>which empties into Jamaica Bay. The trail&amp;rsquo;s second leg winds through a prairie of tall grass</th>\n",
              "      <th>where you can sometimes spot cottontail rabbits and ring-necked pheasants. Check out our &lt;a href=\\\"\\/park-features\\/hiking\\/marine-park\\\"&gt;Marine Park Trails&lt;\\/a&gt; page for a map and directions to scenic locations</th>\n",
              "      <th>...</th>\n",
              "      <th>Length:null.3</th>\n",
              "      <th>Difficulty:null.5</th>\n",
              "      <th>Other_Details:\"The Conference House Blue Trail extends from Shore Road and Satterlee Street all the way south to Brighton Street and Surf Avenue. Along the way</th>\n",
              "      <th>you can see a number of historic buildings</th>\n",
              "      <th>including the famed Conference House</th>\n",
              "      <th>and enjoy beautiful waterfront views of this beachside park.\"</th>\n",
              "      <th>Accessible:\"N\".31</th>\n",
              "      <th>Limited_Access:\"N\".31</th>\n",
              "      <th>lat:null.32</th>\n",
              "      <th>lon:null}]</th>\n",
              "    </tr>\n",
              "  </thead>\n",
              "  <tbody>\n",
              "  </tbody>\n",
              "</table>\n",
              "<p>0 rows × 427 columns</p>\n",
              "</div>\n",
              "      <button class=\"colab-df-convert\" onclick=\"convertToInteractive('df-ea432685-8231-4b17-8673-45bf0e7849ce')\"\n",
              "              title=\"Convert this dataframe to an interactive table.\"\n",
              "              style=\"display:none;\">\n",
              "        \n",
              "  <svg xmlns=\"http://www.w3.org/2000/svg\" height=\"24px\"viewBox=\"0 0 24 24\"\n",
              "       width=\"24px\">\n",
              "    <path d=\"M0 0h24v24H0V0z\" fill=\"none\"/>\n",
              "    <path d=\"M18.56 5.44l.94 2.06.94-2.06 2.06-.94-2.06-.94-.94-2.06-.94 2.06-2.06.94zm-11 1L8.5 8.5l.94-2.06 2.06-.94-2.06-.94L8.5 2.5l-.94 2.06-2.06.94zm10 10l.94 2.06.94-2.06 2.06-.94-2.06-.94-.94-2.06-.94 2.06-2.06.94z\"/><path d=\"M17.41 7.96l-1.37-1.37c-.4-.4-.92-.59-1.43-.59-.52 0-1.04.2-1.43.59L10.3 9.45l-7.72 7.72c-.78.78-.78 2.05 0 2.83L4 21.41c.39.39.9.59 1.41.59.51 0 1.02-.2 1.41-.59l7.78-7.78 2.81-2.81c.8-.78.8-2.07 0-2.86zM5.41 20L4 18.59l7.72-7.72 1.47 1.35L5.41 20z\"/>\n",
              "  </svg>\n",
              "      </button>\n",
              "      \n",
              "  <style>\n",
              "    .colab-df-container {\n",
              "      display:flex;\n",
              "      flex-wrap:wrap;\n",
              "      gap: 12px;\n",
              "    }\n",
              "\n",
              "    .colab-df-convert {\n",
              "      background-color: #E8F0FE;\n",
              "      border: none;\n",
              "      border-radius: 50%;\n",
              "      cursor: pointer;\n",
              "      display: none;\n",
              "      fill: #1967D2;\n",
              "      height: 32px;\n",
              "      padding: 0 0 0 0;\n",
              "      width: 32px;\n",
              "    }\n",
              "\n",
              "    .colab-df-convert:hover {\n",
              "      background-color: #E2EBFA;\n",
              "      box-shadow: 0px 1px 2px rgba(60, 64, 67, 0.3), 0px 1px 3px 1px rgba(60, 64, 67, 0.15);\n",
              "      fill: #174EA6;\n",
              "    }\n",
              "\n",
              "    [theme=dark] .colab-df-convert {\n",
              "      background-color: #3B4455;\n",
              "      fill: #D2E3FC;\n",
              "    }\n",
              "\n",
              "    [theme=dark] .colab-df-convert:hover {\n",
              "      background-color: #434B5C;\n",
              "      box-shadow: 0px 1px 3px 1px rgba(0, 0, 0, 0.15);\n",
              "      filter: drop-shadow(0px 1px 2px rgba(0, 0, 0, 0.3));\n",
              "      fill: #FFFFFF;\n",
              "    }\n",
              "  </style>\n",
              "\n",
              "      <script>\n",
              "        const buttonEl =\n",
              "          document.querySelector('#df-ea432685-8231-4b17-8673-45bf0e7849ce button.colab-df-convert');\n",
              "        buttonEl.style.display =\n",
              "          google.colab.kernel.accessAllowed ? 'block' : 'none';\n",
              "\n",
              "        async function convertToInteractive(key) {\n",
              "          const element = document.querySelector('#df-ea432685-8231-4b17-8673-45bf0e7849ce');\n",
              "          const dataTable =\n",
              "            await google.colab.kernel.invokeFunction('convertToInteractive',\n",
              "                                                     [key], {});\n",
              "          if (!dataTable) return;\n",
              "\n",
              "          const docLinkHtml = 'Like what you see? Visit the ' +\n",
              "            '<a target=\"_blank\" href=https://colab.research.google.com/notebooks/data_table.ipynb>data table notebook</a>'\n",
              "            + ' to learn more about interactive tables.';\n",
              "          element.innerHTML = '';\n",
              "          dataTable['output_type'] = 'display_data';\n",
              "          await google.colab.output.renderOutput(dataTable, element);\n",
              "          const docLink = document.createElement('div');\n",
              "          docLink.innerHTML = docLinkHtml;\n",
              "          element.appendChild(docLink);\n",
              "        }\n",
              "      </script>\n",
              "    </div>\n",
              "  </div>\n",
              "  "
            ]
          },
          "metadata": {}
        },
        {
          "output_type": "stream",
          "name": "stdout",
          "text": [
            "\n",
            "\n",
            "========================================================================================================================================================================================================\n",
            "volunteer_dataframe:\n"
          ]
        },
        {
          "output_type": "display_data",
          "data": {
            "text/plain": [
              "   opportunity_id  content_id  vol_requests  event_time  \\\n",
              "0            4996       37004            50           0   \n",
              "1            5008       37036             2           0   \n",
              "\n",
              "                                               title  hits  \\\n",
              "0  Volunteers Needed For Rise Up & Stay Put! Home...   737   \n",
              "1                                       Web designer    22   \n",
              "\n",
              "                                             summary is_priority  category_id  \\\n",
              "0  Building on successful events last summer and ...         NaN          NaN   \n",
              "1             Build a website for an Afghan business         NaN          1.0   \n",
              "\n",
              "               category_desc  ...     end_date_date    status Latitude  \\\n",
              "0                        NaN  ...      July 30 2011  approved      NaN   \n",
              "1  Strengthening Communities  ...  February 01 2011  approved      NaN   \n",
              "\n",
              "   Longitude  Community Board Community Council  Census Tract  BIN  BBL NTA  \n",
              "0        NaN              NaN                NaN          NaN  NaN  NaN NaN  \n",
              "1        NaN              NaN                NaN          NaN  NaN  NaN NaN  \n",
              "\n",
              "[2 rows x 35 columns]"
            ],
            "text/html": [
              "\n",
              "  <div id=\"df-ca095efa-56a7-4279-871d-19811fcf0913\">\n",
              "    <div class=\"colab-df-container\">\n",
              "      <div>\n",
              "<style scoped>\n",
              "    .dataframe tbody tr th:only-of-type {\n",
              "        vertical-align: middle;\n",
              "    }\n",
              "\n",
              "    .dataframe tbody tr th {\n",
              "        vertical-align: top;\n",
              "    }\n",
              "\n",
              "    .dataframe thead th {\n",
              "        text-align: right;\n",
              "    }\n",
              "</style>\n",
              "<table border=\"1\" class=\"dataframe\">\n",
              "  <thead>\n",
              "    <tr style=\"text-align: right;\">\n",
              "      <th></th>\n",
              "      <th>opportunity_id</th>\n",
              "      <th>content_id</th>\n",
              "      <th>vol_requests</th>\n",
              "      <th>event_time</th>\n",
              "      <th>title</th>\n",
              "      <th>hits</th>\n",
              "      <th>summary</th>\n",
              "      <th>is_priority</th>\n",
              "      <th>category_id</th>\n",
              "      <th>category_desc</th>\n",
              "      <th>...</th>\n",
              "      <th>end_date_date</th>\n",
              "      <th>status</th>\n",
              "      <th>Latitude</th>\n",
              "      <th>Longitude</th>\n",
              "      <th>Community Board</th>\n",
              "      <th>Community Council</th>\n",
              "      <th>Census Tract</th>\n",
              "      <th>BIN</th>\n",
              "      <th>BBL</th>\n",
              "      <th>NTA</th>\n",
              "    </tr>\n",
              "  </thead>\n",
              "  <tbody>\n",
              "    <tr>\n",
              "      <th>0</th>\n",
              "      <td>4996</td>\n",
              "      <td>37004</td>\n",
              "      <td>50</td>\n",
              "      <td>0</td>\n",
              "      <td>Volunteers Needed For Rise Up &amp; Stay Put! Home...</td>\n",
              "      <td>737</td>\n",
              "      <td>Building on successful events last summer and ...</td>\n",
              "      <td>NaN</td>\n",
              "      <td>NaN</td>\n",
              "      <td>NaN</td>\n",
              "      <td>...</td>\n",
              "      <td>July 30 2011</td>\n",
              "      <td>approved</td>\n",
              "      <td>NaN</td>\n",
              "      <td>NaN</td>\n",
              "      <td>NaN</td>\n",
              "      <td>NaN</td>\n",
              "      <td>NaN</td>\n",
              "      <td>NaN</td>\n",
              "      <td>NaN</td>\n",
              "      <td>NaN</td>\n",
              "    </tr>\n",
              "    <tr>\n",
              "      <th>1</th>\n",
              "      <td>5008</td>\n",
              "      <td>37036</td>\n",
              "      <td>2</td>\n",
              "      <td>0</td>\n",
              "      <td>Web designer</td>\n",
              "      <td>22</td>\n",
              "      <td>Build a website for an Afghan business</td>\n",
              "      <td>NaN</td>\n",
              "      <td>1.0</td>\n",
              "      <td>Strengthening Communities</td>\n",
              "      <td>...</td>\n",
              "      <td>February 01 2011</td>\n",
              "      <td>approved</td>\n",
              "      <td>NaN</td>\n",
              "      <td>NaN</td>\n",
              "      <td>NaN</td>\n",
              "      <td>NaN</td>\n",
              "      <td>NaN</td>\n",
              "      <td>NaN</td>\n",
              "      <td>NaN</td>\n",
              "      <td>NaN</td>\n",
              "    </tr>\n",
              "  </tbody>\n",
              "</table>\n",
              "<p>2 rows × 35 columns</p>\n",
              "</div>\n",
              "      <button class=\"colab-df-convert\" onclick=\"convertToInteractive('df-ca095efa-56a7-4279-871d-19811fcf0913')\"\n",
              "              title=\"Convert this dataframe to an interactive table.\"\n",
              "              style=\"display:none;\">\n",
              "        \n",
              "  <svg xmlns=\"http://www.w3.org/2000/svg\" height=\"24px\"viewBox=\"0 0 24 24\"\n",
              "       width=\"24px\">\n",
              "    <path d=\"M0 0h24v24H0V0z\" fill=\"none\"/>\n",
              "    <path d=\"M18.56 5.44l.94 2.06.94-2.06 2.06-.94-2.06-.94-.94-2.06-.94 2.06-2.06.94zm-11 1L8.5 8.5l.94-2.06 2.06-.94-2.06-.94L8.5 2.5l-.94 2.06-2.06.94zm10 10l.94 2.06.94-2.06 2.06-.94-2.06-.94-.94-2.06-.94 2.06-2.06.94z\"/><path d=\"M17.41 7.96l-1.37-1.37c-.4-.4-.92-.59-1.43-.59-.52 0-1.04.2-1.43.59L10.3 9.45l-7.72 7.72c-.78.78-.78 2.05 0 2.83L4 21.41c.39.39.9.59 1.41.59.51 0 1.02-.2 1.41-.59l7.78-7.78 2.81-2.81c.8-.78.8-2.07 0-2.86zM5.41 20L4 18.59l7.72-7.72 1.47 1.35L5.41 20z\"/>\n",
              "  </svg>\n",
              "      </button>\n",
              "      \n",
              "  <style>\n",
              "    .colab-df-container {\n",
              "      display:flex;\n",
              "      flex-wrap:wrap;\n",
              "      gap: 12px;\n",
              "    }\n",
              "\n",
              "    .colab-df-convert {\n",
              "      background-color: #E8F0FE;\n",
              "      border: none;\n",
              "      border-radius: 50%;\n",
              "      cursor: pointer;\n",
              "      display: none;\n",
              "      fill: #1967D2;\n",
              "      height: 32px;\n",
              "      padding: 0 0 0 0;\n",
              "      width: 32px;\n",
              "    }\n",
              "\n",
              "    .colab-df-convert:hover {\n",
              "      background-color: #E2EBFA;\n",
              "      box-shadow: 0px 1px 2px rgba(60, 64, 67, 0.3), 0px 1px 3px 1px rgba(60, 64, 67, 0.15);\n",
              "      fill: #174EA6;\n",
              "    }\n",
              "\n",
              "    [theme=dark] .colab-df-convert {\n",
              "      background-color: #3B4455;\n",
              "      fill: #D2E3FC;\n",
              "    }\n",
              "\n",
              "    [theme=dark] .colab-df-convert:hover {\n",
              "      background-color: #434B5C;\n",
              "      box-shadow: 0px 1px 3px 1px rgba(0, 0, 0, 0.15);\n",
              "      filter: drop-shadow(0px 1px 2px rgba(0, 0, 0, 0.3));\n",
              "      fill: #FFFFFF;\n",
              "    }\n",
              "  </style>\n",
              "\n",
              "      <script>\n",
              "        const buttonEl =\n",
              "          document.querySelector('#df-ca095efa-56a7-4279-871d-19811fcf0913 button.colab-df-convert');\n",
              "        buttonEl.style.display =\n",
              "          google.colab.kernel.accessAllowed ? 'block' : 'none';\n",
              "\n",
              "        async function convertToInteractive(key) {\n",
              "          const element = document.querySelector('#df-ca095efa-56a7-4279-871d-19811fcf0913');\n",
              "          const dataTable =\n",
              "            await google.colab.kernel.invokeFunction('convertToInteractive',\n",
              "                                                     [key], {});\n",
              "          if (!dataTable) return;\n",
              "\n",
              "          const docLinkHtml = 'Like what you see? Visit the ' +\n",
              "            '<a target=\"_blank\" href=https://colab.research.google.com/notebooks/data_table.ipynb>data table notebook</a>'\n",
              "            + ' to learn more about interactive tables.';\n",
              "          element.innerHTML = '';\n",
              "          dataTable['output_type'] = 'display_data';\n",
              "          await google.colab.output.renderOutput(dataTable, element);\n",
              "          const docLink = document.createElement('div');\n",
              "          docLink.innerHTML = docLinkHtml;\n",
              "          element.appendChild(docLink);\n",
              "        }\n",
              "      </script>\n",
              "    </div>\n",
              "  </div>\n",
              "  "
            ]
          },
          "metadata": {}
        },
        {
          "output_type": "stream",
          "name": "stdout",
          "text": [
            "\n",
            "\n",
            "========================================================================================================================================================================================================\n",
            "ufo_dataframe:\n"
          ]
        },
        {
          "output_type": "display_data",
          "data": {
            "text/plain": [
              "              date       city state country     type    seconds  \\\n",
              "0  11/3/2011 19:21  woodville    wi      us  unknown  1209600.0   \n",
              "1  10/3/2004 19:05  cleveland    oh      us   circle       30.0   \n",
              "\n",
              "  length_of_time                                               desc  \\\n",
              "0        2 weeks  Red blinking objects similar to airplanes or s...   \n",
              "1         30sec.               Many fighter jets flying towards UFO   \n",
              "\n",
              "     recorded         lat       long  \n",
              "0  12/12/2011  44.9530556 -92.291111  \n",
              "1  10/27/2004  41.4994444 -81.695556  "
            ],
            "text/html": [
              "\n",
              "  <div id=\"df-5084d0f2-86bb-4d7f-9217-a888a6c9f9ea\">\n",
              "    <div class=\"colab-df-container\">\n",
              "      <div>\n",
              "<style scoped>\n",
              "    .dataframe tbody tr th:only-of-type {\n",
              "        vertical-align: middle;\n",
              "    }\n",
              "\n",
              "    .dataframe tbody tr th {\n",
              "        vertical-align: top;\n",
              "    }\n",
              "\n",
              "    .dataframe thead th {\n",
              "        text-align: right;\n",
              "    }\n",
              "</style>\n",
              "<table border=\"1\" class=\"dataframe\">\n",
              "  <thead>\n",
              "    <tr style=\"text-align: right;\">\n",
              "      <th></th>\n",
              "      <th>date</th>\n",
              "      <th>city</th>\n",
              "      <th>state</th>\n",
              "      <th>country</th>\n",
              "      <th>type</th>\n",
              "      <th>seconds</th>\n",
              "      <th>length_of_time</th>\n",
              "      <th>desc</th>\n",
              "      <th>recorded</th>\n",
              "      <th>lat</th>\n",
              "      <th>long</th>\n",
              "    </tr>\n",
              "  </thead>\n",
              "  <tbody>\n",
              "    <tr>\n",
              "      <th>0</th>\n",
              "      <td>11/3/2011 19:21</td>\n",
              "      <td>woodville</td>\n",
              "      <td>wi</td>\n",
              "      <td>us</td>\n",
              "      <td>unknown</td>\n",
              "      <td>1209600.0</td>\n",
              "      <td>2 weeks</td>\n",
              "      <td>Red blinking objects similar to airplanes or s...</td>\n",
              "      <td>12/12/2011</td>\n",
              "      <td>44.9530556</td>\n",
              "      <td>-92.291111</td>\n",
              "    </tr>\n",
              "    <tr>\n",
              "      <th>1</th>\n",
              "      <td>10/3/2004 19:05</td>\n",
              "      <td>cleveland</td>\n",
              "      <td>oh</td>\n",
              "      <td>us</td>\n",
              "      <td>circle</td>\n",
              "      <td>30.0</td>\n",
              "      <td>30sec.</td>\n",
              "      <td>Many fighter jets flying towards UFO</td>\n",
              "      <td>10/27/2004</td>\n",
              "      <td>41.4994444</td>\n",
              "      <td>-81.695556</td>\n",
              "    </tr>\n",
              "  </tbody>\n",
              "</table>\n",
              "</div>\n",
              "      <button class=\"colab-df-convert\" onclick=\"convertToInteractive('df-5084d0f2-86bb-4d7f-9217-a888a6c9f9ea')\"\n",
              "              title=\"Convert this dataframe to an interactive table.\"\n",
              "              style=\"display:none;\">\n",
              "        \n",
              "  <svg xmlns=\"http://www.w3.org/2000/svg\" height=\"24px\"viewBox=\"0 0 24 24\"\n",
              "       width=\"24px\">\n",
              "    <path d=\"M0 0h24v24H0V0z\" fill=\"none\"/>\n",
              "    <path d=\"M18.56 5.44l.94 2.06.94-2.06 2.06-.94-2.06-.94-.94-2.06-.94 2.06-2.06.94zm-11 1L8.5 8.5l.94-2.06 2.06-.94-2.06-.94L8.5 2.5l-.94 2.06-2.06.94zm10 10l.94 2.06.94-2.06 2.06-.94-2.06-.94-.94-2.06-.94 2.06-2.06.94z\"/><path d=\"M17.41 7.96l-1.37-1.37c-.4-.4-.92-.59-1.43-.59-.52 0-1.04.2-1.43.59L10.3 9.45l-7.72 7.72c-.78.78-.78 2.05 0 2.83L4 21.41c.39.39.9.59 1.41.59.51 0 1.02-.2 1.41-.59l7.78-7.78 2.81-2.81c.8-.78.8-2.07 0-2.86zM5.41 20L4 18.59l7.72-7.72 1.47 1.35L5.41 20z\"/>\n",
              "  </svg>\n",
              "      </button>\n",
              "      \n",
              "  <style>\n",
              "    .colab-df-container {\n",
              "      display:flex;\n",
              "      flex-wrap:wrap;\n",
              "      gap: 12px;\n",
              "    }\n",
              "\n",
              "    .colab-df-convert {\n",
              "      background-color: #E8F0FE;\n",
              "      border: none;\n",
              "      border-radius: 50%;\n",
              "      cursor: pointer;\n",
              "      display: none;\n",
              "      fill: #1967D2;\n",
              "      height: 32px;\n",
              "      padding: 0 0 0 0;\n",
              "      width: 32px;\n",
              "    }\n",
              "\n",
              "    .colab-df-convert:hover {\n",
              "      background-color: #E2EBFA;\n",
              "      box-shadow: 0px 1px 2px rgba(60, 64, 67, 0.3), 0px 1px 3px 1px rgba(60, 64, 67, 0.15);\n",
              "      fill: #174EA6;\n",
              "    }\n",
              "\n",
              "    [theme=dark] .colab-df-convert {\n",
              "      background-color: #3B4455;\n",
              "      fill: #D2E3FC;\n",
              "    }\n",
              "\n",
              "    [theme=dark] .colab-df-convert:hover {\n",
              "      background-color: #434B5C;\n",
              "      box-shadow: 0px 1px 3px 1px rgba(0, 0, 0, 0.15);\n",
              "      filter: drop-shadow(0px 1px 2px rgba(0, 0, 0, 0.3));\n",
              "      fill: #FFFFFF;\n",
              "    }\n",
              "  </style>\n",
              "\n",
              "      <script>\n",
              "        const buttonEl =\n",
              "          document.querySelector('#df-5084d0f2-86bb-4d7f-9217-a888a6c9f9ea button.colab-df-convert');\n",
              "        buttonEl.style.display =\n",
              "          google.colab.kernel.accessAllowed ? 'block' : 'none';\n",
              "\n",
              "        async function convertToInteractive(key) {\n",
              "          const element = document.querySelector('#df-5084d0f2-86bb-4d7f-9217-a888a6c9f9ea');\n",
              "          const dataTable =\n",
              "            await google.colab.kernel.invokeFunction('convertToInteractive',\n",
              "                                                     [key], {});\n",
              "          if (!dataTable) return;\n",
              "\n",
              "          const docLinkHtml = 'Like what you see? Visit the ' +\n",
              "            '<a target=\"_blank\" href=https://colab.research.google.com/notebooks/data_table.ipynb>data table notebook</a>'\n",
              "            + ' to learn more about interactive tables.';\n",
              "          element.innerHTML = '';\n",
              "          dataTable['output_type'] = 'display_data';\n",
              "          await google.colab.output.renderOutput(dataTable, element);\n",
              "          const docLink = document.createElement('div');\n",
              "          docLink.innerHTML = docLinkHtml;\n",
              "          element.appendChild(docLink);\n",
              "        }\n",
              "      </script>\n",
              "    </div>\n",
              "  </div>\n",
              "  "
            ]
          },
          "metadata": {}
        },
        {
          "output_type": "stream",
          "name": "stdout",
          "text": [
            "\n",
            "\n",
            "========================================================================================================================================================================================================\n",
            "wine_dataframe:\n"
          ]
        },
        {
          "output_type": "display_data",
          "data": {
            "text/plain": [
              "   Type  Alcohol  Malic acid   Ash  Alcalinity of ash  Magnesium  \\\n",
              "0     1    14.23        1.71  2.43               15.6        127   \n",
              "1     1    13.20        1.78  2.14               11.2        100   \n",
              "\n",
              "   Total phenols  Flavanoids  Nonflavanoid phenols  Proanthocyanins  \\\n",
              "0           2.80        3.06                  0.28             2.29   \n",
              "1           2.65        2.76                  0.26             1.28   \n",
              "\n",
              "   Color intensity   Hue  OD280/OD315 of diluted wines  Proline  \n",
              "0             5.64  1.04                          3.92     1065  \n",
              "1             4.38  1.05                          3.40     1050  "
            ],
            "text/html": [
              "\n",
              "  <div id=\"df-3a78a652-66a1-4886-bd77-c67e72413947\">\n",
              "    <div class=\"colab-df-container\">\n",
              "      <div>\n",
              "<style scoped>\n",
              "    .dataframe tbody tr th:only-of-type {\n",
              "        vertical-align: middle;\n",
              "    }\n",
              "\n",
              "    .dataframe tbody tr th {\n",
              "        vertical-align: top;\n",
              "    }\n",
              "\n",
              "    .dataframe thead th {\n",
              "        text-align: right;\n",
              "    }\n",
              "</style>\n",
              "<table border=\"1\" class=\"dataframe\">\n",
              "  <thead>\n",
              "    <tr style=\"text-align: right;\">\n",
              "      <th></th>\n",
              "      <th>Type</th>\n",
              "      <th>Alcohol</th>\n",
              "      <th>Malic acid</th>\n",
              "      <th>Ash</th>\n",
              "      <th>Alcalinity of ash</th>\n",
              "      <th>Magnesium</th>\n",
              "      <th>Total phenols</th>\n",
              "      <th>Flavanoids</th>\n",
              "      <th>Nonflavanoid phenols</th>\n",
              "      <th>Proanthocyanins</th>\n",
              "      <th>Color intensity</th>\n",
              "      <th>Hue</th>\n",
              "      <th>OD280/OD315 of diluted wines</th>\n",
              "      <th>Proline</th>\n",
              "    </tr>\n",
              "  </thead>\n",
              "  <tbody>\n",
              "    <tr>\n",
              "      <th>0</th>\n",
              "      <td>1</td>\n",
              "      <td>14.23</td>\n",
              "      <td>1.71</td>\n",
              "      <td>2.43</td>\n",
              "      <td>15.6</td>\n",
              "      <td>127</td>\n",
              "      <td>2.80</td>\n",
              "      <td>3.06</td>\n",
              "      <td>0.28</td>\n",
              "      <td>2.29</td>\n",
              "      <td>5.64</td>\n",
              "      <td>1.04</td>\n",
              "      <td>3.92</td>\n",
              "      <td>1065</td>\n",
              "    </tr>\n",
              "    <tr>\n",
              "      <th>1</th>\n",
              "      <td>1</td>\n",
              "      <td>13.20</td>\n",
              "      <td>1.78</td>\n",
              "      <td>2.14</td>\n",
              "      <td>11.2</td>\n",
              "      <td>100</td>\n",
              "      <td>2.65</td>\n",
              "      <td>2.76</td>\n",
              "      <td>0.26</td>\n",
              "      <td>1.28</td>\n",
              "      <td>4.38</td>\n",
              "      <td>1.05</td>\n",
              "      <td>3.40</td>\n",
              "      <td>1050</td>\n",
              "    </tr>\n",
              "  </tbody>\n",
              "</table>\n",
              "</div>\n",
              "      <button class=\"colab-df-convert\" onclick=\"convertToInteractive('df-3a78a652-66a1-4886-bd77-c67e72413947')\"\n",
              "              title=\"Convert this dataframe to an interactive table.\"\n",
              "              style=\"display:none;\">\n",
              "        \n",
              "  <svg xmlns=\"http://www.w3.org/2000/svg\" height=\"24px\"viewBox=\"0 0 24 24\"\n",
              "       width=\"24px\">\n",
              "    <path d=\"M0 0h24v24H0V0z\" fill=\"none\"/>\n",
              "    <path d=\"M18.56 5.44l.94 2.06.94-2.06 2.06-.94-2.06-.94-.94-2.06-.94 2.06-2.06.94zm-11 1L8.5 8.5l.94-2.06 2.06-.94-2.06-.94L8.5 2.5l-.94 2.06-2.06.94zm10 10l.94 2.06.94-2.06 2.06-.94-2.06-.94-.94-2.06-.94 2.06-2.06.94z\"/><path d=\"M17.41 7.96l-1.37-1.37c-.4-.4-.92-.59-1.43-.59-.52 0-1.04.2-1.43.59L10.3 9.45l-7.72 7.72c-.78.78-.78 2.05 0 2.83L4 21.41c.39.39.9.59 1.41.59.51 0 1.02-.2 1.41-.59l7.78-7.78 2.81-2.81c.8-.78.8-2.07 0-2.86zM5.41 20L4 18.59l7.72-7.72 1.47 1.35L5.41 20z\"/>\n",
              "  </svg>\n",
              "      </button>\n",
              "      \n",
              "  <style>\n",
              "    .colab-df-container {\n",
              "      display:flex;\n",
              "      flex-wrap:wrap;\n",
              "      gap: 12px;\n",
              "    }\n",
              "\n",
              "    .colab-df-convert {\n",
              "      background-color: #E8F0FE;\n",
              "      border: none;\n",
              "      border-radius: 50%;\n",
              "      cursor: pointer;\n",
              "      display: none;\n",
              "      fill: #1967D2;\n",
              "      height: 32px;\n",
              "      padding: 0 0 0 0;\n",
              "      width: 32px;\n",
              "    }\n",
              "\n",
              "    .colab-df-convert:hover {\n",
              "      background-color: #E2EBFA;\n",
              "      box-shadow: 0px 1px 2px rgba(60, 64, 67, 0.3), 0px 1px 3px 1px rgba(60, 64, 67, 0.15);\n",
              "      fill: #174EA6;\n",
              "    }\n",
              "\n",
              "    [theme=dark] .colab-df-convert {\n",
              "      background-color: #3B4455;\n",
              "      fill: #D2E3FC;\n",
              "    }\n",
              "\n",
              "    [theme=dark] .colab-df-convert:hover {\n",
              "      background-color: #434B5C;\n",
              "      box-shadow: 0px 1px 3px 1px rgba(0, 0, 0, 0.15);\n",
              "      filter: drop-shadow(0px 1px 2px rgba(0, 0, 0, 0.3));\n",
              "      fill: #FFFFFF;\n",
              "    }\n",
              "  </style>\n",
              "\n",
              "      <script>\n",
              "        const buttonEl =\n",
              "          document.querySelector('#df-3a78a652-66a1-4886-bd77-c67e72413947 button.colab-df-convert');\n",
              "        buttonEl.style.display =\n",
              "          google.colab.kernel.accessAllowed ? 'block' : 'none';\n",
              "\n",
              "        async function convertToInteractive(key) {\n",
              "          const element = document.querySelector('#df-3a78a652-66a1-4886-bd77-c67e72413947');\n",
              "          const dataTable =\n",
              "            await google.colab.kernel.invokeFunction('convertToInteractive',\n",
              "                                                     [key], {});\n",
              "          if (!dataTable) return;\n",
              "\n",
              "          const docLinkHtml = 'Like what you see? Visit the ' +\n",
              "            '<a target=\"_blank\" href=https://colab.research.google.com/notebooks/data_table.ipynb>data table notebook</a>'\n",
              "            + ' to learn more about interactive tables.';\n",
              "          element.innerHTML = '';\n",
              "          dataTable['output_type'] = 'display_data';\n",
              "          await google.colab.output.renderOutput(dataTable, element);\n",
              "          const docLink = document.createElement('div');\n",
              "          docLink.innerHTML = docLinkHtml;\n",
              "          element.appendChild(docLink);\n",
              "        }\n",
              "      </script>\n",
              "    </div>\n",
              "  </div>\n",
              "  "
            ]
          },
          "metadata": {}
        },
        {
          "output_type": "stream",
          "name": "stdout",
          "text": [
            "\n",
            "\n",
            "========================================================================================================================================================================================================\n"
          ]
        }
      ]
    },
    {
      "cell_type": "markdown",
      "metadata": {
        "id": "S2qBGIWZwLyj"
      },
      "source": [
        "# **1️⃣Introduction to Data Preprocessing**"
      ]
    },
    {
      "cell_type": "markdown",
      "source": [
        "## **Introduction to preprocessing**\n"
      ],
      "metadata": {
        "id": "5fdeoCpIxPuD"
      }
    },
    {
      "cell_type": "markdown",
      "source": [
        ">**Preparing data for modeling**\n",
        "\n",
        "- `Example`: Transforming categorical features into `numerical features` (`dummy variables`)\n",
        "\n",
        "\n",
        "**Transform dataset so it's suitable for modeling:**\n",
        "- Improve model performance\n",
        "- Generate more reliable results\n"
      ],
      "metadata": {
        "id": "uOnf76ZV3Vns"
      }
    },
    {
      "cell_type": "markdown",
      "source": [
        "#### **Exploring missing data**\n"
      ],
      "metadata": {
        "id": "KZIY4v8yxiVq"
      }
    },
    {
      "cell_type": "code",
      "source": [
        "volunteer_df.info()"
      ],
      "metadata": {
        "colab": {
          "base_uri": "https://localhost:8080/"
        },
        "id": "ui4dnVxl5_zT",
        "outputId": "ad834553-20e3-4265-856f-817e0298e24b"
      },
      "execution_count": 7,
      "outputs": [
        {
          "output_type": "stream",
          "name": "stdout",
          "text": [
            "<class 'pandas.core.frame.DataFrame'>\n",
            "RangeIndex: 665 entries, 0 to 664\n",
            "Data columns (total 35 columns):\n",
            " #   Column              Non-Null Count  Dtype  \n",
            "---  ------              --------------  -----  \n",
            " 0   opportunity_id      665 non-null    int64  \n",
            " 1   content_id          665 non-null    int64  \n",
            " 2   vol_requests        665 non-null    int64  \n",
            " 3   event_time          665 non-null    int64  \n",
            " 4   title               665 non-null    object \n",
            " 5   hits                665 non-null    int64  \n",
            " 6   summary             665 non-null    object \n",
            " 7   is_priority         62 non-null     object \n",
            " 8   category_id         617 non-null    float64\n",
            " 9   category_desc       617 non-null    object \n",
            " 10  amsl                0 non-null      float64\n",
            " 11  amsl_unit           0 non-null      float64\n",
            " 12  org_title           665 non-null    object \n",
            " 13  org_content_id      665 non-null    int64  \n",
            " 14  addresses_count     665 non-null    int64  \n",
            " 15  locality            595 non-null    object \n",
            " 16  region              665 non-null    object \n",
            " 17  postalcode          659 non-null    float64\n",
            " 18  primary_loc         0 non-null      float64\n",
            " 19  display_url         665 non-null    object \n",
            " 20  recurrence_type     665 non-null    object \n",
            " 21  hours               665 non-null    int64  \n",
            " 22  created_date        665 non-null    object \n",
            " 23  last_modified_date  665 non-null    object \n",
            " 24  start_date_date     665 non-null    object \n",
            " 25  end_date_date       665 non-null    object \n",
            " 26  status              665 non-null    object \n",
            " 27  Latitude            0 non-null      float64\n",
            " 28  Longitude           0 non-null      float64\n",
            " 29  Community Board     0 non-null      float64\n",
            " 30  Community Council   0 non-null      float64\n",
            " 31  Census Tract        0 non-null      float64\n",
            " 32  BIN                 0 non-null      float64\n",
            " 33  BBL                 0 non-null      float64\n",
            " 34  NTA                 0 non-null      float64\n",
            "dtypes: float64(13), int64(8), object(14)\n",
            "memory usage: 182.0+ KB\n"
          ]
        }
      ]
    },
    {
      "cell_type": "markdown",
      "source": [
        "How many missing values are in the `locality` column?\n",
        "\n",
        "- `15  locality 595 non-null    object`"
      ],
      "metadata": {
        "id": "JUYC1xcn6Vvm"
      }
    },
    {
      "cell_type": "code",
      "source": [
        "hiking_df.head()"
      ],
      "metadata": {
        "colab": {
          "base_uri": "https://localhost:8080/",
          "height": 250
        },
        "id": "JVjgxKiX0MQL",
        "outputId": "124ccff0-7f47-4a12-d899-87418758a85b"
      },
      "execution_count": 8,
      "outputs": [
        {
          "output_type": "execute_result",
          "data": {
            "text/plain": [
              "  Prop_ID                     Name  \\\n",
              "0    B057  Salt Marsh Nature Trail   \n",
              "1    B073                Lullwater   \n",
              "2    B073                  Midwood   \n",
              "3    B073                Peninsula   \n",
              "4    B073                Waterfall   \n",
              "\n",
              "                                            Location      Park_Name  \\\n",
              "0  Enter behind the Salt Marsh Nature Center, loc...    Marine Park   \n",
              "1  Enter Park at Lincoln Road and Ocean Avenue en...  Prospect Park   \n",
              "2  Enter Park at Lincoln Road and Ocean Avenue en...  Prospect Park   \n",
              "3  Enter Park at Lincoln Road and Ocean Avenue en...  Prospect Park   \n",
              "4  Enter Park at Lincoln Road and Ocean Avenue en...  Prospect Park   \n",
              "\n",
              "       Length Difficulty                                      Other_Details  \\\n",
              "0   0.8 miles       None  <p>The first half of this mile-long trail foll...   \n",
              "1    1.0 mile       Easy  Explore the Lullwater to see how nature thrive...   \n",
              "2  0.75 miles       Easy  Step back in time with a walk through Brooklyn...   \n",
              "3   0.5 miles       Easy  Discover how the Peninsula has changed over th...   \n",
              "4   0.5 miles       Easy  Trace the source of the Lake on the Waterfall ...   \n",
              "\n",
              "  Accessible Limited_Access  lat  lon  \n",
              "0          Y              N  NaN  NaN  \n",
              "1          N              N  NaN  NaN  \n",
              "2          N              N  NaN  NaN  \n",
              "3          N              N  NaN  NaN  \n",
              "4          N              N  NaN  NaN  "
            ],
            "text/html": [
              "\n",
              "  <div id=\"df-269602e0-6fd8-47e0-bb7e-a085eaa4020f\">\n",
              "    <div class=\"colab-df-container\">\n",
              "      <div>\n",
              "<style scoped>\n",
              "    .dataframe tbody tr th:only-of-type {\n",
              "        vertical-align: middle;\n",
              "    }\n",
              "\n",
              "    .dataframe tbody tr th {\n",
              "        vertical-align: top;\n",
              "    }\n",
              "\n",
              "    .dataframe thead th {\n",
              "        text-align: right;\n",
              "    }\n",
              "</style>\n",
              "<table border=\"1\" class=\"dataframe\">\n",
              "  <thead>\n",
              "    <tr style=\"text-align: right;\">\n",
              "      <th></th>\n",
              "      <th>Prop_ID</th>\n",
              "      <th>Name</th>\n",
              "      <th>Location</th>\n",
              "      <th>Park_Name</th>\n",
              "      <th>Length</th>\n",
              "      <th>Difficulty</th>\n",
              "      <th>Other_Details</th>\n",
              "      <th>Accessible</th>\n",
              "      <th>Limited_Access</th>\n",
              "      <th>lat</th>\n",
              "      <th>lon</th>\n",
              "    </tr>\n",
              "  </thead>\n",
              "  <tbody>\n",
              "    <tr>\n",
              "      <th>0</th>\n",
              "      <td>B057</td>\n",
              "      <td>Salt Marsh Nature Trail</td>\n",
              "      <td>Enter behind the Salt Marsh Nature Center, loc...</td>\n",
              "      <td>Marine Park</td>\n",
              "      <td>0.8 miles</td>\n",
              "      <td>None</td>\n",
              "      <td>&lt;p&gt;The first half of this mile-long trail foll...</td>\n",
              "      <td>Y</td>\n",
              "      <td>N</td>\n",
              "      <td>NaN</td>\n",
              "      <td>NaN</td>\n",
              "    </tr>\n",
              "    <tr>\n",
              "      <th>1</th>\n",
              "      <td>B073</td>\n",
              "      <td>Lullwater</td>\n",
              "      <td>Enter Park at Lincoln Road and Ocean Avenue en...</td>\n",
              "      <td>Prospect Park</td>\n",
              "      <td>1.0 mile</td>\n",
              "      <td>Easy</td>\n",
              "      <td>Explore the Lullwater to see how nature thrive...</td>\n",
              "      <td>N</td>\n",
              "      <td>N</td>\n",
              "      <td>NaN</td>\n",
              "      <td>NaN</td>\n",
              "    </tr>\n",
              "    <tr>\n",
              "      <th>2</th>\n",
              "      <td>B073</td>\n",
              "      <td>Midwood</td>\n",
              "      <td>Enter Park at Lincoln Road and Ocean Avenue en...</td>\n",
              "      <td>Prospect Park</td>\n",
              "      <td>0.75 miles</td>\n",
              "      <td>Easy</td>\n",
              "      <td>Step back in time with a walk through Brooklyn...</td>\n",
              "      <td>N</td>\n",
              "      <td>N</td>\n",
              "      <td>NaN</td>\n",
              "      <td>NaN</td>\n",
              "    </tr>\n",
              "    <tr>\n",
              "      <th>3</th>\n",
              "      <td>B073</td>\n",
              "      <td>Peninsula</td>\n",
              "      <td>Enter Park at Lincoln Road and Ocean Avenue en...</td>\n",
              "      <td>Prospect Park</td>\n",
              "      <td>0.5 miles</td>\n",
              "      <td>Easy</td>\n",
              "      <td>Discover how the Peninsula has changed over th...</td>\n",
              "      <td>N</td>\n",
              "      <td>N</td>\n",
              "      <td>NaN</td>\n",
              "      <td>NaN</td>\n",
              "    </tr>\n",
              "    <tr>\n",
              "      <th>4</th>\n",
              "      <td>B073</td>\n",
              "      <td>Waterfall</td>\n",
              "      <td>Enter Park at Lincoln Road and Ocean Avenue en...</td>\n",
              "      <td>Prospect Park</td>\n",
              "      <td>0.5 miles</td>\n",
              "      <td>Easy</td>\n",
              "      <td>Trace the source of the Lake on the Waterfall ...</td>\n",
              "      <td>N</td>\n",
              "      <td>N</td>\n",
              "      <td>NaN</td>\n",
              "      <td>NaN</td>\n",
              "    </tr>\n",
              "  </tbody>\n",
              "</table>\n",
              "</div>\n",
              "      <button class=\"colab-df-convert\" onclick=\"convertToInteractive('df-269602e0-6fd8-47e0-bb7e-a085eaa4020f')\"\n",
              "              title=\"Convert this dataframe to an interactive table.\"\n",
              "              style=\"display:none;\">\n",
              "        \n",
              "  <svg xmlns=\"http://www.w3.org/2000/svg\" height=\"24px\"viewBox=\"0 0 24 24\"\n",
              "       width=\"24px\">\n",
              "    <path d=\"M0 0h24v24H0V0z\" fill=\"none\"/>\n",
              "    <path d=\"M18.56 5.44l.94 2.06.94-2.06 2.06-.94-2.06-.94-.94-2.06-.94 2.06-2.06.94zm-11 1L8.5 8.5l.94-2.06 2.06-.94-2.06-.94L8.5 2.5l-.94 2.06-2.06.94zm10 10l.94 2.06.94-2.06 2.06-.94-2.06-.94-.94-2.06-.94 2.06-2.06.94z\"/><path d=\"M17.41 7.96l-1.37-1.37c-.4-.4-.92-.59-1.43-.59-.52 0-1.04.2-1.43.59L10.3 9.45l-7.72 7.72c-.78.78-.78 2.05 0 2.83L4 21.41c.39.39.9.59 1.41.59.51 0 1.02-.2 1.41-.59l7.78-7.78 2.81-2.81c.8-.78.8-2.07 0-2.86zM5.41 20L4 18.59l7.72-7.72 1.47 1.35L5.41 20z\"/>\n",
              "  </svg>\n",
              "      </button>\n",
              "      \n",
              "  <style>\n",
              "    .colab-df-container {\n",
              "      display:flex;\n",
              "      flex-wrap:wrap;\n",
              "      gap: 12px;\n",
              "    }\n",
              "\n",
              "    .colab-df-convert {\n",
              "      background-color: #E8F0FE;\n",
              "      border: none;\n",
              "      border-radius: 50%;\n",
              "      cursor: pointer;\n",
              "      display: none;\n",
              "      fill: #1967D2;\n",
              "      height: 32px;\n",
              "      padding: 0 0 0 0;\n",
              "      width: 32px;\n",
              "    }\n",
              "\n",
              "    .colab-df-convert:hover {\n",
              "      background-color: #E2EBFA;\n",
              "      box-shadow: 0px 1px 2px rgba(60, 64, 67, 0.3), 0px 1px 3px 1px rgba(60, 64, 67, 0.15);\n",
              "      fill: #174EA6;\n",
              "    }\n",
              "\n",
              "    [theme=dark] .colab-df-convert {\n",
              "      background-color: #3B4455;\n",
              "      fill: #D2E3FC;\n",
              "    }\n",
              "\n",
              "    [theme=dark] .colab-df-convert:hover {\n",
              "      background-color: #434B5C;\n",
              "      box-shadow: 0px 1px 3px 1px rgba(0, 0, 0, 0.15);\n",
              "      filter: drop-shadow(0px 1px 2px rgba(0, 0, 0, 0.3));\n",
              "      fill: #FFFFFF;\n",
              "    }\n",
              "  </style>\n",
              "\n",
              "      <script>\n",
              "        const buttonEl =\n",
              "          document.querySelector('#df-269602e0-6fd8-47e0-bb7e-a085eaa4020f button.colab-df-convert');\n",
              "        buttonEl.style.display =\n",
              "          google.colab.kernel.accessAllowed ? 'block' : 'none';\n",
              "\n",
              "        async function convertToInteractive(key) {\n",
              "          const element = document.querySelector('#df-269602e0-6fd8-47e0-bb7e-a085eaa4020f');\n",
              "          const dataTable =\n",
              "            await google.colab.kernel.invokeFunction('convertToInteractive',\n",
              "                                                     [key], {});\n",
              "          if (!dataTable) return;\n",
              "\n",
              "          const docLinkHtml = 'Like what you see? Visit the ' +\n",
              "            '<a target=\"_blank\" href=https://colab.research.google.com/notebooks/data_table.ipynb>data table notebook</a>'\n",
              "            + ' to learn more about interactive tables.';\n",
              "          element.innerHTML = '';\n",
              "          dataTable['output_type'] = 'display_data';\n",
              "          await google.colab.output.renderOutput(dataTable, element);\n",
              "          const docLink = document.createElement('div');\n",
              "          docLink.innerHTML = docLinkHtml;\n",
              "          element.appendChild(docLink);\n",
              "        }\n",
              "      </script>\n",
              "    </div>\n",
              "  </div>\n",
              "  "
            ]
          },
          "metadata": {},
          "execution_count": 8
        }
      ]
    },
    {
      "cell_type": "code",
      "source": [
        "hiking_df.info()"
      ],
      "metadata": {
        "colab": {
          "base_uri": "https://localhost:8080/"
        },
        "id": "WXCD2T2B0Wnq",
        "outputId": "4beef16c-3b22-49fb-ec2e-ec5d31542d30"
      },
      "execution_count": 9,
      "outputs": [
        {
          "output_type": "stream",
          "name": "stdout",
          "text": [
            "<class 'pandas.core.frame.DataFrame'>\n",
            "RangeIndex: 33 entries, 0 to 32\n",
            "Data columns (total 11 columns):\n",
            " #   Column          Non-Null Count  Dtype  \n",
            "---  ------          --------------  -----  \n",
            " 0   Prop_ID         33 non-null     object \n",
            " 1   Name            33 non-null     object \n",
            " 2   Location        33 non-null     object \n",
            " 3   Park_Name       33 non-null     object \n",
            " 4   Length          29 non-null     object \n",
            " 5   Difficulty      27 non-null     object \n",
            " 6   Other_Details   31 non-null     object \n",
            " 7   Accessible      33 non-null     object \n",
            " 8   Limited_Access  33 non-null     object \n",
            " 9   lat             0 non-null      float64\n",
            " 10  lon             0 non-null      float64\n",
            "dtypes: float64(2), object(9)\n",
            "memory usage: 3.0+ KB\n"
          ]
        }
      ]
    },
    {
      "cell_type": "code",
      "source": [
        "wine_df.describe()"
      ],
      "metadata": {
        "colab": {
          "base_uri": "https://localhost:8080/",
          "height": 362
        },
        "id": "EJq76oB_0gpT",
        "outputId": "8400f964-aab9-42b9-b589-ed456e155635"
      },
      "execution_count": 10,
      "outputs": [
        {
          "output_type": "execute_result",
          "data": {
            "text/plain": [
              "             Type     Alcohol  Malic acid         Ash  Alcalinity of ash  \\\n",
              "count  178.000000  178.000000  178.000000  178.000000         178.000000   \n",
              "mean     1.938202   13.000618    2.336348    2.366517          19.494944   \n",
              "std      0.775035    0.811827    1.117146    0.274344           3.339564   \n",
              "min      1.000000   11.030000    0.740000    1.360000          10.600000   \n",
              "25%      1.000000   12.362500    1.602500    2.210000          17.200000   \n",
              "50%      2.000000   13.050000    1.865000    2.360000          19.500000   \n",
              "75%      3.000000   13.677500    3.082500    2.557500          21.500000   \n",
              "max      3.000000   14.830000    5.800000    3.230000          30.000000   \n",
              "\n",
              "        Magnesium  Total phenols  Flavanoids  Nonflavanoid phenols  \\\n",
              "count  178.000000     178.000000  178.000000            178.000000   \n",
              "mean    99.741573       2.295112    2.029270              0.361854   \n",
              "std     14.282484       0.625851    0.998859              0.124453   \n",
              "min     70.000000       0.980000    0.340000              0.130000   \n",
              "25%     88.000000       1.742500    1.205000              0.270000   \n",
              "50%     98.000000       2.355000    2.135000              0.340000   \n",
              "75%    107.000000       2.800000    2.875000              0.437500   \n",
              "max    162.000000       3.880000    5.080000              0.660000   \n",
              "\n",
              "       Proanthocyanins  Color intensity         Hue  \\\n",
              "count       178.000000       178.000000  178.000000   \n",
              "mean          1.590899         5.058090    0.957449   \n",
              "std           0.572359         2.318286    0.228572   \n",
              "min           0.410000         1.280000    0.480000   \n",
              "25%           1.250000         3.220000    0.782500   \n",
              "50%           1.555000         4.690000    0.965000   \n",
              "75%           1.950000         6.200000    1.120000   \n",
              "max           3.580000        13.000000    1.710000   \n",
              "\n",
              "       OD280/OD315 of diluted wines      Proline  \n",
              "count                    178.000000   178.000000  \n",
              "mean                       2.611685   746.893258  \n",
              "std                        0.709990   314.907474  \n",
              "min                        1.270000   278.000000  \n",
              "25%                        1.937500   500.500000  \n",
              "50%                        2.780000   673.500000  \n",
              "75%                        3.170000   985.000000  \n",
              "max                        4.000000  1680.000000  "
            ],
            "text/html": [
              "\n",
              "  <div id=\"df-541259cd-7d89-4952-8e51-41bd7ad328e4\">\n",
              "    <div class=\"colab-df-container\">\n",
              "      <div>\n",
              "<style scoped>\n",
              "    .dataframe tbody tr th:only-of-type {\n",
              "        vertical-align: middle;\n",
              "    }\n",
              "\n",
              "    .dataframe tbody tr th {\n",
              "        vertical-align: top;\n",
              "    }\n",
              "\n",
              "    .dataframe thead th {\n",
              "        text-align: right;\n",
              "    }\n",
              "</style>\n",
              "<table border=\"1\" class=\"dataframe\">\n",
              "  <thead>\n",
              "    <tr style=\"text-align: right;\">\n",
              "      <th></th>\n",
              "      <th>Type</th>\n",
              "      <th>Alcohol</th>\n",
              "      <th>Malic acid</th>\n",
              "      <th>Ash</th>\n",
              "      <th>Alcalinity of ash</th>\n",
              "      <th>Magnesium</th>\n",
              "      <th>Total phenols</th>\n",
              "      <th>Flavanoids</th>\n",
              "      <th>Nonflavanoid phenols</th>\n",
              "      <th>Proanthocyanins</th>\n",
              "      <th>Color intensity</th>\n",
              "      <th>Hue</th>\n",
              "      <th>OD280/OD315 of diluted wines</th>\n",
              "      <th>Proline</th>\n",
              "    </tr>\n",
              "  </thead>\n",
              "  <tbody>\n",
              "    <tr>\n",
              "      <th>count</th>\n",
              "      <td>178.000000</td>\n",
              "      <td>178.000000</td>\n",
              "      <td>178.000000</td>\n",
              "      <td>178.000000</td>\n",
              "      <td>178.000000</td>\n",
              "      <td>178.000000</td>\n",
              "      <td>178.000000</td>\n",
              "      <td>178.000000</td>\n",
              "      <td>178.000000</td>\n",
              "      <td>178.000000</td>\n",
              "      <td>178.000000</td>\n",
              "      <td>178.000000</td>\n",
              "      <td>178.000000</td>\n",
              "      <td>178.000000</td>\n",
              "    </tr>\n",
              "    <tr>\n",
              "      <th>mean</th>\n",
              "      <td>1.938202</td>\n",
              "      <td>13.000618</td>\n",
              "      <td>2.336348</td>\n",
              "      <td>2.366517</td>\n",
              "      <td>19.494944</td>\n",
              "      <td>99.741573</td>\n",
              "      <td>2.295112</td>\n",
              "      <td>2.029270</td>\n",
              "      <td>0.361854</td>\n",
              "      <td>1.590899</td>\n",
              "      <td>5.058090</td>\n",
              "      <td>0.957449</td>\n",
              "      <td>2.611685</td>\n",
              "      <td>746.893258</td>\n",
              "    </tr>\n",
              "    <tr>\n",
              "      <th>std</th>\n",
              "      <td>0.775035</td>\n",
              "      <td>0.811827</td>\n",
              "      <td>1.117146</td>\n",
              "      <td>0.274344</td>\n",
              "      <td>3.339564</td>\n",
              "      <td>14.282484</td>\n",
              "      <td>0.625851</td>\n",
              "      <td>0.998859</td>\n",
              "      <td>0.124453</td>\n",
              "      <td>0.572359</td>\n",
              "      <td>2.318286</td>\n",
              "      <td>0.228572</td>\n",
              "      <td>0.709990</td>\n",
              "      <td>314.907474</td>\n",
              "    </tr>\n",
              "    <tr>\n",
              "      <th>min</th>\n",
              "      <td>1.000000</td>\n",
              "      <td>11.030000</td>\n",
              "      <td>0.740000</td>\n",
              "      <td>1.360000</td>\n",
              "      <td>10.600000</td>\n",
              "      <td>70.000000</td>\n",
              "      <td>0.980000</td>\n",
              "      <td>0.340000</td>\n",
              "      <td>0.130000</td>\n",
              "      <td>0.410000</td>\n",
              "      <td>1.280000</td>\n",
              "      <td>0.480000</td>\n",
              "      <td>1.270000</td>\n",
              "      <td>278.000000</td>\n",
              "    </tr>\n",
              "    <tr>\n",
              "      <th>25%</th>\n",
              "      <td>1.000000</td>\n",
              "      <td>12.362500</td>\n",
              "      <td>1.602500</td>\n",
              "      <td>2.210000</td>\n",
              "      <td>17.200000</td>\n",
              "      <td>88.000000</td>\n",
              "      <td>1.742500</td>\n",
              "      <td>1.205000</td>\n",
              "      <td>0.270000</td>\n",
              "      <td>1.250000</td>\n",
              "      <td>3.220000</td>\n",
              "      <td>0.782500</td>\n",
              "      <td>1.937500</td>\n",
              "      <td>500.500000</td>\n",
              "    </tr>\n",
              "    <tr>\n",
              "      <th>50%</th>\n",
              "      <td>2.000000</td>\n",
              "      <td>13.050000</td>\n",
              "      <td>1.865000</td>\n",
              "      <td>2.360000</td>\n",
              "      <td>19.500000</td>\n",
              "      <td>98.000000</td>\n",
              "      <td>2.355000</td>\n",
              "      <td>2.135000</td>\n",
              "      <td>0.340000</td>\n",
              "      <td>1.555000</td>\n",
              "      <td>4.690000</td>\n",
              "      <td>0.965000</td>\n",
              "      <td>2.780000</td>\n",
              "      <td>673.500000</td>\n",
              "    </tr>\n",
              "    <tr>\n",
              "      <th>75%</th>\n",
              "      <td>3.000000</td>\n",
              "      <td>13.677500</td>\n",
              "      <td>3.082500</td>\n",
              "      <td>2.557500</td>\n",
              "      <td>21.500000</td>\n",
              "      <td>107.000000</td>\n",
              "      <td>2.800000</td>\n",
              "      <td>2.875000</td>\n",
              "      <td>0.437500</td>\n",
              "      <td>1.950000</td>\n",
              "      <td>6.200000</td>\n",
              "      <td>1.120000</td>\n",
              "      <td>3.170000</td>\n",
              "      <td>985.000000</td>\n",
              "    </tr>\n",
              "    <tr>\n",
              "      <th>max</th>\n",
              "      <td>3.000000</td>\n",
              "      <td>14.830000</td>\n",
              "      <td>5.800000</td>\n",
              "      <td>3.230000</td>\n",
              "      <td>30.000000</td>\n",
              "      <td>162.000000</td>\n",
              "      <td>3.880000</td>\n",
              "      <td>5.080000</td>\n",
              "      <td>0.660000</td>\n",
              "      <td>3.580000</td>\n",
              "      <td>13.000000</td>\n",
              "      <td>1.710000</td>\n",
              "      <td>4.000000</td>\n",
              "      <td>1680.000000</td>\n",
              "    </tr>\n",
              "  </tbody>\n",
              "</table>\n",
              "</div>\n",
              "      <button class=\"colab-df-convert\" onclick=\"convertToInteractive('df-541259cd-7d89-4952-8e51-41bd7ad328e4')\"\n",
              "              title=\"Convert this dataframe to an interactive table.\"\n",
              "              style=\"display:none;\">\n",
              "        \n",
              "  <svg xmlns=\"http://www.w3.org/2000/svg\" height=\"24px\"viewBox=\"0 0 24 24\"\n",
              "       width=\"24px\">\n",
              "    <path d=\"M0 0h24v24H0V0z\" fill=\"none\"/>\n",
              "    <path d=\"M18.56 5.44l.94 2.06.94-2.06 2.06-.94-2.06-.94-.94-2.06-.94 2.06-2.06.94zm-11 1L8.5 8.5l.94-2.06 2.06-.94-2.06-.94L8.5 2.5l-.94 2.06-2.06.94zm10 10l.94 2.06.94-2.06 2.06-.94-2.06-.94-.94-2.06-.94 2.06-2.06.94z\"/><path d=\"M17.41 7.96l-1.37-1.37c-.4-.4-.92-.59-1.43-.59-.52 0-1.04.2-1.43.59L10.3 9.45l-7.72 7.72c-.78.78-.78 2.05 0 2.83L4 21.41c.39.39.9.59 1.41.59.51 0 1.02-.2 1.41-.59l7.78-7.78 2.81-2.81c.8-.78.8-2.07 0-2.86zM5.41 20L4 18.59l7.72-7.72 1.47 1.35L5.41 20z\"/>\n",
              "  </svg>\n",
              "      </button>\n",
              "      \n",
              "  <style>\n",
              "    .colab-df-container {\n",
              "      display:flex;\n",
              "      flex-wrap:wrap;\n",
              "      gap: 12px;\n",
              "    }\n",
              "\n",
              "    .colab-df-convert {\n",
              "      background-color: #E8F0FE;\n",
              "      border: none;\n",
              "      border-radius: 50%;\n",
              "      cursor: pointer;\n",
              "      display: none;\n",
              "      fill: #1967D2;\n",
              "      height: 32px;\n",
              "      padding: 0 0 0 0;\n",
              "      width: 32px;\n",
              "    }\n",
              "\n",
              "    .colab-df-convert:hover {\n",
              "      background-color: #E2EBFA;\n",
              "      box-shadow: 0px 1px 2px rgba(60, 64, 67, 0.3), 0px 1px 3px 1px rgba(60, 64, 67, 0.15);\n",
              "      fill: #174EA6;\n",
              "    }\n",
              "\n",
              "    [theme=dark] .colab-df-convert {\n",
              "      background-color: #3B4455;\n",
              "      fill: #D2E3FC;\n",
              "    }\n",
              "\n",
              "    [theme=dark] .colab-df-convert:hover {\n",
              "      background-color: #434B5C;\n",
              "      box-shadow: 0px 1px 3px 1px rgba(0, 0, 0, 0.15);\n",
              "      filter: drop-shadow(0px 1px 2px rgba(0, 0, 0, 0.3));\n",
              "      fill: #FFFFFF;\n",
              "    }\n",
              "  </style>\n",
              "\n",
              "      <script>\n",
              "        const buttonEl =\n",
              "          document.querySelector('#df-541259cd-7d89-4952-8e51-41bd7ad328e4 button.colab-df-convert');\n",
              "        buttonEl.style.display =\n",
              "          google.colab.kernel.accessAllowed ? 'block' : 'none';\n",
              "\n",
              "        async function convertToInteractive(key) {\n",
              "          const element = document.querySelector('#df-541259cd-7d89-4952-8e51-41bd7ad328e4');\n",
              "          const dataTable =\n",
              "            await google.colab.kernel.invokeFunction('convertToInteractive',\n",
              "                                                     [key], {});\n",
              "          if (!dataTable) return;\n",
              "\n",
              "          const docLinkHtml = 'Like what you see? Visit the ' +\n",
              "            '<a target=\"_blank\" href=https://colab.research.google.com/notebooks/data_table.ipynb>data table notebook</a>'\n",
              "            + ' to learn more about interactive tables.';\n",
              "          element.innerHTML = '';\n",
              "          dataTable['output_type'] = 'display_data';\n",
              "          await google.colab.output.renderOutput(dataTable, element);\n",
              "          const docLink = document.createElement('div');\n",
              "          docLink.innerHTML = docLinkHtml;\n",
              "          element.appendChild(docLink);\n",
              "        }\n",
              "      </script>\n",
              "    </div>\n",
              "  </div>\n",
              "  "
            ]
          },
          "metadata": {},
          "execution_count": 10
        }
      ]
    },
    {
      "cell_type": "markdown",
      "source": [
        "#### **Dropping missing data**\n"
      ],
      "metadata": {
        "id": "dy9I6pz6yZmK"
      }
    },
    {
      "cell_type": "code",
      "source": [
        "import pandas as pd\n",
        "\n",
        "data = {'A': [1.0, 4.0, 7.0, None, 5.0],\n",
        "        'B': [None, 7.0, None, 7.0, 9.0],\n",
        "        'C': [2.0, 3.0, None, None, 7.0]}\n",
        "\n",
        "df = pd.DataFrame(data)\n",
        "print(df)\n"
      ],
      "metadata": {
        "colab": {
          "base_uri": "https://localhost:8080/"
        },
        "id": "HerBxuw10xAj",
        "outputId": "f3c106b6-862a-4c79-a77c-9c54e7419a43"
      },
      "execution_count": 11,
      "outputs": [
        {
          "output_type": "stream",
          "name": "stdout",
          "text": [
            "     A    B    C\n",
            "0  1.0  NaN  2.0\n",
            "1  4.0  7.0  3.0\n",
            "2  7.0  NaN  NaN\n",
            "3  NaN  7.0  NaN\n",
            "4  5.0  9.0  7.0\n"
          ]
        }
      ]
    },
    {
      "cell_type": "markdown",
      "source": [
        "`df.dropna()` vs `df.drop()`"
      ],
      "metadata": {
        "id": "lKkB6RR11UQl"
      }
    },
    {
      "cell_type": "code",
      "source": [
        "print(df.dropna())"
      ],
      "metadata": {
        "colab": {
          "base_uri": "https://localhost:8080/"
        },
        "id": "t7c6jZe70_ZT",
        "outputId": "961b3de7-8786-42b0-f56f-ffaf72abcc41"
      },
      "execution_count": 12,
      "outputs": [
        {
          "output_type": "stream",
          "name": "stdout",
          "text": [
            "     A    B    C\n",
            "1  4.0  7.0  3.0\n",
            "4  5.0  9.0  7.0\n"
          ]
        }
      ]
    },
    {
      "cell_type": "code",
      "source": [
        "print(df.drop([1, 2, 3]))"
      ],
      "metadata": {
        "colab": {
          "base_uri": "https://localhost:8080/"
        },
        "id": "D95f9mY71F6G",
        "outputId": "e34826e0-c1b2-414f-fc18-c3d29514adda"
      },
      "execution_count": 13,
      "outputs": [
        {
          "output_type": "stream",
          "name": "stdout",
          "text": [
            "     A    B    C\n",
            "0  1.0  NaN  2.0\n",
            "4  5.0  9.0  7.0\n"
          ]
        }
      ]
    },
    {
      "cell_type": "code",
      "source": [
        "print(df.drop([1, 2, 3]))"
      ],
      "metadata": {
        "colab": {
          "base_uri": "https://localhost:8080/"
        },
        "id": "aCqaskvD1hrs",
        "outputId": "da7abad2-61ad-459e-a55e-f034ca93eafa"
      },
      "execution_count": 14,
      "outputs": [
        {
          "output_type": "stream",
          "name": "stdout",
          "text": [
            "     A    B    C\n",
            "0  1.0  NaN  2.0\n",
            "4  5.0  9.0  7.0\n"
          ]
        }
      ]
    },
    {
      "cell_type": "code",
      "source": [
        "print(df.isna().sum())"
      ],
      "metadata": {
        "colab": {
          "base_uri": "https://localhost:8080/"
        },
        "id": "GV2H6d1V1k_z",
        "outputId": "f35aa90b-e1d4-4a09-e21d-3c6e79a0648a"
      },
      "execution_count": 15,
      "outputs": [
        {
          "output_type": "stream",
          "name": "stdout",
          "text": [
            "A    1\n",
            "B    2\n",
            "C    2\n",
            "dtype: int64\n"
          ]
        }
      ]
    },
    {
      "cell_type": "markdown",
      "source": [
        "`df.dropna(subset=['column'])`"
      ],
      "metadata": {
        "id": "GNAThlkd2EUI"
      }
    },
    {
      "cell_type": "code",
      "source": [
        "print(df)\n",
        "print(\"\\n\")\n",
        "print(df.dropna(subset=['A']))\n",
        "print(\"\\n\")\n",
        "print(df.dropna(subset=['B']))\n",
        "print(\"\\n\")\n",
        "print(df.dropna(subset=['C']))\n"
      ],
      "metadata": {
        "colab": {
          "base_uri": "https://localhost:8080/"
        },
        "id": "74DFU8KP1nZs",
        "outputId": "dd5b8bd7-0384-4bd0-e81d-564afca3c76c"
      },
      "execution_count": 16,
      "outputs": [
        {
          "output_type": "stream",
          "name": "stdout",
          "text": [
            "     A    B    C\n",
            "0  1.0  NaN  2.0\n",
            "1  4.0  7.0  3.0\n",
            "2  7.0  NaN  NaN\n",
            "3  NaN  7.0  NaN\n",
            "4  5.0  9.0  7.0\n",
            "\n",
            "\n",
            "     A    B    C\n",
            "0  1.0  NaN  2.0\n",
            "1  4.0  7.0  3.0\n",
            "2  7.0  NaN  NaN\n",
            "4  5.0  9.0  7.0\n",
            "\n",
            "\n",
            "     A    B    C\n",
            "1  4.0  7.0  3.0\n",
            "3  NaN  7.0  NaN\n",
            "4  5.0  9.0  7.0\n",
            "\n",
            "\n",
            "     A    B    C\n",
            "0  1.0  NaN  2.0\n",
            "1  4.0  7.0  3.0\n",
            "4  5.0  9.0  7.0\n"
          ]
        }
      ]
    },
    {
      "cell_type": "code",
      "source": [
        "print(df)\n",
        "print(\"\\n\")\n",
        "print(df.dropna(thresh=2))"
      ],
      "metadata": {
        "colab": {
          "base_uri": "https://localhost:8080/"
        },
        "id": "GwxcpK_y2b76",
        "outputId": "5f69f097-e6e7-493f-b753-c70b067fdc0d"
      },
      "execution_count": 17,
      "outputs": [
        {
          "output_type": "stream",
          "name": "stdout",
          "text": [
            "     A    B    C\n",
            "0  1.0  NaN  2.0\n",
            "1  4.0  7.0  3.0\n",
            "2  7.0  NaN  NaN\n",
            "3  NaN  7.0  NaN\n",
            "4  5.0  9.0  7.0\n",
            "\n",
            "\n",
            "     A    B    C\n",
            "0  1.0  NaN  2.0\n",
            "1  4.0  7.0  3.0\n",
            "4  5.0  9.0  7.0\n"
          ]
        }
      ]
    },
    {
      "cell_type": "markdown",
      "source": [
        "`thresh=2` removes rows that have at least `2` or `more` `NaN` (missing) values. The resulting DataFrame is then printed."
      ],
      "metadata": {
        "id": "RayBhkBx2uec"
      }
    },
    {
      "cell_type": "code",
      "source": [
        "# Dropping missing data from Volunteer dataframe\n",
        "print(volunteer_df.shape)\n",
        "\n",
        "# Drop the Latitude and Longitude columns from volunteer\n",
        "volunteer_cols = volunteer_df.drop([\"Latitude\", \"Longitude\"], axis=1)\n",
        "print(volunteer_cols.shape)\n",
        "\n",
        "# Drop rows with missing category_desc values from volunteer_cols\n",
        "volunteer_subset = volunteer_cols.dropna(subset=[\"category_desc\"])\n",
        "\n",
        "# Print out the shape of the subset\n",
        "print(volunteer_subset.shape)"
      ],
      "metadata": {
        "colab": {
          "base_uri": "https://localhost:8080/"
        },
        "id": "vGI2lzLZ6hY0",
        "outputId": "12d36b7f-f6e2-4b33-bd13-8f33567b3578"
      },
      "execution_count": 18,
      "outputs": [
        {
          "output_type": "stream",
          "name": "stdout",
          "text": [
            "(665, 35)\n",
            "(665, 33)\n",
            "(617, 33)\n"
          ]
        }
      ]
    },
    {
      "cell_type": "markdown",
      "source": [
        "## **Working with data types**\n"
      ],
      "metadata": {
        "id": "rPHvviP1yb_i"
      }
    },
    {
      "cell_type": "markdown",
      "source": [
        "#### **Exploring data types**\n",
        "\n",
        "- `object`: Represents string values or mixed types.\n",
        "- `int64`: Represents integer values.\n",
        "- `float64`: Represents floating-point numbers.\n",
        "- `datetime64`: Represents dates and times.\n",
        "- `bool`: Represents boolean values (True or False).\n",
        "- `category`: Represents categorical variables.\n",
        "- `timedelta`: Represents differences or durations between two datetime values.\n",
        "- `int8`: Represents signed integers with 8-bit precision.\n",
        "- `int16`: Represents signed integers with 16-bit precision.\n",
        "- `int32`: Represents signed integers with 32-bit precision.\n",
        "- `int64`: Represents signed integers with 64-bit precision.\n",
        "- `uint8`: Represents unsigned integers with 8-bit precision.\n",
        "- `uint16`: Represents unsigned integers with 16-bit precision.\n",
        "- `uint32`: Represents unsigned integers with 32-bit precision.\n",
        "- `uint64`: Represents unsigned integers with 64-bit precision.\n",
        "- `float16`: Represents floating-point numbers with 16-bit precision.\n",
        "- `float32`: Represents floating-point numbers with 32-bit precision.\n",
        "- `float64`: Represents floating-point numbers with 64-bit precision.\n",
        "- `Sparse`: Represents sparse data.\n",
        "- `Interval`: Represents interval variables.\n",
        "- `Period`: Represents time periods.\n"
      ],
      "metadata": {
        "id": "45tXQI16ydzq"
      }
    },
    {
      "cell_type": "code",
      "source": [
        "print(volunteer_df.info())"
      ],
      "metadata": {
        "colab": {
          "base_uri": "https://localhost:8080/"
        },
        "id": "pKNJbSM13KBD",
        "outputId": "a97faf32-8a25-4d2d-b8fb-3bcdaec350de"
      },
      "execution_count": 19,
      "outputs": [
        {
          "output_type": "stream",
          "name": "stdout",
          "text": [
            "<class 'pandas.core.frame.DataFrame'>\n",
            "RangeIndex: 665 entries, 0 to 664\n",
            "Data columns (total 35 columns):\n",
            " #   Column              Non-Null Count  Dtype  \n",
            "---  ------              --------------  -----  \n",
            " 0   opportunity_id      665 non-null    int64  \n",
            " 1   content_id          665 non-null    int64  \n",
            " 2   vol_requests        665 non-null    int64  \n",
            " 3   event_time          665 non-null    int64  \n",
            " 4   title               665 non-null    object \n",
            " 5   hits                665 non-null    int64  \n",
            " 6   summary             665 non-null    object \n",
            " 7   is_priority         62 non-null     object \n",
            " 8   category_id         617 non-null    float64\n",
            " 9   category_desc       617 non-null    object \n",
            " 10  amsl                0 non-null      float64\n",
            " 11  amsl_unit           0 non-null      float64\n",
            " 12  org_title           665 non-null    object \n",
            " 13  org_content_id      665 non-null    int64  \n",
            " 14  addresses_count     665 non-null    int64  \n",
            " 15  locality            595 non-null    object \n",
            " 16  region              665 non-null    object \n",
            " 17  postalcode          659 non-null    float64\n",
            " 18  primary_loc         0 non-null      float64\n",
            " 19  display_url         665 non-null    object \n",
            " 20  recurrence_type     665 non-null    object \n",
            " 21  hours               665 non-null    int64  \n",
            " 22  created_date        665 non-null    object \n",
            " 23  last_modified_date  665 non-null    object \n",
            " 24  start_date_date     665 non-null    object \n",
            " 25  end_date_date       665 non-null    object \n",
            " 26  status              665 non-null    object \n",
            " 27  Latitude            0 non-null      float64\n",
            " 28  Longitude           0 non-null      float64\n",
            " 29  Community Board     0 non-null      float64\n",
            " 30  Community Council   0 non-null      float64\n",
            " 31  Census Tract        0 non-null      float64\n",
            " 32  BIN                 0 non-null      float64\n",
            " 33  BBL                 0 non-null      float64\n",
            " 34  NTA                 0 non-null      float64\n",
            "dtypes: float64(13), int64(8), object(14)\n",
            "memory usage: 182.0+ KB\n",
            "None\n"
          ]
        }
      ]
    },
    {
      "cell_type": "markdown",
      "source": [
        "#### **Converting a column type**\n"
      ],
      "metadata": {
        "id": "yCuxwnZxyfR6"
      }
    },
    {
      "cell_type": "code",
      "source": [
        "import pandas as pd\n",
        "\n",
        "data = {'A': [1, 2, 3],\n",
        "        'B': ['string', 'string2', 'string3'],\n",
        "        'C': [1.0, 2.0, 3.0]}\n",
        "\n",
        "df = pd.DataFrame(data)\n",
        "print(df)"
      ],
      "metadata": {
        "colab": {
          "base_uri": "https://localhost:8080/"
        },
        "id": "43OfktbB472N",
        "outputId": "56b2222e-05aa-4aab-dbc9-5b105afc38a1"
      },
      "execution_count": 20,
      "outputs": [
        {
          "output_type": "stream",
          "name": "stdout",
          "text": [
            "   A        B    C\n",
            "0  1   string  1.0\n",
            "1  2  string2  2.0\n",
            "2  3  string3  3.0\n"
          ]
        }
      ]
    },
    {
      "cell_type": "code",
      "source": [
        "df[\"C\"] = df[\"C\"].astype(\"float\")\n",
        "print(df.dtypes)"
      ],
      "metadata": {
        "colab": {
          "base_uri": "https://localhost:8080/"
        },
        "id": "bJ-qgQe_5Cc7",
        "outputId": "cfc46ca0-be87-478a-a6d1-dc0a643fb1dd"
      },
      "execution_count": 21,
      "outputs": [
        {
          "output_type": "stream",
          "name": "stdout",
          "text": [
            "A      int64\n",
            "B     object\n",
            "C    float64\n",
            "dtype: object\n"
          ]
        }
      ]
    },
    {
      "cell_type": "markdown",
      "source": [
        " 5   `hits 665 non-null    int64`"
      ],
      "metadata": {
        "id": "ccZ48Cv_9M-R"
      }
    },
    {
      "cell_type": "code",
      "source": [
        "# Convert the hits column to type int\n",
        "volunteer_df[\"category_desc\"] = volunteer_df[\"category_desc\"].astype(\"category\")\n",
        "\n",
        "# Look at the dtypes of the dataset\n",
        "print(volunteer_df.info())"
      ],
      "metadata": {
        "colab": {
          "base_uri": "https://localhost:8080/"
        },
        "id": "WIa-Z1x18wxU",
        "outputId": "50250026-c258-4547-98d0-db5b3d66eb4b"
      },
      "execution_count": 22,
      "outputs": [
        {
          "output_type": "stream",
          "name": "stdout",
          "text": [
            "<class 'pandas.core.frame.DataFrame'>\n",
            "RangeIndex: 665 entries, 0 to 664\n",
            "Data columns (total 35 columns):\n",
            " #   Column              Non-Null Count  Dtype   \n",
            "---  ------              --------------  -----   \n",
            " 0   opportunity_id      665 non-null    int64   \n",
            " 1   content_id          665 non-null    int64   \n",
            " 2   vol_requests        665 non-null    int64   \n",
            " 3   event_time          665 non-null    int64   \n",
            " 4   title               665 non-null    object  \n",
            " 5   hits                665 non-null    int64   \n",
            " 6   summary             665 non-null    object  \n",
            " 7   is_priority         62 non-null     object  \n",
            " 8   category_id         617 non-null    float64 \n",
            " 9   category_desc       617 non-null    category\n",
            " 10  amsl                0 non-null      float64 \n",
            " 11  amsl_unit           0 non-null      float64 \n",
            " 12  org_title           665 non-null    object  \n",
            " 13  org_content_id      665 non-null    int64   \n",
            " 14  addresses_count     665 non-null    int64   \n",
            " 15  locality            595 non-null    object  \n",
            " 16  region              665 non-null    object  \n",
            " 17  postalcode          659 non-null    float64 \n",
            " 18  primary_loc         0 non-null      float64 \n",
            " 19  display_url         665 non-null    object  \n",
            " 20  recurrence_type     665 non-null    object  \n",
            " 21  hours               665 non-null    int64   \n",
            " 22  created_date        665 non-null    object  \n",
            " 23  last_modified_date  665 non-null    object  \n",
            " 24  start_date_date     665 non-null    object  \n",
            " 25  end_date_date       665 non-null    object  \n",
            " 26  status              665 non-null    object  \n",
            " 27  Latitude            0 non-null      float64 \n",
            " 28  Longitude           0 non-null      float64 \n",
            " 29  Community Board     0 non-null      float64 \n",
            " 30  Community Council   0 non-null      float64 \n",
            " 31  Census Tract        0 non-null      float64 \n",
            " 32  BIN                 0 non-null      float64 \n",
            " 33  BBL                 0 non-null      float64 \n",
            " 34  NTA                 0 non-null      float64 \n",
            "dtypes: category(1), float64(13), int64(8), object(13)\n",
            "memory usage: 177.6+ KB\n",
            "None\n"
          ]
        }
      ]
    },
    {
      "cell_type": "markdown",
      "source": [
        "## **Training and test sets**\n"
      ],
      "metadata": {
        "id": "CrMF3rpoygzL"
      }
    },
    {
      "cell_type": "markdown",
      "source": [
        "**Why do we split the dataset?**\n",
        "\n",
        "1. Reduces overfitting\n",
        "2. Evaluate performance on a holdout set"
      ],
      "metadata": {
        "id": "-f_FZOja5V1a"
      }
    },
    {
      "cell_type": "markdown",
      "source": [
        "#### **Class imbalance**\n"
      ],
      "metadata": {
        "id": "CKL1Km3oyiIN"
      }
    },
    {
      "cell_type": "code",
      "source": [],
      "metadata": {
        "id": "08nUelSp_5-E"
      },
      "execution_count": 22,
      "outputs": []
    },
    {
      "cell_type": "markdown",
      "source": [
        "**Which descriptions occur less than 50 times in the volunteer dataset?**"
      ],
      "metadata": {
        "id": "fsVfPaI9_0xv"
      }
    },
    {
      "cell_type": "code",
      "source": [
        "import matplotlib.pyplot as plt\n",
        "\n",
        "# Create a new DataFrame excluding rows with missing values in the 'category_desc' column\n",
        "volunteer_filtered = volunteer_df.dropna(subset=['category_desc'])\n",
        "\n",
        "volunteer_filtered['category_desc'].value_counts().plot(kind='bar')\n",
        "\n",
        "plt.xlabel('Category')\n",
        "plt.ylabel('Count')\n",
        "plt.title('Distribution of Categories')\n",
        "plt.xticks(rotation=90)\n",
        "\n",
        "plt.show()"
      ],
      "metadata": {
        "colab": {
          "base_uri": "https://localhost:8080/",
          "height": 653
        },
        "id": "h-8csEvq9uTE",
        "outputId": "124abb00-d84d-4882-c41c-1d914fd67e24"
      },
      "execution_count": 23,
      "outputs": [
        {
          "output_type": "display_data",
          "data": {
            "text/plain": [
              "<Figure size 640x480 with 1 Axes>"
            ],
            "image/png": "[encoded data removed]"
          },
          "metadata": {}
        }
      ]
    },
    {
      "cell_type": "markdown",
      "source": [
        "#### **Stratified sampling**"
      ],
      "metadata": {
        "id": "0ZQTECwxyjlC"
      }
    },
    {
      "cell_type": "markdown",
      "source": [
        "we now know that the distribution of class labels in the `category_desc` column of the volunteer dataset is `uneven`.\n",
        "\n",
        "If you wanted to train a model to `predict` `category_desc`, you'll need to ensure that the model is trained on a sample of data that is representative of the entire dataset. Stratified sampling is a way to achieve this!"
      ],
      "metadata": {
        "id": "z5HvPYcYBaLv"
      }
    },
    {
      "cell_type": "code",
      "source": [
        "import pandas as pd\n",
        "from sklearn.model_selection import train_test_split\n",
        "\n",
        "# dropping NaNs from X and corresponding rows from y\n",
        "volunteer_df.dropna(subset=['category_desc'], inplace=True)\n",
        "\n",
        "# Create a DataFrame with all columns except 'category_desc'\n",
        "X = volunteer_df.drop(\"category_desc\", axis=1)\n",
        "\n",
        "# Create a 'category_desc' labels dataset\n",
        "y = volunteer_df[[\"category_desc\"]]\n",
        "\n",
        "# Use stratified sampling to split up the dataset according to the 'y' dataset\n",
        "X_train, X_test, y_train, y_test = train_test_split(X, y, stratify=y, random_state=42)\n",
        "\n",
        "# Print the 'category_desc' counts from 'y_train'\n",
        "print(y_train[\"category_desc\"].value_counts())"
      ],
      "metadata": {
        "colab": {
          "base_uri": "https://localhost:8080/"
        },
        "id": "vVPtaC9i3LnL",
        "outputId": "b572a38e-0342-4cbb-f445-e09763971208"
      },
      "execution_count": 24,
      "outputs": [
        {
          "output_type": "stream",
          "name": "stdout",
          "text": [
            "Strengthening Communities    230\n",
            "Helping Neighbors in Need     89\n",
            "Education                     69\n",
            "Health                        39\n",
            "Environment                   24\n",
            "Emergency Preparedness        11\n",
            "Name: category_desc, dtype: int64\n"
          ]
        }
      ]
    },
    {
      "cell_type": "markdown",
      "metadata": {
        "id": "ATihhh_TzvJL"
      },
      "source": [
        "# **2️⃣ Standardizing Data**\n",
        "\n",
        "\n"
      ]
    },
    {
      "cell_type": "markdown",
      "source": [
        "**What is standardization?**\n",
        "\n",
        "**Standardization**: Transform continuous data to appear normally distributed.\n",
        "\n",
        "- `scikit-learn` models assume normally distributed data\n",
        "- Using `non-normal` training data can **introduce bias**.\n",
        "- method used `Log normalization` and `feature scaling`.\n",
        "- Applied to continuous numerical data\n"
      ],
      "metadata": {
        "id": "ds15piiWC-nF"
      }
    },
    {
      "cell_type": "markdown",
      "source": [
        "## **Standardization**\n"
      ],
      "metadata": {
        "id": "x0u2gE0RB5y0"
      }
    },
    {
      "cell_type": "markdown",
      "source": [
        "#### **When to standardize the data?**\n",
        "\n",
        "- A column you want to use for modeling has **extremely high variance**.\n",
        "\n",
        "- You have a dataset with several continuous columns on different scales, and you'd like to use a linear model to train the data.\n",
        "\n",
        "- The models you're working with use some sort of distance metric in a linear space.\n",
        "\n",
        "\n",
        "Standardization of linear distances is typically necessary in certain scenarios to ensure accurate and meaningful results when working with specific models in a linear space. The following models commonly require standardized linear distances:\n",
        "\n",
        "- `k-Nearest Neighbors (kNN)`: In kNN, the classification or regression of a data point is determined based on the distances to its k nearest neighbors. If the input features have different scales, the distances will be dominated by the features with larger magnitudes. Standardizing the linear distances by subtracting the mean and dividing by the standard deviation ensures that all features contribute equally to the distance calculation.\n",
        "\n",
        "- `Linear Regression`: Linear regression aims to model the linear relationship between independent variables (features) and a dependent variable. If the features have different scales, it can lead to biased coefficient estimates and difficulties in interpreting their importance. By standardizing the linear distances, the coefficients obtained in the regression model become comparable, and their magnitudes reflect the relative importance of the standardized features.\n",
        "\n",
        "- `K-Means Clustering`: K-means clustering is an unsupervised learning algorithm that partitions data points into k clusters. It relies on distance measurements to assign data points to clusters. Standardizing the linear distances is important because it prevents features with larger scales from dominating the clustering process. It ensures that the clustering is based on the relative relationships between the standardized features rather than their absolute magnitudes.\n",
        "\n",
        "By standardizing linear distances in these models, the scales of the features are made comparable, enabling fair comparisons and reliable interpretations. It helps mitigate the influence of different scales on the models' performance and ensures that all features contribute equally to the analysis.\n",
        "\n"
      ],
      "metadata": {
        "id": "j5Yj6BtjCPe9"
      }
    },
    {
      "cell_type": "markdown",
      "source": [
        "#### **Modeling without normalizing**\n"
      ],
      "metadata": {
        "id": "-94UB0GHCQwE"
      }
    },
    {
      "cell_type": "code",
      "source": [
        "import pandas as pd\n",
        "from sklearn.neighbors import KNeighborsClassifier\n",
        "from sklearn.model_selection import train_test_split\n",
        "\n",
        "# Read the CSV file into a DataFrame\n",
        "wine_df = pd.read_csv(\"wine_types.csv\")\n",
        "\n",
        "# Separate the features (X) and the target (y)\n",
        "X = wine_df.drop(\"Type\", axis=1)\n",
        "y = wine_df[\"Type\"]\n",
        "\n",
        "# Split the dataset into training and test sets\n",
        "X_train, X_test, y_train, y_test = train_test_split(X, y, stratify=y, random_state=42)\n",
        "\n",
        "# Create a KNeighborsClassifier object\n",
        "knn = KNeighborsClassifier()\n",
        "\n",
        "# Fit the knn model to the training data\n",
        "knn.fit(X_train, y_train)\n",
        "\n",
        "# Score the model on the test data\n",
        "accuracy = knn.score(X_test, y_test)\n",
        "print(\"Test set accuracy: {:.1f}\".format(accuracy*100))"
      ],
      "metadata": {
        "colab": {
          "base_uri": "https://localhost:8080/"
        },
        "id": "PFuvarMvHjhD",
        "outputId": "d67356a3-abb5-4f18-e26d-f446f6254f0e"
      },
      "execution_count": 25,
      "outputs": [
        {
          "output_type": "stream",
          "name": "stdout",
          "text": [
            "Test set accuracy: 77.8\n"
          ]
        }
      ]
    },
    {
      "cell_type": "markdown",
      "source": [
        "## **Log normalization**\n"
      ],
      "metadata": {
        "id": "1bABGwUnCSE9"
      }
    },
    {
      "cell_type": "markdown",
      "source": [
        "\n",
        "**Log normalization** is a data transformation technique commonly used in data preprocessing, particularly when dealing with features that have a `high variance` or a `skewed distribution`.\n",
        "\n",
        "It involves applying a logarithm transformation to the values of a feature to make the distribution more symmetrical and reduce the impact of extreme values.\n",
        "\n",
        "The natural logarithm, also known as the logarithm base `e` (approximately `2.718`), is typically used for log normalization. By taking the logarithm of each value in a feature, the resulting transformed values are often more normally distributed and have a reduced range of values.\n",
        "\n",
        "Log normalization is useful in various scenarios, such as in statistical analysis or machine learning algorithms. It can help improve the performance of certain models, especially when the original feature values span a wide range.\n",
        "\n",
        "By compressing the values using logarithms, log normalization can mitigate the effect of outliers and make the data more amenable to analysis or modeling techniques that assume a normal distribution or linear relationships."
      ],
      "metadata": {
        "id": "0ObK11cbOJbv"
      }
    },
    {
      "cell_type": "markdown",
      "source": [
        "#### **Checking the variance**\n"
      ],
      "metadata": {
        "id": "Jek7tJoUCTcl"
      }
    },
    {
      "cell_type": "code",
      "source": [
        "import pandas as pd\n",
        "\n",
        "data = {'col1': [1.00, 1.20, 0.75, 1.60],\n",
        "        'col2': [3.0, 45.5, 28.0, 100.0]}\n",
        "\n",
        "df = pd.DataFrame(data)\n",
        "\n",
        "print(df)\n",
        "print(\"\\n\")\n",
        "print(df.var())"
      ],
      "metadata": {
        "colab": {
          "base_uri": "https://localhost:8080/"
        },
        "id": "3SQYkddeCvet",
        "outputId": "5845c692-db22-43c5-99cc-7da2aee1e133"
      },
      "execution_count": 26,
      "outputs": [
        {
          "output_type": "stream",
          "name": "stdout",
          "text": [
            "   col1   col2\n",
            "0  1.00    3.0\n",
            "1  1.20   45.5\n",
            "2  0.75   28.0\n",
            "3  1.60  100.0\n",
            "\n",
            "\n",
            "col1       0.128958\n",
            "col2    1691.729167\n",
            "dtype: float64\n"
          ]
        }
      ]
    },
    {
      "cell_type": "code",
      "source": [
        "import numpy as np\n",
        "\n",
        "df[\"log_2\"] = np.log(df[\"col2\"])\n",
        "\n",
        "print(df)\n",
        "print(\"\\n\")\n",
        "print(df[[\"col1\", \"log_2\"]].var())"
      ],
      "metadata": {
        "colab": {
          "base_uri": "https://localhost:8080/"
        },
        "id": "z6QQNP-cSldT",
        "outputId": "6bfc2b58-6929-4a04-de00-87216d3fa9fe"
      },
      "execution_count": 27,
      "outputs": [
        {
          "output_type": "stream",
          "name": "stdout",
          "text": [
            "   col1   col2     log_2\n",
            "0  1.00    3.0  1.098612\n",
            "1  1.20   45.5  3.817712\n",
            "2  0.75   28.0  3.332205\n",
            "3  1.60  100.0  4.605170\n",
            "\n",
            "\n",
            "col1     0.128958\n",
            "log_2    2.262886\n",
            "dtype: float64\n"
          ]
        }
      ]
    },
    {
      "cell_type": "markdown",
      "source": [
        "Check the variance of the columns in the `wine` dataset. **which column is the most appropriate candidate for normalization?**"
      ],
      "metadata": {
        "id": "XPQpUqsgUCKH"
      }
    },
    {
      "cell_type": "code",
      "source": [
        "import pandas as pd\n",
        "\n",
        "variances = wine_df.var()\n",
        "\n",
        "print(variances)"
      ],
      "metadata": {
        "colab": {
          "base_uri": "https://localhost:8080/"
        },
        "id": "lFy_EtZvToXf",
        "outputId": "322fddf9-0f2b-400b-9711-4a2f3bbef4d9"
      },
      "execution_count": 28,
      "outputs": [
        {
          "output_type": "stream",
          "name": "stdout",
          "text": [
            "Type                                0.600679\n",
            "Alcohol                             0.659062\n",
            "Malic acid                          1.248015\n",
            "Ash                                 0.075265\n",
            "Alcalinity of ash                  11.152686\n",
            "Magnesium                         203.989335\n",
            "Total phenols                       0.391690\n",
            "Flavanoids                          0.997719\n",
            "Nonflavanoid phenols                0.015489\n",
            "Proanthocyanins                     0.327595\n",
            "Color intensity                     5.374449\n",
            "Hue                                 0.052245\n",
            "OD280/OD315 of diluted wines        0.504086\n",
            "Proline                         99166.717355\n",
            "dtype: float64\n"
          ]
        }
      ]
    },
    {
      "cell_type": "markdown",
      "source": [
        ">The `Proline` column has an extremely high variance"
      ],
      "metadata": {
        "id": "ciyixCH-UKVh"
      }
    },
    {
      "cell_type": "markdown",
      "source": [
        "#### **Log normalization in Python**\n"
      ],
      "metadata": {
        "id": "MOvruAIZCUwl"
      }
    },
    {
      "cell_type": "code",
      "source": [
        "import numpy as np\n",
        "import pandas as pd\n",
        "\n",
        "# Print out the variance of the Proline column\n",
        "print(\"Variance of Proline column:\", wine_df['Proline'].var())\n",
        "\n",
        "# Apply the log normalization function to the Proline column\n",
        "wine_df['Proline_log'] = np.log(wine_df['Proline'])\n",
        "\n",
        "# Check the variance of the normalized Proline column\n",
        "print(\"Variance of Proline_log column:\", wine_df['Proline_log'].var())"
      ],
      "metadata": {
        "colab": {
          "base_uri": "https://localhost:8080/"
        },
        "id": "Sjk8gZyKCv_1",
        "outputId": "a06e49cd-7f66-4742-edc6-39eb3e646dc0"
      },
      "execution_count": 29,
      "outputs": [
        {
          "output_type": "stream",
          "name": "stdout",
          "text": [
            "Variance of Proline column: 99166.71735542436\n",
            "Variance of Proline_log column: 0.17231366191842012\n"
          ]
        }
      ]
    },
    {
      "cell_type": "markdown",
      "source": [
        "## **Scaling data for feature comparison**\n"
      ],
      "metadata": {
        "id": "2jN9M7lKCWV2"
      }
    },
    {
      "cell_type": "markdown",
      "source": [
        "**Feature scaling** is a technique used in **data preprocessing** to transform the numerical features of a dataset onto a consistent scale.\n",
        "\n",
        "- It is especially useful when the features have different scales or units of measurement.\n",
        "- The goal of feature scaling is to ensure that all the features contribute equally to the analysis or modeling process, avoiding biases due to differences in scale.\n",
        "\n",
        "**Feature scaling typically involves two common methods:**\n",
        "\n",
        "- `Standardization`: This method transforms the features to have a `mean of 0` and a `standard deviation of 1`. It is also known as `z-score` normalization. Standardization subtracts the mean of each feature from its values and then divides by the standard deviation.\n",
        "  - **The resulting scaled features have a `mean of 0` and a `standard deviation of 1`.**\n",
        "  - ```python\n",
        "        from sklearn.preprocessing import StandardScaler\n",
        "\n",
        "        # Assuming X is the input data (numpy array or pandas DataFrame)\n",
        "\n",
        "        # Create a StandardScaler object\n",
        "        scaler = StandardScaler()\n",
        "\n",
        "        # Perform standardization on the data\n",
        "        X_standardized = scaler.fit_transform(X)\n",
        "\n",
        "    ```\n",
        "\n",
        "- `Normalization`: This method transforms the features to a range between `0` and `1`. It is also referred to as `min-max scaling`. Normalization subtracts the minimum value of each feature from its values and then divides by the range (maximum value minus minimum value).\n",
        "    - **The resulting scaled features have a `minimum value of 0` and a `maximum value of 1`.**\n",
        "\n",
        "    - ```python\n",
        "        from sklearn.preprocessing import MinMaxScaler\n",
        "\n",
        "        # Assuming X is the input data (numpy array or pandas DataFrame)\n",
        "\n",
        "        # Create a MinMaxScaler object\n",
        "        scaler = MinMaxScaler()\n",
        "\n",
        "        # Perform normalization on the data\n",
        "        X_normalized = scaler.fit_transform(X)\n",
        "      ```\n",
        "\n",
        "Feature scaling is beneficial for models with linear characteristics, such as linear regression or neural networks, as it helps the optimization algorithms converge faster. Additionally, it ensures that features with larger scales do not dominate the model's learning process.\n",
        "\n",
        "By scaling the features, we center them around 0 and transform them to have a variance of 1, which simplifies the interpretation of the model's coefficients and improves numerical stability during computations. Furthermore, scaling can transform the distribution of the features to be approximately normal, which is often desirable for various statistical and modeling techniques that assume normality."
      ],
      "metadata": {
        "id": "BR6hnO4hVR0i"
      }
    },
    {
      "cell_type": "markdown",
      "source": [
        "#### **Scaling data - investigating columns**\n"
      ],
      "metadata": {
        "id": "EXeVUFk2CXwl"
      }
    },
    {
      "cell_type": "code",
      "source": [
        "import pandas as pd\n",
        "\n",
        "data = {'col1': [1.00, 1.20, 0.75, 1.60],\n",
        "        'col2': [48.0, 45.5, 46.2, 50.0],\n",
        "        'col3': [100.0, 101.3, 103.5, 104.0]}\n",
        "\n",
        "df = pd.DataFrame(data)\n",
        "\n",
        "print(df)\n",
        "print(\"\\n\")\n",
        "print(df.var())"
      ],
      "metadata": {
        "colab": {
          "base_uri": "https://localhost:8080/"
        },
        "id": "KE2xfnFaCwkO",
        "outputId": "8bd42120-f5f8-4b36-a32c-0718d0ac0f55"
      },
      "execution_count": 30,
      "outputs": [
        {
          "output_type": "stream",
          "name": "stdout",
          "text": [
            "   col1  col2   col3\n",
            "0  1.00  48.0  100.0\n",
            "1  1.20  45.5  101.3\n",
            "2  0.75  46.2  103.5\n",
            "3  1.60  50.0  104.0\n",
            "\n",
            "\n",
            "col1    0.128958\n",
            "col2    4.055833\n",
            "col3    3.526667\n",
            "dtype: float64\n"
          ]
        }
      ]
    },
    {
      "cell_type": "code",
      "source": [
        "import pandas as pd\n",
        "from sklearn.preprocessing import StandardScaler\n",
        "\n",
        "data = {'col1': [1.00, 1.20, 0.75, 1.60],\n",
        "        'col2': [48.0, 45.5, 46.2, 50.0],\n",
        "        'col3': [100.0, 101.3, 103.5, 104.0]}\n",
        "\n",
        "df = pd.DataFrame(data)\n",
        "\n",
        "scaler = StandardScaler()\n",
        "df_scaled = pd.DataFrame(scaler.fit_transform(df),\n",
        "                         columns=df.columns)\n",
        "\n",
        "print(df_scaled)\n",
        "print(\"\\n\")\n",
        "print(df_scaled.var())"
      ],
      "metadata": {
        "colab": {
          "base_uri": "https://localhost:8080/"
        },
        "id": "nebySv1JCxEt",
        "outputId": "09952711-c979-455e-ab94-094679edcd8e"
      },
      "execution_count": 31,
      "outputs": [
        {
          "output_type": "stream",
          "name": "stdout",
          "text": [
            "       col1      col2      col3\n",
            "0 -0.442127  0.329683 -1.352726\n",
            "1  0.200967 -1.103723 -0.553388\n",
            "2 -1.245995 -0.702369  0.799338\n",
            "3  1.487156  1.476409  1.106776\n",
            "\n",
            "\n",
            "col1    1.333333\n",
            "col2    1.333333\n",
            "col3    1.333333\n",
            "dtype: float64\n"
          ]
        }
      ]
    },
    {
      "cell_type": "code",
      "source": [
        "import pandas as pd\n",
        "\n",
        "# Assuming wine_df is the DataFrame containing the wine dataset\n",
        "\n",
        "columns_of_interest = ['Ash', 'Alcalinity of ash', 'Magnesium']\n",
        "\n",
        "# Extract the specified columns from the DataFrame\n",
        "selected_columns = wine_df[columns_of_interest]\n",
        "\n",
        "# Print the summary statistics of the selected columns\n",
        "print(selected_columns.describe())"
      ],
      "metadata": {
        "colab": {
          "base_uri": "https://localhost:8080/"
        },
        "id": "rVwi1BftXzzX",
        "outputId": "2554ee18-1524-4c90-d2df-563af908a8ad"
      },
      "execution_count": 32,
      "outputs": [
        {
          "output_type": "stream",
          "name": "stdout",
          "text": [
            "              Ash  Alcalinity of ash   Magnesium\n",
            "count  178.000000         178.000000  178.000000\n",
            "mean     2.366517          19.494944   99.741573\n",
            "std      0.274344           3.339564   14.282484\n",
            "min      1.360000          10.600000   70.000000\n",
            "25%      2.210000          17.200000   88.000000\n",
            "50%      2.360000          19.500000   98.000000\n",
            "75%      2.557500          21.500000  107.000000\n",
            "max      3.230000          30.000000  162.000000\n"
          ]
        }
      ]
    },
    {
      "cell_type": "markdown",
      "source": [
        "The max of `Ash` is `3.23`, the max of `Ash  Alcalinity of ash` is `30.0` & the max for `Magnesium` is `162`.\n",
        "\n",
        "Understanding your data is a crucial first step before deciding on the most appropriate standardization technique."
      ],
      "metadata": {
        "id": "L9mS-U_WYQm6"
      }
    },
    {
      "cell_type": "markdown",
      "source": [
        "#### **Scaling data - standardizing columns**\n"
      ],
      "metadata": {
        "id": "NVE2_gMKCZAl"
      }
    },
    {
      "cell_type": "code",
      "source": [
        "from sklearn.preprocessing import StandardScaler\n",
        "import pandas as pd\n",
        "\n",
        "# Create the scaler\n",
        "scaler = StandardScaler()\n",
        "\n",
        "# Subset the DataFrame you want to scale\n",
        "wine_subset = wine_df[['Ash', 'Alcalinity of ash', 'Magnesium']]\n",
        "\n",
        "# Apply the scaler to wine_subset\n",
        "wine_subset_scaled = scaler.fit_transform(wine_subset)\n",
        "\n",
        "# Convert the scaled subset back to a DataFrame\n",
        "wine_subset_scaled_df = pd.DataFrame(wine_subset_scaled, columns=['Ash', 'Alcalinity of ash', 'Magnesium'])\n",
        "\n",
        "# Print the summary statistics of the scaled columns\n",
        "print(wine_subset_scaled_df.describe().loc[['min', 'max']])"
      ],
      "metadata": {
        "colab": {
          "base_uri": "https://localhost:8080/"
        },
        "id": "x0AmldBzY2QQ",
        "outputId": "b3f3117d-8942-40e5-e4d5-f999e60397b3"
      },
      "execution_count": 33,
      "outputs": [
        {
          "output_type": "stream",
          "name": "stdout",
          "text": [
            "          Ash  Alcalinity of ash  Magnesium\n",
            "min -3.679162          -2.671018  -2.088255\n",
            "max  3.156325           3.154511   4.371372\n"
          ]
        }
      ]
    },
    {
      "cell_type": "markdown",
      "source": [
        "## **Standardized data and modeling**\n"
      ],
      "metadata": {
        "id": "P2MDwjRFCaW9"
      }
    },
    {
      "cell_type": "markdown",
      "source": [
        "#### **KNN on non-scaled data**\n"
      ],
      "metadata": {
        "id": "z42PjL5qCbgt"
      }
    },
    {
      "cell_type": "code",
      "source": [
        "from sklearn.model_selection import train_test_split\n",
        "from sklearn.neighbors import KNeighborsClassifier\n",
        "\n",
        "# Read the CSV file into a DataFrame\n",
        "wine_df = pd.read_csv(\"wine_types.csv\")\n",
        "\n",
        "# Separate the features (X) and the target (y)\n",
        "X = wine_df.drop(\"Type\", axis=1)\n",
        "y = wine_df[\"Type\"]\n",
        "\n",
        "# Split the data into training and test sets\n",
        "X_train, X_test, y_train, y_test = train_test_split(X, y, stratify=y, random_state=42)\n",
        "\n",
        "# Create a K-nearest neighbors classifier\n",
        "knn = KNeighborsClassifier()\n",
        "\n",
        "# Train the KNN classifier on the training data\n",
        "knn.fit(X_train, y_train)\n",
        "\n",
        "# Score the model on the test data\n",
        "accuracy = knn.score(X_test, y_test)\n",
        "\n",
        "# Print the accuracy of the model on the test set\n",
        "print(\"Test set accuracy: {:.1f}\".format(accuracy * 100))"
      ],
      "metadata": {
        "colab": {
          "base_uri": "https://localhost:8080/"
        },
        "id": "dYaYm2V6cho9",
        "outputId": "103d1b6d-c479-42c4-a32c-7c48322291c3"
      },
      "execution_count": 34,
      "outputs": [
        {
          "output_type": "stream",
          "name": "stdout",
          "text": [
            "Test set accuracy: 77.8\n"
          ]
        }
      ]
    },
    {
      "cell_type": "markdown",
      "source": [
        "#### **KNN on scaled data**"
      ],
      "metadata": {
        "id": "KMTCVrdlCcs1"
      }
    },
    {
      "cell_type": "code",
      "source": [
        "from sklearn.preprocessing import StandardScaler\n",
        "from sklearn.model_selection import train_test_split\n",
        "from sklearn.neighbors import KNeighborsClassifier\n",
        "\n",
        "# Read the CSV file into a DataFrame\n",
        "wine_df = pd.read_csv(\"wine_types.csv\")\n",
        "\n",
        "# Separate the features (X) and the target (y)\n",
        "X = wine_df.drop(\"Type\", axis=1)\n",
        "y = wine_df[\"Type\"]\n",
        "\n",
        "# Split the data into training and test sets\n",
        "X_train, X_test, y_train, y_test = train_test_split(X, y, stratify=y, random_state=42)\n",
        "\n",
        "# Create a K-nearest neighbors classifier\n",
        "knn = KNeighborsClassifier()\n",
        "\n",
        "# Create a StandardScaler for feature scaling\n",
        "scaler = StandardScaler()\n",
        "\n",
        "# Scale the training and test sets\n",
        "X_train_scaled = scaler.fit_transform(X_train)\n",
        "X_test_scaled = scaler.transform(X_test)\n",
        "\n",
        "# Train the KNN classifier on the standardized training data\n",
        "knn.fit(X_train_scaled, y_train)\n",
        "\n",
        "# Score the model on the standardized test data\n",
        "accuracy = knn.score(X_test_scaled, y_test)\n",
        "\n",
        "# Print the accuracy of the model on the test set\n",
        "print(\"Test set accuracy: {:.1f}\".format(accuracy * 100))"
      ],
      "metadata": {
        "colab": {
          "base_uri": "https://localhost:8080/"
        },
        "id": "WKeh_tUuCxq2",
        "outputId": "faa2f300-be8d-4f16-e217-edec210993ad"
      },
      "execution_count": 35,
      "outputs": [
        {
          "output_type": "stream",
          "name": "stdout",
          "text": [
            "Test set accuracy: 93.3\n"
          ]
        }
      ]
    },
    {
      "cell_type": "code",
      "source": [],
      "metadata": {
        "id": "ZYnmxLiUCyI9"
      },
      "execution_count": 35,
      "outputs": []
    },
    {
      "cell_type": "markdown",
      "metadata": {
        "id": "OyhwAx34z1JD"
      },
      "source": [
        "# **3️⃣ Feature Engineering**"
      ]
    },
    {
      "cell_type": "markdown",
      "source": [
        "**Feature engineering** refers to the process of transforming raw data into meaningful features that can improve the performance of machine learning models. It involves creating new features from the existing ones in a dataset to better represent the underlying patterns and relationships in the data.\n",
        "\n",
        "Feature engineering is an essential step in the machine learning pipeline because the quality and relevance of the features can greatly impact the performance and predictive power of a model. Here are some common methods and techniques used in feature engineering:\n",
        "\n",
        "**Encoding Categorical Features:**\n",
        "\n",
        "- **`One-Hot Encoding`:** It creates binary columns for each unique category, indicating the presence or absence of a category.\n",
        "- **`Label Encoding`:** It assigns a unique numeric label to each category.\n",
        "\n",
        "**Handling Missing Values:**\n",
        "\n",
        "- **`Imputation`:** Missing values in numerical features can be replaced with mean, median, or other statistical measures.\n",
        "- **`Creating Indicator Variables`:** A binary indicator column can be created to represent the presence or absence of missing values.\n",
        "\n",
        "**Handling Date and Time:**\n",
        "\n",
        "- **`Extracting Information`:** Extracting useful information from date and time features, such as year, month, day, or time of day.\n",
        "- **`Time Since`:** Calculating the time duration since a specific event or reference point.\n",
        "\n",
        "**Scaling and Normalization:**\n",
        "\n",
        "- **`Standardization`:** Scaling numerical features to have zero mean and unit variance.\n",
        "- **`Min-Max Scaling`:** Scaling numerical features to a specific range, typically between 0 and 1.\n",
        "\n",
        "**Binning and Discretization:**\n",
        "\n",
        "- **`Creating bins or intervals`** for numerical features to convert them into categorical or ordinal features.\n",
        "- **`Grouping`:** Grouping similar categories or values together to reduce the cardinality of a feature.\n",
        "\n",
        "**Feature Extraction from Textual Data:**\n",
        "\n",
        "- **`Bag-of-Words`:** Representing text data by counting the occurrence of words.\n",
        "- **`TF-IDF`:** Assigning weights to words based on their frequency and inverse document frequency.\n",
        "- **`Word Embeddings`:** Transforming text data into numerical vectors using techniques like Word2Vec or GloVe.\n",
        "\n",
        "**Interaction and Polynomial Features:**\n",
        "\n",
        "- **`Creating interaction features`** by combining multiple features or their products.\n",
        "- **`Generating polynomial features`** by raising existing features to higher powers.\n",
        "\n",
        "**Domain-specific Feature Engineering:**\n",
        "\n",
        "- Creating features based on domain knowledge and understanding of the problem.\n",
        "- **Feature selection:** Selecting the most relevant features using techniques like correlation, mutual information, or feature importance.\n",
        "\n",
        "These are just a few examples of feature engineering methods. The choice of techniques depends on the specific dataset, the problem at hand, and the characteristics of the features. Feature engineering requires creativity, domain knowledge, and iterative experimentation to find the most informative representations of the data for the machine learning model.\n"
      ],
      "metadata": {
        "id": "IMe9B02Dd8Fh"
      }
    },
    {
      "cell_type": "markdown",
      "source": [
        "## **Feature engineering**\n"
      ],
      "metadata": {
        "id": "Eje12_Rbdmvy"
      }
    },
    {
      "cell_type": "markdown",
      "source": [
        "#### **Feature engineering knowledge test**\n",
        "\n",
        "In feature engineering, several techniques can be used to create new features that enhance the performance of machine learning models. Here are some good candidates for creating new features:\n",
        "\n",
        "1. **One-Hot Encoding**: It is useful for converting categorical variables into binary features. Each category is transformed into a binary vector, with a `1` representing the presence of the category and a `0` otherwise.\n",
        "\n",
        "2. **Binning**: This technique involves dividing a continuous variable into `bins` or `intervals` and then assigning a categorical value or label to each bin. **It can help capture non-linear relationships between the variable and the target**.\n",
        "\n",
        "3. **Polynomial Features**: By creating interaction terms and powers of existing features, polynomial features can capture complex relationships in the data. For example, if you have a feature $x$, you can create $x^2$, $x^3$, and so on.\n",
        "\n",
        "4. **Feature Scaling**: Scaling numeric features to a common range, such as normalizing or standardizing them, can help improve model performance. Normalization scales features to a range between `0` and `1`, while standardization transforms them to have a mean of 0 and a standard deviation of 1.\n",
        "\n",
        "5. **Feature Extraction**: Techniques like Principal Component Analysis (`PCA`) or Singular Value Decomposition (`SVD`) can reduce the dimensionality of the data by creating new features that are linear combinations of the original features. These techniques are useful when dealing with high-dimensional data.\n",
        "\n",
        "6. **Time-Based Features**: If your dataset contains temporal information, you can extract various features from it, such as day of the week, month, season, or time intervals. These features can capture time-related patterns that may be relevant to the problem you are solving.\n",
        "\n",
        "7. **Text-Based Features**: When working with text data, features like word counts, term frequency-inverse document frequency (`TF-IDF`), or word embeddings can provide valuable information about the text's content and structure.\n",
        "\n",
        "8. **Interaction Features**: Creating new features based on the interaction between existing features can help capture complex relationships that might be missed by individual features alone. For example, if you have features $x1$ and $x2$, you can create a new feature $x1$, $x2$ to represent their interaction.\n",
        "\n",
        "These are just a few examples of the many techniques available for creating new features in feature engineering. The choice of which techniques to apply depends on the specific dataset, the problem at hand, and the characteristics of the machine learning algorithm being used.\n",
        "\n",
        "\n"
      ],
      "metadata": {
        "id": "oGbZb-X3f14J"
      }
    },
    {
      "cell_type": "markdown",
      "source": [
        "#### **Identifying areas for feature engineering**\n"
      ],
      "metadata": {
        "id": "3oHVBlVwf3T7"
      }
    },
    {
      "cell_type": "markdown",
      "source": [
        "To identify areas for feature engineering in the volunteer dataset, it's essential to have a clear understanding of the columns and their contents. Without the specific details of the dataset, I can provide you with some general suggestions on columns that often benefit from feature engineering:\n",
        "\n",
        "1. `Date/Time Columns`: If the dataset includes date and time information, you can extract additional features like day of the week, month, year, season, or time of day. These derived features can provide valuable insights.\n",
        "\n",
        "2. `Categorical Columns`: Categorical variables can be transformed using techniques like one-hot encoding, label encoding, or creating binary indicators. This can help capture valuable information within categorical features.\n",
        "\n",
        "3. `Text Columns`: If there are text columns, you can perform natural language processing (NLP) techniques like tokenization, stemming, or creating word embeddings to extract meaningful information from the text.\n",
        "\n",
        "4. `Numerical Columns`: For numerical features, you can consider applying mathematical transformations (e.g., logarithm, square root) to normalize the data or create new features through mathematical operations (e.g., ratios, differences, interactions).\n",
        "\n",
        "5. `Interaction Features`: Combining two or more existing features can often lead to new features that capture interactions or relationships between variables, such as creating interaction terms or polynomial features.\n",
        "\n",
        "6. `Missing Values`: If there are missing values in the dataset, feature engineering techniques like imputation (e.g., mean, median, mode), or creating binary indicators for missingness can be helpful.\n",
        "\n",
        "Remember, the specific columns that require feature engineering would depend on the characteristics and context of the dataset you are working with."
      ],
      "metadata": {
        "id": "7iaNozSIB6yS"
      }
    },
    {
      "cell_type": "markdown",
      "source": [
        "## **Encoding categorical variables**\n"
      ],
      "metadata": {
        "id": "ZN2U-xm9f4xC"
      }
    },
    {
      "cell_type": "markdown",
      "source": [
        "#### **Encoding categorical variables - `binary`**\n"
      ],
      "metadata": {
        "id": "fvU6ebTKf6HS"
      }
    },
    {
      "cell_type": "code",
      "source": [
        "import pandas as pd\n",
        "\n",
        "data = {\n",
        "    'user': [0, 1, 2, 3],\n",
        "    'subscribed': ['y', 'n', 'n', 'y'],\n",
        "    'fav_color': ['blue', 'green', 'orange', 'green']\n",
        "}\n",
        "\n",
        "users = pd.DataFrame(data)\n",
        "print(users)\n",
        "print(\"\\n\")\n",
        "print(users[\"subscribed\"])"
      ],
      "metadata": {
        "colab": {
          "base_uri": "https://localhost:8080/"
        },
        "id": "EL08xJ7T9csS",
        "outputId": "01d1769b-160b-4768-a9c4-370752f07103"
      },
      "execution_count": 36,
      "outputs": [
        {
          "output_type": "stream",
          "name": "stdout",
          "text": [
            "   user subscribed fav_color\n",
            "0     0          y      blue\n",
            "1     1          n     green\n",
            "2     2          n    orange\n",
            "3     3          y     green\n",
            "\n",
            "\n",
            "0    y\n",
            "1    n\n",
            "2    n\n",
            "3    y\n",
            "Name: subscribed, dtype: object\n"
          ]
        }
      ]
    },
    {
      "cell_type": "code",
      "source": [
        "users[\"sub_enc\"] = users[\"subscribed\"].apply(lambda val: 1 if val == \"y\" else 0)\n",
        "print(users[[\"subscribed\", \"sub_enc\"]])"
      ],
      "metadata": {
        "colab": {
          "base_uri": "https://localhost:8080/"
        },
        "id": "YDqGQCUwCvf-",
        "outputId": "b5ce4ab6-f00b-46bd-cedd-d1bcc45264c7"
      },
      "execution_count": 37,
      "outputs": [
        {
          "output_type": "stream",
          "name": "stdout",
          "text": [
            "  subscribed  sub_enc\n",
            "0          y        1\n",
            "1          n        0\n",
            "2          n        0\n",
            "3          y        1\n"
          ]
        }
      ]
    },
    {
      "cell_type": "code",
      "source": [
        "from sklearn.preprocessing import LabelEncoder\n",
        "\n",
        "le = LabelEncoder()\n",
        "users[\"sub_enc_le\"] = le.fit_transform(users[\"subscribed\"])\n",
        "\n",
        "print(users[[\"subscribed\", \"sub_enc_le\"]])"
      ],
      "metadata": {
        "colab": {
          "base_uri": "https://localhost:8080/"
        },
        "id": "PEeOhePjDqbj",
        "outputId": "305d01fd-ee69-49eb-e5ac-46e07d831c62"
      },
      "execution_count": 38,
      "outputs": [
        {
          "output_type": "stream",
          "name": "stdout",
          "text": [
            "  subscribed  sub_enc_le\n",
            "0          y           1\n",
            "1          n           0\n",
            "2          n           0\n",
            "3          y           1\n"
          ]
        }
      ]
    },
    {
      "cell_type": "code",
      "source": [
        "import pandas as pd\n",
        "from sklearn.preprocessing import LabelEncoder\n",
        "\n",
        "# Load the hiking dataset into a DataFrame\n",
        "hiking =  pd.read_json(\"hiking.json\")\n",
        "display(hiking.head(5))\n",
        "\n",
        "# Set up the LabelEncoder object\n",
        "enc = LabelEncoder()\n",
        "\n",
        "# Apply the encoding to the \"Accessible\" column\n",
        "hiking[\"Accessible_enc\"] = enc.fit_transform(hiking[\"Accessible\"])\n",
        "\n",
        "# Compare the two columns\n",
        "print(hiking[[\"Accessible\",\"Accessible_enc\"]].head())"
      ],
      "metadata": {
        "colab": {
          "base_uri": "https://localhost:8080/",
          "height": 354
        },
        "id": "t8MXcP3cGCQz",
        "outputId": "b34dbae4-d939-45ad-f816-16a99d864d26"
      },
      "execution_count": 39,
      "outputs": [
        {
          "output_type": "display_data",
          "data": {
            "text/plain": [
              "  Prop_ID                     Name  \\\n",
              "0    B057  Salt Marsh Nature Trail   \n",
              "1    B073                Lullwater   \n",
              "2    B073                  Midwood   \n",
              "3    B073                Peninsula   \n",
              "4    B073                Waterfall   \n",
              "\n",
              "                                            Location      Park_Name  \\\n",
              "0  Enter behind the Salt Marsh Nature Center, loc...    Marine Park   \n",
              "1  Enter Park at Lincoln Road and Ocean Avenue en...  Prospect Park   \n",
              "2  Enter Park at Lincoln Road and Ocean Avenue en...  Prospect Park   \n",
              "3  Enter Park at Lincoln Road and Ocean Avenue en...  Prospect Park   \n",
              "4  Enter Park at Lincoln Road and Ocean Avenue en...  Prospect Park   \n",
              "\n",
              "       Length Difficulty                                      Other_Details  \\\n",
              "0   0.8 miles       None  <p>The first half of this mile-long trail foll...   \n",
              "1    1.0 mile       Easy  Explore the Lullwater to see how nature thrive...   \n",
              "2  0.75 miles       Easy  Step back in time with a walk through Brooklyn...   \n",
              "3   0.5 miles       Easy  Discover how the Peninsula has changed over th...   \n",
              "4   0.5 miles       Easy  Trace the source of the Lake on the Waterfall ...   \n",
              "\n",
              "  Accessible Limited_Access  lat  lon  \n",
              "0          Y              N  NaN  NaN  \n",
              "1          N              N  NaN  NaN  \n",
              "2          N              N  NaN  NaN  \n",
              "3          N              N  NaN  NaN  \n",
              "4          N              N  NaN  NaN  "
            ],
            "text/html": [
              "\n",
              "  <div id=\"df-81469973-eaf4-455b-ab83-0c70ccdf1117\">\n",
              "    <div class=\"colab-df-container\">\n",
              "      <div>\n",
              "<style scoped>\n",
              "    .dataframe tbody tr th:only-of-type {\n",
              "        vertical-align: middle;\n",
              "    }\n",
              "\n",
              "    .dataframe tbody tr th {\n",
              "        vertical-align: top;\n",
              "    }\n",
              "\n",
              "    .dataframe thead th {\n",
              "        text-align: right;\n",
              "    }\n",
              "</style>\n",
              "<table border=\"1\" class=\"dataframe\">\n",
              "  <thead>\n",
              "    <tr style=\"text-align: right;\">\n",
              "      <th></th>\n",
              "      <th>Prop_ID</th>\n",
              "      <th>Name</th>\n",
              "      <th>Location</th>\n",
              "      <th>Park_Name</th>\n",
              "      <th>Length</th>\n",
              "      <th>Difficulty</th>\n",
              "      <th>Other_Details</th>\n",
              "      <th>Accessible</th>\n",
              "      <th>Limited_Access</th>\n",
              "      <th>lat</th>\n",
              "      <th>lon</th>\n",
              "    </tr>\n",
              "  </thead>\n",
              "  <tbody>\n",
              "    <tr>\n",
              "      <th>0</th>\n",
              "      <td>B057</td>\n",
              "      <td>Salt Marsh Nature Trail</td>\n",
              "      <td>Enter behind the Salt Marsh Nature Center, loc...</td>\n",
              "      <td>Marine Park</td>\n",
              "      <td>0.8 miles</td>\n",
              "      <td>None</td>\n",
              "      <td>&lt;p&gt;The first half of this mile-long trail foll...</td>\n",
              "      <td>Y</td>\n",
              "      <td>N</td>\n",
              "      <td>NaN</td>\n",
              "      <td>NaN</td>\n",
              "    </tr>\n",
              "    <tr>\n",
              "      <th>1</th>\n",
              "      <td>B073</td>\n",
              "      <td>Lullwater</td>\n",
              "      <td>Enter Park at Lincoln Road and Ocean Avenue en...</td>\n",
              "      <td>Prospect Park</td>\n",
              "      <td>1.0 mile</td>\n",
              "      <td>Easy</td>\n",
              "      <td>Explore the Lullwater to see how nature thrive...</td>\n",
              "      <td>N</td>\n",
              "      <td>N</td>\n",
              "      <td>NaN</td>\n",
              "      <td>NaN</td>\n",
              "    </tr>\n",
              "    <tr>\n",
              "      <th>2</th>\n",
              "      <td>B073</td>\n",
              "      <td>Midwood</td>\n",
              "      <td>Enter Park at Lincoln Road and Ocean Avenue en...</td>\n",
              "      <td>Prospect Park</td>\n",
              "      <td>0.75 miles</td>\n",
              "      <td>Easy</td>\n",
              "      <td>Step back in time with a walk through Brooklyn...</td>\n",
              "      <td>N</td>\n",
              "      <td>N</td>\n",
              "      <td>NaN</td>\n",
              "      <td>NaN</td>\n",
              "    </tr>\n",
              "    <tr>\n",
              "      <th>3</th>\n",
              "      <td>B073</td>\n",
              "      <td>Peninsula</td>\n",
              "      <td>Enter Park at Lincoln Road and Ocean Avenue en...</td>\n",
              "      <td>Prospect Park</td>\n",
              "      <td>0.5 miles</td>\n",
              "      <td>Easy</td>\n",
              "      <td>Discover how the Peninsula has changed over th...</td>\n",
              "      <td>N</td>\n",
              "      <td>N</td>\n",
              "      <td>NaN</td>\n",
              "      <td>NaN</td>\n",
              "    </tr>\n",
              "    <tr>\n",
              "      <th>4</th>\n",
              "      <td>B073</td>\n",
              "      <td>Waterfall</td>\n",
              "      <td>Enter Park at Lincoln Road and Ocean Avenue en...</td>\n",
              "      <td>Prospect Park</td>\n",
              "      <td>0.5 miles</td>\n",
              "      <td>Easy</td>\n",
              "      <td>Trace the source of the Lake on the Waterfall ...</td>\n",
              "      <td>N</td>\n",
              "      <td>N</td>\n",
              "      <td>NaN</td>\n",
              "      <td>NaN</td>\n",
              "    </tr>\n",
              "  </tbody>\n",
              "</table>\n",
              "</div>\n",
              "      <button class=\"colab-df-convert\" onclick=\"convertToInteractive('df-81469973-eaf4-455b-ab83-0c70ccdf1117')\"\n",
              "              title=\"Convert this dataframe to an interactive table.\"\n",
              "              style=\"display:none;\">\n",
              "        \n",
              "  <svg xmlns=\"http://www.w3.org/2000/svg\" height=\"24px\"viewBox=\"0 0 24 24\"\n",
              "       width=\"24px\">\n",
              "    <path d=\"M0 0h24v24H0V0z\" fill=\"none\"/>\n",
              "    <path d=\"M18.56 5.44l.94 2.06.94-2.06 2.06-.94-2.06-.94-.94-2.06-.94 2.06-2.06.94zm-11 1L8.5 8.5l.94-2.06 2.06-.94-2.06-.94L8.5 2.5l-.94 2.06-2.06.94zm10 10l.94 2.06.94-2.06 2.06-.94-2.06-.94-.94-2.06-.94 2.06-2.06.94z\"/><path d=\"M17.41 7.96l-1.37-1.37c-.4-.4-.92-.59-1.43-.59-.52 0-1.04.2-1.43.59L10.3 9.45l-7.72 7.72c-.78.78-.78 2.05 0 2.83L4 21.41c.39.39.9.59 1.41.59.51 0 1.02-.2 1.41-.59l7.78-7.78 2.81-2.81c.8-.78.8-2.07 0-2.86zM5.41 20L4 18.59l7.72-7.72 1.47 1.35L5.41 20z\"/>\n",
              "  </svg>\n",
              "      </button>\n",
              "      \n",
              "  <style>\n",
              "    .colab-df-container {\n",
              "      display:flex;\n",
              "      flex-wrap:wrap;\n",
              "      gap: 12px;\n",
              "    }\n",
              "\n",
              "    .colab-df-convert {\n",
              "      background-color: #E8F0FE;\n",
              "      border: none;\n",
              "      border-radius: 50%;\n",
              "      cursor: pointer;\n",
              "      display: none;\n",
              "      fill: #1967D2;\n",
              "      height: 32px;\n",
              "      padding: 0 0 0 0;\n",
              "      width: 32px;\n",
              "    }\n",
              "\n",
              "    .colab-df-convert:hover {\n",
              "      background-color: #E2EBFA;\n",
              "      box-shadow: 0px 1px 2px rgba(60, 64, 67, 0.3), 0px 1px 3px 1px rgba(60, 64, 67, 0.15);\n",
              "      fill: #174EA6;\n",
              "    }\n",
              "\n",
              "    [theme=dark] .colab-df-convert {\n",
              "      background-color: #3B4455;\n",
              "      fill: #D2E3FC;\n",
              "    }\n",
              "\n",
              "    [theme=dark] .colab-df-convert:hover {\n",
              "      background-color: #434B5C;\n",
              "      box-shadow: 0px 1px 3px 1px rgba(0, 0, 0, 0.15);\n",
              "      filter: drop-shadow(0px 1px 2px rgba(0, 0, 0, 0.3));\n",
              "      fill: #FFFFFF;\n",
              "    }\n",
              "  </style>\n",
              "\n",
              "      <script>\n",
              "        const buttonEl =\n",
              "          document.querySelector('#df-81469973-eaf4-455b-ab83-0c70ccdf1117 button.colab-df-convert');\n",
              "        buttonEl.style.display =\n",
              "          google.colab.kernel.accessAllowed ? 'block' : 'none';\n",
              "\n",
              "        async function convertToInteractive(key) {\n",
              "          const element = document.querySelector('#df-81469973-eaf4-455b-ab83-0c70ccdf1117');\n",
              "          const dataTable =\n",
              "            await google.colab.kernel.invokeFunction('convertToInteractive',\n",
              "                                                     [key], {});\n",
              "          if (!dataTable) return;\n",
              "\n",
              "          const docLinkHtml = 'Like what you see? Visit the ' +\n",
              "            '<a target=\"_blank\" href=https://colab.research.google.com/notebooks/data_table.ipynb>data table notebook</a>'\n",
              "            + ' to learn more about interactive tables.';\n",
              "          element.innerHTML = '';\n",
              "          dataTable['output_type'] = 'display_data';\n",
              "          await google.colab.output.renderOutput(dataTable, element);\n",
              "          const docLink = document.createElement('div');\n",
              "          docLink.innerHTML = docLinkHtml;\n",
              "          element.appendChild(docLink);\n",
              "        }\n",
              "      </script>\n",
              "    </div>\n",
              "  </div>\n",
              "  "
            ]
          },
          "metadata": {}
        },
        {
          "output_type": "stream",
          "name": "stdout",
          "text": [
            "  Accessible  Accessible_enc\n",
            "0          Y               1\n",
            "1          N               0\n",
            "2          N               0\n",
            "3          N               0\n",
            "4          N               0\n"
          ]
        }
      ]
    },
    {
      "cell_type": "markdown",
      "source": [
        "#### **Encoding categorical variables - `one-hot`**\n"
      ],
      "metadata": {
        "id": "5tPLTrdjf7gR"
      }
    },
    {
      "cell_type": "code",
      "source": [
        "print(users['fav_color'])"
      ],
      "metadata": {
        "colab": {
          "base_uri": "https://localhost:8080/"
        },
        "id": "7qXvf5fV9dEK",
        "outputId": "0bc43cba-345b-4aee-8c5a-a9907aa0034e"
      },
      "execution_count": 40,
      "outputs": [
        {
          "output_type": "stream",
          "name": "stdout",
          "text": [
            "0      blue\n",
            "1     green\n",
            "2    orange\n",
            "3     green\n",
            "Name: fav_color, dtype: object\n"
          ]
        }
      ]
    },
    {
      "cell_type": "code",
      "source": [
        "display(pd.get_dummies(users['fav_color']))"
      ],
      "metadata": {
        "colab": {
          "base_uri": "https://localhost:8080/",
          "height": 175
        },
        "id": "Ap1fjYq9FoMq",
        "outputId": "2c8ed45b-127b-4c0b-d966-7d3fd4081482"
      },
      "execution_count": 41,
      "outputs": [
        {
          "output_type": "display_data",
          "data": {
            "text/plain": [
              "   blue  green  orange\n",
              "0     1      0       0\n",
              "1     0      1       0\n",
              "2     0      0       1\n",
              "3     0      1       0"
            ],
            "text/html": [
              "\n",
              "  <div id=\"df-d3ed9caf-53db-4306-b2b4-710306c63b67\">\n",
              "    <div class=\"colab-df-container\">\n",
              "      <div>\n",
              "<style scoped>\n",
              "    .dataframe tbody tr th:only-of-type {\n",
              "        vertical-align: middle;\n",
              "    }\n",
              "\n",
              "    .dataframe tbody tr th {\n",
              "        vertical-align: top;\n",
              "    }\n",
              "\n",
              "    .dataframe thead th {\n",
              "        text-align: right;\n",
              "    }\n",
              "</style>\n",
              "<table border=\"1\" class=\"dataframe\">\n",
              "  <thead>\n",
              "    <tr style=\"text-align: right;\">\n",
              "      <th></th>\n",
              "      <th>blue</th>\n",
              "      <th>green</th>\n",
              "      <th>orange</th>\n",
              "    </tr>\n",
              "  </thead>\n",
              "  <tbody>\n",
              "    <tr>\n",
              "      <th>0</th>\n",
              "      <td>1</td>\n",
              "      <td>0</td>\n",
              "      <td>0</td>\n",
              "    </tr>\n",
              "    <tr>\n",
              "      <th>1</th>\n",
              "      <td>0</td>\n",
              "      <td>1</td>\n",
              "      <td>0</td>\n",
              "    </tr>\n",
              "    <tr>\n",
              "      <th>2</th>\n",
              "      <td>0</td>\n",
              "      <td>0</td>\n",
              "      <td>1</td>\n",
              "    </tr>\n",
              "    <tr>\n",
              "      <th>3</th>\n",
              "      <td>0</td>\n",
              "      <td>1</td>\n",
              "      <td>0</td>\n",
              "    </tr>\n",
              "  </tbody>\n",
              "</table>\n",
              "</div>\n",
              "      <button class=\"colab-df-convert\" onclick=\"convertToInteractive('df-d3ed9caf-53db-4306-b2b4-710306c63b67')\"\n",
              "              title=\"Convert this dataframe to an interactive table.\"\n",
              "              style=\"display:none;\">\n",
              "        \n",
              "  <svg xmlns=\"http://www.w3.org/2000/svg\" height=\"24px\"viewBox=\"0 0 24 24\"\n",
              "       width=\"24px\">\n",
              "    <path d=\"M0 0h24v24H0V0z\" fill=\"none\"/>\n",
              "    <path d=\"M18.56 5.44l.94 2.06.94-2.06 2.06-.94-2.06-.94-.94-2.06-.94 2.06-2.06.94zm-11 1L8.5 8.5l.94-2.06 2.06-.94-2.06-.94L8.5 2.5l-.94 2.06-2.06.94zm10 10l.94 2.06.94-2.06 2.06-.94-2.06-.94-.94-2.06-.94 2.06-2.06.94z\"/><path d=\"M17.41 7.96l-1.37-1.37c-.4-.4-.92-.59-1.43-.59-.52 0-1.04.2-1.43.59L10.3 9.45l-7.72 7.72c-.78.78-.78 2.05 0 2.83L4 21.41c.39.39.9.59 1.41.59.51 0 1.02-.2 1.41-.59l7.78-7.78 2.81-2.81c.8-.78.8-2.07 0-2.86zM5.41 20L4 18.59l7.72-7.72 1.47 1.35L5.41 20z\"/>\n",
              "  </svg>\n",
              "      </button>\n",
              "      \n",
              "  <style>\n",
              "    .colab-df-container {\n",
              "      display:flex;\n",
              "      flex-wrap:wrap;\n",
              "      gap: 12px;\n",
              "    }\n",
              "\n",
              "    .colab-df-convert {\n",
              "      background-color: #E8F0FE;\n",
              "      border: none;\n",
              "      border-radius: 50%;\n",
              "      cursor: pointer;\n",
              "      display: none;\n",
              "      fill: #1967D2;\n",
              "      height: 32px;\n",
              "      padding: 0 0 0 0;\n",
              "      width: 32px;\n",
              "    }\n",
              "\n",
              "    .colab-df-convert:hover {\n",
              "      background-color: #E2EBFA;\n",
              "      box-shadow: 0px 1px 2px rgba(60, 64, 67, 0.3), 0px 1px 3px 1px rgba(60, 64, 67, 0.15);\n",
              "      fill: #174EA6;\n",
              "    }\n",
              "\n",
              "    [theme=dark] .colab-df-convert {\n",
              "      background-color: #3B4455;\n",
              "      fill: #D2E3FC;\n",
              "    }\n",
              "\n",
              "    [theme=dark] .colab-df-convert:hover {\n",
              "      background-color: #434B5C;\n",
              "      box-shadow: 0px 1px 3px 1px rgba(0, 0, 0, 0.15);\n",
              "      filter: drop-shadow(0px 1px 2px rgba(0, 0, 0, 0.3));\n",
              "      fill: #FFFFFF;\n",
              "    }\n",
              "  </style>\n",
              "\n",
              "      <script>\n",
              "        const buttonEl =\n",
              "          document.querySelector('#df-d3ed9caf-53db-4306-b2b4-710306c63b67 button.colab-df-convert');\n",
              "        buttonEl.style.display =\n",
              "          google.colab.kernel.accessAllowed ? 'block' : 'none';\n",
              "\n",
              "        async function convertToInteractive(key) {\n",
              "          const element = document.querySelector('#df-d3ed9caf-53db-4306-b2b4-710306c63b67');\n",
              "          const dataTable =\n",
              "            await google.colab.kernel.invokeFunction('convertToInteractive',\n",
              "                                                     [key], {});\n",
              "          if (!dataTable) return;\n",
              "\n",
              "          const docLinkHtml = 'Like what you see? Visit the ' +\n",
              "            '<a target=\"_blank\" href=https://colab.research.google.com/notebooks/data_table.ipynb>data table notebook</a>'\n",
              "            + ' to learn more about interactive tables.';\n",
              "          element.innerHTML = '';\n",
              "          dataTable['output_type'] = 'display_data';\n",
              "          await google.colab.output.renderOutput(dataTable, element);\n",
              "          const docLink = document.createElement('div');\n",
              "          docLink.innerHTML = docLinkHtml;\n",
              "          element.appendChild(docLink);\n",
              "        }\n",
              "      </script>\n",
              "    </div>\n",
              "  </div>\n",
              "  "
            ]
          },
          "metadata": {}
        }
      ]
    },
    {
      "cell_type": "code",
      "source": [
        "# Transform the category_desc column\n",
        "category_enc = pd.get_dummies(volunteer_df[\"category_desc\"])\n",
        "\n",
        "# Take a look at the encoded columns\n",
        "display(category_enc.head())\n",
        "display(category_enc.shape)"
      ],
      "metadata": {
        "colab": {
          "base_uri": "https://localhost:8080/",
          "height": 224
        },
        "id": "C1Ptz5hNGzcC",
        "outputId": "48a06cdf-41da-4d2e-fb47-890a91d1b941"
      },
      "execution_count": 42,
      "outputs": [
        {
          "output_type": "display_data",
          "data": {
            "text/plain": [
              "   Education  Emergency Preparedness  Environment  Health  \\\n",
              "1          0                       0            0       0   \n",
              "2          0                       0            0       0   \n",
              "3          0                       0            0       0   \n",
              "4          0                       0            1       0   \n",
              "5          0                       0            1       0   \n",
              "\n",
              "   Helping Neighbors in Need  Strengthening Communities  \n",
              "1                          0                          1  \n",
              "2                          0                          1  \n",
              "3                          0                          1  \n",
              "4                          0                          0  \n",
              "5                          0                          0  "
            ],
            "text/html": [
              "\n",
              "  <div id=\"df-0927d7f3-7af0-4fa6-a331-c93f09068393\">\n",
              "    <div class=\"colab-df-container\">\n",
              "      <div>\n",
              "<style scoped>\n",
              "    .dataframe tbody tr th:only-of-type {\n",
              "        vertical-align: middle;\n",
              "    }\n",
              "\n",
              "    .dataframe tbody tr th {\n",
              "        vertical-align: top;\n",
              "    }\n",
              "\n",
              "    .dataframe thead th {\n",
              "        text-align: right;\n",
              "    }\n",
              "</style>\n",
              "<table border=\"1\" class=\"dataframe\">\n",
              "  <thead>\n",
              "    <tr style=\"text-align: right;\">\n",
              "      <th></th>\n",
              "      <th>Education</th>\n",
              "      <th>Emergency Preparedness</th>\n",
              "      <th>Environment</th>\n",
              "      <th>Health</th>\n",
              "      <th>Helping Neighbors in Need</th>\n",
              "      <th>Strengthening Communities</th>\n",
              "    </tr>\n",
              "  </thead>\n",
              "  <tbody>\n",
              "    <tr>\n",
              "      <th>1</th>\n",
              "      <td>0</td>\n",
              "      <td>0</td>\n",
              "      <td>0</td>\n",
              "      <td>0</td>\n",
              "      <td>0</td>\n",
              "      <td>1</td>\n",
              "    </tr>\n",
              "    <tr>\n",
              "      <th>2</th>\n",
              "      <td>0</td>\n",
              "      <td>0</td>\n",
              "      <td>0</td>\n",
              "      <td>0</td>\n",
              "      <td>0</td>\n",
              "      <td>1</td>\n",
              "    </tr>\n",
              "    <tr>\n",
              "      <th>3</th>\n",
              "      <td>0</td>\n",
              "      <td>0</td>\n",
              "      <td>0</td>\n",
              "      <td>0</td>\n",
              "      <td>0</td>\n",
              "      <td>1</td>\n",
              "    </tr>\n",
              "    <tr>\n",
              "      <th>4</th>\n",
              "      <td>0</td>\n",
              "      <td>0</td>\n",
              "      <td>1</td>\n",
              "      <td>0</td>\n",
              "      <td>0</td>\n",
              "      <td>0</td>\n",
              "    </tr>\n",
              "    <tr>\n",
              "      <th>5</th>\n",
              "      <td>0</td>\n",
              "      <td>0</td>\n",
              "      <td>1</td>\n",
              "      <td>0</td>\n",
              "      <td>0</td>\n",
              "      <td>0</td>\n",
              "    </tr>\n",
              "  </tbody>\n",
              "</table>\n",
              "</div>\n",
              "      <button class=\"colab-df-convert\" onclick=\"convertToInteractive('df-0927d7f3-7af0-4fa6-a331-c93f09068393')\"\n",
              "              title=\"Convert this dataframe to an interactive table.\"\n",
              "              style=\"display:none;\">\n",
              "        \n",
              "  <svg xmlns=\"http://www.w3.org/2000/svg\" height=\"24px\"viewBox=\"0 0 24 24\"\n",
              "       width=\"24px\">\n",
              "    <path d=\"M0 0h24v24H0V0z\" fill=\"none\"/>\n",
              "    <path d=\"M18.56 5.44l.94 2.06.94-2.06 2.06-.94-2.06-.94-.94-2.06-.94 2.06-2.06.94zm-11 1L8.5 8.5l.94-2.06 2.06-.94-2.06-.94L8.5 2.5l-.94 2.06-2.06.94zm10 10l.94 2.06.94-2.06 2.06-.94-2.06-.94-.94-2.06-.94 2.06-2.06.94z\"/><path d=\"M17.41 7.96l-1.37-1.37c-.4-.4-.92-.59-1.43-.59-.52 0-1.04.2-1.43.59L10.3 9.45l-7.72 7.72c-.78.78-.78 2.05 0 2.83L4 21.41c.39.39.9.59 1.41.59.51 0 1.02-.2 1.41-.59l7.78-7.78 2.81-2.81c.8-.78.8-2.07 0-2.86zM5.41 20L4 18.59l7.72-7.72 1.47 1.35L5.41 20z\"/>\n",
              "  </svg>\n",
              "      </button>\n",
              "      \n",
              "  <style>\n",
              "    .colab-df-container {\n",
              "      display:flex;\n",
              "      flex-wrap:wrap;\n",
              "      gap: 12px;\n",
              "    }\n",
              "\n",
              "    .colab-df-convert {\n",
              "      background-color: #E8F0FE;\n",
              "      border: none;\n",
              "      border-radius: 50%;\n",
              "      cursor: pointer;\n",
              "      display: none;\n",
              "      fill: #1967D2;\n",
              "      height: 32px;\n",
              "      padding: 0 0 0 0;\n",
              "      width: 32px;\n",
              "    }\n",
              "\n",
              "    .colab-df-convert:hover {\n",
              "      background-color: #E2EBFA;\n",
              "      box-shadow: 0px 1px 2px rgba(60, 64, 67, 0.3), 0px 1px 3px 1px rgba(60, 64, 67, 0.15);\n",
              "      fill: #174EA6;\n",
              "    }\n",
              "\n",
              "    [theme=dark] .colab-df-convert {\n",
              "      background-color: #3B4455;\n",
              "      fill: #D2E3FC;\n",
              "    }\n",
              "\n",
              "    [theme=dark] .colab-df-convert:hover {\n",
              "      background-color: #434B5C;\n",
              "      box-shadow: 0px 1px 3px 1px rgba(0, 0, 0, 0.15);\n",
              "      filter: drop-shadow(0px 1px 2px rgba(0, 0, 0, 0.3));\n",
              "      fill: #FFFFFF;\n",
              "    }\n",
              "  </style>\n",
              "\n",
              "      <script>\n",
              "        const buttonEl =\n",
              "          document.querySelector('#df-0927d7f3-7af0-4fa6-a331-c93f09068393 button.colab-df-convert');\n",
              "        buttonEl.style.display =\n",
              "          google.colab.kernel.accessAllowed ? 'block' : 'none';\n",
              "\n",
              "        async function convertToInteractive(key) {\n",
              "          const element = document.querySelector('#df-0927d7f3-7af0-4fa6-a331-c93f09068393');\n",
              "          const dataTable =\n",
              "            await google.colab.kernel.invokeFunction('convertToInteractive',\n",
              "                                                     [key], {});\n",
              "          if (!dataTable) return;\n",
              "\n",
              "          const docLinkHtml = 'Like what you see? Visit the ' +\n",
              "            '<a target=\"_blank\" href=https://colab.research.google.com/notebooks/data_table.ipynb>data table notebook</a>'\n",
              "            + ' to learn more about interactive tables.';\n",
              "          element.innerHTML = '';\n",
              "          dataTable['output_type'] = 'display_data';\n",
              "          await google.colab.output.renderOutput(dataTable, element);\n",
              "          const docLink = document.createElement('div');\n",
              "          docLink.innerHTML = docLinkHtml;\n",
              "          element.appendChild(docLink);\n",
              "        }\n",
              "      </script>\n",
              "    </div>\n",
              "  </div>\n",
              "  "
            ]
          },
          "metadata": {}
        },
        {
          "output_type": "display_data",
          "data": {
            "text/plain": [
              "(617, 6)"
            ]
          },
          "metadata": {}
        }
      ]
    },
    {
      "cell_type": "markdown",
      "source": [
        "## **Engineering numerical features**\n"
      ],
      "metadata": {
        "id": "P_GmGjk4f84B"
      }
    },
    {
      "cell_type": "markdown",
      "source": [
        "#### **Aggregating numerical features**\n"
      ],
      "metadata": {
        "id": "E4GwZgQvf-Zi"
      }
    },
    {
      "cell_type": "code",
      "source": [
        "import pandas as pd\n",
        "\n",
        "data = {\n",
        "    'city': ['NYC', 'SF', 'LA', 'Boston'],\n",
        "    'day1': [68.3, 75.1, 80.3, 63.0],\n",
        "    'day2': [67.9, 75.5, 84.0, 61.0],\n",
        "    'day3': [67.81, 74.92, 81.33, 61.2]\n",
        "}\n",
        "\n",
        "temps = pd.DataFrame(data)\n",
        "\n",
        "display(temps)"
      ],
      "metadata": {
        "colab": {
          "base_uri": "https://localhost:8080/",
          "height": 175
        },
        "id": "L-EmpfZk9dgS",
        "outputId": "addee88a-4d65-4d5d-f34e-349883a14562"
      },
      "execution_count": 43,
      "outputs": [
        {
          "output_type": "display_data",
          "data": {
            "text/plain": [
              "     city  day1  day2   day3\n",
              "0     NYC  68.3  67.9  67.81\n",
              "1      SF  75.1  75.5  74.92\n",
              "2      LA  80.3  84.0  81.33\n",
              "3  Boston  63.0  61.0  61.20"
            ],
            "text/html": [
              "\n",
              "  <div id=\"df-5cd2e533-da84-4498-82fd-275e002bafd8\">\n",
              "    <div class=\"colab-df-container\">\n",
              "      <div>\n",
              "<style scoped>\n",
              "    .dataframe tbody tr th:only-of-type {\n",
              "        vertical-align: middle;\n",
              "    }\n",
              "\n",
              "    .dataframe tbody tr th {\n",
              "        vertical-align: top;\n",
              "    }\n",
              "\n",
              "    .dataframe thead th {\n",
              "        text-align: right;\n",
              "    }\n",
              "</style>\n",
              "<table border=\"1\" class=\"dataframe\">\n",
              "  <thead>\n",
              "    <tr style=\"text-align: right;\">\n",
              "      <th></th>\n",
              "      <th>city</th>\n",
              "      <th>day1</th>\n",
              "      <th>day2</th>\n",
              "      <th>day3</th>\n",
              "    </tr>\n",
              "  </thead>\n",
              "  <tbody>\n",
              "    <tr>\n",
              "      <th>0</th>\n",
              "      <td>NYC</td>\n",
              "      <td>68.3</td>\n",
              "      <td>67.9</td>\n",
              "      <td>67.81</td>\n",
              "    </tr>\n",
              "    <tr>\n",
              "      <th>1</th>\n",
              "      <td>SF</td>\n",
              "      <td>75.1</td>\n",
              "      <td>75.5</td>\n",
              "      <td>74.92</td>\n",
              "    </tr>\n",
              "    <tr>\n",
              "      <th>2</th>\n",
              "      <td>LA</td>\n",
              "      <td>80.3</td>\n",
              "      <td>84.0</td>\n",
              "      <td>81.33</td>\n",
              "    </tr>\n",
              "    <tr>\n",
              "      <th>3</th>\n",
              "      <td>Boston</td>\n",
              "      <td>63.0</td>\n",
              "      <td>61.0</td>\n",
              "      <td>61.20</td>\n",
              "    </tr>\n",
              "  </tbody>\n",
              "</table>\n",
              "</div>\n",
              "      <button class=\"colab-df-convert\" onclick=\"convertToInteractive('df-5cd2e533-da84-4498-82fd-275e002bafd8')\"\n",
              "              title=\"Convert this dataframe to an interactive table.\"\n",
              "              style=\"display:none;\">\n",
              "        \n",
              "  <svg xmlns=\"http://www.w3.org/2000/svg\" height=\"24px\"viewBox=\"0 0 24 24\"\n",
              "       width=\"24px\">\n",
              "    <path d=\"M0 0h24v24H0V0z\" fill=\"none\"/>\n",
              "    <path d=\"M18.56 5.44l.94 2.06.94-2.06 2.06-.94-2.06-.94-.94-2.06-.94 2.06-2.06.94zm-11 1L8.5 8.5l.94-2.06 2.06-.94-2.06-.94L8.5 2.5l-.94 2.06-2.06.94zm10 10l.94 2.06.94-2.06 2.06-.94-2.06-.94-.94-2.06-.94 2.06-2.06.94z\"/><path d=\"M17.41 7.96l-1.37-1.37c-.4-.4-.92-.59-1.43-.59-.52 0-1.04.2-1.43.59L10.3 9.45l-7.72 7.72c-.78.78-.78 2.05 0 2.83L4 21.41c.39.39.9.59 1.41.59.51 0 1.02-.2 1.41-.59l7.78-7.78 2.81-2.81c.8-.78.8-2.07 0-2.86zM5.41 20L4 18.59l7.72-7.72 1.47 1.35L5.41 20z\"/>\n",
              "  </svg>\n",
              "      </button>\n",
              "      \n",
              "  <style>\n",
              "    .colab-df-container {\n",
              "      display:flex;\n",
              "      flex-wrap:wrap;\n",
              "      gap: 12px;\n",
              "    }\n",
              "\n",
              "    .colab-df-convert {\n",
              "      background-color: #E8F0FE;\n",
              "      border: none;\n",
              "      border-radius: 50%;\n",
              "      cursor: pointer;\n",
              "      display: none;\n",
              "      fill: #1967D2;\n",
              "      height: 32px;\n",
              "      padding: 0 0 0 0;\n",
              "      width: 32px;\n",
              "    }\n",
              "\n",
              "    .colab-df-convert:hover {\n",
              "      background-color: #E2EBFA;\n",
              "      box-shadow: 0px 1px 2px rgba(60, 64, 67, 0.3), 0px 1px 3px 1px rgba(60, 64, 67, 0.15);\n",
              "      fill: #174EA6;\n",
              "    }\n",
              "\n",
              "    [theme=dark] .colab-df-convert {\n",
              "      background-color: #3B4455;\n",
              "      fill: #D2E3FC;\n",
              "    }\n",
              "\n",
              "    [theme=dark] .colab-df-convert:hover {\n",
              "      background-color: #434B5C;\n",
              "      box-shadow: 0px 1px 3px 1px rgba(0, 0, 0, 0.15);\n",
              "      filter: drop-shadow(0px 1px 2px rgba(0, 0, 0, 0.3));\n",
              "      fill: #FFFFFF;\n",
              "    }\n",
              "  </style>\n",
              "\n",
              "      <script>\n",
              "        const buttonEl =\n",
              "          document.querySelector('#df-5cd2e533-da84-4498-82fd-275e002bafd8 button.colab-df-convert');\n",
              "        buttonEl.style.display =\n",
              "          google.colab.kernel.accessAllowed ? 'block' : 'none';\n",
              "\n",
              "        async function convertToInteractive(key) {\n",
              "          const element = document.querySelector('#df-5cd2e533-da84-4498-82fd-275e002bafd8');\n",
              "          const dataTable =\n",
              "            await google.colab.kernel.invokeFunction('convertToInteractive',\n",
              "                                                     [key], {});\n",
              "          if (!dataTable) return;\n",
              "\n",
              "          const docLinkHtml = 'Like what you see? Visit the ' +\n",
              "            '<a target=\"_blank\" href=https://colab.research.google.com/notebooks/data_table.ipynb>data table notebook</a>'\n",
              "            + ' to learn more about interactive tables.';\n",
              "          element.innerHTML = '';\n",
              "          dataTable['output_type'] = 'display_data';\n",
              "          await google.colab.output.renderOutput(dataTable, element);\n",
              "          const docLink = document.createElement('div');\n",
              "          docLink.innerHTML = docLinkHtml;\n",
              "          element.appendChild(docLink);\n",
              "        }\n",
              "      </script>\n",
              "    </div>\n",
              "  </div>\n",
              "  "
            ]
          },
          "metadata": {}
        }
      ]
    },
    {
      "cell_type": "code",
      "source": [
        "temps[\"mean\"] = temps.loc[:,\"day1\":\"day3\"].mean(axis=1) # axis=1) means it computes the average temp for each row (city) separately.\n",
        "print(temps)"
      ],
      "metadata": {
        "colab": {
          "base_uri": "https://localhost:8080/"
        },
        "id": "gQk4qBE8Hmof",
        "outputId": "43d52481-0100-4eb3-bcba-995dc035ce63"
      },
      "execution_count": 44,
      "outputs": [
        {
          "output_type": "stream",
          "name": "stdout",
          "text": [
            "     city  day1  day2   day3       mean\n",
            "0     NYC  68.3  67.9  67.81  68.003333\n",
            "1      SF  75.1  75.5  74.92  75.173333\n",
            "2      LA  80.3  84.0  81.33  81.876667\n",
            "3  Boston  63.0  61.0  61.20  61.733333\n"
          ]
        }
      ]
    },
    {
      "cell_type": "markdown",
      "source": [
        "- `axis=0` refers to operations along the `vertical` axis, which corresponds to the `rows` of a DataFrame. When you specify `axis=0`, the operation will be performed `vertically`, `row-wise`, or across the index.\n",
        "\n",
        "- `axis=1` refers to operations along the `horizontal axis`, which corresponds to the `columns` of a DataFrame. When you specify `axis=1`, the operation will be performed horizontally, column-wise, or across the columns."
      ],
      "metadata": {
        "id": "XG60iZM3Il1e"
      }
    },
    {
      "cell_type": "markdown",
      "source": [
        "#### **Extracting datetime components**\n"
      ],
      "metadata": {
        "id": "GRVNnI20f_sZ"
      }
    },
    {
      "cell_type": "code",
      "source": [
        "import pandas as pd\n",
        "\n",
        "data = {\n",
        "    'date': ['July 30 2011', 'February 01 2011', 'January 29 2011', 'March 31 2012', 'February 05 2011'],\n",
        "    'purchase0': ['$45.081', '$19.482', '$76.093', '$32.614', '$75.98']\n",
        "}\n",
        "\n",
        "purchases = pd.DataFrame(data)\n",
        "\n",
        "display(purchases)"
      ],
      "metadata": {
        "colab": {
          "base_uri": "https://localhost:8080/",
          "height": 206
        },
        "id": "l9FrPL5K9d2K",
        "outputId": "3ac315b5-5477-4b04-8c43-42d8aed67bf3"
      },
      "execution_count": 45,
      "outputs": [
        {
          "output_type": "display_data",
          "data": {
            "text/plain": [
              "               date purchase0\n",
              "0      July 30 2011   $45.081\n",
              "1  February 01 2011   $19.482\n",
              "2   January 29 2011   $76.093\n",
              "3     March 31 2012   $32.614\n",
              "4  February 05 2011    $75.98"
            ],
            "text/html": [
              "\n",
              "  <div id=\"df-36bae391-73ae-491c-a058-bd4bd6fa5839\">\n",
              "    <div class=\"colab-df-container\">\n",
              "      <div>\n",
              "<style scoped>\n",
              "    .dataframe tbody tr th:only-of-type {\n",
              "        vertical-align: middle;\n",
              "    }\n",
              "\n",
              "    .dataframe tbody tr th {\n",
              "        vertical-align: top;\n",
              "    }\n",
              "\n",
              "    .dataframe thead th {\n",
              "        text-align: right;\n",
              "    }\n",
              "</style>\n",
              "<table border=\"1\" class=\"dataframe\">\n",
              "  <thead>\n",
              "    <tr style=\"text-align: right;\">\n",
              "      <th></th>\n",
              "      <th>date</th>\n",
              "      <th>purchase0</th>\n",
              "    </tr>\n",
              "  </thead>\n",
              "  <tbody>\n",
              "    <tr>\n",
              "      <th>0</th>\n",
              "      <td>July 30 2011</td>\n",
              "      <td>$45.081</td>\n",
              "    </tr>\n",
              "    <tr>\n",
              "      <th>1</th>\n",
              "      <td>February 01 2011</td>\n",
              "      <td>$19.482</td>\n",
              "    </tr>\n",
              "    <tr>\n",
              "      <th>2</th>\n",
              "      <td>January 29 2011</td>\n",
              "      <td>$76.093</td>\n",
              "    </tr>\n",
              "    <tr>\n",
              "      <th>3</th>\n",
              "      <td>March 31 2012</td>\n",
              "      <td>$32.614</td>\n",
              "    </tr>\n",
              "    <tr>\n",
              "      <th>4</th>\n",
              "      <td>February 05 2011</td>\n",
              "      <td>$75.98</td>\n",
              "    </tr>\n",
              "  </tbody>\n",
              "</table>\n",
              "</div>\n",
              "      <button class=\"colab-df-convert\" onclick=\"convertToInteractive('df-36bae391-73ae-491c-a058-bd4bd6fa5839')\"\n",
              "              title=\"Convert this dataframe to an interactive table.\"\n",
              "              style=\"display:none;\">\n",
              "        \n",
              "  <svg xmlns=\"http://www.w3.org/2000/svg\" height=\"24px\"viewBox=\"0 0 24 24\"\n",
              "       width=\"24px\">\n",
              "    <path d=\"M0 0h24v24H0V0z\" fill=\"none\"/>\n",
              "    <path d=\"M18.56 5.44l.94 2.06.94-2.06 2.06-.94-2.06-.94-.94-2.06-.94 2.06-2.06.94zm-11 1L8.5 8.5l.94-2.06 2.06-.94-2.06-.94L8.5 2.5l-.94 2.06-2.06.94zm10 10l.94 2.06.94-2.06 2.06-.94-2.06-.94-.94-2.06-.94 2.06-2.06.94z\"/><path d=\"M17.41 7.96l-1.37-1.37c-.4-.4-.92-.59-1.43-.59-.52 0-1.04.2-1.43.59L10.3 9.45l-7.72 7.72c-.78.78-.78 2.05 0 2.83L4 21.41c.39.39.9.59 1.41.59.51 0 1.02-.2 1.41-.59l7.78-7.78 2.81-2.81c.8-.78.8-2.07 0-2.86zM5.41 20L4 18.59l7.72-7.72 1.47 1.35L5.41 20z\"/>\n",
              "  </svg>\n",
              "      </button>\n",
              "      \n",
              "  <style>\n",
              "    .colab-df-container {\n",
              "      display:flex;\n",
              "      flex-wrap:wrap;\n",
              "      gap: 12px;\n",
              "    }\n",
              "\n",
              "    .colab-df-convert {\n",
              "      background-color: #E8F0FE;\n",
              "      border: none;\n",
              "      border-radius: 50%;\n",
              "      cursor: pointer;\n",
              "      display: none;\n",
              "      fill: #1967D2;\n",
              "      height: 32px;\n",
              "      padding: 0 0 0 0;\n",
              "      width: 32px;\n",
              "    }\n",
              "\n",
              "    .colab-df-convert:hover {\n",
              "      background-color: #E2EBFA;\n",
              "      box-shadow: 0px 1px 2px rgba(60, 64, 67, 0.3), 0px 1px 3px 1px rgba(60, 64, 67, 0.15);\n",
              "      fill: #174EA6;\n",
              "    }\n",
              "\n",
              "    [theme=dark] .colab-df-convert {\n",
              "      background-color: #3B4455;\n",
              "      fill: #D2E3FC;\n",
              "    }\n",
              "\n",
              "    [theme=dark] .colab-df-convert:hover {\n",
              "      background-color: #434B5C;\n",
              "      box-shadow: 0px 1px 3px 1px rgba(0, 0, 0, 0.15);\n",
              "      filter: drop-shadow(0px 1px 2px rgba(0, 0, 0, 0.3));\n",
              "      fill: #FFFFFF;\n",
              "    }\n",
              "  </style>\n",
              "\n",
              "      <script>\n",
              "        const buttonEl =\n",
              "          document.querySelector('#df-36bae391-73ae-491c-a058-bd4bd6fa5839 button.colab-df-convert');\n",
              "        buttonEl.style.display =\n",
              "          google.colab.kernel.accessAllowed ? 'block' : 'none';\n",
              "\n",
              "        async function convertToInteractive(key) {\n",
              "          const element = document.querySelector('#df-36bae391-73ae-491c-a058-bd4bd6fa5839');\n",
              "          const dataTable =\n",
              "            await google.colab.kernel.invokeFunction('convertToInteractive',\n",
              "                                                     [key], {});\n",
              "          if (!dataTable) return;\n",
              "\n",
              "          const docLinkHtml = 'Like what you see? Visit the ' +\n",
              "            '<a target=\"_blank\" href=https://colab.research.google.com/notebooks/data_table.ipynb>data table notebook</a>'\n",
              "            + ' to learn more about interactive tables.';\n",
              "          element.innerHTML = '';\n",
              "          dataTable['output_type'] = 'display_data';\n",
              "          await google.colab.output.renderOutput(dataTable, element);\n",
              "          const docLink = document.createElement('div');\n",
              "          docLink.innerHTML = docLinkHtml;\n",
              "          element.appendChild(docLink);\n",
              "        }\n",
              "      </script>\n",
              "    </div>\n",
              "  </div>\n",
              "  "
            ]
          },
          "metadata": {}
        }
      ]
    },
    {
      "cell_type": "code",
      "source": [
        "from datetime import datetime\n",
        "\n",
        "# Assuming you already have the 'purchases' DataFrame\n",
        "purchases[\"date_converted\"] = pd.to_datetime(purchases[\"date\"])\n",
        "purchases['month'] = purchases[\"date_converted\"].dt.month\n",
        "display(purchases)"
      ],
      "metadata": {
        "colab": {
          "base_uri": "https://localhost:8080/",
          "height": 206
        },
        "id": "ZiXIeMhFOvM9",
        "outputId": "e55a8ccb-eb72-48e3-95c6-fc9a0a745f7b"
      },
      "execution_count": 46,
      "outputs": [
        {
          "output_type": "display_data",
          "data": {
            "text/plain": [
              "               date purchase0 date_converted  month\n",
              "0      July 30 2011   $45.081     2011-07-30      7\n",
              "1  February 01 2011   $19.482     2011-02-01      2\n",
              "2   January 29 2011   $76.093     2011-01-29      1\n",
              "3     March 31 2012   $32.614     2012-03-31      3\n",
              "4  February 05 2011    $75.98     2011-02-05      2"
            ],
            "text/html": [
              "\n",
              "  <div id=\"df-b8433a32-0575-42e9-b436-c5929da99e8d\">\n",
              "    <div class=\"colab-df-container\">\n",
              "      <div>\n",
              "<style scoped>\n",
              "    .dataframe tbody tr th:only-of-type {\n",
              "        vertical-align: middle;\n",
              "    }\n",
              "\n",
              "    .dataframe tbody tr th {\n",
              "        vertical-align: top;\n",
              "    }\n",
              "\n",
              "    .dataframe thead th {\n",
              "        text-align: right;\n",
              "    }\n",
              "</style>\n",
              "<table border=\"1\" class=\"dataframe\">\n",
              "  <thead>\n",
              "    <tr style=\"text-align: right;\">\n",
              "      <th></th>\n",
              "      <th>date</th>\n",
              "      <th>purchase0</th>\n",
              "      <th>date_converted</th>\n",
              "      <th>month</th>\n",
              "    </tr>\n",
              "  </thead>\n",
              "  <tbody>\n",
              "    <tr>\n",
              "      <th>0</th>\n",
              "      <td>July 30 2011</td>\n",
              "      <td>$45.081</td>\n",
              "      <td>2011-07-30</td>\n",
              "      <td>7</td>\n",
              "    </tr>\n",
              "    <tr>\n",
              "      <th>1</th>\n",
              "      <td>February 01 2011</td>\n",
              "      <td>$19.482</td>\n",
              "      <td>2011-02-01</td>\n",
              "      <td>2</td>\n",
              "    </tr>\n",
              "    <tr>\n",
              "      <th>2</th>\n",
              "      <td>January 29 2011</td>\n",
              "      <td>$76.093</td>\n",
              "      <td>2011-01-29</td>\n",
              "      <td>1</td>\n",
              "    </tr>\n",
              "    <tr>\n",
              "      <th>3</th>\n",
              "      <td>March 31 2012</td>\n",
              "      <td>$32.614</td>\n",
              "      <td>2012-03-31</td>\n",
              "      <td>3</td>\n",
              "    </tr>\n",
              "    <tr>\n",
              "      <th>4</th>\n",
              "      <td>February 05 2011</td>\n",
              "      <td>$75.98</td>\n",
              "      <td>2011-02-05</td>\n",
              "      <td>2</td>\n",
              "    </tr>\n",
              "  </tbody>\n",
              "</table>\n",
              "</div>\n",
              "      <button class=\"colab-df-convert\" onclick=\"convertToInteractive('df-b8433a32-0575-42e9-b436-c5929da99e8d')\"\n",
              "              title=\"Convert this dataframe to an interactive table.\"\n",
              "              style=\"display:none;\">\n",
              "        \n",
              "  <svg xmlns=\"http://www.w3.org/2000/svg\" height=\"24px\"viewBox=\"0 0 24 24\"\n",
              "       width=\"24px\">\n",
              "    <path d=\"M0 0h24v24H0V0z\" fill=\"none\"/>\n",
              "    <path d=\"M18.56 5.44l.94 2.06.94-2.06 2.06-.94-2.06-.94-.94-2.06-.94 2.06-2.06.94zm-11 1L8.5 8.5l.94-2.06 2.06-.94-2.06-.94L8.5 2.5l-.94 2.06-2.06.94zm10 10l.94 2.06.94-2.06 2.06-.94-2.06-.94-.94-2.06-.94 2.06-2.06.94z\"/><path d=\"M17.41 7.96l-1.37-1.37c-.4-.4-.92-.59-1.43-.59-.52 0-1.04.2-1.43.59L10.3 9.45l-7.72 7.72c-.78.78-.78 2.05 0 2.83L4 21.41c.39.39.9.59 1.41.59.51 0 1.02-.2 1.41-.59l7.78-7.78 2.81-2.81c.8-.78.8-2.07 0-2.86zM5.41 20L4 18.59l7.72-7.72 1.47 1.35L5.41 20z\"/>\n",
              "  </svg>\n",
              "      </button>\n",
              "      \n",
              "  <style>\n",
              "    .colab-df-container {\n",
              "      display:flex;\n",
              "      flex-wrap:wrap;\n",
              "      gap: 12px;\n",
              "    }\n",
              "\n",
              "    .colab-df-convert {\n",
              "      background-color: #E8F0FE;\n",
              "      border: none;\n",
              "      border-radius: 50%;\n",
              "      cursor: pointer;\n",
              "      display: none;\n",
              "      fill: #1967D2;\n",
              "      height: 32px;\n",
              "      padding: 0 0 0 0;\n",
              "      width: 32px;\n",
              "    }\n",
              "\n",
              "    .colab-df-convert:hover {\n",
              "      background-color: #E2EBFA;\n",
              "      box-shadow: 0px 1px 2px rgba(60, 64, 67, 0.3), 0px 1px 3px 1px rgba(60, 64, 67, 0.15);\n",
              "      fill: #174EA6;\n",
              "    }\n",
              "\n",
              "    [theme=dark] .colab-df-convert {\n",
              "      background-color: #3B4455;\n",
              "      fill: #D2E3FC;\n",
              "    }\n",
              "\n",
              "    [theme=dark] .colab-df-convert:hover {\n",
              "      background-color: #434B5C;\n",
              "      box-shadow: 0px 1px 3px 1px rgba(0, 0, 0, 0.15);\n",
              "      filter: drop-shadow(0px 1px 2px rgba(0, 0, 0, 0.3));\n",
              "      fill: #FFFFFF;\n",
              "    }\n",
              "  </style>\n",
              "\n",
              "      <script>\n",
              "        const buttonEl =\n",
              "          document.querySelector('#df-b8433a32-0575-42e9-b436-c5929da99e8d button.colab-df-convert');\n",
              "        buttonEl.style.display =\n",
              "          google.colab.kernel.accessAllowed ? 'block' : 'none';\n",
              "\n",
              "        async function convertToInteractive(key) {\n",
              "          const element = document.querySelector('#df-b8433a32-0575-42e9-b436-c5929da99e8d');\n",
              "          const dataTable =\n",
              "            await google.colab.kernel.invokeFunction('convertToInteractive',\n",
              "                                                     [key], {});\n",
              "          if (!dataTable) return;\n",
              "\n",
              "          const docLinkHtml = 'Like what you see? Visit the ' +\n",
              "            '<a target=\"_blank\" href=https://colab.research.google.com/notebooks/data_table.ipynb>data table notebook</a>'\n",
              "            + ' to learn more about interactive tables.';\n",
              "          element.innerHTML = '';\n",
              "          dataTable['output_type'] = 'display_data';\n",
              "          await google.colab.output.renderOutput(dataTable, element);\n",
              "          const docLink = document.createElement('div');\n",
              "          docLink.innerHTML = docLinkHtml;\n",
              "          element.appendChild(docLink);\n",
              "        }\n",
              "      </script>\n",
              "    </div>\n",
              "  </div>\n",
              "  "
            ]
          },
          "metadata": {}
        }
      ]
    },
    {
      "cell_type": "markdown",
      "source": [
        "## **Engineering text features**\n"
      ],
      "metadata": {
        "id": "jNuOGlsWgBS5"
      }
    },
    {
      "cell_type": "markdown",
      "source": [
        "#### **Extracting string patterns**\n"
      ],
      "metadata": {
        "id": "RMBOUb7qgCrh"
      }
    },
    {
      "cell_type": "code",
      "source": [
        "hiking_df.head(5)"
      ],
      "metadata": {
        "colab": {
          "base_uri": "https://localhost:8080/",
          "height": 250
        },
        "id": "n_cnkIb4Qcro",
        "outputId": "a8b56055-3e69-4de1-fdf2-e49667b26184"
      },
      "execution_count": 47,
      "outputs": [
        {
          "output_type": "execute_result",
          "data": {
            "text/plain": [
              "  Prop_ID                     Name  \\\n",
              "0    B057  Salt Marsh Nature Trail   \n",
              "1    B073                Lullwater   \n",
              "2    B073                  Midwood   \n",
              "3    B073                Peninsula   \n",
              "4    B073                Waterfall   \n",
              "\n",
              "                                            Location      Park_Name  \\\n",
              "0  Enter behind the Salt Marsh Nature Center, loc...    Marine Park   \n",
              "1  Enter Park at Lincoln Road and Ocean Avenue en...  Prospect Park   \n",
              "2  Enter Park at Lincoln Road and Ocean Avenue en...  Prospect Park   \n",
              "3  Enter Park at Lincoln Road and Ocean Avenue en...  Prospect Park   \n",
              "4  Enter Park at Lincoln Road and Ocean Avenue en...  Prospect Park   \n",
              "\n",
              "       Length Difficulty                                      Other_Details  \\\n",
              "0   0.8 miles       None  <p>The first half of this mile-long trail foll...   \n",
              "1    1.0 mile       Easy  Explore the Lullwater to see how nature thrive...   \n",
              "2  0.75 miles       Easy  Step back in time with a walk through Brooklyn...   \n",
              "3   0.5 miles       Easy  Discover how the Peninsula has changed over th...   \n",
              "4   0.5 miles       Easy  Trace the source of the Lake on the Waterfall ...   \n",
              "\n",
              "  Accessible Limited_Access  lat  lon  \n",
              "0          Y              N  NaN  NaN  \n",
              "1          N              N  NaN  NaN  \n",
              "2          N              N  NaN  NaN  \n",
              "3          N              N  NaN  NaN  \n",
              "4          N              N  NaN  NaN  "
            ],
            "text/html": [
              "\n",
              "  <div id=\"df-9f308cd3-6a46-467e-b1bd-dd73c7c6f240\">\n",
              "    <div class=\"colab-df-container\">\n",
              "      <div>\n",
              "<style scoped>\n",
              "    .dataframe tbody tr th:only-of-type {\n",
              "        vertical-align: middle;\n",
              "    }\n",
              "\n",
              "    .dataframe tbody tr th {\n",
              "        vertical-align: top;\n",
              "    }\n",
              "\n",
              "    .dataframe thead th {\n",
              "        text-align: right;\n",
              "    }\n",
              "</style>\n",
              "<table border=\"1\" class=\"dataframe\">\n",
              "  <thead>\n",
              "    <tr style=\"text-align: right;\">\n",
              "      <th></th>\n",
              "      <th>Prop_ID</th>\n",
              "      <th>Name</th>\n",
              "      <th>Location</th>\n",
              "      <th>Park_Name</th>\n",
              "      <th>Length</th>\n",
              "      <th>Difficulty</th>\n",
              "      <th>Other_Details</th>\n",
              "      <th>Accessible</th>\n",
              "      <th>Limited_Access</th>\n",
              "      <th>lat</th>\n",
              "      <th>lon</th>\n",
              "    </tr>\n",
              "  </thead>\n",
              "  <tbody>\n",
              "    <tr>\n",
              "      <th>0</th>\n",
              "      <td>B057</td>\n",
              "      <td>Salt Marsh Nature Trail</td>\n",
              "      <td>Enter behind the Salt Marsh Nature Center, loc...</td>\n",
              "      <td>Marine Park</td>\n",
              "      <td>0.8 miles</td>\n",
              "      <td>None</td>\n",
              "      <td>&lt;p&gt;The first half of this mile-long trail foll...</td>\n",
              "      <td>Y</td>\n",
              "      <td>N</td>\n",
              "      <td>NaN</td>\n",
              "      <td>NaN</td>\n",
              "    </tr>\n",
              "    <tr>\n",
              "      <th>1</th>\n",
              "      <td>B073</td>\n",
              "      <td>Lullwater</td>\n",
              "      <td>Enter Park at Lincoln Road and Ocean Avenue en...</td>\n",
              "      <td>Prospect Park</td>\n",
              "      <td>1.0 mile</td>\n",
              "      <td>Easy</td>\n",
              "      <td>Explore the Lullwater to see how nature thrive...</td>\n",
              "      <td>N</td>\n",
              "      <td>N</td>\n",
              "      <td>NaN</td>\n",
              "      <td>NaN</td>\n",
              "    </tr>\n",
              "    <tr>\n",
              "      <th>2</th>\n",
              "      <td>B073</td>\n",
              "      <td>Midwood</td>\n",
              "      <td>Enter Park at Lincoln Road and Ocean Avenue en...</td>\n",
              "      <td>Prospect Park</td>\n",
              "      <td>0.75 miles</td>\n",
              "      <td>Easy</td>\n",
              "      <td>Step back in time with a walk through Brooklyn...</td>\n",
              "      <td>N</td>\n",
              "      <td>N</td>\n",
              "      <td>NaN</td>\n",
              "      <td>NaN</td>\n",
              "    </tr>\n",
              "    <tr>\n",
              "      <th>3</th>\n",
              "      <td>B073</td>\n",
              "      <td>Peninsula</td>\n",
              "      <td>Enter Park at Lincoln Road and Ocean Avenue en...</td>\n",
              "      <td>Prospect Park</td>\n",
              "      <td>0.5 miles</td>\n",
              "      <td>Easy</td>\n",
              "      <td>Discover how the Peninsula has changed over th...</td>\n",
              "      <td>N</td>\n",
              "      <td>N</td>\n",
              "      <td>NaN</td>\n",
              "      <td>NaN</td>\n",
              "    </tr>\n",
              "    <tr>\n",
              "      <th>4</th>\n",
              "      <td>B073</td>\n",
              "      <td>Waterfall</td>\n",
              "      <td>Enter Park at Lincoln Road and Ocean Avenue en...</td>\n",
              "      <td>Prospect Park</td>\n",
              "      <td>0.5 miles</td>\n",
              "      <td>Easy</td>\n",
              "      <td>Trace the source of the Lake on the Waterfall ...</td>\n",
              "      <td>N</td>\n",
              "      <td>N</td>\n",
              "      <td>NaN</td>\n",
              "      <td>NaN</td>\n",
              "    </tr>\n",
              "  </tbody>\n",
              "</table>\n",
              "</div>\n",
              "      <button class=\"colab-df-convert\" onclick=\"convertToInteractive('df-9f308cd3-6a46-467e-b1bd-dd73c7c6f240')\"\n",
              "              title=\"Convert this dataframe to an interactive table.\"\n",
              "              style=\"display:none;\">\n",
              "        \n",
              "  <svg xmlns=\"http://www.w3.org/2000/svg\" height=\"24px\"viewBox=\"0 0 24 24\"\n",
              "       width=\"24px\">\n",
              "    <path d=\"M0 0h24v24H0V0z\" fill=\"none\"/>\n",
              "    <path d=\"M18.56 5.44l.94 2.06.94-2.06 2.06-.94-2.06-.94-.94-2.06-.94 2.06-2.06.94zm-11 1L8.5 8.5l.94-2.06 2.06-.94-2.06-.94L8.5 2.5l-.94 2.06-2.06.94zm10 10l.94 2.06.94-2.06 2.06-.94-2.06-.94-.94-2.06-.94 2.06-2.06.94z\"/><path d=\"M17.41 7.96l-1.37-1.37c-.4-.4-.92-.59-1.43-.59-.52 0-1.04.2-1.43.59L10.3 9.45l-7.72 7.72c-.78.78-.78 2.05 0 2.83L4 21.41c.39.39.9.59 1.41.59.51 0 1.02-.2 1.41-.59l7.78-7.78 2.81-2.81c.8-.78.8-2.07 0-2.86zM5.41 20L4 18.59l7.72-7.72 1.47 1.35L5.41 20z\"/>\n",
              "  </svg>\n",
              "      </button>\n",
              "      \n",
              "  <style>\n",
              "    .colab-df-container {\n",
              "      display:flex;\n",
              "      flex-wrap:wrap;\n",
              "      gap: 12px;\n",
              "    }\n",
              "\n",
              "    .colab-df-convert {\n",
              "      background-color: #E8F0FE;\n",
              "      border: none;\n",
              "      border-radius: 50%;\n",
              "      cursor: pointer;\n",
              "      display: none;\n",
              "      fill: #1967D2;\n",
              "      height: 32px;\n",
              "      padding: 0 0 0 0;\n",
              "      width: 32px;\n",
              "    }\n",
              "\n",
              "    .colab-df-convert:hover {\n",
              "      background-color: #E2EBFA;\n",
              "      box-shadow: 0px 1px 2px rgba(60, 64, 67, 0.3), 0px 1px 3px 1px rgba(60, 64, 67, 0.15);\n",
              "      fill: #174EA6;\n",
              "    }\n",
              "\n",
              "    [theme=dark] .colab-df-convert {\n",
              "      background-color: #3B4455;\n",
              "      fill: #D2E3FC;\n",
              "    }\n",
              "\n",
              "    [theme=dark] .colab-df-convert:hover {\n",
              "      background-color: #434B5C;\n",
              "      box-shadow: 0px 1px 3px 1px rgba(0, 0, 0, 0.15);\n",
              "      filter: drop-shadow(0px 1px 2px rgba(0, 0, 0, 0.3));\n",
              "      fill: #FFFFFF;\n",
              "    }\n",
              "  </style>\n",
              "\n",
              "      <script>\n",
              "        const buttonEl =\n",
              "          document.querySelector('#df-9f308cd3-6a46-467e-b1bd-dd73c7c6f240 button.colab-df-convert');\n",
              "        buttonEl.style.display =\n",
              "          google.colab.kernel.accessAllowed ? 'block' : 'none';\n",
              "\n",
              "        async function convertToInteractive(key) {\n",
              "          const element = document.querySelector('#df-9f308cd3-6a46-467e-b1bd-dd73c7c6f240');\n",
              "          const dataTable =\n",
              "            await google.colab.kernel.invokeFunction('convertToInteractive',\n",
              "                                                     [key], {});\n",
              "          if (!dataTable) return;\n",
              "\n",
              "          const docLinkHtml = 'Like what you see? Visit the ' +\n",
              "            '<a target=\"_blank\" href=https://colab.research.google.com/notebooks/data_table.ipynb>data table notebook</a>'\n",
              "            + ' to learn more about interactive tables.';\n",
              "          element.innerHTML = '';\n",
              "          dataTable['output_type'] = 'display_data';\n",
              "          await google.colab.output.renderOutput(dataTable, element);\n",
              "          const docLink = document.createElement('div');\n",
              "          docLink.innerHTML = docLinkHtml;\n",
              "          element.appendChild(docLink);\n",
              "        }\n",
              "      </script>\n",
              "    </div>\n",
              "  </div>\n",
              "  "
            ]
          },
          "metadata": {},
          "execution_count": 47
        }
      ]
    },
    {
      "cell_type": "markdown",
      "source": [
        "**Regular expressions** are a powerful tool for `searching`, `extracting`, and `manipulating` text based on specific patterns. They allow you to define a pattern that describes a set of strings, and then you can use that pattern to perform operations like searching for matches, extracting specific parts of a string, replacing patterns, and more."
      ],
      "metadata": {
        "id": "8k9NszCsWpYD"
      }
    },
    {
      "cell_type": "code",
      "source": [
        "import re\n",
        "\n",
        "def return_mileage(length):\n",
        "    if isinstance(length, str):\n",
        "        # Search the text for matches\n",
        "        mile = re.search(r'\\d+\\.\\d+', length)\n",
        "\n",
        "        # If a value is returned, use group(0) to return the found value\n",
        "        if mile is not None:\n",
        "            return float(mile.group(0))\n",
        "    return None\n",
        "\n",
        "# Apply the function to the Length column and take a look at both columns\n",
        "hiking_df[\"Length_num\"] = hiking_df[\"Length\"].apply(return_mileage)\n",
        "display(hiking_df[[\"Length\", \"Length_num\"]].head())"
      ],
      "metadata": {
        "colab": {
          "base_uri": "https://localhost:8080/",
          "height": 206
        },
        "id": "yOUFZ3P8RCUL",
        "outputId": "878cb3df-40c8-43ea-9f5f-db97387e0dfb"
      },
      "execution_count": 48,
      "outputs": [
        {
          "output_type": "display_data",
          "data": {
            "text/plain": [
              "       Length  Length_num\n",
              "0   0.8 miles        0.80\n",
              "1    1.0 mile        1.00\n",
              "2  0.75 miles        0.75\n",
              "3   0.5 miles        0.50\n",
              "4   0.5 miles        0.50"
            ],
            "text/html": [
              "\n",
              "  <div id=\"df-91ad1731-18e4-415d-997f-3496c13d83cb\">\n",
              "    <div class=\"colab-df-container\">\n",
              "      <div>\n",
              "<style scoped>\n",
              "    .dataframe tbody tr th:only-of-type {\n",
              "        vertical-align: middle;\n",
              "    }\n",
              "\n",
              "    .dataframe tbody tr th {\n",
              "        vertical-align: top;\n",
              "    }\n",
              "\n",
              "    .dataframe thead th {\n",
              "        text-align: right;\n",
              "    }\n",
              "</style>\n",
              "<table border=\"1\" class=\"dataframe\">\n",
              "  <thead>\n",
              "    <tr style=\"text-align: right;\">\n",
              "      <th></th>\n",
              "      <th>Length</th>\n",
              "      <th>Length_num</th>\n",
              "    </tr>\n",
              "  </thead>\n",
              "  <tbody>\n",
              "    <tr>\n",
              "      <th>0</th>\n",
              "      <td>0.8 miles</td>\n",
              "      <td>0.80</td>\n",
              "    </tr>\n",
              "    <tr>\n",
              "      <th>1</th>\n",
              "      <td>1.0 mile</td>\n",
              "      <td>1.00</td>\n",
              "    </tr>\n",
              "    <tr>\n",
              "      <th>2</th>\n",
              "      <td>0.75 miles</td>\n",
              "      <td>0.75</td>\n",
              "    </tr>\n",
              "    <tr>\n",
              "      <th>3</th>\n",
              "      <td>0.5 miles</td>\n",
              "      <td>0.50</td>\n",
              "    </tr>\n",
              "    <tr>\n",
              "      <th>4</th>\n",
              "      <td>0.5 miles</td>\n",
              "      <td>0.50</td>\n",
              "    </tr>\n",
              "  </tbody>\n",
              "</table>\n",
              "</div>\n",
              "      <button class=\"colab-df-convert\" onclick=\"convertToInteractive('df-91ad1731-18e4-415d-997f-3496c13d83cb')\"\n",
              "              title=\"Convert this dataframe to an interactive table.\"\n",
              "              style=\"display:none;\">\n",
              "        \n",
              "  <svg xmlns=\"http://www.w3.org/2000/svg\" height=\"24px\"viewBox=\"0 0 24 24\"\n",
              "       width=\"24px\">\n",
              "    <path d=\"M0 0h24v24H0V0z\" fill=\"none\"/>\n",
              "    <path d=\"M18.56 5.44l.94 2.06.94-2.06 2.06-.94-2.06-.94-.94-2.06-.94 2.06-2.06.94zm-11 1L8.5 8.5l.94-2.06 2.06-.94-2.06-.94L8.5 2.5l-.94 2.06-2.06.94zm10 10l.94 2.06.94-2.06 2.06-.94-2.06-.94-.94-2.06-.94 2.06-2.06.94z\"/><path d=\"M17.41 7.96l-1.37-1.37c-.4-.4-.92-.59-1.43-.59-.52 0-1.04.2-1.43.59L10.3 9.45l-7.72 7.72c-.78.78-.78 2.05 0 2.83L4 21.41c.39.39.9.59 1.41.59.51 0 1.02-.2 1.41-.59l7.78-7.78 2.81-2.81c.8-.78.8-2.07 0-2.86zM5.41 20L4 18.59l7.72-7.72 1.47 1.35L5.41 20z\"/>\n",
              "  </svg>\n",
              "      </button>\n",
              "      \n",
              "  <style>\n",
              "    .colab-df-container {\n",
              "      display:flex;\n",
              "      flex-wrap:wrap;\n",
              "      gap: 12px;\n",
              "    }\n",
              "\n",
              "    .colab-df-convert {\n",
              "      background-color: #E8F0FE;\n",
              "      border: none;\n",
              "      border-radius: 50%;\n",
              "      cursor: pointer;\n",
              "      display: none;\n",
              "      fill: #1967D2;\n",
              "      height: 32px;\n",
              "      padding: 0 0 0 0;\n",
              "      width: 32px;\n",
              "    }\n",
              "\n",
              "    .colab-df-convert:hover {\n",
              "      background-color: #E2EBFA;\n",
              "      box-shadow: 0px 1px 2px rgba(60, 64, 67, 0.3), 0px 1px 3px 1px rgba(60, 64, 67, 0.15);\n",
              "      fill: #174EA6;\n",
              "    }\n",
              "\n",
              "    [theme=dark] .colab-df-convert {\n",
              "      background-color: #3B4455;\n",
              "      fill: #D2E3FC;\n",
              "    }\n",
              "\n",
              "    [theme=dark] .colab-df-convert:hover {\n",
              "      background-color: #434B5C;\n",
              "      box-shadow: 0px 1px 3px 1px rgba(0, 0, 0, 0.15);\n",
              "      filter: drop-shadow(0px 1px 2px rgba(0, 0, 0, 0.3));\n",
              "      fill: #FFFFFF;\n",
              "    }\n",
              "  </style>\n",
              "\n",
              "      <script>\n",
              "        const buttonEl =\n",
              "          document.querySelector('#df-91ad1731-18e4-415d-997f-3496c13d83cb button.colab-df-convert');\n",
              "        buttonEl.style.display =\n",
              "          google.colab.kernel.accessAllowed ? 'block' : 'none';\n",
              "\n",
              "        async function convertToInteractive(key) {\n",
              "          const element = document.querySelector('#df-91ad1731-18e4-415d-997f-3496c13d83cb');\n",
              "          const dataTable =\n",
              "            await google.colab.kernel.invokeFunction('convertToInteractive',\n",
              "                                                     [key], {});\n",
              "          if (!dataTable) return;\n",
              "\n",
              "          const docLinkHtml = 'Like what you see? Visit the ' +\n",
              "            '<a target=\"_blank\" href=https://colab.research.google.com/notebooks/data_table.ipynb>data table notebook</a>'\n",
              "            + ' to learn more about interactive tables.';\n",
              "          element.innerHTML = '';\n",
              "          dataTable['output_type'] = 'display_data';\n",
              "          await google.colab.output.renderOutput(dataTable, element);\n",
              "          const docLink = document.createElement('div');\n",
              "          docLink.innerHTML = docLinkHtml;\n",
              "          element.appendChild(docLink);\n",
              "        }\n",
              "      </script>\n",
              "    </div>\n",
              "  </div>\n",
              "  "
            ]
          },
          "metadata": {}
        }
      ]
    },
    {
      "cell_type": "markdown",
      "source": [
        "In this code, we use the regular expression pattern `r'\\d+\\.\\d+'` to match numbers with decimals in the length argument. Here's how the pattern works:\n",
        "\n",
        "- `\\d+` matches one or more digits.\n",
        "- `\\.` matches the decimal point.\n",
        "- `\\d+` matches one or more digits after the decimal point.\n",
        "\n",
        "The `re.search()` function is used to find the first occurrence of the pattern in the length argument.\n",
        "\n",
        "If a match is found, we extract the matched pattern using `group(0)` and convert it to a float.\n",
        "\n",
        "Finally, we apply the `return_mileage()` function to each row in the `\"Length\"` column of the `\"hiking_df\"` DataFrame using the `apply()` method, and store the extracted mileage in the new `\"Length_num\"` column. The result is then printed to display both the original `\"Length\"` column and the extracted `\"Length_num\"` column."
      ],
      "metadata": {
        "id": "bDF0lnvDRNN0"
      }
    },
    {
      "cell_type": "markdown",
      "source": [
        "#### **Vectorizing text**\n"
      ],
      "metadata": {
        "id": "NpaJHJvagEBR"
      }
    },
    {
      "cell_type": "markdown",
      "source": [
        "**TF/IDF**: Vectorizes words based upon importance\n",
        "- `TF` = Term Frequency\n",
        "- `IDF` = Inverse Document Frequency\n",
        "\n",
        "`TF-IDF` is a method used to measure the importance of words in a document. It considers both how often a word appears in the document (**Term Frequency**) and how rare or common it is across all documents (**Inverse Document Frequency**). By combining these two measures, `TF-IDF` assigns a score to each word that reflects its importance in the document and the collection as a whole. This allows us to represent documents as numerical vectors based on word importance."
      ],
      "metadata": {
        "id": "5qfCaUiEX5BO"
      }
    },
    {
      "cell_type": "code",
      "source": [
        "import pandas as pd\n",
        "from sklearn.feature_extraction.text import TfidfVectorizer\n",
        "\n",
        "documents = pd.DataFrame({\"Text\": [\n",
        "    \"Building on successful events last summer and ...\",\n",
        "    \"Build a website for an Afghan business\",\n",
        "    \"Please join us and the students from Mott Hall...\",\n",
        "    \"The Oxfam Action Corps is a group of dedicated...\",\n",
        "    \"Stop 'N' Swap reduces NYC's waste by finding n...\",\n",
        "    \"We are organizing a charity event for the local community\",\n",
        "    \"Learn how to play the guitar in just 30 days\",\n",
        "    \"Discover the latest fashion trends for this season\",\n",
        "    \"Join us for a hiking adventure in the mountains\",\n",
        "    \"Explore the world of virtual reality with our new technology\",\n",
        "    \"Improve your cooking skills with our gourmet cooking classes\",\n",
        "    \"Get fit and stay healthy with our personalized fitness program\"\n",
        "]})\n",
        "\n",
        "tfidf_vec = TfidfVectorizer()\n",
        "text_tfidf = tfidf_vec.fit_transform(documents['Text'])\n",
        "\n",
        "# To display the transformed data, you can convert it to a DataFrame\n",
        "tfidf_df = pd.DataFrame(text_tfidf.toarray(), columns=tfidf_vec.get_feature_names_out())\n",
        "display(tfidf_df.head())"
      ],
      "metadata": {
        "colab": {
          "base_uri": "https://localhost:8080/",
          "height": 236
        },
        "id": "vXD0TAKaZizM",
        "outputId": "ad05258d-3f42-4999-cee4-95b4d0189b7f"
      },
      "execution_count": 49,
      "outputs": [
        {
          "output_type": "display_data",
          "data": {
            "text/plain": [
              "    30    action  adventure    afghan        an       and  are     build  \\\n",
              "0  0.0  0.000000        0.0  0.000000  0.000000  0.295848  0.0  0.000000   \n",
              "1  0.0  0.000000        0.0  0.427817  0.427817  0.000000  0.0  0.427817   \n",
              "2  0.0  0.000000        0.0  0.000000  0.000000  0.280434  0.0  0.000000   \n",
              "3  0.0  0.377826        0.0  0.000000  0.000000  0.000000  0.0  0.000000   \n",
              "4  0.0  0.000000        0.0  0.000000  0.000000  0.000000  0.0  0.000000   \n",
              "\n",
              "   building  business  ...   to  trends        us  virtual     waste   we  \\\n",
              "0  0.389973  0.000000  ...  0.0     0.0  0.000000      0.0  0.000000  0.0   \n",
              "1  0.000000  0.427817  ...  0.0     0.0  0.000000      0.0  0.000000  0.0   \n",
              "2  0.000000  0.000000  ...  0.0     0.0  0.317465      0.0  0.000000  0.0   \n",
              "3  0.000000  0.000000  ...  0.0     0.0  0.000000      0.0  0.000000  0.0   \n",
              "4  0.000000  0.000000  ...  0.0     0.0  0.000000      0.0  0.377964  0.0   \n",
              "\n",
              "    website  with  world  your  \n",
              "0  0.000000   0.0    0.0   0.0  \n",
              "1  0.427817   0.0    0.0   0.0  \n",
              "2  0.000000   0.0    0.0   0.0  \n",
              "3  0.000000   0.0    0.0   0.0  \n",
              "4  0.000000   0.0    0.0   0.0  \n",
              "\n",
              "[5 rows x 81 columns]"
            ],
            "text/html": [
              "\n",
              "  <div id=\"df-6ecf3ac2-099b-4320-8101-72b8dab1ff45\">\n",
              "    <div class=\"colab-df-container\">\n",
              "      <div>\n",
              "<style scoped>\n",
              "    .dataframe tbody tr th:only-of-type {\n",
              "        vertical-align: middle;\n",
              "    }\n",
              "\n",
              "    .dataframe tbody tr th {\n",
              "        vertical-align: top;\n",
              "    }\n",
              "\n",
              "    .dataframe thead th {\n",
              "        text-align: right;\n",
              "    }\n",
              "</style>\n",
              "<table border=\"1\" class=\"dataframe\">\n",
              "  <thead>\n",
              "    <tr style=\"text-align: right;\">\n",
              "      <th></th>\n",
              "      <th>30</th>\n",
              "      <th>action</th>\n",
              "      <th>adventure</th>\n",
              "      <th>afghan</th>\n",
              "      <th>an</th>\n",
              "      <th>and</th>\n",
              "      <th>are</th>\n",
              "      <th>build</th>\n",
              "      <th>building</th>\n",
              "      <th>business</th>\n",
              "      <th>...</th>\n",
              "      <th>to</th>\n",
              "      <th>trends</th>\n",
              "      <th>us</th>\n",
              "      <th>virtual</th>\n",
              "      <th>waste</th>\n",
              "      <th>we</th>\n",
              "      <th>website</th>\n",
              "      <th>with</th>\n",
              "      <th>world</th>\n",
              "      <th>your</th>\n",
              "    </tr>\n",
              "  </thead>\n",
              "  <tbody>\n",
              "    <tr>\n",
              "      <th>0</th>\n",
              "      <td>0.0</td>\n",
              "      <td>0.000000</td>\n",
              "      <td>0.0</td>\n",
              "      <td>0.000000</td>\n",
              "      <td>0.000000</td>\n",
              "      <td>0.295848</td>\n",
              "      <td>0.0</td>\n",
              "      <td>0.000000</td>\n",
              "      <td>0.389973</td>\n",
              "      <td>0.000000</td>\n",
              "      <td>...</td>\n",
              "      <td>0.0</td>\n",
              "      <td>0.0</td>\n",
              "      <td>0.000000</td>\n",
              "      <td>0.0</td>\n",
              "      <td>0.000000</td>\n",
              "      <td>0.0</td>\n",
              "      <td>0.000000</td>\n",
              "      <td>0.0</td>\n",
              "      <td>0.0</td>\n",
              "      <td>0.0</td>\n",
              "    </tr>\n",
              "    <tr>\n",
              "      <th>1</th>\n",
              "      <td>0.0</td>\n",
              "      <td>0.000000</td>\n",
              "      <td>0.0</td>\n",
              "      <td>0.427817</td>\n",
              "      <td>0.427817</td>\n",
              "      <td>0.000000</td>\n",
              "      <td>0.0</td>\n",
              "      <td>0.427817</td>\n",
              "      <td>0.000000</td>\n",
              "      <td>0.427817</td>\n",
              "      <td>...</td>\n",
              "      <td>0.0</td>\n",
              "      <td>0.0</td>\n",
              "      <td>0.000000</td>\n",
              "      <td>0.0</td>\n",
              "      <td>0.000000</td>\n",
              "      <td>0.0</td>\n",
              "      <td>0.427817</td>\n",
              "      <td>0.0</td>\n",
              "      <td>0.0</td>\n",
              "      <td>0.0</td>\n",
              "    </tr>\n",
              "    <tr>\n",
              "      <th>2</th>\n",
              "      <td>0.0</td>\n",
              "      <td>0.000000</td>\n",
              "      <td>0.0</td>\n",
              "      <td>0.000000</td>\n",
              "      <td>0.000000</td>\n",
              "      <td>0.280434</td>\n",
              "      <td>0.0</td>\n",
              "      <td>0.000000</td>\n",
              "      <td>0.000000</td>\n",
              "      <td>0.000000</td>\n",
              "      <td>...</td>\n",
              "      <td>0.0</td>\n",
              "      <td>0.0</td>\n",
              "      <td>0.317465</td>\n",
              "      <td>0.0</td>\n",
              "      <td>0.000000</td>\n",
              "      <td>0.0</td>\n",
              "      <td>0.000000</td>\n",
              "      <td>0.0</td>\n",
              "      <td>0.0</td>\n",
              "      <td>0.0</td>\n",
              "    </tr>\n",
              "    <tr>\n",
              "      <th>3</th>\n",
              "      <td>0.0</td>\n",
              "      <td>0.377826</td>\n",
              "      <td>0.0</td>\n",
              "      <td>0.000000</td>\n",
              "      <td>0.000000</td>\n",
              "      <td>0.000000</td>\n",
              "      <td>0.0</td>\n",
              "      <td>0.000000</td>\n",
              "      <td>0.000000</td>\n",
              "      <td>0.000000</td>\n",
              "      <td>...</td>\n",
              "      <td>0.0</td>\n",
              "      <td>0.0</td>\n",
              "      <td>0.000000</td>\n",
              "      <td>0.0</td>\n",
              "      <td>0.000000</td>\n",
              "      <td>0.0</td>\n",
              "      <td>0.000000</td>\n",
              "      <td>0.0</td>\n",
              "      <td>0.0</td>\n",
              "      <td>0.0</td>\n",
              "    </tr>\n",
              "    <tr>\n",
              "      <th>4</th>\n",
              "      <td>0.0</td>\n",
              "      <td>0.000000</td>\n",
              "      <td>0.0</td>\n",
              "      <td>0.000000</td>\n",
              "      <td>0.000000</td>\n",
              "      <td>0.000000</td>\n",
              "      <td>0.0</td>\n",
              "      <td>0.000000</td>\n",
              "      <td>0.000000</td>\n",
              "      <td>0.000000</td>\n",
              "      <td>...</td>\n",
              "      <td>0.0</td>\n",
              "      <td>0.0</td>\n",
              "      <td>0.000000</td>\n",
              "      <td>0.0</td>\n",
              "      <td>0.377964</td>\n",
              "      <td>0.0</td>\n",
              "      <td>0.000000</td>\n",
              "      <td>0.0</td>\n",
              "      <td>0.0</td>\n",
              "      <td>0.0</td>\n",
              "    </tr>\n",
              "  </tbody>\n",
              "</table>\n",
              "<p>5 rows × 81 columns</p>\n",
              "</div>\n",
              "      <button class=\"colab-df-convert\" onclick=\"convertToInteractive('df-6ecf3ac2-099b-4320-8101-72b8dab1ff45')\"\n",
              "              title=\"Convert this dataframe to an interactive table.\"\n",
              "              style=\"display:none;\">\n",
              "        \n",
              "  <svg xmlns=\"http://www.w3.org/2000/svg\" height=\"24px\"viewBox=\"0 0 24 24\"\n",
              "       width=\"24px\">\n",
              "    <path d=\"M0 0h24v24H0V0z\" fill=\"none\"/>\n",
              "    <path d=\"M18.56 5.44l.94 2.06.94-2.06 2.06-.94-2.06-.94-.94-2.06-.94 2.06-2.06.94zm-11 1L8.5 8.5l.94-2.06 2.06-.94-2.06-.94L8.5 2.5l-.94 2.06-2.06.94zm10 10l.94 2.06.94-2.06 2.06-.94-2.06-.94-.94-2.06-.94 2.06-2.06.94z\"/><path d=\"M17.41 7.96l-1.37-1.37c-.4-.4-.92-.59-1.43-.59-.52 0-1.04.2-1.43.59L10.3 9.45l-7.72 7.72c-.78.78-.78 2.05 0 2.83L4 21.41c.39.39.9.59 1.41.59.51 0 1.02-.2 1.41-.59l7.78-7.78 2.81-2.81c.8-.78.8-2.07 0-2.86zM5.41 20L4 18.59l7.72-7.72 1.47 1.35L5.41 20z\"/>\n",
              "  </svg>\n",
              "      </button>\n",
              "      \n",
              "  <style>\n",
              "    .colab-df-container {\n",
              "      display:flex;\n",
              "      flex-wrap:wrap;\n",
              "      gap: 12px;\n",
              "    }\n",
              "\n",
              "    .colab-df-convert {\n",
              "      background-color: #E8F0FE;\n",
              "      border: none;\n",
              "      border-radius: 50%;\n",
              "      cursor: pointer;\n",
              "      display: none;\n",
              "      fill: #1967D2;\n",
              "      height: 32px;\n",
              "      padding: 0 0 0 0;\n",
              "      width: 32px;\n",
              "    }\n",
              "\n",
              "    .colab-df-convert:hover {\n",
              "      background-color: #E2EBFA;\n",
              "      box-shadow: 0px 1px 2px rgba(60, 64, 67, 0.3), 0px 1px 3px 1px rgba(60, 64, 67, 0.15);\n",
              "      fill: #174EA6;\n",
              "    }\n",
              "\n",
              "    [theme=dark] .colab-df-convert {\n",
              "      background-color: #3B4455;\n",
              "      fill: #D2E3FC;\n",
              "    }\n",
              "\n",
              "    [theme=dark] .colab-df-convert:hover {\n",
              "      background-color: #434B5C;\n",
              "      box-shadow: 0px 1px 3px 1px rgba(0, 0, 0, 0.15);\n",
              "      filter: drop-shadow(0px 1px 2px rgba(0, 0, 0, 0.3));\n",
              "      fill: #FFFFFF;\n",
              "    }\n",
              "  </style>\n",
              "\n",
              "      <script>\n",
              "        const buttonEl =\n",
              "          document.querySelector('#df-6ecf3ac2-099b-4320-8101-72b8dab1ff45 button.colab-df-convert');\n",
              "        buttonEl.style.display =\n",
              "          google.colab.kernel.accessAllowed ? 'block' : 'none';\n",
              "\n",
              "        async function convertToInteractive(key) {\n",
              "          const element = document.querySelector('#df-6ecf3ac2-099b-4320-8101-72b8dab1ff45');\n",
              "          const dataTable =\n",
              "            await google.colab.kernel.invokeFunction('convertToInteractive',\n",
              "                                                     [key], {});\n",
              "          if (!dataTable) return;\n",
              "\n",
              "          const docLinkHtml = 'Like what you see? Visit the ' +\n",
              "            '<a target=\"_blank\" href=https://colab.research.google.com/notebooks/data_table.ipynb>data table notebook</a>'\n",
              "            + ' to learn more about interactive tables.';\n",
              "          element.innerHTML = '';\n",
              "          dataTable['output_type'] = 'display_data';\n",
              "          await google.colab.output.renderOutput(dataTable, element);\n",
              "          const docLink = document.createElement('div');\n",
              "          docLink.innerHTML = docLinkHtml;\n",
              "          element.appendChild(docLink);\n",
              "        }\n",
              "      </script>\n",
              "    </div>\n",
              "  </div>\n",
              "  "
            ]
          },
          "metadata": {}
        }
      ]
    },
    {
      "cell_type": "code",
      "source": [
        "volunteer_df.head(1)"
      ],
      "metadata": {
        "colab": {
          "base_uri": "https://localhost:8080/",
          "height": 261
        },
        "id": "0GPkJsMFb3GN",
        "outputId": "12604017-765d-48a5-c62c-6d410fccac81"
      },
      "execution_count": 50,
      "outputs": [
        {
          "output_type": "execute_result",
          "data": {
            "text/plain": [
              "   opportunity_id  content_id  vol_requests  event_time         title  hits  \\\n",
              "1            5008       37036             2           0  Web designer    22   \n",
              "\n",
              "                                  summary is_priority  category_id  \\\n",
              "1  Build a website for an Afghan business         NaN          1.0   \n",
              "\n",
              "               category_desc  ...     end_date_date    status Latitude  \\\n",
              "1  Strengthening Communities  ...  February 01 2011  approved      NaN   \n",
              "\n",
              "   Longitude  Community Board Community Council  Census Tract  BIN  BBL NTA  \n",
              "1        NaN              NaN                NaN          NaN  NaN  NaN NaN  \n",
              "\n",
              "[1 rows x 35 columns]"
            ],
            "text/html": [
              "\n",
              "  <div id=\"df-01672960-4952-4296-8b91-055d89968154\">\n",
              "    <div class=\"colab-df-container\">\n",
              "      <div>\n",
              "<style scoped>\n",
              "    .dataframe tbody tr th:only-of-type {\n",
              "        vertical-align: middle;\n",
              "    }\n",
              "\n",
              "    .dataframe tbody tr th {\n",
              "        vertical-align: top;\n",
              "    }\n",
              "\n",
              "    .dataframe thead th {\n",
              "        text-align: right;\n",
              "    }\n",
              "</style>\n",
              "<table border=\"1\" class=\"dataframe\">\n",
              "  <thead>\n",
              "    <tr style=\"text-align: right;\">\n",
              "      <th></th>\n",
              "      <th>opportunity_id</th>\n",
              "      <th>content_id</th>\n",
              "      <th>vol_requests</th>\n",
              "      <th>event_time</th>\n",
              "      <th>title</th>\n",
              "      <th>hits</th>\n",
              "      <th>summary</th>\n",
              "      <th>is_priority</th>\n",
              "      <th>category_id</th>\n",
              "      <th>category_desc</th>\n",
              "      <th>...</th>\n",
              "      <th>end_date_date</th>\n",
              "      <th>status</th>\n",
              "      <th>Latitude</th>\n",
              "      <th>Longitude</th>\n",
              "      <th>Community Board</th>\n",
              "      <th>Community Council</th>\n",
              "      <th>Census Tract</th>\n",
              "      <th>BIN</th>\n",
              "      <th>BBL</th>\n",
              "      <th>NTA</th>\n",
              "    </tr>\n",
              "  </thead>\n",
              "  <tbody>\n",
              "    <tr>\n",
              "      <th>1</th>\n",
              "      <td>5008</td>\n",
              "      <td>37036</td>\n",
              "      <td>2</td>\n",
              "      <td>0</td>\n",
              "      <td>Web designer</td>\n",
              "      <td>22</td>\n",
              "      <td>Build a website for an Afghan business</td>\n",
              "      <td>NaN</td>\n",
              "      <td>1.0</td>\n",
              "      <td>Strengthening Communities</td>\n",
              "      <td>...</td>\n",
              "      <td>February 01 2011</td>\n",
              "      <td>approved</td>\n",
              "      <td>NaN</td>\n",
              "      <td>NaN</td>\n",
              "      <td>NaN</td>\n",
              "      <td>NaN</td>\n",
              "      <td>NaN</td>\n",
              "      <td>NaN</td>\n",
              "      <td>NaN</td>\n",
              "      <td>NaN</td>\n",
              "    </tr>\n",
              "  </tbody>\n",
              "</table>\n",
              "<p>1 rows × 35 columns</p>\n",
              "</div>\n",
              "      <button class=\"colab-df-convert\" onclick=\"convertToInteractive('df-01672960-4952-4296-8b91-055d89968154')\"\n",
              "              title=\"Convert this dataframe to an interactive table.\"\n",
              "              style=\"display:none;\">\n",
              "        \n",
              "  <svg xmlns=\"http://www.w3.org/2000/svg\" height=\"24px\"viewBox=\"0 0 24 24\"\n",
              "       width=\"24px\">\n",
              "    <path d=\"M0 0h24v24H0V0z\" fill=\"none\"/>\n",
              "    <path d=\"M18.56 5.44l.94 2.06.94-2.06 2.06-.94-2.06-.94-.94-2.06-.94 2.06-2.06.94zm-11 1L8.5 8.5l.94-2.06 2.06-.94-2.06-.94L8.5 2.5l-.94 2.06-2.06.94zm10 10l.94 2.06.94-2.06 2.06-.94-2.06-.94-.94-2.06-.94 2.06-2.06.94z\"/><path d=\"M17.41 7.96l-1.37-1.37c-.4-.4-.92-.59-1.43-.59-.52 0-1.04.2-1.43.59L10.3 9.45l-7.72 7.72c-.78.78-.78 2.05 0 2.83L4 21.41c.39.39.9.59 1.41.59.51 0 1.02-.2 1.41-.59l7.78-7.78 2.81-2.81c.8-.78.8-2.07 0-2.86zM5.41 20L4 18.59l7.72-7.72 1.47 1.35L5.41 20z\"/>\n",
              "  </svg>\n",
              "      </button>\n",
              "      \n",
              "  <style>\n",
              "    .colab-df-container {\n",
              "      display:flex;\n",
              "      flex-wrap:wrap;\n",
              "      gap: 12px;\n",
              "    }\n",
              "\n",
              "    .colab-df-convert {\n",
              "      background-color: #E8F0FE;\n",
              "      border: none;\n",
              "      border-radius: 50%;\n",
              "      cursor: pointer;\n",
              "      display: none;\n",
              "      fill: #1967D2;\n",
              "      height: 32px;\n",
              "      padding: 0 0 0 0;\n",
              "      width: 32px;\n",
              "    }\n",
              "\n",
              "    .colab-df-convert:hover {\n",
              "      background-color: #E2EBFA;\n",
              "      box-shadow: 0px 1px 2px rgba(60, 64, 67, 0.3), 0px 1px 3px 1px rgba(60, 64, 67, 0.15);\n",
              "      fill: #174EA6;\n",
              "    }\n",
              "\n",
              "    [theme=dark] .colab-df-convert {\n",
              "      background-color: #3B4455;\n",
              "      fill: #D2E3FC;\n",
              "    }\n",
              "\n",
              "    [theme=dark] .colab-df-convert:hover {\n",
              "      background-color: #434B5C;\n",
              "      box-shadow: 0px 1px 3px 1px rgba(0, 0, 0, 0.15);\n",
              "      filter: drop-shadow(0px 1px 2px rgba(0, 0, 0, 0.3));\n",
              "      fill: #FFFFFF;\n",
              "    }\n",
              "  </style>\n",
              "\n",
              "      <script>\n",
              "        const buttonEl =\n",
              "          document.querySelector('#df-01672960-4952-4296-8b91-055d89968154 button.colab-df-convert');\n",
              "        buttonEl.style.display =\n",
              "          google.colab.kernel.accessAllowed ? 'block' : 'none';\n",
              "\n",
              "        async function convertToInteractive(key) {\n",
              "          const element = document.querySelector('#df-01672960-4952-4296-8b91-055d89968154');\n",
              "          const dataTable =\n",
              "            await google.colab.kernel.invokeFunction('convertToInteractive',\n",
              "                                                     [key], {});\n",
              "          if (!dataTable) return;\n",
              "\n",
              "          const docLinkHtml = 'Like what you see? Visit the ' +\n",
              "            '<a target=\"_blank\" href=https://colab.research.google.com/notebooks/data_table.ipynb>data table notebook</a>'\n",
              "            + ' to learn more about interactive tables.';\n",
              "          element.innerHTML = '';\n",
              "          dataTable['output_type'] = 'display_data';\n",
              "          await google.colab.output.renderOutput(dataTable, element);\n",
              "          const docLink = document.createElement('div');\n",
              "          docLink.innerHTML = docLinkHtml;\n",
              "          element.appendChild(docLink);\n",
              "        }\n",
              "      </script>\n",
              "    </div>\n",
              "  </div>\n",
              "  "
            ]
          },
          "metadata": {},
          "execution_count": 50
        }
      ]
    },
    {
      "cell_type": "code",
      "source": [
        "import pandas as pd\n",
        "from sklearn.feature_extraction.text import TfidfVectorizer\n",
        "\n",
        "# Take the title text\n",
        "title_text = volunteer_df[\"title\"]\n",
        "\n",
        "# Create the vectorizer method\n",
        "tfidf_vec = TfidfVectorizer()\n",
        "\n",
        "# Transform the text into tf-idf vectors\n",
        "text_tfidf = tfidf_vec.fit_transform(title_text)"
      ],
      "metadata": {
        "id": "xkZag-UMZ-9W"
      },
      "execution_count": 51,
      "outputs": []
    },
    {
      "cell_type": "markdown",
      "source": [
        "#### **Text classification using `tf/idf` vectors**"
      ],
      "metadata": {
        "id": "qOnEXMu9gFSB"
      }
    },
    {
      "cell_type": "markdown",
      "source": [
        "Now that we've encoded the volunteer dataset's title column into `tf/idf` vectors, we'll use those vectors to predict the category_desc column"
      ],
      "metadata": {
        "id": "43iKZ9jtdJNc"
      }
    },
    {
      "cell_type": "code",
      "source": [
        "from sklearn.model_selection import train_test_split\n",
        "from sklearn.naive_bayes import MultinomialNB\n",
        "\n",
        "X = volunteer_df.drop(\"category_desc\", axis=1)\n",
        "y = volunteer_df[\"category_desc\"]\n",
        "\n",
        "# Split the dataset according to the class distribution of category_desc\n",
        "X_train, X_test, y_train, y_test = train_test_split(text_tfidf.toarray(), y, stratify=y, random_state=42)\n",
        "\n",
        "# Initialize the Naive Bayes classifier\n",
        "nb = MultinomialNB()\n",
        "\n",
        "# Fit the model to the training data\n",
        "nb.fit(X_train, y_train)\n",
        "\n",
        "# Print out the model's accuracy\n",
        "print(nb.score(X_test, y_test))"
      ],
      "metadata": {
        "colab": {
          "base_uri": "https://localhost:8080/"
        },
        "id": "n7LojdOn9fYq",
        "outputId": "996dbbe4-4e18-41ce-c048-dd0edbc134f9"
      },
      "execution_count": 52,
      "outputs": [
        {
          "output_type": "stream",
          "name": "stdout",
          "text": [
            "0.5548387096774193\n"
          ]
        }
      ]
    },
    {
      "cell_type": "markdown",
      "source": [
        "The model doesn't score very well. We'll work on selecting the best features for modeling in the next chapter."
      ],
      "metadata": {
        "id": "Go9V2TLXd0Nt"
      }
    },
    {
      "cell_type": "markdown",
      "metadata": {
        "id": "ZdqJvF5Hz5ri"
      },
      "source": [
        "# **4️⃣ Feature selection**"
      ]
    },
    {
      "cell_type": "markdown",
      "source": [
        "- How to drop `redundant features`.\n",
        "- work with `text vectors`.\n",
        "- How to reduce the number of features in your dataset using principal component analysis (`PCA`)."
      ],
      "metadata": {
        "id": "ggXV43UseOFP"
      }
    },
    {
      "cell_type": "markdown",
      "source": [
        "## **Feature selection**\n"
      ],
      "metadata": {
        "id": "g_JUyCzbei1k"
      }
    },
    {
      "cell_type": "markdown",
      "source": [
        "#### **When to use feature selection**\n"
      ],
      "metadata": {
        "id": "0eyti9y0fBDc"
      }
    },
    {
      "cell_type": "markdown",
      "source": [
        "You've finished **standardizing** your data and creating new features. Which of the following scenarios is `NOT` a good candidate for feature selection?\n",
        "\n",
        "- `Dimensionality reduction`: When dealing with high-dimensional data, where the number of features is large compared to the number of samples, feature selection can be used to reduce the dimensionality of the dataset. This helps in addressing the curse of dimensionality and can lead to more efficient and accurate models.\n",
        "\n",
        "- `Improved model performance`: Sometimes, not all features contribute equally to the predictive power of a model. In fact, some features might introduce noise or redundancy that can negatively impact the model's performance. By selecting only the most informative and relevant features, you can enhance the model's accuracy, reduce overfitting, and improve generalization.\n",
        "\n",
        "- `Interpretability and understanding`: In many cases, having a simpler and more interpretable model is desirable. Feature selection allows you to focus on the most important features, enabling a clearer understanding of the relationship between predictors and the target variable. This can be crucial for domains where interpretability is essential, such as healthcare, finance, and legal applications.\n",
        "\n",
        "- `Computational efficiency`: Large datasets with numerous features can be computationally expensive to process and train models on. By selecting a subset of features, you can significantly reduce the computational burden, leading to faster training and inference times.\n",
        "\n",
        "- `Data visualization`: When working with high-dimensional data, it becomes challenging to visualize the data and understand its underlying structure. By selecting a smaller number of features, you can visualize the data in lower-dimensional spaces, making it easier to explore and gain insights from the data."
      ],
      "metadata": {
        "id": "gLmL_3wyie6s"
      }
    },
    {
      "cell_type": "markdown",
      "source": [
        "#### **Identifying areas for feature selection**\n"
      ],
      "metadata": {
        "id": "pKyvQMKUfCg0"
      }
    },
    {
      "cell_type": "markdown",
      "source": [
        "```python\n",
        "import pandas as pd\n",
        "from sklearn.feature_selection import VarianceThreshold\n",
        "\n",
        "# Load the hiking dataset (replace 'dataset.csv' with the actual filename)\n",
        "dataset = pd.read_csv('dataset.csv')\n",
        "\n",
        "# Perform exploratory analysis and preprocessing on the dataset\n",
        "# ...\n",
        "\n",
        "# Identify columns with low variance (potential candidates for removal)\n",
        "variance_selector = VarianceThreshold()\n",
        "variance_selector.fit(dataset)\n",
        "\n",
        "low_variance_cols = dataset.columns[variance_selector.variances_ < 0.01]\n",
        "print(\"Columns with low variance (potential candidates for removal):\")\n",
        "print(low_variance_cols)\n",
        "\n",
        "# Identify highly correlated columns (potential candidates for removal)\n",
        "correlation_matrix = dataset.corr().abs()\n",
        "\n",
        "# Exclude diagonal and lower triangular part of the correlation matrix\n",
        "upper_tri = correlation_matrix.where(~np.tril(np.ones(correlation_matrix.shape)).astype(np.bool))\n",
        "\n",
        "highly_correlated_cols = [column for column in upper_tri.columns if any(upper_tri[column] > 0.8)]\n",
        "print(\"Highly correlated columns (potential candidates for removal):\")\n",
        "print(highly_correlated_cols)\n",
        "\n",
        "# Based on the exploratory analysis, you can further identify other columns that can be removed\n",
        "# ...\n",
        "\n",
        "# Remove the identified columns from the dataset\n",
        "dataset = dataset.drop(columns=low_variance_cols + highly_correlated_cols)\n",
        "\n",
        "# Continue with further steps in your feature selection process or model building\n",
        "\n",
        "# Example code ends here\n",
        "\n",
        "```"
      ],
      "metadata": {
        "id": "QQ8pqYu1k1Ud"
      }
    },
    {
      "cell_type": "markdown",
      "source": [
        "## **Removing redundant features**\n"
      ],
      "metadata": {
        "id": "yVFYWWKnfENF"
      }
    },
    {
      "cell_type": "markdown",
      "source": [
        "- Remove noisy features\n",
        "- Remove correlated features\n",
        "- Remove duplicated features\n"
      ],
      "metadata": {
        "id": "-FTcWgl4mygm"
      }
    },
    {
      "cell_type": "markdown",
      "source": [
        "#### **Selecting relevant features**\n",
        "\n",
        "if you explore the **volunteer** dataset in the console, you'll see three features which are related to `location`: `locality`, `region`, and `postalcode`. **They contain related information, so it would make sense to keep only one of the features.**\n",
        "\n",
        "Take some time to examine the features of volunteer in the console, and try to identify the redundant features.\n"
      ],
      "metadata": {
        "id": "l4Wj7ytWfF3k"
      }
    },
    {
      "cell_type": "code",
      "source": [
        "# Create a list of redundant column names to drop\n",
        "to_drop = [\"category_desc\", \"created_date\", \"locality\", \"region\", \"vol_requests\"]\n",
        "\n",
        "# Drop those columns from the dataset\n",
        "volunteer_subset = volunteer_df.drop(to_drop, axis=1)\n",
        "\n",
        "# Print out the head of volunteer_subset\n",
        "print(volunteer_subset.head())"
      ],
      "metadata": {
        "colab": {
          "base_uri": "https://localhost:8080/"
        },
        "id": "99FtRL2bnp8N",
        "outputId": "2d6a8813-94c6-4ca4-9459-5f3062b9c752"
      },
      "execution_count": 53,
      "outputs": [
        {
          "output_type": "stream",
          "name": "stdout",
          "text": [
            "   opportunity_id  content_id  event_time  \\\n",
            "1            5008       37036           0   \n",
            "2            5016       37143           0   \n",
            "3            5022       37237           0   \n",
            "4            5055       37425           0   \n",
            "5            5056       37426           0   \n",
            "\n",
            "                                               title  hits  \\\n",
            "1                                       Web designer    22   \n",
            "2      Urban Adventures - Ice Skating at Lasker Rink    62   \n",
            "3  Fight global hunger and support women farmers ...    14   \n",
            "4                                      Stop 'N' Swap    31   \n",
            "5                               Queens Stop 'N' Swap   135   \n",
            "\n",
            "                                             summary is_priority  category_id  \\\n",
            "1             Build a website for an Afghan business         NaN          1.0   \n",
            "2  Please join us and the students from Mott Hall...         NaN          1.0   \n",
            "3  The Oxfam Action Corps is a group of dedicated...         NaN          1.0   \n",
            "4  Stop 'N' Swap reduces NYC's waste by finding n...         NaN          4.0   \n",
            "5  Stop 'N' Swap reduces NYC's waste by finding n...         NaN          4.0   \n",
            "\n",
            "   amsl  amsl_unit  ...     end_date_date    status  Latitude  Longitude  \\\n",
            "1   NaN        NaN  ...  February 01 2011  approved       NaN        NaN   \n",
            "2   NaN        NaN  ...   January 29 2011  approved       NaN        NaN   \n",
            "3   NaN        NaN  ...     March 31 2012  approved       NaN        NaN   \n",
            "4   NaN        NaN  ...  February 05 2011  approved       NaN        NaN   \n",
            "5   NaN        NaN  ...  February 12 2011  approved       NaN        NaN   \n",
            "\n",
            "   Community Board Community Council  Census Tract  BIN BBL NTA  \n",
            "1              NaN                NaN          NaN  NaN NaN NaN  \n",
            "2              NaN                NaN          NaN  NaN NaN NaN  \n",
            "3              NaN                NaN          NaN  NaN NaN NaN  \n",
            "4              NaN                NaN          NaN  NaN NaN NaN  \n",
            "5              NaN                NaN          NaN  NaN NaN NaN  \n",
            "\n",
            "[5 rows x 30 columns]\n"
          ]
        }
      ]
    },
    {
      "cell_type": "markdown",
      "source": [
        "#### **Checking for correlated features**\n"
      ],
      "metadata": {
        "id": "2gdv0Zb1fHSM"
      }
    },
    {
      "cell_type": "code",
      "source": [
        "import pandas as pd\n",
        "\n",
        "# Create the dictionary with the data\n",
        "data = {\n",
        "    'A': [3.06, 2.76, 3.24],\n",
        "    'B': [3.92, 3.40, 3.17],\n",
        "    'C': [1.04, 1.05, 1.03]\n",
        "}\n",
        "\n",
        "# Create the DataFrame\n",
        "df = pd.DataFrame(data)\n",
        "\n",
        "# Display the DataFrame\n",
        "print(df)\n",
        "print(\"\\n\")\n",
        "print(df.corr())"
      ],
      "metadata": {
        "colab": {
          "base_uri": "https://localhost:8080/"
        },
        "id": "yZDG0x2QfUZs",
        "outputId": "f702d2c8-23ed-4045-e7c2-7d99832bfe25"
      },
      "execution_count": 54,
      "outputs": [
        {
          "output_type": "stream",
          "name": "stdout",
          "text": [
            "      A     B     C\n",
            "0  3.06  3.92  1.04\n",
            "1  2.76  3.40  1.05\n",
            "2  3.24  3.17  1.03\n",
            "\n",
            "\n",
            "          A         B         C\n",
            "A  1.000000 -0.159921 -0.989743\n",
            "B -0.159921  1.000000  0.299299\n",
            "C -0.989743  0.299299  1.000000\n"
          ]
        }
      ]
    },
    {
      "cell_type": "code",
      "source": [
        "# Drop that column from the DataFrame\n",
        "wine = wine_df.drop(\"Flavanoids\", axis=1)\n",
        "display(wine.head(6))\n",
        "\n",
        "# Print out the column correlations of the wine dataset\n",
        "sns.heatmap(wine_df.corr())\n",
        "plt.show()"
      ],
      "metadata": {
        "colab": {
          "base_uri": "https://localhost:8080/",
          "height": 857
        },
        "id": "hUpd7JSzp1QF",
        "outputId": "5cfeb66e-54cd-413a-cc4b-a5b3d453d5d8"
      },
      "execution_count": 55,
      "outputs": [
        {
          "output_type": "display_data",
          "data": {
            "text/plain": [
              "   Type  Alcohol  Malic acid   Ash  Alcalinity of ash  Magnesium  \\\n",
              "0     1    14.23        1.71  2.43               15.6        127   \n",
              "1     1    13.20        1.78  2.14               11.2        100   \n",
              "2     1    13.16        2.36  2.67               18.6        101   \n",
              "3     1    14.37        1.95  2.50               16.8        113   \n",
              "4     1    13.24        2.59  2.87               21.0        118   \n",
              "5     1    14.20        1.76  2.45               15.2        112   \n",
              "\n",
              "   Total phenols  Nonflavanoid phenols  Proanthocyanins  Color intensity  \\\n",
              "0           2.80                  0.28             2.29             5.64   \n",
              "1           2.65                  0.26             1.28             4.38   \n",
              "2           2.80                  0.30             2.81             5.68   \n",
              "3           3.85                  0.24             2.18             7.80   \n",
              "4           2.80                  0.39             1.82             4.32   \n",
              "5           3.27                  0.34             1.97             6.75   \n",
              "\n",
              "    Hue  OD280/OD315 of diluted wines  Proline  \n",
              "0  1.04                          3.92     1065  \n",
              "1  1.05                          3.40     1050  \n",
              "2  1.03                          3.17     1185  \n",
              "3  0.86                          3.45     1480  \n",
              "4  1.04                          2.93      735  \n",
              "5  1.05                          2.85     1450  "
            ],
            "text/html": [
              "\n",
              "  <div id=\"df-fc8d6976-1654-4b23-916d-95a7aff0a62d\">\n",
              "    <div class=\"colab-df-container\">\n",
              "      <div>\n",
              "<style scoped>\n",
              "    .dataframe tbody tr th:only-of-type {\n",
              "        vertical-align: middle;\n",
              "    }\n",
              "\n",
              "    .dataframe tbody tr th {\n",
              "        vertical-align: top;\n",
              "    }\n",
              "\n",
              "    .dataframe thead th {\n",
              "        text-align: right;\n",
              "    }\n",
              "</style>\n",
              "<table border=\"1\" class=\"dataframe\">\n",
              "  <thead>\n",
              "    <tr style=\"text-align: right;\">\n",
              "      <th></th>\n",
              "      <th>Type</th>\n",
              "      <th>Alcohol</th>\n",
              "      <th>Malic acid</th>\n",
              "      <th>Ash</th>\n",
              "      <th>Alcalinity of ash</th>\n",
              "      <th>Magnesium</th>\n",
              "      <th>Total phenols</th>\n",
              "      <th>Nonflavanoid phenols</th>\n",
              "      <th>Proanthocyanins</th>\n",
              "      <th>Color intensity</th>\n",
              "      <th>Hue</th>\n",
              "      <th>OD280/OD315 of diluted wines</th>\n",
              "      <th>Proline</th>\n",
              "    </tr>\n",
              "  </thead>\n",
              "  <tbody>\n",
              "    <tr>\n",
              "      <th>0</th>\n",
              "      <td>1</td>\n",
              "      <td>14.23</td>\n",
              "      <td>1.71</td>\n",
              "      <td>2.43</td>\n",
              "      <td>15.6</td>\n",
              "      <td>127</td>\n",
              "      <td>2.80</td>\n",
              "      <td>0.28</td>\n",
              "      <td>2.29</td>\n",
              "      <td>5.64</td>\n",
              "      <td>1.04</td>\n",
              "      <td>3.92</td>\n",
              "      <td>1065</td>\n",
              "    </tr>\n",
              "    <tr>\n",
              "      <th>1</th>\n",
              "      <td>1</td>\n",
              "      <td>13.20</td>\n",
              "      <td>1.78</td>\n",
              "      <td>2.14</td>\n",
              "      <td>11.2</td>\n",
              "      <td>100</td>\n",
              "      <td>2.65</td>\n",
              "      <td>0.26</td>\n",
              "      <td>1.28</td>\n",
              "      <td>4.38</td>\n",
              "      <td>1.05</td>\n",
              "      <td>3.40</td>\n",
              "      <td>1050</td>\n",
              "    </tr>\n",
              "    <tr>\n",
              "      <th>2</th>\n",
              "      <td>1</td>\n",
              "      <td>13.16</td>\n",
              "      <td>2.36</td>\n",
              "      <td>2.67</td>\n",
              "      <td>18.6</td>\n",
              "      <td>101</td>\n",
              "      <td>2.80</td>\n",
              "      <td>0.30</td>\n",
              "      <td>2.81</td>\n",
              "      <td>5.68</td>\n",
              "      <td>1.03</td>\n",
              "      <td>3.17</td>\n",
              "      <td>1185</td>\n",
              "    </tr>\n",
              "    <tr>\n",
              "      <th>3</th>\n",
              "      <td>1</td>\n",
              "      <td>14.37</td>\n",
              "      <td>1.95</td>\n",
              "      <td>2.50</td>\n",
              "      <td>16.8</td>\n",
              "      <td>113</td>\n",
              "      <td>3.85</td>\n",
              "      <td>0.24</td>\n",
              "      <td>2.18</td>\n",
              "      <td>7.80</td>\n",
              "      <td>0.86</td>\n",
              "      <td>3.45</td>\n",
              "      <td>1480</td>\n",
              "    </tr>\n",
              "    <tr>\n",
              "      <th>4</th>\n",
              "      <td>1</td>\n",
              "      <td>13.24</td>\n",
              "      <td>2.59</td>\n",
              "      <td>2.87</td>\n",
              "      <td>21.0</td>\n",
              "      <td>118</td>\n",
              "      <td>2.80</td>\n",
              "      <td>0.39</td>\n",
              "      <td>1.82</td>\n",
              "      <td>4.32</td>\n",
              "      <td>1.04</td>\n",
              "      <td>2.93</td>\n",
              "      <td>735</td>\n",
              "    </tr>\n",
              "    <tr>\n",
              "      <th>5</th>\n",
              "      <td>1</td>\n",
              "      <td>14.20</td>\n",
              "      <td>1.76</td>\n",
              "      <td>2.45</td>\n",
              "      <td>15.2</td>\n",
              "      <td>112</td>\n",
              "      <td>3.27</td>\n",
              "      <td>0.34</td>\n",
              "      <td>1.97</td>\n",
              "      <td>6.75</td>\n",
              "      <td>1.05</td>\n",
              "      <td>2.85</td>\n",
              "      <td>1450</td>\n",
              "    </tr>\n",
              "  </tbody>\n",
              "</table>\n",
              "</div>\n",
              "      <button class=\"colab-df-convert\" onclick=\"convertToInteractive('df-fc8d6976-1654-4b23-916d-95a7aff0a62d')\"\n",
              "              title=\"Convert this dataframe to an interactive table.\"\n",
              "              style=\"display:none;\">\n",
              "        \n",
              "  <svg xmlns=\"http://www.w3.org/2000/svg\" height=\"24px\"viewBox=\"0 0 24 24\"\n",
              "       width=\"24px\">\n",
              "    <path d=\"M0 0h24v24H0V0z\" fill=\"none\"/>\n",
              "    <path d=\"M18.56 5.44l.94 2.06.94-2.06 2.06-.94-2.06-.94-.94-2.06-.94 2.06-2.06.94zm-11 1L8.5 8.5l.94-2.06 2.06-.94-2.06-.94L8.5 2.5l-.94 2.06-2.06.94zm10 10l.94 2.06.94-2.06 2.06-.94-2.06-.94-.94-2.06-.94 2.06-2.06.94z\"/><path d=\"M17.41 7.96l-1.37-1.37c-.4-.4-.92-.59-1.43-.59-.52 0-1.04.2-1.43.59L10.3 9.45l-7.72 7.72c-.78.78-.78 2.05 0 2.83L4 21.41c.39.39.9.59 1.41.59.51 0 1.02-.2 1.41-.59l7.78-7.78 2.81-2.81c.8-.78.8-2.07 0-2.86zM5.41 20L4 18.59l7.72-7.72 1.47 1.35L5.41 20z\"/>\n",
              "  </svg>\n",
              "      </button>\n",
              "      \n",
              "  <style>\n",
              "    .colab-df-container {\n",
              "      display:flex;\n",
              "      flex-wrap:wrap;\n",
              "      gap: 12px;\n",
              "    }\n",
              "\n",
              "    .colab-df-convert {\n",
              "      background-color: #E8F0FE;\n",
              "      border: none;\n",
              "      border-radius: 50%;\n",
              "      cursor: pointer;\n",
              "      display: none;\n",
              "      fill: #1967D2;\n",
              "      height: 32px;\n",
              "      padding: 0 0 0 0;\n",
              "      width: 32px;\n",
              "    }\n",
              "\n",
              "    .colab-df-convert:hover {\n",
              "      background-color: #E2EBFA;\n",
              "      box-shadow: 0px 1px 2px rgba(60, 64, 67, 0.3), 0px 1px 3px 1px rgba(60, 64, 67, 0.15);\n",
              "      fill: #174EA6;\n",
              "    }\n",
              "\n",
              "    [theme=dark] .colab-df-convert {\n",
              "      background-color: #3B4455;\n",
              "      fill: #D2E3FC;\n",
              "    }\n",
              "\n",
              "    [theme=dark] .colab-df-convert:hover {\n",
              "      background-color: #434B5C;\n",
              "      box-shadow: 0px 1px 3px 1px rgba(0, 0, 0, 0.15);\n",
              "      filter: drop-shadow(0px 1px 2px rgba(0, 0, 0, 0.3));\n",
              "      fill: #FFFFFF;\n",
              "    }\n",
              "  </style>\n",
              "\n",
              "      <script>\n",
              "        const buttonEl =\n",
              "          document.querySelector('#df-fc8d6976-1654-4b23-916d-95a7aff0a62d button.colab-df-convert');\n",
              "        buttonEl.style.display =\n",
              "          google.colab.kernel.accessAllowed ? 'block' : 'none';\n",
              "\n",
              "        async function convertToInteractive(key) {\n",
              "          const element = document.querySelector('#df-fc8d6976-1654-4b23-916d-95a7aff0a62d');\n",
              "          const dataTable =\n",
              "            await google.colab.kernel.invokeFunction('convertToInteractive',\n",
              "                                                     [key], {});\n",
              "          if (!dataTable) return;\n",
              "\n",
              "          const docLinkHtml = 'Like what you see? Visit the ' +\n",
              "            '<a target=\"_blank\" href=https://colab.research.google.com/notebooks/data_table.ipynb>data table notebook</a>'\n",
              "            + ' to learn more about interactive tables.';\n",
              "          element.innerHTML = '';\n",
              "          dataTable['output_type'] = 'display_data';\n",
              "          await google.colab.output.renderOutput(dataTable, element);\n",
              "          const docLink = document.createElement('div');\n",
              "          docLink.innerHTML = docLinkHtml;\n",
              "          element.appendChild(docLink);\n",
              "        }\n",
              "      </script>\n",
              "    </div>\n",
              "  </div>\n",
              "  "
            ]
          },
          "metadata": {}
        },
        {
          "output_type": "display_data",
          "data": {
            "text/plain": [
              "<Figure size 640x480 with 2 Axes>"
            ],
            "image/png": "[encoded data removed]"
          },
          "metadata": {}
        }
      ]
    },
    {
      "cell_type": "markdown",
      "source": [
        "## **Selecting features using text vectors**\n"
      ],
      "metadata": {
        "id": "tm-rzsIKfIoU"
      }
    },
    {
      "cell_type": "markdown",
      "source": [
        "**Looking at word weights**"
      ],
      "metadata": {
        "id": "Gb_UHJPyseN4"
      }
    },
    {
      "cell_type": "code",
      "source": [
        "print(tfidf_vec.vocabulary_)\n",
        "print(text_tfidf[3].data)\n",
        "print(text_tfidf[3].indices)"
      ],
      "metadata": {
        "colab": {
          "base_uri": "https://localhost:8080/"
        },
        "id": "tr_0gZ5WrLS2",
        "outputId": "78e613f0-6af6-4af9-97c7-927a299316b8"
      },
      "execution_count": 56,
      "outputs": [
        {
          "output_type": "stream",
          "name": "stdout",
          "text": [
            "{'web': 1048, 'designer': 278, 'urban': 1017, 'adventures': 38, 'ice': 490, 'skating': 890, 'at': 90, 'lasker': 559, 'rink': 832, 'fight': 368, 'global': 423, 'hunger': 487, 'and': 68, 'support': 944, 'women': 1061, 'farmers': 356, 'join': 535, 'the': 969, 'oxfam': 708, 'action': 27, 'corps': 240, 'in': 498, 'nyc': 680, 'stop': 922, 'swap': 947, 'queens': 790, 'staff': 911, 'development': 281, 'trainer': 992, 'claro': 200, 'brooklyn': 145, 'volunteer': 1037, 'attorney': 93, 'community': 221, 'health': 455, 'advocates': 43, 'supervise': 942, 'children': 189, 'highland': 466, 'park': 717, 'garden': 409, 'worldofmoney': 1071, 'org': 696, 'youth': 1085, 'amazing': 60, 'race': 791, 'qualified': 789, 'board': 133, 'member': 620, 'seats': 860, 'available': 98, 'young': 1083, 'adult': 33, 'tutor': 1006, 'updated': 1016, '30': 11, '11': 0, 'insurance': 513, 'claims': 199, 'manager': 600, 'timebanksnyc': 979, 'great': 432, 'exchange': 340, 'clean': 205, 'up': 1015, 'asbury': 81, 'cementary': 171, 'staten': 918, 'island': 524, 'senior': 869, 'citizen': 194, 'friendly': 392, 'visitor': 1033, 'shop': 881, 'tree': 1000, 'care': 161, 'workshop': 1068, '20': 4, 'movie': 646, 'screener': 856, 'for': 380, 'seniors': 870, 'farm': 355, 'graphic': 430, 'open': 691, 'house': 480, 'get': 416, 'tools': 984, 'to': 980, 'recycling': 806, 'volunteers': 1039, 'needed': 660, 'family': 353, 'event': 336, 'clerical': 207, 'cancer': 158, 'walk': 1041, 'befitnyc': 120, 'physical': 739, 'activity': 30, 'organizers': 700, 'decision': 269, 'day': 266, '2011': 5, 'needs': 661, 'your': 1084, 'help': 459, 'gain': 405, 'valuable': 1021, 'counseling': 245, 'experience': 344, 'on': 687, 'samaritans': 845, '24': 9, 'hour': 479, 'crisis': 255, 'hotline': 478, 'heart': 457, 'gallery': 407, 'our': 703, 'info': 503, 'table': 949, 'finding': 373, 'homes': 471, 'kids': 542, 'yiddish': 1077, 'speaking': 903, 'homework': 472, 'helper': 460, 'skilled': 892, 'rebuilding': 800, 'together': 982, 'home': 468, 'repairs': 818, 'greenteam': 438, 'advetures': 40, 'summer': 940, 'streets': 931, 'tuesday': 1005, 'evenings': 335, 'with': 1060, 'masa': 612, 'lunch': 594, 'program': 770, 'us': 1018, 'outreach': 706, 'meals': 618, 'preparedness': 760, 'compost': 222, 'project': 773, 'master': 613, 'composter': 223, 'certificate': 178, 'course': 249, 'emblemhealth': 318, 'bronx': 144, 'of': 683, 'service': 873, 'jcc': 531, 'manhattan': 601, 'girl': 418, 'scout': 855, 'series': 872, 'dorot': 296, 'rosh': 838, 'hashanah': 452, 'package': 709, 'delivery': 274, 'painting': 713, 'instructor': 511, 'jasa': 530, 'hes': 464, 'center': 172, '3rd': 12, 'annual': 70, 'flyny': 377, 'kite': 548, 'festival': 366, 'tomorrow': 983, 'business': 151, 'leaders': 566, 'teach': 955, 'basics': 110, 'high': 465, 'schoolers': 852, 'gardening': 410, 'ft': 397, 'tryon': 1004, 'st': 910, 'martin': 610, 'poetry': 748, 'new': 668, 'york': 1079, 'college': 216, 'goal': 424, 'sunday': 941, 'february': 361, '2012': 6, 'dance': 262, '22nd': 8, 'latino': 560, 'march': 604, '17': 2, 'university': 1013, 'saturday': 848, 'tutors': 1008, 'planet': 744, 'human': 485, 'mapping': 602, 'give': 420, 'week': 1050, 'child': 186, 'learn': 569, 'read': 796, 'storytelling': 926, 'costume': 243, 'making': 597, 'stage': 912, 'design': 277, 'emergency': 319, 'fair': 351, '9th': 17, 'west': 1053, 'side': 887, 'county': 248, 'nutrition': 676, 'educator': 314, 'shape': 879, 'east': 306, '54st': 13, 'rec': 801, 'water': 1046, 'aerobics': 45, 'asser': 83, 'levy': 573, 'paint': 712, 'alongside': 57, 'publicolor': 783, 'students': 936, 'jumpstart': 536, 'readers': 797, 'lead': 564, 'crafts': 252, 'games': 408, 'face': 348, 'popcorn': 751, 'jackie': 527, 'robinson': 835, 'parent': 716, 'fitness': 375, 'starrett': 916, 'city': 197, 'line': 585, 'dancer': 263, 'math': 615, 'literacy': 587, 'be': 114, 'climb': 209, 'top': 985, 'marketing': 608, 'assistant': 86, 'education': 313, 'nonprofit': 673, 'seeks': 867, 'recruitment': 805, 'mentors': 626, 'register': 810, 'attend': 92, 'breakfast': 142, 'orientation': 701, 'january': 529, 'deliver': 272, 'winter': 1058, 'visit': 1031, 'an': 65, 'isolated': 525, 'exercise': 342, 'coach': 213, 'night': 670, 'beach': 115, 'change': 180, 'art': 77, 'programs': 772, 'consumer': 229, 'protection': 779, 'law': 562, 'liver': 589, 'life': 579, 'leader': 565, 'soup': 901, 'kitchen': 547, 'eastern': 307, 'john': 534, 'muir': 650, 'street': 930, 'vendor': 1024, 'monthly': 641, 'team': 959, 'fiesta': 367, 'throgs': 977, 'neck': 658, 'computer': 224, 'teacher': 956, 'leadership': 567, 'council': 244, 'opportunity': 693, 'conversation': 231, 'helpers': 461, 'grades': 427, 'pantry': 714, 'distribution': 288, 'earth': 305, 'tech': 960, 'website': 1049, 'opportunities': 692, 'cents': 175, 'ability': 19, 'classroom': 203, 'set': 877, 'brush': 146, 'kindness': 545, 'transportation': 999, 'alternatives': 58, 'bike': 129, 'valet': 1020, 'video': 1026, 'editing': 311, 'professionals': 767, 'stipend': 921, 'after': 49, 'school': 851, 'mentor': 624, 'networking': 666, 'bowling': 138, 'fun': 398, 'harlem': 449, 'lanes': 555, 'seeking': 866, 'yoga': 1078, 'spanish': 902, 'or': 695, 'french': 389, 'feed': 362, 'hungry': 488, 'yorkers': 1080, '55': 14, 'only': 690, 'phone': 735, 'bank': 106, 'representative': 819, 'reach': 795, 'out': 704, 'morris': 643, 'heights': 458, 'special': 904, 'camp': 155, 'susan': 946, 'komen': 551, 'cure': 259, 'greater': 433, 'affiliate': 47, 'dumbo': 303, 'arts': 79, 'organizational': 698, 'budget': 148, 'money': 639, 'makes': 596, 'sense': 871, 'training': 994, 'site': 889, 'videographer': 1027, 'fly': 376, 'by': 152, 'theater': 970, 'grant': 429, 'writer': 1074, 'planning': 745, 'proposal': 778, 'preparation': 759, 'fund': 399, 'raising': 793, 'harm': 450, 'reduction': 808, 'adv': 35, 'intern': 515, 'serving': 875, 'lgbt': 575, 'adults': 34, 'how': 482, 'ride': 830, 'bikes': 130, 'research': 821, 'fundraising': 401, 'developement': 280, 'cook': 233, 'row': 840, 'afterschool': 50, 'middle': 630, 'shower': 885, 'fundraisers': 400, 'it': 526, 'interpreters': 519, 'lawyers': 563, 'haitian': 446, 'abe': 18, 'pre': 757, 'ged': 412, 'monitor': 640, 'astoria': 89, 'million': 634, 'trees': 1001, 'giveaway': 421, 'do': 290, 'you': 1081, 'want': 1044, 'make': 595, 'difference': 283, 'classwish': 204, 'snow': 896, 'shoveling': 883, 'citizenship': 196, 'press': 761, 'list': 586, 'public': 781, 'relations': 813, 'plan': 743, 'review': 829, 'friendship': 394, 'positive': 753, 'beginnings': 121, 'kit': 546, 'mary': 611, 'recreation': 803, 'does': 291, 'organization': 697, 'need': 659, 'search': 858, 'strategy': 928, 'esl': 332, 'affected': 46, 'storm': 924, 'transform': 995, 'lives': 590, 'strengthen': 933, 'communities': 220, 'become': 119, 'driver': 302, 'veterans': 1025, 'chinese': 191, 'translator': 997, 'instructors': 512, 'museum': 653, 'membership': 621, 'department': 275, 'director': 284, 'beautify': 117, 'transitional': 996, 'residence': 822, 'homeless': 470, 'men': 623, 'tank': 953, 'internship': 517, 'projects': 774, 'run': 841, 'wild': 1056, 'boys': 139, 'hope': 475, 'girls': 419, 'communications': 219, 'raise': 792, 'awareness': 100, 'administrative': 31, 'alliance': 56, 'registrar': 811, 'ms': 647, 'word': 1062, 'career': 162, 'counselor': 246, 'passover': 722, 'early': 304, 'childhood': 188, 'build': 149, 'plastic': 747, 'bottle': 137, 'sculpture': 857, 'pride': 763, 'is': 523, 'just': 538, 'around': 76, 'corner': 238, 'involved': 520, 'now': 675, 'fresh': 390, 'air': 53, 'teachers': 957, 'find': 372, 'perfect': 729, 'job': 533, 'office': 684, 'writing': 1075, 'data': 264, 'entry': 326, 'activism': 29, 'photography': 738, 'salesforce': 843, 'database': 265, 'customization': 261, 'photo': 736, 'essay': 333, 'legal': 572, 'advisor': 42, 'hike': 467, 'thon': 974, 'coordinator': 236, 'laser': 558, 'tag': 950, 'dowling': 298, '175th': 3, 'information': 505, 'technology': 962, 'fall': 352, 'forest': 382, 'restoration': 826, 'kickoff': 541, 'trevor': 1002, 'lifeline': 582, 'counselors': 247, 'thomas': 973, 'jefferson': 532, 'materials': 614, 'year': 1076, 'founder': 386, 'executive': 341, 'haunted': 453, 'lantern': 557, 'tours': 989, 'fort': 383, 'totten': 986, 'national': 657, 'sexual': 878, 'assault': 82, 'online': 689, 'trainers': 993, 'african': 48, 'american': 63, 'clothing': 210, 'drive': 301, 'returning': 828, 'seeds': 865, 'success': 939, 'plant': 746, 'today': 981, 'growth': 443, 'udec': 1009, 'enviromedia': 328, 'mobile': 636, 'maritime': 606, 'bacchanal': 102, 'pirates': 742, 'fest': 365, 'ikea': 492, 'erie': 329, 'basin': 111, 'diabetes': 282, 'association': 88, 'feria': 364, 'de': 267, 'salud': 844, 'nepali': 664, 'bangla': 105, 'punjabi': 784, 'translators': 998, 'not': 674, 'profit': 769, 'pioneer': 741, 'capoeira': 159, 'various': 1023, 'positions': 752, 'dispatcher': 287, 'trainee': 991, 'ing': 506, 'marathon': 603, 'free': 388, 'love': 593, 'books': 135, 'dear': 268, 'authors': 96, 'aide': 52, 'scheuer': 850, 'merchandise': 627, 'donate': 293, 'supplies': 943, 'feast': 360, 'gala': 406, 'battery': 112, 'rise': 833, 'stay': 919, 'put': 787, 'rescue': 820, 'soccer': 897, 'futsal': 402, 'performing': 730, 'advanced': 36, 'classes': 202, 'world': 1070, 'science': 854, 'western': 1054, 'americorps': 64, 'aces': 25, 'economic': 310, 'security': 864, 'initiative': 507, 'esi': 331, 'mill': 633, 'centers': 173, 'midtown': 631, 'zumba': 1088, 'vision': 1030, 'mission': 635, 'analysis': 66, 'lab': 552, 'teaching': 958, 'assist': 84, 'resume': 827, 'building': 150, 'society': 899, 'coaches': 214, 'vs': 1040, 'committee': 218, 'russian': 842, 'foster': 385, 'celebration': 170, 'may': 616, '21th': 7, 'one': 688, 'pager': 711, 'donation': 294, 'hurricane': 489, 'irene': 521, 'far': 354, 'rockaway': 836, 'enjoy': 325, 'working': 1066, 'olympics': 686, 'tournament': 988, 'reading': 798, 'partners': 719, 'cooper': 234, 'square': 909, 'thrift': 975, 'spring': 908, 'case': 166, 'management': 599, 'fvcp': 404, 'trail': 990, 'crew': 254, 'halloween': 447, 'carnival': 165, 'walkathon': 1042, 'feasibility': 359, 'analyst': 67, 'police': 749, 'seminar': 868, 'work': 1064, 'visually': 1035, 'impaired': 496, 'teens': 964, 'this': 972, 'energy': 322, 'efficiency': 315, 'end': 321, 'season': 859, 'campaign': 156, 'benefits': 123, 'reception': 802, 'drill': 300, 'copywriting': 237, 'coord': 235, 'have': 454, 'penchant': 725, 'all': 55, 'things': 971, 'vintage': 1028, 'thriftshop': 976, 'partner': 718, 'pencil': 726, 'partnership': 720, 'packing': 710, '8th': 16, 'sports': 907, 'expo': 346, 'cares': 164, 'cheerleaders': 184, 'wanted': 1045, 'habitat': 445, 'finance': 371, 'coffee': 215, 'english': 324, 'practice': 755, 'learners': 570, 'healthy': 456, 'active': 28, 'time': 978, 'benefit': 122, 'april': 73, 'fashion': 357, 'strawberry': 929, 'assistants': 87, 'central': 174, 'zoo': 1087, '125th': 1, 'bideawee': 127, 'greeters': 440, 'looking': 592, 'real': 799, 'impact': 495, 'inform': 504, 'people': 728, 'practices': 756, 'lifebeat': 580, 'general': 413, 'streetsquash': 932, 'discovery': 286, 'services': 874, 'neighborhood': 663, 'profiles': 768, 'take': 951, 'stand': 915, 'against': 51, 'violence': 1029, 'expert': 345, 'advice': 41, 'june': 537, 'schedule': 849, 'crowdfunding': 258, 'penny': 727, 'harvest': 451, 'green': 434, 'chefs': 185, 'nutritionists': 677, 'foodies': 379, 'mentoring': 625, 'boom': 136, 'newsletter': 669, 'come': 217, 'strides': 934, 'walks': 1043, 'childcare': 187, 'social': 898, 'media': 619, 'giving': 422, 'can': 157, 'ambassador': 61, '2nd': 10, 'thanksgiving': 967, 'feeding': 363, 'needy': 662, 'publicity': 782, 'patient': 723, 'caregiver': 163, 'visiting': 1032, 'homebound': 469, 'fc': 358, 'nyawc': 679, 'forum': 384, 'about': 21, 'volunteering': 1038, 'refreshments': 809, 'sara': 847, 'roosevelt': 837, 'cleanup': 206, 'beautification': 116, 'events': 337, 'animal': 69, 'hudson': 484, 'river': 834, 'mariners': 605, 'response': 825, 'exhibit': 343, 'aboard': 20, 'lilac': 584, 'client': 208, 'welcome': 1052, 'desk': 279, 'older': 685, 'lexington': 574, 'craft': 251, 'poll': 750, 'workers': 1065, 'interperters': 518, 'accounting': 24, 'assistance': 85, 'hosting': 477, 'promotion': 776, 'unicef': 1011, 'tap': 954, 'release': 814, 'dedication': 270, 'programming': 771, 'incarnation': 500, 'donor': 295, 'kieran': 544, 'sponsorship': 906, 'workshops': 1069, 'because': 118, 'every': 338, 'deserves': 276, 'chance': 179, 'pin': 740, 'delivered': 273, 'shred': 886, '5th': 15, 'avenue': 99, 'cdsc': 169, 'starving': 917, 'artist': 78, 'show': 884, 'system': 948, 'front': 396, 'share': 880, 'lanch': 553, 'student': 935, 'hemophilia': 463, 'liason': 577, 'methodist': 629, 'hospital': 476, 'bay': 113, 'ridge': 831, 'benonhurst': 124, 'area': 75, 'sought': 900, 'autistic': 97, 'douglaston': 297, 'qns': 788, 'registration': 812, 'administrator': 32, 'call': 153, 'governor': 426, 'recruiter': 804, 'purim': 786, 'envelope': 327, 'stuffing': 938, 'jam': 528, 'helpline': 462, 'store': 923, 'first': 374, 'generation': 415, 'van': 1022, 'cortlandt': 241, 'remembrance': 816, 'survey': 945, 'resonations': 823, 'breast': 143, 'engine': 323, 'optimization': 694, 'memorial': 622, 'sloan': 894, 'kettering': 540, 'greenhouse': 435, 'greening': 436, 'concert': 227, 'evacuation': 334, 'resources': 824, 'gift': 417, 'bicycling': 126, 'my': 656, 'friends': 393, 'honor': 473, 'weekend': 1051, 'person': 731, 'mural': 651, 'editor': 312, 'personal': 732, 'shopper': 882, 'pro': 764, 'bono': 134, 'create': 253, 'cards': 160, 'step': 920, 'non': 672, 'provider': 780, 'interns': 516, 'motion': 645, 'graphics': 431, 'best': 125, 'buddies': 147, 'inern': 502, 'back': 103, 'little': 588, 'cosmetologist': 242, 'barber': 107, 'vocational': 1036, 'apartment': 72, 'greeter': 439, 'professional': 766, 'use': 1019, 'skills': 893, 'others': 702, 'figure': 369, 'croton': 257, 'chinatown': 190, 'ci': 193, 'prep': 758, 'corporate': 239, 'wordpress': 1063, 'blog': 132, 'instructer': 510, 'red': 807, 'hook': 474, 'divert': 289, 'textiles': 966, 'from': 395, 'landfill': 554, 'greenmarket': 437, 'textile': 965, 'calling': 154, 'citizens': 195, 'improve': 497, 'achievement': 26, 'passion': 721, 'housing': 481, 'works': 1067, 'inc': 499, 'group': 441, 'drama': 299, 'laundromats': 561, 'employment': 320, 'strategic': 927, 'never': 667, 'bad': 104, 'friend': 391, 'future': 403, 'class': 201, 'wish': 1059, 'fpcj': 387, 'worship': 1072, 'undergraduate': 1010, 'graduate': 428, 'conference': 228, 'we': 1047, 'promote': 775, 'knowledge': 550, 'parade': 715, 'archivist': 74, 'google': 425, 'adwords': 44, 'imentor': 493, 'more': 642, 'male': 598, 'miles': 632, 'moms': 637, 'charity': 183, 'century': 176, 'tour': 987, 'civil': 198, 'patrol': 724, 'america': 62, 'kept': 539, 'secret': 862, 'ms131': 648, 'knitter': 549, 'crochet': 256, 'blankets': 131, 'ceo': 177, 'logo': 591, 'unique': 1012, 'will': 1057, 'big': 128, 'adventure': 37, 'accountant': 23, 'session': 876, 'single': 888, 'mothers': 644, 'choice': 192, 'smc': 895, 'wii': 1055, 'outdoor': 705, 'nights': 671, 'market': 607, 'intake': 514, 'monday': 638, 'branding': 141, 'brand': 140, 'identity': 491, 'mt': 649, 'zion': 1086, 'kidz': 543, 'reorganize': 817, 'library': 578, 'food': 378, 'athletic': 91, 'league': 568, 'musician': 655, 'alzheimer': 59, 'music': 654, 'bash': 109, 'proctor': 765, 'taking': 952, 'exams': 339, 'promotional': 777, 'personnel': 733, 'august': 95, 'skill': 891, 'networker': 665, 'ecological': 309, 'puppet': 785, 'income': 501, 'generating': 414, 'organizations': 699, 'cpr': 250, 'lgbtq': 576, 'el': 317, 'museo': 652, 'del': 271, 'barrio': 108, 'met': 628, 'escort': 330, 'sand': 846, 'castle': 167, 'contest': 230, 'schools': 853, 'humanities': 486, 'as': 80, 'second': 861, 'language': 556, 'babies': 101, 'teen': 963, 'al': 54, 'oerter': 682, 'html': 483, 'curriculum': 260, 'photographer': 737, 'secretary': 863, 'pr': 754, 'would': 1073, 'like': 583, 'computers': 225, 'technical': 961, 'grownyc': 442, 'that': 968, 'extraordinary': 347, 'foreclosure': 381, 'prevention': 762, 'nylag': 681, 'ny': 678, 'concern': 226, 'inspire': 509, 'academic': 22, 'tutoring': 1007, 'rbi': 794, 'anyone': 71, 'cma': 211, 'cms': 212, 'conversion': 232, 'eating': 308, 'learning': 571, 'chaperones': 181, 'visits': 1034, 'gear': 411, 'unlimited': 1014, 'lifeguard': 581, 'facilitators': 350, 'troop': 1003, 'route': 839, 'marshall': 609, 'inmotion': 508, 'story': 925, 'stair': 913, 'domestic': 292, 'catskills': 168, 'relief': 815, 'effort': 316, 'audience': 94, 'pharmacy': 734, 'guide': 444, 'overnight': 707, 'immediate': 494, 'dirty': 285, 'hands': 448, 'facilitator': 349, 'specialist': 905, 'chapter': 182, 'stamps': 914, 'iridescent': 522, 'studio': 937, 'advertising': 39, 'filmmakers': 370, 'mayor': 617, 'youcantoo': 1082}\n",
            "[0.70710678 0.70710678]\n",
            "[947 922]\n"
          ]
        }
      ]
    },
    {
      "cell_type": "code",
      "source": [
        "vocab = {v:k for k,v in\n",
        "tfidf_vec.vocabulary_.items()}\n",
        "print(vocab)"
      ],
      "metadata": {
        "colab": {
          "base_uri": "https://localhost:8080/"
        },
        "id": "CaNn-oANr3KT",
        "outputId": "5b3979a9-4299-44c4-bf40-9f465333434a"
      },
      "execution_count": 57,
      "outputs": [
        {
          "output_type": "stream",
          "name": "stdout",
          "text": [
            "{1048: 'web', 278: 'designer', 1017: 'urban', 38: 'adventures', 490: 'ice', 890: 'skating', 90: 'at', 559: 'lasker', 832: 'rink', 368: 'fight', 423: 'global', 487: 'hunger', 68: 'and', 944: 'support', 1061: 'women', 356: 'farmers', 535: 'join', 969: 'the', 708: 'oxfam', 27: 'action', 240: 'corps', 498: 'in', 680: 'nyc', 922: 'stop', 947: 'swap', 790: 'queens', 911: 'staff', 281: 'development', 992: 'trainer', 200: 'claro', 145: 'brooklyn', 1037: 'volunteer', 93: 'attorney', 221: 'community', 455: 'health', 43: 'advocates', 942: 'supervise', 189: 'children', 466: 'highland', 717: 'park', 409: 'garden', 1071: 'worldofmoney', 696: 'org', 1085: 'youth', 60: 'amazing', 791: 'race', 789: 'qualified', 133: 'board', 620: 'member', 860: 'seats', 98: 'available', 1083: 'young', 33: 'adult', 1006: 'tutor', 1016: 'updated', 11: '30', 0: '11', 513: 'insurance', 199: 'claims', 600: 'manager', 979: 'timebanksnyc', 432: 'great', 340: 'exchange', 205: 'clean', 1015: 'up', 81: 'asbury', 171: 'cementary', 918: 'staten', 524: 'island', 869: 'senior', 194: 'citizen', 392: 'friendly', 1033: 'visitor', 881: 'shop', 1000: 'tree', 161: 'care', 1068: 'workshop', 4: '20', 646: 'movie', 856: 'screener', 380: 'for', 870: 'seniors', 355: 'farm', 430: 'graphic', 691: 'open', 480: 'house', 416: 'get', 984: 'tools', 980: 'to', 806: 'recycling', 1039: 'volunteers', 660: 'needed', 353: 'family', 336: 'event', 207: 'clerical', 158: 'cancer', 1041: 'walk', 120: 'befitnyc', 739: 'physical', 30: 'activity', 700: 'organizers', 269: 'decision', 266: 'day', 5: '2011', 661: 'needs', 1084: 'your', 459: 'help', 405: 'gain', 1021: 'valuable', 245: 'counseling', 344: 'experience', 687: 'on', 845: 'samaritans', 9: '24', 479: 'hour', 255: 'crisis', 478: 'hotline', 457: 'heart', 407: 'gallery', 703: 'our', 503: 'info', 949: 'table', 373: 'finding', 471: 'homes', 542: 'kids', 1077: 'yiddish', 903: 'speaking', 472: 'homework', 460: 'helper', 892: 'skilled', 800: 'rebuilding', 982: 'together', 468: 'home', 818: 'repairs', 438: 'greenteam', 40: 'advetures', 940: 'summer', 931: 'streets', 1005: 'tuesday', 335: 'evenings', 1060: 'with', 612: 'masa', 594: 'lunch', 770: 'program', 1018: 'us', 706: 'outreach', 618: 'meals', 760: 'preparedness', 222: 'compost', 773: 'project', 613: 'master', 223: 'composter', 178: 'certificate', 249: 'course', 318: 'emblemhealth', 144: 'bronx', 683: 'of', 873: 'service', 531: 'jcc', 601: 'manhattan', 418: 'girl', 855: 'scout', 872: 'series', 296: 'dorot', 838: 'rosh', 452: 'hashanah', 709: 'package', 274: 'delivery', 713: 'painting', 511: 'instructor', 530: 'jasa', 464: 'hes', 172: 'center', 12: '3rd', 70: 'annual', 377: 'flyny', 548: 'kite', 366: 'festival', 983: 'tomorrow', 151: 'business', 566: 'leaders', 955: 'teach', 110: 'basics', 465: 'high', 852: 'schoolers', 410: 'gardening', 397: 'ft', 1004: 'tryon', 910: 'st', 610: 'martin', 748: 'poetry', 668: 'new', 1079: 'york', 216: 'college', 424: 'goal', 941: 'sunday', 361: 'february', 6: '2012', 262: 'dance', 8: '22nd', 560: 'latino', 604: 'march', 2: '17', 1013: 'university', 848: 'saturday', 1008: 'tutors', 744: 'planet', 485: 'human', 602: 'mapping', 420: 'give', 1050: 'week', 186: 'child', 569: 'learn', 796: 'read', 926: 'storytelling', 243: 'costume', 597: 'making', 912: 'stage', 277: 'design', 319: 'emergency', 351: 'fair', 17: '9th', 1053: 'west', 887: 'side', 248: 'county', 676: 'nutrition', 314: 'educator', 879: 'shape', 306: 'east', 13: '54st', 801: 'rec', 1046: 'water', 45: 'aerobics', 83: 'asser', 573: 'levy', 712: 'paint', 57: 'alongside', 783: 'publicolor', 936: 'students', 536: 'jumpstart', 797: 'readers', 564: 'lead', 252: 'crafts', 408: 'games', 348: 'face', 751: 'popcorn', 527: 'jackie', 835: 'robinson', 716: 'parent', 375: 'fitness', 916: 'starrett', 197: 'city', 585: 'line', 263: 'dancer', 615: 'math', 587: 'literacy', 114: 'be', 209: 'climb', 985: 'top', 608: 'marketing', 86: 'assistant', 313: 'education', 673: 'nonprofit', 867: 'seeks', 805: 'recruitment', 626: 'mentors', 810: 'register', 92: 'attend', 142: 'breakfast', 701: 'orientation', 529: 'january', 272: 'deliver', 1058: 'winter', 1031: 'visit', 65: 'an', 525: 'isolated', 342: 'exercise', 213: 'coach', 670: 'night', 115: 'beach', 180: 'change', 77: 'art', 772: 'programs', 229: 'consumer', 779: 'protection', 562: 'law', 589: 'liver', 579: 'life', 565: 'leader', 901: 'soup', 547: 'kitchen', 307: 'eastern', 534: 'john', 650: 'muir', 930: 'street', 1024: 'vendor', 641: 'monthly', 959: 'team', 367: 'fiesta', 977: 'throgs', 658: 'neck', 224: 'computer', 956: 'teacher', 567: 'leadership', 244: 'council', 693: 'opportunity', 231: 'conversation', 461: 'helpers', 427: 'grades', 714: 'pantry', 288: 'distribution', 305: 'earth', 960: 'tech', 1049: 'website', 692: 'opportunities', 175: 'cents', 19: 'ability', 203: 'classroom', 877: 'set', 146: 'brush', 545: 'kindness', 999: 'transportation', 58: 'alternatives', 129: 'bike', 1020: 'valet', 1026: 'video', 311: 'editing', 767: 'professionals', 921: 'stipend', 49: 'after', 851: 'school', 624: 'mentor', 666: 'networking', 138: 'bowling', 398: 'fun', 449: 'harlem', 555: 'lanes', 866: 'seeking', 1078: 'yoga', 902: 'spanish', 695: 'or', 389: 'french', 362: 'feed', 488: 'hungry', 1080: 'yorkers', 14: '55', 690: 'only', 735: 'phone', 106: 'bank', 819: 'representative', 795: 'reach', 704: 'out', 643: 'morris', 458: 'heights', 904: 'special', 155: 'camp', 946: 'susan', 551: 'komen', 259: 'cure', 433: 'greater', 47: 'affiliate', 303: 'dumbo', 79: 'arts', 698: 'organizational', 148: 'budget', 639: 'money', 596: 'makes', 871: 'sense', 994: 'training', 889: 'site', 1027: 'videographer', 376: 'fly', 152: 'by', 970: 'theater', 429: 'grant', 1074: 'writer', 745: 'planning', 778: 'proposal', 759: 'preparation', 399: 'fund', 793: 'raising', 450: 'harm', 808: 'reduction', 35: 'adv', 515: 'intern', 875: 'serving', 575: 'lgbt', 34: 'adults', 482: 'how', 830: 'ride', 130: 'bikes', 821: 'research', 401: 'fundraising', 280: 'developement', 233: 'cook', 840: 'row', 50: 'afterschool', 630: 'middle', 885: 'shower', 400: 'fundraisers', 526: 'it', 519: 'interpreters', 563: 'lawyers', 446: 'haitian', 18: 'abe', 757: 'pre', 412: 'ged', 640: 'monitor', 89: 'astoria', 634: 'million', 1001: 'trees', 421: 'giveaway', 290: 'do', 1081: 'you', 1044: 'want', 595: 'make', 283: 'difference', 204: 'classwish', 896: 'snow', 883: 'shoveling', 196: 'citizenship', 761: 'press', 586: 'list', 781: 'public', 813: 'relations', 743: 'plan', 829: 'review', 394: 'friendship', 753: 'positive', 121: 'beginnings', 546: 'kit', 611: 'mary', 803: 'recreation', 291: 'does', 697: 'organization', 659: 'need', 858: 'search', 928: 'strategy', 332: 'esl', 46: 'affected', 924: 'storm', 995: 'transform', 590: 'lives', 933: 'strengthen', 220: 'communities', 119: 'become', 302: 'driver', 1025: 'veterans', 191: 'chinese', 997: 'translator', 512: 'instructors', 653: 'museum', 621: 'membership', 275: 'department', 284: 'director', 117: 'beautify', 996: 'transitional', 822: 'residence', 470: 'homeless', 623: 'men', 953: 'tank', 517: 'internship', 774: 'projects', 841: 'run', 1056: 'wild', 139: 'boys', 475: 'hope', 419: 'girls', 219: 'communications', 792: 'raise', 100: 'awareness', 31: 'administrative', 56: 'alliance', 811: 'registrar', 647: 'ms', 1062: 'word', 162: 'career', 246: 'counselor', 722: 'passover', 304: 'early', 188: 'childhood', 149: 'build', 747: 'plastic', 137: 'bottle', 857: 'sculpture', 763: 'pride', 523: 'is', 538: 'just', 76: 'around', 238: 'corner', 520: 'involved', 675: 'now', 390: 'fresh', 53: 'air', 957: 'teachers', 372: 'find', 729: 'perfect', 533: 'job', 684: 'office', 1075: 'writing', 264: 'data', 326: 'entry', 29: 'activism', 738: 'photography', 843: 'salesforce', 265: 'database', 261: 'customization', 736: 'photo', 333: 'essay', 572: 'legal', 42: 'advisor', 467: 'hike', 974: 'thon', 236: 'coordinator', 558: 'laser', 950: 'tag', 298: 'dowling', 3: '175th', 505: 'information', 962: 'technology', 352: 'fall', 382: 'forest', 826: 'restoration', 541: 'kickoff', 1002: 'trevor', 582: 'lifeline', 247: 'counselors', 973: 'thomas', 532: 'jefferson', 614: 'materials', 1076: 'year', 386: 'founder', 341: 'executive', 453: 'haunted', 557: 'lantern', 989: 'tours', 383: 'fort', 986: 'totten', 657: 'national', 878: 'sexual', 82: 'assault', 689: 'online', 993: 'trainers', 48: 'african', 63: 'american', 210: 'clothing', 301: 'drive', 828: 'returning', 865: 'seeds', 939: 'success', 746: 'plant', 981: 'today', 443: 'growth', 1009: 'udec', 328: 'enviromedia', 636: 'mobile', 606: 'maritime', 102: 'bacchanal', 742: 'pirates', 365: 'fest', 492: 'ikea', 329: 'erie', 111: 'basin', 282: 'diabetes', 88: 'association', 364: 'feria', 267: 'de', 844: 'salud', 664: 'nepali', 105: 'bangla', 784: 'punjabi', 998: 'translators', 674: 'not', 769: 'profit', 741: 'pioneer', 159: 'capoeira', 1023: 'various', 752: 'positions', 287: 'dispatcher', 991: 'trainee', 506: 'ing', 603: 'marathon', 388: 'free', 593: 'love', 135: 'books', 268: 'dear', 96: 'authors', 52: 'aide', 850: 'scheuer', 627: 'merchandise', 293: 'donate', 943: 'supplies', 360: 'feast', 406: 'gala', 112: 'battery', 833: 'rise', 919: 'stay', 787: 'put', 820: 'rescue', 897: 'soccer', 402: 'futsal', 730: 'performing', 36: 'advanced', 202: 'classes', 1070: 'world', 854: 'science', 1054: 'western', 64: 'americorps', 25: 'aces', 310: 'economic', 864: 'security', 507: 'initiative', 331: 'esi', 633: 'mill', 173: 'centers', 631: 'midtown', 1088: 'zumba', 1030: 'vision', 635: 'mission', 66: 'analysis', 552: 'lab', 958: 'teaching', 84: 'assist', 827: 'resume', 150: 'building', 899: 'society', 214: 'coaches', 1040: 'vs', 218: 'committee', 842: 'russian', 385: 'foster', 170: 'celebration', 616: 'may', 7: '21th', 688: 'one', 711: 'pager', 294: 'donation', 489: 'hurricane', 521: 'irene', 354: 'far', 836: 'rockaway', 325: 'enjoy', 1066: 'working', 686: 'olympics', 988: 'tournament', 798: 'reading', 719: 'partners', 234: 'cooper', 909: 'square', 975: 'thrift', 908: 'spring', 166: 'case', 599: 'management', 404: 'fvcp', 990: 'trail', 254: 'crew', 447: 'halloween', 165: 'carnival', 1042: 'walkathon', 359: 'feasibility', 67: 'analyst', 749: 'police', 868: 'seminar', 1064: 'work', 1035: 'visually', 496: 'impaired', 964: 'teens', 972: 'this', 322: 'energy', 315: 'efficiency', 321: 'end', 859: 'season', 156: 'campaign', 123: 'benefits', 802: 'reception', 300: 'drill', 237: 'copywriting', 235: 'coord', 454: 'have', 725: 'penchant', 55: 'all', 971: 'things', 1028: 'vintage', 976: 'thriftshop', 718: 'partner', 726: 'pencil', 720: 'partnership', 710: 'packing', 16: '8th', 907: 'sports', 346: 'expo', 164: 'cares', 184: 'cheerleaders', 1045: 'wanted', 445: 'habitat', 371: 'finance', 215: 'coffee', 324: 'english', 755: 'practice', 570: 'learners', 456: 'healthy', 28: 'active', 978: 'time', 122: 'benefit', 73: 'april', 357: 'fashion', 929: 'strawberry', 87: 'assistants', 174: 'central', 1087: 'zoo', 1: '125th', 127: 'bideawee', 440: 'greeters', 592: 'looking', 799: 'real', 495: 'impact', 504: 'inform', 728: 'people', 756: 'practices', 580: 'lifebeat', 413: 'general', 932: 'streetsquash', 286: 'discovery', 874: 'services', 663: 'neighborhood', 768: 'profiles', 951: 'take', 915: 'stand', 51: 'against', 1029: 'violence', 345: 'expert', 41: 'advice', 537: 'june', 849: 'schedule', 258: 'crowdfunding', 727: 'penny', 451: 'harvest', 434: 'green', 185: 'chefs', 677: 'nutritionists', 379: 'foodies', 625: 'mentoring', 136: 'boom', 669: 'newsletter', 217: 'come', 934: 'strides', 1043: 'walks', 187: 'childcare', 898: 'social', 619: 'media', 422: 'giving', 157: 'can', 61: 'ambassador', 10: '2nd', 967: 'thanksgiving', 363: 'feeding', 662: 'needy', 782: 'publicity', 723: 'patient', 163: 'caregiver', 1032: 'visiting', 469: 'homebound', 358: 'fc', 679: 'nyawc', 384: 'forum', 21: 'about', 1038: 'volunteering', 809: 'refreshments', 847: 'sara', 837: 'roosevelt', 206: 'cleanup', 116: 'beautification', 337: 'events', 69: 'animal', 484: 'hudson', 834: 'river', 605: 'mariners', 825: 'response', 343: 'exhibit', 20: 'aboard', 584: 'lilac', 208: 'client', 1052: 'welcome', 279: 'desk', 685: 'older', 574: 'lexington', 251: 'craft', 750: 'poll', 1065: 'workers', 518: 'interperters', 24: 'accounting', 85: 'assistance', 477: 'hosting', 776: 'promotion', 1011: 'unicef', 954: 'tap', 814: 'release', 270: 'dedication', 771: 'programming', 500: 'incarnation', 295: 'donor', 544: 'kieran', 906: 'sponsorship', 1069: 'workshops', 118: 'because', 338: 'every', 276: 'deserves', 179: 'chance', 740: 'pin', 273: 'delivered', 886: 'shred', 15: '5th', 99: 'avenue', 169: 'cdsc', 917: 'starving', 78: 'artist', 884: 'show', 948: 'system', 396: 'front', 880: 'share', 553: 'lanch', 935: 'student', 463: 'hemophilia', 577: 'liason', 629: 'methodist', 476: 'hospital', 113: 'bay', 831: 'ridge', 124: 'benonhurst', 75: 'area', 900: 'sought', 97: 'autistic', 297: 'douglaston', 788: 'qns', 812: 'registration', 32: 'administrator', 153: 'call', 426: 'governor', 804: 'recruiter', 786: 'purim', 327: 'envelope', 938: 'stuffing', 528: 'jam', 462: 'helpline', 923: 'store', 374: 'first', 415: 'generation', 1022: 'van', 241: 'cortlandt', 816: 'remembrance', 945: 'survey', 823: 'resonations', 143: 'breast', 323: 'engine', 694: 'optimization', 622: 'memorial', 894: 'sloan', 540: 'kettering', 435: 'greenhouse', 436: 'greening', 227: 'concert', 334: 'evacuation', 824: 'resources', 417: 'gift', 126: 'bicycling', 656: 'my', 393: 'friends', 473: 'honor', 1051: 'weekend', 731: 'person', 651: 'mural', 312: 'editor', 732: 'personal', 882: 'shopper', 764: 'pro', 134: 'bono', 253: 'create', 160: 'cards', 920: 'step', 672: 'non', 780: 'provider', 516: 'interns', 645: 'motion', 431: 'graphics', 125: 'best', 147: 'buddies', 502: 'inern', 103: 'back', 588: 'little', 242: 'cosmetologist', 107: 'barber', 1036: 'vocational', 72: 'apartment', 439: 'greeter', 766: 'professional', 1019: 'use', 893: 'skills', 702: 'others', 369: 'figure', 257: 'croton', 190: 'chinatown', 193: 'ci', 758: 'prep', 239: 'corporate', 1063: 'wordpress', 132: 'blog', 510: 'instructer', 807: 'red', 474: 'hook', 289: 'divert', 966: 'textiles', 395: 'from', 554: 'landfill', 437: 'greenmarket', 965: 'textile', 154: 'calling', 195: 'citizens', 497: 'improve', 26: 'achievement', 721: 'passion', 481: 'housing', 1067: 'works', 499: 'inc', 441: 'group', 299: 'drama', 561: 'laundromats', 320: 'employment', 927: 'strategic', 667: 'never', 104: 'bad', 391: 'friend', 403: 'future', 201: 'class', 1059: 'wish', 387: 'fpcj', 1072: 'worship', 1010: 'undergraduate', 428: 'graduate', 228: 'conference', 1047: 'we', 775: 'promote', 550: 'knowledge', 715: 'parade', 74: 'archivist', 425: 'google', 44: 'adwords', 493: 'imentor', 642: 'more', 598: 'male', 632: 'miles', 637: 'moms', 183: 'charity', 176: 'century', 987: 'tour', 198: 'civil', 724: 'patrol', 62: 'america', 539: 'kept', 862: 'secret', 648: 'ms131', 549: 'knitter', 256: 'crochet', 131: 'blankets', 177: 'ceo', 591: 'logo', 1012: 'unique', 1057: 'will', 128: 'big', 37: 'adventure', 23: 'accountant', 876: 'session', 888: 'single', 644: 'mothers', 192: 'choice', 895: 'smc', 1055: 'wii', 705: 'outdoor', 671: 'nights', 607: 'market', 514: 'intake', 638: 'monday', 141: 'branding', 140: 'brand', 491: 'identity', 649: 'mt', 1086: 'zion', 543: 'kidz', 817: 'reorganize', 578: 'library', 378: 'food', 91: 'athletic', 568: 'league', 655: 'musician', 59: 'alzheimer', 654: 'music', 109: 'bash', 765: 'proctor', 952: 'taking', 339: 'exams', 777: 'promotional', 733: 'personnel', 95: 'august', 891: 'skill', 665: 'networker', 309: 'ecological', 785: 'puppet', 501: 'income', 414: 'generating', 699: 'organizations', 250: 'cpr', 576: 'lgbtq', 317: 'el', 652: 'museo', 271: 'del', 108: 'barrio', 628: 'met', 330: 'escort', 846: 'sand', 167: 'castle', 230: 'contest', 853: 'schools', 486: 'humanities', 80: 'as', 861: 'second', 556: 'language', 101: 'babies', 963: 'teen', 54: 'al', 682: 'oerter', 483: 'html', 260: 'curriculum', 737: 'photographer', 863: 'secretary', 754: 'pr', 1073: 'would', 583: 'like', 225: 'computers', 961: 'technical', 442: 'grownyc', 968: 'that', 347: 'extraordinary', 381: 'foreclosure', 762: 'prevention', 681: 'nylag', 678: 'ny', 226: 'concern', 509: 'inspire', 22: 'academic', 1007: 'tutoring', 794: 'rbi', 71: 'anyone', 211: 'cma', 212: 'cms', 232: 'conversion', 308: 'eating', 571: 'learning', 181: 'chaperones', 1034: 'visits', 411: 'gear', 1014: 'unlimited', 581: 'lifeguard', 350: 'facilitators', 1003: 'troop', 839: 'route', 609: 'marshall', 508: 'inmotion', 925: 'story', 913: 'stair', 292: 'domestic', 168: 'catskills', 815: 'relief', 316: 'effort', 94: 'audience', 734: 'pharmacy', 444: 'guide', 707: 'overnight', 494: 'immediate', 285: 'dirty', 448: 'hands', 349: 'facilitator', 905: 'specialist', 182: 'chapter', 914: 'stamps', 522: 'iridescent', 937: 'studio', 39: 'advertising', 370: 'filmmakers', 617: 'mayor', 1082: 'youcantoo'}\n"
          ]
        }
      ]
    },
    {
      "cell_type": "code",
      "source": [
        "zipped_row = dict(zip(text_tfidf[3].indices, text_tfidf[3].data))\n",
        "print(zipped_row)"
      ],
      "metadata": {
        "colab": {
          "base_uri": "https://localhost:8080/"
        },
        "id": "w-Us0WpFr_Q-",
        "outputId": "c8204569-1c15-4aae-a9e9-2dea3195581b"
      },
      "execution_count": 58,
      "outputs": [
        {
          "output_type": "stream",
          "name": "stdout",
          "text": [
            "{947: 0.7071067811865476, 922: 0.7071067811865476}\n"
          ]
        }
      ]
    },
    {
      "cell_type": "code",
      "source": [
        "def return_weights(vocab, vector, vector_index):\n",
        "    zipped = dict(zip(vector[vector_index].indices,\n",
        "                      vector[vector_index].data))\n",
        "    return {vocab[i]:zipped[i] for i in vector[vector_index].indices}\n",
        "\n",
        "print(return_weights(vocab, text_tfidf, 3))"
      ],
      "metadata": {
        "colab": {
          "base_uri": "https://localhost:8080/"
        },
        "id": "4-ISSIaMsMZv",
        "outputId": "8e792d01-f0f9-4671-d30a-d2926789d7f0"
      },
      "execution_count": 59,
      "outputs": [
        {
          "output_type": "stream",
          "name": "stdout",
          "text": [
            "{'swap': 0.7071067811865476, 'stop': 0.7071067811865476}\n"
          ]
        }
      ]
    },
    {
      "cell_type": "markdown",
      "source": [
        "#### **Exploring text vectors, part-1**\n"
      ],
      "metadata": {
        "id": "lA11FKCnfJ-N"
      }
    },
    {
      "cell_type": "markdown",
      "source": [
        "Let's expand on the text vector exploration method we just learned about, using the `volunteer` dataset's title `tf/idf` vectors.\n",
        "\n",
        "In this first part of text vector exploration, we're going to add to that function we learned about in the slides. We'll return a list of numbers with the function.\n",
        "\n",
        "In the next exercise, we'll write another function to collect the top words across all documents, extract them, and then use that list to filter down our text_tfidf vector."
      ],
      "metadata": {
        "id": "ViRYn8HjsxFr"
      }
    },
    {
      "cell_type": "code",
      "source": [
        "# Add in the rest of the arguments\n",
        "def return_weights(vocab, original_vocab, vector, vector_index, top_n):\n",
        "    zipped = dict(zip(vector[vector_index].indices, vector[vector_index].data))\n",
        "\n",
        "    # Transform that zipped dict into a series\n",
        "    zipped_series = pd.Series({vocab[i]:zipped[i] for i in vector[vector_index].indices})\n",
        "\n",
        "    # Sort the series to pull out the top n weighted words\n",
        "    zipped_index = zipped_series.sort_values(ascending=False)[:top_n].index\n",
        "    return [original_vocab[i] for i in zipped_index]\n",
        "\n",
        "# Print out the weighted words\n",
        "print(return_weights(vocab, tfidf_vec.vocabulary_, text_tfidf, 8, 3))"
      ],
      "metadata": {
        "colab": {
          "base_uri": "https://localhost:8080/"
        },
        "id": "qy67sgjrfVAs",
        "outputId": "5e7a8b56-eeb3-422a-96de-a9d5c609739d"
      },
      "execution_count": 60,
      "outputs": [
        {
          "output_type": "stream",
          "name": "stdout",
          "text": [
            "[189, 942, 466]\n"
          ]
        }
      ]
    },
    {
      "cell_type": "markdown",
      "source": [
        "#### **Exploring text vectors, part 2**\n"
      ],
      "metadata": {
        "id": "bYLisrSHfLSc"
      }
    },
    {
      "cell_type": "markdown",
      "source": [
        "Using the `return_weights()` function you wrote in the previous exercise, you're now going to extract the top words from each document in the text vector, return a list of the word indices, and use that list to filter the text vector down to those top words."
      ],
      "metadata": {
        "id": "HYYG5C1wtKX2"
      }
    },
    {
      "cell_type": "code",
      "source": [
        "def words_to_filter(vocab, original_vocab, vector, top_n):\n",
        "    filter_list = []\n",
        "    for i in range(0, vector.shape[0]):\n",
        "\n",
        "        # Call the return_weights function and extend filter_list\n",
        "        filtered = return_weights(vocab, original_vocab, vector, i, top_n)\n",
        "        filter_list.extend(filtered)\n",
        "\n",
        "    # Return the list in a set, so we don't get duplicate word indices\n",
        "    return set(filter_list)\n",
        "\n",
        "# Call the function to get the list of word indices\n",
        "filtered_words = words_to_filter(vocab, tfidf_vec.vocabulary_, text_tfidf, 3)\n",
        "\n",
        "# Filter the columns in text_tfidf to only those in filtered_words\n",
        "filtered_text = text_tfidf[:, list(filtered_words)]"
      ],
      "metadata": {
        "id": "W1EN9gHWfVck"
      },
      "execution_count": 61,
      "outputs": []
    },
    {
      "cell_type": "markdown",
      "source": [
        "#### **Training Naive Bayes with feature selection**\n"
      ],
      "metadata": {
        "id": "l2Xu7W6DfMoM"
      }
    },
    {
      "cell_type": "markdown",
      "source": [
        "Now  we will re-run the **Naive Bayes text classification** model that you ran at the end of **Chapter 3** with our selection choices from the previous exercise: the volunteer dataset's title and `category_desc` columns."
      ],
      "metadata": {
        "id": "MUSg9ruGtpJF"
      }
    },
    {
      "cell_type": "code",
      "source": [
        "# Split the dataset according to the class distribution of category_desc\n",
        "X_train, X_test, y_train, y_test = train_test_split(filtered_text.toarray(), y, stratify=y, random_state=42)\n",
        "\n",
        "# Fit the model to the training data\n",
        "nb.fit(X_train, y_train)\n",
        "\n",
        "# Print out the model's accuracy\n",
        "print(nb.score(X_test, y_test))"
      ],
      "metadata": {
        "colab": {
          "base_uri": "https://localhost:8080/"
        },
        "id": "CJe6SwRgfVyU",
        "outputId": "58f7702b-9182-4e35-ba98-1bf9c2ffd1d8"
      },
      "execution_count": 62,
      "outputs": [
        {
          "output_type": "stream",
          "name": "stdout",
          "text": [
            "0.5548387096774193\n"
          ]
        }
      ]
    },
    {
      "cell_type": "markdown",
      "source": [
        "You can see that our accuracy score wasn't that different from the score at the end of Chapter 3. But don't worry, this is mainly because of how small the title field is."
      ],
      "metadata": {
        "id": "9Z0noVG_tnYp"
      }
    },
    {
      "cell_type": "markdown",
      "source": [
        "## **Dimensionality reduction**\n"
      ],
      "metadata": {
        "id": "mZ0jJQJCfN_E"
      }
    },
    {
      "cell_type": "markdown",
      "source": [
        "Dimensionality reduction is an unsupervised learning method that aims to reduce the number of features in a dataset while preserving its essential information. One popular technique for dimensionality reduction is `Principal Component Analysis (PCA)`, which combines or decomposes the original feature space into a lower-dimensional space.\n",
        "\n",
        "**PCA involves the following steps:**\n",
        "\n",
        "- **Feature extraction**: In this step, we use `PCA` to reduce the feature space. It extracts a set of new features, called principal components, that are linear combinations of the original features.\n",
        "\n",
        "- **Linear transformation to an uncorrelated space**: PCA performs a linear transformation of the data to a new coordinate system in which the principal components are uncorrelated. This transformation ensures that each principal component captures different aspects of the dataset's variance.\n",
        "\n",
        "- **Capturing as much variance as possible**: PCA arranges the principal components in descending order of the variance they capture. The first principal component accounts for the highest variance in the data, followed by the second principal component, and so on. By selecting a subset of these components, we can retain most of the important information while reducing the dimensionality of the dataset."
      ],
      "metadata": {
        "id": "ksSSEItluwNf"
      }
    },
    {
      "cell_type": "markdown",
      "source": [
        "#### **Using PCA**\n"
      ],
      "metadata": {
        "id": "cEIVPiSofPhE"
      }
    },
    {
      "cell_type": "code",
      "source": [
        "from sklearn.decomposition import PCA\n",
        "\n",
        "# Instantiate a PCA object\n",
        "pca = PCA()\n",
        "\n",
        "# Define the features and labels from the wine dataset\n",
        "X = wine_df.drop(\"Type\", axis=1)\n",
        "y = wine_df[\"Type\"]\n",
        "\n",
        "X_train, X_test, y_train, y_test = train_test_split(X, y, stratify=y, random_state=42)\n",
        "\n",
        "# Apply PCA to the wine dataset\n",
        "pca_X_train = pca.fit_transform(X_train)\n",
        "pca_X_test = pca.transform(X_test)\n",
        "\n",
        "# Look at the percentage of variance explained by the different components\n",
        "print(pca.explained_variance_ratio_)"
      ],
      "metadata": {
        "colab": {
          "base_uri": "https://localhost:8080/"
        },
        "id": "1xhZI-qtfWUm",
        "outputId": "3c54c041-60b0-413a-8a3b-b5bc0b413da8"
      },
      "execution_count": 63,
      "outputs": [
        {
          "output_type": "stream",
          "name": "stdout",
          "text": [
            "[9.97795009e-01 2.02071827e-03 9.88350594e-05 5.66222566e-05\n",
            " 1.26161135e-05 8.93235789e-06 3.13856866e-06 1.57406401e-06\n",
            " 1.15918860e-06 7.49332354e-07 3.70332305e-07 1.94185373e-07\n",
            " 8.08440051e-08]\n"
          ]
        }
      ]
    },
    {
      "cell_type": "markdown",
      "source": [
        "#### **Training a model with PCA**"
      ],
      "metadata": {
        "id": "GwWsVLBbfQw8"
      }
    },
    {
      "cell_type": "code",
      "source": [
        "from sklearn.neighbors import KNeighborsClassifier\n",
        "\n",
        "# Fit knn to the training data\n",
        "knn = KNeighborsClassifier()\n",
        "knn.fit(pca_X_train, y_train)\n",
        "\n",
        "# Score knn on the test data and print it out\n",
        "print(knn.score(pca_X_test, y_test))"
      ],
      "metadata": {
        "colab": {
          "base_uri": "https://localhost:8080/"
        },
        "id": "_8Yl7Y6tfWp9",
        "outputId": "bdcff01f-022f-4823-8582-0a8007566b3e"
      },
      "execution_count": 64,
      "outputs": [
        {
          "output_type": "stream",
          "name": "stdout",
          "text": [
            "0.7777777777777778\n"
          ]
        }
      ]
    },
    {
      "cell_type": "markdown",
      "source": [
        "PCA turned out to be a good choice for the wine dataset."
      ],
      "metadata": {
        "id": "8wEcD3miv8MR"
      }
    },
    {
      "cell_type": "markdown",
      "source": [
        "# **5️⃣ Putting It All Together** (fix this section dataset issuse)"
      ],
      "metadata": {
        "id": "rfvp0oy-m6yK"
      }
    },
    {
      "cell_type": "code",
      "source": [
        "ufo =  pd.read_csv(\"ufo_sightings_large.csv\")\n",
        "ufo.head(5)"
      ],
      "metadata": {
        "colab": {
          "base_uri": "https://localhost:8080/",
          "height": 206
        },
        "id": "TCZN-CdXw5NW",
        "outputId": "5440b3c4-e916-4f5a-d92b-5c5a12b164cb"
      },
      "execution_count": 65,
      "outputs": [
        {
          "output_type": "execute_result",
          "data": {
            "text/plain": [
              "               date              city state country      type    seconds  \\\n",
              "0   11/3/2011 19:21         woodville    wi      us   unknown  1209600.0   \n",
              "1   10/3/2004 19:05         cleveland    oh      us    circle       30.0   \n",
              "2   9/25/2009 21:00       coon rapids    mn      us     cigar        0.0   \n",
              "3  11/21/2002 05:45          clemmons    nc      us  triangle      300.0   \n",
              "4   8/19/2010 12:55  calgary (canada)    ab      ca      oval        0.0   \n",
              "\n",
              "    length_of_time                                               desc  \\\n",
              "0          2 weeks  Red blinking objects similar to airplanes or s...   \n",
              "1           30sec.               Many fighter jets flying towards UFO   \n",
              "2              NaN  Green&#44 red&#44 and blue pulses of light tha...   \n",
              "3  about 5 minutes  It was a large&#44 triangular shaped flying ob...   \n",
              "4                2     A white spinning disc in the shape of an oval.   \n",
              "\n",
              "     recorded         lat        long  \n",
              "0  12/12/2011  44.9530556  -92.291111  \n",
              "1  10/27/2004  41.4994444  -81.695556  \n",
              "2  12/12/2009  45.1200000  -93.287500  \n",
              "3  12/23/2002  36.0213889  -80.382222  \n",
              "4   8/24/2010   51.083333 -114.083333  "
            ],
            "text/html": [
              "\n",
              "  <div id=\"df-0af1066c-b246-470b-be7d-c1da6f8905b6\">\n",
              "    <div class=\"colab-df-container\">\n",
              "      <div>\n",
              "<style scoped>\n",
              "    .dataframe tbody tr th:only-of-type {\n",
              "        vertical-align: middle;\n",
              "    }\n",
              "\n",
              "    .dataframe tbody tr th {\n",
              "        vertical-align: top;\n",
              "    }\n",
              "\n",
              "    .dataframe thead th {\n",
              "        text-align: right;\n",
              "    }\n",
              "</style>\n",
              "<table border=\"1\" class=\"dataframe\">\n",
              "  <thead>\n",
              "    <tr style=\"text-align: right;\">\n",
              "      <th></th>\n",
              "      <th>date</th>\n",
              "      <th>city</th>\n",
              "      <th>state</th>\n",
              "      <th>country</th>\n",
              "      <th>type</th>\n",
              "      <th>seconds</th>\n",
              "      <th>length_of_time</th>\n",
              "      <th>desc</th>\n",
              "      <th>recorded</th>\n",
              "      <th>lat</th>\n",
              "      <th>long</th>\n",
              "    </tr>\n",
              "  </thead>\n",
              "  <tbody>\n",
              "    <tr>\n",
              "      <th>0</th>\n",
              "      <td>11/3/2011 19:21</td>\n",
              "      <td>woodville</td>\n",
              "      <td>wi</td>\n",
              "      <td>us</td>\n",
              "      <td>unknown</td>\n",
              "      <td>1209600.0</td>\n",
              "      <td>2 weeks</td>\n",
              "      <td>Red blinking objects similar to airplanes or s...</td>\n",
              "      <td>12/12/2011</td>\n",
              "      <td>44.9530556</td>\n",
              "      <td>-92.291111</td>\n",
              "    </tr>\n",
              "    <tr>\n",
              "      <th>1</th>\n",
              "      <td>10/3/2004 19:05</td>\n",
              "      <td>cleveland</td>\n",
              "      <td>oh</td>\n",
              "      <td>us</td>\n",
              "      <td>circle</td>\n",
              "      <td>30.0</td>\n",
              "      <td>30sec.</td>\n",
              "      <td>Many fighter jets flying towards UFO</td>\n",
              "      <td>10/27/2004</td>\n",
              "      <td>41.4994444</td>\n",
              "      <td>-81.695556</td>\n",
              "    </tr>\n",
              "    <tr>\n",
              "      <th>2</th>\n",
              "      <td>9/25/2009 21:00</td>\n",
              "      <td>coon rapids</td>\n",
              "      <td>mn</td>\n",
              "      <td>us</td>\n",
              "      <td>cigar</td>\n",
              "      <td>0.0</td>\n",
              "      <td>NaN</td>\n",
              "      <td>Green&amp;#44 red&amp;#44 and blue pulses of light tha...</td>\n",
              "      <td>12/12/2009</td>\n",
              "      <td>45.1200000</td>\n",
              "      <td>-93.287500</td>\n",
              "    </tr>\n",
              "    <tr>\n",
              "      <th>3</th>\n",
              "      <td>11/21/2002 05:45</td>\n",
              "      <td>clemmons</td>\n",
              "      <td>nc</td>\n",
              "      <td>us</td>\n",
              "      <td>triangle</td>\n",
              "      <td>300.0</td>\n",
              "      <td>about 5 minutes</td>\n",
              "      <td>It was a large&amp;#44 triangular shaped flying ob...</td>\n",
              "      <td>12/23/2002</td>\n",
              "      <td>36.0213889</td>\n",
              "      <td>-80.382222</td>\n",
              "    </tr>\n",
              "    <tr>\n",
              "      <th>4</th>\n",
              "      <td>8/19/2010 12:55</td>\n",
              "      <td>calgary (canada)</td>\n",
              "      <td>ab</td>\n",
              "      <td>ca</td>\n",
              "      <td>oval</td>\n",
              "      <td>0.0</td>\n",
              "      <td>2</td>\n",
              "      <td>A white spinning disc in the shape of an oval.</td>\n",
              "      <td>8/24/2010</td>\n",
              "      <td>51.083333</td>\n",
              "      <td>-114.083333</td>\n",
              "    </tr>\n",
              "  </tbody>\n",
              "</table>\n",
              "</div>\n",
              "      <button class=\"colab-df-convert\" onclick=\"convertToInteractive('df-0af1066c-b246-470b-be7d-c1da6f8905b6')\"\n",
              "              title=\"Convert this dataframe to an interactive table.\"\n",
              "              style=\"display:none;\">\n",
              "        \n",
              "  <svg xmlns=\"http://www.w3.org/2000/svg\" height=\"24px\"viewBox=\"0 0 24 24\"\n",
              "       width=\"24px\">\n",
              "    <path d=\"M0 0h24v24H0V0z\" fill=\"none\"/>\n",
              "    <path d=\"M18.56 5.44l.94 2.06.94-2.06 2.06-.94-2.06-.94-.94-2.06-.94 2.06-2.06.94zm-11 1L8.5 8.5l.94-2.06 2.06-.94-2.06-.94L8.5 2.5l-.94 2.06-2.06.94zm10 10l.94 2.06.94-2.06 2.06-.94-2.06-.94-.94-2.06-.94 2.06-2.06.94z\"/><path d=\"M17.41 7.96l-1.37-1.37c-.4-.4-.92-.59-1.43-.59-.52 0-1.04.2-1.43.59L10.3 9.45l-7.72 7.72c-.78.78-.78 2.05 0 2.83L4 21.41c.39.39.9.59 1.41.59.51 0 1.02-.2 1.41-.59l7.78-7.78 2.81-2.81c.8-.78.8-2.07 0-2.86zM5.41 20L4 18.59l7.72-7.72 1.47 1.35L5.41 20z\"/>\n",
              "  </svg>\n",
              "      </button>\n",
              "      \n",
              "  <style>\n",
              "    .colab-df-container {\n",
              "      display:flex;\n",
              "      flex-wrap:wrap;\n",
              "      gap: 12px;\n",
              "    }\n",
              "\n",
              "    .colab-df-convert {\n",
              "      background-color: #E8F0FE;\n",
              "      border: none;\n",
              "      border-radius: 50%;\n",
              "      cursor: pointer;\n",
              "      display: none;\n",
              "      fill: #1967D2;\n",
              "      height: 32px;\n",
              "      padding: 0 0 0 0;\n",
              "      width: 32px;\n",
              "    }\n",
              "\n",
              "    .colab-df-convert:hover {\n",
              "      background-color: #E2EBFA;\n",
              "      box-shadow: 0px 1px 2px rgba(60, 64, 67, 0.3), 0px 1px 3px 1px rgba(60, 64, 67, 0.15);\n",
              "      fill: #174EA6;\n",
              "    }\n",
              "\n",
              "    [theme=dark] .colab-df-convert {\n",
              "      background-color: #3B4455;\n",
              "      fill: #D2E3FC;\n",
              "    }\n",
              "\n",
              "    [theme=dark] .colab-df-convert:hover {\n",
              "      background-color: #434B5C;\n",
              "      box-shadow: 0px 1px 3px 1px rgba(0, 0, 0, 0.15);\n",
              "      filter: drop-shadow(0px 1px 2px rgba(0, 0, 0, 0.3));\n",
              "      fill: #FFFFFF;\n",
              "    }\n",
              "  </style>\n",
              "\n",
              "      <script>\n",
              "        const buttonEl =\n",
              "          document.querySelector('#df-0af1066c-b246-470b-be7d-c1da6f8905b6 button.colab-df-convert');\n",
              "        buttonEl.style.display =\n",
              "          google.colab.kernel.accessAllowed ? 'block' : 'none';\n",
              "\n",
              "        async function convertToInteractive(key) {\n",
              "          const element = document.querySelector('#df-0af1066c-b246-470b-be7d-c1da6f8905b6');\n",
              "          const dataTable =\n",
              "            await google.colab.kernel.invokeFunction('convertToInteractive',\n",
              "                                                     [key], {});\n",
              "          if (!dataTable) return;\n",
              "\n",
              "          const docLinkHtml = 'Like what you see? Visit the ' +\n",
              "            '<a target=\"_blank\" href=https://colab.research.google.com/notebooks/data_table.ipynb>data table notebook</a>'\n",
              "            + ' to learn more about interactive tables.';\n",
              "          element.innerHTML = '';\n",
              "          dataTable['output_type'] = 'display_data';\n",
              "          await google.colab.output.renderOutput(dataTable, element);\n",
              "          const docLink = document.createElement('div');\n",
              "          docLink.innerHTML = docLinkHtml;\n",
              "          element.appendChild(docLink);\n",
              "        }\n",
              "      </script>\n",
              "    </div>\n",
              "  </div>\n",
              "  "
            ]
          },
          "metadata": {},
          "execution_count": 65
        }
      ]
    },
    {
      "cell_type": "markdown",
      "source": [
        "## **UFOs and preprocessing**\n"
      ],
      "metadata": {
        "id": "_6qfFJG8wDsx"
      }
    },
    {
      "cell_type": "markdown",
      "source": [
        "#### **Checking column types**\n"
      ],
      "metadata": {
        "id": "3Of06ciHwc3_"
      }
    },
    {
      "cell_type": "code",
      "source": [
        "# Print the DataFrame info\n",
        "print(ufo.info())\n",
        "print(\"\\n\")\n",
        "\n",
        "# Change the type of seconds to float\n",
        "ufo[\"seconds\"] = ufo[\"seconds\"].astype(float)\n",
        "\n",
        "# Change the date column to type datetime\n",
        "ufo[\"date\"] = pd.to_datetime(ufo[\"date\"])\n",
        "\n",
        "# Check the column types\n",
        "print(ufo.info())"
      ],
      "metadata": {
        "colab": {
          "base_uri": "https://localhost:8080/"
        },
        "id": "oEY-h4vmxUl2",
        "outputId": "2dfd3d14-eb25-4b90-e2bd-1c25eb3dc48f"
      },
      "execution_count": 66,
      "outputs": [
        {
          "output_type": "stream",
          "name": "stdout",
          "text": [
            "<class 'pandas.core.frame.DataFrame'>\n",
            "RangeIndex: 4935 entries, 0 to 4934\n",
            "Data columns (total 11 columns):\n",
            " #   Column          Non-Null Count  Dtype  \n",
            "---  ------          --------------  -----  \n",
            " 0   date            4935 non-null   object \n",
            " 1   city            4926 non-null   object \n",
            " 2   state           4516 non-null   object \n",
            " 3   country         4255 non-null   object \n",
            " 4   type            4776 non-null   object \n",
            " 5   seconds         4935 non-null   float64\n",
            " 6   length_of_time  4792 non-null   object \n",
            " 7   desc            4932 non-null   object \n",
            " 8   recorded        4935 non-null   object \n",
            " 9   lat             4935 non-null   object \n",
            " 10  long            4935 non-null   float64\n",
            "dtypes: float64(2), object(9)\n",
            "memory usage: 424.2+ KB\n",
            "None\n",
            "\n",
            "\n",
            "<class 'pandas.core.frame.DataFrame'>\n",
            "RangeIndex: 4935 entries, 0 to 4934\n",
            "Data columns (total 11 columns):\n",
            " #   Column          Non-Null Count  Dtype         \n",
            "---  ------          --------------  -----         \n",
            " 0   date            4935 non-null   datetime64[ns]\n",
            " 1   city            4926 non-null   object        \n",
            " 2   state           4516 non-null   object        \n",
            " 3   country         4255 non-null   object        \n",
            " 4   type            4776 non-null   object        \n",
            " 5   seconds         4935 non-null   float64       \n",
            " 6   length_of_time  4792 non-null   object        \n",
            " 7   desc            4932 non-null   object        \n",
            " 8   recorded        4935 non-null   object        \n",
            " 9   lat             4935 non-null   object        \n",
            " 10  long            4935 non-null   float64       \n",
            "dtypes: datetime64[ns](1), float64(2), object(8)\n",
            "memory usage: 424.2+ KB\n",
            "None\n"
          ]
        }
      ]
    },
    {
      "cell_type": "markdown",
      "source": [
        "#### **Dropping missing data**\n"
      ],
      "metadata": {
        "id": "AV0jQ9HAwe5O"
      }
    },
    {
      "cell_type": "code",
      "source": [
        "# Count the missing values in the length_of_time, state, and type columns, in that order\n",
        "print(ufo[[\"length_of_time\", \"state\", \"type\"]].isna().sum())\n",
        "print(\"\\n\")\n",
        "\n",
        "# Drop rows where length_of_time, state, or type are missing\n",
        "ufo_no_missing = ufo.dropna(subset=[\"length_of_time\", \"state\", \"type\"])\n",
        "\n",
        "# Print out the shape of the new dataset\n",
        "print(ufo_no_missing.shape)"
      ],
      "metadata": {
        "colab": {
          "base_uri": "https://localhost:8080/"
        },
        "id": "WK2bgTklx4Um",
        "outputId": "3707649c-3c57-47ef-bc99-6bc83cd81112"
      },
      "execution_count": 67,
      "outputs": [
        {
          "output_type": "stream",
          "name": "stdout",
          "text": [
            "length_of_time    143\n",
            "state             419\n",
            "type              159\n",
            "dtype: int64\n",
            "\n",
            "\n",
            "(4283, 11)\n"
          ]
        }
      ]
    },
    {
      "cell_type": "markdown",
      "source": [
        "## **Categorical variables and standardization**\n"
      ],
      "metadata": {
        "id": "U3nzgg7Fwg3f"
      }
    },
    {
      "cell_type": "markdown",
      "source": [
        "#### **Extracting numbers from strings**\n"
      ],
      "metadata": {
        "id": "MpHW0Zl3wiXe"
      }
    },
    {
      "cell_type": "code",
      "source": [
        "import re\n",
        "import pandas as pd\n",
        "\n",
        "# Define the return_minutes function\n",
        "def return_minutes(time_string):\n",
        "    # Search for numbers in time_string\n",
        "    num = re.search(\"\\d+\", time_string)\n",
        "    if num is not None:\n",
        "        return int(num.group(0))\n",
        "\n",
        "# Check the data type of the length_of_time column\n",
        "print(ufo[\"length_of_time\"].dtype)\n",
        "\n",
        "# Convert the length_of_time column to string type\n",
        "ufo[\"length_of_time\"] = ufo[\"length_of_time\"].astype(str)\n",
        "\n",
        "# Apply the extraction to the length_of_time column\n",
        "ufo[\"minutes\"] = ufo[\"length_of_time\"].apply(return_minutes)\n",
        "\n",
        "# Take a look at the head of both columns\n",
        "print(ufo[[\"length_of_time\", \"minutes\"]].head())"
      ],
      "metadata": {
        "colab": {
          "base_uri": "https://localhost:8080/"
        },
        "id": "faxvDoIxyCHH",
        "outputId": "d8062932-eec0-4237-faf7-0ca7c939b680"
      },
      "execution_count": 70,
      "outputs": [
        {
          "output_type": "stream",
          "name": "stdout",
          "text": [
            "object\n",
            "    length_of_time  minutes\n",
            "0          2 weeks      2.0\n",
            "1           30sec.     30.0\n",
            "2              nan      NaN\n",
            "3  about 5 minutes      5.0\n",
            "4                2      2.0\n"
          ]
        }
      ]
    },
    {
      "cell_type": "markdown",
      "source": [
        "#### **Identifying features for standardization**\n"
      ],
      "metadata": {
        "id": "dsS_ggq1wjwn"
      }
    },
    {
      "cell_type": "code",
      "source": [
        "# Check the variance of the seconds and minutes columns\n",
        "print(ufo[[\"seconds\", \"minutes\"]].var())\n",
        "\n",
        "# Log normalize the seconds column\n",
        "ufo[\"seconds_log\"] = np.log(ufo[\"seconds\"])\n",
        "\n",
        "# Print out the variance of just the seconds_log column\n",
        "print(ufo[\"seconds_log\"].var())"
      ],
      "metadata": {
        "colab": {
          "base_uri": "https://localhost:8080/"
        },
        "id": "by3QN-8syz3W",
        "outputId": "2b1379d8-448d-42ed-b565-ec7eede0b183"
      },
      "execution_count": 71,
      "outputs": [
        {
          "output_type": "stream",
          "name": "stdout",
          "text": [
            "seconds    3.156735e+10\n",
            "minutes    8.425929e+02\n",
            "dtype: float64\n",
            "nan\n"
          ]
        },
        {
          "output_type": "stream",
          "name": "stderr",
          "text": [
            "/usr/local/lib/python3.10/dist-packages/pandas/core/arraylike.py:402: RuntimeWarning: divide by zero encountered in log\n",
            "  result = getattr(ufunc, method)(*inputs, **kwargs)\n"
          ]
        }
      ]
    },
    {
      "cell_type": "markdown",
      "source": [
        "## **Engineering new features**\n"
      ],
      "metadata": {
        "id": "NJXcI2_DwlLf"
      }
    },
    {
      "cell_type": "markdown",
      "source": [
        "#### **Encoding categorical variables**\n"
      ],
      "metadata": {
        "id": "hFgKUKurwmrG"
      }
    },
    {
      "cell_type": "code",
      "source": [
        "# Use pandas to encode us values as 1 and others as 0\n",
        "ufo[\"country_enc\"] = ufo[\"country\"].apply(lambda val: 1 if val == \"us\" else 0)\n",
        "\n",
        "# Print the number of unique type values\n",
        "print(len(ufo[\"type\"].unique()))\n",
        "\n",
        "# Create a one-hot encoded set of the type values\n",
        "type_set = pd.get_dummies(ufo[\"type\"])\n",
        "\n",
        "# Concatenate this set back to the ufo DataFrame\n",
        "ufo = pd.concat([ufo, type_set], axis=1)"
      ],
      "metadata": {
        "colab": {
          "base_uri": "https://localhost:8080/"
        },
        "id": "st7VnNWszbaX",
        "outputId": "2f453f63-089e-4816-89b6-19e3328440e4"
      },
      "execution_count": 72,
      "outputs": [
        {
          "output_type": "stream",
          "name": "stdout",
          "text": [
            "22\n"
          ]
        }
      ]
    },
    {
      "cell_type": "markdown",
      "source": [
        "#### **Features from dates**\n"
      ],
      "metadata": {
        "id": "d2AXQqGawn-G"
      }
    },
    {
      "cell_type": "code",
      "source": [
        "# Look at the first 5 rows of the date column\n",
        "print(ufo[\"date\"].head())\n",
        "\n",
        "# Extract the month from the date column\n",
        "ufo[\"month\"] = ufo[\"date\"].dt.month\n",
        "\n",
        "# Extract the year from the date column\n",
        "ufo[\"year\"] = ufo[\"date\"].dt.year\n",
        "\n",
        "# Take a look at the head of all three columns\n",
        "print(ufo[[\"date\", \"month\", \"year\"]].head())"
      ],
      "metadata": {
        "colab": {
          "base_uri": "https://localhost:8080/"
        },
        "id": "HA_XB_HVzb4W",
        "outputId": "345f5c53-1def-4df2-947b-70553ed87d03"
      },
      "execution_count": 73,
      "outputs": [
        {
          "output_type": "stream",
          "name": "stdout",
          "text": [
            "0   2011-11-03 19:21:00\n",
            "1   2004-10-03 19:05:00\n",
            "2   2009-09-25 21:00:00\n",
            "3   2002-11-21 05:45:00\n",
            "4   2010-08-19 12:55:00\n",
            "Name: date, dtype: datetime64[ns]\n",
            "                 date  month  year\n",
            "0 2011-11-03 19:21:00     11  2011\n",
            "1 2004-10-03 19:05:00     10  2004\n",
            "2 2009-09-25 21:00:00      9  2009\n",
            "3 2002-11-21 05:45:00     11  2002\n",
            "4 2010-08-19 12:55:00      8  2010\n"
          ]
        }
      ]
    },
    {
      "cell_type": "markdown",
      "source": [
        "#### **Text vectorization**\n"
      ],
      "metadata": {
        "id": "2UTarLkdwpd2"
      }
    },
    {
      "cell_type": "code",
      "source": [
        "# Replace NaN values in the \"desc\" field with an empty string\n",
        "ufo[\"desc\"].fillna(\"\", inplace=True)\n",
        "\n",
        "# Take a look at the head of the desc field\n",
        "print(ufo[\"desc\"].head())\n",
        "\n",
        "# Instantiate the tfidf vectorizer object\n",
        "vec = TfidfVectorizer()\n",
        "\n",
        "# Fit and transform desc using vec\n",
        "desc_tfidf = vec.fit_transform(ufo[\"desc\"])\n",
        "\n",
        "# Look at the number of columns and rows\n",
        "print(desc_tfidf.shape)"
      ],
      "metadata": {
        "colab": {
          "base_uri": "https://localhost:8080/"
        },
        "id": "m6MI0Xo_zcSG",
        "outputId": "521d5469-ea84-40bd-9a77-2b21ff13ab56"
      },
      "execution_count": 75,
      "outputs": [
        {
          "output_type": "stream",
          "name": "stdout",
          "text": [
            "0    Red blinking objects similar to airplanes or s...\n",
            "1                 Many fighter jets flying towards UFO\n",
            "2    Green&#44 red&#44 and blue pulses of light tha...\n",
            "3    It was a large&#44 triangular shaped flying ob...\n",
            "4       A white spinning disc in the shape of an oval.\n",
            "Name: desc, dtype: object\n",
            "(4935, 6433)\n"
          ]
        }
      ]
    },
    {
      "cell_type": "markdown",
      "source": [
        "## **Feature selection and modeling**\n"
      ],
      "metadata": {
        "id": "o886OUR0wrBX"
      }
    },
    {
      "cell_type": "markdown",
      "source": [
        "#### **Selecting the ideal dataset**\n"
      ],
      "metadata": {
        "id": "vP3sdqHLwsZ-"
      }
    },
    {
      "cell_type": "code",
      "source": [
        "# Make a list of features to drop\n",
        "to_drop = [\"city\", \"country\", \"date\", \"desc\", \"lat\", \"length_of_time\", \"long\", \"minutes\", \"recorded\", \"seconds\", \"state\"]\n",
        "\n",
        "# Drop those features\n",
        "ufo_dropped = ufo.drop(to_drop, axis=1)\n",
        "\n",
        "# Let's also filter some words out of the text vector we created\n",
        "def words_to_filter(vocab, vocabulary, vector, n):\n",
        "    zipped = zip(vector.data, vector.indices)\n",
        "    sorted_words = sorted(zipped, reverse=True)[:n]\n",
        "    filtered_words = [vocab[idx] for _, idx in sorted_words]\n",
        "    return filtered_words\n",
        "\n",
        "filtered_words = words_to_filter(vec.get_feature_names_out(), vec.vocabulary_, desc_tfidf, 4)"
      ],
      "metadata": {
        "id": "Y2ltciTUzdQW"
      },
      "execution_count": 80,
      "outputs": []
    },
    {
      "cell_type": "markdown",
      "source": [
        "#### **Modeling the UFO dataset, part 1**\n"
      ],
      "metadata": {
        "id": "jJtz6D6_wtum"
      }
    },
    {
      "cell_type": "code",
      "source": [
        "# Take a look at the features in the X set of data\n",
        "print(X.columns)\n",
        "\n",
        "# Split the X and y sets\n",
        "X_train, X_test, y_train, y_test = train_test_split(X, y, stratify=y, random_state=42)\n",
        "\n",
        "# Fit knn to the training sets\n",
        "knn.fit(X_train, y_train)\n",
        "\n",
        "# Print the score of knn on the test sets\n",
        "print(knn.score(X_test, y_test))"
      ],
      "metadata": {
        "colab": {
          "base_uri": "https://localhost:8080/"
        },
        "id": "MnkTATJ2zd4v",
        "outputId": "221728a8-117b-4443-a6df-bb9812f54c9d"
      },
      "execution_count": 81,
      "outputs": [
        {
          "output_type": "stream",
          "name": "stdout",
          "text": [
            "Index(['Alcohol', 'Malic acid', 'Ash', 'Alcalinity of ash', 'Magnesium',\n",
            "       'Total phenols', 'Flavanoids', 'Nonflavanoid phenols',\n",
            "       'Proanthocyanins', 'Color intensity', 'Hue',\n",
            "       'OD280/OD315 of diluted wines', 'Proline'],\n",
            "      dtype='object')\n",
            "0.7777777777777778\n"
          ]
        }
      ]
    },
    {
      "cell_type": "markdown",
      "source": [
        "#### **Modeling the UFO dataset, part 2**"
      ],
      "metadata": {
        "id": "fXBJjV0jwvBQ"
      }
    },
    {
      "cell_type": "code",
      "source": [
        "# Use the list of filtered words we created to filter the text vector\n",
        "filtered_text = desc_tfidf[:, list(filtered_words)]\n",
        "\n",
        "# Split the X and y sets using train_test_split, setting stratify=y\n",
        "X_train, X_test, y_train, y_test = train_test_split(filtered_text.toarray(), y, stratify=y, random_state=42)\n",
        "\n",
        "# Fit nb to the training sets\n",
        "nb.fit(X_train, y_train)\n",
        "\n",
        "# Print the score of nb on the test sets\n",
        "print(nb.score(X_test, y_test))"
      ],
      "metadata": {
        "id": "GmUzQWrbzefe"
      },
      "execution_count": null,
      "outputs": []
    },
    {
      "cell_type": "markdown",
      "metadata": {
        "id": "2ZuprT2Czqry"
      },
      "source": [
        "#### $\\color{skyblue}{\\textbf{Connect with me:}}$\n",
        "\n",
        "\n",
        "[<img align=\"left\" src=\"https://cdn4.iconfinder.com/data/icons/social-media-icons-the-circle-set/48/twitter_circle-512.png\" width=\"32px\"/>][twitter]\n",
        "[<img align=\"left\" src=\"https://cdn-icons-png.flaticon.com/512/145/145807.png\" width=\"32px\"/>][linkedin]\n",
        "[<img align=\"left\" src=\"https://cdn2.iconfinder.com/data/icons/whcompare-blue-green-web-hosting-1/425/cdn-512.png\" width=\"32px\"/>][Portfolio]\n",
        "\n",
        "[twitter]: https://twitter.com/F4izy\n",
        "[linkedin]: https://www.linkedin.com/in/mohd-faizy/\n",
        "[Portfolio]: https://mohdfaizy.com/\n"
      ]
    }
  ],
  "metadata": {
    "colab": {
      "provenance": [],
      "toc_visible": true
    },
    "kernelspec": {
      "display_name": "Python 3",
      "name": "python3"
    },
    "language_info": {
      "name": "python"
    }
  },
  "nbformat": 4,
  "nbformat_minor": 0
}