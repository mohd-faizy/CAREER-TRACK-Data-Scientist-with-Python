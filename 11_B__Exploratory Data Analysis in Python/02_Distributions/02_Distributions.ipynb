{
  "nbformat": 4,
  "nbformat_minor": 0,
  "metadata": {
    "colab": {
      "name": "02_Distributions.ipynb",
      "provenance": []
    },
    "kernelspec": {
      "name": "python3",
      "display_name": "Python 3"
    }
  },
  "cells": [
    {
      "cell_type": "markdown",
      "metadata": {
        "id": "cUdFFwNEVI-P"
      },
      "source": [
        "--- \r\n",
        "<strong> \r\n",
        "    <h1 align='center'>02 Distributions</h1> \r\n",
        "</strong>\r\n",
        "\r\n",
        "---"
      ]
    },
    {
      "cell_type": "markdown",
      "metadata": {
        "id": "juMJ_HUATF7W"
      },
      "source": [
        "Clone the repository -- __Exploratory Data Analysis in Python__"
      ]
    },
    {
      "cell_type": "code",
      "metadata": {
        "colab": {
          "base_uri": "https://localhost:8080/"
        },
        "id": "45A5T9MIQl4U",
        "outputId": "11b2396f-1cd8-496b-d1a7-cfeb83901d79"
      },
      "source": [
        "!git clone https://github.com/mohd-faizy/CAREER-TRACK-Data-Scientist-with-Python.git"
      ],
      "execution_count": 1,
      "outputs": [
        {
          "output_type": "stream",
          "text": [
            "Cloning into 'CAREER-TRACK-Data-Scientist-with-Python'...\n",
            "remote: Enumerating objects: 388, done.\u001b[K\n",
            "remote: Counting objects: 100% (388/388), done.\u001b[K\n",
            "remote: Compressing objects: 100% (334/334), done.\u001b[K\n",
            "remote: Total 1759 (delta 109), reused 326 (delta 49), pack-reused 1371\u001b[K\n",
            "Receiving objects: 100% (1759/1759), 180.86 MiB | 17.14 MiB/s, done.\n",
            "Resolving deltas: 100% (601/601), done.\n",
            "Checking out files: 100% (789/789), done.\n"
          ],
          "name": "stdout"
        }
      ]
    },
    {
      "cell_type": "markdown",
      "metadata": {
        "id": "lgq55HorUEBI"
      },
      "source": [
        "__Change the current working directory__"
      ]
    },
    {
      "cell_type": "code",
      "metadata": {
        "colab": {
          "base_uri": "https://localhost:8080/"
        },
        "id": "sV77zYvcQ4bV",
        "outputId": "608000b5-2036-4039-b6fd-927fe712cec3"
      },
      "source": [
        "# import os module \r\n",
        "import os \r\n",
        "   \r\n",
        "# to specified path \r\n",
        "os.chdir('/content/CAREER-TRACK-Data-Scientist-with-Python/20_Exploratory Data Analysis in Python/_dataset') \r\n",
        "  \r\n",
        "# varify the path using getcwd() \r\n",
        "cwd = os.getcwd() \r\n",
        "  \r\n",
        "# print the current directory \r\n",
        "print(\"Current working directory is:\", cwd) "
      ],
      "execution_count": 2,
      "outputs": [
        {
          "output_type": "stream",
          "text": [
            "Current working directory is: /content/CAREER-TRACK-Data-Scientist-with-Python/20_Exploratory Data Analysis in Python/_dataset\n"
          ],
          "name": "stdout"
        }
      ]
    },
    {
      "cell_type": "code",
      "metadata": {
        "colab": {
          "base_uri": "https://localhost:8080/"
        },
        "id": "iWqv8ejWRIec",
        "outputId": "f8b671c2-cda4-49b5-e2ca-2ce4f59a78f8"
      },
      "source": [
        "ls"
      ],
      "execution_count": 3,
      "outputs": [
        {
          "output_type": "stream",
          "text": [
            "'Behavioral Risk Factor Surveillance System(brfss).hdf5'\n",
            "'General Social Survey(gss).hdf5'\n",
            "'National Survey of Family Growth(nsfg).hdf5'\n"
          ],
          "name": "stdout"
        }
      ]
    },
    {
      "cell_type": "markdown",
      "metadata": {
        "id": "HsFGhCKVck6O"
      },
      "source": [
        "## __Dataset__\r\n",
        "\r\n",
        "The __General Social Survey__ ​\r\n",
        "​​​Since 1972, the General Social Survey (GSS) has provided politicians, policymakers, and scholars with a clear and unbiased perspective on what Americans think and feel about such issues as national spendi​ng priorities, crime and punishment, intergroup relations, and confidence in institutions.\r\n",
        "\r\n",
        "[“General Social Survey”](https://gss.norc.org/)\r\n",
        "\r\n",
        "<p align='center'>\r\n",
        "    <a href=''#><img src='http://gss.norc.org/PublishingImages/banner/gss_explorer.jpg' alt='gss.png'>\r\n",
        "    </a>\r\n",
        "</p>\r\n"
      ]
    },
    {
      "cell_type": "markdown",
      "metadata": {
        "id": "7dKL6KrwhXAM"
      },
      "source": [
        "__PMF__, __PDF__ and __CDF__ are commonly used techniques in the Exploratory data analysis to finding the probabilistic relation between the variables.\r\n",
        "\r\n",
        "__Random variable:__\r\n",
        "A random variable is a variable whose value is unknown to the function i.e, the value is depends upon the outcome of experiment.\r\n",
        "\r\n",
        "_There are 2 types of random variable:_\r\n",
        "\r\n",
        "    - Continuous random variable\r\n",
        "    - Discrete random variable"
      ]
    },
    {
      "cell_type": "markdown",
      "metadata": {
        "id": "KLal8jRDn35m"
      },
      "source": [
        "__1. Probability Mass Functions(PMF):__ PMF is a function that gives the probability that a discrete random variable is exactly equal to some value.\r\n",
        "\r\n",
        "__NOTE:__ PMF is applicable for __discrete random variable__ For e.g, Throwing a dice.\r\n",
        "\r\n",
        "- `PMF` cannot have a value above 1. \r\n",
        "- All the values of the probability mass function must sum to 1.\r\n",
        "\r\n",
        "- must be non-negative.\r\n",
        "\r\n",
        "_p(X) = P(X=x)_\r\n",
        "\r\n",
        "_The Probablity of __x__ = the probablity(__X__ = one specific __x__)_\r\n"
      ]
    },
    {
      "cell_type": "markdown",
      "metadata": {
        "id": "9wfAoy57n73T"
      },
      "source": [
        "__2. Probability Density Functions(PDF)__ is a statistical expression that defines a probability distribution (the likelihood of an outcome) for a discrete random variable (e.g., a stock or ETF) as opposed to a continuous random variable.\r\n",
        "\r\n",
        "PDF most commonly follows the __Gaussian Distribution__. \r\n",
        "\r\n",
        "__NOTE:__ PDF are used to describe __continuous probability distributions__\r\n",
        "\r\n",
        "<p align='center'>\r\n",
        "    <a href='#'><img src='https://miro.medium.com/max/1622/1*5WHytMF-WUpYt8E4uCOFMg.jpeg' width=300px height=100px alt='pdf.jpeg'>\r\n",
        "    <a>\r\n",
        "</p>\r\n",
        "\r\n",
        "<p align='center'>\r\n",
        "    <a href='#'><img src='https://encrypted-tbn0.gstatic.com/images?q=tbn:ANd9GcR2UQPhiixmbhWC1EH6Yy9_NWg5T8bfO0YR4Q&usqp=CAU' width=400px height=200px alt='pdf.jpeg'>\r\n",
        "    <a>\r\n",
        "</p>\r\n"
      ]
    },
    {
      "cell_type": "markdown",
      "metadata": {
        "id": "wdoB3-mLaVCw"
      },
      "source": [
        "__3. Cumulative Distribution Function(CDF):__\r\n",
        "\r\n",
        "The `CDF` is the probability that the variable __X__ takes a value less than or equal to __x__.\r\n",
        "\r\n",
        "The cumulative distribution function is applicable for describing the distribution of random variables either it is __Continuous__ or __discrete__\r\n",
        "\r\n",
        "__F(x) = P(X ≤ x)__\r\n",
        "\r\n",
        "<p align='center'>\r\n",
        "    <a href='#'><img src='https://upload.wikimedia.org/wikipedia/commons/thumb/c/ca/Normal_Distribution_CDF.svg/720px-Normal_Distribution_CDF.svg.png' alt='cdf.svg' width=400px height=300px >\r\n",
        "    <a>\r\n",
        "</p>\r\n",
        "\r\n",
        "\r\n",
        "<h6 align='center'>Cumulative distribution function for the normal distribution</h6>"
      ]
    },
    {
      "cell_type": "markdown",
      "metadata": {
        "id": "2yaUrtsDY5L2"
      },
      "source": [
        "## __01 Make a PMF__\r\n",
        "\r\n",
        "The GSS dataset has been pre-loaded for you into a DataFrame called `gss`. You can explore it in the IPython Shell to get familiar with it.\r\n",
        "\r\n",
        "In this exercise, you'll focus on one variable in this dataset, `'year'`, which represents the year each respondent was interviewed.\r\n",
        "\r\n",
        "The `Pmf` class you saw in the video has already been created for you. You can access it outside of DataCamp via the `empiricaldist` library.\r\n",
        "\r\n"
      ]
    },
    {
      "cell_type": "code",
      "metadata": {
        "colab": {
          "base_uri": "https://localhost:8080/",
          "height": 197
        },
        "id": "W4BsEpdGaUm_",
        "outputId": "a220dc89-b38b-4b4f-af20-4f7adf6e0fef"
      },
      "source": [
        "import pandas as pd\r\n",
        "gss = pd.read_hdf('General Social Survey(gss).hdf5', 'gss')\r\n",
        "gss.head()"
      ],
      "execution_count": 4,
      "outputs": [
        {
          "output_type": "execute_result",
          "data": {
            "text/html": [
              "<div>\n",
              "<style scoped>\n",
              "    .dataframe tbody tr th:only-of-type {\n",
              "        vertical-align: middle;\n",
              "    }\n",
              "\n",
              "    .dataframe tbody tr th {\n",
              "        vertical-align: top;\n",
              "    }\n",
              "\n",
              "    .dataframe thead th {\n",
              "        text-align: right;\n",
              "    }\n",
              "</style>\n",
              "<table border=\"1\" class=\"dataframe\">\n",
              "  <thead>\n",
              "    <tr style=\"text-align: right;\">\n",
              "      <th></th>\n",
              "      <th>year</th>\n",
              "      <th>age</th>\n",
              "      <th>cohort</th>\n",
              "      <th>sex</th>\n",
              "      <th>race</th>\n",
              "      <th>educ</th>\n",
              "      <th>realinc</th>\n",
              "      <th>gunlaw</th>\n",
              "      <th>grass</th>\n",
              "      <th>wtssall</th>\n",
              "    </tr>\n",
              "  </thead>\n",
              "  <tbody>\n",
              "    <tr>\n",
              "      <th>0</th>\n",
              "      <td>1972</td>\n",
              "      <td>26.0</td>\n",
              "      <td>1946.0</td>\n",
              "      <td>1</td>\n",
              "      <td>1</td>\n",
              "      <td>18.0</td>\n",
              "      <td>13537.0</td>\n",
              "      <td>2.0</td>\n",
              "      <td>NaN</td>\n",
              "      <td>0.8893</td>\n",
              "    </tr>\n",
              "    <tr>\n",
              "      <th>1</th>\n",
              "      <td>1972</td>\n",
              "      <td>38.0</td>\n",
              "      <td>1934.0</td>\n",
              "      <td>2</td>\n",
              "      <td>1</td>\n",
              "      <td>12.0</td>\n",
              "      <td>18951.0</td>\n",
              "      <td>1.0</td>\n",
              "      <td>NaN</td>\n",
              "      <td>0.4446</td>\n",
              "    </tr>\n",
              "    <tr>\n",
              "      <th>2</th>\n",
              "      <td>1972</td>\n",
              "      <td>57.0</td>\n",
              "      <td>1915.0</td>\n",
              "      <td>1</td>\n",
              "      <td>1</td>\n",
              "      <td>12.0</td>\n",
              "      <td>30458.0</td>\n",
              "      <td>1.0</td>\n",
              "      <td>NaN</td>\n",
              "      <td>1.3339</td>\n",
              "    </tr>\n",
              "    <tr>\n",
              "      <th>3</th>\n",
              "      <td>1972</td>\n",
              "      <td>61.0</td>\n",
              "      <td>1911.0</td>\n",
              "      <td>2</td>\n",
              "      <td>1</td>\n",
              "      <td>14.0</td>\n",
              "      <td>37226.0</td>\n",
              "      <td>1.0</td>\n",
              "      <td>NaN</td>\n",
              "      <td>0.8893</td>\n",
              "    </tr>\n",
              "    <tr>\n",
              "      <th>4</th>\n",
              "      <td>1972</td>\n",
              "      <td>59.0</td>\n",
              "      <td>1913.0</td>\n",
              "      <td>1</td>\n",
              "      <td>1</td>\n",
              "      <td>12.0</td>\n",
              "      <td>30458.0</td>\n",
              "      <td>2.0</td>\n",
              "      <td>NaN</td>\n",
              "      <td>0.8893</td>\n",
              "    </tr>\n",
              "  </tbody>\n",
              "</table>\n",
              "</div>"
            ],
            "text/plain": [
              "   year   age  cohort  sex  race  educ  realinc  gunlaw  grass  wtssall\n",
              "0  1972  26.0  1946.0    1     1  18.0  13537.0     2.0    NaN   0.8893\n",
              "1  1972  38.0  1934.0    2     1  12.0  18951.0     1.0    NaN   0.4446\n",
              "2  1972  57.0  1915.0    1     1  12.0  30458.0     1.0    NaN   1.3339\n",
              "3  1972  61.0  1911.0    2     1  14.0  37226.0     1.0    NaN   0.8893\n",
              "4  1972  59.0  1913.0    1     1  12.0  30458.0     2.0    NaN   0.8893"
            ]
          },
          "metadata": {
            "tags": []
          },
          "execution_count": 4
        }
      ]
    },
    {
      "cell_type": "code",
      "metadata": {
        "colab": {
          "base_uri": "https://localhost:8080/"
        },
        "id": "Nz7amWarB7MQ",
        "outputId": "df1813a6-200c-4644-e687-a6bd832c5751"
      },
      "source": [
        "print(gss.shape)\r\n",
        "print(gss.columns)"
      ],
      "execution_count": 5,
      "outputs": [
        {
          "output_type": "stream",
          "text": [
            "(62466, 10)\n",
            "Index(['year', 'age', 'cohort', 'sex', 'race', 'educ', 'realinc', 'gunlaw',\n",
            "       'grass', 'wtssall'],\n",
            "      dtype='object')\n"
          ],
          "name": "stdout"
        }
      ]
    },
    {
      "cell_type": "code",
      "metadata": {
        "colab": {
          "base_uri": "https://localhost:8080/"
        },
        "id": "3wTO4jXDCzBg",
        "outputId": "91c9f3ec-2ec0-4225-a03e-70a532eddbb4"
      },
      "source": [
        "gss['sex'].value_counts()"
      ],
      "execution_count": 6,
      "outputs": [
        {
          "output_type": "execute_result",
          "data": {
            "text/plain": [
              "2    33820\n",
              "1    28646\n",
              "Name: sex, dtype: int64"
            ]
          },
          "metadata": {
            "tags": []
          },
          "execution_count": 6
        }
      ]
    },
    {
      "cell_type": "code",
      "metadata": {
        "colab": {
          "base_uri": "https://localhost:8080/"
        },
        "id": "f8PHbln1DCDF",
        "outputId": "083d333b-eeef-4bc9-ee07-927db3d06b07"
      },
      "source": [
        "gss['race'].value_counts()"
      ],
      "execution_count": 7,
      "outputs": [
        {
          "output_type": "execute_result",
          "data": {
            "text/plain": [
              "1    50217\n",
              "2     8572\n",
              "3     3677\n",
              "Name: race, dtype: int64"
            ]
          },
          "metadata": {
            "tags": []
          },
          "execution_count": 7
        }
      ]
    },
    {
      "cell_type": "code",
      "metadata": {
        "colab": {
          "base_uri": "https://localhost:8080/"
        },
        "id": "18hRvHi9DOpw",
        "outputId": "264c6270-c54a-4a3e-d090-cc01fd2cb45a"
      },
      "source": [
        "gss['educ'].value_counts()"
      ],
      "execution_count": 8,
      "outputs": [
        {
          "output_type": "execute_result",
          "data": {
            "text/plain": [
              "12.0    19145\n",
              "16.0     7953\n",
              "14.0     6980\n",
              "13.0     5405\n",
              "11.0     3864\n",
              "15.0     2836\n",
              "10.0     2819\n",
              "8.0      2421\n",
              "18.0     2109\n",
              "9.0      1963\n",
              "17.0     1791\n",
              "20.0     1294\n",
              "7.0       860\n",
              "6.0       842\n",
              "19.0      774\n",
              "5.0       379\n",
              "4.0       290\n",
              "3.0       246\n",
              "2.0       151\n",
              "0.0       144\n",
              "1.0        38\n",
              "Name: educ, dtype: int64"
            ]
          },
          "metadata": {
            "tags": []
          },
          "execution_count": 8
        }
      ]
    },
    {
      "cell_type": "code",
      "metadata": {
        "colab": {
          "base_uri": "https://localhost:8080/"
        },
        "id": "Agu8JJz3Cgyu",
        "outputId": "a4ba4944-27fd-4733-8323-aa554330e874"
      },
      "source": [
        "print(gss.describe())"
      ],
      "execution_count": 9,
      "outputs": [
        {
          "output_type": "stream",
          "text": [
            "               year           age  ...         grass       wtssall\n",
            "count  62466.000000  62281.000000  ...  36222.000000  62466.000000\n",
            "mean    1994.072359     44.648320  ...      1.695572      1.213340\n",
            "std       12.937941     17.072244  ...      0.460171      0.585544\n",
            "min     1972.000000     18.000000  ...      1.000000      0.411898\n",
            "25%     1984.000000     30.000000  ...      1.000000      0.918400\n",
            "50%     1994.000000     43.000000  ...      2.000000      1.062100\n",
            "75%     2006.000000     57.000000  ...      2.000000      1.515500\n",
            "max     2016.000000     89.000000  ...      2.000000      8.739876\n",
            "\n",
            "[8 rows x 10 columns]\n"
          ],
          "name": "stdout"
        }
      ]
    },
    {
      "cell_type": "code",
      "metadata": {
        "colab": {
          "base_uri": "https://localhost:8080/"
        },
        "id": "_pupXBhbCih5",
        "outputId": "c2910ed7-60ef-44eb-ea9e-7b394b19a5b9"
      },
      "source": [
        "print(gss.describe)"
      ],
      "execution_count": 10,
      "outputs": [
        {
          "output_type": "stream",
          "text": [
            "<bound method NDFrame.describe of        year   age  cohort  sex  race  educ  realinc  gunlaw  grass   wtssall\n",
            "0      1972  26.0  1946.0    1     1  18.0  13537.0     2.0    NaN  0.889300\n",
            "1      1972  38.0  1934.0    2     1  12.0  18951.0     1.0    NaN  0.444600\n",
            "2      1972  57.0  1915.0    1     1  12.0  30458.0     1.0    NaN  1.333900\n",
            "3      1972  61.0  1911.0    2     1  14.0  37226.0     1.0    NaN  0.889300\n",
            "4      1972  59.0  1913.0    1     1  12.0  30458.0     2.0    NaN  0.889300\n",
            "...     ...   ...     ...  ...   ...   ...      ...     ...    ...       ...\n",
            "62461  2016  32.0  1984.0    1     1  13.0  74880.0     1.0    NaN  0.956994\n",
            "62462  2016  61.0  1955.0    2     1  16.0  65520.0     NaN    1.0  0.956994\n",
            "62463  2016  67.0  1949.0    2     1  13.0      NaN     NaN    2.0  1.564363\n",
            "62464  2016  57.0  1959.0    2     1  12.0   9945.0     2.0    NaN  0.956994\n",
            "62465  2016  56.0  1960.0    2     1  12.0  38610.0     1.0    NaN  0.478497\n",
            "\n",
            "[62466 rows x 10 columns]>\n"
          ],
          "name": "stdout"
        }
      ]
    },
    {
      "cell_type": "markdown",
      "metadata": {
        "id": "wYhpmhm-wRAU"
      },
      "source": [
        "__Instructions__\r\n",
        "\r\n",
        "- Make a PMF for year with normalize=False and display the result."
      ]
    },
    {
      "cell_type": "markdown",
      "metadata": {
        "id": "DyXJ4igQz5yj"
      },
      "source": [
        "Python library that represents [empirical distributions](https://nbviewer.jupyter.org/github/AllenDowney/empiricaldist/blob/master/empiricaldist/dist_demo.ipynb)\r\n",
        "\r\n",
        "`pip install empiricaldist`"
      ]
    },
    {
      "cell_type": "code",
      "metadata": {
        "colab": {
          "base_uri": "https://localhost:8080/"
        },
        "id": "DSXYvm2H0DRi",
        "outputId": "9e721b4f-ea40-49c1-dfe4-2115478b1051"
      },
      "source": [
        "!pip install empiricaldist"
      ],
      "execution_count": 11,
      "outputs": [
        {
          "output_type": "stream",
          "text": [
            "Collecting empiricaldist\n",
            "  Downloading https://files.pythonhosted.org/packages/f0/44/4b78042efbde4ba9d2f840c774d37a609d9ba6dcf87b8320b02c14b7f018/empiricaldist-0.6.0.tar.gz\n",
            "Building wheels for collected packages: empiricaldist\n",
            "  Building wheel for empiricaldist (setup.py) ... \u001b[?25l\u001b[?25hdone\n",
            "  Created wheel for empiricaldist: filename=empiricaldist-0.6.0-cp36-none-any.whl size=10357 sha256=a8a0ef4804931ff1574d6abe4ff49177f086eab615feabb335451accb238075a\n",
            "  Stored in directory: /root/.cache/pip/wheels/a7/18/38/f4791357371b1d677a885149b397cb1437c0ea88939ab642e7\n",
            "Successfully built empiricaldist\n",
            "Installing collected packages: empiricaldist\n",
            "Successfully installed empiricaldist-0.6.0\n"
          ],
          "name": "stdout"
        }
      ]
    },
    {
      "cell_type": "code",
      "metadata": {
        "colab": {
          "base_uri": "https://localhost:8080/"
        },
        "id": "JGZqabyBnAbq",
        "outputId": "b58813e7-8be1-4763-a60e-4d2cf5dda9dd"
      },
      "source": [
        "# importing the Probability Mass Functions\r\n",
        "from empiricaldist import Pmf\r\n",
        "\r\n",
        "# Compute the PMF for year\r\n",
        "year = gss['year']\r\n",
        "pmf_year = Pmf.from_seq(year, normalize=False)\r\n",
        " \r\n",
        "# Print the result\r\n",
        "print(pmf_year)"
      ],
      "execution_count": 12,
      "outputs": [
        {
          "output_type": "stream",
          "text": [
            "1972    1613\n",
            "1973    1504\n",
            "1974    1484\n",
            "1975    1490\n",
            "1976    1499\n",
            "1977    1530\n",
            "1978    1532\n",
            "1980    1468\n",
            "1982    1860\n",
            "1983    1599\n",
            "1984    1473\n",
            "1985    1534\n",
            "1986    1470\n",
            "1987    1819\n",
            "1988    1481\n",
            "1989    1537\n",
            "1990    1372\n",
            "1991    1517\n",
            "1993    1606\n",
            "1994    2992\n",
            "1996    2904\n",
            "1998    2832\n",
            "2000    2817\n",
            "2002    2765\n",
            "2004    2812\n",
            "2006    4510\n",
            "2008    2023\n",
            "2010    2044\n",
            "2012    1974\n",
            "2014    2538\n",
            "2016    2867\n",
            "Name: year, dtype: int64\n"
          ],
          "name": "stdout"
        }
      ]
    },
    {
      "cell_type": "markdown",
      "metadata": {
        "id": "JF1ZEUVd3MEp"
      },
      "source": [
        "__Question__\r\n",
        "\r\n",
        "How many respondents were interviewed in 2016?\r\n",
        "\r\n",
        "$\\color{red}{\\textbf{Ans:}}$ - $2867$ \r\n",
        "\r\n",
        ">__The PMF makes it easy to extract insights like this. Time now to visualize the PMF for the 'age' variable of this GSS dataset!__"
      ]
    },
    {
      "cell_type": "markdown",
      "metadata": {
        "id": "IeyS7coX3pok"
      },
      "source": [
        "## __02 Plot a PMF__\r\n",
        "\r\n",
        "Now let's plot a PMF for the age of the respondents in the GSS dataset. The variable `'age'` contains respondents' age in years.\r\n",
        "\r\n",
        "__Instructions:__\r\n",
        "\r\n",
        "Select the `'age'` column from the `gss` DataFrame and store the result in `age`."
      ]
    },
    {
      "cell_type": "code",
      "metadata": {
        "colab": {
          "base_uri": "https://localhost:8080/",
          "height": 0
        },
        "id": "lCNcbU5r-_kE",
        "outputId": "48d3abb8-31f9-4e34-dd8e-3558131969ab"
      },
      "source": [
        "import matplotlib.pyplot as plt\r\n",
        "\r\n",
        "# Select the age column\r\n",
        "age = gss['age']\r\n",
        " \r\n",
        "# Make a PMF of age\r\n",
        "pmf_age = Pmf.from_seq(age)\r\n",
        " \r\n",
        "# Plot the PMF\r\n",
        "pmf_age.plot()\r\n",
        "\r\n",
        "# Label the axes \r\n",
        "plt.xlabel('Age')\r\n",
        "plt.ylabel('PMF')\r\n",
        "plt.show()"
      ],
      "execution_count": 13,
      "outputs": [
        {
          "output_type": "display_data",
          "data": {
            "image/png": "[encoded data removed]",
            "text/plain": [
              "<Figure size 432x288 with 1 Axes>"
            ]
          },
          "metadata": {
            "tags": [],
            "needs_background": "light"
          }
        }
      ]
    },
    {
      "cell_type": "code",
      "metadata": {
        "colab": {
          "base_uri": "https://localhost:8080/",
          "height": 0
        },
        "id": "UZ35G7_WEfBt",
        "outputId": "e8383050-00b2-4598-8fa9-0dfc11e4e25b"
      },
      "source": [
        "# Select the age column\r\n",
        "age = gss['age']\r\n",
        "\r\n",
        "# Make a PMF of age\r\n",
        "pmf_age = Pmf.from_seq(age)\r\n",
        "\r\n",
        "# Plot the PMF\r\n",
        "pmf_age.bar()\r\n",
        "\r\n",
        "# Label the axes\r\n",
        "plt.xlabel('Age')\r\n",
        "plt.ylabel('PMF')\r\n",
        "plt.show()"
      ],
      "execution_count": 14,
      "outputs": [
        {
          "output_type": "display_data",
          "data": {
            "image/png": "[encoded data removed]",
            "text/plain": [
              "<Figure size 432x288 with 1 Axes>"
            ]
          },
          "metadata": {
            "tags": [],
            "needs_background": "light"
          }
        }
      ]
    },
    {
      "cell_type": "markdown",
      "metadata": {
        "id": "wIZ6H6j_KRTW"
      },
      "source": [
        "## __03 Make a CDF__"
      ]
    },
    {
      "cell_type": "markdown",
      "metadata": {
        "id": "wenFohEdIsyl"
      },
      "source": [
        "The __CDF__ is an __invertible function__, which means that if you have a probability, `p`, you can look up the corresponding quantity, `q`.\r\n",
        "\r\n",
        "- cumulative probabilities vary from 0 to 1.\r\n",
        "\r\n",
        "- `0.25`, which returns `30`. That means that `25%` of the respondents are age `30` or less.\r\n",
        "\r\n",
        "- `0.75`, which returns `57`, so `75%` of the respondents are `57` or younger.\r\n",
        "\r\n",
        "The distance from the __25th__ to the __75th__ percentile is called the interquartile range, or IQR. It measures the spread of the distribution, \r\n",
        "\r\n",
        "- similar to standard deviation or variance. \r\n",
        "\r\n",
        "- Because it is based on percentiles, it doesn't get thrown off by extreme values or outliers.\r\n",
        "\r\n",
        "$\\color{red}{\\textbf{NOTE:}}$ __IQR can be more \"robust\" than variance__, which means it works well even if there are errors in the data or extreme values."
      ]
    },
    {
      "cell_type": "markdown",
      "metadata": {
        "id": "lKRSTahjKJfk"
      },
      "source": [
        "![image.png](data:image/png;base64,iVBORw0KGgoAAAANSUhEUgAAAVUAAADaCAYAAAAWndGXAAAgAElEQVR4Ae2dh3cUx7LG31/zwn2+7757ji8OGK4jDoDJwWBswNgY+wI2Juecs4k2mGByRgEJJRASIBA5C0kIESSBJIICCBCud37tN8us2JVW0mi1s6o+Z7Sjnume6a9nvqmurq76N9GkCCgCioAi4BgC/+ZYTVqRIqAIKAKKgCip6kOgCCgCioCDCCipOgimVqUIKAKKgJKqPgOKgCKgCDiIgJKqg2BqVYqAIqAIKKnqM6AIKAKKgIMIKKk6CKZWpQgoAoqAkqo+A4qAIqAIOIiAkqqDYGpVioAioAgoqeozoAgoAoqAgwgoqToIplalCCgCioCSqj4DioAioAg4iICSai3A/OOPP+TRo0dSUVEhT5480U0x0GegiT4D8MCzZ898soeSqk9YfGc+fPhQVq1aJfPmzZMFCxbophjoM9AEn4H58+fLjBkz5NixY4KgVTUpqVZFpJr/i4qKpEuXLvLzzz/Lhg0bdFMM9Blogs/AmjVrpFevXrJ161b3kGpOTo4sXrxY+vXrJ++9956MGzdOiouLq6G7Pw89fvxY9u3bJ3369JEOHTrId999J0ePHpXKykpP2efPn0tmZqZMmzZNOnXqJJ999pksX75c7t696znH3w6Savfu3eXatWumTurVTTHQZ6BpPQNlZWUyZcoU2bNnj3tI9fDhw/Ltt9/K0KFDpW3btjJw4EApLCz0x3Um/+nTp+bLAQlPnz5dduzYISNGjJC3335b0tPTPWVv3rwpvXv3lh49esjGjRtlxYoV0rp1axk1apQX+XoK2HYsUs3NzbXl6q4ioAg0JQQQ3qZOneouUi0vL5d79+4Jv8OHDw+IVG/fvi19+/Y156NEJlHHF198YciZySXS9u3bpVWrVpKammq+MiibN2/eLC1atJCMjAxzjr8/Sqr+kNF8RaDpIOBKUrW6h5sPlFTPnj0rzZs3l5iYGC+RHEkUVQBDdtIPP/xgpOA7d+5Yl5Hs7Gz56KOPZP369Z48XztKqr5Q0TxFoGkh0GRI9cCBA/LGG294DfXp6oSEBHn//fclLS3N9HybNm1k7NixgrrASoDUsWNHmThxopXl81dJ1ScsmqkIuBaBZ5XPpbT8qRQ9eCTlj32bSFVtXJMgVcwaYmNjpWXLlnLq1CkvDFJSUuSdd94RfkkffPCBTJo0yUuaZaKhc+fOMnLkSK+yVf9RUq2KiP6vCIQmAs//+EMeVzyT4oeP5XZhqeTcfiCXc4rldMZdSbuQL4dO35LYozmyaf9lWbzltEz45YjsPpglz5+/bCJVtYVNglRpdFJSkrz55psvSaqJiYlekiqTUlgT2A130bciqU6YMKEqfl7/K6l6waH/KAKNisCTp5VSUFwm5zILJenEDdl7KEs2xFySpTvOyOzf02XSqqMyelmqDF18SAbPPyDfzUqUftPi5ctJsdJj3D7pNCJS2gzZI+2H7ZX+MxJkz8FMgYxrSk2GVJFQGf5DovaETVm7du08k1ADBgwwE192E60bN27IJ598Ir/++qu96Ev7SqovQaIZioDjCCAtVjytlLJHT+V+aYXcvf9Irly/J4npN2Tz/iuyYPMpGbo4WfpMiZPPJ8QYgoQk7VvPcfvMMQj06+nx8uOCZBm/8ojM2ZAuy3eeNeQbcShb0i8VyO27pfKgtEIg6UBS2JIqy0SxDmDoTsJU6vPPPzfSJo0mlZSUyFdffSWDBg0yy0vJw2gfArVWQ1B+165dZvb//Pnzppy/P0qq/pDRfEWgbgggGJY9fip5hWWSkXtPjl3Il+jD12TV3vMy4Zej8vW0eOk0IsJIlJ8O3SvdxkRLn8n7ZeDcJBmxJMVIo4u2nJINsZcFkjx48qYZ4mfdvC8FxeVGBeBr1VPd7vbPUq4kVaRIhvOQHfak6Ds3bdokcXFxcuvWLdMy9lkuZtmMQrLr1q0zQ31m/Dk+c+ZMo09NTk72YMjCAgz++/fvL1FRUbJlyxZT/+DBg71UAp4Cth0lVRsYuqsI1BEBJoeQDo+ez5MtcRkyb9MJM0z/dmaCdBkV9f9D8gj5Znq8jFl+WOZtPClrIi/InuQsSTpx00iXmTfvy53icnlUEdjkUh1v1WcxV5IqQ3mI9LXXXpO//vWv8sorr0izZs2M2RMTUiRWXKEfPXPmjKfhDx48kLVr15oFA++++65ZUrp3716vmX50qSdOnDAqAKwCMKVi1h+yrSkpqdaEkB5XBHwjwFD+zNW7smn/FRmz7LAMmJUoX0yMlQ7DI6TtT3vk8/H7ZNTSVPl173mJO5YrF7KKJLegxAz9H5Y9MeqAANSdvi/ucK4rSdVhDByrTknVMSi1ojBGoOJJpdy5Vy6XrxdLZEq2GcYzKcTwvfuYaKPj/GlRsizaclqS0nOloKg8oFn3UIFMSdXBnlBSdRBMrSqsEIBIM2/clwMnbsjaqIsyammKIVCkUHSgE389aqRQzJiu3rhv9KihInnWtiOUVGuLWDXnK6lWA44eanIIVD7/Q7JvPZCdSZkyfe1xGTgn6QWRTtkvczeekKjUa3Iuq9AM49GlhkNSUnWwF5VUHQRTq3IdAthwMjFUeL/cGM8zO99z/D5DpJgzDZx7wMzan7hcIPcePjbnQrzhlpRUHexRJVUHwdSqXIEAlMhEEeZOCcdzZc6GE2Y4j3607xSG9Udke0KGsSOtrAw/AvXVSUqqvlCpY56Sah2B02KuQwAJ8+adUmMzOmt9umDu1H5YhHQbHWXMn9ZGX5QTlwqM0bzrGlfPG1ZSrSeA9uJKqnY0dD8cEcBQ/nxWkSzaesos6+w2OlraDY2QQXMPyMb9l41Eysw+K56aalJSdbDnlVQdBFOrChkEnj57Lrn5DyUi5ZohT4b26EhZL89M/vX8h64yeWpoYJVUHURYSdVBMLWqRkcAMyjW1G+JuyL/mpNkhvf9psfLwi2n5MCJm1L04LGXN7dGv+EQuQElVQc7QknVQTC1qkZDAH3pqSt3jPH9d7MTzaomnI6wfv58dqGxIW20m3PBhZVUHewkJVUHwdSqgooAnp/ul1RIypnbMmZ5qhnes7oJxyS7kq4aJ82oATTVjICSas0YBXyGkmrAUOmJIYIAUikeoJLSb8jQRclmiN978n6ZvvaYHDp1S0rKn4TInbrnNpRUHewrJVUHwdSqGhwBvDjtOpBpTKA6j4w0Dkxw4Ix7PdztaaobAkqqdcPNZyklVZ+waGaIIYDD5b2HsuWH+QeNKz3c6c3fdFKu3rhnHD+7dc19qMCspOpgTyipOgimVuUoAtiN3iwokd9jLplwIbjUw2B/dcQFE6NJidQ5uJVUncNSlFQdBFOrcgQB1uPj1IQAdt/PTpT2wyNk8PyDxr4UR85Oe7135KZdXomSqoMdqKTqIJhaVb0RuFdSITuSrsqgeQek44gI6TctTnYeyJRrtx8EHG+p3jfRBCtQUnWw05VUHQRTq6oTApg95ReVmzAkA2YnStfRUSaOEzamzPKHi3u9OoETpEJKqg4CraTqIJhaVa0QwDSK8CLEdOozZb90HB5pVkH9uue80ZnWqjI9uV4IKKnWCz7vwkqq3njof8FBgOWk0YdzZNjPh8zqJ3Sm2xIyjAf9Z2qwH5xOsF1FSdUGRn13lVTri6CWrw0CzNijH539e7pxBE145l93n5MbBSWiq59qg6Sz5yqpOoinkqqDYGpVfhFgSemtu6XGHIqlpJDpzPXHhVj2zPZralwElFQdxF9J1UEwtSqfCBQ/fCzxx3Jl6OJkM9RnaSlxnh4/CX58e583qJmipOrgQ6Ck6iCYWpUXAtiTpl/Mlymr0+Szsfvks7HRsiHmkvFzyiSVptBBQEnVwb5QUnUQTK3KIIAJFGFLlu044yHTaWuOmXDPT5qwd/1QfjyUVB3sHSVVB8HUqgTj/ciUbLOcFOP9Cb8ckSPnbjfpUCVueCyUVB3sJSVVB8FswlUhnZ7PLjKRSfEe1W9avFlmWnj/URNGxT1Ndy2pFhQUyKJFi6R3794ycOBAiYyMrHYd89WrV6VPnz7StWvXl7axY8dKUVGR6bVr1669dJwys2fPrrFXlVRrhEhPqAGB8kdPZXPcFcHTfodhETLltzS5eK1IpdMacAulw64k1ezsbOnZs6d07txZfv31V5kyZYq89dZb8ssvv0hlpe8ojpDmnj17ZNu2bZ5t6dKl8vrrr8uYMWPk+fM/vZpfuHBBXn31VZk5c6bnPMqkpqbW2G9KqjVCpCf4QYDZe0KYfD87yczqD5yTJInpN6oVFPxUpdmNjIDrSPXp06eyZs0a+eCDD+TcuXMGvmfPnsmSJUvkk08+kaysrIAh3bFjhzRv3lwOHTrkKQOptmjRQo4cOeLJC3RHSTVQpPQ8OwIE0GN56ZeTYuXz8THy655zf0YoVZtTO0yu2Xcdqd6/f18GDx4sQ4YMMa72LKSvX79upM5du3ZZWdX+lpSUyLBhw6RNmzby6NELXRWk+sYbb8jq1aslISFBTp8+LWVlZdXWZR1UUrWQ0N9AEbh1t0SmrD4qXUdFSf8ZCZJy5paUq9f9QOELyfNcR6r5+fnSsWNHWbhwoVRUVHhAZfjOUB6JNZB04sQJ+fDDD2X58uVep1+6dEmaNWsmrVq1ko8//thIxD169AhIcq0Pqd67d0/y8vKM4TA3hBoDvXFhYaFHNQG537592+tjUlxc7FUOSf7OnTty9+5dz9CRctTNh8RKqEPIe/LkzxhElON6lLVSeXm51/WwlbSux/kkf+Vu3brluR59Q/u4d0YVJK7L9bhPK3G9mzdvSmlpqcmiHNejLks9w/W4b3CxEu2jnPXx41zaR57lL5Trcn3yrTyrHNclWeU4z1Ij8Us93L91D9wfeVY5ynI/3JfVvprKlZY/kbi06zJ4VqR0G7lLZq1Pl2t5D4TVUprcjYDrSJUHnmH+ypUrzQtth79ly5YyZ84ce5bPfV7oFStWmGF+Zmam1zlIwuhPefl46Y4ePSp9+/aV999/3zOZ5VXA9k99SBV9Lx8K9MUk7gOd7++//+55ec+cOSOzZs3y0u8imTNhxwQbCZKibWvXrvXgg7QNLikpKeYc/qD64Hq5ubkmj48VmCKhW8m6nlUOwuB68+fPNwTCeRAJ10MlYyXUMlOnTpXDhw+bLB6y3bt3m3sHVxLXo33r1q2zignXmzx5shw/ftzkMYKgHDpzi8BoH/cNLlY6deqUTJw40YwqyKMc7SPPIn9IEezQj9MOiPXkyZPmHO6X//lIb9myxZxnETvPwKRJk8x9cJzz+CBT9/nz580tQKDr168398VHgER5zomIiPB8KNPS0kxeTGKazPk9XTqPiJBh42bLil/WysPSx6ac/nE/Aq4jVV7iTz/91LyQlpRldcObb74pCxYssP71+8uLyUTX0KFDvaQ+fwWSkpIMAUdHR/s7xeTXh1SRkCEh66WkY3gJIUSLGGh7cnKyoOqwEuoKykEaJEjg2LFjhjAsaYtyEKO9HIRAOcibBAlQDsKwEsTH9XJyckwWkhrX46NjSb38Wtezlztw4ICHsCGxixcvmroscqQc7YMQrcT1EhMTjRRIHu2mHPhbGNA+7htcrMSHlnK00ypH+8izMIBoaQv5lsRplUNiJnGfECznWc8Wv9TDfXCchORMnlUOoqUd3JelSrLKXb582VMu+1qOzFqySQZM3SOdRkbKtNWHZdO2PV7XMxfQP65GwHWkyjALMyokGusFpQcghX/84x9GQqupRyCB1157zUhd1gtWXRmkWVQFv/32W3Wn1SucCvdhSVDWRSAEixTIs86x3zPH7eV4wZ0qR13U7cT1rHunTpKv+6zuehYm1jmB4hJIOeueONfC0yrHb1UMrLb4wsVfOfSkG2MvyRcToo3j6O2JV6XwwSMpLSszErL9Hux16L77EHAdqXLDSKMdOnTwSF483Ayf33vvPY+khWSDtFD1YeV/JrmQVO2Sm9V11G8vwwu1d+9eYyWAxFRdqo+kWl29esy9COCCLyfvoYxZnirth0WYCKbYnWoKXwRcR6oQXnp6urRu3dpIq5g+MSxn8gp7U2v4FRcXJxs2bHhJD8oQ85///Kcx5ocwq6bt27cbfRxDXIanmzdvNnV3797dM+StWsb6X0nVQkJ/QeB+SYVEpWbLd7MSTSjoBZtOGoK1Pto8f6gj7KoFRc79CLiOVIGcCYP9+/dLr169DLm2bdtWRo4caXRdVpeMGzfOLA6oare6adMmefvtt80ElHWu/RdrgE6dOgl1MiHWrl07oS7LJtZ+btV9JdWqiDTd/3PzS2TG2uPSfWy09BwfI9Gp1wS3ffaE+opJPiYHLWHAflz33YmAK0kVqNF9MclimeUwgWFPEBwzzVWlUXSvTFRVzbfK8nBTDtMi6mafh9+SLqzzfP0qqfpCpenkoS1Gd5p4PFe+nhFvdKe46svIvSeVlX+u2LOjwTPMRFZGRoaX7tx+ju67DwHXkmooQq2kGoq9Erx7yr71QBZtOSU4QcGQP/JQtpQ9+tOeN3h3oVdqbASUVB3sASVVB8F0UVV4lTp+MV+GLU6WjiMijYu+k1fuBDS6cVEz9VYDREBJNUCgAjlNSTUQlMLrnEcVz2RvcpZ8NTXOTEatibwoBcXlAcWKYm4gKipKYmNjPXax4YVO02yNkqqD/a6k6iCYIV6VCb53p1Sm/pZmTKW+nZkgJy4X1Eo6RX+/ceNG2bp1q2fVVYg3W28vAASUVAMAKdBTlFQDRcrd51U8rZRjF/Jl+M8pRn86Y91xMxkVyGSmveXYV1t+GuwLCezn6L77EFBSdbDPlFQdBDNEq3pcUSk7kjKl37Q4s9R08/4rcuce1iEhesN6W0FHQEnVQciVVB0EM8SqgjTvlzyW+ZtOGt2pcdN3+pbUJ/geki3meoGa7IUYJHo7fhBQUvUDTF2ylVTrglrolyEE9JXr92T8yiNGOp2+5phk3bxfK/2pr1aiU8W7Fx63eBE1hQcCSqoO9qOSqoNghlBVaefzZMjCP82llu08a2b3nbg9a2UgztAtr1hO1Kt1NC4CSqoO4q+k6iCYIVBV5fPnknA8V3pPjjVD/vX7LsmDsj+dejtxewz/kVbZajvJ5cT1tY6GQUBJ1UFclVQdBLMRq0J/mldYJj9vO2OM+QnCl3L6lkCymhSBmhBQUq0JoVocV1KtBVghfOrV3Hsy/pcj0nF4hIxelipXcoobRJLE/4S19t+fL4oQhklvzQ8CSqp+gKlLtpJqXVALnTIMwU9n3JGhi5KN/eniLafkRsGLuF5O3ymz/oRYJ/QNKgBN4YGAkqqD/aik6iCYQa6q4kml0Z/2mxYvPcbtk20JGVL66Kk0pPkpjtSJy4VbSZVUg9zhDXg5JVUHwVVSdRDMIFZVXvFMtsVnSLfR0caoP/5YboMM94PYJL1UIyKgpOog+EqqDoIZpKrul1bIhthLZnZ/8LwDcvRcnuB1SpMiUFcElFTripyPckqqPkAJ4SwIdfnOs4ZQB807YCakgkmo2KnGx8cLkWfVTjWEH5Ra3lpQSPXBgwfGcUS42+Ipqdby6Wuk09GT3r5baoLxMcPPSql7JRVBvxsmp1hNRRw0XkRN4YFAUEh127ZtMmnSJE/sdqDjwrt37xZir4dLUlIN/Z58/scfciW3WMatOCKdR0bJws2nJL+orEEnpPyhQjiVW7duSV5enlcYcH/na747EAgKqS5ZskS+/PJLE7DPgqW4uNiElE5OTrayXP+rpBraXQihnssslGGLD0nH4ZGyOuK8FN5XU6bQ7jX33V2jkiqhotEnhUtSUg3dnnz67LkcPntb+kyJk25jomVz3BXBjKoxky5TbUz0G+7aSqoOYquk6iCYDlb1oLRCdh/MlG6jowQ71JgjOYKj6cZO6FTV839j94Lz11dSdRBTJVUHwXSoKob3K3aele5jouVfc5Ik7Xy+PHnW+IRK86wYVTExMV6qMYeartU0EgJBI9WWLVvK+PHjzYQVk1ajR4+Wv//97/LNN9948shnW7RoUSPBUb/LKqnWDz+nS7MiagJr+EdEGtd9Gbn3hNhSoZIY/peVlZkt3C1jQgXzYNxHUEgVs5EPPvgg4K1Xr17BaLvj11BSdRzSOlWIrenFnCL5Yf5Bs4b/562npOiBTkjVCUwtVGsEgkKqBDdjfXOg25UrV2rdkFAooKTa+L2Al/4jZ28LxvydRkTK7/suyf1GsEENBAnW+2dmZkp2drZgXqUpPBAICqk2BFRFRUXGu8/w4cNl8uTJkpSUVO167ZKSEvntt99k0KBBXhvlq9rKcu7evXuNimLcuHESERFhhmg1tUNJtSaEGvY4Q+jk0zfN+n10qMzwP6p41rAXrUftTFTxTGo4lXqAGIJFg0qqlg7JklxTUlIkPT1dbty4IRBSoF9rSBBybNOmjUybNk0GDx4s77zzjuzcudOvEXVhYaEMHDhQunTpIgsWLJDFixebbfny5cIxK0GoM2fONKqKsWPHGmL98MMPTV5NYYSVVC0Ug/9b8eSZRB++Jl9MjJWvpsZJXNr1RjeZqgkFvFQdO3bMvAPsawoPBIJKqhDoiBEj5M0335T//M//9GyvvPKK9O7d20iHEFN1iSHThg0bDImePHnSnMoDOWfOHEOyubm5PotbpAoJV7fO+siRI4L9LAQNybOxjPCNN96QS5cu+azbylRStZAI7m9J2RPZGHtZPhsbLd/NTpRjF/KrHbUE9+70ak0NgaCR6vnz56Vt27aGnL7//ntZuHChrFq1SpAUJ06cKEiDkC3RJasjPfwI/PTTT0ZSZd9K6KYgPobtvpJFqkOHDpXDhw/LiRMnjD+CqtLn/PnzpVu3bpKVleWphqWErVu3NvfqyfSxo6TqA5QGzmJ4/8vuc9J1dJTgZerE5YIGvqJWrwhUj0BQSBV7PIjw3XffNV557t69a4gTdQCSYGlpqZnEYnjeokUL8Sdt0pSCggIzhJ83b56XEwok2Ndee80v8Vmk+uqrr8rbb79t7qVDhw6yadMmL4QGDBhg1AT37t3z5HOPPXr0kCFDhnjyfO0oqfpCpeHySsqfyIpdZ6XTiAj5aWGynM8uCimTqZpazggLFRgfeR3+14SWe44HhVTT0tKMjhIj5+oS0mHnzp1l2bJlfk9Dn/rJJ5/IypUrX3oQsYVFDeArEbri6NGjgmUBEwRcC1UARLxjxw5PEchz2LBhL01Mff311/LVV195zvO1o6TqCxXn8wjMdz3/oUz9LU06DI8wv3fulTt/oQaukedw3bp1ZlUVL6Km8EAgKKSKfrJVq1ZmMqo62BiKMzn03Xff+T0Njz6oEZYuXfqSmqB58+ZmEspv4SoHmJT64osvzAIESJfE/0jVHLOnPn36SP/+/e1ZL+0rqb4ESYNkZN64L6OXpxqTqZnrj0vhA3cSEiOgnJwcMzJjX1N4IBAUUl29erV0797da7juDz50rF27dvV3WFAdQHxTp04Viwg5mZUpzZo1MyYqfgv7ODBhwgRzb1gkkNC5Qp7W/+QBElYDmFdVl5RUq0On/sdQF52+esd4meo8MlKW7TgrbpRQ64+E1hDKCASFVJEqq7r+8wcKwyFMpfwliHT69Ony2WefGT+UnMfLhp0qutLU1FRTFKmXrz/HrHOqSgPUhdUBw3pImYSOFfUCE1lW2dOnT8v7779v/L+ak/z8UVL1A4wD2azXP3jypnwzPd6s4yemVPnj0LVBDaTJPF+8gGzWsxZIOT0ntBEICqniT7Vnz56Sn58v+FGtbluxYoUhNX+w8fCh2GfZKz4CLly4IJhBoQv98ccfPeRIXlRUlNy/f99UxQw+zrIhS2KtY941a9YsMzG2fft2z+WuX78uHTt2NKZfmGyxMUH16aef1qi+UFL1wOjozpOnlcYGtcfYaOk7Nc54mQoHEuLl49nbtWtXQKM4R0HVyhoMgaCRKvpODPZ/+OGHajdm5NG/VpeQMHkYURMwsdW+fXvBTAuzKisxVOeYZRqFjSmmUp06dTJD+Xbt2plhP2ZdTBhYiVlYpF50qJAr5yPJHjx40DrF76+Sql9o6nwAk6mIQ9kmbPS3MxMk+dRNwTdqOCRePqJfREZGqpeqcOjQ/29DUEiVpXiQaqAbZFhTwpYVJf/Zs2fl4sWLXjpQyrJKKyMjwyMBYNbF+ZxLrHUkXEy3yK+aMM/CygDbWjb2yaspKanWhFDtjkOo2xKuSs9x+4yEevLKnbAhVJBA2mZClC0cJO/a9W74nh0UUg1f+LxbpqTqjUd9/ntY/kSWbj8j7YdHyOD5B+R6XvUr7epzLS2rCDiJQNBIFd0kdqpVTZWsxjDs5px9+/b5lB6t80L5V0nVmd5hRh/H0hDq2BWHBT+o4SjJqUmVM89LqNUSFFLFDApn1DiptptB2cFgeI03KJaDnjp1yn7INftKqvXvKiKbztt40tigTlp1VHLyHggB+8IxWcb/WJzwImoKDwSCQqqJiYlmWWhNflJZyw/5YoPqxqSkWvdeQxK9UVAio5amSOdRUQKhElsqPOn0T5yYFzh06JCxZqnO30XdUdWSjYFAUEgVJynM0AfyNcYtH+ZRbkxKqnXrNTz1n8sqlIFzk0ykU4b+90LUsXTdWqilmhICQSFVVklBlIGQKiZOmDu5MSmp1r7XIFRCRxOUj2inW+Iz5H6JDoVrj6SWCBUEgkKqSKoYz9vtQf0BMHfuXGM/6u94KOcrqda+d1LP3pY+U+Kk04goiUzJDmlP/bVvXfUlmJzFSTULUtRLVfVYueloUEj1wIEDxvEzK6GqS6x6YuWV6lSrQyk8jmGDGpt2XToOj5Cvp8dLypnbUvk8PIz6A+0hhAwEDg2nEihi7jgvKKTK7D+u81ivz1fZl1L+5s2bhkxx38cSUjcmlVQD6zVCR+88kCk9xscYT/1HzucJaoCmljCpunr1qln1V9UvRVPDIpzaGwfcQ7oAAB2TSURBVBRSBbDjx48LhImzEtz7ERKFtfm4BWQNPxLq66+/bvyhclNuTEqqNffa08rnJvRJz/H7pN/UeDlz9a4QAVWTIhAuCASNVPEahZSK2z7Cptg3wqB8/PHHZhgEMbk1KalW33PlFc9kXfQlYzL1w4KDciGrMCyN+qtH4cVRzMhYJs0WjosbXrS0ae0FjVQtWLkgrvQweMYjFX4BYmNjxR6+xDrXbb9Kqv57rOjhY1m5+5wh1DHLw3eVlH8EXj4CmRJTjRGbLx8UL5fQHDcgEHRSdQModb1HJVXfyN0vqZAl289Il1FRMnJpimTfehGw0XeJppHLy4c7Slz/KamGT58rqTrYl0qqL4P5+EmlWXbacUSkWS2lhPoCI1RirCJk0+H/C1zcvqek6mAPKqm+AJPl+nmFZSYoH4Q6+/d0KSh2X3C+Fy3SPUUgMASUVAPDKaCzlFRfwJSbXyLT1hwzdqjzNp6QO0qoL8D5/z3MqDAlxD5bTapegse1GUqqDnadkuqfYBY+eCRMRnUcESFzN5yQuy4MH+3gY+G3Koz/MS3csmVLQEu4/VakB0IKASVVB7ujqZMqLvpwJj16WaqZlMLJdJFLw0c7+Fj4rYrJqfj4eGHFoa8FMX4L6oGQRkBJ1cHuacqk+vz5H3Ihu8iEj+40IlLWRl0QVk5pUgSaGgJKqg72eFMm1YvXiuTHBclGQl2197w8cnn4aAcfC62qiSGgpOpghzdVUiXcyaC5B6TzyEhZF3VRHpY9cRDV8K0Kz1QEriS4ZCCBJcMXifBqmZKqg/3Z1Ej12bPncvhcnnw9LV56jo+RvYeyhLX9mgJDgImq1atXy7p16wJyixlYrXpWYyOgpOpgDzQ1Uj1w8qb0n5HwJ6EmZzVJT1P1eXyQTgmZTpghlVTrg2RolVVSdbA/mgqpsvoHb/19p8TJFxNjJeJQtlQ8rXQQSa1KEXAvAkqqDvZdUyDVJ08rJe7YdekzZb8h1cT0G/LkqQ756/IY8XHClIpNl6nWBcHQLKOk6mC/hDupIo3uOZhlhvtfTY2TtAt5Sgb1eH6wU923b5/ExcWpnWo9cAy1oq4l1fv378uePXtk3rx5QmBBYv1U97VnUoCIAqxgmT9/vixevFiio6OltLTUq0/y8/Nl+vTpL23bt2/3Os/XP+FMqk+ePTeE+tnYfTJgVqKknLlVLd6+8NE8bwR4+TZu3Chbt27VFVXe0Lj6P1eSKr5XJ0+eLO+9954MGjTIRA1o1aqVJCcn++2MU6dOyfvvvy+dO3eWIUOGSO/eveXdd9+VESNGeAVdu3Dhgvztb3+Tfv36yejRoz3b+vXr/dZtHQhXUkVC3ZmUKT3Hxcg30+Pl2MV8nZSyOr0ev3ip4llGQGBfU3gg4DpSxfEEX/YWLVoY6ZRuwN4PkiVia15ens+eKSgoMM6xLccVPMT4sWzevLmReK1CkCp1HzlyxMoK+DccSbXw/iNZsuOM4Glq0NwkuXZbfaEG/EDoiU0SAdeRKsQ1fPhwGTBggFe0gEuXLhmCZEgfaMrNzZUPPvhAlixZ4ikCqRLqheE+Rtk5OTkBD83CjVTzi8pk7oZ04xhlzPJUwchfk3MI8GFH3cQHXyVV53Bt7JpcR6p37tyRbt26vRQgEGm1WbNmsnLlyoAxPXTokLz99tsmpIVVCFJ95ZVX5MMPP5S2bdtK165dZcKECYZcrXP8/daFVJGcy8rKvDy/MxtMnmW7iK4YnTCb9fLVtpylb/ZVjgkT+/W4RvaNQpm19rB0GhFhXPjl5D0UHKZocg4BXr7NmzebDzj7msIDAdeR6u3bt6V169YmvhVEak8M2+fOnWvP8rkPwSClfvPNN9KjRw8pL3/hPBmpAf0pywcJH8xEAuTavXt3L+LzVXFdSPX69eumLcwAWyk1NVWWLVtmjMLJg/S4Dzb0b6Rr166ZD0hCQoJVTFJSUrzKMQmHWzniylsTctnZ2eZ6SUlJnnLoorleZmamycu6ni/zfl4tIybMkyVbT8iDUgLTeU7XHYcQoF+JT0WMNvVS5RCoIVCN60gVnWmbNm0MCVR9EN966y0zs18TrhDzsGHDzKQVkml1CQKOjIw0KoHExMTqTpW6kCrDP3S7WC9YCULfsWOHQLgk2smLx1ZSUmLyaAPlCP1tpTNnzniVQ7KFrDHbYZ+EQ2TKEdnWSkzicb0bN25Ibv5DGfVzovww4Rf5ZQ1+Pius0/RXEVAEAkDAdaR69+5d+fzzz43Jk0UUtJN9hv+rVq2qttnMto4cOVK6dOkihw8fDsjjekZGhlEHrF27ttq660KqDLWRWOxSN8N+8qxJNS4KsbJZw3irnKUi4Jyq5Tg30HKQZ0ZusYxfeUS6jIqUX3aeljtF7g0XXm1H6UFFoAERcB2pMowdP3689OnTR4qKijzQIHkx/Mfpr7/E0HnixIny0UcfSVpamkdn6e98Kx8p8p133pGdO3daWT5/60KqPisKciYj+6yb92XUslTpMCxCVu46K8UPyo06gAlAO+EH+dbC+nJ8BFn3j5rJ/nEM60Y3gca5jlSRvvCUzgQT3n2I8XP58mVDsv379/foDs+dOyfoJi1dIhNcQ4cOlddff13QQzLstjaiWVqJMsz6o3OlbobXX331lbGJLS4utk7z+etGUsW59Jmrd6XftHjpPiZa1kddNNIwkj8LJVhYwSSWJucRQJf/66+/ypo1azzqGeevojUGGwHXkSoAQZS4TGvfvr1RBWDQ/+WXXwpEaqVx48YZnWlWVpbJQoL9y1/+Ii1btjSG/3379hU2CJO6rDRr1ixPvb169ZJ27dqZ86uTgK2ybiPVysrnkn65QPrPTJDPx8fItvgMKX/85+QfkhMelNC3qqRq9bCzv2CMHlz9qTqLa2PX5kpSBTS+8qdPnzYTMQcPHjSz4XYwmYDCgN+SVJngiomJ8bnZyRjp9OjRo0aa3b9/v9G7MoFj12/ar2PfdxOpVj7/Q45dyJPvZydKtzHREpmSLWUa/sTenbqvCNQJAdeSap1a28CF3EKqDPmPnsuXvlPjzJA/7liuPH328jJJJFT75FgDw9fkqkeVBcY6EgivrldSdbA/3UCqzyqfy/GL+dJj3D7pM3m/xKdd97mOHzLF7hVpHUsETc4jAK7o9xlpgbem8EBASdXBfgx1UoVQ8S71zYx4+XJSrMQfy5XHT575RIAHAx8LmKjZF0f4PFkz64QAk4GY6TEhCN6awgMBJVUH+zGUSZUhf9r5POk3Pc6s5T906qbgcNpfwg4Wa4fCwkLP0lh/52p+3RAAY8wCwZl9TeGBgJKqg/0YqqSKvvTQ6VsmfDQe+40vVAfbrVUpAorACwSUVF9gUe+9UCRVpFEC9DHc7zctTg6evCE4nK4pWZIqK9hUiqoJrbodB1dGAkirinHdMAzFUkqqDvZKqJEq4aKT0m8IoU8IIZ169na1Q347FEyiREREGC9K9uXA9nN0v34I8PJt27bN+GLQycD6YRlKpZVUHeyNUCJVJqUS0nPNLP8Xk2Ll6Pk8wTY10MRsNL5peel5SDQ5jwC4svSZj5eSqvP4NlaNSqoOIh8qpPr4SaUkHL8hXUdHy7czE+TIudtSWRk4oToIiValCDQ5BJRUHezyUCDViieVEnskR3pP2i9fT4+XI+fz5FkAOlQHYdCqFIEmjYCSqoPd39ikitnU/rTr0mtCjBD19MSlAp+G/YE0mYkTlufiDDuQJbqB1KnneCMAroTrwXmPYuyNjZv/U1J1sPcak1QZ8kcfzpH2w/bKd7MSjecpy/dqXZrI5BQREJYuXapequoCYABlWFRB+B8c+uhkYACAueQUJVUHO6qxSLX88TPjEKXHuBj519wkSb9UIJX1NCa3PCjhS1aXUDr4kNiqYs1/enq68QSm/lRtwLh8V0nVwQ5sDFLFDnXvoSwz5Gct/9mrhbWa5Xew+VqVIqAIiBhrmalTp8qePXs8kTrswPyb/R/drx6BYJMqK6V2H8ySrqOjzCz/2at3fXZi9Xft/yjSk0pQ/vFx4ohi7ASKoVWHSqoO9kcwSfVRxTMjoXYZFSU/LjgoThMqQ1NCzqgHJQcfkCpVWZ7A8PurKpYq4Lj4XyVVBzsvWKSK2VT04WvSa2KsDJiVaIb8zPw7mXgw8J5E6Gr1UuUksi/qYnLKCqcC3prCAwElVQf7MVikeuDkDek1McboUU9n3JXnfzhLqEBirUsntpeuS3fwIbFVBa74VlBPYDZQwmBXSdXBTmxoUkVCTT51UzoMjzA61FMZdxqEUB2ERKtSBJocAkqqDnZ5Q5KqMZtKvWak0/4zEuTwWZae1uxtqq7Nw8aV9hDWWyXVuqJYfTkwBl+i+dbHprj6q+jRYCOgpOog4g1Fqk+fVsr2hKvy+YQYo0c9eflOnVdKBdpcHHxYDlXUMD1Q1Gp3Hi8fDlX27t2rDlVqB11In62k6mD3NASplj1+KuujLxoH0/+akyRnMpw1m7I3H4nUMqGCVHft2iW///67We2DJIVFgEpUdsRqv2/HkY/Vpk2bZPv27R5PYOCvI4Pa4xpKJZRUHewNJ0mVuae8ojJZvPW0dBoZKWOWH5bLOcUNSmpXr141geh4KKqm/Px8EwQQh8qa6o4Ak1JxcXFSUFDwUiWQbFJSkmRkZLx0TDPcg4CSqoN95SSp5uaXyLQ1x6TTiEiZvCpNrt1+4OCd+q6KF3ratGly5swZrxOQUFEFzJw5UzIzM72O6T+1Q4AP1+zZsyUyMtIzKrBqOH36tMyYMUMSExOtLP11IQJKqg52mlOkevtuqQxdlCzth0fIrPXH5XZhqYN36b8qPFLNnz/fM+RHmrp9+7bcvHlTVqxYIYsXL1bdn3/4AjrCC7dkyRJj/4sXsLy8PGEUUFZWZlQBc+fONZ7BAqpMTwpJBJRUHeyW+pLqk2eVxkP/N9Pijeu+DTGXpPTRUwfvsPqq0OWh35szZ45x9EH45AULFkhsbKxMnjzZrLCqvgY9GggCOKkBz5iYGEOwLADAsQqESlhw1VsHgmLonuNaUi0pKTFLKFn1AxGcP3++RpR5WLOyssyMK+XQbWHSUjVh4pKcnCwbN26UHTt2yOXLl18aqlUtw//1IVXCn+w7ck36TYs3IVD2HMySx0+e+bpMg+ZlZ2ebF55Z6ZSUFNm3b5+RqhYtWmQC1DXoxZtI5ffu3ZOFCxfK8uXLDb48a0wKQrSqXnH/Q+BKUoX0kKA++eQT+frrr6V79+7SsWNHQQKoLiEN9O7dWzp37mzKtW3bVkaPHu3lyxJiZAjcpk0bc85nn30mXbp0kdTU1OqqNsfqSqpPn1XK7uRM+Xx8jBBCOuZIjuAspTES+lN8fEKiDPv5WPGyI63q+nRnegSM9+/fL1OmTDH6a1QskCwSKy+kJncj4DpSZYgaFRUlLVu2NJMnEBm6vyFDhkiPHj2kuLjYZ4+wHHDw4MGGVG/dumWkSpyFfPDBB0YitQohvb799ttGmkWKhViGDx8u7dq1q5FUakuqLC69X1IhqyMuSPcx0TJw7gHjCxWptbES0vyJEyfMCx8fHy+rVq0yLzwSvibnEEB/DZGCb0JCgsGbj74O/Z3DuLFqch2pMuxHukRCtRPo2bNn5a233jISlS8wmVlt0aKFIWLrweUXov3qq6883u0HDRok3377rVmTbdXDrDgkXpMkXFtSLSgul7kbTkjHEREy4udDQZnht9pU3S9mU0hNWAIgpaIK0AUA1SFW+2PgyZB/0qRJBmfw5sOvyf0IuI5UcfDBkHzWrFleLzrG6s2aNTNkULVbIE8mBf75z38aL+v247/88ot06NDBM+OK5MqDbo8ZhFTx8ccfy7p16+xFX9qvLaluT8gwhDrtt+CYTL10w34yMEDHrAdCxcTn5MmTfs7U7PogwIee5xg1AKMCa+FFferUso2PgOtIFf0T+k6U/Oim7AlJdd68efYssw+pMumEDvbixYtex5mIIv/cuXMmH2JGp2pPGGx/+umnL+Xbz2G/tqR6KadI9iZnSUFxWcgN+whIhwkVplTq+q9qTzvzP7gy/Ed/Dd6awgMBJdVGJNVQf4T4gPmyjgj1+3bT/YEvOFsqKTfdu96rbwRcR6rhNPz33SWaqwgoAm5GwHWkWp+JKtQDLLe0pAJ+q05UDRw4MGgTVW5+cPTeFQFFwDcCriPVmkyqLIcf169fN0b71qx1oCZV2A8Gy6TKd5doriKgCLgZAdeRKmBbxv/MyGNa1a1bt5eM/8eNG2eM/C37SqRSX8b/o0aN8rIiYLLJMv7v16+fsTRoaON/Nz9Aeu+KgCLgjYArSZUmoAY4cOCAcf7ha5nq4cOHjScg+0QLxGotU8VPKFKp/bgFjbVMlaWsWAdcunQpIHOX2s7+W9fTX0VAEQgfBFxLqqHYBRA0UvOpU6eECTXdFAN9BpreM4D3sTFjxpjFHdb8jZ2v/s3+j+5XjwB62x9++MEsaW3fvr3ophjoM9A0nwH8iuzZs8dnFAcl1ep51Osok2hIJnghQmrVTTHQZ6BpPgP4I8FHrq+kpOoLFc1TBBQBRaCOCCip1hE4LaYIKAKKgC8ElFR9oaJ5ioAioAjUEQEl1ToCp8UUAUVAEfCFgJKqL1Q0TxFQBBSBOiKgpFpH4Goqhu9MLAWI8Y7bQcKWEJGgqjtDLAqIuMlxttzcXJ9mGjVdzy3HMZwmjDO+Rtm3p9LSUhPDCYfk4MZiC192gPYybtunv5k5ZsEJ7bxy5Ypxxm61k1+cs1vH8fVbFSe3tdnX/eIfGXvPCxcumPeD2GlVZ9MJ70P7eX9w6ckSdQsnX3WGSp6SagP1BARJlIGuXbt6ltn26tVLIiIiPMtmecGOHj1qluLiSLtTp04mZAyRCDgWbok2HTp0SFq1aiX/9V//ZcjVaiOmSfjKJb4YG1gQmYDwzuGUcA7+3XffeZ4LHLKvXr3aPBMQBiQ7YsQI41gdDFhswvFweh74eOL/uGfPnqZ9LBNnmz17tnCMhBP59evXm+PgwPsxdOhQ87EJdWJVUm2gN5ZltITQgDSROliFNXLkSBMzCwmFhFOYvn37mpcMyY38iRMnGj8HvFzhllge/K9//csQ5quvvupFqps3b5YPP/zQLEtGKsGwmrhhS5cu9YrS4GZM+NBCDtOnTzdxwojiS7wwng9GMOAzduxYQyTEV0OKW7Jkibz77rs1hvpxEy5EmnjnnXdMqHSeeXDhXcHLHEIHidBG77//vgkAyvEjR44YgYNQS/YwS6HYbiXVBuoVXpKqQ32IlRcEAkHygDjeeOMN81BZt4HE9uabb5qIp6H+RbbuOZBfJI9ly5YJrhd/++03027UACSOsTKJj4411GXoR0RdXqxwiEzAcBdJq0+fPkatQZvY7BIo5EqcNXxdWPlIbkh0lA2X52Hv3r3y3nvvGQdI1rODI28idPARoe04QkJCxQcIiTzcehIyCQEklJOSahB7h68vbgd5qHBZyHCXB4dwLvaEmoAhYFUdk/0cN+1DBkjuhBk/c+aMcYTDx8QiVfTIvCw4wbEnXiLOy8zMtGe7cp+RByF7iFm1detWs3YcT2tIZpY7S/b5iCC92tOcOXMMdtZ59mNu3EdHyqhk7ty5ZnRmSapI8QgeLAdHLcKozZ4476OPPvK75t5+bmPuK6kGCX0kFYYukChkwheYlwr3g0in9vTTTz/J999//xLZ2s9x0z4TEv379xeCMEKwkZGRXpIqLxLDQUKT21NKSorJh5DdnmgDoxRUGkT3JW4VAShpN7HCeB6IZ4XEjsRqTwSkbN26tTCZEw4JgWLbtm2mTbSLmHRIrsRL4/mgnRAsIxt7wgMduteVK1d6JHn78VDZV1INQk/woPBi8ALhahC1ADPbDHEIl12VVJFSycd6wO2J4TxBHL/55hsz6017qpLq8ePHDTaxsbFezUWPBhElJyd75bvxH9qANE40XywbUG9Yvn1pI3pkSAVpvqo+3QpqaUn2bmy//Z7RiSKFEpWDKMhEmuWZR+Cg7bSTjw8fYXvCEqB79+5Gz26pR+zHQ2VfSbWBe4IhPC8Lw7rdu3d79GLkM7v9+eefv6R4h1B//PHHl8i2gW+1QaqHLCANpDAkUvRh6M3+8Y9/mKEvLwrDOtQifHDsKSEhwegYURm4PfHhgFCHDBni1RTyifBLW9G1o1e0JjKtE5HYIBn0juGQIEskTrtaB+kV3TEWM4xsOI7aw54gXHBATYSgEqpJSbUBe4YHhaEKw5u1a9d6PQhMzqxZs8ZIaDdv3vTcBfat6JtmzpwZkONsT8EQ3YEwGeLZt5YtW8pf/vIXQzJ8WNCpMvxDx2ZJILw0vDzoVMNBlwhRYCoGadgT1iGvvfaaYEbHPjPg7FuJ54QPbO/evQUVUjgkPiyovbDPticsQyBWJHjURWy030rgg7SPWZ6SqoVKE/ql05nlJiQMdoa+ZrAZ3iK92CdoGCbyYu3bty8s0EIih1jtG5IXkioTURAqH5Jhw4YZkxkkVxKqD/TKhNOpakXhRmBoA0NeJFErBBB5TFbyDCDR83GFeDnPel6sSR1MjsIlYY/KyC0tLc1DjuhR8VE6fPhwk8c7wzmMbkioS2bMmGHwsZ6RUMVDJdUG6pm4uDh5/fXXjYTGQ8RkhLUxAYNEhr5x4cKF5qVCv8rEFbObEyZM8CwQaKDba9Rqq+pUuRmGdkzSIKnw8mB6xGw50km4JKRVdKZsTFIhtaIagTB5Fvi47Nq1y4xUkNqmTp1qzu3Ro4fHtCgcsMA+Fwx41sePH28+IkxMQaIcIyGtIp3zTEyePNlI6ywaYYILnEI5Kak2UO8gcTKLz4tTdcM+1RrWIK0w6014BoiVuFnhMszzBy0mQ7TXPvxDskeC48OD1IoEh/G7pQ7wV5fb8lmqjKSORIZEipE/UpiVIAw+JFOmTDHnoH9kWWs4Jfo6JyfHTESBA9vPP//sMbGz2oqpIbp4JrH4CGFBEeqEyr0rqVo9qL+KgCKgCDiAgJKqAyBqFYqAIqAIWAgoqVpI6K8ioAgoAg4goKTqAIhahSKgCCgCFgJKqhYS+qsIKAKKgAMIKKk6AKJW4X4EsKfFd2vVJcPub5m2INgIKKkGG3G9XsghwMo3vEf9x3/8h7GNDIfFBiEHchO6ISXVJtTZ2lTfCLCqC2P0//mf/5HmzZub1U2+z9RcRaBmBJRUa8ZIzwhzBHBm8ve//90sSMDXQFWXc2HefG2ewwgoqToMqFbnPgRw3EEsKFzy4VoOJ+GsfLInpFlW/uCZHxeOrJJjSSmOYuzOclgBxnp1nKDgJIYoDnhc2rJlS1gtNbVjo/veCCipeuOh/zUxBHDcQrws1tmz/h7nNhAhvhusxDJRwsBAkjiXJtwJbulwAIJ/BzupEn+JfNats8QUd34ss4SICWTnhmWWVrv1t24IKKnWDTctFSYIbNq0yZAozpJJeEtCBYATHCawSIS/wT0frhqtSSyO4fjl3//93z2kigUBfgtwBIMnJctvAWvYkXJx6WjFXDIV65+wREBJNSy7VRsVCAIE1fviiy/M8NwypSKPIHsQI0N+nJ0glf7tb397yZk4jk/skiru+yiHtzHMs6wNxzFEP/jf//1fjxemQO5Pz3EnAkqq7uw3vWsHEMCTGA6zCetBUEY2iBLzKpxo4z0MkoUkcY6MJGpP+DrFHZ01/Kcs7uvwFUskA19bqEcCtbdP9+uGgJJq3XDTUi5HAAkU94L//d//bUgQcrU2hvrYrA4YMMCoANC3QpQQrD0xIQXZWqSKPhUfoQz1IWxfmyUR2+vR/fBCQEk1vPpTWxMgAgztGfoTbM6KnYUUyQY5MnsPkTJ0xws9NqzEk7IS+tKdO3caidYiVc4l5hgRC0I53IfVBv1tGASUVBsGV601hBGA8Ijcim0qs/O+CDAxMdGYTxFjjKgEmFxhGpWenm4ms1JTU80s/1//+lcTKdeqAwfkzPQTe4uAhUx8YapFtAfC64S7A/IQ7vag3ZqSatCg1guFCgKYTo0ePdqEMrl06ZLP2yKMMvGikGbv3btnop127drV6ElZfUWIE8J8YGZFiA+LVLEOwCwLEkbfysQVJlaEBSFMDtfWFN4I/B9nQEYbp/xgYAAAAABJRU5ErkJggg==)"
      ]
    },
    {
      "cell_type": "markdown",
      "metadata": {
        "id": "NmxupfEyKk4W"
      },
      "source": [
        "In this exercise, we'll make a CDF and use it to determine the fraction of respondents in the GSS dataset who are OLDER than 30.\r\n",
        "\r\n",
        "The GSS dataset has been preloaded for you into a DataFrame called gss.\r\n",
        "\r\n",
        "As with the Pmf class from the previous lesson, the Cdf class you just saw in the video has been created for you, and you can access it outside of DataCamp via the `empiricaldist` library."
      ]
    },
    {
      "cell_type": "code",
      "metadata": {
        "colab": {
          "base_uri": "https://localhost:8080/"
        },
        "id": "cDzlmSMvKLB6",
        "outputId": "922c0a8b-b9ec-4a94-d465-8d5a5f71fb4a"
      },
      "source": [
        "from empiricaldist import Cdf\r\n",
        "\r\n",
        "# Select the age column\r\n",
        "age = gss['age']\r\n",
        " \r\n",
        "# Compute the CDF of age\r\n",
        "cdf_age = Cdf(age)\r\n",
        " \r\n",
        "# Calculate the CDF of 30\r\n",
        "print(cdf_age[30])"
      ],
      "execution_count": 15,
      "outputs": [
        {
          "output_type": "stream",
          "text": [
            "27.0\n"
          ],
          "name": "stdout"
        }
      ]
    },
    {
      "cell_type": "markdown",
      "metadata": {
        "id": "ZcEvWUjnLgK4"
      },
      "source": [
        "__Question:__\r\n",
        "_What fraction of the respondents in the GSS dataset are OLDER than 30?_\r\n",
        "\r\n",
        "$\\color{red}{\\textbf{Answers:}}$ $Approximately$ $75%$"
      ]
    },
    {
      "cell_type": "markdown",
      "metadata": {
        "id": "QGZtZwOaMBJa"
      },
      "source": [
        "## __04 Compute IQR__\r\n",
        "\r\n"
      ]
    },
    {
      "cell_type": "markdown",
      "metadata": {
        "id": "ZrjMaKC5Muie"
      },
      "source": [
        "Recall from the video that the interquartile range (IQR) is the difference between the 75th and 25th percentiles. It is a measure of variability that is robust in the presence of errors or extreme values.\r\n",
        "\r\n",
        "In this exercise, you'll compute the interquartile range of income in the GSS dataset. Income is stored in the `'realinc'` column, and the CDF of income has already been computed and stored in `cdf_income`."
      ]
    },
    {
      "cell_type": "markdown",
      "metadata": {
        "id": "tQkWI8CpREO2"
      },
      "source": [
        "IQR using __empiricaldist__  library"
      ]
    },
    {
      "cell_type": "code",
      "metadata": {
        "colab": {
          "base_uri": "https://localhost:8080/"
        },
        "id": "aFHOeCihOesp",
        "outputId": "164523ae-7e95-472d-90b0-1f1de615f340"
      },
      "source": [
        "import numpy as np\r\n",
        "\r\n",
        "np.percentile(gss.realinc.sort_values().dropna(),75)"
      ],
      "execution_count": 16,
      "outputs": [
        {
          "output_type": "execute_result",
          "data": {
            "text/plain": [
              "43426.0"
            ]
          },
          "metadata": {
            "tags": []
          },
          "execution_count": 16
        }
      ]
    },
    {
      "cell_type": "code",
      "metadata": {
        "id": "DuIzd9KBO5xz"
      },
      "source": [
        "real_inc = gss['realinc']\r\n",
        "cdf_income = Cdf.from_seq(real_inc)"
      ],
      "execution_count": 17,
      "outputs": []
    },
    {
      "cell_type": "code",
      "metadata": {
        "colab": {
          "base_uri": "https://localhost:8080/"
        },
        "id": "7lBFka4GMpaT",
        "outputId": "be433735-bab4-4d84-af0d-bdec54f7e7db"
      },
      "source": [
        "# Calculate the 75th percentile \r\n",
        "percentile_75th = cdf_income.inverse(0.75)\r\n",
        " \r\n",
        "# Calculate the 25th percentile\r\n",
        "percentile_25th = cdf_income.inverse(0.25)\r\n",
        " \r\n",
        "# Calculate the interquartile range\r\n",
        "iqr = percentile_75th - percentile_25th\r\n",
        " \r\n",
        "# Print the interquartile range\r\n",
        "print(iqr)"
      ],
      "execution_count": 18,
      "outputs": [
        {
          "output_type": "stream",
          "text": [
            "29676.0\n"
          ],
          "name": "stdout"
        }
      ]
    },
    {
      "cell_type": "markdown",
      "metadata": {
        "id": "ADjA3ovOPXJz"
      },
      "source": [
        "__Question:__ \r\n",
        "_What is the interquartile range (IQR) of income in the GSS datset?_\r\n",
        "\r\n",
        "$\\color{red}{\\textbf{Answer:}}$ \r\n",
        "$Approximately$ $29676$"
      ]
    },
    {
      "cell_type": "markdown",
      "metadata": {
        "id": "UA0SADLmQYIp"
      },
      "source": [
        "__Interquartile range using `numpy.percentile`__"
      ]
    },
    {
      "cell_type": "code",
      "metadata": {
        "colab": {
          "base_uri": "https://localhost:8080/"
        },
        "id": "Ry82_oEbPWnQ",
        "outputId": "f4c89958-a5e0-4885-9ac4-550615c5c6e6"
      },
      "source": [
        "import numpy as np\r\n",
        "\r\n",
        "# First quartile (Q1) \r\n",
        "Q1 = np.percentile(gss.realinc.sort_values().dropna(), 25, interpolation = 'midpoint') \r\n",
        "  \r\n",
        "# Third quartile (Q3) \r\n",
        "Q3 = np.percentile(gss.realinc.sort_values().dropna(), 75, interpolation = 'midpoint') \r\n",
        "  \r\n",
        "# Interquaritle range (IQR) \r\n",
        "IQR = Q3 - Q1 \r\n",
        "  \r\n",
        "print(IQR)"
      ],
      "execution_count": 19,
      "outputs": [
        {
          "output_type": "stream",
          "text": [
            "29676.0\n"
          ],
          "name": "stdout"
        }
      ]
    },
    {
      "cell_type": "markdown",
      "metadata": {
        "id": "8LOvFpNaQzCp"
      },
      "source": [
        "__Interquartile range using `scipy.stats.iqr`__"
      ]
    },
    {
      "cell_type": "code",
      "metadata": {
        "colab": {
          "base_uri": "https://localhost:8080/"
        },
        "id": "xoC8zCX9QlWu",
        "outputId": "a2de9f55-f8bf-405b-ef00-a681760e5b91"
      },
      "source": [
        "# Import stats from scipy library \r\n",
        "from scipy import stats \r\n",
        "  \r\n",
        "# Interquartile range (IQR) \r\n",
        "IQR = stats.iqr(gss.realinc.sort_values().dropna(), interpolation = 'midpoint') \r\n",
        "  \r\n",
        "print(IQR)"
      ],
      "execution_count": 20,
      "outputs": [
        {
          "output_type": "stream",
          "text": [
            "29676.0\n"
          ],
          "name": "stdout"
        }
      ]
    },
    {
      "cell_type": "markdown",
      "metadata": {
        "id": "sV9_y6XpRXp2"
      },
      "source": [
        "## __05 Plot a CDF__"
      ]
    },
    {
      "cell_type": "markdown",
      "metadata": {
        "id": "sucrGgBORdk7"
      },
      "source": [
        "The distribution of income in almost every country is long-tailed; that is, there are a small number of people with very high incomes.\r\n",
        "\r\n",
        "In the GSS dataset, the variable `'realinc'` represents total household income, converted to 1986 dollars. We can get a sense of the shape of this distribution by plotting the CDF."
      ]
    },
    {
      "cell_type": "markdown",
      "metadata": {
        "id": "lGrpxpiuR5fz"
      },
      "source": [
        "__Instructions:__\r\n",
        "\r\n",
        "- Select `'realinc'` from the gss dataset.\r\n",
        "- Make a Cdf object called `cdf_income`.\r\n",
        "- Create a plot of `cdf_income` using `.plot()`."
      ]
    },
    {
      "cell_type": "code",
      "metadata": {
        "colab": {
          "base_uri": "https://localhost:8080/",
          "height": 0
        },
        "id": "BfRzsnqbRc0y",
        "outputId": "5c8f93fa-5495-4bb3-f092-a38ec04a30c3"
      },
      "source": [
        "# Select realinc\r\n",
        "income = gss.realinc\r\n",
        " \r\n",
        "# Make the CDF\r\n",
        "cdf_income = Cdf.from_seq(income)\r\n",
        " \r\n",
        "# Plot it\r\n",
        "cdf_income.plot()\r\n",
        " \r\n",
        "# Label the axes\r\n",
        "plt.xlabel('Income (1986 USD)')\r\n",
        "plt.ylabel('CDF')\r\n",
        "plt.show()"
      ],
      "execution_count": 21,
      "outputs": [
        {
          "output_type": "display_data",
          "data": {
            "image/png": "[encoded data removed]",
            "text/plain": [
              "<Figure size 432x288 with 1 Axes>"
            ]
          },
          "metadata": {
            "tags": [],
            "needs_background": "light"
          }
        }
      ]
    },
    {
      "cell_type": "markdown",
      "metadata": {
        "id": "cpNX6kSeZHFY"
      },
      "source": [
        "##__06 Distribution of education__\r\n",
        "\r\n",
        "Let's begin comparing incomes for different levels of education in the GSS dataset, which has been pre-loaded for you into a DataFrame called gss. The variable educ represents the respondent's years of education."
      ]
    },
    {
      "cell_type": "markdown",
      "metadata": {
        "id": "uvRmRk27ZTTG"
      },
      "source": [
        "__What fraction of respondents report that they have 12 years of education or fewer?__\r\n",
        "\r\n",
        "__Answer:__ Approximately 53%\r\n",
        "\r\n",
        "\r\n",
        "If you evaluate the __CDF__ at __12__, you get the fraction of respondents with __12__ or fewer years of eduction."
      ]
    },
    {
      "cell_type": "markdown",
      "metadata": {
        "id": "wlR6kxzRaabB"
      },
      "source": [
        "## __07 Extract education levels__\r\n",
        "\r\n",
        "Let's create Boolean Series to identify respondents with different levels of education.\r\n",
        "\r\n",
        "In the U.S, 12 years of education usually means the respondent has completed high school (secondary education). A respondent with 14 years of education has probably completed an associate degree (two years of college); someone with 16 years has probably completed a bachelor's degree (four years of college).\r\n"
      ]
    },
    {
      "cell_type": "markdown",
      "metadata": {
        "id": "6FO6MFGNajJw"
      },
      "source": [
        "__Instructions__\r\n",
        "\r\n",
        "- Complete the line that identifies respondents with associate degrees, that is, people with 14 or more years of education but less than 16.\r\n",
        "\r\n",
        "- Complete the line that identifies respondents with 12 or fewer years of education.\r\n",
        "\r\n",
        "- Confirm that the mean of high is the fraction we computed in the previous exercise, about 53%."
      ]
    },
    {
      "cell_type": "code",
      "metadata": {
        "colab": {
          "base_uri": "https://localhost:8080/"
        },
        "id": "mLatbX5yWz9R",
        "outputId": "e0364ce8-2f25-4f19-f262-ea3128da793c"
      },
      "source": [
        "# Select educ\r\n",
        "educ = gss['educ']\r\n",
        " \r\n",
        "# Bachelor's degree\r\n",
        "bach = (educ >= 16)\r\n",
        " \r\n",
        "# Associate degree\r\n",
        "assc = (educ >= 14) & (educ < 16)\r\n",
        " \r\n",
        "# High school (12 or fewer years of education)\r\n",
        "high = (educ <= 12)\r\n",
        "print(high.mean())"
      ],
      "execution_count": 22,
      "outputs": [
        {
          "output_type": "stream",
          "text": [
            "0.5308807991547402\n"
          ],
          "name": "stdout"
        }
      ]
    },
    {
      "cell_type": "markdown",
      "metadata": {
        "id": "CjzsIBCRbI2w"
      },
      "source": [
        "## __08 Plot income__"
      ]
    },
    {
      "cell_type": "markdown",
      "metadata": {
        "id": "41w39Y3lbSSz"
      },
      "source": [
        "Let's now see what the distribution of income looks like for people with different education levels. You can do this by plotting the CDFs. Recall how Allen plotted the income CDFs of respondents interviewed before and after 1995:\r\n",
        "\r\n",
        "```python\r\n",
        "Cdf.from_seq(income[pre95]).plot(label='Before 1995')\r\n",
        "Cdf.from_seq(income[~pre95]).plot(label='After 1995')\r\n",
        "```\r\n",
        "You can assume that Boolean Series have been defined, as in the previous exercise, to identify respondents with different education levels: `high`, `assc`, and `bach`."
      ]
    },
    {
      "cell_type": "code",
      "metadata": {
        "colab": {
          "base_uri": "https://localhost:8080/",
          "height": 0
        },
        "id": "aduAAzlabRqb",
        "outputId": "aba563a4-3b6a-4e7b-b11f-5cea506b79cc"
      },
      "source": [
        "from empiricaldist import Cdf\r\n",
        "\r\n",
        "income = gss['realinc']\r\n",
        "\r\n",
        "# Plot the CDFs\r\n",
        "Cdf.from_seq(income[high]).plot(label='High school')\r\n",
        "Cdf.from_seq(income[assc]).plot(label='Associate')\r\n",
        "Cdf.from_seq(income[bach]).plot(label='Bachelor')\r\n",
        "\r\n",
        "# Label the axes\r\n",
        "plt.xlabel('Income (1986 USD)')\r\n",
        "plt.ylabel('CDF')\r\n",
        "plt.legend()\r\n",
        "plt.show()"
      ],
      "execution_count": 23,
      "outputs": [
        {
          "output_type": "display_data",
          "data": {
            "image/png": "[encoded data removed]",
            "text/plain": [
              "<Figure size 432x288 with 1 Axes>"
            ]
          },
          "metadata": {
            "tags": [],
            "needs_background": "light"
          }
        }
      ]
    },
    {
      "cell_type": "code",
      "metadata": {
        "colab": {
          "base_uri": "https://localhost:8080/",
          "height": 0
        },
        "id": "dpka3r-njqcQ",
        "outputId": "d2fd980d-0c4f-47a6-e1d3-2f48770551f8"
      },
      "source": [
        "# Income distribution[PMF]\r\n",
        "income = gss['realinc']\r\n",
        "pre95 = gss['year'] < 1995\r\n",
        "Pmf.from_seq(income[pre95]).plot(label='Before 1995')\r\n",
        "Pmf.from_seq(income[~pre95]).plot(label='After 1995')\r\n",
        "plt.xlabel('Income (1986 USD)')\r\n",
        "plt.ylabel('PMF')\r\n",
        "plt.legend()\r\n",
        "plt.show()"
      ],
      "execution_count": 24,
      "outputs": [
        {
          "output_type": "display_data",
          "data": {
            "image/png": "[encoded data removed]",
            "text/plain": [
              "<Figure size 432x288 with 1 Axes>"
            ]
          },
          "metadata": {
            "tags": [],
            "needs_background": "light"
          }
        }
      ]
    },
    {
      "cell_type": "code",
      "metadata": {
        "colab": {
          "base_uri": "https://localhost:8080/",
          "height": 0
        },
        "id": "5iUi30bZjGWp",
        "outputId": "3e3510d8-ca68-4c0d-a1cb-1bdf26c0b56b"
      },
      "source": [
        "# Income distribution[CDF]\r\n",
        "income = gss['realinc']\r\n",
        "pre95 = gss['year'] < 1995\r\n",
        "Cdf.from_seq(income[pre95]).plot(label='Before 1995')\r\n",
        "Cdf.from_seq(income[~pre95]).plot(label='After 1995')\r\n",
        "plt.xlabel('Income (1986 USD)')\r\n",
        "plt.ylabel('CDF')\r\n",
        "plt.legend()\r\n",
        "plt.show()"
      ],
      "execution_count": 25,
      "outputs": [
        {
          "output_type": "display_data",
          "data": {
            "image/png": "[encoded data removed]",
            "text/plain": [
              "<Figure size 432x288 with 1 Axes>"
            ]
          },
          "metadata": {
            "tags": [],
            "needs_background": "light"
          }
        }
      ]
    },
    {
      "cell_type": "markdown",
      "metadata": {
        "id": "8sd5VGiXkOBA"
      },
      "source": [
        "Here are the results. Below __$30,000__ the CDFs are almost identical; above that, we can see that the **orange distribution** is shifted to the right. In other words, the fraction of people with high incomes is about the same, but the income of high earners has increased."
      ]
    },
    {
      "cell_type": "markdown",
      "metadata": {
        "id": "Vg9kfbkOSnW2"
      },
      "source": [
        "$\\color{red}{\\textbf{NOTE:}}$ \r\n",
        "\r\n",
        "- In general, __CDFs__ are __smoother__ than __PMFs__. Because they __smooth out randomness__, we can often get a better view of real differences between distributions.\r\n",
        "\r\n",
        "\r\n",
        "- Its  recommend to use CDFs for __Exploratory analysis__. They give you a clear view of the distribution, without too much noise, and they are good for comparing distributions, especially if you have more than two."
      ]
    },
    {
      "cell_type": "markdown",
      "metadata": {
        "id": "anjNpj39rBZE"
      },
      "source": [
        "## __Modeling Distributions__"
      ]
    },
    {
      "cell_type": "markdown",
      "metadata": {
        "id": "7VYwdh5blrpd"
      },
      "source": [
        "NumPy random module is used to generate 1000 random values from a normal distribution. And plot their CDF. This sigmoid shape is what we expect to see with values from a normal distribution."
      ]
    },
    {
      "cell_type": "markdown",
      "metadata": {
        "id": "ALwXF8cDmo-G"
      },
      "source": [
        "__The normal distribution__"
      ]
    },
    {
      "cell_type": "code",
      "metadata": {
        "colab": {
          "base_uri": "https://localhost:8080/",
          "height": 0
        },
        "id": "062H7mo7lywl",
        "outputId": "450aeabe-5a30-4195-eb78-9bf3a4e14d2d"
      },
      "source": [
        "#The normal distribution\r\n",
        "sample = np.random.normal(size=1000)\r\n",
        "Cdf.from_seq(sample).plot()"
      ],
      "execution_count": 26,
      "outputs": [
        {
          "output_type": "execute_result",
          "data": {
            "text/plain": [
              "<matplotlib.axes._subplots.AxesSubplot at 0x7f42053ca7b8>"
            ]
          },
          "metadata": {
            "tags": []
          },
          "execution_count": 26
        },
        {
          "output_type": "display_data",
          "data": {
            "image/png": "[encoded data removed]",
            "text/plain": [
              "<Figure size 432x288 with 1 Axes>"
            ]
          },
          "metadata": {
            "tags": [],
            "needs_background": "light"
          }
        }
      ]
    },
    {
      "cell_type": "markdown",
      "metadata": {
        "id": "PAqG50bEmtMy"
      },
      "source": [
        "__The normal CDF__\r\n",
        "\r\n"
      ]
    },
    {
      "cell_type": "code",
      "metadata": {
        "colab": {
          "base_uri": "https://localhost:8080/",
          "height": 0
        },
        "id": "PcNx9RrMmyKs",
        "outputId": "de17591b-3ce3-4e5d-f643-a36d369f0943"
      },
      "source": [
        "from scipy.stats import norm\r\n",
        "'''\r\n",
        "linspace() to create an  array  of \r\n",
        "equally-spaced points from -3 to 3.\r\n",
        "'''\r\n",
        "xs = np.linspace(-3, 3)\r\n",
        "'''\r\n",
        "norm(0, 1)  creates  an  object  that \r\n",
        "represents a normal distribution with\r\n",
        "mean 0 and standard deviation 1. \r\n",
        "'''\r\n",
        "ys = norm(0, 1).cdf(xs)\r\n",
        "\r\n",
        "plt.plot(xs, ys, color='red')\r\n",
        "\r\n",
        "Cdf.from_seq(sample).plot(color='green')"
      ],
      "execution_count": 27,
      "outputs": [
        {
          "output_type": "execute_result",
          "data": {
            "text/plain": [
              "<matplotlib.axes._subplots.AxesSubplot at 0x7f420545de80>"
            ]
          },
          "metadata": {
            "tags": []
          },
          "execution_count": 27
        },
        {
          "output_type": "display_data",
          "data": {
            "image/png": "[encoded data removed]",
            "text/plain": [
              "<Figure size 432x288 with 1 Axes>"
            ]
          },
          "metadata": {
            "tags": [],
            "needs_background": "light"
          }
        }
      ]
    },
    {
      "cell_type": "markdown",
      "metadata": {
        "id": "NRjbBTbEnNyy"
      },
      "source": [
        "__The bell curve__"
      ]
    },
    {
      "cell_type": "code",
      "metadata": {
        "colab": {
          "base_uri": "https://localhost:8080/",
          "height": 0
        },
        "id": "zj5N5vlmnLFO",
        "outputId": "e2201c32-3041-4ff7-b015-3f2916b93639"
      },
      "source": [
        "xs = np.linspace(-3, 3)\r\n",
        "ys = norm(0,1).pdf(xs)\r\n",
        "plt.plot(xs, ys, color='red')\r\n",
        "\r\n",
        "Pmf.from_seq(sample).plot(color='green')"
      ],
      "execution_count": 28,
      "outputs": [
        {
          "output_type": "execute_result",
          "data": {
            "text/plain": [
              "<matplotlib.axes._subplots.AxesSubplot at 0x7f420546d390>"
            ]
          },
          "metadata": {
            "tags": []
          },
          "execution_count": 28
        },
        {
          "output_type": "display_data",
          "data": {
            "image/png": "[encoded data removed]",
            "text/plain": [
              "<Figure size 432x288 with 1 Axes>"
            ]
          },
          "metadata": {
            "tags": [],
            "needs_background": "light"
          }
        }
      ]
    },
    {
      "cell_type": "markdown",
      "metadata": {
        "id": "rUMF_SNdpeXR"
      },
      "source": [
        "- Unfortunately, if we compare this PDF to the PMF of the sample, it doesn't work very well.\r\n",
        "\r\n",
        "- Here's what it looks like. The PMF of the sample is a __flat line__ across the bottom. In the random sample, every value is unique, so they all have the same probability, one in 1000.\r\n",
        "\r\n",
        "However, we can use the points in the sample to estimate the PDF of the distribution they came from. __This process is called kernel density estimation, or KDE__.\r\n",
        "\r\n",
        "__It's a way of getting from a PMF, a probability mass function, to a PDF, a probability density function.__"
      ]
    },
    {
      "cell_type": "markdown",
      "metadata": {
        "id": "t5UlZZXnnb37"
      },
      "source": [
        "__KDE plot__"
      ]
    },
    {
      "cell_type": "code",
      "metadata": {
        "colab": {
          "base_uri": "https://localhost:8080/",
          "height": 0
        },
        "id": "HUe54aFBnY6O",
        "outputId": "39d501d9-40ea-40c8-ba5c-509798106ec1"
      },
      "source": [
        "import seaborn as sns\r\n",
        "sns.kdeplot(sample)"
      ],
      "execution_count": 29,
      "outputs": [
        {
          "output_type": "execute_result",
          "data": {
            "text/plain": [
              "<matplotlib.axes._subplots.AxesSubplot at 0x7f4200bb40f0>"
            ]
          },
          "metadata": {
            "tags": []
          },
          "execution_count": 29
        },
        {
          "output_type": "display_data",
          "data": {
            "image/png": "[encoded data removed]",
            "text/plain": [
              "<Figure size 432x288 with 1 Axes>"
            ]
          },
          "metadata": {
            "tags": [],
            "needs_background": "light"
          }
        }
      ]
    },
    {
      "cell_type": "markdown",
      "metadata": {
        "id": "7VkWLiCine74"
      },
      "source": [
        "__KDE and PDF__"
      ]
    },
    {
      "cell_type": "code",
      "metadata": {
        "colab": {
          "base_uri": "https://localhost:8080/",
          "height": 0
        },
        "id": "JWZyIqnEnfp8",
        "outputId": "6ad5cb42-d126-4a46-9926-5deafb6b5991"
      },
      "source": [
        "xs = np.linspace(-3, 3)\r\n",
        "ys = norm.pdf(xs)\r\n",
        "plt.plot(xs, ys, color='red')\r\n",
        "sns.kdeplot(sample, color='green')"
      ],
      "execution_count": 30,
      "outputs": [
        {
          "output_type": "execute_result",
          "data": {
            "text/plain": [
              "<matplotlib.axes._subplots.AxesSubplot at 0x7f41feb37470>"
            ]
          },
          "metadata": {
            "tags": []
          },
          "execution_count": 30
        },
        {
          "output_type": "display_data",
          "data": {
            "image/png": "[encoded data removed]",
            "text/plain": [
              "<Figure size 432x288 with 1 Axes>"
            ]
          },
          "metadata": {
            "tags": [],
            "needs_background": "light"
          }
        }
      ]
    },
    {
      "cell_type": "markdown",
      "metadata": {
        "id": "XUBgBAtoqQ1z"
      },
      "source": [
        "The __KDE plot__ matches the __normal PDF__ pretty well, although the differences look bigger when we compare PDFs than they did with the CDFs.\r\n",
        "\r\n",
        "On one hand, that means that the __PDF is a more sensitive way to look for differences__, but often it is __too sensitive__."
      ]
    },
    {
      "cell_type": "markdown",
      "metadata": {
        "id": "3ApsIKKMrVqI"
      },
      "source": [
        "## __09 Distribution of income__ \r\n",
        "\r\n",
        "In many datasets, the distribution of income is approximately lognormal, which means that the logarithms of the incomes fit a normal distribution. We'll see whether that's true for the GSS data. As a first step, you'll compute the mean and standard deviation of the log of incomes using NumPy's `np.log10()` function.\r\n",
        "\r\n",
        "Then, you'll use the computed mean and standard deviation to make a norm object using the `scipy.stats.norm()` function."
      ]
    },
    {
      "cell_type": "markdown",
      "metadata": {
        "id": "SzFbX-fxrkg9"
      },
      "source": [
        "__Instructions__\r\n",
        "\r\n",
        "- Extract `'realinc'` from gss and compute its logarithm using `np.log10()`.\r\n",
        "\r\n",
        "- Compute the mean and standard deviation of the result.\r\n",
        "\r\n",
        "- Make a `norm` object by passing the computed mean and standard deviation to `norm()`."
      ]
    },
    {
      "cell_type": "code",
      "metadata": {
        "colab": {
          "base_uri": "https://localhost:8080/"
        },
        "id": "mi7kWky9qQaN",
        "outputId": "9303f943-e864-48e7-cb2d-e58a59a0fe3e"
      },
      "source": [
        "# Extract realinc and compute its log\r\n",
        "income = gss['realinc']\r\n",
        "log_income = np.log10(income)\r\n",
        " \r\n",
        "# Compute mean and standard deviation\r\n",
        "mean = np.mean(log_income)\r\n",
        "std = np.std(log_income)\r\n",
        "print(mean, std)\r\n",
        "# 4.371148677934171 0.42900437330100427\r\n",
        " \r\n",
        "# Make a norm object\r\n",
        "from scipy.stats import norm\r\n",
        "dist = norm(mean,std)"
      ],
      "execution_count": 31,
      "outputs": [
        {
          "output_type": "stream",
          "text": [
            "4.371148677933652 0.4290043733010077\n"
          ],
          "name": "stdout"
        }
      ]
    },
    {
      "cell_type": "markdown",
      "metadata": {
        "id": "22BzXZUMsDf8"
      },
      "source": [
        "## __10 Comparing CDFs__\r\n",
        "\r\n"
      ]
    },
    {
      "cell_type": "markdown",
      "metadata": {
        "id": "RcRM6R-WsLUb"
      },
      "source": [
        "To see whether the distribution of income is well modeled by a lognormal distribution, we'll compare the CDF of the logarithm of the data to a normal distribution with the same mean and standard deviation. These variables from the previous exercise are available for use:\r\n",
        "\r\n",
        "```python\r\n",
        "# Extract realinc and compute its log\r\n",
        "log_income = np.log10(gss['realinc'])\r\n",
        "\r\n",
        "# Compute mean and standard deviation\r\n",
        "mean, std = log_income.mean(), log_income.std()\r\n",
        "\r\n",
        "# Make a norm object\r\n",
        "from scipy.stats import norm\r\n",
        "dist = norm(mean, std)\r\n",
        "```\r\n",
        "`dist` is a `scipy.stats.norm` object with the same mean and standard deviation as the data. It provides `.cdf()`, which evaluates the normal cumulative distribution function.\r\n",
        "\r\n",
        "Be careful with capitalization: `Cdf()`, with an uppercase `C`, creates `Cdf` objects. `dist.cdf()`, with a lowercase c, evaluates the normal cumulative distribution function."
      ]
    },
    {
      "cell_type": "markdown",
      "metadata": {
        "id": "nlZlkA5hspvz"
      },
      "source": [
        "__Instructions:__\r\n",
        "\r\n",
        "- Evaluate the normal cumulative distribution function using `dist.cdf`.\r\n",
        "\r\n",
        "- Use the `Cdf()` function to compute the CDF of `log_income`.\r\n",
        "\r\n",
        "- Plot the result."
      ]
    },
    {
      "cell_type": "code",
      "metadata": {
        "colab": {
          "base_uri": "https://localhost:8080/",
          "height": 0
        },
        "id": "lAIDSiHXs6fn",
        "outputId": "76a81011-f9f5-4206-8e33-ce9dfcb33beb"
      },
      "source": [
        "# Extract realinc and compute its log\r\n",
        "log_income = np.log10(gss['realinc'])\r\n",
        " \r\n",
        "# Compute mean and standard deviation\r\n",
        "mean, std = log_income.mean(), log_income.std()\r\n",
        " \r\n",
        "# Make a norm object\r\n",
        "from scipy.stats import norm\r\n",
        "dist = norm(mean, std)\r\n",
        "\r\n",
        "# Evaluate the model CDF\r\n",
        "xs = np.linspace(2, 5.5)\r\n",
        "ys = dist.cdf(xs)\r\n",
        " \r\n",
        "# Plot the model CDF\r\n",
        "plt.clf()\r\n",
        "plt.plot(xs, ys, color='red')\r\n",
        " \r\n",
        "# Create and plot the Cdf of log_income\r\n",
        "Cdf.from_seq(log_income).plot(color='green')\r\n",
        "     \r\n",
        "# Label the axes\r\n",
        "plt.xlabel('log10 of realinc')\r\n",
        "plt.ylabel('CDF')\r\n",
        "plt.legend()\r\n",
        "plt.show()"
      ],
      "execution_count": 32,
      "outputs": [
        {
          "output_type": "display_data",
          "data": {
            "image/png": "[encoded data removed]",
            "text/plain": [
              "<Figure size 432x288 with 1 Axes>"
            ]
          },
          "metadata": {
            "tags": [],
            "needs_background": "light"
          }
        }
      ]
    },
    {
      "cell_type": "markdown",
      "metadata": {
        "id": "_OJEPrzZt_L_"
      },
      "source": [
        "## __11 Comparing PDFs__\r\n",
        "\r\n"
      ]
    },
    {
      "cell_type": "markdown",
      "metadata": {
        "id": "vwg2iYWwuFlI"
      },
      "source": [
        "In the previous exercise, we used CDFs to see if the distribution of income is lognormal. We can make the same comparison using a PDF and KDE. That's what you'll do in this exercise!\r\n",
        "\r\n",
        "As before, the `norm` object `dist` is available in your workspace:\r\n",
        "\r\n",
        "```python\r\n",
        "from scipy.stats import norm\r\n",
        "dist = norm(mean, std)\r\n",
        "```\r\n",
        "\r\n",
        "Just as all `norm` objects have a `.cdf()` method, they also have a `.pdf()` method.\r\n",
        "\r\n",
        "To create a KDE plot, you can use Seaborn's `kdeplot()` function."
      ]
    },
    {
      "cell_type": "markdown",
      "metadata": {
        "id": "AmghSgwcugOh"
      },
      "source": [
        "__Instructions__\r\n",
        "\r\n",
        "- Evaluate the normal PDF using `dist`, which is a `norm` object with the same mean and standard deviation as the data.\r\n",
        "\r\n",
        "- Make a KDE plot of the logarithms of the incomes, using `log_income`, which is a Series object."
      ]
    },
    {
      "cell_type": "code",
      "metadata": {
        "colab": {
          "base_uri": "https://localhost:8080/",
          "height": 278
        },
        "id": "UFpsTTNjt1tl",
        "outputId": "f8377677-2058-4bb3-ee68-db88f1d18b9c"
      },
      "source": [
        "# Evaluate the normal PDF\r\n",
        "xs = np.linspace(2, 5.5)\r\n",
        "ys = dist.pdf(xs)\r\n",
        " \r\n",
        "# Plot the model PDF\r\n",
        "plt.clf()\r\n",
        "plt.plot(xs, ys, color='red')\r\n",
        " \r\n",
        "# Plot the data KDE\r\n",
        "sns.kdeplot(log_income, color='green')\r\n",
        " \r\n",
        "# Label the axes\r\n",
        "plt.xlabel('log10 of realinc')\r\n",
        "plt.ylabel('PDF')\r\n",
        "plt.show()"
      ],
      "execution_count": 33,
      "outputs": [
        {
          "output_type": "display_data",
          "data": {
            "image/png": "[encoded data removed]",
            "text/plain": [
              "<Figure size 432x288 with 1 Axes>"
            ]
          },
          "metadata": {
            "tags": [],
            "needs_background": "light"
          }
        }
      ]
    },
    {
      "cell_type": "markdown",
      "metadata": {
        "id": "ozJXFwkoxv4i"
      },
      "source": [
        "<p align='center'>\r\n",
        "    <a href=\"https://twitter.com/F4izy\">\r\n",
        "        <img src=\"https://th.bing.com/th/id/OIP.FCKMemzqNplY37Jwi0Yk3AHaGl?w=233&h=207&c=7&o=5&pid=1.7\" width=50px\r\n",
        "            height=50px>\r\n",
        "    </a>\r\n",
        "    <a href=\"https://www.linkedin.com/in/mohd-faizy/\">\r\n",
        "        <img src='https://th.bing.com/th/id/OIP.idrBN-LfvMIZl370Vb65SgHaHa?pid=Api&rs=1' width=50px height=50px>\r\n",
        "    </a>\r\n",
        "</p>"
      ]
    }
  ]
}