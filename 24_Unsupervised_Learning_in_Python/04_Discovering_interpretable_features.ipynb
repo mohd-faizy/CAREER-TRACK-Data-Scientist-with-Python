{
  "nbformat": 4,
  "nbformat_minor": 0,
  "metadata": {
    "colab": {
      "provenance": [],
      "toc_visible": true
    },
    "kernelspec": {
      "name": "python3",
      "display_name": "Python 3"
    }
  },
  "cells": [
    {
      "cell_type": "markdown",
      "metadata": {
        "id": "BSuEABPa0--s"
      },
      "source": [
        "---\n",
        "<strong>\n",
        "    <h1 align='center'>Discovering interpretable features</h1>\n",
        "</strong>\n",
        "\n",
        "---\n"
      ]
    },
    {
      "cell_type": "markdown",
      "metadata": {
        "id": "-YQQFirK1fe1"
      },
      "source": [
        "In this Notebook, We'll learn about a dimension reduction technique called \"**Non-negative matrix factorization**\" (\"NMF\") that expresses samples as combinations of interpretable parts. For example, it expresses documents as combinations of topics, and images in terms of commonly occurring visual patterns. You'll also learn to use NMF to build recommender systems that can find you similar articles to read, or musical artists that match your listening history!"
      ]
    },
    {
      "cell_type": "code",
      "metadata": {
        "id": "eHRsiSczR0fB"
      },
      "source": [
        "! git clone https://github.com/mohd-faizy/CAREER-TRACK-Data-Scientist-with-Python.git -q"
      ],
      "execution_count": 1,
      "outputs": []
    },
    {
      "cell_type": "code",
      "metadata": {
        "id": "KJN0hZ3RWQsh"
      },
      "source": [
        "import pandas as pd\n",
        "import numpy as np\n",
        "import matplotlib.pyplot as plt\n",
        "import seaborn as sns\n",
        "import os\n",
        "\n",
        "plt.style.use('ggplot')\n",
        "#sns.set_theme(style='whitegrid')\n",
        "%matplotlib inline"
      ],
      "execution_count": 2,
      "outputs": []
    },
    {
      "cell_type": "code",
      "metadata": {
        "colab": {
          "base_uri": "https://localhost:8080/"
        },
        "id": "nu0TmPzKTj2V",
        "outputId": "401b1097-4af6-4d17-eb1c-c9169fd4ce97"
      },
      "source": [
        "os.chdir('/content/CAREER-TRACK-Data-Scientist-with-Python/24_Unsupervised_Learning_in_Python/_dataset')\n",
        "cwd = os.getcwd()\n",
        "print('Curent working directory is ', cwd)"
      ],
      "execution_count": 3,
      "outputs": [
        {
          "output_type": "stream",
          "name": "stdout",
          "text": [
            "Curent working directory is  /content/CAREER-TRACK-Data-Scientist-with-Python/24_Unsupervised_Learning_in_Python/_dataset\n"
          ]
        }
      ]
    },
    {
      "cell_type": "code",
      "metadata": {
        "colab": {
          "base_uri": "https://localhost:8080/"
        },
        "id": "b6FFGoWhUD1G",
        "outputId": "aa39a6e4-301b-41f9-dd79-7b75d077fe79"
      },
      "source": [
        "ls"
      ],
      "execution_count": 4,
      "outputs": [
        {
          "output_type": "stream",
          "name": "stdout",
          "text": [
            " company-stock-movements-2010-2015-incl.csv  \u001b[0m\u001b[01;34m'Musical artists'\u001b[0m/\n",
            " eurovision-2016.csv                          new_points.csv\n",
            " fish.csv                                     points.csv\n",
            " \u001b[01;34mGrains\u001b[0m/                                     \u001b[01;34m'Wikipedia articles'\u001b[0m/\n",
            " lcd-digits.csv                               wine.csv\n"
          ]
        }
      ]
    },
    {
      "cell_type": "markdown",
      "metadata": {
        "id": "-jUW7gRp0mMu"
      },
      "source": [
        "## **Non-Negative matrix factorization (NMF)**\n",
        "- NMF = Non-negative matrix factorization\n",
        "    - Dimension reduction technique\n",
        "    - NMF models are interpretable (unlike PCA)\n",
        "    - Easy to interpret means easy to explain\n",
        "    - However, all sample features must be non-negative\n",
        "($\\ge0$)\n",
        "\n",
        "- NMF components\n",
        "    - Just like PCA has principal components\n",
        "    - Dimension of components = dimension of samples\n",
        "    - Entries are non-negative\n",
        "    - Can be used to reconstruct the samples\n",
        "    - Combine feature values with components\n",
        "- Sample reconstruction\n",
        "    - Multiply components by feature values, and add up\n",
        "    - Can also be expressed as a product of matrices\n",
        "    - This is the \"Matrix Factorization\" in \"NMF\""
      ]
    },
    {
      "cell_type": "markdown",
      "metadata": {
        "id": "RqzxixY50mMv"
      },
      "source": [
        "### NMF applied to Wikipedia articles\n",
        "\n",
        "NMF applied to transform a **toy** word-frequency array. Now we can apply it NMF, this time using the tf-idf word-frequency array of Wikipedia articles, given as a `csr_matrix` ```articles```. Here, fit the model and transform the articles."
      ]
    },
    {
      "cell_type": "markdown",
      "metadata": {
        "id": "p0rCqg9c0mMw"
      },
      "source": [
        "#### Preprocess"
      ]
    },
    {
      "cell_type": "code",
      "metadata": {
        "id": "HLHikDag0mMw"
      },
      "source": [
        "from scipy.sparse import csr_matrix\n",
        "\n",
        "documents = pd.read_csv('Wikipedia articles/wikipedia-vectors.csv', index_col=0)\n",
        "titles = documents.columns\n",
        "articles = csr_matrix(documents.values).T"
      ],
      "execution_count": 5,
      "outputs": []
    },
    {
      "cell_type": "code",
      "metadata": {
        "id": "NDoJi1660mMx",
        "colab": {
          "base_uri": "https://localhost:8080/"
        },
        "outputId": "d66300b2-1a25-4a61-ef8d-2e8e9e749e29"
      },
      "source": [
        "from sklearn.decomposition import NMF\n",
        "\n",
        "# Create an NMF instance: model\n",
        "model = NMF(n_components=6)\n",
        "\n",
        "# Fit the model to articles\n",
        "model.fit(articles)\n",
        "\n",
        "# Transform the articles: nmf_features\n",
        "nmf_features = model.transform(articles)\n",
        "\n",
        "# Print the NMF features\n",
        "print(nmf_features)"
      ],
      "execution_count": 6,
      "outputs": [
        {
          "output_type": "stream",
          "name": "stdout",
          "text": [
            "[[0.00000000e+00 0.00000000e+00 0.00000000e+00 0.00000000e+00\n",
            "  0.00000000e+00 4.38555910e-01]\n",
            " [0.00000000e+00 0.00000000e+00 0.00000000e+00 0.00000000e+00\n",
            "  0.00000000e+00 5.64156419e-01]\n",
            " [3.77665516e-03 0.00000000e+00 0.00000000e+00 0.00000000e+00\n",
            "  0.00000000e+00 3.96917670e-01]\n",
            " [0.00000000e+00 0.00000000e+00 0.00000000e+00 0.00000000e+00\n",
            "  0.00000000e+00 3.80083918e-01]\n",
            " [0.00000000e+00 0.00000000e+00 0.00000000e+00 0.00000000e+00\n",
            "  0.00000000e+00 4.83424560e-01]\n",
            " [1.27833742e-02 1.37149869e-02 7.72573621e-03 3.32144445e-02\n",
            "  0.00000000e+00 3.33078735e-01]\n",
            " [0.00000000e+00 0.00000000e+00 2.05709945e-02 0.00000000e+00\n",
            "  6.01637866e-03 3.57501961e-01]\n",
            " [0.00000000e+00 0.00000000e+00 0.00000000e+00 0.00000000e+00\n",
            "  0.00000000e+00 4.88861225e-01]\n",
            " [1.52504364e-02 1.42020056e-02 3.74798832e-03 2.35504964e-02\n",
            "  2.61359786e-02 4.78690926e-01]\n",
            " [1.10492485e-02 3.11961404e-02 3.07956245e-02 6.52472318e-02\n",
            "  1.95722591e-02 3.36829838e-01]\n",
            " [0.00000000e+00 0.00000000e+00 5.28065300e-01 0.00000000e+00\n",
            "  2.82284140e-02 0.00000000e+00]\n",
            " [0.00000000e+00 0.00000000e+00 3.54724010e-01 0.00000000e+00\n",
            "  0.00000000e+00 0.00000000e+00]\n",
            " [1.18770499e-02 6.46565712e-03 3.10684834e-01 6.05614445e-02\n",
            "  1.13300988e-02 1.91763352e-02]\n",
            " [3.88983530e-03 6.20979678e-03 3.40660614e-01 1.10006880e-02\n",
            "  0.00000000e+00 0.00000000e+00]\n",
            " [4.58417291e-03 0.00000000e+00 4.32741049e-01 0.00000000e+00\n",
            "  3.82396035e-02 3.06738495e-03]\n",
            " [0.00000000e+00 0.00000000e+00 4.80868923e-01 0.00000000e+00\n",
            "  0.00000000e+00 0.00000000e+00]\n",
            " [5.58610205e-03 1.82514084e-02 3.74650135e-01 3.23240871e-02\n",
            "  0.00000000e+00 1.12840388e-02]\n",
            " [0.00000000e+00 0.00000000e+00 4.78506468e-01 0.00000000e+00\n",
            "  0.00000000e+00 0.00000000e+00]\n",
            " [0.00000000e+00 8.96786143e-03 5.48249581e-01 0.00000000e+00\n",
            "  0.00000000e+00 0.00000000e+00]\n",
            " [0.00000000e+00 0.00000000e+00 4.63636214e-01 0.00000000e+00\n",
            "  0.00000000e+00 0.00000000e+00]\n",
            " [0.00000000e+00 1.13505160e-02 2.07628318e-02 5.14273759e-01\n",
            "  5.78621024e-02 1.37309082e-02]\n",
            " [0.00000000e+00 0.00000000e+00 0.00000000e+00 5.07036518e-01\n",
            "  0.00000000e+00 0.00000000e+00]\n",
            " [0.00000000e+00 5.57455505e-03 0.00000000e+00 4.19533134e-01\n",
            "  0.00000000e+00 0.00000000e+00]\n",
            " [0.00000000e+00 0.00000000e+00 0.00000000e+00 4.33811479e-01\n",
            "  0.00000000e+00 0.00000000e+00]\n",
            " [0.00000000e+00 0.00000000e+00 0.00000000e+00 4.94737307e-01\n",
            "  0.00000000e+00 0.00000000e+00]\n",
            " [9.77122385e-02 8.55291516e-02 3.89172911e-03 3.78432659e-01\n",
            "  4.36976649e-04 5.20090459e-03]\n",
            " [0.00000000e+00 0.00000000e+00 0.00000000e+00 5.68312303e-01\n",
            "  0.00000000e+00 7.11063414e-03]\n",
            " [1.30071484e-02 1.04315456e-02 0.00000000e+00 4.65737111e-01\n",
            "  0.00000000e+00 1.15843624e-02]\n",
            " [3.81489563e-03 0.00000000e+00 0.00000000e+00 5.71824528e-01\n",
            "  0.00000000e+00 0.00000000e+00]\n",
            " [2.23979530e-03 1.38507586e-03 0.00000000e+00 5.24378504e-01\n",
            "  1.19692203e-02 1.48883201e-02]\n",
            " [0.00000000e+00 4.05258361e-01 1.84759188e-03 0.00000000e+00\n",
            "  2.95143595e-03 4.48965482e-04]\n",
            " [1.51585366e-03 6.04756364e-01 5.19378317e-04 6.20441356e-03\n",
            "  1.17861031e-03 4.36775874e-04]\n",
            " [5.32725186e-03 2.63531633e-01 5.36008173e-04 1.85595661e-02\n",
            "  6.35558373e-03 2.88809114e-03]\n",
            " [0.00000000e+00 6.41291708e-01 0.00000000e+00 0.00000000e+00\n",
            "  0.00000000e+00 0.00000000e+00]\n",
            " [0.00000000e+00 6.05485656e-01 0.00000000e+00 0.00000000e+00\n",
            "  0.00000000e+00 0.00000000e+00]\n",
            " [0.00000000e+00 3.41753682e-01 0.00000000e+00 0.00000000e+00\n",
            "  3.95821736e-03 0.00000000e+00]\n",
            " [6.03352256e-03 3.13540769e-01 1.54100345e-02 0.00000000e+00\n",
            "  5.03798832e-03 4.72132860e-03]\n",
            " [6.40390932e-03 2.12135185e-01 9.44828167e-03 4.53798155e-02\n",
            "  1.71075077e-02 9.47892427e-03]\n",
            " [7.89960061e-03 4.64969445e-01 0.00000000e+00 2.41740932e-02\n",
            "  0.00000000e+00 0.00000000e+00]\n",
            " [0.00000000e+00 6.39209360e-01 0.00000000e+00 2.33872200e-03\n",
            "  0.00000000e+00 0.00000000e+00]\n",
            " [0.00000000e+00 0.00000000e+00 0.00000000e+00 0.00000000e+00\n",
            "  4.74779999e-01 0.00000000e+00]\n",
            " [0.00000000e+00 0.00000000e+00 0.00000000e+00 0.00000000e+00\n",
            "  4.91872898e-01 0.00000000e+00]\n",
            " [0.00000000e+00 2.97768094e-04 2.13535929e-03 0.00000000e+00\n",
            "  3.79930744e-01 5.81274164e-03]\n",
            " [0.00000000e+00 0.00000000e+00 0.00000000e+00 5.60912776e-03\n",
            "  5.39620416e-01 0.00000000e+00]\n",
            " [1.76036112e-03 7.80219007e-04 1.40934629e-02 4.56634173e-04\n",
            "  4.22250208e-01 0.00000000e+00]\n",
            " [0.00000000e+00 0.00000000e+00 0.00000000e+00 0.00000000e+00\n",
            "  5.08925352e-01 0.00000000e+00]\n",
            " [0.00000000e+00 0.00000000e+00 3.26837845e-03 0.00000000e+00\n",
            "  3.71081853e-01 0.00000000e+00]\n",
            " [0.00000000e+00 2.60720976e-04 3.59321262e-02 2.30837403e-04\n",
            "  2.29394329e-01 0.00000000e+00]\n",
            " [1.11227989e-02 2.11174451e-03 1.60181669e-02 1.01784457e-02\n",
            "  3.23885808e-01 3.74255082e-02]\n",
            " [0.00000000e+00 0.00000000e+00 0.00000000e+00 0.00000000e+00\n",
            "  4.16932703e-01 3.56493659e-04]\n",
            " [3.04805993e-01 0.00000000e+00 0.00000000e+00 0.00000000e+00\n",
            "  0.00000000e+00 0.00000000e+00]\n",
            " [3.63923079e-01 0.00000000e+00 0.00000000e+00 0.00000000e+00\n",
            "  0.00000000e+00 0.00000000e+00]\n",
            " [3.93354767e-01 2.80111094e-02 3.65155629e-03 1.68824371e-02\n",
            "  1.94972603e-03 2.10704990e-02]\n",
            " [3.71460525e-01 2.06256130e-03 0.00000000e+00 3.69569279e-02\n",
            "  0.00000000e+00 5.83235078e-03]\n",
            " [4.32971166e-01 0.00000000e+00 0.00000000e+00 0.00000000e+00\n",
            "  0.00000000e+00 0.00000000e+00]\n",
            " [4.52594448e-01 0.00000000e+00 0.00000000e+00 0.00000000e+00\n",
            "  0.00000000e+00 0.00000000e+00]\n",
            " [2.72304779e-01 4.44470119e-03 0.00000000e+00 5.25950548e-02\n",
            "  0.00000000e+00 1.90152356e-02]\n",
            " [4.40054414e-01 0.00000000e+00 0.00000000e+00 0.00000000e+00\n",
            "  5.45922995e-03 0.00000000e+00]\n",
            " [2.89362074e-01 1.32896867e-02 1.13692926e-02 1.04460896e-02\n",
            "  1.86788376e-01 9.19844207e-03]\n",
            " [3.73906763e-01 1.43165837e-02 0.00000000e+00 9.78468417e-02\n",
            "  1.35238482e-02 0.00000000e+00]]\n"
          ]
        }
      ]
    },
    {
      "cell_type": "markdown",
      "metadata": {
        "id": "UvNLIpq_0mMz"
      },
      "source": [
        "### NMF features of the Wikipedia articles\n",
        "Now you will explore the NMF features you created in the previous exercise. A solution to the previous exercise has been pre-loaded, so the array ```nmf_features``` is available. Also available is a list titles giving the ```title``` of each Wikipedia article.\n",
        "\n",
        "When investigating the features, notice that for both actors, the NMF feature 3 has by far the highest value. This means that both articles are reconstructed using mainly the 3rd NMF component. In the next video, you'll see why: NMF components represent topics (for instance, acting!)."
      ]
    },
    {
      "cell_type": "code",
      "metadata": {
        "id": "k8ifrzb00mMz",
        "colab": {
          "base_uri": "https://localhost:8080/"
        },
        "outputId": "8f4c91a5-441e-4890-e048-cea93b54a62d"
      },
      "source": [
        "# Create a pandas DataFrame: df\n",
        "df = pd.DataFrame(nmf_features, index=titles)\n",
        "\n",
        "# Print the row for 'Anne Hathaway'\n",
        "print(df.loc['Anne Hathaway'])\n",
        "\n",
        "# Print the row for 'Denzel Washington'\n",
        "print(df.loc['Denzel Washington'])"
      ],
      "execution_count": 7,
      "outputs": [
        {
          "output_type": "stream",
          "name": "stdout",
          "text": [
            "0    0.003815\n",
            "1    0.000000\n",
            "2    0.000000\n",
            "3    0.571825\n",
            "4    0.000000\n",
            "5    0.000000\n",
            "Name: Anne Hathaway, dtype: float64\n",
            "0    0.000000\n",
            "1    0.005575\n",
            "2    0.000000\n",
            "3    0.419533\n",
            "4    0.000000\n",
            "5    0.000000\n",
            "Name: Denzel Washington, dtype: float64\n"
          ]
        }
      ]
    },
    {
      "cell_type": "markdown",
      "metadata": {
        "id": "g2Qm-UW00mM0"
      },
      "source": [
        "### NMF reconstructs samples\n",
        "In this exercise, you'll check your understanding of how NMF reconstructs samples from its components using the NMF feature values. On the right are the components of an NMF model. If the NMF feature values of a sample are ```[2, 1]```, then which of the following is most likely to represent the original sample? A pen and paper will help here! You have to apply the same technique Ben used in the video to reconstruct the sample ```[0.1203 0.1764 0.3195 0.141]```."
      ]
    },
    {
      "cell_type": "code",
      "metadata": {
        "id": "UqjLmnCd0mM1"
      },
      "source": [
        "sample_feature = np.array([2, 1])\n",
        "components = np.array([[1. , 0.5, 0. ],\n",
        "                       [0.2, 0.1, 2.1]])"
      ],
      "execution_count": 8,
      "outputs": []
    },
    {
      "cell_type": "code",
      "metadata": {
        "id": "q5hj8hpq0mM2",
        "colab": {
          "base_uri": "https://localhost:8080/"
        },
        "outputId": "1bf99752-99d6-4998-814a-ce5754c41415"
      },
      "source": [
        "np.matmul(sample_feature.T, components)"
      ],
      "execution_count": 9,
      "outputs": [
        {
          "output_type": "execute_result",
          "data": {
            "text/plain": [
              "array([2.2, 1.1, 2.1])"
            ]
          },
          "metadata": {},
          "execution_count": 9
        }
      ]
    },
    {
      "cell_type": "markdown",
      "metadata": {
        "id": "OcN1-4IB0mM2"
      },
      "source": [
        "## NMF learns interpretable parts\n"
      ]
    },
    {
      "cell_type": "markdown",
      "metadata": {
        "id": "7g_gIz2f0mM3"
      },
      "source": [
        "### NMF learns topics of documents\n",
        "In the video, you learned when NMF is applied to documents, the components correspond to topics of documents, and the NMF features reconstruct the documents from the topics. Verify this for yourself for the NMF model that you built earlier using the Wikipedia articles. Previously, you saw that the 3rd NMF feature value was high for the articles about actors Anne Hathaway and Denzel Washington. In this exercise, identify the topic of the corresponding NMF component.\n",
        "\n",
        "The NMF model you built earlier is available as ```model```, while ```words``` is a list of the words that label the columns of the word-frequency array.\n",
        "\n",
        "After you are done, take a moment to recognise the topic that the articles about Anne Hathaway and Denzel Washington have in common!"
      ]
    },
    {
      "cell_type": "markdown",
      "metadata": {
        "id": "ytkK8mz30mM3"
      },
      "source": [
        "#### Preprocess"
      ]
    },
    {
      "cell_type": "code",
      "metadata": {
        "id": "EW5GKce20mM4"
      },
      "source": [
        "words = []\n",
        "with open('Wikipedia articles/wikipedia-vocabulary-utf8.txt') as f:\n",
        "    words = f.read().splitlines()"
      ],
      "execution_count": 10,
      "outputs": []
    },
    {
      "cell_type": "code",
      "metadata": {
        "id": "hQto6dLb0mM4",
        "colab": {
          "base_uri": "https://localhost:8080/"
        },
        "outputId": "5e7fb010-9923-45ab-c9f0-2610e69c1825"
      },
      "source": [
        "# Create a DataFrame: components_df\n",
        "components_df = pd.DataFrame(model.components_, columns=words)\n",
        "\n",
        "# Print the shape of the DataFrame\n",
        "print(components_df.shape)\n",
        "\n",
        "# Select row 3: component\n",
        "component = components_df.iloc[3]\n",
        "\n",
        "# Print result of nlargest\n",
        "print(component.nlargest())"
      ],
      "execution_count": 11,
      "outputs": [
        {
          "output_type": "stream",
          "name": "stdout",
          "text": [
            "(6, 13125)\n",
            "film       0.632151\n",
            "award      0.254852\n",
            "starred    0.246954\n",
            "role       0.212890\n",
            "actress    0.187666\n",
            "Name: 3, dtype: float64\n"
          ]
        }
      ]
    },
    {
      "cell_type": "markdown",
      "metadata": {
        "id": "1QsAUHbL0mM5"
      },
      "source": [
        "### Explore the LED digits dataset\n",
        "In the following exercises, you'll use NMF to decompose grayscale images into their commonly occurring patterns. Firstly, explore the image dataset and see how it is encoded as an array. You are given 100 images as a 2D array ```samples```, where each row represents a single 13x8 image. The images in your dataset are pictures of a LED digital display."
      ]
    },
    {
      "cell_type": "markdown",
      "metadata": {
        "id": "Fl5b_rl00mM5"
      },
      "source": [
        "#### Preprocess"
      ]
    },
    {
      "cell_type": "code",
      "metadata": {
        "id": "s6Y3INJm0mM5",
        "colab": {
          "base_uri": "https://localhost:8080/",
          "height": 236
        },
        "outputId": "11a63504-933e-49ec-b13b-ee472cdfa350"
      },
      "source": [
        "df = pd.read_csv('lcd-digits.csv', header=None)\n",
        "df.head()"
      ],
      "execution_count": 12,
      "outputs": [
        {
          "output_type": "execute_result",
          "data": {
            "text/plain": [
              "   0    1    2    3    4    5    6    7    8    9    ...  94   95   96   97   \\\n",
              "0  0.0  0.0  0.0  0.0  0.0  0.0  0.0  0.0  0.0  0.0  ...  0.0  0.0  0.0  0.0   \n",
              "1  0.0  0.0  0.0  0.0  0.0  0.0  0.0  0.0  0.0  0.0  ...  0.0  0.0  0.0  0.0   \n",
              "2  0.0  0.0  0.0  0.0  0.0  0.0  0.0  0.0  0.0  0.0  ...  0.0  0.0  0.0  0.0   \n",
              "3  0.0  0.0  0.0  0.0  0.0  0.0  0.0  0.0  0.0  0.0  ...  0.0  0.0  0.0  0.0   \n",
              "4  0.0  0.0  0.0  0.0  0.0  0.0  0.0  0.0  0.0  0.0  ...  0.0  0.0  0.0  0.0   \n",
              "\n",
              "   98   99   100  101  102  103  \n",
              "0  0.0  0.0  0.0  0.0  0.0  0.0  \n",
              "1  0.0  0.0  0.0  0.0  0.0  0.0  \n",
              "2  0.0  0.0  0.0  0.0  0.0  0.0  \n",
              "3  0.0  0.0  0.0  0.0  0.0  0.0  \n",
              "4  0.0  0.0  0.0  0.0  0.0  0.0  \n",
              "\n",
              "[5 rows x 104 columns]"
            ],
            "text/html": [
              "\n",
              "  <div id=\"df-342ff84b-7a81-411b-ad29-f274f8fe3c42\">\n",
              "    <div class=\"colab-df-container\">\n",
              "      <div>\n",
              "<style scoped>\n",
              "    .dataframe tbody tr th:only-of-type {\n",
              "        vertical-align: middle;\n",
              "    }\n",
              "\n",
              "    .dataframe tbody tr th {\n",
              "        vertical-align: top;\n",
              "    }\n",
              "\n",
              "    .dataframe thead th {\n",
              "        text-align: right;\n",
              "    }\n",
              "</style>\n",
              "<table border=\"1\" class=\"dataframe\">\n",
              "  <thead>\n",
              "    <tr style=\"text-align: right;\">\n",
              "      <th></th>\n",
              "      <th>0</th>\n",
              "      <th>1</th>\n",
              "      <th>2</th>\n",
              "      <th>3</th>\n",
              "      <th>4</th>\n",
              "      <th>5</th>\n",
              "      <th>6</th>\n",
              "      <th>7</th>\n",
              "      <th>8</th>\n",
              "      <th>9</th>\n",
              "      <th>...</th>\n",
              "      <th>94</th>\n",
              "      <th>95</th>\n",
              "      <th>96</th>\n",
              "      <th>97</th>\n",
              "      <th>98</th>\n",
              "      <th>99</th>\n",
              "      <th>100</th>\n",
              "      <th>101</th>\n",
              "      <th>102</th>\n",
              "      <th>103</th>\n",
              "    </tr>\n",
              "  </thead>\n",
              "  <tbody>\n",
              "    <tr>\n",
              "      <th>0</th>\n",
              "      <td>0.0</td>\n",
              "      <td>0.0</td>\n",
              "      <td>0.0</td>\n",
              "      <td>0.0</td>\n",
              "      <td>0.0</td>\n",
              "      <td>0.0</td>\n",
              "      <td>0.0</td>\n",
              "      <td>0.0</td>\n",
              "      <td>0.0</td>\n",
              "      <td>0.0</td>\n",
              "      <td>...</td>\n",
              "      <td>0.0</td>\n",
              "      <td>0.0</td>\n",
              "      <td>0.0</td>\n",
              "      <td>0.0</td>\n",
              "      <td>0.0</td>\n",
              "      <td>0.0</td>\n",
              "      <td>0.0</td>\n",
              "      <td>0.0</td>\n",
              "      <td>0.0</td>\n",
              "      <td>0.0</td>\n",
              "    </tr>\n",
              "    <tr>\n",
              "      <th>1</th>\n",
              "      <td>0.0</td>\n",
              "      <td>0.0</td>\n",
              "      <td>0.0</td>\n",
              "      <td>0.0</td>\n",
              "      <td>0.0</td>\n",
              "      <td>0.0</td>\n",
              "      <td>0.0</td>\n",
              "      <td>0.0</td>\n",
              "      <td>0.0</td>\n",
              "      <td>0.0</td>\n",
              "      <td>...</td>\n",
              "      <td>0.0</td>\n",
              "      <td>0.0</td>\n",
              "      <td>0.0</td>\n",
              "      <td>0.0</td>\n",
              "      <td>0.0</td>\n",
              "      <td>0.0</td>\n",
              "      <td>0.0</td>\n",
              "      <td>0.0</td>\n",
              "      <td>0.0</td>\n",
              "      <td>0.0</td>\n",
              "    </tr>\n",
              "    <tr>\n",
              "      <th>2</th>\n",
              "      <td>0.0</td>\n",
              "      <td>0.0</td>\n",
              "      <td>0.0</td>\n",
              "      <td>0.0</td>\n",
              "      <td>0.0</td>\n",
              "      <td>0.0</td>\n",
              "      <td>0.0</td>\n",
              "      <td>0.0</td>\n",
              "      <td>0.0</td>\n",
              "      <td>0.0</td>\n",
              "      <td>...</td>\n",
              "      <td>0.0</td>\n",
              "      <td>0.0</td>\n",
              "      <td>0.0</td>\n",
              "      <td>0.0</td>\n",
              "      <td>0.0</td>\n",
              "      <td>0.0</td>\n",
              "      <td>0.0</td>\n",
              "      <td>0.0</td>\n",
              "      <td>0.0</td>\n",
              "      <td>0.0</td>\n",
              "    </tr>\n",
              "    <tr>\n",
              "      <th>3</th>\n",
              "      <td>0.0</td>\n",
              "      <td>0.0</td>\n",
              "      <td>0.0</td>\n",
              "      <td>0.0</td>\n",
              "      <td>0.0</td>\n",
              "      <td>0.0</td>\n",
              "      <td>0.0</td>\n",
              "      <td>0.0</td>\n",
              "      <td>0.0</td>\n",
              "      <td>0.0</td>\n",
              "      <td>...</td>\n",
              "      <td>0.0</td>\n",
              "      <td>0.0</td>\n",
              "      <td>0.0</td>\n",
              "      <td>0.0</td>\n",
              "      <td>0.0</td>\n",
              "      <td>0.0</td>\n",
              "      <td>0.0</td>\n",
              "      <td>0.0</td>\n",
              "      <td>0.0</td>\n",
              "      <td>0.0</td>\n",
              "    </tr>\n",
              "    <tr>\n",
              "      <th>4</th>\n",
              "      <td>0.0</td>\n",
              "      <td>0.0</td>\n",
              "      <td>0.0</td>\n",
              "      <td>0.0</td>\n",
              "      <td>0.0</td>\n",
              "      <td>0.0</td>\n",
              "      <td>0.0</td>\n",
              "      <td>0.0</td>\n",
              "      <td>0.0</td>\n",
              "      <td>0.0</td>\n",
              "      <td>...</td>\n",
              "      <td>0.0</td>\n",
              "      <td>0.0</td>\n",
              "      <td>0.0</td>\n",
              "      <td>0.0</td>\n",
              "      <td>0.0</td>\n",
              "      <td>0.0</td>\n",
              "      <td>0.0</td>\n",
              "      <td>0.0</td>\n",
              "      <td>0.0</td>\n",
              "      <td>0.0</td>\n",
              "    </tr>\n",
              "  </tbody>\n",
              "</table>\n",
              "<p>5 rows × 104 columns</p>\n",
              "</div>\n",
              "      <button class=\"colab-df-convert\" onclick=\"convertToInteractive('df-342ff84b-7a81-411b-ad29-f274f8fe3c42')\"\n",
              "              title=\"Convert this dataframe to an interactive table.\"\n",
              "              style=\"display:none;\">\n",
              "        \n",
              "  <svg xmlns=\"http://www.w3.org/2000/svg\" height=\"24px\"viewBox=\"0 0 24 24\"\n",
              "       width=\"24px\">\n",
              "    <path d=\"M0 0h24v24H0V0z\" fill=\"none\"/>\n",
              "    <path d=\"M18.56 5.44l.94 2.06.94-2.06 2.06-.94-2.06-.94-.94-2.06-.94 2.06-2.06.94zm-11 1L8.5 8.5l.94-2.06 2.06-.94-2.06-.94L8.5 2.5l-.94 2.06-2.06.94zm10 10l.94 2.06.94-2.06 2.06-.94-2.06-.94-.94-2.06-.94 2.06-2.06.94z\"/><path d=\"M17.41 7.96l-1.37-1.37c-.4-.4-.92-.59-1.43-.59-.52 0-1.04.2-1.43.59L10.3 9.45l-7.72 7.72c-.78.78-.78 2.05 0 2.83L4 21.41c.39.39.9.59 1.41.59.51 0 1.02-.2 1.41-.59l7.78-7.78 2.81-2.81c.8-.78.8-2.07 0-2.86zM5.41 20L4 18.59l7.72-7.72 1.47 1.35L5.41 20z\"/>\n",
              "  </svg>\n",
              "      </button>\n",
              "      \n",
              "  <style>\n",
              "    .colab-df-container {\n",
              "      display:flex;\n",
              "      flex-wrap:wrap;\n",
              "      gap: 12px;\n",
              "    }\n",
              "\n",
              "    .colab-df-convert {\n",
              "      background-color: #E8F0FE;\n",
              "      border: none;\n",
              "      border-radius: 50%;\n",
              "      cursor: pointer;\n",
              "      display: none;\n",
              "      fill: #1967D2;\n",
              "      height: 32px;\n",
              "      padding: 0 0 0 0;\n",
              "      width: 32px;\n",
              "    }\n",
              "\n",
              "    .colab-df-convert:hover {\n",
              "      background-color: #E2EBFA;\n",
              "      box-shadow: 0px 1px 2px rgba(60, 64, 67, 0.3), 0px 1px 3px 1px rgba(60, 64, 67, 0.15);\n",
              "      fill: #174EA6;\n",
              "    }\n",
              "\n",
              "    [theme=dark] .colab-df-convert {\n",
              "      background-color: #3B4455;\n",
              "      fill: #D2E3FC;\n",
              "    }\n",
              "\n",
              "    [theme=dark] .colab-df-convert:hover {\n",
              "      background-color: #434B5C;\n",
              "      box-shadow: 0px 1px 3px 1px rgba(0, 0, 0, 0.15);\n",
              "      filter: drop-shadow(0px 1px 2px rgba(0, 0, 0, 0.3));\n",
              "      fill: #FFFFFF;\n",
              "    }\n",
              "  </style>\n",
              "\n",
              "      <script>\n",
              "        const buttonEl =\n",
              "          document.querySelector('#df-342ff84b-7a81-411b-ad29-f274f8fe3c42 button.colab-df-convert');\n",
              "        buttonEl.style.display =\n",
              "          google.colab.kernel.accessAllowed ? 'block' : 'none';\n",
              "\n",
              "        async function convertToInteractive(key) {\n",
              "          const element = document.querySelector('#df-342ff84b-7a81-411b-ad29-f274f8fe3c42');\n",
              "          const dataTable =\n",
              "            await google.colab.kernel.invokeFunction('convertToInteractive',\n",
              "                                                     [key], {});\n",
              "          if (!dataTable) return;\n",
              "\n",
              "          const docLinkHtml = 'Like what you see? Visit the ' +\n",
              "            '<a target=\"_blank\" href=https://colab.research.google.com/notebooks/data_table.ipynb>data table notebook</a>'\n",
              "            + ' to learn more about interactive tables.';\n",
              "          element.innerHTML = '';\n",
              "          dataTable['output_type'] = 'display_data';\n",
              "          await google.colab.output.renderOutput(dataTable, element);\n",
              "          const docLink = document.createElement('div');\n",
              "          docLink.innerHTML = docLinkHtml;\n",
              "          element.appendChild(docLink);\n",
              "        }\n",
              "      </script>\n",
              "    </div>\n",
              "  </div>\n",
              "  "
            ]
          },
          "metadata": {},
          "execution_count": 12
        }
      ]
    },
    {
      "cell_type": "code",
      "metadata": {
        "id": "X7SB9iUz0mM6"
      },
      "source": [
        "samples = df.values"
      ],
      "execution_count": 13,
      "outputs": []
    },
    {
      "cell_type": "code",
      "metadata": {
        "id": "EEcw6ici0mM6",
        "colab": {
          "base_uri": "https://localhost:8080/",
          "height": 765
        },
        "outputId": "67645710-0954-41b0-fe7f-e01bbae70c0a"
      },
      "source": [
        "# Select the 0th row: digit\n",
        "digit = samples[0]\n",
        "\n",
        "# Print digit\n",
        "print(digit)\n",
        "\n",
        "# Reshape digit to a 13x8 array: bitmap\n",
        "bitmap = digit.reshape(13, 8)\n",
        "\n",
        "# Print bitmap\n",
        "print(bitmap)\n",
        "\n",
        "# Use plt.imshow to display bitmap\n",
        "plt.imshow(bitmap, cmap='gray', interpolation='nearest')\n",
        "plt.colorbar()"
      ],
      "execution_count": 14,
      "outputs": [
        {
          "output_type": "stream",
          "name": "stdout",
          "text": [
            "[0. 0. 0. 0. 0. 0. 0. 0. 0. 0. 1. 1. 1. 1. 0. 0. 0. 0. 0. 0. 0. 0. 1. 0.\n",
            " 0. 0. 0. 0. 0. 0. 1. 0. 0. 0. 0. 0. 0. 0. 1. 0. 0. 0. 0. 0. 0. 0. 1. 0.\n",
            " 0. 0. 0. 0. 0. 0. 0. 0. 0. 0. 0. 0. 0. 0. 1. 0. 0. 0. 0. 0. 0. 0. 1. 0.\n",
            " 0. 0. 0. 0. 0. 0. 1. 0. 0. 0. 0. 0. 0. 0. 1. 0. 0. 0. 0. 0. 0. 0. 0. 0.\n",
            " 0. 0. 0. 0. 0. 0. 0. 0.]\n",
            "[[0. 0. 0. 0. 0. 0. 0. 0.]\n",
            " [0. 0. 1. 1. 1. 1. 0. 0.]\n",
            " [0. 0. 0. 0. 0. 0. 1. 0.]\n",
            " [0. 0. 0. 0. 0. 0. 1. 0.]\n",
            " [0. 0. 0. 0. 0. 0. 1. 0.]\n",
            " [0. 0. 0. 0. 0. 0. 1. 0.]\n",
            " [0. 0. 0. 0. 0. 0. 0. 0.]\n",
            " [0. 0. 0. 0. 0. 0. 1. 0.]\n",
            " [0. 0. 0. 0. 0. 0. 1. 0.]\n",
            " [0. 0. 0. 0. 0. 0. 1. 0.]\n",
            " [0. 0. 0. 0. 0. 0. 1. 0.]\n",
            " [0. 0. 0. 0. 0. 0. 0. 0.]\n",
            " [0. 0. 0. 0. 0. 0. 0. 0.]]\n"
          ]
        },
        {
          "output_type": "execute_result",
          "data": {
            "text/plain": [
              "<matplotlib.colorbar.Colorbar at 0x7f982401f9d0>"
            ]
          },
          "metadata": {},
          "execution_count": 14
        },
        {
          "output_type": "display_data",
          "data": {
            "text/plain": [
              "<Figure size 640x480 with 2 Axes>"
            ],
            "image/png": "[encoded data removed]"
          },
          "metadata": {}
        }
      ]
    },
    {
      "cell_type": "markdown",
      "metadata": {
        "id": "BQWCc3pj0mM7"
      },
      "source": [
        "### NMF learns the parts of images\n",
        "Now use what you've learned about NMF to decompose the digits dataset. You are again given the digit images as a 2D array ```samples```. This time, you are also provided with a function ```show_as_image()``` that displays the image encoded by any 1D array:\n",
        "```python\n",
        "def show_as_image(sample):\n",
        "    bitmap = sample.reshape((13, 8))\n",
        "    plt.figure()\n",
        "    plt.imshow(bitmap, cmap='gray', interpolation='nearest')\n",
        "    plt.colorbar()\n",
        "    plt.show()\n",
        "```\n"
      ]
    },
    {
      "cell_type": "code",
      "metadata": {
        "id": "tWYpdPEN0mM8"
      },
      "source": [
        "def show_as_image(sample):\n",
        "    bitmap = sample.reshape((13, 8))\n",
        "    plt.figure()\n",
        "    plt.imshow(bitmap, cmap='gray', interpolation='nearest')\n",
        "    plt.colorbar()"
      ],
      "execution_count": 15,
      "outputs": []
    },
    {
      "cell_type": "code",
      "metadata": {
        "id": "c8ZuwZFn0mM8",
        "colab": {
          "base_uri": "https://localhost:8080/",
          "height": 1000
        },
        "outputId": "b7607414-da6f-456b-d02d-b69bbfea1af1"
      },
      "source": [
        "# Create an NMF model: model\n",
        "model = NMF(n_components=7)\n",
        "\n",
        "# Apply fit_transform to samples: features\n",
        "features = model.fit_transform(samples)\n",
        "\n",
        "# Call show_as_image on each component\n",
        "for component in model.components_:\n",
        "    show_as_image(component)\n",
        "\n",
        "# Assign the 0th row of features: digit_features\n",
        "digit_features = features[0]\n",
        "\n",
        "# Print digit_features\n",
        "print(digit_features)"
      ],
      "execution_count": 16,
      "outputs": [
        {
          "output_type": "stream",
          "name": "stdout",
          "text": [
            "[2.57347960e-01 0.00000000e+00 0.00000000e+00 3.94333376e-01\n",
            " 3.64045642e-01 0.00000000e+00 3.51281933e-14]\n"
          ]
        },
        {
          "output_type": "display_data",
          "data": {
            "text/plain": [
              "<Figure size 640x480 with 2 Axes>"
            ],
            "image/png": "[encoded data removed]"
          },
          "metadata": {}
        },
        {
          "output_type": "display_data",
          "data": {
            "text/plain": [
              "<Figure size 640x480 with 2 Axes>"
            ],
            "image/png": "[encoded data removed]"
          },
          "metadata": {}
        },
        {
          "output_type": "display_data",
          "data": {
            "text/plain": [
              "<Figure size 640x480 with 2 Axes>"
            ],
            "image/png": "[encoded data removed]"
          },
          "metadata": {}
        },
        {
          "output_type": "display_data",
          "data": {
            "text/plain": [
              "<Figure size 640x480 with 2 Axes>"
            ],
            "image/png": "[encoded data removed]"
          },
          "metadata": {}
        },
        {
          "output_type": "display_data",
          "data": {
            "text/plain": [
              "<Figure size 640x480 with 2 Axes>"
            ],
            "image/png": "[encoded data removed]"
          },
          "metadata": {}
        },
        {
          "output_type": "display_data",
          "data": {
            "text/plain": [
              "<Figure size 640x480 with 2 Axes>"
            ],
            "image/png": "[encoded data removed]"
          },
          "metadata": {}
        },
        {
          "output_type": "display_data",
          "data": {
            "text/plain": [
              "<Figure size 640x480 with 2 Axes>"
            ],
            "image/png": "[encoded data removed]"
          },
          "metadata": {}
        }
      ]
    },
    {
      "cell_type": "markdown",
      "metadata": {
        "id": "XoZFUjon0mM9"
      },
      "source": [
        "### PCA doesn't learn parts\n",
        "Unlike NMF, PCA doesn't learn the parts of things. Its components do not correspond to topics (in the case of documents) or to parts of images, when trained on images. Verify this for yourself by inspecting the components of a PCA model fit to the dataset of LED digit images from the previous exercise. The images are available as a 2D array ```samples```. Also available is a modified version of the ```show_as_image()``` function which colors a pixel red if the value is negative.\n",
        "\n",
        "After submitting the answer, notice that the components of PCA do not represent meaningful parts of images of LED digits!"
      ]
    },
    {
      "cell_type": "code",
      "metadata": {
        "id": "_oFVLtxU0mM9",
        "colab": {
          "base_uri": "https://localhost:8080/",
          "height": 1000
        },
        "outputId": "f00b39a8-9da0-48e8-bb6e-ac637863d7cb"
      },
      "source": [
        "from sklearn.decomposition import PCA\n",
        "\n",
        "# Createa PCA instance: model\n",
        "model = PCA(n_components=7)\n",
        "\n",
        "# Apply fit_transform to samples: features\n",
        "features = model.fit_transform(samples)\n",
        "\n",
        "# Call show_as_image on each component\n",
        "for component in model.components_:\n",
        "    show_as_image(component)"
      ],
      "execution_count": 17,
      "outputs": [
        {
          "output_type": "display_data",
          "data": {
            "text/plain": [
              "<Figure size 640x480 with 2 Axes>"
            ],
            "image/png": "[encoded data removed]"
          },
          "metadata": {}
        },
        {
          "output_type": "display_data",
          "data": {
            "text/plain": [
              "<Figure size 640x480 with 2 Axes>"
            ],
            "image/png": "[encoded data removed]"
          },
          "metadata": {}
        },
        {
          "output_type": "display_data",
          "data": {
            "text/plain": [
              "<Figure size 640x480 with 2 Axes>"
            ],
            "image/png": "[encoded data removed]"
          },
          "metadata": {}
        },
        {
          "output_type": "display_data",
          "data": {
            "text/plain": [
              "<Figure size 640x480 with 2 Axes>"
            ],
            "image/png": "[encoded data removed]"
          },
          "metadata": {}
        },
        {
          "output_type": "display_data",
          "data": {
            "text/plain": [
              "<Figure size 640x480 with 2 Axes>"
            ],
            "image/png": "[encoded data removed]"
          },
          "metadata": {}
        },
        {
          "output_type": "display_data",
          "data": {
            "text/plain": [
              "<Figure size 640x480 with 2 Axes>"
            ],
            "image/png": "[encoded data removed]"
          },
          "metadata": {}
        },
        {
          "output_type": "display_data",
          "data": {
            "text/plain": [
              "<Figure size 640x480 with 2 Axes>"
            ],
            "image/png": "[encoded data removed]"
          },
          "metadata": {}
        }
      ]
    },
    {
      "cell_type": "markdown",
      "metadata": {
        "id": "fd2tEXDD0mM-"
      },
      "source": [
        "## Building recommender systems using NMF\n",
        "- Finding similar articles\n",
        "    - Engineer at a large online newspaper\n",
        "    - Task: recommand articles similar to article being read by customer\n",
        "    - Similar articles should have similar topics\n",
        "- Strategy\n",
        "    - Apply NMF to the word-frequency array\n",
        "    - NMF feature values describe the topics, so similar documents have similar NMF feature values\n",
        "    - Compare NMF feature values?\n",
        "- Versions of articles\n",
        "    - Different versions of the same document have same topic proportions\n",
        "    - exact feature values may be different!\n",
        "        E.g., because one version uses many meaningless words\n",
        "    - But all versions lie on the same line through the origin\n",
        "- Cosine Similarity\n",
        "\n",
        "    - Uses the angle between the lines\n",
        "    - Higher values means more similar\n",
        "    - Maximum value is 1, when angle is 0 degrees\n",
        "\n",
        "![cosine similarity](https://www.oreilly.com/library/view/statistics-for-machine/9781788295758/assets/2b4a7a82-ad4c-4b2a-b808-e423a334de6f.png)"
      ]
    },
    {
      "cell_type": "markdown",
      "metadata": {
        "id": "xRRYXjfT0mM-"
      },
      "source": [
        "### Which articles are similar to 'Cristiano Ronaldo'?\n",
        "In the video, you learned how to use NMF features and the cosine similarity to find similar articles. Apply this to your NMF model for popular Wikipedia articles, by finding the articles most similar to the article about the footballer Cristiano Ronaldo. The NMF features you obtained earlier are available as ```nmf_features```, while ```titles``` is a list of the article titles."
      ]
    },
    {
      "cell_type": "code",
      "metadata": {
        "id": "qGNUhubG0mM_",
        "colab": {
          "base_uri": "https://localhost:8080/"
        },
        "outputId": "ee58a709-562c-4ff0-d246-b7e93b645000"
      },
      "source": [
        "from sklearn.preprocessing import normalize\n",
        "\n",
        "# Normalize the NMF features: norm_features\n",
        "norm_features = normalize(nmf_features)\n",
        "\n",
        "# Create a DataFrame: df\n",
        "df = pd.DataFrame(norm_features, index=titles)\n",
        "\n",
        "# Select the row corresponding to 'Cristiano Ronaldo': article\n",
        "article = df.loc['Cristiano Ronaldo']\n",
        "\n",
        "# Compute the dot products: similarities\n",
        "similarities = df.dot(article)\n",
        "\n",
        "# Display thouse with the largest cosine similarity\n",
        "print(similarities.nlargest())"
      ],
      "execution_count": 18,
      "outputs": [
        {
          "output_type": "stream",
          "name": "stdout",
          "text": [
            "Cristiano Ronaldo                1.000000\n",
            "Franck Ribéry                    0.999973\n",
            "Radamel Falcao                   0.999942\n",
            "Zlatan Ibrahimović               0.999942\n",
            "France national football team    0.999923\n",
            "dtype: float64\n"
          ]
        }
      ]
    },
    {
      "cell_type": "markdown",
      "metadata": {
        "id": "wEHTSiME0mM_"
      },
      "source": [
        "### Recommend musical artists part I\n",
        "In this exercise and the next, you'll use what you've learned about NMF to recommend popular music artists! You are given a sparse array ```artists``` whose rows correspond to artists and whose columns correspond to users. The entries give the number of times each artist was listened to by each user.\n",
        "\n",
        "In this exercise, build a pipeline and transform the array into normalized NMF features. The first step in the pipeline, ```MaxAbsScaler```, transforms the data so that all users have the same influence on the model, regardless of how many different artists they've listened to. In the next exercise, you'll use the resulting normalized NMF features for recommendation!"
      ]
    },
    {
      "cell_type": "markdown",
      "metadata": {
        "id": "oDsjJKTA0mNA"
      },
      "source": [
        "#### Preprocess"
      ]
    },
    {
      "cell_type": "code",
      "metadata": {
        "id": "6r2_kLtf0mNB"
      },
      "source": [
        "from scipy.sparse import coo_matrix\n",
        "\n",
        "df = pd.read_csv('Musical artists/scrobbler-small-sample.csv')\n",
        "artists1 = df.sort_values(['artist_offset', 'user_offset'], ascending=[True, True])\n",
        "row_ind = np.array(artists1['artist_offset'])\n",
        "col_ind = np.array(artists1['user_offset'])\n",
        "data1 = np.array(artists1['playcount'])\n",
        "artists = coo_matrix((data1, (row_ind, col_ind)))"
      ],
      "execution_count": 19,
      "outputs": []
    },
    {
      "cell_type": "code",
      "metadata": {
        "id": "-pmf_WcT0mNB",
        "colab": {
          "base_uri": "https://localhost:8080/"
        },
        "outputId": "3db7e22d-141b-4411-ea02-4e1976bf4314"
      },
      "source": [
        "artists"
      ],
      "execution_count": 20,
      "outputs": [
        {
          "output_type": "execute_result",
          "data": {
            "text/plain": [
              "<111x500 sparse matrix of type '<class 'numpy.int64'>'\n",
              "\twith 2894 stored elements in COOrdinate format>"
            ]
          },
          "metadata": {},
          "execution_count": 20
        }
      ]
    },
    {
      "cell_type": "code",
      "metadata": {
        "id": "LHuLmvRL0mNC"
      },
      "source": [
        "from sklearn.preprocessing import Normalizer, MaxAbsScaler\n",
        "from sklearn.pipeline import make_pipeline\n",
        "\n",
        "# Create a MaxAbsScaler: scaler\n",
        "scaler = MaxAbsScaler()\n",
        "\n",
        "# Create an NMF model: nmf\n",
        "nmf = NMF(n_components=20)\n",
        "\n",
        "# Create a Normalizer: normalizer\n",
        "normalizer = Normalizer()\n",
        "\n",
        "# Create a pipeline: pipeline\n",
        "pipeline = make_pipeline(scaler, nmf, normalizer)\n",
        "\n",
        "# Apply fit_transform to artists: norm_features\n",
        "norm_features = pipeline.fit_transform(artists)"
      ],
      "execution_count": 21,
      "outputs": []
    },
    {
      "cell_type": "markdown",
      "metadata": {
        "id": "opm4Gjfr0mNC"
      },
      "source": [
        "### Recommend musical artists part II\n",
        "Suppose you were a big fan of Bruce Springsteen - which other musicial artists might you like? Use your NMF features from the previous exercise and the cosine similarity to find similar musical artists. A solution to the previous exercise has been run, so ```norm_features``` is an array containing the normalized NMF features as rows. The names of the musical artists are available as the list ```artist_names```."
      ]
    },
    {
      "cell_type": "markdown",
      "metadata": {
        "id": "D7CKRN740mND"
      },
      "source": [
        "#### Preprocess"
      ]
    },
    {
      "cell_type": "code",
      "metadata": {
        "id": "CVdZK7BW0mND"
      },
      "source": [
        "df = pd.read_csv('Musical artists/artists.csv', header=None)\n",
        "artist_names = df.values.reshape(111).tolist()"
      ],
      "execution_count": 22,
      "outputs": []
    },
    {
      "cell_type": "code",
      "metadata": {
        "id": "VP4-XSVu0mND",
        "colab": {
          "base_uri": "https://localhost:8080/"
        },
        "outputId": "7889867c-8499-41b1-d1e2-db68fa3b4ece"
      },
      "source": [
        "artist_names"
      ],
      "execution_count": 23,
      "outputs": [
        {
          "output_type": "execute_result",
          "data": {
            "text/plain": [
              "['Massive Attack',\n",
              " 'Sublime',\n",
              " 'Beastie Boys',\n",
              " 'Neil Young',\n",
              " 'Dead Kennedys',\n",
              " 'Orbital',\n",
              " 'Miles Davis',\n",
              " 'Leonard Cohen',\n",
              " 'Van Morrison',\n",
              " 'NOFX',\n",
              " 'Rancid',\n",
              " 'Lamb',\n",
              " 'Korn',\n",
              " 'Dropkick Murphys',\n",
              " 'Bob Dylan',\n",
              " 'Eminem',\n",
              " 'Nirvana',\n",
              " 'Van Halen',\n",
              " 'Damien Rice',\n",
              " 'Elvis Costello',\n",
              " 'Everclear',\n",
              " 'Jimi Hendrix',\n",
              " 'PJ Harvey',\n",
              " 'Red Hot Chili Peppers',\n",
              " 'Ryan Adams',\n",
              " 'Soundgarden',\n",
              " 'The White Stripes',\n",
              " 'Madonna',\n",
              " 'Eric Clapton',\n",
              " 'Bob Marley',\n",
              " 'Dr. Dre',\n",
              " 'The Flaming Lips',\n",
              " 'Tom Waits',\n",
              " 'Moby',\n",
              " 'Cypress Hill',\n",
              " 'Garbage',\n",
              " 'Fear Factory',\n",
              " '50 Cent',\n",
              " 'Ani DiFranco',\n",
              " 'Matchbox Twenty',\n",
              " 'The Police',\n",
              " 'Eagles',\n",
              " 'Phish',\n",
              " 'Stone Temple Pilots',\n",
              " 'Black Sabbath',\n",
              " 'Britney Spears',\n",
              " 'Fatboy Slim',\n",
              " 'System of a Down',\n",
              " 'Simon & Garfunkel',\n",
              " 'Snoop Dogg',\n",
              " 'Aimee Mann',\n",
              " 'Less Than Jake',\n",
              " 'Rammstein',\n",
              " 'Reel Big Fish',\n",
              " 'The Prodigy',\n",
              " 'Pantera',\n",
              " 'Foo Fighters',\n",
              " 'The Beatles',\n",
              " 'Incubus',\n",
              " 'Audioslave',\n",
              " 'Bright Eyes',\n",
              " 'Machine Head',\n",
              " 'AC/DC',\n",
              " 'Dire Straits',\n",
              " 'Motörhead',\n",
              " 'Ramones',\n",
              " 'Slipknot',\n",
              " 'Me First and the Gimme Gimmes',\n",
              " 'Bruce Springsteen',\n",
              " 'Queens of the Stone Age',\n",
              " 'The Chemical Brothers',\n",
              " 'Bon Jovi',\n",
              " 'Goo Goo Dolls',\n",
              " 'Alice in Chains',\n",
              " 'Howard Shore',\n",
              " 'Barenaked Ladies',\n",
              " 'Anti-Flag',\n",
              " 'Nick Cave and the Bad Seeds',\n",
              " 'Static-X',\n",
              " 'Misfits',\n",
              " '2Pac',\n",
              " 'Sparta',\n",
              " 'Interpol',\n",
              " 'The Crystal Method',\n",
              " 'The Beach Boys',\n",
              " 'Goldfrapp',\n",
              " 'Bob Marley & the Wailers',\n",
              " 'Kylie Minogue',\n",
              " 'The Blood Brothers',\n",
              " 'Mirah',\n",
              " 'Ludacris',\n",
              " 'Snow Patrol',\n",
              " 'The Mars Volta',\n",
              " 'Yeah Yeah Yeahs',\n",
              " 'Iced Earth',\n",
              " 'Fiona Apple',\n",
              " 'Rilo Kiley',\n",
              " 'Rufus Wainwright',\n",
              " 'Flogging Molly',\n",
              " 'Hot Hot Heat',\n",
              " 'Dredg',\n",
              " 'Switchfoot',\n",
              " 'Tegan and Sara',\n",
              " 'Rage Against the Machine',\n",
              " 'Keane',\n",
              " 'Jet',\n",
              " 'Franz Ferdinand',\n",
              " 'The Postal Service',\n",
              " 'The Dresden Dolls',\n",
              " 'The Killers',\n",
              " 'Death From Above 1979']"
            ]
          },
          "metadata": {},
          "execution_count": 23
        }
      ]
    },
    {
      "cell_type": "code",
      "metadata": {
        "id": "4ke7WOQ-0mNE",
        "colab": {
          "base_uri": "https://localhost:8080/"
        },
        "outputId": "63aebb93-36d3-4634-fb92-4ace46b1faaa"
      },
      "source": [
        "# Createa DataFrame: df\n",
        "df = pd.DataFrame(norm_features, index=artist_names)\n",
        "\n",
        "# Select row of 'Bruce Springsteen': artist\n",
        "artist = df.loc['Bruce Springsteen']\n",
        "\n",
        "# Compute cosine similarities: similarities\n",
        "similarities = df.dot(artist)\n",
        "\n",
        "# Display those with highest cosine similarity\n",
        "print(similarities.nlargest())"
      ],
      "execution_count": 24,
      "outputs": [
        {
          "output_type": "stream",
          "name": "stdout",
          "text": [
            "Bruce Springsteen    1.000000\n",
            "Neil Young           0.955031\n",
            "Leonard Cohen        0.904907\n",
            "Bob Dylan            0.828210\n",
            "Van Morrison         0.823841\n",
            "dtype: float64\n"
          ]
        }
      ]
    },
    {
      "cell_type": "markdown",
      "source": [
        "#### $\\color{skyblue}{\\textbf{Connect with me:}}$\n",
        "\n",
        "\n",
        "[<img align=\"left\" src=\"https://cdn4.iconfinder.com/data/icons/social-media-icons-the-circle-set/48/twitter_circle-512.png\" width=\"32px\"/>][twitter]\n",
        "[<img align=\"left\" src=\"https://cdn-icons-png.flaticon.com/512/145/145807.png\" width=\"32px\"/>][linkedin]\n",
        "[<img align=\"left\" src=\"https://cdn2.iconfinder.com/data/icons/whcompare-blue-green-web-hosting-1/425/cdn-512.png\" width=\"32px\"/>][Portfolio]\n",
        "\n",
        "[twitter]: https://twitter.com/F4izy\n",
        "[linkedin]: https://www.linkedin.com/in/mohd-faizy/\n",
        "[Portfolio]: https://mohdfaizy.com/\n"
      ],
      "metadata": {
        "id": "PJk9P87iA8eZ"
      }
    }
  ]
}