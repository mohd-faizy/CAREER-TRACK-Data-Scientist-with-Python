{
  "nbformat": 4,
  "nbformat_minor": 0,
  "metadata": {
    "colab": {
      "provenance": [],
      "toc_visible": true
    },
    "kernelspec": {
      "name": "python3",
      "display_name": "Python 3"
    },
    "language_info": {
      "name": "python"
    }
  },
  "cells": [
    {
      "cell_type": "markdown",
      "source": [
        "# <center>**Working with Categorical Data in Pythonn🐍**</center>"
      ],
      "metadata": {
        "id": "SWtZYSlC45Ky"
      }
    },
    {
      "cell_type": "code",
      "source": [
        "import pandas as pd\n",
        "import numpy as np\n",
        "import seaborn as sns\n",
        "import matplotlib.pyplot as plt"
      ],
      "metadata": {
        "id": "3HE0AQkGDpPT"
      },
      "execution_count": 1,
      "outputs": []
    },
    {
      "cell_type": "code",
      "source": [
        "url_ShelterDogs = \"https://raw.githubusercontent.com/mohd-faizy/CAREER-TRACK-Data-Scientist-with-Python/main/12_Working_with_Categorical_Data_in_Python/_dataset/ShelterDogs.csv\"\n",
        "url_adult = \"https://raw.githubusercontent.com/mohd-faizy/CAREER-TRACK-Data-Scientist-with-Python/main/12_Working_with_Categorical_Data_in_Python/_dataset/adult.csv\"\n",
        "url_advertising_and_sales = \"https://raw.githubusercontent.com/mohd-faizy/CAREER-TRACK-Data-Scientist-with-Python/main/12_Working_with_Categorical_Data_in_Python/_dataset/advertising_and_sales_clean.csv\"\n",
        "url_cars = \"https://raw.githubusercontent.com/mohd-faizy/CAREER-TRACK-Data-Scientist-with-Python/main/12_Working_with_Categorical_Data_in_Python/_dataset/cars.csv\"\n",
        "url_diabetes = \"https://raw.githubusercontent.com/mohd-faizy/CAREER-TRACK-Data-Scientist-with-Python/main/12_Working_with_Categorical_Data_in_Python/_dataset/diabetes_clean.csv\"\n",
        "url_lasvegas_tripadvisor = \"https://raw.githubusercontent.com/mohd-faizy/CAREER-TRACK-Data-Scientist-with-Python/main/12_Working_with_Categorical_Data_in_Python/_dataset/lasvegas_tripadvisor.csv\"\n",
        "url_music_clean = \"https://raw.githubusercontent.com/mohd-faizy/CAREER-TRACK-Data-Scientist-with-Python/main/12_Working_with_Categorical_Data_in_Python/_dataset/music_clean.csv\"\n",
        "url_telecom_churn = \"https://raw.githubusercontent.com/mohd-faizy/CAREER-TRACK-Data-Scientist-with-Python/main/12_Working_with_Categorical_Data_in_Python/_dataset/telecom_churn_clean.csv\""
      ],
      "metadata": {
        "id": "wsVgQ-6SMCLk"
      },
      "execution_count": 2,
      "outputs": []
    },
    {
      "cell_type": "code",
      "source": [
        "data_url = [url_ShelterDogs, url_adult,  url_advertising_and_sales, url_cars, url_diabetes, url_lasvegas_tripadvisor, url_music_clean, url_telecom_churn]\n",
        "data_name = [\"ShelterDogs\", \"adult\", \"advertising_and_sales\", \"cars.csv\", \"diabetes_clean\", \"lasvegas_tripadvisor\", \"music_clean\", \"telecom_churn_clean\"]\n",
        "\n",
        "for name, url in zip(data_name, data_url):\n",
        "    df = pd.read_csv(url)\n",
        "    print(name)\n",
        "    print('-'*100)\n",
        "    display(df.columns)\n",
        "    print('\\n')"
      ],
      "metadata": {
        "colab": {
          "base_uri": "https://localhost:8080/",
          "height": 1000
        },
        "id": "z8-ojnb2EsDw",
        "outputId": "4a57bc96-55e2-4405-f5cc-5d6e36790344"
      },
      "execution_count": 3,
      "outputs": [
        {
          "output_type": "stream",
          "name": "stdout",
          "text": [
            "ShelterDogs\n",
            "----------------------------------------------------------------------------------------------------\n"
          ]
        },
        {
          "output_type": "display_data",
          "data": {
            "text/plain": [
              "Index(['ID', 'name', 'age', 'sex', 'breed', 'date_found', 'adoptable_from',\n",
              "       'posted', 'color', 'coat', 'size', 'neutered', 'housebroken',\n",
              "       'likes_people', 'likes_children', 'get_along_males',\n",
              "       'get_along_females', 'get_along_cats', 'keep_in'],\n",
              "      dtype='object')"
            ]
          },
          "metadata": {}
        },
        {
          "output_type": "stream",
          "name": "stdout",
          "text": [
            "\n",
            "\n",
            "adult\n",
            "----------------------------------------------------------------------------------------------------\n"
          ]
        },
        {
          "output_type": "display_data",
          "data": {
            "text/plain": [
              "Index(['Age', 'Workclass', 'fnlgwt', 'Education', 'Education Num',\n",
              "       'Marital Status', 'Occupation', 'Relationship', 'Race', 'Sex',\n",
              "       'Capital Gain', 'Capital Loss', 'Hours/Week', 'Country',\n",
              "       'Above/Below 50k'],\n",
              "      dtype='object')"
            ]
          },
          "metadata": {}
        },
        {
          "output_type": "stream",
          "name": "stdout",
          "text": [
            "\n",
            "\n",
            "advertising_and_sales\n",
            "----------------------------------------------------------------------------------------------------\n"
          ]
        },
        {
          "output_type": "display_data",
          "data": {
            "text/plain": [
              "Index(['tv', 'radio', 'social_media', 'influencer', 'sales'], dtype='object')"
            ]
          },
          "metadata": {}
        },
        {
          "output_type": "stream",
          "name": "stdout",
          "text": [
            "\n",
            "\n",
            "cars.csv\n",
            "----------------------------------------------------------------------------------------------------\n"
          ]
        },
        {
          "output_type": "display_data",
          "data": {
            "text/plain": [
              "Index(['manufacturer_name', 'model_name', 'transmission', 'color',\n",
              "       'odomengineeter_value', 'year_produced', '_fuel', 'engine_has_gas',\n",
              "       'engine_type', 'engine_capacity', 'body_type', 'has_warranty', 'state',\n",
              "       'drivetrain', 'price_usd', 'is_exchangeable', 'location_region',\n",
              "       'number_of_photos', 'up_counter', 'feature_0', 'feature_1', 'feature_2',\n",
              "       'feature_3', 'feature_4', 'feature_5', 'feature_6', 'feature_7',\n",
              "       'feature_8', 'feature_9', 'duration_listed'],\n",
              "      dtype='object')"
            ]
          },
          "metadata": {}
        },
        {
          "output_type": "stream",
          "name": "stdout",
          "text": [
            "\n",
            "\n",
            "diabetes_clean\n",
            "----------------------------------------------------------------------------------------------------\n"
          ]
        },
        {
          "output_type": "display_data",
          "data": {
            "text/plain": [
              "Index(['pregnancies', 'glucose', 'diastolic', 'triceps', 'insulin', 'bmi',\n",
              "       'dpf', 'age', 'diabetes'],\n",
              "      dtype='object')"
            ]
          },
          "metadata": {}
        },
        {
          "output_type": "stream",
          "name": "stdout",
          "text": [
            "\n",
            "\n",
            "lasvegas_tripadvisor\n",
            "----------------------------------------------------------------------------------------------------\n"
          ]
        },
        {
          "output_type": "display_data",
          "data": {
            "text/plain": [
              "Index(['User country', 'Nr. reviews', 'Nr. hotel reviews', 'Helpful votes',\n",
              "       'Score', 'Period of stay', 'Traveler type', 'Pool', 'Gym',\n",
              "       'Tennis court', 'Spa', 'Casino', 'Free internet', 'Hotel name',\n",
              "       'Hotel stars', 'Nr. rooms', 'User continent', 'Member years',\n",
              "       'Review month', 'Review weekday'],\n",
              "      dtype='object')"
            ]
          },
          "metadata": {}
        },
        {
          "output_type": "stream",
          "name": "stdout",
          "text": [
            "\n",
            "\n",
            "music_clean\n",
            "----------------------------------------------------------------------------------------------------\n"
          ]
        },
        {
          "output_type": "display_data",
          "data": {
            "text/plain": [
              "Index(['Unnamed: 0', 'popularity', 'acousticness', 'danceability',\n",
              "       'duration_ms', 'energy', 'instrumentalness', 'liveness', 'loudness',\n",
              "       'speechiness', 'tempo', 'valence', 'genre'],\n",
              "      dtype='object')"
            ]
          },
          "metadata": {}
        },
        {
          "output_type": "stream",
          "name": "stdout",
          "text": [
            "\n",
            "\n",
            "telecom_churn_clean\n",
            "----------------------------------------------------------------------------------------------------\n"
          ]
        },
        {
          "output_type": "display_data",
          "data": {
            "text/plain": [
              "Index(['Unnamed: 0', 'account_length', 'area_code', 'international_plan',\n",
              "       'voice_mail_plan', 'number_vmail_messages', 'total_day_minutes',\n",
              "       'total_day_calls', 'total_day_charge', 'total_eve_minutes',\n",
              "       'total_eve_calls', 'total_eve_charge', 'total_night_minutes',\n",
              "       'total_night_calls', 'total_night_charge', 'total_intl_minutes',\n",
              "       'total_intl_calls', 'total_intl_charge', 'customer_service_calls',\n",
              "       'churn'],\n",
              "      dtype='object')"
            ]
          },
          "metadata": {}
        },
        {
          "output_type": "stream",
          "name": "stdout",
          "text": [
            "\n",
            "\n"
          ]
        }
      ]
    },
    {
      "cell_type": "markdown",
      "source": [
        "## **1️⃣Introduction to Categorical Data**"
      ],
      "metadata": {
        "id": "rxK0-KhAgEo9"
      }
    },
    {
      "cell_type": "markdown",
      "source": [
        "### **Course introduction**\n",
        "\n",
        "\n"
      ],
      "metadata": {
        "id": "tLTn-rDZRnfk"
      }
    },
    {
      "cell_type": "markdown",
      "source": [
        "#### **Exploring a target variable**\n"
      ],
      "metadata": {
        "id": "Sv-doIN2YSTD"
      }
    },
    {
      "cell_type": "code",
      "source": [
        "adult = pd.read_csv(url_adult)\n",
        "adult.head(5)"
      ],
      "metadata": {
        "colab": {
          "base_uri": "https://localhost:8080/",
          "height": 206
        },
        "id": "NqvGZH1IvdyF",
        "outputId": "ebf70c76-6ebd-439a-88ae-20a42ed2c361"
      },
      "execution_count": 4,
      "outputs": [
        {
          "output_type": "execute_result",
          "data": {
            "text/plain": [
              "   Age          Workclass  fnlgwt   Education  Education Num  \\\n",
              "0   39          State-gov   77516   Bachelors             13   \n",
              "1   50   Self-emp-not-inc   83311   Bachelors             13   \n",
              "2   38            Private  215646     HS-grad              9   \n",
              "3   53            Private  234721        11th              7   \n",
              "4   28            Private  338409   Bachelors             13   \n",
              "\n",
              "        Marital Status          Occupation    Relationship    Race      Sex  \\\n",
              "0        Never-married        Adm-clerical   Not-in-family   White     Male   \n",
              "1   Married-civ-spouse     Exec-managerial         Husband   White     Male   \n",
              "2             Divorced   Handlers-cleaners   Not-in-family   White     Male   \n",
              "3   Married-civ-spouse   Handlers-cleaners         Husband   Black     Male   \n",
              "4   Married-civ-spouse      Prof-specialty            Wife   Black   Female   \n",
              "\n",
              "   Capital Gain  Capital Loss  Hours/Week         Country Above/Below 50k  \n",
              "0          2174             0          40   United-States           <=50K  \n",
              "1             0             0          13   United-States           <=50K  \n",
              "2             0             0          40   United-States           <=50K  \n",
              "3             0             0          40   United-States           <=50K  \n",
              "4             0             0          40            Cuba           <=50K  "
            ],
            "text/html": [
              "\n",
              "  <div id=\"df-42938d8d-4752-4c67-8bc6-b2d06132431f\">\n",
              "    <div class=\"colab-df-container\">\n",
              "      <div>\n",
              "<style scoped>\n",
              "    .dataframe tbody tr th:only-of-type {\n",
              "        vertical-align: middle;\n",
              "    }\n",
              "\n",
              "    .dataframe tbody tr th {\n",
              "        vertical-align: top;\n",
              "    }\n",
              "\n",
              "    .dataframe thead th {\n",
              "        text-align: right;\n",
              "    }\n",
              "</style>\n",
              "<table border=\"1\" class=\"dataframe\">\n",
              "  <thead>\n",
              "    <tr style=\"text-align: right;\">\n",
              "      <th></th>\n",
              "      <th>Age</th>\n",
              "      <th>Workclass</th>\n",
              "      <th>fnlgwt</th>\n",
              "      <th>Education</th>\n",
              "      <th>Education Num</th>\n",
              "      <th>Marital Status</th>\n",
              "      <th>Occupation</th>\n",
              "      <th>Relationship</th>\n",
              "      <th>Race</th>\n",
              "      <th>Sex</th>\n",
              "      <th>Capital Gain</th>\n",
              "      <th>Capital Loss</th>\n",
              "      <th>Hours/Week</th>\n",
              "      <th>Country</th>\n",
              "      <th>Above/Below 50k</th>\n",
              "    </tr>\n",
              "  </thead>\n",
              "  <tbody>\n",
              "    <tr>\n",
              "      <th>0</th>\n",
              "      <td>39</td>\n",
              "      <td>State-gov</td>\n",
              "      <td>77516</td>\n",
              "      <td>Bachelors</td>\n",
              "      <td>13</td>\n",
              "      <td>Never-married</td>\n",
              "      <td>Adm-clerical</td>\n",
              "      <td>Not-in-family</td>\n",
              "      <td>White</td>\n",
              "      <td>Male</td>\n",
              "      <td>2174</td>\n",
              "      <td>0</td>\n",
              "      <td>40</td>\n",
              "      <td>United-States</td>\n",
              "      <td>&lt;=50K</td>\n",
              "    </tr>\n",
              "    <tr>\n",
              "      <th>1</th>\n",
              "      <td>50</td>\n",
              "      <td>Self-emp-not-inc</td>\n",
              "      <td>83311</td>\n",
              "      <td>Bachelors</td>\n",
              "      <td>13</td>\n",
              "      <td>Married-civ-spouse</td>\n",
              "      <td>Exec-managerial</td>\n",
              "      <td>Husband</td>\n",
              "      <td>White</td>\n",
              "      <td>Male</td>\n",
              "      <td>0</td>\n",
              "      <td>0</td>\n",
              "      <td>13</td>\n",
              "      <td>United-States</td>\n",
              "      <td>&lt;=50K</td>\n",
              "    </tr>\n",
              "    <tr>\n",
              "      <th>2</th>\n",
              "      <td>38</td>\n",
              "      <td>Private</td>\n",
              "      <td>215646</td>\n",
              "      <td>HS-grad</td>\n",
              "      <td>9</td>\n",
              "      <td>Divorced</td>\n",
              "      <td>Handlers-cleaners</td>\n",
              "      <td>Not-in-family</td>\n",
              "      <td>White</td>\n",
              "      <td>Male</td>\n",
              "      <td>0</td>\n",
              "      <td>0</td>\n",
              "      <td>40</td>\n",
              "      <td>United-States</td>\n",
              "      <td>&lt;=50K</td>\n",
              "    </tr>\n",
              "    <tr>\n",
              "      <th>3</th>\n",
              "      <td>53</td>\n",
              "      <td>Private</td>\n",
              "      <td>234721</td>\n",
              "      <td>11th</td>\n",
              "      <td>7</td>\n",
              "      <td>Married-civ-spouse</td>\n",
              "      <td>Handlers-cleaners</td>\n",
              "      <td>Husband</td>\n",
              "      <td>Black</td>\n",
              "      <td>Male</td>\n",
              "      <td>0</td>\n",
              "      <td>0</td>\n",
              "      <td>40</td>\n",
              "      <td>United-States</td>\n",
              "      <td>&lt;=50K</td>\n",
              "    </tr>\n",
              "    <tr>\n",
              "      <th>4</th>\n",
              "      <td>28</td>\n",
              "      <td>Private</td>\n",
              "      <td>338409</td>\n",
              "      <td>Bachelors</td>\n",
              "      <td>13</td>\n",
              "      <td>Married-civ-spouse</td>\n",
              "      <td>Prof-specialty</td>\n",
              "      <td>Wife</td>\n",
              "      <td>Black</td>\n",
              "      <td>Female</td>\n",
              "      <td>0</td>\n",
              "      <td>0</td>\n",
              "      <td>40</td>\n",
              "      <td>Cuba</td>\n",
              "      <td>&lt;=50K</td>\n",
              "    </tr>\n",
              "  </tbody>\n",
              "</table>\n",
              "</div>\n",
              "      <button class=\"colab-df-convert\" onclick=\"convertToInteractive('df-42938d8d-4752-4c67-8bc6-b2d06132431f')\"\n",
              "              title=\"Convert this dataframe to an interactive table.\"\n",
              "              style=\"display:none;\">\n",
              "        \n",
              "  <svg xmlns=\"http://www.w3.org/2000/svg\" height=\"24px\"viewBox=\"0 0 24 24\"\n",
              "       width=\"24px\">\n",
              "    <path d=\"M0 0h24v24H0V0z\" fill=\"none\"/>\n",
              "    <path d=\"M18.56 5.44l.94 2.06.94-2.06 2.06-.94-2.06-.94-.94-2.06-.94 2.06-2.06.94zm-11 1L8.5 8.5l.94-2.06 2.06-.94-2.06-.94L8.5 2.5l-.94 2.06-2.06.94zm10 10l.94 2.06.94-2.06 2.06-.94-2.06-.94-.94-2.06-.94 2.06-2.06.94z\"/><path d=\"M17.41 7.96l-1.37-1.37c-.4-.4-.92-.59-1.43-.59-.52 0-1.04.2-1.43.59L10.3 9.45l-7.72 7.72c-.78.78-.78 2.05 0 2.83L4 21.41c.39.39.9.59 1.41.59.51 0 1.02-.2 1.41-.59l7.78-7.78 2.81-2.81c.8-.78.8-2.07 0-2.86zM5.41 20L4 18.59l7.72-7.72 1.47 1.35L5.41 20z\"/>\n",
              "  </svg>\n",
              "      </button>\n",
              "      \n",
              "  <style>\n",
              "    .colab-df-container {\n",
              "      display:flex;\n",
              "      flex-wrap:wrap;\n",
              "      gap: 12px;\n",
              "    }\n",
              "\n",
              "    .colab-df-convert {\n",
              "      background-color: #E8F0FE;\n",
              "      border: none;\n",
              "      border-radius: 50%;\n",
              "      cursor: pointer;\n",
              "      display: none;\n",
              "      fill: #1967D2;\n",
              "      height: 32px;\n",
              "      padding: 0 0 0 0;\n",
              "      width: 32px;\n",
              "    }\n",
              "\n",
              "    .colab-df-convert:hover {\n",
              "      background-color: #E2EBFA;\n",
              "      box-shadow: 0px 1px 2px rgba(60, 64, 67, 0.3), 0px 1px 3px 1px rgba(60, 64, 67, 0.15);\n",
              "      fill: #174EA6;\n",
              "    }\n",
              "\n",
              "    [theme=dark] .colab-df-convert {\n",
              "      background-color: #3B4455;\n",
              "      fill: #D2E3FC;\n",
              "    }\n",
              "\n",
              "    [theme=dark] .colab-df-convert:hover {\n",
              "      background-color: #434B5C;\n",
              "      box-shadow: 0px 1px 3px 1px rgba(0, 0, 0, 0.15);\n",
              "      filter: drop-shadow(0px 1px 2px rgba(0, 0, 0, 0.3));\n",
              "      fill: #FFFFFF;\n",
              "    }\n",
              "  </style>\n",
              "\n",
              "      <script>\n",
              "        const buttonEl =\n",
              "          document.querySelector('#df-42938d8d-4752-4c67-8bc6-b2d06132431f button.colab-df-convert');\n",
              "        buttonEl.style.display =\n",
              "          google.colab.kernel.accessAllowed ? 'block' : 'none';\n",
              "\n",
              "        async function convertToInteractive(key) {\n",
              "          const element = document.querySelector('#df-42938d8d-4752-4c67-8bc6-b2d06132431f');\n",
              "          const dataTable =\n",
              "            await google.colab.kernel.invokeFunction('convertToInteractive',\n",
              "                                                     [key], {});\n",
              "          if (!dataTable) return;\n",
              "\n",
              "          const docLinkHtml = 'Like what you see? Visit the ' +\n",
              "            '<a target=\"_blank\" href=https://colab.research.google.com/notebooks/data_table.ipynb>data table notebook</a>'\n",
              "            + ' to learn more about interactive tables.';\n",
              "          element.innerHTML = '';\n",
              "          dataTable['output_type'] = 'display_data';\n",
              "          await google.colab.output.renderOutput(dataTable, element);\n",
              "          const docLink = document.createElement('div');\n",
              "          docLink.innerHTML = docLinkHtml;\n",
              "          element.appendChild(docLink);\n",
              "        }\n",
              "      </script>\n",
              "    </div>\n",
              "  </div>\n",
              "  "
            ]
          },
          "metadata": {},
          "execution_count": 4
        }
      ]
    },
    {
      "cell_type": "code",
      "source": [
        "# Explore the Above/Below 50k variable\n",
        "print(adult[\"Above/Below 50k\"].describe())\n",
        "print(\"\\n\")\n",
        "\n",
        "# Print a frequency table of \"Above/Below 50k\"\n",
        "print(adult[\"Above/Below 50k\"].value_counts())\n",
        "print(\"\\n\")\n",
        "\n",
        "# Print relative frequency values\n",
        "print(adult[\"Above/Below 50k\"].value_counts(normalize=True))"
      ],
      "metadata": {
        "colab": {
          "base_uri": "https://localhost:8080/"
        },
        "id": "2xjy3E6KvXKr",
        "outputId": "ada0d2c8-bf5c-44ce-8dc0-353460c7f212"
      },
      "execution_count": 5,
      "outputs": [
        {
          "output_type": "stream",
          "name": "stdout",
          "text": [
            "count      32561\n",
            "unique         2\n",
            "top        <=50K\n",
            "freq       24720\n",
            "Name: Above/Below 50k, dtype: object\n",
            "\n",
            "\n",
            " <=50K    24720\n",
            " >50K      7841\n",
            "Name: Above/Below 50k, dtype: int64\n",
            "\n",
            "\n",
            " <=50K    0.75919\n",
            " >50K     0.24081\n",
            "Name: Above/Below 50k, dtype: float64\n"
          ]
        }
      ]
    },
    {
      "cell_type": "markdown",
      "source": [
        "### **Categorical data in pandas**\n"
      ],
      "metadata": {
        "id": "6GE0e2SEYU-M"
      }
    },
    {
      "cell_type": "markdown",
      "source": [
        "#### **Setting dtypes and saving memory**\n"
      ],
      "metadata": {
        "id": "3SoJ3CY_YWUT"
      }
    },
    {
      "cell_type": "code",
      "source": [
        "import random\n",
        "import pandas as pd\n",
        "\n",
        "# Generate a sample dataset of occupations\n",
        "occupations = ['Data Scientist', 'Data Analyst', 'Statistician']\n",
        "list_of_occupations = [random.choice(occupations) for _ in range(1000)]\n",
        "print(list_of_occupations[:10])\n",
        "print(\"\\n\")\n",
        "\n",
        "# Create a Series, default dtype\n",
        "series1 = pd.Series(list_of_occupations)\n",
        "display(series1.head(2))\n",
        "print(\"\\n\")\n",
        "\n",
        "# Print out the data type and number of bytes for series1\n",
        "print(\"series1 data type:\", series1.dtype)\n",
        "print(\"series1 number of bytes:\", series1.nbytes)\n",
        "print(\"\\n\")\n",
        "\n",
        "# Create a Series, \"category\" dtype\n",
        "series2 = pd.Series(list_of_occupations, dtype=\"category\")\n",
        "\n",
        "# Print out the data type and number of bytes for series2\n",
        "print(\"series2 data type:\", series2.dtype)\n",
        "print(\"series2 number of bytes:\", series2.nbytes)"
      ],
      "metadata": {
        "colab": {
          "base_uri": "https://localhost:8080/",
          "height": 260
        },
        "id": "4v6A0yRxBeoV",
        "outputId": "6ef6bba4-044c-47b6-9a1b-24570b88a712"
      },
      "execution_count": 6,
      "outputs": [
        {
          "output_type": "stream",
          "name": "stdout",
          "text": [
            "['Statistician', 'Data Analyst', 'Data Scientist', 'Data Scientist', 'Data Scientist', 'Data Analyst', 'Data Analyst', 'Data Scientist', 'Data Analyst', 'Statistician']\n",
            "\n",
            "\n"
          ]
        },
        {
          "output_type": "display_data",
          "data": {
            "text/plain": [
              "0    Statistician\n",
              "1    Data Analyst\n",
              "dtype: object"
            ]
          },
          "metadata": {}
        },
        {
          "output_type": "stream",
          "name": "stdout",
          "text": [
            "\n",
            "\n",
            "series1 data type: object\n",
            "series1 number of bytes: 8000\n",
            "\n",
            "\n",
            "series2 data type: category\n",
            "series2 number of bytes: 1024\n"
          ]
        }
      ]
    },
    {
      "cell_type": "markdown",
      "source": [
        "**Note:** The code shows that using the `\"category\"` data type (series2) significantly reduces memory usage compared to the default data type (object) used for series1."
      ],
      "metadata": {
        "id": "koqXnTncfAvg"
      }
    },
    {
      "cell_type": "markdown",
      "source": [
        "#### **Creating a categorical pandas Series**\n"
      ],
      "metadata": {
        "id": "aPtjsxZHYYPL"
      }
    },
    {
      "cell_type": "code",
      "source": [
        "import random\n",
        "import pandas as pd\n",
        "\n",
        "# Define a list of available medal types\n",
        "medals = ['Gold', 'Silver', 'Bronze',]\n",
        "# Generate a sample dataset of 1000 medals won\n",
        "medals_won = [random.choice(medals) for _ in range(1000)]\n",
        "\n",
        "#Create a categorical Series and specify the categories ('Bronze'<'Silver'<'Gold')\n",
        "medals = pd.Categorical(medals_won, categories=['Bronze','Silver','Gold'], ordered=True)\n",
        "print(medals)"
      ],
      "metadata": {
        "colab": {
          "base_uri": "https://localhost:8080/"
        },
        "id": "QxW2kENcCj-A",
        "outputId": "00ba80c2-07ae-4e2f-ce9c-80405a8cf422"
      },
      "execution_count": 7,
      "outputs": [
        {
          "output_type": "stream",
          "name": "stdout",
          "text": [
            "['Silver', 'Silver', 'Silver', 'Bronze', 'Gold', ..., 'Gold', 'Bronze', 'Bronze', 'Gold', 'Gold']\n",
            "Length: 1000\n",
            "Categories (3, object): ['Bronze' < 'Silver' < 'Gold']\n"
          ]
        }
      ]
    },
    {
      "cell_type": "markdown",
      "source": [
        "#### **Setting dtype when reading data**\n"
      ],
      "metadata": {
        "id": "rlriTpCeYZvt"
      }
    },
    {
      "cell_type": "code",
      "source": [
        "# Check the dtypes\n",
        "print(adult.dtypes)\n",
        "print(\"\\n\")\n",
        "\n",
        "# Create a dictionary with column names as keys and \"category\" as values\n",
        "adult_dtypes = {\n",
        "   \"Workclass\": \"category\",\n",
        "   \"Education\": \"category\",\n",
        "   \"Relationship\": \"category\",\n",
        "   \"Above/Below 50k\": \"category\" \n",
        "}\n",
        "\n",
        "# Read in the CSV using the dtypes parameter\n",
        "adult2 = pd.read_csv(url_adult, dtype=adult_dtypes)\n",
        "print(adult2.dtypes)"
      ],
      "metadata": {
        "colab": {
          "base_uri": "https://localhost:8080/"
        },
        "id": "qmWobRS6D2dF",
        "outputId": "dcc42d25-60b4-4f28-a75c-26137a236cd9"
      },
      "execution_count": 8,
      "outputs": [
        {
          "output_type": "stream",
          "name": "stdout",
          "text": [
            "Age                 int64\n",
            "Workclass          object\n",
            "fnlgwt              int64\n",
            "Education          object\n",
            "Education Num       int64\n",
            "Marital Status     object\n",
            "Occupation         object\n",
            "Relationship       object\n",
            "Race               object\n",
            "Sex                object\n",
            "Capital Gain        int64\n",
            "Capital Loss        int64\n",
            "Hours/Week          int64\n",
            "Country            object\n",
            "Above/Below 50k    object\n",
            "dtype: object\n",
            "\n",
            "\n",
            "Age                   int64\n",
            "Workclass          category\n",
            "fnlgwt                int64\n",
            "Education          category\n",
            "Education Num         int64\n",
            "Marital Status       object\n",
            "Occupation           object\n",
            "Relationship       category\n",
            "Race                 object\n",
            "Sex                  object\n",
            "Capital Gain          int64\n",
            "Capital Loss          int64\n",
            "Hours/Week            int64\n",
            "Country              object\n",
            "Above/Below 50k    category\n",
            "dtype: object\n"
          ]
        }
      ]
    },
    {
      "cell_type": "markdown",
      "source": [
        "### **Grouping data by category in pandas**\n"
      ],
      "metadata": {
        "id": "FkKj2HWeYbKb"
      }
    },
    {
      "cell_type": "markdown",
      "source": [
        "#### **Create lots of groups**\n"
      ],
      "metadata": {
        "id": "SoCFm5S9YclT"
      }
    },
    {
      "cell_type": "code",
      "source": [
        "gb = adult.groupby(by=[\"Workclass\", \"Above/Below 50k\", \"Education\"])\n",
        "count_values = gb.size()\n",
        "print(count_values)"
      ],
      "metadata": {
        "colab": {
          "base_uri": "https://localhost:8080/"
        },
        "id": "YEAP9veEGbTg",
        "outputId": "2d513b13-964a-4b76-8af4-569f54146dc7"
      },
      "execution_count": 9,
      "outputs": [
        {
          "output_type": "stream",
          "name": "stdout",
          "text": [
            "Workclass     Above/Below 50k  Education    \n",
            " ?             <=50K            10th             98\n",
            "                                11th            118\n",
            "                                12th             38\n",
            "                                1st-4th          12\n",
            "                                5th-6th          28\n",
            "                                               ... \n",
            " State-gov     >50K             Some-college     31\n",
            " Without-pay   <=50K            7th-8th           1\n",
            "                                Assoc-acdm        1\n",
            "                                HS-grad           9\n",
            "                                Some-college      3\n",
            "Length: 208, dtype: int64\n"
          ]
        }
      ]
    },
    {
      "cell_type": "markdown",
      "source": [
        "#### **Setting up a `.groupby()` statement**\n"
      ],
      "metadata": {
        "id": "ZJDNzEZqYd77"
      }
    },
    {
      "cell_type": "code",
      "source": [
        "# Group the adult dataset by \"Sex\" and \"Above/Below 50k\"\n",
        "gb = adult.groupby(by=['Sex','Above/Below 50k'])\n",
        "\n",
        "# Print out how many rows are in each created group\n",
        "print(gb.size())\n",
        "print(\"\\n\")\n",
        "\n",
        "# Print out the mean of each group for all columns\n",
        "display(gb.mean())"
      ],
      "metadata": {
        "colab": {
          "base_uri": "https://localhost:8080/",
          "height": 400
        },
        "id": "SpqFhiniGSjq",
        "outputId": "b02a40b9-4ba3-4ea0-fb63-1b824bf31d02"
      },
      "execution_count": 10,
      "outputs": [
        {
          "output_type": "stream",
          "name": "stdout",
          "text": [
            "Sex      Above/Below 50k\n",
            " Female   <=50K              9592\n",
            "          >50K               1179\n",
            " Male     <=50K             15128\n",
            "          >50K               6662\n",
            "dtype: int64\n",
            "\n",
            "\n"
          ]
        },
        {
          "output_type": "stream",
          "name": "stderr",
          "text": [
            "<ipython-input-10-9dc0d80cb3ec>:9: FutureWarning: The default value of numeric_only in DataFrameGroupBy.mean is deprecated. In a future version, numeric_only will default to False. Either specify numeric_only or select only columns which should be valid for the function.\n",
            "  display(gb.mean())\n"
          ]
        },
        {
          "output_type": "display_data",
          "data": {
            "text/plain": [
              "                               Age         fnlgwt  Education Num  \\\n",
              "Sex     Above/Below 50k                                            \n",
              " Female  <=50K           36.210801  185999.381359       9.820475   \n",
              "         >50K            42.125530  183687.406277      11.787108   \n",
              " Male    <=50K           37.147012  193093.609268       9.452142   \n",
              "         >50K            44.625788  188769.101321      11.580606   \n",
              "\n",
              "                         Capital Gain  Capital Loss  Hours/Week  \n",
              "Sex     Above/Below 50k                                          \n",
              " Female  <=50K             121.986134     47.364470   35.916701  \n",
              "         >50K             4200.389313    173.648855   40.426633  \n",
              " Male    <=50K             165.723823     56.806782   40.693879  \n",
              "         >50K             3971.765836    198.780396   46.366106  "
            ],
            "text/html": [
              "\n",
              "  <div id=\"df-aef852c9-6afc-4264-968a-8a5389389977\">\n",
              "    <div class=\"colab-df-container\">\n",
              "      <div>\n",
              "<style scoped>\n",
              "    .dataframe tbody tr th:only-of-type {\n",
              "        vertical-align: middle;\n",
              "    }\n",
              "\n",
              "    .dataframe tbody tr th {\n",
              "        vertical-align: top;\n",
              "    }\n",
              "\n",
              "    .dataframe thead th {\n",
              "        text-align: right;\n",
              "    }\n",
              "</style>\n",
              "<table border=\"1\" class=\"dataframe\">\n",
              "  <thead>\n",
              "    <tr style=\"text-align: right;\">\n",
              "      <th></th>\n",
              "      <th></th>\n",
              "      <th>Age</th>\n",
              "      <th>fnlgwt</th>\n",
              "      <th>Education Num</th>\n",
              "      <th>Capital Gain</th>\n",
              "      <th>Capital Loss</th>\n",
              "      <th>Hours/Week</th>\n",
              "    </tr>\n",
              "    <tr>\n",
              "      <th>Sex</th>\n",
              "      <th>Above/Below 50k</th>\n",
              "      <th></th>\n",
              "      <th></th>\n",
              "      <th></th>\n",
              "      <th></th>\n",
              "      <th></th>\n",
              "      <th></th>\n",
              "    </tr>\n",
              "  </thead>\n",
              "  <tbody>\n",
              "    <tr>\n",
              "      <th rowspan=\"2\" valign=\"top\">Female</th>\n",
              "      <th>&lt;=50K</th>\n",
              "      <td>36.210801</td>\n",
              "      <td>185999.381359</td>\n",
              "      <td>9.820475</td>\n",
              "      <td>121.986134</td>\n",
              "      <td>47.364470</td>\n",
              "      <td>35.916701</td>\n",
              "    </tr>\n",
              "    <tr>\n",
              "      <th>&gt;50K</th>\n",
              "      <td>42.125530</td>\n",
              "      <td>183687.406277</td>\n",
              "      <td>11.787108</td>\n",
              "      <td>4200.389313</td>\n",
              "      <td>173.648855</td>\n",
              "      <td>40.426633</td>\n",
              "    </tr>\n",
              "    <tr>\n",
              "      <th rowspan=\"2\" valign=\"top\">Male</th>\n",
              "      <th>&lt;=50K</th>\n",
              "      <td>37.147012</td>\n",
              "      <td>193093.609268</td>\n",
              "      <td>9.452142</td>\n",
              "      <td>165.723823</td>\n",
              "      <td>56.806782</td>\n",
              "      <td>40.693879</td>\n",
              "    </tr>\n",
              "    <tr>\n",
              "      <th>&gt;50K</th>\n",
              "      <td>44.625788</td>\n",
              "      <td>188769.101321</td>\n",
              "      <td>11.580606</td>\n",
              "      <td>3971.765836</td>\n",
              "      <td>198.780396</td>\n",
              "      <td>46.366106</td>\n",
              "    </tr>\n",
              "  </tbody>\n",
              "</table>\n",
              "</div>\n",
              "      <button class=\"colab-df-convert\" onclick=\"convertToInteractive('df-aef852c9-6afc-4264-968a-8a5389389977')\"\n",
              "              title=\"Convert this dataframe to an interactive table.\"\n",
              "              style=\"display:none;\">\n",
              "        \n",
              "  <svg xmlns=\"http://www.w3.org/2000/svg\" height=\"24px\"viewBox=\"0 0 24 24\"\n",
              "       width=\"24px\">\n",
              "    <path d=\"M0 0h24v24H0V0z\" fill=\"none\"/>\n",
              "    <path d=\"M18.56 5.44l.94 2.06.94-2.06 2.06-.94-2.06-.94-.94-2.06-.94 2.06-2.06.94zm-11 1L8.5 8.5l.94-2.06 2.06-.94-2.06-.94L8.5 2.5l-.94 2.06-2.06.94zm10 10l.94 2.06.94-2.06 2.06-.94-2.06-.94-.94-2.06-.94 2.06-2.06.94z\"/><path d=\"M17.41 7.96l-1.37-1.37c-.4-.4-.92-.59-1.43-.59-.52 0-1.04.2-1.43.59L10.3 9.45l-7.72 7.72c-.78.78-.78 2.05 0 2.83L4 21.41c.39.39.9.59 1.41.59.51 0 1.02-.2 1.41-.59l7.78-7.78 2.81-2.81c.8-.78.8-2.07 0-2.86zM5.41 20L4 18.59l7.72-7.72 1.47 1.35L5.41 20z\"/>\n",
              "  </svg>\n",
              "      </button>\n",
              "      \n",
              "  <style>\n",
              "    .colab-df-container {\n",
              "      display:flex;\n",
              "      flex-wrap:wrap;\n",
              "      gap: 12px;\n",
              "    }\n",
              "\n",
              "    .colab-df-convert {\n",
              "      background-color: #E8F0FE;\n",
              "      border: none;\n",
              "      border-radius: 50%;\n",
              "      cursor: pointer;\n",
              "      display: none;\n",
              "      fill: #1967D2;\n",
              "      height: 32px;\n",
              "      padding: 0 0 0 0;\n",
              "      width: 32px;\n",
              "    }\n",
              "\n",
              "    .colab-df-convert:hover {\n",
              "      background-color: #E2EBFA;\n",
              "      box-shadow: 0px 1px 2px rgba(60, 64, 67, 0.3), 0px 1px 3px 1px rgba(60, 64, 67, 0.15);\n",
              "      fill: #174EA6;\n",
              "    }\n",
              "\n",
              "    [theme=dark] .colab-df-convert {\n",
              "      background-color: #3B4455;\n",
              "      fill: #D2E3FC;\n",
              "    }\n",
              "\n",
              "    [theme=dark] .colab-df-convert:hover {\n",
              "      background-color: #434B5C;\n",
              "      box-shadow: 0px 1px 3px 1px rgba(0, 0, 0, 0.15);\n",
              "      filter: drop-shadow(0px 1px 2px rgba(0, 0, 0, 0.3));\n",
              "      fill: #FFFFFF;\n",
              "    }\n",
              "  </style>\n",
              "\n",
              "      <script>\n",
              "        const buttonEl =\n",
              "          document.querySelector('#df-aef852c9-6afc-4264-968a-8a5389389977 button.colab-df-convert');\n",
              "        buttonEl.style.display =\n",
              "          google.colab.kernel.accessAllowed ? 'block' : 'none';\n",
              "\n",
              "        async function convertToInteractive(key) {\n",
              "          const element = document.querySelector('#df-aef852c9-6afc-4264-968a-8a5389389977');\n",
              "          const dataTable =\n",
              "            await google.colab.kernel.invokeFunction('convertToInteractive',\n",
              "                                                     [key], {});\n",
              "          if (!dataTable) return;\n",
              "\n",
              "          const docLinkHtml = 'Like what you see? Visit the ' +\n",
              "            '<a target=\"_blank\" href=https://colab.research.google.com/notebooks/data_table.ipynb>data table notebook</a>'\n",
              "            + ' to learn more about interactive tables.';\n",
              "          element.innerHTML = '';\n",
              "          dataTable['output_type'] = 'display_data';\n",
              "          await google.colab.output.renderOutput(dataTable, element);\n",
              "          const docLink = document.createElement('div');\n",
              "          docLink.innerHTML = docLinkHtml;\n",
              "          element.appendChild(docLink);\n",
              "        }\n",
              "      </script>\n",
              "    </div>\n",
              "  </div>\n",
              "  "
            ]
          },
          "metadata": {}
        }
      ]
    },
    {
      "cell_type": "markdown",
      "source": [
        "#### **Using pandas functions effectively**"
      ],
      "metadata": {
        "id": "atDpRFrIYfv0"
      }
    },
    {
      "cell_type": "code",
      "source": [
        "import pandas as pd\n",
        "\n",
        "# Create a sample DataFrame\n",
        "data = {\n",
        "    'Category': ['A', 'B', 'A', 'B', 'A', 'B'],\n",
        "    'Value': [10, 15, 12, 8, 11, 9]\n",
        "}\n",
        "df = pd.DataFrame(data)\n",
        "\n",
        "# Group the DataFrame by the 'Category' column\n",
        "grouped = df.groupby('Category')\n",
        "\n",
        "# Calculate the sum of values for each category\n",
        "sum_by_category = grouped['Value'].sum()\n",
        "\n",
        "\n",
        "# Print the results\n",
        "print(\"Sum by Category:\")\n",
        "print(sum_by_category)"
      ],
      "metadata": {
        "colab": {
          "base_uri": "https://localhost:8080/"
        },
        "id": "qt6JD68qmJ6n",
        "outputId": "aeb434fc-cf0f-4381-ba6f-eacdbcc3597a"
      },
      "execution_count": 11,
      "outputs": [
        {
          "output_type": "stream",
          "name": "stdout",
          "text": [
            "Sum by Category:\n",
            "Category\n",
            "A    33\n",
            "B    32\n",
            "Name: Value, dtype: int64\n"
          ]
        }
      ]
    },
    {
      "cell_type": "code",
      "source": [
        "# Create a list of user-selected variables\n",
        "user_list = ['Education','Above/Below 50k']\n",
        "\n",
        "# Create a GroupBy object by created list\n",
        "gb = adult.groupby(by=user_list)\n",
        "\n",
        "# Find the mean for the variable \"Hours/Week\" for each group\n",
        "print(gb['Hours/Week'].mean())"
      ],
      "metadata": {
        "colab": {
          "base_uri": "https://localhost:8080/"
        },
        "id": "upcCJIaoGS_F",
        "outputId": "86309588-5e7c-4428-d457-5c4e09b2f0f6"
      },
      "execution_count": 12,
      "outputs": [
        {
          "output_type": "stream",
          "name": "stdout",
          "text": [
            "Education      Above/Below 50k\n",
            " 10th           <=50K             36.574053\n",
            "                >50K              43.774194\n",
            " 11th           <=50K             33.322870\n",
            "                >50K              45.133333\n",
            " 12th           <=50K             35.035000\n",
            "                >50K              44.818182\n",
            " 1st-4th        <=50K             37.864198\n",
            "                >50K              48.833333\n",
            " 5th-6th        <=50K             38.539432\n",
            "                >50K              46.000000\n",
            " 7th-8th        <=50K             38.830033\n",
            "                >50K              47.500000\n",
            " 9th            <=50K             37.667351\n",
            "                >50K              44.851852\n",
            " Assoc-acdm     <=50K             39.264339\n",
            "                >50K              44.256604\n",
            " Assoc-voc      <=50K             40.817826\n",
            "                >50K              43.853186\n",
            " Bachelors      <=50K             40.586152\n",
            "                >50K              45.475462\n",
            " Doctorate      <=50K             45.429907\n",
            "                >50K              47.513072\n",
            " HS-grad        <=50K             39.727510\n",
            "                >50K              45.042985\n",
            " Masters        <=50K             41.223822\n",
            "                >50K              45.917623\n",
            " Preschool      <=50K             36.647059\n",
            " Prof-school    <=50K             42.816993\n",
            "                >50K              49.092199\n",
            " Some-college   <=50K             37.450203\n",
            "                >50K              44.820476\n",
            "Name: Hours/Week, dtype: float64\n"
          ]
        }
      ]
    },
    {
      "cell_type": "markdown",
      "source": [
        "## **2️⃣Categorical pandas Series**"
      ],
      "metadata": {
        "id": "56n0Gd6CP-Z2"
      }
    },
    {
      "cell_type": "markdown",
      "source": [],
      "metadata": {
        "id": "4vr1pLTKOND3"
      }
    },
    {
      "cell_type": "markdown",
      "source": [
        "### **Setting category variables**\n"
      ],
      "metadata": {
        "id": "oZh4nLd9SCDz"
      }
    },
    {
      "cell_type": "markdown",
      "source": [
        "#### **Setting categories**\n",
        "\n",
        "- Convert the `Series` using `.astype(\"category\")`\n",
        "- set the categories `.set_categories([\"small\", \"medium\", \"large\"])`\n",
        "- set the `ordered` paramerter to `Ture`.\n",
        "- Access the `cat` object using `dogs[\"size\"].cat` \n"
      ],
      "metadata": {
        "id": "qiZlNx6dYjej"
      }
    },
    {
      "cell_type": "code",
      "source": [
        "dogs = pd.read_csv(url_ShelterDogs)\n",
        "display(dogs.head(5))\n",
        "\n",
        "#Check frequency counts while also printing the NaN count\n",
        "# dogs_clean = dogs[\"keep_in\"].value_counts(dropna=True)\n",
        "# print(dogs_clean.isna().sum())\n",
        "print(dogs.isna().sum())\n",
        "print(\"\\n\")\n",
        "print(dogs[\"keep_in\"].value_counts(dropna=False))"
      ],
      "metadata": {
        "colab": {
          "base_uri": "https://localhost:8080/",
          "height": 860
        },
        "id": "ioNDAaaLNNv4",
        "outputId": "2629bf6e-b8d7-4336-cbe8-de73ad35ba5c"
      },
      "execution_count": 13,
      "outputs": [
        {
          "output_type": "display_data",
          "data": {
            "text/plain": [
              "      ID            name   age     sex               breed date_found  \\\n",
              "0  23807            Gida  0.25  female         Unknown Mix   12/10/19   \n",
              "1    533  Frida És Ricsi  0.17  female         Unknown Mix    12/1/19   \n",
              "2  23793             NaN  4.00    male         Unknown Mix    12/8/19   \n",
              "3  23795             NaN  1.00    male         Unknown Mix    12/8/19   \n",
              "4  23806             Amy  2.00  female  French Bulldog Mix   12/10/19   \n",
              "\n",
              "  adoptable_from    posted            color    coat    size neutered  \\\n",
              "0       12/11/19  12/11/19              red   short   small       no   \n",
              "1        12/1/19   12/9/19  black and white   short   small       no   \n",
              "2       12/23/19   12/8/19      saddle back   short  medium       no   \n",
              "3       12/23/19   12/8/19     yellow-brown  medium  medium       no   \n",
              "4       12/11/19  12/11/19            black   short   small       no   \n",
              "\n",
              "  housebroken likes_people likes_children get_along_males get_along_females  \\\n",
              "0         NaN          NaN            NaN             NaN               NaN   \n",
              "1         NaN          yes            yes             yes               yes   \n",
              "2         NaN          NaN            NaN             NaN               NaN   \n",
              "3         NaN          NaN            NaN             NaN               NaN   \n",
              "4         NaN          NaN            NaN             NaN               NaN   \n",
              "\n",
              "  get_along_cats keep_in  \n",
              "0            NaN     NaN  \n",
              "1            yes     NaN  \n",
              "2            NaN     NaN  \n",
              "3            NaN     NaN  \n",
              "4            NaN     NaN  "
            ],
            "text/html": [
              "\n",
              "  <div id=\"df-dce5c5c2-69c1-42a1-97d2-a05e2472cd51\">\n",
              "    <div class=\"colab-df-container\">\n",
              "      <div>\n",
              "<style scoped>\n",
              "    .dataframe tbody tr th:only-of-type {\n",
              "        vertical-align: middle;\n",
              "    }\n",
              "\n",
              "    .dataframe tbody tr th {\n",
              "        vertical-align: top;\n",
              "    }\n",
              "\n",
              "    .dataframe thead th {\n",
              "        text-align: right;\n",
              "    }\n",
              "</style>\n",
              "<table border=\"1\" class=\"dataframe\">\n",
              "  <thead>\n",
              "    <tr style=\"text-align: right;\">\n",
              "      <th></th>\n",
              "      <th>ID</th>\n",
              "      <th>name</th>\n",
              "      <th>age</th>\n",
              "      <th>sex</th>\n",
              "      <th>breed</th>\n",
              "      <th>date_found</th>\n",
              "      <th>adoptable_from</th>\n",
              "      <th>posted</th>\n",
              "      <th>color</th>\n",
              "      <th>coat</th>\n",
              "      <th>size</th>\n",
              "      <th>neutered</th>\n",
              "      <th>housebroken</th>\n",
              "      <th>likes_people</th>\n",
              "      <th>likes_children</th>\n",
              "      <th>get_along_males</th>\n",
              "      <th>get_along_females</th>\n",
              "      <th>get_along_cats</th>\n",
              "      <th>keep_in</th>\n",
              "    </tr>\n",
              "  </thead>\n",
              "  <tbody>\n",
              "    <tr>\n",
              "      <th>0</th>\n",
              "      <td>23807</td>\n",
              "      <td>Gida</td>\n",
              "      <td>0.25</td>\n",
              "      <td>female</td>\n",
              "      <td>Unknown Mix</td>\n",
              "      <td>12/10/19</td>\n",
              "      <td>12/11/19</td>\n",
              "      <td>12/11/19</td>\n",
              "      <td>red</td>\n",
              "      <td>short</td>\n",
              "      <td>small</td>\n",
              "      <td>no</td>\n",
              "      <td>NaN</td>\n",
              "      <td>NaN</td>\n",
              "      <td>NaN</td>\n",
              "      <td>NaN</td>\n",
              "      <td>NaN</td>\n",
              "      <td>NaN</td>\n",
              "      <td>NaN</td>\n",
              "    </tr>\n",
              "    <tr>\n",
              "      <th>1</th>\n",
              "      <td>533</td>\n",
              "      <td>Frida És Ricsi</td>\n",
              "      <td>0.17</td>\n",
              "      <td>female</td>\n",
              "      <td>Unknown Mix</td>\n",
              "      <td>12/1/19</td>\n",
              "      <td>12/1/19</td>\n",
              "      <td>12/9/19</td>\n",
              "      <td>black and white</td>\n",
              "      <td>short</td>\n",
              "      <td>small</td>\n",
              "      <td>no</td>\n",
              "      <td>NaN</td>\n",
              "      <td>yes</td>\n",
              "      <td>yes</td>\n",
              "      <td>yes</td>\n",
              "      <td>yes</td>\n",
              "      <td>yes</td>\n",
              "      <td>NaN</td>\n",
              "    </tr>\n",
              "    <tr>\n",
              "      <th>2</th>\n",
              "      <td>23793</td>\n",
              "      <td>NaN</td>\n",
              "      <td>4.00</td>\n",
              "      <td>male</td>\n",
              "      <td>Unknown Mix</td>\n",
              "      <td>12/8/19</td>\n",
              "      <td>12/23/19</td>\n",
              "      <td>12/8/19</td>\n",
              "      <td>saddle back</td>\n",
              "      <td>short</td>\n",
              "      <td>medium</td>\n",
              "      <td>no</td>\n",
              "      <td>NaN</td>\n",
              "      <td>NaN</td>\n",
              "      <td>NaN</td>\n",
              "      <td>NaN</td>\n",
              "      <td>NaN</td>\n",
              "      <td>NaN</td>\n",
              "      <td>NaN</td>\n",
              "    </tr>\n",
              "    <tr>\n",
              "      <th>3</th>\n",
              "      <td>23795</td>\n",
              "      <td>NaN</td>\n",
              "      <td>1.00</td>\n",
              "      <td>male</td>\n",
              "      <td>Unknown Mix</td>\n",
              "      <td>12/8/19</td>\n",
              "      <td>12/23/19</td>\n",
              "      <td>12/8/19</td>\n",
              "      <td>yellow-brown</td>\n",
              "      <td>medium</td>\n",
              "      <td>medium</td>\n",
              "      <td>no</td>\n",
              "      <td>NaN</td>\n",
              "      <td>NaN</td>\n",
              "      <td>NaN</td>\n",
              "      <td>NaN</td>\n",
              "      <td>NaN</td>\n",
              "      <td>NaN</td>\n",
              "      <td>NaN</td>\n",
              "    </tr>\n",
              "    <tr>\n",
              "      <th>4</th>\n",
              "      <td>23806</td>\n",
              "      <td>Amy</td>\n",
              "      <td>2.00</td>\n",
              "      <td>female</td>\n",
              "      <td>French Bulldog Mix</td>\n",
              "      <td>12/10/19</td>\n",
              "      <td>12/11/19</td>\n",
              "      <td>12/11/19</td>\n",
              "      <td>black</td>\n",
              "      <td>short</td>\n",
              "      <td>small</td>\n",
              "      <td>no</td>\n",
              "      <td>NaN</td>\n",
              "      <td>NaN</td>\n",
              "      <td>NaN</td>\n",
              "      <td>NaN</td>\n",
              "      <td>NaN</td>\n",
              "      <td>NaN</td>\n",
              "      <td>NaN</td>\n",
              "    </tr>\n",
              "  </tbody>\n",
              "</table>\n",
              "</div>\n",
              "      <button class=\"colab-df-convert\" onclick=\"convertToInteractive('df-dce5c5c2-69c1-42a1-97d2-a05e2472cd51')\"\n",
              "              title=\"Convert this dataframe to an interactive table.\"\n",
              "              style=\"display:none;\">\n",
              "        \n",
              "  <svg xmlns=\"http://www.w3.org/2000/svg\" height=\"24px\"viewBox=\"0 0 24 24\"\n",
              "       width=\"24px\">\n",
              "    <path d=\"M0 0h24v24H0V0z\" fill=\"none\"/>\n",
              "    <path d=\"M18.56 5.44l.94 2.06.94-2.06 2.06-.94-2.06-.94-.94-2.06-.94 2.06-2.06.94zm-11 1L8.5 8.5l.94-2.06 2.06-.94-2.06-.94L8.5 2.5l-.94 2.06-2.06.94zm10 10l.94 2.06.94-2.06 2.06-.94-2.06-.94-.94-2.06-.94 2.06-2.06.94z\"/><path d=\"M17.41 7.96l-1.37-1.37c-.4-.4-.92-.59-1.43-.59-.52 0-1.04.2-1.43.59L10.3 9.45l-7.72 7.72c-.78.78-.78 2.05 0 2.83L4 21.41c.39.39.9.59 1.41.59.51 0 1.02-.2 1.41-.59l7.78-7.78 2.81-2.81c.8-.78.8-2.07 0-2.86zM5.41 20L4 18.59l7.72-7.72 1.47 1.35L5.41 20z\"/>\n",
              "  </svg>\n",
              "      </button>\n",
              "      \n",
              "  <style>\n",
              "    .colab-df-container {\n",
              "      display:flex;\n",
              "      flex-wrap:wrap;\n",
              "      gap: 12px;\n",
              "    }\n",
              "\n",
              "    .colab-df-convert {\n",
              "      background-color: #E8F0FE;\n",
              "      border: none;\n",
              "      border-radius: 50%;\n",
              "      cursor: pointer;\n",
              "      display: none;\n",
              "      fill: #1967D2;\n",
              "      height: 32px;\n",
              "      padding: 0 0 0 0;\n",
              "      width: 32px;\n",
              "    }\n",
              "\n",
              "    .colab-df-convert:hover {\n",
              "      background-color: #E2EBFA;\n",
              "      box-shadow: 0px 1px 2px rgba(60, 64, 67, 0.3), 0px 1px 3px 1px rgba(60, 64, 67, 0.15);\n",
              "      fill: #174EA6;\n",
              "    }\n",
              "\n",
              "    [theme=dark] .colab-df-convert {\n",
              "      background-color: #3B4455;\n",
              "      fill: #D2E3FC;\n",
              "    }\n",
              "\n",
              "    [theme=dark] .colab-df-convert:hover {\n",
              "      background-color: #434B5C;\n",
              "      box-shadow: 0px 1px 3px 1px rgba(0, 0, 0, 0.15);\n",
              "      filter: drop-shadow(0px 1px 2px rgba(0, 0, 0, 0.3));\n",
              "      fill: #FFFFFF;\n",
              "    }\n",
              "  </style>\n",
              "\n",
              "      <script>\n",
              "        const buttonEl =\n",
              "          document.querySelector('#df-dce5c5c2-69c1-42a1-97d2-a05e2472cd51 button.colab-df-convert');\n",
              "        buttonEl.style.display =\n",
              "          google.colab.kernel.accessAllowed ? 'block' : 'none';\n",
              "\n",
              "        async function convertToInteractive(key) {\n",
              "          const element = document.querySelector('#df-dce5c5c2-69c1-42a1-97d2-a05e2472cd51');\n",
              "          const dataTable =\n",
              "            await google.colab.kernel.invokeFunction('convertToInteractive',\n",
              "                                                     [key], {});\n",
              "          if (!dataTable) return;\n",
              "\n",
              "          const docLinkHtml = 'Like what you see? Visit the ' +\n",
              "            '<a target=\"_blank\" href=https://colab.research.google.com/notebooks/data_table.ipynb>data table notebook</a>'\n",
              "            + ' to learn more about interactive tables.';\n",
              "          element.innerHTML = '';\n",
              "          dataTable['output_type'] = 'display_data';\n",
              "          await google.colab.output.renderOutput(dataTable, element);\n",
              "          const docLink = document.createElement('div');\n",
              "          docLink.innerHTML = docLinkHtml;\n",
              "          element.appendChild(docLink);\n",
              "        }\n",
              "      </script>\n",
              "    </div>\n",
              "  </div>\n",
              "  "
            ]
          },
          "metadata": {}
        },
        {
          "output_type": "stream",
          "name": "stdout",
          "text": [
            "ID                      0\n",
            "name                   92\n",
            "age                     0\n",
            "sex                     0\n",
            "breed                   0\n",
            "date_found              0\n",
            "adoptable_from          0\n",
            "posted                  0\n",
            "color                   0\n",
            "coat                    0\n",
            "size                    0\n",
            "neutered             1085\n",
            "housebroken          2477\n",
            "likes_people          938\n",
            "likes_children       1718\n",
            "get_along_males      1304\n",
            "get_along_females    1264\n",
            "get_along_cats       2506\n",
            "keep_in              1021\n",
            "dtype: int64\n",
            "\n",
            "\n",
            "both flat and garden    1224\n",
            "NaN                     1021\n",
            "garden                   510\n",
            "flat                     182\n",
            "Name: keep_in, dtype: int64\n"
          ]
        }
      ]
    },
    {
      "cell_type": "markdown",
      "source": [
        "#### **Adding categories**\n"
      ],
      "metadata": {
        "id": "3VDbd3xSYlVE"
      }
    },
    {
      "cell_type": "code",
      "source": [
        "# Check frequency counts while also printing the NaN count\n",
        "print(dogs[\"keep_in\"].value_counts(dropna=False))\n",
        "\n",
        "# Switch to a categorical variable\n",
        "dogs[\"keep_in\"] = dogs[\"keep_in\"].astype(\"category\")\n",
        "\n",
        "# Add new categories\n",
        "new_categories = [\"Unknown History\", \"Open Yard (Countryside)\"]\n",
        "dogs[\"keep_in\"] = dogs[\"keep_in\"].cat.add_categories(new_categories)\n",
        "\n",
        "# Check frequency counts one more time\n",
        "print(dogs['keep_in'].value_counts(dropna=False))"
      ],
      "metadata": {
        "colab": {
          "base_uri": "https://localhost:8080/"
        },
        "id": "Y4aNtW_OPsdm",
        "outputId": "c139240a-01e0-4aff-f18c-831d4efbd06c"
      },
      "execution_count": 14,
      "outputs": [
        {
          "output_type": "stream",
          "name": "stdout",
          "text": [
            "both flat and garden    1224\n",
            "NaN                     1021\n",
            "garden                   510\n",
            "flat                     182\n",
            "Name: keep_in, dtype: int64\n",
            "both flat and garden       1224\n",
            "NaN                        1021\n",
            "garden                      510\n",
            "flat                        182\n",
            "Unknown History               0\n",
            "Open Yard (Countryside)       0\n",
            "Name: keep_in, dtype: int64\n"
          ]
        }
      ]
    },
    {
      "cell_type": "markdown",
      "source": [
        "#### **Removing categories**\n"
      ],
      "metadata": {
        "id": "Rzakuo_pYmwT"
      }
    },
    {
      "cell_type": "code",
      "source": [
        "import pandas as pd\n",
        "\n",
        "# Create a sample DataFrame\n",
        "data = {'Category': ['A', 'B', 'B', 'C', 'A', 'A']}\n",
        "df = pd.DataFrame(data)\n",
        "\n",
        "categories = df['Category'].astype('category').cat.categories\n",
        "\n",
        "print(categories)"
      ],
      "metadata": {
        "colab": {
          "base_uri": "https://localhost:8080/"
        },
        "id": "2V1mG2BTpJNP",
        "outputId": "6cfc4a3e-2aaf-45a0-9e30-dc198ed48ece"
      },
      "execution_count": 15,
      "outputs": [
        {
          "output_type": "stream",
          "name": "stdout",
          "text": [
            "Index(['A', 'B', 'C'], dtype='object')\n"
          ]
        }
      ]
    },
    {
      "cell_type": "code",
      "source": [
        "# Convert \"likes_children\" column to categorical data type\n",
        "dogs[\"likes_children\"] = dogs[\"likes_children\"].astype(\"category\")\n",
        "\n",
        "# Update \"maybe\" values to \"no\"\n",
        "dogs.loc[dogs[\"likes_children\"] == \"maybe\", \"likes_children\"] = \"no\"\n",
        "\n",
        "# Print out categories\n",
        "print(dogs[\"likes_children\"].cat.categories)\n",
        "\n",
        "# Print the frequency table\n",
        "print(dogs[\"likes_children\"].value_counts())\n",
        "\n",
        "# Check if \"maybe\" category exists before removing it\n",
        "if \"maybe\" in dogs[\"likes_children\"].cat.categories:\n",
        "    # Remove the \"maybe\" category\n",
        "    dogs[\"likes_children\"] = dogs[\"likes_children\"].cat.remove_categories([\"maybe\"])\n",
        "    print(dogs[\"likes_children\"].value_counts())\n",
        "\n",
        "# Print the categories one more time\n",
        "print(dogs[\"likes_children\"].cat.categories)"
      ],
      "metadata": {
        "colab": {
          "base_uri": "https://localhost:8080/"
        },
        "id": "BVTetvCgPuAV",
        "outputId": "9c32abdd-5ab4-4014-ecb0-a4b4d1aceaa3"
      },
      "execution_count": 16,
      "outputs": [
        {
          "output_type": "stream",
          "name": "stdout",
          "text": [
            "Index(['no', 'yes'], dtype='object')\n",
            "yes    1172\n",
            "no       47\n",
            "Name: likes_children, dtype: int64\n",
            "Index(['no', 'yes'], dtype='object')\n"
          ]
        }
      ]
    },
    {
      "cell_type": "markdown",
      "source": [
        "### **Updating categories**\n"
      ],
      "metadata": {
        "id": "jZy7nusGYoJj"
      }
    },
    {
      "cell_type": "markdown",
      "source": [],
      "metadata": {
        "id": "vn4zCZehQ48l"
      }
    },
    {
      "cell_type": "markdown",
      "source": [
        "#### **Collapsing categories knowledge check**\n"
      ],
      "metadata": {
        "id": "QluUmADOYpfz"
      }
    },
    {
      "cell_type": "markdown",
      "source": [
        "**Collapsing categories knowledge check**\n",
        "\n",
        "> You are working with a categorical column that has ten different responses. You want to collapse this into a new categorical column that only has three categories, instead of ten. What is the easiest method to use for this update?\n",
        "\n",
        "→ Use `pd.Series().replace()` and then convert the column back to categorical using `.astype('category')`.\n",
        "\n",
        "\n"
      ],
      "metadata": {
        "id": "z069y5_bQoW_"
      }
    },
    {
      "cell_type": "markdown",
      "source": [
        "#### **Renaming categories**\n"
      ],
      "metadata": {
        "id": "N7r45ARqYquL"
      }
    },
    {
      "cell_type": "code",
      "source": [
        "# Create the my_changes dictionary\n",
        "my_changes = {\"Maybe?\": \"Maybe\"}\n",
        "\n",
        "# Rename the categories listed in the my_changes dictionary\n",
        "dogs[\"likes_children\"] = dogs[\"likes_children\"].cat.rename_categories(my_changes)\n",
        "\n",
        "# Use a lambda function to convert all categories to uppercase using upper()\n",
        "dogs[\"likes_children\"] =  dogs[\"likes_children\"].cat.rename_categories(lambda c: c.upper())\n",
        "\n",
        "# Print the list of categories\n",
        "print(dogs[\"likes_children\"].cat.categories)"
      ],
      "metadata": {
        "colab": {
          "base_uri": "https://localhost:8080/"
        },
        "id": "1TlDfKnVQdFW",
        "outputId": "12fffa0d-ea85-4e2b-cb4a-3b6298e33454"
      },
      "execution_count": 17,
      "outputs": [
        {
          "output_type": "stream",
          "name": "stdout",
          "text": [
            "Index(['NO', 'YES'], dtype='object')\n"
          ]
        }
      ]
    },
    {
      "cell_type": "markdown",
      "source": [
        "#### **Collapsing categories**\n"
      ],
      "metadata": {
        "id": "YnrbCqpcYsJD"
      }
    },
    {
      "cell_type": "code",
      "source": [
        "# Create the update_coats dictionary\n",
        "update_coats = {'wirehaired':'medium',\n",
        "                'medium-long':'medium'}\n",
        "\n",
        "# Create a new column, coat_collapsed\n",
        "dogs[\"coat_collapsed\"] = dogs[\"coat\"].replace(update_coats) \n",
        "\n",
        "# Convert the column to categorical\n",
        "dogs[\"coat_collapsed\"] = dogs[\"coat_collapsed\"].astype('category')\n",
        "\n",
        "# Print the frequency table\n",
        "print(dogs[\"coat_collapsed\"].value_counts())"
      ],
      "metadata": {
        "colab": {
          "base_uri": "https://localhost:8080/"
        },
        "id": "vmhmMl-9Qddn",
        "outputId": "b91a7db0-09f7-4f8d-9de9-679f23bdff20"
      },
      "execution_count": 18,
      "outputs": [
        {
          "output_type": "stream",
          "name": "stdout",
          "text": [
            "short     1972\n",
            "medium     785\n",
            "long       180\n",
            "Name: coat_collapsed, dtype: int64\n"
          ]
        }
      ]
    },
    {
      "cell_type": "markdown",
      "source": [
        "### **Reordering categories**\n"
      ],
      "metadata": {
        "id": "YIpZRQ1OYtlz"
      }
    },
    {
      "cell_type": "markdown",
      "source": [
        "#### **Reordering categories in a Series**\n"
      ],
      "metadata": {
        "id": "k-2elzKLYv3b"
      }
    },
    {
      "cell_type": "code",
      "source": [
        "# Convert \"size\" column to categorical data type\n",
        "dogs[\"size\"] = dogs[\"size\"].astype(\"category\")\n",
        "\n",
        "# Print out the current categories of the size variable\n",
        "print(dogs[\"size\"].cat.categories)\n",
        "\n",
        "# Reorder the categories and assign the modified Series back to the column\n",
        "dogs[\"size\"] = dogs[\"size\"].cat.reorder_categories(\n",
        "    new_categories=[\"small\", \"medium\", \"large\"],\n",
        "    ordered=True\n",
        ")\n"
      ],
      "metadata": {
        "colab": {
          "base_uri": "https://localhost:8080/"
        },
        "id": "MyYMQlukQeVe",
        "outputId": "d5ab520b-337e-4c00-915b-580dd7703368"
      },
      "execution_count": 19,
      "outputs": [
        {
          "output_type": "stream",
          "name": "stdout",
          "text": [
            "Index(['large', 'medium', 'small'], dtype='object')\n"
          ]
        }
      ]
    },
    {
      "cell_type": "markdown",
      "source": [
        "#### **Using `.groupby()` after reordering**\n"
      ],
      "metadata": {
        "id": "UlNZZhInYxOD"
      }
    },
    {
      "cell_type": "code",
      "source": [
        "# Previous code\n",
        "dogs[\"size\"].cat.reorder_categories(\n",
        "  new_categories=[\"small\", \"medium\", \"large\"],\n",
        "  ordered=True,\n",
        "  inplace=True\n",
        ")\n",
        "\n",
        "# How many Male/Female dogs are available of each size?\n",
        "print(dogs.groupby('size')['sex'].value_counts())\n",
        "\n",
        "# Do larger dogs need more room to roam?\n",
        "print(dogs.groupby('size')['keep_in'].value_counts())"
      ],
      "metadata": {
        "colab": {
          "base_uri": "https://localhost:8080/"
        },
        "id": "1CJXrhsFQevW",
        "outputId": "7bf4feea-2051-4b03-c451-55e366eedd45"
      },
      "execution_count": 20,
      "outputs": [
        {
          "output_type": "stream",
          "name": "stdout",
          "text": [
            "size    sex   \n",
            "small   male       260\n",
            "        female     214\n",
            "medium  male      1090\n",
            "        female     854\n",
            "large   male       331\n",
            "        female     188\n",
            "Name: sex, dtype: int64\n",
            "size    keep_in                \n",
            "small   both flat and garden       238\n",
            "        flat                        80\n",
            "        garden                      21\n",
            "        Unknown History              0\n",
            "        Open Yard (Countryside)      0\n",
            "medium  both flat and garden       795\n",
            "        garden                     317\n",
            "        flat                        97\n",
            "        Unknown History              0\n",
            "        Open Yard (Countryside)      0\n",
            "large   both flat and garden       191\n",
            "        garden                     172\n",
            "        flat                         5\n",
            "        Unknown History              0\n",
            "        Open Yard (Countryside)      0\n",
            "Name: keep_in, dtype: int64\n"
          ]
        },
        {
          "output_type": "stream",
          "name": "stderr",
          "text": [
            "<ipython-input-20-8b8ad19a9303>:2: FutureWarning: The `inplace` parameter in pandas.Categorical.reorder_categories is deprecated and will be removed in a future version. Reordering categories will always return a new Categorical object.\n",
            "  dogs[\"size\"].cat.reorder_categories(\n"
          ]
        }
      ]
    },
    {
      "cell_type": "markdown",
      "source": [
        "### **Cleaning and accessing data**\n"
      ],
      "metadata": {
        "id": "D7N3BlB7Yyg7"
      }
    },
    {
      "cell_type": "markdown",
      "source": [
        "#### **Cleaning variables**\n"
      ],
      "metadata": {
        "id": "8WbVxHbYYz56"
      }
    },
    {
      "cell_type": "code",
      "source": [
        "# Fix the misspelled word\n",
        "replace_map = {\"Malez\": \"male\"}\n",
        "\n",
        "# Update the sex column using the created map\n",
        "dogs[\"sex\"] = dogs[\"sex\"].replace(replace_map)\n",
        "\n",
        "# Strip away leading whitespace\n",
        "dogs[\"sex\"] = dogs[\"sex\"].str.strip()\n",
        "\n",
        "# Make all responses lowercase\n",
        "dogs[\"sex\"] = dogs[\"sex\"].str.lower()\n",
        "\n",
        "# Convert to a categorical Series\n",
        "dogs[\"sex\"] = dogs['sex'].astype('category')\n",
        "\n",
        "\n",
        "print(dogs[\"sex\"].value_counts())"
      ],
      "metadata": {
        "colab": {
          "base_uri": "https://localhost:8080/"
        },
        "id": "YVhe-z7zQfuO",
        "outputId": "cb8a7450-4606-40ca-d8af-0e1716d4b1f1"
      },
      "execution_count": 21,
      "outputs": [
        {
          "output_type": "stream",
          "name": "stdout",
          "text": [
            "male      1681\n",
            "female    1256\n",
            "Name: sex, dtype: int64\n"
          ]
        }
      ]
    },
    {
      "cell_type": "markdown",
      "source": [
        "#### **Accessing and filtering data**"
      ],
      "metadata": {
        "id": "5YYmqXVXY191"
      }
    },
    {
      "cell_type": "code",
      "execution_count": 22,
      "metadata": {
        "id": "cajzX15CqoiQ",
        "outputId": "688788d8-1a75-42f6-f534-271a6419d000",
        "colab": {
          "base_uri": "https://localhost:8080/"
        }
      },
      "outputs": [
        {
          "output_type": "stream",
          "name": "stdout",
          "text": [
            "Series([], Name: coat, dtype: object)\n"
          ]
        }
      ],
      "source": [
        "# Print the category of the coat for ID 23807\n",
        "print(dogs.loc[dogs['coat']==23807, 'coat'])"
      ]
    },
    {
      "cell_type": "code",
      "execution_count": 23,
      "metadata": {
        "id": "4IBuro9gqoiQ",
        "outputId": "f74969d4-5bdd-4146-8c38-43d17ea67749",
        "colab": {
          "base_uri": "https://localhost:8080/"
        }
      },
      "outputs": [
        {
          "output_type": "stream",
          "name": "stdout",
          "text": [
            "male      124\n",
            "female     56\n",
            "Name: sex, dtype: int64\n"
          ]
        }
      ],
      "source": [
        "# Find the count of male and female dogs who have a \"long\" coat\n",
        "print(dogs.loc[dogs['coat']=='long', 'sex'].value_counts())"
      ]
    },
    {
      "cell_type": "code",
      "execution_count": 24,
      "metadata": {
        "id": "WmXBRf90qoiR",
        "outputId": "30a4b468-70a6-47cf-b518-62733b9aca36",
        "colab": {
          "base_uri": "https://localhost:8080/"
        }
      },
      "outputs": [
        {
          "output_type": "stream",
          "name": "stdout",
          "text": [
            "8.186153846153847\n"
          ]
        }
      ],
      "source": [
        "# Print the mean age of dogs with a breed of \"English Cocker Spaniel\"\n",
        "print(dogs.loc[dogs['breed']=='English Cocker Spaniel', 'age'].mean())"
      ]
    },
    {
      "cell_type": "code",
      "execution_count": 25,
      "metadata": {
        "id": "UBV3RdT2qoiR",
        "outputId": "60a8d134-4302-4a7a-a6c5-b6d4f0b75d50",
        "colab": {
          "base_uri": "https://localhost:8080/"
        }
      },
      "outputs": [
        {
          "output_type": "stream",
          "name": "stdout",
          "text": [
            "35\n"
          ]
        }
      ],
      "source": [
        "# Count the number of dogs that have \"English\" in their breed name\n",
        "print(dogs[dogs[\"breed\"].str.contains('English', regex=False)].shape[0])"
      ]
    },
    {
      "cell_type": "markdown",
      "source": [
        "## **3️⃣Visualizing Categorical Data**"
      ],
      "metadata": {
        "id": "L6ZLqEH8QIos"
      }
    },
    {
      "cell_type": "markdown",
      "source": [
        "### **Introduction to categorical plots using Seaborn**\n"
      ],
      "metadata": {
        "id": "hMoxuwmjSgSs"
      }
    },
    {
      "cell_type": "markdown",
      "source": [
        "#### **Creating a box plot**\n"
      ],
      "metadata": {
        "id": "QivB25aVY7ma"
      }
    },
    {
      "cell_type": "code",
      "source": [
        "reviews_data = pd.read_csv(url_lasvegas_tripadvisor)\n",
        "reviews = reviews_data.copy()"
      ],
      "metadata": {
        "id": "TmIOwdTeSFSX"
      },
      "execution_count": 26,
      "outputs": []
    },
    {
      "cell_type": "code",
      "source": [
        "# Set the font size to 1.25\n",
        "sns.set(font_scale=1.25)\n",
        "\n",
        "# Set the background to \"darkgrid\"\n",
        "sns.set_style('darkgrid')\n",
        "\n",
        "# Create a boxplot\n",
        "sns.catplot(x='Traveler type', y='Helpful votes', data=reviews, kind='box')\n",
        "\n",
        "plt.show()"
      ],
      "metadata": {
        "colab": {
          "base_uri": "https://localhost:8080/",
          "height": 491
        },
        "id": "P7qns4WHSCFW",
        "outputId": "6d6e823e-926e-4036-c59a-0039d6373e97"
      },
      "execution_count": 27,
      "outputs": [
        {
          "output_type": "display_data",
          "data": {
            "text/plain": [
              "<Figure size 500x500 with 1 Axes>"
            ],
            "image/png": "[encoded data removed]"
          },
          "metadata": {}
        }
      ]
    },
    {
      "cell_type": "markdown",
      "source": [
        "### **Seaborn bar plots**\n"
      ],
      "metadata": {
        "id": "xFZcxbr7Y9A9"
      }
    },
    {
      "cell_type": "markdown",
      "source": [
        "#### **Creating a bar plot**\n"
      ],
      "metadata": {
        "id": "6zu2IRzNY-fD"
      }
    },
    {
      "cell_type": "code",
      "source": [
        "# Print the frequency counts of \"Period of stay\"\n",
        "print(reviews['Period of stay'].value_counts())\n",
        "\n",
        "sns.set(font_scale=1.4)\n",
        "sns.set_style(\"whitegrid\")\n",
        "\n",
        "# Create a bar plot of \"Helpful votes\" by \"Period of stay\"\n",
        "sns.catplot(x='Period of stay', y='Helpful votes', data=reviews, kind='bar')\n",
        "plt.show()"
      ],
      "metadata": {
        "colab": {
          "base_uri": "https://localhost:8080/",
          "height": 573
        },
        "id": "u_1AAzLUSNNg",
        "outputId": "7ae248ed-d519-4793-dfd6-5f56534d1733"
      },
      "execution_count": 28,
      "outputs": [
        {
          "output_type": "stream",
          "name": "stdout",
          "text": [
            "Mar-May    128\n",
            "Jun-Aug    126\n",
            "Sep-Nov    126\n",
            "Dec-Feb    124\n",
            "Name: Period of stay, dtype: int64\n"
          ]
        },
        {
          "output_type": "display_data",
          "data": {
            "text/plain": [
              "<Figure size 500x500 with 1 Axes>"
            ],
            "image/png": "[encoded data removed]"
          },
          "metadata": {}
        }
      ]
    },
    {
      "cell_type": "markdown",
      "source": [
        "#### **Ordering categories**\n"
      ],
      "metadata": {
        "id": "Zj95VNuXY_yS"
      }
    },
    {
      "cell_type": "code",
      "source": [
        "# Set style\n",
        "sns.set(font_scale=.9)\n",
        "sns.set_style(\"whitegrid\")\n",
        "\n",
        "# Print the frequency counts for \"User continent\"\n",
        "print(reviews[\"User continent\"].value_counts())\n",
        "\n",
        "# Convert \"User continent\" to a categorical variable\n",
        "reviews[\"User continent\"] = reviews[\"User continent\"].astype(\"category\")\n",
        "\n",
        "# Reorder \"User continent\" using continent_categories and rerun the graphic\n",
        "continent_categories = list(reviews[\"User continent\"].value_counts().index)\n",
        "reviews[\"User continent\"] = reviews[\"User continent\"].cat.reorder_categories(new_categories=continent_categories)\n",
        "sns.catplot(x=\"User continent\", y=\"Score\", data=reviews, kind=\"bar\")\n",
        "plt.show()"
      ],
      "metadata": {
        "colab": {
          "base_uri": "https://localhost:8080/",
          "height": 626
        },
        "id": "V5sIt638SN3e",
        "outputId": "fa387c59-2bb6-4b78-f09f-7697e7e847c9"
      },
      "execution_count": 29,
      "outputs": [
        {
          "output_type": "stream",
          "name": "stdout",
          "text": [
            "North America    295\n",
            "Europe           118\n",
            "Oceania           41\n",
            "Asia              36\n",
            "Africa             7\n",
            "South America      7\n",
            "Name: User continent, dtype: int64\n"
          ]
        },
        {
          "output_type": "display_data",
          "data": {
            "text/plain": [
              "<Figure size 500x500 with 1 Axes>"
            ],
            "image/png": "[encoded data removed]"
          },
          "metadata": {}
        }
      ]
    },
    {
      "cell_type": "markdown",
      "source": [
        "#### **Bar plot using hue**\n"
      ],
      "metadata": {
        "id": "BbPG5THuZBxi"
      }
    },
    {
      "cell_type": "code",
      "source": [
        "# Switch the x and hue categories\n",
        "sns.set(font_scale=2)\n",
        "sns.set_style(\"darkgrid\")\n",
        "sns.catplot(x=\"Free internet\", y=\"Score\", data=reviews, kind=\"bar\", hue=\"Casino\")\n",
        "plt.show()"
      ],
      "metadata": {
        "colab": {
          "base_uri": "https://localhost:8080/",
          "height": 464
        },
        "id": "l--K1fh_SqFg",
        "outputId": "c3a579ba-afae-468b-bed6-53c17a92d81a"
      },
      "execution_count": 30,
      "outputs": [
        {
          "output_type": "display_data",
          "data": {
            "text/plain": [
              "<Figure size 667.125x500 with 1 Axes>"
            ],
            "image/png": "[encoded data removed]"
          },
          "metadata": {}
        }
      ]
    },
    {
      "cell_type": "code",
      "source": [
        "# Update x to be \"User continent\"\n",
        "sns.set(font_scale=2)\n",
        "sns.set_style(\"darkgrid\")\n",
        "sns.catplot(x=\"User continent\", y=\"Score\", data=reviews, kind=\"bar\", hue=\"Casino\")\n",
        "plt.show()"
      ],
      "metadata": {
        "colab": {
          "base_uri": "https://localhost:8080/",
          "height": 464
        },
        "id": "Y21F_9LUStji",
        "outputId": "03616bbb-1b4f-41c4-9b2f-e32d7c760767"
      },
      "execution_count": 31,
      "outputs": [
        {
          "output_type": "display_data",
          "data": {
            "text/plain": [
              "<Figure size 667.125x500 with 1 Axes>"
            ],
            "image/png": "[encoded data removed]"
          },
          "metadata": {}
        }
      ]
    },
    {
      "cell_type": "code",
      "execution_count": 32,
      "metadata": {
        "id": "N6q0pyhXqoiZ",
        "outputId": "033eba01-9f86-4d08-feb9-074f1b1a1721",
        "colab": {
          "base_uri": "https://localhost:8080/",
          "height": 501
        }
      },
      "outputs": [
        {
          "output_type": "display_data",
          "data": {
            "text/plain": [
              "<Figure size 583.625x500 with 1 Axes>"
            ],
            "image/png": "[encoded data removed]"
          },
          "metadata": {}
        }
      ],
      "source": [
        "# Lower the font size so that all text fits on the screen.\n",
        "sns.set(font_scale=1)\n",
        "sns.set_style(\"darkgrid\")\n",
        "sns.catplot(x=\"User continent\", y=\"Score\", data=reviews, kind=\"bar\", hue=\"Casino\")\n",
        "plt.show()"
      ]
    },
    {
      "cell_type": "markdown",
      "source": [
        "### **Point and count plots**\n"
      ],
      "metadata": {
        "id": "4UoZPrpiZDKz"
      }
    },
    {
      "cell_type": "markdown",
      "source": [
        "#### **Creating a point plot**\n"
      ],
      "metadata": {
        "id": "l62XaYoLZEkK"
      }
    },
    {
      "cell_type": "code",
      "source": [
        "# Create a point plot with catplot using \"Hotel stars\" and \"Nr. reviews\"\n",
        "sns.catplot(\n",
        "  # Split the data across Hotel stars and summarize Nr. reviews\n",
        "  x='Hotel stars',\n",
        "  y='Nr. reviews',\n",
        "  data=reviews,\n",
        "  # Specify a point plot\n",
        "  kind='point',\n",
        "  hue=\"Pool\",\n",
        "  # Make sure the lines and points don't overlap\n",
        "  dodge=True\n",
        ")\n",
        "plt.show()"
      ],
      "metadata": {
        "colab": {
          "base_uri": "https://localhost:8080/",
          "height": 501
        },
        "id": "QG9D5uNRS75G",
        "outputId": "2ce70dd4-7d77-44ea-b55f-ac6d52550448"
      },
      "execution_count": 33,
      "outputs": [
        {
          "output_type": "display_data",
          "data": {
            "text/plain": [
              "<Figure size 583.625x500 with 1 Axes>"
            ],
            "image/png": "[encoded data removed]"
          },
          "metadata": {}
        }
      ]
    },
    {
      "cell_type": "markdown",
      "source": [
        "it is great to see big differences in the average number of previous reviews across the different hotel star ratings for hotels with a pool, there aren't enough 4 and 5 star hotels without a pool to display any information. We might want to find a different category for the hue parameter here or just show the 'Nr. of reviews' across the different hotel star ratings."
      ],
      "metadata": {
        "id": "Pqn66XRHTJAr"
      }
    },
    {
      "cell_type": "markdown",
      "source": [
        "#### **Creating a count plot**\n"
      ],
      "metadata": {
        "id": "VdudkruTZF7z"
      }
    },
    {
      "cell_type": "code",
      "source": [
        "sns.set(font_scale=1.4)\n",
        "sns.set_style(\"darkgrid\")\n",
        "\n",
        "# Create a catplot that will count the frequency of \"Score\" across \"Traveler type\"\n",
        "sns.catplot(\n",
        "  x=\"Score\",\n",
        "  data=reviews,\n",
        "  kind=\"count\",\n",
        "  hue=\"Traveler type\"\n",
        ")\n",
        "plt.show()"
      ],
      "metadata": {
        "colab": {
          "base_uri": "https://localhost:8080/",
          "height": 486
        },
        "id": "EcyJLmA3S8PG",
        "outputId": "d2d938cc-7d49-448d-a2d6-d66dfa1dd666"
      },
      "execution_count": 34,
      "outputs": [
        {
          "output_type": "display_data",
          "data": {
            "text/plain": [
              "<Figure size 671.25x500 with 1 Axes>"
            ],
            "image/png": "[encoded data removed]"
          },
          "metadata": {}
        }
      ]
    },
    {
      "cell_type": "markdown",
      "source": [
        "#### **Review `catplot()` types:**\n",
        "\n",
        "- A graphical form of a frequency table.\n",
        "    - `kind =\"count\"`\n",
        "- has the parameters, `join` and `dodge`, which can update the look of the lines in the plot\n",
        "    - `kind =\"point\"`\n",
        "- has the parameters, join and dodge, which can update the look of the lines in the plot   \n",
        "    - `kind =\"box\"`\n",
        "- is similar to a point plot and can be used to see the central tendency of numerical data.\n",
        "    - `kind =\"bar\"`\n"
      ],
      "metadata": {
        "id": "ttoKbLYqZHcy"
      }
    },
    {
      "cell_type": "markdown",
      "source": [
        "#### **One visualization per group**\n"
      ],
      "metadata": {
        "id": "GNxTHXJ3ZKNj"
      }
    },
    {
      "cell_type": "code",
      "source": [
        "# Create a catplot for each \"Period of stay\" broken down by \"Review weekday\"\n",
        "ax = sns.catplot(\n",
        "  # Make sure Review weekday is along the x-axis\n",
        "  x=\"Review weekday\",\n",
        "  # Specify Period of stay as the column to create individual graphics for\n",
        "  col=\"Period of stay\",\n",
        "  # Specify that a count plot should be created\n",
        "  kind=\"count\",\n",
        "  # Wrap the plots after every 2nd graphic.\n",
        "  col_wrap=2,\n",
        "  data=reviews\n",
        ")\n",
        "plt.show()"
      ],
      "metadata": {
        "colab": {
          "base_uri": "https://localhost:8080/",
          "height": 986
        },
        "id": "-_h_g08-S9rF",
        "outputId": "d89431da-8f54-4438-ca1f-4008c5fdb5b4"
      },
      "execution_count": 35,
      "outputs": [
        {
          "output_type": "display_data",
          "data": {
            "text/plain": [
              "<Figure size 1000x1000 with 4 Axes>"
            ],
            "image/png": "[encoded data removed]"
          },
          "metadata": {}
        }
      ]
    },
    {
      "cell_type": "markdown",
      "source": [
        "Did you notice that Tuesday was the most common review day for December through May, but one of the least common days for June through November? Creating side-by-side categorical plots is a great way to visualize your data."
      ],
      "metadata": {
        "id": "Xc5TOj9gUHd0"
      }
    },
    {
      "cell_type": "markdown",
      "source": [
        "#### **Updating categorical plots**"
      ],
      "metadata": {
        "id": "VldI5bBCZLij"
      }
    },
    {
      "cell_type": "code",
      "source": [
        "# Adjust the color\n",
        "ax = sns.catplot(\n",
        "  x=\"Free internet\", y=\"Score\",\n",
        "  hue=\"Traveler type\", kind=\"bar\",\n",
        "  data=reviews,\n",
        "  palette=sns.color_palette(\"Set2\")\n",
        ")\n",
        "\n",
        "# Add a title\n",
        "ax.fig.suptitle(\"Hotel Score by Traveler Type and Free Internet Access\")\n",
        "# Update the axis labels\n",
        "ax.set_axis_labels(\"Free Internet\", \"Average Review Rating\")\n",
        "\n",
        "# Adjust the starting height of the graphic\n",
        "plt.subplots_adjust(top=.93)\n",
        "plt.show()"
      ],
      "metadata": {
        "colab": {
          "base_uri": "https://localhost:8080/",
          "height": 501
        },
        "id": "Y3U__IzPS-EO",
        "outputId": "ee22f0cb-b153-40cd-e26a-076edff3bece"
      },
      "execution_count": 36,
      "outputs": [
        {
          "output_type": "display_data",
          "data": {
            "text/plain": [
              "<Figure size 671.25x500 with 1 Axes>"
            ],
            "image/png": "[encoded data removed]"
          },
          "metadata": {}
        }
      ]
    },
    {
      "cell_type": "markdown",
      "source": [
        "## **4️⃣Pitfalls and Encoding**"
      ],
      "metadata": {
        "id": "bRq_OYFTQfm0"
      }
    },
    {
      "cell_type": "code",
      "source": [
        "used_cars = pd.read_csv(url_cars)\n",
        "used_cars.columns"
      ],
      "metadata": {
        "colab": {
          "base_uri": "https://localhost:8080/"
        },
        "id": "H5Wr7-nLUffG",
        "outputId": "c007f095-f3fe-434c-e77a-c3cbb8011fab"
      },
      "execution_count": 37,
      "outputs": [
        {
          "output_type": "execute_result",
          "data": {
            "text/plain": [
              "Index(['manufacturer_name', 'model_name', 'transmission', 'color',\n",
              "       'odomengineeter_value', 'year_produced', '_fuel', 'engine_has_gas',\n",
              "       'engine_type', 'engine_capacity', 'body_type', 'has_warranty', 'state',\n",
              "       'drivetrain', 'price_usd', 'is_exchangeable', 'location_region',\n",
              "       'number_of_photos', 'up_counter', 'feature_0', 'feature_1', 'feature_2',\n",
              "       'feature_3', 'feature_4', 'feature_5', 'feature_6', 'feature_7',\n",
              "       'feature_8', 'feature_9', 'duration_listed'],\n",
              "      dtype='object')"
            ]
          },
          "metadata": {},
          "execution_count": 37
        }
      ]
    },
    {
      "cell_type": "markdown",
      "source": [
        "### **Categorical pitfalls**\n"
      ],
      "metadata": {
        "id": "tW3T7GIbSi5U"
      }
    },
    {
      "cell_type": "markdown",
      "source": [
        "#### **Overcoming pitfalls: string issues**\n"
      ],
      "metadata": {
        "id": "satRyjgaZVjd"
      }
    },
    {
      "cell_type": "code",
      "source": [
        "# Print the frequency table of body_type and include NaN values\n",
        "print(used_cars[\"body_type\"].value_counts(dropna=False))\n",
        "\n",
        "# Update NaN values\n",
        "used_cars.loc[used_cars[\"body_type\"].isna(), \"body_type\"] = \"other\"\n",
        "\n",
        "# Convert body_type to title case\n",
        "used_cars[\"body_type\"] = used_cars[\"body_type\"].str.title()\n",
        "\n",
        "# Check the dtype\n",
        "print(used_cars[\"body_type\"].dtype)"
      ],
      "metadata": {
        "colab": {
          "base_uri": "https://localhost:8080/"
        },
        "id": "Y0RmGPWGUjiW",
        "outputId": "45cc8a78-fb06-448a-f1ef-c5112d23083a"
      },
      "execution_count": 38,
      "outputs": [
        {
          "output_type": "stream",
          "name": "stdout",
          "text": [
            "sedan        13011\n",
            "hatchback     7644\n",
            "universal     5507\n",
            "suv           5164\n",
            "minivan       3608\n",
            "minibus       1369\n",
            "van            808\n",
            "coupe          652\n",
            "liftback       552\n",
            "pickup         129\n",
            "cabriolet       75\n",
            "limousine       12\n",
            "Name: body_type, dtype: int64\n",
            "object\n"
          ]
        }
      ]
    },
    {
      "cell_type": "code",
      "source": [
        "# Convert to categorical and print the frequency table\n",
        "used_cars[\"color\"] = used_cars[\"color\"].astype(\"category\")\n",
        "print(used_cars[\"color\"].value_counts())\n",
        "\n",
        "# Create a label encoding\n",
        "used_cars[\"color_code\"] = used_cars[\"color\"].cat.codes\n",
        "\n",
        "# Create codes and categories objects\n",
        "codes = used_cars[\"color_code\"]\n",
        "categories = used_cars[\"color\"]\n",
        "color_map = dict(zip(codes, categories))\n",
        "\n",
        "# Print the map\n",
        "print(color_map)"
      ],
      "metadata": {
        "colab": {
          "base_uri": "https://localhost:8080/"
        },
        "id": "CSFi9iKRVJKe",
        "outputId": "cbe4b4ef-7cb2-42ac-fdf3-ab40e3a8a86d"
      },
      "execution_count": 39,
      "outputs": [
        {
          "output_type": "stream",
          "name": "stdout",
          "text": [
            "black     7705\n",
            "silver    6852\n",
            "blue      5802\n",
            "white     4212\n",
            "grey      3751\n",
            "red       2925\n",
            "green     2760\n",
            "other     2688\n",
            "brown      886\n",
            "violet     463\n",
            "yellow     303\n",
            "orange     184\n",
            "Name: color, dtype: int64\n",
            "{8: 'silver', 1: 'blue', 7: 'red', 0: 'black', 4: 'grey', 6: 'other', 2: 'brown', 10: 'white', 3: 'green', 9: 'violet', 5: 'orange', 11: 'yellow'}\n"
          ]
        }
      ]
    },
    {
      "cell_type": "markdown",
      "source": [
        "#### **Overcoming pitfalls: using NumPy arrays**\n"
      ],
      "metadata": {
        "id": "36Tzh_CEZW39"
      }
    },
    {
      "cell_type": "code",
      "source": [
        "# Create a new column 'Sale Rating' with custom distribution of ratings\n",
        "ratings = [1, 2, 3, 4, 5]  # Ratings values\n",
        "probabilities = [0.1, 0.1, 0.2, 0.2, 0.4]  # Probability distribution for each rating\n",
        "used_cars['Sale Rating'] = np.random.choice(ratings, size=len(used_cars), p=probabilities)\n",
        "\n",
        "used_cars.head(5)"
      ],
      "metadata": {
        "colab": {
          "base_uri": "https://localhost:8080/",
          "height": 317
        },
        "id": "IomhMEEzU99X",
        "outputId": "c53f2c51-ca9f-4fc4-e0a6-025954e55635"
      },
      "execution_count": 40,
      "outputs": [
        {
          "output_type": "execute_result",
          "data": {
            "text/plain": [
              "  manufacturer_name model_name transmission   color  odomengineeter_value  \\\n",
              "0            Subaru    Outback    automatic  silver                190000   \n",
              "1            Subaru    Outback    automatic    blue                290000   \n",
              "2            Subaru   Forester    automatic     red                402000   \n",
              "3            Subaru    Impreza   mechanical    blue                 10000   \n",
              "4            Subaru     Legacy    automatic   black                280000   \n",
              "\n",
              "   year_produced     _fuel  engine_has_gas engine_type  engine_capacity  ...  \\\n",
              "0           2010  gasoline           False    gasoline              2.5  ...   \n",
              "1           2002  gasoline           False    gasoline              3.0  ...   \n",
              "2           2001  gasoline           False    gasoline              2.5  ...   \n",
              "3           1999  gasoline           False    gasoline              3.0  ...   \n",
              "4           2001  gasoline           False    gasoline              2.5  ...   \n",
              "\n",
              "  feature_3  feature_4 feature_5 feature_6  feature_7  feature_8 feature_9  \\\n",
              "0      True      False      True     False       True       True      True   \n",
              "1     False       True      True     False      False      False      True   \n",
              "2     False      False     False     False      False       True      True   \n",
              "3     False      False     False     False      False      False     False   \n",
              "4      True       True     False     False      False      False      True   \n",
              "\n",
              "   duration_listed  color_code  Sale Rating  \n",
              "0               16           8            4  \n",
              "1               83           1            4  \n",
              "2              151           7            1  \n",
              "3               86           1            5  \n",
              "4                7           0            1  \n",
              "\n",
              "[5 rows x 32 columns]"
            ],
            "text/html": [
              "\n",
              "  <div id=\"df-1c252ce4-935c-499a-93df-23a72caa27f3\">\n",
              "    <div class=\"colab-df-container\">\n",
              "      <div>\n",
              "<style scoped>\n",
              "    .dataframe tbody tr th:only-of-type {\n",
              "        vertical-align: middle;\n",
              "    }\n",
              "\n",
              "    .dataframe tbody tr th {\n",
              "        vertical-align: top;\n",
              "    }\n",
              "\n",
              "    .dataframe thead th {\n",
              "        text-align: right;\n",
              "    }\n",
              "</style>\n",
              "<table border=\"1\" class=\"dataframe\">\n",
              "  <thead>\n",
              "    <tr style=\"text-align: right;\">\n",
              "      <th></th>\n",
              "      <th>manufacturer_name</th>\n",
              "      <th>model_name</th>\n",
              "      <th>transmission</th>\n",
              "      <th>color</th>\n",
              "      <th>odomengineeter_value</th>\n",
              "      <th>year_produced</th>\n",
              "      <th>_fuel</th>\n",
              "      <th>engine_has_gas</th>\n",
              "      <th>engine_type</th>\n",
              "      <th>engine_capacity</th>\n",
              "      <th>...</th>\n",
              "      <th>feature_3</th>\n",
              "      <th>feature_4</th>\n",
              "      <th>feature_5</th>\n",
              "      <th>feature_6</th>\n",
              "      <th>feature_7</th>\n",
              "      <th>feature_8</th>\n",
              "      <th>feature_9</th>\n",
              "      <th>duration_listed</th>\n",
              "      <th>color_code</th>\n",
              "      <th>Sale Rating</th>\n",
              "    </tr>\n",
              "  </thead>\n",
              "  <tbody>\n",
              "    <tr>\n",
              "      <th>0</th>\n",
              "      <td>Subaru</td>\n",
              "      <td>Outback</td>\n",
              "      <td>automatic</td>\n",
              "      <td>silver</td>\n",
              "      <td>190000</td>\n",
              "      <td>2010</td>\n",
              "      <td>gasoline</td>\n",
              "      <td>False</td>\n",
              "      <td>gasoline</td>\n",
              "      <td>2.5</td>\n",
              "      <td>...</td>\n",
              "      <td>True</td>\n",
              "      <td>False</td>\n",
              "      <td>True</td>\n",
              "      <td>False</td>\n",
              "      <td>True</td>\n",
              "      <td>True</td>\n",
              "      <td>True</td>\n",
              "      <td>16</td>\n",
              "      <td>8</td>\n",
              "      <td>4</td>\n",
              "    </tr>\n",
              "    <tr>\n",
              "      <th>1</th>\n",
              "      <td>Subaru</td>\n",
              "      <td>Outback</td>\n",
              "      <td>automatic</td>\n",
              "      <td>blue</td>\n",
              "      <td>290000</td>\n",
              "      <td>2002</td>\n",
              "      <td>gasoline</td>\n",
              "      <td>False</td>\n",
              "      <td>gasoline</td>\n",
              "      <td>3.0</td>\n",
              "      <td>...</td>\n",
              "      <td>False</td>\n",
              "      <td>True</td>\n",
              "      <td>True</td>\n",
              "      <td>False</td>\n",
              "      <td>False</td>\n",
              "      <td>False</td>\n",
              "      <td>True</td>\n",
              "      <td>83</td>\n",
              "      <td>1</td>\n",
              "      <td>4</td>\n",
              "    </tr>\n",
              "    <tr>\n",
              "      <th>2</th>\n",
              "      <td>Subaru</td>\n",
              "      <td>Forester</td>\n",
              "      <td>automatic</td>\n",
              "      <td>red</td>\n",
              "      <td>402000</td>\n",
              "      <td>2001</td>\n",
              "      <td>gasoline</td>\n",
              "      <td>False</td>\n",
              "      <td>gasoline</td>\n",
              "      <td>2.5</td>\n",
              "      <td>...</td>\n",
              "      <td>False</td>\n",
              "      <td>False</td>\n",
              "      <td>False</td>\n",
              "      <td>False</td>\n",
              "      <td>False</td>\n",
              "      <td>True</td>\n",
              "      <td>True</td>\n",
              "      <td>151</td>\n",
              "      <td>7</td>\n",
              "      <td>1</td>\n",
              "    </tr>\n",
              "    <tr>\n",
              "      <th>3</th>\n",
              "      <td>Subaru</td>\n",
              "      <td>Impreza</td>\n",
              "      <td>mechanical</td>\n",
              "      <td>blue</td>\n",
              "      <td>10000</td>\n",
              "      <td>1999</td>\n",
              "      <td>gasoline</td>\n",
              "      <td>False</td>\n",
              "      <td>gasoline</td>\n",
              "      <td>3.0</td>\n",
              "      <td>...</td>\n",
              "      <td>False</td>\n",
              "      <td>False</td>\n",
              "      <td>False</td>\n",
              "      <td>False</td>\n",
              "      <td>False</td>\n",
              "      <td>False</td>\n",
              "      <td>False</td>\n",
              "      <td>86</td>\n",
              "      <td>1</td>\n",
              "      <td>5</td>\n",
              "    </tr>\n",
              "    <tr>\n",
              "      <th>4</th>\n",
              "      <td>Subaru</td>\n",
              "      <td>Legacy</td>\n",
              "      <td>automatic</td>\n",
              "      <td>black</td>\n",
              "      <td>280000</td>\n",
              "      <td>2001</td>\n",
              "      <td>gasoline</td>\n",
              "      <td>False</td>\n",
              "      <td>gasoline</td>\n",
              "      <td>2.5</td>\n",
              "      <td>...</td>\n",
              "      <td>True</td>\n",
              "      <td>True</td>\n",
              "      <td>False</td>\n",
              "      <td>False</td>\n",
              "      <td>False</td>\n",
              "      <td>False</td>\n",
              "      <td>True</td>\n",
              "      <td>7</td>\n",
              "      <td>0</td>\n",
              "      <td>1</td>\n",
              "    </tr>\n",
              "  </tbody>\n",
              "</table>\n",
              "<p>5 rows × 32 columns</p>\n",
              "</div>\n",
              "      <button class=\"colab-df-convert\" onclick=\"convertToInteractive('df-1c252ce4-935c-499a-93df-23a72caa27f3')\"\n",
              "              title=\"Convert this dataframe to an interactive table.\"\n",
              "              style=\"display:none;\">\n",
              "        \n",
              "  <svg xmlns=\"http://www.w3.org/2000/svg\" height=\"24px\"viewBox=\"0 0 24 24\"\n",
              "       width=\"24px\">\n",
              "    <path d=\"M0 0h24v24H0V0z\" fill=\"none\"/>\n",
              "    <path d=\"M18.56 5.44l.94 2.06.94-2.06 2.06-.94-2.06-.94-.94-2.06-.94 2.06-2.06.94zm-11 1L8.5 8.5l.94-2.06 2.06-.94-2.06-.94L8.5 2.5l-.94 2.06-2.06.94zm10 10l.94 2.06.94-2.06 2.06-.94-2.06-.94-.94-2.06-.94 2.06-2.06.94z\"/><path d=\"M17.41 7.96l-1.37-1.37c-.4-.4-.92-.59-1.43-.59-.52 0-1.04.2-1.43.59L10.3 9.45l-7.72 7.72c-.78.78-.78 2.05 0 2.83L4 21.41c.39.39.9.59 1.41.59.51 0 1.02-.2 1.41-.59l7.78-7.78 2.81-2.81c.8-.78.8-2.07 0-2.86zM5.41 20L4 18.59l7.72-7.72 1.47 1.35L5.41 20z\"/>\n",
              "  </svg>\n",
              "      </button>\n",
              "      \n",
              "  <style>\n",
              "    .colab-df-container {\n",
              "      display:flex;\n",
              "      flex-wrap:wrap;\n",
              "      gap: 12px;\n",
              "    }\n",
              "\n",
              "    .colab-df-convert {\n",
              "      background-color: #E8F0FE;\n",
              "      border: none;\n",
              "      border-radius: 50%;\n",
              "      cursor: pointer;\n",
              "      display: none;\n",
              "      fill: #1967D2;\n",
              "      height: 32px;\n",
              "      padding: 0 0 0 0;\n",
              "      width: 32px;\n",
              "    }\n",
              "\n",
              "    .colab-df-convert:hover {\n",
              "      background-color: #E2EBFA;\n",
              "      box-shadow: 0px 1px 2px rgba(60, 64, 67, 0.3), 0px 1px 3px 1px rgba(60, 64, 67, 0.15);\n",
              "      fill: #174EA6;\n",
              "    }\n",
              "\n",
              "    [theme=dark] .colab-df-convert {\n",
              "      background-color: #3B4455;\n",
              "      fill: #D2E3FC;\n",
              "    }\n",
              "\n",
              "    [theme=dark] .colab-df-convert:hover {\n",
              "      background-color: #434B5C;\n",
              "      box-shadow: 0px 1px 3px 1px rgba(0, 0, 0, 0.15);\n",
              "      filter: drop-shadow(0px 1px 2px rgba(0, 0, 0, 0.3));\n",
              "      fill: #FFFFFF;\n",
              "    }\n",
              "  </style>\n",
              "\n",
              "      <script>\n",
              "        const buttonEl =\n",
              "          document.querySelector('#df-1c252ce4-935c-499a-93df-23a72caa27f3 button.colab-df-convert');\n",
              "        buttonEl.style.display =\n",
              "          google.colab.kernel.accessAllowed ? 'block' : 'none';\n",
              "\n",
              "        async function convertToInteractive(key) {\n",
              "          const element = document.querySelector('#df-1c252ce4-935c-499a-93df-23a72caa27f3');\n",
              "          const dataTable =\n",
              "            await google.colab.kernel.invokeFunction('convertToInteractive',\n",
              "                                                     [key], {});\n",
              "          if (!dataTable) return;\n",
              "\n",
              "          const docLinkHtml = 'Like what you see? Visit the ' +\n",
              "            '<a target=\"_blank\" href=https://colab.research.google.com/notebooks/data_table.ipynb>data table notebook</a>'\n",
              "            + ' to learn more about interactive tables.';\n",
              "          element.innerHTML = '';\n",
              "          dataTable['output_type'] = 'display_data';\n",
              "          await google.colab.output.renderOutput(dataTable, element);\n",
              "          const docLink = document.createElement('div');\n",
              "          docLink.innerHTML = docLinkHtml;\n",
              "          element.appendChild(docLink);\n",
              "        }\n",
              "      </script>\n",
              "    </div>\n",
              "  </div>\n",
              "  "
            ]
          },
          "metadata": {},
          "execution_count": 40
        }
      ]
    },
    {
      "cell_type": "code",
      "source": [
        "# Print the frequency table of Sale Rating\n",
        "print(used_cars[\"Sale Rating\"].value_counts())\n",
        "\n",
        "# Find the average score\n",
        "average_score = used_cars[\"Sale Rating\"].astype(int).mean()\n",
        "\n",
        "# Create a count plot of 'Sale Rating'\n",
        "sns.countplot(data=used_cars, x='Sale Rating')\n",
        "\n",
        "# Set plot title and labels\n",
        "plt.title('Sale Rating Count')\n",
        "plt.xlabel('Sale Rating')\n",
        "plt.ylabel('Count')\n",
        "\n",
        "# Display the plot\n",
        "plt.show()"
      ],
      "metadata": {
        "colab": {
          "base_uri": "https://localhost:8080/",
          "height": 598
        },
        "id": "V_nI6jDbWUq5",
        "outputId": "7b2d955e-246f-49d8-d563-3bd8df3fb2f8"
      },
      "execution_count": 41,
      "outputs": [
        {
          "output_type": "stream",
          "name": "stdout",
          "text": [
            "5    15434\n",
            "3     7711\n",
            "4     7678\n",
            "2     3878\n",
            "1     3830\n",
            "Name: Sale Rating, dtype: int64\n"
          ]
        },
        {
          "output_type": "display_data",
          "data": {
            "text/plain": [
              "<Figure size 640x480 with 1 Axes>"
            ],
            "image/png": "[encoded data removed]"
          },
          "metadata": {}
        }
      ]
    },
    {
      "cell_type": "markdown",
      "source": [
        "### **Label encoding**\n"
      ],
      "metadata": {
        "id": "RUAJ-IZbZYKs"
      }
    },
    {
      "cell_type": "markdown",
      "source": [
        "#### **Create a label encoding and map**\n"
      ],
      "metadata": {
        "id": "XOT31ILBZZut"
      }
    },
    {
      "cell_type": "code",
      "source": [
        "# Convert to categorical and print the frequency table\n",
        "used_cars[\"color\"] = used_cars[\"color\"].astype(\"category\")\n",
        "print(used_cars[\"color\"].value_counts())\n",
        "\n",
        "# Create a label encoding\n",
        "used_cars[\"color_code\"] = used_cars[\"color\"].cat.codes\n",
        "\n",
        "# Create codes and categories objects\n",
        "codes = used_cars[\"color\"].cat.codes\n",
        "categories = used_cars[\"color\"]\n",
        "color_map = dict(zip(codes, categories))\n",
        "\n",
        "# Print the map\n",
        "print(color_map)"
      ],
      "metadata": {
        "colab": {
          "base_uri": "https://localhost:8080/"
        },
        "id": "39mFvj-kUkry",
        "outputId": "f5b3c743-a687-4cac-fc16-ed90f69c6c57"
      },
      "execution_count": 42,
      "outputs": [
        {
          "output_type": "stream",
          "name": "stdout",
          "text": [
            "black     7705\n",
            "silver    6852\n",
            "blue      5802\n",
            "white     4212\n",
            "grey      3751\n",
            "red       2925\n",
            "green     2760\n",
            "other     2688\n",
            "brown      886\n",
            "violet     463\n",
            "yellow     303\n",
            "orange     184\n",
            "Name: color, dtype: int64\n",
            "{8: 'silver', 1: 'blue', 7: 'red', 0: 'black', 4: 'grey', 6: 'other', 2: 'brown', 10: 'white', 3: 'green', 9: 'violet', 5: 'orange', 11: 'yellow'}\n"
          ]
        }
      ]
    },
    {
      "cell_type": "markdown",
      "source": [
        "#### **Using saved mappings**\n"
      ],
      "metadata": {
        "id": "rS4tCq-MZbUV"
      }
    },
    {
      "cell_type": "code",
      "source": [
        "import pandas as pd\n",
        "\n",
        "# Create a new DataFrame\n",
        "used_cars = pd.DataFrame({\n",
        "    \"color\": [\"blue\", \"red\", \"black\", \"silver\", \"grey\"],\n",
        "    \"engine_fuel\": [\"gasoline\", \"diesel\", \"gasoline\", \"electric\", \"diesel\"],\n",
        "    \"transmission\": [\"automatic\", \"manual\", \"automatic\", \"automatic\", \"manual\"],\n",
        "    \"price_usd\": [10000, 15000, 12000, 18000, 20000]\n",
        "})\n",
        "\n",
        "display(used_cars)\n",
        "print(\"\\n\")\n",
        "\n",
        "# Define the color_map, fuel_map, and transmission_map\n",
        "color_map = {'blue': 0,  'red':1, 'black': 2, 'silver':3,  'grey': 4}\n",
        "fuel_map = {'gasoline': 0, 'diesel': 1, 'electric': 2}\n",
        "transmission_map = {'automatic': 0, 'manual': 1}\n",
        "# Update the color column using the color_map\n",
        "used_cars[\"color\"] = used_cars[\"color\"].map(color_map)\n",
        "used_cars[\"color\"] = used_cars[\"color\"].astype(\"category\")\n",
        "\n",
        "# Update the engine fuel column using the fuel_map\n",
        "used_cars[\"engine_fuel\"] = used_cars[\"engine_fuel\"].map(fuel_map)\n",
        "used_cars[\"engine_fuel\"] = used_cars[\"engine_fuel\"].astype(\"category\")\n",
        "\n",
        "# Update the transmission column using the transmission_map\n",
        "used_cars[\"transmission\"] = used_cars[\"transmission\"].map(transmission_map)\n",
        "used_cars[\"transmission\"] = used_cars[\"transmission\"].astype(\"category\")\n",
        "\n",
        "display(used_cars)\n",
        "print(\"\\n\")\n",
        "\n",
        "# Print the info statement\n",
        "print(used_cars.info())"
      ],
      "metadata": {
        "colab": {
          "base_uri": "https://localhost:8080/",
          "height": 673
        },
        "id": "d5KzdzHSY36V",
        "outputId": "fe94fdbf-63a3-4733-9765-37a8754f0913"
      },
      "execution_count": 43,
      "outputs": [
        {
          "output_type": "display_data",
          "data": {
            "text/plain": [
              "    color engine_fuel transmission  price_usd\n",
              "0    blue    gasoline    automatic      10000\n",
              "1     red      diesel       manual      15000\n",
              "2   black    gasoline    automatic      12000\n",
              "3  silver    electric    automatic      18000\n",
              "4    grey      diesel       manual      20000"
            ],
            "text/html": [
              "\n",
              "  <div id=\"df-42844446-10a7-407d-838d-2c78c468a88a\">\n",
              "    <div class=\"colab-df-container\">\n",
              "      <div>\n",
              "<style scoped>\n",
              "    .dataframe tbody tr th:only-of-type {\n",
              "        vertical-align: middle;\n",
              "    }\n",
              "\n",
              "    .dataframe tbody tr th {\n",
              "        vertical-align: top;\n",
              "    }\n",
              "\n",
              "    .dataframe thead th {\n",
              "        text-align: right;\n",
              "    }\n",
              "</style>\n",
              "<table border=\"1\" class=\"dataframe\">\n",
              "  <thead>\n",
              "    <tr style=\"text-align: right;\">\n",
              "      <th></th>\n",
              "      <th>color</th>\n",
              "      <th>engine_fuel</th>\n",
              "      <th>transmission</th>\n",
              "      <th>price_usd</th>\n",
              "    </tr>\n",
              "  </thead>\n",
              "  <tbody>\n",
              "    <tr>\n",
              "      <th>0</th>\n",
              "      <td>blue</td>\n",
              "      <td>gasoline</td>\n",
              "      <td>automatic</td>\n",
              "      <td>10000</td>\n",
              "    </tr>\n",
              "    <tr>\n",
              "      <th>1</th>\n",
              "      <td>red</td>\n",
              "      <td>diesel</td>\n",
              "      <td>manual</td>\n",
              "      <td>15000</td>\n",
              "    </tr>\n",
              "    <tr>\n",
              "      <th>2</th>\n",
              "      <td>black</td>\n",
              "      <td>gasoline</td>\n",
              "      <td>automatic</td>\n",
              "      <td>12000</td>\n",
              "    </tr>\n",
              "    <tr>\n",
              "      <th>3</th>\n",
              "      <td>silver</td>\n",
              "      <td>electric</td>\n",
              "      <td>automatic</td>\n",
              "      <td>18000</td>\n",
              "    </tr>\n",
              "    <tr>\n",
              "      <th>4</th>\n",
              "      <td>grey</td>\n",
              "      <td>diesel</td>\n",
              "      <td>manual</td>\n",
              "      <td>20000</td>\n",
              "    </tr>\n",
              "  </tbody>\n",
              "</table>\n",
              "</div>\n",
              "      <button class=\"colab-df-convert\" onclick=\"convertToInteractive('df-42844446-10a7-407d-838d-2c78c468a88a')\"\n",
              "              title=\"Convert this dataframe to an interactive table.\"\n",
              "              style=\"display:none;\">\n",
              "        \n",
              "  <svg xmlns=\"http://www.w3.org/2000/svg\" height=\"24px\"viewBox=\"0 0 24 24\"\n",
              "       width=\"24px\">\n",
              "    <path d=\"M0 0h24v24H0V0z\" fill=\"none\"/>\n",
              "    <path d=\"M18.56 5.44l.94 2.06.94-2.06 2.06-.94-2.06-.94-.94-2.06-.94 2.06-2.06.94zm-11 1L8.5 8.5l.94-2.06 2.06-.94-2.06-.94L8.5 2.5l-.94 2.06-2.06.94zm10 10l.94 2.06.94-2.06 2.06-.94-2.06-.94-.94-2.06-.94 2.06-2.06.94z\"/><path d=\"M17.41 7.96l-1.37-1.37c-.4-.4-.92-.59-1.43-.59-.52 0-1.04.2-1.43.59L10.3 9.45l-7.72 7.72c-.78.78-.78 2.05 0 2.83L4 21.41c.39.39.9.59 1.41.59.51 0 1.02-.2 1.41-.59l7.78-7.78 2.81-2.81c.8-.78.8-2.07 0-2.86zM5.41 20L4 18.59l7.72-7.72 1.47 1.35L5.41 20z\"/>\n",
              "  </svg>\n",
              "      </button>\n",
              "      \n",
              "  <style>\n",
              "    .colab-df-container {\n",
              "      display:flex;\n",
              "      flex-wrap:wrap;\n",
              "      gap: 12px;\n",
              "    }\n",
              "\n",
              "    .colab-df-convert {\n",
              "      background-color: #E8F0FE;\n",
              "      border: none;\n",
              "      border-radius: 50%;\n",
              "      cursor: pointer;\n",
              "      display: none;\n",
              "      fill: #1967D2;\n",
              "      height: 32px;\n",
              "      padding: 0 0 0 0;\n",
              "      width: 32px;\n",
              "    }\n",
              "\n",
              "    .colab-df-convert:hover {\n",
              "      background-color: #E2EBFA;\n",
              "      box-shadow: 0px 1px 2px rgba(60, 64, 67, 0.3), 0px 1px 3px 1px rgba(60, 64, 67, 0.15);\n",
              "      fill: #174EA6;\n",
              "    }\n",
              "\n",
              "    [theme=dark] .colab-df-convert {\n",
              "      background-color: #3B4455;\n",
              "      fill: #D2E3FC;\n",
              "    }\n",
              "\n",
              "    [theme=dark] .colab-df-convert:hover {\n",
              "      background-color: #434B5C;\n",
              "      box-shadow: 0px 1px 3px 1px rgba(0, 0, 0, 0.15);\n",
              "      filter: drop-shadow(0px 1px 2px rgba(0, 0, 0, 0.3));\n",
              "      fill: #FFFFFF;\n",
              "    }\n",
              "  </style>\n",
              "\n",
              "      <script>\n",
              "        const buttonEl =\n",
              "          document.querySelector('#df-42844446-10a7-407d-838d-2c78c468a88a button.colab-df-convert');\n",
              "        buttonEl.style.display =\n",
              "          google.colab.kernel.accessAllowed ? 'block' : 'none';\n",
              "\n",
              "        async function convertToInteractive(key) {\n",
              "          const element = document.querySelector('#df-42844446-10a7-407d-838d-2c78c468a88a');\n",
              "          const dataTable =\n",
              "            await google.colab.kernel.invokeFunction('convertToInteractive',\n",
              "                                                     [key], {});\n",
              "          if (!dataTable) return;\n",
              "\n",
              "          const docLinkHtml = 'Like what you see? Visit the ' +\n",
              "            '<a target=\"_blank\" href=https://colab.research.google.com/notebooks/data_table.ipynb>data table notebook</a>'\n",
              "            + ' to learn more about interactive tables.';\n",
              "          element.innerHTML = '';\n",
              "          dataTable['output_type'] = 'display_data';\n",
              "          await google.colab.output.renderOutput(dataTable, element);\n",
              "          const docLink = document.createElement('div');\n",
              "          docLink.innerHTML = docLinkHtml;\n",
              "          element.appendChild(docLink);\n",
              "        }\n",
              "      </script>\n",
              "    </div>\n",
              "  </div>\n",
              "  "
            ]
          },
          "metadata": {}
        },
        {
          "output_type": "stream",
          "name": "stdout",
          "text": [
            "\n",
            "\n"
          ]
        },
        {
          "output_type": "display_data",
          "data": {
            "text/plain": [
              "  color engine_fuel transmission  price_usd\n",
              "0     0           0            0      10000\n",
              "1     1           1            1      15000\n",
              "2     2           0            0      12000\n",
              "3     3           2            0      18000\n",
              "4     4           1            1      20000"
            ],
            "text/html": [
              "\n",
              "  <div id=\"df-41f672a4-5bd6-44d9-8b96-77aa3f730298\">\n",
              "    <div class=\"colab-df-container\">\n",
              "      <div>\n",
              "<style scoped>\n",
              "    .dataframe tbody tr th:only-of-type {\n",
              "        vertical-align: middle;\n",
              "    }\n",
              "\n",
              "    .dataframe tbody tr th {\n",
              "        vertical-align: top;\n",
              "    }\n",
              "\n",
              "    .dataframe thead th {\n",
              "        text-align: right;\n",
              "    }\n",
              "</style>\n",
              "<table border=\"1\" class=\"dataframe\">\n",
              "  <thead>\n",
              "    <tr style=\"text-align: right;\">\n",
              "      <th></th>\n",
              "      <th>color</th>\n",
              "      <th>engine_fuel</th>\n",
              "      <th>transmission</th>\n",
              "      <th>price_usd</th>\n",
              "    </tr>\n",
              "  </thead>\n",
              "  <tbody>\n",
              "    <tr>\n",
              "      <th>0</th>\n",
              "      <td>0</td>\n",
              "      <td>0</td>\n",
              "      <td>0</td>\n",
              "      <td>10000</td>\n",
              "    </tr>\n",
              "    <tr>\n",
              "      <th>1</th>\n",
              "      <td>1</td>\n",
              "      <td>1</td>\n",
              "      <td>1</td>\n",
              "      <td>15000</td>\n",
              "    </tr>\n",
              "    <tr>\n",
              "      <th>2</th>\n",
              "      <td>2</td>\n",
              "      <td>0</td>\n",
              "      <td>0</td>\n",
              "      <td>12000</td>\n",
              "    </tr>\n",
              "    <tr>\n",
              "      <th>3</th>\n",
              "      <td>3</td>\n",
              "      <td>2</td>\n",
              "      <td>0</td>\n",
              "      <td>18000</td>\n",
              "    </tr>\n",
              "    <tr>\n",
              "      <th>4</th>\n",
              "      <td>4</td>\n",
              "      <td>1</td>\n",
              "      <td>1</td>\n",
              "      <td>20000</td>\n",
              "    </tr>\n",
              "  </tbody>\n",
              "</table>\n",
              "</div>\n",
              "      <button class=\"colab-df-convert\" onclick=\"convertToInteractive('df-41f672a4-5bd6-44d9-8b96-77aa3f730298')\"\n",
              "              title=\"Convert this dataframe to an interactive table.\"\n",
              "              style=\"display:none;\">\n",
              "        \n",
              "  <svg xmlns=\"http://www.w3.org/2000/svg\" height=\"24px\"viewBox=\"0 0 24 24\"\n",
              "       width=\"24px\">\n",
              "    <path d=\"M0 0h24v24H0V0z\" fill=\"none\"/>\n",
              "    <path d=\"M18.56 5.44l.94 2.06.94-2.06 2.06-.94-2.06-.94-.94-2.06-.94 2.06-2.06.94zm-11 1L8.5 8.5l.94-2.06 2.06-.94-2.06-.94L8.5 2.5l-.94 2.06-2.06.94zm10 10l.94 2.06.94-2.06 2.06-.94-2.06-.94-.94-2.06-.94 2.06-2.06.94z\"/><path d=\"M17.41 7.96l-1.37-1.37c-.4-.4-.92-.59-1.43-.59-.52 0-1.04.2-1.43.59L10.3 9.45l-7.72 7.72c-.78.78-.78 2.05 0 2.83L4 21.41c.39.39.9.59 1.41.59.51 0 1.02-.2 1.41-.59l7.78-7.78 2.81-2.81c.8-.78.8-2.07 0-2.86zM5.41 20L4 18.59l7.72-7.72 1.47 1.35L5.41 20z\"/>\n",
              "  </svg>\n",
              "      </button>\n",
              "      \n",
              "  <style>\n",
              "    .colab-df-container {\n",
              "      display:flex;\n",
              "      flex-wrap:wrap;\n",
              "      gap: 12px;\n",
              "    }\n",
              "\n",
              "    .colab-df-convert {\n",
              "      background-color: #E8F0FE;\n",
              "      border: none;\n",
              "      border-radius: 50%;\n",
              "      cursor: pointer;\n",
              "      display: none;\n",
              "      fill: #1967D2;\n",
              "      height: 32px;\n",
              "      padding: 0 0 0 0;\n",
              "      width: 32px;\n",
              "    }\n",
              "\n",
              "    .colab-df-convert:hover {\n",
              "      background-color: #E2EBFA;\n",
              "      box-shadow: 0px 1px 2px rgba(60, 64, 67, 0.3), 0px 1px 3px 1px rgba(60, 64, 67, 0.15);\n",
              "      fill: #174EA6;\n",
              "    }\n",
              "\n",
              "    [theme=dark] .colab-df-convert {\n",
              "      background-color: #3B4455;\n",
              "      fill: #D2E3FC;\n",
              "    }\n",
              "\n",
              "    [theme=dark] .colab-df-convert:hover {\n",
              "      background-color: #434B5C;\n",
              "      box-shadow: 0px 1px 3px 1px rgba(0, 0, 0, 0.15);\n",
              "      filter: drop-shadow(0px 1px 2px rgba(0, 0, 0, 0.3));\n",
              "      fill: #FFFFFF;\n",
              "    }\n",
              "  </style>\n",
              "\n",
              "      <script>\n",
              "        const buttonEl =\n",
              "          document.querySelector('#df-41f672a4-5bd6-44d9-8b96-77aa3f730298 button.colab-df-convert');\n",
              "        buttonEl.style.display =\n",
              "          google.colab.kernel.accessAllowed ? 'block' : 'none';\n",
              "\n",
              "        async function convertToInteractive(key) {\n",
              "          const element = document.querySelector('#df-41f672a4-5bd6-44d9-8b96-77aa3f730298');\n",
              "          const dataTable =\n",
              "            await google.colab.kernel.invokeFunction('convertToInteractive',\n",
              "                                                     [key], {});\n",
              "          if (!dataTable) return;\n",
              "\n",
              "          const docLinkHtml = 'Like what you see? Visit the ' +\n",
              "            '<a target=\"_blank\" href=https://colab.research.google.com/notebooks/data_table.ipynb>data table notebook</a>'\n",
              "            + ' to learn more about interactive tables.';\n",
              "          element.innerHTML = '';\n",
              "          dataTable['output_type'] = 'display_data';\n",
              "          await google.colab.output.renderOutput(dataTable, element);\n",
              "          const docLink = document.createElement('div');\n",
              "          docLink.innerHTML = docLinkHtml;\n",
              "          element.appendChild(docLink);\n",
              "        }\n",
              "      </script>\n",
              "    </div>\n",
              "  </div>\n",
              "  "
            ]
          },
          "metadata": {}
        },
        {
          "output_type": "stream",
          "name": "stdout",
          "text": [
            "\n",
            "\n",
            "<class 'pandas.core.frame.DataFrame'>\n",
            "RangeIndex: 5 entries, 0 to 4\n",
            "Data columns (total 4 columns):\n",
            " #   Column        Non-Null Count  Dtype   \n",
            "---  ------        --------------  -----   \n",
            " 0   color         5 non-null      category\n",
            " 1   engine_fuel   5 non-null      category\n",
            " 2   transmission  5 non-null      category\n",
            " 3   price_usd     5 non-null      int64   \n",
            "dtypes: category(3), int64(1)\n",
            "memory usage: 651.0 bytes\n",
            "None\n"
          ]
        }
      ]
    },
    {
      "cell_type": "markdown",
      "source": [
        "#### **Creating a Boolean encoding**\n"
      ],
      "metadata": {
        "id": "5FYS98YKZcud"
      }
    },
    {
      "cell_type": "code",
      "source": [
        "used_cars = pd.read_csv(url_cars)\n",
        "\n",
        "# Print the \"manufacturer_name\" frequency table.\n",
        "print(used_cars[\"manufacturer_name\"].value_counts())\n",
        "\n",
        "# Create a Boolean column for the most common manufacturer name\n",
        "used_cars[\"is_volkswagen\"] = np.where(used_cars[\"manufacturer_name\"].str.contains(\"Volkswagen\", regex=False), 1, 0)\n",
        "  \n",
        "# Check the final frequency table\n",
        "print(used_cars[\"is_volkswagen\"].value_counts())"
      ],
      "metadata": {
        "colab": {
          "base_uri": "https://localhost:8080/"
        },
        "id": "pQeMvmUdUlfW",
        "outputId": "cf1e6886-e5f8-4c49-9f32-43f69edd7f46"
      },
      "execution_count": 44,
      "outputs": [
        {
          "output_type": "stream",
          "name": "stdout",
          "text": [
            "Volkswagen       4243\n",
            "Opel             2759\n",
            "BMW              2610\n",
            "Ford             2566\n",
            "Renault          2493\n",
            "Audi             2468\n",
            "Mercedes-Benz    2237\n",
            "Peugeot          1909\n",
            "Citroen          1562\n",
            "Nissan           1361\n",
            "Mazda            1328\n",
            "Toyota           1246\n",
            "Hyundai          1116\n",
            "Skoda            1089\n",
            "Kia               912\n",
            "Mitsubishi        887\n",
            "Fiat              824\n",
            "Honda             797\n",
            "Volvo             721\n",
            "ВАЗ               481\n",
            "Chevrolet         436\n",
            "Chrysler          410\n",
            "Seat              303\n",
            "Dodge             297\n",
            "Subaru            291\n",
            "Rover             235\n",
            "Suzuki            234\n",
            "Daewoo            221\n",
            "Lexus             213\n",
            "Alfa Romeo        207\n",
            "ГАЗ               200\n",
            "Land Rover        184\n",
            "Infiniti          162\n",
            "LADA              146\n",
            "Iveco             139\n",
            "Saab              108\n",
            "Jeep              107\n",
            "Lancia             92\n",
            "SsangYong          79\n",
            "УАЗ                74\n",
            "Geely              71\n",
            "Mini               68\n",
            "Acura              66\n",
            "Porsche            61\n",
            "Dacia              59\n",
            "Chery              58\n",
            "Москвич            55\n",
            "Jaguar             53\n",
            "Buick              47\n",
            "Lifan              47\n",
            "Cadillac           43\n",
            "Pontiac            42\n",
            "ЗАЗ                42\n",
            "Lincoln            36\n",
            "Great Wall         36\n",
            "Name: manufacturer_name, dtype: int64\n",
            "0    34288\n",
            "1     4243\n",
            "Name: is_volkswagen, dtype: int64\n"
          ]
        }
      ]
    },
    {
      "cell_type": "markdown",
      "source": [
        "### **One-hot encoding**\n"
      ],
      "metadata": {
        "id": "DXIZzPjqZeJV"
      }
    },
    {
      "cell_type": "markdown",
      "source": [
        "#### **One-hot knowledge check**\n"
      ],
      "metadata": {
        "id": "EampZmOEZfoN"
      }
    },
    {
      "cell_type": "code",
      "source": [
        "import pandas as pd\n",
        "\n",
        "data = {'Color': ['Red', 'Blue', 'Green', 'Green', 'Red', 'Yellow']}\n",
        "df = pd.DataFrame(data)\n",
        "\n",
        "color_onehot = pd.get_dummies(df['Color'], prefix='Color')\n",
        "\n",
        "print(color_onehot)"
      ],
      "metadata": {
        "colab": {
          "base_uri": "https://localhost:8080/"
        },
        "id": "uOhQ_wWLUmC-",
        "outputId": "e4f3e276-c162-4fc2-e27a-7ba55e11a380"
      },
      "execution_count": 45,
      "outputs": [
        {
          "output_type": "stream",
          "name": "stdout",
          "text": [
            "   Color_Blue  Color_Green  Color_Red  Color_Yellow\n",
            "0           0            0          1             0\n",
            "1           1            0          0             0\n",
            "2           0            1          0             0\n",
            "3           0            1          0             0\n",
            "4           0            0          1             0\n",
            "5           0            0          0             1\n"
          ]
        }
      ]
    },
    {
      "cell_type": "markdown",
      "source": [
        "#### **One-hot encoding specific columns**\n"
      ],
      "metadata": {
        "id": "_ECZExeNZg69"
      }
    },
    {
      "cell_type": "code",
      "source": [
        "# Create one-hot encoding for just two columns\n",
        "used_cars_simple = pd.get_dummies(\n",
        "  used_cars,\n",
        "  # Specify the columns from the instructions\n",
        "  columns=[\"manufacturer_name\", \"transmission\"],\n",
        "  # Set the prefix\n",
        "  prefix=\"dummy\"\n",
        ")\n",
        "\n",
        "# Print the shape of the new dataset\n",
        "print(used_cars_simple.shape)"
      ],
      "metadata": {
        "colab": {
          "base_uri": "https://localhost:8080/"
        },
        "id": "Gy4kMdZlUmdW",
        "outputId": "7b5f25ad-5969-4285-ed81-067b4cf0bca4"
      },
      "execution_count": 46,
      "outputs": [
        {
          "output_type": "stream",
          "name": "stdout",
          "text": [
            "(38531, 86)\n"
          ]
        }
      ]
    },
    {
      "cell_type": "markdown",
      "source": [
        "#### $\\color{skyblue}{\\textbf{Connect with me:}}$\n",
        "\n",
        "\n",
        "[<img align=\"left\" src=\"https://cdn4.iconfinder.com/data/icons/social-media-icons-the-circle-set/48/twitter_circle-512.png\" width=\"32px\"/>][twitter]\n",
        "[<img align=\"left\" src=\"https://cdn-icons-png.flaticon.com/512/145/145807.png\" width=\"32px\"/>][linkedin]\n",
        "[<img align=\"left\" src=\"https://cdn2.iconfinder.com/data/icons/whcompare-blue-green-web-hosting-1/425/cdn-512.png\" width=\"32px\"/>][Portfolio]\n",
        "\n",
        "[twitter]: https://twitter.com/F4izy\n",
        "[linkedin]: https://www.linkedin.com/in/mohd-faizy/\n",
        "[Portfolio]: https://mohdfaizy.com/"
      ],
      "metadata": {
        "id": "GuzwV2eSEd55"
      }
    }
  ]
}