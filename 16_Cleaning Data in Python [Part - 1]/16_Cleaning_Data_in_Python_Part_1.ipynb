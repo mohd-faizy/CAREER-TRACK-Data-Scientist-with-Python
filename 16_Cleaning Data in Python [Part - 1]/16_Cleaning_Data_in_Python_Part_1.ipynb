{
  "nbformat": 4,
  "nbformat_minor": 0,
  "metadata": {
    "colab": {
      "provenance": [],
      "toc_visible": true
    },
    "kernelspec": {
      "name": "python3",
      "display_name": "Python 3"
    },
    "language_info": {
      "name": "python"
    }
  },
  "cells": [
    {
      "cell_type": "markdown",
      "metadata": {
        "id": "SWtZYSlC45Ky"
      },
      "source": [
        "# <center>**Cleaning Data in Python Part-1**</center>"
      ]
    },
    {
      "cell_type": "code",
      "execution_count": 1,
      "metadata": {
        "id": "3HE0AQkGDpPT"
      },
      "outputs": [],
      "source": [
        "import pandas as pd\n",
        "import numpy as np\n",
        "import seaborn as sns\n",
        "import matplotlib.pyplot as plt"
      ]
    },
    {
      "cell_type": "code",
      "source": [
        "url_airlines_final = \"https://raw.githubusercontent.com/mohd-faizy/CAREER-TRACK-Data-Scientist-with-Python/main/16_Cleaning%20Data%20in%20Python%20%5BPart%20-%201%5D/_datasets/airlines_final.csv\"\n",
        "url_banking_dirty = \"https://raw.githubusercontent.com/mohd-faizy/CAREER-TRACK-Data-Scientist-with-Python/main/16_Cleaning%20Data%20in%20Python%20%5BPart%20-%201%5D/_datasets/banking_dirty.csv\"\n",
        "url_restaurants_L2 = \"https://raw.githubusercontent.com/mohd-faizy/CAREER-TRACK-Data-Scientist-with-Python/main/16_Cleaning%20Data%20in%20Python%20%5BPart%20-%201%5D/_datasets/restaurants_L2.csv\"\n",
        "url_restaurants_L2_dirty = \"https://raw.githubusercontent.com/mohd-faizy/CAREER-TRACK-Data-Scientist-with-Python/main/16_Cleaning%20Data%20in%20Python%20%5BPart%20-%201%5D/_datasets/restaurants_L2_dirty.csv\"\n",
        "url_ride_sharing = \"https://raw.githubusercontent.com/mohd-faizy/CAREER-TRACK-Data-Scientist-with-Python/main/16_Cleaning%20Data%20in%20Python%20%5BPart%20-%201%5D/_datasets/ride_sharing.csv\""
      ],
      "metadata": {
        "id": "5tb4uTO2HSNI"
      },
      "execution_count": 2,
      "outputs": []
    },
    {
      "cell_type": "markdown",
      "metadata": {
        "id": "rxK0-KhAgEo9"
      },
      "source": [
        "# **1️⃣Common data problems**"
      ]
    },
    {
      "cell_type": "markdown",
      "source": [
        "**Common data types in pandas:**\n",
        "\n",
        "- `Series`: A one-dimensional labeled array capable of holding any data type. It is similar to a column in a spreadsheet or a database table. Each element in a Series has a unique label called an index.\n",
        "\n",
        "- `DataFrame`: A two-dimensional labeled data structure consisting of columns. It is similar to a table in a relational database or a spreadsheet. DataFrames are the primary data structure used in pandas and are most commonly used for data analysis and manipulation.\n",
        "\n",
        "- `Index`: An immutable array or sequence that serves as the row labels for a DataFrame or a Series. It helps in accessing and manipulating data based on the labels.\n",
        "\n",
        "- `Numeric types`: Pandas supports various numeric types, including int64 (integer), float64 (floating-point), and complex128 (complex number).\n",
        "\n",
        "- `DateTime`: Pandas provides a DateTime data type for handling dates and times. It includes functionalities for parsing, indexing, and performing operations on dates and times.\n",
        "\n",
        "- `Categorical`: Categorical data type is used to represent data with a limited set of values. It is useful when dealing with data that has a fixed number of possible categories or levels.\n",
        "\n",
        "- `Boolean`: Boolean data type represents the truth values True and False. It is often used for filtering and logical operations on data.\n",
        "\n",
        "- `Text/String`: Pandas provides object data type for storing text or string data. It is a flexible data type that can hold mixed types of data, but it may impact performance compared to other data types."
      ],
      "metadata": {
        "id": "oWKKkSoAIqYf"
      }
    },
    {
      "cell_type": "markdown",
      "metadata": {
        "id": "4lGfrCy6sM3U"
      },
      "source": [
        "## **Data type constraints**\n"
      ]
    },
    {
      "cell_type": "markdown",
      "metadata": {
        "id": "GlHv0ypusM3V"
      },
      "source": [
        "#### **Numeric data or ... ?**"
      ]
    },
    {
      "cell_type": "code",
      "execution_count": 3,
      "metadata": {
        "id": "xobxeJRzsM3W",
        "colab": {
          "base_uri": "https://localhost:8080/",
          "height": 206
        },
        "outputId": "80be40ee-1f41-44a0-99c9-06aa7522a2fc"
      },
      "outputs": [
        {
          "output_type": "execute_result",
          "data": {
            "text/plain": [
              "     duration  station_A_id  \\\n",
              "0  12 minutes            81   \n",
              "1  24 minutes             3   \n",
              "2   8 minutes            67   \n",
              "3   4 minutes            16   \n",
              "4  11 minutes            22   \n",
              "\n",
              "                                      station_A_name  station_B_id  \\\n",
              "0                                 Berry St at 4th St           323   \n",
              "1       Powell St BART Station (Market St at 4th St)           118   \n",
              "2  San Francisco Caltrain Station 2  (Townsend St...            23   \n",
              "3                            Steuart St at Market St            28   \n",
              "4                              Howard St at Beale St           350   \n",
              "\n",
              "                    station_B_name  bike_id  user_type  user_birth_year  \\\n",
              "0               Broadway at Kearny     5480          2             1959   \n",
              "1  Eureka Valley Recreation Center     5193          2             1965   \n",
              "2    The Embarcadero at Steuart St     3652          3             1993   \n",
              "3     The Embarcadero at Bryant St     1883          1             1979   \n",
              "4             8th St at Brannan St     4626          2             1994   \n",
              "\n",
              "  user_gender  \n",
              "0        Male  \n",
              "1        Male  \n",
              "2        Male  \n",
              "3        Male  \n",
              "4        Male  "
            ],
            "text/html": [
              "\n",
              "  <div id=\"df-5d38f92e-4833-45d4-b2d9-3711f343b450\">\n",
              "    <div class=\"colab-df-container\">\n",
              "      <div>\n",
              "<style scoped>\n",
              "    .dataframe tbody tr th:only-of-type {\n",
              "        vertical-align: middle;\n",
              "    }\n",
              "\n",
              "    .dataframe tbody tr th {\n",
              "        vertical-align: top;\n",
              "    }\n",
              "\n",
              "    .dataframe thead th {\n",
              "        text-align: right;\n",
              "    }\n",
              "</style>\n",
              "<table border=\"1\" class=\"dataframe\">\n",
              "  <thead>\n",
              "    <tr style=\"text-align: right;\">\n",
              "      <th></th>\n",
              "      <th>duration</th>\n",
              "      <th>station_A_id</th>\n",
              "      <th>station_A_name</th>\n",
              "      <th>station_B_id</th>\n",
              "      <th>station_B_name</th>\n",
              "      <th>bike_id</th>\n",
              "      <th>user_type</th>\n",
              "      <th>user_birth_year</th>\n",
              "      <th>user_gender</th>\n",
              "    </tr>\n",
              "  </thead>\n",
              "  <tbody>\n",
              "    <tr>\n",
              "      <th>0</th>\n",
              "      <td>12 minutes</td>\n",
              "      <td>81</td>\n",
              "      <td>Berry St at 4th St</td>\n",
              "      <td>323</td>\n",
              "      <td>Broadway at Kearny</td>\n",
              "      <td>5480</td>\n",
              "      <td>2</td>\n",
              "      <td>1959</td>\n",
              "      <td>Male</td>\n",
              "    </tr>\n",
              "    <tr>\n",
              "      <th>1</th>\n",
              "      <td>24 minutes</td>\n",
              "      <td>3</td>\n",
              "      <td>Powell St BART Station (Market St at 4th St)</td>\n",
              "      <td>118</td>\n",
              "      <td>Eureka Valley Recreation Center</td>\n",
              "      <td>5193</td>\n",
              "      <td>2</td>\n",
              "      <td>1965</td>\n",
              "      <td>Male</td>\n",
              "    </tr>\n",
              "    <tr>\n",
              "      <th>2</th>\n",
              "      <td>8 minutes</td>\n",
              "      <td>67</td>\n",
              "      <td>San Francisco Caltrain Station 2  (Townsend St...</td>\n",
              "      <td>23</td>\n",
              "      <td>The Embarcadero at Steuart St</td>\n",
              "      <td>3652</td>\n",
              "      <td>3</td>\n",
              "      <td>1993</td>\n",
              "      <td>Male</td>\n",
              "    </tr>\n",
              "    <tr>\n",
              "      <th>3</th>\n",
              "      <td>4 minutes</td>\n",
              "      <td>16</td>\n",
              "      <td>Steuart St at Market St</td>\n",
              "      <td>28</td>\n",
              "      <td>The Embarcadero at Bryant St</td>\n",
              "      <td>1883</td>\n",
              "      <td>1</td>\n",
              "      <td>1979</td>\n",
              "      <td>Male</td>\n",
              "    </tr>\n",
              "    <tr>\n",
              "      <th>4</th>\n",
              "      <td>11 minutes</td>\n",
              "      <td>22</td>\n",
              "      <td>Howard St at Beale St</td>\n",
              "      <td>350</td>\n",
              "      <td>8th St at Brannan St</td>\n",
              "      <td>4626</td>\n",
              "      <td>2</td>\n",
              "      <td>1994</td>\n",
              "      <td>Male</td>\n",
              "    </tr>\n",
              "  </tbody>\n",
              "</table>\n",
              "</div>\n",
              "      <button class=\"colab-df-convert\" onclick=\"convertToInteractive('df-5d38f92e-4833-45d4-b2d9-3711f343b450')\"\n",
              "              title=\"Convert this dataframe to an interactive table.\"\n",
              "              style=\"display:none;\">\n",
              "        \n",
              "  <svg xmlns=\"http://www.w3.org/2000/svg\" height=\"24px\"viewBox=\"0 0 24 24\"\n",
              "       width=\"24px\">\n",
              "    <path d=\"M0 0h24v24H0V0z\" fill=\"none\"/>\n",
              "    <path d=\"M18.56 5.44l.94 2.06.94-2.06 2.06-.94-2.06-.94-.94-2.06-.94 2.06-2.06.94zm-11 1L8.5 8.5l.94-2.06 2.06-.94-2.06-.94L8.5 2.5l-.94 2.06-2.06.94zm10 10l.94 2.06.94-2.06 2.06-.94-2.06-.94-.94-2.06-.94 2.06-2.06.94z\"/><path d=\"M17.41 7.96l-1.37-1.37c-.4-.4-.92-.59-1.43-.59-.52 0-1.04.2-1.43.59L10.3 9.45l-7.72 7.72c-.78.78-.78 2.05 0 2.83L4 21.41c.39.39.9.59 1.41.59.51 0 1.02-.2 1.41-.59l7.78-7.78 2.81-2.81c.8-.78.8-2.07 0-2.86zM5.41 20L4 18.59l7.72-7.72 1.47 1.35L5.41 20z\"/>\n",
              "  </svg>\n",
              "      </button>\n",
              "      \n",
              "  <style>\n",
              "    .colab-df-container {\n",
              "      display:flex;\n",
              "      flex-wrap:wrap;\n",
              "      gap: 12px;\n",
              "    }\n",
              "\n",
              "    .colab-df-convert {\n",
              "      background-color: #E8F0FE;\n",
              "      border: none;\n",
              "      border-radius: 50%;\n",
              "      cursor: pointer;\n",
              "      display: none;\n",
              "      fill: #1967D2;\n",
              "      height: 32px;\n",
              "      padding: 0 0 0 0;\n",
              "      width: 32px;\n",
              "    }\n",
              "\n",
              "    .colab-df-convert:hover {\n",
              "      background-color: #E2EBFA;\n",
              "      box-shadow: 0px 1px 2px rgba(60, 64, 67, 0.3), 0px 1px 3px 1px rgba(60, 64, 67, 0.15);\n",
              "      fill: #174EA6;\n",
              "    }\n",
              "\n",
              "    [theme=dark] .colab-df-convert {\n",
              "      background-color: #3B4455;\n",
              "      fill: #D2E3FC;\n",
              "    }\n",
              "\n",
              "    [theme=dark] .colab-df-convert:hover {\n",
              "      background-color: #434B5C;\n",
              "      box-shadow: 0px 1px 3px 1px rgba(0, 0, 0, 0.15);\n",
              "      filter: drop-shadow(0px 1px 2px rgba(0, 0, 0, 0.3));\n",
              "      fill: #FFFFFF;\n",
              "    }\n",
              "  </style>\n",
              "\n",
              "      <script>\n",
              "        const buttonEl =\n",
              "          document.querySelector('#df-5d38f92e-4833-45d4-b2d9-3711f343b450 button.colab-df-convert');\n",
              "        buttonEl.style.display =\n",
              "          google.colab.kernel.accessAllowed ? 'block' : 'none';\n",
              "\n",
              "        async function convertToInteractive(key) {\n",
              "          const element = document.querySelector('#df-5d38f92e-4833-45d4-b2d9-3711f343b450');\n",
              "          const dataTable =\n",
              "            await google.colab.kernel.invokeFunction('convertToInteractive',\n",
              "                                                     [key], {});\n",
              "          if (!dataTable) return;\n",
              "\n",
              "          const docLinkHtml = 'Like what you see? Visit the ' +\n",
              "            '<a target=\"_blank\" href=https://colab.research.google.com/notebooks/data_table.ipynb>data table notebook</a>'\n",
              "            + ' to learn more about interactive tables.';\n",
              "          element.innerHTML = '';\n",
              "          dataTable['output_type'] = 'display_data';\n",
              "          await google.colab.output.renderOutput(dataTable, element);\n",
              "          const docLink = document.createElement('div');\n",
              "          docLink.innerHTML = docLinkHtml;\n",
              "          element.appendChild(docLink);\n",
              "        }\n",
              "      </script>\n",
              "    </div>\n",
              "  </div>\n",
              "  "
            ]
          },
          "metadata": {},
          "execution_count": 3
        }
      ],
      "source": [
        "ride_sharing = pd.read_csv(url_ride_sharing, index_col='Unnamed: 0')\n",
        "ride_sharing.head(5)"
      ]
    },
    {
      "cell_type": "code",
      "source": [
        "ride_sharing.isna().sum()"
      ],
      "metadata": {
        "colab": {
          "base_uri": "https://localhost:8080/"
        },
        "id": "Oz5BTT-gH5r-",
        "outputId": "29d4ddea-29b7-45ec-fddb-f3dfe0004fd7"
      },
      "execution_count": 4,
      "outputs": [
        {
          "output_type": "execute_result",
          "data": {
            "text/plain": [
              "duration           0\n",
              "station_A_id       0\n",
              "station_A_name     0\n",
              "station_B_id       0\n",
              "station_B_name     0\n",
              "bike_id            0\n",
              "user_type          0\n",
              "user_birth_year    0\n",
              "user_gender        0\n",
              "dtype: int64"
            ]
          },
          "metadata": {},
          "execution_count": 4
        }
      ]
    },
    {
      "cell_type": "code",
      "execution_count": 5,
      "metadata": {
        "id": "URYj5L9csM3X",
        "outputId": "45e6d065-1641-4436-978a-b1277a142d5f",
        "colab": {
          "base_uri": "https://localhost:8080/"
        }
      },
      "outputs": [
        {
          "output_type": "stream",
          "name": "stdout",
          "text": [
            "<class 'pandas.core.frame.DataFrame'>\n",
            "Int64Index: 25760 entries, 0 to 25759\n",
            "Data columns (total 9 columns):\n",
            " #   Column           Non-Null Count  Dtype \n",
            "---  ------           --------------  ----- \n",
            " 0   duration         25760 non-null  object\n",
            " 1   station_A_id     25760 non-null  int64 \n",
            " 2   station_A_name   25760 non-null  object\n",
            " 3   station_B_id     25760 non-null  int64 \n",
            " 4   station_B_name   25760 non-null  object\n",
            " 5   bike_id          25760 non-null  int64 \n",
            " 6   user_type        25760 non-null  int64 \n",
            " 7   user_birth_year  25760 non-null  int64 \n",
            " 8   user_gender      25760 non-null  object\n",
            "dtypes: int64(5), object(4)\n",
            "memory usage: 2.0+ MB\n"
          ]
        }
      ],
      "source": [
        "# Print the information of ride_sharing\n",
        "ride_sharing.info()"
      ]
    },
    {
      "cell_type": "code",
      "execution_count": 6,
      "metadata": {
        "id": "IopccLptsM3Y",
        "outputId": "0aac2cee-6e52-4c55-aa7c-f7c81c25d937",
        "colab": {
          "base_uri": "https://localhost:8080/"
        }
      },
      "outputs": [
        {
          "output_type": "execute_result",
          "data": {
            "text/plain": [
              "count    25760.000000\n",
              "mean         2.008385\n",
              "std          0.704541\n",
              "min          1.000000\n",
              "25%          2.000000\n",
              "50%          2.000000\n",
              "75%          3.000000\n",
              "max          3.000000\n",
              "Name: user_type, dtype: float64"
            ]
          },
          "metadata": {},
          "execution_count": 6
        }
      ],
      "source": [
        "# Print summary statistics of user_type column\n",
        "ride_sharing['user_type'].describe()"
      ]
    },
    {
      "cell_type": "code",
      "execution_count": 7,
      "metadata": {
        "id": "VKsdZZvmsM3Y",
        "outputId": "e1e1f771-69c4-480b-c07c-9f5174f77bd4",
        "colab": {
          "base_uri": "https://localhost:8080/"
        }
      },
      "outputs": [
        {
          "output_type": "stream",
          "name": "stdout",
          "text": [
            "count     25760\n",
            "unique        3\n",
            "top           2\n",
            "freq      12972\n",
            "Name: user_type_cat, dtype: int64\n"
          ]
        }
      ],
      "source": [
        "# Convert user_type from integer to category\n",
        "ride_sharing['user_type_cat'] = ride_sharing['user_type'].astype('category')\n",
        "\n",
        "# Write an assert statement confirming the change\n",
        "assert ride_sharing['user_type_cat'].dtype =='category'\n",
        "\n",
        "# Print new summary statistics\n",
        "print(ride_sharing['user_type_cat'].describe())"
      ]
    },
    {
      "cell_type": "markdown",
      "source": [
        "`assert ride_sharing['user_type_cat'].dtype =='category'`\n",
        "\n",
        "The purpose of the code snippet is to validate that the `'user_type_cat'` column in the `'ride_sharing'` DataFrame has been converted to the `'category'` data type. If the conversion is successful, the code will continue executing. If not, an `AssertionError` will be raised."
      ],
      "metadata": {
        "id": "1gj041Nx-SfF"
      }
    },
    {
      "cell_type": "markdown",
      "metadata": {
        "id": "YvRqKltPsM3Z"
      },
      "source": [
        "#### **Summing strings and concatenating numbers**\n"
      ]
    },
    {
      "cell_type": "code",
      "execution_count": 8,
      "metadata": {
        "id": "axZ9Dh6AsM3Z",
        "outputId": "f58d5d94-b9bd-4c0c-c7d6-022f1a454924",
        "colab": {
          "base_uri": "https://localhost:8080/",
          "height": 441
        }
      },
      "outputs": [
        {
          "output_type": "display_data",
          "data": {
            "text/plain": [
              "         duration duration_trim  duration_time\n",
              "0      12 minutes           12              12\n",
              "1      24 minutes           24              24\n",
              "2       8 minutes            8               8\n",
              "3       4 minutes            4               4\n",
              "4      11 minutes           11              11\n",
              "...           ...           ...            ...\n",
              "25755  11 minutes           11              11\n",
              "25756  10 minutes           10              10\n",
              "25757  14 minutes           14              14\n",
              "25758  14 minutes           14              14\n",
              "25759  29 minutes           29              29\n",
              "\n",
              "[25760 rows x 3 columns]"
            ],
            "text/html": [
              "\n",
              "  <div id=\"df-5c0dfb2f-5df0-40b1-bbbb-0bbb89bfea4e\">\n",
              "    <div class=\"colab-df-container\">\n",
              "      <div>\n",
              "<style scoped>\n",
              "    .dataframe tbody tr th:only-of-type {\n",
              "        vertical-align: middle;\n",
              "    }\n",
              "\n",
              "    .dataframe tbody tr th {\n",
              "        vertical-align: top;\n",
              "    }\n",
              "\n",
              "    .dataframe thead th {\n",
              "        text-align: right;\n",
              "    }\n",
              "</style>\n",
              "<table border=\"1\" class=\"dataframe\">\n",
              "  <thead>\n",
              "    <tr style=\"text-align: right;\">\n",
              "      <th></th>\n",
              "      <th>duration</th>\n",
              "      <th>duration_trim</th>\n",
              "      <th>duration_time</th>\n",
              "    </tr>\n",
              "  </thead>\n",
              "  <tbody>\n",
              "    <tr>\n",
              "      <th>0</th>\n",
              "      <td>12 minutes</td>\n",
              "      <td>12</td>\n",
              "      <td>12</td>\n",
              "    </tr>\n",
              "    <tr>\n",
              "      <th>1</th>\n",
              "      <td>24 minutes</td>\n",
              "      <td>24</td>\n",
              "      <td>24</td>\n",
              "    </tr>\n",
              "    <tr>\n",
              "      <th>2</th>\n",
              "      <td>8 minutes</td>\n",
              "      <td>8</td>\n",
              "      <td>8</td>\n",
              "    </tr>\n",
              "    <tr>\n",
              "      <th>3</th>\n",
              "      <td>4 minutes</td>\n",
              "      <td>4</td>\n",
              "      <td>4</td>\n",
              "    </tr>\n",
              "    <tr>\n",
              "      <th>4</th>\n",
              "      <td>11 minutes</td>\n",
              "      <td>11</td>\n",
              "      <td>11</td>\n",
              "    </tr>\n",
              "    <tr>\n",
              "      <th>...</th>\n",
              "      <td>...</td>\n",
              "      <td>...</td>\n",
              "      <td>...</td>\n",
              "    </tr>\n",
              "    <tr>\n",
              "      <th>25755</th>\n",
              "      <td>11 minutes</td>\n",
              "      <td>11</td>\n",
              "      <td>11</td>\n",
              "    </tr>\n",
              "    <tr>\n",
              "      <th>25756</th>\n",
              "      <td>10 minutes</td>\n",
              "      <td>10</td>\n",
              "      <td>10</td>\n",
              "    </tr>\n",
              "    <tr>\n",
              "      <th>25757</th>\n",
              "      <td>14 minutes</td>\n",
              "      <td>14</td>\n",
              "      <td>14</td>\n",
              "    </tr>\n",
              "    <tr>\n",
              "      <th>25758</th>\n",
              "      <td>14 minutes</td>\n",
              "      <td>14</td>\n",
              "      <td>14</td>\n",
              "    </tr>\n",
              "    <tr>\n",
              "      <th>25759</th>\n",
              "      <td>29 minutes</td>\n",
              "      <td>29</td>\n",
              "      <td>29</td>\n",
              "    </tr>\n",
              "  </tbody>\n",
              "</table>\n",
              "<p>25760 rows × 3 columns</p>\n",
              "</div>\n",
              "      <button class=\"colab-df-convert\" onclick=\"convertToInteractive('df-5c0dfb2f-5df0-40b1-bbbb-0bbb89bfea4e')\"\n",
              "              title=\"Convert this dataframe to an interactive table.\"\n",
              "              style=\"display:none;\">\n",
              "        \n",
              "  <svg xmlns=\"http://www.w3.org/2000/svg\" height=\"24px\"viewBox=\"0 0 24 24\"\n",
              "       width=\"24px\">\n",
              "    <path d=\"M0 0h24v24H0V0z\" fill=\"none\"/>\n",
              "    <path d=\"M18.56 5.44l.94 2.06.94-2.06 2.06-.94-2.06-.94-.94-2.06-.94 2.06-2.06.94zm-11 1L8.5 8.5l.94-2.06 2.06-.94-2.06-.94L8.5 2.5l-.94 2.06-2.06.94zm10 10l.94 2.06.94-2.06 2.06-.94-2.06-.94-.94-2.06-.94 2.06-2.06.94z\"/><path d=\"M17.41 7.96l-1.37-1.37c-.4-.4-.92-.59-1.43-.59-.52 0-1.04.2-1.43.59L10.3 9.45l-7.72 7.72c-.78.78-.78 2.05 0 2.83L4 21.41c.39.39.9.59 1.41.59.51 0 1.02-.2 1.41-.59l7.78-7.78 2.81-2.81c.8-.78.8-2.07 0-2.86zM5.41 20L4 18.59l7.72-7.72 1.47 1.35L5.41 20z\"/>\n",
              "  </svg>\n",
              "      </button>\n",
              "      \n",
              "  <style>\n",
              "    .colab-df-container {\n",
              "      display:flex;\n",
              "      flex-wrap:wrap;\n",
              "      gap: 12px;\n",
              "    }\n",
              "\n",
              "    .colab-df-convert {\n",
              "      background-color: #E8F0FE;\n",
              "      border: none;\n",
              "      border-radius: 50%;\n",
              "      cursor: pointer;\n",
              "      display: none;\n",
              "      fill: #1967D2;\n",
              "      height: 32px;\n",
              "      padding: 0 0 0 0;\n",
              "      width: 32px;\n",
              "    }\n",
              "\n",
              "    .colab-df-convert:hover {\n",
              "      background-color: #E2EBFA;\n",
              "      box-shadow: 0px 1px 2px rgba(60, 64, 67, 0.3), 0px 1px 3px 1px rgba(60, 64, 67, 0.15);\n",
              "      fill: #174EA6;\n",
              "    }\n",
              "\n",
              "    [theme=dark] .colab-df-convert {\n",
              "      background-color: #3B4455;\n",
              "      fill: #D2E3FC;\n",
              "    }\n",
              "\n",
              "    [theme=dark] .colab-df-convert:hover {\n",
              "      background-color: #434B5C;\n",
              "      box-shadow: 0px 1px 3px 1px rgba(0, 0, 0, 0.15);\n",
              "      filter: drop-shadow(0px 1px 2px rgba(0, 0, 0, 0.3));\n",
              "      fill: #FFFFFF;\n",
              "    }\n",
              "  </style>\n",
              "\n",
              "      <script>\n",
              "        const buttonEl =\n",
              "          document.querySelector('#df-5c0dfb2f-5df0-40b1-bbbb-0bbb89bfea4e button.colab-df-convert');\n",
              "        buttonEl.style.display =\n",
              "          google.colab.kernel.accessAllowed ? 'block' : 'none';\n",
              "\n",
              "        async function convertToInteractive(key) {\n",
              "          const element = document.querySelector('#df-5c0dfb2f-5df0-40b1-bbbb-0bbb89bfea4e');\n",
              "          const dataTable =\n",
              "            await google.colab.kernel.invokeFunction('convertToInteractive',\n",
              "                                                     [key], {});\n",
              "          if (!dataTable) return;\n",
              "\n",
              "          const docLinkHtml = 'Like what you see? Visit the ' +\n",
              "            '<a target=\"_blank\" href=https://colab.research.google.com/notebooks/data_table.ipynb>data table notebook</a>'\n",
              "            + ' to learn more about interactive tables.';\n",
              "          element.innerHTML = '';\n",
              "          dataTable['output_type'] = 'display_data';\n",
              "          await google.colab.output.renderOutput(dataTable, element);\n",
              "          const docLink = document.createElement('div');\n",
              "          docLink.innerHTML = docLinkHtml;\n",
              "          element.appendChild(docLink);\n",
              "        }\n",
              "      </script>\n",
              "    </div>\n",
              "  </div>\n",
              "  "
            ]
          },
          "metadata": {}
        },
        {
          "output_type": "stream",
          "name": "stdout",
          "text": [
            "11.389052795031056\n"
          ]
        }
      ],
      "source": [
        "# Strip duration of minutes\n",
        "ride_sharing['duration_trim'] = ride_sharing['duration'].str.strip('minutes')\n",
        "\n",
        "# convert duration to integer\n",
        "ride_sharing['duration_time'] = ride_sharing['duration_trim'].astype('int')\n",
        "\n",
        "# Write an assert statement making sure of conversion\n",
        "assert ride_sharing['duration_time'].dtype == 'int'\n",
        "\n",
        "# Print formed columns and calculate average ride duration\n",
        "display(ride_sharing[['duration', 'duration_trim', 'duration_time']])\n",
        "print(ride_sharing['duration_time'].mean())"
      ]
    },
    {
      "cell_type": "markdown",
      "metadata": {
        "id": "7ZfhZR5csM3a"
      },
      "source": [
        "## **Data range constraints**\n"
      ]
    },
    {
      "cell_type": "markdown",
      "metadata": {
        "id": "GOhJKe5hsM3b"
      },
      "source": [
        "#### **Tire size constraints**\n"
      ]
    },
    {
      "cell_type": "code",
      "source": [
        "# Generate random tire_sizes data within the specified range\n",
        "ride_sharing['tire_sizes'] = np.random.randint(26, 30, size=25760)\n",
        "\n",
        "# Print the resulting DataFrame\n",
        "ride_sharing.head(5)"
      ],
      "metadata": {
        "colab": {
          "base_uri": "https://localhost:8080/",
          "height": 337
        },
        "id": "H1oPjnVELmTU",
        "outputId": "eb02e16f-d322-4ae5-82ab-6e9e518de09d"
      },
      "execution_count": 9,
      "outputs": [
        {
          "output_type": "execute_result",
          "data": {
            "text/plain": [
              "     duration  station_A_id  \\\n",
              "0  12 minutes            81   \n",
              "1  24 minutes             3   \n",
              "2   8 minutes            67   \n",
              "3   4 minutes            16   \n",
              "4  11 minutes            22   \n",
              "\n",
              "                                      station_A_name  station_B_id  \\\n",
              "0                                 Berry St at 4th St           323   \n",
              "1       Powell St BART Station (Market St at 4th St)           118   \n",
              "2  San Francisco Caltrain Station 2  (Townsend St...            23   \n",
              "3                            Steuart St at Market St            28   \n",
              "4                              Howard St at Beale St           350   \n",
              "\n",
              "                    station_B_name  bike_id  user_type  user_birth_year  \\\n",
              "0               Broadway at Kearny     5480          2             1959   \n",
              "1  Eureka Valley Recreation Center     5193          2             1965   \n",
              "2    The Embarcadero at Steuart St     3652          3             1993   \n",
              "3     The Embarcadero at Bryant St     1883          1             1979   \n",
              "4             8th St at Brannan St     4626          2             1994   \n",
              "\n",
              "  user_gender user_type_cat duration_trim  duration_time  tire_sizes  \n",
              "0        Male             2           12              12          29  \n",
              "1        Male             2           24              24          27  \n",
              "2        Male             3            8               8          29  \n",
              "3        Male             1            4               4          29  \n",
              "4        Male             2           11              11          26  "
            ],
            "text/html": [
              "\n",
              "  <div id=\"df-2a264aeb-f449-47af-850b-c1bdf59edb23\">\n",
              "    <div class=\"colab-df-container\">\n",
              "      <div>\n",
              "<style scoped>\n",
              "    .dataframe tbody tr th:only-of-type {\n",
              "        vertical-align: middle;\n",
              "    }\n",
              "\n",
              "    .dataframe tbody tr th {\n",
              "        vertical-align: top;\n",
              "    }\n",
              "\n",
              "    .dataframe thead th {\n",
              "        text-align: right;\n",
              "    }\n",
              "</style>\n",
              "<table border=\"1\" class=\"dataframe\">\n",
              "  <thead>\n",
              "    <tr style=\"text-align: right;\">\n",
              "      <th></th>\n",
              "      <th>duration</th>\n",
              "      <th>station_A_id</th>\n",
              "      <th>station_A_name</th>\n",
              "      <th>station_B_id</th>\n",
              "      <th>station_B_name</th>\n",
              "      <th>bike_id</th>\n",
              "      <th>user_type</th>\n",
              "      <th>user_birth_year</th>\n",
              "      <th>user_gender</th>\n",
              "      <th>user_type_cat</th>\n",
              "      <th>duration_trim</th>\n",
              "      <th>duration_time</th>\n",
              "      <th>tire_sizes</th>\n",
              "    </tr>\n",
              "  </thead>\n",
              "  <tbody>\n",
              "    <tr>\n",
              "      <th>0</th>\n",
              "      <td>12 minutes</td>\n",
              "      <td>81</td>\n",
              "      <td>Berry St at 4th St</td>\n",
              "      <td>323</td>\n",
              "      <td>Broadway at Kearny</td>\n",
              "      <td>5480</td>\n",
              "      <td>2</td>\n",
              "      <td>1959</td>\n",
              "      <td>Male</td>\n",
              "      <td>2</td>\n",
              "      <td>12</td>\n",
              "      <td>12</td>\n",
              "      <td>29</td>\n",
              "    </tr>\n",
              "    <tr>\n",
              "      <th>1</th>\n",
              "      <td>24 minutes</td>\n",
              "      <td>3</td>\n",
              "      <td>Powell St BART Station (Market St at 4th St)</td>\n",
              "      <td>118</td>\n",
              "      <td>Eureka Valley Recreation Center</td>\n",
              "      <td>5193</td>\n",
              "      <td>2</td>\n",
              "      <td>1965</td>\n",
              "      <td>Male</td>\n",
              "      <td>2</td>\n",
              "      <td>24</td>\n",
              "      <td>24</td>\n",
              "      <td>27</td>\n",
              "    </tr>\n",
              "    <tr>\n",
              "      <th>2</th>\n",
              "      <td>8 minutes</td>\n",
              "      <td>67</td>\n",
              "      <td>San Francisco Caltrain Station 2  (Townsend St...</td>\n",
              "      <td>23</td>\n",
              "      <td>The Embarcadero at Steuart St</td>\n",
              "      <td>3652</td>\n",
              "      <td>3</td>\n",
              "      <td>1993</td>\n",
              "      <td>Male</td>\n",
              "      <td>3</td>\n",
              "      <td>8</td>\n",
              "      <td>8</td>\n",
              "      <td>29</td>\n",
              "    </tr>\n",
              "    <tr>\n",
              "      <th>3</th>\n",
              "      <td>4 minutes</td>\n",
              "      <td>16</td>\n",
              "      <td>Steuart St at Market St</td>\n",
              "      <td>28</td>\n",
              "      <td>The Embarcadero at Bryant St</td>\n",
              "      <td>1883</td>\n",
              "      <td>1</td>\n",
              "      <td>1979</td>\n",
              "      <td>Male</td>\n",
              "      <td>1</td>\n",
              "      <td>4</td>\n",
              "      <td>4</td>\n",
              "      <td>29</td>\n",
              "    </tr>\n",
              "    <tr>\n",
              "      <th>4</th>\n",
              "      <td>11 minutes</td>\n",
              "      <td>22</td>\n",
              "      <td>Howard St at Beale St</td>\n",
              "      <td>350</td>\n",
              "      <td>8th St at Brannan St</td>\n",
              "      <td>4626</td>\n",
              "      <td>2</td>\n",
              "      <td>1994</td>\n",
              "      <td>Male</td>\n",
              "      <td>2</td>\n",
              "      <td>11</td>\n",
              "      <td>11</td>\n",
              "      <td>26</td>\n",
              "    </tr>\n",
              "  </tbody>\n",
              "</table>\n",
              "</div>\n",
              "      <button class=\"colab-df-convert\" onclick=\"convertToInteractive('df-2a264aeb-f449-47af-850b-c1bdf59edb23')\"\n",
              "              title=\"Convert this dataframe to an interactive table.\"\n",
              "              style=\"display:none;\">\n",
              "        \n",
              "  <svg xmlns=\"http://www.w3.org/2000/svg\" height=\"24px\"viewBox=\"0 0 24 24\"\n",
              "       width=\"24px\">\n",
              "    <path d=\"M0 0h24v24H0V0z\" fill=\"none\"/>\n",
              "    <path d=\"M18.56 5.44l.94 2.06.94-2.06 2.06-.94-2.06-.94-.94-2.06-.94 2.06-2.06.94zm-11 1L8.5 8.5l.94-2.06 2.06-.94-2.06-.94L8.5 2.5l-.94 2.06-2.06.94zm10 10l.94 2.06.94-2.06 2.06-.94-2.06-.94-.94-2.06-.94 2.06-2.06.94z\"/><path d=\"M17.41 7.96l-1.37-1.37c-.4-.4-.92-.59-1.43-.59-.52 0-1.04.2-1.43.59L10.3 9.45l-7.72 7.72c-.78.78-.78 2.05 0 2.83L4 21.41c.39.39.9.59 1.41.59.51 0 1.02-.2 1.41-.59l7.78-7.78 2.81-2.81c.8-.78.8-2.07 0-2.86zM5.41 20L4 18.59l7.72-7.72 1.47 1.35L5.41 20z\"/>\n",
              "  </svg>\n",
              "      </button>\n",
              "      \n",
              "  <style>\n",
              "    .colab-df-container {\n",
              "      display:flex;\n",
              "      flex-wrap:wrap;\n",
              "      gap: 12px;\n",
              "    }\n",
              "\n",
              "    .colab-df-convert {\n",
              "      background-color: #E8F0FE;\n",
              "      border: none;\n",
              "      border-radius: 50%;\n",
              "      cursor: pointer;\n",
              "      display: none;\n",
              "      fill: #1967D2;\n",
              "      height: 32px;\n",
              "      padding: 0 0 0 0;\n",
              "      width: 32px;\n",
              "    }\n",
              "\n",
              "    .colab-df-convert:hover {\n",
              "      background-color: #E2EBFA;\n",
              "      box-shadow: 0px 1px 2px rgba(60, 64, 67, 0.3), 0px 1px 3px 1px rgba(60, 64, 67, 0.15);\n",
              "      fill: #174EA6;\n",
              "    }\n",
              "\n",
              "    [theme=dark] .colab-df-convert {\n",
              "      background-color: #3B4455;\n",
              "      fill: #D2E3FC;\n",
              "    }\n",
              "\n",
              "    [theme=dark] .colab-df-convert:hover {\n",
              "      background-color: #434B5C;\n",
              "      box-shadow: 0px 1px 3px 1px rgba(0, 0, 0, 0.15);\n",
              "      filter: drop-shadow(0px 1px 2px rgba(0, 0, 0, 0.3));\n",
              "      fill: #FFFFFF;\n",
              "    }\n",
              "  </style>\n",
              "\n",
              "      <script>\n",
              "        const buttonEl =\n",
              "          document.querySelector('#df-2a264aeb-f449-47af-850b-c1bdf59edb23 button.colab-df-convert');\n",
              "        buttonEl.style.display =\n",
              "          google.colab.kernel.accessAllowed ? 'block' : 'none';\n",
              "\n",
              "        async function convertToInteractive(key) {\n",
              "          const element = document.querySelector('#df-2a264aeb-f449-47af-850b-c1bdf59edb23');\n",
              "          const dataTable =\n",
              "            await google.colab.kernel.invokeFunction('convertToInteractive',\n",
              "                                                     [key], {});\n",
              "          if (!dataTable) return;\n",
              "\n",
              "          const docLinkHtml = 'Like what you see? Visit the ' +\n",
              "            '<a target=\"_blank\" href=https://colab.research.google.com/notebooks/data_table.ipynb>data table notebook</a>'\n",
              "            + ' to learn more about interactive tables.';\n",
              "          element.innerHTML = '';\n",
              "          dataTable['output_type'] = 'display_data';\n",
              "          await google.colab.output.renderOutput(dataTable, element);\n",
              "          const docLink = document.createElement('div');\n",
              "          docLink.innerHTML = docLinkHtml;\n",
              "          element.appendChild(docLink);\n",
              "        }\n",
              "      </script>\n",
              "    </div>\n",
              "  </div>\n",
              "  "
            ]
          },
          "metadata": {},
          "execution_count": 9
        }
      ]
    },
    {
      "cell_type": "code",
      "execution_count": 10,
      "metadata": {
        "id": "r1_gRjSysM3b",
        "outputId": "65c7a3dc-a473-4d9d-8a6c-304bf98fae35",
        "colab": {
          "base_uri": "https://localhost:8080/"
        }
      },
      "outputs": [
        {
          "output_type": "stream",
          "name": "stdout",
          "text": [
            "count     25760\n",
            "unique        2\n",
            "top          27\n",
            "freq      19317\n",
            "Name: tire_sizes, dtype: int64\n"
          ]
        }
      ],
      "source": [
        "# convert tire_sizes to integer\n",
        "ride_sharing['tire_sizes'] = ride_sharing['tire_sizes'].astype('int')\n",
        "\n",
        "# Set all values above 27 to 27\n",
        "ride_sharing.loc[ride_sharing['tire_sizes'] > 27, 'tire_sizes'] = 27\n",
        "\n",
        "# Reconvert tire_sizes back to categorical\n",
        "ride_sharing['tire_sizes'] = ride_sharing['tire_sizes'].astype('category')\n",
        "\n",
        "# Print tire size description\n",
        "print(ride_sharing['tire_sizes'].describe())"
      ]
    },
    {
      "cell_type": "markdown",
      "metadata": {
        "id": "K89RHjMSsM3b"
      },
      "source": [
        "#### **Back to the future**"
      ]
    },
    {
      "cell_type": "code",
      "execution_count": 11,
      "metadata": {
        "id": "3STP1fHZsM3c"
      },
      "outputs": [],
      "source": [
        "# No date for tire_sizes: fill it randomly\n",
        "sz = len(ride_sharing['duration_time'])\n",
        "ride_sharing['ride_date']  = np.random.choice(\n",
        "    a=['2020-01-01', '2021-01-01'],  \n",
        "    size=sz,  \n",
        "    p=[0.9, 0.1]  \n",
        " )"
      ]
    },
    {
      "cell_type": "code",
      "execution_count": 12,
      "metadata": {
        "id": "JCpcWfz_sM3c",
        "outputId": "21e9d27e-67f5-4eaa-e05d-37f2c3d02bf5",
        "colab": {
          "base_uri": "https://localhost:8080/"
        }
      },
      "outputs": [
        {
          "output_type": "stream",
          "name": "stdout",
          "text": [
            "2021-01-01\n"
          ]
        }
      ],
      "source": [
        "import datetime as dt\n",
        "\n",
        "# Convert ride_date to date\n",
        "ride_sharing['ride_dt'] = pd.to_datetime(ride_sharing['ride_date']).dt.date\n",
        "\n",
        "# Save today's date\n",
        "today = dt.date.today()\n",
        "\n",
        "# Set all in the future to today's date\n",
        "ride_sharing.loc[ride_sharing['ride_dt'] > today, 'ride_dt'] = today\n",
        "\n",
        "# Print maximum of ride_dt column\n",
        "print(ride_sharing['ride_dt'].max())"
      ]
    },
    {
      "cell_type": "markdown",
      "metadata": {
        "id": "HA2ANKpAsM3d"
      },
      "source": [
        "## **Uniqueness constraints**\n"
      ]
    },
    {
      "cell_type": "markdown",
      "metadata": {
        "id": "0TBSk_bbsM3d"
      },
      "source": [
        "#### **Finding duplicates**\n"
      ]
    },
    {
      "cell_type": "code",
      "execution_count": 13,
      "metadata": {
        "id": "gUOwJeSWsM3d",
        "outputId": "f4ca7bf8-289c-4a01-b06c-dd5c8eba3a07",
        "colab": {
          "base_uri": "https://localhost:8080/"
        }
      },
      "outputs": [
        {
          "output_type": "stream",
          "name": "stdout",
          "text": [
            "       bike_id    duration  user_birth_year\n",
            "3638        11  12 minutes             1988\n",
            "6088        11   5 minutes             1985\n",
            "10857       11   4 minutes             1987\n",
            "10045       27  13 minutes             1989\n",
            "16104       27  10 minutes             1970\n",
            "...        ...         ...              ...\n",
            "8812      6638  10 minutes             1986\n",
            "6815      6638   5 minutes             1995\n",
            "8456      6638   7 minutes             1983\n",
            "8300      6638   6 minutes             1962\n",
            "8380      6638   8 minutes             1984\n",
            "\n",
            "[25717 rows x 3 columns]\n"
          ]
        }
      ],
      "source": [
        "# Find duplicates\n",
        "duplicates = ride_sharing.duplicated(subset='bike_id', keep=False)\n",
        "\n",
        "# Sort your duplicated rides\n",
        "duplicated_rides = ride_sharing[duplicates].sort_values('bike_id')\n",
        "\n",
        "# Print relevant columns of duplicated_rides\n",
        "print(duplicated_rides[['bike_id', 'duration', 'user_birth_year']])"
      ]
    },
    {
      "cell_type": "markdown",
      "metadata": {
        "id": "r1WfBUarsM3e"
      },
      "source": [
        "#### **Treating duplicates**\n"
      ]
    },
    {
      "cell_type": "code",
      "execution_count": 14,
      "metadata": {
        "id": "qNWb72rZsM3f"
      },
      "outputs": [],
      "source": [
        "# Drop complete duplicates from ride_sharing\n",
        "ride_dup = ride_sharing.drop_duplicates().copy()\n",
        "\n",
        "ride_dup['duration'] = ride_dup['duration'].str.replace(\" minutes\", \"\").astype('int')\n",
        "\n",
        "# Create statistics dictionary for aggregation function\n",
        "statistics = {'user_birth_year': 'min', 'duration': 'mean'}\n",
        "\n",
        "# Group by ride_id and compute new statistics\n",
        "ride_unique = ride_dup.groupby('bike_id').agg(statistics).reset_index()\n",
        "\n",
        "# Find duplicated values again\n",
        "duplicates = ride_unique.duplicated(subset = 'bike_id', keep = False)\n",
        "duplicated_rides = ride_unique[duplicates == True]\n",
        "\n",
        "# Assert duplicates are processed\n",
        "assert duplicated_rides.shape[0] == 0"
      ]
    },
    {
      "cell_type": "markdown",
      "source": [
        "# **2️⃣Text and categorical data problems**"
      ],
      "metadata": {
        "id": "jPSRdEy4tXEZ"
      }
    },
    {
      "cell_type": "markdown",
      "metadata": {
        "id": "UC5lFNfksOn3"
      },
      "source": [
        "## **Membership constraints**\n"
      ]
    },
    {
      "cell_type": "markdown",
      "metadata": {
        "id": "uQsBrRe8sOn6"
      },
      "source": [
        "#### **Finding consistency**"
      ]
    },
    {
      "cell_type": "code",
      "execution_count": 15,
      "metadata": {
        "id": "vPcisoHEsOn6",
        "colab": {
          "base_uri": "https://localhost:8080/",
          "height": 430
        },
        "outputId": "85875d62-6002-45ff-b5aa-0636a1b9c5c9"
      },
      "outputs": [
        {
          "output_type": "display_data",
          "data": {
            "text/plain": [
              "   Unnamed: 0    id        day      airline        destination    dest_region  \\\n",
              "0           0  1351    Tuesday  UNITED INTL             KANSAI           Asia   \n",
              "1           1   373     Friday       ALASKA  SAN JOSE DEL CABO  Canada/Mexico   \n",
              "2           2  2820   Thursday        DELTA        LOS ANGELES        West US   \n",
              "3           3  1157    Tuesday    SOUTHWEST        LOS ANGELES        West US   \n",
              "4           4  2992  Wednesday     AMERICAN              MIAMI        East US   \n",
              "\n",
              "  dest_size boarding_area   dept_time  wait_min     cleanliness  \\\n",
              "0       Hub  Gates 91-102  2018-12-31     115.0           Clean   \n",
              "1     Small   Gates 50-59  2018-12-31     135.0           Clean   \n",
              "2       Hub   Gates 40-48  2018-12-31      70.0         Average   \n",
              "3       Hub   Gates 20-39  2018-12-31     190.0           Clean   \n",
              "4       Hub   Gates 50-59  2018-12-31     559.0  Somewhat clean   \n",
              "\n",
              "          safety        satisfaction  \n",
              "0        Neutral      Very satisfied  \n",
              "1      Very safe      Very satisfied  \n",
              "2  Somewhat safe             Neutral  \n",
              "3      Very safe  Somewhat satsified  \n",
              "4      Very safe  Somewhat satsified  "
            ],
            "text/html": [
              "\n",
              "  <div id=\"df-60602607-6176-4794-9ccb-e03e24033788\">\n",
              "    <div class=\"colab-df-container\">\n",
              "      <div>\n",
              "<style scoped>\n",
              "    .dataframe tbody tr th:only-of-type {\n",
              "        vertical-align: middle;\n",
              "    }\n",
              "\n",
              "    .dataframe tbody tr th {\n",
              "        vertical-align: top;\n",
              "    }\n",
              "\n",
              "    .dataframe thead th {\n",
              "        text-align: right;\n",
              "    }\n",
              "</style>\n",
              "<table border=\"1\" class=\"dataframe\">\n",
              "  <thead>\n",
              "    <tr style=\"text-align: right;\">\n",
              "      <th></th>\n",
              "      <th>Unnamed: 0</th>\n",
              "      <th>id</th>\n",
              "      <th>day</th>\n",
              "      <th>airline</th>\n",
              "      <th>destination</th>\n",
              "      <th>dest_region</th>\n",
              "      <th>dest_size</th>\n",
              "      <th>boarding_area</th>\n",
              "      <th>dept_time</th>\n",
              "      <th>wait_min</th>\n",
              "      <th>cleanliness</th>\n",
              "      <th>safety</th>\n",
              "      <th>satisfaction</th>\n",
              "    </tr>\n",
              "  </thead>\n",
              "  <tbody>\n",
              "    <tr>\n",
              "      <th>0</th>\n",
              "      <td>0</td>\n",
              "      <td>1351</td>\n",
              "      <td>Tuesday</td>\n",
              "      <td>UNITED INTL</td>\n",
              "      <td>KANSAI</td>\n",
              "      <td>Asia</td>\n",
              "      <td>Hub</td>\n",
              "      <td>Gates 91-102</td>\n",
              "      <td>2018-12-31</td>\n",
              "      <td>115.0</td>\n",
              "      <td>Clean</td>\n",
              "      <td>Neutral</td>\n",
              "      <td>Very satisfied</td>\n",
              "    </tr>\n",
              "    <tr>\n",
              "      <th>1</th>\n",
              "      <td>1</td>\n",
              "      <td>373</td>\n",
              "      <td>Friday</td>\n",
              "      <td>ALASKA</td>\n",
              "      <td>SAN JOSE DEL CABO</td>\n",
              "      <td>Canada/Mexico</td>\n",
              "      <td>Small</td>\n",
              "      <td>Gates 50-59</td>\n",
              "      <td>2018-12-31</td>\n",
              "      <td>135.0</td>\n",
              "      <td>Clean</td>\n",
              "      <td>Very safe</td>\n",
              "      <td>Very satisfied</td>\n",
              "    </tr>\n",
              "    <tr>\n",
              "      <th>2</th>\n",
              "      <td>2</td>\n",
              "      <td>2820</td>\n",
              "      <td>Thursday</td>\n",
              "      <td>DELTA</td>\n",
              "      <td>LOS ANGELES</td>\n",
              "      <td>West US</td>\n",
              "      <td>Hub</td>\n",
              "      <td>Gates 40-48</td>\n",
              "      <td>2018-12-31</td>\n",
              "      <td>70.0</td>\n",
              "      <td>Average</td>\n",
              "      <td>Somewhat safe</td>\n",
              "      <td>Neutral</td>\n",
              "    </tr>\n",
              "    <tr>\n",
              "      <th>3</th>\n",
              "      <td>3</td>\n",
              "      <td>1157</td>\n",
              "      <td>Tuesday</td>\n",
              "      <td>SOUTHWEST</td>\n",
              "      <td>LOS ANGELES</td>\n",
              "      <td>West US</td>\n",
              "      <td>Hub</td>\n",
              "      <td>Gates 20-39</td>\n",
              "      <td>2018-12-31</td>\n",
              "      <td>190.0</td>\n",
              "      <td>Clean</td>\n",
              "      <td>Very safe</td>\n",
              "      <td>Somewhat satsified</td>\n",
              "    </tr>\n",
              "    <tr>\n",
              "      <th>4</th>\n",
              "      <td>4</td>\n",
              "      <td>2992</td>\n",
              "      <td>Wednesday</td>\n",
              "      <td>AMERICAN</td>\n",
              "      <td>MIAMI</td>\n",
              "      <td>East US</td>\n",
              "      <td>Hub</td>\n",
              "      <td>Gates 50-59</td>\n",
              "      <td>2018-12-31</td>\n",
              "      <td>559.0</td>\n",
              "      <td>Somewhat clean</td>\n",
              "      <td>Very safe</td>\n",
              "      <td>Somewhat satsified</td>\n",
              "    </tr>\n",
              "  </tbody>\n",
              "</table>\n",
              "</div>\n",
              "      <button class=\"colab-df-convert\" onclick=\"convertToInteractive('df-60602607-6176-4794-9ccb-e03e24033788')\"\n",
              "              title=\"Convert this dataframe to an interactive table.\"\n",
              "              style=\"display:none;\">\n",
              "        \n",
              "  <svg xmlns=\"http://www.w3.org/2000/svg\" height=\"24px\"viewBox=\"0 0 24 24\"\n",
              "       width=\"24px\">\n",
              "    <path d=\"M0 0h24v24H0V0z\" fill=\"none\"/>\n",
              "    <path d=\"M18.56 5.44l.94 2.06.94-2.06 2.06-.94-2.06-.94-.94-2.06-.94 2.06-2.06.94zm-11 1L8.5 8.5l.94-2.06 2.06-.94-2.06-.94L8.5 2.5l-.94 2.06-2.06.94zm10 10l.94 2.06.94-2.06 2.06-.94-2.06-.94-.94-2.06-.94 2.06-2.06.94z\"/><path d=\"M17.41 7.96l-1.37-1.37c-.4-.4-.92-.59-1.43-.59-.52 0-1.04.2-1.43.59L10.3 9.45l-7.72 7.72c-.78.78-.78 2.05 0 2.83L4 21.41c.39.39.9.59 1.41.59.51 0 1.02-.2 1.41-.59l7.78-7.78 2.81-2.81c.8-.78.8-2.07 0-2.86zM5.41 20L4 18.59l7.72-7.72 1.47 1.35L5.41 20z\"/>\n",
              "  </svg>\n",
              "      </button>\n",
              "      \n",
              "  <style>\n",
              "    .colab-df-container {\n",
              "      display:flex;\n",
              "      flex-wrap:wrap;\n",
              "      gap: 12px;\n",
              "    }\n",
              "\n",
              "    .colab-df-convert {\n",
              "      background-color: #E8F0FE;\n",
              "      border: none;\n",
              "      border-radius: 50%;\n",
              "      cursor: pointer;\n",
              "      display: none;\n",
              "      fill: #1967D2;\n",
              "      height: 32px;\n",
              "      padding: 0 0 0 0;\n",
              "      width: 32px;\n",
              "    }\n",
              "\n",
              "    .colab-df-convert:hover {\n",
              "      background-color: #E2EBFA;\n",
              "      box-shadow: 0px 1px 2px rgba(60, 64, 67, 0.3), 0px 1px 3px 1px rgba(60, 64, 67, 0.15);\n",
              "      fill: #174EA6;\n",
              "    }\n",
              "\n",
              "    [theme=dark] .colab-df-convert {\n",
              "      background-color: #3B4455;\n",
              "      fill: #D2E3FC;\n",
              "    }\n",
              "\n",
              "    [theme=dark] .colab-df-convert:hover {\n",
              "      background-color: #434B5C;\n",
              "      box-shadow: 0px 1px 3px 1px rgba(0, 0, 0, 0.15);\n",
              "      filter: drop-shadow(0px 1px 2px rgba(0, 0, 0, 0.3));\n",
              "      fill: #FFFFFF;\n",
              "    }\n",
              "  </style>\n",
              "\n",
              "      <script>\n",
              "        const buttonEl =\n",
              "          document.querySelector('#df-60602607-6176-4794-9ccb-e03e24033788 button.colab-df-convert');\n",
              "        buttonEl.style.display =\n",
              "          google.colab.kernel.accessAllowed ? 'block' : 'none';\n",
              "\n",
              "        async function convertToInteractive(key) {\n",
              "          const element = document.querySelector('#df-60602607-6176-4794-9ccb-e03e24033788');\n",
              "          const dataTable =\n",
              "            await google.colab.kernel.invokeFunction('convertToInteractive',\n",
              "                                                     [key], {});\n",
              "          if (!dataTable) return;\n",
              "\n",
              "          const docLinkHtml = 'Like what you see? Visit the ' +\n",
              "            '<a target=\"_blank\" href=https://colab.research.google.com/notebooks/data_table.ipynb>data table notebook</a>'\n",
              "            + ' to learn more about interactive tables.';\n",
              "          element.innerHTML = '';\n",
              "          dataTable['output_type'] = 'display_data';\n",
              "          await google.colab.output.renderOutput(dataTable, element);\n",
              "          const docLink = document.createElement('div');\n",
              "          docLink.innerHTML = docLinkHtml;\n",
              "          element.appendChild(docLink);\n",
              "        }\n",
              "      </script>\n",
              "    </div>\n",
              "  </div>\n",
              "  "
            ]
          },
          "metadata": {}
        },
        {
          "output_type": "stream",
          "name": "stdout",
          "text": [
            "\n",
            "\n"
          ]
        },
        {
          "output_type": "display_data",
          "data": {
            "text/plain": [
              "     id        day      airline        destination    dest_region dest_size  \\\n",
              "0  1351    Tuesday  UNITED INTL             KANSAI           Asia       Hub   \n",
              "1   373     Friday       ALASKA  SAN JOSE DEL CABO  Canada/Mexico     Small   \n",
              "2  2820   Thursday        DELTA        LOS ANGELES        West US       Hub   \n",
              "3  1157    Tuesday    SOUTHWEST        LOS ANGELES        West US       Hub   \n",
              "4  2992  Wednesday     AMERICAN              MIAMI        East US       Hub   \n",
              "\n",
              "  boarding_area   dept_time  wait_min     cleanliness         safety  \\\n",
              "0  Gates 91-102  2018-12-31     115.0           Clean        Neutral   \n",
              "1   Gates 50-59  2018-12-31     135.0           Clean      Very safe   \n",
              "2   Gates 40-48  2018-12-31      70.0         Average  Somewhat safe   \n",
              "3   Gates 20-39  2018-12-31     190.0           Clean      Very safe   \n",
              "4   Gates 50-59  2018-12-31     559.0  Somewhat clean      Very safe   \n",
              "\n",
              "         satisfaction  \n",
              "0      Very satisfied  \n",
              "1      Very satisfied  \n",
              "2             Neutral  \n",
              "3  Somewhat satsified  \n",
              "4  Somewhat satsified  "
            ],
            "text/html": [
              "\n",
              "  <div id=\"df-fdfc58eb-bf4a-460e-9702-d1fa82a7d5e4\">\n",
              "    <div class=\"colab-df-container\">\n",
              "      <div>\n",
              "<style scoped>\n",
              "    .dataframe tbody tr th:only-of-type {\n",
              "        vertical-align: middle;\n",
              "    }\n",
              "\n",
              "    .dataframe tbody tr th {\n",
              "        vertical-align: top;\n",
              "    }\n",
              "\n",
              "    .dataframe thead th {\n",
              "        text-align: right;\n",
              "    }\n",
              "</style>\n",
              "<table border=\"1\" class=\"dataframe\">\n",
              "  <thead>\n",
              "    <tr style=\"text-align: right;\">\n",
              "      <th></th>\n",
              "      <th>id</th>\n",
              "      <th>day</th>\n",
              "      <th>airline</th>\n",
              "      <th>destination</th>\n",
              "      <th>dest_region</th>\n",
              "      <th>dest_size</th>\n",
              "      <th>boarding_area</th>\n",
              "      <th>dept_time</th>\n",
              "      <th>wait_min</th>\n",
              "      <th>cleanliness</th>\n",
              "      <th>safety</th>\n",
              "      <th>satisfaction</th>\n",
              "    </tr>\n",
              "  </thead>\n",
              "  <tbody>\n",
              "    <tr>\n",
              "      <th>0</th>\n",
              "      <td>1351</td>\n",
              "      <td>Tuesday</td>\n",
              "      <td>UNITED INTL</td>\n",
              "      <td>KANSAI</td>\n",
              "      <td>Asia</td>\n",
              "      <td>Hub</td>\n",
              "      <td>Gates 91-102</td>\n",
              "      <td>2018-12-31</td>\n",
              "      <td>115.0</td>\n",
              "      <td>Clean</td>\n",
              "      <td>Neutral</td>\n",
              "      <td>Very satisfied</td>\n",
              "    </tr>\n",
              "    <tr>\n",
              "      <th>1</th>\n",
              "      <td>373</td>\n",
              "      <td>Friday</td>\n",
              "      <td>ALASKA</td>\n",
              "      <td>SAN JOSE DEL CABO</td>\n",
              "      <td>Canada/Mexico</td>\n",
              "      <td>Small</td>\n",
              "      <td>Gates 50-59</td>\n",
              "      <td>2018-12-31</td>\n",
              "      <td>135.0</td>\n",
              "      <td>Clean</td>\n",
              "      <td>Very safe</td>\n",
              "      <td>Very satisfied</td>\n",
              "    </tr>\n",
              "    <tr>\n",
              "      <th>2</th>\n",
              "      <td>2820</td>\n",
              "      <td>Thursday</td>\n",
              "      <td>DELTA</td>\n",
              "      <td>LOS ANGELES</td>\n",
              "      <td>West US</td>\n",
              "      <td>Hub</td>\n",
              "      <td>Gates 40-48</td>\n",
              "      <td>2018-12-31</td>\n",
              "      <td>70.0</td>\n",
              "      <td>Average</td>\n",
              "      <td>Somewhat safe</td>\n",
              "      <td>Neutral</td>\n",
              "    </tr>\n",
              "    <tr>\n",
              "      <th>3</th>\n",
              "      <td>1157</td>\n",
              "      <td>Tuesday</td>\n",
              "      <td>SOUTHWEST</td>\n",
              "      <td>LOS ANGELES</td>\n",
              "      <td>West US</td>\n",
              "      <td>Hub</td>\n",
              "      <td>Gates 20-39</td>\n",
              "      <td>2018-12-31</td>\n",
              "      <td>190.0</td>\n",
              "      <td>Clean</td>\n",
              "      <td>Very safe</td>\n",
              "      <td>Somewhat satsified</td>\n",
              "    </tr>\n",
              "    <tr>\n",
              "      <th>4</th>\n",
              "      <td>2992</td>\n",
              "      <td>Wednesday</td>\n",
              "      <td>AMERICAN</td>\n",
              "      <td>MIAMI</td>\n",
              "      <td>East US</td>\n",
              "      <td>Hub</td>\n",
              "      <td>Gates 50-59</td>\n",
              "      <td>2018-12-31</td>\n",
              "      <td>559.0</td>\n",
              "      <td>Somewhat clean</td>\n",
              "      <td>Very safe</td>\n",
              "      <td>Somewhat satsified</td>\n",
              "    </tr>\n",
              "  </tbody>\n",
              "</table>\n",
              "</div>\n",
              "      <button class=\"colab-df-convert\" onclick=\"convertToInteractive('df-fdfc58eb-bf4a-460e-9702-d1fa82a7d5e4')\"\n",
              "              title=\"Convert this dataframe to an interactive table.\"\n",
              "              style=\"display:none;\">\n",
              "        \n",
              "  <svg xmlns=\"http://www.w3.org/2000/svg\" height=\"24px\"viewBox=\"0 0 24 24\"\n",
              "       width=\"24px\">\n",
              "    <path d=\"M0 0h24v24H0V0z\" fill=\"none\"/>\n",
              "    <path d=\"M18.56 5.44l.94 2.06.94-2.06 2.06-.94-2.06-.94-.94-2.06-.94 2.06-2.06.94zm-11 1L8.5 8.5l.94-2.06 2.06-.94-2.06-.94L8.5 2.5l-.94 2.06-2.06.94zm10 10l.94 2.06.94-2.06 2.06-.94-2.06-.94-.94-2.06-.94 2.06-2.06.94z\"/><path d=\"M17.41 7.96l-1.37-1.37c-.4-.4-.92-.59-1.43-.59-.52 0-1.04.2-1.43.59L10.3 9.45l-7.72 7.72c-.78.78-.78 2.05 0 2.83L4 21.41c.39.39.9.59 1.41.59.51 0 1.02-.2 1.41-.59l7.78-7.78 2.81-2.81c.8-.78.8-2.07 0-2.86zM5.41 20L4 18.59l7.72-7.72 1.47 1.35L5.41 20z\"/>\n",
              "  </svg>\n",
              "      </button>\n",
              "      \n",
              "  <style>\n",
              "    .colab-df-container {\n",
              "      display:flex;\n",
              "      flex-wrap:wrap;\n",
              "      gap: 12px;\n",
              "    }\n",
              "\n",
              "    .colab-df-convert {\n",
              "      background-color: #E8F0FE;\n",
              "      border: none;\n",
              "      border-radius: 50%;\n",
              "      cursor: pointer;\n",
              "      display: none;\n",
              "      fill: #1967D2;\n",
              "      height: 32px;\n",
              "      padding: 0 0 0 0;\n",
              "      width: 32px;\n",
              "    }\n",
              "\n",
              "    .colab-df-convert:hover {\n",
              "      background-color: #E2EBFA;\n",
              "      box-shadow: 0px 1px 2px rgba(60, 64, 67, 0.3), 0px 1px 3px 1px rgba(60, 64, 67, 0.15);\n",
              "      fill: #174EA6;\n",
              "    }\n",
              "\n",
              "    [theme=dark] .colab-df-convert {\n",
              "      background-color: #3B4455;\n",
              "      fill: #D2E3FC;\n",
              "    }\n",
              "\n",
              "    [theme=dark] .colab-df-convert:hover {\n",
              "      background-color: #434B5C;\n",
              "      box-shadow: 0px 1px 3px 1px rgba(0, 0, 0, 0.15);\n",
              "      filter: drop-shadow(0px 1px 2px rgba(0, 0, 0, 0.3));\n",
              "      fill: #FFFFFF;\n",
              "    }\n",
              "  </style>\n",
              "\n",
              "      <script>\n",
              "        const buttonEl =\n",
              "          document.querySelector('#df-fdfc58eb-bf4a-460e-9702-d1fa82a7d5e4 button.colab-df-convert');\n",
              "        buttonEl.style.display =\n",
              "          google.colab.kernel.accessAllowed ? 'block' : 'none';\n",
              "\n",
              "        async function convertToInteractive(key) {\n",
              "          const element = document.querySelector('#df-fdfc58eb-bf4a-460e-9702-d1fa82a7d5e4');\n",
              "          const dataTable =\n",
              "            await google.colab.kernel.invokeFunction('convertToInteractive',\n",
              "                                                     [key], {});\n",
              "          if (!dataTable) return;\n",
              "\n",
              "          const docLinkHtml = 'Like what you see? Visit the ' +\n",
              "            '<a target=\"_blank\" href=https://colab.research.google.com/notebooks/data_table.ipynb>data table notebook</a>'\n",
              "            + ' to learn more about interactive tables.';\n",
              "          element.innerHTML = '';\n",
              "          dataTable['output_type'] = 'display_data';\n",
              "          await google.colab.output.renderOutput(dataTable, element);\n",
              "          const docLink = document.createElement('div');\n",
              "          docLink.innerHTML = docLinkHtml;\n",
              "          element.appendChild(docLink);\n",
              "        }\n",
              "      </script>\n",
              "    </div>\n",
              "  </div>\n",
              "  "
            ]
          },
          "metadata": {}
        }
      ],
      "source": [
        "airlines = pd.read_csv(url_airlines_final)\n",
        "display(airlines.head(5))\n",
        "\n",
        "categories = pd.DataFrame(\n",
        "    {\n",
        "        'cleanliness': ['Clean', 'Average', 'Somewhat clean', 'Somewhat dirty', 'Dirty'],\n",
        "        'safety': ['Neutral', 'Very safe', 'Somewhat safe', 'Very unsafe', 'Somewhat unsafe'],\n",
        "        'satisfaction': ['Very satisfied', 'Neutral', 'Somewhat satisfied', 'Somewhat unsatisfied', 'Very unsatisfied']\n",
        "    }\n",
        ")\n",
        "\n",
        "airlines = airlines.drop(labels=['Unnamed: 0'], axis=1)\n",
        "\n",
        "print(\"\\n\")\n",
        "display(airlines.head(5))"
      ]
    },
    {
      "cell_type": "code",
      "execution_count": 16,
      "metadata": {
        "id": "XBGa0F8WsOn7",
        "outputId": "b109ad91-d393-4f22-9eeb-39f83e83c160",
        "colab": {
          "base_uri": "https://localhost:8080/"
        }
      },
      "outputs": [
        {
          "output_type": "stream",
          "name": "stdout",
          "text": [
            "      cleanliness           safety          satisfaction\n",
            "0           Clean          Neutral        Very satisfied\n",
            "1         Average        Very safe               Neutral\n",
            "2  Somewhat clean    Somewhat safe    Somewhat satisfied\n",
            "3  Somewhat dirty      Very unsafe  Somewhat unsatisfied\n",
            "4           Dirty  Somewhat unsafe      Very unsatisfied \n",
            "\n",
            "Cleanliness:  ['Clean' 'Average' 'Somewhat clean' 'Somewhat dirty' 'Dirty'] \n",
            "\n",
            "Safety:  ['Neutral' 'Very safe' 'Somewhat safe' 'Very unsafe' 'Somewhat unsafe'] \n",
            "\n",
            "Satisfaction:  ['Very satisfied' 'Neutral' 'Somewhat satsified' 'Somewhat unsatisfied'\n",
            " 'Very unsatisfied'] \n",
            "\n"
          ]
        }
      ],
      "source": [
        "# Print categories DataFrame\n",
        "print(categories, \"\\n\")\n",
        "\n",
        "# Print unique values of survey columns in airlines\n",
        "print('Cleanliness: ', airlines['cleanliness'].unique(), \"\\n\")\n",
        "print('Safety: ', airlines['safety'].unique(), '\\n')\n",
        "print('Satisfaction: ', airlines['satisfaction'].unique(), '\\n')"
      ]
    },
    {
      "cell_type": "code",
      "execution_count": 17,
      "metadata": {
        "id": "0ip7KwJzsOn7",
        "outputId": "8ae5a6c3-c9dc-4d86-f2ff-01e5658c2371",
        "colab": {
          "base_uri": "https://localhost:8080/"
        }
      },
      "outputs": [
        {
          "output_type": "stream",
          "name": "stdout",
          "text": [
            "Empty DataFrame\n",
            "Columns: [id, day, airline, destination, dest_region, dest_size, boarding_area, dept_time, wait_min, cleanliness, safety, satisfaction]\n",
            "Index: []\n",
            "        id        day        airline        destination    dest_region  \\\n",
            "0     1351    Tuesday    UNITED INTL             KANSAI           Asia   \n",
            "1      373     Friday         ALASKA  SAN JOSE DEL CABO  Canada/Mexico   \n",
            "2     2820   Thursday          DELTA        LOS ANGELES        West US   \n",
            "3     1157    Tuesday      SOUTHWEST        LOS ANGELES        West US   \n",
            "4     2992  Wednesday       AMERICAN              MIAMI        East US   \n",
            "...    ...        ...            ...                ...            ...   \n",
            "2472  1475    Tuesday         ALASKA       NEW YORK-JFK        East US   \n",
            "2473  2222   Thursday      SOUTHWEST            PHOENIX        West US   \n",
            "2474  2684     Friday         UNITED            ORLANDO        East US   \n",
            "2475  2549    Tuesday        JETBLUE         LONG BEACH        West US   \n",
            "2476  2162   Saturday  CHINA EASTERN            QINGDAO           Asia   \n",
            "\n",
            "     dest_size boarding_area   dept_time  wait_min     cleanliness  \\\n",
            "0          Hub  Gates 91-102  2018-12-31     115.0           Clean   \n",
            "1        Small   Gates 50-59  2018-12-31     135.0           Clean   \n",
            "2          Hub   Gates 40-48  2018-12-31      70.0         Average   \n",
            "3          Hub   Gates 20-39  2018-12-31     190.0           Clean   \n",
            "4          Hub   Gates 50-59  2018-12-31     559.0  Somewhat clean   \n",
            "...        ...           ...         ...       ...             ...   \n",
            "2472       Hub   Gates 50-59  2018-12-31     280.0  Somewhat clean   \n",
            "2473       Hub   Gates 20-39  2018-12-31     165.0           Clean   \n",
            "2474       Hub   Gates 70-90  2018-12-31      92.0           Clean   \n",
            "2475     Small    Gates 1-12  2018-12-31      95.0           Clean   \n",
            "2476     Large    Gates 1-12  2018-12-31     220.0           Clean   \n",
            "\n",
            "             safety        satisfaction  \n",
            "0           Neutral      Very satisfied  \n",
            "1         Very safe      Very satisfied  \n",
            "2     Somewhat safe             Neutral  \n",
            "3         Very safe  Somewhat satsified  \n",
            "4         Very safe  Somewhat satsified  \n",
            "...             ...                 ...  \n",
            "2472        Neutral  Somewhat satsified  \n",
            "2473      Very safe      Very satisfied  \n",
            "2474      Very safe      Very satisfied  \n",
            "2475  Somewhat safe      Very satisfied  \n",
            "2476      Very safe  Somewhat satsified  \n",
            "\n",
            "[2477 rows x 12 columns]\n"
          ]
        }
      ],
      "source": [
        "# Find the cleanliness category in airlines not in categories\n",
        "cat_clean = set(airlines['cleanliness']).difference(categories['cleanliness'])\n",
        "\n",
        "# Find rows with that category\n",
        "cat_clean_rows = airlines['cleanliness'].isin(cat_clean)\n",
        "\n",
        "# Print rows with inconsistent category\n",
        "print(airlines[cat_clean_rows])\n",
        "\n",
        "# Print rows with consistent categories only\n",
        "print(airlines[~cat_clean_rows])"
      ]
    },
    {
      "cell_type": "markdown",
      "metadata": {
        "id": "lXaU8fBTsOn8"
      },
      "source": [
        "## **Categorical Variable**"
      ]
    },
    {
      "cell_type": "markdown",
      "metadata": {
        "id": "SzwbPdqSsOn8"
      },
      "source": [
        "#### **Inconsistent categories**"
      ]
    },
    {
      "cell_type": "code",
      "execution_count": 18,
      "metadata": {
        "id": "xBAsbvHGsOn8",
        "outputId": "ff0ff37f-8eaa-4342-fea6-3de8b45660ee",
        "colab": {
          "base_uri": "https://localhost:8080/"
        }
      },
      "outputs": [
        {
          "output_type": "stream",
          "name": "stdout",
          "text": [
            "['Asia' 'Canada/Mexico' 'West US' 'East US' 'Midwest US' 'EAST US'\n",
            " 'Middle East' 'Europe' 'eur' 'Central/South America'\n",
            " 'Australia/New Zealand' 'middle east']\n",
            "['Hub' 'Small' '    Hub' 'Medium' 'Large' 'Hub     ' '    Small'\n",
            " 'Medium     ' '    Medium' 'Small     ' '    Large' 'Large     ']\n"
          ]
        }
      ],
      "source": [
        "# Print unique values of both columns\n",
        "print(airlines['dest_region'].unique())\n",
        "print(airlines['dest_size'].unique())"
      ]
    },
    {
      "cell_type": "code",
      "execution_count": 19,
      "metadata": {
        "id": "Okx8YmuCsOn9"
      },
      "outputs": [],
      "source": [
        "# Lower dest_region column and then replace \"eur\" with \"europe\"\n",
        "airlines['dest_region'] = airlines['dest_region'].str.lower()\n",
        "airlines['dest_region'] = airlines['dest_region'].replace({'eur':'europe'})"
      ]
    },
    {
      "cell_type": "code",
      "execution_count": 20,
      "metadata": {
        "id": "IojEDUMasOn9",
        "outputId": "f274c57c-a7d2-46b2-f00a-3894d351f242",
        "colab": {
          "base_uri": "https://localhost:8080/"
        }
      },
      "outputs": [
        {
          "output_type": "stream",
          "name": "stdout",
          "text": [
            "['asia' 'canada/mexico' 'west us' 'east us' 'midwest us' 'middle east'\n",
            " 'europe' 'central/south america' 'australia/new zealand']\n",
            "['Hub' 'Small' 'Medium' 'Large']\n"
          ]
        }
      ],
      "source": [
        "# Remove white spaces from 'dest_size'\n",
        "airlines['dest_size'] = airlines['dest_size'].str.strip()\n",
        "\n",
        "# Verify changes have been effected\n",
        "print(airlines['dest_region'].unique())\n",
        "print(airlines['dest_size'].unique())"
      ]
    },
    {
      "cell_type": "markdown",
      "metadata": {
        "id": "JaFNSdJ2sOn9"
      },
      "source": [
        "#### **Remapping categories**"
      ]
    },
    {
      "cell_type": "code",
      "execution_count": 21,
      "metadata": {
        "id": "QQgHgrSesOn9"
      },
      "outputs": [],
      "source": [
        "# Create ranges for categories\n",
        "label_ranges = [0, 60, 180, np.inf]\n",
        "label_names = ['short', 'medium', 'long']\n",
        "\n",
        "# Create wait_type column\n",
        "airlines['wait_type'] = pd.cut(airlines['wait_min'], \n",
        "                               bins=label_ranges,\n",
        "                               labels=label_names)\n",
        "\n",
        "# Create mappings and replace\n",
        "mappings = {\n",
        "    'Monday': 'weekday',\n",
        "    'Tuesday': 'weekday',\n",
        "    'Wednesday': 'weekday',\n",
        "    'Thursday': 'weekday',\n",
        "    'Friday': 'weekday',\n",
        "    'Saturday': 'weekend',\n",
        "    'Sunday': 'weekend'\n",
        "}\n",
        "\n",
        "airlines['day_week'] = airlines['day'].replace(mappings)"
      ]
    },
    {
      "cell_type": "markdown",
      "metadata": {
        "id": "vP1HYgbDsOn9"
      },
      "source": [
        "## **Cleaning text data**"
      ]
    },
    {
      "cell_type": "markdown",
      "metadata": {
        "id": "K-QpQbkFsOn-"
      },
      "source": [
        "#### **Removing titles and taking names**"
      ]
    },
    {
      "cell_type": "code",
      "execution_count": 22,
      "metadata": {
        "id": "_iUgWv00sOn-",
        "colab": {
          "base_uri": "https://localhost:8080/"
        },
        "outputId": "d448b924-cffd-4eb5-b700-a5b42cf63135"
      },
      "outputs": [
        {
          "output_type": "stream",
          "name": "stdout",
          "text": [
            "   id     full_name\n",
            "0   1    Jane Smith\n",
            "1   2  Alex Johnson\n",
            "2   3   Emily Brown\n",
            "3   4  Alex Johnson\n",
            "4   5  Alex Johnson\n",
            "5   6   Emily Brown\n",
            "6   7  Alex Johnson\n",
            "7   8   Emily Brown\n",
            "8   9   Emily Brown\n",
            "9  10    Jane Smith\n"
          ]
        }
      ],
      "source": [
        "import pandas as pd\n",
        "import random\n",
        "import re\n",
        "\n",
        "# Generate random data\n",
        "data = {\n",
        "    'id': range(1, 11),\n",
        "    'full_name': [random.choice(['Mr. John Doe', 'Dr. Jane Smith', 'Miss Emily Brown', 'Ms. Alex Johnson']) for _ in range(1, 11)]\n",
        "}\n",
        "\n",
        "# Create DataFrame\n",
        "my_data = pd.DataFrame(data)\n",
        "\n",
        "# Define a function to remove titles and extract names\n",
        "def remove_titles(full_name):\n",
        "    title_pattern = r'(?:Mr\\.|Mrs\\.|Ms\\.|Miss|Dr\\.)\\s'\n",
        "    name = re.sub(title_pattern, '', full_name)\n",
        "    return name\n",
        "\n",
        "# Apply the function to the 'full_name' column\n",
        "my_data['full_name'] = my_data['full_name'].apply(remove_titles)\n",
        "\n",
        "# Assert that 'full_name' has no honorifics\n",
        "assert my_data['full_name'].str.contains(r'(?:Mr\\.|Mrs\\.|Ms\\.|Miss|Dr\\.)').any() == False\n",
        "\n",
        "print(my_data)"
      ]
    },
    {
      "cell_type": "markdown",
      "metadata": {
        "id": "qyoCIpfDsOn-"
      },
      "source": [
        "#### **Keeping it descriptive**"
      ]
    },
    {
      "cell_type": "code",
      "execution_count": 23,
      "metadata": {
        "id": "E7H59UCcsOn-",
        "colab": {
          "base_uri": "https://localhost:8080/"
        },
        "outputId": "80daeaae-3763-4118-b3ba-c1e9fbc2650a"
      },
      "outputs": [
        {
          "output_type": "stream",
          "name": "stdout",
          "text": [
            "   id               survey_response\n",
            "0   1         The flight was great!\n",
            "1   2  I had a pleasant experience.\n",
            "2   3         The flight was great!\n",
            "3   4  I had a pleasant experience.\n",
            "4   5  I had a pleasant experience.\n",
            "5   6         The flight was great!\n",
            "6   7         The flight was great!\n",
            "7   8  I had a pleasant experience.\n",
            "8   9     It was an average flight.\n",
            "9  10     It was an average flight. \n",
            "\n",
            "1    I had a pleasant experience.\n",
            "3    I had a pleasant experience.\n",
            "4    I had a pleasant experience.\n",
            "7    I had a pleasant experience.\n",
            "Name: survey_response, dtype: object\n"
          ]
        }
      ],
      "source": [
        "import pandas as pd\n",
        "import random\n",
        "\n",
        "random.seed(123)\n",
        "\n",
        "# Generate random data\n",
        "data = {\n",
        "    'id': range(1, 11),\n",
        "    'survey_response': [random.choice(['The flight was great!', 'I had a pleasant experience.', 'It was an average flight.']) for _ in range(1, 11)]\n",
        "}\n",
        "\n",
        "# Create DataFrame\n",
        "my_data = pd.DataFrame(data)\n",
        "print(my_data, \"\\n\")\n",
        "\n",
        "# Store length of each row in survey_response column\n",
        "resp_length = my_data['survey_response'].str.len()\n",
        "\n",
        "# Find rows in my_data where resp_length > 25\n",
        "my_data_survey = my_data[resp_length > 25]\n",
        "\n",
        "# Check if the series is not empty and the minimum survey_response length is > 40\n",
        "if not my_data_survey.empty:\n",
        "    min_length = my_data_survey['survey_response'].str.len().min()\n",
        "    assert min_length > 25, f\"Minimum survey_response length is {min_length}\"\n",
        "else:\n",
        "    print(\"No rows found with survey_response length > 40\")\n",
        "\n",
        "# Print new survey_response column\n",
        "print(my_data_survey['survey_response'])"
      ]
    },
    {
      "cell_type": "markdown",
      "source": [
        "# **3️⃣Advanced data problems**"
      ],
      "metadata": {
        "id": "DwBOIBrytfR2"
      }
    },
    {
      "cell_type": "markdown",
      "source": [
        "## **Uniformity**\n"
      ],
      "metadata": {
        "id": "_M9tjnOdbfsP"
      }
    },
    {
      "cell_type": "markdown",
      "source": [
        "#### **Uniform currencies**\n"
      ],
      "metadata": {
        "id": "gkmkmXKkb8d2"
      }
    },
    {
      "cell_type": "code",
      "source": [
        "import pandas as pd\n",
        "import numpy as np\n",
        "\n",
        "# Set the random seed for reproducibility\n",
        "np.random.seed(42)\n",
        "\n",
        "# Define the number of rows in the dataset\n",
        "num_rows = 97\n",
        "\n",
        "# Generate random data\n",
        "cust_ids = [''.join(np.random.choice(list('0123456789ABCDEF'), 8)) for _ in range(num_rows)]\n",
        "acct_amounts = np.random.uniform(10000, 100000, num_rows).round(2)\n",
        "acct_currencies = np.random.choice(['dollar', 'euro'], num_rows)\n",
        "inv_amounts = np.random.uniform(5000, 80000, num_rows).round(2)\n",
        "account_opened_dates = pd.date_range(start='2017-01-01', end='2019-12-31', periods=num_rows).strftime('%d-%m-%y')\n",
        "last_transaction_dates = pd.date_range(start='2018-01-01', end='2020-12-31', periods=num_rows).strftime('%d-%m-%y')\n",
        "\n",
        "# Create the DataFrame\n",
        "banking = pd.DataFrame({\n",
        "    'cust_id': cust_ids,\n",
        "    'acct_amount': acct_amounts,\n",
        "    'acct_cur': acct_currencies,\n",
        "    'inv_amount': inv_amounts,\n",
        "    'account_opened': account_opened_dates,\n",
        "    'last_transaction': last_transaction_dates\n",
        "})\n",
        "\n",
        "# Display the DataFrame\n",
        "display(banking)"
      ],
      "metadata": {
        "colab": {
          "base_uri": "https://localhost:8080/",
          "height": 424
        },
        "id": "7tAphwK6o9at",
        "outputId": "9bdc2b4f-24c3-4de5-cd91-d64a4d146507"
      },
      "execution_count": 24,
      "outputs": [
        {
          "output_type": "display_data",
          "data": {
            "text/plain": [
              "     cust_id  acct_amount acct_cur  inv_amount account_opened last_transaction\n",
              "0   63CEA7C4     77555.33     euro    48886.21       01-01-17         01-01-18\n",
              "1   6926AA74     82615.13   dollar    59459.06       12-01-17         12-01-18\n",
              "2   37725417     99145.46   dollar    61781.09       23-01-17         23-01-18\n",
              "3   BD51FB40     47135.59   dollar    33338.79       04-02-17         04-02-18\n",
              "4   B95CB80A     43481.63     euro    23081.36       15-02-17         15-02-18\n",
              "..       ...          ...      ...         ...            ...              ...\n",
              "92  BCCBED1C     66645.88   dollar    44844.93       15-11-19         15-11-20\n",
              "93  2126097C     72617.38   dollar    59038.70       26-11-19         26-11-20\n",
              "94  999D1286     50908.70     euro     9675.60       08-12-19         08-12-20\n",
              "95  3941CAC7     66480.23   dollar    16080.43       19-12-19         19-12-20\n",
              "96  384C8394     62588.29   dollar    14983.77       31-12-19         31-12-20\n",
              "\n",
              "[97 rows x 6 columns]"
            ],
            "text/html": [
              "\n",
              "  <div id=\"df-efb60317-8e65-46fc-8d56-22bc324e8988\">\n",
              "    <div class=\"colab-df-container\">\n",
              "      <div>\n",
              "<style scoped>\n",
              "    .dataframe tbody tr th:only-of-type {\n",
              "        vertical-align: middle;\n",
              "    }\n",
              "\n",
              "    .dataframe tbody tr th {\n",
              "        vertical-align: top;\n",
              "    }\n",
              "\n",
              "    .dataframe thead th {\n",
              "        text-align: right;\n",
              "    }\n",
              "</style>\n",
              "<table border=\"1\" class=\"dataframe\">\n",
              "  <thead>\n",
              "    <tr style=\"text-align: right;\">\n",
              "      <th></th>\n",
              "      <th>cust_id</th>\n",
              "      <th>acct_amount</th>\n",
              "      <th>acct_cur</th>\n",
              "      <th>inv_amount</th>\n",
              "      <th>account_opened</th>\n",
              "      <th>last_transaction</th>\n",
              "    </tr>\n",
              "  </thead>\n",
              "  <tbody>\n",
              "    <tr>\n",
              "      <th>0</th>\n",
              "      <td>63CEA7C4</td>\n",
              "      <td>77555.33</td>\n",
              "      <td>euro</td>\n",
              "      <td>48886.21</td>\n",
              "      <td>01-01-17</td>\n",
              "      <td>01-01-18</td>\n",
              "    </tr>\n",
              "    <tr>\n",
              "      <th>1</th>\n",
              "      <td>6926AA74</td>\n",
              "      <td>82615.13</td>\n",
              "      <td>dollar</td>\n",
              "      <td>59459.06</td>\n",
              "      <td>12-01-17</td>\n",
              "      <td>12-01-18</td>\n",
              "    </tr>\n",
              "    <tr>\n",
              "      <th>2</th>\n",
              "      <td>37725417</td>\n",
              "      <td>99145.46</td>\n",
              "      <td>dollar</td>\n",
              "      <td>61781.09</td>\n",
              "      <td>23-01-17</td>\n",
              "      <td>23-01-18</td>\n",
              "    </tr>\n",
              "    <tr>\n",
              "      <th>3</th>\n",
              "      <td>BD51FB40</td>\n",
              "      <td>47135.59</td>\n",
              "      <td>dollar</td>\n",
              "      <td>33338.79</td>\n",
              "      <td>04-02-17</td>\n",
              "      <td>04-02-18</td>\n",
              "    </tr>\n",
              "    <tr>\n",
              "      <th>4</th>\n",
              "      <td>B95CB80A</td>\n",
              "      <td>43481.63</td>\n",
              "      <td>euro</td>\n",
              "      <td>23081.36</td>\n",
              "      <td>15-02-17</td>\n",
              "      <td>15-02-18</td>\n",
              "    </tr>\n",
              "    <tr>\n",
              "      <th>...</th>\n",
              "      <td>...</td>\n",
              "      <td>...</td>\n",
              "      <td>...</td>\n",
              "      <td>...</td>\n",
              "      <td>...</td>\n",
              "      <td>...</td>\n",
              "    </tr>\n",
              "    <tr>\n",
              "      <th>92</th>\n",
              "      <td>BCCBED1C</td>\n",
              "      <td>66645.88</td>\n",
              "      <td>dollar</td>\n",
              "      <td>44844.93</td>\n",
              "      <td>15-11-19</td>\n",
              "      <td>15-11-20</td>\n",
              "    </tr>\n",
              "    <tr>\n",
              "      <th>93</th>\n",
              "      <td>2126097C</td>\n",
              "      <td>72617.38</td>\n",
              "      <td>dollar</td>\n",
              "      <td>59038.70</td>\n",
              "      <td>26-11-19</td>\n",
              "      <td>26-11-20</td>\n",
              "    </tr>\n",
              "    <tr>\n",
              "      <th>94</th>\n",
              "      <td>999D1286</td>\n",
              "      <td>50908.70</td>\n",
              "      <td>euro</td>\n",
              "      <td>9675.60</td>\n",
              "      <td>08-12-19</td>\n",
              "      <td>08-12-20</td>\n",
              "    </tr>\n",
              "    <tr>\n",
              "      <th>95</th>\n",
              "      <td>3941CAC7</td>\n",
              "      <td>66480.23</td>\n",
              "      <td>dollar</td>\n",
              "      <td>16080.43</td>\n",
              "      <td>19-12-19</td>\n",
              "      <td>19-12-20</td>\n",
              "    </tr>\n",
              "    <tr>\n",
              "      <th>96</th>\n",
              "      <td>384C8394</td>\n",
              "      <td>62588.29</td>\n",
              "      <td>dollar</td>\n",
              "      <td>14983.77</td>\n",
              "      <td>31-12-19</td>\n",
              "      <td>31-12-20</td>\n",
              "    </tr>\n",
              "  </tbody>\n",
              "</table>\n",
              "<p>97 rows × 6 columns</p>\n",
              "</div>\n",
              "      <button class=\"colab-df-convert\" onclick=\"convertToInteractive('df-efb60317-8e65-46fc-8d56-22bc324e8988')\"\n",
              "              title=\"Convert this dataframe to an interactive table.\"\n",
              "              style=\"display:none;\">\n",
              "        \n",
              "  <svg xmlns=\"http://www.w3.org/2000/svg\" height=\"24px\"viewBox=\"0 0 24 24\"\n",
              "       width=\"24px\">\n",
              "    <path d=\"M0 0h24v24H0V0z\" fill=\"none\"/>\n",
              "    <path d=\"M18.56 5.44l.94 2.06.94-2.06 2.06-.94-2.06-.94-.94-2.06-.94 2.06-2.06.94zm-11 1L8.5 8.5l.94-2.06 2.06-.94-2.06-.94L8.5 2.5l-.94 2.06-2.06.94zm10 10l.94 2.06.94-2.06 2.06-.94-2.06-.94-.94-2.06-.94 2.06-2.06.94z\"/><path d=\"M17.41 7.96l-1.37-1.37c-.4-.4-.92-.59-1.43-.59-.52 0-1.04.2-1.43.59L10.3 9.45l-7.72 7.72c-.78.78-.78 2.05 0 2.83L4 21.41c.39.39.9.59 1.41.59.51 0 1.02-.2 1.41-.59l7.78-7.78 2.81-2.81c.8-.78.8-2.07 0-2.86zM5.41 20L4 18.59l7.72-7.72 1.47 1.35L5.41 20z\"/>\n",
              "  </svg>\n",
              "      </button>\n",
              "      \n",
              "  <style>\n",
              "    .colab-df-container {\n",
              "      display:flex;\n",
              "      flex-wrap:wrap;\n",
              "      gap: 12px;\n",
              "    }\n",
              "\n",
              "    .colab-df-convert {\n",
              "      background-color: #E8F0FE;\n",
              "      border: none;\n",
              "      border-radius: 50%;\n",
              "      cursor: pointer;\n",
              "      display: none;\n",
              "      fill: #1967D2;\n",
              "      height: 32px;\n",
              "      padding: 0 0 0 0;\n",
              "      width: 32px;\n",
              "    }\n",
              "\n",
              "    .colab-df-convert:hover {\n",
              "      background-color: #E2EBFA;\n",
              "      box-shadow: 0px 1px 2px rgba(60, 64, 67, 0.3), 0px 1px 3px 1px rgba(60, 64, 67, 0.15);\n",
              "      fill: #174EA6;\n",
              "    }\n",
              "\n",
              "    [theme=dark] .colab-df-convert {\n",
              "      background-color: #3B4455;\n",
              "      fill: #D2E3FC;\n",
              "    }\n",
              "\n",
              "    [theme=dark] .colab-df-convert:hover {\n",
              "      background-color: #434B5C;\n",
              "      box-shadow: 0px 1px 3px 1px rgba(0, 0, 0, 0.15);\n",
              "      filter: drop-shadow(0px 1px 2px rgba(0, 0, 0, 0.3));\n",
              "      fill: #FFFFFF;\n",
              "    }\n",
              "  </style>\n",
              "\n",
              "      <script>\n",
              "        const buttonEl =\n",
              "          document.querySelector('#df-efb60317-8e65-46fc-8d56-22bc324e8988 button.colab-df-convert');\n",
              "        buttonEl.style.display =\n",
              "          google.colab.kernel.accessAllowed ? 'block' : 'none';\n",
              "\n",
              "        async function convertToInteractive(key) {\n",
              "          const element = document.querySelector('#df-efb60317-8e65-46fc-8d56-22bc324e8988');\n",
              "          const dataTable =\n",
              "            await google.colab.kernel.invokeFunction('convertToInteractive',\n",
              "                                                     [key], {});\n",
              "          if (!dataTable) return;\n",
              "\n",
              "          const docLinkHtml = 'Like what you see? Visit the ' +\n",
              "            '<a target=\"_blank\" href=https://colab.research.google.com/notebooks/data_table.ipynb>data table notebook</a>'\n",
              "            + ' to learn more about interactive tables.';\n",
              "          element.innerHTML = '';\n",
              "          dataTable['output_type'] = 'display_data';\n",
              "          await google.colab.output.renderOutput(dataTable, element);\n",
              "          const docLink = document.createElement('div');\n",
              "          docLink.innerHTML = docLinkHtml;\n",
              "          element.appendChild(docLink);\n",
              "        }\n",
              "      </script>\n",
              "    </div>\n",
              "  </div>\n",
              "  "
            ]
          },
          "metadata": {}
        }
      ]
    },
    {
      "cell_type": "code",
      "source": [
        "# Find values of acct_cur that are equal to 'euro'\n",
        "acct_eu = banking['acct_cur'] == 'euro'\n",
        "\n",
        "# Convert acct_amount where it is in euro to dollars\n",
        "banking.loc[acct_eu, 'acct_amount'] = banking.loc[acct_eu, 'acct_amount'] * 1.1 \n",
        "\n",
        "# Unify acct_cur column by changing 'euro' values to 'dollar'\n",
        "banking.loc[acct_eu, 'acct_cur'] = 'dollar'\n",
        "\n",
        "# Assert that only dollar currency remains\n",
        "assert banking['acct_cur'].unique() == 'dollar'"
      ],
      "metadata": {
        "id": "WfIQmNrQcOuX"
      },
      "execution_count": 25,
      "outputs": []
    },
    {
      "cell_type": "markdown",
      "source": [
        "#### **Uniform dates**\n"
      ],
      "metadata": {
        "id": "mJbxinYrb98u"
      }
    },
    {
      "cell_type": "code",
      "source": [
        "# Print the header of account_opend\n",
        "print(banking['account_opened'].head())\n",
        "\n",
        "# Convert account_opened to datetime\n",
        "banking['account_opened'] = pd.to_datetime(banking['account_opened'],\n",
        "                                           # Infer datetime format\n",
        "                                           infer_datetime_format = True,\n",
        "                                           # Return missing value for error\n",
        "                                           errors = 'coerce')  \n",
        "\n",
        "# Get year of account opened\n",
        "banking['acct_year'] = banking['account_opened'].dt.strftime('%Y')\n",
        "\n",
        "# Print acct_year\n",
        "print(banking['acct_year'])"
      ],
      "metadata": {
        "colab": {
          "base_uri": "https://localhost:8080/"
        },
        "id": "QLJVK0QIcPOb",
        "outputId": "0f6e1115-9656-4773-f6fd-8c0e77bcb2d6"
      },
      "execution_count": 26,
      "outputs": [
        {
          "output_type": "stream",
          "name": "stdout",
          "text": [
            "0    01-01-17\n",
            "1    12-01-17\n",
            "2    23-01-17\n",
            "3    04-02-17\n",
            "4    15-02-17\n",
            "Name: account_opened, dtype: object\n",
            "0     2017\n",
            "1     2017\n",
            "2     2017\n",
            "3     2017\n",
            "4     2017\n",
            "      ... \n",
            "92    2019\n",
            "93    2019\n",
            "94    2019\n",
            "95    2019\n",
            "96    2019\n",
            "Name: acct_year, Length: 97, dtype: object\n"
          ]
        }
      ]
    },
    {
      "cell_type": "markdown",
      "source": [
        "## **Cross field validation**\n"
      ],
      "metadata": {
        "id": "cPa5uA1Fb_S2"
      }
    },
    {
      "cell_type": "markdown",
      "source": [
        "#### **How's our data integrity?**\n"
      ],
      "metadata": {
        "id": "Je7mtqVRcCXe"
      }
    },
    {
      "cell_type": "code",
      "source": [
        "banking = pd.read_csv(url_banking_dirty)\n",
        "banking.head()"
      ],
      "metadata": {
        "colab": {
          "base_uri": "https://localhost:8080/",
          "height": 206
        },
        "id": "2PtWFxaqthY9",
        "outputId": "2d450a8c-f2f5-4d7c-b502-a2583c8eaaf0"
      },
      "execution_count": 27,
      "outputs": [
        {
          "output_type": "execute_result",
          "data": {
            "text/plain": [
              "   Unnamed: 0   cust_id  birth_date  Age  acct_amount  inv_amount   fund_A  \\\n",
              "0           0  870A9281  1962-06-09   58     63523.31       51295  30105.0   \n",
              "1           1  166B05B0  1962-12-16   58     38175.46       15050   4995.0   \n",
              "2           2  BFC13E88  1990-09-12   34     59863.77       24567  10323.0   \n",
              "3           3  F2158F66  1985-11-03   35     84132.10       23712   3908.0   \n",
              "4           4  7A73F334  1990-05-17   30    120512.00       93230  12158.4   \n",
              "\n",
              "    fund_B   fund_C   fund_D account_opened last_transaction  \n",
              "0   4138.0   1420.0  15632.0       02-09-18         22-02-19  \n",
              "1    938.0   6696.0   2421.0       28-02-19         31-10-18  \n",
              "2   4590.0   8469.0   1185.0       25-04-18         02-04-18  \n",
              "3    492.0   6482.0  12830.0       07-11-17         08-11-18  \n",
              "4  51281.0  13434.0  18383.0       14-05-18         19-07-18  "
            ],
            "text/html": [
              "\n",
              "  <div id=\"df-a56e4def-096f-4c63-a245-3ad3aa6eab7b\">\n",
              "    <div class=\"colab-df-container\">\n",
              "      <div>\n",
              "<style scoped>\n",
              "    .dataframe tbody tr th:only-of-type {\n",
              "        vertical-align: middle;\n",
              "    }\n",
              "\n",
              "    .dataframe tbody tr th {\n",
              "        vertical-align: top;\n",
              "    }\n",
              "\n",
              "    .dataframe thead th {\n",
              "        text-align: right;\n",
              "    }\n",
              "</style>\n",
              "<table border=\"1\" class=\"dataframe\">\n",
              "  <thead>\n",
              "    <tr style=\"text-align: right;\">\n",
              "      <th></th>\n",
              "      <th>Unnamed: 0</th>\n",
              "      <th>cust_id</th>\n",
              "      <th>birth_date</th>\n",
              "      <th>Age</th>\n",
              "      <th>acct_amount</th>\n",
              "      <th>inv_amount</th>\n",
              "      <th>fund_A</th>\n",
              "      <th>fund_B</th>\n",
              "      <th>fund_C</th>\n",
              "      <th>fund_D</th>\n",
              "      <th>account_opened</th>\n",
              "      <th>last_transaction</th>\n",
              "    </tr>\n",
              "  </thead>\n",
              "  <tbody>\n",
              "    <tr>\n",
              "      <th>0</th>\n",
              "      <td>0</td>\n",
              "      <td>870A9281</td>\n",
              "      <td>1962-06-09</td>\n",
              "      <td>58</td>\n",
              "      <td>63523.31</td>\n",
              "      <td>51295</td>\n",
              "      <td>30105.0</td>\n",
              "      <td>4138.0</td>\n",
              "      <td>1420.0</td>\n",
              "      <td>15632.0</td>\n",
              "      <td>02-09-18</td>\n",
              "      <td>22-02-19</td>\n",
              "    </tr>\n",
              "    <tr>\n",
              "      <th>1</th>\n",
              "      <td>1</td>\n",
              "      <td>166B05B0</td>\n",
              "      <td>1962-12-16</td>\n",
              "      <td>58</td>\n",
              "      <td>38175.46</td>\n",
              "      <td>15050</td>\n",
              "      <td>4995.0</td>\n",
              "      <td>938.0</td>\n",
              "      <td>6696.0</td>\n",
              "      <td>2421.0</td>\n",
              "      <td>28-02-19</td>\n",
              "      <td>31-10-18</td>\n",
              "    </tr>\n",
              "    <tr>\n",
              "      <th>2</th>\n",
              "      <td>2</td>\n",
              "      <td>BFC13E88</td>\n",
              "      <td>1990-09-12</td>\n",
              "      <td>34</td>\n",
              "      <td>59863.77</td>\n",
              "      <td>24567</td>\n",
              "      <td>10323.0</td>\n",
              "      <td>4590.0</td>\n",
              "      <td>8469.0</td>\n",
              "      <td>1185.0</td>\n",
              "      <td>25-04-18</td>\n",
              "      <td>02-04-18</td>\n",
              "    </tr>\n",
              "    <tr>\n",
              "      <th>3</th>\n",
              "      <td>3</td>\n",
              "      <td>F2158F66</td>\n",
              "      <td>1985-11-03</td>\n",
              "      <td>35</td>\n",
              "      <td>84132.10</td>\n",
              "      <td>23712</td>\n",
              "      <td>3908.0</td>\n",
              "      <td>492.0</td>\n",
              "      <td>6482.0</td>\n",
              "      <td>12830.0</td>\n",
              "      <td>07-11-17</td>\n",
              "      <td>08-11-18</td>\n",
              "    </tr>\n",
              "    <tr>\n",
              "      <th>4</th>\n",
              "      <td>4</td>\n",
              "      <td>7A73F334</td>\n",
              "      <td>1990-05-17</td>\n",
              "      <td>30</td>\n",
              "      <td>120512.00</td>\n",
              "      <td>93230</td>\n",
              "      <td>12158.4</td>\n",
              "      <td>51281.0</td>\n",
              "      <td>13434.0</td>\n",
              "      <td>18383.0</td>\n",
              "      <td>14-05-18</td>\n",
              "      <td>19-07-18</td>\n",
              "    </tr>\n",
              "  </tbody>\n",
              "</table>\n",
              "</div>\n",
              "      <button class=\"colab-df-convert\" onclick=\"convertToInteractive('df-a56e4def-096f-4c63-a245-3ad3aa6eab7b')\"\n",
              "              title=\"Convert this dataframe to an interactive table.\"\n",
              "              style=\"display:none;\">\n",
              "        \n",
              "  <svg xmlns=\"http://www.w3.org/2000/svg\" height=\"24px\"viewBox=\"0 0 24 24\"\n",
              "       width=\"24px\">\n",
              "    <path d=\"M0 0h24v24H0V0z\" fill=\"none\"/>\n",
              "    <path d=\"M18.56 5.44l.94 2.06.94-2.06 2.06-.94-2.06-.94-.94-2.06-.94 2.06-2.06.94zm-11 1L8.5 8.5l.94-2.06 2.06-.94-2.06-.94L8.5 2.5l-.94 2.06-2.06.94zm10 10l.94 2.06.94-2.06 2.06-.94-2.06-.94-.94-2.06-.94 2.06-2.06.94z\"/><path d=\"M17.41 7.96l-1.37-1.37c-.4-.4-.92-.59-1.43-.59-.52 0-1.04.2-1.43.59L10.3 9.45l-7.72 7.72c-.78.78-.78 2.05 0 2.83L4 21.41c.39.39.9.59 1.41.59.51 0 1.02-.2 1.41-.59l7.78-7.78 2.81-2.81c.8-.78.8-2.07 0-2.86zM5.41 20L4 18.59l7.72-7.72 1.47 1.35L5.41 20z\"/>\n",
              "  </svg>\n",
              "      </button>\n",
              "      \n",
              "  <style>\n",
              "    .colab-df-container {\n",
              "      display:flex;\n",
              "      flex-wrap:wrap;\n",
              "      gap: 12px;\n",
              "    }\n",
              "\n",
              "    .colab-df-convert {\n",
              "      background-color: #E8F0FE;\n",
              "      border: none;\n",
              "      border-radius: 50%;\n",
              "      cursor: pointer;\n",
              "      display: none;\n",
              "      fill: #1967D2;\n",
              "      height: 32px;\n",
              "      padding: 0 0 0 0;\n",
              "      width: 32px;\n",
              "    }\n",
              "\n",
              "    .colab-df-convert:hover {\n",
              "      background-color: #E2EBFA;\n",
              "      box-shadow: 0px 1px 2px rgba(60, 64, 67, 0.3), 0px 1px 3px 1px rgba(60, 64, 67, 0.15);\n",
              "      fill: #174EA6;\n",
              "    }\n",
              "\n",
              "    [theme=dark] .colab-df-convert {\n",
              "      background-color: #3B4455;\n",
              "      fill: #D2E3FC;\n",
              "    }\n",
              "\n",
              "    [theme=dark] .colab-df-convert:hover {\n",
              "      background-color: #434B5C;\n",
              "      box-shadow: 0px 1px 3px 1px rgba(0, 0, 0, 0.15);\n",
              "      filter: drop-shadow(0px 1px 2px rgba(0, 0, 0, 0.3));\n",
              "      fill: #FFFFFF;\n",
              "    }\n",
              "  </style>\n",
              "\n",
              "      <script>\n",
              "        const buttonEl =\n",
              "          document.querySelector('#df-a56e4def-096f-4c63-a245-3ad3aa6eab7b button.colab-df-convert');\n",
              "        buttonEl.style.display =\n",
              "          google.colab.kernel.accessAllowed ? 'block' : 'none';\n",
              "\n",
              "        async function convertToInteractive(key) {\n",
              "          const element = document.querySelector('#df-a56e4def-096f-4c63-a245-3ad3aa6eab7b');\n",
              "          const dataTable =\n",
              "            await google.colab.kernel.invokeFunction('convertToInteractive',\n",
              "                                                     [key], {});\n",
              "          if (!dataTable) return;\n",
              "\n",
              "          const docLinkHtml = 'Like what you see? Visit the ' +\n",
              "            '<a target=\"_blank\" href=https://colab.research.google.com/notebooks/data_table.ipynb>data table notebook</a>'\n",
              "            + ' to learn more about interactive tables.';\n",
              "          element.innerHTML = '';\n",
              "          dataTable['output_type'] = 'display_data';\n",
              "          await google.colab.output.renderOutput(dataTable, element);\n",
              "          const docLink = document.createElement('div');\n",
              "          docLink.innerHTML = docLinkHtml;\n",
              "          element.appendChild(docLink);\n",
              "        }\n",
              "      </script>\n",
              "    </div>\n",
              "  </div>\n",
              "  "
            ]
          },
          "metadata": {},
          "execution_count": 27
        }
      ]
    },
    {
      "cell_type": "code",
      "source": [
        "# Store fund columns to sum against\n",
        "fund_columns = ['fund_A', 'fund_B', 'fund_C', 'fund_D']\n",
        "\n",
        "# Find rows where fund_columns row sum == inv_amount\n",
        "inv_equ = banking[fund_columns].sum(axis = 1) == banking['inv_amount']\n",
        "\n",
        "# Store consistent and inconsistent data\n",
        "consistent_inv = banking[inv_equ]\n",
        "inconsistent_inv = banking[~inv_equ]\n",
        "\n",
        "# Store consistent and inconsistent data\n",
        "print(\"Number of inconsistent investments: \", inconsistent_inv.shape[0])"
      ],
      "metadata": {
        "colab": {
          "base_uri": "https://localhost:8080/"
        },
        "id": "hhLiTwlOcQU_",
        "outputId": "5357b5b5-0473-4bad-c0f3-a10ee2df766f"
      },
      "execution_count": 28,
      "outputs": [
        {
          "output_type": "stream",
          "name": "stdout",
          "text": [
            "Number of inconsistent investments:  8\n"
          ]
        }
      ]
    },
    {
      "cell_type": "code",
      "source": [
        "banking.columns"
      ],
      "metadata": {
        "colab": {
          "base_uri": "https://localhost:8080/"
        },
        "id": "32f2a_HEADUZ",
        "outputId": "ea9276f6-c001-4cdd-efe2-b3a3cfa34f2d"
      },
      "execution_count": 34,
      "outputs": [
        {
          "output_type": "execute_result",
          "data": {
            "text/plain": [
              "Index(['Unnamed: 0', 'cust_id', 'birth_date', 'Age', 'acct_amount',\n",
              "       'inv_amount', 'fund_A', 'fund_B', 'fund_C', 'fund_D', 'account_opened',\n",
              "       'last_transaction'],\n",
              "      dtype='object')"
            ]
          },
          "metadata": {},
          "execution_count": 34
        }
      ]
    },
    {
      "cell_type": "code",
      "source": [
        "import pandas as pd\n",
        "import datetime as dt\n",
        "\n",
        "# Convert 'birth_date' column to datetime type\n",
        "banking['birth_date'] = pd.to_datetime(banking['birth_date'])\n",
        "\n",
        "today = dt.date.today()\n",
        "ages_manual = today.year - banking['birth_date'].dt.year\n",
        "\n",
        "# Find rows where age column == ages_manual\n",
        "age_equ = banking['Age'] == ages_manual\n",
        "\n",
        "# Store consistent and inconsistent data\n",
        "consistent_ages = banking[age_equ]\n",
        "inconsistent_ages = banking[~age_equ]\n",
        "\n",
        "# Store consistent and inconsistent data\n",
        "print(\"Number of inconsistent ages: \", inconsistent_ages.shape[0])"
      ],
      "metadata": {
        "colab": {
          "base_uri": "https://localhost:8080/"
        },
        "id": "UUXll35L0eNI",
        "outputId": "ef36e90a-1d67-4362-f517-a72b4847b7e5"
      },
      "execution_count": 36,
      "outputs": [
        {
          "output_type": "stream",
          "name": "stdout",
          "text": [
            "Number of inconsistent ages:  100\n"
          ]
        }
      ]
    },
    {
      "cell_type": "markdown",
      "source": [
        "## **Completeness**\n"
      ],
      "metadata": {
        "id": "w-Jx66FzcDx-"
      }
    },
    {
      "cell_type": "markdown",
      "source": [
        "#### **Is this missing at random?**\n"
      ],
      "metadata": {
        "id": "bzQlykDRcFwH"
      }
    },
    {
      "cell_type": "code",
      "source": [
        "import missingno as msno\n",
        "\n",
        "# Print number of missing values in banking\n",
        "print(banking.isna().sum())\n",
        "\n",
        "# Visualize missingness matrix\n",
        "msno.matrix(banking)\n",
        "plt.show()"
      ],
      "metadata": {
        "colab": {
          "base_uri": "https://localhost:8080/",
          "height": 925
        },
        "id": "XKiOHD64cRHv",
        "outputId": "d442bac9-c2e1-457f-96c3-cab3ae3556db"
      },
      "execution_count": 37,
      "outputs": [
        {
          "output_type": "stream",
          "name": "stdout",
          "text": [
            "Unnamed: 0          0\n",
            "cust_id             0\n",
            "birth_date          0\n",
            "Age                 0\n",
            "acct_amount         0\n",
            "inv_amount          0\n",
            "fund_A              0\n",
            "fund_B              0\n",
            "fund_C              0\n",
            "fund_D              0\n",
            "account_opened      0\n",
            "last_transaction    0\n",
            "dtype: int64\n"
          ]
        },
        {
          "output_type": "display_data",
          "data": {
            "text/plain": [
              "<Figure size 2500x1000 with 2 Axes>"
            ],
            "image/png": "[encoded data removed]"
          },
          "metadata": {}
        }
      ]
    },
    {
      "cell_type": "code",
      "source": [
        "# Isolate missing and non-missing values of inv_amount\n",
        "missing_investors = banking[banking['inv_amount'].isna()]\n",
        "investors = banking[~banking['inv_amount'].isna()]\n",
        "\n",
        "# Sort banking by age and visualize\n",
        "banking_sorted = banking.sort_values(by='Age')\n",
        "msno.matrix(banking_sorted)\n",
        "plt.show()"
      ],
      "metadata": {
        "colab": {
          "base_uri": "https://localhost:8080/",
          "height": 699
        },
        "id": "ySNEeUMK1tGt",
        "outputId": "3e9d1fcd-ef90-4051-c9f3-1a22aec3b60c"
      },
      "execution_count": 38,
      "outputs": [
        {
          "output_type": "display_data",
          "data": {
            "text/plain": [
              "<Figure size 2500x1000 with 2 Axes>"
            ],
            "image/png": "[encoded data removed]"
          },
          "metadata": {}
        }
      ]
    },
    {
      "cell_type": "markdown",
      "source": [
        "#### **Missing investors**\n"
      ],
      "metadata": {
        "id": "5xNg2f-BcHjm"
      }
    },
    {
      "cell_type": "code",
      "source": [
        "import pandas as pd\n",
        "import missingno as msno\n",
        "import random\n",
        "\n",
        "# Generate a random DataFrame with complete and missing data\n",
        "random.seed(42)  # Set a seed for reproducibility\n",
        "\n",
        "data = {\n",
        "    'A': [random.randint(1, 10) if random.random() > 0.2 else None for _ in range(100)],\n",
        "    'B': [random.choice(['A', 'B', 'C', None]) for _ in range(100)],\n",
        "    'C': [random.uniform(0, 1) if random.random() > 0.5 else None for _ in range(100)],\n",
        "    'D': [random.choice([True, False, None]) for _ in range(100)]\n",
        "}\n",
        "df = pd.DataFrame(data)\n",
        "\n",
        "# Visualize missing data using missingno library\n",
        "msno.matrix(df)  # Matrix plot"
      ],
      "metadata": {
        "colab": {
          "base_uri": "https://localhost:8080/",
          "height": 636
        },
        "id": "-_YVYrLr2Kb8",
        "outputId": "3cb12ffa-ad28-48d6-b408-366b1a36a27f"
      },
      "execution_count": 39,
      "outputs": [
        {
          "output_type": "execute_result",
          "data": {
            "text/plain": [
              "<Axes: >"
            ]
          },
          "metadata": {},
          "execution_count": 39
        },
        {
          "output_type": "display_data",
          "data": {
            "text/plain": [
              "<Figure size 2500x1000 with 2 Axes>"
            ],
            "image/png": "[encoded data removed]"
          },
          "metadata": {}
        }
      ]
    },
    {
      "cell_type": "markdown",
      "source": [
        " `msno.matrix()` is a function from the `missingno` library that creates a matrix plot, a visual representation of missing data in a DataFrame. It displays missing values as light-colored cells and non-missing values as dark-colored cells."
      ],
      "metadata": {
        "id": "utgdrh1624lV"
      }
    },
    {
      "cell_type": "markdown",
      "source": [
        "#### **Follow the money**"
      ],
      "metadata": {
        "id": "Zo9Jnt1AcI8H"
      }
    },
    {
      "cell_type": "code",
      "source": [
        "# Drop missing values of cust_id\n",
        "banking_fullid = banking.dropna(subset = ['cust_id'])\n",
        "\n",
        "# Compute estimated acct_amount\n",
        "acct_imp = banking_fullid['inv_amount'] * 5\n",
        "\n",
        "# Impute missing acct_amount with corresponding acct_imp\n",
        "banking_imputed = banking_fullid.fillna({'acct_amount':acct_imp})\n",
        "\n",
        "# Print number of missing values\n",
        "print(banking_imputed.isna().sum())"
      ],
      "metadata": {
        "colab": {
          "base_uri": "https://localhost:8080/"
        },
        "id": "NOoiKNgtcR1B",
        "outputId": "44a76921-1974-4b9e-9f26-7efd48c902d1"
      },
      "execution_count": 40,
      "outputs": [
        {
          "output_type": "stream",
          "name": "stdout",
          "text": [
            "Unnamed: 0          0\n",
            "cust_id             0\n",
            "birth_date          0\n",
            "Age                 0\n",
            "acct_amount         0\n",
            "inv_amount          0\n",
            "fund_A              0\n",
            "fund_B              0\n",
            "fund_C              0\n",
            "fund_D              0\n",
            "account_opened      0\n",
            "last_transaction    0\n",
            "dtype: int64\n"
          ]
        }
      ]
    },
    {
      "cell_type": "markdown",
      "source": [
        "# **4️⃣Record linkage**"
      ],
      "metadata": {
        "id": "xQ9afXcptm3H"
      }
    },
    {
      "cell_type": "markdown",
      "metadata": {
        "id": "i3xmfBAWsREk"
      },
      "source": [
        "## **Comparing strings**"
      ]
    },
    {
      "cell_type": "markdown",
      "metadata": {
        "id": "AvIhO-RcsREn"
      },
      "source": [
        "### The cutoff point"
      ]
    },
    {
      "cell_type": "code",
      "source": [
        "import pandas as pd\n",
        "import random\n",
        "\n",
        "# Create a list of cuisine types\n",
        "cuisine_types = ['american', 'merican', 'amurican', 'american', 'american', 'italian', 'asian', 'asian']\n",
        "\n",
        "# Generate random data for each column\n",
        "num_rows = 287\n",
        "rest_name = ['restaurant' + str(i) for i in range(num_rows)]\n",
        "rest_addr = [str(random.randint(100, 999)) + ' street' for _ in range(num_rows)]\n",
        "city = ['los angeles', 'studio city', 'hollywood', 'san francisco'] * (num_rows // 4) + ['los angeles'] * (num_rows % 4)  # Adjusted to match num_rows\n",
        "phone = [str(random.randint(1000000000, 9999999999)) for _ in range(num_rows)]\n",
        "cuisine_type = [random.choice(cuisine_types) for _ in range(num_rows)]\n",
        "\n",
        "# Create the DataFrame\n",
        "data = {\n",
        "    'rest_name': rest_name,\n",
        "    'rest_addr': rest_addr,\n",
        "    'city': city,\n",
        "    'phone': phone[:num_rows],\n",
        "    'cuisine_type': cuisine_type[:num_rows]\n",
        "}\n",
        "restaurants = pd.DataFrame(data)\n",
        "\n",
        "# Print the DataFrame\n",
        "display(restaurants)"
      ],
      "metadata": {
        "colab": {
          "base_uri": "https://localhost:8080/",
          "height": 424
        },
        "id": "XfK5383m9ReB",
        "outputId": "9f93f537-2aeb-432e-9f09-801297773664"
      },
      "execution_count": 41,
      "outputs": [
        {
          "output_type": "display_data",
          "data": {
            "text/plain": [
              "         rest_name   rest_addr           city       phone cuisine_type\n",
              "0      restaurant0  577 street    los angeles  4576111591     amurican\n",
              "1      restaurant1  525 street    studio city  2272368870      merican\n",
              "2      restaurant2  163 street      hollywood  2549972386      merican\n",
              "3      restaurant3  311 street  san francisco  2298229437     american\n",
              "4      restaurant4  952 street    los angeles  5838636972      italian\n",
              "..             ...         ...            ...         ...          ...\n",
              "282  restaurant282  878 street      hollywood  1454678712      merican\n",
              "283  restaurant283  637 street  san francisco  5632753983        asian\n",
              "284  restaurant284  711 street    los angeles  9033841191      italian\n",
              "285  restaurant285  389 street    los angeles  8498174646     amurican\n",
              "286  restaurant286  202 street    los angeles  6246612046     american\n",
              "\n",
              "[287 rows x 5 columns]"
            ],
            "text/html": [
              "\n",
              "  <div id=\"df-9ce2d508-98cc-4a15-a6fe-8c46b9a26691\">\n",
              "    <div class=\"colab-df-container\">\n",
              "      <div>\n",
              "<style scoped>\n",
              "    .dataframe tbody tr th:only-of-type {\n",
              "        vertical-align: middle;\n",
              "    }\n",
              "\n",
              "    .dataframe tbody tr th {\n",
              "        vertical-align: top;\n",
              "    }\n",
              "\n",
              "    .dataframe thead th {\n",
              "        text-align: right;\n",
              "    }\n",
              "</style>\n",
              "<table border=\"1\" class=\"dataframe\">\n",
              "  <thead>\n",
              "    <tr style=\"text-align: right;\">\n",
              "      <th></th>\n",
              "      <th>rest_name</th>\n",
              "      <th>rest_addr</th>\n",
              "      <th>city</th>\n",
              "      <th>phone</th>\n",
              "      <th>cuisine_type</th>\n",
              "    </tr>\n",
              "  </thead>\n",
              "  <tbody>\n",
              "    <tr>\n",
              "      <th>0</th>\n",
              "      <td>restaurant0</td>\n",
              "      <td>577 street</td>\n",
              "      <td>los angeles</td>\n",
              "      <td>4576111591</td>\n",
              "      <td>amurican</td>\n",
              "    </tr>\n",
              "    <tr>\n",
              "      <th>1</th>\n",
              "      <td>restaurant1</td>\n",
              "      <td>525 street</td>\n",
              "      <td>studio city</td>\n",
              "      <td>2272368870</td>\n",
              "      <td>merican</td>\n",
              "    </tr>\n",
              "    <tr>\n",
              "      <th>2</th>\n",
              "      <td>restaurant2</td>\n",
              "      <td>163 street</td>\n",
              "      <td>hollywood</td>\n",
              "      <td>2549972386</td>\n",
              "      <td>merican</td>\n",
              "    </tr>\n",
              "    <tr>\n",
              "      <th>3</th>\n",
              "      <td>restaurant3</td>\n",
              "      <td>311 street</td>\n",
              "      <td>san francisco</td>\n",
              "      <td>2298229437</td>\n",
              "      <td>american</td>\n",
              "    </tr>\n",
              "    <tr>\n",
              "      <th>4</th>\n",
              "      <td>restaurant4</td>\n",
              "      <td>952 street</td>\n",
              "      <td>los angeles</td>\n",
              "      <td>5838636972</td>\n",
              "      <td>italian</td>\n",
              "    </tr>\n",
              "    <tr>\n",
              "      <th>...</th>\n",
              "      <td>...</td>\n",
              "      <td>...</td>\n",
              "      <td>...</td>\n",
              "      <td>...</td>\n",
              "      <td>...</td>\n",
              "    </tr>\n",
              "    <tr>\n",
              "      <th>282</th>\n",
              "      <td>restaurant282</td>\n",
              "      <td>878 street</td>\n",
              "      <td>hollywood</td>\n",
              "      <td>1454678712</td>\n",
              "      <td>merican</td>\n",
              "    </tr>\n",
              "    <tr>\n",
              "      <th>283</th>\n",
              "      <td>restaurant283</td>\n",
              "      <td>637 street</td>\n",
              "      <td>san francisco</td>\n",
              "      <td>5632753983</td>\n",
              "      <td>asian</td>\n",
              "    </tr>\n",
              "    <tr>\n",
              "      <th>284</th>\n",
              "      <td>restaurant284</td>\n",
              "      <td>711 street</td>\n",
              "      <td>los angeles</td>\n",
              "      <td>9033841191</td>\n",
              "      <td>italian</td>\n",
              "    </tr>\n",
              "    <tr>\n",
              "      <th>285</th>\n",
              "      <td>restaurant285</td>\n",
              "      <td>389 street</td>\n",
              "      <td>los angeles</td>\n",
              "      <td>8498174646</td>\n",
              "      <td>amurican</td>\n",
              "    </tr>\n",
              "    <tr>\n",
              "      <th>286</th>\n",
              "      <td>restaurant286</td>\n",
              "      <td>202 street</td>\n",
              "      <td>los angeles</td>\n",
              "      <td>6246612046</td>\n",
              "      <td>american</td>\n",
              "    </tr>\n",
              "  </tbody>\n",
              "</table>\n",
              "<p>287 rows × 5 columns</p>\n",
              "</div>\n",
              "      <button class=\"colab-df-convert\" onclick=\"convertToInteractive('df-9ce2d508-98cc-4a15-a6fe-8c46b9a26691')\"\n",
              "              title=\"Convert this dataframe to an interactive table.\"\n",
              "              style=\"display:none;\">\n",
              "        \n",
              "  <svg xmlns=\"http://www.w3.org/2000/svg\" height=\"24px\"viewBox=\"0 0 24 24\"\n",
              "       width=\"24px\">\n",
              "    <path d=\"M0 0h24v24H0V0z\" fill=\"none\"/>\n",
              "    <path d=\"M18.56 5.44l.94 2.06.94-2.06 2.06-.94-2.06-.94-.94-2.06-.94 2.06-2.06.94zm-11 1L8.5 8.5l.94-2.06 2.06-.94-2.06-.94L8.5 2.5l-.94 2.06-2.06.94zm10 10l.94 2.06.94-2.06 2.06-.94-2.06-.94-.94-2.06-.94 2.06-2.06.94z\"/><path d=\"M17.41 7.96l-1.37-1.37c-.4-.4-.92-.59-1.43-.59-.52 0-1.04.2-1.43.59L10.3 9.45l-7.72 7.72c-.78.78-.78 2.05 0 2.83L4 21.41c.39.39.9.59 1.41.59.51 0 1.02-.2 1.41-.59l7.78-7.78 2.81-2.81c.8-.78.8-2.07 0-2.86zM5.41 20L4 18.59l7.72-7.72 1.47 1.35L5.41 20z\"/>\n",
              "  </svg>\n",
              "      </button>\n",
              "      \n",
              "  <style>\n",
              "    .colab-df-container {\n",
              "      display:flex;\n",
              "      flex-wrap:wrap;\n",
              "      gap: 12px;\n",
              "    }\n",
              "\n",
              "    .colab-df-convert {\n",
              "      background-color: #E8F0FE;\n",
              "      border: none;\n",
              "      border-radius: 50%;\n",
              "      cursor: pointer;\n",
              "      display: none;\n",
              "      fill: #1967D2;\n",
              "      height: 32px;\n",
              "      padding: 0 0 0 0;\n",
              "      width: 32px;\n",
              "    }\n",
              "\n",
              "    .colab-df-convert:hover {\n",
              "      background-color: #E2EBFA;\n",
              "      box-shadow: 0px 1px 2px rgba(60, 64, 67, 0.3), 0px 1px 3px 1px rgba(60, 64, 67, 0.15);\n",
              "      fill: #174EA6;\n",
              "    }\n",
              "\n",
              "    [theme=dark] .colab-df-convert {\n",
              "      background-color: #3B4455;\n",
              "      fill: #D2E3FC;\n",
              "    }\n",
              "\n",
              "    [theme=dark] .colab-df-convert:hover {\n",
              "      background-color: #434B5C;\n",
              "      box-shadow: 0px 1px 3px 1px rgba(0, 0, 0, 0.15);\n",
              "      filter: drop-shadow(0px 1px 2px rgba(0, 0, 0, 0.3));\n",
              "      fill: #FFFFFF;\n",
              "    }\n",
              "  </style>\n",
              "\n",
              "      <script>\n",
              "        const buttonEl =\n",
              "          document.querySelector('#df-9ce2d508-98cc-4a15-a6fe-8c46b9a26691 button.colab-df-convert');\n",
              "        buttonEl.style.display =\n",
              "          google.colab.kernel.accessAllowed ? 'block' : 'none';\n",
              "\n",
              "        async function convertToInteractive(key) {\n",
              "          const element = document.querySelector('#df-9ce2d508-98cc-4a15-a6fe-8c46b9a26691');\n",
              "          const dataTable =\n",
              "            await google.colab.kernel.invokeFunction('convertToInteractive',\n",
              "                                                     [key], {});\n",
              "          if (!dataTable) return;\n",
              "\n",
              "          const docLinkHtml = 'Like what you see? Visit the ' +\n",
              "            '<a target=\"_blank\" href=https://colab.research.google.com/notebooks/data_table.ipynb>data table notebook</a>'\n",
              "            + ' to learn more about interactive tables.';\n",
              "          element.innerHTML = '';\n",
              "          dataTable['output_type'] = 'display_data';\n",
              "          await google.colab.output.renderOutput(dataTable, element);\n",
              "          const docLink = document.createElement('div');\n",
              "          docLink.innerHTML = docLinkHtml;\n",
              "          element.appendChild(docLink);\n",
              "        }\n",
              "      </script>\n",
              "    </div>\n",
              "  </div>\n",
              "  "
            ]
          },
          "metadata": {}
        }
      ]
    },
    {
      "cell_type": "code",
      "source": [
        "!pip install thefuzz -q"
      ],
      "metadata": {
        "id": "WgRctgRC8UzM"
      },
      "execution_count": 42,
      "outputs": []
    },
    {
      "cell_type": "code",
      "execution_count": 43,
      "metadata": {
        "id": "Wrz--gF5sREp",
        "outputId": "d1220a6a-b867-481c-9b0b-e116ff9d0b21",
        "colab": {
          "base_uri": "https://localhost:8080/"
        }
      },
      "outputs": [
        {
          "output_type": "stream",
          "name": "stdout",
          "text": [
            "[('asian', 100), ('italian', 67), ('amurican', 62), ('american', 62), ('merican', 50)]\n",
            "[('american', 100), ('merican', 93), ('amurican', 88), ('asian', 62), ('italian', 53)]\n",
            "[('italian', 100), ('asian', 67), ('merican', 43), ('amurican', 40), ('american', 40)]\n"
          ]
        },
        {
          "output_type": "stream",
          "name": "stderr",
          "text": [
            "/usr/local/lib/python3.10/dist-packages/thefuzz/fuzz.py:11: UserWarning: Using slow pure-python SequenceMatcher. Install python-Levenshtein to remove this warning\n",
            "  warnings.warn('Using slow pure-python SequenceMatcher. Install python-Levenshtein to remove this warning')\n"
          ]
        }
      ],
      "source": [
        "# Import process from thefuzz\n",
        "from thefuzz import process\n",
        "\n",
        "# Store the unique values of cuisine_type in unique_types\n",
        "unique_types = restaurants['cuisine_type'].unique()\n",
        "\n",
        "# Calculate similarity of 'asian' to all values of unique_types\n",
        "print(process.extract('asian', unique_types, limit = len(unique_types)))\n",
        "\n",
        "# Calculate similarity of 'american' to all values of unique_types\n",
        "print(process.extract('american', unique_types, limit = len(unique_types)))\n",
        "\n",
        "# Calculate similarity of 'italian' to all values of unique_types\n",
        "print(process.extract('italian', unique_types, limit = len(unique_types)))"
      ]
    },
    {
      "cell_type": "markdown",
      "metadata": {
        "id": "LQ7eWJWzsREs"
      },
      "source": [
        "## **Generating pairs**"
      ]
    },
    {
      "cell_type": "markdown",
      "metadata": {
        "id": "EFoxLA-AsREs"
      },
      "source": [
        "### Pairs of restaurants"
      ]
    },
    {
      "cell_type": "code",
      "source": [
        "restaurants = pd.read_csv(url_restaurants_L2_dirty)\n",
        "restaurants_new = pd.read_csv(url_restaurants_L2)"
      ],
      "metadata": {
        "id": "J2pzvUiz-oSv"
      },
      "execution_count": 44,
      "outputs": []
    },
    {
      "cell_type": "code",
      "source": [
        "!pip install recordlinkage -q"
      ],
      "metadata": {
        "colab": {
          "base_uri": "https://localhost:8080/"
        },
        "id": "qyu8RZdp-Xpe",
        "outputId": "bb885395-8b78-48bc-cdbf-acd9de71657a"
      },
      "execution_count": 45,
      "outputs": [
        {
          "output_type": "stream",
          "name": "stdout",
          "text": [
            "\u001b[2K     \u001b[90m━━━━━━━━━━━━━━━━━━━━━━━━━━━━━━━━━━━━━━\u001b[0m \u001b[32m926.5/926.5 kB\u001b[0m \u001b[31m19.3 MB/s\u001b[0m eta \u001b[36m0:00:00\u001b[0m\n",
            "\u001b[2K     \u001b[90m━━━━━━━━━━━━━━━━━━━━━━━━━━━━━━━━━━━━━━━━\u001b[0m \u001b[32m1.2/1.2 MB\u001b[0m \u001b[31m59.5 MB/s\u001b[0m eta \u001b[36m0:00:00\u001b[0m\n",
            "\u001b[?25h"
          ]
        }
      ]
    },
    {
      "cell_type": "code",
      "execution_count": 46,
      "metadata": {
        "id": "OcaPVoZUsREt"
      },
      "outputs": [],
      "source": [
        "import recordlinkage"
      ]
    },
    {
      "cell_type": "code",
      "execution_count": 51,
      "metadata": {
        "id": "uwRZpZTKsREt",
        "colab": {
          "base_uri": "https://localhost:8080/"
        },
        "outputId": "e7eba6a5-5317-4d06-eb46-bee2337f14e9"
      },
      "outputs": [
        {
          "output_type": "stream",
          "name": "stdout",
          "text": [
            "       0  1\n",
            "0 0  1.0  0\n",
            "1 1  1.0  0\n"
          ]
        }
      ],
      "source": [
        "import pandas as pd\n",
        "import recordlinkage\n",
        "\n",
        "# Create sample dataframes\n",
        "data_1 = pd.DataFrame({'Name': ['John Doe', 'Jane Smith', 'Alice Johnson'],\n",
        "                      'Address': ['123 Main St', '456 Elm St', '789 Oak St']})\n",
        "\n",
        "data_2 = pd.DataFrame({'Name': ['John Doe', 'Jane Smith', 'Alice J. Johnson'],\n",
        "                      'Address': ['123 Main Street', '456 Elm Street', '789 Oak St']})\n",
        "\n",
        "# Initialize the indexer\n",
        "indexer = recordlinkage.Index()\n",
        "\n",
        "# Block on the 'Name' field\n",
        "indexer.block('Name')\n",
        "\n",
        "# Perform indexing\n",
        "candidates = indexer.index(data_1, data_2)\n",
        "\n",
        "# Initialize the comparer\n",
        "comparer = recordlinkage.Compare()\n",
        "\n",
        "# Compare the 'Name' field using the Jaro-Winkler metric\n",
        "comparer.string('Name', 'Name', method='jarowinkler')\n",
        "\n",
        "# Compare the 'Address' field using the exact match method\n",
        "comparer.exact('Address', 'Address')\n",
        "\n",
        "# Compute the similarity\n",
        "similarity = comparer.compute(candidates, data_1, data_2)\n",
        "\n",
        "# Link records above a certain threshold\n",
        "potential_matches = similarity[similarity.sum(axis=1) >= 1]\n",
        "\n",
        "# Print the potential matches\n",
        "print(potential_matches)"
      ]
    },
    {
      "cell_type": "markdown",
      "metadata": {
        "id": "GuzwV2eSEd55"
      },
      "source": [
        "#### $\\color{skyblue}{\\textbf{Connect with me:}}$\n",
        "\n",
        "\n",
        "[<img align=\"left\" src=\"https://cdn4.iconfinder.com/data/icons/social-media-icons-the-circle-set/48/twitter_circle-512.png\" width=\"32px\"/>][twitter]\n",
        "[<img align=\"left\" src=\"https://cdn-icons-png.flaticon.com/512/145/145807.png\" width=\"32px\"/>][linkedin]\n",
        "[<img align=\"left\" src=\"https://cdn2.iconfinder.com/data/icons/whcompare-blue-green-web-hosting-1/425/cdn-512.png\" width=\"32px\"/>][Portfolio]\n",
        "\n",
        "[twitter]: https://twitter.com/F4izy\n",
        "[linkedin]: https://www.linkedin.com/in/mohd-faizy/\n",
        "[Portfolio]: https://mohdfaizy.com/"
      ]
    }
  ]
}