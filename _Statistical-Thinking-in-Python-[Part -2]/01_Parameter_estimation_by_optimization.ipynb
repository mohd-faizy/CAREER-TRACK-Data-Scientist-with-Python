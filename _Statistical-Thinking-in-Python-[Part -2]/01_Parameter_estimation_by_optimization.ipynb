{
  "nbformat": 4,
  "nbformat_minor": 0,
  "metadata": {
    "colab": {
      "name": "01_Parameter_estimation_by_optimization.ipynb",
      "provenance": [],
      "collapsed_sections": [],
      "authorship_tag": "ABX9TyNqgRKNyLY1v/u1vFg88Ur3",
      "include_colab_link": true
    },
    "kernelspec": {
      "name": "python3",
      "display_name": "Python 3"
    }
  },
  "cells": [
    {
      "cell_type": "markdown",
      "metadata": {
        "id": "view-in-github",
        "colab_type": "text"
      },
      "source": [
        "<a href=\"https://colab.research.google.com/github/mohd-faizy/CAREER-TRACK-Data-Scientist-with-Python/blob/main/01_Parameter_estimation_by_optimization.ipynb\" target=\"_parent\"><img src=\"https://colab.research.google.com/assets/colab-badge.svg\" alt=\"Open In Colab\"/></a>"
      ]
    },
    {
      "cell_type": "markdown",
      "metadata": {
        "id": "NWS4JRT4korI"
      },
      "source": [
        "--- \r\n",
        "<strong> \r\n",
        "    <h1 align='center'>Parameter estimation by optimization\r\n",
        "</h1> \r\n",
        "</strong>\r\n",
        "\r\n",
        "---"
      ]
    },
    {
      "cell_type": "markdown",
      "metadata": {
        "id": "HeFXaVbTu2xt"
      },
      "source": [
        "When doing **statistical inference**, we speak the language of probability. A probability distribution that describes our data has parameters. So, a major goal of **statistical inference** is to estimate the values of these parameters, which allows us to concisely and unambiguously describe our data and draw conclusions from it.\r\n"
      ]
    },
    {
      "cell_type": "markdown",
      "metadata": {
        "id": "DdViaFttkitC"
      },
      "source": [
        "###__Clone the repository__ "
      ]
    },
    {
      "cell_type": "code",
      "metadata": {
        "colab": {
          "base_uri": "https://localhost:8080/"
        },
        "id": "zDL6YbYZjfOT",
        "outputId": "c8635d6f-a6ac-4f45-a03b-18754d7bb155"
      },
      "source": [
        "! git clone https://github.com/mohd-faizy/CAREER-TRACK-Data-Scientist-with-Python.git"
      ],
      "execution_count": 1,
      "outputs": [
        {
          "output_type": "stream",
          "text": [
            "Cloning into 'CAREER-TRACK-Data-Scientist-with-Python'...\n",
            "remote: Enumerating objects: 171, done.\u001b[K\n",
            "remote: Counting objects: 100% (171/171), done.\u001b[K\n",
            "remote: Compressing objects: 100% (143/143), done.\u001b[K\n",
            "remote: Total 2028 (delta 74), reused 104 (delta 27), pack-reused 1857\u001b[K\n",
            "Receiving objects: 100% (2028/2028), 220.41 MiB | 33.15 MiB/s, done.\n",
            "Resolving deltas: 100% (726/726), done.\n",
            "Checking out files: 100% (860/860), done.\n"
          ],
          "name": "stdout"
        }
      ]
    },
    {
      "cell_type": "markdown",
      "metadata": {
        "id": "eZqCdlEZk5bc"
      },
      "source": [
        "### __Change the current working directory__"
      ]
    },
    {
      "cell_type": "code",
      "metadata": {
        "colab": {
          "base_uri": "https://localhost:8080/"
        },
        "id": "4v_cclBnknUF",
        "outputId": "6ab734c2-27a2-41fe-a1c9-8ba11b95ee04"
      },
      "source": [
        "# import os module \r\n",
        "import os \r\n",
        "   \r\n",
        "# to specified path \r\n",
        "os.chdir('/content/CAREER-TRACK-Data-Scientist-with-Python/23_Statistical-Thinking-in-Python-[Part -2]/_datasets') \r\n",
        "  \r\n",
        "# varify the path using getcwd() \r\n",
        "cwd = os.getcwd() \r\n",
        "  \r\n",
        "# print the current directory \r\n",
        "print(\"Current working directory is:\", cwd)"
      ],
      "execution_count": 2,
      "outputs": [
        {
          "output_type": "stream",
          "text": [
            "Current working directory is: /content/CAREER-TRACK-Data-Scientist-with-Python/23_Statistical-Thinking-in-Python-[Part -2]/_datasets\n"
          ],
          "name": "stdout"
        }
      ]
    },
    {
      "cell_type": "code",
      "metadata": {
        "colab": {
          "base_uri": "https://localhost:8080/"
        },
        "id": "q4eEcmDTmBQ1",
        "outputId": "8b2332a6-489d-45d2-a325-eb3d6aa38bd4"
      },
      "source": [
        "ls"
      ],
      "execution_count": 3,
      "outputs": [
        {
          "output_type": "stream",
          "text": [
            "anscombe.csv                   fortis_beak_depth_heredity.csv\n",
            "bee_sperm.csv                  frog_tongue.csv\n",
            "female_literacy_fertility.csv  mlb_nohitters.csv\n",
            "finch_beaks_1975.csv           scandens_beak_depth_heredity.csv\n",
            "finch_beaks_2012.csv           sheffield_weather_station.csv\n"
          ],
          "name": "stdout"
        }
      ]
    },
    {
      "cell_type": "markdown",
      "metadata": {
        "id": "LZEhm3D-x6vs"
      },
      "source": [
        "## __Optimal parameters__\r\n"
      ]
    },
    {
      "cell_type": "markdown",
      "metadata": {
        "id": "o5UTmOqLw-Uc"
      },
      "source": [
        "> Outcomes of measurements follow probability distributions.\r\n",
        "\r\n",
        "> CDF, which was more effective because there is no binning bias.\r\n",
        "\r\n",
        "$\\color{red}{\\textbf{Q:}}$ __How did we know that the mean and standard deviation calculated from the data were the appropriate values for the Normal parameters?__\r\n",
        "\r\n",
        "- What if the standard deviation differs by 50%?\r\n",
        "- The CDFs no longer match.\r\n",
        "- Mean varies by just point-01%.\r\n",
        "- Finding the optimal parameters is not always as easy as just computing the **mean** and **standard deviation** from the data. \r\n"
      ]
    },
    {
      "cell_type": "markdown",
      "metadata": {
        "id": "DPqr-Ewh019B"
      },
      "source": [
        "### How often do we get no-hitters?\r\n",
        "\r\n",
        "The number of games played between each no-hitter in the modern era (1901-2015) of Major League Baseball is stored in the array `nohitter_times`.\r\n",
        "\r\n",
        "If you assume that no-hitters are described as a Poisson process, then the time between no-hitters is Exponentially distributed. As you have seen, the Exponential distribution has a single parameter, which we will call $\\tau$ , the typical interval time. The value of the parameter $\\tau$ that makes the exponential distribution best match the data is the mean interval time (where time is in units of number of games) between no-hitters.\r\n",
        "\r\n",
        "Compute the value of this parameter from the data. Then, use `np.random.exponential()` to \"repeat\" the history of Major League Baseball by drawing inter-no-hitter times from an exponential distribution with the $\\tau$ you found and plot the histogram as an approximation to the PDF.\r\n",
        "\r\n",
        "NumPy, pandas, matlotlib.pyplot, and seaborn have been imported for you as `np`, `pd`, `plt`, and `sns`, respectively.\r\n",
        "\r\n",
        "__Instructions__\r\n",
        "\r\n",
        "- `Seed` the random number generator with 42.\r\n",
        "\r\n",
        "- Compute the mean time (in units of number of games) between no-hitters.\r\n",
        "\r\n",
        "- Draw 100,000 samples from an Exponential distribution with the parameter you computed from the mean of the inter-no-hitter times.\r\n",
        "\r\n",
        "- Plot the theoretical PDF using `plt.hist()`. Remember to use keyword arguments `bins=50`, `normed=True`, and `histtype='step'`. Be sure to label your axes.\r\n",
        "\r\n",
        "- Show your plot."
      ]
    },
    {
      "cell_type": "code",
      "metadata": {
        "id": "ptNF7ixp5aRS"
      },
      "source": [
        "# Importing Modules\r\n",
        "import pandas as pd\r\n",
        "import numpy as np\r\n",
        "import matplotlib.pyplot as plt\r\n",
        "import seaborn as sns\r\n",
        "\r\n",
        "%matplotlib inline"
      ],
      "execution_count": 4,
      "outputs": []
    },
    {
      "cell_type": "code",
      "metadata": {
        "id": "PH0R2FMj12a7"
      },
      "source": [
        "# reading the data into the pandas dataframe\r\n",
        "nohitter = pd.read_csv('mlb_nohitters.csv')"
      ],
      "execution_count": 5,
      "outputs": []
    },
    {
      "cell_type": "code",
      "metadata": {
        "colab": {
          "base_uri": "https://localhost:8080/"
        },
        "id": "O-6PAfQb2rAC",
        "outputId": "34fed4c6-38cd-40f9-ba9e-9844bab29c23"
      },
      "source": [
        "nohitter.isna().sum()"
      ],
      "execution_count": 6,
      "outputs": [
        {
          "output_type": "execute_result",
          "data": {
            "text/plain": [
              "date                0\n",
              "game_number         0\n",
              "winning_team       66\n",
              "losing_team        66\n",
              "winning_pitcher    66\n",
              "dtype: int64"
            ]
          },
          "metadata": {
            "tags": []
          },
          "execution_count": 6
        }
      ]
    },
    {
      "cell_type": "code",
      "metadata": {
        "colab": {
          "base_uri": "https://localhost:8080/"
        },
        "id": "X2sqxS1V_7HJ",
        "outputId": "9cd1dde4-1beb-4658-e718-c3dc49e9a295"
      },
      "source": [
        "nohitter.shape"
      ],
      "execution_count": 7,
      "outputs": [
        {
          "output_type": "execute_result",
          "data": {
            "text/plain": [
              "(294, 5)"
            ]
          },
          "metadata": {
            "tags": []
          },
          "execution_count": 7
        }
      ]
    },
    {
      "cell_type": "code",
      "metadata": {
        "colab": {
          "base_uri": "https://localhost:8080/",
          "height": 215
        },
        "id": "eRGFrNo6_r5r",
        "outputId": "2d9059c3-a145-4b5e-f268-490c9c9a460f"
      },
      "source": [
        "nohitter.dropna(inplace=True)\r\n",
        "print(nohitter.shape)\r\n",
        "nohitter.head()"
      ],
      "execution_count": 8,
      "outputs": [
        {
          "output_type": "stream",
          "text": [
            "(228, 5)\n"
          ],
          "name": "stdout"
        },
        {
          "output_type": "execute_result",
          "data": {
            "text/html": [
              "<div>\n",
              "<style scoped>\n",
              "    .dataframe tbody tr th:only-of-type {\n",
              "        vertical-align: middle;\n",
              "    }\n",
              "\n",
              "    .dataframe tbody tr th {\n",
              "        vertical-align: top;\n",
              "    }\n",
              "\n",
              "    .dataframe thead th {\n",
              "        text-align: right;\n",
              "    }\n",
              "</style>\n",
              "<table border=\"1\" class=\"dataframe\">\n",
              "  <thead>\n",
              "    <tr style=\"text-align: right;\">\n",
              "      <th></th>\n",
              "      <th>date</th>\n",
              "      <th>game_number</th>\n",
              "      <th>winning_team</th>\n",
              "      <th>losing_team</th>\n",
              "      <th>winning_pitcher</th>\n",
              "    </tr>\n",
              "  </thead>\n",
              "  <tbody>\n",
              "    <tr>\n",
              "      <th>66</th>\n",
              "      <td>19120704</td>\n",
              "      <td>33588</td>\n",
              "      <td>DET</td>\n",
              "      <td>SLA</td>\n",
              "      <td>George Mullin</td>\n",
              "    </tr>\n",
              "    <tr>\n",
              "      <th>67</th>\n",
              "      <td>19120830</td>\n",
              "      <td>34018</td>\n",
              "      <td>SLA</td>\n",
              "      <td>DET</td>\n",
              "      <td>Earl Hamilton</td>\n",
              "    </tr>\n",
              "    <tr>\n",
              "      <th>68</th>\n",
              "      <td>19120906</td>\n",
              "      <td>34081</td>\n",
              "      <td>NY1</td>\n",
              "      <td>PHI</td>\n",
              "      <td>Jeff Tesreau</td>\n",
              "    </tr>\n",
              "    <tr>\n",
              "      <th>69</th>\n",
              "      <td>19140531</td>\n",
              "      <td>35960</td>\n",
              "      <td>CHA</td>\n",
              "      <td>CLE</td>\n",
              "      <td>Joe Benz</td>\n",
              "    </tr>\n",
              "    <tr>\n",
              "      <th>70</th>\n",
              "      <td>19140909</td>\n",
              "      <td>37065</td>\n",
              "      <td>BSN</td>\n",
              "      <td>PHI</td>\n",
              "      <td>Iron Davis</td>\n",
              "    </tr>\n",
              "  </tbody>\n",
              "</table>\n",
              "</div>"
            ],
            "text/plain": [
              "        date  game_number winning_team losing_team winning_pitcher\n",
              "66  19120704        33588          DET         SLA   George Mullin\n",
              "67  19120830        34018          SLA         DET   Earl Hamilton\n",
              "68  19120906        34081          NY1         PHI    Jeff Tesreau\n",
              "69  19140531        35960          CHA         CLE        Joe Benz\n",
              "70  19140909        37065          BSN         PHI      Iron Davis"
            ]
          },
          "metadata": {
            "tags": []
          },
          "execution_count": 8
        }
      ]
    },
    {
      "cell_type": "code",
      "metadata": {
        "colab": {
          "base_uri": "https://localhost:8080/"
        },
        "id": "ZIfbmuwoAD9r",
        "outputId": "9e21a58f-f8f4-4510-c2cd-677e93c97afc"
      },
      "source": [
        "nohitter.isna().sum()"
      ],
      "execution_count": 9,
      "outputs": [
        {
          "output_type": "execute_result",
          "data": {
            "text/plain": [
              "date               0\n",
              "game_number        0\n",
              "winning_team       0\n",
              "losing_team        0\n",
              "winning_pitcher    0\n",
              "dtype: int64"
            ]
          },
          "metadata": {
            "tags": []
          },
          "execution_count": 9
        }
      ]
    },
    {
      "cell_type": "code",
      "metadata": {
        "colab": {
          "base_uri": "https://localhost:8080/",
          "height": 287
        },
        "id": "n7HenW1-2jFc",
        "outputId": "541dfde9-d629-48a0-eff7-dd9341515ce0"
      },
      "source": [
        "nohitter.describe()"
      ],
      "execution_count": 10,
      "outputs": [
        {
          "output_type": "execute_result",
          "data": {
            "text/html": [
              "<div>\n",
              "<style scoped>\n",
              "    .dataframe tbody tr th:only-of-type {\n",
              "        vertical-align: middle;\n",
              "    }\n",
              "\n",
              "    .dataframe tbody tr th {\n",
              "        vertical-align: top;\n",
              "    }\n",
              "\n",
              "    .dataframe thead th {\n",
              "        text-align: right;\n",
              "    }\n",
              "</style>\n",
              "<table border=\"1\" class=\"dataframe\">\n",
              "  <thead>\n",
              "    <tr style=\"text-align: right;\">\n",
              "      <th></th>\n",
              "      <th>date</th>\n",
              "      <th>game_number</th>\n",
              "    </tr>\n",
              "  </thead>\n",
              "  <tbody>\n",
              "    <tr>\n",
              "      <th>count</th>\n",
              "      <td>2.280000e+02</td>\n",
              "      <td>228.000000</td>\n",
              "    </tr>\n",
              "    <tr>\n",
              "      <th>mean</th>\n",
              "      <td>1.970200e+07</td>\n",
              "      <td>120184.118421</td>\n",
              "    </tr>\n",
              "    <tr>\n",
              "      <th>std</th>\n",
              "      <td>3.060214e+05</td>\n",
              "      <td>52703.979733</td>\n",
              "    </tr>\n",
              "    <tr>\n",
              "      <th>min</th>\n",
              "      <td>1.912070e+07</td>\n",
              "      <td>33588.000000</td>\n",
              "    </tr>\n",
              "    <tr>\n",
              "      <th>25%</th>\n",
              "      <td>1.951065e+07</td>\n",
              "      <td>82793.750000</td>\n",
              "    </tr>\n",
              "    <tr>\n",
              "      <th>50%</th>\n",
              "      <td>1.971562e+07</td>\n",
              "      <td>113232.000000</td>\n",
              "    </tr>\n",
              "    <tr>\n",
              "      <th>75%</th>\n",
              "      <td>1.994050e+07</td>\n",
              "      <td>159249.750000</td>\n",
              "    </tr>\n",
              "    <tr>\n",
              "      <th>max</th>\n",
              "      <td>2.015100e+07</td>\n",
              "      <td>211208.000000</td>\n",
              "    </tr>\n",
              "  </tbody>\n",
              "</table>\n",
              "</div>"
            ],
            "text/plain": [
              "               date    game_number\n",
              "count  2.280000e+02     228.000000\n",
              "mean   1.970200e+07  120184.118421\n",
              "std    3.060214e+05   52703.979733\n",
              "min    1.912070e+07   33588.000000\n",
              "25%    1.951065e+07   82793.750000\n",
              "50%    1.971562e+07  113232.000000\n",
              "75%    1.994050e+07  159249.750000\n",
              "max    2.015100e+07  211208.000000"
            ]
          },
          "metadata": {
            "tags": []
          },
          "execution_count": 10
        }
      ]
    },
    {
      "cell_type": "code",
      "metadata": {
        "colab": {
          "base_uri": "https://localhost:8080/"
        },
        "id": "U7--6TBECF2J",
        "outputId": "5451085b-27f7-4c16-aacc-a47d413b73e1"
      },
      "source": [
        "nohitter.info()"
      ],
      "execution_count": 11,
      "outputs": [
        {
          "output_type": "stream",
          "text": [
            "<class 'pandas.core.frame.DataFrame'>\n",
            "Int64Index: 228 entries, 66 to 293\n",
            "Data columns (total 5 columns):\n",
            " #   Column           Non-Null Count  Dtype \n",
            "---  ------           --------------  ----- \n",
            " 0   date             228 non-null    int64 \n",
            " 1   game_number      228 non-null    int64 \n",
            " 2   winning_team     228 non-null    object\n",
            " 3   losing_team      228 non-null    object\n",
            " 4   winning_pitcher  228 non-null    object\n",
            "dtypes: int64(2), object(3)\n",
            "memory usage: 10.7+ KB\n"
          ],
          "name": "stdout"
        }
      ]
    },
    {
      "cell_type": "code",
      "metadata": {
        "colab": {
          "base_uri": "https://localhost:8080/",
          "height": 458
        },
        "id": "R--95RSy2EDa",
        "outputId": "25aabff3-5fbd-4626-e003-60d5da8af334"
      },
      "source": [
        "# converting it to numpy array \r\n",
        "nohitter_times = np.array(nohitter.game_number)\r\n",
        "\r\n",
        "# Seed random number generator\r\n",
        "np.random.seed(42)\r\n",
        "\r\n",
        "# Compute mean no-hitter time: tau\r\n",
        "tau = np.mean(nohitter_times)\r\n",
        "\r\n",
        "# Draw out of an exponential distribution with parameter tau: inter_nohitter_time\r\n",
        "inter_nohitter_time = np.random.exponential(tau, 100000)\r\n",
        "\r\n",
        "#plot style\r\n",
        "sns.set()\r\n",
        "\r\n",
        "# Plot the PDF and label axes\r\n",
        "plt.figure(figsize=(12,7), facecolor='lightgrey')\r\n",
        "_ = plt.hist(inter_nohitter_time,\r\n",
        "             bins=50, density=True, histtype='step')\r\n",
        "_ = plt.xlabel('Games between no-hitters')\r\n",
        "_ = plt.ylabel('PDF')\r\n",
        "\r\n",
        "# Show the plot\r\n",
        "plt.show()"
      ],
      "execution_count": 12,
      "outputs": [
        {
          "output_type": "display_data",
          "data": {
            "image/png": "[encoded data removed]",
            "text/plain": [
              "<Figure size 864x504 with 1 Axes>"
            ]
          },
          "metadata": {
            "tags": []
          }
        }
      ]
    },
    {
      "cell_type": "markdown",
      "metadata": {
        "id": "S7bpOd8JFLn6"
      },
      "source": [
        "We see the typical shape of the **Exponential distribution**, going from a maximum at 0 and decaying to the right."
      ]
    },
    {
      "cell_type": "markdown",
      "metadata": {
        "id": "TQnoQexdFjS3"
      },
      "source": [
        "### Do the data follow our story?\r\n",
        "\r\n",
        "You have modeled no-hitters using an Exponential distribution. Create an ECDF of the real data. Overlay the theoretical CDF with the ECDF from the data. This helps you to verify that the Exponential distribution describes the observed data.\r\n",
        "\r\n",
        "It may be helpful to remind yourself of the function you created in the previous course to compute the ECDF, as well as the code you wrote to plot it.\r\n",
        "\r\n",
        "__Instructions__\r\n",
        "\r\n",
        "- Compute an ECDF from the actual time between` no-hitters` (`nohitter_times`). Use the `ecdf()` function you wrote in the prequel course.\r\n",
        "\r\n",
        "- Create a CDF from the theoretical samples you took in the last exercise (`inter_nohitter_time`).\r\n",
        "\r\n",
        "Plot `x_theor` and `y_theor` as a line using `plt.plot()`. Then overlay the ECDF of the real data `x` and `y` as points. To do this, you have to specify the keyword arguments `marker = '.'` and `linestyle = 'none'` in addition to `x` and `y` inside `plt.plot()`.\r\n",
        "\r\n",
        "Set a `2% margin` on the plot.\r\n",
        "\r\n",
        "Show the plot."
      ]
    },
    {
      "cell_type": "code",
      "metadata": {
        "colab": {
          "base_uri": "https://localhost:8080/",
          "height": 447
        },
        "id": "zKfo1gm8USM7",
        "outputId": "8d4d4a40-7fda-44ef-ef7f-b98d83af4b7a"
      },
      "source": [
        "# converting it to numpy array \r\n",
        "nohitter_times = np.array(nohitter.game_number)\r\n",
        "\r\n",
        "# Seed random number generator\r\n",
        "np.random.seed(42)\r\n",
        "\r\n",
        "# Compute mean no-hitter time: tau\r\n",
        "tau = np.mean(nohitter_times)\r\n",
        "\r\n",
        "# Draw out of an exponential distribution with parameter tau: inter_nohitter_time\r\n",
        "inter_nohitter_time = np.random.exponential(tau, 100000)\r\n",
        "\r\n",
        "def ecdf(data):\r\n",
        "    \"\"\"Compute ECDF for a one-dimensional array of measurements.\"\"\"\r\n",
        "    # Number of data points: n\r\n",
        "    n = len(data)\r\n",
        "\r\n",
        "    # x-data for the ECDF: x\r\n",
        "    x = np.sort(data)\r\n",
        "\r\n",
        "    # y-data for the ECDF: y\r\n",
        "    y = np.arange(1, n+1) / n\r\n",
        "\r\n",
        "    return x, y\r\n",
        "\r\n",
        "# Create an ECDF from real data: x, y\r\n",
        "x, y = ecdf(nohitter_times)\r\n",
        "\r\n",
        "# Create a CDF from theoretical samples: x_theor, y_theor\r\n",
        "x_theor, y_theor = ecdf(inter_nohitter_time)\r\n",
        "\r\n",
        "#plot style\r\n",
        "sns.set()\r\n",
        "# Plot the PDF and label axes\r\n",
        "plt.figure(figsize=(12,7), facecolor='lightgrey')\r\n",
        "\r\n",
        "# Overlay the plots\r\n",
        "plt.plot(x_theor, y_theor)\r\n",
        "plt.plot(x, y, marker='.', linestyle='none')\r\n",
        "\r\n",
        "# Margins and axis labels\r\n",
        "plt.margins(0.02)\r\n",
        "plt.xlabel('Games between no-hitters')\r\n",
        "plt.ylabel('CDF')\r\n",
        "\r\n",
        "# Show the plot\r\n",
        "plt.show()"
      ],
      "execution_count": 13,
      "outputs": [
        {
          "output_type": "display_data",
          "data": {
            "image/png": "[encoded data removed]",
            "text/plain": [
              "<Figure size 864x504 with 1 Axes>"
            ]
          },
          "metadata": {
            "tags": []
          }
        }
      ]
    },
    {
      "cell_type": "markdown",
      "metadata": {
        "id": "4l43BRLsVo0E"
      },
      "source": [
        "It looks like no-hitters in the modern era of Major League Baseball are Exponentially distributed. Based on the story of the Exponential distribution, this suggests that they are a random process; when a no-hitter will happen is independent of when the last no-hitter was."
      ]
    },
    {
      "cell_type": "markdown",
      "metadata": {
        "id": "MTiqLbVQX1-W"
      },
      "source": [
        "### How is this parameter optimal?\r\n",
        "\r\n",
        "Now sample out of an exponential distribution with $\\tau$ being twice as large as the optimal $\\tau$. Do it again for $\\tau$ half as large. Make CDFs of these samples and overlay them with your data. You can see that they do not reproduce the data as well. Thus, $\\tau$ the  you computed from the mean inter-no-hitter times is optimal in that it best reproduces the data.\r\n",
        "\r\n",
        "***Note:*** In this and all subsequent exercises, the random number generator is pre-seeded for you to save you some typing.\r\n",
        "\r\n",
        "__Instructions__\r\n",
        "\r\n",
        "- Take `10000` samples out of an Exponential distribution with parameter $\\tau_{1/2}$ = $\\tau$/2.\r\n",
        "\r\n",
        "- Take `10000` samples out of an Exponential distribution with parameter $\\tau_2$ = 2*$\\tau$.\r\n",
        "\r\n",
        "- Generate CDFs from these two sets of samples using your `ecdf()` function.\r\n",
        "\r\n",
        "- Add these two CDFs as lines to your plot. This has been done for you, so hit 'Submit Answer' to view the plot!"
      ]
    },
    {
      "cell_type": "code",
      "metadata": {
        "colab": {
          "base_uri": "https://localhost:8080/",
          "height": 447
        },
        "id": "AW-Ij1FlX1pq",
        "outputId": "74040482-0d2e-4328-aca7-747347725d9d"
      },
      "source": [
        "# converting it to numpy array \r\n",
        "nohitter_times = np.array(nohitter.game_number)\r\n",
        "\r\n",
        "# Seed random number generator\r\n",
        "np.random.seed(42)\r\n",
        "\r\n",
        "# Compute mean no-hitter time: tau\r\n",
        "tau = np.mean(nohitter_times)\r\n",
        "\r\n",
        "# Draw out of an exponential distribution with parameter tau: inter_nohitter_time\r\n",
        "inter_nohitter_time = np.random.exponential(tau, 100000)\r\n",
        "\r\n",
        "def ecdf(data):\r\n",
        "    \"\"\"Compute ECDF for a one-dimensional array of measurements.\"\"\"\r\n",
        "    # Number of data points: n\r\n",
        "    n = len(data)\r\n",
        "\r\n",
        "    # x-data for the ECDF: x\r\n",
        "    x = np.sort(data)\r\n",
        "\r\n",
        "    # y-data for the ECDF: y\r\n",
        "    y = np.arange(1, n+1) / n\r\n",
        "\r\n",
        "    return x, y\r\n",
        "\r\n",
        "# Create an ECDF from real data: x, y\r\n",
        "x, y = ecdf(nohitter_times)\r\n",
        "\r\n",
        "# Create a CDF from theoretical samples: x_theor, y_theor\r\n",
        "x_theor, y_theor = ecdf(inter_nohitter_time)\r\n",
        "\r\n",
        "#plot style\r\n",
        "sns.set()\r\n",
        "\r\n",
        "# Plot the PDF and label axes\r\n",
        "plt.figure(figsize=(12,7), facecolor='lightgrey')\r\n",
        "\r\n",
        "# Plot the theoretical CDFs\r\n",
        "plt.plot(x_theor, y_theor)\r\n",
        "plt.plot(x, y, marker='.', linestyle='none')\r\n",
        "plt.margins(0.02)\r\n",
        "plt.xlabel('Games between no-hitters')\r\n",
        "plt.ylabel('CDF')\r\n",
        "\r\n",
        "# Take samples with half tau: samples_half\r\n",
        "samples_half = np.random.exponential(tau/2,10000)\r\n",
        "\r\n",
        "# Take samples with double tau: samples_double\r\n",
        "samples_double = np.random.exponential(tau*2,10000)\r\n",
        "\r\n",
        "# Generate CDFs from these samples\r\n",
        "x_half, y_half = ecdf(samples_half)\r\n",
        "x_double, y_double = ecdf(samples_double)\r\n",
        "\r\n",
        "# Plot these CDFs as lines\r\n",
        "_ = plt.plot(x_half, y_half)\r\n",
        "_ = plt.plot(x_double, y_double)\r\n",
        "\r\n",
        "# Show the plot\r\n",
        "plt.show()"
      ],
      "execution_count": 14,
      "outputs": [
        {
          "output_type": "display_data",
          "data": {
            "image/png": "[encoded data removed]",
            "text/plain": [
              "<Figure size 864x504 with 1 Axes>"
            ]
          },
          "metadata": {
            "tags": []
          }
        }
      ]
    },
    {
      "cell_type": "markdown",
      "metadata": {
        "id": "Cbka2AyYZoh1"
      },
      "source": [
        "Great work! Notice how the value of tau given by the mean matches the data best. In this way, tau is an optimal parameter."
      ]
    },
    {
      "cell_type": "markdown",
      "metadata": {
        "id": "wjX38EMzylhW"
      },
      "source": [
        "\r\n",
        "## __Linear regression by least squares__"
      ]
    },
    {
      "cell_type": "markdown",
      "metadata": {
        "id": "0qkp7VyIdhtB"
      },
      "source": [
        "__Residuals:__ Vertical distance between the data point and the line is called Residuals.\r\n",
        "\r\n",
        "<p align='center'>\r\n",
        "    <a href='#'><img src='https://datacadamia.com/_media/data_mining/statistics_residual.jpg?w=500&tok=75fb38'></a>\r\n",
        "</p>\r\n",
        "\r\n",
        "The residual has a negative value because the data point lies below the line. Each data point has a residual associated with it."
      ]
    },
    {
      "cell_type": "markdown",
      "metadata": {
        "id": "G39KSH_XefCh"
      },
      "source": [
        "__Least squares:__\r\n",
        "\r\n",
        "We define the line that is closest to the data to be the line for which the sum of the squares of all of the residuals is **minimal**. This ***process, finding the parameters for which the sum of the squares of the residuals is minimal***, is called \"**least squares**\". There are many algorithms to do this in practice.\r\n",
        "\r\n",
        "There are many algorithms to do this in practice.\r\n",
        "for Example Numpy function - `np.polyfit()`. which performs ***least squares analysis*** with ***polynomial functions***.\r\n",
        "\r\n",
        ">**Polyfit function** that computes a least squares polynomial for a given set of data. Polyfit generates the coefficients of the polynomial, which can be used to model a curve to fit the data.\r\n",
        "\r\n",
        "We can use it because a ***linear function*** is a ***first degree polynomial***. \r\n",
        "\r\n",
        ">The **first** two arguments to this function are the `x` and `y` data. \r\n",
        "\r\n",
        ">The **third** argument is the **degree of the polynomial** ***we wish to fit***; for linear functions. \r\n",
        "\r\n",
        "The function returns the **slope** and **intercept** of the best **fit line**.\r\n"
      ]
    },
    {
      "cell_type": "markdown",
      "metadata": {
        "id": "swCJSbzrkPZy"
      },
      "source": [
        "### EDA of literacy/fertility data\r\n",
        "\r\n",
        "In the next few exercises, we will look at the correlation between female literacy and fertility (defined as the average number of children born per woman) throughout the world. For ease of analysis and interpretation, we will work with the illiteracy rate.\r\n",
        "\r\n",
        "It is always a good idea to do some EDA ahead of our analysis. To this end, plot the fertility versus illiteracy and compute the Pearson correlation coefficient. The Numpy array `illiteracy` has the illiteracy rate among females for most of the world's nations. The array `fertility` has the corresponding fertility data."
      ]
    },
    {
      "cell_type": "code",
      "metadata": {
        "id": "Y1V32BxyypXl",
        "colab": {
          "base_uri": "https://localhost:8080/",
          "height": 197
        },
        "outputId": "4faa8bc9-799d-4858-e5f6-d26137a96924"
      },
      "source": [
        "# loading female_literacy_fertility.csv into the pandas dataframe\r\n",
        "df_fertility = pd.read_csv('female_literacy_fertility.csv')\r\n",
        "df_fertility.head()\r\n"
      ],
      "execution_count": 15,
      "outputs": [
        {
          "output_type": "execute_result",
          "data": {
            "text/html": [
              "<div>\n",
              "<style scoped>\n",
              "    .dataframe tbody tr th:only-of-type {\n",
              "        vertical-align: middle;\n",
              "    }\n",
              "\n",
              "    .dataframe tbody tr th {\n",
              "        vertical-align: top;\n",
              "    }\n",
              "\n",
              "    .dataframe thead th {\n",
              "        text-align: right;\n",
              "    }\n",
              "</style>\n",
              "<table border=\"1\" class=\"dataframe\">\n",
              "  <thead>\n",
              "    <tr style=\"text-align: right;\">\n",
              "      <th></th>\n",
              "      <th>Country</th>\n",
              "      <th>Continent</th>\n",
              "      <th>female literacy</th>\n",
              "      <th>fertility</th>\n",
              "      <th>population</th>\n",
              "    </tr>\n",
              "  </thead>\n",
              "  <tbody>\n",
              "    <tr>\n",
              "      <th>0</th>\n",
              "      <td>Chine</td>\n",
              "      <td>ASI</td>\n",
              "      <td>90.5</td>\n",
              "      <td>1.769</td>\n",
              "      <td>1,324,655,000</td>\n",
              "    </tr>\n",
              "    <tr>\n",
              "      <th>1</th>\n",
              "      <td>Inde</td>\n",
              "      <td>ASI</td>\n",
              "      <td>50.8</td>\n",
              "      <td>2.682</td>\n",
              "      <td>1,139,964,932</td>\n",
              "    </tr>\n",
              "    <tr>\n",
              "      <th>2</th>\n",
              "      <td>USA</td>\n",
              "      <td>NAM</td>\n",
              "      <td>99.0</td>\n",
              "      <td>2.077</td>\n",
              "      <td>304,060,000</td>\n",
              "    </tr>\n",
              "    <tr>\n",
              "      <th>3</th>\n",
              "      <td>Indonésie</td>\n",
              "      <td>ASI</td>\n",
              "      <td>88.8</td>\n",
              "      <td>2.132</td>\n",
              "      <td>227,345,082</td>\n",
              "    </tr>\n",
              "    <tr>\n",
              "      <th>4</th>\n",
              "      <td>Brésil</td>\n",
              "      <td>LAT</td>\n",
              "      <td>90.2</td>\n",
              "      <td>1.827</td>\n",
              "      <td>191,971,506</td>\n",
              "    </tr>\n",
              "  </tbody>\n",
              "</table>\n",
              "</div>"
            ],
            "text/plain": [
              "    Country  Continent  female literacy  fertility     population\n",
              "0      Chine       ASI             90.5      1.769  1,324,655,000\n",
              "1       Inde       ASI             50.8      2.682  1,139,964,932\n",
              "2        USA       NAM             99.0      2.077    304,060,000\n",
              "3  Indonésie       ASI             88.8      2.132    227,345,082\n",
              "4     Brésil       LAT             90.2      1.827    191,971,506"
            ]
          },
          "metadata": {
            "tags": []
          },
          "execution_count": 15
        }
      ]
    },
    {
      "cell_type": "code",
      "metadata": {
        "colab": {
          "base_uri": "https://localhost:8080/"
        },
        "id": "ZEBLaq4j8oWP",
        "outputId": "f81cbc4a-7d9f-4b04-c411-b4da4cf37803"
      },
      "source": [
        "print(df_fertility.columns)\r\n",
        "print(df_fertility.shape)"
      ],
      "execution_count": 16,
      "outputs": [
        {
          "output_type": "stream",
          "text": [
            "Index(['Country ', 'Continent', 'female literacy', 'fertility', 'population'], dtype='object')\n",
            "(162, 5)\n"
          ],
          "name": "stdout"
        }
      ]
    },
    {
      "cell_type": "code",
      "metadata": {
        "colab": {
          "base_uri": "https://localhost:8080/",
          "height": 287
        },
        "id": "1XqB8FHDA4IT",
        "outputId": "04a2b746-7742-4cdf-a1a3-77dd20c377c1"
      },
      "source": [
        "df_fertility.describe()"
      ],
      "execution_count": 17,
      "outputs": [
        {
          "output_type": "execute_result",
          "data": {
            "text/html": [
              "<div>\n",
              "<style scoped>\n",
              "    .dataframe tbody tr th:only-of-type {\n",
              "        vertical-align: middle;\n",
              "    }\n",
              "\n",
              "    .dataframe tbody tr th {\n",
              "        vertical-align: top;\n",
              "    }\n",
              "\n",
              "    .dataframe thead th {\n",
              "        text-align: right;\n",
              "    }\n",
              "</style>\n",
              "<table border=\"1\" class=\"dataframe\">\n",
              "  <thead>\n",
              "    <tr style=\"text-align: right;\">\n",
              "      <th></th>\n",
              "      <th>female literacy</th>\n",
              "      <th>fertility</th>\n",
              "    </tr>\n",
              "  </thead>\n",
              "  <tbody>\n",
              "    <tr>\n",
              "      <th>count</th>\n",
              "      <td>162.000000</td>\n",
              "      <td>162.000000</td>\n",
              "    </tr>\n",
              "    <tr>\n",
              "      <th>mean</th>\n",
              "      <td>80.107407</td>\n",
              "      <td>2.878673</td>\n",
              "    </tr>\n",
              "    <tr>\n",
              "      <th>std</th>\n",
              "      <td>23.052415</td>\n",
              "      <td>1.427597</td>\n",
              "    </tr>\n",
              "    <tr>\n",
              "      <th>min</th>\n",
              "      <td>12.600000</td>\n",
              "      <td>0.966000</td>\n",
              "    </tr>\n",
              "    <tr>\n",
              "      <th>25%</th>\n",
              "      <td>66.425000</td>\n",
              "      <td>1.823250</td>\n",
              "    </tr>\n",
              "    <tr>\n",
              "      <th>50%</th>\n",
              "      <td>90.000000</td>\n",
              "      <td>2.367500</td>\n",
              "    </tr>\n",
              "    <tr>\n",
              "      <th>75%</th>\n",
              "      <td>98.500000</td>\n",
              "      <td>3.880250</td>\n",
              "    </tr>\n",
              "    <tr>\n",
              "      <th>max</th>\n",
              "      <td>100.000000</td>\n",
              "      <td>7.069000</td>\n",
              "    </tr>\n",
              "  </tbody>\n",
              "</table>\n",
              "</div>"
            ],
            "text/plain": [
              "       female literacy   fertility\n",
              "count       162.000000  162.000000\n",
              "mean         80.107407    2.878673\n",
              "std          23.052415    1.427597\n",
              "min          12.600000    0.966000\n",
              "25%          66.425000    1.823250\n",
              "50%          90.000000    2.367500\n",
              "75%          98.500000    3.880250\n",
              "max         100.000000    7.069000"
            ]
          },
          "metadata": {
            "tags": []
          },
          "execution_count": 17
        }
      ]
    },
    {
      "cell_type": "code",
      "metadata": {
        "colab": {
          "base_uri": "https://localhost:8080/"
        },
        "id": "1W_ZmIH2A72u",
        "outputId": "a7fefad7-6bf7-4d8d-f243-0b7c9d609ea0"
      },
      "source": [
        "df_fertility.info()"
      ],
      "execution_count": 18,
      "outputs": [
        {
          "output_type": "stream",
          "text": [
            "<class 'pandas.core.frame.DataFrame'>\n",
            "RangeIndex: 162 entries, 0 to 161\n",
            "Data columns (total 5 columns):\n",
            " #   Column           Non-Null Count  Dtype  \n",
            "---  ------           --------------  -----  \n",
            " 0   Country          162 non-null    object \n",
            " 1   Continent        162 non-null    object \n",
            " 2   female literacy  162 non-null    float64\n",
            " 3   fertility        162 non-null    float64\n",
            " 4   population       162 non-null    object \n",
            "dtypes: float64(2), object(3)\n",
            "memory usage: 6.5+ KB\n"
          ],
          "name": "stdout"
        }
      ]
    },
    {
      "cell_type": "code",
      "metadata": {
        "colab": {
          "base_uri": "https://localhost:8080/",
          "height": 465
        },
        "id": "2z_5plS18GGe",
        "outputId": "95cdf2ec-b1c8-4a2d-c443-e7656ccb7bc5"
      },
      "source": [
        "from scipy.stats import pearsonr\r\n",
        "\r\n",
        "illiteracy = df_fertility['female literacy']\r\n",
        "fertility  = df_fertility['fertility']\r\n",
        "\r\n",
        "# plot style\r\n",
        "#sns.set()\r\n",
        "plt.style.use('ggplot')\r\n",
        "\r\n",
        "# Plot the PDF and label axes\r\n",
        "plt.figure(figsize=(12,7), facecolor='lightgrey')\r\n",
        "\r\n",
        "# Plot the illiteracy rate versus fertility\r\n",
        "_ = plt.plot(np.array(illiteracy), np.array(fertility), marker='.', linestyle='none')\r\n",
        "\r\n",
        "# Set the margins and label axes\r\n",
        "plt.margins(0.02)\r\n",
        "_ = plt.xlabel('percent illiterate')\r\n",
        "_ = plt.ylabel('fertility')\r\n",
        "\r\n",
        "# Show the plot\r\n",
        "plt.show()\r\n",
        "\r\n",
        "# Show the Pearson correlation coefficient\r\n",
        "corr, _ = pearsonr(illiteracy, fertility)\r\n",
        "print('Pearsons correlation: %.3f' % corr)"
      ],
      "execution_count": 19,
      "outputs": [
        {
          "output_type": "display_data",
          "data": {
            "image/png": "[encoded data removed]",
            "text/plain": [
              "<Figure size 864x504 with 1 Axes>"
            ]
          },
          "metadata": {
            "tags": []
          }
        },
        {
          "output_type": "stream",
          "text": [
            "Pearsons correlation: -0.804\n"
          ],
          "name": "stdout"
        }
      ]
    },
    {
      "cell_type": "markdown",
      "metadata": {
        "id": "hw_4xORq_0g2"
      },
      "source": [
        "```\r\n",
        "\t\r\n",
        "Pearson's correlation coefficient = covariance(X, Y) / (stdv(X) * stdv(Y))\r\n",
        "```\r\n",
        "You can see the **correlation** between **illiteracy** and **fertility** by eye, and by the substantial **Pearson correlation coefficient** of **0.8**. It is difficult to resolve in the scatter plot, but there are many points around near-zero illiteracy and about 1.8 children/woman"
      ]
    },
    {
      "cell_type": "code",
      "metadata": {
        "colab": {
          "base_uri": "https://localhost:8080/"
        },
        "id": "7qjIm8lgJw-j",
        "outputId": "954a3114-c192-415f-c3d6-a549aef0f6b9"
      },
      "source": [
        "# pearson Funtion\r\n",
        "def pearson_r(x, y):\r\n",
        "    \"\"\"Compute Pearson correlation coefficient between two arrays\r\n",
        "    \r\n",
        "    Args:\r\n",
        "        x: arrays\r\n",
        "        y: arrays\r\n",
        "        \r\n",
        "    returns:\r\n",
        "        r: int\r\n",
        "    \"\"\"\r\n",
        "    # Compute correlation matrix: corr_mat\r\n",
        "    corr_mat = np.corrcoef(x, y)\r\n",
        "    \r\n",
        "    # Return entry[0, 1]\r\n",
        "    return corr_mat[0, 1]\r\n",
        "\r\n",
        "illiteracy = df_fertility['female literacy']\r\n",
        "fertility  = df_fertility['fertility']\r\n",
        "\r\n",
        "# Show the Pearson correlation coefficient\r\n",
        "print(pearson_r(illiteracy, fertility))"
      ],
      "execution_count": 20,
      "outputs": [
        {
          "output_type": "stream",
          "text": [
            "-0.8041324026815341\n"
          ],
          "name": "stdout"
        }
      ]
    },
    {
      "cell_type": "markdown",
      "metadata": {
        "id": "LNP25npRK96S"
      },
      "source": [
        "### Linear regression\r\n",
        "\r\n",
        "We will assume that fertility is a linear function of the female illiteracy rate. That is, $y=mx+c$ , where `m` is the slope and `c` is the intercept. We can think of the intercept as the minimal fertility rate, probably somewhere between one and two. The slope tells us how the fertility rate varies with illiteracy. We can find the best fit line using np.polyfit()."
      ]
    },
    {
      "cell_type": "code",
      "metadata": {
        "colab": {
          "base_uri": "https://localhost:8080/",
          "height": 483
        },
        "id": "kWV8wd2J_0Le",
        "outputId": "aa764acc-c86f-49b7-bbce-569c7f183019"
      },
      "source": [
        "illiteracy = df_fertility['female literacy']\r\n",
        "fertility  = df_fertility['fertility']\r\n",
        "\r\n",
        "# plot style\r\n",
        "#sns.set()\r\n",
        "plt.style.use('ggplot')\r\n",
        "\r\n",
        "# Plot Size\r\n",
        "plt.figure(figsize=(12,7), facecolor='lightgrey')\r\n",
        "\r\n",
        "# Plot the illiteracy rate versus fertility\r\n",
        "_ = plt.plot(np.array(illiteracy), np.array(fertility), marker='.', linestyle='none')\r\n",
        "plt.margins(0.02)\r\n",
        "_ = plt.xlabel('percent illiterate')\r\n",
        "_ = plt.ylabel('fertility')\r\n",
        "\r\n",
        "# Perform a linear regression using np.polyfit(): a, b\r\n",
        "a, b = np.polyfit(illiteracy, fertility, 1)\r\n",
        "\r\n",
        "# Print the results to the screen\r\n",
        "print('slope =', a, 'children per woman / percent illiterate')\r\n",
        "print('intercept =', b, 'children per woman')\r\n",
        "\r\n",
        "# Make theoretical line to plot\r\n",
        "x = np.array([0, 100])\r\n",
        "y = a * x + b\r\n",
        "\r\n",
        "# Add regression line to your plot\r\n",
        "_ = plt.plot(x, y)\r\n",
        "\r\n",
        "# Draw the plot\r\n",
        "plt.show()"
      ],
      "execution_count": 21,
      "outputs": [
        {
          "output_type": "stream",
          "text": [
            "slope = -0.049798548090634234 children per woman / percent illiterate\n",
            "intercept = 6.867905419699977 children per woman\n"
          ],
          "name": "stdout"
        },
        {
          "output_type": "display_data",
          "data": {
            "image/png": "[encoded data removed]",
            "text/plain": [
              "<Figure size 864x504 with 1 Axes>"
            ]
          },
          "metadata": {
            "tags": []
          }
        }
      ]
    },
    {
      "cell_type": "code",
      "metadata": {
        "colab": {
          "base_uri": "https://localhost:8080/",
          "height": 197
        },
        "id": "yRmkcKJ_9-12",
        "outputId": "c53f964a-a08a-46cc-c915-6896fd74a7ba"
      },
      "source": [
        "df_fertility.head()"
      ],
      "execution_count": 22,
      "outputs": [
        {
          "output_type": "execute_result",
          "data": {
            "text/html": [
              "<div>\n",
              "<style scoped>\n",
              "    .dataframe tbody tr th:only-of-type {\n",
              "        vertical-align: middle;\n",
              "    }\n",
              "\n",
              "    .dataframe tbody tr th {\n",
              "        vertical-align: top;\n",
              "    }\n",
              "\n",
              "    .dataframe thead th {\n",
              "        text-align: right;\n",
              "    }\n",
              "</style>\n",
              "<table border=\"1\" class=\"dataframe\">\n",
              "  <thead>\n",
              "    <tr style=\"text-align: right;\">\n",
              "      <th></th>\n",
              "      <th>Country</th>\n",
              "      <th>Continent</th>\n",
              "      <th>female literacy</th>\n",
              "      <th>fertility</th>\n",
              "      <th>population</th>\n",
              "    </tr>\n",
              "  </thead>\n",
              "  <tbody>\n",
              "    <tr>\n",
              "      <th>0</th>\n",
              "      <td>Chine</td>\n",
              "      <td>ASI</td>\n",
              "      <td>90.5</td>\n",
              "      <td>1.769</td>\n",
              "      <td>1,324,655,000</td>\n",
              "    </tr>\n",
              "    <tr>\n",
              "      <th>1</th>\n",
              "      <td>Inde</td>\n",
              "      <td>ASI</td>\n",
              "      <td>50.8</td>\n",
              "      <td>2.682</td>\n",
              "      <td>1,139,964,932</td>\n",
              "    </tr>\n",
              "    <tr>\n",
              "      <th>2</th>\n",
              "      <td>USA</td>\n",
              "      <td>NAM</td>\n",
              "      <td>99.0</td>\n",
              "      <td>2.077</td>\n",
              "      <td>304,060,000</td>\n",
              "    </tr>\n",
              "    <tr>\n",
              "      <th>3</th>\n",
              "      <td>Indonésie</td>\n",
              "      <td>ASI</td>\n",
              "      <td>88.8</td>\n",
              "      <td>2.132</td>\n",
              "      <td>227,345,082</td>\n",
              "    </tr>\n",
              "    <tr>\n",
              "      <th>4</th>\n",
              "      <td>Brésil</td>\n",
              "      <td>LAT</td>\n",
              "      <td>90.2</td>\n",
              "      <td>1.827</td>\n",
              "      <td>191,971,506</td>\n",
              "    </tr>\n",
              "  </tbody>\n",
              "</table>\n",
              "</div>"
            ],
            "text/plain": [
              "    Country  Continent  female literacy  fertility     population\n",
              "0      Chine       ASI             90.5      1.769  1,324,655,000\n",
              "1       Inde       ASI             50.8      2.682  1,139,964,932\n",
              "2        USA       NAM             99.0      2.077    304,060,000\n",
              "3  Indonésie       ASI             88.8      2.132    227,345,082\n",
              "4     Brésil       LAT             90.2      1.827    191,971,506"
            ]
          },
          "metadata": {
            "tags": []
          },
          "execution_count": 22
        }
      ]
    },
    {
      "cell_type": "code",
      "metadata": {
        "colab": {
          "base_uri": "https://localhost:8080/",
          "height": 465
        },
        "id": "dQ0KrRi_-A50",
        "outputId": "756493b1-4b3b-4536-eede-6ec4a452033c"
      },
      "source": [
        "# Plot Size\r\n",
        "plt.figure(figsize=(12,7), facecolor='lightgrey')\r\n",
        "\r\n",
        "sns.barplot(x='Continent', y='female literacy', data=df_fertility)"
      ],
      "execution_count": 23,
      "outputs": [
        {
          "output_type": "execute_result",
          "data": {
            "text/plain": [
              "<matplotlib.axes._subplots.AxesSubplot at 0x7f806dfb0110>"
            ]
          },
          "metadata": {
            "tags": []
          },
          "execution_count": 23
        },
        {
          "output_type": "display_data",
          "data": {
            "image/png": "[encoded data removed]",
            "text/plain": [
              "<Figure size 864x504 with 1 Axes>"
            ]
          },
          "metadata": {
            "tags": []
          }
        }
      ]
    },
    {
      "cell_type": "code",
      "metadata": {
        "colab": {
          "base_uri": "https://localhost:8080/",
          "height": 638
        },
        "id": "s-LZTfRpFd-0",
        "outputId": "ccea45b8-1e49-4f71-a5b0-924f984a9d50"
      },
      "source": [
        "# Plot Size\r\n",
        "plt.figure(figsize=(25,7), facecolor='lightgrey')\r\n",
        "\r\n",
        "sns.barplot(x='Country ', y=sorted(df_fertility.fertility), data=df_fertility)\r\n",
        "plt.xticks(rotation = 90)\r\n",
        "plt.show()"
      ],
      "execution_count": 24,
      "outputs": [
        {
          "output_type": "display_data",
          "data": {
            "image/png": "[encoded data removed]",
            "text/plain": [
              "<Figure size 1800x504 with 1 Axes>"
            ]
          },
          "metadata": {
            "tags": []
          }
        }
      ]
    },
    {
      "cell_type": "code",
      "metadata": {
        "colab": {
          "base_uri": "https://localhost:8080/",
          "height": 95
        },
        "id": "TBJuvxf0RxDc",
        "outputId": "d55ea5bc-ab30-4058-defd-cf6a3a26ed4f"
      },
      "source": [
        "print(df_fertility.fertility.max())\r\n",
        "df_fertility.loc[df_fertility['fertility'] == 7.069]"
      ],
      "execution_count": 25,
      "outputs": [
        {
          "output_type": "stream",
          "text": [
            "7.069\n"
          ],
          "name": "stdout"
        },
        {
          "output_type": "execute_result",
          "data": {
            "text/html": [
              "<div>\n",
              "<style scoped>\n",
              "    .dataframe tbody tr th:only-of-type {\n",
              "        vertical-align: middle;\n",
              "    }\n",
              "\n",
              "    .dataframe tbody tr th {\n",
              "        vertical-align: top;\n",
              "    }\n",
              "\n",
              "    .dataframe thead th {\n",
              "        text-align: right;\n",
              "    }\n",
              "</style>\n",
              "<table border=\"1\" class=\"dataframe\">\n",
              "  <thead>\n",
              "    <tr style=\"text-align: right;\">\n",
              "      <th></th>\n",
              "      <th>Country</th>\n",
              "      <th>Continent</th>\n",
              "      <th>female literacy</th>\n",
              "      <th>fertility</th>\n",
              "      <th>population</th>\n",
              "    </tr>\n",
              "  </thead>\n",
              "  <tbody>\n",
              "    <tr>\n",
              "      <th>62</th>\n",
              "      <td>Niger</td>\n",
              "      <td>AF</td>\n",
              "      <td>15.1</td>\n",
              "      <td>7.069</td>\n",
              "      <td>14,704,318</td>\n",
              "    </tr>\n",
              "  </tbody>\n",
              "</table>\n",
              "</div>"
            ],
            "text/plain": [
              "   Country  Continent  female literacy  fertility  population\n",
              "62    Niger        AF             15.1      7.069  14,704,318"
            ]
          },
          "metadata": {
            "tags": []
          },
          "execution_count": 25
        }
      ]
    },
    {
      "cell_type": "markdown",
      "metadata": {
        "id": "oq-XIovnesGx"
      },
      "source": [
        "### How is it optimal?\r\n",
        "\r\n",
        "The function `np.polyfit()` that you used to get your regression parameters finds the optimal slope and intercept. It is optimizing the sum of the squares of the residuals, also known as RSS (for residual sum of squares). In this exercise, you will plot the function that is being optimized, the RSS, versus the slope parameter `a`. To do this, fix the intercept to be what you found in the optimization. Then, plot the RSS vs. the slope. Where is it minimal?"
      ]
    },
    {
      "cell_type": "markdown",
      "metadata": {
        "id": "0WSaNLAQe7a3"
      },
      "source": [
        "__Instructions__\r\n",
        "\r\n",
        "- Specify the values of the slope to compute the RSS. Use `np.linspace()` to get 200 points in the range between 0 and `0.1`. For example, to get 100 points in the range between `0` and `0.5`, you could use `np.linspace()` like so: `np.linspace(0, 0.5, 100)`.\r\n",
        "\r\n",
        "- Initialize an array, `rss`, to contain the RSS using `np.empty_like()` and the array you created above. The `empty_like()` function returns a new array with the same shape and type as a given array (in this case, `a_vals`).\r\n",
        "\r\n",
        "- Write a `for` loop to compute the sum of RSS of the slope. Hint: the RSS is given by `np.sum((y_data - a * x_data - b)**2)`. \r\n",
        "\r\n",
        "- The variable `b` you computed in the last exercise is already in your namespace. Here, `fertility` is the `y_data` and illiteracy the `x_data`.\r\n",
        "\r\n",
        "- Plot the RSS (`rss`) versus slope (`a_vals`)."
      ]
    },
    {
      "cell_type": "code",
      "metadata": {
        "colab": {
          "base_uri": "https://localhost:8080/",
          "height": 447
        },
        "id": "QNSobCoGerTX",
        "outputId": "2e86bd7a-dc68-4060-d4f4-bf4bc8a91136"
      },
      "source": [
        "illiteracy = df_fertility['female literacy']\r\n",
        "fertility  = df_fertility['fertility']\r\n",
        "\r\n",
        "# plot style\r\n",
        "#sns.set()\r\n",
        "plt.style.use('ggplot')\r\n",
        "\r\n",
        "# Plot the PDF and label axes\r\n",
        "plt.figure(figsize=(12,7), facecolor='lightgrey')\r\n",
        "\r\n",
        "# Specify slopes to consider: a_vals\r\n",
        "a_vals = np.linspace(0, 0.1, 200)\r\n",
        "\r\n",
        "# Initialize sum of square of residuals: rss\r\n",
        "rss = np.empty_like(a_vals)\r\n",
        "\r\n",
        "# Compute sum of square of residuals for each value of a_vals\r\n",
        "for i, a in enumerate(a_vals):\r\n",
        "    rss[i] = np.sum((fertility - a*illiteracy - b)**2)\r\n",
        "\r\n",
        "# Plot the RSS\r\n",
        "plt.plot(a_vals, rss, '-')\r\n",
        "plt.xlabel('slope (children per woman / percent illiterate)')\r\n",
        "plt.ylabel('sum of square of residuals')\r\n",
        "\r\n",
        "plt.show()"
      ],
      "execution_count": 26,
      "outputs": [
        {
          "output_type": "display_data",
          "data": {
            "image/png": "[encoded data removed]",
            "text/plain": [
              "<Figure size 864x504 with 1 Axes>"
            ]
          },
          "metadata": {
            "tags": []
          }
        }
      ]
    },
    {
      "cell_type": "markdown",
      "metadata": {
        "id": "HdGPdrUah4vT"
      },
      "source": [
        "Notice that the minimum on the plot, that is the value of the slope that gives the minimum sum of the square of the residuals, is the same value you got when performing the regression"
      ]
    },
    {
      "cell_type": "markdown",
      "metadata": {
        "id": "20sqFiBpyJzg"
      },
      "source": [
        "## __The importance of EDA: Anscombe's quartet__\r\n",
        "\r\n",
        "\r\n"
      ]
    },
    {
      "cell_type": "markdown",
      "metadata": {
        "id": "Sn3oWswJyYLm"
      },
      "source": [
        "***Anscombe's quartet*** comprises four data sets that have nearly **identical simple descriptive statistics**, yet have very **different distributions** and **appear very different when graphed**. Each dataset consists of eleven (x,y) points. They were constructed in 1973 by the statistician Francis Anscombe to ***demonstrate both the importance of graphing data before analyzing it and the effect of outliers and other influential observations on statistical properties***. \r\n",
        "\r\n",
        "<p align='center'>\r\n",
        "  <a href=\"#\">\r\n",
        "    <img src='https://upload.wikimedia.org/wikipedia/commons/thumb/e/ec/Anscombe%27s_quartet_3.svg/1200px-Anscombe%27s_quartet_3.svg.png'>\r\n",
        "    </a>\r\n",
        "</p>\r\n",
        "\r\n",
        ">__All four sets are identical when examined using simple summary statistics, but vary considerably when graphed__\r\n",
        "\r\n",
        "\r\n",
        "- we can be protected from misinterpretation of the type demonstrated by Anscombe's quartet.\r\n",
        "\r\n",
        "\r\n",
        "- EDA provides a good starting point for planning the rest of your analysis.\r\n",
        "\r\n",
        "\r\n",
        "- EDA is not really any more difficult than any of the subsequent analysis, so there is no excuse for not exploring the data."
      ]
    },
    {
      "cell_type": "markdown",
      "metadata": {
        "id": "Ta0HWTyese1v"
      },
      "source": [
        "\r\n",
        "<strong> \r\n",
        "    <h1 align='center'>Look before you leap!</h1> \r\n",
        "</strong>\r\n",
        "\r\n",
        "\r\n",
        "\r\n",
        "\r\n",
        "\r\n"
      ]
    },
    {
      "cell_type": "markdown",
      "metadata": {
        "id": "R2TvTsGYtFWJ"
      },
      "source": [
        "### Linear regression on appropriate Anscombe data\r\n",
        "\r\n"
      ]
    },
    {
      "cell_type": "code",
      "metadata": {
        "colab": {
          "base_uri": "https://localhost:8080/",
          "height": 197
        },
        "id": "rl_Wx-KNu8pF",
        "outputId": "e5d0430a-63c6-4424-da4f-ed74f1d52c00"
      },
      "source": [
        "ansc_raw = pd.read_csv('anscombe.csv')\r\n",
        "ansc_raw.head()"
      ],
      "execution_count": 27,
      "outputs": [
        {
          "output_type": "execute_result",
          "data": {
            "text/html": [
              "<div>\n",
              "<style scoped>\n",
              "    .dataframe tbody tr th:only-of-type {\n",
              "        vertical-align: middle;\n",
              "    }\n",
              "\n",
              "    .dataframe tbody tr th {\n",
              "        vertical-align: top;\n",
              "    }\n",
              "\n",
              "    .dataframe thead th {\n",
              "        text-align: right;\n",
              "    }\n",
              "</style>\n",
              "<table border=\"1\" class=\"dataframe\">\n",
              "  <thead>\n",
              "    <tr style=\"text-align: right;\">\n",
              "      <th></th>\n",
              "      <th>0</th>\n",
              "      <th>0.1</th>\n",
              "      <th>1</th>\n",
              "      <th>1.1</th>\n",
              "      <th>2</th>\n",
              "      <th>2.1</th>\n",
              "      <th>3</th>\n",
              "      <th>3.1</th>\n",
              "    </tr>\n",
              "  </thead>\n",
              "  <tbody>\n",
              "    <tr>\n",
              "      <th>0</th>\n",
              "      <td>x</td>\n",
              "      <td>y</td>\n",
              "      <td>x</td>\n",
              "      <td>y</td>\n",
              "      <td>x</td>\n",
              "      <td>y</td>\n",
              "      <td>x</td>\n",
              "      <td>y</td>\n",
              "    </tr>\n",
              "    <tr>\n",
              "      <th>1</th>\n",
              "      <td>10.0</td>\n",
              "      <td>8.04</td>\n",
              "      <td>10.0</td>\n",
              "      <td>9.14</td>\n",
              "      <td>10.0</td>\n",
              "      <td>7.46</td>\n",
              "      <td>8.0</td>\n",
              "      <td>6.58</td>\n",
              "    </tr>\n",
              "    <tr>\n",
              "      <th>2</th>\n",
              "      <td>8.0</td>\n",
              "      <td>6.95</td>\n",
              "      <td>8.0</td>\n",
              "      <td>8.14</td>\n",
              "      <td>8.0</td>\n",
              "      <td>6.77</td>\n",
              "      <td>8.0</td>\n",
              "      <td>5.76</td>\n",
              "    </tr>\n",
              "    <tr>\n",
              "      <th>3</th>\n",
              "      <td>13.0</td>\n",
              "      <td>7.58</td>\n",
              "      <td>13.0</td>\n",
              "      <td>8.74</td>\n",
              "      <td>13.0</td>\n",
              "      <td>12.74</td>\n",
              "      <td>8.0</td>\n",
              "      <td>7.71</td>\n",
              "    </tr>\n",
              "    <tr>\n",
              "      <th>4</th>\n",
              "      <td>9.0</td>\n",
              "      <td>8.81</td>\n",
              "      <td>9.0</td>\n",
              "      <td>8.77</td>\n",
              "      <td>9.0</td>\n",
              "      <td>7.11</td>\n",
              "      <td>8.0</td>\n",
              "      <td>8.84</td>\n",
              "    </tr>\n",
              "  </tbody>\n",
              "</table>\n",
              "</div>"
            ],
            "text/plain": [
              "      0   0.1     1   1.1     2    2.1    3   3.1\n",
              "0     x     y     x     y     x      y    x     y\n",
              "1  10.0  8.04  10.0  9.14  10.0   7.46  8.0  6.58\n",
              "2   8.0  6.95   8.0  8.14   8.0   6.77  8.0  5.76\n",
              "3  13.0  7.58  13.0  8.74  13.0  12.74  8.0  7.71\n",
              "4   9.0  8.81   9.0  8.77   9.0   7.11  8.0  8.84"
            ]
          },
          "metadata": {
            "tags": []
          },
          "execution_count": 27
        }
      ]
    },
    {
      "cell_type": "code",
      "metadata": {
        "colab": {
          "base_uri": "https://localhost:8080/",
          "height": 197
        },
        "id": "-e4ApAwbtwMp",
        "outputId": "6498efa6-0a0a-40b3-ecbb-ad1afc7321aa"
      },
      "source": [
        "anscombe = pd.read_csv('anscombe.csv')\r\n",
        "anscombe = anscombe[1:].astype(float)\r\n",
        "anscombe.columns = ['x1','y1','x2','y2','x3','y3','x4','y4']\r\n",
        "anscombe.head()"
      ],
      "execution_count": 28,
      "outputs": [
        {
          "output_type": "execute_result",
          "data": {
            "text/html": [
              "<div>\n",
              "<style scoped>\n",
              "    .dataframe tbody tr th:only-of-type {\n",
              "        vertical-align: middle;\n",
              "    }\n",
              "\n",
              "    .dataframe tbody tr th {\n",
              "        vertical-align: top;\n",
              "    }\n",
              "\n",
              "    .dataframe thead th {\n",
              "        text-align: right;\n",
              "    }\n",
              "</style>\n",
              "<table border=\"1\" class=\"dataframe\">\n",
              "  <thead>\n",
              "    <tr style=\"text-align: right;\">\n",
              "      <th></th>\n",
              "      <th>x1</th>\n",
              "      <th>y1</th>\n",
              "      <th>x2</th>\n",
              "      <th>y2</th>\n",
              "      <th>x3</th>\n",
              "      <th>y3</th>\n",
              "      <th>x4</th>\n",
              "      <th>y4</th>\n",
              "    </tr>\n",
              "  </thead>\n",
              "  <tbody>\n",
              "    <tr>\n",
              "      <th>1</th>\n",
              "      <td>10.0</td>\n",
              "      <td>8.04</td>\n",
              "      <td>10.0</td>\n",
              "      <td>9.14</td>\n",
              "      <td>10.0</td>\n",
              "      <td>7.46</td>\n",
              "      <td>8.0</td>\n",
              "      <td>6.58</td>\n",
              "    </tr>\n",
              "    <tr>\n",
              "      <th>2</th>\n",
              "      <td>8.0</td>\n",
              "      <td>6.95</td>\n",
              "      <td>8.0</td>\n",
              "      <td>8.14</td>\n",
              "      <td>8.0</td>\n",
              "      <td>6.77</td>\n",
              "      <td>8.0</td>\n",
              "      <td>5.76</td>\n",
              "    </tr>\n",
              "    <tr>\n",
              "      <th>3</th>\n",
              "      <td>13.0</td>\n",
              "      <td>7.58</td>\n",
              "      <td>13.0</td>\n",
              "      <td>8.74</td>\n",
              "      <td>13.0</td>\n",
              "      <td>12.74</td>\n",
              "      <td>8.0</td>\n",
              "      <td>7.71</td>\n",
              "    </tr>\n",
              "    <tr>\n",
              "      <th>4</th>\n",
              "      <td>9.0</td>\n",
              "      <td>8.81</td>\n",
              "      <td>9.0</td>\n",
              "      <td>8.77</td>\n",
              "      <td>9.0</td>\n",
              "      <td>7.11</td>\n",
              "      <td>8.0</td>\n",
              "      <td>8.84</td>\n",
              "    </tr>\n",
              "    <tr>\n",
              "      <th>5</th>\n",
              "      <td>11.0</td>\n",
              "      <td>8.33</td>\n",
              "      <td>11.0</td>\n",
              "      <td>9.26</td>\n",
              "      <td>11.0</td>\n",
              "      <td>7.81</td>\n",
              "      <td>8.0</td>\n",
              "      <td>8.47</td>\n",
              "    </tr>\n",
              "  </tbody>\n",
              "</table>\n",
              "</div>"
            ],
            "text/plain": [
              "     x1    y1    x2    y2    x3     y3   x4    y4\n",
              "1  10.0  8.04  10.0  9.14  10.0   7.46  8.0  6.58\n",
              "2   8.0  6.95   8.0  8.14   8.0   6.77  8.0  5.76\n",
              "3  13.0  7.58  13.0  8.74  13.0  12.74  8.0  7.71\n",
              "4   9.0  8.81   9.0  8.77   9.0   7.11  8.0  8.84\n",
              "5  11.0  8.33  11.0  9.26  11.0   7.81  8.0  8.47"
            ]
          },
          "metadata": {
            "tags": []
          },
          "execution_count": 28
        }
      ]
    },
    {
      "cell_type": "code",
      "metadata": {
        "colab": {
          "base_uri": "https://localhost:8080/"
        },
        "id": "Vc7qemA-u4eD",
        "outputId": "5155710e-6eb2-4f70-ab4a-524f3b9fe517"
      },
      "source": [
        "anscombe.info()"
      ],
      "execution_count": 29,
      "outputs": [
        {
          "output_type": "stream",
          "text": [
            "<class 'pandas.core.frame.DataFrame'>\n",
            "RangeIndex: 11 entries, 1 to 11\n",
            "Data columns (total 8 columns):\n",
            " #   Column  Non-Null Count  Dtype  \n",
            "---  ------  --------------  -----  \n",
            " 0   x1      11 non-null     float64\n",
            " 1   y1      11 non-null     float64\n",
            " 2   x2      11 non-null     float64\n",
            " 3   y2      11 non-null     float64\n",
            " 4   x3      11 non-null     float64\n",
            " 5   y3      11 non-null     float64\n",
            " 6   x4      11 non-null     float64\n",
            " 7   y4      11 non-null     float64\n",
            "dtypes: float64(8)\n",
            "memory usage: 836.0 bytes\n"
          ],
          "name": "stdout"
        }
      ]
    },
    {
      "cell_type": "code",
      "metadata": {
        "colab": {
          "base_uri": "https://localhost:8080/",
          "height": 287
        },
        "id": "mIyHE7CTuY_0",
        "outputId": "bd1479bf-8564-411c-cfe9-278ceb43f8d6"
      },
      "source": [
        "anscombe.describe()"
      ],
      "execution_count": 30,
      "outputs": [
        {
          "output_type": "execute_result",
          "data": {
            "text/html": [
              "<div>\n",
              "<style scoped>\n",
              "    .dataframe tbody tr th:only-of-type {\n",
              "        vertical-align: middle;\n",
              "    }\n",
              "\n",
              "    .dataframe tbody tr th {\n",
              "        vertical-align: top;\n",
              "    }\n",
              "\n",
              "    .dataframe thead th {\n",
              "        text-align: right;\n",
              "    }\n",
              "</style>\n",
              "<table border=\"1\" class=\"dataframe\">\n",
              "  <thead>\n",
              "    <tr style=\"text-align: right;\">\n",
              "      <th></th>\n",
              "      <th>x1</th>\n",
              "      <th>y1</th>\n",
              "      <th>x2</th>\n",
              "      <th>y2</th>\n",
              "      <th>x3</th>\n",
              "      <th>y3</th>\n",
              "      <th>x4</th>\n",
              "      <th>y4</th>\n",
              "    </tr>\n",
              "  </thead>\n",
              "  <tbody>\n",
              "    <tr>\n",
              "      <th>count</th>\n",
              "      <td>11.000000</td>\n",
              "      <td>11.000000</td>\n",
              "      <td>11.000000</td>\n",
              "      <td>11.000000</td>\n",
              "      <td>11.000000</td>\n",
              "      <td>11.000000</td>\n",
              "      <td>11.000000</td>\n",
              "      <td>11.000000</td>\n",
              "    </tr>\n",
              "    <tr>\n",
              "      <th>mean</th>\n",
              "      <td>9.000000</td>\n",
              "      <td>7.500909</td>\n",
              "      <td>9.000000</td>\n",
              "      <td>7.500909</td>\n",
              "      <td>9.000000</td>\n",
              "      <td>7.500000</td>\n",
              "      <td>9.000000</td>\n",
              "      <td>7.500909</td>\n",
              "    </tr>\n",
              "    <tr>\n",
              "      <th>std</th>\n",
              "      <td>3.316625</td>\n",
              "      <td>2.031568</td>\n",
              "      <td>3.316625</td>\n",
              "      <td>2.031657</td>\n",
              "      <td>3.316625</td>\n",
              "      <td>2.030424</td>\n",
              "      <td>3.316625</td>\n",
              "      <td>2.030579</td>\n",
              "    </tr>\n",
              "    <tr>\n",
              "      <th>min</th>\n",
              "      <td>4.000000</td>\n",
              "      <td>4.260000</td>\n",
              "      <td>4.000000</td>\n",
              "      <td>3.100000</td>\n",
              "      <td>4.000000</td>\n",
              "      <td>5.390000</td>\n",
              "      <td>8.000000</td>\n",
              "      <td>5.250000</td>\n",
              "    </tr>\n",
              "    <tr>\n",
              "      <th>25%</th>\n",
              "      <td>6.500000</td>\n",
              "      <td>6.315000</td>\n",
              "      <td>6.500000</td>\n",
              "      <td>6.695000</td>\n",
              "      <td>6.500000</td>\n",
              "      <td>6.250000</td>\n",
              "      <td>8.000000</td>\n",
              "      <td>6.170000</td>\n",
              "    </tr>\n",
              "    <tr>\n",
              "      <th>50%</th>\n",
              "      <td>9.000000</td>\n",
              "      <td>7.580000</td>\n",
              "      <td>9.000000</td>\n",
              "      <td>8.140000</td>\n",
              "      <td>9.000000</td>\n",
              "      <td>7.110000</td>\n",
              "      <td>8.000000</td>\n",
              "      <td>7.040000</td>\n",
              "    </tr>\n",
              "    <tr>\n",
              "      <th>75%</th>\n",
              "      <td>11.500000</td>\n",
              "      <td>8.570000</td>\n",
              "      <td>11.500000</td>\n",
              "      <td>8.950000</td>\n",
              "      <td>11.500000</td>\n",
              "      <td>7.980000</td>\n",
              "      <td>8.000000</td>\n",
              "      <td>8.190000</td>\n",
              "    </tr>\n",
              "    <tr>\n",
              "      <th>max</th>\n",
              "      <td>14.000000</td>\n",
              "      <td>10.840000</td>\n",
              "      <td>14.000000</td>\n",
              "      <td>9.260000</td>\n",
              "      <td>14.000000</td>\n",
              "      <td>12.740000</td>\n",
              "      <td>19.000000</td>\n",
              "      <td>12.500000</td>\n",
              "    </tr>\n",
              "  </tbody>\n",
              "</table>\n",
              "</div>"
            ],
            "text/plain": [
              "              x1         y1         x2  ...         y3         x4         y4\n",
              "count  11.000000  11.000000  11.000000  ...  11.000000  11.000000  11.000000\n",
              "mean    9.000000   7.500909   9.000000  ...   7.500000   9.000000   7.500909\n",
              "std     3.316625   2.031568   3.316625  ...   2.030424   3.316625   2.030579\n",
              "min     4.000000   4.260000   4.000000  ...   5.390000   8.000000   5.250000\n",
              "25%     6.500000   6.315000   6.500000  ...   6.250000   8.000000   6.170000\n",
              "50%     9.000000   7.580000   9.000000  ...   7.110000   8.000000   7.040000\n",
              "75%    11.500000   8.570000  11.500000  ...   7.980000   8.000000   8.190000\n",
              "max    14.000000  10.840000  14.000000  ...  12.740000  19.000000  12.500000\n",
              "\n",
              "[8 rows x 8 columns]"
            ]
          },
          "metadata": {
            "tags": []
          },
          "execution_count": 30
        }
      ]
    },
    {
      "cell_type": "code",
      "metadata": {
        "id": "4lPJNkkOujRt"
      },
      "source": [
        ""
      ],
      "execution_count": 30,
      "outputs": []
    },
    {
      "cell_type": "code",
      "metadata": {
        "id": "YfMsBX-2yctz",
        "colab": {
          "base_uri": "https://localhost:8080/",
          "height": 465
        },
        "outputId": "c79cdd52-5ff0-4d4e-c60a-5c9cf6c593e6"
      },
      "source": [
        "x = np.array(anscombe['x1'])\r\n",
        "y = np.array(anscombe['y1'])\r\n",
        "\r\n",
        "# Perform linear regression: a, b\r\n",
        "a, b = np.polyfit(x, y, 1)\r\n",
        "\r\n",
        "# Print the slope and intercept\r\n",
        "print(a, b)\r\n",
        "\r\n",
        "# Generate theoretical x and y data: x_theor, y_theor\r\n",
        "x_theor = np.array([3, 15])\r\n",
        "y_theor = a * x_theor + b\r\n",
        "\r\n",
        "# plot style\r\n",
        "plt.style.use('ggplot')\r\n",
        "\r\n",
        "# Plot the PDF and label axes\r\n",
        "plt.figure(figsize=(12,7), facecolor='lightgrey')\r\n",
        "\r\n",
        "# Plot the Anscombe data and theoretical line\r\n",
        "_ = plt.plot(x, y, marker='o', linestyle='none')\r\n",
        "_ = plt.plot(x_theor, y_theor)\r\n",
        "\r\n",
        "# Label the axes\r\n",
        "plt.xlabel('x')\r\n",
        "plt.ylabel('y')\r\n",
        "\r\n",
        "# Show the plot\r\n",
        "plt.show()"
      ],
      "execution_count": 31,
      "outputs": [
        {
          "output_type": "stream",
          "text": [
            "0.5000909090909094 3.000090909090908\n"
          ],
          "name": "stdout"
        },
        {
          "output_type": "display_data",
          "data": {
            "image/png": "[encoded data removed]",
            "text/plain": [
              "<Figure size 864x504 with 1 Axes>"
            ]
          },
          "metadata": {
            "tags": []
          }
        }
      ]
    },
    {
      "cell_type": "markdown",
      "metadata": {
        "id": "6hGO-TWwvSnt"
      },
      "source": [
        "### Linear regression on all Anscombe data\r\n",
        "\r\n",
        "Now, to verify that all four of the Anscombe data sets have the same slope and intercept from a linear regression, you will compute the slope and intercept for each set. The data are stored in lists; `anscombe_x = [x1, x2, x3, x4]` and `anscombe_y = [y1, y2, y3, y4]`, where, for example, `x2` and `y2` are the  and  values for the second Anscombe data set."
      ]
    },
    {
      "cell_type": "code",
      "metadata": {
        "id": "2QZ_tKy-w3oj",
        "colab": {
          "base_uri": "https://localhost:8080/"
        },
        "outputId": "dda6e4d4-a92a-4a39-e938-20de4c7a3f7f"
      },
      "source": [
        "x1 = np.array(anscombe['x1'])\r\n",
        "y1 = np.array(anscombe['y1'])\r\n",
        "x2 = np.array(anscombe['x2'])\r\n",
        "y2 = np.array(anscombe['y2'])\r\n",
        "x3 = np.array(anscombe['x3'])\r\n",
        "y3 = np.array(anscombe['y3'])\r\n",
        "x4 = np.array(anscombe['x4'])\r\n",
        "y4 = np.array(anscombe['y4'])\r\n",
        "\r\n",
        "anscombe_x = [x1, x2, x3, x4]\r\n",
        "anscombe_y = [y1, y2, y3, y4]\r\n",
        "\r\n",
        "# Iterate through x,y pairs\r\n",
        "for x, y in zip(anscombe_x, anscombe_y):\r\n",
        "    # Compute the slope and intercept: a, b\r\n",
        "    a, b = np.polyfit(x,y,1)\r\n",
        "\r\n",
        "    # Print the result\r\n",
        "    print('slope:', a, 'intercept:', b)"
      ],
      "execution_count": 32,
      "outputs": [
        {
          "output_type": "stream",
          "text": [
            "slope: 0.5000909090909094 intercept: 3.000090909090908\n",
            "slope: 0.5000000000000003 intercept: 3.0009090909090905\n",
            "slope: 0.49972727272727313 intercept: 3.002454545454545\n",
            "slope: 0.4999090909090908 intercept: 3.0017272727272735\n"
          ],
          "name": "stdout"
        }
      ]
    },
    {
      "cell_type": "code",
      "metadata": {
        "colab": {
          "base_uri": "https://localhost:8080/",
          "height": 1000
        },
        "id": "A84LwrngtVwp",
        "outputId": "28c1cb77-86b2-4d56-85a7-2439bb1dc2e7"
      },
      "source": [
        "# Iterate through x,y pairs\r\n",
        "for x, y in zip(anscombe_x, anscombe_y):\r\n",
        "    # Compute the slope and intercept: a, b\r\n",
        "    plt.figure(figsize=(8,4))\r\n",
        "    _ = plt.scatter(x, y, marker='.', alpha=0.75, s=500)\r\n",
        "\r\n",
        "    # Label the axes\r\n",
        "    plt.xlabel('x')\r\n",
        "    plt.ylabel('y')\r\n",
        "\r\n",
        "    # Show the plot\r\n",
        "    plt.show()"
      ],
      "execution_count": 33,
      "outputs": [
        {
          "output_type": "display_data",
          "data": {
            "image/png": "[encoded data removed]",
            "text/plain": [
              "<Figure size 576x288 with 1 Axes>"
            ]
          },
          "metadata": {
            "tags": []
          }
        },
        {
          "output_type": "display_data",
          "data": {
            "image/png": "[encoded data removed]",
            "text/plain": [
              "<Figure size 576x288 with 1 Axes>"
            ]
          },
          "metadata": {
            "tags": []
          }
        },
        {
          "output_type": "display_data",
          "data": {
            "image/png": "[encoded data removed]",
            "text/plain": [
              "<Figure size 576x288 with 1 Axes>"
            ]
          },
          "metadata": {
            "tags": []
          }
        },
        {
          "output_type": "display_data",
          "data": {
            "image/png": "[encoded data removed]",
            "text/plain": [
              "<Figure size 576x288 with 1 Axes>"
            ]
          },
          "metadata": {
            "tags": []
          }
        }
      ]
    },
    {
      "cell_type": "markdown",
      "metadata": {
        "id": "050Oh0Cbr4aJ"
      },
      "source": [
        "<p align='center'> \r\n",
        "    <a href=\"https://twitter.com/F4izy\"> \r\n",
        "        <img src=\"https://th.bing.com/th/id/OIP.FCKMemzqNplY37Jwi0Yk3AHaGl?w=233&h=207&c=7&o=5&pid=1.7\" width=50px \r\n",
        "            height=50px> \r\n",
        "    </a> \r\n",
        "    <a href=\"https://www.linkedin.com/in/mohd-faizy/\"> \r\n",
        "        <img src='https://th.bing.com/th/id/OIP.idrBN-LfvMIZl370Vb65SgHaHa?pid=Api&rs=1' width=50px height=50px> \r\n",
        "    </a> \r\n",
        "</p>"
      ]
    }
  ]
}