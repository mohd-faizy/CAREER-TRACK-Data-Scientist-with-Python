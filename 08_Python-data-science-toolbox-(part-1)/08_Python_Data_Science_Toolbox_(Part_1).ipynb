{
  "nbformat": 4,
  "nbformat_minor": 0,
  "metadata": {
    "colab": {
      "provenance": [],
      "toc_visible": true
    },
    "kernelspec": {
      "name": "python3",
      "display_name": "Python 3"
    },
    "language_info": {
      "name": "python"
    }
  },
  "cells": [
    {
      "cell_type": "markdown",
      "source": [
        "# <center>**🐍Python Data Science Toolbox:(Part-1)🐍**</center>"
      ],
      "metadata": {
        "id": "SWtZYSlC45Ky"
      }
    },
    {
      "cell_type": "code",
      "source": [
        "url = 'https://raw.githubusercontent.com/mohd-faizy/CAREER-TRACK-Data-Scientist-with-Python/main/08_Python-data-science-toolbox-(part-1)/_datasets/tweets.csv'"
      ],
      "metadata": {
        "id": "lZCoenD1aBM2"
      },
      "execution_count": 1,
      "outputs": []
    },
    {
      "cell_type": "code",
      "source": [
        "import pandas as pd\n",
        "\n",
        "tweets_df = pd.read_csv(url)\n",
        "tweets_df.columns"
      ],
      "metadata": {
        "colab": {
          "base_uri": "https://localhost:8080/"
        },
        "id": "kG8f13TsaHbt",
        "outputId": "f6d492d8-7375-4e90-8e02-a7943921e24a"
      },
      "execution_count": 2,
      "outputs": [
        {
          "output_type": "execute_result",
          "data": {
            "text/plain": [
              "Index(['contributors', 'coordinates', 'created_at', 'entities',\n",
              "       'extended_entities', 'favorite_count', 'favorited', 'filter_level',\n",
              "       'geo', 'id', 'id_str', 'in_reply_to_screen_name',\n",
              "       'in_reply_to_status_id', 'in_reply_to_status_id_str',\n",
              "       'in_reply_to_user_id', 'in_reply_to_user_id_str', 'is_quote_status',\n",
              "       'lang', 'place', 'possibly_sensitive', 'quoted_status',\n",
              "       'quoted_status_id', 'quoted_status_id_str', 'retweet_count',\n",
              "       'retweeted', 'retweeted_status', 'source', 'text', 'timestamp_ms',\n",
              "       'truncated', 'user'],\n",
              "      dtype='object')"
            ]
          },
          "metadata": {},
          "execution_count": 2
        }
      ]
    },
    {
      "cell_type": "code",
      "source": [
        "tweets_df.head(2)"
      ],
      "metadata": {
        "colab": {
          "base_uri": "https://localhost:8080/",
          "height": 292
        },
        "id": "0N-b26mSb5Zp",
        "outputId": "c9ee5fe9-0b51-41a6-aaba-e2b67013e624"
      },
      "execution_count": 3,
      "outputs": [
        {
          "output_type": "execute_result",
          "data": {
            "text/plain": [
              "   contributors  coordinates                      created_at  \\\n",
              "0           NaN          NaN  Tue Mar 29 23:40:17 +0000 2016   \n",
              "1           NaN          NaN  Tue Mar 29 23:40:17 +0000 2016   \n",
              "\n",
              "                                            entities  \\\n",
              "0  {'hashtags': [], 'user_mentions': [{'screen_na...   \n",
              "1  {'hashtags': [{'text': 'cruzsexscandal', 'indi...   \n",
              "\n",
              "                                   extended_entities  favorite_count  \\\n",
              "0  {'media': [{'sizes': {'large': {'w': 1024, 'h'...               0   \n",
              "1  {'media': [{'sizes': {'large': {'w': 500, 'h':...               0   \n",
              "\n",
              "   favorited filter_level  geo                  id  ...  quoted_status_id  \\\n",
              "0      False          low  NaN  714960401759387648  ...               NaN   \n",
              "1      False          low  NaN  714960401977319424  ...               NaN   \n",
              "\n",
              "  quoted_status_id_str  retweet_count  retweeted  \\\n",
              "0                  NaN              0      False   \n",
              "1                  NaN              0      False   \n",
              "\n",
              "                                    retweeted_status  \\\n",
              "0  {'retweeted': False, 'text': \".@krollbondratin...   \n",
              "1  {'retweeted': False, 'text': '@dmartosko Cruz ...   \n",
              "\n",
              "                                              source  \\\n",
              "0  <a href=\"http://twitter.com\" rel=\"nofollow\">Tw...   \n",
              "1  <a href=\"http://twitter.com\" rel=\"nofollow\">Tw...   \n",
              "\n",
              "                                                text   timestamp_ms truncated  \\\n",
              "0  RT @bpolitics: .@krollbondrating's Christopher...  1459294817758     False   \n",
              "1  RT @HeidiAlpine: @dmartosko Cruz video found.....  1459294817810     False   \n",
              "\n",
              "                                                user  \n",
              "0  {'utc_offset': 3600, 'profile_image_url_https'...  \n",
              "1  {'utc_offset': None, 'profile_image_url_https'...  \n",
              "\n",
              "[2 rows x 31 columns]"
            ],
            "text/html": [
              "\n",
              "  <div id=\"df-d0eb9d66-2155-45a1-8657-6674e11cc9c2\">\n",
              "    <div class=\"colab-df-container\">\n",
              "      <div>\n",
              "<style scoped>\n",
              "    .dataframe tbody tr th:only-of-type {\n",
              "        vertical-align: middle;\n",
              "    }\n",
              "\n",
              "    .dataframe tbody tr th {\n",
              "        vertical-align: top;\n",
              "    }\n",
              "\n",
              "    .dataframe thead th {\n",
              "        text-align: right;\n",
              "    }\n",
              "</style>\n",
              "<table border=\"1\" class=\"dataframe\">\n",
              "  <thead>\n",
              "    <tr style=\"text-align: right;\">\n",
              "      <th></th>\n",
              "      <th>contributors</th>\n",
              "      <th>coordinates</th>\n",
              "      <th>created_at</th>\n",
              "      <th>entities</th>\n",
              "      <th>extended_entities</th>\n",
              "      <th>favorite_count</th>\n",
              "      <th>favorited</th>\n",
              "      <th>filter_level</th>\n",
              "      <th>geo</th>\n",
              "      <th>id</th>\n",
              "      <th>...</th>\n",
              "      <th>quoted_status_id</th>\n",
              "      <th>quoted_status_id_str</th>\n",
              "      <th>retweet_count</th>\n",
              "      <th>retweeted</th>\n",
              "      <th>retweeted_status</th>\n",
              "      <th>source</th>\n",
              "      <th>text</th>\n",
              "      <th>timestamp_ms</th>\n",
              "      <th>truncated</th>\n",
              "      <th>user</th>\n",
              "    </tr>\n",
              "  </thead>\n",
              "  <tbody>\n",
              "    <tr>\n",
              "      <th>0</th>\n",
              "      <td>NaN</td>\n",
              "      <td>NaN</td>\n",
              "      <td>Tue Mar 29 23:40:17 +0000 2016</td>\n",
              "      <td>{'hashtags': [], 'user_mentions': [{'screen_na...</td>\n",
              "      <td>{'media': [{'sizes': {'large': {'w': 1024, 'h'...</td>\n",
              "      <td>0</td>\n",
              "      <td>False</td>\n",
              "      <td>low</td>\n",
              "      <td>NaN</td>\n",
              "      <td>714960401759387648</td>\n",
              "      <td>...</td>\n",
              "      <td>NaN</td>\n",
              "      <td>NaN</td>\n",
              "      <td>0</td>\n",
              "      <td>False</td>\n",
              "      <td>{'retweeted': False, 'text': \".@krollbondratin...</td>\n",
              "      <td>&lt;a href=\"http://twitter.com\" rel=\"nofollow\"&gt;Tw...</td>\n",
              "      <td>RT @bpolitics: .@krollbondrating's Christopher...</td>\n",
              "      <td>1459294817758</td>\n",
              "      <td>False</td>\n",
              "      <td>{'utc_offset': 3600, 'profile_image_url_https'...</td>\n",
              "    </tr>\n",
              "    <tr>\n",
              "      <th>1</th>\n",
              "      <td>NaN</td>\n",
              "      <td>NaN</td>\n",
              "      <td>Tue Mar 29 23:40:17 +0000 2016</td>\n",
              "      <td>{'hashtags': [{'text': 'cruzsexscandal', 'indi...</td>\n",
              "      <td>{'media': [{'sizes': {'large': {'w': 500, 'h':...</td>\n",
              "      <td>0</td>\n",
              "      <td>False</td>\n",
              "      <td>low</td>\n",
              "      <td>NaN</td>\n",
              "      <td>714960401977319424</td>\n",
              "      <td>...</td>\n",
              "      <td>NaN</td>\n",
              "      <td>NaN</td>\n",
              "      <td>0</td>\n",
              "      <td>False</td>\n",
              "      <td>{'retweeted': False, 'text': '@dmartosko Cruz ...</td>\n",
              "      <td>&lt;a href=\"http://twitter.com\" rel=\"nofollow\"&gt;Tw...</td>\n",
              "      <td>RT @HeidiAlpine: @dmartosko Cruz video found.....</td>\n",
              "      <td>1459294817810</td>\n",
              "      <td>False</td>\n",
              "      <td>{'utc_offset': None, 'profile_image_url_https'...</td>\n",
              "    </tr>\n",
              "  </tbody>\n",
              "</table>\n",
              "<p>2 rows × 31 columns</p>\n",
              "</div>\n",
              "      <button class=\"colab-df-convert\" onclick=\"convertToInteractive('df-d0eb9d66-2155-45a1-8657-6674e11cc9c2')\"\n",
              "              title=\"Convert this dataframe to an interactive table.\"\n",
              "              style=\"display:none;\">\n",
              "        \n",
              "  <svg xmlns=\"http://www.w3.org/2000/svg\" height=\"24px\"viewBox=\"0 0 24 24\"\n",
              "       width=\"24px\">\n",
              "    <path d=\"M0 0h24v24H0V0z\" fill=\"none\"/>\n",
              "    <path d=\"M18.56 5.44l.94 2.06.94-2.06 2.06-.94-2.06-.94-.94-2.06-.94 2.06-2.06.94zm-11 1L8.5 8.5l.94-2.06 2.06-.94-2.06-.94L8.5 2.5l-.94 2.06-2.06.94zm10 10l.94 2.06.94-2.06 2.06-.94-2.06-.94-.94-2.06-.94 2.06-2.06.94z\"/><path d=\"M17.41 7.96l-1.37-1.37c-.4-.4-.92-.59-1.43-.59-.52 0-1.04.2-1.43.59L10.3 9.45l-7.72 7.72c-.78.78-.78 2.05 0 2.83L4 21.41c.39.39.9.59 1.41.59.51 0 1.02-.2 1.41-.59l7.78-7.78 2.81-2.81c.8-.78.8-2.07 0-2.86zM5.41 20L4 18.59l7.72-7.72 1.47 1.35L5.41 20z\"/>\n",
              "  </svg>\n",
              "      </button>\n",
              "      \n",
              "  <style>\n",
              "    .colab-df-container {\n",
              "      display:flex;\n",
              "      flex-wrap:wrap;\n",
              "      gap: 12px;\n",
              "    }\n",
              "\n",
              "    .colab-df-convert {\n",
              "      background-color: #E8F0FE;\n",
              "      border: none;\n",
              "      border-radius: 50%;\n",
              "      cursor: pointer;\n",
              "      display: none;\n",
              "      fill: #1967D2;\n",
              "      height: 32px;\n",
              "      padding: 0 0 0 0;\n",
              "      width: 32px;\n",
              "    }\n",
              "\n",
              "    .colab-df-convert:hover {\n",
              "      background-color: #E2EBFA;\n",
              "      box-shadow: 0px 1px 2px rgba(60, 64, 67, 0.3), 0px 1px 3px 1px rgba(60, 64, 67, 0.15);\n",
              "      fill: #174EA6;\n",
              "    }\n",
              "\n",
              "    [theme=dark] .colab-df-convert {\n",
              "      background-color: #3B4455;\n",
              "      fill: #D2E3FC;\n",
              "    }\n",
              "\n",
              "    [theme=dark] .colab-df-convert:hover {\n",
              "      background-color: #434B5C;\n",
              "      box-shadow: 0px 1px 3px 1px rgba(0, 0, 0, 0.15);\n",
              "      filter: drop-shadow(0px 1px 2px rgba(0, 0, 0, 0.3));\n",
              "      fill: #FFFFFF;\n",
              "    }\n",
              "  </style>\n",
              "\n",
              "      <script>\n",
              "        const buttonEl =\n",
              "          document.querySelector('#df-d0eb9d66-2155-45a1-8657-6674e11cc9c2 button.colab-df-convert');\n",
              "        buttonEl.style.display =\n",
              "          google.colab.kernel.accessAllowed ? 'block' : 'none';\n",
              "\n",
              "        async function convertToInteractive(key) {\n",
              "          const element = document.querySelector('#df-d0eb9d66-2155-45a1-8657-6674e11cc9c2');\n",
              "          const dataTable =\n",
              "            await google.colab.kernel.invokeFunction('convertToInteractive',\n",
              "                                                     [key], {});\n",
              "          if (!dataTable) return;\n",
              "\n",
              "          const docLinkHtml = 'Like what you see? Visit the ' +\n",
              "            '<a target=\"_blank\" href=https://colab.research.google.com/notebooks/data_table.ipynb>data table notebook</a>'\n",
              "            + ' to learn more about interactive tables.';\n",
              "          element.innerHTML = '';\n",
              "          dataTable['output_type'] = 'display_data';\n",
              "          await google.colab.output.renderOutput(dataTable, element);\n",
              "          const docLink = document.createElement('div');\n",
              "          docLink.innerHTML = docLinkHtml;\n",
              "          element.appendChild(docLink);\n",
              "        }\n",
              "      </script>\n",
              "    </div>\n",
              "  </div>\n",
              "  "
            ]
          },
          "metadata": {},
          "execution_count": 3
        }
      ]
    },
    {
      "cell_type": "markdown",
      "source": [
        "# 1️⃣**Writing your own functions**"
      ],
      "metadata": {
        "id": "lu3KLhTZ5kGF"
      }
    },
    {
      "cell_type": "markdown",
      "source": [
        "### **Strings in Python**\n"
      ],
      "metadata": {
        "id": "KkhF7Qbi6EZe"
      }
    },
    {
      "cell_type": "code",
      "source": [
        "object1 = \"data\" + \"analysis\" + \"visualization\"\n",
        "object2 = 1 * 3\n",
        "object3 = \"1\" * 3\n",
        "\n",
        "print(object1 )\n",
        "print(object2 )\n",
        "print(object3 )"
      ],
      "metadata": {
        "colab": {
          "base_uri": "https://localhost:8080/"
        },
        "id": "nCZqItf47A8Z",
        "outputId": "48f45c56-98fe-4ec9-fc61-1c1970b226d0"
      },
      "execution_count": 4,
      "outputs": [
        {
          "output_type": "stream",
          "name": "stdout",
          "text": [
            "dataanalysisvisualization\n",
            "3\n",
            "111\n"
          ]
        }
      ]
    },
    {
      "cell_type": "markdown",
      "source": [
        "### **Recapping built-in functions**\n"
      ],
      "metadata": {
        "id": "EGbVgU686eFG"
      }
    },
    {
      "cell_type": "code",
      "source": [
        "x=3\n",
        "\n",
        "y1 = str(x)\n",
        "y2 = print(x)\n",
        "\n",
        "print(type(y1), type(y2))"
      ],
      "metadata": {
        "colab": {
          "base_uri": "https://localhost:8080/"
        },
        "id": "sBkU60Ic7B8P",
        "outputId": "6e93466f-737c-440a-f411-f9c4269bc7e2"
      },
      "execution_count": 5,
      "outputs": [
        {
          "output_type": "stream",
          "name": "stdout",
          "text": [
            "3\n",
            "<class 'str'> <class 'NoneType'>\n"
          ]
        }
      ]
    },
    {
      "cell_type": "markdown",
      "source": [
        "### **Write a simple function**\n"
      ],
      "metadata": {
        "id": "mbIGQNyf6fw9"
      }
    },
    {
      "cell_type": "code",
      "source": [
        "def shout():\n",
        "    \"\"\"Print a string with three exclamation marks\"\"\"\n",
        "    # Concatenate the strings: shout_word\n",
        "    shout_word = 'congratulations' + '!!!'\n",
        "\n",
        "    # Print shout_word\n",
        "    print(shout_word)\n",
        "\n",
        "# Call shout\n",
        "shout()"
      ],
      "metadata": {
        "colab": {
          "base_uri": "https://localhost:8080/"
        },
        "id": "OW9kDGQl7Chg",
        "outputId": "39942e20-4da7-4b78-d2e1-969b587ace3b"
      },
      "execution_count": 6,
      "outputs": [
        {
          "output_type": "stream",
          "name": "stdout",
          "text": [
            "congratulations!!!\n"
          ]
        }
      ]
    },
    {
      "cell_type": "markdown",
      "source": [
        "### **Single-parameter functions**\n"
      ],
      "metadata": {
        "id": "IHXV2vXB6heV"
      }
    },
    {
      "cell_type": "code",
      "source": [
        "# Define shout with the parameter, word\n",
        "def shout(word):\n",
        "    \"\"\"Print a string with three exclamation marks\"\"\"\n",
        "    # Concatenate the strings: shout_word\n",
        "    shout_word = word + '!!!'\n",
        "\n",
        "    # Print shout_word\n",
        "    print(shout_word)\n",
        "\n",
        "# Call shout with the string 'congratulations'\n",
        "shout('congratulations')\n",
        "shout('Hello')\n"
      ],
      "metadata": {
        "colab": {
          "base_uri": "https://localhost:8080/"
        },
        "id": "Zy6BMkmV7Dsv",
        "outputId": "ba1068bb-a2b4-4540-cffa-3590af54f8fe"
      },
      "execution_count": 7,
      "outputs": [
        {
          "output_type": "stream",
          "name": "stdout",
          "text": [
            "congratulations!!!\n",
            "Hello!!!\n"
          ]
        }
      ]
    },
    {
      "cell_type": "markdown",
      "source": [
        "### **Functions that return single values**\n"
      ],
      "metadata": {
        "id": "YItUFPFg6jLS"
      }
    },
    {
      "cell_type": "code",
      "source": [
        "# Define shout with the parameter, word\n",
        "def shout(word):\n",
        "    \"\"\"Return a string with three exclamation marks\"\"\"\n",
        "    # Concatenate the strings: shout_word\n",
        "    shout_word = word + '!!!'\n",
        "\n",
        "    # Replace print with return\n",
        "    return shout_word\n",
        "\n",
        "# Pass 'congratulations' to shout: yell\n",
        "yell = shout('congratulations')\n",
        "\n",
        "# Print yell\n",
        "print(yell)"
      ],
      "metadata": {
        "colab": {
          "base_uri": "https://localhost:8080/"
        },
        "id": "IthJG2N97ElX",
        "outputId": "a522c15c-c01f-499c-8d4e-d5c8c1f2b7d3"
      },
      "execution_count": 8,
      "outputs": [
        {
          "output_type": "stream",
          "name": "stdout",
          "text": [
            "congratulations!!!\n"
          ]
        }
      ]
    },
    {
      "cell_type": "markdown",
      "source": [
        "### **Functions with multiple parameters**\n"
      ],
      "metadata": {
        "id": "49cyYfWa6lgw"
      }
    },
    {
      "cell_type": "code",
      "source": [
        "# Define shout with parameters word1 and word2\n",
        "def shout(word1, word2):\n",
        "    \"\"\"Concatenate strings with three exclamation marks\"\"\"\n",
        "    # Concatenate word1 with '!!!': shout1\n",
        "    shout1 = word1 + '!!!'\n",
        "    \n",
        "    # Concatenate word2 with '!!!': shout2\n",
        "    shout2 = word2 + '!!!'\n",
        "    \n",
        "    # Concatenate shout1 with shout2: new_shout\n",
        "    new_shout = shout1 + shout2\n",
        "\n",
        "    # Return new_shout\n",
        "    return new_shout\n",
        "\n",
        "# Pass 'congratulations' and 'you' to shout(): yell\n",
        "yell = shout('congratulations', 'you')\n",
        "\n",
        "# Print yell\n",
        "print(yell)"
      ],
      "metadata": {
        "colab": {
          "base_uri": "https://localhost:8080/"
        },
        "id": "f7UB_U7W7Fav",
        "outputId": "0dc0bc6f-b62b-46e4-bf9c-92ca17dd965c"
      },
      "execution_count": 9,
      "outputs": [
        {
          "output_type": "stream",
          "name": "stdout",
          "text": [
            "congratulations!!!you!!!\n"
          ]
        }
      ]
    },
    {
      "cell_type": "markdown",
      "source": [
        "### **A brief introduction to tuples**\n"
      ],
      "metadata": {
        "id": "4O7MXvcj6omg"
      }
    },
    {
      "cell_type": "code",
      "source": [
        "nums = (3, 4, 6)\n",
        "\n",
        "# Unpack nums into num1, num2, and num3\n",
        "num1, num2, num3 = nums\n",
        "\n",
        "# Construct even_nums\n",
        "even_nums = (2, num2, num3)"
      ],
      "metadata": {
        "id": "FgQQdXkI7GN_"
      },
      "execution_count": 10,
      "outputs": []
    },
    {
      "cell_type": "markdown",
      "source": [
        "### **Functions that return multiple values**\n"
      ],
      "metadata": {
        "id": "uEs8f3LU6q3p"
      }
    },
    {
      "cell_type": "code",
      "source": [
        "# Define shout_all with parameters word1 and word2\n",
        "def shout_all(word1, word2):\n",
        "    \n",
        "    # Concatenate word1 with '!!!': shout1\n",
        "    shout1 = word1 + '!!!'\n",
        "    \n",
        "    # Concatenate word2 with '!!!': shout2\n",
        "    shout2 = word2 + '!!!'\n",
        "    \n",
        "    # Construct a tuple with shout1 and shout2: shout_words\n",
        "    shout_words = (shout1, shout2)\n",
        "\n",
        "    # Return shout_words\n",
        "    return shout_words\n",
        "\n",
        "# Pass 'congratulations' and 'you' to shout_all(): yell1, yell2\n",
        "yell1, yell2 = shout_all('congratulations', 'you')\n",
        "\n",
        "# Print yell1 and yell2\n",
        "print(yell1)\n",
        "print(yell2)"
      ],
      "metadata": {
        "colab": {
          "base_uri": "https://localhost:8080/"
        },
        "id": "uSQPCucx7HYm",
        "outputId": "fbe3a407-f111-406e-cb06-fd58695906c9"
      },
      "execution_count": 11,
      "outputs": [
        {
          "output_type": "stream",
          "name": "stdout",
          "text": [
            "congratulations!!!\n",
            "you!!!\n"
          ]
        }
      ]
    },
    {
      "cell_type": "markdown",
      "source": [
        "### **Bringing it all together (1)**\n"
      ],
      "metadata": {
        "id": "eD2mA2c76um_"
      }
    },
    {
      "cell_type": "code",
      "source": [
        "tweets_df.head(2)"
      ],
      "metadata": {
        "id": "dlIkHqUvcFrX",
        "colab": {
          "base_uri": "https://localhost:8080/",
          "height": 292
        },
        "outputId": "b4e020cd-d72f-42eb-c2d9-eccdb13c1a43"
      },
      "execution_count": 12,
      "outputs": [
        {
          "output_type": "execute_result",
          "data": {
            "text/plain": [
              "   contributors  coordinates                      created_at  \\\n",
              "0           NaN          NaN  Tue Mar 29 23:40:17 +0000 2016   \n",
              "1           NaN          NaN  Tue Mar 29 23:40:17 +0000 2016   \n",
              "\n",
              "                                            entities  \\\n",
              "0  {'hashtags': [], 'user_mentions': [{'screen_na...   \n",
              "1  {'hashtags': [{'text': 'cruzsexscandal', 'indi...   \n",
              "\n",
              "                                   extended_entities  favorite_count  \\\n",
              "0  {'media': [{'sizes': {'large': {'w': 1024, 'h'...               0   \n",
              "1  {'media': [{'sizes': {'large': {'w': 500, 'h':...               0   \n",
              "\n",
              "   favorited filter_level  geo                  id  ...  quoted_status_id  \\\n",
              "0      False          low  NaN  714960401759387648  ...               NaN   \n",
              "1      False          low  NaN  714960401977319424  ...               NaN   \n",
              "\n",
              "  quoted_status_id_str  retweet_count  retweeted  \\\n",
              "0                  NaN              0      False   \n",
              "1                  NaN              0      False   \n",
              "\n",
              "                                    retweeted_status  \\\n",
              "0  {'retweeted': False, 'text': \".@krollbondratin...   \n",
              "1  {'retweeted': False, 'text': '@dmartosko Cruz ...   \n",
              "\n",
              "                                              source  \\\n",
              "0  <a href=\"http://twitter.com\" rel=\"nofollow\">Tw...   \n",
              "1  <a href=\"http://twitter.com\" rel=\"nofollow\">Tw...   \n",
              "\n",
              "                                                text   timestamp_ms truncated  \\\n",
              "0  RT @bpolitics: .@krollbondrating's Christopher...  1459294817758     False   \n",
              "1  RT @HeidiAlpine: @dmartosko Cruz video found.....  1459294817810     False   \n",
              "\n",
              "                                                user  \n",
              "0  {'utc_offset': 3600, 'profile_image_url_https'...  \n",
              "1  {'utc_offset': None, 'profile_image_url_https'...  \n",
              "\n",
              "[2 rows x 31 columns]"
            ],
            "text/html": [
              "\n",
              "  <div id=\"df-5fa2ba0a-3249-4f7c-835b-d88d59cd00e8\">\n",
              "    <div class=\"colab-df-container\">\n",
              "      <div>\n",
              "<style scoped>\n",
              "    .dataframe tbody tr th:only-of-type {\n",
              "        vertical-align: middle;\n",
              "    }\n",
              "\n",
              "    .dataframe tbody tr th {\n",
              "        vertical-align: top;\n",
              "    }\n",
              "\n",
              "    .dataframe thead th {\n",
              "        text-align: right;\n",
              "    }\n",
              "</style>\n",
              "<table border=\"1\" class=\"dataframe\">\n",
              "  <thead>\n",
              "    <tr style=\"text-align: right;\">\n",
              "      <th></th>\n",
              "      <th>contributors</th>\n",
              "      <th>coordinates</th>\n",
              "      <th>created_at</th>\n",
              "      <th>entities</th>\n",
              "      <th>extended_entities</th>\n",
              "      <th>favorite_count</th>\n",
              "      <th>favorited</th>\n",
              "      <th>filter_level</th>\n",
              "      <th>geo</th>\n",
              "      <th>id</th>\n",
              "      <th>...</th>\n",
              "      <th>quoted_status_id</th>\n",
              "      <th>quoted_status_id_str</th>\n",
              "      <th>retweet_count</th>\n",
              "      <th>retweeted</th>\n",
              "      <th>retweeted_status</th>\n",
              "      <th>source</th>\n",
              "      <th>text</th>\n",
              "      <th>timestamp_ms</th>\n",
              "      <th>truncated</th>\n",
              "      <th>user</th>\n",
              "    </tr>\n",
              "  </thead>\n",
              "  <tbody>\n",
              "    <tr>\n",
              "      <th>0</th>\n",
              "      <td>NaN</td>\n",
              "      <td>NaN</td>\n",
              "      <td>Tue Mar 29 23:40:17 +0000 2016</td>\n",
              "      <td>{'hashtags': [], 'user_mentions': [{'screen_na...</td>\n",
              "      <td>{'media': [{'sizes': {'large': {'w': 1024, 'h'...</td>\n",
              "      <td>0</td>\n",
              "      <td>False</td>\n",
              "      <td>low</td>\n",
              "      <td>NaN</td>\n",
              "      <td>714960401759387648</td>\n",
              "      <td>...</td>\n",
              "      <td>NaN</td>\n",
              "      <td>NaN</td>\n",
              "      <td>0</td>\n",
              "      <td>False</td>\n",
              "      <td>{'retweeted': False, 'text': \".@krollbondratin...</td>\n",
              "      <td>&lt;a href=\"http://twitter.com\" rel=\"nofollow\"&gt;Tw...</td>\n",
              "      <td>RT @bpolitics: .@krollbondrating's Christopher...</td>\n",
              "      <td>1459294817758</td>\n",
              "      <td>False</td>\n",
              "      <td>{'utc_offset': 3600, 'profile_image_url_https'...</td>\n",
              "    </tr>\n",
              "    <tr>\n",
              "      <th>1</th>\n",
              "      <td>NaN</td>\n",
              "      <td>NaN</td>\n",
              "      <td>Tue Mar 29 23:40:17 +0000 2016</td>\n",
              "      <td>{'hashtags': [{'text': 'cruzsexscandal', 'indi...</td>\n",
              "      <td>{'media': [{'sizes': {'large': {'w': 500, 'h':...</td>\n",
              "      <td>0</td>\n",
              "      <td>False</td>\n",
              "      <td>low</td>\n",
              "      <td>NaN</td>\n",
              "      <td>714960401977319424</td>\n",
              "      <td>...</td>\n",
              "      <td>NaN</td>\n",
              "      <td>NaN</td>\n",
              "      <td>0</td>\n",
              "      <td>False</td>\n",
              "      <td>{'retweeted': False, 'text': '@dmartosko Cruz ...</td>\n",
              "      <td>&lt;a href=\"http://twitter.com\" rel=\"nofollow\"&gt;Tw...</td>\n",
              "      <td>RT @HeidiAlpine: @dmartosko Cruz video found.....</td>\n",
              "      <td>1459294817810</td>\n",
              "      <td>False</td>\n",
              "      <td>{'utc_offset': None, 'profile_image_url_https'...</td>\n",
              "    </tr>\n",
              "  </tbody>\n",
              "</table>\n",
              "<p>2 rows × 31 columns</p>\n",
              "</div>\n",
              "      <button class=\"colab-df-convert\" onclick=\"convertToInteractive('df-5fa2ba0a-3249-4f7c-835b-d88d59cd00e8')\"\n",
              "              title=\"Convert this dataframe to an interactive table.\"\n",
              "              style=\"display:none;\">\n",
              "        \n",
              "  <svg xmlns=\"http://www.w3.org/2000/svg\" height=\"24px\"viewBox=\"0 0 24 24\"\n",
              "       width=\"24px\">\n",
              "    <path d=\"M0 0h24v24H0V0z\" fill=\"none\"/>\n",
              "    <path d=\"M18.56 5.44l.94 2.06.94-2.06 2.06-.94-2.06-.94-.94-2.06-.94 2.06-2.06.94zm-11 1L8.5 8.5l.94-2.06 2.06-.94-2.06-.94L8.5 2.5l-.94 2.06-2.06.94zm10 10l.94 2.06.94-2.06 2.06-.94-2.06-.94-.94-2.06-.94 2.06-2.06.94z\"/><path d=\"M17.41 7.96l-1.37-1.37c-.4-.4-.92-.59-1.43-.59-.52 0-1.04.2-1.43.59L10.3 9.45l-7.72 7.72c-.78.78-.78 2.05 0 2.83L4 21.41c.39.39.9.59 1.41.59.51 0 1.02-.2 1.41-.59l7.78-7.78 2.81-2.81c.8-.78.8-2.07 0-2.86zM5.41 20L4 18.59l7.72-7.72 1.47 1.35L5.41 20z\"/>\n",
              "  </svg>\n",
              "      </button>\n",
              "      \n",
              "  <style>\n",
              "    .colab-df-container {\n",
              "      display:flex;\n",
              "      flex-wrap:wrap;\n",
              "      gap: 12px;\n",
              "    }\n",
              "\n",
              "    .colab-df-convert {\n",
              "      background-color: #E8F0FE;\n",
              "      border: none;\n",
              "      border-radius: 50%;\n",
              "      cursor: pointer;\n",
              "      display: none;\n",
              "      fill: #1967D2;\n",
              "      height: 32px;\n",
              "      padding: 0 0 0 0;\n",
              "      width: 32px;\n",
              "    }\n",
              "\n",
              "    .colab-df-convert:hover {\n",
              "      background-color: #E2EBFA;\n",
              "      box-shadow: 0px 1px 2px rgba(60, 64, 67, 0.3), 0px 1px 3px 1px rgba(60, 64, 67, 0.15);\n",
              "      fill: #174EA6;\n",
              "    }\n",
              "\n",
              "    [theme=dark] .colab-df-convert {\n",
              "      background-color: #3B4455;\n",
              "      fill: #D2E3FC;\n",
              "    }\n",
              "\n",
              "    [theme=dark] .colab-df-convert:hover {\n",
              "      background-color: #434B5C;\n",
              "      box-shadow: 0px 1px 3px 1px rgba(0, 0, 0, 0.15);\n",
              "      filter: drop-shadow(0px 1px 2px rgba(0, 0, 0, 0.3));\n",
              "      fill: #FFFFFF;\n",
              "    }\n",
              "  </style>\n",
              "\n",
              "      <script>\n",
              "        const buttonEl =\n",
              "          document.querySelector('#df-5fa2ba0a-3249-4f7c-835b-d88d59cd00e8 button.colab-df-convert');\n",
              "        buttonEl.style.display =\n",
              "          google.colab.kernel.accessAllowed ? 'block' : 'none';\n",
              "\n",
              "        async function convertToInteractive(key) {\n",
              "          const element = document.querySelector('#df-5fa2ba0a-3249-4f7c-835b-d88d59cd00e8');\n",
              "          const dataTable =\n",
              "            await google.colab.kernel.invokeFunction('convertToInteractive',\n",
              "                                                     [key], {});\n",
              "          if (!dataTable) return;\n",
              "\n",
              "          const docLinkHtml = 'Like what you see? Visit the ' +\n",
              "            '<a target=\"_blank\" href=https://colab.research.google.com/notebooks/data_table.ipynb>data table notebook</a>'\n",
              "            + ' to learn more about interactive tables.';\n",
              "          element.innerHTML = '';\n",
              "          dataTable['output_type'] = 'display_data';\n",
              "          await google.colab.output.renderOutput(dataTable, element);\n",
              "          const docLink = document.createElement('div');\n",
              "          docLink.innerHTML = docLinkHtml;\n",
              "          element.appendChild(docLink);\n",
              "        }\n",
              "      </script>\n",
              "    </div>\n",
              "  </div>\n",
              "  "
            ]
          },
          "metadata": {},
          "execution_count": 12
        }
      ]
    },
    {
      "cell_type": "code",
      "source": [
        "tweets_df['lang'].head(5)"
      ],
      "metadata": {
        "colab": {
          "base_uri": "https://localhost:8080/"
        },
        "id": "N04N_X3-WyG3",
        "outputId": "a90c449d-71d9-46cc-8874-ff7ddab568d2"
      },
      "execution_count": 13,
      "outputs": [
        {
          "output_type": "execute_result",
          "data": {
            "text/plain": [
              "0    en\n",
              "1    en\n",
              "2    et\n",
              "3    en\n",
              "4    en\n",
              "Name: lang, dtype: object"
            ]
          },
          "metadata": {},
          "execution_count": 13
        }
      ]
    },
    {
      "cell_type": "code",
      "source": [
        "# Initialize an empty dictionary: langs_count\n",
        "langs_count = {}\n",
        "\n",
        "# Extract column from DataFrame: col\n",
        "col = tweets_df['lang']\n",
        "\n",
        "# Iterate over lang column in DataFrame\n",
        "for entry in col:\n",
        "\n",
        "    # If the language is in langs_count, add 1\n",
        "    if entry in langs_count.keys():\n",
        "        langs_count[entry] += 1\n",
        "    # Else add the language to langs_count, set the value to 1\n",
        "    else:\n",
        "        langs_count[entry] = 1\n",
        "    print(langs_count)\n",
        "\n",
        "# Print the populated dictionary\n",
        "print(langs_count)"
      ],
      "metadata": {
        "id": "GesUAJgc7IdP",
        "colab": {
          "base_uri": "https://localhost:8080/"
        },
        "outputId": "38e9a7a9-5a99-4bac-d8a2-810c9e4975d3"
      },
      "execution_count": 14,
      "outputs": [
        {
          "output_type": "stream",
          "name": "stdout",
          "text": [
            "{'en': 1}\n",
            "{'en': 2}\n",
            "{'en': 2, 'et': 1}\n",
            "{'en': 3, 'et': 1}\n",
            "{'en': 4, 'et': 1}\n",
            "{'en': 5, 'et': 1}\n",
            "{'en': 6, 'et': 1}\n",
            "{'en': 7, 'et': 1}\n",
            "{'en': 8, 'et': 1}\n",
            "{'en': 9, 'et': 1}\n",
            "{'en': 10, 'et': 1}\n",
            "{'en': 11, 'et': 1}\n",
            "{'en': 12, 'et': 1}\n",
            "{'en': 13, 'et': 1}\n",
            "{'en': 14, 'et': 1}\n",
            "{'en': 15, 'et': 1}\n",
            "{'en': 16, 'et': 1}\n",
            "{'en': 17, 'et': 1}\n",
            "{'en': 18, 'et': 1}\n",
            "{'en': 19, 'et': 1}\n",
            "{'en': 19, 'et': 1, 'und': 1}\n",
            "{'en': 20, 'et': 1, 'und': 1}\n",
            "{'en': 21, 'et': 1, 'und': 1}\n",
            "{'en': 22, 'et': 1, 'und': 1}\n",
            "{'en': 23, 'et': 1, 'und': 1}\n",
            "{'en': 24, 'et': 1, 'und': 1}\n",
            "{'en': 25, 'et': 1, 'und': 1}\n",
            "{'en': 26, 'et': 1, 'und': 1}\n",
            "{'en': 27, 'et': 1, 'und': 1}\n",
            "{'en': 27, 'et': 1, 'und': 2}\n",
            "{'en': 28, 'et': 1, 'und': 2}\n",
            "{'en': 29, 'et': 1, 'und': 2}\n",
            "{'en': 30, 'et': 1, 'und': 2}\n",
            "{'en': 31, 'et': 1, 'und': 2}\n",
            "{'en': 32, 'et': 1, 'und': 2}\n",
            "{'en': 33, 'et': 1, 'und': 2}\n",
            "{'en': 34, 'et': 1, 'und': 2}\n",
            "{'en': 35, 'et': 1, 'und': 2}\n",
            "{'en': 36, 'et': 1, 'und': 2}\n",
            "{'en': 37, 'et': 1, 'und': 2}\n",
            "{'en': 38, 'et': 1, 'und': 2}\n",
            "{'en': 39, 'et': 1, 'und': 2}\n",
            "{'en': 40, 'et': 1, 'und': 2}\n",
            "{'en': 41, 'et': 1, 'und': 2}\n",
            "{'en': 42, 'et': 1, 'und': 2}\n",
            "{'en': 43, 'et': 1, 'und': 2}\n",
            "{'en': 44, 'et': 1, 'und': 2}\n",
            "{'en': 45, 'et': 1, 'und': 2}\n",
            "{'en': 46, 'et': 1, 'und': 2}\n",
            "{'en': 47, 'et': 1, 'und': 2}\n",
            "{'en': 48, 'et': 1, 'und': 2}\n",
            "{'en': 49, 'et': 1, 'und': 2}\n",
            "{'en': 50, 'et': 1, 'und': 2}\n",
            "{'en': 51, 'et': 1, 'und': 2}\n",
            "{'en': 52, 'et': 1, 'und': 2}\n",
            "{'en': 53, 'et': 1, 'und': 2}\n",
            "{'en': 54, 'et': 1, 'und': 2}\n",
            "{'en': 55, 'et': 1, 'und': 2}\n",
            "{'en': 56, 'et': 1, 'und': 2}\n",
            "{'en': 57, 'et': 1, 'und': 2}\n",
            "{'en': 58, 'et': 1, 'und': 2}\n",
            "{'en': 59, 'et': 1, 'und': 2}\n",
            "{'en': 60, 'et': 1, 'und': 2}\n",
            "{'en': 61, 'et': 1, 'und': 2}\n",
            "{'en': 62, 'et': 1, 'und': 2}\n",
            "{'en': 63, 'et': 1, 'und': 2}\n",
            "{'en': 64, 'et': 1, 'und': 2}\n",
            "{'en': 65, 'et': 1, 'und': 2}\n",
            "{'en': 66, 'et': 1, 'und': 2}\n",
            "{'en': 67, 'et': 1, 'und': 2}\n",
            "{'en': 68, 'et': 1, 'und': 2}\n",
            "{'en': 69, 'et': 1, 'und': 2}\n",
            "{'en': 70, 'et': 1, 'und': 2}\n",
            "{'en': 71, 'et': 1, 'und': 2}\n",
            "{'en': 72, 'et': 1, 'und': 2}\n",
            "{'en': 73, 'et': 1, 'und': 2}\n",
            "{'en': 74, 'et': 1, 'und': 2}\n",
            "{'en': 75, 'et': 1, 'und': 2}\n",
            "{'en': 76, 'et': 1, 'und': 2}\n",
            "{'en': 77, 'et': 1, 'und': 2}\n",
            "{'en': 78, 'et': 1, 'und': 2}\n",
            "{'en': 79, 'et': 1, 'und': 2}\n",
            "{'en': 80, 'et': 1, 'und': 2}\n",
            "{'en': 81, 'et': 1, 'und': 2}\n",
            "{'en': 82, 'et': 1, 'und': 2}\n",
            "{'en': 83, 'et': 1, 'und': 2}\n",
            "{'en': 84, 'et': 1, 'und': 2}\n",
            "{'en': 85, 'et': 1, 'und': 2}\n",
            "{'en': 86, 'et': 1, 'und': 2}\n",
            "{'en': 87, 'et': 1, 'und': 2}\n",
            "{'en': 88, 'et': 1, 'und': 2}\n",
            "{'en': 89, 'et': 1, 'und': 2}\n",
            "{'en': 90, 'et': 1, 'und': 2}\n",
            "{'en': 91, 'et': 1, 'und': 2}\n",
            "{'en': 92, 'et': 1, 'und': 2}\n",
            "{'en': 93, 'et': 1, 'und': 2}\n",
            "{'en': 94, 'et': 1, 'und': 2}\n",
            "{'en': 95, 'et': 1, 'und': 2}\n",
            "{'en': 96, 'et': 1, 'und': 2}\n",
            "{'en': 97, 'et': 1, 'und': 2}\n",
            "{'en': 97, 'et': 1, 'und': 2}\n"
          ]
        }
      ]
    },
    {
      "cell_type": "markdown",
      "source": [
        "### **Bringing it all together (2)**"
      ],
      "metadata": {
        "id": "vs3s1Zl26v__"
      }
    },
    {
      "cell_type": "code",
      "source": [
        "# Define count_entries()\n",
        "def count_entries(df, col_name):\n",
        "    \"\"\"Return a dictionary with counts of \n",
        "    occurrences as value for each key.\"\"\"\n",
        "\n",
        "    # Initialize an empty dictionary: langs_count\n",
        "    langs_count = {}\n",
        "    \n",
        "    # Extract column from DataFrame: col\n",
        "    col = tweets_df[col_name]\n",
        "    \n",
        "    # Iterate over lang column in DataFrame\n",
        "    for entry in col:\n",
        "\n",
        "        # If the language is in langs_count, add 1\n",
        "        if entry in langs_count.keys():\n",
        "            langs_count[entry] += 1\n",
        "        # Else add the language to langs_count, set the value to 1\n",
        "        else:\n",
        "            langs_count[entry] = 1\n",
        "\n",
        "    # Return the langs_count dictionary\n",
        "    return langs_count\n",
        "\n",
        "# Call count_entries(): result\n",
        "result = count_entries(tweets_df, 'lang')\n",
        "\n",
        "# Print the result\n",
        "print(result)"
      ],
      "metadata": {
        "id": "v7Aq-jhO45zf",
        "colab": {
          "base_uri": "https://localhost:8080/"
        },
        "outputId": "4d805db5-cbab-4044-989c-3b71cfb451c8"
      },
      "execution_count": 15,
      "outputs": [
        {
          "output_type": "stream",
          "name": "stdout",
          "text": [
            "{'en': 97, 'et': 1, 'und': 2}\n"
          ]
        }
      ]
    },
    {
      "cell_type": "code",
      "source": [
        "help(count_entries)"
      ],
      "metadata": {
        "colab": {
          "base_uri": "https://localhost:8080/"
        },
        "id": "oREpsC1fiBzP",
        "outputId": "0023a829-72ea-4f5c-cb68-42272191f0a1"
      },
      "execution_count": 16,
      "outputs": [
        {
          "output_type": "stream",
          "name": "stdout",
          "text": [
            "Help on function count_entries in module __main__:\n",
            "\n",
            "count_entries(df, col_name)\n",
            "    Return a dictionary with counts of \n",
            "    occurrences as value for each key.\n",
            "\n"
          ]
        }
      ]
    },
    {
      "cell_type": "code",
      "source": [
        "# Performing the same operation using the Pandas\n",
        "tweets_df['lang'].value_counts()"
      ],
      "metadata": {
        "colab": {
          "base_uri": "https://localhost:8080/"
        },
        "id": "wgXmtAaZXWK1",
        "outputId": "0b600c86-4da9-452c-ebcb-8dc1bf1a14da"
      },
      "execution_count": 17,
      "outputs": [
        {
          "output_type": "execute_result",
          "data": {
            "text/plain": [
              "en     97\n",
              "und     2\n",
              "et      1\n",
              "Name: lang, dtype: int64"
            ]
          },
          "metadata": {},
          "execution_count": 17
        }
      ]
    },
    {
      "cell_type": "markdown",
      "source": [
        "# 2️⃣**Default arguments, variable-length arguments and scope**"
      ],
      "metadata": {
        "id": "RrmAGltS5pmQ"
      }
    },
    {
      "cell_type": "markdown",
      "source": [
        "### **Understanding scope of a Varible**\n"
      ],
      "metadata": {
        "id": "D4Mc6jyc7Jj_"
      }
    },
    {
      "cell_type": "code",
      "source": [
        "# This code demonstrates the concepts of global and local variables.\n",
        "\n",
        "# Global variable\n",
        "num = 5\n",
        "\n",
        "def func1():\n",
        "    num = 3     # Local variable\n",
        "    print(num)  # Prints the value of the local variable num, which is 3\n",
        "\n",
        "def func2():\n",
        "    global num            # Indicates that the variable num being used is the global one\n",
        "    num = 6               # Modifies the value of the global variable num\n",
        "    double_num = num * 2  # Accesses the global variable num and performs multiplication\n",
        "    print(double_num)     # Prints the value of double_num, which is calculated using the global variable\n",
        "\n",
        "func1()    # Calls func1, which prints the local variable num (3)\n",
        "func2()    # Calls func2, which prints the value of double_num (10), calculated using the modified global variable\n",
        "print(num) # Value of num in the global scope is 6. This is because func2() modified the global variable num to 6."
      ],
      "metadata": {
        "id": "aG9jfO4l8Do_",
        "colab": {
          "base_uri": "https://localhost:8080/"
        },
        "outputId": "4d2599eb-ccaf-4723-a4ea-59b9f96411a1"
      },
      "execution_count": 18,
      "outputs": [
        {
          "output_type": "stream",
          "name": "stdout",
          "text": [
            "3\n",
            "12\n",
            "6\n"
          ]
        }
      ]
    },
    {
      "cell_type": "code",
      "source": [
        "num = 5\n",
        "\n",
        "def func1():\n",
        "    num = 3     \n",
        "    print(num) \n",
        "\n",
        "def func2():\n",
        "    num = 6              \n",
        "    double_num = num * 2          \n",
        "    print(double_num)     \n",
        "\n",
        "func1()   \n",
        "func2()   \n",
        "\n",
        "print(num) "
      ],
      "metadata": {
        "colab": {
          "base_uri": "https://localhost:8080/"
        },
        "id": "c3vBF5XUlH-3",
        "outputId": "60295f89-8b4c-407d-8c05-09fb2b9878d3"
      },
      "execution_count": 19,
      "outputs": [
        {
          "output_type": "stream",
          "name": "stdout",
          "text": [
            "3\n",
            "12\n",
            "5\n"
          ]
        }
      ]
    },
    {
      "cell_type": "markdown",
      "source": [
        "### **The keyword global**\n"
      ],
      "metadata": {
        "id": "au_kJNMH7uQ_"
      }
    },
    {
      "cell_type": "code",
      "source": [
        "# Create a string: team\n",
        "team = \"teen titans\"\n",
        "\n",
        "# Define change_team()\n",
        "def change_team():\n",
        "    \"\"\"Change the value of the global variable team.\"\"\"\n",
        "\n",
        "    # Use team in global scope\n",
        "    global team\n",
        "\n",
        "    # Change the value of team in global: team\n",
        "    team = \"justice league\"\n",
        "\n",
        "# Print team\n",
        "print(team)\n",
        "\n",
        "# Call change_team()\n",
        "change_team()\n",
        "\n",
        "# Print team\n",
        "print(team)"
      ],
      "metadata": {
        "id": "CeqW3Psb8Etn",
        "colab": {
          "base_uri": "https://localhost:8080/"
        },
        "outputId": "e0a41e3d-cf0d-4c2e-faca-285365912839"
      },
      "execution_count": 20,
      "outputs": [
        {
          "output_type": "stream",
          "name": "stdout",
          "text": [
            "teen titans\n",
            "justice league\n"
          ]
        }
      ]
    },
    {
      "cell_type": "markdown",
      "source": [
        "### **Python's built-in scope**\n"
      ],
      "metadata": {
        "id": "yMMFR5Ts7xr3"
      }
    },
    {
      "cell_type": "markdown",
      "source": [
        "Global scope:"
      ],
      "metadata": {
        "id": "WXXyNJ2fpP5Q"
      }
    },
    {
      "cell_type": "code",
      "source": [
        "x = 10  # Variable in the global scope\n",
        "\n",
        "def func():\n",
        "    print(x)  # Accessing the global variable\n",
        "\n",
        "func()  # Output: 10\n"
      ],
      "metadata": {
        "colab": {
          "base_uri": "https://localhost:8080/"
        },
        "id": "U6Igr4tppXvN",
        "outputId": "2b7227cd-d0bd-477d-955e-6e70c8987ea8"
      },
      "execution_count": 21,
      "outputs": [
        {
          "output_type": "stream",
          "name": "stdout",
          "text": [
            "10\n"
          ]
        }
      ]
    },
    {
      "cell_type": "markdown",
      "source": [
        "Local scope"
      ],
      "metadata": {
        "id": "S3q9_otapQ8_"
      }
    },
    {
      "cell_type": "code",
      "source": [
        "def func():\n",
        "    y = 20  # Variable in the local scope\n",
        "    print(y)\n",
        "\n",
        "func()  # Output: 20"
      ],
      "metadata": {
        "colab": {
          "base_uri": "https://localhost:8080/"
        },
        "id": "93pUIJwipZbL",
        "outputId": "d9ec66c3-8c4e-4ed2-8f97-59518f0e1fdb"
      },
      "execution_count": 22,
      "outputs": [
        {
          "output_type": "stream",
          "name": "stdout",
          "text": [
            "20\n"
          ]
        }
      ]
    },
    {
      "cell_type": "markdown",
      "source": [
        "```python\n",
        "print(y)  # Error: NameError: name 'y' is not defined\n",
        "---------------------------------------------------------------------------\n",
        "NameError                                 Traceback (most recent call last)\n",
        "<ipython-input-43-bcd8d8eec245> in <cell line: 6>()\n",
        "      4 \n",
        "      5 func()  # Output: 20\n",
        "----> 6 print(y)  # Error: NameError: name 'y' is not defined\n",
        "\n",
        "NameError: name 'y' is not defined\n",
        "\n",
        "```"
      ],
      "metadata": {
        "id": "7i_0WCGJpjIR"
      }
    },
    {
      "cell_type": "markdown",
      "source": [
        "Built-in scope: The built-in scope is automatically available without any need for import statements."
      ],
      "metadata": {
        "id": "B4lLoRNkpVWw"
      }
    },
    {
      "cell_type": "code",
      "source": [
        "import math\n",
        "\n",
        "radius = 5\n",
        "area = math.pi * math.pow(radius, 2)  # Using built-in functions and constants from the math module\n",
        "print(area)"
      ],
      "metadata": {
        "id": "2Pohvpl18FUQ",
        "colab": {
          "base_uri": "https://localhost:8080/"
        },
        "outputId": "97884fd4-c079-43e5-dcf7-5af1e12504e1"
      },
      "execution_count": 23,
      "outputs": [
        {
          "output_type": "stream",
          "name": "stdout",
          "text": [
            "78.53981633974483\n"
          ]
        }
      ]
    },
    {
      "cell_type": "markdown",
      "source": [
        "### **Nested Functions I**\n"
      ],
      "metadata": {
        "id": "gtdpygCO7zkI"
      }
    },
    {
      "cell_type": "code",
      "source": [
        "# Define three_shouts\n",
        "def three_shouts(word1, word2, word3):\n",
        "    \"\"\"Returns a tuple of strings\n",
        "    concatenated with '!!!'.\"\"\"\n",
        "\n",
        "    # Define inner\n",
        "    def inner(word):\n",
        "        \"\"\"Returns a string concatenated with '!!!'.\"\"\"\n",
        "        return word + '!!!'\n",
        "\n",
        "    # Return a tuple of strings\n",
        "    return (inner(word1), inner(word2) ,inner(word3))\n",
        "\n",
        "# Call three_shouts() and print\n",
        "print(three_shouts('a', 'b', 'c'))"
      ],
      "metadata": {
        "id": "qT8UNEB78GTg",
        "colab": {
          "base_uri": "https://localhost:8080/"
        },
        "outputId": "370841f9-5228-45de-a875-6b382de7a280"
      },
      "execution_count": 24,
      "outputs": [
        {
          "output_type": "stream",
          "name": "stdout",
          "text": [
            "('a!!!', 'b!!!', 'c!!!')\n"
          ]
        }
      ]
    },
    {
      "cell_type": "markdown",
      "source": [
        "### **Nested Functions II**\n"
      ],
      "metadata": {
        "id": "xDeHetFU71iX"
      }
    },
    {
      "cell_type": "code",
      "source": [
        "def echo(n):\n",
        "    \"\"\"Return the inner_echo function.\"\"\"\n",
        "\n",
        "    # Define inner_echo\n",
        "    def inner_echo(word1):\n",
        "        \"\"\"Concatenate n copies of word1.\"\"\"\n",
        "        echo_word = word1 * n\n",
        "        return echo_word\n",
        "\n",
        "    # Return inner_echo\n",
        "    return inner_echo\n",
        "\n",
        "# Call echo: twice\n",
        "twice = echo(2)\n",
        "\n",
        "# Call echo: thrice\n",
        "thrice = echo(3)\n",
        "\n",
        "# Call twice() and thrice() then print\n",
        "print(twice('hello'), thrice('hello'))"
      ],
      "metadata": {
        "id": "mVBM0-_48Gwf",
        "colab": {
          "base_uri": "https://localhost:8080/"
        },
        "outputId": "5e0f3003-0e0e-4a6f-f7da-98622d16ea82"
      },
      "execution_count": 25,
      "outputs": [
        {
          "output_type": "stream",
          "name": "stdout",
          "text": [
            "hellohello hellohellohello\n"
          ]
        }
      ]
    },
    {
      "cell_type": "markdown",
      "source": [
        "### **The keyword nonlocal and nested functions**\n"
      ],
      "metadata": {
        "id": "5foO9s7e73LP"
      }
    },
    {
      "cell_type": "code",
      "source": [
        "# Define echo_shout()\n",
        "def echo_shout(word):\n",
        "    \"\"\"Change the value of a nonlocal variable\"\"\"\n",
        "    \n",
        "    # Concatenate word with itself: echo_word\n",
        "    echo_word = word * 2\n",
        "    \n",
        "    #Print echo_word\n",
        "    print(echo_word)\n",
        "    \n",
        "    # Define inner function shout()\n",
        "    def shout():\n",
        "        \"\"\"Alter a variable in the enclosing scope\"\"\"    \n",
        "        #Use echo_word in nonlocal scope\n",
        "        nonlocal echo_word\n",
        "        \n",
        "        #Change echo_word to echo_word concatenated with '!!!'\n",
        "        echo_word = echo_word + '!!!'\n",
        "    \n",
        "    # Call function shout()\n",
        "    shout()\n",
        "    \n",
        "    #Print echo_word\n",
        "    print(echo_word)\n",
        "\n",
        "#Call function echo_shout() with argument 'hello'    \n",
        "echo_shout('hello')"
      ],
      "metadata": {
        "id": "aWa3GNRu8HtA",
        "colab": {
          "base_uri": "https://localhost:8080/"
        },
        "outputId": "6bf6ad50-a24c-4856-98fc-99216081d8fa"
      },
      "execution_count": 26,
      "outputs": [
        {
          "output_type": "stream",
          "name": "stdout",
          "text": [
            "hellohello\n",
            "hellohello!!!\n"
          ]
        }
      ]
    },
    {
      "cell_type": "markdown",
      "source": [
        "### **Functions with one default argument**\n"
      ],
      "metadata": {
        "id": "iElSZZbZ74-Y"
      }
    },
    {
      "cell_type": "code",
      "source": [
        "# Define shout_echo\n",
        "def shout_echo(word1, echo=1):\n",
        "    \"\"\"Concatenate echo copies of word1 and three\n",
        "     exclamation marks at the end of the string.\"\"\"\n",
        "\n",
        "    # Concatenate echo copies of word1 using *: echo_word\n",
        "    echo_word = word1 * echo\n",
        "\n",
        "    # Concatenate '!!!' to echo_word: shout_word\n",
        "    shout_word = echo_word + '!!!'\n",
        "\n",
        "    # Return shout_word\n",
        "    return shout_word\n",
        "\n",
        "# Call shout_echo() with \"Hey\": no_echo\n",
        "no_echo = shout_echo('Hey')\n",
        "\n",
        "# Call shout_echo() with \"Hey\" and echo=5: with_echo\n",
        "with_echo = shout_echo('Hey', 5)\n",
        "\n",
        "# Print no_echo and with_echo\n",
        "print(no_echo)\n",
        "print(with_echo)"
      ],
      "metadata": {
        "id": "yjnqGEfR8JLy",
        "colab": {
          "base_uri": "https://localhost:8080/"
        },
        "outputId": "48a9c4aa-53ef-428b-d1eb-e479bfa67ba6"
      },
      "execution_count": 27,
      "outputs": [
        {
          "output_type": "stream",
          "name": "stdout",
          "text": [
            "Hey!!!\n",
            "HeyHeyHeyHeyHey!!!\n"
          ]
        }
      ]
    },
    {
      "cell_type": "markdown",
      "source": [
        "### **Functions with multiple default arguments**\n"
      ],
      "metadata": {
        "id": "b7vjXWu476Y_"
      }
    },
    {
      "cell_type": "code",
      "source": [
        "# Define shout_echo\n",
        "def shout_echo(word1, echo=1, intense=False):\n",
        "    \"\"\"Concatenate echo copies of word1 and three\n",
        "    exclamation marks at the end of the string.\"\"\"\n",
        "\n",
        "    # Concatenate echo copies of word1 using *: echo_word\n",
        "    echo_word = word1 * echo\n",
        "\n",
        "    # Capitalize echo_word if intense is True\n",
        "    if intense is True:\n",
        "        # Capitalize and concatenate '!!!': echo_word_new\n",
        "        echo_word_new = echo_word.upper() + '!!!'\n",
        "    else:\n",
        "        # Concatenate '!!!' to echo_word: echo_word_new\n",
        "        echo_word_new = echo_word + '!!!'\n",
        "\n",
        "    # Return echo_word_new\n",
        "    return echo_word_new\n",
        "\n",
        "# Call shout_echo() with \"Hey\", echo=5 and intense=True: with_big_echo\n",
        "with_big_echo = shout_echo('Hey', 5, True)\n",
        "\n",
        "# Call shout_echo() with \"Hey\" and intense=True: big_no_echo\n",
        "big_no_echo = shout_echo('Hey', intense=True)\n",
        "\n",
        "# Print values\n",
        "print(with_big_echo)\n",
        "print(big_no_echo)"
      ],
      "metadata": {
        "id": "hdyUamgi8K_J",
        "colab": {
          "base_uri": "https://localhost:8080/"
        },
        "outputId": "61285650-9c65-454d-a241-3a54776de9b6"
      },
      "execution_count": 28,
      "outputs": [
        {
          "output_type": "stream",
          "name": "stdout",
          "text": [
            "HEYHEYHEYHEYHEY!!!\n",
            "HEY!!!\n"
          ]
        }
      ]
    },
    {
      "cell_type": "markdown",
      "source": [
        "### **Functions with variable-length arguments (*args)**\n"
      ],
      "metadata": {
        "id": "7bMG8_Ku78SH"
      }
    },
    {
      "cell_type": "code",
      "source": [
        "# Define gibberish\n",
        "def gibberish(*args):\n",
        "    \"\"\"Concatenate strings in *args together.\"\"\"\n",
        "\n",
        "    # Initialize an empty string: hodgepodge\n",
        "    hodgepodge = \"\"\n",
        "\n",
        "    # Concatenate the strings in args\n",
        "    for word in args:\n",
        "        hodgepodge += word\n",
        "\n",
        "    # Return hodgepodge\n",
        "    return hodgepodge\n",
        "\n",
        "# Call gibberish() with one string: one_word\n",
        "one_word = gibberish('luke')\n",
        "\n",
        "# Call gibberish() with five strings: many_words\n",
        "many_words = gibberish(\"luke\", \"leia\", \"han\", \"obi\", \"darth\")\n",
        "\n",
        "# Print one_word and many_words\n",
        "print(one_word)\n",
        "print(many_words)"
      ],
      "metadata": {
        "id": "cZOk2eK58Mvg",
        "colab": {
          "base_uri": "https://localhost:8080/"
        },
        "outputId": "b56359b0-b853-4dcf-ea82-435ab8931ae8"
      },
      "execution_count": 29,
      "outputs": [
        {
          "output_type": "stream",
          "name": "stdout",
          "text": [
            "luke\n",
            "lukeleiahanobidarth\n"
          ]
        }
      ]
    },
    {
      "cell_type": "markdown",
      "source": [
        "### **Functions with variable-length keyword arguments (**kwargs)**\n"
      ],
      "metadata": {
        "id": "G0kCwGDc791Z"
      }
    },
    {
      "cell_type": "code",
      "source": [
        "# Define report_status\n",
        "def report_status(**kwargs):\n",
        "    \"\"\"Print out the status of a movie character.\"\"\"\n",
        "\n",
        "    print(\"\\nBEGIN: REPORT\\n\")\n",
        "\n",
        "    # Iterate over the key-value pairs of kwargs\n",
        "    for key, value in kwargs.items():\n",
        "        # Print out the keys and values, separated by a colon ':'\n",
        "        print(key + \": \" + value)\n",
        "\n",
        "    print(\"\\nEND REPORT\")\n",
        "\n",
        "# First call to report_status()\n",
        "report_status(name='luke', affiliation='jedi', status='missing')\n",
        "\n",
        "# Second call to report_status()\n",
        "report_status(name='anakin', affiliation='sith lord', status='deceased')\n"
      ],
      "metadata": {
        "id": "wlkk3Atq8NNQ",
        "colab": {
          "base_uri": "https://localhost:8080/"
        },
        "outputId": "59934e3c-30f5-40f7-dab6-9365b6e31926"
      },
      "execution_count": 30,
      "outputs": [
        {
          "output_type": "stream",
          "name": "stdout",
          "text": [
            "\n",
            "BEGIN: REPORT\n",
            "\n",
            "name: luke\n",
            "affiliation: jedi\n",
            "status: missing\n",
            "\n",
            "END REPORT\n",
            "\n",
            "BEGIN: REPORT\n",
            "\n",
            "name: anakin\n",
            "affiliation: sith lord\n",
            "status: deceased\n",
            "\n",
            "END REPORT\n"
          ]
        }
      ]
    },
    {
      "cell_type": "markdown",
      "source": [
        "### **Bringing it all together (1)**\n"
      ],
      "metadata": {
        "id": "y4FgIjuX7_5h"
      }
    },
    {
      "cell_type": "code",
      "source": [
        "# Define count_entries()\n",
        "def count_entries(df, col_name='lang'):\n",
        "    \"\"\"Return a dictionary with counts of\n",
        "    occurrences as value for each key.\"\"\"\n",
        "\n",
        "    # Initialize an empty dictionary: cols_count\n",
        "    cols_count = {}\n",
        "    \n",
        "    # Extract column from DataFrame: col\n",
        "    col = df[col_name]\n",
        "\n",
        "    # Iterate over the column in DataFrame\n",
        "    for entry in col:\n",
        "\n",
        "        # If entry is in cols_count, add 1\n",
        "        if entry in cols_count.keys():\n",
        "            cols_count[entry] += 1\n",
        "\n",
        "        # Else add the entry to cols_count, set the value to 1\n",
        "        else:\n",
        "            cols_count[entry] = 1\n",
        "\n",
        "    # Return the cols_count dictionary\n",
        "    return cols_count\n",
        "\n",
        "# Call count_entries(): result1\n",
        "result1 = count_entries(tweets_df, col_name='lang')\n",
        "\n",
        "# Call count_entries(): result2\n",
        "result2 = count_entries(tweets_df, col_name='source')\n",
        "\n",
        "# Print result1 and result2\n",
        "print(result1)\n",
        "print(result2)"
      ],
      "metadata": {
        "id": "nweC5G9m8OFX",
        "colab": {
          "base_uri": "https://localhost:8080/"
        },
        "outputId": "d9610621-4398-4327-c3d4-1ac446fc47b4"
      },
      "execution_count": 31,
      "outputs": [
        {
          "output_type": "stream",
          "name": "stdout",
          "text": [
            "{'en': 97, 'et': 1, 'und': 2}\n",
            "{'<a href=\"http://twitter.com\" rel=\"nofollow\">Twitter Web Client</a>': 24, '<a href=\"http://www.facebook.com/twitter\" rel=\"nofollow\">Facebook</a>': 1, '<a href=\"http://twitter.com/download/android\" rel=\"nofollow\">Twitter for Android</a>': 26, '<a href=\"http://twitter.com/download/iphone\" rel=\"nofollow\">Twitter for iPhone</a>': 33, '<a href=\"http://www.twitter.com\" rel=\"nofollow\">Twitter for BlackBerry</a>': 2, '<a href=\"http://www.google.com/\" rel=\"nofollow\">Google</a>': 2, '<a href=\"http://twitter.com/#!/download/ipad\" rel=\"nofollow\">Twitter for iPad</a>': 6, '<a href=\"http://linkis.com\" rel=\"nofollow\">Linkis.com</a>': 2, '<a href=\"http://rutracker.org/forum/viewforum.php?f=93\" rel=\"nofollow\">newzlasz</a>': 2, '<a href=\"http://ifttt.com\" rel=\"nofollow\">IFTTT</a>': 1, '<a href=\"http://www.myplume.com/\" rel=\"nofollow\">Plume\\xa0for\\xa0Android</a>': 1}\n"
          ]
        }
      ]
    },
    {
      "cell_type": "markdown",
      "source": [
        "### **Bringing it all together (2)**"
      ],
      "metadata": {
        "id": "2P-vMEC08BEg"
      }
    },
    {
      "cell_type": "code",
      "execution_count": 32,
      "metadata": {
        "id": "ZyUcIAfz4wia",
        "colab": {
          "base_uri": "https://localhost:8080/"
        },
        "outputId": "940f0df8-6fd5-40c8-e6f2-9a4e98f9209b"
      },
      "outputs": [
        {
          "output_type": "stream",
          "name": "stdout",
          "text": [
            "{'en': 97, 'et': 1, 'und': 2}\n",
            "{'en': 97, 'et': 1, 'und': 2, '<a href=\"http://twitter.com\" rel=\"nofollow\">Twitter Web Client</a>': 24, '<a href=\"http://www.facebook.com/twitter\" rel=\"nofollow\">Facebook</a>': 1, '<a href=\"http://twitter.com/download/android\" rel=\"nofollow\">Twitter for Android</a>': 26, '<a href=\"http://twitter.com/download/iphone\" rel=\"nofollow\">Twitter for iPhone</a>': 33, '<a href=\"http://www.twitter.com\" rel=\"nofollow\">Twitter for BlackBerry</a>': 2, '<a href=\"http://www.google.com/\" rel=\"nofollow\">Google</a>': 2, '<a href=\"http://twitter.com/#!/download/ipad\" rel=\"nofollow\">Twitter for iPad</a>': 6, '<a href=\"http://linkis.com\" rel=\"nofollow\">Linkis.com</a>': 2, '<a href=\"http://rutracker.org/forum/viewforum.php?f=93\" rel=\"nofollow\">newzlasz</a>': 2, '<a href=\"http://ifttt.com\" rel=\"nofollow\">IFTTT</a>': 1, '<a href=\"http://www.myplume.com/\" rel=\"nofollow\">Plume\\xa0for\\xa0Android</a>': 1}\n"
          ]
        }
      ],
      "source": [
        "# Define count_entries()\n",
        "def count_entries(df, *args):\n",
        "    \"\"\"Return a dictionary with counts of\n",
        "    occurrences as value for each key.\"\"\"\n",
        "    \n",
        "    #Initialize an empty dictionary: cols_count\n",
        "    cols_count = {}\n",
        "    \n",
        "    # Iterate over column names in args\n",
        "    for col_name in args:\n",
        "    \n",
        "        # Extract column from DataFrame: col\n",
        "        col = df[col_name]\n",
        "    \n",
        "        # Iterate over the column in DataFrame\n",
        "        for entry in col:\n",
        "    \n",
        "            # If entry is in cols_count, add 1\n",
        "            if entry in cols_count.keys():\n",
        "                cols_count[entry] += 1\n",
        "    \n",
        "            # Else add the entry to cols_count, set the value to 1\n",
        "            else:\n",
        "                cols_count[entry] = 1\n",
        "\n",
        "    # Return the cols_count dictionary\n",
        "    return cols_count\n",
        "\n",
        "# Call count_entries(): result1\n",
        "result1 = count_entries(tweets_df, 'lang')\n",
        "\n",
        "# Call count_entries(): result2\n",
        "result2 = count_entries(tweets_df, 'lang', 'source')\n",
        "\n",
        "# Print result1 and result2\n",
        "print(result1)\n",
        "print(result2)"
      ]
    },
    {
      "cell_type": "markdown",
      "source": [
        "# 3️⃣**Lambda functions and error-handling**"
      ],
      "metadata": {
        "id": "yT-UJBHS5wrH"
      }
    },
    {
      "cell_type": "markdown",
      "source": [
        "### **lambda functions**\n"
      ],
      "metadata": {
        "id": "B9hU1fvT8d-X"
      }
    },
    {
      "cell_type": "code",
      "source": [
        "add = lambda x, y: x + y\n",
        "result = add(3, 5)\n",
        "print(\"SUM: \", result)  \n",
        "\n",
        "numbers = [1, 2, 3, 4, 5]\n",
        "squared = map(lambda x: x ** 2, numbers)\n",
        "print(\"Square: \", list(squared)) "
      ],
      "metadata": {
        "id": "dM7f_AnG9FYI",
        "colab": {
          "base_uri": "https://localhost:8080/"
        },
        "outputId": "4bc0ca4f-ad27-499f-8c4e-7a13b5cbace6"
      },
      "execution_count": 33,
      "outputs": [
        {
          "output_type": "stream",
          "name": "stdout",
          "text": [
            "SUM:  8\n",
            "Square:  [1, 4, 9, 16, 25]\n"
          ]
        }
      ]
    },
    {
      "cell_type": "code",
      "source": [
        "# Define echo_word as a lambda function: echo_word\n",
        "echo_word = lambda word1, echo: word1 * echo\n",
        "\n",
        "# Call echo_word: result\n",
        "result = echo_word('hey', 5)\n",
        "\n",
        "# Print result\n",
        "print(result)"
      ],
      "metadata": {
        "id": "HTVJbU3P9F-g",
        "colab": {
          "base_uri": "https://localhost:8080/"
        },
        "outputId": "6f39f2b8-2eb1-42ac-ab32-0a0055f9980c"
      },
      "execution_count": 34,
      "outputs": [
        {
          "output_type": "stream",
          "name": "stdout",
          "text": [
            "heyheyheyheyhey\n"
          ]
        }
      ]
    },
    {
      "cell_type": "markdown",
      "source": [
        "### **`Map()` and lambda functions**\n",
        "\n",
        "```python\n",
        "map(function, iterable)\n",
        "\n",
        "```\n"
      ],
      "metadata": {
        "id": "qBP6klTz81KQ"
      }
    },
    {
      "cell_type": "code",
      "source": [
        "# Using the Regular function\n",
        "def squareFunc(x):\n",
        "    return x ** 2\n",
        "\n",
        "numbers = [1, 2, 3, 4, 5]\n",
        "squared = map(squareFunc, numbers)\n",
        "result = list(squared)\n",
        "print(result)   "
      ],
      "metadata": {
        "id": "tsUeIvVO9GnX",
        "colab": {
          "base_uri": "https://localhost:8080/"
        },
        "outputId": "56e609c9-452b-4537-de81-f985cd9ca3b3"
      },
      "execution_count": 35,
      "outputs": [
        {
          "output_type": "stream",
          "name": "stdout",
          "text": [
            "[1, 4, 9, 16, 25]\n"
          ]
        }
      ]
    },
    {
      "cell_type": "code",
      "source": [
        "# Using the Lambda function\n",
        "numbers = [1, 2, 3, 4, 5]\n",
        "squared = map((lambda x: x**2), numbers)\n",
        "result = list(squared)\n",
        "print(result)"
      ],
      "metadata": {
        "colab": {
          "base_uri": "https://localhost:8080/"
        },
        "id": "v_eoy_magn0X",
        "outputId": "c541a361-90b2-4f6c-8142-1b8f467601b1"
      },
      "execution_count": 36,
      "outputs": [
        {
          "output_type": "stream",
          "name": "stdout",
          "text": [
            "[1, 4, 9, 16, 25]\n"
          ]
        }
      ]
    },
    {
      "cell_type": "code",
      "source": [
        "# Create a list of strings: spells\n",
        "spells = [\"protego\", \"accio\", \"expecto patronum\", \"legilimens\"]\n",
        "\n",
        "# Use map() to apply a lambda function over spells: shout_spells\n",
        "shout_spells = map((lambda a: a +'!!!'), spells)\n",
        "\n",
        "# Convert shout_spells to a list: shout_spells_list\n",
        "shout_spells_list = list(shout_spells)\n",
        "\n",
        "# Convert shout_spells into a list and print it\n",
        "print(shout_spells_list)\n"
      ],
      "metadata": {
        "colab": {
          "base_uri": "https://localhost:8080/"
        },
        "id": "2K57jW7guqyl",
        "outputId": "452cf790-e415-4c16-8dbb-1eb75cf94a4a"
      },
      "execution_count": 37,
      "outputs": [
        {
          "output_type": "stream",
          "name": "stdout",
          "text": [
            "['protego!!!', 'accio!!!', 'expecto patronum!!!', 'legilimens!!!']\n"
          ]
        }
      ]
    },
    {
      "cell_type": "markdown",
      "source": [
        "### **`Filter()` and lambda functions**\n",
        "\n",
        "```python\n",
        "filter(function, iterable)\n",
        "\n",
        "```\n"
      ],
      "metadata": {
        "id": "eF7WD2Wd829X"
      }
    },
    {
      "cell_type": "code",
      "source": [
        "def is_even(x):\n",
        "    return x % 2 == 0\n",
        "\n",
        "numbers = [1, 2, 3, 4, 5, 6, 7, 8, 9, 10]\n",
        "even_numbers = filter(is_even, numbers)\n",
        "result = list(even_numbers)\n",
        "print(result) "
      ],
      "metadata": {
        "id": "8wg_dJEt9HDP",
        "colab": {
          "base_uri": "https://localhost:8080/"
        },
        "outputId": "eede6327-44f0-4c40-b17a-6f6619e8487a"
      },
      "execution_count": 38,
      "outputs": [
        {
          "output_type": "stream",
          "name": "stdout",
          "text": [
            "[2, 4, 6, 8, 10]\n"
          ]
        }
      ]
    },
    {
      "cell_type": "code",
      "source": [
        "numbers = [1, 2, 3, 4, 5, 6, 7, 8, 9, 10]\n",
        "even_numbers = filter(lambda x: x % 2 == 0, numbers)\n",
        "result = list(even_numbers)\n",
        "print(result)  "
      ],
      "metadata": {
        "colab": {
          "base_uri": "https://localhost:8080/"
        },
        "id": "LOSHbtMJqqTy",
        "outputId": "42c40bed-9213-4f45-8a91-bc158902fbaa"
      },
      "execution_count": 39,
      "outputs": [
        {
          "output_type": "stream",
          "name": "stdout",
          "text": [
            "[2, 4, 6, 8, 10]\n"
          ]
        }
      ]
    },
    {
      "cell_type": "code",
      "source": [
        "# Create a list of strings: fellowship\n",
        "fellowship = ['frodo', 'samwise', 'merry', 'pippin', 'aragorn', 'boromir', 'legolas', 'gimli', 'gandalf']\n",
        "\n",
        "# Use filter() to apply a lambda function over fellowship: result\n",
        "result = filter(lambda member: len(member) > 6, fellowship)\n",
        "\n",
        "# Convert result to a list: result_list\n",
        "result_list = list(result)\n",
        "\n",
        "# Print result_list\n",
        "print(result_list)"
      ],
      "metadata": {
        "colab": {
          "base_uri": "https://localhost:8080/"
        },
        "id": "X_IhF4Mfu1Rk",
        "outputId": "4e13b95b-dc25-473f-9db0-56facf8e581e"
      },
      "execution_count": 40,
      "outputs": [
        {
          "output_type": "stream",
          "name": "stdout",
          "text": [
            "['samwise', 'aragorn', 'boromir', 'legolas', 'gandalf']\n"
          ]
        }
      ]
    },
    {
      "cell_type": "markdown",
      "source": [
        "### **`Reduce()` and lambda functions**\n",
        "\n",
        "```python\n",
        "from functools import reduce\n",
        "reduce(function, iterable, initializer)\n",
        "```\n"
      ],
      "metadata": {
        "id": "S6prh4Jt84k4"
      }
    },
    {
      "cell_type": "code",
      "source": [
        "from functools import reduce\n",
        "\n",
        "def multiply(x, y):\n",
        "    return x * y\n",
        "\n",
        "numbers = [1, 2, 3, 4, 5]\n",
        "product = reduce(multiply, numbers)\n",
        "print(product) "
      ],
      "metadata": {
        "id": "UtWyXk-A9Hn4",
        "colab": {
          "base_uri": "https://localhost:8080/"
        },
        "outputId": "222efbea-929e-45ab-cc67-f8d33f5ce793"
      },
      "execution_count": 41,
      "outputs": [
        {
          "output_type": "stream",
          "name": "stdout",
          "text": [
            "120\n"
          ]
        }
      ]
    },
    {
      "cell_type": "code",
      "source": [
        "from functools import reduce\n",
        "\n",
        "numbers = [1, 2, 3, 4, 5]\n",
        "product = reduce((lambda x, y: x * y), numbers)\n",
        "print(product)  \n"
      ],
      "metadata": {
        "colab": {
          "base_uri": "https://localhost:8080/"
        },
        "id": "DPub709lrS04",
        "outputId": "0ffa5d3c-e2a5-4aba-d0c1-99de2c821c91"
      },
      "execution_count": 42,
      "outputs": [
        {
          "output_type": "stream",
          "name": "stdout",
          "text": [
            "120\n"
          ]
        }
      ]
    },
    {
      "cell_type": "code",
      "source": [
        "# Import reduce from functools\n",
        "from functools import reduce\n",
        "\n",
        "# Create a list of strings: stark\n",
        "fruits = ['apple', 'banana', 'cherry', 'date', 'elderberry']\n",
        "\n",
        "# Use reduce() to apply a lambda function over stark: result\n",
        "result = reduce((lambda item1, item2: item1 + item2), fruits)\n",
        "\n",
        "# Print the result\n",
        "print(result)\n"
      ],
      "metadata": {
        "colab": {
          "base_uri": "https://localhost:8080/"
        },
        "id": "vKR_eejovDyT",
        "outputId": "15ec0d70-e360-47a4-bcb4-3fc9ffdd2df0"
      },
      "execution_count": 43,
      "outputs": [
        {
          "output_type": "stream",
          "name": "stdout",
          "text": [
            "applebananacherrydateelderberry\n"
          ]
        }
      ]
    },
    {
      "cell_type": "markdown",
      "source": [
        "### **Errors**\n"
      ],
      "metadata": {
        "id": "fZT_SoSs86fI"
      }
    },
    {
      "cell_type": "code",
      "source": [
        "a = len('There is a beast in every man and it stirs when you put a sword in his hand.')\n",
        "b = len(['robb', 'sansa', 'arya', 'eddard', 'jon'])\n",
        "c = len(('jaime', 'cersei', 'tywin', 'tyrion', 'joffrey'))\n",
        "\n",
        "# len(525600) # TypeError: object of type 'int' has no len()\n",
        "\n",
        "print(a, b, c)"
      ],
      "metadata": {
        "id": "Q8miNX0W9I5f",
        "colab": {
          "base_uri": "https://localhost:8080/"
        },
        "outputId": "7eab2445-7711-4fc4-afbc-dd7c151606f0"
      },
      "execution_count": 44,
      "outputs": [
        {
          "output_type": "stream",
          "name": "stdout",
          "text": [
            "76 5 5\n"
          ]
        }
      ]
    },
    {
      "cell_type": "markdown",
      "source": [
        "### **Error handling with try-except**\n"
      ],
      "metadata": {
        "id": "R3iPUf73878w"
      }
    },
    {
      "cell_type": "code",
      "source": [
        "# Define shout_echo\n",
        "def shout_echo(word1, echo=1):\n",
        "    \"\"\"Concatenate echo copies of word1 and three\n",
        "    exclamation marks at the end of the string.\"\"\"\n",
        "\n",
        "    # Initialize empty strings: echo_word, shout_words\n",
        "    echo_word = \"\"\n",
        "    shout_words = \"\"\n",
        "\n",
        "    # Add exception handling with try-except\n",
        "    try:\n",
        "        # Concatenate echo copies of word1 using *: echo_word\n",
        "        echo_word = word1 * echo\n",
        "\n",
        "        # Concatenate '!!!' to echo_word: shout_words\n",
        "        shout_words = echo_word + '!!!'\n",
        "    except:\n",
        "        # Print error message\n",
        "        print(\"word1 must be a string and echo must be an integer.\")\n",
        "\n",
        "    # Return shout_words\n",
        "    return shout_words\n",
        "\n",
        "# Call shout_echo\n",
        "shout_echo(\"particle\", echo=\"accelerator\")"
      ],
      "metadata": {
        "id": "yPy9zluc9KgR",
        "colab": {
          "base_uri": "https://localhost:8080/",
          "height": 53
        },
        "outputId": "59f6fed9-53c3-4b27-cec7-ef9c4cb4a6db"
      },
      "execution_count": 45,
      "outputs": [
        {
          "output_type": "stream",
          "name": "stdout",
          "text": [
            "word1 must be a string and echo must be an integer.\n"
          ]
        },
        {
          "output_type": "execute_result",
          "data": {
            "text/plain": [
              "''"
            ],
            "application/vnd.google.colaboratory.intrinsic+json": {
              "type": "string"
            }
          },
          "metadata": {},
          "execution_count": 45
        }
      ]
    },
    {
      "cell_type": "markdown",
      "source": [
        "### **Error handling by raising an error**\n"
      ],
      "metadata": {
        "id": "SNGa53Gh890C"
      }
    },
    {
      "cell_type": "code",
      "source": [
        "def shout_echo(word1, echo=1):\n",
        "    \"\"\"Concatenate echo copies of word1 and three\n",
        "    exclamation marks at the end of the string.\"\"\"\n",
        "\n",
        "    # Raise an error with raise\n",
        "    if echo <= 0:\n",
        "        raise ValueError('echo must be greater than or equal to 0')\n",
        "\n",
        "    # Concatenate echo copies of word1 using *: echo_word\n",
        "    echo_word = word1 * echo\n",
        "\n",
        "    # Concatenate '!!!' to echo_word: shout_word\n",
        "    shout_word = echo_word + '!!!'\n",
        "\n",
        "    # Return shout_word\n",
        "    return shout_word\n",
        "\n",
        "# Call shout_echo\n",
        "shout_echo(\"particle\", echo=2)"
      ],
      "metadata": {
        "id": "lZVOlll79LBP",
        "colab": {
          "base_uri": "https://localhost:8080/",
          "height": 35
        },
        "outputId": "53ec0c7b-edc4-496c-d056-9d3a8f93e8d3"
      },
      "execution_count": 46,
      "outputs": [
        {
          "output_type": "execute_result",
          "data": {
            "text/plain": [
              "'particleparticle!!!'"
            ],
            "application/vnd.google.colaboratory.intrinsic+json": {
              "type": "string"
            }
          },
          "metadata": {},
          "execution_count": 46
        }
      ]
    },
    {
      "cell_type": "markdown",
      "source": [
        "### **Bringing it all together (1)**\n"
      ],
      "metadata": {
        "id": "o2PHVgHt8_Pv"
      }
    },
    {
      "cell_type": "code",
      "source": [
        "# Select retweets from the Twitter DataFrame: result\n",
        "result = filter(lambda x: x[0:2] == 'RT', tweets_df['text'])\n",
        "\n",
        "# Create list from filter object result: res_list\n",
        "res_list = list(result)\n",
        "\n",
        "# Print all retweets in res_list\n",
        "for tweet in res_list:\n",
        "    print(tweet)"
      ],
      "metadata": {
        "id": "MOUDjx9L9LmH",
        "colab": {
          "base_uri": "https://localhost:8080/"
        },
        "outputId": "c6e2986c-a901-418b-abed-77750267099d"
      },
      "execution_count": 47,
      "outputs": [
        {
          "output_type": "stream",
          "name": "stdout",
          "text": [
            "RT @bpolitics: .@krollbondrating's Christopher Whalen says Clinton is the weakest Dem candidate in 50 years https://t.co/pLk7rvoRSn https:/…\n",
            "RT @HeidiAlpine: @dmartosko Cruz video found.....racing from the scene.... #cruzsexscandal https://t.co/zuAPZfQDk3\n",
            "RT @AlanLohner: The anti-American D.C. elites despise Trump for his America-first foreign policy. Trump threatens their gravy train. https:…\n",
            "RT @BIackPplTweets: Young Donald trump meets his neighbor  https://t.co/RFlu17Z1eE\n",
            "RT @trumpresearch: @WaitingInBagdad @thehill Trump supporters have selective amnisia.\n",
            "RT @HouseCracka: 29,000+ PEOPLE WATCHING TRUMP LIVE ON ONE STREAM!!!\n",
            "\n",
            "https://t.co/7QCFz9ehNe\n",
            "RT @urfavandtrump: RT for Brendon Urie\n",
            "Fav for Donald Trump https://t.co/PZ5vS94lOg\n",
            "RT @trapgrampa: This is how I see #Trump every time he speaks. https://t.co/fYSiHNS0nT\n",
            "RT @trumpresearch: @WaitingInBagdad @thehill Trump supporters have selective amnisia.\n",
            "RT @Pjw20161951: NO KIDDING: #SleazyDonald just attacked Scott Walker for NOT RAISING TAXES in WI! #LyinTrump\n",
            "#NeverTrump  #CruzCrew  https…\n",
            "RT @urfavandtrump: RT for Brendon Urie\n",
            "Fav for Donald Trump https://t.co/PZ5vS94lOg\n",
            "RT @ggreenwald: The media spent all day claiming @SusanSarandon said she might vote for Trump. A total fabrication, but whatever... https:/…\n",
            "RT @Pjw20161951: NO KIDDING: #SleazyDonald just attacked Scott Walker for NOT RAISING TAXES in WI! #LyinTrump\n",
            "#NeverTrump  #CruzCrew  https…\n",
            "RT @trapgrampa: This is how I see #Trump every time he speaks. https://t.co/fYSiHNS0nT\n",
            "RT @mitchellvii: So let me get this straight.  Any reporter can assault Mr Trump at any time and Corey can do nothing?  Michelle is clearly…\n",
            "RT @paulbenedict7: How #Trump Sacks RINO Strongholds by Hitting Positions Held by Dems and GOP https://t.co/D7ulnAJhis   #tcot #PJNET https…\n",
            "RT @DRUDGE_REPORT: VIDEO:  Trump emotional moment with Former Miss Wisconsin who has terminal illness... https://t.co/qt06aG9inT\n",
            "RT @ggreenwald: The media spent all day claiming @SusanSarandon said she might vote for Trump. A total fabrication, but whatever... https:/…\n",
            "RT @DennisApgar: Thank God I seen Trump at first stop in Wisconsin media doesn't know how great he is, advice watch live streaming https://…\n",
            "RT @paulbenedict7: How #Trump Sacks RINO Strongholds by Hitting Positions Held by Dems and GOP https://t.co/D7ulnAJhis   #tcot #PJNET https…\n",
            "RT @DRUDGE_REPORT: VIDEO:  Trump emotional moment with Former Miss Wisconsin who has terminal illness... https://t.co/qt06aG9inT\n",
            "RT @DennisApgar: Thank God I seen Trump at first stop in Wisconsin media doesn't know how great he is, advice watch live streaming https://…\n",
            "RT @mitchellvii: So let me get this straight.  Any reporter can assault Mr Trump at any time and Corey can do nothing?  Michelle is clearly…\n",
            "RT @sciam: Trump's idiosyncratic patterns of speech are why people tend either to love or hate him https://t.co/QXwquVgs3c https://t.co/P9N…\n",
            "RT @Norsu2: Nightmare WI poll for Ted Cruz has Kasich surging: Trump 29, Kasich 27, Cruz 25. https://t.co/lJsgbLYY1P #NeverTrump\n",
            "RT @thehill: WATCH: Protester pepper-sprayed point blank at Trump rally https://t.co/B5f65Al9ld https://t.co/skAfByXuQc\n",
            "RT @sciam: Trump's idiosyncratic patterns of speech are why people tend either to love or hate him https://t.co/QXwquVgs3c https://t.co/P9N…\n",
            "RT @ggreenwald: The media spent all day claiming @SusanSarandon said she might vote for Trump. A total fabrication, but whatever... https:/…\n",
            "RT @DebbieStout5: Wow! Last I checked it was just 12 points &amp; that wasn't more than a day ago. Oh boy Trump ppl might want to rethink🤔 http…\n",
            "RT @tyleroakley: i'm a messy bitch, but at least i'm not voting for trump\n",
            "RT @vandives: Trump supporters r tired of justice NOT being served. There's no justice anymore. Hardworking Americans get screwed. That's n…\n",
            "RT @AP: BREAKING: Trump vows to stand by campaign manager charged with battery, says he does not discard people.\n",
            "RT @AP: BREAKING: Trump vows to stand by campaign manager charged with battery, says he does not discard people.\n",
            "RT @urfavandtrump: RT for Jerrie (Little Mix)\n",
            "Fav for Donald Trump https://t.co/nEVxElW6iG\n",
            "RT @urfavandtrump: RT for Jerrie (Little Mix)\n",
            "Fav for Donald Trump https://t.co/nEVxElW6iG\n",
            "RT @NoahCRothman: When Walker was fighting for reforms, Trump was defending unions and collective bargaining privileges https://t.co/e1UWNN…\n",
            "RT @RedheadAndRight: Report: Secret Service Says Michelle Fields Touched Trump https://t.co/c5c2sD8VO2\n",
            "\n",
            "This is the only article you will n…\n",
            "RT @AIIAmericanGirI: VIDEO=&gt; Anti-Trump Protester SLUGS Elderly Trump Supporter in the Face\n",
            "https://t.co/GeEryMDuDY\n",
            "RT @NoahCRothman: When Walker was fighting for reforms, Trump was defending unions and collective bargaining privileges https://t.co/e1UWNN…\n",
            "RT @JusticeRanger1: @realDonaldTrump @Pudingtane @DanScavino @GOP @infowars @EricTrump \n",
            "URGENT PUBLIC TRUMP ALERT:\n",
            "COVERT KILL MEANS https:…\n",
            "RT @AIIAmericanGirI: VIDEO=&gt; Anti-Trump Protester SLUGS Elderly Trump Supporter in the Face\n",
            "https://t.co/GeEryMDuDY\n",
            "RT @RedheadAndRight: Report: Secret Service Says Michelle Fields Touched Trump https://t.co/c5c2sD8VO2\n",
            "\n",
            "This is the only article you will n…\n",
            "RT @JusticeRanger1: @realDonaldTrump @Pudingtane @DanScavino @GOP @infowars @EricTrump \n",
            "URGENT PUBLIC TRUMP ALERT:\n",
            "COVERT KILL MEANS https:…\n",
            "RT @Schneider_CM: Trump says nobody had ever heard of executive orders before Obama started signing them. Never heard of the Emancipation P…\n",
            "RT @RonBasler1: @DavidWhitDennis @realDonaldTrump @tedcruz \n",
            "\n",
            "CRUZ SCREWS HOOKERS\n",
            "\n",
            "CRUZ / CLINTON\n",
            "RT @DonaldsAngel: Former Ms. WI just said that she is terminally ill but because of Trump pageant, her 7 yr. old son has his college educat…\n",
            "RT @Schneider_CM: Trump says nobody had ever heard of executive orders before Obama started signing them. Never heard of the Emancipation P…\n",
            "RT @DonaldsAngel: Former Ms. WI just said that she is terminally ill but because of Trump pageant, her 7 yr. old son has his college educat…\n",
            "RT @Dodarey: @DR8801 @SykesCharlie Charlie, let's see you get a straight \"yes\" or \"no\" answer from Cruz a/b being unfaithful to his wife @T…\n",
            "RT @RonBasler1: @DavidWhitDennis @realDonaldTrump @tedcruz \n",
            "\n",
            "CRUZ SCREWS HOOKERS\n",
            "\n",
            "CRUZ / CLINTON\n",
            "RT @RockCliffOne: Remember when the idea of a diabolical moron holding the world hostage was an idea for a funny movie? #Trump #GOP https:/…\n",
            "RT @HillaryClinton: \"Every day, another Republican bemoans the rise of Donald Trump... but [he] didn’t come out of nowhere.\" —Hillary\n",
            "https…\n",
            "RT @Dodarey: @DR8801 @SykesCharlie Charlie, let's see you get a straight \"yes\" or \"no\" answer from Cruz a/b being unfaithful to his wife @T…\n",
            "RT @HillaryClinton: \"Every day, another Republican bemoans the rise of Donald Trump... but [he] didn’t come out of nowhere.\" —Hillary\n",
            "https…\n",
            "RT @RockCliffOne: Remember when the idea of a diabolical moron holding the world hostage was an idea for a funny movie? #Trump #GOP https:/…\n",
            "RT @immigrant4trump: @immigrant4trump msm, cable news attacking trump all day, from 8am to 10pm today, then the reruns come on, repeating t…\n",
            "RT @immigrant4trump: @immigrant4trump msm, cable news attacking trump all day, from 8am to 10pm today, then the reruns come on, repeating t…\n",
            "RT @GlendaJazzey: Donald Trump’s Campaign Financing Dodge, @rrotunda https://t.co/L8flI4lswG via @VerdictJustia\n",
            "RT @TUSK81: LOUDER FOR THE PEOPLE IN THE BACK https://t.co/hlPVyNLXzx\n",
            "RT @loopzoop: Well...put it back https://t.co/8Yb7BDT5VM\n",
            "RT @claytoncubitt: Stop asking Bernie supporters if they’ll vote for Hillary against Trump. We got a plan to beat Trump already. Called Ber…\n",
            "RT @akaMaude13: Seriously can't make this up. What a joke. #NeverTrump  https://t.co/JkTx6mdRgC\n"
          ]
        }
      ]
    },
    {
      "cell_type": "markdown",
      "source": [
        "### **Bringing it all together (2)**\n"
      ],
      "metadata": {
        "id": "3oVwFKhE9Aqn"
      }
    },
    {
      "cell_type": "code",
      "source": [
        "# Define count_entries()\n",
        "def count_entries(df, col_name='lang'):\n",
        "\n",
        "    cols_count = {}\n",
        "\n",
        "    try:\n",
        "        col = df[col_name]\n",
        "        \n",
        "        for entry in col:\n",
        "            if entry in cols_count.keys():\n",
        "                cols_count[entry] += 1\n",
        "            else:\n",
        "                cols_count[entry] = 1\n",
        "        return cols_count\n",
        "\n",
        "    except:\n",
        "        print('The DataFrame does not have a ' + col_name + ' column.')\n",
        "\n",
        "result1 = count_entries(tweets_df, 'lang')\n",
        "\n",
        "print(result1)\n",
        "\n",
        "result2 = count_entries(tweets_df, 'lang1')"
      ],
      "metadata": {
        "colab": {
          "base_uri": "https://localhost:8080/"
        },
        "id": "3D3c1v5GFkhD",
        "outputId": "1c3bb39e-b997-43fd-e4a7-e7071e8793e3"
      },
      "execution_count": 48,
      "outputs": [
        {
          "output_type": "stream",
          "name": "stdout",
          "text": [
            "{'en': 97, 'et': 1, 'und': 2}\n",
            "The DataFrame does not have a lang1 column.\n"
          ]
        }
      ]
    },
    {
      "cell_type": "code",
      "source": [
        "# Define count_entries()\n",
        "def count_entries(df, col_name='lang'):\n",
        "    \n",
        "    if col_name not in df.columns:\n",
        "        raise ValueError('The DataFrame does not have a ' + col_name + ' column.')\n",
        "\n",
        "    cols_count = {}\n",
        "    col = df[col_name]\n",
        "    \n",
        "    for entry in col:\n",
        "        if entry in cols_count.keys():\n",
        "            cols_count[entry] += 1\n",
        "        else:\n",
        "            cols_count[entry] = 1\n",
        "    return cols_count\n",
        "\n",
        "result1 = count_entries(tweets_df, 'lang')\n",
        "print(result1)"
      ],
      "metadata": {
        "colab": {
          "base_uri": "https://localhost:8080/"
        },
        "id": "FNCq8rN1F-WB",
        "outputId": "655ee9d5-4c23-4e78-b196-aa2d878ed08c"
      },
      "execution_count": 49,
      "outputs": [
        {
          "output_type": "stream",
          "name": "stdout",
          "text": [
            "{'en': 97, 'et': 1, 'und': 2}\n"
          ]
        }
      ]
    },
    {
      "cell_type": "markdown",
      "source": [
        "### **Bringing it all together (3)**\n"
      ],
      "metadata": {
        "id": "IpAs-rhS9CEX"
      }
    },
    {
      "cell_type": "code",
      "source": [
        "def count_entries(df, col_name='lang'):\n",
        "\n",
        "    if col_name not in df.columns:\n",
        "        raise ValueError('The DataFrame does not have a ' + col_name + ' column.')\n",
        "\n",
        "    cols_count = {}\n",
        "    col = df[col_name]\n",
        "\n",
        "    for entry in col:\n",
        "        if entry in cols_count.keys():\n",
        "            cols_count[entry] += 1\n",
        "        else:\n",
        "            cols_count[entry] = 1\n",
        "    return cols_count\n",
        "\n",
        "result1 = count_entries(tweets_df, 'lang')\n",
        "print(result1)"
      ],
      "metadata": {
        "id": "sb-V7oDr9Mg4",
        "colab": {
          "base_uri": "https://localhost:8080/"
        },
        "outputId": "1fa1598a-bf6d-43a6-9bf2-32e4a13eeaf6"
      },
      "execution_count": 50,
      "outputs": [
        {
          "output_type": "stream",
          "name": "stdout",
          "text": [
            "{'en': 97, 'et': 1, 'und': 2}\n"
          ]
        }
      ]
    },
    {
      "cell_type": "markdown",
      "source": [
        "#### $\\color{skyblue}{\\textbf{Connect with me:}}$\n",
        "\n",
        "\n",
        "[<img align=\"left\" src=\"https://cdn4.iconfinder.com/data/icons/social-media-icons-the-circle-set/48/twitter_circle-512.png\" width=\"32px\"/>][twitter]\n",
        "[<img align=\"left\" src=\"https://cdn-icons-png.flaticon.com/512/145/145807.png\" width=\"32px\"/>][linkedin]\n",
        "[<img align=\"left\" src=\"https://cdn2.iconfinder.com/data/icons/whcompare-blue-green-web-hosting-1/425/cdn-512.png\" width=\"32px\"/>][Portfolio]\n",
        "\n",
        "[twitter]: https://twitter.com/F4izy\n",
        "[linkedin]: https://www.linkedin.com/in/mohd-faizy/\n",
        "[Portfolio]: https://mohdfaizy.com/"
      ],
      "metadata": {
        "id": "geP-ianM6All"
      }
    }
  ]
}