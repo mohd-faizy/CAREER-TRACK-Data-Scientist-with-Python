{
  "nbformat": 4,
  "nbformat_minor": 0,
  "metadata": {
    "colab": {
      "provenance": []
    },
    "kernelspec": {
      "name": "python3",
      "display_name": "Python 3"
    },
    "language_info": {
      "name": "python"
    }
  },
  "cells": [
    {
      "cell_type": "markdown",
      "source": [
        "# <center>**Working with Dates and Times in Python⌚**</center>"
      ],
      "metadata": {
        "id": "SWtZYSlC45Ky"
      }
    },
    {
      "cell_type": "code",
      "source": [
        "!git clone https://github.com/mohd-faizy/CAREER-TRACK-Data-Scientist-with-Python.git -q"
      ],
      "metadata": {
        "id": "cdtw0oXZCQPr"
      },
      "execution_count": 1,
      "outputs": []
    },
    {
      "cell_type": "code",
      "source": [
        "import pandas as pd\n",
        "import numpy as np\n",
        "import seaborn as sns\n",
        "import matplotlib.pyplot as plt"
      ],
      "metadata": {
        "id": "3HE0AQkGDpPT"
      },
      "execution_count": 2,
      "outputs": []
    },
    {
      "cell_type": "code",
      "source": [
        "url_onebike = \"/content/CAREER-TRACK-Data-Scientist-with-Python/18_Working with Dates and Times in Python/_dataset/capital-onebike.csv\"\n",
        "url_hurricane = \"/content/CAREER-TRACK-Data-Scientist-with-Python/18_Working with Dates and Times in Python/_dataset/florida_hurricane_dates.pkl\""
      ],
      "metadata": {
        "id": "SRDSXBUhWytM"
      },
      "execution_count": 3,
      "outputs": []
    },
    {
      "cell_type": "markdown",
      "source": [
        "# **1️⃣Dates and Calendars**"
      ],
      "metadata": {
        "id": "rxK0-KhAgEo9"
      }
    },
    {
      "cell_type": "markdown",
      "metadata": {
        "id": "E_hj4plcSn5u"
      },
      "source": [
        "## **Dates in Python**"
      ]
    },
    {
      "cell_type": "markdown",
      "metadata": {
        "id": "JfY8u3meSn5y"
      },
      "source": [
        "### Which day of the week?"
      ]
    },
    {
      "cell_type": "code",
      "execution_count": 4,
      "metadata": {
        "id": "Wqs7Ap6qSn5z",
        "outputId": "5de4b162-2284-4c75-df42-d5854d661afc",
        "colab": {
          "base_uri": "https://localhost:8080/"
        }
      },
      "outputs": [
        {
          "output_type": "stream",
          "name": "stdout",
          "text": [
            "0\n"
          ]
        }
      ],
      "source": [
        "# Import date from datetime\n",
        "from datetime import date\n",
        "\n",
        "# Create a date object\n",
        "hurricane_andrew = date(1992, 8, 24)\n",
        "\n",
        "# Which day of the week is the date\n",
        "print(hurricane_andrew.weekday())"
      ]
    },
    {
      "cell_type": "markdown",
      "source": [
        "It depends where you are from! In the **United States**, **Canada**, and **Japan**, Sunday is often considered the first day of the week. Everywhere else, it usually begins on Monday."
      ],
      "metadata": {
        "id": "k-kE0mTWmJK9"
      }
    },
    {
      "cell_type": "markdown",
      "metadata": {
        "id": "qsr4bheiSn51"
      },
      "source": [
        "### How many hurricanes come early?"
      ]
    },
    {
      "cell_type": "code",
      "execution_count": 5,
      "metadata": {
        "id": "TkPt3IQeSn52"
      },
      "outputs": [],
      "source": [
        "import pandas as pd\n",
        "\n",
        "florida_hurricane_dates = pd.read_pickle(url_hurricane)"
      ]
    },
    {
      "cell_type": "code",
      "execution_count": 6,
      "metadata": {
        "id": "4Cv_URLdSn52",
        "outputId": "6bddbaeb-f41a-4e32-99db-fbe840eb6a30",
        "colab": {
          "base_uri": "https://localhost:8080/"
        }
      },
      "outputs": [
        {
          "output_type": "stream",
          "name": "stdout",
          "text": [
            "10\n"
          ]
        }
      ],
      "source": [
        "# Counter for how many before June 1\n",
        "early_hurricanes = 0\n",
        "\n",
        "# We loop over the dates\n",
        "for hurricane in florida_hurricane_dates:\n",
        "    # Check if the month is before June (month number 6)\n",
        "    if hurricane.month < 6:\n",
        "        early_hurricanes = early_hurricanes + 1\n",
        "\n",
        "print(early_hurricanes)"
      ]
    },
    {
      "cell_type": "markdown",
      "metadata": {
        "id": "OxcZlzY1Sn53"
      },
      "source": [
        "## **Math with dates**"
      ]
    },
    {
      "cell_type": "markdown",
      "metadata": {
        "id": "TLBPAt29Sn53"
      },
      "source": [
        "### Subtracting dates"
      ]
    },
    {
      "cell_type": "code",
      "execution_count": 7,
      "metadata": {
        "id": "8qRh08onSn54",
        "outputId": "a746d8c2-15ba-4389-d276-b903099eb566",
        "colab": {
          "base_uri": "https://localhost:8080/"
        }
      },
      "outputs": [
        {
          "output_type": "stream",
          "name": "stdout",
          "text": [
            "218\n"
          ]
        }
      ],
      "source": [
        "# Import date\n",
        "from datetime import date\n",
        "\n",
        "# Create a date object for May 9th, 2007\n",
        "start = date(2007, 5, 9)\n",
        "\n",
        "# Create a date object for December 13th, 2007\n",
        "end = date(2007, 12, 13)\n",
        "\n",
        "# Subtract the two dates and print the number of days\n",
        "print((end - start).days)"
      ]
    },
    {
      "cell_type": "markdown",
      "metadata": {
        "id": "1gAMvqy7Sn54"
      },
      "source": [
        "### Counting events per calendar month"
      ]
    },
    {
      "cell_type": "code",
      "execution_count": 8,
      "metadata": {
        "id": "EQHUt5NSSn55",
        "outputId": "f7212b39-cbcd-4e42-b321-e64b9f7dcbde",
        "colab": {
          "base_uri": "https://localhost:8080/"
        }
      },
      "outputs": [
        {
          "output_type": "stream",
          "name": "stdout",
          "text": [
            "{1: 0, 2: 1, 3: 0, 4: 1, 5: 8, 6: 32, 7: 21, 8: 49, 9: 70, 10: 43, 11: 9, 12: 1}\n"
          ]
        }
      ],
      "source": [
        "# A dictionary to count hurricanes per calendar month\n",
        "hurricanes_each_month = {1: 0, 2: 0, 3: 0, 4: 0, 5: 0, 6:0,\n",
        "                         7: 0, 8:0, 9:0, 10:0, 11:0, 12:0}\n",
        "\n",
        "# Loop over all hurricanes\n",
        "for hurricane in florida_hurricane_dates:\n",
        "    # Pull out the month\n",
        "    month = hurricane.month\n",
        "    # Increment the count in your dictionary by one\n",
        "    hurricanes_each_month[month] += 1\n",
        "    \n",
        "print(hurricanes_each_month)"
      ]
    },
    {
      "cell_type": "markdown",
      "metadata": {
        "id": "nqPg8UWtSn55"
      },
      "source": [
        "### Putting a list of dates in order"
      ]
    },
    {
      "cell_type": "code",
      "execution_count": 9,
      "metadata": {
        "id": "wSGas4iOSn55"
      },
      "outputs": [],
      "source": [
        "import random\n",
        "\n",
        "random.seed(0)\n",
        "\n",
        "random.shuffle(florida_hurricane_dates)\n",
        "\n",
        "dates_scrambled = florida_hurricane_dates.copy()"
      ]
    },
    {
      "cell_type": "code",
      "execution_count": 10,
      "metadata": {
        "id": "5UvIDq81Sn56",
        "outputId": "9560eeae-8df8-4f1b-b113-de89ccadc1d7",
        "colab": {
          "base_uri": "https://localhost:8080/"
        }
      },
      "outputs": [
        {
          "output_type": "stream",
          "name": "stdout",
          "text": [
            "1969-10-02\n",
            "1964-10-05\n",
            "1950-08-31\n",
            "2017-10-29\n"
          ]
        }
      ],
      "source": [
        "# Print the first and last scrambled dates\n",
        "print(dates_scrambled[0])\n",
        "print(dates_scrambled[-1])\n",
        "\n",
        "# Put the dates in order\n",
        "dates_ordered = sorted(dates_scrambled)\n",
        "\n",
        "# Print the first and last ordered dates\n",
        "print(dates_ordered[0])\n",
        "print(dates_ordered[-1])"
      ]
    },
    {
      "cell_type": "markdown",
      "metadata": {
        "id": "7gj4Zh3wSn56"
      },
      "source": [
        "## **Turning dates into strings**"
      ]
    },
    {
      "cell_type": "markdown",
      "metadata": {
        "id": "jCyfY1lISn56"
      },
      "source": [
        "### Printing dates in a friendly format"
      ]
    },
    {
      "cell_type": "code",
      "execution_count": 11,
      "metadata": {
        "id": "moWZRtGvSn56",
        "outputId": "5b9414ea-3431-4625-d6b0-bb4bb2d125c7",
        "colab": {
          "base_uri": "https://localhost:8080/"
        }
      },
      "outputs": [
        {
          "output_type": "stream",
          "name": "stdout",
          "text": [
            "ISO: Our earliest hurricane date: 1950-08-31\n",
            "US: Our earliest hurricane date: 08/31/1950\n"
          ]
        }
      ],
      "source": [
        "# Assign the earliest date to first_date\n",
        "first_date = min(florida_hurricane_dates)\n",
        "\n",
        "# Convert to ISO and US formats\n",
        "iso = 'Our earliest hurricane date: ' + first_date.isoformat()\n",
        "us = 'Our earliest hurricane date: ' + first_date.strftime('%m/%d/%Y')\n",
        "\n",
        "print('ISO: '+ iso)\n",
        "print('US: '+ us)"
      ]
    },
    {
      "cell_type": "markdown",
      "metadata": {
        "id": "6SYbyH68Sn57"
      },
      "source": [
        "### Representing dates in different ways"
      ]
    },
    {
      "cell_type": "code",
      "execution_count": 12,
      "metadata": {
        "id": "zqzXOon5Sn57",
        "outputId": "f1f55159-db28-47eb-d846-943e1498f57f",
        "colab": {
          "base_uri": "https://localhost:8080/"
        }
      },
      "outputs": [
        {
          "output_type": "stream",
          "name": "stdout",
          "text": [
            "1992-08\n",
            "August (1992)\n",
            "1992-239\n"
          ]
        }
      ],
      "source": [
        "# Create a date object\n",
        "andrew = date(1992, 8, 26)\n",
        "\n",
        "# Print the date in the format 'YYYY-MM'\n",
        "print(andrew.strftime('%Y-%m'))\n",
        "\n",
        "# Print the date in the format 'MONTH (YYYY)'\n",
        "print(andrew.strftime('%B (%Y)'))\n",
        "\n",
        "# Print the date in the format 'YYYY-DDD'\n",
        "print(andrew.strftime('%Y-%3j'))"
      ]
    },
    {
      "cell_type": "markdown",
      "source": [
        "# **2️⃣Combining Dates and Times**"
      ],
      "metadata": {
        "id": "X5PC24v5S_cQ"
      }
    },
    {
      "cell_type": "markdown",
      "metadata": {
        "id": "xKdIDnr0SnSR"
      },
      "source": [
        "## **Dates and times**\n"
      ]
    },
    {
      "cell_type": "markdown",
      "metadata": {
        "id": "67hq3AkLSnSW"
      },
      "source": [
        "### Creating datetimes by hand"
      ]
    },
    {
      "cell_type": "code",
      "execution_count": 13,
      "metadata": {
        "id": "4Zd2-B7SSnSX",
        "outputId": "36169d6c-f223-40ab-bf6b-9b588846d708",
        "colab": {
          "base_uri": "https://localhost:8080/"
        }
      },
      "outputs": [
        {
          "output_type": "stream",
          "name": "stdout",
          "text": [
            "2017-10-01T15:26:26\n"
          ]
        }
      ],
      "source": [
        "# Import datetime\n",
        "from datetime import datetime\n",
        "\n",
        "# Create a datetime object\n",
        "dt = datetime(2017, 10, 1, 15, 26, 26)\n",
        "\n",
        "# Print the results in ISO 8601 format\n",
        "print(dt.isoformat())"
      ]
    },
    {
      "cell_type": "code",
      "execution_count": 14,
      "metadata": {
        "id": "nfq3_92BSnSa",
        "outputId": "d9c25d0a-bfa2-476a-bd77-f47aa16cd77c",
        "colab": {
          "base_uri": "https://localhost:8080/"
        }
      },
      "outputs": [
        {
          "output_type": "stream",
          "name": "stdout",
          "text": [
            "1917-10-01 15:26:26\n"
          ]
        }
      ],
      "source": [
        "# Replace the year with 1917\n",
        "dt_old = dt.replace(year=1917)\n",
        "\n",
        "# Print the results in ISO 8601 format\n",
        "print(dt_old)"
      ]
    },
    {
      "cell_type": "markdown",
      "metadata": {
        "id": "r96E8LQPSnSa"
      },
      "source": [
        "### Counting events before and after noon\n"
      ]
    },
    {
      "cell_type": "code",
      "execution_count": 15,
      "metadata": {
        "id": "LT2HUqhgSnSb"
      },
      "outputs": [],
      "source": [
        "import pandas as pd\n",
        "\n",
        "df = pd.read_csv(url_onebike, header=0)\n",
        "df['Start date'] = pd.to_datetime(df['Start date'])\n",
        "df['End date'] = pd.to_datetime(df['End date'])\n",
        "\n",
        "onebike_datetimes = []\n",
        "\n",
        "for index, row in df.iterrows():\n",
        "    onebike_datetimes.append({'start':row['Start date'], 'end':row['End date']})"
      ]
    },
    {
      "cell_type": "code",
      "execution_count": 16,
      "metadata": {
        "id": "_fnVKClQSnSb",
        "outputId": "2503089b-c538-4b66-9774-a429e2274cf0",
        "colab": {
          "base_uri": "https://localhost:8080/"
        }
      },
      "outputs": [
        {
          "output_type": "stream",
          "name": "stdout",
          "text": [
            "{'AM': 94, 'PM': 196}\n"
          ]
        }
      ],
      "source": [
        "# Create dictionary to hold results\n",
        "trip_counts = {'AM': 0, 'PM': 0}\n",
        "\n",
        "# Loop over all trips\n",
        "for trip in onebike_datetimes:\n",
        "    if trip['start'].hour < 12:\n",
        "        # Increment the counter for before noon\n",
        "        trip_counts['AM'] += 1\n",
        "    else:\n",
        "        # Increment the counter for after noon\n",
        "        trip_counts['PM'] += 1\n",
        "        \n",
        "print(trip_counts)"
      ]
    },
    {
      "cell_type": "markdown",
      "metadata": {
        "id": "6Yy2EaScSnSc"
      },
      "source": [
        "## **Printing and parsing datetimes**\n"
      ]
    },
    {
      "cell_type": "markdown",
      "metadata": {
        "id": "6YlBbwkpSnSd"
      },
      "source": [
        "### Turning strings into datetimes"
      ]
    },
    {
      "cell_type": "code",
      "execution_count": 17,
      "metadata": {
        "id": "lMAbxdjZSnSe",
        "outputId": "662e2d5d-c293-4f6c-c853-17af4851263a",
        "colab": {
          "base_uri": "https://localhost:8080/"
        }
      },
      "outputs": [
        {
          "output_type": "stream",
          "name": "stdout",
          "text": [
            "2017-02-03 00:00:01\n"
          ]
        }
      ],
      "source": [
        "# Starting string, in YYYY-MM-DD HH:MM:SS format\n",
        "s = '2017-02-03 00:00:01'\n",
        "\n",
        "# Write a format string to parse s\n",
        "fmt = '%Y-%m-%d %H:%M:%S'\n",
        "\n",
        "# Create a datetime object d\n",
        "d = datetime.strptime(s, fmt)\n",
        "\n",
        "# Print d\n",
        "print(d)"
      ]
    },
    {
      "cell_type": "markdown",
      "metadata": {
        "id": "MBFYHKSoSnSf"
      },
      "source": [
        "### Parsing pairs of strings as datetimes\n"
      ]
    },
    {
      "cell_type": "code",
      "execution_count": 18,
      "metadata": {
        "id": "X8U8LubWSnSf",
        "outputId": "8f44575d-f2c6-478a-8258-d9707d7a6c46",
        "colab": {
          "base_uri": "https://localhost:8080/",
          "height": 206
        }
      },
      "outputs": [
        {
          "output_type": "execute_result",
          "data": {
            "text/plain": [
              "            Start date             End date  Start station number  \\\n",
              "0  2017-10-01 15:23:25  2017-10-01 15:26:26                 31038   \n",
              "1  2017-10-01 15:42:57  2017-10-01 17:49:59                 31036   \n",
              "2  2017-10-02 06:37:10  2017-10-02 06:42:53                 31036   \n",
              "3  2017-10-02 08:56:45  2017-10-02 09:18:03                 31037   \n",
              "4  2017-10-02 18:23:48  2017-10-02 18:45:05                 31295   \n",
              "\n",
              "                          Start station  End station number  \\\n",
              "0                  Glebe Rd & 11th St N               31036   \n",
              "1         George Mason Dr & Wilson Blvd               31036   \n",
              "2         George Mason Dr & Wilson Blvd               31037   \n",
              "3  Ballston Metro / N Stuart & 9th St N               31295   \n",
              "4                     Potomac & M St NW               31230   \n",
              "\n",
              "                            End station Bike number Member type  \n",
              "0         George Mason Dr & Wilson Blvd      W20529      Member  \n",
              "1         George Mason Dr & Wilson Blvd      W20529      Casual  \n",
              "2  Ballston Metro / N Stuart & 9th St N      W20529      Member  \n",
              "3                     Potomac & M St NW      W20529      Member  \n",
              "4         Metro Center / 12th & G St NW      W20529      Member  "
            ],
            "text/html": [
              "\n",
              "  <div id=\"df-c5c26595-9146-499d-b792-1161187d1b7a\">\n",
              "    <div class=\"colab-df-container\">\n",
              "      <div>\n",
              "<style scoped>\n",
              "    .dataframe tbody tr th:only-of-type {\n",
              "        vertical-align: middle;\n",
              "    }\n",
              "\n",
              "    .dataframe tbody tr th {\n",
              "        vertical-align: top;\n",
              "    }\n",
              "\n",
              "    .dataframe thead th {\n",
              "        text-align: right;\n",
              "    }\n",
              "</style>\n",
              "<table border=\"1\" class=\"dataframe\">\n",
              "  <thead>\n",
              "    <tr style=\"text-align: right;\">\n",
              "      <th></th>\n",
              "      <th>Start date</th>\n",
              "      <th>End date</th>\n",
              "      <th>Start station number</th>\n",
              "      <th>Start station</th>\n",
              "      <th>End station number</th>\n",
              "      <th>End station</th>\n",
              "      <th>Bike number</th>\n",
              "      <th>Member type</th>\n",
              "    </tr>\n",
              "  </thead>\n",
              "  <tbody>\n",
              "    <tr>\n",
              "      <th>0</th>\n",
              "      <td>2017-10-01 15:23:25</td>\n",
              "      <td>2017-10-01 15:26:26</td>\n",
              "      <td>31038</td>\n",
              "      <td>Glebe Rd &amp; 11th St N</td>\n",
              "      <td>31036</td>\n",
              "      <td>George Mason Dr &amp; Wilson Blvd</td>\n",
              "      <td>W20529</td>\n",
              "      <td>Member</td>\n",
              "    </tr>\n",
              "    <tr>\n",
              "      <th>1</th>\n",
              "      <td>2017-10-01 15:42:57</td>\n",
              "      <td>2017-10-01 17:49:59</td>\n",
              "      <td>31036</td>\n",
              "      <td>George Mason Dr &amp; Wilson Blvd</td>\n",
              "      <td>31036</td>\n",
              "      <td>George Mason Dr &amp; Wilson Blvd</td>\n",
              "      <td>W20529</td>\n",
              "      <td>Casual</td>\n",
              "    </tr>\n",
              "    <tr>\n",
              "      <th>2</th>\n",
              "      <td>2017-10-02 06:37:10</td>\n",
              "      <td>2017-10-02 06:42:53</td>\n",
              "      <td>31036</td>\n",
              "      <td>George Mason Dr &amp; Wilson Blvd</td>\n",
              "      <td>31037</td>\n",
              "      <td>Ballston Metro / N Stuart &amp; 9th St N</td>\n",
              "      <td>W20529</td>\n",
              "      <td>Member</td>\n",
              "    </tr>\n",
              "    <tr>\n",
              "      <th>3</th>\n",
              "      <td>2017-10-02 08:56:45</td>\n",
              "      <td>2017-10-02 09:18:03</td>\n",
              "      <td>31037</td>\n",
              "      <td>Ballston Metro / N Stuart &amp; 9th St N</td>\n",
              "      <td>31295</td>\n",
              "      <td>Potomac &amp; M St NW</td>\n",
              "      <td>W20529</td>\n",
              "      <td>Member</td>\n",
              "    </tr>\n",
              "    <tr>\n",
              "      <th>4</th>\n",
              "      <td>2017-10-02 18:23:48</td>\n",
              "      <td>2017-10-02 18:45:05</td>\n",
              "      <td>31295</td>\n",
              "      <td>Potomac &amp; M St NW</td>\n",
              "      <td>31230</td>\n",
              "      <td>Metro Center / 12th &amp; G St NW</td>\n",
              "      <td>W20529</td>\n",
              "      <td>Member</td>\n",
              "    </tr>\n",
              "  </tbody>\n",
              "</table>\n",
              "</div>\n",
              "      <button class=\"colab-df-convert\" onclick=\"convertToInteractive('df-c5c26595-9146-499d-b792-1161187d1b7a')\"\n",
              "              title=\"Convert this dataframe to an interactive table.\"\n",
              "              style=\"display:none;\">\n",
              "        \n",
              "  <svg xmlns=\"http://www.w3.org/2000/svg\" height=\"24px\"viewBox=\"0 0 24 24\"\n",
              "       width=\"24px\">\n",
              "    <path d=\"M0 0h24v24H0V0z\" fill=\"none\"/>\n",
              "    <path d=\"M18.56 5.44l.94 2.06.94-2.06 2.06-.94-2.06-.94-.94-2.06-.94 2.06-2.06.94zm-11 1L8.5 8.5l.94-2.06 2.06-.94-2.06-.94L8.5 2.5l-.94 2.06-2.06.94zm10 10l.94 2.06.94-2.06 2.06-.94-2.06-.94-.94-2.06-.94 2.06-2.06.94z\"/><path d=\"M17.41 7.96l-1.37-1.37c-.4-.4-.92-.59-1.43-.59-.52 0-1.04.2-1.43.59L10.3 9.45l-7.72 7.72c-.78.78-.78 2.05 0 2.83L4 21.41c.39.39.9.59 1.41.59.51 0 1.02-.2 1.41-.59l7.78-7.78 2.81-2.81c.8-.78.8-2.07 0-2.86zM5.41 20L4 18.59l7.72-7.72 1.47 1.35L5.41 20z\"/>\n",
              "  </svg>\n",
              "      </button>\n",
              "      \n",
              "  <style>\n",
              "    .colab-df-container {\n",
              "      display:flex;\n",
              "      flex-wrap:wrap;\n",
              "      gap: 12px;\n",
              "    }\n",
              "\n",
              "    .colab-df-convert {\n",
              "      background-color: #E8F0FE;\n",
              "      border: none;\n",
              "      border-radius: 50%;\n",
              "      cursor: pointer;\n",
              "      display: none;\n",
              "      fill: #1967D2;\n",
              "      height: 32px;\n",
              "      padding: 0 0 0 0;\n",
              "      width: 32px;\n",
              "    }\n",
              "\n",
              "    .colab-df-convert:hover {\n",
              "      background-color: #E2EBFA;\n",
              "      box-shadow: 0px 1px 2px rgba(60, 64, 67, 0.3), 0px 1px 3px 1px rgba(60, 64, 67, 0.15);\n",
              "      fill: #174EA6;\n",
              "    }\n",
              "\n",
              "    [theme=dark] .colab-df-convert {\n",
              "      background-color: #3B4455;\n",
              "      fill: #D2E3FC;\n",
              "    }\n",
              "\n",
              "    [theme=dark] .colab-df-convert:hover {\n",
              "      background-color: #434B5C;\n",
              "      box-shadow: 0px 1px 3px 1px rgba(0, 0, 0, 0.15);\n",
              "      filter: drop-shadow(0px 1px 2px rgba(0, 0, 0, 0.3));\n",
              "      fill: #FFFFFF;\n",
              "    }\n",
              "  </style>\n",
              "\n",
              "      <script>\n",
              "        const buttonEl =\n",
              "          document.querySelector('#df-c5c26595-9146-499d-b792-1161187d1b7a button.colab-df-convert');\n",
              "        buttonEl.style.display =\n",
              "          google.colab.kernel.accessAllowed ? 'block' : 'none';\n",
              "\n",
              "        async function convertToInteractive(key) {\n",
              "          const element = document.querySelector('#df-c5c26595-9146-499d-b792-1161187d1b7a');\n",
              "          const dataTable =\n",
              "            await google.colab.kernel.invokeFunction('convertToInteractive',\n",
              "                                                     [key], {});\n",
              "          if (!dataTable) return;\n",
              "\n",
              "          const docLinkHtml = 'Like what you see? Visit the ' +\n",
              "            '<a target=\"_blank\" href=https://colab.research.google.com/notebooks/data_table.ipynb>data table notebook</a>'\n",
              "            + ' to learn more about interactive tables.';\n",
              "          element.innerHTML = '';\n",
              "          dataTable['output_type'] = 'display_data';\n",
              "          await google.colab.output.renderOutput(dataTable, element);\n",
              "          const docLink = document.createElement('div');\n",
              "          docLink.innerHTML = docLinkHtml;\n",
              "          element.appendChild(docLink);\n",
              "        }\n",
              "      </script>\n",
              "    </div>\n",
              "  </div>\n",
              "  "
            ]
          },
          "metadata": {},
          "execution_count": 18
        }
      ],
      "source": [
        "df = pd.read_csv(url_onebike, header=0)\n",
        "df.head()"
      ]
    },
    {
      "cell_type": "code",
      "execution_count": 19,
      "metadata": {
        "id": "jX3AgnKZSnSf",
        "outputId": "98ce8e00-fe17-42ce-ddca-de6dbde5f251",
        "colab": {
          "base_uri": "https://localhost:8080/",
          "height": 206
        }
      },
      "outputs": [
        {
          "output_type": "execute_result",
          "data": {
            "text/plain": [
              "            Start date             End date\n",
              "0  2017-10-01 15:23:25  2017-10-01 15:26:26\n",
              "1  2017-10-01 15:42:57  2017-10-01 17:49:59\n",
              "2  2017-10-02 06:37:10  2017-10-02 06:42:53\n",
              "3  2017-10-02 08:56:45  2017-10-02 09:18:03\n",
              "4  2017-10-02 18:23:48  2017-10-02 18:45:05"
            ],
            "text/html": [
              "\n",
              "  <div id=\"df-cd22cda8-d13c-406f-9c7d-48de755619d7\">\n",
              "    <div class=\"colab-df-container\">\n",
              "      <div>\n",
              "<style scoped>\n",
              "    .dataframe tbody tr th:only-of-type {\n",
              "        vertical-align: middle;\n",
              "    }\n",
              "\n",
              "    .dataframe tbody tr th {\n",
              "        vertical-align: top;\n",
              "    }\n",
              "\n",
              "    .dataframe thead th {\n",
              "        text-align: right;\n",
              "    }\n",
              "</style>\n",
              "<table border=\"1\" class=\"dataframe\">\n",
              "  <thead>\n",
              "    <tr style=\"text-align: right;\">\n",
              "      <th></th>\n",
              "      <th>Start date</th>\n",
              "      <th>End date</th>\n",
              "    </tr>\n",
              "  </thead>\n",
              "  <tbody>\n",
              "    <tr>\n",
              "      <th>0</th>\n",
              "      <td>2017-10-01 15:23:25</td>\n",
              "      <td>2017-10-01 15:26:26</td>\n",
              "    </tr>\n",
              "    <tr>\n",
              "      <th>1</th>\n",
              "      <td>2017-10-01 15:42:57</td>\n",
              "      <td>2017-10-01 17:49:59</td>\n",
              "    </tr>\n",
              "    <tr>\n",
              "      <th>2</th>\n",
              "      <td>2017-10-02 06:37:10</td>\n",
              "      <td>2017-10-02 06:42:53</td>\n",
              "    </tr>\n",
              "    <tr>\n",
              "      <th>3</th>\n",
              "      <td>2017-10-02 08:56:45</td>\n",
              "      <td>2017-10-02 09:18:03</td>\n",
              "    </tr>\n",
              "    <tr>\n",
              "      <th>4</th>\n",
              "      <td>2017-10-02 18:23:48</td>\n",
              "      <td>2017-10-02 18:45:05</td>\n",
              "    </tr>\n",
              "  </tbody>\n",
              "</table>\n",
              "</div>\n",
              "      <button class=\"colab-df-convert\" onclick=\"convertToInteractive('df-cd22cda8-d13c-406f-9c7d-48de755619d7')\"\n",
              "              title=\"Convert this dataframe to an interactive table.\"\n",
              "              style=\"display:none;\">\n",
              "        \n",
              "  <svg xmlns=\"http://www.w3.org/2000/svg\" height=\"24px\"viewBox=\"0 0 24 24\"\n",
              "       width=\"24px\">\n",
              "    <path d=\"M0 0h24v24H0V0z\" fill=\"none\"/>\n",
              "    <path d=\"M18.56 5.44l.94 2.06.94-2.06 2.06-.94-2.06-.94-.94-2.06-.94 2.06-2.06.94zm-11 1L8.5 8.5l.94-2.06 2.06-.94-2.06-.94L8.5 2.5l-.94 2.06-2.06.94zm10 10l.94 2.06.94-2.06 2.06-.94-2.06-.94-.94-2.06-.94 2.06-2.06.94z\"/><path d=\"M17.41 7.96l-1.37-1.37c-.4-.4-.92-.59-1.43-.59-.52 0-1.04.2-1.43.59L10.3 9.45l-7.72 7.72c-.78.78-.78 2.05 0 2.83L4 21.41c.39.39.9.59 1.41.59.51 0 1.02-.2 1.41-.59l7.78-7.78 2.81-2.81c.8-.78.8-2.07 0-2.86zM5.41 20L4 18.59l7.72-7.72 1.47 1.35L5.41 20z\"/>\n",
              "  </svg>\n",
              "      </button>\n",
              "      \n",
              "  <style>\n",
              "    .colab-df-container {\n",
              "      display:flex;\n",
              "      flex-wrap:wrap;\n",
              "      gap: 12px;\n",
              "    }\n",
              "\n",
              "    .colab-df-convert {\n",
              "      background-color: #E8F0FE;\n",
              "      border: none;\n",
              "      border-radius: 50%;\n",
              "      cursor: pointer;\n",
              "      display: none;\n",
              "      fill: #1967D2;\n",
              "      height: 32px;\n",
              "      padding: 0 0 0 0;\n",
              "      width: 32px;\n",
              "    }\n",
              "\n",
              "    .colab-df-convert:hover {\n",
              "      background-color: #E2EBFA;\n",
              "      box-shadow: 0px 1px 2px rgba(60, 64, 67, 0.3), 0px 1px 3px 1px rgba(60, 64, 67, 0.15);\n",
              "      fill: #174EA6;\n",
              "    }\n",
              "\n",
              "    [theme=dark] .colab-df-convert {\n",
              "      background-color: #3B4455;\n",
              "      fill: #D2E3FC;\n",
              "    }\n",
              "\n",
              "    [theme=dark] .colab-df-convert:hover {\n",
              "      background-color: #434B5C;\n",
              "      box-shadow: 0px 1px 3px 1px rgba(0, 0, 0, 0.15);\n",
              "      filter: drop-shadow(0px 1px 2px rgba(0, 0, 0, 0.3));\n",
              "      fill: #FFFFFF;\n",
              "    }\n",
              "  </style>\n",
              "\n",
              "      <script>\n",
              "        const buttonEl =\n",
              "          document.querySelector('#df-cd22cda8-d13c-406f-9c7d-48de755619d7 button.colab-df-convert');\n",
              "        buttonEl.style.display =\n",
              "          google.colab.kernel.accessAllowed ? 'block' : 'none';\n",
              "\n",
              "        async function convertToInteractive(key) {\n",
              "          const element = document.querySelector('#df-cd22cda8-d13c-406f-9c7d-48de755619d7');\n",
              "          const dataTable =\n",
              "            await google.colab.kernel.invokeFunction('convertToInteractive',\n",
              "                                                     [key], {});\n",
              "          if (!dataTable) return;\n",
              "\n",
              "          const docLinkHtml = 'Like what you see? Visit the ' +\n",
              "            '<a target=\"_blank\" href=https://colab.research.google.com/notebooks/data_table.ipynb>data table notebook</a>'\n",
              "            + ' to learn more about interactive tables.';\n",
              "          element.innerHTML = '';\n",
              "          dataTable['output_type'] = 'display_data';\n",
              "          await google.colab.output.renderOutput(dataTable, element);\n",
              "          const docLink = document.createElement('div');\n",
              "          docLink.innerHTML = docLinkHtml;\n",
              "          element.appendChild(docLink);\n",
              "        }\n",
              "      </script>\n",
              "    </div>\n",
              "  </div>\n",
              "  "
            ]
          },
          "metadata": {},
          "execution_count": 19
        }
      ],
      "source": [
        "onebike_datetimes_strings = df[['Start date', 'End date']]\n",
        "onebike_datetimes_strings.head()"
      ]
    },
    {
      "cell_type": "code",
      "execution_count": 20,
      "metadata": {
        "id": "k5SOmXpwSnSf"
      },
      "outputs": [],
      "source": [
        "# Write down the format string\n",
        "fmt = '%Y-%m-%d %H:%M:%S'\n",
        "\n",
        "# Initialize\n",
        "onebike_datetimes = []\n",
        "\n",
        "# Loop over all trips\n",
        "for i, (start, end) in onebike_datetimes_strings.iterrows():\n",
        "    trip = {'start': datetime.strptime(start, fmt),\n",
        "            'end': datetime.strptime(end, fmt)}\n",
        "    # Append the trip\n",
        "    onebike_datetimes.append(trip)"
      ]
    },
    {
      "cell_type": "markdown",
      "metadata": {
        "id": "VXEk0Y4KSnSg"
      },
      "source": [
        "### Recreating ISO format with strftime()"
      ]
    },
    {
      "cell_type": "code",
      "execution_count": 21,
      "metadata": {
        "id": "9O9_FwnYSnSg",
        "outputId": "0d8ee869-8224-4830-974e-6728d1c68a08",
        "colab": {
          "base_uri": "https://localhost:8080/"
        }
      },
      "outputs": [
        {
          "output_type": "stream",
          "name": "stdout",
          "text": [
            "2017-10-01T15:23:25\n",
            "2017-10-01T15:23:25\n"
          ]
        }
      ],
      "source": [
        "# Pull out the start of the first trip\n",
        "first_start = onebike_datetimes[0]['start']\n",
        "\n",
        "# Format to feed to strftime()\n",
        "#2017-10-01T15:26:26\n",
        "fmt = '%Y-%m-%dT%H:%M:%S'\n",
        "\n",
        "# Print out date with .isoformat(), the with .strftime() to compare\n",
        "print(first_start.isoformat())\n",
        "print(first_start.strftime(fmt))"
      ]
    },
    {
      "cell_type": "markdown",
      "metadata": {
        "id": "m6FaLEqfSnSg"
      },
      "source": [
        "### Unix timestamps"
      ]
    },
    {
      "cell_type": "code",
      "execution_count": 22,
      "metadata": {
        "id": "rufhRHPWSnSh",
        "outputId": "ae4ddfe4-4446-4a12-8629-48163a9d1ee8",
        "colab": {
          "base_uri": "https://localhost:8080/"
        }
      },
      "outputs": [
        {
          "output_type": "stream",
          "name": "stdout",
          "text": [
            "[datetime.datetime(2017, 12, 30, 20, 19, 13), datetime.datetime(2017, 12, 30, 20, 9, 3)]\n"
          ]
        }
      ],
      "source": [
        "# Starting timestamps\n",
        "timestamps = [1514665153, 1514664543]\n",
        "\n",
        "# Datetime objects\n",
        "dts = []\n",
        "\n",
        "# Loop\n",
        "for ts in timestamps:\n",
        "    dts.append(datetime.fromtimestamp(ts))\n",
        "    \n",
        "# Print results\n",
        "print(dts)"
      ]
    },
    {
      "cell_type": "markdown",
      "metadata": {
        "id": "J1YAVHW5SnSh"
      },
      "source": [
        "## **Working with durations**\n"
      ]
    },
    {
      "cell_type": "markdown",
      "metadata": {
        "id": "ulGk09QiSnSh"
      },
      "source": [
        "### Turning pairs of datetimes into durations"
      ]
    },
    {
      "cell_type": "code",
      "execution_count": 23,
      "metadata": {
        "id": "EOiDm03RSnSh"
      },
      "outputs": [],
      "source": [
        "# Initialize a list for all the trip durations\n",
        "onebike_durations = []\n",
        "\n",
        "for trip in onebike_datetimes:\n",
        "    # Create a timedelta object corresponding to the length of the trip\n",
        "    trip_duration = trip['end'] - trip['start']\n",
        "    \n",
        "    # Get the total elapsed seconds in trip_duration\n",
        "    trip_length_seconds = trip_duration.total_seconds()\n",
        "    \n",
        "    # Append the results to our list\n",
        "    onebike_durations.append(trip_length_seconds)"
      ]
    },
    {
      "cell_type": "markdown",
      "metadata": {
        "id": "OjRvTy_GSnSi"
      },
      "source": [
        "### Average trip time"
      ]
    },
    {
      "cell_type": "code",
      "execution_count": 24,
      "metadata": {
        "id": "om3gSr6hSnSi",
        "outputId": "34b436b9-82f0-48d0-815c-3edd00121b36",
        "colab": {
          "base_uri": "https://localhost:8080/"
        }
      },
      "outputs": [
        {
          "output_type": "stream",
          "name": "stdout",
          "text": [
            "1178.9310344827586\n"
          ]
        }
      ],
      "source": [
        "# What was the total duration of all trips\n",
        "total_elapsed_time = sum(onebike_durations)\n",
        "\n",
        "# What was the total number of trips\n",
        "number_of_trips = len(onebike_durations)\n",
        "\n",
        "# Divide the total duration by the number of trips\n",
        "print(total_elapsed_time / number_of_trips)"
      ]
    },
    {
      "cell_type": "markdown",
      "metadata": {
        "id": "pGuEcnBvSnSi"
      },
      "source": [
        "### The long and the short of why time is hard"
      ]
    },
    {
      "cell_type": "code",
      "execution_count": 25,
      "metadata": {
        "id": "Qm2c-7EzSnSj",
        "outputId": "c1f8c4eb-6892-400a-cda6-01900836bfcc",
        "colab": {
          "base_uri": "https://localhost:8080/"
        }
      },
      "outputs": [
        {
          "output_type": "stream",
          "name": "stdout",
          "text": [
            "The shortest trip was -3346.0 seconds\n",
            "The longest trip was 76913.0 seconds\n"
          ]
        }
      ],
      "source": [
        "# Calculate shortest and longest trips\n",
        "shortest_trip = min(onebike_durations)\n",
        "longest_trip = max(onebike_durations)\n",
        "\n",
        "# Print out the results\n",
        "print(\"The shortest trip was \" + str(shortest_trip) + \" seconds\")\n",
        "print(\"The longest trip was \" + str(longest_trip) + \" seconds\")"
      ]
    },
    {
      "cell_type": "markdown",
      "source": [
        "# **3️⃣Time Zones and Daylight Saving**"
      ],
      "metadata": {
        "id": "6WNcS3EjS_Iw"
      }
    },
    {
      "cell_type": "markdown",
      "metadata": {
        "id": "F7Ic6OfSSpdQ"
      },
      "source": [
        "## **UTC offsets**"
      ]
    },
    {
      "cell_type": "markdown",
      "metadata": {
        "id": "PTs5oCYpSpdT"
      },
      "source": [
        "### Creating timezone aware datetimes"
      ]
    },
    {
      "cell_type": "code",
      "execution_count": 26,
      "metadata": {
        "id": "J8VgMoLISpdT",
        "outputId": "1794a7f6-4ae2-4a07-99f1-6796449fe1d3",
        "colab": {
          "base_uri": "https://localhost:8080/"
        }
      },
      "outputs": [
        {
          "output_type": "stream",
          "name": "stdout",
          "text": [
            "2017-10-01T15:26:26+00:00\n"
          ]
        }
      ],
      "source": [
        "# Import datetime, timezone\n",
        "from datetime import datetime, timezone, timedelta\n",
        "\n",
        "# October 1, 2017 at 15:26:26, UTC\n",
        "dt = datetime(2017, 10, 1, 15, 26, 26, tzinfo=timezone.utc)\n",
        "\n",
        "# Print results\n",
        "print(dt.isoformat())"
      ]
    },
    {
      "cell_type": "code",
      "execution_count": 27,
      "metadata": {
        "id": "zd8KBaoGSpdV",
        "outputId": "7e05c9fe-a6f6-4000-dd35-d30e31186966",
        "colab": {
          "base_uri": "https://localhost:8080/"
        }
      },
      "outputs": [
        {
          "output_type": "stream",
          "name": "stdout",
          "text": [
            "2017-10-01T15:26:26-08:00\n"
          ]
        }
      ],
      "source": [
        "# Create a timezone for Pacific Standard Time, or UTC-8\n",
        "pst = timezone(timedelta(hours=-8))\n",
        "\n",
        "# October 1, 2017 at 15:26:26, UTC-8\n",
        "dt = datetime(2017, 10, 1, 15, 26, 26, tzinfo=pst)\n",
        "\n",
        "# Print results\n",
        "print(dt.isoformat())"
      ]
    },
    {
      "cell_type": "code",
      "execution_count": 28,
      "metadata": {
        "id": "GeyzAw9eSpdW",
        "outputId": "dadb4976-9777-4973-aec0-16aafaff8a28",
        "colab": {
          "base_uri": "https://localhost:8080/"
        }
      },
      "outputs": [
        {
          "output_type": "stream",
          "name": "stdout",
          "text": [
            "2017-10-01T15:26:26+11:00\n"
          ]
        }
      ],
      "source": [
        "# Create a timezone for Australian Eastern Daylight Time, or UTC+11\n",
        "edt = timezone(timedelta(hours=11))\n",
        "\n",
        "# October 1, 2017 at 15:26:26, UTC+11\n",
        "dt = datetime(2017, 10, 1, 15, 26, 26, tzinfo=edt)\n",
        "\n",
        "# Print results\n",
        "print(dt.isoformat())"
      ]
    },
    {
      "cell_type": "markdown",
      "metadata": {
        "id": "Avam4qOZSpdW"
      },
      "source": [
        "### Setting timezones\n"
      ]
    },
    {
      "cell_type": "markdown",
      "metadata": {
        "id": "XcxvWT6HSpdX"
      },
      "source": [
        "#### Preprocess"
      ]
    },
    {
      "cell_type": "code",
      "execution_count": 29,
      "metadata": {
        "id": "pNBW__yGSpdX"
      },
      "outputs": [],
      "source": [
        "import pandas as pd"
      ]
    },
    {
      "cell_type": "code",
      "execution_count": 30,
      "metadata": {
        "id": "XSBI5gkeSpdX"
      },
      "outputs": [],
      "source": [
        "df = pd.read_csv(url_onebike, header=0)\n",
        "\n",
        "onebike_datetimes_strings = df[['Start date', 'End date']]\n",
        "\n",
        "# Write down the format string\n",
        "fmt = '%Y-%m-%d %H:%M:%S'\n",
        "\n",
        "# Initialize\n",
        "onebike_datetimes = []\n",
        "for i, (start, end) in onebike_datetimes_strings.iterrows():\n",
        "    trip = {'start': datetime.strptime(start, fmt),\n",
        "            'end': datetime.strptime(end, fmt)}\n",
        "    \n",
        "    onebike_datetimes.append(trip)"
      ]
    },
    {
      "cell_type": "code",
      "execution_count": 31,
      "metadata": {
        "id": "8u6M8Xa4SpdY"
      },
      "outputs": [],
      "source": [
        "# Create a timezone object corresponding to UTC-4\n",
        "edt = timezone(timedelta(hours=-4))\n",
        "\n",
        "# Loop over trips, updating the start and end datetimes to be in UTC-4\n",
        "for trip in onebike_datetimes[:10]:\n",
        "    # Update trip['start'] and trip['end']\n",
        "    trip['start'] = trip['start'].replace(tzinfo=edt)\n",
        "    trip['end'] = trip['end'].replace(tzinfo=edt)"
      ]
    },
    {
      "cell_type": "markdown",
      "metadata": {
        "id": "PDhE2NmQSpdY"
      },
      "source": [
        "### What time did the bike leave in UTC?"
      ]
    },
    {
      "cell_type": "code",
      "execution_count": 32,
      "metadata": {
        "id": "-TZOKvbxSpdY",
        "outputId": "b3216302-9711-49da-bdbe-823b1259399a",
        "colab": {
          "base_uri": "https://localhost:8080/"
        }
      },
      "outputs": [
        {
          "output_type": "stream",
          "name": "stdout",
          "text": [
            "Original: 2017-10-01 15:23:25-04:00 | UTC: 2017-10-01T19:23:25+00:00\n",
            "Original: 2017-10-01 15:42:57-04:00 | UTC: 2017-10-01T19:42:57+00:00\n",
            "Original: 2017-10-02 06:37:10-04:00 | UTC: 2017-10-02T10:37:10+00:00\n",
            "Original: 2017-10-02 08:56:45-04:00 | UTC: 2017-10-02T12:56:45+00:00\n",
            "Original: 2017-10-02 18:23:48-04:00 | UTC: 2017-10-02T22:23:48+00:00\n",
            "Original: 2017-10-02 18:48:08-04:00 | UTC: 2017-10-02T22:48:08+00:00\n",
            "Original: 2017-10-02 19:18:10-04:00 | UTC: 2017-10-02T23:18:10+00:00\n",
            "Original: 2017-10-02 19:37:32-04:00 | UTC: 2017-10-02T23:37:32+00:00\n",
            "Original: 2017-10-03 08:24:16-04:00 | UTC: 2017-10-03T12:24:16+00:00\n",
            "Original: 2017-10-03 18:17:07-04:00 | UTC: 2017-10-03T22:17:07+00:00\n"
          ]
        }
      ],
      "source": [
        "# Loop over the trips\n",
        "for trip in onebike_datetimes[:10]:\n",
        "  # Pull out the start\n",
        "  dt = trip['start']\n",
        "  # Move dt to be in UTC\n",
        "  dt = dt.astimezone(timezone.utc)\n",
        "  \n",
        "  # Print the start time in UTC\n",
        "  print('Original:', trip['start'], '| UTC:', dt.isoformat())"
      ]
    },
    {
      "cell_type": "markdown",
      "metadata": {
        "id": "xP_ndCzLSpdZ"
      },
      "source": [
        "## **Time zone database**\n"
      ]
    },
    {
      "cell_type": "markdown",
      "metadata": {
        "id": "Y0JAl9ETSpdZ"
      },
      "source": [
        "### Putting the bike trips into the right time zone"
      ]
    },
    {
      "cell_type": "code",
      "execution_count": 33,
      "metadata": {
        "id": "MIg-TwR3SpdZ"
      },
      "outputs": [],
      "source": [
        "# Import tz\n",
        "from dateutil import tz\n",
        "\n",
        "# Create a timezone object for Eastern Time\n",
        "et = tz.gettz('America/New_York')\n",
        "\n",
        "# Loop over trips, updating the datetimes to be in Eastern Time\n",
        "for trip in onebike_datetimes[:10]:\n",
        "  # Update trip['start'] and trip['end']\n",
        "  trip['start'] = trip['start'].replace(tzinfo = et)\n",
        "  trip['end'] = trip['end'].replace(tzinfo = et)"
      ]
    },
    {
      "cell_type": "markdown",
      "metadata": {
        "id": "qqipWf8qSpdZ"
      },
      "source": [
        "### What time did the bike leave? (Global edition)"
      ]
    },
    {
      "cell_type": "code",
      "execution_count": 34,
      "metadata": {
        "id": "vmkq6zatSpda",
        "outputId": "f15d5959-0638-4c66-8f9c-e4a7c591bbfe",
        "colab": {
          "base_uri": "https://localhost:8080/"
        }
      },
      "outputs": [
        {
          "output_type": "stream",
          "name": "stdout",
          "text": [
            "2017-10-01T15:23:25-04:00\n",
            "2017-10-01T20:23:25+01:00\n"
          ]
        }
      ],
      "source": [
        "# Create the timezone object\n",
        "uk = tz.gettz('Europe/London')\n",
        "\n",
        "# Pull out the start of the first trip\n",
        "local = onebike_datetimes[0]['start']\n",
        "\n",
        "# What time was it in the UK\n",
        "notlocal = local.astimezone(uk)\n",
        "\n",
        "# Print them out and see the difference\n",
        "print(local.isoformat())\n",
        "print(notlocal.isoformat())"
      ]
    },
    {
      "cell_type": "code",
      "execution_count": 35,
      "metadata": {
        "id": "q3mSyJYISpda",
        "outputId": "235e4b35-f38f-4de9-dd1a-3d17f96e8e2b",
        "colab": {
          "base_uri": "https://localhost:8080/"
        }
      },
      "outputs": [
        {
          "output_type": "stream",
          "name": "stdout",
          "text": [
            "2017-10-01T15:23:25-04:00\n",
            "2017-10-02T00:53:25+05:30\n"
          ]
        }
      ],
      "source": [
        "# Create the timezone object\n",
        "ist = tz.gettz('Asia/Kolkata')\n",
        "\n",
        "# Pull out the start of the first trip\n",
        "local = onebike_datetimes[0]['start']\n",
        "\n",
        "# What time was it in India\n",
        "notlocal = local.astimezone(ist)\n",
        "\n",
        "# Print them out and see the difference\n",
        "print(local.isoformat())\n",
        "print(notlocal.isoformat())"
      ]
    },
    {
      "cell_type": "code",
      "execution_count": 36,
      "metadata": {
        "id": "64b0aCSsSpdf",
        "outputId": "e26bf2af-bfbf-45c8-d315-b435bd283d5c",
        "colab": {
          "base_uri": "https://localhost:8080/"
        }
      },
      "outputs": [
        {
          "output_type": "stream",
          "name": "stdout",
          "text": [
            "2017-10-01T15:23:25-04:00\n",
            "2017-10-02T09:23:25+14:00\n"
          ]
        }
      ],
      "source": [
        "# Create the timezone object\n",
        "sm = tz.gettz('Pacific/Apia')\n",
        "\n",
        "# Pull out the start of the first trip\n",
        "local = onebike_datetimes[0]['start']\n",
        "\n",
        "# What time was it in India\n",
        "notlocal = local.astimezone(sm)\n",
        "\n",
        "# Print them out and see the difference\n",
        "print(local.isoformat())\n",
        "print(notlocal.isoformat())"
      ]
    },
    {
      "cell_type": "markdown",
      "metadata": {
        "id": "pQg3Zi8SSpdg"
      },
      "source": [
        "## **Starting daylight saving time**"
      ]
    },
    {
      "cell_type": "markdown",
      "metadata": {
        "id": "x4UaqZWuSpdh"
      },
      "source": [
        "### How many hours elapsed around daylight saving?"
      ]
    },
    {
      "cell_type": "code",
      "execution_count": 37,
      "metadata": {
        "id": "XfoV7KZNSpdi",
        "outputId": "5fed78e7-aa7d-45a3-c86b-e6307becfb55",
        "colab": {
          "base_uri": "https://localhost:8080/"
        }
      },
      "outputs": [
        {
          "output_type": "stream",
          "name": "stdout",
          "text": [
            "2017-03-12T00:00:00-05:00 to 2017-03-12T06:00:00-04:00\n"
          ]
        }
      ],
      "source": [
        "# Import datetime, timedelta, tz, timezone\n",
        "from datetime import datetime, timedelta, timezone\n",
        "from dateutil import tz\n",
        "\n",
        "# Start on March 12, 2017, midnight, then add 6 hours\n",
        "start = datetime(2017, 3, 12, tzinfo = tz.gettz('America/New_York'))\n",
        "end = start + timedelta(hours=6)\n",
        "print(start.isoformat() + \" to \" + end.isoformat())"
      ]
    },
    {
      "cell_type": "code",
      "execution_count": 38,
      "metadata": {
        "id": "g3xPEMBmSpdi",
        "outputId": "16362ad8-3c0d-4bea-a921-915360890d1e",
        "colab": {
          "base_uri": "https://localhost:8080/"
        }
      },
      "outputs": [
        {
          "output_type": "stream",
          "name": "stdout",
          "text": [
            "6.0\n"
          ]
        }
      ],
      "source": [
        "# How many hours have elapsed\n",
        "print((end - start).total_seconds() / (60 * 60))"
      ]
    },
    {
      "cell_type": "code",
      "execution_count": 39,
      "metadata": {
        "id": "edRAU32iSpdj",
        "outputId": "95ffb158-7953-4978-8e9d-3109dbf2a51d",
        "colab": {
          "base_uri": "https://localhost:8080/"
        }
      },
      "outputs": [
        {
          "output_type": "stream",
          "name": "stdout",
          "text": [
            "5.0\n"
          ]
        }
      ],
      "source": [
        "# What if we move to UTC\n",
        "print((end.astimezone(timezone.utc) - start.astimezone(timezone.utc)).total_seconds() / (60 * 60))"
      ]
    },
    {
      "cell_type": "markdown",
      "metadata": {
        "id": "5r2JCt3LSpdj"
      },
      "source": [
        "### March 29, throughtout a decade"
      ]
    },
    {
      "cell_type": "code",
      "execution_count": 40,
      "metadata": {
        "id": "90O_0BdaSpdj",
        "outputId": "42f00f17-cab0-44de-e282-e2457f3e3161",
        "colab": {
          "base_uri": "https://localhost:8080/"
        }
      },
      "outputs": [
        {
          "output_type": "stream",
          "name": "stdout",
          "text": [
            "2000-03-29T00:00:00+01:00\n",
            "2001-03-29T00:00:00+01:00\n",
            "2002-03-29T00:00:00+00:00\n",
            "2003-03-29T00:00:00+00:00\n",
            "2004-03-29T00:00:00+01:00\n",
            "2005-03-29T00:00:00+01:00\n",
            "2006-03-29T00:00:00+01:00\n",
            "2007-03-29T00:00:00+01:00\n",
            "2008-03-29T00:00:00+00:00\n",
            "2009-03-29T00:00:00+00:00\n",
            "2010-03-29T00:00:00+01:00\n"
          ]
        }
      ],
      "source": [
        "# Import datetime and tz\n",
        "from datetime import datetime\n",
        "from dateutil import tz\n",
        "\n",
        "# Create starting date\n",
        "dt = datetime(2000, 3, 29, tzinfo=tz.gettz('Europe/London'))\n",
        "\n",
        "# Loop overt the dates, replacing the year, and print the ISO timestamp\n",
        "for y in range(2000, 2011):\n",
        "    print(dt.replace(year=y).isoformat())"
      ]
    },
    {
      "cell_type": "markdown",
      "metadata": {
        "id": "RJJW29MMSpdk"
      },
      "source": [
        "## **Ending daylight saving time**"
      ]
    },
    {
      "cell_type": "markdown",
      "metadata": {
        "id": "_O7lhbvhSpdk"
      },
      "source": [
        "### Finding ambiguous datetimes\n"
      ]
    },
    {
      "cell_type": "code",
      "execution_count": 41,
      "metadata": {
        "id": "i-3WaiWuSpdk",
        "outputId": "89e1f539-6e8b-42bb-c253-dd4883ee0c12",
        "colab": {
          "base_uri": "https://localhost:8080/"
        }
      },
      "outputs": [
        {
          "output_type": "stream",
          "name": "stdout",
          "text": [
            "Ambiguous start at 2017-11-05 01:56:50-04:00\n",
            "Ambiguous end at 2017-11-05 01:01:04-04:00\n"
          ]
        }
      ],
      "source": [
        "# Loop over trips\n",
        "for trip in onebike_datetimes:\n",
        "    trip['start'] = trip['start'].replace(tzinfo=tz.gettz('America/New_York'))\n",
        "    trip['end'] = trip['end'].replace(tzinfo=tz.gettz('America/New_York'))\n",
        "    # Rides with ambiguous start\n",
        "    if tz.datetime_ambiguous(trip['start']):\n",
        "        print('Ambiguous start at ' + str(trip['start']))\n",
        "    if tz.datetime_ambiguous(trip['end']):\n",
        "        print('Ambiguous end at ' + str(trip['end']))"
      ]
    },
    {
      "cell_type": "markdown",
      "metadata": {
        "id": "t7Irgiw_Spdk"
      },
      "source": [
        "### Cleaning daylight saving data with fold\n"
      ]
    },
    {
      "cell_type": "code",
      "execution_count": 42,
      "metadata": {
        "id": "9f5QAS9vSpdk",
        "outputId": "aaacdce6-8ab7-4a6c-aa8a-c1e1c09eb426",
        "colab": {
          "base_uri": "https://localhost:8080/"
        }
      },
      "outputs": [
        {
          "output_type": "stream",
          "name": "stdout",
          "text": [
            "Shortest trip: 116.0\n"
          ]
        }
      ],
      "source": [
        "trip_durations = []\n",
        "for trip in onebike_datetimes:\n",
        "    # When the start is later than the end, set the fold to be 1\n",
        "    if trip['start'] > trip['end']:\n",
        "        trip['end'] = tz.enfold(trip['end'])\n",
        "    # Convert to UTC\n",
        "    start = trip['start'].astimezone(timezone.utc)\n",
        "    end = trip['end'].astimezone(timezone.utc)\n",
        "    \n",
        "    # Subtract the difference\n",
        "    trip_length_seconds = (end - start).total_seconds()\n",
        "    trip_durations.append(trip_length_seconds)\n",
        "    \n",
        "# Take the shortest trip duration\n",
        "print(\"Shortest trip: \" + str(min(trip_durations)))"
      ]
    },
    {
      "cell_type": "markdown",
      "source": [
        "# **4️⃣Easy and Powerful: Dates and Times in Pandas**"
      ],
      "metadata": {
        "id": "NwQKyiLNTOaz"
      }
    },
    {
      "cell_type": "markdown",
      "metadata": {
        "id": "RnOHHuejSoy5"
      },
      "source": [
        "## **Reading date and time data in Pandas**\n"
      ]
    },
    {
      "cell_type": "markdown",
      "metadata": {
        "id": "iU8JF-5KSoy7"
      },
      "source": [
        "### Loading a csv file in Pandas\n"
      ]
    },
    {
      "cell_type": "code",
      "execution_count": 43,
      "metadata": {
        "id": "7iCsfviOSoy7",
        "outputId": "23c95ec8-7412-4f6e-bcf2-6f28a60262f0",
        "colab": {
          "base_uri": "https://localhost:8080/"
        }
      },
      "outputs": [
        {
          "output_type": "stream",
          "name": "stdout",
          "text": [
            "Start date                        2017-10-01 15:23:25\n",
            "End date                          2017-10-01 15:26:26\n",
            "Start station number                            31038\n",
            "Start station                    Glebe Rd & 11th St N\n",
            "End station number                              31036\n",
            "End station             George Mason Dr & Wilson Blvd\n",
            "Bike number                                    W20529\n",
            "Member type                                    Member\n",
            "Name: 0, dtype: object\n"
          ]
        }
      ],
      "source": [
        "# Import pandas\n",
        "import pandas as pd\n",
        "\n",
        "# Load CSV into the rides variable\n",
        "rides = pd.read_csv(url_onebike,\n",
        "                   parse_dates=['Start date', 'End date'])\n",
        "\n",
        " # Print the initial (0th) row\n",
        "print(rides.iloc[0])"
      ]
    },
    {
      "cell_type": "markdown",
      "metadata": {
        "id": "J4can8l2Soy9"
      },
      "source": [
        "### Making timedelta columns"
      ]
    },
    {
      "cell_type": "code",
      "execution_count": 44,
      "metadata": {
        "id": "x_0-9yBISoy9",
        "outputId": "581290d7-7075-43af-b5fd-8053381659d9",
        "colab": {
          "base_uri": "https://localhost:8080/"
        }
      },
      "outputs": [
        {
          "output_type": "stream",
          "name": "stdout",
          "text": [
            "0     181.0\n",
            "1    7622.0\n",
            "2     343.0\n",
            "3    1278.0\n",
            "4    1277.0\n",
            "Name: Duration, dtype: float64\n"
          ]
        }
      ],
      "source": [
        "# Subtract the start date from the end date\n",
        "ride_durations = rides['End date'] - rides['Start date']\n",
        "\n",
        "# Convert the results to seconds\n",
        "rides['Duration'] = ride_durations.dt.total_seconds()\n",
        "\n",
        "print(rides['Duration'].head())"
      ]
    },
    {
      "cell_type": "markdown",
      "metadata": {
        "id": "o9_z7fI4Soy9"
      },
      "source": [
        "## S**ummarizing datetime data in Pandas**"
      ]
    },
    {
      "cell_type": "markdown",
      "metadata": {
        "id": "fCgGvyC5Soy9"
      },
      "source": [
        "### How many joyrides?"
      ]
    },
    {
      "cell_type": "code",
      "execution_count": 45,
      "metadata": {
        "id": "tTW4MjBzSoy9",
        "outputId": "d58561db-0b9e-469d-9549-c5f60bb39512",
        "colab": {
          "base_uri": "https://localhost:8080/"
        }
      },
      "outputs": [
        {
          "output_type": "stream",
          "name": "stdout",
          "text": [
            "6 rides were joyrides\n",
            "The median duration overall was 660.00 seconds\n",
            "The median duration for joyrides was 2642.50 seconds\n"
          ]
        }
      ],
      "source": [
        "# Create joyrides\n",
        "joyrides = (rides['Start station'] == rides['End station'])\n",
        "\n",
        "# Total number of joyrides\n",
        "print(\"{} rides were joyrides\".format(joyrides.sum()))\n",
        "\n",
        "# Median of all rides\n",
        "print(\"The median duration overall was {:.2f} seconds\".format(rides['Duration'].median()))\n",
        "\n",
        "# Median of joyrides\n",
        "print(\"The median duration for joyrides was {:.2f} seconds\".format(rides[joyrides]['Duration'].median()))"
      ]
    },
    {
      "cell_type": "markdown",
      "metadata": {
        "id": "GKehCjxTSoy-"
      },
      "source": [
        "### It's getting cold outside, W20529\n"
      ]
    },
    {
      "cell_type": "code",
      "execution_count": 46,
      "metadata": {
        "id": "8Mz3SQc7Soy-",
        "outputId": "130cfaff-e501-47db-e3d2-13d3308db361",
        "colab": {
          "base_uri": "https://localhost:8080/",
          "height": 531
        }
      },
      "outputs": [
        {
          "output_type": "execute_result",
          "data": {
            "text/plain": [
              "<Axes: xlabel='Start date'>"
            ]
          },
          "metadata": {},
          "execution_count": 46
        },
        {
          "output_type": "display_data",
          "data": {
            "text/plain": [
              "<Figure size 1500x500 with 1 Axes>"
            ],
            "image/png": "[encoded data removed]"
          },
          "metadata": {}
        }
      ],
      "source": [
        "# import matplotlib\n",
        "import matplotlib.pyplot as plt\n",
        "\n",
        "# Resample rides to daily, take the size, plot the results\n",
        "rides.resample('D', on='Start date').size().plot(ylim=[0, 15], figsize=(15, 5))"
      ]
    },
    {
      "cell_type": "code",
      "execution_count": 47,
      "metadata": {
        "id": "aXutgmk5Soy_",
        "outputId": "7ba6bbbb-213c-4d2a-8c49-1bdb904c2fbb",
        "colab": {
          "base_uri": "https://localhost:8080/",
          "height": 497
        }
      },
      "outputs": [
        {
          "output_type": "execute_result",
          "data": {
            "text/plain": [
              "<Axes: xlabel='Start date'>"
            ]
          },
          "metadata": {},
          "execution_count": 47
        },
        {
          "output_type": "display_data",
          "data": {
            "text/plain": [
              "<Figure size 1500x500 with 1 Axes>"
            ],
            "image/png": "[encoded data removed]"
          },
          "metadata": {}
        }
      ],
      "source": [
        "# Resample rides to monthly, take the size, plot the results\n",
        "rides.resample('M', on = 'Start date').size().plot(ylim=[0, 150], figsize=(15, 5))"
      ]
    },
    {
      "cell_type": "markdown",
      "metadata": {
        "id": "hxpR7XJdSoy_"
      },
      "source": [
        "### Members vs casual riders over time"
      ]
    },
    {
      "cell_type": "code",
      "execution_count": 48,
      "metadata": {
        "id": "VywT4fuqSoy_",
        "outputId": "0492934d-5577-497f-bb9e-f3d979ddffa2",
        "colab": {
          "base_uri": "https://localhost:8080/"
        }
      },
      "outputs": [
        {
          "output_type": "stream",
          "name": "stdout",
          "text": [
            "Start date  Member type\n",
            "2017-10-31  Member         0.768519\n",
            "            Casual         0.231481\n",
            "2017-11-30  Member         0.825243\n",
            "            Casual         0.174757\n",
            "2017-12-31  Member         0.860759\n",
            "            Casual         0.139241\n",
            "Name: Member type, dtype: float64\n"
          ]
        }
      ],
      "source": [
        "# Resample rides to be monthly on the basis of Start date\n",
        "monthly_rides = rides.resample('M', on='Start date')['Member type']\n",
        "\n",
        "# Take the ratio of the .value_counts() over the total number of rides\n",
        "print(monthly_rides.value_counts() / monthly_rides.size())"
      ]
    },
    {
      "cell_type": "markdown",
      "metadata": {
        "id": "yu6KMfXySozA"
      },
      "source": [
        "### Combining groupby() and resample()"
      ]
    },
    {
      "cell_type": "code",
      "execution_count": 49,
      "metadata": {
        "id": "b-8gnL__SozA",
        "outputId": "d2d879e6-ab3a-4bf0-c357-0dfc8b4b1115",
        "colab": {
          "base_uri": "https://localhost:8080/"
        }
      },
      "outputs": [
        {
          "output_type": "stream",
          "name": "stdout",
          "text": [
            "Member type  Start date\n",
            "Casual       2017-10-31    1636.0\n",
            "             2017-11-30    1159.5\n",
            "             2017-12-31     850.0\n",
            "Member       2017-10-31     671.0\n",
            "             2017-11-30     655.0\n",
            "             2017-12-31     387.5\n",
            "Name: Duration, dtype: float64\n"
          ]
        }
      ],
      "source": [
        "# Group rides by member type, and resample to the month\n",
        "grouped = rides.groupby('Member type').resample('M', on='Start date')\n",
        "\n",
        "# Print the median duration for each group\n",
        "print(grouped['Duration'].median())"
      ]
    },
    {
      "cell_type": "markdown",
      "metadata": {
        "id": "wDuXGjqBSozA"
      },
      "source": [
        "## **Additional datetime methods in Pandas**\n"
      ]
    },
    {
      "cell_type": "markdown",
      "metadata": {
        "id": "WO6DbQMTSozA"
      },
      "source": [
        "### Timezones in Pandas\n"
      ]
    },
    {
      "cell_type": "code",
      "execution_count": 50,
      "metadata": {
        "id": "jAkTfGfNSozA",
        "outputId": "db5998ed-d249-4a7d-91dd-681f4dfe85d8",
        "colab": {
          "base_uri": "https://localhost:8080/"
        }
      },
      "outputs": [
        {
          "output_type": "stream",
          "name": "stdout",
          "text": [
            "2017-10-01 15:23:25-04:00\n"
          ]
        }
      ],
      "source": [
        "# Localize the Startdate column to Americal/New_York\n",
        "rides['Start date'] = rides['Start date'].dt.tz_localize('America/New_York', ambiguous='NaT')\n",
        "\n",
        "# Print first value\n",
        "print(rides['Start date'].iloc[0])"
      ]
    },
    {
      "cell_type": "code",
      "execution_count": 51,
      "metadata": {
        "id": "gawqqHGeSozB",
        "outputId": "4be145ed-cd6d-4ff5-e79c-3f27297fd7d3",
        "colab": {
          "base_uri": "https://localhost:8080/"
        }
      },
      "outputs": [
        {
          "output_type": "stream",
          "name": "stdout",
          "text": [
            "2017-10-01 20:23:25+01:00\n"
          ]
        }
      ],
      "source": [
        "# Convert the Start date column to Europe/London\n",
        "rides['Start date'] = rides['Start date'].dt.tz_convert('Europe/London')\n",
        "\n",
        "# Print the new value\n",
        "print(rides['Start date'].iloc[0])"
      ]
    },
    {
      "cell_type": "markdown",
      "metadata": {
        "id": "4jkizO7GSozB"
      },
      "source": [
        "### How long per weekday?"
      ]
    },
    {
      "cell_type": "code",
      "execution_count": 52,
      "metadata": {
        "id": "q4WgSW14SozB",
        "outputId": "7b4fa794-6576-43e9-b93c-02a721b4417e",
        "colab": {
          "base_uri": "https://localhost:8080/"
        }
      },
      "outputs": [
        {
          "output_type": "stream",
          "name": "stdout",
          "text": [
            "Ride start weekday\n",
            "Friday       684.0\n",
            "Monday       922.5\n",
            "Saturday     610.0\n",
            "Sunday       625.0\n",
            "Thursday     659.0\n",
            "Tuesday      644.0\n",
            "Wednesday    629.0\n",
            "Name: Duration, dtype: float64\n"
          ]
        }
      ],
      "source": [
        "# Add a column for the weekday of the start of the ride\n",
        "rides['Ride start weekday'] = rides['Start date'].dt.day_name()\n",
        "\n",
        "# Print the median trip time per weekday\n",
        "print(rides.groupby('Ride start weekday')['Duration'].median())"
      ]
    },
    {
      "cell_type": "markdown",
      "metadata": {
        "id": "yhxRJ9rlSozC"
      },
      "source": [
        "### How long between rides"
      ]
    },
    {
      "cell_type": "code",
      "execution_count": 57,
      "metadata": {
        "id": "TXO0nLAASozC",
        "outputId": "21720c01-ca6a-431e-856d-d15a1293835f",
        "colab": {
          "base_uri": "https://localhost:8080/"
        }
      },
      "outputs": [
        {
          "output_type": "stream",
          "name": "stdout",
          "text": [
            "Start date\n",
            "2023-01-31 00:00:00-05:00    25.875\n",
            "Freq: M, Name: Time since, dtype: float64\n"
          ]
        }
      ],
      "source": [
        "import pandas as pd\n",
        "from pytz import timezone\n",
        "\n",
        "# Sample data\n",
        "data = {\n",
        "    'Start date': ['2023-01-01 09:00:00', '2023-01-02 11:30:00', '2023-01-03 14:15:00'],\n",
        "    'End date': ['2023-01-01 10:00:00', '2023-01-02 12:00:00', '2023-01-03 16:30:00']\n",
        "}\n",
        "\n",
        "# Create DataFrame from sample data\n",
        "rides = pd.DataFrame(data)\n",
        "\n",
        "# Convert 'Start date' and 'End date' columns to datetime\n",
        "rides['Start date'] = pd.to_datetime(rides['Start date'])\n",
        "rides['End date'] = pd.to_datetime(rides['End date'])\n",
        "\n",
        "# Convert both columns to a specific timezone if needed\n",
        "timezone_name = 'America/New_York'\n",
        "rides['Start date'] = rides['Start date'].dt.tz_localize('UTC').dt.tz_convert(timezone_name)\n",
        "rides['End date'] = rides['End date'].dt.tz_localize('UTC').dt.tz_convert(timezone_name)\n",
        "\n",
        "# Shift the index of the end date up one; now subtract it from the start date\n",
        "rides['Time since'] = rides['Start date'] - (rides['End date'].shift(1))\n",
        "\n",
        "# Move from a timedelta to a number of seconds, which is easier to work with\n",
        "rides['Time since'] = rides['Time since'].dt.total_seconds()\n",
        "\n",
        "# Resample to the month\n",
        "monthly = rides.resample('M', on='Start date')\n",
        "\n",
        "# Print the average hours between rides each month\n",
        "print(monthly['Time since'].mean() / (60 * 60))"
      ]
    },
    {
      "cell_type": "markdown",
      "source": [
        "#### $\\color{skyblue}{\\textbf{Connect with me:}}$\n",
        "\n",
        "\n",
        "[<img align=\"left\" src=\"https://cdn4.iconfinder.com/data/icons/social-media-icons-the-circle-set/48/twitter_circle-512.png\" width=\"32px\"/>][twitter]\n",
        "[<img align=\"left\" src=\"https://cdn-icons-png.flaticon.com/512/145/145807.png\" width=\"32px\"/>][linkedin]\n",
        "[<img align=\"left\" src=\"https://cdn2.iconfinder.com/data/icons/whcompare-blue-green-web-hosting-1/425/cdn-512.png\" width=\"32px\"/>][Portfolio]\n",
        "\n",
        "[twitter]: https://twitter.com/F4izy\n",
        "[linkedin]: https://www.linkedin.com/in/mohd-faizy/\n",
        "[Portfolio]: https://mohdfaizy.com/"
      ],
      "metadata": {
        "id": "GuzwV2eSEd55"
      }
    }
  ]
}