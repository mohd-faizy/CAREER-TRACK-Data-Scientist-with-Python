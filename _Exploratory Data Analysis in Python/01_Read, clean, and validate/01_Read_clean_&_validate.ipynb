{
  "nbformat": 4,
  "nbformat_minor": 0,
  "metadata": {
    "colab": {
      "name": "01_Read_clean_&_validate.ipynb",
      "provenance": [],
      "collapsed_sections": []
    },
    "kernelspec": {
      "name": "python3",
      "display_name": "Python 3"
    }
  },
  "cells": [
    {
      "cell_type": "markdown",
      "metadata": {
        "id": "ICiczFWUaEcx"
      },
      "source": [
        "--- \r\n",
        "<strong> \r\n",
        "    <h1 align='center'>01 Read Clean & Validate </h1> \r\n",
        "</strong>\r\n",
        "\r\n",
        "---"
      ]
    },
    {
      "cell_type": "markdown",
      "metadata": {
        "id": "juMJ_HUATF7W"
      },
      "source": [
        "Clone the repository $\\rightarrow$ __Exploratory Data Analysis in Python__"
      ]
    },
    {
      "cell_type": "code",
      "metadata": {
        "colab": {
          "base_uri": "https://localhost:8080/"
        },
        "id": "45A5T9MIQl4U",
        "outputId": "63115ec2-1ea8-4130-ece7-2c9038d2b380"
      },
      "source": [
        "!git clone https://github.com/mohd-faizy/CAREER-TRACK-Data-Scientist-with-Python.git"
      ],
      "execution_count": 1,
      "outputs": [
        {
          "output_type": "stream",
          "text": [
            "Cloning into 'CAREER-TRACK-Data-Scientist-with-Python'...\n",
            "remote: Enumerating objects: 371, done.\u001b[K\n",
            "remote: Counting objects: 100% (371/371), done.\u001b[K\n",
            "remote: Compressing objects: 100% (320/320), done.\u001b[K\n",
            "remote: Total 1742 (delta 103), reused 311 (delta 46), pack-reused 1371\u001b[K\n",
            "Receiving objects: 100% (1742/1742), 177.75 MiB | 31.30 MiB/s, done.\n",
            "Resolving deltas: 100% (595/595), done.\n",
            "Checking out files: 100% (785/785), done.\n"
          ],
          "name": "stdout"
        }
      ]
    },
    {
      "cell_type": "markdown",
      "metadata": {
        "id": "lgq55HorUEBI"
      },
      "source": [
        "__Change the current working directory__"
      ]
    },
    {
      "cell_type": "code",
      "metadata": {
        "colab": {
          "base_uri": "https://localhost:8080/"
        },
        "id": "sV77zYvcQ4bV",
        "outputId": "7ee1a0a8-e540-4f07-f0c5-939ebd74d14b"
      },
      "source": [
        "# import os module \r\n",
        "import os \r\n",
        "   \r\n",
        "# to specified path \r\n",
        "os.chdir('/content/CAREER-TRACK-Data-Scientist-with-Python/20_Exploratory Data Analysis in Python/_dataset') \r\n",
        "  \r\n",
        "# varify the path using getcwd() \r\n",
        "cwd = os.getcwd() \r\n",
        "  \r\n",
        "# print the current directory \r\n",
        "print(\"Current working directory is:\", cwd) "
      ],
      "execution_count": 2,
      "outputs": [
        {
          "output_type": "stream",
          "text": [
            "Current working directory is: /content/CAREER-TRACK-Data-Scientist-with-Python/20_Exploratory Data Analysis in Python/_dataset\n"
          ],
          "name": "stdout"
        }
      ]
    },
    {
      "cell_type": "code",
      "metadata": {
        "colab": {
          "base_uri": "https://localhost:8080/"
        },
        "id": "iWqv8ejWRIec",
        "outputId": "54d61f51-1a35-4ade-9408-37a157979ce6"
      },
      "source": [
        "ls"
      ],
      "execution_count": 3,
      "outputs": [
        {
          "output_type": "stream",
          "text": [
            "'Behavioral Risk Factor Surveillance System(brfss).hdf5'\n",
            "'General Social Survey(gss).hdf5'\n",
            "'National Survey of Family Growth(nsfg).hdf5'\n"
          ],
          "name": "stdout"
        }
      ]
    },
    {
      "cell_type": "markdown",
      "metadata": {
        "id": "HsFGhCKVck6O"
      },
      "source": [
        "## __Dataset__\r\n",
        "\r\n",
        "The __National Survey of Family Growth (NSFG)__ gathers information on family life, marriage and divorce, pregnancy, infertility, use of contraception, and men’s and women’s health. The survey results are used by the U.S. Department of Health and Human Services and others to plan health services and health education programs, and to do statistical studies of families, fertility, and health. Links to some of those studies are included on this web site, under [“Publications and Information Products.”](https://www.cdc.gov/nchs/nsfg/nsfg_products.htm)\r\n",
        "\r\n"
      ]
    },
    {
      "cell_type": "markdown",
      "metadata": {
        "id": "4ytkolc040XH"
      },
      "source": [
        "__Variables__\r\n",
        "\r\n",
        "- __caseid__ is the integer ID of the respondent.\r\n",
        "\r\n",
        "- __outcome__ is an integer code for the outcome of the pregnancy. The code 1 indicates a live birth.\r\n",
        "\r\n",
        "- __birthwgt_lb__ and __birthwgt_oz__ contain the pounds and ounces parts of the birth weight of the baby.\r\n",
        "\r\n",
        "- __prglngth__ is the integer duration of the pregnancy in weeks.\r\n",
        "\r\n",
        "- __nbrnaliv__ records the number of babies born alive at the end of a pregnancy.\r\n",
        "\r\n",
        "- __agepreg__ is the mother’s age at the end of the pregnancy.\r\n",
        "\r\n"
      ]
    },
    {
      "cell_type": "markdown",
      "metadata": {
        "id": "rSke5-a9OKAh"
      },
      "source": [
        "## __01 - Read the codebook__\r\n",
        "\r\n",
        "\r\n",
        "When you work with datasets like the NSFG, it is important to read the documentation carefully. If you interpret a variable incorrectly, you can generate nonsense results and never realize it. So, before we start coding, I want to make sure you are familiar with the NSFG codebook, which describes every variable.\r\n",
        "\r\n",
        "- Type \"birthweight\" in the search field, UNSELECT the checkbox that says \"Search variable name only\", and press \"Search\". You should see a list of variables related to birthweight.\r\n",
        "\r\n",
        "- Click on \"BIRTHWGT_OZ1\" and read the documentation of this variable. For your convenience, it is also displayed here:\r\n",
        "\r\n",
        "<p align='center'>\r\n",
        "  <a href=\"#\">\r\n",
        "    <img src='https://assets.datacamp.com/production/repositories/4025/datasets/0d2a0c18b63f3ddf056858c145a6bdc022d8656c/Screenshot%202019-03-31%2019.16.14.png' alt=\"Birthwgt_oz1.img\">\r\n",
        "  </a>\r\n",
        "</p>"
      ]
    },
    {
      "cell_type": "markdown",
      "metadata": {
        "id": "tBcVjXcqPasy"
      },
      "source": [
        "__How many respondents refused to answer this question?__\r\n",
        "\r\n",
        "$\\color{red}{\\textbf{Ans:}}$ $1$"
      ]
    },
    {
      "cell_type": "markdown",
      "metadata": {
        "id": "MkJJZVJsRVch"
      },
      "source": [
        "## __02 Exploring the NSFG data__\r\n",
        "To get the number of rows and columns in a DataFrame, you can read its `shape` attribute.\r\n",
        "\r\n",
        "To get the column names, you can read the `columns` attribute. The result is an Index, which is a Pandas data structure that is similar to a list. Let's begin exploring the NSFG data! It has been pre-loaded for you into a DataFrame called `nsfg`."
      ]
    },
    {
      "cell_type": "code",
      "metadata": {
        "id": "xpzIqd3rN6Z3"
      },
      "source": [
        "import pandas as pd\r\n",
        "import numpy as np\r\n",
        "import matplotlib.pyplot as plt"
      ],
      "execution_count": 4,
      "outputs": []
    },
    {
      "cell_type": "code",
      "metadata": {
        "colab": {
          "base_uri": "https://localhost:8080/"
        },
        "id": "2Sc3cOkPQ6ho",
        "outputId": "336712bb-8f08-42c8-e5bd-6c53b3bc34e4"
      },
      "source": [
        "nsfg = pd.read_hdf('National Survey of Family Growth(nsfg).hdf5')\r\n",
        "type(nsfg)"
      ],
      "execution_count": 5,
      "outputs": [
        {
          "output_type": "execute_result",
          "data": {
            "text/plain": [
              "pandas.core.frame.DataFrame"
            ]
          },
          "metadata": {
            "tags": []
          },
          "execution_count": 5
        }
      ]
    },
    {
      "cell_type": "code",
      "metadata": {
        "colab": {
          "base_uri": "https://localhost:8080/",
          "height": 197
        },
        "id": "VB8x-QD5SwYS",
        "outputId": "c52a2483-8222-4618-c515-ede1aa253173"
      },
      "source": [
        "# dataset head\r\n",
        "nsfg.head()"
      ],
      "execution_count": 6,
      "outputs": [
        {
          "output_type": "execute_result",
          "data": {
            "text/html": [
              "<div>\n",
              "<style scoped>\n",
              "    .dataframe tbody tr th:only-of-type {\n",
              "        vertical-align: middle;\n",
              "    }\n",
              "\n",
              "    .dataframe tbody tr th {\n",
              "        vertical-align: top;\n",
              "    }\n",
              "\n",
              "    .dataframe thead th {\n",
              "        text-align: right;\n",
              "    }\n",
              "</style>\n",
              "<table border=\"1\" class=\"dataframe\">\n",
              "  <thead>\n",
              "    <tr style=\"text-align: right;\">\n",
              "      <th></th>\n",
              "      <th>caseid</th>\n",
              "      <th>outcome</th>\n",
              "      <th>birthwgt_lb1</th>\n",
              "      <th>birthwgt_oz1</th>\n",
              "      <th>prglngth</th>\n",
              "      <th>nbrnaliv</th>\n",
              "      <th>agecon</th>\n",
              "      <th>agepreg</th>\n",
              "      <th>hpagelb</th>\n",
              "      <th>wgt2013_2015</th>\n",
              "    </tr>\n",
              "  </thead>\n",
              "  <tbody>\n",
              "    <tr>\n",
              "      <th>0</th>\n",
              "      <td>60418</td>\n",
              "      <td>1</td>\n",
              "      <td>5.0</td>\n",
              "      <td>4.0</td>\n",
              "      <td>40</td>\n",
              "      <td>1.0</td>\n",
              "      <td>2000</td>\n",
              "      <td>2075.0</td>\n",
              "      <td>22.0</td>\n",
              "      <td>3554.964843</td>\n",
              "    </tr>\n",
              "    <tr>\n",
              "      <th>1</th>\n",
              "      <td>60418</td>\n",
              "      <td>1</td>\n",
              "      <td>4.0</td>\n",
              "      <td>12.0</td>\n",
              "      <td>36</td>\n",
              "      <td>1.0</td>\n",
              "      <td>2291</td>\n",
              "      <td>2358.0</td>\n",
              "      <td>25.0</td>\n",
              "      <td>3554.964843</td>\n",
              "    </tr>\n",
              "    <tr>\n",
              "      <th>2</th>\n",
              "      <td>60418</td>\n",
              "      <td>1</td>\n",
              "      <td>5.0</td>\n",
              "      <td>4.0</td>\n",
              "      <td>36</td>\n",
              "      <td>1.0</td>\n",
              "      <td>3241</td>\n",
              "      <td>3308.0</td>\n",
              "      <td>52.0</td>\n",
              "      <td>3554.964843</td>\n",
              "    </tr>\n",
              "    <tr>\n",
              "      <th>3</th>\n",
              "      <td>60419</td>\n",
              "      <td>6</td>\n",
              "      <td>NaN</td>\n",
              "      <td>NaN</td>\n",
              "      <td>33</td>\n",
              "      <td>NaN</td>\n",
              "      <td>3650</td>\n",
              "      <td>NaN</td>\n",
              "      <td>NaN</td>\n",
              "      <td>2484.535358</td>\n",
              "    </tr>\n",
              "    <tr>\n",
              "      <th>4</th>\n",
              "      <td>60420</td>\n",
              "      <td>1</td>\n",
              "      <td>8.0</td>\n",
              "      <td>13.0</td>\n",
              "      <td>41</td>\n",
              "      <td>1.0</td>\n",
              "      <td>2191</td>\n",
              "      <td>2266.0</td>\n",
              "      <td>24.0</td>\n",
              "      <td>2903.782914</td>\n",
              "    </tr>\n",
              "  </tbody>\n",
              "</table>\n",
              "</div>"
            ],
            "text/plain": [
              "   caseid  outcome  birthwgt_lb1  ...  agepreg  hpagelb  wgt2013_2015\n",
              "0   60418        1           5.0  ...   2075.0     22.0   3554.964843\n",
              "1   60418        1           4.0  ...   2358.0     25.0   3554.964843\n",
              "2   60418        1           5.0  ...   3308.0     52.0   3554.964843\n",
              "3   60419        6           NaN  ...      NaN      NaN   2484.535358\n",
              "4   60420        1           8.0  ...   2266.0     24.0   2903.782914\n",
              "\n",
              "[5 rows x 10 columns]"
            ]
          },
          "metadata": {
            "tags": []
          },
          "execution_count": 6
        }
      ]
    },
    {
      "cell_type": "code",
      "metadata": {
        "colab": {
          "base_uri": "https://localhost:8080/"
        },
        "id": "7u45iah7S0Np",
        "outputId": "e4893e82-d5f4-46e8-f9e9-75756219d2fc"
      },
      "source": [
        "# Display the number of rows and columns\r\n",
        "nsfg.shape"
      ],
      "execution_count": 7,
      "outputs": [
        {
          "output_type": "execute_result",
          "data": {
            "text/plain": [
              "(9358, 10)"
            ]
          },
          "metadata": {
            "tags": []
          },
          "execution_count": 7
        }
      ]
    },
    {
      "cell_type": "code",
      "metadata": {
        "colab": {
          "base_uri": "https://localhost:8080/"
        },
        "id": "r5xN-oBLS4zp",
        "outputId": "abdb54ba-2f50-489f-9b50-9620ca9909e1"
      },
      "source": [
        "# Display the names of the columns\r\n",
        "nsfg.columns"
      ],
      "execution_count": 8,
      "outputs": [
        {
          "output_type": "execute_result",
          "data": {
            "text/plain": [
              "Index(['caseid', 'outcome', 'birthwgt_lb1', 'birthwgt_oz1', 'prglngth',\n",
              "       'nbrnaliv', 'agecon', 'agepreg', 'hpagelb', 'wgt2013_2015'],\n",
              "      dtype='object')"
            ]
          },
          "metadata": {
            "tags": []
          },
          "execution_count": 8
        }
      ]
    },
    {
      "cell_type": "code",
      "metadata": {
        "colab": {
          "base_uri": "https://localhost:8080/"
        },
        "id": "1uVKDBFPURTo",
        "outputId": "fbcabee6-720b-4f3e-a974-da61dfdc133a"
      },
      "source": [
        "# Select column birthwgt_oz1: ounces\r\n",
        "ounces = nsfg['birthwgt_oz1']\r\n",
        "type(ounces)"
      ],
      "execution_count": 9,
      "outputs": [
        {
          "output_type": "execute_result",
          "data": {
            "text/plain": [
              "pandas.core.series.Series"
            ]
          },
          "metadata": {
            "tags": []
          },
          "execution_count": 9
        }
      ]
    },
    {
      "cell_type": "code",
      "metadata": {
        "colab": {
          "base_uri": "https://localhost:8080/"
        },
        "id": "-XDqD875VI2L",
        "outputId": "8c06c39b-fa33-47f9-8ef1-f5bec87cb17e"
      },
      "source": [
        "# Print the first 5 elements of ounces\r\n",
        "ounces.head(5)"
      ],
      "execution_count": 10,
      "outputs": [
        {
          "output_type": "execute_result",
          "data": {
            "text/plain": [
              "0     4.0\n",
              "1    12.0\n",
              "2     4.0\n",
              "3     NaN\n",
              "4    13.0\n",
              "Name: birthwgt_oz1, dtype: float64"
            ]
          },
          "metadata": {
            "tags": []
          },
          "execution_count": 10
        }
      ]
    },
    {
      "cell_type": "markdown",
      "metadata": {
        "id": "ukR2OV7OVnsD"
      },
      "source": [
        "Remember these attributes and methods; they are useful when you are exploring a new dataset. It's now time to check for errors and prepare the data for analysis."
      ]
    },
    {
      "cell_type": "markdown",
      "metadata": {
        "id": "gy9z06C5W3bY"
      },
      "source": [
        "## __03 Validate a variable__\r\n",
        "\r\n",
        "In the NSFG dataset, the variable `'outcome'` encodes the outcome of each pregnancy as shown below:\r\n",
        "\r\n",
        "|value|label|\r\n",
        "|-----|-----|\r\n",
        "|1\t|Live birth|\r\n",
        "|2\t|Induced abortion|\r\n",
        "|3\t|Stillbirth|\r\n",
        "|4\t|Miscarriage|\r\n",
        "|5\t|Ectopic pregnancy|\r\n",
        "|6\t|Current pregnancy|\r\n",
        "\r\n",
        "The `nsfg` DataFrame has been pre-loaded for you. Explore it in the IPython Shell and use the methods Allen showed you in the video to answer the following question:\r\n",
        "\r\n",
        "__How many pregnancies in this dataset ended with a live birth?__\r\n",
        "\r\n",
        "```python\r\n",
        "dataframe.value_counts()\r\n",
        "```\r\n",
        "\r\n",
        "$\\color{red}{\\textbf{Ans:}}$ $6391$\r\n"
      ]
    },
    {
      "cell_type": "code",
      "metadata": {
        "colab": {
          "base_uri": "https://localhost:8080/"
        },
        "id": "bFKfBrIfX2q-",
        "outputId": "b4e2aa63-b0b0-4c0a-d2a8-dcf3ce6d930f"
      },
      "source": [
        "nsfg.value_counts()"
      ],
      "execution_count": 11,
      "outputs": [
        {
          "output_type": "execute_result",
          "data": {
            "text/plain": [
              "caseid  outcome  birthwgt_lb1  birthwgt_oz1  prglngth  nbrnaliv  agecon  agepreg  hpagelb  wgt2013_2015\n",
              "70619   1        8.0           5.0           40        1.0       3683    3758.0   34.0     3856.253532     1\n",
              "63669   1        7.0           12.0          40        1.0       3325    3400.0   25.0     4818.792839     1\n",
              "63673   1        8.0           9.0           41        1.0       1908    1983.0   21.0     3699.618486     1\n",
              "                               11.0          38        1.0       2458    2525.0   22.0     3699.618486     1\n",
              "63677   1        7.0           6.0           39        1.0       1850    1925.0   21.0     3753.203203     1\n",
              "                                                                                                          ..\n",
              "67145   1        5.0           11.0          36        1.0       2816    2883.0   35.0     14838.496929    1\n",
              "                 6.0           7.0           38        1.0       3183    3250.0   38.0     14838.496929    1\n",
              "67148   1        6.0           9.0           38        1.0       2708    2775.0   31.0     23937.721102    1\n",
              "                 7.0           0.0           37        1.0       3308    3375.0   37.0     23937.721102    1\n",
              "60418   1        4.0           12.0          36        1.0       2291    2358.0   25.0     3554.964843     1\n",
              "Length: 6391, dtype: int64"
            ]
          },
          "metadata": {
            "tags": []
          },
          "execution_count": 11
        }
      ]
    },
    {
      "cell_type": "markdown",
      "metadata": {
        "id": "ubbRqJ0tY2wV"
      },
      "source": [
        "By comparing your results with the codebook, we can confirm that we are interpreting the data correctly."
      ]
    },
    {
      "cell_type": "markdown",
      "metadata": {
        "id": "89iLp2nAYfAD"
      },
      "source": [
        "## __04 Clean a variable__\r\n",
        "\r\n",
        "In the NSFG dataset, the variable `'nbrnaliv'` records __the number of babies born alive__ at the end of a pregnancy.\r\n",
        "\r\n",
        "If you use `.value_counts()` to view the responses, you'll see that the value `8` appears once, and if you consult the codebook, you'll see that this value indicates that the respondent refused to answer the question.\r\n",
        "\r\n",
        "```python\r\n",
        "nsfg['nbrnaliv'].value_counts()\r\n",
        "```\r\n",
        "```\r\n",
        "# Output\r\n",
        "1.0    6379\r\n",
        "2.0     100\r\n",
        "3.0       5\r\n",
        "8.0       1\r\n",
        "Name: nbrnaliv, dtype: int64\r\n",
        "```\r\n",
        "\r\n",
        "Our job in this exercise is to replace this value with `np.nan` using the `.replace()` method:\r\n",
        "\r\n",
        "```python\r\n",
        "ounces.replace([98, 99], np.nan, inplace=True)\r\n",
        "```\r\n",
        "\r\n"
      ]
    },
    {
      "cell_type": "markdown",
      "metadata": {
        "id": "qCIU16K3ZzNX"
      },
      "source": [
        "__Instructions:__\r\n",
        "\r\n",
        "- In the `'nbrnaliv'` column, replace the value `8`, in place, with the special value `NaN`.\r\n",
        "\r\n",
        "- Confirm that the value `8` no longer appears in this column by printing the values and their frequencies."
      ]
    },
    {
      "cell_type": "code",
      "metadata": {
        "colab": {
          "base_uri": "https://localhost:8080/"
        },
        "id": "lC3-k7g7dXa4",
        "outputId": "b6d5d644-2ad1-4c72-b3f5-0f436423735e"
      },
      "source": [
        "nsfg['nbrnaliv'].value_counts()"
      ],
      "execution_count": 12,
      "outputs": [
        {
          "output_type": "execute_result",
          "data": {
            "text/plain": [
              "1.0    6379\n",
              "2.0     100\n",
              "3.0       5\n",
              "8.0       1\n",
              "Name: nbrnaliv, dtype: int64"
            ]
          },
          "metadata": {
            "tags": []
          },
          "execution_count": 12
        }
      ]
    },
    {
      "cell_type": "code",
      "metadata": {
        "colab": {
          "base_uri": "https://localhost:8080/"
        },
        "id": "-AlxfK5ZZRqm",
        "outputId": "5201d32c-eb30-4f45-b0d2-ffbbd3eb79cf"
      },
      "source": [
        "# Replace the value 8 with NaN\r\n",
        "nsfg['nbrnaliv'].replace([8], np.nan, inplace=True)\r\n",
        "\r\n",
        "# Print the values and their frequencies\r\n",
        "print(nsfg['nbrnaliv'].value_counts())"
      ],
      "execution_count": 13,
      "outputs": [
        {
          "output_type": "stream",
          "text": [
            "1.0    6379\n",
            "2.0     100\n",
            "3.0       5\n",
            "Name: nbrnaliv, dtype: int64\n"
          ],
          "name": "stdout"
        }
      ]
    },
    {
      "cell_type": "markdown",
      "metadata": {
        "id": "7fNHUnO6eZuN"
      },
      "source": [
        "## __05 Compute a variable__\r\n",
        "\r\n",
        "For each pregnancy in the NSFG dataset, the variable `'agecon'` encodes the respondent's __age at conception__, and `'agepreg'` the respondent's __age at the end of the pregnancy__.\r\n",
        "\r\n",
        "Both variables are recorded as integers with two implicit decimal places, so the value `2575` means that the respondent's age was `25.75`.\r\n"
      ]
    },
    {
      "cell_type": "markdown",
      "metadata": {
        "id": "atiXB5fwepjR"
      },
      "source": [
        "__Instructions:__\r\n",
        "\r\n",
        "- Select `'agecon'` and `'agepreg'`, divide them by `100`, and assign them to the local variables `agecon` and `agepreg`.\r\n",
        "\r\n",
        "- Compute the difference, which is an estimate of the duration of the pregnancy. Keep in mind that for each pregnancy, `agepreg` will be larger than `agecon`.\r\n",
        "\r\n",
        "- Use `.describe()` to compute the mean duration and other summary statistics.\r\n",
        "\r\n"
      ]
    },
    {
      "cell_type": "code",
      "metadata": {
        "colab": {
          "base_uri": "https://localhost:8080/"
        },
        "id": "zEUuJZxkfbqL",
        "outputId": "9e151c5f-feaf-4232-88bd-c66198474032"
      },
      "source": [
        "# Select the columns and divide by 100\r\n",
        "agecon = nsfg['agecon'] / 100\r\n",
        "agepreg = nsfg['agepreg'] / 100\r\n",
        "\r\n",
        "# Compute the difference\r\n",
        "preg_length = agepreg - agecon\r\n",
        "\r\n",
        "# Compute summary statistics\r\n",
        "print(preg_length.describe())"
      ],
      "execution_count": 14,
      "outputs": [
        {
          "output_type": "stream",
          "text": [
            "count    9109.000000\n",
            "mean        0.552069\n",
            "std         0.271479\n",
            "min         0.000000\n",
            "25%         0.250000\n",
            "50%         0.670000\n",
            "75%         0.750000\n",
            "max         0.920000\n",
            "dtype: float64\n"
          ],
          "name": "stdout"
        }
      ]
    },
    {
      "cell_type": "markdown",
      "metadata": {
        "id": "wojxtOu_rBCK"
      },
      "source": [
        "## __06 Make a histogram__\r\n",
        "\r\n",
        "Histograms are one of the most useful tools in exploratory data analysis. They quickly give you an overview of the distribution of a variable, that is, what values the variable can have, and how many times each value appears.\r\n",
        "\r\n",
        "As we saw in a previous exercise, the NSFG dataset includes a variable `'agecon'` that records age at conception for each pregnancy. Here, you're going to plot a histogram of this variable. You'll use the `bins` parameter that you saw in the video, and also a new parameter - `histtype`."
      ]
    },
    {
      "cell_type": "markdown",
      "metadata": {
        "id": "khf9Rjc8rK_E"
      },
      "source": [
        "__Instructions__\r\n",
        "\r\n",
        "- Plot a histogram of `agecon` with 20 bins.\r\n",
        "\r\n",
        "- Adapt your code to make an unfilled histogram by setting the parameter `histtype` to be `'step'`."
      ]
    },
    {
      "cell_type": "code",
      "metadata": {
        "colab": {
          "base_uri": "https://localhost:8080/",
          "height": 278
        },
        "id": "07k8UP-frAuR",
        "outputId": "4dc09498-ad4e-40cd-b56f-16a11e598893"
      },
      "source": [
        "# Plot the histogram\r\n",
        "plt.hist(agecon, bins=20)\r\n",
        "\r\n",
        "# Label the axes\r\n",
        "plt.xlabel('Age at conception')\r\n",
        "plt.ylabel('Number of pregnancies')\r\n",
        "\r\n",
        "# Show the figure\r\n",
        "plt.show()"
      ],
      "execution_count": 15,
      "outputs": [
        {
          "output_type": "display_data",
          "data": {
            "image/png": "[encoded data removed]",
            "text/plain": [
              "<Figure size 432x288 with 1 Axes>"
            ]
          },
          "metadata": {
            "tags": [],
            "needs_background": "light"
          }
        }
      ]
    },
    {
      "cell_type": "code",
      "metadata": {
        "colab": {
          "base_uri": "https://localhost:8080/",
          "height": 278
        },
        "id": "tiMgicqys1fX",
        "outputId": "f0084250-816c-4483-93ac-b4d5b8a770d0"
      },
      "source": [
        "# Plot the histogram\r\n",
        "plt.hist(agecon, bins=20, histtype='step')\r\n",
        "\r\n",
        "# Label the axes\r\n",
        "plt.xlabel('Age at conception')\r\n",
        "plt.ylabel('Number of pregnancies')\r\n",
        "\r\n",
        "# Show the figure\r\n",
        "plt.show()"
      ],
      "execution_count": 16,
      "outputs": [
        {
          "output_type": "display_data",
          "data": {
            "image/png": "[encoded data removed]",
            "text/plain": [
              "<Figure size 432x288 with 1 Axes>"
            ]
          },
          "metadata": {
            "tags": [],
            "needs_background": "light"
          }
        }
      ]
    },
    {
      "cell_type": "markdown",
      "metadata": {
        "id": "Y6g6RnADFp5P"
      },
      "source": [
        "## __Validation__\r\n",
        "\r\n",
        "One way to validate data is to compute basic statistics and compare them with published results. For example, the NSFG codebook includes tables that summarize each variable. Here is the table for outcome, which encodes the outcome of each pregnancy:\r\n",
        "\r\n",
        "|value  |label               |Total|\r\n",
        "|-------|--------------------|-----|\r\n",
        "|1      |LIVE BIRTH          |6489|\r\n",
        "|2      |INDUCED ABORTION    |947|\r\n",
        "|3      |STILLBIRTH          |86|\r\n",
        "|4      |MISCARRIAGE         |1468|\r\n",
        "|5      |ECTOPIC PREGNANCY   |118|\r\n",
        "|6      |CURRENT PREGNANCY   |249|"
      ]
    },
    {
      "cell_type": "code",
      "metadata": {
        "colab": {
          "base_uri": "https://localhost:8080/"
        },
        "id": "rqFf8aWDDkaY",
        "outputId": "19f8f593-dae1-48ba-fec0-dcee8e415b7d"
      },
      "source": [
        "nsfg.outcome.value_counts().sort_index()"
      ],
      "execution_count": 17,
      "outputs": [
        {
          "output_type": "execute_result",
          "data": {
            "text/plain": [
              "1    6489\n",
              "2     947\n",
              "3      86\n",
              "4    1469\n",
              "5     118\n",
              "6     249\n",
              "Name: outcome, dtype: int64"
            ]
          },
          "metadata": {
            "tags": []
          },
          "execution_count": 17
        }
      ]
    },
    {
      "cell_type": "code",
      "metadata": {
        "colab": {
          "base_uri": "https://localhost:8080/"
        },
        "id": "kJ51ShepGj8q",
        "outputId": "1dbe9630-ef8a-41e5-c9ea-935b187196bf"
      },
      "source": [
        "nsfg.birthwgt_lb1.value_counts(sort=False)"
      ],
      "execution_count": 18,
      "outputs": [
        {
          "output_type": "execute_result",
          "data": {
            "text/plain": [
              "5.0      586\n",
              "4.0      196\n",
              "8.0     1168\n",
              "6.0     1666\n",
              "7.0     2146\n",
              "3.0       67\n",
              "10.0      82\n",
              "1.0       34\n",
              "12.0       7\n",
              "2.0       47\n",
              "14.0       2\n",
              "0.0        6\n",
              "98.0       1\n",
              "17.0       1\n",
              "99.0      94\n",
              "9.0      363\n",
              "11.0      17\n",
              "13.0       2\n",
              "Name: birthwgt_lb1, dtype: int64"
            ]
          },
          "metadata": {
            "tags": []
          },
          "execution_count": 18
        }
      ]
    },
    {
      "cell_type": "markdown",
      "metadata": {
        "id": "-cojhB5DMKbv"
      },
      "source": [
        "The counts for 6, 7, and 8 pounds check out, and if you add up the counts for 0-5 and 9-95, they check out, too. But if you look more closely,you will notice errors in the data a 0.0, 99.0 & 98.0 pound baby!"
      ]
    },
    {
      "cell_type": "code",
      "metadata": {
        "colab": {
          "base_uri": "https://localhost:8080/"
        },
        "id": "sqiDA1MjP8MG",
        "outputId": "9304ebfe-fe79-4ad4-df92-3408ab35e888"
      },
      "source": [
        "clean_birthwgt_lb1 = nsfg['birthwgt_lb1'].replace([0, 98, 99], np.nan)\r\n",
        "clean_birthwgt_lb1.value_counts(sort=False)"
      ],
      "execution_count": 19,
      "outputs": [
        {
          "output_type": "execute_result",
          "data": {
            "text/plain": [
              "5.0      586\n",
              "4.0      196\n",
              "8.0     1168\n",
              "6.0     1666\n",
              "7.0     2146\n",
              "3.0       67\n",
              "10.0      82\n",
              "1.0       34\n",
              "12.0       7\n",
              "2.0       47\n",
              "14.0       2\n",
              "17.0       1\n",
              "9.0      363\n",
              "11.0      17\n",
              "13.0       2\n",
              "Name: birthwgt_lb1, dtype: int64"
            ]
          },
          "metadata": {
            "tags": []
          },
          "execution_count": 19
        }
      ]
    },
    {
      "cell_type": "markdown",
      "metadata": {
        "id": "kJwGZOg6tCtu"
      },
      "source": [
        "## __07 Compute birth weight__"
      ]
    },
    {
      "cell_type": "markdown",
      "metadata": {
        "id": "DmmboaOktJd2"
      },
      "source": [
        "Now let's pull together the steps in this chapter to compute the average birth weight for full-term babies.\r\n",
        "\r\n",
        "I've provided a function, `resample_rows_weighted`, that takes the NSFG data and resamples it using the sampling weights in `wgt2013_2015`. The result is a sample that is representative of the U.S. population.\r\n",
        "\r\n",
        "Then I extract `birthwgt_lb1` and `birthwgt_oz1`, replace special codes with `NaN`, and compute total birth weight in pounds, `birth_weight`."
      ]
    },
    {
      "cell_type": "code",
      "metadata": {
        "id": "OLJ7LyhJtHHK"
      },
      "source": [
        "na_vals = [0, 98, 99]\r\n",
        "\r\n",
        "# Clean the weight variables\r\n",
        "pounds = nsfg['birthwgt_lb1'].replace(na_vals, np.nan)\r\n",
        "ounces = nsfg['birthwgt_oz1'].replace(na_vals, np.nan)\r\n",
        "\r\n",
        "# Compute total birth weight\r\n",
        "birth_weight = pounds + ounces/16"
      ],
      "execution_count": 20,
      "outputs": []
    },
    {
      "cell_type": "code",
      "metadata": {
        "id": "i3OMLYQsPkDM"
      },
      "source": [
        ""
      ],
      "execution_count": 20,
      "outputs": []
    },
    {
      "cell_type": "markdown",
      "metadata": {
        "id": "q1Bu-8rBtfHx"
      },
      "source": [
        "__Instructions__\r\n",
        "\r\n",
        "- Make a Boolean Series called full_term that is true for babies with 'prglngth' greater than or equal to 37 weeks.\r\n",
        "\r\n",
        "- Use full_term and birth_weight to select birth weight in pounds for full-term babies. Store the result in full_term_weight.\r\n",
        "\r\n",
        "- Compute the mean weight of full-term babies."
      ]
    },
    {
      "cell_type": "code",
      "metadata": {
        "colab": {
          "base_uri": "https://localhost:8080/"
        },
        "id": "Ifh11_-kuG2N",
        "outputId": "3ad60946-9a0c-41a2-f851-efaef6484454"
      },
      "source": [
        "# Create a Boolean Series for full-term babies\r\n",
        "full_term = nsfg['prglngth'] >= 37\r\n",
        "\r\n",
        "# Select the weights of full-term babies\r\n",
        "full_term_weight = birth_weight[full_term]\r\n",
        "print(full_term_weight)\r\n",
        "\r\n",
        "# Compute the mean weight of full-term babies\r\n",
        "print('Mean weight of full-term babies is {}'.format(full_term_weight.mean()))"
      ],
      "execution_count": 21,
      "outputs": [
        {
          "output_type": "stream",
          "text": [
            "0       5.2500\n",
            "4       8.8125\n",
            "9       8.6250\n",
            "14      6.5000\n",
            "15      5.5000\n",
            "         ...  \n",
            "9350    7.7500\n",
            "9352       NaN\n",
            "9354    8.4375\n",
            "9356    8.1875\n",
            "9357    8.3125\n",
            "Length: 5616, dtype: float64\n",
            "Mean weight of full-term babies is 7.383367875647669\n"
          ],
          "name": "stdout"
        }
      ]
    },
    {
      "cell_type": "markdown",
      "metadata": {
        "id": "JYUykMrw8iz8"
      },
      "source": [
        "## __08 Filter__\r\n",
        "\r\n",
        "In the above exercise, we computed the __mean birth weight__ for __full-term babies__; we have filtered out preterm babies _because their distribution of weight is different_.\r\n",
        "\r\n",
        "The distribution of weight is also different for multiple births, like twins and triplets. \r\n",
        "\r\n",
        "In this exercise, you'll filter them out, too, and see what effect it has on the mean."
      ]
    },
    {
      "cell_type": "markdown",
      "metadata": {
        "id": "BcHCE0-19Gwb"
      },
      "source": [
        "__Instructions__\r\n",
        "\r\n",
        "- Use the variable __'nbrnaliv'__ to make a Boolean Series that is __True__ for single births (where __'nbrnaliv'__ equals 1) and __False__ otherwise.\r\n",
        "\r\n",
        "- Use Boolean Series and logical operators to select single, full-term babies and compute their mean birth weight.\r\n",
        "\r\n",
        "- For comparison, select multiple, full-term babies and compute their mean birth weight."
      ]
    },
    {
      "cell_type": "code",
      "metadata": {
        "colab": {
          "base_uri": "https://localhost:8080/"
        },
        "id": "WuPCXKBQ8hQv",
        "outputId": "1ed4f878-1537-4264-edd6-42cb63146213"
      },
      "source": [
        "# Filter full-term babies\r\n",
        "full_term = nsfg['prglngth'] >= 37\r\n",
        "\r\n",
        "# Filter single births\r\n",
        "single = nsfg['nbrnaliv'] == 1\r\n",
        "\r\n",
        "# Compute birth weight for single full-term babies\r\n",
        "single_full_term_weight = birth_weight[single & full_term]\r\n",
        "print('Single full-term mean:', single_full_term_weight.mean())\r\n",
        "\r\n",
        "# Compute birth weight for multiple full-term babies\r\n",
        "mult_full_term_weight = birth_weight[~single & full_term]\r\n",
        "print('Multiple full-term mean:', mult_full_term_weight.mean())"
      ],
      "execution_count": 22,
      "outputs": [
        {
          "output_type": "stream",
          "text": [
            "Single full-term mean: 7.396612515670706\n",
            "Multiple full-term mean: 5.75801282051282\n"
          ],
          "name": "stdout"
        }
      ]
    },
    {
      "cell_type": "markdown",
      "metadata": {
        "id": "JgY42ReeDSNL"
      },
      "source": [
        "> The bitwise operator `~` (tilde) is a __Complement Operator__. It takes one bit operand and returns its complement. If the operand is 1, it returns 0, and if it is 0, it returns 1"
      ]
    },
    {
      "cell_type": "markdown",
      "metadata": {
        "id": "PVCNwk0r1Kv2"
      },
      "source": [
        "<p align='center'>\r\n",
        "    <a href=\"https://twitter.com/F4izy\">\r\n",
        "        <img src=\"https://th.bing.com/th/id/OIP.FCKMemzqNplY37Jwi0Yk3AHaGl?w=233&h=207&c=7&o=5&pid=1.7\" width=50px\r\n",
        "            height=50px>\r\n",
        "    </a>\r\n",
        "    <a href=\"https://www.linkedin.com/in/mohd-faizy/\">\r\n",
        "        <img src='https://th.bing.com/th/id/OIP.idrBN-LfvMIZl370Vb65SgHaHa?pid=Api&rs=1' width=50px height=50px>\r\n",
        "    </a>\r\n",
        "</p>"
      ]
    }
  ]
}