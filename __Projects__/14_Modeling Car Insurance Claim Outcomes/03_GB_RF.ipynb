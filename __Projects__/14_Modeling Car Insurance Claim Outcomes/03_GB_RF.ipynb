{
  "cells": [
    {
      "cell_type": "code",
      "execution_count": 9,
      "metadata": {
        "id": "aVhllWMHnwce"
      },
      "outputs": [],
      "source": [
        "# Link to the dataset\n",
        "url = \"https://raw.githubusercontent.com/mohd-faizy/CAREER-TRACK-Data-Scientist-with-Python/main/__Projects__/14_Modeling%20Car%20Insurance%20Claim%20Outcomes/car_insurance.csv\""
      ]
    },
    {
      "cell_type": "code",
      "execution_count": 10,
      "metadata": {
        "colab": {
          "base_uri": "https://localhost:8080/"
        },
        "id": "ElOz0f4MphU0",
        "outputId": "7523cd2b-dc71-4c38-ff81-2f10bee16eca"
      },
      "outputs": [
        {
          "name": "stdout",
          "output_type": "stream",
          "text": [
            "       id  age  gender driving_experience    education         income  \\\n",
            "0  569520    3       0               0-9y  high school    upper class   \n",
            "1  750365    0       1               0-9y         none        poverty   \n",
            "2  199901    0       0               0-9y  high school  working class   \n",
            "3  478866    0       1               0-9y   university  working class   \n",
            "4  731664    1       1             10-19y         none  working class   \n",
            "\n",
            "   credit_score  vehicle_ownership vehicle_year  married  children  \\\n",
            "0      0.629027                1.0   after 2015      0.0       1.0   \n",
            "1      0.357757                0.0  before 2015      0.0       0.0   \n",
            "2      0.493146                1.0  before 2015      0.0       0.0   \n",
            "3      0.206013                1.0  before 2015      0.0       1.0   \n",
            "4      0.388366                1.0  before 2015      0.0       0.0   \n",
            "\n",
            "   postal_code  annual_mileage vehicle_type  speeding_violations  duis  \\\n",
            "0        10238         12000.0        sedan                    0     0   \n",
            "1        10238         16000.0        sedan                    0     0   \n",
            "2        10238         11000.0        sedan                    0     0   \n",
            "3        32765         11000.0        sedan                    0     0   \n",
            "4        32765         12000.0        sedan                    2     0   \n",
            "\n",
            "   past_accidents  outcome  \n",
            "0               0      0.0  \n",
            "1               0      1.0  \n",
            "2               0      0.0  \n",
            "3               0      0.0  \n",
            "4               1      1.0  \n"
          ]
        }
      ],
      "source": [
        "import pandas as pd\n",
        "\n",
        "df_ml = pd.read_csv(url)\n",
        "print(df_ml.head())\n"
      ]
    },
    {
      "cell_type": "code",
      "execution_count": 11,
      "metadata": {
        "colab": {
          "base_uri": "https://localhost:8080/"
        },
        "id": "HbMcPrfLpj3X",
        "outputId": "a7789124-5301-4cc5-af65-fd3630116c62"
      },
      "outputs": [
        {
          "name": "stdout",
          "output_type": "stream",
          "text": [
            "  age gender driving_experience education income  credit_score  \\\n",
            "0   3      0                  0         1      3      0.634374   \n",
            "1   0      1                  0         0      0      0.335441   \n",
            "2   0      0                  0         1      2      0.484636   \n",
            "3   0      1                  0         2      2      0.168222   \n",
            "4   1      1                  1         0      2      0.369171   \n",
            "\n",
            "  vehicle_ownership vehicle_year married children postal_code  annual_mileage  \\\n",
            "0               1.0            1     0.0      1.0           1            0.50   \n",
            "1               0.0            0     0.0      0.0           1            0.70   \n",
            "2               1.0            0     0.0      0.0           1            0.45   \n",
            "3               1.0            0     0.0      1.0           2            0.45   \n",
            "4               1.0            0     0.0      0.0           2            0.50   \n",
            "\n",
            "  vehicle_type  speeding_violations  duis  past_accidents  outcome  \n",
            "0            0                    0     0               0      0.0  \n",
            "1            0                    0     0               0      1.0  \n",
            "2            0                    0     0               0      0.0  \n",
            "3            0                    0     0               0      0.0  \n",
            "4            0                    2     0               1      1.0  \n"
          ]
        }
      ],
      "source": [
        "from sklearn.impute import SimpleImputer\n",
        "from sklearn.preprocessing import MinMaxScaler\n",
        "\n",
        "# Define the mappings for categorical columns\n",
        "mappings = {\n",
        "    'driving_experience': {'0-9y': 0, '10-19y': 1, '20-29y': 2, '30y+': 3},\n",
        "    'education': {'none': 0, 'high school': 1, 'university': 2},\n",
        "    'income': {'poverty': 0, 'middle class': 1, 'working class': 2, 'upper class': 3},\n",
        "    'vehicle_year': {'before 2015': 0, 'after 2015': 1},\n",
        "    'vehicle_type': {'sedan': 0, 'sports car': 1},\n",
        "    'postal_code': {10238: 1, 32765: 2, 92101: 3, 21217: 4}\n",
        "}\n",
        "\n",
        "# Replace values based on mappings\n",
        "df_ml.replace(mappings, inplace=True)\n",
        "\n",
        "# Convert categorical columns to categorical data type\n",
        "cat_cols = ['age', 'gender', 'driving_experience', 'education', 'income', 'vehicle_ownership',\n",
        "            'vehicle_year', 'married', 'children', 'vehicle_type', 'postal_code']\n",
        "df_ml[cat_cols] = df_ml[cat_cols].astype('category')\n",
        "\n",
        "# Handling missing values in 'credit_score' and 'annual_mileage'\n",
        "imputer = SimpleImputer(strategy='mean')\n",
        "df_ml['credit_score'] = imputer.fit_transform(df_ml[['credit_score']])\n",
        "df_ml['annual_mileage'] = imputer.fit_transform(df_ml[['annual_mileage']])\n",
        "\n",
        "# Scaling numerical columns\n",
        "scaler = MinMaxScaler()\n",
        "df_ml[['credit_score', 'annual_mileage']] = scaler.fit_transform(df_ml[['credit_score', 'annual_mileage']])\n",
        "\n",
        "# Drop columns not needed for the model\n",
        "columns_to_drop = ['id']\n",
        "df_ml = df_ml.drop(columns_to_drop, axis=1)\n",
        "print(df_ml.head())\n"
      ]
    },
    {
      "cell_type": "code",
      "execution_count": 12,
      "metadata": {
        "colab": {
          "base_uri": "https://localhost:8080/"
        },
        "id": "JZMy40V7pln_",
        "outputId": "e67aa50e-fcf6-4981-9964-a8bc93efbb7d"
      },
      "outputs": [
        {
          "name": "stdout",
          "output_type": "stream",
          "text": [
            "    credit_score  annual_mileage  speeding_violations      duis  \\\n",
            "0       0.865914    1.130571e-01            -0.661462 -0.431020   \n",
            "1      -1.208879    1.605576e+00            -0.661462 -0.431020   \n",
            "2      -0.173367   -2.600726e-01            -0.661462 -0.431020   \n",
            "3      -2.369485   -2.600726e-01            -0.661462 -0.431020   \n",
            "4      -0.974770    1.130571e-01             0.230657 -0.431020   \n",
            "5       0.790195    4.861868e-01             0.676717 -0.431020   \n",
            "6      -0.174914    4.861868e-01             2.460955 -0.431020   \n",
            "7      -0.360421    8.593165e-01            -0.661462 -0.431020   \n",
            "8       0.045907    4.861868e-01            -0.661462 -0.431020   \n",
            "9       0.349673   -2.600726e-01            -0.661462 -0.431020   \n",
            "10      0.799632   -6.332023e-01             2.014895  3.172827   \n",
            "11      1.636903    1.130571e-01             1.122776 -0.431020   \n",
            "12      0.927235   -1.379462e+00             1.122776  1.370903   \n",
            "13      0.577053    4.142572e-16            -0.661462 -0.431020   \n",
            "14     -0.414888    1.130571e-01            -0.661462  3.172827   \n",
            "15      1.889050    4.142572e-16            -0.661462 -0.431020   \n",
            "16      2.144331    4.142572e-16             3.799133  3.172827   \n",
            "17      0.000000    1.130571e-01            -0.661462 -0.431020   \n",
            "18      1.260320    4.142572e-16            -0.661462 -0.431020   \n",
            "19     -0.750303    2.351835e+00            -0.661462 -0.431020   \n",
            "\n",
            "    past_accidents  age_1  age_2  age_3  gender_1  driving_experience_1  ...  \\\n",
            "0        -0.639263    0.0    0.0    1.0       0.0                   0.0  ...   \n",
            "1        -0.639263    0.0    0.0    0.0       1.0                   0.0  ...   \n",
            "2        -0.639263    0.0    0.0    0.0       0.0                   0.0  ...   \n",
            "3        -0.639263    0.0    0.0    0.0       1.0                   0.0  ...   \n",
            "4        -0.034072    1.0    0.0    0.0       1.0                   1.0  ...   \n",
            "5         1.176310    0.0    1.0    0.0       0.0                   0.0  ...   \n",
            "6         1.176310    0.0    0.0    1.0       1.0                   0.0  ...   \n",
            "7        -0.639263    1.0    0.0    0.0       0.0                   0.0  ...   \n",
            "8        -0.639263    0.0    1.0    0.0       0.0                   0.0  ...   \n",
            "9        -0.639263    0.0    1.0    0.0       0.0                   0.0  ...   \n",
            "10        3.597073    0.0    0.0    1.0       1.0                   0.0  ...   \n",
            "11       -0.639263    0.0    0.0    1.0       0.0                   0.0  ...   \n",
            "12        0.571119    0.0    1.0    0.0       1.0                   0.0  ...   \n",
            "13       -0.639263    0.0    0.0    0.0       0.0                   0.0  ...   \n",
            "14       -0.034072    1.0    0.0    0.0       1.0                   1.0  ...   \n",
            "15       -0.639263    1.0    0.0    0.0       0.0                   0.0  ...   \n",
            "16       -0.034072    0.0    0.0    1.0       1.0                   0.0  ...   \n",
            "17       -0.639263    0.0    0.0    0.0       1.0                   0.0  ...   \n",
            "18       -0.639263    1.0    0.0    0.0       0.0                   0.0  ...   \n",
            "19       -0.639263    0.0    0.0    0.0       0.0                   0.0  ...   \n",
            "\n",
            "    income_2  income_3  vehicle_ownership_1.0  vehicle_year_1  married_1.0  \\\n",
            "0        0.0       1.0                    1.0             1.0          0.0   \n",
            "1        0.0       0.0                    0.0             0.0          0.0   \n",
            "2        1.0       0.0                    1.0             0.0          0.0   \n",
            "3        1.0       0.0                    1.0             0.0          0.0   \n",
            "4        1.0       0.0                    1.0             0.0          0.0   \n",
            "5        0.0       1.0                    1.0             1.0          0.0   \n",
            "6        0.0       1.0                    0.0             1.0          1.0   \n",
            "7        1.0       0.0                    0.0             1.0          0.0   \n",
            "8        1.0       0.0                    0.0             0.0          1.0   \n",
            "9        0.0       1.0                    1.0             0.0          0.0   \n",
            "10       0.0       1.0                    1.0             1.0          1.0   \n",
            "11       0.0       1.0                    1.0             1.0          1.0   \n",
            "12       0.0       1.0                    1.0             0.0          1.0   \n",
            "13       0.0       1.0                    1.0             0.0          0.0   \n",
            "14       0.0       0.0                    1.0             0.0          1.0   \n",
            "15       0.0       1.0                    0.0             1.0          1.0   \n",
            "16       0.0       1.0                    1.0             0.0          1.0   \n",
            "17       0.0       0.0                    0.0             0.0          1.0   \n",
            "18       0.0       1.0                    1.0             0.0          0.0   \n",
            "19       1.0       0.0                    1.0             0.0          0.0   \n",
            "\n",
            "    children_1.0  vehicle_type_1  postal_code_2  postal_code_3  postal_code_4  \n",
            "0            1.0             0.0            0.0            0.0            0.0  \n",
            "1            0.0             0.0            0.0            0.0            0.0  \n",
            "2            0.0             0.0            0.0            0.0            0.0  \n",
            "3            1.0             0.0            1.0            0.0            0.0  \n",
            "4            0.0             0.0            1.0            0.0            0.0  \n",
            "5            1.0             0.0            0.0            0.0            0.0  \n",
            "6            1.0             0.0            0.0            0.0            0.0  \n",
            "7            1.0             0.0            0.0            0.0            0.0  \n",
            "8            0.0             0.0            0.0            0.0            0.0  \n",
            "9            1.0             0.0            1.0            0.0            0.0  \n",
            "10           1.0             0.0            0.0            0.0            0.0  \n",
            "11           0.0             0.0            1.0            0.0            0.0  \n",
            "12           1.0             0.0            0.0            0.0            0.0  \n",
            "13           1.0             0.0            0.0            0.0            0.0  \n",
            "14           1.0             0.0            0.0            0.0            0.0  \n",
            "15           0.0             0.0            0.0            0.0            0.0  \n",
            "16           1.0             0.0            1.0            0.0            0.0  \n",
            "17           0.0             0.0            1.0            0.0            0.0  \n",
            "18           1.0             0.0            1.0            0.0            0.0  \n",
            "19           1.0             0.0            0.0            0.0            0.0  \n",
            "\n",
            "[20 rows x 25 columns]\n",
            "(10000, 25)\n"
          ]
        }
      ],
      "source": [
        "from sklearn.compose import ColumnTransformer\n",
        "from sklearn.pipeline import Pipeline\n",
        "from sklearn.preprocessing import StandardScaler, OneHotEncoder\n",
        "\n",
        "# Define columns for preprocessing\n",
        "numerical_features = ['credit_score', 'annual_mileage', 'speeding_violations', 'duis', 'past_accidents']\n",
        "categorical_features = ['age', 'gender', 'driving_experience', 'education', 'income', 'vehicle_ownership',\n",
        "                        'vehicle_year', 'married', 'children', 'vehicle_type', 'postal_code']\n",
        "\n",
        "# Preprocessing for numerical data\n",
        "numerical_transformer = Pipeline(steps=[\n",
        "    ('scaler', StandardScaler())\n",
        "])\n",
        "\n",
        "# Preprocessing for categorical data\n",
        "categorical_transformer = Pipeline(steps=[\n",
        "    ('onehot', OneHotEncoder(drop='first', sparse_output=False))\n",
        "])\n",
        "\n",
        "# Combine numerical and categorical transformers\n",
        "preprocessor = ColumnTransformer(\n",
        "    transformers=[\n",
        "        ('num', numerical_transformer, numerical_features),\n",
        "        ('cat', categorical_transformer, categorical_features)\n",
        "    ])\n",
        "\n",
        "# Apply the transformations\n",
        "X_preprocessed = preprocessor.fit_transform(df_ml)\n",
        "\n",
        "# Capture transformed column names for categorical features\n",
        "categorical_columns = preprocessor.named_transformers_['cat'].named_steps['onehot'].get_feature_names_out(categorical_features)\n",
        "\n",
        "# Combine numerical and transformed categorical column names\n",
        "all_column_names = numerical_features + list(categorical_columns)\n",
        "\n",
        "# Convert NumPy array back to a DataFrame with correct column names\n",
        "X_preprocessed_df = pd.DataFrame(X_preprocessed, columns=all_column_names)\n",
        "print(X_preprocessed_df.head(20))\n",
        "print(X_preprocessed_df.shape)\n"
      ]
    },
    {
      "cell_type": "code",
      "execution_count": 13,
      "metadata": {
        "colab": {
          "base_uri": "https://localhost:8080/"
        },
        "id": "DJ6-XlIEpoNv",
        "outputId": "81d8ff9b-e624-4566-9140-ca1d4abe4d11"
      },
      "outputs": [
        {
          "name": "stdout",
          "output_type": "stream",
          "text": [
            "Random Forest Accuracy: 0.8285\n",
            "              precision    recall  f1-score   support\n",
            "\n",
            "         0.0       0.85      0.91      0.88      1367\n",
            "         1.0       0.77      0.66      0.71       633\n",
            "\n",
            "    accuracy                           0.83      2000\n",
            "   macro avg       0.81      0.78      0.79      2000\n",
            "weighted avg       0.82      0.83      0.82      2000\n",
            "\n"
          ]
        }
      ],
      "source": [
        "from sklearn.model_selection import train_test_split\n",
        "from sklearn.ensemble import RandomForestClassifier\n",
        "from sklearn.metrics import classification_report, accuracy_score\n",
        "\n",
        "# Split the DataFrame into features (X) and target (y)\n",
        "X = X_preprocessed_df\n",
        "y = df_ml['outcome']\n",
        "\n",
        "# Perform train-test split\n",
        "X_train, X_test, y_train, y_test = train_test_split(X, y, test_size=0.2, random_state=42)\n",
        "\n",
        "# Train the Random Forest model\n",
        "rf_model = RandomForestClassifier(random_state=42)\n",
        "rf_model.fit(X_train, y_train)\n",
        "\n",
        "# Make predictions with Random Forest\n",
        "y_pred_rf = rf_model.predict(X_test)\n",
        "\n",
        "# Evaluate the Random Forest model\n",
        "print(\"Random Forest Accuracy:\", accuracy_score(y_test, y_pred_rf))\n",
        "print(classification_report(y_test, y_pred_rf))\n"
      ]
    },
    {
      "cell_type": "code",
      "execution_count": 6,
      "metadata": {
        "colab": {
          "base_uri": "https://localhost:8080/"
        },
        "id": "ghy4GoHLp0UK",
        "outputId": "7641c15a-8d49-47ae-fbec-dab9296b9a41"
      },
      "outputs": [
        {
          "name": "stdout",
          "output_type": "stream",
          "text": [
            "Best parameters for Random Forest:  {'max_depth': 10, 'min_samples_leaf': 1, 'min_samples_split': 10, 'n_estimators': 200}\n",
            "Tuned Random Forest Accuracy: 0.848\n",
            "              precision    recall  f1-score   support\n",
            "\n",
            "         0.0       0.88      0.91      0.89      1367\n",
            "         1.0       0.78      0.72      0.75       633\n",
            "\n",
            "    accuracy                           0.85      2000\n",
            "   macro avg       0.83      0.81      0.82      2000\n",
            "weighted avg       0.85      0.85      0.85      2000\n",
            "\n"
          ]
        }
      ],
      "source": [
        "from sklearn.model_selection import GridSearchCV\n",
        "\n",
        "# Define the parameter grid for Random Forest\n",
        "rf_param_grid = {\n",
        "    'n_estimators': [100, 200, 300],\n",
        "    'max_depth': [None, 10, 20, 30],\n",
        "    'min_samples_split': [2, 5, 10],\n",
        "    'min_samples_leaf': [1, 2, 4]\n",
        "}\n",
        "\n",
        "# Create a GridSearchCV object for Random Forest\n",
        "rf_grid_search = GridSearchCV(RandomForestClassifier(random_state=42), rf_param_grid, cv=5, n_jobs=-1, scoring='accuracy')\n",
        "\n",
        "# Fit the Random Forest model\n",
        "rf_grid_search.fit(X_train, y_train)\n",
        "\n",
        "# Best parameters found\n",
        "print(\"Best parameters for Random Forest: \", rf_grid_search.best_params_)\n",
        "\n",
        "# Make predictions with the best Random Forest model\n",
        "best_rf_model = rf_grid_search.best_estimator_\n",
        "y_pred_rf_best = best_rf_model.predict(X_test)\n",
        "\n",
        "# Evaluate the tuned Random Forest model\n",
        "print(\"Tuned Random Forest Accuracy:\", accuracy_score(y_test, y_pred_rf_best))\n",
        "print(classification_report(y_test, y_pred_rf_best))\n"
      ]
    },
    {
      "cell_type": "code",
      "execution_count": 7,
      "metadata": {
        "colab": {
          "base_uri": "https://localhost:8080/"
        },
        "id": "Ke76f1x0pqEn",
        "outputId": "008bd9e1-2243-434c-9ea1-76af23442d0b"
      },
      "outputs": [
        {
          "name": "stdout",
          "output_type": "stream",
          "text": [
            "Gradient Boosting Accuracy: 0.8465\n",
            "              precision    recall  f1-score   support\n",
            "\n",
            "         0.0       0.87      0.91      0.89      1367\n",
            "         1.0       0.79      0.70      0.74       633\n",
            "\n",
            "    accuracy                           0.85      2000\n",
            "   macro avg       0.83      0.81      0.82      2000\n",
            "weighted avg       0.84      0.85      0.84      2000\n",
            "\n"
          ]
        }
      ],
      "source": [
        "from sklearn.ensemble import GradientBoostingClassifier\n",
        "\n",
        "# Train the Gradient Boosting model\n",
        "gb_model = GradientBoostingClassifier(random_state=42)\n",
        "gb_model.fit(X_train, y_train)\n",
        "\n",
        "# Make predictions with Gradient Boosting\n",
        "y_pred_gb = gb_model.predict(X_test)\n",
        "\n",
        "# Evaluate the Gradient Boosting model\n",
        "print(\"Gradient Boosting Accuracy:\", accuracy_score(y_test, y_pred_gb))\n",
        "print(classification_report(y_test, y_pred_gb))"
      ]
    },
    {
      "cell_type": "code",
      "execution_count": 8,
      "metadata": {
        "colab": {
          "base_uri": "https://localhost:8080/"
        },
        "id": "DFLBUVYpp2wS",
        "outputId": "9cae0552-efef-43e9-bca5-fcc11a72c20a"
      },
      "outputs": [
        {
          "name": "stdout",
          "output_type": "stream",
          "text": [
            "Best parameters for Gradient Boosting:  {'learning_rate': 0.1, 'max_depth': 3, 'min_samples_leaf': 4, 'min_samples_split': 2, 'n_estimators': 200, 'subsample': 1.0}\n",
            "Tuned Gradient Boosting Accuracy: 0.845\n",
            "              precision    recall  f1-score   support\n",
            "\n",
            "         0.0       0.87      0.91      0.89      1367\n",
            "         1.0       0.78      0.70      0.74       633\n",
            "\n",
            "    accuracy                           0.84      2000\n",
            "   macro avg       0.83      0.81      0.82      2000\n",
            "weighted avg       0.84      0.84      0.84      2000\n",
            "\n"
          ]
        }
      ],
      "source": [
        "# Define the parameter grid for Gradient Boosting\n",
        "gb_param_grid = {\n",
        "    'n_estimators': [100, 200, 300],\n",
        "    'learning_rate': [0.01, 0.1, 0.2],\n",
        "    'max_depth': [3, 5, 7],\n",
        "    'subsample': [0.8, 1.0],\n",
        "    'min_samples_split': [2, 5, 10],\n",
        "    'min_samples_leaf': [1, 2, 4]\n",
        "}\n",
        "\n",
        "# Create a GridSearchCV object for Gradient Boosting\n",
        "gb_grid_search = GridSearchCV(GradientBoostingClassifier(random_state=42), gb_param_grid, cv=5, n_jobs=-1, scoring='accuracy')\n",
        "\n",
        "# Fit the Gradient Boosting model\n",
        "gb_grid_search.fit(X_train, y_train)\n",
        "\n",
        "# Best parameters found\n",
        "print(\"Best parameters for Gradient Boosting: \", gb_grid_search.best_params_)\n",
        "\n",
        "# Make predictions with the best Gradient Boosting model\n",
        "best_gb_model = gb_grid_search.best_estimator_\n",
        "y_pred_gb_best = best_gb_model.predict(X_test)\n",
        "\n",
        "# Evaluate the tuned Gradient Boosting model\n",
        "print(\"Tuned Gradient Boosting Accuracy:\", accuracy_score(y_test, y_pred_gb_best))\n",
        "print(classification_report(y_test, y_pred_gb_best))"
      ]
    },
    {
      "cell_type": "markdown",
      "metadata": {
        "id": "o61YalcwaxGg"
      },
      "source": [
        "```\n",
        "Best parameters for Gradient Boosting:  {'learning_rate': 0.1, 'max_depth': 3, 'min_samples_leaf': 4, 'min_samples_split': 2, 'n_estimators': 200, 'subsample': 1.0}\n",
        "Tuned Gradient Boosting Accuracy: 0.845\n",
        "              precision    recall  f1-score   support\n",
        "\n",
        "         0.0       0.87      0.91      0.89      1367\n",
        "         1.0       0.78      0.70      0.74       633\n",
        "\n",
        "    accuracy                           0.84      2000\n",
        "   macro avg       0.83      0.81      0.82      2000\n",
        "weighted avg       0.84      0.84      0.84      2000\n",
        "\n",
        "```"
      ]
    }
  ],
  "metadata": {
    "colab": {
      "provenance": [],
      "toc_visible": true
    },
    "kernelspec": {
      "display_name": "Python 3",
      "name": "python3"
    },
    "language_info": {
      "name": "python"
    }
  },
  "nbformat": 4,
  "nbformat_minor": 0
}
