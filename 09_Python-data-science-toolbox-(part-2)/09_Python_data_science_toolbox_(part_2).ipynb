{
  "nbformat": 4,
  "nbformat_minor": 0,
  "metadata": {
    "colab": {
      "provenance": [],
      "toc_visible": true
    },
    "kernelspec": {
      "name": "python3",
      "display_name": "Python 3"
    },
    "language_info": {
      "name": "python"
    }
  },
  "cells": [
    {
      "cell_type": "markdown",
      "source": [
        "# <center>**🐍Python Data Science Toolbox:(Part-1)🐍**</center>"
      ],
      "metadata": {
        "id": "SWtZYSlC45Ky"
      }
    },
    {
      "cell_type": "code",
      "source": [
        "import pandas as pd\n",
        "import numpy as np\n",
        "import seaborn as sns\n",
        "import matplotlib.pyplot as plt"
      ],
      "metadata": {
        "id": "V_3z-JzkBrwy"
      },
      "execution_count": 1,
      "outputs": []
    },
    {
      "cell_type": "code",
      "source": [
        "url_tweets = 'https://raw.githubusercontent.com/mohd-faizy/CAREER-TRACK-Data-Scientist-with-Python/main/09_Python-data-science-toolbox-(part-2)/_datasets/tweets.csv'\n",
        "url_pop = 'https://raw.githubusercontent.com/mohd-faizy/CAREER-TRACK-Data-Scientist-with-Python/main/09_Python-data-science-toolbox-(part-2)/_datasets/world_ind_pop_data.csv'"
      ],
      "metadata": {
        "id": "lZCoenD1aBM2"
      },
      "execution_count": 2,
      "outputs": []
    },
    {
      "cell_type": "markdown",
      "source": [
        "# 1️⃣**Using iterators in Python**"
      ],
      "metadata": {
        "id": "lu3KLhTZ5kGF"
      }
    },
    {
      "cell_type": "markdown",
      "source": [
        "### **Iterators vs. Iterables**\n"
      ],
      "metadata": {
        "id": "Cy_rk-PAXlaq"
      }
    },
    {
      "cell_type": "markdown",
      "source": [
        "**Iterables**"
      ],
      "metadata": {
        "id": "uNDm_5tWwPrM"
      }
    },
    {
      "cell_type": "code",
      "source": [
        "my_list = [1, 2, 3, 4, 5]\n",
        "for item in my_list:\n",
        "    print(item)"
      ],
      "metadata": {
        "colab": {
          "base_uri": "https://localhost:8080/"
        },
        "id": "A55Re-G-wNKh",
        "outputId": "e5e0a98e-17cb-48df-c796-9bd507c5c6f9"
      },
      "execution_count": 3,
      "outputs": [
        {
          "output_type": "stream",
          "name": "stdout",
          "text": [
            "1\n",
            "2\n",
            "3\n",
            "4\n",
            "5\n"
          ]
        }
      ]
    },
    {
      "cell_type": "markdown",
      "source": [
        "**Iterators**"
      ],
      "metadata": {
        "id": "Y7NwqFxCwUAC"
      }
    },
    {
      "cell_type": "code",
      "source": [
        "my_tuple = (1, 2, 3, 4, 5)\n",
        "my_iterator = iter(my_tuple)\n",
        "\n",
        "print(next(my_iterator))  # Output: 1\n",
        "print(next(my_iterator))  # Output: 2\n",
        "print(next(my_iterator))  # Output: 3"
      ],
      "metadata": {
        "colab": {
          "base_uri": "https://localhost:8080/"
        },
        "id": "aEk2X0RxwSDQ",
        "outputId": "3635eadb-fbda-4ed6-f889-45e4af295121"
      },
      "execution_count": 4,
      "outputs": [
        {
          "output_type": "stream",
          "name": "stdout",
          "text": [
            "1\n",
            "2\n",
            "3\n"
          ]
        }
      ]
    },
    {
      "cell_type": "code",
      "source": [
        "# Create a list of strings: flash\n",
        "flash = ['jay garrick', 'barry allen', 'wally west', 'bart allen']\n",
        "\n",
        "# Print each list item in flash using a for loop\n",
        "for name in flash:\n",
        "    print(name)\n",
        "\n",
        "\n",
        "print(\"-\"*20)\n",
        "\n",
        "# Create an iterator for flash: superspeed\n",
        "superhero = iter(flash)\n",
        "\n",
        "# Print each item from the iterator\n",
        "print(next(superhero))\n",
        "print(next(superhero))\n",
        "print(next(superhero))\n",
        "print(next(superhero))"
      ],
      "metadata": {
        "colab": {
          "base_uri": "https://localhost:8080/"
        },
        "id": "M31BGp3mY0lK",
        "outputId": "ad4f8a6a-ee20-4bdb-84f3-92b75e6eee65"
      },
      "execution_count": 5,
      "outputs": [
        {
          "output_type": "stream",
          "name": "stdout",
          "text": [
            "jay garrick\n",
            "barry allen\n",
            "wally west\n",
            "bart allen\n",
            "--------------------\n",
            "jay garrick\n",
            "barry allen\n",
            "wally west\n",
            "bart allen\n"
          ]
        }
      ]
    },
    {
      "cell_type": "markdown",
      "source": [
        "### **Iterating over iterables**"
      ],
      "metadata": {
        "id": "7dCA8HYPYmOK"
      }
    },
    {
      "cell_type": "code",
      "source": [
        "# Create an iterator for range(3): small_value\n",
        "small_value = iter(range(3))\n",
        "\n",
        "# Print the values in small_value\n",
        "print(next(small_value))\n",
        "print(next(small_value))\n",
        "print(next(small_value))\n",
        "\n",
        "print(\"-\"*20)\n",
        "\n",
        "# Loop over range(3) and print the values\n",
        "for num in range(3):\n",
        "    print(num)\n",
        "\n",
        "print(\"-\"*20)\n",
        "\n",
        "# Create an iterator for range(10 ** 100): googol\n",
        "googol = iter(range(10 ** 100))\n",
        "\n",
        "# Print the first 5 values from googol\n",
        "print(next(googol))\n",
        "print(next(googol))\n",
        "print(next(googol))\n",
        "print(next(googol))\n",
        "print(next(googol))"
      ],
      "metadata": {
        "colab": {
          "base_uri": "https://localhost:8080/"
        },
        "id": "kfy6WpZeY1EB",
        "outputId": "261bc329-6b7e-4ad4-9932-6325ddbe4a20"
      },
      "execution_count": 6,
      "outputs": [
        {
          "output_type": "stream",
          "name": "stdout",
          "text": [
            "0\n",
            "1\n",
            "2\n",
            "--------------------\n",
            "0\n",
            "1\n",
            "2\n",
            "--------------------\n",
            "0\n",
            "1\n",
            "2\n",
            "3\n",
            "4\n"
          ]
        }
      ]
    },
    {
      "cell_type": "markdown",
      "source": [
        "\n",
        "### **Iterators as function arguments**\n"
      ],
      "metadata": {
        "id": "sFRgtB-4YRgq"
      }
    },
    {
      "cell_type": "code",
      "source": [
        "# Create a range object: values\n",
        "values = range(10, 21)\n",
        "\n",
        "# Print the range object\n",
        "print(values)\n",
        "\n",
        "# Create a list of integers: values_list\n",
        "values_list = list(values)\n",
        "\n",
        "# Print values_list\n",
        "print(values_list)\n",
        "\n",
        "# Get the sum of values: values_sum\n",
        "values_sum = sum(values)\n",
        "\n",
        "# Print values_sum\n",
        "print(values_sum)"
      ],
      "metadata": {
        "colab": {
          "base_uri": "https://localhost:8080/"
        },
        "id": "cZaRMNDUY1lR",
        "outputId": "6e002c7e-8ce3-473a-ed64-3875e3de29c0"
      },
      "execution_count": 7,
      "outputs": [
        {
          "output_type": "stream",
          "name": "stdout",
          "text": [
            "range(10, 21)\n",
            "[10, 11, 12, 13, 14, 15, 16, 17, 18, 19, 20]\n",
            "165\n"
          ]
        }
      ]
    },
    {
      "cell_type": "markdown",
      "source": [
        "### **Using enumerate**\n"
      ],
      "metadata": {
        "id": "ktv2nUifYTHK"
      }
    },
    {
      "cell_type": "code",
      "source": [
        "# Create a list of strings: mutants\n",
        "mutants = ['charles xavier', \n",
        "            'bobby drake', \n",
        "            'kurt wagner', \n",
        "            'max eisenhardt', \n",
        "            'kitty pryde']\n",
        "\n",
        "# Create a list of tuples: mutant_list\n",
        "mutant_list = list(enumerate(mutants))\n",
        "print(mutant_list)\n",
        "\n",
        "print(\"-\"*20)\n",
        "\n",
        "# Unpack and print the tuple pairs\n",
        "for index1, value1 in enumerate(mutants):\n",
        "    print(index1, value1)\n",
        "\n",
        "print(\"-\"*20)\n",
        "# Change the start index\n",
        "for index2, value2 in enumerate(mutants, start=1):\n",
        "    print(index2, value2)"
      ],
      "metadata": {
        "colab": {
          "base_uri": "https://localhost:8080/"
        },
        "id": "tz5uVsvpY2QB",
        "outputId": "9500fe4d-5833-4d58-ecaa-b784d3fd2713"
      },
      "execution_count": 8,
      "outputs": [
        {
          "output_type": "stream",
          "name": "stdout",
          "text": [
            "[(0, 'charles xavier'), (1, 'bobby drake'), (2, 'kurt wagner'), (3, 'max eisenhardt'), (4, 'kitty pryde')]\n",
            "--------------------\n",
            "0 charles xavier\n",
            "1 bobby drake\n",
            "2 kurt wagner\n",
            "3 max eisenhardt\n",
            "4 kitty pryde\n",
            "--------------------\n",
            "1 charles xavier\n",
            "2 bobby drake\n",
            "3 kurt wagner\n",
            "4 max eisenhardt\n",
            "5 kitty pryde\n"
          ]
        }
      ]
    },
    {
      "cell_type": "markdown",
      "source": [
        "### **Using zip**\n"
      ],
      "metadata": {
        "id": "V7VDy-LPYU0p"
      }
    },
    {
      "cell_type": "code",
      "source": [
        "# Provided lists\n",
        "mutants = ['charles xavier', 'bobby drake',\n",
        "           'kurt wagner', 'max eisenhardt', 'kitty pride']\n",
        "\n",
        "aliases = ['prof x', 'iceman', 'nightcrawler', 'magneto', 'shadowcat']\n",
        "\n",
        "powers = ['telepathy', 'thermokinesis',\n",
        "          'teleportation', 'magnetokinesis', 'intangibility']\n",
        "\n",
        "# Create a zip object using the three lists: mutant_zip\n",
        "mutant_zip = zip(mutants, aliases, powers)\n",
        "print(mutant_zip)\n",
        "\n",
        "print(\"-\"*50)\n",
        "\n",
        "# Create a list of tuples: mutant_data\n",
        "mutant_data = list(zip(mutants, aliases, powers))\n",
        "print(mutant_data)\n",
        "\n",
        "print(\"-\"*50)\n",
        "\n",
        "# Unpack the zip object and print the tuple values\n",
        "for value1, value2, value3 in mutant_zip:\n",
        "    print(value1, value2, value3)"
      ],
      "metadata": {
        "colab": {
          "base_uri": "https://localhost:8080/"
        },
        "id": "_zFNLwDwY2xC",
        "outputId": "0c2d7935-9496-4865-9fd6-634d2e014eab"
      },
      "execution_count": 9,
      "outputs": [
        {
          "output_type": "stream",
          "name": "stdout",
          "text": [
            "<zip object at 0x7f0ee084c400>\n",
            "--------------------------------------------------\n",
            "[('charles xavier', 'prof x', 'telepathy'), ('bobby drake', 'iceman', 'thermokinesis'), ('kurt wagner', 'nightcrawler', 'teleportation'), ('max eisenhardt', 'magneto', 'magnetokinesis'), ('kitty pride', 'shadowcat', 'intangibility')]\n",
            "--------------------------------------------------\n",
            "charles xavier prof x telepathy\n",
            "bobby drake iceman thermokinesis\n",
            "kurt wagner nightcrawler teleportation\n",
            "max eisenhardt magneto magnetokinesis\n",
            "kitty pride shadowcat intangibility\n"
          ]
        }
      ]
    },
    {
      "cell_type": "markdown",
      "source": [
        "### **Using `*` and `zip` to `'unzip'`**\n"
      ],
      "metadata": {
        "id": "rvmIFuvcYWVh"
      }
    },
    {
      "cell_type": "code",
      "source": [
        "# Provided lists\n",
        "mutants = ['charles xavier', 'bobby drake',\n",
        "           'kurt wagner', 'max eisenhardt', 'kitty pride']\n",
        "           \n",
        "powers = ['telepathy', 'thermokinesis',\n",
        "          'teleportation', 'magnetokinesis', 'intangibility']\n",
        "\n",
        "# Create a zip object from mutants and powers: z1\n",
        "z1 = zip(mutants, powers)\n",
        "\n",
        "# Print the tuples in z1 by unpacking with *\n",
        "print(*z1)\n",
        "print(\"-\"*167)\n",
        "\n",
        "# Re-create a zip object from mutants and powers: z1\n",
        "z1 = zip(mutants, powers)\n",
        "\n",
        "# 'Unzip' the tuples in z1 by unpacking with * and zip(): result1, result2\n",
        "result1, result2 = zip(*z1)\n",
        "\n",
        "# Check if unpacked tuples are equivalent to original tuples\n",
        "print(result1 == mutants)\n",
        "print(result2 == powers)"
      ],
      "metadata": {
        "colab": {
          "base_uri": "https://localhost:8080/"
        },
        "id": "pcTKekNFY3Rx",
        "outputId": "976bdccc-9855-495b-802f-b667458d6ee1"
      },
      "execution_count": 10,
      "outputs": [
        {
          "output_type": "stream",
          "name": "stdout",
          "text": [
            "('charles xavier', 'telepathy') ('bobby drake', 'thermokinesis') ('kurt wagner', 'teleportation') ('max eisenhardt', 'magnetokinesis') ('kitty pride', 'intangibility')\n",
            "-----------------------------------------------------------------------------------------------------------------------------------------------------------------------\n",
            "False\n",
            "False\n"
          ]
        }
      ]
    },
    {
      "cell_type": "markdown",
      "source": [
        "### **Processing large amounts of Twitter data**\n"
      ],
      "metadata": {
        "id": "_awZc5yuYX7i"
      }
    },
    {
      "cell_type": "code",
      "source": [
        "# Import packages\n",
        "import pandas as pd\n",
        "\n",
        "# Initialize an empty dictionary: counts_dict\n",
        "counts_dict = {}\n",
        "\n",
        "# Iterate over the file chunk by chunk\n",
        "for chunk in pd.read_csv(url_tweets, chunksize=10):\n",
        "\n",
        "    # Iterate over the column in DataFrame\n",
        "    for entry in chunk['lang']:\n",
        "        if entry in counts_dict.keys():\n",
        "            counts_dict[entry] += 1\n",
        "        else:\n",
        "            counts_dict[entry] = 1\n",
        "\n",
        "# Print the populated dictionary\n",
        "print(counts_dict)"
      ],
      "metadata": {
        "colab": {
          "base_uri": "https://localhost:8080/"
        },
        "id": "dXEXO3kHY3ph",
        "outputId": "e46dad18-74c7-48b1-a3e7-fe19e8e8d615"
      },
      "execution_count": 11,
      "outputs": [
        {
          "output_type": "stream",
          "name": "stdout",
          "text": [
            "{'en': 97, 'et': 1, 'und': 2}\n"
          ]
        }
      ]
    },
    {
      "cell_type": "markdown",
      "source": [
        "### **Extracting information for large amounts of Twitter data**"
      ],
      "metadata": {
        "id": "KvolTYBXYZcp"
      }
    },
    {
      "cell_type": "code",
      "source": [
        "# Import packages\n",
        "import pandas as pd\n",
        "\n",
        "# Define count_entries()\n",
        "def count_entries(csv_file, c_size, colname):\n",
        "    \"\"\"Return a dictionary with counts of\n",
        "    occurrences as value for each key.\"\"\"\n",
        "    \n",
        "    # Initialize an empty dictionary: counts_dict\n",
        "    counts_dict = {}\n",
        "\n",
        "    # Iterate over the file chunk by chunk\n",
        "    for chunk in pd.read_csv(url_tweets, chunksize=c_size):\n",
        "\n",
        "        # Iterate over the column in DataFrame\n",
        "        for entry in chunk[colname]:\n",
        "            if entry in counts_dict.keys():\n",
        "                counts_dict[entry] += 1\n",
        "            else:\n",
        "                counts_dict[entry] = 1\n",
        "\n",
        "    # Return counts_dict\n",
        "    return counts_dict\n",
        "\n",
        "# Call count_entries(): result_counts\n",
        "result_counts = count_entries('tweets.csv', 10, 'lang')\n",
        "\n",
        "# Print result_counts\n",
        "print(result_counts)"
      ],
      "metadata": {
        "colab": {
          "base_uri": "https://localhost:8080/"
        },
        "id": "MuG1EP5RY4H5",
        "outputId": "844be275-3662-46de-d7d8-618221f58529"
      },
      "execution_count": 12,
      "outputs": [
        {
          "output_type": "stream",
          "name": "stdout",
          "text": [
            "{'en': 97, 'et': 1, 'und': 2}\n"
          ]
        }
      ]
    },
    {
      "cell_type": "markdown",
      "source": [
        "# 2️⃣**List comprehensions and generators**"
      ],
      "metadata": {
        "id": "RrmAGltS5pmQ"
      }
    },
    {
      "cell_type": "markdown",
      "source": [
        "### **Writing list comprehensions**\n"
      ],
      "metadata": {
        "id": "CCvCd8jjeLFC"
      }
    },
    {
      "cell_type": "code",
      "source": [
        "# Create list comprehension: squares\n",
        "squares = [i ** 2 for i in range(10)]\n",
        "\n",
        "print(squares)"
      ],
      "metadata": {
        "colab": {
          "base_uri": "https://localhost:8080/"
        },
        "id": "jbE8OiVVehLy",
        "outputId": "200a4092-f74b-425e-9be2-ccbf23ed54f0"
      },
      "execution_count": 13,
      "outputs": [
        {
          "output_type": "stream",
          "name": "stdout",
          "text": [
            "[0, 1, 4, 9, 16, 25, 36, 49, 64, 81]\n"
          ]
        }
      ]
    },
    {
      "cell_type": "markdown",
      "source": [
        "### **Nested list comprehensions**\n"
      ],
      "metadata": {
        "id": "xvv55UWLeMcx"
      }
    },
    {
      "cell_type": "code",
      "source": [
        "# Create a 5 x 5 matrix using a list of lists: matrix\n",
        "matrix = [[col for col in range(5)] for row in range(5)]\n",
        "\n",
        "# Print the matrix\n",
        "for row in matrix:\n",
        "    print(row)\n"
      ],
      "metadata": {
        "colab": {
          "base_uri": "https://localhost:8080/"
        },
        "id": "_ur_rzzTehxC",
        "outputId": "a76d0c4e-ce34-4be1-cca7-1680ef618d52"
      },
      "execution_count": 14,
      "outputs": [
        {
          "output_type": "stream",
          "name": "stdout",
          "text": [
            "[0, 1, 2, 3, 4]\n",
            "[0, 1, 2, 3, 4]\n",
            "[0, 1, 2, 3, 4]\n",
            "[0, 1, 2, 3, 4]\n",
            "[0, 1, 2, 3, 4]\n"
          ]
        }
      ]
    },
    {
      "cell_type": "markdown",
      "source": [
        "### **Using conditionals in comprehensions (1)**\n"
      ],
      "metadata": {
        "id": "NtcKmdkaeOYK"
      }
    },
    {
      "cell_type": "code",
      "source": [
        "# Create a list of strings: fellowship\n",
        "fellowship = ['frodo', 'samwise', 'merry', 'aragorn', 'legolas', 'boromir', 'gimli']\n",
        "\n",
        "# Create list comprehension: new_fellowship\n",
        "new_fellowship = [member for member in fellowship if len(member) >= 7]\n",
        "\n",
        "# Print the new list\n",
        "print(new_fellowship)"
      ],
      "metadata": {
        "colab": {
          "base_uri": "https://localhost:8080/"
        },
        "id": "fzYW5dRMeiSy",
        "outputId": "cdc78365-2cf4-46df-e319-551a3408ad45"
      },
      "execution_count": 15,
      "outputs": [
        {
          "output_type": "stream",
          "name": "stdout",
          "text": [
            "['samwise', 'aragorn', 'legolas', 'boromir']\n"
          ]
        }
      ]
    },
    {
      "cell_type": "markdown",
      "source": [
        "### **Using conditionals in comprehensions (2)**\n"
      ],
      "metadata": {
        "id": "8onqdHh2eP9h"
      }
    },
    {
      "cell_type": "code",
      "source": [
        "# Create a list of strings: fellowship\n",
        "fellowship = ['frodo', 'samwise', 'merry',\n",
        "              'aragorn', 'legolas', 'boromir', 'gimli']\n",
        "\n",
        "# Create list comprehension: new_fellowship\n",
        "new_fellowship = [member if len(member) >= 7 else member.replace(\n",
        "    member, '') for member in fellowship]\n",
        "\n",
        "# Print the new list\n",
        "print(new_fellowship)"
      ],
      "metadata": {
        "colab": {
          "base_uri": "https://localhost:8080/"
        },
        "id": "8m8ghz5veioS",
        "outputId": "de58622f-78cb-42b1-ad6a-ac98924c56cb"
      },
      "execution_count": 16,
      "outputs": [
        {
          "output_type": "stream",
          "name": "stdout",
          "text": [
            "['', 'samwise', '', 'aragorn', 'legolas', 'boromir', '']\n"
          ]
        }
      ]
    },
    {
      "cell_type": "markdown",
      "source": [
        "### **Dict comprehensions**\n"
      ],
      "metadata": {
        "id": "WSn7OaRFeR57"
      }
    },
    {
      "cell_type": "code",
      "source": [
        "# Create a list of strings: fellowship\n",
        "fellowship = ['frodo', 'samwise', 'merry', 'aragorn', 'legolas', 'boromir', 'gimli']\n",
        "\n",
        "# Create dict comprehension: new_fellowship\n",
        "new_fellowship = {member: len(member) for member in fellowship}\n",
        "\n",
        "# Print the new list\n",
        "print(new_fellowship)"
      ],
      "metadata": {
        "colab": {
          "base_uri": "https://localhost:8080/"
        },
        "id": "6aSZRZ21ejBi",
        "outputId": "b06fae00-88c2-4a69-a578-a6f01cbc758c"
      },
      "execution_count": 17,
      "outputs": [
        {
          "output_type": "stream",
          "name": "stdout",
          "text": [
            "{'frodo': 5, 'samwise': 7, 'merry': 5, 'aragorn': 7, 'legolas': 7, 'boromir': 7, 'gimli': 5}\n"
          ]
        }
      ]
    },
    {
      "cell_type": "markdown",
      "source": [
        "### **List comprehensions vs. generators**\n",
        "\n",
        "\n",
        "The best description for the difference between list comprehensions and generators is:\n",
        "\n",
        "- **List comprehensions** return a list containing the evaluated results of the expression in the loop, creating the entire list in memory.\n",
        "\n",
        "- **Generators**, on the other hand, return an iterator object that generates values on-the-fly as they are needed, without storing the entire list in memory.\n"
      ],
      "metadata": {
        "id": "Kjo89MMzeUCa"
      }
    },
    {
      "cell_type": "markdown",
      "source": [
        "### **Write your own generator expressions**\n"
      ],
      "metadata": {
        "id": "cpFnDEYVeVdJ"
      }
    },
    {
      "cell_type": "code",
      "source": [
        "# Create generator object: result\n",
        "result = (num for num in range(31))\n",
        "\n",
        "# Print the first 5 values\n",
        "print(next(result))\n",
        "print(next(result))\n",
        "print(next(result))\n",
        "print(next(result))\n",
        "print(next(result))\n",
        "\n",
        "# Print the rest of the values\n",
        "for value in result:\n",
        "    print(value)"
      ],
      "metadata": {
        "colab": {
          "base_uri": "https://localhost:8080/"
        },
        "id": "LtFJ3WQ6ej86",
        "outputId": "2a3f7874-a048-4a9f-f5d7-5eef6b86fcb6"
      },
      "execution_count": 18,
      "outputs": [
        {
          "output_type": "stream",
          "name": "stdout",
          "text": [
            "0\n",
            "1\n",
            "2\n",
            "3\n",
            "4\n",
            "5\n",
            "6\n",
            "7\n",
            "8\n",
            "9\n",
            "10\n",
            "11\n",
            "12\n",
            "13\n",
            "14\n",
            "15\n",
            "16\n",
            "17\n",
            "18\n",
            "19\n",
            "20\n",
            "21\n",
            "22\n",
            "23\n",
            "24\n",
            "25\n",
            "26\n",
            "27\n",
            "28\n",
            "29\n",
            "30\n"
          ]
        }
      ]
    },
    {
      "cell_type": "markdown",
      "source": [
        "### **Changing the output in generator expressions**\n"
      ],
      "metadata": {
        "id": "9k8yB1VoeW5a"
      }
    },
    {
      "cell_type": "code",
      "source": [
        "# Create a list of strings: lannister\n",
        "lannister = ['cersei', 'jaime', 'tywin', 'tyrion', 'joffrey']\n",
        "\n",
        "# Create a generator object: lengths\n",
        "lengths = (len(person) for person in lannister)\n",
        "\n",
        "# Iterate over and print the values in lengths\n",
        "for value in lengths:\n",
        "    print(value)"
      ],
      "metadata": {
        "colab": {
          "base_uri": "https://localhost:8080/"
        },
        "id": "QnTCFqFiekYa",
        "outputId": "216a2c74-0e23-44c1-96ad-1da066f1b0df"
      },
      "execution_count": 19,
      "outputs": [
        {
          "output_type": "stream",
          "name": "stdout",
          "text": [
            "6\n",
            "5\n",
            "5\n",
            "6\n",
            "7\n"
          ]
        }
      ]
    },
    {
      "cell_type": "markdown",
      "source": [
        "### **Build a generator**\n"
      ],
      "metadata": {
        "id": "dIuTIrjteYQM"
      }
    },
    {
      "cell_type": "code",
      "source": [
        "# Create a list of strings\n",
        "lannister = ['cersei', 'jaime', 'tywin', 'tyrion', 'joffrey']\n",
        "\n",
        "# Define generator function get_lengths\n",
        "def get_lengths(input_list):\n",
        "    \"\"\"Generator function that yields the\n",
        "    length of the strings in input_list.\"\"\"\n",
        "\n",
        "    # Yield the length of a string\n",
        "    for person in input_list:\n",
        "        yield len(person)\n",
        "        \n",
        "# Print the values generated by get_lengths()\n",
        "for value in get_lengths(lannister):\n",
        "    print(value)"
      ],
      "metadata": {
        "colab": {
          "base_uri": "https://localhost:8080/"
        },
        "id": "IHtwfkNNek95",
        "outputId": "85b6e532-51f8-4fd2-c49a-0f7346c76816"
      },
      "execution_count": 20,
      "outputs": [
        {
          "output_type": "stream",
          "name": "stdout",
          "text": [
            "6\n",
            "5\n",
            "5\n",
            "6\n",
            "7\n"
          ]
        }
      ]
    },
    {
      "cell_type": "markdown",
      "source": [
        "### **List comprehensions for time-stamped data**\n"
      ],
      "metadata": {
        "id": "vnwDeb7IeZqZ"
      }
    },
    {
      "cell_type": "code",
      "source": [
        "# Import packages\n",
        "import pandas as pd\n",
        "\n",
        "df = pd.read_csv(url_tweets)\n",
        "\n",
        "# Extract the created_at column from df: tweet_time\n",
        "tweet_time = df['created_at']\n",
        "\n",
        "# Extract the clock time: tweet_clock_time\n",
        "tweet_clock_time = [entry[11:19] for entry in tweet_time]\n",
        "\n",
        "# Print the extracted times\n",
        "print(tweet_clock_time)"
      ],
      "metadata": {
        "colab": {
          "base_uri": "https://localhost:8080/"
        },
        "id": "VjFbzcn-elYi",
        "outputId": "0e78c3e8-a03b-4e3e-a459-4ec86576e474"
      },
      "execution_count": 21,
      "outputs": [
        {
          "output_type": "stream",
          "name": "stdout",
          "text": [
            "['23:40:17', '23:40:17', '23:40:17', '23:40:17', '23:40:17', '23:40:17', '23:40:18', '23:40:17', '23:40:18', '23:40:18', '23:40:18', '23:40:17', '23:40:18', '23:40:18', '23:40:17', '23:40:18', '23:40:18', '23:40:17', '23:40:18', '23:40:17', '23:40:18', '23:40:18', '23:40:18', '23:40:18', '23:40:17', '23:40:18', '23:40:18', '23:40:17', '23:40:18', '23:40:18', '23:40:18', '23:40:18', '23:40:18', '23:40:18', '23:40:18', '23:40:18', '23:40:18', '23:40:18', '23:40:18', '23:40:18', '23:40:18', '23:40:18', '23:40:18', '23:40:18', '23:40:18', '23:40:18', '23:40:18', '23:40:18', '23:40:18', '23:40:18', '23:40:18', '23:40:18', '23:40:18', '23:40:18', '23:40:18', '23:40:18', '23:40:18', '23:40:18', '23:40:18', '23:40:18', '23:40:19', '23:40:18', '23:40:18', '23:40:18', '23:40:19', '23:40:19', '23:40:19', '23:40:18', '23:40:19', '23:40:19', '23:40:19', '23:40:18', '23:40:19', '23:40:19', '23:40:19', '23:40:18', '23:40:19', '23:40:19', '23:40:19', '23:40:19', '23:40:19', '23:40:19', '23:40:19', '23:40:19', '23:40:19', '23:40:19', '23:40:19', '23:40:19', '23:40:19', '23:40:19', '23:40:19', '23:40:19', '23:40:19', '23:40:19', '23:40:19', '23:40:19', '23:40:19', '23:40:19', '23:40:19', '23:40:19']\n"
          ]
        }
      ]
    },
    {
      "cell_type": "markdown",
      "source": [
        "### **Conditional list comprehensions for time-stamped data**"
      ],
      "metadata": {
        "id": "c5kseo_NebRB"
      }
    },
    {
      "cell_type": "code",
      "source": [
        "# Import packages\n",
        "import pandas as pd\n",
        "\n",
        "df = pd.read_csv(url_tweets)\n",
        "\n",
        "# Extract the created_at column from df: tweet_time\n",
        "tweet_time = df['created_at']\n",
        "\n",
        "# Extract the clock time: tweet_clock_time\n",
        "tweet_clock_time = [entry[11:19] for entry in tweet_time if entry[17:19] == '19']\n",
        "\n",
        "# Print the extracted times\n",
        "print(tweet_clock_time)"
      ],
      "metadata": {
        "colab": {
          "base_uri": "https://localhost:8080/"
        },
        "id": "8XMcn8KPel0h",
        "outputId": "764d5332-d344-438b-eca7-4da921c4d1af"
      },
      "execution_count": 22,
      "outputs": [
        {
          "output_type": "stream",
          "name": "stdout",
          "text": [
            "['23:40:19', '23:40:19', '23:40:19', '23:40:19', '23:40:19', '23:40:19', '23:40:19', '23:40:19', '23:40:19', '23:40:19', '23:40:19', '23:40:19', '23:40:19', '23:40:19', '23:40:19', '23:40:19', '23:40:19', '23:40:19', '23:40:19', '23:40:19', '23:40:19', '23:40:19', '23:40:19', '23:40:19', '23:40:19', '23:40:19', '23:40:19', '23:40:19', '23:40:19', '23:40:19', '23:40:19', '23:40:19', '23:40:19', '23:40:19']\n"
          ]
        }
      ]
    },
    {
      "cell_type": "markdown",
      "source": [
        "# 3️⃣**Bringing it all together!**"
      ],
      "metadata": {
        "id": "yT-UJBHS5wrH"
      }
    },
    {
      "cell_type": "markdown",
      "source": [
        "### **Dictionaries for data science**\n"
      ],
      "metadata": {
        "id": "n3N1xZ-Fe06y"
      }
    },
    {
      "cell_type": "code",
      "source": [
        "# Pre-defined lists\n",
        "feature_names = ['CountryName', 'CountryCode',\n",
        "                 'IndicatorName', 'IndicatorCode', 'Year', 'Value']\n",
        "\n",
        "row_vals = ['Arab World', 'ARB',\n",
        "                'Adolescent fertility rate (births per 1,000 women ages 15-19)', 'SP.ADO.TFRT',\n",
        "                '1960', '133.56090740552298']\n",
        "\n",
        "# Zip lists: zipped_lists\n",
        "zipped_lists = zip(feature_names, row_vals)\n",
        "\n",
        "# Create a dictionary: rs_dict\n",
        "rs_dict = dict(zipped_lists)\n",
        "\n",
        "# Print the dictionary\n",
        "print(rs_dict)"
      ],
      "metadata": {
        "colab": {
          "base_uri": "https://localhost:8080/"
        },
        "id": "AjWx_MK5f03q",
        "outputId": "5bb78a7d-a228-4ed8-d42f-23f72023b48c"
      },
      "execution_count": 23,
      "outputs": [
        {
          "output_type": "stream",
          "name": "stdout",
          "text": [
            "{'CountryName': 'Arab World', 'CountryCode': 'ARB', 'IndicatorName': 'Adolescent fertility rate (births per 1,000 women ages 15-19)', 'IndicatorCode': 'SP.ADO.TFRT', 'Year': '1960', 'Value': '133.56090740552298'}\n"
          ]
        }
      ]
    },
    {
      "cell_type": "markdown",
      "source": [
        "### **Writing a function to help you**\n"
      ],
      "metadata": {
        "id": "QZEaxnL-faSK"
      }
    },
    {
      "cell_type": "code",
      "source": [
        "# Pre-defined lists\n",
        "feature_names = ['CountryName', 'CountryCode',\n",
        "                 'IndicatorName', 'IndicatorCode', 'Year', 'Value']\n",
        "\n",
        "row_vals = ['Arab World', 'ARB',\n",
        "                'Adolescent fertility rate (births per 1,000 women ages 15-19)', 'SP.ADO.TFRT', \n",
        "                '1960', '133.56090740552298']\n",
        "\n",
        "# Define lists2dict()\n",
        "def lists2dict(list1, list2):\n",
        "    \"\"\"Return a dictionary where list1 provides\n",
        "    the keys and list2 provides the values.\"\"\"\n",
        "\n",
        "    # Zip lists: zipped_lists\n",
        "    zipped_lists = zip(list1, list2)\n",
        "\n",
        "    # Create a dictionary: rs_dict\n",
        "    rs_dict = dict(zipped_lists)\n",
        "\n",
        "    # Return the dictionary\n",
        "    return rs_dict\n",
        "\n",
        "# Call lists2dict: rs_fxn\n",
        "rs_fxn = lists2dict(feature_names, row_vals)\n",
        "\n",
        "# Print rs_fxn\n",
        "print(rs_fxn)"
      ],
      "metadata": {
        "colab": {
          "base_uri": "https://localhost:8080/"
        },
        "id": "5ud_j6BEf1S7",
        "outputId": "2219f6de-95fb-4ff0-affa-82234b210cc8"
      },
      "execution_count": 24,
      "outputs": [
        {
          "output_type": "stream",
          "name": "stdout",
          "text": [
            "{'CountryName': 'Arab World', 'CountryCode': 'ARB', 'IndicatorName': 'Adolescent fertility rate (births per 1,000 women ages 15-19)', 'IndicatorCode': 'SP.ADO.TFRT', 'Year': '1960', 'Value': '133.56090740552298'}\n"
          ]
        }
      ]
    },
    {
      "cell_type": "markdown",
      "source": [
        "### **Using a list comprehension**\n"
      ],
      "metadata": {
        "id": "qVgXKglofcEp"
      }
    },
    {
      "cell_type": "code",
      "source": [
        "feature_names = ['CountryName', 'CountryCode',\n",
        "                 'IndicatorName', 'IndicatorCode', 'Year', 'Value']\n",
        "\n",
        "row_lists = [['Arab World',\n",
        "             'ARB',\n",
        "             'Adolescent fertility rate (births per 1,000 women ages 15-19)',\n",
        "             'SP.ADO.TFRT',\n",
        "             '1960',\n",
        "             '133.56090740552298'],\n",
        "            ['Arab World',\n",
        "             'ARB',\n",
        "             'Age dependency ratio (% of working-age population)',\n",
        "             'SP.POP.DPND',\n",
        "             '1960',\n",
        "             '87.7976011532547'],\n",
        "            ['Arab World',\n",
        "             'ARB',\n",
        "             'Age dependency ratio, old (% of working-age population)',\n",
        "             'SP.POP.DPND.OL',\n",
        "             '1960',\n",
        "             '6.634579191565161'],\n",
        "            ['Arab World',\n",
        "             'ARB',\n",
        "             'Age dependency ratio, young (% of working-age population)',\n",
        "             'SP.POP.DPND.YG',\n",
        "             '1960',\n",
        "             '81.02332950839141'],\n",
        "            ['Arab World',\n",
        "             'ARB',\n",
        "             'Arms exports (SIPRI trend indicator values)',\n",
        "             'MS.MIL.XPRT.KD',\n",
        "             '1960',\n",
        "             '3000000.0'],\n",
        "            ['Arab World',\n",
        "             'ARB',\n",
        "             'Arms imports (SIPRI trend indicator values)',\n",
        "             'MS.MIL.MPRT.KD',\n",
        "             '1960',\n",
        "             '538000000.0'],\n",
        "            ['Arab World',\n",
        "             'ARB',\n",
        "             'Birth rate, crude (per 1,000 people)',\n",
        "             'SP.DYN.CBRT.IN',\n",
        "             '1960',\n",
        "             '47.697888095096395'],\n",
        "            ['Arab World',\n",
        "             'ARB',\n",
        "             'CO2 emissions (kt)',\n",
        "             'EN.ATM.CO2E.KT',\n",
        "             '1960',\n",
        "             '59563.9892169935'],\n",
        "            ['Arab World',\n",
        "             'ARB',\n",
        "             'CO2 emissions (metric tons per capita)',\n",
        "             'EN.ATM.CO2E.PC',\n",
        "             '1960',\n",
        "             '0.6439635478877049'],\n",
        "            ['Arab World',\n",
        "             'ARB',\n",
        "             'CO2 emissions from gaseous fuel consumption (% of total)',\n",
        "             'EN.ATM.CO2E.GF.ZS',\n",
        "             '1960',\n",
        "             '5.041291753975099'],\n",
        "            ['Arab World',\n",
        "             'ARB',\n",
        "             'CO2 emissions from liquid fuel consumption (% of total)',\n",
        "             'EN.ATM.CO2E.LF.ZS',\n",
        "             '1960',\n",
        "             '84.8514729446567'],\n",
        "            ['Arab World',\n",
        "             'ARB',\n",
        "             'CO2 emissions from liquid fuel consumption (kt)',\n",
        "             'EN.ATM.CO2E.LF.KT',\n",
        "             '1960',\n",
        "             '49541.707291032304'],\n",
        "            ['Arab World',\n",
        "             'ARB',\n",
        "             'CO2 emissions from solid fuel consumption (% of total)',\n",
        "             'EN.ATM.CO2E.SF.ZS',\n",
        "             '1960',\n",
        "             '4.72698138789597'],\n",
        "            ['Arab World',\n",
        "             'ARB',\n",
        "             'Death rate, crude (per 1,000 people)',\n",
        "             'SP.DYN.CDRT.IN',\n",
        "             '1960',\n",
        "             '19.7544519237187'],\n",
        "            ['Arab World',\n",
        "             'ARB',\n",
        "             'Fertility rate, total (births per woman)',\n",
        "             'SP.DYN.TFRT.IN',\n",
        "             '1960',\n",
        "             '6.92402738655897'],\n",
        "            ['Arab World',\n",
        "             'ARB',\n",
        "             'Fixed telephone subscriptions',\n",
        "             'IT.MLT.MAIN',\n",
        "             '1960',\n",
        "             '406833.0'],\n",
        "            ['Arab World',\n",
        "             'ARB',\n",
        "             'Fixed telephone subscriptions (per 100 people)',\n",
        "             'IT.MLT.MAIN.P2',\n",
        "             '1960',\n",
        "             '0.6167005703199'],\n",
        "            ['Arab World',\n",
        "             'ARB',\n",
        "             'Hospital beds (per 1,000 people)',\n",
        "             'SH.MED.BEDS.ZS',\n",
        "             '1960',\n",
        "             '1.9296220724398703'],\n",
        "            ['Arab World',\n",
        "             'ARB',\n",
        "             'International migrant stock (% of population)',\n",
        "             'SM.POP.TOTL.ZS',\n",
        "             '1960',\n",
        "             '2.9906371279862403'],\n",
        "            ['Arab World',\n",
        "             'ARB',\n",
        "             'International migrant stock, total',\n",
        "             'SM.POP.TOTL',\n",
        "             '1960',\n",
        "             '3324685.0']]\n",
        "\n",
        "# Print the first two lists in row_lists\n",
        "print(row_lists[0])\n",
        "print(row_lists[1])\n",
        "\n",
        "# Turn list of lists into list of dicts: list_of_dicts\n",
        "list_of_dicts = [lists2dict(feature_names, sublist) for sublist in row_lists]\n",
        "\n",
        "# Print the first two dictionaries in list_of_dicts\n",
        "print(list_of_dicts[0])\n",
        "print(list_of_dicts[1])"
      ],
      "metadata": {
        "colab": {
          "base_uri": "https://localhost:8080/"
        },
        "id": "EKhphwd8f10z",
        "outputId": "d91c3010-b8ca-462e-d734-cd33ea95f4b7"
      },
      "execution_count": 25,
      "outputs": [
        {
          "output_type": "stream",
          "name": "stdout",
          "text": [
            "['Arab World', 'ARB', 'Adolescent fertility rate (births per 1,000 women ages 15-19)', 'SP.ADO.TFRT', '1960', '133.56090740552298']\n",
            "['Arab World', 'ARB', 'Age dependency ratio (% of working-age population)', 'SP.POP.DPND', '1960', '87.7976011532547']\n",
            "{'CountryName': 'Arab World', 'CountryCode': 'ARB', 'IndicatorName': 'Adolescent fertility rate (births per 1,000 women ages 15-19)', 'IndicatorCode': 'SP.ADO.TFRT', 'Year': '1960', 'Value': '133.56090740552298'}\n",
            "{'CountryName': 'Arab World', 'CountryCode': 'ARB', 'IndicatorName': 'Age dependency ratio (% of working-age population)', 'IndicatorCode': 'SP.POP.DPND', 'Year': '1960', 'Value': '87.7976011532547'}\n"
          ]
        }
      ]
    },
    {
      "cell_type": "markdown",
      "source": [
        "### **Turning this all into a DataFrame**\n"
      ],
      "metadata": {
        "id": "wHaEMDhFfelB"
      }
    },
    {
      "cell_type": "code",
      "source": [
        "# Import the pandas package\n",
        "import pandas as pd\n",
        "\n",
        "# Turn list of lists into list of dicts: list_of_dicts\n",
        "list_of_dicts = [lists2dict(feature_names, sublist) for sublist in row_lists]\n",
        "\n",
        "# Turn list of dicts into a DataFrame: df\n",
        "df = pd.DataFrame(list_of_dicts)\n",
        "\n",
        "# Print the head of the DataFrame\n",
        "display(df.head())"
      ],
      "metadata": {
        "colab": {
          "base_uri": "https://localhost:8080/",
          "height": 206
        },
        "id": "O-3SGeDIf2SK",
        "outputId": "5fa91fdc-85b7-4104-a448-6dedf29545e9"
      },
      "execution_count": 26,
      "outputs": [
        {
          "output_type": "display_data",
          "data": {
            "text/plain": [
              "  CountryName CountryCode                                      IndicatorName  \\\n",
              "0  Arab World         ARB  Adolescent fertility rate (births per 1,000 wo...   \n",
              "1  Arab World         ARB  Age dependency ratio (% of working-age populat...   \n",
              "2  Arab World         ARB  Age dependency ratio, old (% of working-age po...   \n",
              "3  Arab World         ARB  Age dependency ratio, young (% of working-age ...   \n",
              "4  Arab World         ARB        Arms exports (SIPRI trend indicator values)   \n",
              "\n",
              "    IndicatorCode  Year               Value  \n",
              "0     SP.ADO.TFRT  1960  133.56090740552298  \n",
              "1     SP.POP.DPND  1960    87.7976011532547  \n",
              "2  SP.POP.DPND.OL  1960   6.634579191565161  \n",
              "3  SP.POP.DPND.YG  1960   81.02332950839141  \n",
              "4  MS.MIL.XPRT.KD  1960           3000000.0  "
            ],
            "text/html": [
              "\n",
              "  <div id=\"df-25249d2f-2d83-44cf-9b84-5470d1935439\">\n",
              "    <div class=\"colab-df-container\">\n",
              "      <div>\n",
              "<style scoped>\n",
              "    .dataframe tbody tr th:only-of-type {\n",
              "        vertical-align: middle;\n",
              "    }\n",
              "\n",
              "    .dataframe tbody tr th {\n",
              "        vertical-align: top;\n",
              "    }\n",
              "\n",
              "    .dataframe thead th {\n",
              "        text-align: right;\n",
              "    }\n",
              "</style>\n",
              "<table border=\"1\" class=\"dataframe\">\n",
              "  <thead>\n",
              "    <tr style=\"text-align: right;\">\n",
              "      <th></th>\n",
              "      <th>CountryName</th>\n",
              "      <th>CountryCode</th>\n",
              "      <th>IndicatorName</th>\n",
              "      <th>IndicatorCode</th>\n",
              "      <th>Year</th>\n",
              "      <th>Value</th>\n",
              "    </tr>\n",
              "  </thead>\n",
              "  <tbody>\n",
              "    <tr>\n",
              "      <th>0</th>\n",
              "      <td>Arab World</td>\n",
              "      <td>ARB</td>\n",
              "      <td>Adolescent fertility rate (births per 1,000 wo...</td>\n",
              "      <td>SP.ADO.TFRT</td>\n",
              "      <td>1960</td>\n",
              "      <td>133.56090740552298</td>\n",
              "    </tr>\n",
              "    <tr>\n",
              "      <th>1</th>\n",
              "      <td>Arab World</td>\n",
              "      <td>ARB</td>\n",
              "      <td>Age dependency ratio (% of working-age populat...</td>\n",
              "      <td>SP.POP.DPND</td>\n",
              "      <td>1960</td>\n",
              "      <td>87.7976011532547</td>\n",
              "    </tr>\n",
              "    <tr>\n",
              "      <th>2</th>\n",
              "      <td>Arab World</td>\n",
              "      <td>ARB</td>\n",
              "      <td>Age dependency ratio, old (% of working-age po...</td>\n",
              "      <td>SP.POP.DPND.OL</td>\n",
              "      <td>1960</td>\n",
              "      <td>6.634579191565161</td>\n",
              "    </tr>\n",
              "    <tr>\n",
              "      <th>3</th>\n",
              "      <td>Arab World</td>\n",
              "      <td>ARB</td>\n",
              "      <td>Age dependency ratio, young (% of working-age ...</td>\n",
              "      <td>SP.POP.DPND.YG</td>\n",
              "      <td>1960</td>\n",
              "      <td>81.02332950839141</td>\n",
              "    </tr>\n",
              "    <tr>\n",
              "      <th>4</th>\n",
              "      <td>Arab World</td>\n",
              "      <td>ARB</td>\n",
              "      <td>Arms exports (SIPRI trend indicator values)</td>\n",
              "      <td>MS.MIL.XPRT.KD</td>\n",
              "      <td>1960</td>\n",
              "      <td>3000000.0</td>\n",
              "    </tr>\n",
              "  </tbody>\n",
              "</table>\n",
              "</div>\n",
              "      <button class=\"colab-df-convert\" onclick=\"convertToInteractive('df-25249d2f-2d83-44cf-9b84-5470d1935439')\"\n",
              "              title=\"Convert this dataframe to an interactive table.\"\n",
              "              style=\"display:none;\">\n",
              "        \n",
              "  <svg xmlns=\"http://www.w3.org/2000/svg\" height=\"24px\"viewBox=\"0 0 24 24\"\n",
              "       width=\"24px\">\n",
              "    <path d=\"M0 0h24v24H0V0z\" fill=\"none\"/>\n",
              "    <path d=\"M18.56 5.44l.94 2.06.94-2.06 2.06-.94-2.06-.94-.94-2.06-.94 2.06-2.06.94zm-11 1L8.5 8.5l.94-2.06 2.06-.94-2.06-.94L8.5 2.5l-.94 2.06-2.06.94zm10 10l.94 2.06.94-2.06 2.06-.94-2.06-.94-.94-2.06-.94 2.06-2.06.94z\"/><path d=\"M17.41 7.96l-1.37-1.37c-.4-.4-.92-.59-1.43-.59-.52 0-1.04.2-1.43.59L10.3 9.45l-7.72 7.72c-.78.78-.78 2.05 0 2.83L4 21.41c.39.39.9.59 1.41.59.51 0 1.02-.2 1.41-.59l7.78-7.78 2.81-2.81c.8-.78.8-2.07 0-2.86zM5.41 20L4 18.59l7.72-7.72 1.47 1.35L5.41 20z\"/>\n",
              "  </svg>\n",
              "      </button>\n",
              "      \n",
              "  <style>\n",
              "    .colab-df-container {\n",
              "      display:flex;\n",
              "      flex-wrap:wrap;\n",
              "      gap: 12px;\n",
              "    }\n",
              "\n",
              "    .colab-df-convert {\n",
              "      background-color: #E8F0FE;\n",
              "      border: none;\n",
              "      border-radius: 50%;\n",
              "      cursor: pointer;\n",
              "      display: none;\n",
              "      fill: #1967D2;\n",
              "      height: 32px;\n",
              "      padding: 0 0 0 0;\n",
              "      width: 32px;\n",
              "    }\n",
              "\n",
              "    .colab-df-convert:hover {\n",
              "      background-color: #E2EBFA;\n",
              "      box-shadow: 0px 1px 2px rgba(60, 64, 67, 0.3), 0px 1px 3px 1px rgba(60, 64, 67, 0.15);\n",
              "      fill: #174EA6;\n",
              "    }\n",
              "\n",
              "    [theme=dark] .colab-df-convert {\n",
              "      background-color: #3B4455;\n",
              "      fill: #D2E3FC;\n",
              "    }\n",
              "\n",
              "    [theme=dark] .colab-df-convert:hover {\n",
              "      background-color: #434B5C;\n",
              "      box-shadow: 0px 1px 3px 1px rgba(0, 0, 0, 0.15);\n",
              "      filter: drop-shadow(0px 1px 2px rgba(0, 0, 0, 0.3));\n",
              "      fill: #FFFFFF;\n",
              "    }\n",
              "  </style>\n",
              "\n",
              "      <script>\n",
              "        const buttonEl =\n",
              "          document.querySelector('#df-25249d2f-2d83-44cf-9b84-5470d1935439 button.colab-df-convert');\n",
              "        buttonEl.style.display =\n",
              "          google.colab.kernel.accessAllowed ? 'block' : 'none';\n",
              "\n",
              "        async function convertToInteractive(key) {\n",
              "          const element = document.querySelector('#df-25249d2f-2d83-44cf-9b84-5470d1935439');\n",
              "          const dataTable =\n",
              "            await google.colab.kernel.invokeFunction('convertToInteractive',\n",
              "                                                     [key], {});\n",
              "          if (!dataTable) return;\n",
              "\n",
              "          const docLinkHtml = 'Like what you see? Visit the ' +\n",
              "            '<a target=\"_blank\" href=https://colab.research.google.com/notebooks/data_table.ipynb>data table notebook</a>'\n",
              "            + ' to learn more about interactive tables.';\n",
              "          element.innerHTML = '';\n",
              "          dataTable['output_type'] = 'display_data';\n",
              "          await google.colab.output.renderOutput(dataTable, element);\n",
              "          const docLink = document.createElement('div');\n",
              "          docLink.innerHTML = docLinkHtml;\n",
              "          element.appendChild(docLink);\n",
              "        }\n",
              "      </script>\n",
              "    </div>\n",
              "  </div>\n",
              "  "
            ]
          },
          "metadata": {}
        }
      ]
    },
    {
      "cell_type": "markdown",
      "source": [
        "### **Using Python generators for streaming data**"
      ],
      "metadata": {
        "id": "ze84Ggve9x-Z"
      }
    },
    {
      "cell_type": "markdown",
      "source": [
        "#### **Processing data in chunks (1)**\n"
      ],
      "metadata": {
        "id": "-d78h8bNfj9B"
      }
    },
    {
      "cell_type": "code",
      "source": [
        "!wget 'https://github.com/mohd-faizy/CAREER-TRACK-Data-Scientist-with-Python/blob/main/09_Python-data-science-toolbox-(part-2)/_datasets/world_ind_pop_data.csv'"
      ],
      "metadata": {
        "colab": {
          "base_uri": "https://localhost:8080/"
        },
        "id": "dEcKz88I8gYg",
        "outputId": "778efd47-387b-428a-a858-a100594d032d"
      },
      "execution_count": 27,
      "outputs": [
        {
          "output_type": "stream",
          "name": "stdout",
          "text": [
            "--2023-05-24 16:45:39--  https://github.com/mohd-faizy/CAREER-TRACK-Data-Scientist-with-Python/blob/main/09_Python-data-science-toolbox-(part-2)/_datasets/world_ind_pop_data.csv\n",
            "Resolving github.com (github.com)... 140.82.114.4\n",
            "Connecting to github.com (github.com)|140.82.114.4|:443... connected.\n",
            "HTTP request sent, awaiting response... 200 OK\n",
            "Length: unspecified [text/html]\n",
            "Saving to: ‘world_ind_pop_data.csv’\n",
            "\n",
            "world_ind_pop_data.     [  <=>               ]   3.62M  17.5MB/s    in 0.2s    \n",
            "\n",
            "2023-05-24 16:45:40 (17.5 MB/s) - ‘world_ind_pop_data.csv’ saved [3801482]\n",
            "\n"
          ]
        }
      ]
    },
    {
      "cell_type": "code",
      "source": [
        "!wget 'https://github.com/mohd-faizy/CAREER-TRACK-Data-Scientist-with-Python/blob/main/09_Python-data-science-toolbox-(part-2)/_datasets/tweets.csv'"
      ],
      "metadata": {
        "colab": {
          "base_uri": "https://localhost:8080/"
        },
        "id": "uOmeHpbM9cZy",
        "outputId": "894a443f-1cae-4936-f183-9d1100514835"
      },
      "execution_count": 28,
      "outputs": [
        {
          "output_type": "stream",
          "name": "stdout",
          "text": [
            "--2023-05-24 16:45:40--  https://github.com/mohd-faizy/CAREER-TRACK-Data-Scientist-with-Python/blob/main/09_Python-data-science-toolbox-(part-2)/_datasets/tweets.csv\n",
            "Resolving github.com (github.com)... 140.82.114.3\n",
            "Connecting to github.com (github.com)|140.82.114.3|:443... connected.\n",
            "HTTP request sent, awaiting response... 200 OK\n",
            "Length: unspecified [text/html]\n",
            "Saving to: ‘tweets.csv’\n",
            "\n",
            "tweets.csv              [ <=>                ] 880.63K  5.48MB/s    in 0.2s    \n",
            "\n",
            "2023-05-24 16:45:41 (5.48 MB/s) - ‘tweets.csv’ saved [901768]\n",
            "\n"
          ]
        }
      ]
    },
    {
      "cell_type": "code",
      "source": [
        "import urllib\n",
        "\n",
        "# URL of the file\n",
        "url = url_pop\n",
        "\n",
        "# Open a connection to the file\n",
        "with urllib.request.urlopen(url) as file:\n",
        "\n",
        "    # Skip the column names\n",
        "    file.readline()\n",
        "\n",
        "    # Initialize an empty dictionary: counts_dict\n",
        "    counts_dict = {}\n",
        "\n",
        "    # Process only the first 1000 rows\n",
        "    for j in range(0, 1000):\n",
        "\n",
        "        # Split the current line into a list: line\n",
        "        line = file.readline().decode('utf-8').split(',')\n",
        "\n",
        "        # Get the value for the first column: first_col\n",
        "        first_col = line[0]\n",
        "\n",
        "        # If the column value is in the dict, increment its value\n",
        "        if first_col in counts_dict.keys():\n",
        "            counts_dict[first_col] += 1\n",
        "\n",
        "        # Else, add to the dict and set value to 1\n",
        "        else:\n",
        "            counts_dict[first_col] = 1\n",
        "\n",
        "# Print the resulting dictionary\n",
        "print(counts_dict)"
      ],
      "metadata": {
        "colab": {
          "base_uri": "https://localhost:8080/"
        },
        "id": "3tngoel7f3LM",
        "outputId": "8757f2b8-91b1-4b37-d5bf-e8e6d8adfb24"
      },
      "execution_count": 29,
      "outputs": [
        {
          "output_type": "stream",
          "name": "stdout",
          "text": [
            "{'Arab World': 5, 'Caribbean small states': 5, 'Central Europe and the Baltics': 5, 'East Asia & Pacific (all income levels)': 5, 'East Asia & Pacific (developing only)': 5, 'Euro area': 5, 'Europe & Central Asia (all income levels)': 5, 'Europe & Central Asia (developing only)': 5, 'European Union': 5, 'Fragile and conflict affected situations': 5, 'Heavily indebted poor countries (HIPC)': 5, 'High income': 5, 'High income: nonOECD': 5, 'High income: OECD': 5, 'Latin America & Caribbean (all income levels)': 5, 'Latin America & Caribbean (developing only)': 5, 'Least developed countries: UN classification': 5, 'Low & middle income': 5, 'Low income': 5, 'Lower middle income': 5, 'Middle East & North Africa (all income levels)': 5, 'Middle East & North Africa (developing only)': 5, 'Middle income': 5, 'North America': 5, 'OECD members': 5, 'Other small states': 5, 'Pacific island small states': 5, 'Small states': 5, 'South Asia': 5, 'Sub-Saharan Africa (all income levels)': 5, 'Sub-Saharan Africa (developing only)': 5, 'Upper middle income': 5, 'World': 4, 'Afghanistan': 4, 'Albania': 4, 'Algeria': 4, 'American Samoa': 4, 'Andorra': 4, 'Angola': 4, 'Antigua and Barbuda': 4, 'Argentina': 4, 'Armenia': 4, 'Aruba': 4, 'Australia': 4, 'Austria': 4, 'Azerbaijan': 4, '\"Bahamas': 4, 'Bahrain': 4, 'Bangladesh': 4, 'Barbados': 4, 'Belarus': 4, 'Belgium': 4, 'Belize': 4, 'Benin': 4, 'Bermuda': 4, 'Bhutan': 4, 'Bolivia': 4, 'Bosnia and Herzegovina': 4, 'Botswana': 4, 'Brazil': 4, 'Brunei Darussalam': 4, 'Bulgaria': 4, 'Burkina Faso': 4, 'Burundi': 4, 'Cabo Verde': 4, 'Cambodia': 4, 'Cameroon': 4, 'Canada': 4, 'Cayman Islands': 4, 'Central African Republic': 4, 'Chad': 4, 'Channel Islands': 4, 'Chile': 4, 'China': 4, 'Colombia': 4, 'Comoros': 4, '\"Congo': 8, 'Costa Rica': 4, \"Cote d'Ivoire\": 4, 'Croatia': 4, 'Cuba': 4, 'Curacao': 4, 'Cyprus': 4, 'Czech Republic': 4, 'Denmark': 4, 'Djibouti': 4, 'Dominica': 4, 'Dominican Republic': 4, 'Ecuador': 4, '\"Egypt': 4, 'El Salvador': 4, 'Equatorial Guinea': 4, 'Eritrea': 4, 'Estonia': 4, 'Ethiopia': 4, 'Faeroe Islands': 4, 'Fiji': 4, 'Finland': 4, 'France': 4, 'French Polynesia': 4, 'Gabon': 4, '\"Gambia': 4, 'Georgia': 4, 'Germany': 4, 'Ghana': 4, 'Greece': 4, 'Greenland': 4, 'Grenada': 4, 'Guam': 4, 'Guatemala': 4, 'Guinea': 4, 'Guinea-Bissau': 4, 'Guyana': 4, 'Haiti': 4, 'Honduras': 4, '\"Hong Kong SAR': 4, 'Hungary': 4, 'Iceland': 4, 'India': 4, 'Indonesia': 4, '\"Iran': 4, 'Iraq': 4, 'Ireland': 4, 'Isle of Man': 4, 'Israel': 4, 'Italy': 4, 'Jamaica': 4, 'Japan': 4, 'Jordan': 4, 'Kazakhstan': 4, 'Kenya': 4, 'Kiribati': 4, '\"Korea': 8, 'Kuwait': 4, 'Kyrgyz Republic': 4, 'Lao PDR': 4, 'Latvia': 4, 'Lebanon': 4, 'Lesotho': 4, 'Liberia': 4, 'Libya': 4, 'Liechtenstein': 4, 'Lithuania': 4, 'Luxembourg': 4, '\"Macao SAR': 4, '\"Macedonia': 4, 'Madagascar': 4, 'Malawi': 4, 'Malaysia': 4, 'Maldives': 4, 'Mali': 4, 'Malta': 4, 'Marshall Islands': 4, 'Mauritania': 4, 'Mauritius': 4, 'Mexico': 4, '\"Micronesia': 4, 'Moldova': 4, 'Monaco': 4, 'Mongolia': 4, 'Montenegro': 4, 'Morocco': 4, 'Mozambique': 4, 'Myanmar': 4, 'Namibia': 4, 'Nepal': 4, 'Netherlands': 4, 'New Caledonia': 4, 'New Zealand': 4, 'Nicaragua': 4, 'Niger': 4, 'Nigeria': 4, 'Northern Mariana Islands': 4, 'Norway': 4, 'Oman': 4, 'Pakistan': 4, 'Palau': 4, 'Panama': 4, 'Papua New Guinea': 4, 'Paraguay': 4, 'Peru': 4, 'Philippines': 4, 'Poland': 4, 'Portugal': 4, 'Puerto Rico': 4, 'Qatar': 4, 'Romania': 4, 'Russian Federation': 4, 'Rwanda': 4, 'Samoa': 4, 'San Marino': 4, 'Sao Tome and Principe': 4, 'Saudi Arabia': 4, 'Senegal': 4, 'Seychelles': 4, 'Sierra Leone': 4, 'Singapore': 4, 'Slovak Republic': 4, 'Slovenia': 4, 'Solomon Islands': 4, 'Somalia': 4, 'South Africa': 4, 'South Sudan': 4, 'Spain': 4, 'Sri Lanka': 4, 'St. Kitts and Nevis': 4, 'St. Lucia': 4, 'St. Vincent and the Grenadines': 4, 'Sudan': 4, 'Suriname': 4, 'Swaziland': 4, 'Sweden': 4, 'Switzerland': 4, 'Syrian Arab Republic': 4, 'Tajikistan': 4, 'Tanzania': 4, 'Thailand': 4, 'Timor-Leste': 4, 'Togo': 4, 'Tonga': 4, 'Trinidad and Tobago': 4, 'Tunisia': 4, 'Turkey': 4, 'Turkmenistan': 4, 'Turks and Caicos Islands': 4, 'Tuvalu': 4, 'Uganda': 4, 'Ukraine': 4, 'United Arab Emirates': 4, 'United Kingdom': 4, 'United States': 4, 'Uruguay': 4, 'Uzbekistan': 4, 'Vanuatu': 4, '\"Venezuela': 4, 'Vietnam': 4, 'Virgin Islands (U.S.)': 4, '\"Yemen': 4, 'Zambia': 4, 'Zimbabwe': 4}\n"
          ]
        }
      ]
    },
    {
      "cell_type": "markdown",
      "source": [
        "#### **Writing a generator to load data in chunks (2)**\n"
      ],
      "metadata": {
        "id": "47teEdfJfleR"
      }
    },
    {
      "cell_type": "code",
      "source": [
        "import urllib\n",
        "\n",
        "# Define read_large_file()\n",
        "def read_large_file(file_object):\n",
        "    \"\"\"A generator function to read a large file lazily.\"\"\"\n",
        "\n",
        "    # Loop indefinitely until the end of the file\n",
        "    while True:\n",
        "\n",
        "        # Read a line from the file: data\n",
        "        data = file_object.readline()\n",
        "\n",
        "        # Break if this is the end of the file\n",
        "        if not data:\n",
        "            break\n",
        "\n",
        "        # Yield the line of data\n",
        "        yield data\n",
        "\n",
        "# URL of the file\n",
        "url = url_pop\n",
        "\n",
        "# Open a connection to the file\n",
        "with urllib.request.urlopen(url) as file:\n",
        "\n",
        "    # Create a generator object for the file: gen_file\n",
        "    gen_file = read_large_file(file)\n",
        "\n",
        "    # Print the first three lines of the file\n",
        "    print(next(gen_file))\n",
        "    print(next(gen_file))\n",
        "    print(next(gen_file))"
      ],
      "metadata": {
        "colab": {
          "base_uri": "https://localhost:8080/"
        },
        "id": "m4IhPaWgf3oT",
        "outputId": "156ffde0-65c0-4055-d074-f8ba364f4743"
      },
      "execution_count": 30,
      "outputs": [
        {
          "output_type": "stream",
          "name": "stdout",
          "text": [
            "b'CountryName,CountryCode,Year,Total Population,Urban population (% of total)\\n'\n",
            "b'Arab World,ARB,1960,92495902.0,31.285384211605397\\n'\n",
            "b'Caribbean small states,CSS,1960,4190810.0,31.5974898513652\\n'\n"
          ]
        }
      ]
    },
    {
      "cell_type": "markdown",
      "source": [
        "#### **Writing a generator to load data in chunks (3)**\n"
      ],
      "metadata": {
        "id": "TEz14LrAfnOy"
      }
    },
    {
      "cell_type": "code",
      "source": [
        "import urllib\n",
        "\n",
        "# Define read_large_file()\n",
        "def read_large_file(file_object):\n",
        "    \"\"\"A generator function to read a large file lazily.\"\"\"\n",
        "\n",
        "    # Loop indefinitely until the end of the file\n",
        "    while True:\n",
        "\n",
        "        # Read a line from the file: data\n",
        "        data = file_object.readline()\n",
        "\n",
        "        # Break if this is the end of the file\n",
        "        if not data:\n",
        "            break\n",
        "\n",
        "        # Yield the line of data\n",
        "        yield data\n",
        "\n",
        "# URL of the file\n",
        "url = url_pop\n",
        "\n",
        "# Initialize an empty dictionary: counts_dict\n",
        "counts_dict = {}\n",
        "\n",
        "# Open a connection to the file\n",
        "with urllib.request.urlopen(url) as file:\n",
        "\n",
        "    # Iterate over the generator from read_large_file()\n",
        "    for line in read_large_file(file):\n",
        "\n",
        "        row = line.decode('utf-8').split(',')\n",
        "        first_col = row[0]\n",
        "\n",
        "        if first_col in counts_dict.keys():\n",
        "            counts_dict[first_col] += 1\n",
        "        else:\n",
        "            counts_dict[first_col] = 1\n",
        "\n",
        "# Print\n",
        "print(counts_dict)\n"
      ],
      "metadata": {
        "colab": {
          "base_uri": "https://localhost:8080/"
        },
        "id": "Tq43bE-Of4BC",
        "outputId": "9bef1407-e65f-4733-daa5-780bf24764c3"
      },
      "execution_count": 31,
      "outputs": [
        {
          "output_type": "stream",
          "name": "stdout",
          "text": [
            "{'CountryName': 1, 'Arab World': 55, 'Caribbean small states': 55, 'Central Europe and the Baltics': 55, 'East Asia & Pacific (all income levels)': 55, 'East Asia & Pacific (developing only)': 55, 'Euro area': 55, 'Europe & Central Asia (all income levels)': 55, 'Europe & Central Asia (developing only)': 55, 'European Union': 55, 'Fragile and conflict affected situations': 55, 'Heavily indebted poor countries (HIPC)': 55, 'High income': 55, 'High income: nonOECD': 55, 'High income: OECD': 55, 'Latin America & Caribbean (all income levels)': 55, 'Latin America & Caribbean (developing only)': 55, 'Least developed countries: UN classification': 55, 'Low & middle income': 55, 'Low income': 55, 'Lower middle income': 55, 'Middle East & North Africa (all income levels)': 55, 'Middle East & North Africa (developing only)': 55, 'Middle income': 55, 'North America': 55, 'OECD members': 55, 'Other small states': 55, 'Pacific island small states': 55, 'Small states': 55, 'South Asia': 55, 'Sub-Saharan Africa (all income levels)': 55, 'Sub-Saharan Africa (developing only)': 55, 'Upper middle income': 55, 'World': 55, 'Afghanistan': 55, 'Albania': 55, 'Algeria': 55, 'American Samoa': 55, 'Andorra': 55, 'Angola': 55, 'Antigua and Barbuda': 55, 'Argentina': 55, 'Armenia': 55, 'Aruba': 55, 'Australia': 55, 'Austria': 55, 'Azerbaijan': 55, '\"Bahamas': 55, 'Bahrain': 55, 'Bangladesh': 55, 'Barbados': 55, 'Belarus': 55, 'Belgium': 55, 'Belize': 55, 'Benin': 55, 'Bermuda': 55, 'Bhutan': 55, 'Bolivia': 55, 'Bosnia and Herzegovina': 55, 'Botswana': 55, 'Brazil': 55, 'Brunei Darussalam': 55, 'Bulgaria': 55, 'Burkina Faso': 55, 'Burundi': 55, 'Cabo Verde': 55, 'Cambodia': 55, 'Cameroon': 55, 'Canada': 55, 'Cayman Islands': 55, 'Central African Republic': 55, 'Chad': 55, 'Channel Islands': 55, 'Chile': 55, 'China': 55, 'Colombia': 55, 'Comoros': 55, '\"Congo': 110, 'Costa Rica': 55, \"Cote d'Ivoire\": 55, 'Croatia': 55, 'Cuba': 55, 'Curacao': 55, 'Cyprus': 55, 'Czech Republic': 55, 'Denmark': 55, 'Djibouti': 55, 'Dominica': 55, 'Dominican Republic': 55, 'Ecuador': 55, '\"Egypt': 55, 'El Salvador': 55, 'Equatorial Guinea': 55, 'Eritrea': 55, 'Estonia': 55, 'Ethiopia': 55, 'Faeroe Islands': 55, 'Fiji': 55, 'Finland': 55, 'France': 55, 'French Polynesia': 55, 'Gabon': 55, '\"Gambia': 55, 'Georgia': 55, 'Germany': 55, 'Ghana': 55, 'Greece': 55, 'Greenland': 55, 'Grenada': 55, 'Guam': 55, 'Guatemala': 55, 'Guinea': 55, 'Guinea-Bissau': 55, 'Guyana': 55, 'Haiti': 55, 'Honduras': 55, '\"Hong Kong SAR': 55, 'Hungary': 55, 'Iceland': 55, 'India': 55, 'Indonesia': 55, '\"Iran': 55, 'Iraq': 55, 'Ireland': 55, 'Isle of Man': 55, 'Israel': 55, 'Italy': 55, 'Jamaica': 55, 'Japan': 55, 'Jordan': 55, 'Kazakhstan': 55, 'Kenya': 55, 'Kiribati': 55, '\"Korea': 110, 'Kuwait': 52, 'Kyrgyz Republic': 55, 'Lao PDR': 55, 'Latvia': 55, 'Lebanon': 55, 'Lesotho': 55, 'Liberia': 55, 'Libya': 55, 'Liechtenstein': 55, 'Lithuania': 55, 'Luxembourg': 55, '\"Macao SAR': 55, '\"Macedonia': 55, 'Madagascar': 55, 'Malawi': 55, 'Malaysia': 55, 'Maldives': 55, 'Mali': 55, 'Malta': 55, 'Marshall Islands': 55, 'Mauritania': 55, 'Mauritius': 55, 'Mexico': 55, '\"Micronesia': 55, 'Moldova': 55, 'Monaco': 55, 'Mongolia': 55, 'Montenegro': 55, 'Morocco': 55, 'Mozambique': 55, 'Myanmar': 55, 'Namibia': 55, 'Nepal': 55, 'Netherlands': 55, 'New Caledonia': 55, 'New Zealand': 55, 'Nicaragua': 55, 'Niger': 55, 'Nigeria': 55, 'Northern Mariana Islands': 55, 'Norway': 55, 'Oman': 55, 'Pakistan': 55, 'Palau': 55, 'Panama': 55, 'Papua New Guinea': 55, 'Paraguay': 55, 'Peru': 55, 'Philippines': 55, 'Poland': 55, 'Portugal': 55, 'Puerto Rico': 55, 'Qatar': 55, 'Romania': 55, 'Russian Federation': 55, 'Rwanda': 55, 'Samoa': 55, 'San Marino': 55, 'Sao Tome and Principe': 55, 'Saudi Arabia': 55, 'Senegal': 55, 'Seychelles': 55, 'Sierra Leone': 55, 'Singapore': 55, 'Slovak Republic': 55, 'Slovenia': 55, 'Solomon Islands': 55, 'Somalia': 55, 'South Africa': 55, 'South Sudan': 55, 'Spain': 55, 'Sri Lanka': 55, 'St. Kitts and Nevis': 55, 'St. Lucia': 55, 'St. Vincent and the Grenadines': 55, 'Sudan': 55, 'Suriname': 55, 'Swaziland': 55, 'Sweden': 55, 'Switzerland': 55, 'Syrian Arab Republic': 55, 'Tajikistan': 55, 'Tanzania': 55, 'Thailand': 55, 'Timor-Leste': 55, 'Togo': 55, 'Tonga': 55, 'Trinidad and Tobago': 55, 'Tunisia': 55, 'Turkey': 55, 'Turkmenistan': 55, 'Turks and Caicos Islands': 55, 'Tuvalu': 55, 'Uganda': 55, 'Ukraine': 55, 'United Arab Emirates': 55, 'United Kingdom': 55, 'United States': 55, 'Uruguay': 55, 'Uzbekistan': 55, 'Vanuatu': 55, '\"Venezuela': 55, 'Vietnam': 55, 'Virgin Islands (U.S.)': 55, '\"Yemen': 55, 'Zambia': 55, 'Zimbabwe': 55, 'Serbia': 25, 'West Bank and Gaza': 25, 'Sint Maarten (Dutch part)': 17}\n"
          ]
        }
      ]
    },
    {
      "cell_type": "markdown",
      "source": [
        "### **Using pandas' read_csv iterator for streaming data**\n"
      ],
      "metadata": {
        "id": "eDBjQ6R-fovC"
      }
    },
    {
      "cell_type": "markdown",
      "source": [
        "#### **Writing an iterator to load data in chunks (1)**\n"
      ],
      "metadata": {
        "id": "V9U0nz8Afqiq"
      }
    },
    {
      "cell_type": "code",
      "source": [
        "# Import the pandas package\n",
        "import pandas as pd\n",
        "\n",
        "# Initialize reader object: df_reader\n",
        "df_reader = pd.read_csv(url_pop, chunksize=10)\n",
        "\n",
        "# Print two chunks\n",
        "display(next(df_reader))\n",
        "print('\\n')\n",
        "print('\\n')\n",
        "display(next(df_reader))"
      ],
      "metadata": {
        "colab": {
          "base_uri": "https://localhost:8080/",
          "height": 778
        },
        "id": "43afABoqf48a",
        "outputId": "39588b85-a10a-4f7f-9162-b831ff5c6763"
      },
      "execution_count": 32,
      "outputs": [
        {
          "output_type": "display_data",
          "data": {
            "text/plain": [
              "                                 CountryName CountryCode  Year  \\\n",
              "0                                 Arab World         ARB  1960   \n",
              "1                     Caribbean small states         CSS  1960   \n",
              "2             Central Europe and the Baltics         CEB  1960   \n",
              "3    East Asia & Pacific (all income levels)         EAS  1960   \n",
              "4      East Asia & Pacific (developing only)         EAP  1960   \n",
              "5                                  Euro area         EMU  1960   \n",
              "6  Europe & Central Asia (all income levels)         ECS  1960   \n",
              "7    Europe & Central Asia (developing only)         ECA  1960   \n",
              "8                             European Union         EUU  1960   \n",
              "9   Fragile and conflict affected situations         FCS  1960   \n",
              "\n",
              "   Total Population  Urban population (% of total)  \n",
              "0      9.249590e+07                      31.285384  \n",
              "1      4.190810e+06                      31.597490  \n",
              "2      9.140158e+07                      44.507921  \n",
              "3      1.042475e+09                      22.471132  \n",
              "4      8.964930e+08                      16.917679  \n",
              "5      2.653965e+08                      62.096947  \n",
              "6      6.674890e+08                      55.378977  \n",
              "7      1.553174e+08                      38.066129  \n",
              "8      4.094985e+08                      61.212898  \n",
              "9      1.203546e+08                      17.891972  "
            ],
            "text/html": [
              "\n",
              "  <div id=\"df-af652145-5589-4f2b-89fd-91a2cc091916\">\n",
              "    <div class=\"colab-df-container\">\n",
              "      <div>\n",
              "<style scoped>\n",
              "    .dataframe tbody tr th:only-of-type {\n",
              "        vertical-align: middle;\n",
              "    }\n",
              "\n",
              "    .dataframe tbody tr th {\n",
              "        vertical-align: top;\n",
              "    }\n",
              "\n",
              "    .dataframe thead th {\n",
              "        text-align: right;\n",
              "    }\n",
              "</style>\n",
              "<table border=\"1\" class=\"dataframe\">\n",
              "  <thead>\n",
              "    <tr style=\"text-align: right;\">\n",
              "      <th></th>\n",
              "      <th>CountryName</th>\n",
              "      <th>CountryCode</th>\n",
              "      <th>Year</th>\n",
              "      <th>Total Population</th>\n",
              "      <th>Urban population (% of total)</th>\n",
              "    </tr>\n",
              "  </thead>\n",
              "  <tbody>\n",
              "    <tr>\n",
              "      <th>0</th>\n",
              "      <td>Arab World</td>\n",
              "      <td>ARB</td>\n",
              "      <td>1960</td>\n",
              "      <td>9.249590e+07</td>\n",
              "      <td>31.285384</td>\n",
              "    </tr>\n",
              "    <tr>\n",
              "      <th>1</th>\n",
              "      <td>Caribbean small states</td>\n",
              "      <td>CSS</td>\n",
              "      <td>1960</td>\n",
              "      <td>4.190810e+06</td>\n",
              "      <td>31.597490</td>\n",
              "    </tr>\n",
              "    <tr>\n",
              "      <th>2</th>\n",
              "      <td>Central Europe and the Baltics</td>\n",
              "      <td>CEB</td>\n",
              "      <td>1960</td>\n",
              "      <td>9.140158e+07</td>\n",
              "      <td>44.507921</td>\n",
              "    </tr>\n",
              "    <tr>\n",
              "      <th>3</th>\n",
              "      <td>East Asia &amp; Pacific (all income levels)</td>\n",
              "      <td>EAS</td>\n",
              "      <td>1960</td>\n",
              "      <td>1.042475e+09</td>\n",
              "      <td>22.471132</td>\n",
              "    </tr>\n",
              "    <tr>\n",
              "      <th>4</th>\n",
              "      <td>East Asia &amp; Pacific (developing only)</td>\n",
              "      <td>EAP</td>\n",
              "      <td>1960</td>\n",
              "      <td>8.964930e+08</td>\n",
              "      <td>16.917679</td>\n",
              "    </tr>\n",
              "    <tr>\n",
              "      <th>5</th>\n",
              "      <td>Euro area</td>\n",
              "      <td>EMU</td>\n",
              "      <td>1960</td>\n",
              "      <td>2.653965e+08</td>\n",
              "      <td>62.096947</td>\n",
              "    </tr>\n",
              "    <tr>\n",
              "      <th>6</th>\n",
              "      <td>Europe &amp; Central Asia (all income levels)</td>\n",
              "      <td>ECS</td>\n",
              "      <td>1960</td>\n",
              "      <td>6.674890e+08</td>\n",
              "      <td>55.378977</td>\n",
              "    </tr>\n",
              "    <tr>\n",
              "      <th>7</th>\n",
              "      <td>Europe &amp; Central Asia (developing only)</td>\n",
              "      <td>ECA</td>\n",
              "      <td>1960</td>\n",
              "      <td>1.553174e+08</td>\n",
              "      <td>38.066129</td>\n",
              "    </tr>\n",
              "    <tr>\n",
              "      <th>8</th>\n",
              "      <td>European Union</td>\n",
              "      <td>EUU</td>\n",
              "      <td>1960</td>\n",
              "      <td>4.094985e+08</td>\n",
              "      <td>61.212898</td>\n",
              "    </tr>\n",
              "    <tr>\n",
              "      <th>9</th>\n",
              "      <td>Fragile and conflict affected situations</td>\n",
              "      <td>FCS</td>\n",
              "      <td>1960</td>\n",
              "      <td>1.203546e+08</td>\n",
              "      <td>17.891972</td>\n",
              "    </tr>\n",
              "  </tbody>\n",
              "</table>\n",
              "</div>\n",
              "      <button class=\"colab-df-convert\" onclick=\"convertToInteractive('df-af652145-5589-4f2b-89fd-91a2cc091916')\"\n",
              "              title=\"Convert this dataframe to an interactive table.\"\n",
              "              style=\"display:none;\">\n",
              "        \n",
              "  <svg xmlns=\"http://www.w3.org/2000/svg\" height=\"24px\"viewBox=\"0 0 24 24\"\n",
              "       width=\"24px\">\n",
              "    <path d=\"M0 0h24v24H0V0z\" fill=\"none\"/>\n",
              "    <path d=\"M18.56 5.44l.94 2.06.94-2.06 2.06-.94-2.06-.94-.94-2.06-.94 2.06-2.06.94zm-11 1L8.5 8.5l.94-2.06 2.06-.94-2.06-.94L8.5 2.5l-.94 2.06-2.06.94zm10 10l.94 2.06.94-2.06 2.06-.94-2.06-.94-.94-2.06-.94 2.06-2.06.94z\"/><path d=\"M17.41 7.96l-1.37-1.37c-.4-.4-.92-.59-1.43-.59-.52 0-1.04.2-1.43.59L10.3 9.45l-7.72 7.72c-.78.78-.78 2.05 0 2.83L4 21.41c.39.39.9.59 1.41.59.51 0 1.02-.2 1.41-.59l7.78-7.78 2.81-2.81c.8-.78.8-2.07 0-2.86zM5.41 20L4 18.59l7.72-7.72 1.47 1.35L5.41 20z\"/>\n",
              "  </svg>\n",
              "      </button>\n",
              "      \n",
              "  <style>\n",
              "    .colab-df-container {\n",
              "      display:flex;\n",
              "      flex-wrap:wrap;\n",
              "      gap: 12px;\n",
              "    }\n",
              "\n",
              "    .colab-df-convert {\n",
              "      background-color: #E8F0FE;\n",
              "      border: none;\n",
              "      border-radius: 50%;\n",
              "      cursor: pointer;\n",
              "      display: none;\n",
              "      fill: #1967D2;\n",
              "      height: 32px;\n",
              "      padding: 0 0 0 0;\n",
              "      width: 32px;\n",
              "    }\n",
              "\n",
              "    .colab-df-convert:hover {\n",
              "      background-color: #E2EBFA;\n",
              "      box-shadow: 0px 1px 2px rgba(60, 64, 67, 0.3), 0px 1px 3px 1px rgba(60, 64, 67, 0.15);\n",
              "      fill: #174EA6;\n",
              "    }\n",
              "\n",
              "    [theme=dark] .colab-df-convert {\n",
              "      background-color: #3B4455;\n",
              "      fill: #D2E3FC;\n",
              "    }\n",
              "\n",
              "    [theme=dark] .colab-df-convert:hover {\n",
              "      background-color: #434B5C;\n",
              "      box-shadow: 0px 1px 3px 1px rgba(0, 0, 0, 0.15);\n",
              "      filter: drop-shadow(0px 1px 2px rgba(0, 0, 0, 0.3));\n",
              "      fill: #FFFFFF;\n",
              "    }\n",
              "  </style>\n",
              "\n",
              "      <script>\n",
              "        const buttonEl =\n",
              "          document.querySelector('#df-af652145-5589-4f2b-89fd-91a2cc091916 button.colab-df-convert');\n",
              "        buttonEl.style.display =\n",
              "          google.colab.kernel.accessAllowed ? 'block' : 'none';\n",
              "\n",
              "        async function convertToInteractive(key) {\n",
              "          const element = document.querySelector('#df-af652145-5589-4f2b-89fd-91a2cc091916');\n",
              "          const dataTable =\n",
              "            await google.colab.kernel.invokeFunction('convertToInteractive',\n",
              "                                                     [key], {});\n",
              "          if (!dataTable) return;\n",
              "\n",
              "          const docLinkHtml = 'Like what you see? Visit the ' +\n",
              "            '<a target=\"_blank\" href=https://colab.research.google.com/notebooks/data_table.ipynb>data table notebook</a>'\n",
              "            + ' to learn more about interactive tables.';\n",
              "          element.innerHTML = '';\n",
              "          dataTable['output_type'] = 'display_data';\n",
              "          await google.colab.output.renderOutput(dataTable, element);\n",
              "          const docLink = document.createElement('div');\n",
              "          docLink.innerHTML = docLinkHtml;\n",
              "          element.appendChild(docLink);\n",
              "        }\n",
              "      </script>\n",
              "    </div>\n",
              "  </div>\n",
              "  "
            ]
          },
          "metadata": {}
        },
        {
          "output_type": "stream",
          "name": "stdout",
          "text": [
            "\n",
            "\n",
            "\n",
            "\n"
          ]
        },
        {
          "output_type": "display_data",
          "data": {
            "text/plain": [
              "                                      CountryName CountryCode  Year  \\\n",
              "10         Heavily indebted poor countries (HIPC)         HPC  1960   \n",
              "11                                    High income         HIC  1960   \n",
              "12                           High income: nonOECD         NOC  1960   \n",
              "13                              High income: OECD         OEC  1960   \n",
              "14  Latin America & Caribbean (all income levels)         LCN  1960   \n",
              "15    Latin America & Caribbean (developing only)         LAC  1960   \n",
              "16   Least developed countries: UN classification         LDC  1960   \n",
              "17                            Low & middle income         LMY  1960   \n",
              "18                                     Low income         LIC  1960   \n",
              "19                            Lower middle income         LMC  1960   \n",
              "\n",
              "    Total Population  Urban population (% of total)  \n",
              "10      1.624912e+08                      12.236046  \n",
              "11      9.075975e+08                      62.680332  \n",
              "12      1.866767e+08                      56.107863  \n",
              "13      7.209208e+08                      64.285435  \n",
              "14      2.205642e+08                      49.284688  \n",
              "15      1.776822e+08                      44.863308  \n",
              "16      2.410728e+08                       9.616261  \n",
              "17      2.127373e+09                      21.272894  \n",
              "18      1.571884e+08                      11.498396  \n",
              "19      9.429116e+08                      19.810513  "
            ],
            "text/html": [
              "\n",
              "  <div id=\"df-64eb2d3f-d21c-4bb4-a438-4c01256cd762\">\n",
              "    <div class=\"colab-df-container\">\n",
              "      <div>\n",
              "<style scoped>\n",
              "    .dataframe tbody tr th:only-of-type {\n",
              "        vertical-align: middle;\n",
              "    }\n",
              "\n",
              "    .dataframe tbody tr th {\n",
              "        vertical-align: top;\n",
              "    }\n",
              "\n",
              "    .dataframe thead th {\n",
              "        text-align: right;\n",
              "    }\n",
              "</style>\n",
              "<table border=\"1\" class=\"dataframe\">\n",
              "  <thead>\n",
              "    <tr style=\"text-align: right;\">\n",
              "      <th></th>\n",
              "      <th>CountryName</th>\n",
              "      <th>CountryCode</th>\n",
              "      <th>Year</th>\n",
              "      <th>Total Population</th>\n",
              "      <th>Urban population (% of total)</th>\n",
              "    </tr>\n",
              "  </thead>\n",
              "  <tbody>\n",
              "    <tr>\n",
              "      <th>10</th>\n",
              "      <td>Heavily indebted poor countries (HIPC)</td>\n",
              "      <td>HPC</td>\n",
              "      <td>1960</td>\n",
              "      <td>1.624912e+08</td>\n",
              "      <td>12.236046</td>\n",
              "    </tr>\n",
              "    <tr>\n",
              "      <th>11</th>\n",
              "      <td>High income</td>\n",
              "      <td>HIC</td>\n",
              "      <td>1960</td>\n",
              "      <td>9.075975e+08</td>\n",
              "      <td>62.680332</td>\n",
              "    </tr>\n",
              "    <tr>\n",
              "      <th>12</th>\n",
              "      <td>High income: nonOECD</td>\n",
              "      <td>NOC</td>\n",
              "      <td>1960</td>\n",
              "      <td>1.866767e+08</td>\n",
              "      <td>56.107863</td>\n",
              "    </tr>\n",
              "    <tr>\n",
              "      <th>13</th>\n",
              "      <td>High income: OECD</td>\n",
              "      <td>OEC</td>\n",
              "      <td>1960</td>\n",
              "      <td>7.209208e+08</td>\n",
              "      <td>64.285435</td>\n",
              "    </tr>\n",
              "    <tr>\n",
              "      <th>14</th>\n",
              "      <td>Latin America &amp; Caribbean (all income levels)</td>\n",
              "      <td>LCN</td>\n",
              "      <td>1960</td>\n",
              "      <td>2.205642e+08</td>\n",
              "      <td>49.284688</td>\n",
              "    </tr>\n",
              "    <tr>\n",
              "      <th>15</th>\n",
              "      <td>Latin America &amp; Caribbean (developing only)</td>\n",
              "      <td>LAC</td>\n",
              "      <td>1960</td>\n",
              "      <td>1.776822e+08</td>\n",
              "      <td>44.863308</td>\n",
              "    </tr>\n",
              "    <tr>\n",
              "      <th>16</th>\n",
              "      <td>Least developed countries: UN classification</td>\n",
              "      <td>LDC</td>\n",
              "      <td>1960</td>\n",
              "      <td>2.410728e+08</td>\n",
              "      <td>9.616261</td>\n",
              "    </tr>\n",
              "    <tr>\n",
              "      <th>17</th>\n",
              "      <td>Low &amp; middle income</td>\n",
              "      <td>LMY</td>\n",
              "      <td>1960</td>\n",
              "      <td>2.127373e+09</td>\n",
              "      <td>21.272894</td>\n",
              "    </tr>\n",
              "    <tr>\n",
              "      <th>18</th>\n",
              "      <td>Low income</td>\n",
              "      <td>LIC</td>\n",
              "      <td>1960</td>\n",
              "      <td>1.571884e+08</td>\n",
              "      <td>11.498396</td>\n",
              "    </tr>\n",
              "    <tr>\n",
              "      <th>19</th>\n",
              "      <td>Lower middle income</td>\n",
              "      <td>LMC</td>\n",
              "      <td>1960</td>\n",
              "      <td>9.429116e+08</td>\n",
              "      <td>19.810513</td>\n",
              "    </tr>\n",
              "  </tbody>\n",
              "</table>\n",
              "</div>\n",
              "      <button class=\"colab-df-convert\" onclick=\"convertToInteractive('df-64eb2d3f-d21c-4bb4-a438-4c01256cd762')\"\n",
              "              title=\"Convert this dataframe to an interactive table.\"\n",
              "              style=\"display:none;\">\n",
              "        \n",
              "  <svg xmlns=\"http://www.w3.org/2000/svg\" height=\"24px\"viewBox=\"0 0 24 24\"\n",
              "       width=\"24px\">\n",
              "    <path d=\"M0 0h24v24H0V0z\" fill=\"none\"/>\n",
              "    <path d=\"M18.56 5.44l.94 2.06.94-2.06 2.06-.94-2.06-.94-.94-2.06-.94 2.06-2.06.94zm-11 1L8.5 8.5l.94-2.06 2.06-.94-2.06-.94L8.5 2.5l-.94 2.06-2.06.94zm10 10l.94 2.06.94-2.06 2.06-.94-2.06-.94-.94-2.06-.94 2.06-2.06.94z\"/><path d=\"M17.41 7.96l-1.37-1.37c-.4-.4-.92-.59-1.43-.59-.52 0-1.04.2-1.43.59L10.3 9.45l-7.72 7.72c-.78.78-.78 2.05 0 2.83L4 21.41c.39.39.9.59 1.41.59.51 0 1.02-.2 1.41-.59l7.78-7.78 2.81-2.81c.8-.78.8-2.07 0-2.86zM5.41 20L4 18.59l7.72-7.72 1.47 1.35L5.41 20z\"/>\n",
              "  </svg>\n",
              "      </button>\n",
              "      \n",
              "  <style>\n",
              "    .colab-df-container {\n",
              "      display:flex;\n",
              "      flex-wrap:wrap;\n",
              "      gap: 12px;\n",
              "    }\n",
              "\n",
              "    .colab-df-convert {\n",
              "      background-color: #E8F0FE;\n",
              "      border: none;\n",
              "      border-radius: 50%;\n",
              "      cursor: pointer;\n",
              "      display: none;\n",
              "      fill: #1967D2;\n",
              "      height: 32px;\n",
              "      padding: 0 0 0 0;\n",
              "      width: 32px;\n",
              "    }\n",
              "\n",
              "    .colab-df-convert:hover {\n",
              "      background-color: #E2EBFA;\n",
              "      box-shadow: 0px 1px 2px rgba(60, 64, 67, 0.3), 0px 1px 3px 1px rgba(60, 64, 67, 0.15);\n",
              "      fill: #174EA6;\n",
              "    }\n",
              "\n",
              "    [theme=dark] .colab-df-convert {\n",
              "      background-color: #3B4455;\n",
              "      fill: #D2E3FC;\n",
              "    }\n",
              "\n",
              "    [theme=dark] .colab-df-convert:hover {\n",
              "      background-color: #434B5C;\n",
              "      box-shadow: 0px 1px 3px 1px rgba(0, 0, 0, 0.15);\n",
              "      filter: drop-shadow(0px 1px 2px rgba(0, 0, 0, 0.3));\n",
              "      fill: #FFFFFF;\n",
              "    }\n",
              "  </style>\n",
              "\n",
              "      <script>\n",
              "        const buttonEl =\n",
              "          document.querySelector('#df-64eb2d3f-d21c-4bb4-a438-4c01256cd762 button.colab-df-convert');\n",
              "        buttonEl.style.display =\n",
              "          google.colab.kernel.accessAllowed ? 'block' : 'none';\n",
              "\n",
              "        async function convertToInteractive(key) {\n",
              "          const element = document.querySelector('#df-64eb2d3f-d21c-4bb4-a438-4c01256cd762');\n",
              "          const dataTable =\n",
              "            await google.colab.kernel.invokeFunction('convertToInteractive',\n",
              "                                                     [key], {});\n",
              "          if (!dataTable) return;\n",
              "\n",
              "          const docLinkHtml = 'Like what you see? Visit the ' +\n",
              "            '<a target=\"_blank\" href=https://colab.research.google.com/notebooks/data_table.ipynb>data table notebook</a>'\n",
              "            + ' to learn more about interactive tables.';\n",
              "          element.innerHTML = '';\n",
              "          dataTable['output_type'] = 'display_data';\n",
              "          await google.colab.output.renderOutput(dataTable, element);\n",
              "          const docLink = document.createElement('div');\n",
              "          docLink.innerHTML = docLinkHtml;\n",
              "          element.appendChild(docLink);\n",
              "        }\n",
              "      </script>\n",
              "    </div>\n",
              "  </div>\n",
              "  "
            ]
          },
          "metadata": {}
        }
      ]
    },
    {
      "cell_type": "markdown",
      "source": [
        "#### **Writing an iterator to load data in chunks (2)**\n"
      ],
      "metadata": {
        "id": "klz6sib4fs8C"
      }
    },
    {
      "cell_type": "code",
      "source": [
        "# Initialize reader object: urb_pop_reader\n",
        "urb_pop_reader = pd.read_csv(url_pop, chunksize=1000)\n",
        "\n",
        "# Get the first DataFrame chunk: df_urb_pop\n",
        "df_urb_pop = next(urb_pop_reader)\n",
        "\n",
        "# Check out the head of the DataFrame\n",
        "display(df_urb_pop.head())\n",
        "print('\\n')\n",
        "\n",
        "# Check out specific country: df_pop_ceb\n",
        "df_pop_ceb = df_urb_pop[df_urb_pop['CountryCode'] == 'CEB']\n",
        "\n",
        "# Zip DataFrame columns of interest: pops\n",
        "pops = zip(df_pop_ceb['Total Population'],\n",
        "           df_pop_ceb['Urban population (% of total)'])\n",
        "\n",
        "# Turn zip object into list: pops_list\n",
        "pops_list = list(pops)\n",
        "\n",
        "# Print pops_list\n",
        "display(pops_list)"
      ],
      "metadata": {
        "colab": {
          "base_uri": "https://localhost:8080/",
          "height": 328
        },
        "id": "nczIqAyOf5VB",
        "outputId": "ae50ba06-530f-4739-f5d4-57f4935ca710"
      },
      "execution_count": 33,
      "outputs": [
        {
          "output_type": "display_data",
          "data": {
            "text/plain": [
              "                               CountryName CountryCode  Year  \\\n",
              "0                               Arab World         ARB  1960   \n",
              "1                   Caribbean small states         CSS  1960   \n",
              "2           Central Europe and the Baltics         CEB  1960   \n",
              "3  East Asia & Pacific (all income levels)         EAS  1960   \n",
              "4    East Asia & Pacific (developing only)         EAP  1960   \n",
              "\n",
              "   Total Population  Urban population (% of total)  \n",
              "0      9.249590e+07                      31.285384  \n",
              "1      4.190810e+06                      31.597490  \n",
              "2      9.140158e+07                      44.507921  \n",
              "3      1.042475e+09                      22.471132  \n",
              "4      8.964930e+08                      16.917679  "
            ],
            "text/html": [
              "\n",
              "  <div id=\"df-d24a919b-606b-465e-8767-e197c4d09a0f\">\n",
              "    <div class=\"colab-df-container\">\n",
              "      <div>\n",
              "<style scoped>\n",
              "    .dataframe tbody tr th:only-of-type {\n",
              "        vertical-align: middle;\n",
              "    }\n",
              "\n",
              "    .dataframe tbody tr th {\n",
              "        vertical-align: top;\n",
              "    }\n",
              "\n",
              "    .dataframe thead th {\n",
              "        text-align: right;\n",
              "    }\n",
              "</style>\n",
              "<table border=\"1\" class=\"dataframe\">\n",
              "  <thead>\n",
              "    <tr style=\"text-align: right;\">\n",
              "      <th></th>\n",
              "      <th>CountryName</th>\n",
              "      <th>CountryCode</th>\n",
              "      <th>Year</th>\n",
              "      <th>Total Population</th>\n",
              "      <th>Urban population (% of total)</th>\n",
              "    </tr>\n",
              "  </thead>\n",
              "  <tbody>\n",
              "    <tr>\n",
              "      <th>0</th>\n",
              "      <td>Arab World</td>\n",
              "      <td>ARB</td>\n",
              "      <td>1960</td>\n",
              "      <td>9.249590e+07</td>\n",
              "      <td>31.285384</td>\n",
              "    </tr>\n",
              "    <tr>\n",
              "      <th>1</th>\n",
              "      <td>Caribbean small states</td>\n",
              "      <td>CSS</td>\n",
              "      <td>1960</td>\n",
              "      <td>4.190810e+06</td>\n",
              "      <td>31.597490</td>\n",
              "    </tr>\n",
              "    <tr>\n",
              "      <th>2</th>\n",
              "      <td>Central Europe and the Baltics</td>\n",
              "      <td>CEB</td>\n",
              "      <td>1960</td>\n",
              "      <td>9.140158e+07</td>\n",
              "      <td>44.507921</td>\n",
              "    </tr>\n",
              "    <tr>\n",
              "      <th>3</th>\n",
              "      <td>East Asia &amp; Pacific (all income levels)</td>\n",
              "      <td>EAS</td>\n",
              "      <td>1960</td>\n",
              "      <td>1.042475e+09</td>\n",
              "      <td>22.471132</td>\n",
              "    </tr>\n",
              "    <tr>\n",
              "      <th>4</th>\n",
              "      <td>East Asia &amp; Pacific (developing only)</td>\n",
              "      <td>EAP</td>\n",
              "      <td>1960</td>\n",
              "      <td>8.964930e+08</td>\n",
              "      <td>16.917679</td>\n",
              "    </tr>\n",
              "  </tbody>\n",
              "</table>\n",
              "</div>\n",
              "      <button class=\"colab-df-convert\" onclick=\"convertToInteractive('df-d24a919b-606b-465e-8767-e197c4d09a0f')\"\n",
              "              title=\"Convert this dataframe to an interactive table.\"\n",
              "              style=\"display:none;\">\n",
              "        \n",
              "  <svg xmlns=\"http://www.w3.org/2000/svg\" height=\"24px\"viewBox=\"0 0 24 24\"\n",
              "       width=\"24px\">\n",
              "    <path d=\"M0 0h24v24H0V0z\" fill=\"none\"/>\n",
              "    <path d=\"M18.56 5.44l.94 2.06.94-2.06 2.06-.94-2.06-.94-.94-2.06-.94 2.06-2.06.94zm-11 1L8.5 8.5l.94-2.06 2.06-.94-2.06-.94L8.5 2.5l-.94 2.06-2.06.94zm10 10l.94 2.06.94-2.06 2.06-.94-2.06-.94-.94-2.06-.94 2.06-2.06.94z\"/><path d=\"M17.41 7.96l-1.37-1.37c-.4-.4-.92-.59-1.43-.59-.52 0-1.04.2-1.43.59L10.3 9.45l-7.72 7.72c-.78.78-.78 2.05 0 2.83L4 21.41c.39.39.9.59 1.41.59.51 0 1.02-.2 1.41-.59l7.78-7.78 2.81-2.81c.8-.78.8-2.07 0-2.86zM5.41 20L4 18.59l7.72-7.72 1.47 1.35L5.41 20z\"/>\n",
              "  </svg>\n",
              "      </button>\n",
              "      \n",
              "  <style>\n",
              "    .colab-df-container {\n",
              "      display:flex;\n",
              "      flex-wrap:wrap;\n",
              "      gap: 12px;\n",
              "    }\n",
              "\n",
              "    .colab-df-convert {\n",
              "      background-color: #E8F0FE;\n",
              "      border: none;\n",
              "      border-radius: 50%;\n",
              "      cursor: pointer;\n",
              "      display: none;\n",
              "      fill: #1967D2;\n",
              "      height: 32px;\n",
              "      padding: 0 0 0 0;\n",
              "      width: 32px;\n",
              "    }\n",
              "\n",
              "    .colab-df-convert:hover {\n",
              "      background-color: #E2EBFA;\n",
              "      box-shadow: 0px 1px 2px rgba(60, 64, 67, 0.3), 0px 1px 3px 1px rgba(60, 64, 67, 0.15);\n",
              "      fill: #174EA6;\n",
              "    }\n",
              "\n",
              "    [theme=dark] .colab-df-convert {\n",
              "      background-color: #3B4455;\n",
              "      fill: #D2E3FC;\n",
              "    }\n",
              "\n",
              "    [theme=dark] .colab-df-convert:hover {\n",
              "      background-color: #434B5C;\n",
              "      box-shadow: 0px 1px 3px 1px rgba(0, 0, 0, 0.15);\n",
              "      filter: drop-shadow(0px 1px 2px rgba(0, 0, 0, 0.3));\n",
              "      fill: #FFFFFF;\n",
              "    }\n",
              "  </style>\n",
              "\n",
              "      <script>\n",
              "        const buttonEl =\n",
              "          document.querySelector('#df-d24a919b-606b-465e-8767-e197c4d09a0f button.colab-df-convert');\n",
              "        buttonEl.style.display =\n",
              "          google.colab.kernel.accessAllowed ? 'block' : 'none';\n",
              "\n",
              "        async function convertToInteractive(key) {\n",
              "          const element = document.querySelector('#df-d24a919b-606b-465e-8767-e197c4d09a0f');\n",
              "          const dataTable =\n",
              "            await google.colab.kernel.invokeFunction('convertToInteractive',\n",
              "                                                     [key], {});\n",
              "          if (!dataTable) return;\n",
              "\n",
              "          const docLinkHtml = 'Like what you see? Visit the ' +\n",
              "            '<a target=\"_blank\" href=https://colab.research.google.com/notebooks/data_table.ipynb>data table notebook</a>'\n",
              "            + ' to learn more about interactive tables.';\n",
              "          element.innerHTML = '';\n",
              "          dataTable['output_type'] = 'display_data';\n",
              "          await google.colab.output.renderOutput(dataTable, element);\n",
              "          const docLink = document.createElement('div');\n",
              "          docLink.innerHTML = docLinkHtml;\n",
              "          element.appendChild(docLink);\n",
              "        }\n",
              "      </script>\n",
              "    </div>\n",
              "  </div>\n",
              "  "
            ]
          },
          "metadata": {}
        },
        {
          "output_type": "stream",
          "name": "stdout",
          "text": [
            "\n",
            "\n"
          ]
        },
        {
          "output_type": "display_data",
          "data": {
            "text/plain": [
              "[(91401583.0, 44.5079211390026),\n",
              " (92237118.0, 45.206665319194),\n",
              " (93014890.0, 45.866564696018),\n",
              " (93845749.0, 46.5340927663649),\n",
              " (94722599.0, 47.2087429803526)]"
            ]
          },
          "metadata": {}
        }
      ]
    },
    {
      "cell_type": "markdown",
      "source": [
        "#### **Writing an iterator to load data in chunks (3)**\n"
      ],
      "metadata": {
        "id": "m6Ys8et_fvEL"
      }
    },
    {
      "cell_type": "code",
      "source": [
        "# Initialize reader object: urb_pop_reader\n",
        "urb_pop_reader = pd.read_csv(url_pop, chunksize=1000)\n",
        "\n",
        "# Get the first DataFrame chunk: df_urb_pop\n",
        "df_urb_pop = next(urb_pop_reader)\n",
        "\n",
        "# Check out specific country: df_pop_ceb\n",
        "df_pop_ceb = df_urb_pop[df_urb_pop['CountryCode'] == 'CEB']\n",
        "\n",
        "# Zip DataFrame columns of interest: pops\n",
        "pops = zip(df_pop_ceb['Total Population'], \n",
        "            df_pop_ceb['Urban population (% of total)'])\n",
        "\n",
        "# Turn zip object into list: pops_list\n",
        "pops_list = list(pops)\n",
        "\n",
        "# Use list comprehension to create new DataFrame column 'Total Urban Population'\n",
        "df_pop_ceb['Total Urban Population'] = [int(tup[0] * tup[1] * 0.01) for tup in pops_list]\n",
        "\n",
        "# Plot urban population data\n",
        "df_pop_ceb.plot(kind='scatter', x='Year', y='Total Urban Population')\n",
        "plt.show()"
      ],
      "metadata": {
        "colab": {
          "base_uri": "https://localhost:8080/",
          "height": 569
        },
        "id": "iu7ye5ljf5zC",
        "outputId": "2f34bbdd-d094-4a14-ad5f-ca8f5494b72c"
      },
      "execution_count": 34,
      "outputs": [
        {
          "output_type": "stream",
          "name": "stderr",
          "text": [
            "<ipython-input-34-18802c0c6e85>:18: SettingWithCopyWarning: \n",
            "A value is trying to be set on a copy of a slice from a DataFrame.\n",
            "Try using .loc[row_indexer,col_indexer] = value instead\n",
            "\n",
            "See the caveats in the documentation: https://pandas.pydata.org/pandas-docs/stable/user_guide/indexing.html#returning-a-view-versus-a-copy\n",
            "  df_pop_ceb['Total Urban Population'] = [int(tup[0] * tup[1] * 0.01) for tup in pops_list]\n"
          ]
        },
        {
          "output_type": "display_data",
          "data": {
            "text/plain": [
              "<Figure size 640x480 with 1 Axes>"
            ],
            "image/png": "[encoded data removed]"
          },
          "metadata": {}
        }
      ]
    },
    {
      "cell_type": "markdown",
      "source": [
        "#### **Writing an iterator to load data in chunks (4)**\n"
      ],
      "metadata": {
        "id": "DEcgeYXcfw0s"
      }
    },
    {
      "cell_type": "code",
      "source": [
        "# Initialize reader object: urb_pop_reader\n",
        "urb_pop_reader = pd.read_csv(url_pop, chunksize=1000)\n",
        "\n",
        "# Initialize empty DataFrame: data\n",
        "data = pd.DataFrame()\n",
        "\n",
        "# Iterate over each DataFrame chunk\n",
        "for df_urb_pop in urb_pop_reader:\n",
        "\n",
        "    # Check out specific country: df_pop_ceb\n",
        "    df_pop_ceb = df_urb_pop[df_urb_pop['CountryCode'] == 'CEB']\n",
        "\n",
        "    # Zip DataFrame columns of interest: pops\n",
        "    pops = zip(df_pop_ceb['Total Population'],\n",
        "                df_pop_ceb['Urban population (% of total)'])\n",
        "\n",
        "    # Turn zip object into list: pops_list\n",
        "    pops_list = list(pops)\n",
        "\n",
        "    # Use list comprehension to create new DataFrame column 'Total Urban Population'\n",
        "    df_pop_ceb['Total Urban Population'] = [int(tup[0] * tup[1] * 0.01) for tup in pops_list]\n",
        "    \n",
        "    # Concatenate DataFrame chunk to the end of data: data\n",
        "    data = pd.concat([data, df_pop_ceb])\n",
        "\n",
        "# Plot urban population data\n",
        "data.plot(kind='scatter', x='Year', y='Total Urban Population')\n",
        "plt.show()"
      ],
      "metadata": {
        "colab": {
          "base_uri": "https://localhost:8080/",
          "height": 1000
        },
        "id": "5J2RBD0Mf6IR",
        "outputId": "dea638eb-0018-40ba-b352-db3990ca0822"
      },
      "execution_count": 35,
      "outputs": [
        {
          "output_type": "stream",
          "name": "stderr",
          "text": [
            "<ipython-input-35-458f346ae178>:21: SettingWithCopyWarning: \n",
            "A value is trying to be set on a copy of a slice from a DataFrame.\n",
            "Try using .loc[row_indexer,col_indexer] = value instead\n",
            "\n",
            "See the caveats in the documentation: https://pandas.pydata.org/pandas-docs/stable/user_guide/indexing.html#returning-a-view-versus-a-copy\n",
            "  df_pop_ceb['Total Urban Population'] = [int(tup[0] * tup[1] * 0.01) for tup in pops_list]\n",
            "<ipython-input-35-458f346ae178>:21: SettingWithCopyWarning: \n",
            "A value is trying to be set on a copy of a slice from a DataFrame.\n",
            "Try using .loc[row_indexer,col_indexer] = value instead\n",
            "\n",
            "See the caveats in the documentation: https://pandas.pydata.org/pandas-docs/stable/user_guide/indexing.html#returning-a-view-versus-a-copy\n",
            "  df_pop_ceb['Total Urban Population'] = [int(tup[0] * tup[1] * 0.01) for tup in pops_list]\n",
            "<ipython-input-35-458f346ae178>:21: SettingWithCopyWarning: \n",
            "A value is trying to be set on a copy of a slice from a DataFrame.\n",
            "Try using .loc[row_indexer,col_indexer] = value instead\n",
            "\n",
            "See the caveats in the documentation: https://pandas.pydata.org/pandas-docs/stable/user_guide/indexing.html#returning-a-view-versus-a-copy\n",
            "  df_pop_ceb['Total Urban Population'] = [int(tup[0] * tup[1] * 0.01) for tup in pops_list]\n",
            "<ipython-input-35-458f346ae178>:21: SettingWithCopyWarning: \n",
            "A value is trying to be set on a copy of a slice from a DataFrame.\n",
            "Try using .loc[row_indexer,col_indexer] = value instead\n",
            "\n",
            "See the caveats in the documentation: https://pandas.pydata.org/pandas-docs/stable/user_guide/indexing.html#returning-a-view-versus-a-copy\n",
            "  df_pop_ceb['Total Urban Population'] = [int(tup[0] * tup[1] * 0.01) for tup in pops_list]\n",
            "<ipython-input-35-458f346ae178>:21: SettingWithCopyWarning: \n",
            "A value is trying to be set on a copy of a slice from a DataFrame.\n",
            "Try using .loc[row_indexer,col_indexer] = value instead\n",
            "\n",
            "See the caveats in the documentation: https://pandas.pydata.org/pandas-docs/stable/user_guide/indexing.html#returning-a-view-versus-a-copy\n",
            "  df_pop_ceb['Total Urban Population'] = [int(tup[0] * tup[1] * 0.01) for tup in pops_list]\n",
            "<ipython-input-35-458f346ae178>:21: SettingWithCopyWarning: \n",
            "A value is trying to be set on a copy of a slice from a DataFrame.\n",
            "Try using .loc[row_indexer,col_indexer] = value instead\n",
            "\n",
            "See the caveats in the documentation: https://pandas.pydata.org/pandas-docs/stable/user_guide/indexing.html#returning-a-view-versus-a-copy\n",
            "  df_pop_ceb['Total Urban Population'] = [int(tup[0] * tup[1] * 0.01) for tup in pops_list]\n",
            "<ipython-input-35-458f346ae178>:21: SettingWithCopyWarning: \n",
            "A value is trying to be set on a copy of a slice from a DataFrame.\n",
            "Try using .loc[row_indexer,col_indexer] = value instead\n",
            "\n",
            "See the caveats in the documentation: https://pandas.pydata.org/pandas-docs/stable/user_guide/indexing.html#returning-a-view-versus-a-copy\n",
            "  df_pop_ceb['Total Urban Population'] = [int(tup[0] * tup[1] * 0.01) for tup in pops_list]\n",
            "<ipython-input-35-458f346ae178>:21: SettingWithCopyWarning: \n",
            "A value is trying to be set on a copy of a slice from a DataFrame.\n",
            "Try using .loc[row_indexer,col_indexer] = value instead\n",
            "\n",
            "See the caveats in the documentation: https://pandas.pydata.org/pandas-docs/stable/user_guide/indexing.html#returning-a-view-versus-a-copy\n",
            "  df_pop_ceb['Total Urban Population'] = [int(tup[0] * tup[1] * 0.01) for tup in pops_list]\n",
            "<ipython-input-35-458f346ae178>:21: SettingWithCopyWarning: \n",
            "A value is trying to be set on a copy of a slice from a DataFrame.\n",
            "Try using .loc[row_indexer,col_indexer] = value instead\n",
            "\n",
            "See the caveats in the documentation: https://pandas.pydata.org/pandas-docs/stable/user_guide/indexing.html#returning-a-view-versus-a-copy\n",
            "  df_pop_ceb['Total Urban Population'] = [int(tup[0] * tup[1] * 0.01) for tup in pops_list]\n",
            "<ipython-input-35-458f346ae178>:21: SettingWithCopyWarning: \n",
            "A value is trying to be set on a copy of a slice from a DataFrame.\n",
            "Try using .loc[row_indexer,col_indexer] = value instead\n",
            "\n",
            "See the caveats in the documentation: https://pandas.pydata.org/pandas-docs/stable/user_guide/indexing.html#returning-a-view-versus-a-copy\n",
            "  df_pop_ceb['Total Urban Population'] = [int(tup[0] * tup[1] * 0.01) for tup in pops_list]\n",
            "<ipython-input-35-458f346ae178>:21: SettingWithCopyWarning: \n",
            "A value is trying to be set on a copy of a slice from a DataFrame.\n",
            "Try using .loc[row_indexer,col_indexer] = value instead\n",
            "\n",
            "See the caveats in the documentation: https://pandas.pydata.org/pandas-docs/stable/user_guide/indexing.html#returning-a-view-versus-a-copy\n",
            "  df_pop_ceb['Total Urban Population'] = [int(tup[0] * tup[1] * 0.01) for tup in pops_list]\n",
            "<ipython-input-35-458f346ae178>:21: SettingWithCopyWarning: \n",
            "A value is trying to be set on a copy of a slice from a DataFrame.\n",
            "Try using .loc[row_indexer,col_indexer] = value instead\n",
            "\n",
            "See the caveats in the documentation: https://pandas.pydata.org/pandas-docs/stable/user_guide/indexing.html#returning-a-view-versus-a-copy\n",
            "  df_pop_ceb['Total Urban Population'] = [int(tup[0] * tup[1] * 0.01) for tup in pops_list]\n",
            "<ipython-input-35-458f346ae178>:21: SettingWithCopyWarning: \n",
            "A value is trying to be set on a copy of a slice from a DataFrame.\n",
            "Try using .loc[row_indexer,col_indexer] = value instead\n",
            "\n",
            "See the caveats in the documentation: https://pandas.pydata.org/pandas-docs/stable/user_guide/indexing.html#returning-a-view-versus-a-copy\n",
            "  df_pop_ceb['Total Urban Population'] = [int(tup[0] * tup[1] * 0.01) for tup in pops_list]\n",
            "<ipython-input-35-458f346ae178>:21: SettingWithCopyWarning: \n",
            "A value is trying to be set on a copy of a slice from a DataFrame.\n",
            "Try using .loc[row_indexer,col_indexer] = value instead\n",
            "\n",
            "See the caveats in the documentation: https://pandas.pydata.org/pandas-docs/stable/user_guide/indexing.html#returning-a-view-versus-a-copy\n",
            "  df_pop_ceb['Total Urban Population'] = [int(tup[0] * tup[1] * 0.01) for tup in pops_list]\n"
          ]
        },
        {
          "output_type": "display_data",
          "data": {
            "text/plain": [
              "<Figure size 640x480 with 1 Axes>"
            ],
            "image/png": "[encoded data removed]"
          },
          "metadata": {}
        }
      ]
    },
    {
      "cell_type": "markdown",
      "source": [
        "#### **Writing an iterator to load data in chunks (5)**"
      ],
      "metadata": {
        "id": "FGHQxe9NfyMq"
      }
    },
    {
      "cell_type": "code",
      "source": [
        "# Define plot_pop()\n",
        "def plot_pop(filename, country_code):\n",
        "\n",
        "    # Initialize reader object: urb_pop_reader\n",
        "    urb_pop_reader = pd.read_csv(url_pop, chunksize=1000)\n",
        "\n",
        "    # Initialize empty DataFrame: data\n",
        "    data = pd.DataFrame()\n",
        "    \n",
        "    # Iterate over each DataFrame chunk\n",
        "    for df_urb_pop in urb_pop_reader:\n",
        "        # Check out specific country: df_pop_ceb\n",
        "        df_pop_ceb = df_urb_pop[df_urb_pop['CountryCode'] == country_code]\n",
        "\n",
        "        # Zip DataFrame columns of interest: pops\n",
        "        pops = zip(df_pop_ceb['Total Population'],\n",
        "                    df_pop_ceb['Urban population (% of total)'])\n",
        "\n",
        "        # Turn zip object into list: pops_list\n",
        "        pops_list = list(pops)\n",
        "\n",
        "        # Use list comprehension to create new DataFrame column 'Total Urban Population'\n",
        "        df_pop_ceb['Total Urban Population'] = [int(tup[0] * tup[1] * 0.01) for tup in pops_list]\n",
        "        \n",
        "        # Concatenate DataFrame chunk to the end of data: data\n",
        "        data = pd.concat([data, df_pop_ceb])\n",
        "\n",
        "    # Plot urban population data\n",
        "    data.plot(kind='scatter', x='Year', y='Total Urban Population')\n",
        "    plt.show()\n",
        "\n",
        "# Set the filename: fn\n",
        "fn = 'ind_pop_data.csv'\n",
        "\n",
        "# Call plot_pop for country code 'CEB'\n",
        "plot_pop(fn, 'CEB')\n",
        "\n",
        "# Call plot_pop for country code 'ARB'\n",
        "plot_pop(fn, 'ARB')"
      ],
      "metadata": {
        "colab": {
          "base_uri": "https://localhost:8080/",
          "height": 1000
        },
        "id": "Hz4rsZmre0WR",
        "outputId": "91e75e4c-4da2-4747-b4a1-6d30112d2762"
      },
      "execution_count": 36,
      "outputs": [
        {
          "output_type": "stream",
          "name": "stderr",
          "text": [
            "<ipython-input-36-c036210fedc9>:23: SettingWithCopyWarning: \n",
            "A value is trying to be set on a copy of a slice from a DataFrame.\n",
            "Try using .loc[row_indexer,col_indexer] = value instead\n",
            "\n",
            "See the caveats in the documentation: https://pandas.pydata.org/pandas-docs/stable/user_guide/indexing.html#returning-a-view-versus-a-copy\n",
            "  df_pop_ceb['Total Urban Population'] = [int(tup[0] * tup[1] * 0.01) for tup in pops_list]\n",
            "<ipython-input-36-c036210fedc9>:23: SettingWithCopyWarning: \n",
            "A value is trying to be set on a copy of a slice from a DataFrame.\n",
            "Try using .loc[row_indexer,col_indexer] = value instead\n",
            "\n",
            "See the caveats in the documentation: https://pandas.pydata.org/pandas-docs/stable/user_guide/indexing.html#returning-a-view-versus-a-copy\n",
            "  df_pop_ceb['Total Urban Population'] = [int(tup[0] * tup[1] * 0.01) for tup in pops_list]\n",
            "<ipython-input-36-c036210fedc9>:23: SettingWithCopyWarning: \n",
            "A value is trying to be set on a copy of a slice from a DataFrame.\n",
            "Try using .loc[row_indexer,col_indexer] = value instead\n",
            "\n",
            "See the caveats in the documentation: https://pandas.pydata.org/pandas-docs/stable/user_guide/indexing.html#returning-a-view-versus-a-copy\n",
            "  df_pop_ceb['Total Urban Population'] = [int(tup[0] * tup[1] * 0.01) for tup in pops_list]\n",
            "<ipython-input-36-c036210fedc9>:23: SettingWithCopyWarning: \n",
            "A value is trying to be set on a copy of a slice from a DataFrame.\n",
            "Try using .loc[row_indexer,col_indexer] = value instead\n",
            "\n",
            "See the caveats in the documentation: https://pandas.pydata.org/pandas-docs/stable/user_guide/indexing.html#returning-a-view-versus-a-copy\n",
            "  df_pop_ceb['Total Urban Population'] = [int(tup[0] * tup[1] * 0.01) for tup in pops_list]\n",
            "<ipython-input-36-c036210fedc9>:23: SettingWithCopyWarning: \n",
            "A value is trying to be set on a copy of a slice from a DataFrame.\n",
            "Try using .loc[row_indexer,col_indexer] = value instead\n",
            "\n",
            "See the caveats in the documentation: https://pandas.pydata.org/pandas-docs/stable/user_guide/indexing.html#returning-a-view-versus-a-copy\n",
            "  df_pop_ceb['Total Urban Population'] = [int(tup[0] * tup[1] * 0.01) for tup in pops_list]\n",
            "<ipython-input-36-c036210fedc9>:23: SettingWithCopyWarning: \n",
            "A value is trying to be set on a copy of a slice from a DataFrame.\n",
            "Try using .loc[row_indexer,col_indexer] = value instead\n",
            "\n",
            "See the caveats in the documentation: https://pandas.pydata.org/pandas-docs/stable/user_guide/indexing.html#returning-a-view-versus-a-copy\n",
            "  df_pop_ceb['Total Urban Population'] = [int(tup[0] * tup[1] * 0.01) for tup in pops_list]\n",
            "<ipython-input-36-c036210fedc9>:23: SettingWithCopyWarning: \n",
            "A value is trying to be set on a copy of a slice from a DataFrame.\n",
            "Try using .loc[row_indexer,col_indexer] = value instead\n",
            "\n",
            "See the caveats in the documentation: https://pandas.pydata.org/pandas-docs/stable/user_guide/indexing.html#returning-a-view-versus-a-copy\n",
            "  df_pop_ceb['Total Urban Population'] = [int(tup[0] * tup[1] * 0.01) for tup in pops_list]\n",
            "<ipython-input-36-c036210fedc9>:23: SettingWithCopyWarning: \n",
            "A value is trying to be set on a copy of a slice from a DataFrame.\n",
            "Try using .loc[row_indexer,col_indexer] = value instead\n",
            "\n",
            "See the caveats in the documentation: https://pandas.pydata.org/pandas-docs/stable/user_guide/indexing.html#returning-a-view-versus-a-copy\n",
            "  df_pop_ceb['Total Urban Population'] = [int(tup[0] * tup[1] * 0.01) for tup in pops_list]\n",
            "<ipython-input-36-c036210fedc9>:23: SettingWithCopyWarning: \n",
            "A value is trying to be set on a copy of a slice from a DataFrame.\n",
            "Try using .loc[row_indexer,col_indexer] = value instead\n",
            "\n",
            "See the caveats in the documentation: https://pandas.pydata.org/pandas-docs/stable/user_guide/indexing.html#returning-a-view-versus-a-copy\n",
            "  df_pop_ceb['Total Urban Population'] = [int(tup[0] * tup[1] * 0.01) for tup in pops_list]\n",
            "<ipython-input-36-c036210fedc9>:23: SettingWithCopyWarning: \n",
            "A value is trying to be set on a copy of a slice from a DataFrame.\n",
            "Try using .loc[row_indexer,col_indexer] = value instead\n",
            "\n",
            "See the caveats in the documentation: https://pandas.pydata.org/pandas-docs/stable/user_guide/indexing.html#returning-a-view-versus-a-copy\n",
            "  df_pop_ceb['Total Urban Population'] = [int(tup[0] * tup[1] * 0.01) for tup in pops_list]\n",
            "<ipython-input-36-c036210fedc9>:23: SettingWithCopyWarning: \n",
            "A value is trying to be set on a copy of a slice from a DataFrame.\n",
            "Try using .loc[row_indexer,col_indexer] = value instead\n",
            "\n",
            "See the caveats in the documentation: https://pandas.pydata.org/pandas-docs/stable/user_guide/indexing.html#returning-a-view-versus-a-copy\n",
            "  df_pop_ceb['Total Urban Population'] = [int(tup[0] * tup[1] * 0.01) for tup in pops_list]\n",
            "<ipython-input-36-c036210fedc9>:23: SettingWithCopyWarning: \n",
            "A value is trying to be set on a copy of a slice from a DataFrame.\n",
            "Try using .loc[row_indexer,col_indexer] = value instead\n",
            "\n",
            "See the caveats in the documentation: https://pandas.pydata.org/pandas-docs/stable/user_guide/indexing.html#returning-a-view-versus-a-copy\n",
            "  df_pop_ceb['Total Urban Population'] = [int(tup[0] * tup[1] * 0.01) for tup in pops_list]\n",
            "<ipython-input-36-c036210fedc9>:23: SettingWithCopyWarning: \n",
            "A value is trying to be set on a copy of a slice from a DataFrame.\n",
            "Try using .loc[row_indexer,col_indexer] = value instead\n",
            "\n",
            "See the caveats in the documentation: https://pandas.pydata.org/pandas-docs/stable/user_guide/indexing.html#returning-a-view-versus-a-copy\n",
            "  df_pop_ceb['Total Urban Population'] = [int(tup[0] * tup[1] * 0.01) for tup in pops_list]\n",
            "<ipython-input-36-c036210fedc9>:23: SettingWithCopyWarning: \n",
            "A value is trying to be set on a copy of a slice from a DataFrame.\n",
            "Try using .loc[row_indexer,col_indexer] = value instead\n",
            "\n",
            "See the caveats in the documentation: https://pandas.pydata.org/pandas-docs/stable/user_guide/indexing.html#returning-a-view-versus-a-copy\n",
            "  df_pop_ceb['Total Urban Population'] = [int(tup[0] * tup[1] * 0.01) for tup in pops_list]\n"
          ]
        },
        {
          "output_type": "display_data",
          "data": {
            "text/plain": [
              "<Figure size 640x480 with 1 Axes>"
            ],
            "image/png": "[encoded data removed]"
          },
          "metadata": {}
        },
        {
          "output_type": "stream",
          "name": "stderr",
          "text": [
            "<ipython-input-36-c036210fedc9>:23: SettingWithCopyWarning: \n",
            "A value is trying to be set on a copy of a slice from a DataFrame.\n",
            "Try using .loc[row_indexer,col_indexer] = value instead\n",
            "\n",
            "See the caveats in the documentation: https://pandas.pydata.org/pandas-docs/stable/user_guide/indexing.html#returning-a-view-versus-a-copy\n",
            "  df_pop_ceb['Total Urban Population'] = [int(tup[0] * tup[1] * 0.01) for tup in pops_list]\n",
            "<ipython-input-36-c036210fedc9>:23: SettingWithCopyWarning: \n",
            "A value is trying to be set on a copy of a slice from a DataFrame.\n",
            "Try using .loc[row_indexer,col_indexer] = value instead\n",
            "\n",
            "See the caveats in the documentation: https://pandas.pydata.org/pandas-docs/stable/user_guide/indexing.html#returning-a-view-versus-a-copy\n",
            "  df_pop_ceb['Total Urban Population'] = [int(tup[0] * tup[1] * 0.01) for tup in pops_list]\n",
            "<ipython-input-36-c036210fedc9>:23: SettingWithCopyWarning: \n",
            "A value is trying to be set on a copy of a slice from a DataFrame.\n",
            "Try using .loc[row_indexer,col_indexer] = value instead\n",
            "\n",
            "See the caveats in the documentation: https://pandas.pydata.org/pandas-docs/stable/user_guide/indexing.html#returning-a-view-versus-a-copy\n",
            "  df_pop_ceb['Total Urban Population'] = [int(tup[0] * tup[1] * 0.01) for tup in pops_list]\n",
            "<ipython-input-36-c036210fedc9>:23: SettingWithCopyWarning: \n",
            "A value is trying to be set on a copy of a slice from a DataFrame.\n",
            "Try using .loc[row_indexer,col_indexer] = value instead\n",
            "\n",
            "See the caveats in the documentation: https://pandas.pydata.org/pandas-docs/stable/user_guide/indexing.html#returning-a-view-versus-a-copy\n",
            "  df_pop_ceb['Total Urban Population'] = [int(tup[0] * tup[1] * 0.01) for tup in pops_list]\n",
            "<ipython-input-36-c036210fedc9>:23: SettingWithCopyWarning: \n",
            "A value is trying to be set on a copy of a slice from a DataFrame.\n",
            "Try using .loc[row_indexer,col_indexer] = value instead\n",
            "\n",
            "See the caveats in the documentation: https://pandas.pydata.org/pandas-docs/stable/user_guide/indexing.html#returning-a-view-versus-a-copy\n",
            "  df_pop_ceb['Total Urban Population'] = [int(tup[0] * tup[1] * 0.01) for tup in pops_list]\n",
            "<ipython-input-36-c036210fedc9>:23: SettingWithCopyWarning: \n",
            "A value is trying to be set on a copy of a slice from a DataFrame.\n",
            "Try using .loc[row_indexer,col_indexer] = value instead\n",
            "\n",
            "See the caveats in the documentation: https://pandas.pydata.org/pandas-docs/stable/user_guide/indexing.html#returning-a-view-versus-a-copy\n",
            "  df_pop_ceb['Total Urban Population'] = [int(tup[0] * tup[1] * 0.01) for tup in pops_list]\n",
            "<ipython-input-36-c036210fedc9>:23: SettingWithCopyWarning: \n",
            "A value is trying to be set on a copy of a slice from a DataFrame.\n",
            "Try using .loc[row_indexer,col_indexer] = value instead\n",
            "\n",
            "See the caveats in the documentation: https://pandas.pydata.org/pandas-docs/stable/user_guide/indexing.html#returning-a-view-versus-a-copy\n",
            "  df_pop_ceb['Total Urban Population'] = [int(tup[0] * tup[1] * 0.01) for tup in pops_list]\n",
            "<ipython-input-36-c036210fedc9>:23: SettingWithCopyWarning: \n",
            "A value is trying to be set on a copy of a slice from a DataFrame.\n",
            "Try using .loc[row_indexer,col_indexer] = value instead\n",
            "\n",
            "See the caveats in the documentation: https://pandas.pydata.org/pandas-docs/stable/user_guide/indexing.html#returning-a-view-versus-a-copy\n",
            "  df_pop_ceb['Total Urban Population'] = [int(tup[0] * tup[1] * 0.01) for tup in pops_list]\n",
            "<ipython-input-36-c036210fedc9>:23: SettingWithCopyWarning: \n",
            "A value is trying to be set on a copy of a slice from a DataFrame.\n",
            "Try using .loc[row_indexer,col_indexer] = value instead\n",
            "\n",
            "See the caveats in the documentation: https://pandas.pydata.org/pandas-docs/stable/user_guide/indexing.html#returning-a-view-versus-a-copy\n",
            "  df_pop_ceb['Total Urban Population'] = [int(tup[0] * tup[1] * 0.01) for tup in pops_list]\n",
            "<ipython-input-36-c036210fedc9>:23: SettingWithCopyWarning: \n",
            "A value is trying to be set on a copy of a slice from a DataFrame.\n",
            "Try using .loc[row_indexer,col_indexer] = value instead\n",
            "\n",
            "See the caveats in the documentation: https://pandas.pydata.org/pandas-docs/stable/user_guide/indexing.html#returning-a-view-versus-a-copy\n",
            "  df_pop_ceb['Total Urban Population'] = [int(tup[0] * tup[1] * 0.01) for tup in pops_list]\n",
            "<ipython-input-36-c036210fedc9>:23: SettingWithCopyWarning: \n",
            "A value is trying to be set on a copy of a slice from a DataFrame.\n",
            "Try using .loc[row_indexer,col_indexer] = value instead\n",
            "\n",
            "See the caveats in the documentation: https://pandas.pydata.org/pandas-docs/stable/user_guide/indexing.html#returning-a-view-versus-a-copy\n",
            "  df_pop_ceb['Total Urban Population'] = [int(tup[0] * tup[1] * 0.01) for tup in pops_list]\n",
            "<ipython-input-36-c036210fedc9>:23: SettingWithCopyWarning: \n",
            "A value is trying to be set on a copy of a slice from a DataFrame.\n",
            "Try using .loc[row_indexer,col_indexer] = value instead\n",
            "\n",
            "See the caveats in the documentation: https://pandas.pydata.org/pandas-docs/stable/user_guide/indexing.html#returning-a-view-versus-a-copy\n",
            "  df_pop_ceb['Total Urban Population'] = [int(tup[0] * tup[1] * 0.01) for tup in pops_list]\n",
            "<ipython-input-36-c036210fedc9>:23: SettingWithCopyWarning: \n",
            "A value is trying to be set on a copy of a slice from a DataFrame.\n",
            "Try using .loc[row_indexer,col_indexer] = value instead\n",
            "\n",
            "See the caveats in the documentation: https://pandas.pydata.org/pandas-docs/stable/user_guide/indexing.html#returning-a-view-versus-a-copy\n",
            "  df_pop_ceb['Total Urban Population'] = [int(tup[0] * tup[1] * 0.01) for tup in pops_list]\n",
            "<ipython-input-36-c036210fedc9>:23: SettingWithCopyWarning: \n",
            "A value is trying to be set on a copy of a slice from a DataFrame.\n",
            "Try using .loc[row_indexer,col_indexer] = value instead\n",
            "\n",
            "See the caveats in the documentation: https://pandas.pydata.org/pandas-docs/stable/user_guide/indexing.html#returning-a-view-versus-a-copy\n",
            "  df_pop_ceb['Total Urban Population'] = [int(tup[0] * tup[1] * 0.01) for tup in pops_list]\n"
          ]
        },
        {
          "output_type": "display_data",
          "data": {
            "text/plain": [
              "<Figure size 640x480 with 1 Axes>"
            ],
            "image/png": "[encoded data removed]"
          },
          "metadata": {}
        }
      ]
    },
    {
      "cell_type": "markdown",
      "source": [
        "#### $\\color{skyblue}{\\textbf{Connect with me:}}$\n",
        "\n",
        "\n",
        "[<img align=\"left\" src=\"https://cdn4.iconfinder.com/data/icons/social-media-icons-the-circle-set/48/twitter_circle-512.png\" width=\"32px\"/>][twitter]\n",
        "[<img align=\"left\" src=\"https://cdn-icons-png.flaticon.com/512/145/145807.png\" width=\"32px\"/>][linkedin]\n",
        "[<img align=\"left\" src=\"https://cdn2.iconfinder.com/data/icons/whcompare-blue-green-web-hosting-1/425/cdn-512.png\" width=\"32px\"/>][Portfolio]\n",
        "\n",
        "[twitter]: https://twitter.com/F4izy\n",
        "[linkedin]: https://www.linkedin.com/in/mohd-faizy/\n",
        "[Portfolio]: https://mohdfaizy.com/"
      ],
      "metadata": {
        "id": "Ythr7jSPmygM"
      }
    }
  ]
}