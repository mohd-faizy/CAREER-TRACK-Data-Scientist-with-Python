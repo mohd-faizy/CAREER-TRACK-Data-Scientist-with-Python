{
  "nbformat": 4,
  "nbformat_minor": 0,
  "metadata": {
    "colab": {
      "name": "03_hypothesis_testing.ipynb",
      "provenance": [],
      "authorship_tag": "ABX9TyM/mWrzjYzK3eUjVb6KU83K",
      "include_colab_link": true
    },
    "kernelspec": {
      "name": "python3",
      "display_name": "Python 3"
    }
  },
  "cells": [
    {
      "cell_type": "markdown",
      "metadata": {
        "id": "view-in-github",
        "colab_type": "text"
      },
      "source": [
        "<a href=\"https://colab.research.google.com/github/mohd-faizy/CAREER-TRACK-Data-Scientist-with-Python/blob/main/03_hypothesis_testing.ipynb\" target=\"_parent\"><img src=\"https://colab.research.google.com/assets/colab-badge.svg\" alt=\"Open In Colab\"/></a>"
      ]
    },
    {
      "cell_type": "markdown",
      "metadata": {
        "id": "NWS4JRT4korI"
      },
      "source": [
        "--- \r\n",
        "<strong> \r\n",
        "    <h1 align='center'>Hypothesis Testing</h1> \r\n",
        "</strong>\r\n",
        "\r\n",
        "---\r\n",
        "\r\n",
        "<strong> \r\n",
        "    <h4 align='center'>A Hypothesis Test evaluates two mutually exclusive statements about a population to determine which statement is best supported by the sample data.</h4> \r\n",
        "</strong>\r\n",
        "\r\n",
        "---\r\n"
      ]
    },
    {
      "cell_type": "markdown",
      "metadata": {
        "id": "QyMaixepw2YN"
      },
      "source": [
        "<p align='center'>\r\n",
        "  <a href=\"#\">\r\n",
        "    <img src='https://s3.amazonaws.com/ceblog/wp-content/uploads/2018/12/10074253/hypotesis-testing-5.png' width=700px height=300px alt=\"\">\r\n",
        "  </a>\r\n",
        "</p>"
      ]
    },
    {
      "cell_type": "markdown",
      "metadata": {
        "id": "ks6VzX9nut6f"
      },
      "source": [
        "### We know how to define and estimate parameters given a model. \r\n",
        "\r\n",
        "### __BUT__ How to assess how reasonable it is that our observed data are actually described by the model?\r\n",
        " \r\n",
        ">__This is the realm of hypothesis testing.__\r\n",
        "\r\n",
        " Hypothesis testing can be a bit tricky. We need to define the **null hypothesis**, figure out how to simulate it, and define clearly what it means to be \"more extreme\" in order to compute the **p-value**."
      ]
    },
    {
      "cell_type": "markdown",
      "metadata": {
        "id": "qvd78yvPs5XE"
      },
      "source": [
        "### **Statistics is all about data.**\r\n",
        "\r\n",
        "1. __Hypothesis__ proposed explanation made on the basis of limited evidence as a starting point for further investigation.\r\n",
        "\r\n",
        "2. __Population__ is the entire pool from which a statistical sample is drawn. A population may refer to an entire group of people, objects, events, hospital visits, or measurements. A population can thus be said to be an aggregate observation of subjects grouped together by a common feature.\r\n",
        "\r\n",
        "3. __Sample__ Smaller portion of the population.\r\n",
        "\r\n",
        "\r\n",
        ">Data can only be useful if we are able to draw a conclusion from it & to draw such conclusion we basically needs **Hypothesis Testing**\r\n",
        "\r\n",
        "### __What is a Hypothesis?__\r\n",
        "\r\n",
        "A hypothesis is an educated guess about something in the world around you. It should be testable, either by experiment or observation. For example:\r\n",
        "\r\n",
        "- A new medicine you think might work.\r\n",
        "- A way of teaching you think might be better.\r\n",
        "- A possible location of new species.\r\n",
        "- A fairer way to administer standardized tests.\r\n",
        "\r\n",
        "It can really be anything at all as long as you can put it to the test.\r\n"
      ]
    },
    {
      "cell_type": "markdown",
      "metadata": {
        "id": "WJqCb3aT16Tq"
      },
      "source": [
        "### __What is a Hypothesis Statement?__\r\n",
        "\r\n",
        "If you are going to propose a hypothesis, it’s customary to write a statement.\r\n",
        "\r\n",
        ">“If I…(**do this to an independent variable**)….then (**this will happen to the dependent variable**).”\r\n",
        "\r\n",
        "__Example:__\r\n",
        "\r\n",
        "- If I (decrease the amount of water given to herbs) then (the herbs will increase in size).\r\n",
        "\r\n",
        "- If I (give patients counseling in addition to medication) then (their overall depression scale will decrease).\r\n",
        "\r\n",
        "**A good hypothesis**\r\n",
        "\r\n",
        "- Include both the **independent** and **dependent** variables.\r\n",
        "\r\n",
        "- Be testable by experiment, survey or other __scientifically sound technique__.\r\n",
        "\r\n",
        "- Be based on information in prior research.\r\n"
      ]
    },
    {
      "cell_type": "markdown",
      "metadata": {
        "id": "Ki03ZiRu3Ocj"
      },
      "source": [
        "### __What is Hypothesis Testing?__\r\n",
        "\r\n",
        "Hypothesis testing in statistics is a way for you to test the results of a survey or experiment to see if you have meaningful results. \r\n",
        "\r\n",
        "You’re basically testing whether your results are valid by figuring out the odds that your results have happened by chance. If your results may have happened by chance, the experiment won’t be repeatable and so has little use.\r\n"
      ]
    },
    {
      "cell_type": "markdown",
      "metadata": {
        "id": "LVVQK7Ip4Akz"
      },
      "source": [
        "---\r\n",
        "### Two concrete examples that we will use a lot in machine learning are:\r\n",
        "\r\n",
        "- **A test that assumes that data has a normal distribution.**\r\n",
        "\r\n",
        "- **A test that assumes that two samples were drawn from the same underlying population distribution.**\r\n",
        "\r\n",
        "---\r\n",
        "\r\n",
        "### __Types of Hypothesis__\r\n",
        "\r\n",
        "- __Null Hypothesis (${H_0}$):__ The null hypothesis assumes no difference between the observed and theoretical distribution of data.\r\n",
        "\r\n",
        "    > The **assumption** of a statistical test is called the **null hypothesis**.\r\n",
        "\r\n",
        "- __Alternate Hypothesis (${H_a}$):__ if there is a difference between the observed and theoretical distribution of data.\r\n",
        "\r\n",
        "    >A **violation** of the test’s assumption is often called the **Alternate hypothesis**\r\n",
        "\r\n",
        "__Example__\r\n",
        "\r\n",
        "Suppose we wanted to check whether a coin was fair and balanced. A **null hypothesis** might say, that half flips will be of head and half will of tails whereas alternative hypothesis might say that flips of head and tail may be very different.\r\n",
        "\r\n",
        ">${H_0:P=0.5}$\r\n",
        "\r\n",
        ">${H_a:P≠0.5}$\r\n",
        "\r\n",
        "__For example__ if we flipped the __coin 50__ times, in which __40 Heads__ and __10 Tails__ results. Using result, we need to reject the null hypothesis and would conclude, based on the evidence, that the coin was probably not fair and balanced.\r\n",
        "\r\n",
        "__This process is called hypothesis testing and is consists of following four steps:__\r\n",
        "\r\n",
        "**All we need  is to do is:**\r\n",
        "\r\n",
        "\r\n",
        "1. __State the hypotheses__ - This step involves stating both null and alternative hypotheses. The hypotheses should be stated in such a way that they are mutually exclusive. If one is true then other must be false.\r\n",
        "\r\n",
        "2. __Formulate an analysis plan__ - The analysis plan is to describe how to use the sample data to evaluate the null hypothesis. The evaluation process focuses around a single test statistic.\r\n",
        "\r\n",
        "3. __Analyze sample data__ - Find the value of the test statistic (using properties like mean score, proportion, t statistic, z-score, etc.) stated in the analysis plan.\r\n",
        "\r\n",
        "4. __Interpret results__ - Apply the decisions stated in the analysis plan. If the value of the test statistic is very unlikely based on the null hypothesis, then reject the null hypothesis.\r\n"
      ]
    },
    {
      "cell_type": "markdown",
      "metadata": {
        "id": "CgIeDgrJ8sug"
      },
      "source": [
        "### __Statistical Significance: ${\\alpha}$__\r\n",
        "\r\n",
        "We describe a finding as statistically significant by interpreting the `p-value`.\r\n",
        "\r\n",
        "**For example,** we may perform a normality test on a data sample and find that it is unlikely that **sample of data deviates** **from a Gaussian distribution**, failing to reject the null hypothesis.\r\n",
        "\r\n",
        "A statistical hypothesis test may return a value called p or the `p-value`. This is a quantity that we can use to interpret or quantify the result of the test and either reject or fail to reject the null hypothesis.\r\n",
        "\r\n",
        "The significance level is often referred to by the Greek lower case letter ${\\alpha}$.\r\n",
        "\r\n",
        "A common value used for ${\\alpha}$ = $5$% or $0.05$%. A **smaller** ${\\alpha}$ value suggests a ***more robust interpretation*** of the null hypothesis, such as 1% or 0.1%.\r\n",
        "\r\n",
        "### __p-value__\r\n",
        "\r\n",
        ">- If ${p-value > \\alpha}$ : Fail to reject the null hypothesis (i.e. not significant result).\r\n",
        "- If ${p-value <= \\alpha}$ Reject the null hypothesis (i.e. significant result).\r\n",
        "\r\n",
        "\r\n",
        "### __Critical Values__\r\n",
        "Some tests do not return a __p-value__.\r\n",
        "\r\n",
        "Instead, they might return a list of critical values and their associated significance levels\r\n",
        "\r\n",
        "The results are interpreted in a similar way. Instead of comparing a single p-value to a pre-specified significance level, the test statistic is compared to the critical value at a chosen significance level.\r\n",
        "\r\n",
        ">- If __test statistic < critical value__: Fail to reject the null hypothesis.\r\n",
        "- If __test statistic >= critical value__: Reject the null hypothesis.\r\n",
        "\r\n",
        "\r\n",
        "\r\n"
      ]
    },
    {
      "cell_type": "markdown",
      "metadata": {
        "id": "sAhQ4wHfBVW0"
      },
      "source": [
        "### __Errors in Statistical Tests__\r\n",
        "\r\n",
        "The interpretation of a statistical hypothesis test is probabilistic.\r\n",
        ">That means that the evidence of the test may suggest an outcome and be mistaken.\r\n",
        "\r\n",
        "\r\n",
        "__Two types of error:__\r\n",
        "\r\n",
        "<p align='center'>\r\n",
        "  <a href=\"#\">\r\n",
        "    <img src='https://github.com/mohd-faizy/CAREER-TRACK-Data-Scientist-with-Python/blob/main/23_Statistical-Thinking-in-Python-%5BPart%20-2%5D/_png/1.jpeg?raw=true' width=700 height=400>\r\n",
        "  </a>\r\n",
        "</p>\r\n",
        "\r\n",
        "- __Type I Error:__ The **incorrect rejection** of a **true null hypothesis** or a **False Positive**.\r\n",
        "\r\n",
        "    - Defined as the probablity of rejecting the __Null hypothesis__ when it is actually TRUE.\r\n",
        "    - This denoted by __alpha__\r\n",
        "    - Also known as the significance level of a test.\r\n",
        "\r\n",
        "- __Type II Error:__ The **incorrect failure** of **rejection of a false null** hypothesis or a __False Negative__.\r\n",
        "\r\n",
        "    - Defined as the probablity of accepting the **Null Hypothesis** when actually its __False__.\r\n",
        "    - Denoted by __Beta__\r\n",
        "\r\n",
        "<p align='center'>\r\n",
        "  <a href=\"#\">\r\n",
        "    <img src='https://github.com/mohd-faizy/CAREER-TRACK-Data-Scientist-with-Python/blob/main/23_Statistical-Thinking-in-Python-%5BPart%20-2%5D/_png/3.png?raw=true' width=600 height=300>\r\n",
        "  </a>\r\n",
        "</p>\r\n",
        "\r\n",
        "<p align='center'>\r\n",
        "  <a href=\"#\">\r\n",
        "    <img src='https://github.com/mohd-faizy/CAREER-TRACK-Data-Scientist-with-Python/blob/main/23_Statistical-Thinking-in-Python-%5BPart%20-2%5D/_png/4.jpg?raw=true' width=550 height=400>\r\n",
        "  </a>\r\n",
        "</p>\r\n",
        "\r\n",
        "\r\n",
        "\r\n",
        "\r\n",
        "\r\n",
        "\r\n"
      ]
    },
    {
      "cell_type": "markdown",
      "metadata": {
        "id": "62qJuh9tB-14"
      },
      "source": [
        "### __Examples of Hypothesis Tests__\r\n",
        "\r\n",
        "**There are many types of statistical hypothesis tests.**\r\n",
        "\r\n",
        "This section lists some common examples of statistical hypothesis tests and the types of problems that they are used to address:\r\n",
        "\r\n",
        "### Variable Distribution Type Tests (__Gaussian__)\r\n",
        "- Shapiro-Wilk Test\r\n",
        "- D’Agostino’s ${K^2}$ Test\r\n",
        "- Anderson-Darling Test\r\n",
        "\r\n",
        "### Variable Relationship Tests (__correlation__)\r\n",
        "- Pearson’s Correlation Coefficient\r\n",
        "- Spearman’s Rank Correlation\r\n",
        "- Kendall’s Rank Correlation\r\n",
        "- Chi-Squared(${\\chi^2}$) Test \r\n",
        "\r\n",
        "### Compare Sample Means (__parametric__)\r\n",
        "- Student’s $t-test$\r\n",
        "- Paired Student’s $t-test$\r\n",
        "- Analysis of Variance Test (ANOVA)\r\n",
        "- Repeated Measures ANOVA Test\r\n",
        "\r\n",
        "### Compare Sample Means (__nonparametric__)\r\n",
        "- Mann-Whitney ${U}$ Test\r\n",
        "- Wilcoxon Signed-Rank Test\r\n",
        "- Kruskal-Wallis ${H}$ Test\r\n",
        "- Friedman Test\r\n",
        "\r\n"
      ]
    },
    {
      "cell_type": "markdown",
      "metadata": {
        "id": "DdViaFttkitC"
      },
      "source": [
        "\r\n",
        "__Clone the repository__ "
      ]
    },
    {
      "cell_type": "code",
      "metadata": {
        "colab": {
          "base_uri": "https://localhost:8080/"
        },
        "id": "zDL6YbYZjfOT",
        "outputId": "26fdb791-b1f4-4292-9706-8489ea873e18"
      },
      "source": [
        "! git clone https://github.com/mohd-faizy/CAREER-TRACK-Data-Scientist-with-Python.git"
      ],
      "execution_count": 1,
      "outputs": [
        {
          "output_type": "stream",
          "text": [
            "Cloning into 'CAREER-TRACK-Data-Scientist-with-Python'...\n",
            "remote: Enumerating objects: 177, done.\u001b[K\n",
            "remote: Counting objects: 100% (177/177), done.\u001b[K\n",
            "remote: Compressing objects: 100% (149/149), done.\u001b[K\n",
            "remote: Total 2034 (delta 77), reused 103 (delta 27), pack-reused 1857\u001b[K\n",
            "Receiving objects: 100% (2034/2034), 220.61 MiB | 32.60 MiB/s, done.\n",
            "Resolving deltas: 100% (729/729), done.\n",
            "Checking out files: 100% (862/862), done.\n"
          ],
          "name": "stdout"
        }
      ]
    },
    {
      "cell_type": "markdown",
      "metadata": {
        "id": "eZqCdlEZk5bc"
      },
      "source": [
        "__Change the current working directory__"
      ]
    },
    {
      "cell_type": "code",
      "metadata": {
        "colab": {
          "base_uri": "https://localhost:8080/"
        },
        "id": "4v_cclBnknUF",
        "outputId": "4988a53a-3e6f-4f1e-8f73-3db3716f2bdd"
      },
      "source": [
        "# import os module \r\n",
        "import os \r\n",
        "   \r\n",
        "# to specified path \r\n",
        "os.chdir('/content/CAREER-TRACK-Data-Scientist-with-Python/23_Statistical-Thinking-in-Python-[Part -2]/_datasets') \r\n",
        "  \r\n",
        "# varify the path using getcwd() \r\n",
        "cwd = os.getcwd() \r\n",
        "  \r\n",
        "# print the current directory \r\n",
        "print(\"Current working directory is:\", cwd)"
      ],
      "execution_count": 2,
      "outputs": [
        {
          "output_type": "stream",
          "text": [
            "Current working directory is: /content/CAREER-TRACK-Data-Scientist-with-Python/23_Statistical-Thinking-in-Python-[Part -2]/_datasets\n"
          ],
          "name": "stdout"
        }
      ]
    },
    {
      "cell_type": "code",
      "metadata": {
        "colab": {
          "base_uri": "https://localhost:8080/"
        },
        "id": "q4eEcmDTmBQ1",
        "outputId": "576b261b-de65-40f0-f3dc-99b015bdda65"
      },
      "source": [
        "ls"
      ],
      "execution_count": 3,
      "outputs": [
        {
          "output_type": "stream",
          "text": [
            "anscombe.csv                   fortis_beak_depth_heredity.csv\n",
            "bee_sperm.csv                  frog_tongue.csv\n",
            "female_literacy_fertility.csv  mlb_nohitters.csv\n",
            "finch_beaks_1975.csv           scandens_beak_depth_heredity.csv\n",
            "finch_beaks_2012.csv           sheffield_weather_station.csv\n"
          ],
          "name": "stdout"
        }
      ]
    },
    {
      "cell_type": "markdown",
      "metadata": {
        "id": "K6w2DRaT3cj2"
      },
      "source": [
        ""
      ]
    },
    {
      "cell_type": "code",
      "metadata": {
        "id": "6OfXoAue3gyZ"
      },
      "source": [
        "# Importing Modules\r\n",
        "import pandas as pd\r\n",
        "import numpy as np\r\n",
        "import matplotlib.pyplot as plt\r\n",
        "import seaborn as sns\r\n",
        "\r\n",
        "%matplotlib inline"
      ],
      "execution_count": 4,
      "outputs": []
    },
    {
      "cell_type": "markdown",
      "metadata": {
        "id": "T-xxkgFc8Qrd"
      },
      "source": [
        "### US Election data"
      ]
    },
    {
      "cell_type": "code",
      "metadata": {
        "colab": {
          "base_uri": "https://localhost:8080/",
          "height": 107
        },
        "id": "AEPYI5jS3l_k",
        "outputId": "0efad931-7ba8-49d6-d57c-a8a018a138a2"
      },
      "source": [
        "# Reading the data into the pandas dataframe\r\n",
        "# 2008 US swing state election results\r\n",
        "df_all_state = pd.read_csv('/content/CAREER-TRACK-Data-Scientist-with-Python/22_Statistical-Thinking-in-Python-[Part -1]/_datasets/2008_all_states.csv')\r\n",
        "df_all_state.head(2)"
      ],
      "execution_count": 5,
      "outputs": [
        {
          "output_type": "execute_result",
          "data": {
            "text/html": [
              "<div>\n",
              "<style scoped>\n",
              "    .dataframe tbody tr th:only-of-type {\n",
              "        vertical-align: middle;\n",
              "    }\n",
              "\n",
              "    .dataframe tbody tr th {\n",
              "        vertical-align: top;\n",
              "    }\n",
              "\n",
              "    .dataframe thead th {\n",
              "        text-align: right;\n",
              "    }\n",
              "</style>\n",
              "<table border=\"1\" class=\"dataframe\">\n",
              "  <thead>\n",
              "    <tr style=\"text-align: right;\">\n",
              "      <th></th>\n",
              "      <th>state</th>\n",
              "      <th>county</th>\n",
              "      <th>total_votes</th>\n",
              "      <th>dem_votes</th>\n",
              "      <th>rep_votes</th>\n",
              "      <th>other_votes</th>\n",
              "      <th>dem_share</th>\n",
              "      <th>east_west</th>\n",
              "    </tr>\n",
              "  </thead>\n",
              "  <tbody>\n",
              "    <tr>\n",
              "      <th>0</th>\n",
              "      <td>AK</td>\n",
              "      <td>State House District 8, Denali-University</td>\n",
              "      <td>10320</td>\n",
              "      <td>4995</td>\n",
              "      <td>4983</td>\n",
              "      <td>342</td>\n",
              "      <td>50.06</td>\n",
              "      <td>west</td>\n",
              "    </tr>\n",
              "    <tr>\n",
              "      <th>1</th>\n",
              "      <td>AK</td>\n",
              "      <td>State House District 37, Bristol Bay-Aleuti</td>\n",
              "      <td>4665</td>\n",
              "      <td>1868</td>\n",
              "      <td>2661</td>\n",
              "      <td>136</td>\n",
              "      <td>41.24</td>\n",
              "      <td>west</td>\n",
              "    </tr>\n",
              "  </tbody>\n",
              "</table>\n",
              "</div>"
            ],
            "text/plain": [
              "  state                                       county  ...  dem_share  east_west\n",
              "0    AK    State House District 8, Denali-University  ...      50.06       west\n",
              "1    AK  State House District 37, Bristol Bay-Aleuti  ...      41.24       west\n",
              "\n",
              "[2 rows x 8 columns]"
            ]
          },
          "metadata": {
            "tags": []
          },
          "execution_count": 5
        }
      ]
    },
    {
      "cell_type": "markdown",
      "metadata": {
        "id": "UaYw5qF-8ok1"
      },
      "source": [
        "**Ohio** and **Pennsylvania** are similar states. They are neighbors and they both have liberal urban counties and also lots of rural conservative counties.\r\n",
        "\r\n",
        "We __Hypothesize__ that:- \r\n",
        ">**County-level voting in these two states have identical probability distributions**. We have voting data to help test if this hypothesis. - i.e -  we are going to assess how reasonable the observed data are assuming the hypothesis is true. "
      ]
    },
    {
      "cell_type": "markdown",
      "metadata": {
        "id": "0QpappdlDHlx"
      },
      "source": [
        "#### __Comparing ECDFs of swing state__"
      ]
    },
    {
      "cell_type": "code",
      "metadata": {
        "colab": {
          "base_uri": "https://localhost:8080/",
          "height": 447
        },
        "id": "gBVlyLG39NGJ",
        "outputId": "a2bdb4f7-951f-41d6-c85c-59e86a958774"
      },
      "source": [
        "# Defining the Ecdf Func\r\n",
        "def ecdf(data): \r\n",
        "    \"\"\"Compute ECDF for a one-dimensional array of measurements.\"\"\"\r\n",
        "\r\n",
        "    # Number of data points: n \r\n",
        "    n = len(data) \r\n",
        "\r\n",
        "    # x-data for the ECDF: x \r\n",
        "    x = np.sort(data) \r\n",
        "\r\n",
        "    # y-data for the ECDF: y \r\n",
        "    y = np.arange(1, n + 1) / n \r\n",
        "\r\n",
        "    return x, y\r\n",
        "\r\n",
        "# Selecting the Ohio & Pennsylvania dataframe\r\n",
        "penn = df_all_state.loc[df_all_state['state'] == 'PA']\r\n",
        "ohio = df_all_state.loc[df_all_state['state'] == 'OH']\r\n",
        "dem_share_PA = penn.dem_share\r\n",
        "dem_share_OH = ohio.dem_share\r\n",
        "\r\n",
        "# Calculating the ECDF\r\n",
        "xp, yp = ecdf(dem_share_PA)\r\n",
        "xo, yo = ecdf(dem_share_OH)\r\n",
        "\r\n",
        "# Set default Seaborn style\r\n",
        "sns.set()\r\n",
        "\r\n",
        "# figure size\r\n",
        "plt.figure(figsize=(12, 7), facecolor='lightgrey')\r\n",
        "\r\n",
        "# Checking Normality of Michelson data\r\n",
        "_ = plt.plot(xp, yp, color='tab:blue', marker='.', linestyle='none', label='PA')\r\n",
        "_ = plt.plot(xo, yo, color='tab:green', marker='.', linestyle='none', label='OH')\r\n",
        "_ = plt.xlabel('percent of Vote for Obama')\r\n",
        "_ = plt.ylabel('ECDF')\r\n",
        "_ = plt.legend()\r\n",
        "plt.show()"
      ],
      "execution_count": 6,
      "outputs": [
        {
          "output_type": "display_data",
          "data": {
            "image/png": "[encoded data removed]",
            "text/plain": [
              "<Figure size 864x504 with 1 Axes>"
            ]
          },
          "metadata": {
            "tags": []
          }
        }
      ]
    },
    {
      "cell_type": "markdown",
      "metadata": {
        "id": "eF4Eru87COVW"
      },
      "source": [
        "__It is pretty tough to make a judgment here. Pennsylvania seems to be slightly more toward Obama in the middle part of the ECDFs, but not much. We can't really draw a conclusion here.__\r\n",
        "\r\n",
        "\r\n"
      ]
    },
    {
      "cell_type": "markdown",
      "metadata": {
        "id": "1OQQCRgsDOKn"
      },
      "source": [
        "#### __Comparing summary statistics__"
      ]
    },
    {
      "cell_type": "code",
      "metadata": {
        "colab": {
          "base_uri": "https://localhost:8080/"
        },
        "id": "mwUMLQDzDQBs",
        "outputId": "d37425b4-de76-47c3-e4e9-445384bd675b"
      },
      "source": [
        "print(penn.dem_share.describe())\r\n",
        "print(ohio.dem_share.describe())"
      ],
      "execution_count": 7,
      "outputs": [
        {
          "output_type": "stream",
          "text": [
            "count    67.000000\n",
            "mean     45.476418\n",
            "std       9.803028\n",
            "min      25.340000\n",
            "25%      39.270000\n",
            "50%      44.030000\n",
            "75%      50.660000\n",
            "max      83.560000\n",
            "Name: dem_share, dtype: float64\n",
            "count    88.000000\n",
            "mean     44.318182\n",
            "std       9.895699\n",
            "min       6.800000\n",
            "25%      38.200000\n",
            "50%      43.675000\n",
            "75%      49.710000\n",
            "max      69.640000\n",
            "Name: dem_share, dtype: float64\n"
          ],
          "name": "stdout"
        }
      ]
    },
    {
      "cell_type": "code",
      "metadata": {
        "colab": {
          "base_uri": "https://localhost:8080/"
        },
        "id": "tlUHSFFiEgtM",
        "outputId": "07d2d8b0-8de6-4a1d-c811-86938de0a603"
      },
      "source": [
        "new = penn.dem_share.describe() - ohio.dem_share.describe()\r\n",
        "new.describe"
      ],
      "execution_count": 8,
      "outputs": [
        {
          "output_type": "execute_result",
          "data": {
            "text/plain": [
              "<bound method NDFrame.describe of count   -21.000000\n",
              "mean      1.158236\n",
              "std      -0.092671\n",
              "min      18.540000\n",
              "25%       1.070000\n",
              "50%       0.355000\n",
              "75%       0.950000\n",
              "max      13.920000\n",
              "Name: dem_share, dtype: float64>"
            ]
          },
          "metadata": {
            "tags": []
          },
          "execution_count": 8
        }
      ]
    },
    {
      "cell_type": "markdown",
      "metadata": {
        "id": "I5XHO_nIFio1"
      },
      "source": [
        "Again, this is a tough call. The means and medians of the two states are really close, and the standard deviations are almost identical. "
      ]
    },
    {
      "cell_type": "markdown",
      "metadata": {
        "id": "RRintrUgGh8a"
      },
      "source": [
        "#### __To resolve this issue__\r\n",
        "\r\n",
        "- we can **simulate** what the data would look like if the county-level voting trends in the two states were identically distributed. We can do this by putting the Democratic share of the vote for all of **Pennsylvania's 67 counties** and **Ohio's 88 counties** together.\r\n",
        "\r\n",
        "- We then ignore what state they belong to. Next, we randomly scramble.\r\n",
        "\r\n",
        "- We then **re-label the first 67 to be \"Pennsylvania\"** and **the remaining ones to be \"Ohio**.\" So, we just redid the election as if there was no difference between Pennsylvania and Ohio.\r\n",
        "\r\n",
        "\r\n",
        "\r\n",
        "\r\n"
      ]
    },
    {
      "cell_type": "markdown",
      "metadata": {
        "id": "JrG8gsUAIqtC"
      },
      "source": [
        "__Permutation__\r\n",
        "\r\n",
        "This technique, of scrambling the order of an array, is called a **permutation**. It is at the **heart** of **Simulating** a **null hypothesis** where were we assume two quantities are identically distributed.\r\n",
        "\r\n",
        "- **First**, we need to make a single array with all of the counties in it.__NOTE__  that function takes a **tuple** of the arrays.\r\n",
        "\r\n",
        "- Next, we use `np.random.permutation(dem_share_both)` to conveniently permute the entries of the array. We then assign the first 67 to be labeled Pennsylvania and the last 88 to be labeled Ohio. These samples are called **Permutation Samples**."
      ]
    },
    {
      "cell_type": "code",
      "metadata": {
        "colab": {
          "base_uri": "https://localhost:8080/"
        },
        "id": "96jelGDT4aMf",
        "outputId": "d2787f00-a5e1-4283-cde2-8f05bdadf582"
      },
      "source": [
        "# Generating a permutation sample\r\n",
        "dem_share_both = np.concatenate((dem_share_PA, dem_share_OH))\r\n",
        "dem_share_perm = np.random.permutation(dem_share_both)\r\n",
        "perm_sample_PA = dem_share_perm[:len(dem_share_PA)]\r\n",
        "perm_sample_OH = dem_share_perm[len(dem_share_PA):]\r\n",
        "\r\n",
        "print('Number of County in Penn is {}'.format(len(perm_sample_PA)))\r\n",
        "print('Number of County in Ohio is {}'.format(len(perm_sample_OH)))\r\n",
        "print(perm_sample_PA)\r\n",
        "print(perm_sample_OH)"
      ],
      "execution_count": 9,
      "outputs": [
        {
          "output_type": "stream",
          "text": [
            "Number of County in Penn is 67\n",
            "Number of County in Ohio is 88\n",
            "[37.53 49.44 69.64 39.67 39.92 25.34 42.23 60.08 48.62 43.78 33.56 45.26\n",
            " 42.38 48.36 49.81 36.06 45.31 31.04 58.36 31.56 39.86 29.07 52.76 34.84\n",
            " 39.43 41.56 53.14 31.75 50.46 40.45 40.1  46.15 60.5  47.75 42.97 38.1\n",
            " 57.88 50.36 38.11 46.33 43.92 44.9  54.58 55.97 39.26 40.67 54.64 33.57\n",
            " 83.56 36.43 34.58 41.32 37.62 57.81 38.23 28.94 54.66 49.85 61.48 35.22\n",
            " 42.65 32.12 52.2  47.01 56.94 38.53 46.73]\n",
            "[36.54 39.84 49.58 36.71 35.47 35.71 46.33 47.47 37.26 44.69 54.59 43.18\n",
            " 54.74 37.77 48.61 38.01 53.16 32.97 60.49 36.11 53.61 54.37 45.6  42.49\n",
            " 47.61 45.88 51.38 47.87 44.71 40.24 68.02 27.92 40.18 43.12 46.29 56.24\n",
            " 48.73 40.47 34.01 27.32 31.47 63.57 59.1  65.99 36.05 60.81 44.03 41.55\n",
            " 28.79 38.62 41.77 43.82 38.07 50.96 48.56 38.25 63.1  54.25 49.79 43.05\n",
            " 46.85 52.4  45.45 47.43 57.01 45.89 51.28 48.76 37.72  6.8  40.11 44.08\n",
            " 43.11 36.07 38.96 58.23 41.21 53.53 48.46 40.09 46.07 42.2  50.1  41.97\n",
            " 43.43 40.64 46.39 32.88]\n"
          ],
          "name": "stdout"
        }
      ]
    },
    {
      "cell_type": "markdown",
      "metadata": {
        "id": "A46AQ7dmKCaa"
      },
      "source": [
        "### Generating a permutation sample\r\n",
        "\r\n",
        "Sampling is a great way to simulate the hypothesis that two variables have identical probability distributions. This is often a hypothesis you want to test.\r\n",
        "\r\n",
        "Remember, a permutation sample of two arrays having respectively `n1` and `n2` entries is constructed by __concatenating__ the arrays together, __scrambling__ the contents of the concatenated array, and then taking the first `n1` entries as the permutation sample of the first array and the last `n2` entries as the permutation sample of the second array.\r\n",
        "\r\n",
        "```python\r\n",
        "perm_sample_1 = permuted_data[:len(data1)]\r\n",
        "perm_sample_2 = permuted_data[len(data1):]\r\n",
        "```\r\n",
        "- Store the first `len(data1)` entries of permuted_data as `perm_sample_1` and the last `len(data2)` entries of permuted_data as `perm_sample_2`. In practice, this can be achieved by using `:len(data1)` and `len(data1):` to __slice permuted_data__."
      ]
    },
    {
      "cell_type": "code",
      "metadata": {
        "id": "W5LGI8cRs46D"
      },
      "source": [
        "# Defining permutation_sample Function\r\n",
        "def permutation_sample(data1, data2):\r\n",
        "    \"\"\"Generate a permutation sample from two data sets.\"\"\"\r\n",
        "\r\n",
        "    # Concatenate the data sets: data\r\n",
        "    data = np.concatenate((data1, data2))\r\n",
        "\r\n",
        "    # Permute the concatenated array: permuted_data\r\n",
        "    permuted_data = np.random.permutation(data)\r\n",
        "\r\n",
        "    # Split the permuted array into two: perm_sample_1, perm_sample_2\r\n",
        "    perm_sample_1 = permuted_data[:len(data1)]\r\n",
        "    perm_sample_2 = permuted_data[len(data1):]\r\n",
        "\r\n",
        "    return perm_sample_1, perm_sample_2"
      ],
      "execution_count": 10,
      "outputs": []
    },
    {
      "cell_type": "code",
      "metadata": {
        "colab": {
          "base_uri": "https://localhost:8080/"
        },
        "id": "p76i_JboKqb_",
        "outputId": "1d56b740-6b3a-48f1-d42a-0230a4381c9b"
      },
      "source": [
        "# Applying it to dem_share_PA & dem_share_OH\r\n",
        "permutation_sample(dem_share_PA, dem_share_OH)"
      ],
      "execution_count": 11,
      "outputs": [
        {
          "output_type": "execute_result",
          "data": {
            "text/plain": [
              "(array([46.29, 31.75, 43.92, 48.56, 44.03, 32.12, 47.61, 32.88, 53.14,\n",
              "        41.21, 33.57, 36.05, 38.53, 35.22, 55.97, 46.07, 36.07, 69.64,\n",
              "        38.11, 56.94, 43.05, 40.64, 49.85, 45.45, 28.94, 57.81, 27.32,\n",
              "        51.38, 54.59, 36.43, 38.07, 49.81, 47.47, 50.46, 43.12, 83.56,\n",
              "        49.44, 50.96, 44.08, 58.23, 63.1 , 34.01, 58.36, 39.84, 27.92,\n",
              "        38.25, 37.26, 44.9 , 42.65, 35.47, 39.43, 50.36, 36.71, 49.58,\n",
              "        42.97, 45.88, 47.01, 39.67, 41.55, 47.87, 53.61, 37.62, 48.76,\n",
              "        41.97, 42.38, 63.57, 61.48]),\n",
              " array([29.07, 40.67, 25.34, 36.54, 46.39, 53.53, 34.58, 46.73, 46.15,\n",
              "        45.31, 40.45, 37.72, 37.53, 53.16, 54.58, 38.1 , 41.77, 38.23,\n",
              "        38.62, 46.85, 31.47, 45.26, 33.56, 45.6 , 37.77, 48.46, 54.66,\n",
              "        46.33, 48.62, 36.06, 47.75, 41.32, 60.5 , 41.56, 42.49, 40.47,\n",
              "        38.01, 31.56, 43.43, 54.37, 68.02, 48.73, 56.24, 59.1 , 44.69,\n",
              "        43.82, 60.08,  6.8 , 48.36, 28.79, 38.96, 48.61, 42.2 , 42.23,\n",
              "        35.71, 45.89, 40.09, 43.11, 60.49, 54.25, 36.11, 34.84, 57.88,\n",
              "        52.2 , 40.1 , 44.71, 47.43, 54.74, 54.64, 31.04, 40.18, 52.76,\n",
              "        43.78, 60.81, 50.1 , 39.26, 40.24, 40.11, 57.01, 51.28, 39.86,\n",
              "        43.18, 52.4 , 39.92, 65.99, 32.97, 46.33, 49.79]))"
            ]
          },
          "metadata": {
            "tags": []
          },
          "execution_count": 11
        }
      ]
    },
    {
      "cell_type": "markdown",
      "metadata": {
        "id": "Gr42pwDYNe12"
      },
      "source": [
        "### Visualizing permutation sampling\r\n",
        "\r\n",
        "__Dataset:__ Sheffield Weather Station.\r\n",
        "\r\n",
        "This time considering the monthly rainfall in June (a dry month) and November (a wet month).\r\n",
        "\r\n",
        "We expect these might be differently distributed, so we will take permutation samples to see how their ECDFs would look if they were identically distributed.\r\n",
        "\r\n",
        "The data are stored in the Numpy arrays `rain_june` and `rain_november`.\r\n"
      ]
    },
    {
      "cell_type": "code",
      "metadata": {
        "colab": {
          "base_uri": "https://localhost:8080/",
          "height": 107
        },
        "id": "pAEFn8HDOQbe",
        "outputId": "3a6d640f-5918-434e-82eb-3138d773b190"
      },
      "source": [
        "df_rain = pd.read_fwf('sheffield_weather_station.csv', skiprows=8)\r\n",
        "df_rain.head(2)"
      ],
      "execution_count": 12,
      "outputs": [
        {
          "output_type": "execute_result",
          "data": {
            "text/html": [
              "<div>\n",
              "<style scoped>\n",
              "    .dataframe tbody tr th:only-of-type {\n",
              "        vertical-align: middle;\n",
              "    }\n",
              "\n",
              "    .dataframe tbody tr th {\n",
              "        vertical-align: top;\n",
              "    }\n",
              "\n",
              "    .dataframe thead th {\n",
              "        text-align: right;\n",
              "    }\n",
              "</style>\n",
              "<table border=\"1\" class=\"dataframe\">\n",
              "  <thead>\n",
              "    <tr style=\"text-align: right;\">\n",
              "      <th></th>\n",
              "      <th>yyyy</th>\n",
              "      <th>mm</th>\n",
              "      <th>tmax</th>\n",
              "      <th>tmin</th>\n",
              "      <th>af</th>\n",
              "      <th>rain</th>\n",
              "      <th>sun</th>\n",
              "    </tr>\n",
              "  </thead>\n",
              "  <tbody>\n",
              "    <tr>\n",
              "      <th>0</th>\n",
              "      <td>1883</td>\n",
              "      <td>1</td>\n",
              "      <td>6.3</td>\n",
              "      <td>1.7</td>\n",
              "      <td>6</td>\n",
              "      <td>122.1</td>\n",
              "      <td>---</td>\n",
              "    </tr>\n",
              "    <tr>\n",
              "      <th>1</th>\n",
              "      <td>1883</td>\n",
              "      <td>2</td>\n",
              "      <td>8.0</td>\n",
              "      <td>2.8</td>\n",
              "      <td>2</td>\n",
              "      <td>69.8</td>\n",
              "      <td>---</td>\n",
              "    </tr>\n",
              "  </tbody>\n",
              "</table>\n",
              "</div>"
            ],
            "text/plain": [
              "   yyyy  mm tmax tmin af   rain  sun\n",
              "0  1883   1  6.3  1.7  6  122.1  ---\n",
              "1  1883   2  8.0  2.8  2   69.8  ---"
            ]
          },
          "metadata": {
            "tags": []
          },
          "execution_count": 12
        }
      ]
    },
    {
      "cell_type": "code",
      "metadata": {
        "id": "_SR2jAoIOjfj"
      },
      "source": [
        "rain_june = df_rain.loc[df_rain['mm']==6]['rain']  # june dataframe\r\n",
        "rain_november = df_rain.loc[df_rain['mm']==11]['rain'] # November Dataframe"
      ],
      "execution_count": 13,
      "outputs": []
    },
    {
      "cell_type": "code",
      "metadata": {
        "colab": {
          "base_uri": "https://localhost:8080/",
          "height": 447
        },
        "id": "D6sF0TXjO2A6",
        "outputId": "8a3eea82-ffc7-46f9-a7a7-8bcd90ef85af"
      },
      "source": [
        "# Set default Seaborn style\r\n",
        "plt.style.use('ggplot')\r\n",
        "# figure size\r\n",
        "plt.figure(figsize=(12, 7), facecolor='lightgrey')\r\n",
        "\r\n",
        "# Defining permutation_sample Function\r\n",
        "def permutation_sample(data1, data2):\r\n",
        "    \"\"\"Generate a permutation sample from two data sets.\"\"\"\r\n",
        "\r\n",
        "    # Concatenate the data sets: data\r\n",
        "    data = np.concatenate((data1, data2))\r\n",
        "\r\n",
        "    # Permute the concatenated array: permuted_data\r\n",
        "    permuted_data = np.random.permutation(data)\r\n",
        "\r\n",
        "    # Split the permuted array into two: perm_sample_1, perm_sample_2\r\n",
        "    perm_sample_1 = permuted_data[:len(data1)]\r\n",
        "    perm_sample_2 = permuted_data[len(data1):]\r\n",
        "\r\n",
        "    return perm_sample_1, perm_sample_2\r\n",
        "\r\n",
        "'''\r\n",
        "Write a for loop to generate 50 permutation samples, \r\n",
        "compute their ECDFs, and plot them.\r\n",
        "'''\r\n",
        "\r\n",
        "for i in range(50):\r\n",
        "    # Generate permutation samples using permutation_sample function\r\n",
        "    perm_sample_1, perm_sample_2 = permutation_sample(rain_june, rain_november)\r\n",
        "\r\n",
        "    # Compute ECDFs - Generate the x and y values\r\n",
        "    x_1, y_1 = ecdf(perm_sample_1)\r\n",
        "    x_2, y_2 = ecdf(perm_sample_2)\r\n",
        "\r\n",
        "    # Plot ECDFs of 1'st and 2'nd permutation sample\r\n",
        "    _ = plt.plot(x_1, y_1, marker='.', linestyle='none',\r\n",
        "                 color='tab:red', alpha=0.02)\r\n",
        "    _ = plt.plot(x_2, y_2, marker='.', linestyle='none',\r\n",
        "                 color='tab:green', alpha=0.02)\r\n",
        "\r\n",
        "\r\n",
        "# Create and plot ECDFs from original data\r\n",
        "x_1, y_1 = ecdf(rain_june)\r\n",
        "x_2, y_2 = ecdf(rain_november)\r\n",
        "_ = plt.plot(x_1, y_1, marker='.', linestyle='none', color='tab:red')\r\n",
        "_ = plt.plot(x_2, y_2, marker='.', linestyle='none', color='tab:blue')\r\n",
        "\r\n",
        "# Label axes, set margin, and show plot\r\n",
        "plt.margins(0.02)\r\n",
        "_ = plt.xlabel('monthly rainfall (mm)')\r\n",
        "_ = plt.ylabel('ECDF')\r\n",
        "plt.show()"
      ],
      "execution_count": 14,
      "outputs": [
        {
          "output_type": "display_data",
          "data": {
            "image/png": "[encoded data removed]",
            "text/plain": [
              "<Figure size 864x504 with 1 Axes>"
            ]
          },
          "metadata": {
            "tags": []
          }
        }
      ]
    },
    {
      "cell_type": "markdown",
      "metadata": {
        "id": "abcUeTt3Q3dt"
      },
      "source": [
        "$\\color{red}{\\textbf{Notice}}$ that the permutation samples ECDFs overlap and give a **Greenish haze**.\r\n",
        "\r\n",
        "**None** of the **ECDFs** from the permutation samples overlap with the observed data, suggesting that the hypothesis is not commensurate with the data. \r\n",
        ">__June and November rainfall are not identically distributed.__"
      ]
    },
    {
      "cell_type": "markdown",
      "metadata": {
        "id": "ddq22t-TTNl-"
      },
      "source": [
        "## __Test statistics and p-values__"
      ]
    },
    {
      "cell_type": "markdown",
      "metadata": {
        "id": "Y7qnPhbqm_kW"
      },
      "source": [
        "__Hypothesis testing__\r\n",
        "\r\n",
        ">- __Assessment of how reasonable the observed data are assuming a hypothesis is true.__\r\n",
        "\r\n",
        "__Test statistics__\r\n",
        "- A single number that can be computed from observed data and also from data you simulate under the null hypothesis\r\n",
        "\r\n",
        "- It serves as a basis of comparison between the two between what the hypothesis predicts and what we actually observed. \r\n",
        "\r\n",
        "__We should choose your test statistic to be something that is pertinent to the question you are trying to answer with your hypothesis test, in this case, are the two states different?__ If they are identical, they should have the same `mean` vote share for Obama. So the difference in `mean` vote share should be `zero`. We will therefore choose the difference in means as our test statistic.\r\n",
        "\r\n",
        "__p-value__\r\n",
        "\r\n",
        "- The probability of obtaining a value of your test statistic that is at least as extreme as what was observed, under the assumption the null hypothesis is TRUE.\r\n",
        "\r\n",
        "- NOT the probability that the null hypothesis is TRUE.\r\n",
        "\r\n",
        "__Statistical significance__\r\n",
        "\r\n",
        "- When the `p-value` is __small__, it is often said that the data are __statistically significantly__ different than what we would observe under the null hypothesis. For this reason, the hypothesis testing we're doing is sometimes called __Null hypothesis significance testing (NHST)__\r\n",
        "\r\n",
        "$\\color{red}{\\textbf{Remember:}}$ Statistical significance (that is, low p-values) and practical significance,whether or not the difference of the data from the null hypothesis matters for practical considerations, are two different things.\r\n",
        "\r\n",
        "__When performing hypothesis tests, your choice of test statistic should be:__ pertinent to the question you are seeking to answer in your hypothesis test.\r\n"
      ]
    },
    {
      "cell_type": "code",
      "metadata": {
        "colab": {
          "base_uri": "https://localhost:8080/"
        },
        "id": "eORY2PMgO16y",
        "outputId": "b441d7e8-0be0-4ec0-fa75-1b88e5e14833"
      },
      "source": [
        "# Permutation replicate\r\n",
        "print(np.mean(perm_sample_PA) - np.mean(perm_sample_OH))\r\n",
        "print(np.mean(dem_share_PA) - np.mean(dem_share_OH)) # orig. data"
      ],
      "execution_count": 15,
      "outputs": [
        {
          "output_type": "stream",
          "text": [
            "0.0012567842605264445\n",
            "1.1582360922659518\n"
          ],
          "name": "stdout"
        }
      ]
    },
    {
      "cell_type": "markdown",
      "metadata": {
        "id": "HwrSfHLMAASD"
      },
      "source": [
        "### Generating permutation replicates\r\n",
        "\r\n",
        "**Permutation replicate** is a single value of a statistic computed from a permutation sample. \r\n",
        "\r\n",
        "As the `draw_bs_reps()` function you wrote in chapter 2 is **useful for you to generate bootstrap replicates**, it is useful to have a similar function, `draw_perm_reps()`, to generate permutation replicates. \r\n",
        "\r\n",
        "__Instruction__\r\n",
        "\r\n",
        "- Define a function with this signature: `draw_perm_reps(data_1, data_2, func, size=1)`.\r\n",
        "\r\n",
        "    - Initialize an array to hold the permutation replicates using `np.empty()`.\r\n",
        "\r\n",
        "    - Write a `for` loop to:\r\n",
        "\r\n",
        "        - Compute a permutation sample using your `permutation_sample()` function.\r\n",
        "        - Pass the samples into `func()` to compute the replicate and store the result in your array of replicates.\r\n",
        "\r\n",
        "    - Return the array of replicates.\r\n"
      ]
    },
    {
      "cell_type": "code",
      "metadata": {
        "id": "YpHw9EKF__rj"
      },
      "source": [
        "# Defining permutation_sample Function\r\n",
        "def permutation_sample(data1, data2):\r\n",
        "    \"\"\"Generate a permutation sample from two data sets.\"\"\"\r\n",
        "\r\n",
        "    # Concatenate the data sets: data\r\n",
        "    data = np.concatenate((data1, data2))\r\n",
        "\r\n",
        "    # Permute the concatenated array: permuted_data\r\n",
        "    permuted_data = np.random.permutation(data)\r\n",
        "\r\n",
        "    # Split the permuted array into two: perm_sample_1, perm_sample_2\r\n",
        "    perm_sample_1 = permuted_data[:len(data1)]\r\n",
        "    perm_sample_2 = permuted_data[len(data1):]\r\n",
        "\r\n",
        "    return perm_sample_1, perm_sample_2\r\n",
        "    \r\n",
        "\r\n",
        "# Defining permutation replicates function\r\n",
        "def draw_perm_reps(data_1, data_2, func, size=1):\r\n",
        "    \"\"\"Generate multiple permutation replicates.\"\"\"\r\n",
        "\r\n",
        "    # Initialize array of replicates: perm_replicates\r\n",
        "    perm_replicates = np.empty(size)\r\n",
        "\r\n",
        "    for i in range(size):\r\n",
        "        # Generate permutation sample\r\n",
        "        perm_sample_1, perm_sample_2 = permutation_sample(data_1, data_2)\r\n",
        "\r\n",
        "        # Compute the test statistic\r\n",
        "        perm_replicates[i] = func(perm_sample_1, perm_sample_2)\r\n",
        "\r\n",
        "    return perm_replicates"
      ],
      "execution_count": 16,
      "outputs": []
    },
    {
      "cell_type": "markdown",
      "metadata": {
        "id": "iCf_uJ0ZEeN7"
      },
      "source": [
        "### Look before you leap: EDA before hypothesis testing\r\n",
        "\r\n",
        "Kleinteich and Gorb (Sci. Rep., 4, 5225, 2014) performed an interesting experiment with South American horned frogs. They held a plate connected to a force transducer, along with a bait fly, in front of them. They then measured the impact force and adhesive force of the frog's tongue when it struck the target.\r\n",
        "\r\n",
        "Frog A is an adult and Frog B is a juvenile. The researchers measured the impact force of 20 strikes for each frog. In the next exercise, we will test the hypothesis that the two frogs have the same distribution of impact forces. But, remember, it is important to do EDA first! Let's make a bee swarm plot for the data. They are stored in a Pandas data frame, `df`, where column ID is the identity of the frog and column impact_force is the `impact force` in Newtons (N)."
      ]
    },
    {
      "cell_type": "code",
      "metadata": {
        "colab": {
          "base_uri": "https://localhost:8080/",
          "height": 158
        },
        "id": "5RKN5XOVEYt1",
        "outputId": "3e41dd2f-a5c0-4fed-a20b-6cfcfbd49313"
      },
      "source": [
        "df_frog = pd.read_csv('frog_tongue.csv', skiprows=14)\r\n",
        "print(df_frog.shape)\r\n",
        "df_frog.head(2)"
      ],
      "execution_count": 17,
      "outputs": [
        {
          "output_type": "stream",
          "text": [
            "(80, 15)\n"
          ],
          "name": "stdout"
        },
        {
          "output_type": "execute_result",
          "data": {
            "text/html": [
              "<div>\n",
              "<style scoped>\n",
              "    .dataframe tbody tr th:only-of-type {\n",
              "        vertical-align: middle;\n",
              "    }\n",
              "\n",
              "    .dataframe tbody tr th {\n",
              "        vertical-align: top;\n",
              "    }\n",
              "\n",
              "    .dataframe thead th {\n",
              "        text-align: right;\n",
              "    }\n",
              "</style>\n",
              "<table border=\"1\" class=\"dataframe\">\n",
              "  <thead>\n",
              "    <tr style=\"text-align: right;\">\n",
              "      <th></th>\n",
              "      <th>date</th>\n",
              "      <th>ID</th>\n",
              "      <th>trial number</th>\n",
              "      <th>impact force (mN)</th>\n",
              "      <th>impact time (ms)</th>\n",
              "      <th>impact force / body weight</th>\n",
              "      <th>adhesive force (mN)</th>\n",
              "      <th>time frog pulls on target (ms)</th>\n",
              "      <th>adhesive force / body weight</th>\n",
              "      <th>adhesive impulse (N-s)</th>\n",
              "      <th>total contact area (mm2)</th>\n",
              "      <th>contact area without mucus (mm2)</th>\n",
              "      <th>contact area with mucus / contact area without mucus</th>\n",
              "      <th>contact pressure (Pa)</th>\n",
              "      <th>adhesive strength (Pa)</th>\n",
              "    </tr>\n",
              "  </thead>\n",
              "  <tbody>\n",
              "    <tr>\n",
              "      <th>0</th>\n",
              "      <td>2013_02_26</td>\n",
              "      <td>I</td>\n",
              "      <td>3</td>\n",
              "      <td>1205</td>\n",
              "      <td>46</td>\n",
              "      <td>1.95</td>\n",
              "      <td>-785</td>\n",
              "      <td>884</td>\n",
              "      <td>1.27</td>\n",
              "      <td>-0.290</td>\n",
              "      <td>387</td>\n",
              "      <td>70</td>\n",
              "      <td>0.82</td>\n",
              "      <td>3117</td>\n",
              "      <td>-2030</td>\n",
              "    </tr>\n",
              "    <tr>\n",
              "      <th>1</th>\n",
              "      <td>2013_02_26</td>\n",
              "      <td>I</td>\n",
              "      <td>4</td>\n",
              "      <td>2527</td>\n",
              "      <td>44</td>\n",
              "      <td>4.08</td>\n",
              "      <td>-983</td>\n",
              "      <td>248</td>\n",
              "      <td>1.59</td>\n",
              "      <td>-0.181</td>\n",
              "      <td>101</td>\n",
              "      <td>94</td>\n",
              "      <td>0.07</td>\n",
              "      <td>24923</td>\n",
              "      <td>-9695</td>\n",
              "    </tr>\n",
              "  </tbody>\n",
              "</table>\n",
              "</div>"
            ],
            "text/plain": [
              "         date ID  ...  contact pressure (Pa)  adhesive strength (Pa)\n",
              "0  2013_02_26  I  ...                   3117                   -2030\n",
              "1  2013_02_26  I  ...                  24923                   -9695\n",
              "\n",
              "[2 rows x 15 columns]"
            ]
          },
          "metadata": {
            "tags": []
          },
          "execution_count": 17
        }
      ]
    },
    {
      "cell_type": "code",
      "metadata": {
        "colab": {
          "base_uri": "https://localhost:8080/"
        },
        "id": "xhLrliWPRzr5",
        "outputId": "594631d3-2b93-4c0c-9911-7167124f778a"
      },
      "source": [
        "df_frog.info()"
      ],
      "execution_count": 18,
      "outputs": [
        {
          "output_type": "stream",
          "text": [
            "<class 'pandas.core.frame.DataFrame'>\n",
            "RangeIndex: 80 entries, 0 to 79\n",
            "Data columns (total 15 columns):\n",
            " #   Column                                                Non-Null Count  Dtype  \n",
            "---  ------                                                --------------  -----  \n",
            " 0   date                                                  80 non-null     object \n",
            " 1   ID                                                    80 non-null     object \n",
            " 2   trial number                                          80 non-null     int64  \n",
            " 3   impact force (mN)                                     80 non-null     int64  \n",
            " 4   impact time (ms)                                      80 non-null     int64  \n",
            " 5   impact force / body weight                            80 non-null     float64\n",
            " 6   adhesive force (mN)                                   80 non-null     int64  \n",
            " 7   time frog pulls on target (ms)                        80 non-null     int64  \n",
            " 8   adhesive force / body weight                          80 non-null     float64\n",
            " 9   adhesive impulse (N-s)                                80 non-null     float64\n",
            " 10  total contact area (mm2)                              80 non-null     int64  \n",
            " 11  contact area without mucus (mm2)                      80 non-null     int64  \n",
            " 12  contact area with mucus / contact area without mucus  80 non-null     float64\n",
            " 13  contact pressure (Pa)                                 80 non-null     int64  \n",
            " 14  adhesive strength (Pa)                                80 non-null     int64  \n",
            "dtypes: float64(4), int64(9), object(2)\n",
            "memory usage: 9.5+ KB\n"
          ],
          "name": "stdout"
        }
      ]
    },
    {
      "cell_type": "code",
      "metadata": {
        "colab": {
          "base_uri": "https://localhost:8080/",
          "height": 337
        },
        "id": "wJKNMNdgR6Ai",
        "outputId": "ec2cf317-d419-4b58-8fd4-df4ace1a260f"
      },
      "source": [
        "df_frog.describe()"
      ],
      "execution_count": 19,
      "outputs": [
        {
          "output_type": "execute_result",
          "data": {
            "text/html": [
              "<div>\n",
              "<style scoped>\n",
              "    .dataframe tbody tr th:only-of-type {\n",
              "        vertical-align: middle;\n",
              "    }\n",
              "\n",
              "    .dataframe tbody tr th {\n",
              "        vertical-align: top;\n",
              "    }\n",
              "\n",
              "    .dataframe thead th {\n",
              "        text-align: right;\n",
              "    }\n",
              "</style>\n",
              "<table border=\"1\" class=\"dataframe\">\n",
              "  <thead>\n",
              "    <tr style=\"text-align: right;\">\n",
              "      <th></th>\n",
              "      <th>trial number</th>\n",
              "      <th>impact force (mN)</th>\n",
              "      <th>impact time (ms)</th>\n",
              "      <th>impact force / body weight</th>\n",
              "      <th>adhesive force (mN)</th>\n",
              "      <th>time frog pulls on target (ms)</th>\n",
              "      <th>adhesive force / body weight</th>\n",
              "      <th>adhesive impulse (N-s)</th>\n",
              "      <th>total contact area (mm2)</th>\n",
              "      <th>contact area without mucus (mm2)</th>\n",
              "      <th>contact area with mucus / contact area without mucus</th>\n",
              "      <th>contact pressure (Pa)</th>\n",
              "      <th>adhesive strength (Pa)</th>\n",
              "    </tr>\n",
              "  </thead>\n",
              "  <tbody>\n",
              "    <tr>\n",
              "      <th>count</th>\n",
              "      <td>80.000000</td>\n",
              "      <td>80.000000</td>\n",
              "      <td>80.000000</td>\n",
              "      <td>80.000000</td>\n",
              "      <td>80.000000</td>\n",
              "      <td>80.000000</td>\n",
              "      <td>80.000000</td>\n",
              "      <td>80.000000</td>\n",
              "      <td>80.000000</td>\n",
              "      <td>80.000000</td>\n",
              "      <td>80.000000</td>\n",
              "      <td>80.000000</td>\n",
              "      <td>80.000000</td>\n",
              "    </tr>\n",
              "    <tr>\n",
              "      <th>mean</th>\n",
              "      <td>2.400000</td>\n",
              "      <td>801.687500</td>\n",
              "      <td>39.062500</td>\n",
              "      <td>2.920375</td>\n",
              "      <td>-397.762500</td>\n",
              "      <td>1132.450000</td>\n",
              "      <td>1.444875</td>\n",
              "      <td>-0.187462</td>\n",
              "      <td>166.475000</td>\n",
              "      <td>61.400000</td>\n",
              "      <td>0.569000</td>\n",
              "      <td>6073.162500</td>\n",
              "      <td>-3005.875000</td>\n",
              "    </tr>\n",
              "    <tr>\n",
              "      <th>std</th>\n",
              "      <td>1.164887</td>\n",
              "      <td>587.836143</td>\n",
              "      <td>19.558639</td>\n",
              "      <td>1.581092</td>\n",
              "      <td>228.675562</td>\n",
              "      <td>747.172695</td>\n",
              "      <td>0.659858</td>\n",
              "      <td>0.134058</td>\n",
              "      <td>98.696052</td>\n",
              "      <td>58.532821</td>\n",
              "      <td>0.341862</td>\n",
              "      <td>5515.265706</td>\n",
              "      <td>2525.468421</td>\n",
              "    </tr>\n",
              "    <tr>\n",
              "      <th>min</th>\n",
              "      <td>1.000000</td>\n",
              "      <td>22.000000</td>\n",
              "      <td>6.000000</td>\n",
              "      <td>0.170000</td>\n",
              "      <td>-983.000000</td>\n",
              "      <td>189.000000</td>\n",
              "      <td>0.220000</td>\n",
              "      <td>-0.768000</td>\n",
              "      <td>19.000000</td>\n",
              "      <td>0.000000</td>\n",
              "      <td>0.010000</td>\n",
              "      <td>397.000000</td>\n",
              "      <td>-17652.000000</td>\n",
              "    </tr>\n",
              "    <tr>\n",
              "      <th>25%</th>\n",
              "      <td>1.000000</td>\n",
              "      <td>456.000000</td>\n",
              "      <td>29.750000</td>\n",
              "      <td>1.470000</td>\n",
              "      <td>-567.750000</td>\n",
              "      <td>682.250000</td>\n",
              "      <td>0.990000</td>\n",
              "      <td>-0.277250</td>\n",
              "      <td>104.750000</td>\n",
              "      <td>16.750000</td>\n",
              "      <td>0.280000</td>\n",
              "      <td>2579.250000</td>\n",
              "      <td>-3443.250000</td>\n",
              "    </tr>\n",
              "    <tr>\n",
              "      <th>50%</th>\n",
              "      <td>2.000000</td>\n",
              "      <td>601.000000</td>\n",
              "      <td>34.000000</td>\n",
              "      <td>3.030000</td>\n",
              "      <td>-335.000000</td>\n",
              "      <td>927.000000</td>\n",
              "      <td>1.320000</td>\n",
              "      <td>-0.165000</td>\n",
              "      <td>134.500000</td>\n",
              "      <td>43.000000</td>\n",
              "      <td>0.665000</td>\n",
              "      <td>4678.000000</td>\n",
              "      <td>-2185.500000</td>\n",
              "    </tr>\n",
              "    <tr>\n",
              "      <th>75%</th>\n",
              "      <td>3.000000</td>\n",
              "      <td>1005.000000</td>\n",
              "      <td>42.000000</td>\n",
              "      <td>4.277500</td>\n",
              "      <td>-224.500000</td>\n",
              "      <td>1381.250000</td>\n",
              "      <td>1.772500</td>\n",
              "      <td>-0.081250</td>\n",
              "      <td>238.250000</td>\n",
              "      <td>92.500000</td>\n",
              "      <td>0.885000</td>\n",
              "      <td>7249.750000</td>\n",
              "      <td>-1736.000000</td>\n",
              "    </tr>\n",
              "    <tr>\n",
              "      <th>max</th>\n",
              "      <td>5.000000</td>\n",
              "      <td>2641.000000</td>\n",
              "      <td>143.000000</td>\n",
              "      <td>6.490000</td>\n",
              "      <td>-92.000000</td>\n",
              "      <td>4251.000000</td>\n",
              "      <td>3.400000</td>\n",
              "      <td>-0.001000</td>\n",
              "      <td>455.000000</td>\n",
              "      <td>260.000000</td>\n",
              "      <td>1.000000</td>\n",
              "      <td>28641.000000</td>\n",
              "      <td>-678.000000</td>\n",
              "    </tr>\n",
              "  </tbody>\n",
              "</table>\n",
              "</div>"
            ],
            "text/plain": [
              "       trial number  ...  adhesive strength (Pa)\n",
              "count     80.000000  ...               80.000000\n",
              "mean       2.400000  ...            -3005.875000\n",
              "std        1.164887  ...             2525.468421\n",
              "min        1.000000  ...           -17652.000000\n",
              "25%        1.000000  ...            -3443.250000\n",
              "50%        2.000000  ...            -2185.500000\n",
              "75%        3.000000  ...            -1736.000000\n",
              "max        5.000000  ...             -678.000000\n",
              "\n",
              "[8 rows x 13 columns]"
            ]
          },
          "metadata": {
            "tags": []
          },
          "execution_count": 19
        }
      ]
    },
    {
      "cell_type": "code",
      "metadata": {
        "colab": {
          "base_uri": "https://localhost:8080/"
        },
        "id": "OraPEQmqTsVM",
        "outputId": "87acc41f-410e-44a4-e07a-56da8bd3872a"
      },
      "source": [
        "df_frog.value_counts()"
      ],
      "execution_count": 20,
      "outputs": [
        {
          "output_type": "execute_result",
          "data": {
            "text/plain": [
              "date        ID   trial number  impact force (mN)  impact time (ms)  impact force / body weight  adhesive force (mN)  time frog pulls on target (ms)  adhesive force / body weight  adhesive impulse (N-s)  total contact area (mm2)  contact area without mucus (mm2)  contact area with mucus / contact area without mucus  contact pressure (Pa)  adhesive strength (Pa)\n",
              "2013_06_26  III  4             488                34                3.93                        -390                 1308                            3.14                          -0.208                  112                       58                                0.39                                                  4376                   -3492                     1\n",
              "                 3             665                40                5.35                        -236                 685                             1.90                          -0.118                  129                       0                                 0.16                                                  5171                   -1834                     1\n",
              "2013_03_19  II   2             605                55                1.42                        -292                 1261                            0.69                          -0.294                  248                       24                                0.90                                                  2441                   -1177                     1\n",
              "                 3             327                51                0.77                        -246                 1508                            0.58                          -0.282                  130                       34                                0.74                                                  2517                   -1894                     1\n",
              "                 4             946                59                2.23                        -245                 1841                            0.58                          -0.340                  106                       26                                0.76                                                  8893                   -2301                     1\n",
              "                                                                                                                                                                                                                                                                                                                                                                             ..\n",
              "2013_06_11  IV   2             720                27                5.36                        -342                 1515                            2.55                          -0.226                  137                       0                                 0.83                                                  5259                   -2497                     1\n",
              "                 3             582                33                4.34                        -231                 279                             1.72                          -0.033                  60                        4                                 0.03                                                  9705                   -3847                     1\n",
              "                 4             198                23                1.47                        -209                 1427                            1.55                          -0.151                  110                       69                                0.84                                                  1793                   -1889                     1\n",
              "2013_06_14  III  1             538                38                4.32                        -131                 1790                            1.05                          -0.036                  130                       74                                1.00                                                  4130                   -1005                     1\n",
              "2013_02_26  I    3             1205               46                1.95                        -785                 884                             1.27                          -0.290                  387                       70                                0.82                                                  3117                   -2030                     1\n",
              "Length: 80, dtype: int64"
            ]
          },
          "metadata": {
            "tags": []
          },
          "execution_count": 20
        }
      ]
    },
    {
      "cell_type": "code",
      "metadata": {
        "colab": {
          "base_uri": "https://localhost:8080/",
          "height": 503
        },
        "id": "9EYA3LLyGetn",
        "outputId": "3e6cab37-95f5-47f8-a781-bcf6303fb3c4"
      },
      "source": [
        "# Plot Size\r\n",
        "plt.figure(figsize=(12, 7), facecolor='lightgrey')\r\n",
        "\r\n",
        "# Make bee swarm plot\r\n",
        "_ = sns.swarmplot(df_frog['ID'], df_frog['impact force / body weight'], data=df_frog)\r\n",
        "\r\n",
        "# Label axes\r\n",
        "_ = plt.xlabel('frog')\r\n",
        "_ = plt.ylabel('impact force (N)')\r\n",
        "\r\n",
        "# Show the plot\r\n",
        "plt.show()"
      ],
      "execution_count": 21,
      "outputs": [
        {
          "output_type": "stream",
          "text": [
            "/usr/local/lib/python3.7/dist-packages/seaborn/_decorators.py:43: FutureWarning: Pass the following variables as keyword args: x, y. From version 0.12, the only valid positional argument will be `data`, and passing other arguments without an explicit keyword will result in an error or misinterpretation.\n",
            "  FutureWarning\n"
          ],
          "name": "stderr"
        },
        {
          "output_type": "display_data",
          "data": {
            "image/png": "[encoded data removed]",
            "text/plain": [
              "<Figure size 864x504 with 1 Axes>"
            ]
          },
          "metadata": {
            "tags": []
          }
        }
      ]
    },
    {
      "cell_type": "markdown",
      "metadata": {
        "id": "StTZ-92SSyiz"
      },
      "source": [
        "Eyeballing it, it does not look like they come from the same distribution. `Frog A`, the adult, has three or four very hard strikes, and `Frog B`, the juvenile, has a couple weak ones. However, it is possible that with only 20 samples it might be too difficult to tell if they have difference distributions, so we should proceed with the hypothesis test."
      ]
    },
    {
      "cell_type": "markdown",
      "metadata": {
        "id": "2BKXs7veUb6T"
      },
      "source": [
        "### Permutation test on frog data\r\n",
        "\r\n",
        "The average strike force of Frog A was 0.71 Newtons (N), and that of Frog B was 0.42 N for a difference of 0.29 N. It is possible the frogs strike with the same force and this observed difference was by chance. You will compute the probability of getting at least a 0.29 N difference in mean strike force under the hypothesis that the distributions of strike forces for the two frogs are identical. We use a permutation test with a test statistic of the difference of means to test this hypothesis.\r\n",
        "\r\n",
        "The data has been stored in the arrays `force_a` and `force_b`.\r\n",
        "\r\n",
        "\r\n",
        "Instructions\r\n",
        "\r\n",
        "- Define a function with call signature `diff_of_means(data_1, data_2)` that returns the differences in means between two data sets, mean of `data_1` minus mean of `data_2`.\r\n",
        "\r\n",
        "- Use this function to compute the empirical difference of means that was observed in the frogs.\r\n",
        "\r\n",
        "- Draw `10,000` permutation replicates of the difference of means.\r\n",
        "\r\n",
        "- Compute the p-value.\r\n",
        "- Print the `p-value`.\r\n"
      ]
    },
    {
      "cell_type": "code",
      "metadata": {
        "id": "-YTQaGN0Zhfe"
      },
      "source": [
        "force_a = df_frog[df_frog['ID']=='I']['impact force / body weight']\r\n",
        "force_b = df_frog[df_frog['ID']=='II']['impact force / body weight']"
      ],
      "execution_count": 22,
      "outputs": []
    },
    {
      "cell_type": "code",
      "metadata": {
        "colab": {
          "base_uri": "https://localhost:8080/"
        },
        "id": "TUveMNTub21_",
        "outputId": "a5aef16f-44d6-4247-bdff-bc7a2a865a54"
      },
      "source": [
        "# Defining permutation_sample Function\r\n",
        "def permutation_sample(data1, data2):\r\n",
        "    \"\"\"Generate a permutation sample from two data sets.\"\"\"\r\n",
        "\r\n",
        "    # Concatenate the data sets: data\r\n",
        "    data = np.concatenate((data1, data2))\r\n",
        "\r\n",
        "    # Permute the concatenated array: permuted_data\r\n",
        "    permuted_data = np.random.permutation(data)\r\n",
        "\r\n",
        "    # Split the permuted array into two: perm_sample_1, perm_sample_2\r\n",
        "    perm_sample_1 = permuted_data[:len(data1)]\r\n",
        "    perm_sample_2 = permuted_data[len(data1):]\r\n",
        "\r\n",
        "    return perm_sample_1, perm_sample_2\r\n",
        "\r\n",
        "\r\n",
        "# Defining permutation replicates function\r\n",
        "def draw_perm_reps(data_1, data_2, func, size=1):\r\n",
        "    \"\"\"Generate multiple permutation replicates.\"\"\"\r\n",
        "\r\n",
        "    # Initialize array of replicates: perm_replicates\r\n",
        "    perm_replicates = np.empty(size)\r\n",
        "\r\n",
        "    for i in range(size):\r\n",
        "        # Generate permutation sample\r\n",
        "        perm_sample_1, perm_sample_2 = permutation_sample(data_1, data_2)\r\n",
        "\r\n",
        "        # Compute the test statistic\r\n",
        "        perm_replicates[i] = func(perm_sample_1, perm_sample_2)\r\n",
        "\r\n",
        "    return perm_replicates\r\n",
        "\r\n",
        "# Defining diff_of_means function\r\n",
        "def diff_of_means(data_1, data_2):\r\n",
        "    \"\"\"Difference in means of two arrays.\"\"\"\r\n",
        "\r\n",
        "    # The difference of means of data_1, data_2: diff\r\n",
        "    diff = np.mean(data_1) - np.mean(data_2)\r\n",
        "\r\n",
        "    return diff\r\n",
        "\r\n",
        "# Compute difference of mean impact force from experiment: empirical_diff_means\r\n",
        "empirical_diff_means = diff_of_means(force_a, force_b)\r\n",
        "\r\n",
        "# Draw 10,000 permutation replicates: perm_replicates\r\n",
        "perm_replicates = draw_perm_reps(force_a, force_b,\r\n",
        "                                 diff_of_means, size=10000)\r\n",
        "\r\n",
        "# Compute p-value: p\r\n",
        "p = np.sum(perm_replicates >= empirical_diff_means) / len(perm_replicates)\r\n",
        "\r\n",
        "# Print the result\r\n",
        "print('p-value =', p)"
      ],
      "execution_count": 23,
      "outputs": [
        {
          "output_type": "stream",
          "text": [
            "p-value = 0.0074\n"
          ],
          "name": "stdout"
        }
      ]
    },
    {
      "cell_type": "markdown",
      "metadata": {
        "id": "q-Ll-KqacGpO"
      },
      "source": [
        "The p-value tells Us that there is about a __0.6%__ chance that we would get the difference of means observed in the experiment if frogs were exactly the same. \r\n",
        "\r\n",
        "A `p-value` below __0.01__ is typically said to be __\"statistically significant,\"__ \r\n",
        "\r\n",
        "__But:__  $\\color{red}{\\textbf{warning!}}$ $\\color{red}{\\textbf{warning!}}$ $\\color{red}{\\textbf{warning!}}$ We have computed a `p-value`; it is a number. I encourage you not to distill it to a yes-or-no phrase. `p = 0.006` and `p = 0.000000006` are both said to be __\"statistically significant\"__ but they are definitely not the same!\r\n",
        "\r\n"
      ]
    },
    {
      "cell_type": "markdown",
      "metadata": {
        "id": "GSfE5MsdcGcM"
      },
      "source": [
        "## __Bootstrap hypothesis tests__"
      ]
    },
    {
      "cell_type": "markdown",
      "metadata": {
        "id": "jT-L8oHfcGOi"
      },
      "source": [
        "__Pipeline for hypothesis testing__\r\n",
        "\r\n",
        "- Clearly state the null hypothesis.\r\n",
        "\r\n",
        "- Define your test statistic.\r\n",
        "\r\n",
        "- Generate many sets of simulated data assuming the null hypothesis is true.\r\n",
        "\r\n",
        "- Compute the test statistic for each simulated data set\r\n",
        "\r\n",
        "- The `p-value` is the fraction of your simulated data sets for which the test statistic is at least as extreme as for the real data."
      ]
    },
    {
      "cell_type": "markdown",
      "metadata": {
        "id": "EBFuG-fsA1mE"
      },
      "source": [
        "### A one-sample bootstrap hypothesis test\r\n",
        "\r\n",
        "Another juvenile frog was studied, Frog C, and you want to see if Frog B and Frog C have similar impact forces. Unfortunately, you do not have Frog C's impact forces available, but you know they have a mean of 0.55 N. ***Because you don't have the original data, you cannot do a permutation test, and you cannot assess the hypothesis that the forces from Frog B and Frog C come from the same distribution.*** You will therefore test another, less ***restrictive hypothesis***: The mean strike force of Frog B is equal to that of Frog C.\r\n",
        "\r\n",
        "To set up the ***bootstrap hypothesis*** test, you will take the mean as our test statistic. Remember, your goal is to calculate the probability of getting a mean impact force less than or equal to what was observed for Frog B ___if the hypothesis that the true mean of Frog B's impact forces is equal to that of Frog C is true.___ You first translate all of the data of Frog B such that the mean is 0.55 N. This involves adding the mean force of Frog C and subtracting the mean force of Frog B from each measurement of Frog B. This leaves other properties of Frog B's distribution, such as the variance, unchanged."
      ]
    },
    {
      "cell_type": "markdown",
      "metadata": {
        "id": "9bQdrB_0A1Z2"
      },
      "source": [
        "__Instructions__\r\n",
        "\r\n",
        "- Translate the impact forces of `Frog B` such that its mean is `0.55 N`.\r\n",
        "\r\n",
        "- Use `draw_bs_reps()` function to take `10,000` **bootstrap replicates** of the mean of your translated forces.\r\n",
        "\r\n",
        "- Compute the `p-value` by finding the fraction of your bootstrap replicates that are less than the observed mean impact force of `Frog B`. Note that the variable of interest here is `force_b`.\r\n",
        "\r\n",
        "- Print your `p-value`."
      ]
    },
    {
      "cell_type": "code",
      "metadata": {
        "colab": {
          "base_uri": "https://localhost:8080/"
        },
        "id": "OoNHZYv_AzUi",
        "outputId": "ae5b65aa-eb90-43ae-a337-90fd3b91a9c6"
      },
      "source": [
        "# Define a function with call signature bootstrap_replicate_1d\r\n",
        "def bootstrap_replicate_1d(data, func):\r\n",
        "    \"\"\"Generate bootstrap replicate of 1D data.\"\"\"\r\n",
        "    bs_sample = np.random.choice(data, len(data))\r\n",
        "    return func(bs_sample)\r\n",
        "\r\n",
        "# Define a function with call signature draw_bs_reps \r\n",
        "def draw_bs_reps(data, func, size=1):\r\n",
        "    \"\"\"Draw bootstrap replicates.\"\"\"\r\n",
        "\r\n",
        "    # Initialize array of replicates: bs_replicates\r\n",
        "    bs_replicates = np.empty(size)\r\n",
        "\r\n",
        "    # Generate replicates\r\n",
        "    for i in range(size):\r\n",
        "        bs_replicates[i] = bootstrap_replicate_1d(data, func)\r\n",
        "\r\n",
        "    return bs_replicates\r\n",
        "\r\n",
        "# Make an array of translated impact forces: translated_force_b\r\n",
        "translated_force_b = force_b - np.mean(force_b) + 0.55\r\n",
        "\r\n",
        "# Take bootstrap replicates of Frog B's translated impact forces: bs_replicates\r\n",
        "bs_replicates = draw_bs_reps(translated_force_b, np.mean, 10000)\r\n",
        "\r\n",
        "# Compute fraction of replicates that are less than the observed Frog B force: p\r\n",
        "p = np.sum(bs_replicates <= np.mean(force_b)) / 10000\r\n",
        "\r\n",
        "# Print the p-value\r\n",
        "print('p = ', p)"
      ],
      "execution_count": 24,
      "outputs": [
        {
          "output_type": "stream",
          "text": [
            "p =  0.9999\n"
          ],
          "name": "stdout"
        }
      ]
    },
    {
      "cell_type": "markdown",
      "metadata": {
        "id": "Fbfhvm9BaJBO"
      },
      "source": [
        "__What is low P in null hypothesis testing?__\r\n",
        "\r\n",
        "In null hypothesis testing, the probability of a sample result at least as extreme as the one obtained if the null hypothesis were TRUE.\r\n",
        "\r\n",
        "A low `p-value` means that the sample result would be unlikely if the null hypothesis were true and leads to the rejection of the null hypothesis.\r\n",
        "\r\n",
        "\r\n",
        "\r\n"
      ]
    },
    {
      "cell_type": "markdown",
      "metadata": {
        "id": "eDSYM92vdwvw"
      },
      "source": [
        "### A two-sample bootstrap hypothesis test for difference of means\r\n",
        "\r\n",
        "We now want to test the hypothesis that `Frog A` and `Frog B` have the same mean impact force, but not necessarily the same distribution, which is also impossible with a permutation test.\r\n",
        "\r\n",
        "To do the two-sample bootstrap test, we shift both arrays to have the same mean, since we are simulating the hypothesis that their means are, in fact, equal. We then draw bootstrap samples out of the shifted arrays and compute the difference in means. This constitutes a bootstrap replicate, and we generate many of them. The `p-value` is the fraction of replicates with a difference in means greater than or equal to what was observed.\r\n",
        "\r\n",
        "The objects `forces_concat` and `empirical_diff_means` are already in your namespace"
      ]
    },
    {
      "cell_type": "markdown",
      "metadata": {
        "id": "Z6_xlgjmeBib"
      },
      "source": [
        "__Instructions__\r\n",
        "\r\n",
        "- Compute the mean of all forces (from `forces_concat`) using `np.mean()`.\r\n",
        "\r\n",
        "- Generate shifted data sets for both `force_a` and `force_b` such that the mean of each is the mean of the concatenated array of impact forces.\r\n",
        "\r\n",
        "- Generate `10,000` bootstrap replicates of the mean each for the two shifted arrays.\r\n",
        "\r\n",
        "- Compute the bootstrap replicates of the difference of means by subtracting the replicates of the shifted impact force of `Frog B` from those of `Frog A`.\r\n",
        "\r\n",
        "- Compute and print the p-value from your bootstrap replicates."
      ]
    },
    {
      "cell_type": "code",
      "metadata": {
        "id": "G2wgVldUd-yp"
      },
      "source": [
        "criteria_1 = df_frog['ID']=='I'\r\n",
        "criteria_2 = df_frog['ID']=='II'\r\n",
        "criteria_all = criteria_1 & criteria_2\r\n",
        "\r\n",
        "forces_concat = df_frog[criteria_all]\r\n",
        "forces_concat = df_frog['impact force / body weight']"
      ],
      "execution_count": 25,
      "outputs": []
    },
    {
      "cell_type": "code",
      "metadata": {
        "colab": {
          "base_uri": "https://localhost:8080/"
        },
        "id": "0iYAgEQa5Lmt",
        "outputId": "1103fcce-f5f6-4bac-bee8-9d6f1acf5a00"
      },
      "source": [
        "mean_force = np.mean(forces_concat)\r\n",
        "\r\n",
        "# Generate shifted arrays\r\n",
        "force_a_shifted = force_a - np.mean(force_a) + mean_force\r\n",
        "force_b_shifted = force_b - np.mean(force_b) + mean_force \r\n",
        "\r\n",
        "# Compute 10,000 bootstrap replicates from shifted arrays\r\n",
        "bs_replicates_a = draw_bs_reps(force_a_shifted, np.mean, size=10000)\r\n",
        "bs_replicates_b = draw_bs_reps(force_b_shifted, np.mean, size=10000)\r\n",
        "\r\n",
        "# Get replicates of difference of means: bs_replicates\r\n",
        "bs_replicates = bs_replicates_a - bs_replicates_b\r\n",
        "\r\n",
        "# Compute and print p-value: p\r\n",
        "p = np.sum(bs_replicates >= empirical_diff_means) / len(bs_replicates)\r\n",
        "print('p-value =', p)"
      ],
      "execution_count": 26,
      "outputs": [
        {
          "output_type": "stream",
          "text": [
            "p-value = 0.0033\n"
          ],
          "name": "stdout"
        }
      ]
    },
    {
      "cell_type": "markdown",
      "metadata": {
        "id": "9IJKTbHN5eyZ"
      },
      "source": [
        "We got a similar result as when you did the permutation test. Nonetheless, remember that it is important to carefully think about what question you want to ask. Are you only interested in the mean impact force, or in the distribution of impact forces?"
      ]
    },
    {
      "cell_type": "markdown",
      "metadata": {
        "id": "AY6_mKZU6MQe"
      },
      "source": [
        "## __A/B testing__"
      ]
    },
    {
      "cell_type": "markdown",
      "metadata": {
        "id": "KX8oPlbA9hKR"
      },
      "source": [
        "**A/B testing** (also known as **split testing**) is the process of **comparing two versions** of a web page, email, or other marketing asset and measuring the difference in performance. You do this giving by giving one version to one group and the other version to another group. Then you can see how each variation performs.\r\n",
        "\r\n",
        "A/B testing is often used by organizations to see if a change in strategy gives different, hopefully better results.\r\n",
        "\r\n",
        "**Null hypothesis** of an A/B test\r\n",
        "is that our __test statistic__ is impervious(not allowing to pass) to the change.\r\n",
        "\r\n",
        "A __low p-value__ implies that the change in strategy lead to a change in performance. \r\n",
        "\r\n",
        "Once again, though, be warned that __statistical significance__ does not mean __practical significance__. A difference in click-though rate may be statistically significant, but if it is only a couple people more per day, your marketing team may not consider the change worth the cost! __A/B testing is just a special case of the hypothesis testing framework.__"
      ]
    },
    {
      "cell_type": "markdown",
      "metadata": {
        "id": "cTtzI7XADCk_"
      },
      "source": [
        "### The vote for the Civil Rights Act in 1964\r\n",
        "\r\n",
        "The Civil Rights Act of 1964 was one of the most important pieces of legislation ever passed in the USA. Excluding \"present\" and \"abstain\" votes, 153 House Democrats and 136 Republicans voted yea. However, 91 Democrats and 35 Republicans voted nay. Did party affiliation make a difference in the vote?\r\n",
        "\r\n",
        "To answer this question, you will evaluate the hypothesis that the party of a House member has no bearing on his or her vote. You will use the fraction of Democrats voting in favor as your test statistic and evaluate the probability of observing a fraction of Democrats voting in favor at least as small as the observed fraction of 153/244. (That's right, at least as small as. In 1964, it was the Democrats who were less progressive on civil rights issues.) To do this, permute the party labels of the House voters and then arbitrarily divide them into \"Democrats\" and \"Republicans\" and compute the fraction of Democrats voting yea."
      ]
    },
    {
      "cell_type": "markdown",
      "metadata": {
        "id": "fGNRryKEDL2i"
      },
      "source": [
        "__Instructions__\r\n",
        "\r\n",
        "- Construct Boolean arrays, `dems` and `reps` that contain the votes of the respective parties; e.g., `dems` has `153` `True` entries and `91` `False` entries.\r\n",
        "\r\n",
        "- Write a function, `frac_yea_dems(dems, reps)` that returns the fraction of Democrats that voted yea. The first input is an array of Booleans, Two inputs are required to \r\n",
        "use your `draw_perm_reps()` function, but the second is not used.\r\n",
        "\r\n",
        "- Use your `draw_perm_reps()` function to draw 10,000 permutation replicates of the fraction of Democrat yea votes.\r\n",
        "\r\n",
        "- Compute and print the `p-value`.\r\n"
      ]
    },
    {
      "cell_type": "code",
      "metadata": {
        "colab": {
          "base_uri": "https://localhost:8080/"
        },
        "id": "uwACMpLn6L8o",
        "outputId": "7f35c860-c669-4480-865e-84ef18c4456d"
      },
      "source": [
        "# Construct arrays of data: dems, reps\r\n",
        "dems = np.array([True] * 153 + [False] * 91)\r\n",
        "reps = np.array([True] * 136 + [False] * 35)\r\n",
        "\r\n",
        "def frac_yea_dems(dems, reps):\r\n",
        "    \"\"\"Compute fraction of Democrat yea votes.\"\"\"\r\n",
        "    frac = np.sum(dems) / len(dems)\r\n",
        "    return frac\r\n",
        "\r\n",
        "# Acquire permutation samples: perm_replicates\r\n",
        "perm_replicates = draw_perm_reps(dems, reps, frac_yea_dems, size=10000)\r\n",
        "\r\n",
        "# Compute and print p-value: p\r\n",
        "p = np.sum(perm_replicates <= 153/244) / len(perm_replicates)\r\n",
        "print('p-value =', p)\r\n"
      ],
      "execution_count": 27,
      "outputs": [
        {
          "output_type": "stream",
          "text": [
            "p-value = 0.0\n"
          ],
          "name": "stdout"
        }
      ]
    },
    {
      "cell_type": "markdown",
      "metadata": {
        "id": "HQ6iOZLMEXUA"
      },
      "source": [
        "This **small p-value** suggests that **party identity had a lot to do with the voting**. Importantly, the South had a higher fraction of Democrat representatives, and consequently also a more racist bias."
      ]
    },
    {
      "cell_type": "markdown",
      "metadata": {
        "id": "_b8wTthhEeIE"
      },
      "source": [
        "### What is equivalent?\r\n",
        "\r\n",
        ">You have experience matching stories to probability distributions. Similarly, you use the same procedure for two different A/B tests if their stories match. In the Civil Rights Act example you just did, you performed an A/B test on voting data, which has a Yes/No type of outcome for each subject (in that case, a voter). Which of the following situations involving testing by a web-based company has an equivalent set up for an A/B test as the one you just did with the Civil Rights Act of 1964?\r\n",
        "\r\n",
        "$\\color{red}{\\textbf{Answer:}}$ You measure the number of people who click on an ad on your company's website before and after changing its color.\r\n",
        "\r\n",
        "The \"Democrats\" are those who view the ad before the color change, and the \"Republicans\" are those who view it after."
      ]
    },
    {
      "cell_type": "markdown",
      "metadata": {
        "id": "srSg02QtFMn5"
      },
      "source": [
        "### A time-on-website analog\r\n",
        "It turns out that you already did a hypothesis test analogous to an A/B test where you are interested in how much time is spent on the website before and after an ad campaign. The frog tongue force (a continuous quantity like time on the website) is an analog. `\"Before\" = Frog A` and `\"after\" = Frog B`. Let's practice this again with something that actually is a before/after scenario.\r\n",
        "\r\n",
        "We return to the no-hitter data set. In 1920, Major League Baseball implemented important rule changes that ended the so-called dead ball era. Importantly, the pitcher was no longer allowed to spit on or scuff the ball, an activity that greatly favors pitchers. In this problem you will perform an A/B test to determine if these rule changes resulted in a slower rate of no-hitters (i.e., longer average time between no-hitters) using the difference in mean inter-no-hitter time as your test statistic. The inter-no-hitter times for the respective eras are stored in the arrays `nht_dead` and `nht_live`, where \"nht\" is meant to stand for \"no-hitter time.\"\r\n",
        "\r\n",
        "We will be using your `draw_perm_reps()` function & its call signature: `draw_perm_reps(d1, d2, func, size=1)` \r\n",
        "\r\n",
        "__Instructions__\r\n",
        "\r\n",
        "- Compute the observed difference in mean inter-nohitter time using `diff_of_means()`.\r\n",
        "\r\n",
        "- Generate 10,000 permutation replicates of the difference of means using `draw_perm_reps()`.\r\n",
        "\r\n",
        "- Compute and print the `p-value`.\r\n"
      ]
    },
    {
      "cell_type": "markdown",
      "metadata": {
        "id": "L_azql__L0Mw"
      },
      "source": [
        "__Dead Ball vs. Live Ball Eras__\r\n",
        "\r\n",
        "In 1920 there were several rule changes in baseball that contributed to a rise in offensive numbers, the era before 1920 is known as the dead ball era, and the subsequent years is known as the live ball era.\r\n",
        "\r\n",
        "Now that we know the process is exponentially distributed, lets find out if there is a statistical significance in the mean between the dead ball and live ball eras.\r\n",
        "\r\n",
        "First let’s create two arrays, one for the dead ball era and one for the live ball era.__"
      ]
    },
    {
      "cell_type": "code",
      "metadata": {
        "id": "270IbGO1LkAF"
      },
      "source": [
        "nht_dead = np.array([  -1,  894,   10,  130,    1,  934,   29,    6,  485,  254,  372,\r\n",
        "         81,  191,  355,  180,  286,   47,  269,  361,  173,  246,  492,\r\n",
        "        462, 1319,   58,  297,   31, 2970,  640,  237,  434,  570,   77,\r\n",
        "        271,  563, 3365,   89,    0,  379,  221,  479,  367,  628,  843,\r\n",
        "       1613, 1101,  215,  684,  814,  278,  324,  161,  219,  545,  715,\r\n",
        "        966,  624,   29,  450,  107,   20,   91, 1325,  124, 1468,  104,\r\n",
        "       1309,  429,   62, 1878, 1104,  123,  251,   93,  188,  983,  166,\r\n",
        "         96,  702,   23,  524,   26,  299,   59,   39,   12,    2,  308,\r\n",
        "       1114,  813,  887])\r\n",
        " \r\n",
        "nht_live = np.array([ 645, 2088,   42, 2090,   11,  886, 1665, 1084, 2900, 2432,  750,\r\n",
        "       4021, 1070, 1765, 1322,   26,  548, 1525,   77, 2181, 2752,  127,\r\n",
        "       2147,  211,   41, 1575,  151,  479,  697,  557, 2267,  542,  392,\r\n",
        "         73,  603,  233,  255,  528,  397, 1529, 1023, 1194,  462,  583,\r\n",
        "         37,  943,  996,  480, 1497,  717,  224,  219, 1531,  498,   44,\r\n",
        "        288,  267,  600,   52,  269, 1086,  386,  176, 2199,  216,   54,\r\n",
        "        675, 1243,  463,  650,  171,  327,  110,  774,  509,    8,  197,\r\n",
        "        136,   12, 1124,   64,  380,  811,  232,  192,  731,  715,  226,\r\n",
        "        605,  539, 1491,  323,  240,  179,  702,  156,   82, 1397,  354,\r\n",
        "        778,  603, 1001,  385,  986,  203,  149,  576,  445,  180, 1403,\r\n",
        "        252,  675, 1351, 2983, 1568,   45,  899, 3260, 1025,   31,  100,\r\n",
        "       2055, 4043,   79,  238, 3931, 2351,  595,  110,  215,    0,  563,\r\n",
        "        206,  660,  242,  577,  179,  157,  192,  192, 1848,  792, 1693,\r\n",
        "         55,  388,  225, 1134, 1172, 1555,   31, 1582, 1044,  378, 1687,\r\n",
        "       2915,  280,  765, 2819,  511, 1521,  745, 2491,  580, 2072, 6450,\r\n",
        "        578,  745, 1075, 1103, 1549, 1520,  138, 1202,  296,  277,  351,\r\n",
        "        391,  950,  459,   62, 1056, 1128,  139,  420,   87,   71,  814,\r\n",
        "        603, 1349,  162, 1027,  783,  326,  101,  876,  381,  905,  156,\r\n",
        "        419,  239,  119,  129,  467])"
      ],
      "execution_count": 28,
      "outputs": []
    },
    {
      "cell_type": "code",
      "metadata": {
        "colab": {
          "base_uri": "https://localhost:8080/",
          "height": 465
        },
        "id": "2ryVYDt7E2Se",
        "outputId": "8555eef9-2b5a-4aec-f657-fa83c0dbf341"
      },
      "source": [
        "# Compute the observed difference in mean inter-no-hitter times: nht_diff_obs\r\n",
        "nht_diff_obs = diff_of_means(nht_dead, nht_live)\r\n",
        "\r\n",
        "# Acquire 10,000 permutation replicates of difference in mean no-hitter time: perm_replicates\r\n",
        "perm_replicates = draw_perm_reps(nht_dead, nht_live,\r\n",
        "                                 diff_of_means, size=10000)\r\n",
        "\r\n",
        "# Compute and print the p-value: p\r\n",
        "p = np.sum(perm_replicates <= nht_diff_obs) / len(perm_replicates)\r\n",
        "print('p-val =',p)\r\n",
        "\r\n",
        "# Plot Style\r\n",
        "plt.style.use('ggplot')\r\n",
        "\r\n",
        "# Plot Size\r\n",
        "_ = plt.figure(figsize=(12, 7), facecolor='lightgray')\r\n",
        "\r\n",
        "# Ploting the graph\r\n",
        "plt.hist(perm_replicates,bins=50)\r\n",
        "plt.xlabel('Avg # of games between no-hitters (bootstrap)')\r\n",
        "plt.ylabel('PDF')\r\n",
        "plt.show()"
      ],
      "execution_count": 29,
      "outputs": [
        {
          "output_type": "stream",
          "text": [
            "p-val = 0.0001\n"
          ],
          "name": "stdout"
        },
        {
          "output_type": "display_data",
          "data": {
            "image/png": "[encoded data removed]",
            "text/plain": [
              "<Figure size 864x504 with 1 Axes>"
            ]
          },
          "metadata": {
            "tags": []
          }
        }
      ]
    },
    {
      "cell_type": "markdown",
      "metadata": {
        "id": "7AGnJI-2NT4i"
      },
      "source": [
        "Our p-value is 0.0001, which means that only one out of your 10,000 replicates had a result as extreme as the actual difference between the dead ball and live ball eras. This suggests strong statistical significance.\r\n",
        "\r\n",
        "Watch out, though, you could very well have gotten zero replicates that were as extreme as the observed value. This just means that the p-value is quite small, almost certainly smaller than 0.001."
      ]
    },
    {
      "cell_type": "markdown",
      "metadata": {
        "id": "9hcHDYP9UZXg"
      },
      "source": [
        "### __What should you have done first?__\r\n",
        "\r\n",
        ">__That was a nice hypothesis test you just did to check out whether the rule changes in 1920 changed the rate of no-hitters. But what should you have done with the data first?__\r\n",
        "\r\n",
        "\r\n",
        "$\\color{red}{\\textbf{Answer:}}$ Performed EDA, perhaps plotting the ECDFs of inter-no-hitter times in the dead ball and live ball eras.\r\n",
        "\r\n",
        "Yes! Always a good idea to do first! I encourage you to go ahead and plot the ECDFs right now. You will see by eye that the null hypothesis that the distributions are the same is almost certainly not true.\r\n"
      ]
    },
    {
      "cell_type": "markdown",
      "metadata": {
        "id": "trRdmywaU1BB"
      },
      "source": [
        "## __Test of correlation__\r\n"
      ]
    },
    {
      "cell_type": "markdown",
      "metadata": {
        "id": "gbZ_LRwmVE1k"
      },
      "source": [
        "In the prequel to this exercises, we computed the **Pearson correlation coefficient** between **Obama's vote share** and the **total number of votes**.\r\n",
        "\r\n",
        "Remember the **Pearson correlation** coefficient is a measure of how much of the variability in two variables is due to them being correlated. \r\n",
        "\r\n",
        "It ranges from ${-1}$ for totally negatively correlated to ${+1}$ for positively correlated. \r\n",
        "\r\n",
        "> We got a value of about ${0.54}$.\r\n",
        "\r\n",
        "***This value of the Pearson correlation indicates that the data are not perfectly correlated, but are correlated nonetheless.***\r\n",
        "\r\n",
        "---\r\n",
        "### __But how can we know for sure if this correlation is real, or if it could have happened just by chance?__\r\n",
        "---\r\n",
        ">__We can do a hypothesis test! __\r\n",
        "\r\n",
        "- We posit a null hypothesis that there is no correlation between the two variables, in this case Obama's vote share and total votes.\r\n",
        "\r\n",
        "- We then simulate the election assuming the null hypothesis is true\r\n",
        "\r\n",
        "- and use the Pearson correlation coefficient as the test statistic. \r\n",
        "\r\n",
        "- The p-value is then the fraction of replicates that have a Pearson correlation coefficient at least as large as what was observed."
      ]
    },
    {
      "cell_type": "markdown",
      "metadata": {
        "id": "ccpxUpetWu45"
      },
      "source": [
        "### Simulating a null hypothesis concerning correlation\r\n",
        "\r\n",
        "The observed correlation between female illiteracy and fertility in the data set of 162 countries may just be by chance; the fertility of a given country may actually be totally independent of its illiteracy. You will test this null hypothesis in the next exercise.\r\n",
        "\r\n",
        "To do the test, you need to simulate the data assuming the null hypothesis is true. Of the following choices, which is the best way to do it?\r\n",
        "\r\n",
        ">__Answer:__ Do a permutation test: Permute the illiteracy values but leave the fertility values fixed to generate a new set of (illiteracy, fertility) data.\r\n",
        "\r\n",
        "__Do a permutation test:__ Permute the illiteracy values but leave the fertility values fixed to generate a new set of (illiteracy, fertility) data."
      ]
    },
    {
      "cell_type": "markdown",
      "metadata": {
        "id": "CK1Y9YkWX2VB"
      },
      "source": [
        "### Hypothesis test on Pearson correlation\r\n",
        "\r\n",
        "The observed correlation between female **illiteracy **and **fertility** may just be by chance; the fertility of a given country may actually be totally independent of its illiteracy. You will test this hypothesis. To do so, permute the illiteracy values but leave the fertility values fixed. This simulates the hypothesis that they are totally independent of each other. For each permutation, compute the Pearson correlation coefficient and assess how many of your permutation replicates have a Pearson correlation coefficient greater than the observed one.\r\n",
        "\r\n",
        "The function `pearson_r()` that you wrote in the prequel to this course for computing the Pearson correlation coefficient is already in your name space."
      ]
    },
    {
      "cell_type": "markdown",
      "metadata": {
        "id": "HW7P4VmSYJop"
      },
      "source": [
        "__Instructions__\r\n",
        "\r\n",
        "- Compute the observed Pearson correlation between illiteracy and fertility.\r\n",
        "\r\n",
        "- Initialize an array to store your permutation replicates.\r\n",
        "Write a for loop to draw 10,000 replicates:\r\n",
        "\r\n",
        "- Permute the illiteracy measurements using np.random.permutation().\r\n",
        "\r\n",
        "    - Compute the Pearson correlation between the permuted illiteracy array, illiteracy_permuted, and fertility.\r\n",
        "\r\n",
        "    - Compute and print the p-value from the replicates."
      ]
    },
    {
      "cell_type": "code",
      "metadata": {
        "id": "Y1V32BxyypXl",
        "colab": {
          "base_uri": "https://localhost:8080/",
          "height": 197
        },
        "outputId": "34a81f9a-9eb0-49f8-85a6-eae8865636c3"
      },
      "source": [
        "# loading female_literacy_fertility.csv into the pandas dataframe\r\n",
        "df_fertility = pd.read_csv('female_literacy_fertility.csv')\r\n",
        "df_fertility.head()"
      ],
      "execution_count": 30,
      "outputs": [
        {
          "output_type": "execute_result",
          "data": {
            "text/html": [
              "<div>\n",
              "<style scoped>\n",
              "    .dataframe tbody tr th:only-of-type {\n",
              "        vertical-align: middle;\n",
              "    }\n",
              "\n",
              "    .dataframe tbody tr th {\n",
              "        vertical-align: top;\n",
              "    }\n",
              "\n",
              "    .dataframe thead th {\n",
              "        text-align: right;\n",
              "    }\n",
              "</style>\n",
              "<table border=\"1\" class=\"dataframe\">\n",
              "  <thead>\n",
              "    <tr style=\"text-align: right;\">\n",
              "      <th></th>\n",
              "      <th>Country</th>\n",
              "      <th>Continent</th>\n",
              "      <th>female literacy</th>\n",
              "      <th>fertility</th>\n",
              "      <th>population</th>\n",
              "    </tr>\n",
              "  </thead>\n",
              "  <tbody>\n",
              "    <tr>\n",
              "      <th>0</th>\n",
              "      <td>Chine</td>\n",
              "      <td>ASI</td>\n",
              "      <td>90.5</td>\n",
              "      <td>1.769</td>\n",
              "      <td>1,324,655,000</td>\n",
              "    </tr>\n",
              "    <tr>\n",
              "      <th>1</th>\n",
              "      <td>Inde</td>\n",
              "      <td>ASI</td>\n",
              "      <td>50.8</td>\n",
              "      <td>2.682</td>\n",
              "      <td>1,139,964,932</td>\n",
              "    </tr>\n",
              "    <tr>\n",
              "      <th>2</th>\n",
              "      <td>USA</td>\n",
              "      <td>NAM</td>\n",
              "      <td>99.0</td>\n",
              "      <td>2.077</td>\n",
              "      <td>304,060,000</td>\n",
              "    </tr>\n",
              "    <tr>\n",
              "      <th>3</th>\n",
              "      <td>Indonésie</td>\n",
              "      <td>ASI</td>\n",
              "      <td>88.8</td>\n",
              "      <td>2.132</td>\n",
              "      <td>227,345,082</td>\n",
              "    </tr>\n",
              "    <tr>\n",
              "      <th>4</th>\n",
              "      <td>Brésil</td>\n",
              "      <td>LAT</td>\n",
              "      <td>90.2</td>\n",
              "      <td>1.827</td>\n",
              "      <td>191,971,506</td>\n",
              "    </tr>\n",
              "  </tbody>\n",
              "</table>\n",
              "</div>"
            ],
            "text/plain": [
              "    Country  Continent  female literacy  fertility     population\n",
              "0      Chine       ASI             90.5      1.769  1,324,655,000\n",
              "1       Inde       ASI             50.8      2.682  1,139,964,932\n",
              "2        USA       NAM             99.0      2.077    304,060,000\n",
              "3  Indonésie       ASI             88.8      2.132    227,345,082\n",
              "4     Brésil       LAT             90.2      1.827    191,971,506"
            ]
          },
          "metadata": {
            "tags": []
          },
          "execution_count": 30
        }
      ]
    },
    {
      "cell_type": "code",
      "metadata": {
        "colab": {
          "base_uri": "https://localhost:8080/"
        },
        "id": "7qjIm8lgJw-j",
        "outputId": "6b9edcc3-29a9-4272-ffed-6510205f6f95"
      },
      "source": [
        "# pearson Funtion\r\n",
        "def pearson_r(x, y):\r\n",
        "    \"\"\"Compute Pearson correlation coefficient between two arrays\r\n",
        "    \r\n",
        "    Args:\r\n",
        "        x: arrays\r\n",
        "        y: arrays\r\n",
        "        \r\n",
        "    returns:\r\n",
        "        r: int\r\n",
        "    \"\"\"\r\n",
        "    # Compute correlation matrix: corr_mat\r\n",
        "    corr_mat = np.corrcoef(x, y)\r\n",
        "    \r\n",
        "    # Return entry[0, 1]\r\n",
        "    return corr_mat[0, 1]\r\n",
        "\r\n",
        "illiteracy = np.array(df_fertility['female literacy'])\r\n",
        "fertility  = np.array(df_fertility['fertility'])\r\n",
        "\r\n",
        "# Show the Pearson correlation coefficient\r\n",
        "print('Pearson correlation coefficient: {}'.format(pearson_r(illiteracy, fertility)))\r\n",
        "\r\n",
        "# Compute observed correlation: r_obs\r\n",
        "r_obs = pearson_r(illiteracy, fertility)\r\n",
        "\r\n",
        "# Initialize permutation replicates: perm_replicates\r\n",
        "perm_replicates = np.empty(10000)\r\n",
        "\r\n",
        "# Draw replicates\r\n",
        "for i in range(10000):\r\n",
        "    # Permute illiteracy measurments: illiteracy_permuted\r\n",
        "    illiteracy_permuted = np.random.permutation(illiteracy)\r\n",
        "\r\n",
        "    # Compute Pearson correlation\r\n",
        "    perm_replicates[i] = pearson_r(illiteracy_permuted, fertility)\r\n",
        "\r\n",
        "# Compute p-value: p\r\n",
        "p = np.sum(perm_replicates >= r_obs) / len(perm_replicates)\r\n",
        "print('p-val =', p)"
      ],
      "execution_count": 31,
      "outputs": [
        {
          "output_type": "stream",
          "text": [
            "Pearson correlation coefficient: -0.8041324026815341\n",
            "p-val = 1.0\n"
          ],
          "name": "stdout"
        }
      ]
    },
    {
      "cell_type": "markdown",
      "metadata": {
        "id": "dEHjRZw3aYyP"
      },
      "source": [
        ">**Here we got the p-val= 1.0.**\r\n",
        "\r\n",
        "**if we got a p-value of zero**. In hacker statistics, this means that your p-value is very low, since you never got a single replicate in the 10,000 you took that had a Pearson correlation greater than the observed one. You could try increasing the number of replicates you take to continue to move the upper bound on your p-value lower and lower."
      ]
    },
    {
      "cell_type": "markdown",
      "metadata": {
        "id": "p2NqO5czaYlf"
      },
      "source": [
        "### Do neonicotinoid insecticides have unintended consequences?\r\n",
        "\r\n",
        "As a final exercise in hypothesis testing before we put everything together in our case study in the next chapter, you will investigate the effects of neonicotinoid insecticides on bee reproduction. These insecticides are very widely used in the United States to combat aphids and other pests that damage plants.\r\n",
        "\r\n",
        "In a recent study, Straub, et al. (__Proc. Roy. Soc. B, 2016__) investigated the effects of neonicotinoids on the sperm of pollinating bees. In this and the next exercise, you will study how the pesticide treatment affected the count of live sperm per half milliliter of semen.\r\n",
        "\r\n",
        "First, we will do EDA, as usual. Plot ECDFs of the alive sperm count for untreated bees (stored in the Numpy array `control`) and bees treated with pesticide (stored in the Numpy array `treated`)."
      ]
    },
    {
      "cell_type": "markdown",
      "metadata": {
        "id": "dF20JSgAbAVl"
      },
      "source": [
        "__Instructions__\r\n",
        "\r\n",
        "- Use your `ecdf()` function to generate `x,y` values from the control and treated arrays for plotting the ECDFs.\r\n",
        "\r\n",
        "- Plot the `ECDFs` on the same plot.\r\n"
      ]
    },
    {
      "cell_type": "code",
      "metadata": {
        "colab": {
          "base_uri": "https://localhost:8080/",
          "height": 267
        },
        "id": "AgupqwpOd_vf",
        "outputId": "8b5ca27b-212b-4303-9693-b0df7fd6449a"
      },
      "source": [
        "df_beesp = pd.read_csv('bee_sperm.csv', skiprows=3)\r\n",
        "df_beesp.head() "
      ],
      "execution_count": 32,
      "outputs": [
        {
          "output_type": "execute_result",
          "data": {
            "text/html": [
              "<div>\n",
              "<style scoped>\n",
              "    .dataframe tbody tr th:only-of-type {\n",
              "        vertical-align: middle;\n",
              "    }\n",
              "\n",
              "    .dataframe tbody tr th {\n",
              "        vertical-align: top;\n",
              "    }\n",
              "\n",
              "    .dataframe thead th {\n",
              "        text-align: right;\n",
              "    }\n",
              "</style>\n",
              "<table border=\"1\" class=\"dataframe\">\n",
              "  <thead>\n",
              "    <tr style=\"text-align: right;\">\n",
              "      <th></th>\n",
              "      <th>Specimen</th>\n",
              "      <th>Treatment</th>\n",
              "      <th>Environment</th>\n",
              "      <th>TreatmentNCSS</th>\n",
              "      <th>Sample ID</th>\n",
              "      <th>Colony</th>\n",
              "      <th>Cage</th>\n",
              "      <th>Sample</th>\n",
              "      <th>Sperm Volume per 500 ul</th>\n",
              "      <th>Quantity</th>\n",
              "      <th>ViabilityRaw (%)</th>\n",
              "      <th>Quality</th>\n",
              "      <th>Age (d)</th>\n",
              "      <th>Infertil</th>\n",
              "      <th>AliveSperm</th>\n",
              "      <th>Quantity Millions</th>\n",
              "      <th>Alive Sperm Millions</th>\n",
              "      <th>Dead Sperm Millions</th>\n",
              "    </tr>\n",
              "  </thead>\n",
              "  <tbody>\n",
              "    <tr>\n",
              "      <th>0</th>\n",
              "      <td>227</td>\n",
              "      <td>Control</td>\n",
              "      <td>Cage</td>\n",
              "      <td>1</td>\n",
              "      <td>C2-1-1</td>\n",
              "      <td>2</td>\n",
              "      <td>1</td>\n",
              "      <td>1</td>\n",
              "      <td>2150000</td>\n",
              "      <td>2150000</td>\n",
              "      <td>96.7263814616756</td>\n",
              "      <td>96.726381</td>\n",
              "      <td>14</td>\n",
              "      <td>0</td>\n",
              "      <td>2079617</td>\n",
              "      <td>2.1500</td>\n",
              "      <td>2.079617</td>\n",
              "      <td>0.070383</td>\n",
              "    </tr>\n",
              "    <tr>\n",
              "      <th>1</th>\n",
              "      <td>228</td>\n",
              "      <td>Control</td>\n",
              "      <td>Cage</td>\n",
              "      <td>1</td>\n",
              "      <td>C2-1-2</td>\n",
              "      <td>2</td>\n",
              "      <td>1</td>\n",
              "      <td>2</td>\n",
              "      <td>2287500</td>\n",
              "      <td>2287500</td>\n",
              "      <td>96.3498079760595</td>\n",
              "      <td>96.349808</td>\n",
              "      <td>14</td>\n",
              "      <td>0</td>\n",
              "      <td>2204001</td>\n",
              "      <td>2.2875</td>\n",
              "      <td>2.204001</td>\n",
              "      <td>0.083499</td>\n",
              "    </tr>\n",
              "    <tr>\n",
              "      <th>2</th>\n",
              "      <td>229</td>\n",
              "      <td>Control</td>\n",
              "      <td>Cage</td>\n",
              "      <td>1</td>\n",
              "      <td>C2-1-3</td>\n",
              "      <td>2</td>\n",
              "      <td>1</td>\n",
              "      <td>3</td>\n",
              "      <td>87500</td>\n",
              "      <td>87500</td>\n",
              "      <td>98.75</td>\n",
              "      <td>98.750000</td>\n",
              "      <td>14</td>\n",
              "      <td>0</td>\n",
              "      <td>86406</td>\n",
              "      <td>0.0875</td>\n",
              "      <td>0.086406</td>\n",
              "      <td>0.001094</td>\n",
              "    </tr>\n",
              "    <tr>\n",
              "      <th>3</th>\n",
              "      <td>230</td>\n",
              "      <td>Control</td>\n",
              "      <td>Cage</td>\n",
              "      <td>1</td>\n",
              "      <td>C2-1-4</td>\n",
              "      <td>2</td>\n",
              "      <td>1</td>\n",
              "      <td>4</td>\n",
              "      <td>1875000</td>\n",
              "      <td>1875000</td>\n",
              "      <td>93.2874208336941</td>\n",
              "      <td>93.287421</td>\n",
              "      <td>14</td>\n",
              "      <td>0</td>\n",
              "      <td>1749139</td>\n",
              "      <td>1.8750</td>\n",
              "      <td>1.749139</td>\n",
              "      <td>0.125861</td>\n",
              "    </tr>\n",
              "    <tr>\n",
              "      <th>4</th>\n",
              "      <td>231</td>\n",
              "      <td>Control</td>\n",
              "      <td>Cage</td>\n",
              "      <td>1</td>\n",
              "      <td>C2-1-5</td>\n",
              "      <td>2</td>\n",
              "      <td>1</td>\n",
              "      <td>5</td>\n",
              "      <td>1587500</td>\n",
              "      <td>1587500</td>\n",
              "      <td>97.7925061050061</td>\n",
              "      <td>97.792506</td>\n",
              "      <td>14</td>\n",
              "      <td>0</td>\n",
              "      <td>1552456</td>\n",
              "      <td>1.5875</td>\n",
              "      <td>1.552456</td>\n",
              "      <td>0.035044</td>\n",
              "    </tr>\n",
              "  </tbody>\n",
              "</table>\n",
              "</div>"
            ],
            "text/plain": [
              "   Specimen Treatment  ... Alive Sperm Millions  Dead Sperm Millions\n",
              "0       227   Control  ...             2.079617             0.070383\n",
              "1       228   Control  ...             2.204001             0.083499\n",
              "2       229   Control  ...             0.086406             0.001094\n",
              "3       230   Control  ...             1.749139             0.125861\n",
              "4       231   Control  ...             1.552456             0.035044\n",
              "\n",
              "[5 rows x 18 columns]"
            ]
          },
          "metadata": {
            "tags": []
          },
          "execution_count": 32
        }
      ]
    },
    {
      "cell_type": "code",
      "metadata": {
        "colab": {
          "base_uri": "https://localhost:8080/"
        },
        "id": "3tCCCQ16hVSm",
        "outputId": "9fcdfb79-1d76-4a58-ec00-cf40d0192103"
      },
      "source": [
        "df_beesp.columns"
      ],
      "execution_count": 33,
      "outputs": [
        {
          "output_type": "execute_result",
          "data": {
            "text/plain": [
              "Index(['Specimen', 'Treatment', 'Environment', 'TreatmentNCSS', 'Sample ID',\n",
              "       'Colony', 'Cage', 'Sample', 'Sperm Volume per 500 ul', 'Quantity',\n",
              "       'ViabilityRaw (%)', 'Quality', 'Age (d)', 'Infertil', 'AliveSperm',\n",
              "       'Quantity Millions', 'Alive Sperm Millions', 'Dead Sperm Millions'],\n",
              "      dtype='object')"
            ]
          },
          "metadata": {
            "tags": []
          },
          "execution_count": 33
        }
      ]
    },
    {
      "cell_type": "code",
      "metadata": {
        "id": "xoCq4-xffus4"
      },
      "source": [
        "df_control = df_beesp.loc[df_beesp['Treatment'] == 'Control']\r\n",
        "df_treated = df_beesp.loc[df_beesp['Treatment'] == 'Pesticide']\r\n",
        "\r\n",
        "control = df_control['Alive Sperm Millions']\r\n",
        "treated = df_treated['Alive Sperm Millions'] "
      ],
      "execution_count": 34,
      "outputs": []
    },
    {
      "cell_type": "code",
      "metadata": {
        "colab": {
          "base_uri": "https://localhost:8080/",
          "height": 447
        },
        "id": "r8DyDyX0aWOU",
        "outputId": "5bd859d7-b44e-49ef-fd20-329ce2f2de9d"
      },
      "source": [
        "# ECDF Func\r\n",
        "def ecdf(data):\r\n",
        "    \"\"\"Compute ECDF for a one-dimensional array of measurements.\"\"\"\r\n",
        "    # Number of data points: n\r\n",
        "    n = len(data)\r\n",
        "\r\n",
        "    # x-data for the ECDF: x\r\n",
        "    x = np.sort(data)\r\n",
        "\r\n",
        "    # y-data for the ECDF: y\r\n",
        "    y = np.arange(1, n+1) / n\r\n",
        "\r\n",
        "    return x, y\r\n",
        "\r\n",
        "# Compute x,y values for ECDFs\r\n",
        "x_control, y_control = ecdf(control)\r\n",
        "x_treated, y_treated = ecdf(treated)\r\n",
        "\r\n",
        "# Plot Style\r\n",
        "plt.style.use('ggplot')\r\n",
        "\r\n",
        "# Plot Size\r\n",
        "_ = plt.figure(figsize=(12, 7), facecolor='lightgray')\r\n",
        "\r\n",
        "# Plot the ECDFs\r\n",
        "_ = plt.plot(x_control, y_control, marker='.', linestyle='none')\r\n",
        "_ = plt.plot(x_treated, y_treated, marker='.', linestyle='none')\r\n",
        "\r\n",
        "# Set the margins\r\n",
        "_ = plt.margins(0.02)\r\n",
        "\r\n",
        "# Add a legend\r\n",
        "_ = plt.legend(('control', 'treated'), loc='lower right')\r\n",
        "\r\n",
        "# Label axes and show plot\r\n",
        "_ = plt.margins(0.02)\r\n",
        "_ = plt.xlabel('millions of alive sperm per mL')\r\n",
        "_ = plt.ylabel('ECDF')\r\n",
        "plt.show()"
      ],
      "execution_count": 35,
      "outputs": [
        {
          "output_type": "display_data",
          "data": {
            "image/png": "[encoded data removed]",
            "text/plain": [
              "<Figure size 864x504 with 1 Axes>"
            ]
          },
          "metadata": {
            "tags": []
          }
        }
      ]
    },
    {
      "cell_type": "markdown",
      "metadata": {
        "id": "3UbiU6sAd1gn"
      },
      "source": [
        "The ECDFs show a pretty clear difference between the treatment and control; treated bees have fewer alive sperm. Let's now do a hypothesis test in the next exercise."
      ]
    },
    {
      "cell_type": "markdown",
      "metadata": {
        "id": "sqh7q7GyiWZ8"
      },
      "source": [
        "### Bootstrap hypothesis test on bee sperm counts\r\n",
        "\r\n",
        "Now, you will test the following hypothesis: On average, male bees treated with neonicotinoid insecticide have the same number of active sperm per milliliter of semen than do untreated male bees. You will use the difference of means as your test statistic.\r\n",
        "\r\n",
        "For your reference, the call signature for the `draw_bs_reps()`"
      ]
    },
    {
      "cell_type": "markdown",
      "metadata": {
        "id": "iFpHzxCBB8CO"
      },
      "source": [
        "__Instruction__\r\n",
        "\r\n",
        "- Compute the mean alive sperm count of control minus that of `treated`.\r\n",
        "\r\n",
        "- Compute the mean of all alive sperm counts. To do this, first concatenate `control` and `treated` and take the mean of the concatenated array.\r\n",
        "\r\n",
        "- Generate shifted data sets for both control and treated such that the shifted data sets have the same mean. This has already been done for you.\r\n",
        "\r\n",
        "- Generate 10,000 bootstrap replicates of the mean each for the two shifted arrays. Use your `draw_bs_reps()` function.\r\n",
        "\r\n",
        "- Compute the bootstrap replicates of the difference of means.\r\n",
        "\r\n",
        "- The code to compute and print the p-value "
      ]
    },
    {
      "cell_type": "code",
      "metadata": {
        "id": "QNKJkC4maWFj",
        "colab": {
          "base_uri": "https://localhost:8080/"
        },
        "outputId": "ed87578c-8221-477c-a062-d370da1346b3"
      },
      "source": [
        "def draw_bs_reps(data, func, size=1):\r\n",
        "    \"\"\"Draw bootstrap replicates.\"\"\"\r\n",
        "    # Initialize array of replicates\r\n",
        "    bs_replicates = np.empty(size)\r\n",
        "    # Generate replicates\r\n",
        "    for i in range(size):\r\n",
        "        bs_replicates[i] = bootstrap_replicate_1d(data, func)\r\n",
        "    return bs_replicates\r\n",
        "\r\n",
        "df_control = df_beesp.loc[df_beesp['Treatment'] == 'Control']\r\n",
        "df_treated = df_beesp.loc[df_beesp['Treatment'] == 'Pesticide']\r\n",
        "\r\n",
        "control = df_control['Alive Sperm Millions']\r\n",
        "treated = df_treated['Alive Sperm Millions'] \r\n",
        "\r\n",
        "# Compute the difference in mean sperm count: diff_means\r\n",
        "diff_means = np.mean(control) - np.mean(treated)\r\n",
        "\r\n",
        "# Compute mean of pooled data: mean_count\r\n",
        "mean_count = np.mean(np.concatenate((control, treated)))\r\n",
        "\r\n",
        "# Generate shifted data sets\r\n",
        "control_shifted = control - np.mean(control) + mean_count\r\n",
        "treated_shifted = treated - np.mean(treated) + mean_count\r\n",
        "\r\n",
        "# Generate bootstrap replicates\r\n",
        "bs_reps_control = draw_bs_reps(control_shifted,\r\n",
        "                               np.mean, size=10000)\r\n",
        "bs_reps_treated = draw_bs_reps(treated_shifted,\r\n",
        "                               np.mean, size=10000)\r\n",
        "\r\n",
        "# Get replicates of difference of means: bs_replicates\r\n",
        "bs_replicates = bs_reps_control - bs_reps_treated\r\n",
        "\r\n",
        "# Compute and print p-value: p\r\n",
        "p = np.sum(bs_replicates >= np.mean(control) - np.mean(treated)) \\\r\n",
        "            / len(bs_replicates)\r\n",
        "print('p-value =', p)"
      ],
      "execution_count": 36,
      "outputs": [
        {
          "output_type": "stream",
          "text": [
            "p-value = 0.0\n"
          ],
          "name": "stdout"
        }
      ]
    },
    {
      "cell_type": "markdown",
      "metadata": {
        "id": "stesT_1zDIIp"
      },
      "source": [
        "The `p-value` is small, most likely less than `0.0001`, since you never saw a bootstrap replicated with a difference of means at least as extreme as what was observed. In fact, when I did the calculation with 10 million replicates, I got a p-value of __2e-05__."
      ]
    },
    {
      "cell_type": "markdown",
      "metadata": {
        "id": "3sMgbuSP8X9I"
      },
      "source": [
        "<p align='center'> \r\n",
        "    <a href=\"https://twitter.com/F4izy\"> \r\n",
        "        <img src=\"https://th.bing.com/th/id/OIP.FCKMemzqNplY37Jwi0Yk3AHaGl?w=233&h=207&c=7&o=5&pid=1.7\" width=50px \r\n",
        "            height=50px> \r\n",
        "    </a> \r\n",
        "    <a href=\"https://www.linkedin.com/in/mohd-faizy/\"> \r\n",
        "        <img src='https://th.bing.com/th/id/OIP.idrBN-LfvMIZl370Vb65SgHaHa?pid=Api&rs=1' width=50px height=50px> \r\n",
        "    </a> \r\n",
        "</p>"
      ]
    }
  ]
}