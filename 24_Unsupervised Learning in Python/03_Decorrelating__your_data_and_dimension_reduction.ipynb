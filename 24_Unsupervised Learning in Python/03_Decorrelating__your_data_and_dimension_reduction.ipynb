{
  "nbformat": 4,
  "nbformat_minor": 0,
  "metadata": {
    "colab": {
      "name": "03_Decorrelating _your_data_and_dimension_reduction.ipynb",
      "provenance": [],
      "collapsed_sections": [],
      "toc_visible": true,
      "authorship_tag": "ABX9TyPadScoVfoPI0Foz6QBmXZp",
      "include_colab_link": true
    },
    "kernelspec": {
      "name": "python3",
      "display_name": "Python 3"
    }
  },
  "cells": [
    {
      "cell_type": "markdown",
      "metadata": {
        "id": "view-in-github",
        "colab_type": "text"
      },
      "source": [
        "<a href=\"https://colab.research.google.com/github/mohd-faizy/CAREER-TRACK-Data-Scientist-with-Python/blob/main/03_Decorrelating__your_data_and_dimension_reduction.ipynb\" target=\"_parent\"><img src=\"https://colab.research.google.com/assets/colab-badge.svg\" alt=\"Open In Colab\"/></a>"
      ]
    },
    {
      "cell_type": "markdown",
      "metadata": {
        "id": "BSuEABPa0--s"
      },
      "source": [
        "--- \r\n",
        "<strong> \r\n",
        "    <h1 align='center'>Decorrelating your data and dimension reduction</h1> \r\n",
        "</strong>\r\n",
        "\r\n",
        "---\r\n"
      ]
    },
    {
      "cell_type": "markdown",
      "metadata": {
        "id": "O9wIaP1hBY9F"
      },
      "source": [
        ">**Dimension reduction summarizes a dataset using its common occuring patterns.** \r\n",
        "\r\n",
        "In this Notebook, we'll learn about the most fundamental of dimension reduction techniques, \"**Principal Component Analysis(PCA)**. PCA is ***often used before supervised learning to improve model performance and generalization***. It can also be useful for unsupervised learning. For example, we'll employ a variant of PCA will allow you **to cluster Wikipedia articles by their content!**"
      ]
    },
    {
      "cell_type": "code",
      "metadata": {
        "colab": {
          "base_uri": "https://localhost:8080/"
        },
        "id": "eHRsiSczR0fB",
        "outputId": "1c72d281-34d1-4346-e078-d96c710b2e3a"
      },
      "source": [
        "! git clone https://github.com/mohd-faizy/CAREER-TRACK-Data-Scientist-with-Python.git"
      ],
      "execution_count": 1,
      "outputs": [
        {
          "output_type": "stream",
          "text": [
            "Cloning into 'CAREER-TRACK-Data-Scientist-with-Python'...\n",
            "remote: Enumerating objects: 124, done.\u001b[K\n",
            "remote: Counting objects: 100% (124/124), done.\u001b[K\n",
            "remote: Compressing objects: 100% (118/118), done.\u001b[K\n",
            "remote: Total 2310 (delta 17), reused 100 (delta 6), pack-reused 2186\u001b[K\n",
            "Receiving objects: 100% (2310/2310), 276.16 MiB | 31.48 MiB/s, done.\n",
            "Resolving deltas: 100% (795/795), done.\n",
            "Checking out files: 100% (1004/1004), done.\n"
          ],
          "name": "stdout"
        }
      ]
    },
    {
      "cell_type": "code",
      "metadata": {
        "id": "KJN0hZ3RWQsh"
      },
      "source": [
        "import pandas as pd\r\n",
        "import numpy as np\r\n",
        "import matplotlib.pyplot as plt\r\n",
        "import seaborn as sns\r\n",
        "import os\r\n",
        "\r\n",
        "plt.style.use('ggplot')\r\n",
        "#sns.set_theme(style='whitegrid')\r\n",
        "%matplotlib inline"
      ],
      "execution_count": 2,
      "outputs": []
    },
    {
      "cell_type": "code",
      "metadata": {
        "colab": {
          "base_uri": "https://localhost:8080/"
        },
        "id": "nu0TmPzKTj2V",
        "outputId": "a6a69cfe-aa1f-4c24-ca3c-6618f153af8e"
      },
      "source": [
        "os.chdir('/content/CAREER-TRACK-Data-Scientist-with-Python/27_Unsupervised Learning in Python/_dataset')\r\n",
        "cwd = os.getcwd()\r\n",
        "print('Curent working directory is ', cwd)"
      ],
      "execution_count": 3,
      "outputs": [
        {
          "output_type": "stream",
          "text": [
            "Curent working directory is  /content/CAREER-TRACK-Data-Scientist-with-Python/27_Unsupervised Learning in Python/_dataset\n"
          ],
          "name": "stdout"
        }
      ]
    },
    {
      "cell_type": "code",
      "metadata": {
        "colab": {
          "base_uri": "https://localhost:8080/"
        },
        "id": "b6FFGoWhUD1G",
        "outputId": "6b7c36bf-f665-472e-878b-39f026cc2a57"
      },
      "source": [
        "ls"
      ],
      "execution_count": 4,
      "outputs": [
        {
          "output_type": "stream",
          "text": [
            " company-stock-movements-2010-2015-incl.csv  \u001b[0m\u001b[01;34m'Musical artists'\u001b[0m/\n",
            " eurovision-2016.csv                          new_points.csv\n",
            " fish.csv                                     points.csv\n",
            " \u001b[01;34mGrains\u001b[0m/                                     \u001b[01;34m'Wikipedia articles'\u001b[0m/\n",
            " lcd-digits.csv                               wine.csv\n"
          ],
          "name": "stdout"
        }
      ]
    },
    {
      "cell_type": "markdown",
      "metadata": {
        "id": "PSgwyZaRCrk4"
      },
      "source": [
        "## Visualizing the PCA transformation\n",
        "- Dimension reduction\n",
        "    - More efficient storage and computation\n",
        "    - Remove less-informative \"noise\" features, which cause problems for prediction tasks, e.g. classification, regression.\n",
        "- Principal Component Analysis (PCA)\n",
        "    - Fundamental dimension reduction technique\n",
        "        - \"Decorrelation\"\n",
        "        - Reduce dimension\n",
        "- PCA aligns data with axes\n",
        "    - Rotates data samples to be aligned with axes\n",
        "    - Shifts data samples so they have mean 0\n",
        "    - No information is lost\n",
        "- PCA features\n",
        "    - Rows : samples\n",
        "    - Columns : PCA features\n",
        "    - Row gives PCA feature values of corresponding sample\n",
        "- Pearson Correlation\n",
        "    - Measures linear correlation of features\n",
        "    - Value between -1 and 1\n",
        "    - Value of 0 means no linear correlation\n",
        "- Principal components\n",
        "    - directions of variance\n",
        "    - PCA aligns principal components with the axes"
      ]
    },
    {
      "cell_type": "markdown",
      "metadata": {
        "id": "ZWUbPnQbCrk5"
      },
      "source": [
        "### Correlated data in nature\n",
        "You are given an array ```grains``` giving the width and length of samples of grain. You suspect that width and length will be correlated. To confirm this, make a scatter plot of width vs length and measure their Pearson correlation."
      ]
    },
    {
      "cell_type": "markdown",
      "metadata": {
        "id": "AWw_asepCrk5"
      },
      "source": [
        "#### Preprocess"
      ]
    },
    {
      "cell_type": "code",
      "metadata": {
        "id": "FSvjHmv9Crk6",
        "colab": {
          "base_uri": "https://localhost:8080/",
          "height": 197
        },
        "outputId": "b3a5d38c-0198-4beb-c505-b5b6f044eb3a"
      },
      "source": [
        "df = pd.read_csv('Grains/seeds-width-vs-length.csv', header=None)\n",
        "df.head()"
      ],
      "execution_count": 5,
      "outputs": [
        {
          "output_type": "execute_result",
          "data": {
            "text/html": [
              "<div>\n",
              "<style scoped>\n",
              "    .dataframe tbody tr th:only-of-type {\n",
              "        vertical-align: middle;\n",
              "    }\n",
              "\n",
              "    .dataframe tbody tr th {\n",
              "        vertical-align: top;\n",
              "    }\n",
              "\n",
              "    .dataframe thead th {\n",
              "        text-align: right;\n",
              "    }\n",
              "</style>\n",
              "<table border=\"1\" class=\"dataframe\">\n",
              "  <thead>\n",
              "    <tr style=\"text-align: right;\">\n",
              "      <th></th>\n",
              "      <th>0</th>\n",
              "      <th>1</th>\n",
              "    </tr>\n",
              "  </thead>\n",
              "  <tbody>\n",
              "    <tr>\n",
              "      <th>0</th>\n",
              "      <td>3.312</td>\n",
              "      <td>5.763</td>\n",
              "    </tr>\n",
              "    <tr>\n",
              "      <th>1</th>\n",
              "      <td>3.333</td>\n",
              "      <td>5.554</td>\n",
              "    </tr>\n",
              "    <tr>\n",
              "      <th>2</th>\n",
              "      <td>3.337</td>\n",
              "      <td>5.291</td>\n",
              "    </tr>\n",
              "    <tr>\n",
              "      <th>3</th>\n",
              "      <td>3.379</td>\n",
              "      <td>5.324</td>\n",
              "    </tr>\n",
              "    <tr>\n",
              "      <th>4</th>\n",
              "      <td>3.562</td>\n",
              "      <td>5.658</td>\n",
              "    </tr>\n",
              "  </tbody>\n",
              "</table>\n",
              "</div>"
            ],
            "text/plain": [
              "       0      1\n",
              "0  3.312  5.763\n",
              "1  3.333  5.554\n",
              "2  3.337  5.291\n",
              "3  3.379  5.324\n",
              "4  3.562  5.658"
            ]
          },
          "metadata": {
            "tags": []
          },
          "execution_count": 5
        }
      ]
    },
    {
      "cell_type": "code",
      "metadata": {
        "id": "FH9n39x8Crk8"
      },
      "source": [
        "grains = df.values"
      ],
      "execution_count": 6,
      "outputs": []
    },
    {
      "cell_type": "code",
      "metadata": {
        "id": "u6KCPV9hCrk8",
        "colab": {
          "base_uri": "https://localhost:8080/",
          "height": 447
        },
        "outputId": "2624a102-29f9-4950-99e3-2c9bca79a9e8"
      },
      "source": [
        "from scipy.stats import pearsonr\n",
        "\n",
        "# Assign the 0th column of grains: width\n",
        "width = grains[:, 0]\n",
        "\n",
        "# Assign the 1st column of grains: length\n",
        "length = grains[:, 1]\n",
        "\n",
        "# Scatter plot width vs length\n",
        "plt.figure(figsize=(12, 7), facecolor='lightgrey')\n",
        "plt.scatter(width, length)\n",
        "plt.axis('equal');\n",
        "\n",
        "# Calculate the Pearson correlation\n",
        "correlation, pvalue = pearsonr(width, length)\n",
        "\n",
        "# Display the correlation\n",
        "print(correlation)"
      ],
      "execution_count": 7,
      "outputs": [
        {
          "output_type": "stream",
          "text": [
            "0.8604149377143465\n"
          ],
          "name": "stdout"
        },
        {
          "output_type": "display_data",
          "data": {
            "image/png": "[encoded data removed]",
            "text/plain": [
              "<Figure size 864x504 with 1 Axes>"
            ]
          },
          "metadata": {
            "tags": []
          }
        }
      ]
    },
    {
      "cell_type": "markdown",
      "metadata": {
        "id": "7jSS6I-MCrk9"
      },
      "source": [
        "### Decorrelating the grain measurements with PCA\n",
        "You observed in the previous exercise that the width and length measurements of the grain are correlated. Now, you'll use PCA to decorrelate these measurements, then plot the decorrelated points and measure their Pearson correlation.\n",
        "\n"
      ]
    },
    {
      "cell_type": "code",
      "metadata": {
        "id": "KrZ6hskHCrk-",
        "colab": {
          "base_uri": "https://localhost:8080/",
          "height": 445
        },
        "outputId": "71597b07-59cd-4ff0-aa1d-8fa2f3fdc278"
      },
      "source": [
        "from sklearn.decomposition import PCA\n",
        "\n",
        "# Create a PCA instance: model\n",
        "model = PCA()\n",
        "\n",
        "# Apply the fit_transform method of model to grains: pca_features\n",
        "pca_features = model.fit_transform(grains)\n",
        "\n",
        "# Assign 0th column of pca_features: xs\n",
        "xs = pca_features[:, 0]\n",
        "\n",
        "# Assign 1st column of pca_features: ys\n",
        "ys = pca_features[:, 1]\n",
        "\n",
        "# Scatter plot xs vs ys\n",
        "plt.figure(figsize=(12, 7), facecolor='lightgrey')\n",
        "plt.scatter(xs, ys)\n",
        "plt.axis('equal');\n",
        "\n",
        "# Calculate the Pearson correlation of xs and ys\n",
        "correlation, pvalue = pearsonr(xs, ys)\n",
        "\n",
        "# Display the correlation\n",
        "print(correlation)"
      ],
      "execution_count": 8,
      "outputs": [
        {
          "output_type": "stream",
          "text": [
            "3.9373863166193386e-17\n"
          ],
          "name": "stdout"
        },
        {
          "output_type": "display_data",
          "data": {
            "image/png": "[encoded data removed]",
            "text/plain": [
              "<Figure size 864x504 with 1 Axes>"
            ]
          },
          "metadata": {
            "tags": []
          }
        }
      ]
    },
    {
      "cell_type": "markdown",
      "metadata": {
        "id": "SphZjmbFCrk_"
      },
      "source": [
        "## Intrinsic dimension\n",
        "- Intrinsic dimension\n",
        "    - Intrinsic dimension = number of features needed to approximate the dataset\n",
        "    - Essential idea behind dimension reduction\n",
        "    - What is the most compact representation of the samples?\n",
        "    - Can be detected with PCA\n",
        "- PCA identifies intrinsic dimension\n",
        "    - Scatter plots work only if samples have 2 or 3 features\n",
        "    - PCA identifies intrinsic dimension when samples have any number of features\n",
        "    - Intrinsic dimension = **number of PCA features with signficant variance**"
      ]
    },
    {
      "cell_type": "markdown",
      "metadata": {
        "id": "wL-aDH27CrlA"
      },
      "source": [
        "### The first principal component\n",
        "The first principal component of the data is the direction in which the data varies the most. In this exercise, your job is to use PCA to find the first principal component of the length and width measurements of the grain samples, and represent it as an arrow on the scatter plot."
      ]
    },
    {
      "cell_type": "code",
      "metadata": {
        "id": "KSGbOVxQCrlB",
        "colab": {
          "base_uri": "https://localhost:8080/",
          "height": 430
        },
        "outputId": "d6cd2262-b042-432d-d546-0fe5b76a9efb"
      },
      "source": [
        "# Plot size\n",
        "plt.figure(figsize=(12, 7), facecolor='lightgrey')\n",
        "\n",
        "# Make a scatter plot of the untransformed points\n",
        "plt.scatter(grains[:, 0], grains[:, 1])\n",
        "\n",
        "# Create a PCA instance: model\n",
        "model = PCA()\n",
        "\n",
        "# Fit model to points\n",
        "model.fit(grains)\n",
        "\n",
        "# Get the mean of the grain samples: mean\n",
        "mean = model.mean_\n",
        "\n",
        "# Get the first principal component: first_pc\n",
        "first_pc = model.components_[0, :]\n",
        "\n",
        "# Plot first_pc as an arrow, starting at mean\n",
        "plt.arrow(mean[0], mean[1], first_pc[0], first_pc[1], color='red', width=0.01)\n",
        "\n",
        "# keep axes on same scale\n",
        "plt.axis('equal');\n",
        "plt.show()\n",
        "#plt.savefig('/content/pca-arrow.png')"
      ],
      "execution_count": 9,
      "outputs": [
        {
          "output_type": "display_data",
          "data": {
            "image/png": "[encoded data removed]",
            "text/plain": [
              "<Figure size 864x504 with 1 Axes>"
            ]
          },
          "metadata": {
            "tags": []
          }
        }
      ]
    },
    {
      "cell_type": "markdown",
      "metadata": {
        "id": "nPQ0w0bqCrlC"
      },
      "source": [
        "### Variance of the PCA features\n",
        "The fish dataset is 6-dimensional. But what is its intrinsic dimension? Make a plot of the variances of the PCA features to find out. As before, ```samples``` is a 2D array, where each row represents a fish. You'll need to standardize the features first."
      ]
    },
    {
      "cell_type": "markdown",
      "metadata": {
        "id": "3EPOxhUyCrlC"
      },
      "source": [
        "#### Preprocess"
      ]
    },
    {
      "cell_type": "code",
      "metadata": {
        "id": "ahh7XCWLCrlD",
        "colab": {
          "base_uri": "https://localhost:8080/",
          "height": 197
        },
        "outputId": "f27ad7b8-d9aa-4ea8-f5b3-939a4b13d0a2"
      },
      "source": [
        "df = pd.read_csv('fish.csv', header=None)\n",
        "df.head()"
      ],
      "execution_count": 10,
      "outputs": [
        {
          "output_type": "execute_result",
          "data": {
            "text/html": [
              "<div>\n",
              "<style scoped>\n",
              "    .dataframe tbody tr th:only-of-type {\n",
              "        vertical-align: middle;\n",
              "    }\n",
              "\n",
              "    .dataframe tbody tr th {\n",
              "        vertical-align: top;\n",
              "    }\n",
              "\n",
              "    .dataframe thead th {\n",
              "        text-align: right;\n",
              "    }\n",
              "</style>\n",
              "<table border=\"1\" class=\"dataframe\">\n",
              "  <thead>\n",
              "    <tr style=\"text-align: right;\">\n",
              "      <th></th>\n",
              "      <th>0</th>\n",
              "      <th>1</th>\n",
              "      <th>2</th>\n",
              "      <th>3</th>\n",
              "      <th>4</th>\n",
              "      <th>5</th>\n",
              "      <th>6</th>\n",
              "    </tr>\n",
              "  </thead>\n",
              "  <tbody>\n",
              "    <tr>\n",
              "      <th>0</th>\n",
              "      <td>Bream</td>\n",
              "      <td>242.0</td>\n",
              "      <td>23.2</td>\n",
              "      <td>25.4</td>\n",
              "      <td>30.0</td>\n",
              "      <td>38.4</td>\n",
              "      <td>13.4</td>\n",
              "    </tr>\n",
              "    <tr>\n",
              "      <th>1</th>\n",
              "      <td>Bream</td>\n",
              "      <td>290.0</td>\n",
              "      <td>24.0</td>\n",
              "      <td>26.3</td>\n",
              "      <td>31.2</td>\n",
              "      <td>40.0</td>\n",
              "      <td>13.8</td>\n",
              "    </tr>\n",
              "    <tr>\n",
              "      <th>2</th>\n",
              "      <td>Bream</td>\n",
              "      <td>340.0</td>\n",
              "      <td>23.9</td>\n",
              "      <td>26.5</td>\n",
              "      <td>31.1</td>\n",
              "      <td>39.8</td>\n",
              "      <td>15.1</td>\n",
              "    </tr>\n",
              "    <tr>\n",
              "      <th>3</th>\n",
              "      <td>Bream</td>\n",
              "      <td>363.0</td>\n",
              "      <td>26.3</td>\n",
              "      <td>29.0</td>\n",
              "      <td>33.5</td>\n",
              "      <td>38.0</td>\n",
              "      <td>13.3</td>\n",
              "    </tr>\n",
              "    <tr>\n",
              "      <th>4</th>\n",
              "      <td>Bream</td>\n",
              "      <td>430.0</td>\n",
              "      <td>26.5</td>\n",
              "      <td>29.0</td>\n",
              "      <td>34.0</td>\n",
              "      <td>36.6</td>\n",
              "      <td>15.1</td>\n",
              "    </tr>\n",
              "  </tbody>\n",
              "</table>\n",
              "</div>"
            ],
            "text/plain": [
              "       0      1     2     3     4     5     6\n",
              "0  Bream  242.0  23.2  25.4  30.0  38.4  13.4\n",
              "1  Bream  290.0  24.0  26.3  31.2  40.0  13.8\n",
              "2  Bream  340.0  23.9  26.5  31.1  39.8  15.1\n",
              "3  Bream  363.0  26.3  29.0  33.5  38.0  13.3\n",
              "4  Bream  430.0  26.5  29.0  34.0  36.6  15.1"
            ]
          },
          "metadata": {
            "tags": []
          },
          "execution_count": 10
        }
      ]
    },
    {
      "cell_type": "code",
      "metadata": {
        "id": "Zb3BJw31CrlD"
      },
      "source": [
        "samples = df.loc[:, 1:].values"
      ],
      "execution_count": 11,
      "outputs": []
    },
    {
      "cell_type": "code",
      "metadata": {
        "id": "BVcgvrm5CrlE",
        "colab": {
          "base_uri": "https://localhost:8080/",
          "height": 444
        },
        "outputId": "93cc3bcf-9a0d-4098-ba2e-c7825b1a1924"
      },
      "source": [
        "from sklearn.preprocessing import StandardScaler\n",
        "from sklearn.pipeline import make_pipeline\n",
        "\n",
        "# Create scaler: scaler\n",
        "scaler = StandardScaler()\n",
        "\n",
        "# Create a PCA instance: pca\n",
        "pca = PCA()\n",
        "\n",
        "# Create pipeline: pipeline\n",
        "pipeline = make_pipeline(scaler, pca)\n",
        "\n",
        "# Fit the pipeline to 'samples'\n",
        "pipeline.fit(samples)\n",
        "\n",
        "# Plot the explained variances\n",
        "plt.figure(figsize=(12, 7), facecolor='lightgrey')\n",
        "features = range(pca.n_components_)\n",
        "plt.bar(features, pca.explained_variance_)\n",
        "plt.xlabel('PCA feature')\n",
        "plt.ylabel('variance')\n",
        "plt.xticks(features);\n",
        "plt.show()"
      ],
      "execution_count": 12,
      "outputs": [
        {
          "output_type": "display_data",
          "data": {
            "image/png": "[encoded data removed]",
            "text/plain": [
              "<Figure size 864x504 with 1 Axes>"
            ]
          },
          "metadata": {
            "tags": []
          }
        }
      ]
    },
    {
      "cell_type": "markdown",
      "metadata": {
        "id": "AEtZxyNHCrlE"
      },
      "source": [
        "## Dimension reduction with PCA\n",
        "- Dimension reduction\n",
        "    - Represent same data, using less features\n",
        "    - Important part of machine-learning pipelines\n",
        "    - Can be performed using PCA\n",
        "- Dimension reduction with PCA\n",
        "    - PCA features are in decreasing order of variance\n",
        "    - Assumes the low variance features are \"noise\", and high variance features are informative\n",
        "    - Specify how many features to keep\n",
        "    - Intrinsic dimension is a good choice\n",
        "- Word frequency arrays\n",
        "    - Rows represent documents, columns represent words\n",
        "    - Entries measure presence of each word in each document, measure using \"tf-idf\""
      ]
    },
    {
      "cell_type": "markdown",
      "metadata": {
        "id": "NRd1tZ7JCrlF"
      },
      "source": [
        "### Dimension reduction of the fish measurements\n",
        "In a previous exercise, you saw that 2 was a reasonable choice for the \"intrinsic dimension\" of the fish measurements. Now use PCA for dimensionality reduction of the fish measurements, retaining only the 2 most important components."
      ]
    },
    {
      "cell_type": "markdown",
      "metadata": {
        "id": "dI4YCP1sCrlG"
      },
      "source": [
        "#### Preprocess"
      ]
    },
    {
      "cell_type": "code",
      "metadata": {
        "id": "gjK66iGhCrlG"
      },
      "source": [
        "scaler = StandardScaler()\n",
        "scaled_samples = scaler.fit_transform(samples)"
      ],
      "execution_count": 13,
      "outputs": []
    },
    {
      "cell_type": "code",
      "metadata": {
        "id": "hF3M092YCrlH",
        "colab": {
          "base_uri": "https://localhost:8080/"
        },
        "outputId": "dad3200c-e74c-4154-94cf-feb9336b37de"
      },
      "source": [
        "# Create a PCA model with 2 components: pca\n",
        "pca = PCA(n_components=2)\n",
        "\n",
        "# Fit the PCA instance to the scaled samples\n",
        "pca.fit(scaled_samples)\n",
        "\n",
        "# Transform the scaled samples: pca_features\n",
        "pca_features = pca.transform(scaled_samples)\n",
        "\n",
        "# Print the shape of pca_features\n",
        "print(pca_features.shape)"
      ],
      "execution_count": 14,
      "outputs": [
        {
          "output_type": "stream",
          "text": [
            "(85, 2)\n"
          ],
          "name": "stdout"
        }
      ]
    },
    {
      "cell_type": "markdown",
      "metadata": {
        "id": "h1emtSOECrlH"
      },
      "source": [
        "### A tf-idf word-frequency array\n",
        "In this exercise, you'll create a tf-idf word frequency array for a toy collection of documents. For this, use the ```TfidfVectorizer``` from sklearn. It transforms a list of documents into a word frequency array, which it outputs as a csr_matrix. It has ```fit()``` and ```transform()``` methods like other sklearn objects."
      ]
    },
    {
      "cell_type": "code",
      "metadata": {
        "id": "yQjAOJmbCrlI"
      },
      "source": [
        "documents = ['cats say meow', 'dogs say woof', 'dogs chase cats']"
      ],
      "execution_count": 15,
      "outputs": []
    },
    {
      "cell_type": "code",
      "metadata": {
        "id": "SdRRT6eZCrlI",
        "colab": {
          "base_uri": "https://localhost:8080/"
        },
        "outputId": "71499534-68b0-4ec7-bc04-ca11b762a9b1"
      },
      "source": [
        "from sklearn.feature_extraction.text import TfidfVectorizer\n",
        "\n",
        "# Create a TfidfVectorizer: tfidf\n",
        "tfidf = TfidfVectorizer()\n",
        "\n",
        "# Apply fit_transform to document: csr_mat\n",
        "csr_mat = tfidf.fit_transform(documents)\n",
        "\n",
        "# Print result of toarray() method\n",
        "print(csr_mat.toarray())\n",
        "\n",
        "# Get the word: words\n",
        "words = tfidf.get_feature_names()\n",
        "\n",
        "# Print words\n",
        "print(words)"
      ],
      "execution_count": 16,
      "outputs": [
        {
          "output_type": "stream",
          "text": [
            "[[0.51785612 0.         0.         0.68091856 0.51785612 0.        ]\n",
            " [0.         0.         0.51785612 0.         0.51785612 0.68091856]\n",
            " [0.51785612 0.68091856 0.51785612 0.         0.         0.        ]]\n",
            "['cats', 'chase', 'dogs', 'meow', 'say', 'woof']\n"
          ],
          "name": "stdout"
        }
      ]
    },
    {
      "cell_type": "markdown",
      "metadata": {
        "id": "jUXA74F0CrlI"
      },
      "source": [
        "### Clustering Wikipedia part I\n",
        "You saw in the video that ```TruncatedSVD``` is able to perform PCA on sparse arrays in csr_matrix format, such as word-frequency arrays. Combine your knowledge of TruncatedSVD and k-means to cluster some popular pages from Wikipedia. In this exercise, build the pipeline. In the next exercise, you'll apply it to the word-frequency array of some Wikipedia articles.\n",
        "\n",
        "Create a Pipeline object consisting of a TruncatedSVD followed by KMeans. (This time, we've precomputed the word-frequency matrix for you, so there's no need for a TfidfVectorizer).\n",
        "\n",
        "The Wikipedia dataset you will be working with was obtained from [here](https://blog.lateral.io/2015/06/the-unknown-perils-of-mining-wikipedia/)."
      ]
    },
    {
      "cell_type": "code",
      "metadata": {
        "id": "HuZZ0cS7CrlJ"
      },
      "source": [
        "from sklearn.decomposition import TruncatedSVD\n",
        "from sklearn.cluster import KMeans\n",
        "from sklearn.pipeline import make_pipeline\n",
        "\n",
        "# Create a TruncatedSVD instance: svd\n",
        "svd = TruncatedSVD(n_components=50)\n",
        "\n",
        "# Create a KMeans instance: kmeans\n",
        "kmeans = KMeans(n_clusters=6)\n",
        "\n",
        "# Create a pipeline: pipeline\n",
        "pipeline = make_pipeline(svd, kmeans)"
      ],
      "execution_count": 17,
      "outputs": []
    },
    {
      "cell_type": "markdown",
      "metadata": {
        "id": "ESyWBzYACrlJ"
      },
      "source": [
        "### Clustering Wikipedia part II\n",
        "It is now time to put your pipeline from the previous exercise to work! You are given an array articles of tf-idf word-frequencies of some popular Wikipedia articles, and a list titles of their titles. Use your pipeline to cluster the Wikipedia articles.\n",
        "\n",
        "A solution to the previous exercise has been pre-loaded for you, so a Pipeline pipeline chaining TruncatedSVD with KMeans is available."
      ]
    },
    {
      "cell_type": "markdown",
      "metadata": {
        "id": "4XvbJZCzCrlK"
      },
      "source": [
        "#### Preprocess"
      ]
    },
    {
      "cell_type": "code",
      "metadata": {
        "id": "4dm5i64NCrlK"
      },
      "source": [
        "from scipy.sparse import csc_matrix\n",
        "\n",
        "documents = pd.read_csv('Wikipedia articles/wikipedia-vectors.csv', index_col=0)\n",
        "titles = documents.columns\n",
        "articles = csc_matrix(documents.values).T"
      ],
      "execution_count": 18,
      "outputs": []
    },
    {
      "cell_type": "code",
      "metadata": {
        "id": "gurbyYzWCrlL",
        "colab": {
          "base_uri": "https://localhost:8080/"
        },
        "outputId": "b424aba6-b80a-4cde-b81d-9d9e00af3721"
      },
      "source": [
        "type(articles)"
      ],
      "execution_count": 19,
      "outputs": [
        {
          "output_type": "execute_result",
          "data": {
            "text/plain": [
              "scipy.sparse.csr.csr_matrix"
            ]
          },
          "metadata": {
            "tags": []
          },
          "execution_count": 19
        }
      ]
    },
    {
      "cell_type": "code",
      "metadata": {
        "id": "HR34nhf9CrlL",
        "colab": {
          "base_uri": "https://localhost:8080/"
        },
        "outputId": "38adb84b-899d-49dc-c5ce-22333f8e8c00"
      },
      "source": [
        "articles.T.shape"
      ],
      "execution_count": 20,
      "outputs": [
        {
          "output_type": "execute_result",
          "data": {
            "text/plain": [
              "(13125, 60)"
            ]
          },
          "metadata": {
            "tags": []
          },
          "execution_count": 20
        }
      ]
    },
    {
      "cell_type": "code",
      "metadata": {
        "id": "yrQFNA96CrlM",
        "colab": {
          "base_uri": "https://localhost:8080/"
        },
        "outputId": "2eaad331-e5ca-494e-d197-0e52d3589e55"
      },
      "source": [
        "# Fit the pipeline to articles\n",
        "pipeline.fit(articles)\n",
        "\n",
        "# Calculate the cluster labels: labels\n",
        "labels = pipeline.predict(articles)\n",
        "\n",
        "# Create a DataFrame aligning labels and titles: df\n",
        "df = pd.DataFrame({'label': labels, 'article': titles})\n",
        "\n",
        "# Display df sorted by cluster label\n",
        "print(df.sort_values('label'))"
      ],
      "execution_count": 21,
      "outputs": [
        {
          "output_type": "stream",
          "text": [
            "    label                                        article\n",
            "29      0                               Jennifer Aniston\n",
            "22      0                              Denzel Washington\n",
            "23      0                           Catherine Zeta-Jones\n",
            "24      0                                   Jessica Biel\n",
            "25      0                                  Russell Crowe\n",
            "26      0                                     Mila Kunis\n",
            "27      0                                 Dakota Fanning\n",
            "28      0                                  Anne Hathaway\n",
            "21      0                             Michael Fassbender\n",
            "20      0                                 Angelina Jolie\n",
            "51      1                                     Nate Ruess\n",
            "52      1                                     The Wanted\n",
            "53      1                                   Stevie Nicks\n",
            "54      1                                 Arctic Monkeys\n",
            "55      1                                  Black Sabbath\n",
            "56      1                                       Skrillex\n",
            "57      1                          Red Hot Chili Peppers\n",
            "50      1                                   Chad Kroeger\n",
            "58      1                                         Sepsis\n",
            "59      1                                    Adam Levine\n",
            "39      2                                  Franck Ribéry\n",
            "37      2                                       Football\n",
            "36      2              2014 FIFA World Cup qualification\n",
            "35      2                Colombia national football team\n",
            "34      2                             Zlatan Ibrahimović\n",
            "33      2                                 Radamel Falcao\n",
            "32      2                                   Arsenal F.C.\n",
            "31      2                              Cristiano Ronaldo\n",
            "30      2                  France national football team\n",
            "38      2                                         Neymar\n",
            "41      3                                    Hepatitis B\n",
            "43      3                                       Leukemia\n",
            "44      3                                           Gout\n",
            "45      3                                    Hepatitis C\n",
            "46      3                                     Prednisone\n",
            "47      3                                          Fever\n",
            "48      3                                     Gabapentin\n",
            "49      3                                       Lymphoma\n",
            "42      3                                    Doxycycline\n",
            "40      3                                    Tonsillitis\n",
            "18      4  2010 United Nations Climate Change Conference\n",
            "10      4                                 Global warming\n",
            "11      4       Nationally Appropriate Mitigation Action\n",
            "12      4                                   Nigel Lawson\n",
            "13      4                               Connie Hedegaard\n",
            "14      4                                 Climate change\n",
            "15      4                                 Kyoto Protocol\n",
            "16      4                                        350.org\n",
            "17      4  Greenhouse gas emissions by the United States\n",
            "19      4  2007 United Nations Climate Change Conference\n",
            "9       5                                       LinkedIn\n",
            "1       5                                 Alexa Internet\n",
            "2       5                              Internet Explorer\n",
            "3       5                                    HTTP cookie\n",
            "8       5                                        Firefox\n",
            "5       5                                         Tumblr\n",
            "6       5                    Hypertext Transfer Protocol\n",
            "7       5                                  Social search\n",
            "4       5                                  Google Search\n",
            "0       5                                       HTTP 404\n"
          ],
          "name": "stdout"
        }
      ]
    }
  ]
}