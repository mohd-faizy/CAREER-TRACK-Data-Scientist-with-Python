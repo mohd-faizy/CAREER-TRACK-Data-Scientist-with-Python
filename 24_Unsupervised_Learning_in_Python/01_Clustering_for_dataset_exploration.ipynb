{
  "nbformat": 4,
  "nbformat_minor": 0,
  "metadata": {
    "colab": {
      "provenance": []
    },
    "kernelspec": {
      "name": "python3",
      "display_name": "Python 3"
    }
  },
  "cells": [
    {
      "cell_type": "markdown",
      "metadata": {
        "id": "BSuEABPa0--s"
      },
      "source": [
        "---\n",
        "<strong>\n",
        "    <h1 align='center'>Clustering for dataset exploration</h1>\n",
        "</strong>\n",
        "\n",
        "---\n"
      ]
    },
    {
      "cell_type": "markdown",
      "metadata": {
        "id": "VHpT4aOUAz0j"
      },
      "source": [
        "Learn how to discover the underlying groups (or \"clusters\") in a dataset. By the end of this Notebook, we'll be clustering companies using their stock market prices, and distinguishing different species by clustering their measurements."
      ]
    },
    {
      "cell_type": "code",
      "metadata": {
        "id": "eHRsiSczR0fB"
      },
      "source": [
        "! git clone https://github.com/mohd-faizy/CAREER-TRACK-Data-Scientist-with-Python.git -q"
      ],
      "execution_count": 1,
      "outputs": []
    },
    {
      "cell_type": "code",
      "metadata": {
        "id": "KJN0hZ3RWQsh"
      },
      "source": [
        "import pandas as pd\n",
        "import numpy as np\n",
        "import matplotlib.pyplot as plt\n",
        "import seaborn as sns\n",
        "import os\n",
        "\n",
        "plt.style.use('ggplot')\n",
        "#sns.set_theme(style='whitegrid')\n",
        "%matplotlib inline"
      ],
      "execution_count": 9,
      "outputs": []
    },
    {
      "cell_type": "code",
      "metadata": {
        "colab": {
          "base_uri": "https://localhost:8080/"
        },
        "id": "nu0TmPzKTj2V",
        "outputId": "f5e65b09-13a8-4460-de00-86cc38399994"
      },
      "source": [
        "os.chdir('/content/CAREER-TRACK-Data-Scientist-with-Python/24_Unsupervised_Learning_in_Python/_dataset')\n",
        "cwd = os.getcwd()\n",
        "print('Curent working directory is ', cwd)"
      ],
      "execution_count": 3,
      "outputs": [
        {
          "output_type": "stream",
          "name": "stdout",
          "text": [
            "Curent working directory is  /content/CAREER-TRACK-Data-Scientist-with-Python/24_Unsupervised_Learning_in_Python/_dataset\n"
          ]
        }
      ]
    },
    {
      "cell_type": "code",
      "metadata": {
        "colab": {
          "base_uri": "https://localhost:8080/"
        },
        "id": "b6FFGoWhUD1G",
        "outputId": "70057951-4e94-4edc-9cf2-3001ccdf176c"
      },
      "source": [
        "ls"
      ],
      "execution_count": 4,
      "outputs": [
        {
          "output_type": "stream",
          "name": "stdout",
          "text": [
            " company-stock-movements-2010-2015-incl.csv  \u001b[0m\u001b[01;34m'Musical artists'\u001b[0m/\n",
            " eurovision-2016.csv                          new_points.csv\n",
            " fish.csv                                     points.csv\n",
            " \u001b[01;34mGrains\u001b[0m/                                     \u001b[01;34m'Wikipedia articles'\u001b[0m/\n",
            " lcd-digits.csv                               wine.csv\n"
          ]
        }
      ]
    },
    {
      "cell_type": "markdown",
      "metadata": {
        "id": "YGY8agHvE1yB"
      },
      "source": [
        "## Unsupervised Learning\n",
        "\n",
        "- **Unsupervised Learning**\n",
        "    - Finds patterns in data (E.g., clustering customers by their purchase)\n",
        "    - Compressing the data using purchase patterns (dimension reduction)\n",
        "\n",
        "- **Supervised vs unsupervised learning**\n",
        "    - Supervised learning finds patterns for a prediction task\n",
        "\n",
        "    e.g., classify tumors as benign or cancerous (labels)\n",
        "    - Unsupervised learning finds patterns in data, but without a specific prediction task in mind\n",
        "\n",
        "- **K-means clustering**\n",
        "    - Finds clusters of samples\n",
        "    - Number of clusters must be specified\n",
        "\n",
        "- **Cluster labels for new samples**\n",
        "    - New samples can be assigned to existing clusters\n",
        "    - k-means remembers the mean of each cluster (the \"centroids\")\n",
        "    - Finds the nearest centroid to each new sample"
      ]
    },
    {
      "cell_type": "markdown",
      "metadata": {
        "id": "CbWF0olYE1yD"
      },
      "source": [
        "### How many clusters?"
      ]
    },
    {
      "cell_type": "code",
      "metadata": {
        "colab": {
          "base_uri": "https://localhost:8080/",
          "height": 762
        },
        "id": "967EJltKMuKP",
        "outputId": "a57e0fe7-1eaf-4de3-b605-5b859e274e6f"
      },
      "source": [
        "points = pd.read_csv('points.csv').reset_index(drop=True)\n",
        "points.drop(['Unnamed: 0'], axis=1, inplace=True)\n",
        "\n",
        "print(points.columns)\n",
        "print(points.head(5))\n",
        "\n",
        "xs = points['0']\n",
        "ys = points['1']\n",
        "\n",
        "plt.figure(figsize=(12, 7), facecolor='lightgrey')\n",
        "sns.scatterplot(x=xs, y=ys, data=points)"
      ],
      "execution_count": 20,
      "outputs": [
        {
          "output_type": "stream",
          "name": "stdout",
          "text": [
            "Index(['0', '1'], dtype='object')\n",
            "          0         1\n",
            "0  0.065446 -0.768664\n",
            "1 -1.529015 -0.429531\n",
            "2  1.709934  0.698853\n",
            "3  1.167791  1.012626\n",
            "4 -1.801101 -0.318613\n"
          ]
        },
        {
          "output_type": "execute_result",
          "data": {
            "text/plain": [
              "<Axes: xlabel='0', ylabel='1'>"
            ]
          },
          "metadata": {},
          "execution_count": 20
        },
        {
          "output_type": "display_data",
          "data": {
            "text/plain": [
              "<Figure size 1200x700 with 1 Axes>"
            ],
            "image/png": "[encoded data removed]"
          },
          "metadata": {}
        }
      ]
    },
    {
      "cell_type": "markdown",
      "metadata": {
        "id": "M6RUrDqtE1yW"
      },
      "source": [
        "### Clustering 2D points\n",
        "From the scatter plot of the previous exercise, you saw that the points seem to separate into 3 clusters. You'll now create a KMeans model to find 3 clusters, and fit it to the data points from the previous exercise. After the model has been fit, you'll obtain the cluster labels for some new points using the ```.predict()``` method."
      ]
    },
    {
      "cell_type": "code",
      "metadata": {
        "colab": {
          "base_uri": "https://localhost:8080/"
        },
        "id": "aGG1-8rRWND7",
        "outputId": "7eac4ce9-6636-4985-8f5c-ca46d47298ac"
      },
      "source": [
        "new_points = pd.read_csv('new_points.csv').reset_index(drop=True)\n",
        "new_points.drop(['Unnamed: 0'], axis=1, inplace=True)\n",
        "new_points.columns"
      ],
      "execution_count": 21,
      "outputs": [
        {
          "output_type": "execute_result",
          "data": {
            "text/plain": [
              "Index(['0', '1'], dtype='object')"
            ]
          },
          "metadata": {},
          "execution_count": 21
        }
      ]
    },
    {
      "cell_type": "markdown",
      "metadata": {
        "id": "QuQEzeDwofMh"
      },
      "source": [
        "__KMeans Clustring__"
      ]
    },
    {
      "cell_type": "code",
      "metadata": {
        "id": "68OtmK6WE1yX",
        "colab": {
          "base_uri": "https://localhost:8080/"
        },
        "outputId": "efc77051-2591-406d-91f6-308a45ad4b26"
      },
      "source": [
        "from sklearn.cluster import KMeans\n",
        "\n",
        "# Create a KMeans instance with 3 clusters: model\n",
        "model = KMeans(n_clusters=3)\n",
        "\n",
        "# Fit model to points\n",
        "model.fit(points)\n",
        "\n",
        "# Determine the cluster labels of new_points: labels\n",
        "labels = model.predict(new_points)\n",
        "\n",
        "# Print cluster labels of new_points\n",
        "print(labels)"
      ],
      "execution_count": 22,
      "outputs": [
        {
          "output_type": "stream",
          "name": "stdout",
          "text": [
            "[2 1 0 2 1 2 1 1 1 0 2 1 1 0 0 1 0 0 1 1 0 1 2 1 2 0 1 0 0 2 2 1 1 1 0 2 1\n",
            " 1 2 1 0 2 2 0 2 1 0 0 1 1 1 1 0 0 2 2 0 0 0 2 2 1 1 1 2 1 0 1 2 0 2 2 2 1\n",
            " 2 0 0 2 1 0 2 0 2 1 0 1 0 2 1 1 1 2 1 1 2 0 0 0 0 2 1 2 0 0 2 2 1 2 0 0 2\n",
            " 0 0 0 1 1 1 1 0 0 1 2 1 0 1 2 0 1 0 0 1 0 1 0 2 1 2 2 1 0 2 1 2 2 0 1 1 2\n",
            " 0 2 0 1 2 0 0 2 0 1 1 0 1 0 0 1 1 2 1 1 0 2 0 2 2 1 2 1 1 2 2 0 2 2 2 0 1\n",
            " 1 2 0 2 0 0 1 1 1 2 1 1 1 0 0 2 1 2 2 2 0 1 1 1 1 1 1 0 0 1 0 0 0 0 1 0 0\n",
            " 1 1 2 0 2 2 0 2 0 2 0 1 1 0 1 1 1 0 2 2 0 1 1 0 1 0 0 1 0 0 2 0 2 2 2 1 0\n",
            " 0 0 2 1 2 0 2 0 0 1 2 2 2 0 1 1 1 2 1 0 0 1 2 2 0 2 2 0 2 1 2 0 0 0 0 1 0\n",
            " 0 1 1 2]\n"
          ]
        },
        {
          "output_type": "stream",
          "name": "stderr",
          "text": [
            "/usr/local/lib/python3.10/dist-packages/sklearn/cluster/_kmeans.py:870: FutureWarning: The default value of `n_init` will change from 10 to 'auto' in 1.4. Set the value of `n_init` explicitly to suppress the warning\n",
            "  warnings.warn(\n"
          ]
        }
      ]
    },
    {
      "cell_type": "markdown",
      "metadata": {
        "id": "8d9lZCoyE1yY"
      },
      "source": [
        "### ***Inspect your clustering***\n",
        "Let's now inspect the clustering you performed in the previous exercise!\n",
        "\n"
      ]
    },
    {
      "cell_type": "code",
      "metadata": {
        "id": "NlmGNi_bE1yY",
        "colab": {
          "base_uri": "https://localhost:8080/",
          "height": 599
        },
        "outputId": "df6ed2da-19e6-4f97-cd30-8bc24b18e449"
      },
      "source": [
        "# Assign the columns of new_points: xs and ys\n",
        "xs = new_points['0']\n",
        "ys = new_points['1']\n",
        "\n",
        "# plot size\n",
        "plt.figure(figsize=(12,7), facecolor='lightgrey')\n",
        "\n",
        "# Make a scatter plot of xs and ys, using labels to define the colors\n",
        "plt.scatter(xs, ys, cmap='tab10', c=labels, alpha=0.8) #label according to the\n",
        "\n",
        "# Assign the cluster centers: centroids\n",
        "centroids = model.cluster_centers_\n",
        "\n",
        "# Assign the columns of centroids: centroids_x, centroids_y\n",
        "centroids_x = centroids[:, 0]\n",
        "centroids_y = centroids[:, 1]\n",
        "\n",
        "# Make a scatter plot of centroids_x and centroids_y\n",
        "plt.scatter(centroids_x, centroids_y, marker='D', s=50, color='red')\n",
        "plt.show()"
      ],
      "execution_count": 23,
      "outputs": [
        {
          "output_type": "display_data",
          "data": {
            "text/plain": [
              "<Figure size 1200x700 with 1 Axes>"
            ],
            "image/png": "[encoded data removed]"
          },
          "metadata": {}
        }
      ]
    },
    {
      "cell_type": "markdown",
      "metadata": {
        "id": "cnFGD6TbV6zc"
      },
      "source": [
        "```python\n",
        "plt.savefig('/content/kmeans-centroid.png')\n",
        "```"
      ]
    },
    {
      "cell_type": "markdown",
      "metadata": {
        "id": "Yu4kwcUME1yY"
      },
      "source": [
        "## Evaluating a clustering\n",
        "- Evaluating a clustering\n",
        "    - Can check correspondence with e.g. iris species, but what if there are no species to check against?\n",
        "    - Measure quality of a clustering\n",
        "    - Informs choice of how many clusters to look for\n",
        "- Cross-tabulation with pandas\n",
        "    - Clusters vs species is a \"cross-tabulation\"\n",
        "- Measuring clustering quality\n",
        "    - Using only samples and their cluster labels\n",
        "    - A good clustering has tight clusters\n",
        "    - Samples in each cluster bunched together\n",
        "- Inertia measures clustering quality\n",
        "    - Measures how spread out the clusters are (lower is better)\n",
        "    - Distance from each sample to centroid of its cluster\n",
        "    - k-means attempts to minimize the inertia when choosing clusters\n",
        "- How many clusters to choose?\n",
        "    - Choose an \"elbow\" in the inertia plot\n",
        "    - Where inertia begins to decrease more slowly"
      ]
    },
    {
      "cell_type": "markdown",
      "metadata": {
        "id": "_hG4w8uLE1yZ"
      },
      "source": [
        "### How many clusters of grain?\n",
        "In the video, you learned how to choose a good number of clusters for a dataset using the k-means inertia graph. You are given an array ```samples``` containing the measurements (such as area, perimeter, length, and several others) of samples of grain. What's a good number of clusters in this case?"
      ]
    },
    {
      "cell_type": "markdown",
      "metadata": {
        "id": "OIfZIVP-E1yZ"
      },
      "source": [
        "#### Preprocess"
      ]
    },
    {
      "cell_type": "code",
      "metadata": {
        "id": "r8yxOg1XE1yZ",
        "colab": {
          "base_uri": "https://localhost:8080/",
          "height": 206
        },
        "outputId": "77b988e5-3155-4c6d-e906-8840ad943311"
      },
      "source": [
        "df = pd.read_csv('Grains/seeds.csv', header=None)\n",
        "df[7] = df[7].map({1:'Kama wheat', 2:'Rosa wheat', 3:'Canadian wheat'})\n",
        "df.head()"
      ],
      "execution_count": 24,
      "outputs": [
        {
          "output_type": "execute_result",
          "data": {
            "text/plain": [
              "       0      1       2      3      4      5      6           7\n",
              "0  15.26  14.84  0.8710  5.763  3.312  2.221  5.220  Kama wheat\n",
              "1  14.88  14.57  0.8811  5.554  3.333  1.018  4.956  Kama wheat\n",
              "2  14.29  14.09  0.9050  5.291  3.337  2.699  4.825  Kama wheat\n",
              "3  13.84  13.94  0.8955  5.324  3.379  2.259  4.805  Kama wheat\n",
              "4  16.14  14.99  0.9034  5.658  3.562  1.355  5.175  Kama wheat"
            ],
            "text/html": [
              "\n",
              "  <div id=\"df-06ebd98d-9347-4e2e-8e0b-3643f4cbe1e7\">\n",
              "    <div class=\"colab-df-container\">\n",
              "      <div>\n",
              "<style scoped>\n",
              "    .dataframe tbody tr th:only-of-type {\n",
              "        vertical-align: middle;\n",
              "    }\n",
              "\n",
              "    .dataframe tbody tr th {\n",
              "        vertical-align: top;\n",
              "    }\n",
              "\n",
              "    .dataframe thead th {\n",
              "        text-align: right;\n",
              "    }\n",
              "</style>\n",
              "<table border=\"1\" class=\"dataframe\">\n",
              "  <thead>\n",
              "    <tr style=\"text-align: right;\">\n",
              "      <th></th>\n",
              "      <th>0</th>\n",
              "      <th>1</th>\n",
              "      <th>2</th>\n",
              "      <th>3</th>\n",
              "      <th>4</th>\n",
              "      <th>5</th>\n",
              "      <th>6</th>\n",
              "      <th>7</th>\n",
              "    </tr>\n",
              "  </thead>\n",
              "  <tbody>\n",
              "    <tr>\n",
              "      <th>0</th>\n",
              "      <td>15.26</td>\n",
              "      <td>14.84</td>\n",
              "      <td>0.8710</td>\n",
              "      <td>5.763</td>\n",
              "      <td>3.312</td>\n",
              "      <td>2.221</td>\n",
              "      <td>5.220</td>\n",
              "      <td>Kama wheat</td>\n",
              "    </tr>\n",
              "    <tr>\n",
              "      <th>1</th>\n",
              "      <td>14.88</td>\n",
              "      <td>14.57</td>\n",
              "      <td>0.8811</td>\n",
              "      <td>5.554</td>\n",
              "      <td>3.333</td>\n",
              "      <td>1.018</td>\n",
              "      <td>4.956</td>\n",
              "      <td>Kama wheat</td>\n",
              "    </tr>\n",
              "    <tr>\n",
              "      <th>2</th>\n",
              "      <td>14.29</td>\n",
              "      <td>14.09</td>\n",
              "      <td>0.9050</td>\n",
              "      <td>5.291</td>\n",
              "      <td>3.337</td>\n",
              "      <td>2.699</td>\n",
              "      <td>4.825</td>\n",
              "      <td>Kama wheat</td>\n",
              "    </tr>\n",
              "    <tr>\n",
              "      <th>3</th>\n",
              "      <td>13.84</td>\n",
              "      <td>13.94</td>\n",
              "      <td>0.8955</td>\n",
              "      <td>5.324</td>\n",
              "      <td>3.379</td>\n",
              "      <td>2.259</td>\n",
              "      <td>4.805</td>\n",
              "      <td>Kama wheat</td>\n",
              "    </tr>\n",
              "    <tr>\n",
              "      <th>4</th>\n",
              "      <td>16.14</td>\n",
              "      <td>14.99</td>\n",
              "      <td>0.9034</td>\n",
              "      <td>5.658</td>\n",
              "      <td>3.562</td>\n",
              "      <td>1.355</td>\n",
              "      <td>5.175</td>\n",
              "      <td>Kama wheat</td>\n",
              "    </tr>\n",
              "  </tbody>\n",
              "</table>\n",
              "</div>\n",
              "      <button class=\"colab-df-convert\" onclick=\"convertToInteractive('df-06ebd98d-9347-4e2e-8e0b-3643f4cbe1e7')\"\n",
              "              title=\"Convert this dataframe to an interactive table.\"\n",
              "              style=\"display:none;\">\n",
              "        \n",
              "  <svg xmlns=\"http://www.w3.org/2000/svg\" height=\"24px\"viewBox=\"0 0 24 24\"\n",
              "       width=\"24px\">\n",
              "    <path d=\"M0 0h24v24H0V0z\" fill=\"none\"/>\n",
              "    <path d=\"M18.56 5.44l.94 2.06.94-2.06 2.06-.94-2.06-.94-.94-2.06-.94 2.06-2.06.94zm-11 1L8.5 8.5l.94-2.06 2.06-.94-2.06-.94L8.5 2.5l-.94 2.06-2.06.94zm10 10l.94 2.06.94-2.06 2.06-.94-2.06-.94-.94-2.06-.94 2.06-2.06.94z\"/><path d=\"M17.41 7.96l-1.37-1.37c-.4-.4-.92-.59-1.43-.59-.52 0-1.04.2-1.43.59L10.3 9.45l-7.72 7.72c-.78.78-.78 2.05 0 2.83L4 21.41c.39.39.9.59 1.41.59.51 0 1.02-.2 1.41-.59l7.78-7.78 2.81-2.81c.8-.78.8-2.07 0-2.86zM5.41 20L4 18.59l7.72-7.72 1.47 1.35L5.41 20z\"/>\n",
              "  </svg>\n",
              "      </button>\n",
              "      \n",
              "  <style>\n",
              "    .colab-df-container {\n",
              "      display:flex;\n",
              "      flex-wrap:wrap;\n",
              "      gap: 12px;\n",
              "    }\n",
              "\n",
              "    .colab-df-convert {\n",
              "      background-color: #E8F0FE;\n",
              "      border: none;\n",
              "      border-radius: 50%;\n",
              "      cursor: pointer;\n",
              "      display: none;\n",
              "      fill: #1967D2;\n",
              "      height: 32px;\n",
              "      padding: 0 0 0 0;\n",
              "      width: 32px;\n",
              "    }\n",
              "\n",
              "    .colab-df-convert:hover {\n",
              "      background-color: #E2EBFA;\n",
              "      box-shadow: 0px 1px 2px rgba(60, 64, 67, 0.3), 0px 1px 3px 1px rgba(60, 64, 67, 0.15);\n",
              "      fill: #174EA6;\n",
              "    }\n",
              "\n",
              "    [theme=dark] .colab-df-convert {\n",
              "      background-color: #3B4455;\n",
              "      fill: #D2E3FC;\n",
              "    }\n",
              "\n",
              "    [theme=dark] .colab-df-convert:hover {\n",
              "      background-color: #434B5C;\n",
              "      box-shadow: 0px 1px 3px 1px rgba(0, 0, 0, 0.15);\n",
              "      filter: drop-shadow(0px 1px 2px rgba(0, 0, 0, 0.3));\n",
              "      fill: #FFFFFF;\n",
              "    }\n",
              "  </style>\n",
              "\n",
              "      <script>\n",
              "        const buttonEl =\n",
              "          document.querySelector('#df-06ebd98d-9347-4e2e-8e0b-3643f4cbe1e7 button.colab-df-convert');\n",
              "        buttonEl.style.display =\n",
              "          google.colab.kernel.accessAllowed ? 'block' : 'none';\n",
              "\n",
              "        async function convertToInteractive(key) {\n",
              "          const element = document.querySelector('#df-06ebd98d-9347-4e2e-8e0b-3643f4cbe1e7');\n",
              "          const dataTable =\n",
              "            await google.colab.kernel.invokeFunction('convertToInteractive',\n",
              "                                                     [key], {});\n",
              "          if (!dataTable) return;\n",
              "\n",
              "          const docLinkHtml = 'Like what you see? Visit the ' +\n",
              "            '<a target=\"_blank\" href=https://colab.research.google.com/notebooks/data_table.ipynb>data table notebook</a>'\n",
              "            + ' to learn more about interactive tables.';\n",
              "          element.innerHTML = '';\n",
              "          dataTable['output_type'] = 'display_data';\n",
              "          await google.colab.output.renderOutput(dataTable, element);\n",
              "          const docLink = document.createElement('div');\n",
              "          docLink.innerHTML = docLinkHtml;\n",
              "          element.appendChild(docLink);\n",
              "        }\n",
              "      </script>\n",
              "    </div>\n",
              "  </div>\n",
              "  "
            ]
          },
          "metadata": {},
          "execution_count": 24
        }
      ]
    },
    {
      "cell_type": "code",
      "metadata": {
        "id": "Ox0ji15xE1ya"
      },
      "source": [
        "samples = df.iloc[:, :-1].values\n",
        "varieties = df.iloc[:, -1].values"
      ],
      "execution_count": 25,
      "outputs": []
    },
    {
      "cell_type": "code",
      "metadata": {
        "id": "2stEdYZhE1ya",
        "colab": {
          "base_uri": "https://localhost:8080/",
          "height": 990
        },
        "outputId": "7ce9b579-e016-46cf-e958-2a7ba670f5d6"
      },
      "source": [
        "ks = range(1,6)\n",
        "inertias = []\n",
        "\n",
        "for k in ks:\n",
        "    # Create a KMeans instance with k clusters: model\n",
        "    model = KMeans(n_clusters=k)\n",
        "\n",
        "    # Fit model to samples\n",
        "    model.fit(samples)\n",
        "\n",
        "    # Append the inertia to the list of inertias\n",
        "    inertias.append(model.inertia_)\n",
        "\n",
        "# Plot ks vs inertias\n",
        "plt.figure(figsize=(12, 7), facecolor='lightgrey')\n",
        "plt.plot(ks, inertias, '-o')\n",
        "plt.xlabel('number of clusters, k')\n",
        "plt.ylabel('inertia')\n",
        "plt.xticks(ks)"
      ],
      "execution_count": 26,
      "outputs": [
        {
          "output_type": "stream",
          "name": "stderr",
          "text": [
            "/usr/local/lib/python3.10/dist-packages/sklearn/cluster/_kmeans.py:870: FutureWarning: The default value of `n_init` will change from 10 to 'auto' in 1.4. Set the value of `n_init` explicitly to suppress the warning\n",
            "  warnings.warn(\n",
            "/usr/local/lib/python3.10/dist-packages/sklearn/cluster/_kmeans.py:870: FutureWarning: The default value of `n_init` will change from 10 to 'auto' in 1.4. Set the value of `n_init` explicitly to suppress the warning\n",
            "  warnings.warn(\n",
            "/usr/local/lib/python3.10/dist-packages/sklearn/cluster/_kmeans.py:870: FutureWarning: The default value of `n_init` will change from 10 to 'auto' in 1.4. Set the value of `n_init` explicitly to suppress the warning\n",
            "  warnings.warn(\n",
            "/usr/local/lib/python3.10/dist-packages/sklearn/cluster/_kmeans.py:870: FutureWarning: The default value of `n_init` will change from 10 to 'auto' in 1.4. Set the value of `n_init` explicitly to suppress the warning\n",
            "  warnings.warn(\n",
            "/usr/local/lib/python3.10/dist-packages/sklearn/cluster/_kmeans.py:870: FutureWarning: The default value of `n_init` will change from 10 to 'auto' in 1.4. Set the value of `n_init` explicitly to suppress the warning\n",
            "  warnings.warn(\n"
          ]
        },
        {
          "output_type": "execute_result",
          "data": {
            "text/plain": [
              "([<matplotlib.axis.XTick at 0x7f98ac997640>,\n",
              "  <matplotlib.axis.XTick at 0x7f98ac997dc0>,\n",
              "  <matplotlib.axis.XTick at 0x7f98ac997190>,\n",
              "  <matplotlib.axis.XTick at 0x7f98acad72e0>,\n",
              "  <matplotlib.axis.XTick at 0x7f98acad7e80>],\n",
              " [Text(1, 0, '1'),\n",
              "  Text(2, 0, '2'),\n",
              "  Text(3, 0, '3'),\n",
              "  Text(4, 0, '4'),\n",
              "  Text(5, 0, '5')])"
            ]
          },
          "metadata": {},
          "execution_count": 26
        },
        {
          "output_type": "display_data",
          "data": {
            "text/plain": [
              "<Figure size 1200x700 with 1 Axes>"
            ],
            "image/png": "[encoded data removed]"
          },
          "metadata": {}
        }
      ]
    },
    {
      "cell_type": "markdown",
      "metadata": {
        "id": "K1WvnjvOE1yb"
      },
      "source": [
        "### Evaluating the grain clustering\n",
        "In the previous exercise, you observed from the inertia plot that 3 is a good number of clusters for the grain data. In fact, the grain samples come from a mix of 3 different grain varieties: \"Kama\", \"Rosa\" and \"Canadian\". In this exercise, cluster the grain samples into three clusters, and compare the clusters to the grain varieties using a cross-tabulation.\n"
      ]
    },
    {
      "cell_type": "code",
      "metadata": {
        "id": "EAyuzpjAE1yb",
        "outputId": "27589098-4e66-41eb-a3d2-d585d787ec0c",
        "colab": {
          "base_uri": "https://localhost:8080/"
        }
      },
      "source": [
        "# Create a KMeans model with 3 clusters: model\n",
        "model = KMeans(n_clusters=3)\n",
        "\n",
        "# Use fit_predict to fit model and obtain cluster labels: labels\n",
        "labels = model.fit_predict(samples)\n",
        "\n",
        "# Create a DataFrame with labels and varieties as columns: df\n",
        "df = pd.DataFrame({'labels': labels, 'varieties': varieties})\n",
        "\n",
        "# Create crosstab: ct\n",
        "ct = pd.crosstab(df['labels'], df['varieties'])\n",
        "\n",
        "# Display ct\n",
        "print(ct)"
      ],
      "execution_count": 27,
      "outputs": [
        {
          "output_type": "stream",
          "name": "stdout",
          "text": [
            "varieties  Canadian wheat  Kama wheat  Rosa wheat\n",
            "labels                                           \n",
            "0                      68           9           0\n",
            "1                       0           1          60\n",
            "2                       2          60          10\n"
          ]
        },
        {
          "output_type": "stream",
          "name": "stderr",
          "text": [
            "/usr/local/lib/python3.10/dist-packages/sklearn/cluster/_kmeans.py:870: FutureWarning: The default value of `n_init` will change from 10 to 'auto' in 1.4. Set the value of `n_init` explicitly to suppress the warning\n",
            "  warnings.warn(\n"
          ]
        }
      ]
    },
    {
      "cell_type": "markdown",
      "metadata": {
        "id": "Ghxiri8-E1yb"
      },
      "source": [
        "## Transforming features for better clusterings\n",
        "- StandardScaler\n",
        "    - In kmeans, feature variance = feature influence\n",
        "    - ```StandardScaler``` transforms each feature to have mean 0 and variance 1\n",
        "    - Features are said to be \"standardized\"\n",
        "- StandardScaler, then KMeans\n",
        "    - Need to perform two steps: ```StandardScaler```, then ```KMeans```\n",
        "    - Use ```sklearn``` pipeline to combine multiple steps\n",
        "    - Data flows from one step into the next"
      ]
    },
    {
      "cell_type": "markdown",
      "metadata": {
        "id": "2YrrtSlZE1yc"
      },
      "source": [
        "### Scaling fish data for clustering\n",
        "You are given an array ```samples``` giving measurements of fish. Each row represents an individual fish. The measurements, such as weight in grams, length in centimeters, and the percentage ratio of height to length, have very different scales. In order to cluster this data effectively, you'll need to standardize these features first. In this exercise, you'll build a pipeline to standardize and cluster the data.\n",
        "\n",
        "These fish measurement data were sourced from the [Journal of Statistics Education](http://ww2.amstat.org/publications/jse/jse_data_archive.htm)."
      ]
    },
    {
      "cell_type": "markdown",
      "metadata": {
        "id": "MjwkmgivE1yc"
      },
      "source": [
        "#### Preprocess"
      ]
    },
    {
      "cell_type": "code",
      "metadata": {
        "id": "jgbNGLNrE1yd",
        "colab": {
          "base_uri": "https://localhost:8080/",
          "height": 206
        },
        "outputId": "0f81cd34-f7f4-4f70-ba9a-5baa25ea7e6c"
      },
      "source": [
        "df = pd.read_csv('Grains/seeds.csv', header=None)\n",
        "df.head()"
      ],
      "execution_count": 28,
      "outputs": [
        {
          "output_type": "execute_result",
          "data": {
            "text/plain": [
              "       0      1       2      3      4      5      6  7\n",
              "0  15.26  14.84  0.8710  5.763  3.312  2.221  5.220  1\n",
              "1  14.88  14.57  0.8811  5.554  3.333  1.018  4.956  1\n",
              "2  14.29  14.09  0.9050  5.291  3.337  2.699  4.825  1\n",
              "3  13.84  13.94  0.8955  5.324  3.379  2.259  4.805  1\n",
              "4  16.14  14.99  0.9034  5.658  3.562  1.355  5.175  1"
            ],
            "text/html": [
              "\n",
              "  <div id=\"df-14d0a948-8fa6-4b8f-bbdc-7fe2d0e6b23b\">\n",
              "    <div class=\"colab-df-container\">\n",
              "      <div>\n",
              "<style scoped>\n",
              "    .dataframe tbody tr th:only-of-type {\n",
              "        vertical-align: middle;\n",
              "    }\n",
              "\n",
              "    .dataframe tbody tr th {\n",
              "        vertical-align: top;\n",
              "    }\n",
              "\n",
              "    .dataframe thead th {\n",
              "        text-align: right;\n",
              "    }\n",
              "</style>\n",
              "<table border=\"1\" class=\"dataframe\">\n",
              "  <thead>\n",
              "    <tr style=\"text-align: right;\">\n",
              "      <th></th>\n",
              "      <th>0</th>\n",
              "      <th>1</th>\n",
              "      <th>2</th>\n",
              "      <th>3</th>\n",
              "      <th>4</th>\n",
              "      <th>5</th>\n",
              "      <th>6</th>\n",
              "      <th>7</th>\n",
              "    </tr>\n",
              "  </thead>\n",
              "  <tbody>\n",
              "    <tr>\n",
              "      <th>0</th>\n",
              "      <td>15.26</td>\n",
              "      <td>14.84</td>\n",
              "      <td>0.8710</td>\n",
              "      <td>5.763</td>\n",
              "      <td>3.312</td>\n",
              "      <td>2.221</td>\n",
              "      <td>5.220</td>\n",
              "      <td>1</td>\n",
              "    </tr>\n",
              "    <tr>\n",
              "      <th>1</th>\n",
              "      <td>14.88</td>\n",
              "      <td>14.57</td>\n",
              "      <td>0.8811</td>\n",
              "      <td>5.554</td>\n",
              "      <td>3.333</td>\n",
              "      <td>1.018</td>\n",
              "      <td>4.956</td>\n",
              "      <td>1</td>\n",
              "    </tr>\n",
              "    <tr>\n",
              "      <th>2</th>\n",
              "      <td>14.29</td>\n",
              "      <td>14.09</td>\n",
              "      <td>0.9050</td>\n",
              "      <td>5.291</td>\n",
              "      <td>3.337</td>\n",
              "      <td>2.699</td>\n",
              "      <td>4.825</td>\n",
              "      <td>1</td>\n",
              "    </tr>\n",
              "    <tr>\n",
              "      <th>3</th>\n",
              "      <td>13.84</td>\n",
              "      <td>13.94</td>\n",
              "      <td>0.8955</td>\n",
              "      <td>5.324</td>\n",
              "      <td>3.379</td>\n",
              "      <td>2.259</td>\n",
              "      <td>4.805</td>\n",
              "      <td>1</td>\n",
              "    </tr>\n",
              "    <tr>\n",
              "      <th>4</th>\n",
              "      <td>16.14</td>\n",
              "      <td>14.99</td>\n",
              "      <td>0.9034</td>\n",
              "      <td>5.658</td>\n",
              "      <td>3.562</td>\n",
              "      <td>1.355</td>\n",
              "      <td>5.175</td>\n",
              "      <td>1</td>\n",
              "    </tr>\n",
              "  </tbody>\n",
              "</table>\n",
              "</div>\n",
              "      <button class=\"colab-df-convert\" onclick=\"convertToInteractive('df-14d0a948-8fa6-4b8f-bbdc-7fe2d0e6b23b')\"\n",
              "              title=\"Convert this dataframe to an interactive table.\"\n",
              "              style=\"display:none;\">\n",
              "        \n",
              "  <svg xmlns=\"http://www.w3.org/2000/svg\" height=\"24px\"viewBox=\"0 0 24 24\"\n",
              "       width=\"24px\">\n",
              "    <path d=\"M0 0h24v24H0V0z\" fill=\"none\"/>\n",
              "    <path d=\"M18.56 5.44l.94 2.06.94-2.06 2.06-.94-2.06-.94-.94-2.06-.94 2.06-2.06.94zm-11 1L8.5 8.5l.94-2.06 2.06-.94-2.06-.94L8.5 2.5l-.94 2.06-2.06.94zm10 10l.94 2.06.94-2.06 2.06-.94-2.06-.94-.94-2.06-.94 2.06-2.06.94z\"/><path d=\"M17.41 7.96l-1.37-1.37c-.4-.4-.92-.59-1.43-.59-.52 0-1.04.2-1.43.59L10.3 9.45l-7.72 7.72c-.78.78-.78 2.05 0 2.83L4 21.41c.39.39.9.59 1.41.59.51 0 1.02-.2 1.41-.59l7.78-7.78 2.81-2.81c.8-.78.8-2.07 0-2.86zM5.41 20L4 18.59l7.72-7.72 1.47 1.35L5.41 20z\"/>\n",
              "  </svg>\n",
              "      </button>\n",
              "      \n",
              "  <style>\n",
              "    .colab-df-container {\n",
              "      display:flex;\n",
              "      flex-wrap:wrap;\n",
              "      gap: 12px;\n",
              "    }\n",
              "\n",
              "    .colab-df-convert {\n",
              "      background-color: #E8F0FE;\n",
              "      border: none;\n",
              "      border-radius: 50%;\n",
              "      cursor: pointer;\n",
              "      display: none;\n",
              "      fill: #1967D2;\n",
              "      height: 32px;\n",
              "      padding: 0 0 0 0;\n",
              "      width: 32px;\n",
              "    }\n",
              "\n",
              "    .colab-df-convert:hover {\n",
              "      background-color: #E2EBFA;\n",
              "      box-shadow: 0px 1px 2px rgba(60, 64, 67, 0.3), 0px 1px 3px 1px rgba(60, 64, 67, 0.15);\n",
              "      fill: #174EA6;\n",
              "    }\n",
              "\n",
              "    [theme=dark] .colab-df-convert {\n",
              "      background-color: #3B4455;\n",
              "      fill: #D2E3FC;\n",
              "    }\n",
              "\n",
              "    [theme=dark] .colab-df-convert:hover {\n",
              "      background-color: #434B5C;\n",
              "      box-shadow: 0px 1px 3px 1px rgba(0, 0, 0, 0.15);\n",
              "      filter: drop-shadow(0px 1px 2px rgba(0, 0, 0, 0.3));\n",
              "      fill: #FFFFFF;\n",
              "    }\n",
              "  </style>\n",
              "\n",
              "      <script>\n",
              "        const buttonEl =\n",
              "          document.querySelector('#df-14d0a948-8fa6-4b8f-bbdc-7fe2d0e6b23b button.colab-df-convert');\n",
              "        buttonEl.style.display =\n",
              "          google.colab.kernel.accessAllowed ? 'block' : 'none';\n",
              "\n",
              "        async function convertToInteractive(key) {\n",
              "          const element = document.querySelector('#df-14d0a948-8fa6-4b8f-bbdc-7fe2d0e6b23b');\n",
              "          const dataTable =\n",
              "            await google.colab.kernel.invokeFunction('convertToInteractive',\n",
              "                                                     [key], {});\n",
              "          if (!dataTable) return;\n",
              "\n",
              "          const docLinkHtml = 'Like what you see? Visit the ' +\n",
              "            '<a target=\"_blank\" href=https://colab.research.google.com/notebooks/data_table.ipynb>data table notebook</a>'\n",
              "            + ' to learn more about interactive tables.';\n",
              "          element.innerHTML = '';\n",
              "          dataTable['output_type'] = 'display_data';\n",
              "          await google.colab.output.renderOutput(dataTable, element);\n",
              "          const docLink = document.createElement('div');\n",
              "          docLink.innerHTML = docLinkHtml;\n",
              "          element.appendChild(docLink);\n",
              "        }\n",
              "      </script>\n",
              "    </div>\n",
              "  </div>\n",
              "  "
            ]
          },
          "metadata": {},
          "execution_count": 28
        }
      ]
    },
    {
      "cell_type": "code",
      "metadata": {
        "id": "L_pheBOYE1yf"
      },
      "source": [
        "samples = df.iloc[:, 1:].values\n",
        "species = df.iloc[:, 0].values"
      ],
      "execution_count": 29,
      "outputs": []
    },
    {
      "cell_type": "code",
      "metadata": {
        "id": "fQ2MFBHXE1yg"
      },
      "source": [
        "from sklearn.pipeline import make_pipeline\n",
        "from sklearn.preprocessing import StandardScaler\n",
        "from sklearn.cluster import KMeans\n",
        "\n",
        "# Create scaler: scaler\n",
        "scaler = StandardScaler()\n",
        "\n",
        "# Create KMeans instance: kmeans\n",
        "kmeans = KMeans(n_clusters=4)\n",
        "\n",
        "# Create pipeline: pipeline\n",
        "pipeline = make_pipeline(scaler, kmeans)"
      ],
      "execution_count": 30,
      "outputs": []
    },
    {
      "cell_type": "markdown",
      "metadata": {
        "id": "A8ZQr8AiE1yh"
      },
      "source": [
        "### Clustering the fish data\n",
        "You'll now use your standardization and clustering pipeline from the previous exercise to cluster the fish by their measurements, and then create a cross-tabulation to compare the cluster labels with the fish species."
      ]
    },
    {
      "cell_type": "code",
      "metadata": {
        "id": "dSswoZtLE1yh",
        "outputId": "9c919a2e-5999-4364-8cc4-45c4a5997105",
        "colab": {
          "base_uri": "https://localhost:8080/"
        }
      },
      "source": [
        "# Fit the pipeline to samples\n",
        "pipeline.fit(samples)\n",
        "\n",
        "# Calculate the cluster labels: labels\n",
        "labels = pipeline.predict(samples)\n",
        "\n",
        "# Create a DataFrame with labels and species as columns: df\n",
        "df = pd.DataFrame({'labels': labels, 'species': species})\n",
        "\n",
        "# Create crosstab: ct\n",
        "ct = pd.crosstab(df['labels'], df['species'])\n",
        "\n",
        "# Display ct\n",
        "print(ct)"
      ],
      "execution_count": 31,
      "outputs": [
        {
          "output_type": "stream",
          "name": "stdout",
          "text": [
            "species  10.59  10.74  10.79  10.80  10.82  10.83  10.91  10.93  11.02  11.14  \\\n",
            "labels                                                                          \n",
            "0            0      0      0      0      0      0      0      0      0      0   \n",
            "1            0      0      0      0      0      0      0      0      0      0   \n",
            "2            1      0      0      1      0      0      0      0      0      1   \n",
            "3            0      1      1      0      1      1      1      1      1      0   \n",
            "\n",
            "species  ...  19.94  20.03  20.10  20.16  20.20  20.24  20.71  20.88  20.97  \\\n",
            "labels   ...                                                                  \n",
            "0        ...      0      0      0      0      0      0      0      0      0   \n",
            "1        ...      1      1      1      1      1      1      1      1      1   \n",
            "2        ...      0      0      0      0      0      0      0      0      0   \n",
            "3        ...      0      0      0      0      0      0      0      0      0   \n",
            "\n",
            "species  21.18  \n",
            "labels          \n",
            "0            0  \n",
            "1            1  \n",
            "2            0  \n",
            "3            0  \n",
            "\n",
            "[4 rows x 193 columns]\n"
          ]
        },
        {
          "output_type": "stream",
          "name": "stderr",
          "text": [
            "/usr/local/lib/python3.10/dist-packages/sklearn/cluster/_kmeans.py:870: FutureWarning: The default value of `n_init` will change from 10 to 'auto' in 1.4. Set the value of `n_init` explicitly to suppress the warning\n",
            "  warnings.warn(\n"
          ]
        }
      ]
    },
    {
      "cell_type": "markdown",
      "metadata": {
        "id": "w6d3GLKeE1yi"
      },
      "source": [
        "### Clustering stocks using KMeans\n",
        "In this exercise, you'll cluster companies using their daily stock price movements (i.e. the dollar difference between the closing and opening prices for each trading day). You are given a NumPy array ```movements``` of daily price movements from 2010 to 2015 (obtained from Yahoo! Finance), where each row corresponds to a company, and each column corresponds to a trading day.\n",
        "\n",
        "Some stocks are more expensive than others. To account for this, include a ```Normalizer``` at the beginning of your pipeline. The Normalizer will separately transform each company's stock price to a relative scale before the clustering begins.\n",
        "\n",
        "Note that ```Normalizer()``` is different to ```StandardScaler()```, which you used in the previous exercise. While ```StandardScaler()``` standardizes features (such as the features of the fish data from the previous exercise) by removing the mean and scaling to unit variance, ```Normalizer()``` rescales each sample - here, each company's stock price - independently of the other."
      ]
    },
    {
      "cell_type": "markdown",
      "metadata": {
        "id": "j91Zddi8E1yj"
      },
      "source": [
        "#### Preprocess"
      ]
    },
    {
      "cell_type": "code",
      "metadata": {
        "id": "JIPdXagrE1yj",
        "colab": {
          "base_uri": "https://localhost:8080/",
          "height": 334
        },
        "outputId": "b582e2e6-afb1-422e-e149-a8b99ff7f478"
      },
      "source": [
        "df = pd.read_csv('company-stock-movements-2010-2015-incl.csv', index_col=0)\n",
        "df.head()"
      ],
      "execution_count": 32,
      "outputs": [
        {
          "output_type": "execute_result",
          "data": {
            "text/plain": [
              "                  2010-01-04  2010-01-05  2010-01-06  2010-01-07  2010-01-08  \\\n",
              "Apple               0.580000   -0.220005   -3.409998   -1.170000    1.680011   \n",
              "AIG                -0.640002   -0.650000   -0.210001   -0.420000    0.710001   \n",
              "Amazon             -2.350006    1.260009   -2.350006   -2.009995    2.960006   \n",
              "American express    0.109997    0.000000    0.260002    0.720002    0.190003   \n",
              "Boeing              0.459999    1.770000    1.549999    2.690003    0.059997   \n",
              "\n",
              "                  2010-01-11  2010-01-12  2010-01-13  2010-01-14  2010-01-15  \\\n",
              "Apple              -2.689994   -1.469994    2.779997   -0.680003   -4.999995   \n",
              "AIG                -0.200001   -1.130001    0.069999   -0.119999   -0.500000   \n",
              "Amazon             -2.309997   -1.640007    1.209999   -1.790001   -2.039994   \n",
              "American express   -0.270001    0.750000    0.300004    0.639999   -0.130001   \n",
              "Boeing             -1.080002    0.360000    0.549999    0.530002   -0.709999   \n",
              "\n",
              "                  ...  2013-10-16  2013-10-17  2013-10-18  2013-10-21  \\\n",
              "Apple             ...    0.320008    4.519997    2.899987    9.590019   \n",
              "AIG               ...    0.919998    0.709999    0.119999   -0.480000   \n",
              "Amazon            ...    2.109985    3.699982    9.570008   -3.450013   \n",
              "American express  ...    0.680001    2.290001    0.409996   -0.069999   \n",
              "Boeing            ...    1.559997    2.480003    0.019997   -1.220001   \n",
              "\n",
              "                  2013-10-22  2013-10-23  2013-10-24  2013-10-25  2013-10-28  \\\n",
              "Apple              -6.540016    5.959976    6.910011   -5.359962    0.840019   \n",
              "AIG                 0.010002   -0.279998   -0.190003   -0.040001   -0.400002   \n",
              "Amazon              4.820008   -4.079986    2.579986    4.790009   -1.760009   \n",
              "American express    0.100006    0.069999    0.130005    1.849999    0.040001   \n",
              "Boeing              0.480003    3.020004   -0.029999    1.940002    1.130005   \n",
              "\n",
              "                  2013-10-29  \n",
              "Apple             -19.589981  \n",
              "AIG                 0.660000  \n",
              "Amazon              3.740021  \n",
              "American express    0.540001  \n",
              "Boeing              0.309998  \n",
              "\n",
              "[5 rows x 963 columns]"
            ],
            "text/html": [
              "\n",
              "  <div id=\"df-2c2e2194-dc0b-4055-9b01-c5056a1c9486\">\n",
              "    <div class=\"colab-df-container\">\n",
              "      <div>\n",
              "<style scoped>\n",
              "    .dataframe tbody tr th:only-of-type {\n",
              "        vertical-align: middle;\n",
              "    }\n",
              "\n",
              "    .dataframe tbody tr th {\n",
              "        vertical-align: top;\n",
              "    }\n",
              "\n",
              "    .dataframe thead th {\n",
              "        text-align: right;\n",
              "    }\n",
              "</style>\n",
              "<table border=\"1\" class=\"dataframe\">\n",
              "  <thead>\n",
              "    <tr style=\"text-align: right;\">\n",
              "      <th></th>\n",
              "      <th>2010-01-04</th>\n",
              "      <th>2010-01-05</th>\n",
              "      <th>2010-01-06</th>\n",
              "      <th>2010-01-07</th>\n",
              "      <th>2010-01-08</th>\n",
              "      <th>2010-01-11</th>\n",
              "      <th>2010-01-12</th>\n",
              "      <th>2010-01-13</th>\n",
              "      <th>2010-01-14</th>\n",
              "      <th>2010-01-15</th>\n",
              "      <th>...</th>\n",
              "      <th>2013-10-16</th>\n",
              "      <th>2013-10-17</th>\n",
              "      <th>2013-10-18</th>\n",
              "      <th>2013-10-21</th>\n",
              "      <th>2013-10-22</th>\n",
              "      <th>2013-10-23</th>\n",
              "      <th>2013-10-24</th>\n",
              "      <th>2013-10-25</th>\n",
              "      <th>2013-10-28</th>\n",
              "      <th>2013-10-29</th>\n",
              "    </tr>\n",
              "  </thead>\n",
              "  <tbody>\n",
              "    <tr>\n",
              "      <th>Apple</th>\n",
              "      <td>0.580000</td>\n",
              "      <td>-0.220005</td>\n",
              "      <td>-3.409998</td>\n",
              "      <td>-1.170000</td>\n",
              "      <td>1.680011</td>\n",
              "      <td>-2.689994</td>\n",
              "      <td>-1.469994</td>\n",
              "      <td>2.779997</td>\n",
              "      <td>-0.680003</td>\n",
              "      <td>-4.999995</td>\n",
              "      <td>...</td>\n",
              "      <td>0.320008</td>\n",
              "      <td>4.519997</td>\n",
              "      <td>2.899987</td>\n",
              "      <td>9.590019</td>\n",
              "      <td>-6.540016</td>\n",
              "      <td>5.959976</td>\n",
              "      <td>6.910011</td>\n",
              "      <td>-5.359962</td>\n",
              "      <td>0.840019</td>\n",
              "      <td>-19.589981</td>\n",
              "    </tr>\n",
              "    <tr>\n",
              "      <th>AIG</th>\n",
              "      <td>-0.640002</td>\n",
              "      <td>-0.650000</td>\n",
              "      <td>-0.210001</td>\n",
              "      <td>-0.420000</td>\n",
              "      <td>0.710001</td>\n",
              "      <td>-0.200001</td>\n",
              "      <td>-1.130001</td>\n",
              "      <td>0.069999</td>\n",
              "      <td>-0.119999</td>\n",
              "      <td>-0.500000</td>\n",
              "      <td>...</td>\n",
              "      <td>0.919998</td>\n",
              "      <td>0.709999</td>\n",
              "      <td>0.119999</td>\n",
              "      <td>-0.480000</td>\n",
              "      <td>0.010002</td>\n",
              "      <td>-0.279998</td>\n",
              "      <td>-0.190003</td>\n",
              "      <td>-0.040001</td>\n",
              "      <td>-0.400002</td>\n",
              "      <td>0.660000</td>\n",
              "    </tr>\n",
              "    <tr>\n",
              "      <th>Amazon</th>\n",
              "      <td>-2.350006</td>\n",
              "      <td>1.260009</td>\n",
              "      <td>-2.350006</td>\n",
              "      <td>-2.009995</td>\n",
              "      <td>2.960006</td>\n",
              "      <td>-2.309997</td>\n",
              "      <td>-1.640007</td>\n",
              "      <td>1.209999</td>\n",
              "      <td>-1.790001</td>\n",
              "      <td>-2.039994</td>\n",
              "      <td>...</td>\n",
              "      <td>2.109985</td>\n",
              "      <td>3.699982</td>\n",
              "      <td>9.570008</td>\n",
              "      <td>-3.450013</td>\n",
              "      <td>4.820008</td>\n",
              "      <td>-4.079986</td>\n",
              "      <td>2.579986</td>\n",
              "      <td>4.790009</td>\n",
              "      <td>-1.760009</td>\n",
              "      <td>3.740021</td>\n",
              "    </tr>\n",
              "    <tr>\n",
              "      <th>American express</th>\n",
              "      <td>0.109997</td>\n",
              "      <td>0.000000</td>\n",
              "      <td>0.260002</td>\n",
              "      <td>0.720002</td>\n",
              "      <td>0.190003</td>\n",
              "      <td>-0.270001</td>\n",
              "      <td>0.750000</td>\n",
              "      <td>0.300004</td>\n",
              "      <td>0.639999</td>\n",
              "      <td>-0.130001</td>\n",
              "      <td>...</td>\n",
              "      <td>0.680001</td>\n",
              "      <td>2.290001</td>\n",
              "      <td>0.409996</td>\n",
              "      <td>-0.069999</td>\n",
              "      <td>0.100006</td>\n",
              "      <td>0.069999</td>\n",
              "      <td>0.130005</td>\n",
              "      <td>1.849999</td>\n",
              "      <td>0.040001</td>\n",
              "      <td>0.540001</td>\n",
              "    </tr>\n",
              "    <tr>\n",
              "      <th>Boeing</th>\n",
              "      <td>0.459999</td>\n",
              "      <td>1.770000</td>\n",
              "      <td>1.549999</td>\n",
              "      <td>2.690003</td>\n",
              "      <td>0.059997</td>\n",
              "      <td>-1.080002</td>\n",
              "      <td>0.360000</td>\n",
              "      <td>0.549999</td>\n",
              "      <td>0.530002</td>\n",
              "      <td>-0.709999</td>\n",
              "      <td>...</td>\n",
              "      <td>1.559997</td>\n",
              "      <td>2.480003</td>\n",
              "      <td>0.019997</td>\n",
              "      <td>-1.220001</td>\n",
              "      <td>0.480003</td>\n",
              "      <td>3.020004</td>\n",
              "      <td>-0.029999</td>\n",
              "      <td>1.940002</td>\n",
              "      <td>1.130005</td>\n",
              "      <td>0.309998</td>\n",
              "    </tr>\n",
              "  </tbody>\n",
              "</table>\n",
              "<p>5 rows × 963 columns</p>\n",
              "</div>\n",
              "      <button class=\"colab-df-convert\" onclick=\"convertToInteractive('df-2c2e2194-dc0b-4055-9b01-c5056a1c9486')\"\n",
              "              title=\"Convert this dataframe to an interactive table.\"\n",
              "              style=\"display:none;\">\n",
              "        \n",
              "  <svg xmlns=\"http://www.w3.org/2000/svg\" height=\"24px\"viewBox=\"0 0 24 24\"\n",
              "       width=\"24px\">\n",
              "    <path d=\"M0 0h24v24H0V0z\" fill=\"none\"/>\n",
              "    <path d=\"M18.56 5.44l.94 2.06.94-2.06 2.06-.94-2.06-.94-.94-2.06-.94 2.06-2.06.94zm-11 1L8.5 8.5l.94-2.06 2.06-.94-2.06-.94L8.5 2.5l-.94 2.06-2.06.94zm10 10l.94 2.06.94-2.06 2.06-.94-2.06-.94-.94-2.06-.94 2.06-2.06.94z\"/><path d=\"M17.41 7.96l-1.37-1.37c-.4-.4-.92-.59-1.43-.59-.52 0-1.04.2-1.43.59L10.3 9.45l-7.72 7.72c-.78.78-.78 2.05 0 2.83L4 21.41c.39.39.9.59 1.41.59.51 0 1.02-.2 1.41-.59l7.78-7.78 2.81-2.81c.8-.78.8-2.07 0-2.86zM5.41 20L4 18.59l7.72-7.72 1.47 1.35L5.41 20z\"/>\n",
              "  </svg>\n",
              "      </button>\n",
              "      \n",
              "  <style>\n",
              "    .colab-df-container {\n",
              "      display:flex;\n",
              "      flex-wrap:wrap;\n",
              "      gap: 12px;\n",
              "    }\n",
              "\n",
              "    .colab-df-convert {\n",
              "      background-color: #E8F0FE;\n",
              "      border: none;\n",
              "      border-radius: 50%;\n",
              "      cursor: pointer;\n",
              "      display: none;\n",
              "      fill: #1967D2;\n",
              "      height: 32px;\n",
              "      padding: 0 0 0 0;\n",
              "      width: 32px;\n",
              "    }\n",
              "\n",
              "    .colab-df-convert:hover {\n",
              "      background-color: #E2EBFA;\n",
              "      box-shadow: 0px 1px 2px rgba(60, 64, 67, 0.3), 0px 1px 3px 1px rgba(60, 64, 67, 0.15);\n",
              "      fill: #174EA6;\n",
              "    }\n",
              "\n",
              "    [theme=dark] .colab-df-convert {\n",
              "      background-color: #3B4455;\n",
              "      fill: #D2E3FC;\n",
              "    }\n",
              "\n",
              "    [theme=dark] .colab-df-convert:hover {\n",
              "      background-color: #434B5C;\n",
              "      box-shadow: 0px 1px 3px 1px rgba(0, 0, 0, 0.15);\n",
              "      filter: drop-shadow(0px 1px 2px rgba(0, 0, 0, 0.3));\n",
              "      fill: #FFFFFF;\n",
              "    }\n",
              "  </style>\n",
              "\n",
              "      <script>\n",
              "        const buttonEl =\n",
              "          document.querySelector('#df-2c2e2194-dc0b-4055-9b01-c5056a1c9486 button.colab-df-convert');\n",
              "        buttonEl.style.display =\n",
              "          google.colab.kernel.accessAllowed ? 'block' : 'none';\n",
              "\n",
              "        async function convertToInteractive(key) {\n",
              "          const element = document.querySelector('#df-2c2e2194-dc0b-4055-9b01-c5056a1c9486');\n",
              "          const dataTable =\n",
              "            await google.colab.kernel.invokeFunction('convertToInteractive',\n",
              "                                                     [key], {});\n",
              "          if (!dataTable) return;\n",
              "\n",
              "          const docLinkHtml = 'Like what you see? Visit the ' +\n",
              "            '<a target=\"_blank\" href=https://colab.research.google.com/notebooks/data_table.ipynb>data table notebook</a>'\n",
              "            + ' to learn more about interactive tables.';\n",
              "          element.innerHTML = '';\n",
              "          dataTable['output_type'] = 'display_data';\n",
              "          await google.colab.output.renderOutput(dataTable, element);\n",
              "          const docLink = document.createElement('div');\n",
              "          docLink.innerHTML = docLinkHtml;\n",
              "          element.appendChild(docLink);\n",
              "        }\n",
              "      </script>\n",
              "    </div>\n",
              "  </div>\n",
              "  "
            ]
          },
          "metadata": {},
          "execution_count": 32
        }
      ]
    },
    {
      "cell_type": "code",
      "metadata": {
        "id": "UX9tF-2hE1yk"
      },
      "source": [
        "movements = df.values\n",
        "companies = df.index.values"
      ],
      "execution_count": 33,
      "outputs": []
    },
    {
      "cell_type": "code",
      "metadata": {
        "id": "e7uZy6WZE1yk",
        "colab": {
          "base_uri": "https://localhost:8080/",
          "height": 204
        },
        "outputId": "9b035e86-9698-4fab-f21e-466d5da524cd"
      },
      "source": [
        "from sklearn.preprocessing import Normalizer\n",
        "from sklearn.pipeline import make_pipeline\n",
        "\n",
        "# Create a normalizer: normalizer\n",
        "normalizer = Normalizer()\n",
        "\n",
        "# Create a KMeans model with 10 clusters: kmeans\n",
        "kmeans = KMeans(n_clusters=10)\n",
        "\n",
        "# Make a pipeline chaining normalizer and kmeans: pipeline\n",
        "pipeline = make_pipeline(normalizer, kmeans)\n",
        "\n",
        "# Fit pipeline to the daily price movements\n",
        "pipeline.fit(movements)"
      ],
      "execution_count": 34,
      "outputs": [
        {
          "output_type": "stream",
          "name": "stderr",
          "text": [
            "/usr/local/lib/python3.10/dist-packages/sklearn/cluster/_kmeans.py:870: FutureWarning: The default value of `n_init` will change from 10 to 'auto' in 1.4. Set the value of `n_init` explicitly to suppress the warning\n",
            "  warnings.warn(\n"
          ]
        },
        {
          "output_type": "execute_result",
          "data": {
            "text/plain": [
              "Pipeline(steps=[('normalizer', Normalizer()),\n",
              "                ('kmeans', KMeans(n_clusters=10))])"
            ],
            "text/html": [
              "<style>#sk-container-id-1 {color: black;background-color: white;}#sk-container-id-1 pre{padding: 0;}#sk-container-id-1 div.sk-toggleable {background-color: white;}#sk-container-id-1 label.sk-toggleable__label {cursor: pointer;display: block;width: 100%;margin-bottom: 0;padding: 0.3em;box-sizing: border-box;text-align: center;}#sk-container-id-1 label.sk-toggleable__label-arrow:before {content: \"▸\";float: left;margin-right: 0.25em;color: #696969;}#sk-container-id-1 label.sk-toggleable__label-arrow:hover:before {color: black;}#sk-container-id-1 div.sk-estimator:hover label.sk-toggleable__label-arrow:before {color: black;}#sk-container-id-1 div.sk-toggleable__content {max-height: 0;max-width: 0;overflow: hidden;text-align: left;background-color: #f0f8ff;}#sk-container-id-1 div.sk-toggleable__content pre {margin: 0.2em;color: black;border-radius: 0.25em;background-color: #f0f8ff;}#sk-container-id-1 input.sk-toggleable__control:checked~div.sk-toggleable__content {max-height: 200px;max-width: 100%;overflow: auto;}#sk-container-id-1 input.sk-toggleable__control:checked~label.sk-toggleable__label-arrow:before {content: \"▾\";}#sk-container-id-1 div.sk-estimator input.sk-toggleable__control:checked~label.sk-toggleable__label {background-color: #d4ebff;}#sk-container-id-1 div.sk-label input.sk-toggleable__control:checked~label.sk-toggleable__label {background-color: #d4ebff;}#sk-container-id-1 input.sk-hidden--visually {border: 0;clip: rect(1px 1px 1px 1px);clip: rect(1px, 1px, 1px, 1px);height: 1px;margin: -1px;overflow: hidden;padding: 0;position: absolute;width: 1px;}#sk-container-id-1 div.sk-estimator {font-family: monospace;background-color: #f0f8ff;border: 1px dotted black;border-radius: 0.25em;box-sizing: border-box;margin-bottom: 0.5em;}#sk-container-id-1 div.sk-estimator:hover {background-color: #d4ebff;}#sk-container-id-1 div.sk-parallel-item::after {content: \"\";width: 100%;border-bottom: 1px solid gray;flex-grow: 1;}#sk-container-id-1 div.sk-label:hover label.sk-toggleable__label {background-color: #d4ebff;}#sk-container-id-1 div.sk-serial::before {content: \"\";position: absolute;border-left: 1px solid gray;box-sizing: border-box;top: 0;bottom: 0;left: 50%;z-index: 0;}#sk-container-id-1 div.sk-serial {display: flex;flex-direction: column;align-items: center;background-color: white;padding-right: 0.2em;padding-left: 0.2em;position: relative;}#sk-container-id-1 div.sk-item {position: relative;z-index: 1;}#sk-container-id-1 div.sk-parallel {display: flex;align-items: stretch;justify-content: center;background-color: white;position: relative;}#sk-container-id-1 div.sk-item::before, #sk-container-id-1 div.sk-parallel-item::before {content: \"\";position: absolute;border-left: 1px solid gray;box-sizing: border-box;top: 0;bottom: 0;left: 50%;z-index: -1;}#sk-container-id-1 div.sk-parallel-item {display: flex;flex-direction: column;z-index: 1;position: relative;background-color: white;}#sk-container-id-1 div.sk-parallel-item:first-child::after {align-self: flex-end;width: 50%;}#sk-container-id-1 div.sk-parallel-item:last-child::after {align-self: flex-start;width: 50%;}#sk-container-id-1 div.sk-parallel-item:only-child::after {width: 0;}#sk-container-id-1 div.sk-dashed-wrapped {border: 1px dashed gray;margin: 0 0.4em 0.5em 0.4em;box-sizing: border-box;padding-bottom: 0.4em;background-color: white;}#sk-container-id-1 div.sk-label label {font-family: monospace;font-weight: bold;display: inline-block;line-height: 1.2em;}#sk-container-id-1 div.sk-label-container {text-align: center;}#sk-container-id-1 div.sk-container {/* jupyter's `normalize.less` sets `[hidden] { display: none; }` but bootstrap.min.css set `[hidden] { display: none !important; }` so we also need the `!important` here to be able to override the default hidden behavior on the sphinx rendered scikit-learn.org. See: https://github.com/scikit-learn/scikit-learn/issues/21755 */display: inline-block !important;position: relative;}#sk-container-id-1 div.sk-text-repr-fallback {display: none;}</style><div id=\"sk-container-id-1\" class=\"sk-top-container\"><div class=\"sk-text-repr-fallback\"><pre>Pipeline(steps=[(&#x27;normalizer&#x27;, Normalizer()),\n",
              "                (&#x27;kmeans&#x27;, KMeans(n_clusters=10))])</pre><b>In a Jupyter environment, please rerun this cell to show the HTML representation or trust the notebook. <br />On GitHub, the HTML representation is unable to render, please try loading this page with nbviewer.org.</b></div><div class=\"sk-container\" hidden><div class=\"sk-item sk-dashed-wrapped\"><div class=\"sk-label-container\"><div class=\"sk-label sk-toggleable\"><input class=\"sk-toggleable__control sk-hidden--visually\" id=\"sk-estimator-id-1\" type=\"checkbox\" ><label for=\"sk-estimator-id-1\" class=\"sk-toggleable__label sk-toggleable__label-arrow\">Pipeline</label><div class=\"sk-toggleable__content\"><pre>Pipeline(steps=[(&#x27;normalizer&#x27;, Normalizer()),\n",
              "                (&#x27;kmeans&#x27;, KMeans(n_clusters=10))])</pre></div></div></div><div class=\"sk-serial\"><div class=\"sk-item\"><div class=\"sk-estimator sk-toggleable\"><input class=\"sk-toggleable__control sk-hidden--visually\" id=\"sk-estimator-id-2\" type=\"checkbox\" ><label for=\"sk-estimator-id-2\" class=\"sk-toggleable__label sk-toggleable__label-arrow\">Normalizer</label><div class=\"sk-toggleable__content\"><pre>Normalizer()</pre></div></div></div><div class=\"sk-item\"><div class=\"sk-estimator sk-toggleable\"><input class=\"sk-toggleable__control sk-hidden--visually\" id=\"sk-estimator-id-3\" type=\"checkbox\" ><label for=\"sk-estimator-id-3\" class=\"sk-toggleable__label sk-toggleable__label-arrow\">KMeans</label><div class=\"sk-toggleable__content\"><pre>KMeans(n_clusters=10)</pre></div></div></div></div></div></div></div>"
            ]
          },
          "metadata": {},
          "execution_count": 34
        }
      ]
    },
    {
      "cell_type": "markdown",
      "metadata": {
        "id": "WbdUA8RrE1yk"
      },
      "source": [
        "### Which stocks move together?\n",
        "In the previous exercise, you clustered companies by their daily stock price movements. So which company have stock prices that tend to change in the same way? You'll now inspect the cluster labels from your clustering to find out."
      ]
    },
    {
      "cell_type": "code",
      "metadata": {
        "id": "6wWVEtW7E1yl",
        "colab": {
          "base_uri": "https://localhost:8080/"
        },
        "outputId": "95dc5894-b256-4a95-e43e-1e4ec0eb25ca"
      },
      "source": [
        "# Predict the cluster labels: labels\n",
        "labels = pipeline.predict(movements)\n",
        "\n",
        "# Create a DataFrame aligning labels and companies: df\n",
        "df = pd.DataFrame({'labels': labels, 'companies': companies})\n",
        "\n",
        "# Display df sorted by cluster label\n",
        "print(df.sort_values('labels'))"
      ],
      "execution_count": 35,
      "outputs": [
        {
          "output_type": "stream",
          "name": "stdout",
          "text": [
            "    labels                           companies\n",
            "10       0                      ConocoPhillips\n",
            "31       0                           McDonalds\n",
            "16       0                   General Electrics\n",
            "32       0                                  3M\n",
            "35       0                            Navistar\n",
            "13       0                   DuPont de Nemours\n",
            "12       0                             Chevron\n",
            "41       0                       Philip Morris\n",
            "23       0                                 IBM\n",
            "42       0                   Royal Dutch Shell\n",
            "44       0                        Schlumberger\n",
            "53       0                       Valero Energy\n",
            "57       0                               Exxon\n",
            "8        0                         Caterpillar\n",
            "26       1                      JPMorgan Chase\n",
            "5        1                     Bank of America\n",
            "3        1                    American express\n",
            "1        1                                 AIG\n",
            "18       1                       Goldman Sachs\n",
            "55       1                         Wells Fargo\n",
            "40       2                      Procter Gamble\n",
            "27       2                      Kimberly-Clark\n",
            "9        2                   Colgate-Palmolive\n",
            "56       2                            Wal-Mart\n",
            "34       3                          Mitsubishi\n",
            "45       3                                Sony\n",
            "7        3                               Canon\n",
            "21       3                               Honda\n",
            "50       3  Taiwan Semiconductor Manufacturing\n",
            "15       3                                Ford\n",
            "48       3                              Toyota\n",
            "58       3                               Xerox\n",
            "20       4                          Home Depot\n",
            "6        4            British American Tobacco\n",
            "43       4                                 SAP\n",
            "25       4                   Johnson & Johnson\n",
            "49       4                               Total\n",
            "30       4                          MasterCard\n",
            "39       4                              Pfizer\n",
            "37       4                            Novartis\n",
            "46       4                      Sanofi-Aventis\n",
            "52       4                            Unilever\n",
            "19       4                     GlaxoSmithKline\n",
            "36       5                    Northrop Grumman\n",
            "54       5                            Walgreen\n",
            "4        5                              Boeing\n",
            "29       5                     Lookheed Martin\n",
            "51       6                   Texas instruments\n",
            "22       6                                  HP\n",
            "11       6                               Cisco\n",
            "14       6                                Dell\n",
            "33       6                           Microsoft\n",
            "24       6                               Intel\n",
            "47       6                            Symantec\n",
            "28       7                           Coca Cola\n",
            "38       7                               Pepsi\n",
            "0        8                               Apple\n",
            "2        9                              Amazon\n",
            "17       9                     Google/Alphabet\n",
            "59       9                               Yahoo\n"
          ]
        }
      ]
    },
    {
      "cell_type": "markdown",
      "source": [
        "#### $\\color{skyblue}{\\textbf{Connect with me:}}$\n",
        "\n",
        "\n",
        "[<img align=\"left\" src=\"https://cdn4.iconfinder.com/data/icons/social-media-icons-the-circle-set/48/twitter_circle-512.png\" width=\"32px\"/>][twitter]\n",
        "[<img align=\"left\" src=\"https://cdn-icons-png.flaticon.com/512/145/145807.png\" width=\"32px\"/>][linkedin]\n",
        "[<img align=\"left\" src=\"https://cdn2.iconfinder.com/data/icons/whcompare-blue-green-web-hosting-1/425/cdn-512.png\" width=\"32px\"/>][Portfolio]\n",
        "\n",
        "[twitter]: https://twitter.com/F4izy\n",
        "[linkedin]: https://www.linkedin.com/in/mohd-faizy/\n",
        "[Portfolio]: https://mohdfaizy.com/\n"
      ],
      "metadata": {
        "id": "dQLifESbAx2p"
      }
    }
  ]
}