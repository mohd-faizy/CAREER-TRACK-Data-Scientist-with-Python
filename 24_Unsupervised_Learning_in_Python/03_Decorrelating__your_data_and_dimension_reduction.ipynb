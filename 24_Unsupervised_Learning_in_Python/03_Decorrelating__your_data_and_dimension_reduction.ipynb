{
  "nbformat": 4,
  "nbformat_minor": 0,
  "metadata": {
    "colab": {
      "provenance": [],
      "toc_visible": true
    },
    "kernelspec": {
      "name": "python3",
      "display_name": "Python 3"
    }
  },
  "cells": [
    {
      "cell_type": "markdown",
      "metadata": {
        "id": "BSuEABPa0--s"
      },
      "source": [
        "---\n",
        "<strong>\n",
        "    <h1 align='center'>Decorrelating your data and dimension reduction</h1>\n",
        "</strong>\n",
        "\n",
        "---\n"
      ]
    },
    {
      "cell_type": "markdown",
      "metadata": {
        "id": "O9wIaP1hBY9F"
      },
      "source": [
        ">**Dimension reduction summarizes a dataset using its common occuring patterns.**\n",
        "\n",
        "In this Notebook, we'll learn about the most fundamental of dimension reduction techniques, \"**Principal Component Analysis(PCA)**. PCA is ***often used before supervised learning to improve model performance and generalization***. It can also be useful for unsupervised learning. For example, we'll employ a variant of PCA will allow you **to cluster Wikipedia articles by their content!**"
      ]
    },
    {
      "cell_type": "code",
      "metadata": {
        "id": "eHRsiSczR0fB"
      },
      "source": [
        "! git clone https://github.com/mohd-faizy/CAREER-TRACK-Data-Scientist-with-Python.git -q"
      ],
      "execution_count": 1,
      "outputs": []
    },
    {
      "cell_type": "code",
      "metadata": {
        "id": "KJN0hZ3RWQsh"
      },
      "source": [
        "import pandas as pd\n",
        "import numpy as np\n",
        "import matplotlib.pyplot as plt\n",
        "import seaborn as sns\n",
        "import os\n",
        "\n",
        "plt.style.use('ggplot')\n",
        "#sns.set_theme(style='whitegrid')\n",
        "%matplotlib inline"
      ],
      "execution_count": 2,
      "outputs": []
    },
    {
      "cell_type": "code",
      "metadata": {
        "colab": {
          "base_uri": "https://localhost:8080/"
        },
        "id": "nu0TmPzKTj2V",
        "outputId": "8a053c52-9ff6-4ab4-b8b1-923c684ce4ec"
      },
      "source": [
        "os.chdir('/content/CAREER-TRACK-Data-Scientist-with-Python/24_Unsupervised_Learning_in_Python/_dataset')\n",
        "cwd = os.getcwd()\n",
        "print('Curent working directory is ', cwd)"
      ],
      "execution_count": 3,
      "outputs": [
        {
          "output_type": "stream",
          "name": "stdout",
          "text": [
            "Curent working directory is  /content/CAREER-TRACK-Data-Scientist-with-Python/24_Unsupervised_Learning_in_Python/_dataset\n"
          ]
        }
      ]
    },
    {
      "cell_type": "code",
      "metadata": {
        "colab": {
          "base_uri": "https://localhost:8080/"
        },
        "id": "b6FFGoWhUD1G",
        "outputId": "8b871945-cf2d-4a09-f1ed-4a8553f6288a"
      },
      "source": [
        "ls"
      ],
      "execution_count": 4,
      "outputs": [
        {
          "output_type": "stream",
          "name": "stdout",
          "text": [
            " company-stock-movements-2010-2015-incl.csv  \u001b[0m\u001b[01;34m'Musical artists'\u001b[0m/\n",
            " eurovision-2016.csv                          new_points.csv\n",
            " fish.csv                                     points.csv\n",
            " \u001b[01;34mGrains\u001b[0m/                                     \u001b[01;34m'Wikipedia articles'\u001b[0m/\n",
            " lcd-digits.csv                               wine.csv\n"
          ]
        }
      ]
    },
    {
      "cell_type": "markdown",
      "metadata": {
        "id": "PSgwyZaRCrk4"
      },
      "source": [
        "## Visualizing the PCA transformation\n",
        "- Dimension reduction\n",
        "    - More efficient storage and computation\n",
        "    - Remove less-informative \"noise\" features, which cause problems for prediction tasks, e.g. classification, regression.\n",
        "- Principal Component Analysis (PCA)\n",
        "    - Fundamental dimension reduction technique\n",
        "        - \"Decorrelation\"\n",
        "        - Reduce dimension\n",
        "- PCA aligns data with axes\n",
        "    - Rotates data samples to be aligned with axes\n",
        "    - Shifts data samples so they have mean 0\n",
        "    - No information is lost\n",
        "- PCA features\n",
        "    - Rows : samples\n",
        "    - Columns : PCA features\n",
        "    - Row gives PCA feature values of corresponding sample\n",
        "- Pearson Correlation\n",
        "    - Measures linear correlation of features\n",
        "    - Value between -1 and 1\n",
        "    - Value of 0 means no linear correlation\n",
        "- Principal components\n",
        "    - directions of variance\n",
        "    - PCA aligns principal components with the axes"
      ]
    },
    {
      "cell_type": "markdown",
      "metadata": {
        "id": "ZWUbPnQbCrk5"
      },
      "source": [
        "### Correlated data in nature\n",
        "You are given an array ```grains``` giving the width and length of samples of grain. You suspect that width and length will be correlated. To confirm this, make a scatter plot of width vs length and measure their Pearson correlation."
      ]
    },
    {
      "cell_type": "markdown",
      "metadata": {
        "id": "AWw_asepCrk5"
      },
      "source": [
        "#### Preprocess"
      ]
    },
    {
      "cell_type": "code",
      "metadata": {
        "id": "FSvjHmv9Crk6",
        "colab": {
          "base_uri": "https://localhost:8080/",
          "height": 206
        },
        "outputId": "022731de-b0f3-4e8e-9f9f-f7f702573d5a"
      },
      "source": [
        "df = pd.read_csv('Grains/seeds-width-vs-length.csv', header=None)\n",
        "df.head()"
      ],
      "execution_count": 5,
      "outputs": [
        {
          "output_type": "execute_result",
          "data": {
            "text/plain": [
              "       0      1\n",
              "0  3.312  5.763\n",
              "1  3.333  5.554\n",
              "2  3.337  5.291\n",
              "3  3.379  5.324\n",
              "4  3.562  5.658"
            ],
            "text/html": [
              "\n",
              "  <div id=\"df-dfe3c167-fa2d-4fea-8326-068addf688e5\">\n",
              "    <div class=\"colab-df-container\">\n",
              "      <div>\n",
              "<style scoped>\n",
              "    .dataframe tbody tr th:only-of-type {\n",
              "        vertical-align: middle;\n",
              "    }\n",
              "\n",
              "    .dataframe tbody tr th {\n",
              "        vertical-align: top;\n",
              "    }\n",
              "\n",
              "    .dataframe thead th {\n",
              "        text-align: right;\n",
              "    }\n",
              "</style>\n",
              "<table border=\"1\" class=\"dataframe\">\n",
              "  <thead>\n",
              "    <tr style=\"text-align: right;\">\n",
              "      <th></th>\n",
              "      <th>0</th>\n",
              "      <th>1</th>\n",
              "    </tr>\n",
              "  </thead>\n",
              "  <tbody>\n",
              "    <tr>\n",
              "      <th>0</th>\n",
              "      <td>3.312</td>\n",
              "      <td>5.763</td>\n",
              "    </tr>\n",
              "    <tr>\n",
              "      <th>1</th>\n",
              "      <td>3.333</td>\n",
              "      <td>5.554</td>\n",
              "    </tr>\n",
              "    <tr>\n",
              "      <th>2</th>\n",
              "      <td>3.337</td>\n",
              "      <td>5.291</td>\n",
              "    </tr>\n",
              "    <tr>\n",
              "      <th>3</th>\n",
              "      <td>3.379</td>\n",
              "      <td>5.324</td>\n",
              "    </tr>\n",
              "    <tr>\n",
              "      <th>4</th>\n",
              "      <td>3.562</td>\n",
              "      <td>5.658</td>\n",
              "    </tr>\n",
              "  </tbody>\n",
              "</table>\n",
              "</div>\n",
              "      <button class=\"colab-df-convert\" onclick=\"convertToInteractive('df-dfe3c167-fa2d-4fea-8326-068addf688e5')\"\n",
              "              title=\"Convert this dataframe to an interactive table.\"\n",
              "              style=\"display:none;\">\n",
              "        \n",
              "  <svg xmlns=\"http://www.w3.org/2000/svg\" height=\"24px\"viewBox=\"0 0 24 24\"\n",
              "       width=\"24px\">\n",
              "    <path d=\"M0 0h24v24H0V0z\" fill=\"none\"/>\n",
              "    <path d=\"M18.56 5.44l.94 2.06.94-2.06 2.06-.94-2.06-.94-.94-2.06-.94 2.06-2.06.94zm-11 1L8.5 8.5l.94-2.06 2.06-.94-2.06-.94L8.5 2.5l-.94 2.06-2.06.94zm10 10l.94 2.06.94-2.06 2.06-.94-2.06-.94-.94-2.06-.94 2.06-2.06.94z\"/><path d=\"M17.41 7.96l-1.37-1.37c-.4-.4-.92-.59-1.43-.59-.52 0-1.04.2-1.43.59L10.3 9.45l-7.72 7.72c-.78.78-.78 2.05 0 2.83L4 21.41c.39.39.9.59 1.41.59.51 0 1.02-.2 1.41-.59l7.78-7.78 2.81-2.81c.8-.78.8-2.07 0-2.86zM5.41 20L4 18.59l7.72-7.72 1.47 1.35L5.41 20z\"/>\n",
              "  </svg>\n",
              "      </button>\n",
              "      \n",
              "  <style>\n",
              "    .colab-df-container {\n",
              "      display:flex;\n",
              "      flex-wrap:wrap;\n",
              "      gap: 12px;\n",
              "    }\n",
              "\n",
              "    .colab-df-convert {\n",
              "      background-color: #E8F0FE;\n",
              "      border: none;\n",
              "      border-radius: 50%;\n",
              "      cursor: pointer;\n",
              "      display: none;\n",
              "      fill: #1967D2;\n",
              "      height: 32px;\n",
              "      padding: 0 0 0 0;\n",
              "      width: 32px;\n",
              "    }\n",
              "\n",
              "    .colab-df-convert:hover {\n",
              "      background-color: #E2EBFA;\n",
              "      box-shadow: 0px 1px 2px rgba(60, 64, 67, 0.3), 0px 1px 3px 1px rgba(60, 64, 67, 0.15);\n",
              "      fill: #174EA6;\n",
              "    }\n",
              "\n",
              "    [theme=dark] .colab-df-convert {\n",
              "      background-color: #3B4455;\n",
              "      fill: #D2E3FC;\n",
              "    }\n",
              "\n",
              "    [theme=dark] .colab-df-convert:hover {\n",
              "      background-color: #434B5C;\n",
              "      box-shadow: 0px 1px 3px 1px rgba(0, 0, 0, 0.15);\n",
              "      filter: drop-shadow(0px 1px 2px rgba(0, 0, 0, 0.3));\n",
              "      fill: #FFFFFF;\n",
              "    }\n",
              "  </style>\n",
              "\n",
              "      <script>\n",
              "        const buttonEl =\n",
              "          document.querySelector('#df-dfe3c167-fa2d-4fea-8326-068addf688e5 button.colab-df-convert');\n",
              "        buttonEl.style.display =\n",
              "          google.colab.kernel.accessAllowed ? 'block' : 'none';\n",
              "\n",
              "        async function convertToInteractive(key) {\n",
              "          const element = document.querySelector('#df-dfe3c167-fa2d-4fea-8326-068addf688e5');\n",
              "          const dataTable =\n",
              "            await google.colab.kernel.invokeFunction('convertToInteractive',\n",
              "                                                     [key], {});\n",
              "          if (!dataTable) return;\n",
              "\n",
              "          const docLinkHtml = 'Like what you see? Visit the ' +\n",
              "            '<a target=\"_blank\" href=https://colab.research.google.com/notebooks/data_table.ipynb>data table notebook</a>'\n",
              "            + ' to learn more about interactive tables.';\n",
              "          element.innerHTML = '';\n",
              "          dataTable['output_type'] = 'display_data';\n",
              "          await google.colab.output.renderOutput(dataTable, element);\n",
              "          const docLink = document.createElement('div');\n",
              "          docLink.innerHTML = docLinkHtml;\n",
              "          element.appendChild(docLink);\n",
              "        }\n",
              "      </script>\n",
              "    </div>\n",
              "  </div>\n",
              "  "
            ]
          },
          "metadata": {},
          "execution_count": 5
        }
      ]
    },
    {
      "cell_type": "code",
      "metadata": {
        "id": "FH9n39x8Crk8"
      },
      "source": [
        "grains = df.values"
      ],
      "execution_count": 6,
      "outputs": []
    },
    {
      "cell_type": "code",
      "metadata": {
        "id": "u6KCPV9hCrk8",
        "colab": {
          "base_uri": "https://localhost:8080/",
          "height": 618
        },
        "outputId": "86f255f7-ca03-4adf-cf03-e804ea5c3e2d"
      },
      "source": [
        "from scipy.stats import pearsonr\n",
        "\n",
        "# Assign the 0th column of grains: width\n",
        "width = grains[:, 0]\n",
        "\n",
        "# Assign the 1st column of grains: length\n",
        "length = grains[:, 1]\n",
        "\n",
        "# Scatter plot width vs length\n",
        "plt.figure(figsize=(12, 7), facecolor='lightgrey')\n",
        "plt.scatter(width, length)\n",
        "plt.axis('equal');\n",
        "\n",
        "# Calculate the Pearson correlation\n",
        "correlation, pvalue = pearsonr(width, length)\n",
        "\n",
        "# Display the correlation\n",
        "print(correlation)"
      ],
      "execution_count": 7,
      "outputs": [
        {
          "output_type": "stream",
          "name": "stdout",
          "text": [
            "0.8604149377143469\n"
          ]
        },
        {
          "output_type": "display_data",
          "data": {
            "text/plain": [
              "<Figure size 1200x700 with 1 Axes>"
            ],
            "image/png": "[encoded data removed]"
          },
          "metadata": {}
        }
      ]
    },
    {
      "cell_type": "markdown",
      "metadata": {
        "id": "7jSS6I-MCrk9"
      },
      "source": [
        "### Decorrelating the grain measurements with PCA\n",
        "You observed in the previous exercise that the width and length measurements of the grain are correlated. Now, you'll use PCA to decorrelate these measurements, then plot the decorrelated points and measure their Pearson correlation.\n",
        "\n"
      ]
    },
    {
      "cell_type": "code",
      "metadata": {
        "id": "KrZ6hskHCrk-",
        "colab": {
          "base_uri": "https://localhost:8080/",
          "height": 616
        },
        "outputId": "87a0d418-32b3-4ec2-d52f-fa3d60d674f7"
      },
      "source": [
        "from sklearn.decomposition import PCA\n",
        "\n",
        "# Create a PCA instance: model\n",
        "model = PCA()\n",
        "\n",
        "# Apply the fit_transform method of model to grains: pca_features\n",
        "pca_features = model.fit_transform(grains)\n",
        "\n",
        "# Assign 0th column of pca_features: xs\n",
        "xs = pca_features[:, 0]\n",
        "\n",
        "# Assign 1st column of pca_features: ys\n",
        "ys = pca_features[:, 1]\n",
        "\n",
        "# Scatter plot xs vs ys\n",
        "plt.figure(figsize=(12, 7), facecolor='lightgrey')\n",
        "plt.scatter(xs, ys)\n",
        "plt.axis('equal');\n",
        "\n",
        "# Calculate the Pearson correlation of xs and ys\n",
        "correlation, pvalue = pearsonr(xs, ys)\n",
        "\n",
        "# Display the correlation\n",
        "print(correlation)"
      ],
      "execution_count": 8,
      "outputs": [
        {
          "output_type": "stream",
          "name": "stdout",
          "text": [
            "8.933825901280557e-17\n"
          ]
        },
        {
          "output_type": "display_data",
          "data": {
            "text/plain": [
              "<Figure size 1200x700 with 1 Axes>"
            ],
            "image/png": "[encoded data removed]"
          },
          "metadata": {}
        }
      ]
    },
    {
      "cell_type": "markdown",
      "metadata": {
        "id": "SphZjmbFCrk_"
      },
      "source": [
        "## Intrinsic dimension\n",
        "- Intrinsic dimension\n",
        "    - Intrinsic dimension = number of features needed to approximate the dataset\n",
        "    - Essential idea behind dimension reduction\n",
        "    - What is the most compact representation of the samples?\n",
        "    - Can be detected with PCA\n",
        "- PCA identifies intrinsic dimension\n",
        "    - Scatter plots work only if samples have 2 or 3 features\n",
        "    - PCA identifies intrinsic dimension when samples have any number of features\n",
        "    - Intrinsic dimension = **number of PCA features with signficant variance**"
      ]
    },
    {
      "cell_type": "markdown",
      "metadata": {
        "id": "wL-aDH27CrlA"
      },
      "source": [
        "### The first principal component\n",
        "The first principal component of the data is the direction in which the data varies the most. In this exercise, your job is to use PCA to find the first principal component of the length and width measurements of the grain samples, and represent it as an arrow on the scatter plot."
      ]
    },
    {
      "cell_type": "code",
      "metadata": {
        "id": "KSGbOVxQCrlB",
        "colab": {
          "base_uri": "https://localhost:8080/",
          "height": 601
        },
        "outputId": "95a5cde5-0cb8-4398-f446-feef2db1575a"
      },
      "source": [
        "# Plot size\n",
        "plt.figure(figsize=(12, 7), facecolor='lightgrey')\n",
        "\n",
        "# Make a scatter plot of the untransformed points\n",
        "plt.scatter(grains[:, 0], grains[:, 1])\n",
        "\n",
        "# Create a PCA instance: model\n",
        "model = PCA()\n",
        "\n",
        "# Fit model to points\n",
        "model.fit(grains)\n",
        "\n",
        "# Get the mean of the grain samples: mean\n",
        "mean = model.mean_\n",
        "\n",
        "# Get the first principal component: first_pc\n",
        "first_pc = model.components_[0, :]\n",
        "\n",
        "# Plot first_pc as an arrow, starting at mean\n",
        "plt.arrow(mean[0], mean[1], first_pc[0], first_pc[1], color='red', width=0.01)\n",
        "\n",
        "# keep axes on same scale\n",
        "plt.axis('equal');\n",
        "plt.show()\n",
        "#plt.savefig('/content/pca-arrow.png')"
      ],
      "execution_count": 9,
      "outputs": [
        {
          "output_type": "display_data",
          "data": {
            "text/plain": [
              "<Figure size 1200x700 with 1 Axes>"
            ],
            "image/png": "[encoded data removed]"
          },
          "metadata": {}
        }
      ]
    },
    {
      "cell_type": "markdown",
      "metadata": {
        "id": "nPQ0w0bqCrlC"
      },
      "source": [
        "### Variance of the PCA features\n",
        "The fish dataset is 6-dimensional. But what is its intrinsic dimension? Make a plot of the variances of the PCA features to find out. As before, ```samples``` is a 2D array, where each row represents a fish. You'll need to standardize the features first."
      ]
    },
    {
      "cell_type": "markdown",
      "metadata": {
        "id": "3EPOxhUyCrlC"
      },
      "source": [
        "#### Preprocess"
      ]
    },
    {
      "cell_type": "code",
      "metadata": {
        "id": "ahh7XCWLCrlD",
        "colab": {
          "base_uri": "https://localhost:8080/",
          "height": 206
        },
        "outputId": "668f21b6-4290-4c70-9c78-47835e84ab7f"
      },
      "source": [
        "df = pd.read_csv('fish.csv', header=None)\n",
        "df.head()"
      ],
      "execution_count": 10,
      "outputs": [
        {
          "output_type": "execute_result",
          "data": {
            "text/plain": [
              "       0      1     2     3     4     5     6\n",
              "0  Bream  242.0  23.2  25.4  30.0  38.4  13.4\n",
              "1  Bream  290.0  24.0  26.3  31.2  40.0  13.8\n",
              "2  Bream  340.0  23.9  26.5  31.1  39.8  15.1\n",
              "3  Bream  363.0  26.3  29.0  33.5  38.0  13.3\n",
              "4  Bream  430.0  26.5  29.0  34.0  36.6  15.1"
            ],
            "text/html": [
              "\n",
              "  <div id=\"df-f74e9260-a3ad-418b-aff9-fc26f5728f73\">\n",
              "    <div class=\"colab-df-container\">\n",
              "      <div>\n",
              "<style scoped>\n",
              "    .dataframe tbody tr th:only-of-type {\n",
              "        vertical-align: middle;\n",
              "    }\n",
              "\n",
              "    .dataframe tbody tr th {\n",
              "        vertical-align: top;\n",
              "    }\n",
              "\n",
              "    .dataframe thead th {\n",
              "        text-align: right;\n",
              "    }\n",
              "</style>\n",
              "<table border=\"1\" class=\"dataframe\">\n",
              "  <thead>\n",
              "    <tr style=\"text-align: right;\">\n",
              "      <th></th>\n",
              "      <th>0</th>\n",
              "      <th>1</th>\n",
              "      <th>2</th>\n",
              "      <th>3</th>\n",
              "      <th>4</th>\n",
              "      <th>5</th>\n",
              "      <th>6</th>\n",
              "    </tr>\n",
              "  </thead>\n",
              "  <tbody>\n",
              "    <tr>\n",
              "      <th>0</th>\n",
              "      <td>Bream</td>\n",
              "      <td>242.0</td>\n",
              "      <td>23.2</td>\n",
              "      <td>25.4</td>\n",
              "      <td>30.0</td>\n",
              "      <td>38.4</td>\n",
              "      <td>13.4</td>\n",
              "    </tr>\n",
              "    <tr>\n",
              "      <th>1</th>\n",
              "      <td>Bream</td>\n",
              "      <td>290.0</td>\n",
              "      <td>24.0</td>\n",
              "      <td>26.3</td>\n",
              "      <td>31.2</td>\n",
              "      <td>40.0</td>\n",
              "      <td>13.8</td>\n",
              "    </tr>\n",
              "    <tr>\n",
              "      <th>2</th>\n",
              "      <td>Bream</td>\n",
              "      <td>340.0</td>\n",
              "      <td>23.9</td>\n",
              "      <td>26.5</td>\n",
              "      <td>31.1</td>\n",
              "      <td>39.8</td>\n",
              "      <td>15.1</td>\n",
              "    </tr>\n",
              "    <tr>\n",
              "      <th>3</th>\n",
              "      <td>Bream</td>\n",
              "      <td>363.0</td>\n",
              "      <td>26.3</td>\n",
              "      <td>29.0</td>\n",
              "      <td>33.5</td>\n",
              "      <td>38.0</td>\n",
              "      <td>13.3</td>\n",
              "    </tr>\n",
              "    <tr>\n",
              "      <th>4</th>\n",
              "      <td>Bream</td>\n",
              "      <td>430.0</td>\n",
              "      <td>26.5</td>\n",
              "      <td>29.0</td>\n",
              "      <td>34.0</td>\n",
              "      <td>36.6</td>\n",
              "      <td>15.1</td>\n",
              "    </tr>\n",
              "  </tbody>\n",
              "</table>\n",
              "</div>\n",
              "      <button class=\"colab-df-convert\" onclick=\"convertToInteractive('df-f74e9260-a3ad-418b-aff9-fc26f5728f73')\"\n",
              "              title=\"Convert this dataframe to an interactive table.\"\n",
              "              style=\"display:none;\">\n",
              "        \n",
              "  <svg xmlns=\"http://www.w3.org/2000/svg\" height=\"24px\"viewBox=\"0 0 24 24\"\n",
              "       width=\"24px\">\n",
              "    <path d=\"M0 0h24v24H0V0z\" fill=\"none\"/>\n",
              "    <path d=\"M18.56 5.44l.94 2.06.94-2.06 2.06-.94-2.06-.94-.94-2.06-.94 2.06-2.06.94zm-11 1L8.5 8.5l.94-2.06 2.06-.94-2.06-.94L8.5 2.5l-.94 2.06-2.06.94zm10 10l.94 2.06.94-2.06 2.06-.94-2.06-.94-.94-2.06-.94 2.06-2.06.94z\"/><path d=\"M17.41 7.96l-1.37-1.37c-.4-.4-.92-.59-1.43-.59-.52 0-1.04.2-1.43.59L10.3 9.45l-7.72 7.72c-.78.78-.78 2.05 0 2.83L4 21.41c.39.39.9.59 1.41.59.51 0 1.02-.2 1.41-.59l7.78-7.78 2.81-2.81c.8-.78.8-2.07 0-2.86zM5.41 20L4 18.59l7.72-7.72 1.47 1.35L5.41 20z\"/>\n",
              "  </svg>\n",
              "      </button>\n",
              "      \n",
              "  <style>\n",
              "    .colab-df-container {\n",
              "      display:flex;\n",
              "      flex-wrap:wrap;\n",
              "      gap: 12px;\n",
              "    }\n",
              "\n",
              "    .colab-df-convert {\n",
              "      background-color: #E8F0FE;\n",
              "      border: none;\n",
              "      border-radius: 50%;\n",
              "      cursor: pointer;\n",
              "      display: none;\n",
              "      fill: #1967D2;\n",
              "      height: 32px;\n",
              "      padding: 0 0 0 0;\n",
              "      width: 32px;\n",
              "    }\n",
              "\n",
              "    .colab-df-convert:hover {\n",
              "      background-color: #E2EBFA;\n",
              "      box-shadow: 0px 1px 2px rgba(60, 64, 67, 0.3), 0px 1px 3px 1px rgba(60, 64, 67, 0.15);\n",
              "      fill: #174EA6;\n",
              "    }\n",
              "\n",
              "    [theme=dark] .colab-df-convert {\n",
              "      background-color: #3B4455;\n",
              "      fill: #D2E3FC;\n",
              "    }\n",
              "\n",
              "    [theme=dark] .colab-df-convert:hover {\n",
              "      background-color: #434B5C;\n",
              "      box-shadow: 0px 1px 3px 1px rgba(0, 0, 0, 0.15);\n",
              "      filter: drop-shadow(0px 1px 2px rgba(0, 0, 0, 0.3));\n",
              "      fill: #FFFFFF;\n",
              "    }\n",
              "  </style>\n",
              "\n",
              "      <script>\n",
              "        const buttonEl =\n",
              "          document.querySelector('#df-f74e9260-a3ad-418b-aff9-fc26f5728f73 button.colab-df-convert');\n",
              "        buttonEl.style.display =\n",
              "          google.colab.kernel.accessAllowed ? 'block' : 'none';\n",
              "\n",
              "        async function convertToInteractive(key) {\n",
              "          const element = document.querySelector('#df-f74e9260-a3ad-418b-aff9-fc26f5728f73');\n",
              "          const dataTable =\n",
              "            await google.colab.kernel.invokeFunction('convertToInteractive',\n",
              "                                                     [key], {});\n",
              "          if (!dataTable) return;\n",
              "\n",
              "          const docLinkHtml = 'Like what you see? Visit the ' +\n",
              "            '<a target=\"_blank\" href=https://colab.research.google.com/notebooks/data_table.ipynb>data table notebook</a>'\n",
              "            + ' to learn more about interactive tables.';\n",
              "          element.innerHTML = '';\n",
              "          dataTable['output_type'] = 'display_data';\n",
              "          await google.colab.output.renderOutput(dataTable, element);\n",
              "          const docLink = document.createElement('div');\n",
              "          docLink.innerHTML = docLinkHtml;\n",
              "          element.appendChild(docLink);\n",
              "        }\n",
              "      </script>\n",
              "    </div>\n",
              "  </div>\n",
              "  "
            ]
          },
          "metadata": {},
          "execution_count": 10
        }
      ]
    },
    {
      "cell_type": "code",
      "metadata": {
        "id": "Zb3BJw31CrlD"
      },
      "source": [
        "samples = df.loc[:, 1:].values"
      ],
      "execution_count": 11,
      "outputs": []
    },
    {
      "cell_type": "code",
      "metadata": {
        "id": "BVcgvrm5CrlE",
        "colab": {
          "base_uri": "https://localhost:8080/",
          "height": 623
        },
        "outputId": "dd01ddab-d61f-46a4-d190-abf8bbd7a3a8"
      },
      "source": [
        "from sklearn.preprocessing import StandardScaler\n",
        "from sklearn.pipeline import make_pipeline\n",
        "\n",
        "# Create scaler: scaler\n",
        "scaler = StandardScaler()\n",
        "\n",
        "# Create a PCA instance: pca\n",
        "pca = PCA()\n",
        "\n",
        "# Create pipeline: pipeline\n",
        "pipeline = make_pipeline(scaler, pca)\n",
        "\n",
        "# Fit the pipeline to 'samples'\n",
        "pipeline.fit(samples)\n",
        "\n",
        "# Plot the explained variances\n",
        "plt.figure(figsize=(12, 7), facecolor='lightgrey')\n",
        "features = range(pca.n_components_)\n",
        "plt.bar(features, pca.explained_variance_)\n",
        "plt.xlabel('PCA feature')\n",
        "plt.ylabel('variance')\n",
        "plt.xticks(features);\n",
        "plt.show()"
      ],
      "execution_count": 12,
      "outputs": [
        {
          "output_type": "display_data",
          "data": {
            "text/plain": [
              "<Figure size 1200x700 with 1 Axes>"
            ],
            "image/png": "[encoded data removed]"
          },
          "metadata": {}
        }
      ]
    },
    {
      "cell_type": "markdown",
      "metadata": {
        "id": "AEtZxyNHCrlE"
      },
      "source": [
        "## Dimension reduction with PCA\n",
        "- Dimension reduction\n",
        "    - Represent same data, using less features\n",
        "    - Important part of machine-learning pipelines\n",
        "    - Can be performed using PCA\n",
        "- Dimension reduction with PCA\n",
        "    - PCA features are in decreasing order of variance\n",
        "    - Assumes the low variance features are \"noise\", and high variance features are informative\n",
        "    - Specify how many features to keep\n",
        "    - Intrinsic dimension is a good choice\n",
        "- Word frequency arrays\n",
        "    - Rows represent documents, columns represent words\n",
        "    - Entries measure presence of each word in each document, measure using \"tf-idf\""
      ]
    },
    {
      "cell_type": "markdown",
      "metadata": {
        "id": "NRd1tZ7JCrlF"
      },
      "source": [
        "### Dimension reduction of the fish measurements\n",
        "In a previous exercise, you saw that 2 was a reasonable choice for the \"intrinsic dimension\" of the fish measurements. Now use PCA for dimensionality reduction of the fish measurements, retaining only the 2 most important components."
      ]
    },
    {
      "cell_type": "markdown",
      "metadata": {
        "id": "dI4YCP1sCrlG"
      },
      "source": [
        "#### Preprocess"
      ]
    },
    {
      "cell_type": "code",
      "metadata": {
        "id": "gjK66iGhCrlG"
      },
      "source": [
        "scaler = StandardScaler()\n",
        "scaled_samples = scaler.fit_transform(samples)"
      ],
      "execution_count": 13,
      "outputs": []
    },
    {
      "cell_type": "code",
      "metadata": {
        "id": "hF3M092YCrlH",
        "colab": {
          "base_uri": "https://localhost:8080/"
        },
        "outputId": "b75aa2f2-12a0-4745-b096-93ee5b5af462"
      },
      "source": [
        "# Create a PCA model with 2 components: pca\n",
        "pca = PCA(n_components=2)\n",
        "\n",
        "# Fit the PCA instance to the scaled samples\n",
        "pca.fit(scaled_samples)\n",
        "\n",
        "# Transform the scaled samples: pca_features\n",
        "pca_features = pca.transform(scaled_samples)\n",
        "\n",
        "# Print the shape of pca_features\n",
        "print(pca_features.shape)"
      ],
      "execution_count": 14,
      "outputs": [
        {
          "output_type": "stream",
          "name": "stdout",
          "text": [
            "(85, 2)\n"
          ]
        }
      ]
    },
    {
      "cell_type": "markdown",
      "metadata": {
        "id": "h1emtSOECrlH"
      },
      "source": [
        "### A tf-idf word-frequency array\n",
        "In this exercise, you'll create a tf-idf word frequency array for a toy collection of documents. For this, use the ```TfidfVectorizer``` from sklearn. It transforms a list of documents into a word frequency array, which it outputs as a csr_matrix. It has ```fit()``` and ```transform()``` methods like other sklearn objects."
      ]
    },
    {
      "cell_type": "code",
      "metadata": {
        "id": "yQjAOJmbCrlI"
      },
      "source": [
        "documents = ['cats say meow', 'dogs say woof', 'dogs chase cats']"
      ],
      "execution_count": 15,
      "outputs": []
    },
    {
      "cell_type": "code",
      "metadata": {
        "id": "SdRRT6eZCrlI",
        "colab": {
          "base_uri": "https://localhost:8080/"
        },
        "outputId": "0e4d4d22-36a3-4bea-f9ba-07e0c29d0747"
      },
      "source": [
        "# Import TfidfVectorizer\n",
        "from sklearn.feature_extraction.text import TfidfVectorizer\n",
        "\n",
        "# Create a TfidfVectorizer: tfidf\n",
        "tfidf = TfidfVectorizer()\n",
        "\n",
        "# Apply fit_transform to document: csr_mat\n",
        "csr_mat = tfidf.fit_transform(documents)\n",
        "\n",
        "# Print result of toarray() method\n",
        "print(csr_mat.toarray())\n",
        "\n",
        "# Get the words: words\n",
        "words = tfidf.get_feature_names_out()\n",
        "\n",
        "# Print words\n",
        "print(words)\n"
      ],
      "execution_count": 17,
      "outputs": [
        {
          "output_type": "stream",
          "name": "stdout",
          "text": [
            "[[0.51785612 0.         0.         0.68091856 0.51785612 0.        ]\n",
            " [0.         0.         0.51785612 0.         0.51785612 0.68091856]\n",
            " [0.51785612 0.68091856 0.51785612 0.         0.         0.        ]]\n",
            "['cats' 'chase' 'dogs' 'meow' 'say' 'woof']\n"
          ]
        }
      ]
    },
    {
      "cell_type": "markdown",
      "metadata": {
        "id": "jUXA74F0CrlI"
      },
      "source": [
        "### Clustering Wikipedia part I\n",
        "You saw in the video that ```TruncatedSVD``` is able to perform PCA on sparse arrays in csr_matrix format, such as word-frequency arrays. Combine your knowledge of TruncatedSVD and k-means to cluster some popular pages from Wikipedia. In this exercise, build the pipeline. In the next exercise, you'll apply it to the word-frequency array of some Wikipedia articles.\n",
        "\n",
        "Create a Pipeline object consisting of a TruncatedSVD followed by KMeans. (This time, we've precomputed the word-frequency matrix for you, so there's no need for a TfidfVectorizer).\n",
        "\n",
        "The Wikipedia dataset you will be working with was obtained from [here](https://blog.lateral.io/2015/06/the-unknown-perils-of-mining-wikipedia/)."
      ]
    },
    {
      "cell_type": "code",
      "metadata": {
        "id": "HuZZ0cS7CrlJ"
      },
      "source": [
        "from sklearn.decomposition import TruncatedSVD\n",
        "from sklearn.cluster import KMeans\n",
        "from sklearn.pipeline import make_pipeline\n",
        "\n",
        "# Create a TruncatedSVD instance: svd\n",
        "svd = TruncatedSVD(n_components=50)\n",
        "\n",
        "# Create a KMeans instance: kmeans\n",
        "kmeans = KMeans(n_clusters=6)\n",
        "\n",
        "# Create a pipeline: pipeline\n",
        "pipeline = make_pipeline(svd, kmeans)"
      ],
      "execution_count": 18,
      "outputs": []
    },
    {
      "cell_type": "markdown",
      "metadata": {
        "id": "ESyWBzYACrlJ"
      },
      "source": [
        "### Clustering Wikipedia part II\n",
        "It is now time to put your pipeline from the previous exercise to work! You are given an array articles of tf-idf word-frequencies of some popular Wikipedia articles, and a list titles of their titles. Use your pipeline to cluster the Wikipedia articles.\n",
        "\n",
        "A solution to the previous exercise has been pre-loaded for you, so a Pipeline pipeline chaining TruncatedSVD with KMeans is available."
      ]
    },
    {
      "cell_type": "markdown",
      "metadata": {
        "id": "4XvbJZCzCrlK"
      },
      "source": [
        "#### Preprocess"
      ]
    },
    {
      "cell_type": "code",
      "metadata": {
        "id": "4dm5i64NCrlK"
      },
      "source": [
        "from scipy.sparse import csc_matrix\n",
        "\n",
        "documents = pd.read_csv('Wikipedia articles/wikipedia-vectors.csv', index_col=0)\n",
        "titles = documents.columns\n",
        "articles = csc_matrix(documents.values).T"
      ],
      "execution_count": 19,
      "outputs": []
    },
    {
      "cell_type": "code",
      "metadata": {
        "id": "gurbyYzWCrlL",
        "colab": {
          "base_uri": "https://localhost:8080/"
        },
        "outputId": "783ff638-3262-4fec-9838-7ee22c2bf52b"
      },
      "source": [
        "type(articles)"
      ],
      "execution_count": 20,
      "outputs": [
        {
          "output_type": "execute_result",
          "data": {
            "text/plain": [
              "scipy.sparse._csr.csr_matrix"
            ]
          },
          "metadata": {},
          "execution_count": 20
        }
      ]
    },
    {
      "cell_type": "code",
      "metadata": {
        "id": "HR34nhf9CrlL",
        "colab": {
          "base_uri": "https://localhost:8080/"
        },
        "outputId": "7175c908-1fa9-4a12-8124-65d91ed08b64"
      },
      "source": [
        "articles.T.shape"
      ],
      "execution_count": 21,
      "outputs": [
        {
          "output_type": "execute_result",
          "data": {
            "text/plain": [
              "(13125, 60)"
            ]
          },
          "metadata": {},
          "execution_count": 21
        }
      ]
    },
    {
      "cell_type": "code",
      "metadata": {
        "id": "yrQFNA96CrlM",
        "colab": {
          "base_uri": "https://localhost:8080/"
        },
        "outputId": "20d5b1db-2dbd-4c3d-c194-6efd0fa129f5"
      },
      "source": [
        "# Fit the pipeline to articles\n",
        "pipeline.fit(articles)\n",
        "\n",
        "# Calculate the cluster labels: labels\n",
        "labels = pipeline.predict(articles)\n",
        "\n",
        "# Create a DataFrame aligning labels and titles: df\n",
        "df = pd.DataFrame({'label': labels, 'article': titles})\n",
        "\n",
        "# Display df sorted by cluster label\n",
        "print(df.sort_values('label'))"
      ],
      "execution_count": 22,
      "outputs": [
        {
          "output_type": "stream",
          "name": "stdout",
          "text": [
            "    label                                        article\n",
            "14      0                                 Climate change\n",
            "19      0  2007 United Nations Climate Change Conference\n",
            "18      0  2010 United Nations Climate Change Conference\n",
            "17      0  Greenhouse gas emissions by the United States\n",
            "16      0                                        350.org\n",
            "15      0                                 Kyoto Protocol\n",
            "13      0                               Connie Hedegaard\n",
            "12      0                                   Nigel Lawson\n",
            "11      0       Nationally Appropriate Mitigation Action\n",
            "10      0                                 Global warming\n",
            "59      1                                    Adam Levine\n",
            "50      1                                   Chad Kroeger\n",
            "57      1                          Red Hot Chili Peppers\n",
            "56      1                                       Skrillex\n",
            "55      1                                  Black Sabbath\n",
            "54      1                                 Arctic Monkeys\n",
            "58      1                                         Sepsis\n",
            "52      1                                     The Wanted\n",
            "51      1                                     Nate Ruess\n",
            "53      1                                   Stevie Nicks\n",
            "30      2                  France national football team\n",
            "39      2                                  Franck Ribéry\n",
            "37      2                                       Football\n",
            "36      2              2014 FIFA World Cup qualification\n",
            "35      2                Colombia national football team\n",
            "34      2                             Zlatan Ibrahimović\n",
            "33      2                                 Radamel Falcao\n",
            "32      2                                   Arsenal F.C.\n",
            "31      2                              Cristiano Ronaldo\n",
            "38      2                                         Neymar\n",
            "29      3                               Jennifer Aniston\n",
            "27      3                                 Dakota Fanning\n",
            "26      3                                     Mila Kunis\n",
            "25      3                                  Russell Crowe\n",
            "24      3                                   Jessica Biel\n",
            "23      3                           Catherine Zeta-Jones\n",
            "22      3                              Denzel Washington\n",
            "21      3                             Michael Fassbender\n",
            "20      3                                 Angelina Jolie\n",
            "28      3                                  Anne Hathaway\n",
            "49      4                                       Lymphoma\n",
            "48      4                                     Gabapentin\n",
            "47      4                                          Fever\n",
            "46      4                                     Prednisone\n",
            "45      4                                    Hepatitis C\n",
            "43      4                                       Leukemia\n",
            "42      4                                    Doxycycline\n",
            "41      4                                    Hepatitis B\n",
            "40      4                                    Tonsillitis\n",
            "44      4                                           Gout\n",
            "9       5                                       LinkedIn\n",
            "8       5                                        Firefox\n",
            "7       5                                  Social search\n",
            "6       5                    Hypertext Transfer Protocol\n",
            "5       5                                         Tumblr\n",
            "4       5                                  Google Search\n",
            "3       5                                    HTTP cookie\n",
            "2       5                              Internet Explorer\n",
            "1       5                                 Alexa Internet\n",
            "0       5                                       HTTP 404\n"
          ]
        },
        {
          "output_type": "stream",
          "name": "stderr",
          "text": [
            "/usr/local/lib/python3.10/dist-packages/sklearn/cluster/_kmeans.py:870: FutureWarning: The default value of `n_init` will change from 10 to 'auto' in 1.4. Set the value of `n_init` explicitly to suppress the warning\n",
            "  warnings.warn(\n"
          ]
        }
      ]
    },
    {
      "cell_type": "markdown",
      "source": [
        "#### $\\color{skyblue}{\\textbf{Connect with me:}}$\n",
        "\n",
        "\n",
        "[<img align=\"left\" src=\"https://cdn4.iconfinder.com/data/icons/social-media-icons-the-circle-set/48/twitter_circle-512.png\" width=\"32px\"/>][twitter]\n",
        "[<img align=\"left\" src=\"https://cdn-icons-png.flaticon.com/512/145/145807.png\" width=\"32px\"/>][linkedin]\n",
        "[<img align=\"left\" src=\"https://cdn2.iconfinder.com/data/icons/whcompare-blue-green-web-hosting-1/425/cdn-512.png\" width=\"32px\"/>][Portfolio]\n",
        "\n",
        "[twitter]: https://twitter.com/F4izy\n",
        "[linkedin]: https://www.linkedin.com/in/mohd-faizy/\n",
        "[Portfolio]: https://mohdfaizy.com/\n"
      ],
      "metadata": {
        "id": "hnXFm3YQA6g5"
      }
    }
  ]
}