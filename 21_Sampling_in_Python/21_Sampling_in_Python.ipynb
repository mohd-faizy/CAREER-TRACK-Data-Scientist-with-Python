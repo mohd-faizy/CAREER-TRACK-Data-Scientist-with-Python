{
  "nbformat": 4,
  "nbformat_minor": 0,
  "metadata": {
    "colab": {
      "provenance": [],
      "toc_visible": true
    },
    "kernelspec": {
      "name": "python3",
      "display_name": "Python 3"
    },
    "language_info": {
      "name": "python"
    }
  },
  "cells": [
    {
      "cell_type": "markdown",
      "source": [
        "# <center><b><font color=\"red\">Sampling in Python</font></b></center>"
      ],
      "metadata": {
        "id": "CmyXA_maukkl"
      }
    },
    {
      "cell_type": "code",
      "execution_count": null,
      "metadata": {
        "id": "jde_wHTxueDd"
      },
      "outputs": [],
      "source": [
        "import pandas as pd\n",
        "import numpy as np\n",
        "import matplotlib.pyplot as plt\n",
        "import seaborn as sns"
      ]
    },
    {
      "cell_type": "code",
      "source": [
        "!git clone \"https://github.com/mohd-faizy/CAREER-TRACK-Data-Scientist-with-Python.git\""
      ],
      "metadata": {
        "colab": {
          "base_uri": "https://localhost:8080/"
        },
        "id": "-BemsMBVvyRj",
        "outputId": "46948fc4-eb54-4620-ac48-9918ece8aa9d"
      },
      "execution_count": null,
      "outputs": [
        {
          "output_type": "stream",
          "name": "stdout",
          "text": [
            "Cloning into 'CAREER-TRACK-Data-Scientist-with-Python'...\n",
            "remote: Enumerating objects: 3080, done.\u001b[K\n",
            "remote: Counting objects: 100% (387/387), done.\u001b[K\n",
            "remote: Compressing objects: 100% (259/259), done.\u001b[K\n",
            "remote: Total 3080 (delta 124), reused 377 (delta 118), pack-reused 2693\u001b[K\n",
            "Receiving objects: 100% (3080/3080), 444.73 MiB | 29.05 MiB/s, done.\n",
            "Resolving deltas: 100% (1108/1108), done.\n",
            "Updating files: 100% (840/840), done.\n"
          ]
        }
      ]
    },
    {
      "cell_type": "code",
      "source": [
        "url_coffee_rating = \"/content/CAREER-TRACK-Data-Scientist-with-Python/21_Sampling_in_Python/_dataset/coffee_ratings.feather\"\n",
        "url_employee = \"/content/CAREER-TRACK-Data-Scientist-with-Python/21_Sampling_in_Python/_dataset/employee.feather\"\n",
        "url_spotify = \"/content/CAREER-TRACK-Data-Scientist-with-Python/21_Sampling_in_Python/_dataset/spotify.feather\""
      ],
      "metadata": {
        "id": "KMmV22wKgKeA"
      },
      "execution_count": null,
      "outputs": []
    },
    {
      "cell_type": "markdown",
      "source": [
        "# **1️⃣Introduction to Sampling**"
      ],
      "metadata": {
        "id": "S2qBGIWZwLyj"
      }
    },
    {
      "cell_type": "markdown",
      "source": [
        "## **Sampling and point estimates**\n"
      ],
      "metadata": {
        "id": "nLEU2X21xJjL"
      }
    },
    {
      "cell_type": "markdown",
      "source": [
        "#### **Simple sampling with pandas**\n"
      ],
      "metadata": {
        "id": "zW0XJzwZxajz"
      }
    },
    {
      "cell_type": "code",
      "source": [
        "import pandas as pd\n",
        "import pyarrow.feather as feather\n",
        "\n",
        "spotify_population = feather.read_feather(url_spotify)\n",
        "\n",
        "# Sample 1000 rows from spotify_population\n",
        "spotify_sample = spotify_population.sample(n=1000)\n",
        "\n",
        "# Print the sample\n",
        "print(spotify_sample)"
      ],
      "metadata": {
        "colab": {
          "base_uri": "https://localhost:8080/"
        },
        "id": "5f_9aqgkqSF7",
        "outputId": "d7ed1a5d-d42c-479e-ed6e-377147de789e"
      },
      "execution_count": null,
      "outputs": [
        {
          "output_type": "stream",
          "name": "stdout",
          "text": [
            "       acousticness                                     artists  danceability  \\\n",
            "25497       0.04070                            ['Modest Mouse']         0.646   \n",
            "3825        0.03580                                  ['ODESZA']         0.612   \n",
            "14796       0.30600                                ['En Vogue']         0.496   \n",
            "10012       0.67800                                ['Amos Lee']         0.652   \n",
            "38541       0.01570                                   ['Train']         0.608   \n",
            "...             ...                                         ...           ...   \n",
            "30842       0.00794                                ['DREAMERS']         0.515   \n",
            "16171       0.55600                 ['Russ', 'Paulina', 'Jafé']         0.799   \n",
            "12219       0.31000                  ['Nitty Gritty Dirt Band']         0.765   \n",
            "32603       0.15700                           ['Blake Shelton']         0.581   \n",
            "8942        0.28200  ['Mos Def', 'Pharoahe Monch', 'Nate Dogg']         0.654   \n",
            "\n",
            "       duration_ms  duration_minutes  energy  explicit  \\\n",
            "25497     224333.0          3.738883   0.964       0.0   \n",
            "3825      228155.0          3.802583   0.628       0.0   \n",
            "14796     235707.0          3.928450   0.298       0.0   \n",
            "10012     225147.0          3.752450   0.240       0.0   \n",
            "38541     227467.0          3.791117   0.909       0.0   \n",
            "...            ...               ...     ...       ...   \n",
            "30842     205173.0          3.419550   0.821       0.0   \n",
            "16171     181185.0          3.019750   0.496       1.0   \n",
            "12219     201987.0          3.366450   0.494       0.0   \n",
            "32603     222613.0          3.710217   0.767       0.0   \n",
            "8942      223147.0          3.719117   0.864       1.0   \n",
            "\n",
            "                           id  instrumentalness   key  liveness  loudness  \\\n",
            "25497  4ToYlykhwpW98KtMIGnWQK          0.000004   7.0    0.2930    -3.177   \n",
            "3825   5Nu5Uyoauauy9LFePYL1Z3          0.008980   2.0    0.1930    -6.754   \n",
            "14796  70aBlCLalffIq1c1cng6zO          0.000002   9.0    0.0875   -10.175   \n",
            "10012  1pLbS57mLE8iG4njSQIAtX          0.006520  10.0    0.0784   -15.691   \n",
            "38541  0ARhwY80PC4ycF16XEYfBQ          0.000000   7.0    0.3450    -2.144   \n",
            "...                       ...               ...   ...       ...       ...   \n",
            "30842  7bEDDsy2LFC0KSqhZp5nPE          0.000000   0.0    0.0787    -2.333   \n",
            "16171  0OwqNxhVtO6lSw2XAxdhgX          0.000003   0.0    0.1110    -5.603   \n",
            "12219  3i5QyEUyXa9Y7lIklr5sWk          0.000000   2.0    0.0836    -7.348   \n",
            "32603  1MDogqDrStFSO9cdUTUFem          0.000000  10.0    0.2780    -6.280   \n",
            "8942   5Xd8DxeYKZHYNgQdignYCI          0.000000   8.0    0.1490    -4.420   \n",
            "\n",
            "       mode                                name  popularity release_date  \\\n",
            "25497   1.0                Ocean Breathes Salty        54.0   2004-04-05   \n",
            "3825    1.0                          Late Night        62.0   2017-09-08   \n",
            "14796   0.0    Giving Him Something He Can Feel        37.0   2001-08-21   \n",
            "10012   1.0                      Wait Up For Me        56.0   2016-09-19   \n",
            "38541   1.0                           I Got You        54.0   2010-12-01   \n",
            "...     ...                                 ...         ...          ...   \n",
            "30842   1.0                      Sweet Disaster        62.0   2016-08-26   \n",
            "16171   1.0  Willy Wonka (feat. Paulina & Jafé)        54.0   2015-04-20   \n",
            "12219   1.0                 Fishing In The Dark        58.0   2017-09-29   \n",
            "32603   1.0                Doin' What She Likes        55.0   2013-03-26   \n",
            "8942    1.0  Oh No - (best of decade I version)        42.0   2005-12-13   \n",
            "\n",
            "       speechiness    tempo  valence    year  \n",
            "25497       0.0369   95.479    0.747  2004.0  \n",
            "3825        0.0752  125.043    0.434  2017.0  \n",
            "14796       0.0405  203.824    0.705  2001.0  \n",
            "10012       0.0295   83.020    0.257  2016.0  \n",
            "38541       0.0916   80.386    0.754  2010.0  \n",
            "...            ...      ...      ...     ...  \n",
            "30842       0.0309   86.995    0.425  2016.0  \n",
            "16171       0.0706   93.017    0.189  2015.0  \n",
            "12219       0.0377   77.724    0.910  2017.0  \n",
            "32603       0.0406  152.011    0.832  2013.0  \n",
            "8942        0.4340   93.941    0.696  2005.0  \n",
            "\n",
            "[1000 rows x 20 columns]\n"
          ]
        }
      ]
    },
    {
      "cell_type": "code",
      "source": [
        "# Calculate the mean duration in mins from spotify_population\n",
        "mean_dur_pop = spotify_population[\"duration_minutes\"].mean()\n",
        "\n",
        "# Calculate the mean duration in mins from spotify_sample\n",
        "mean_dur_samp = spotify_sample[\"duration_minutes\"].mean()\n",
        "\n",
        "# Print the means\n",
        "print(mean_dur_pop)\n",
        "print(mean_dur_samp)"
      ],
      "metadata": {
        "colab": {
          "base_uri": "https://localhost:8080/"
        },
        "id": "CvcBdrVU2530",
        "outputId": "3237d7a1-b3a4-4a14-eee1-61824fab6b6d"
      },
      "execution_count": null,
      "outputs": [
        {
          "output_type": "stream",
          "name": "stdout",
          "text": [
            "3.8521519140900073\n",
            "3.8862626000000002\n"
          ]
        }
      ]
    },
    {
      "cell_type": "markdown",
      "source": [
        "#### **Simple sampling and calculating with NumPy**\n"
      ],
      "metadata": {
        "id": "r6iQgtQoxcFj"
      }
    },
    {
      "cell_type": "code",
      "source": [
        "# Create a pandas Series from the loudness column of spotify_population\n",
        "loudness_pop = spotify_population['loudness']\n",
        "\n",
        "# Sample 100 values of loudness_pop\n",
        "loudness_samp = loudness_pop.sample(n=100)\n",
        "\n",
        "# Print the sample\n",
        "print(loudness_samp)"
      ],
      "metadata": {
        "colab": {
          "base_uri": "https://localhost:8080/"
        },
        "id": "m4lcfcJk26PF",
        "outputId": "ba160526-89f3-4a9e-d23f-6e7369f1ac7b"
      },
      "execution_count": null,
      "outputs": [
        {
          "output_type": "stream",
          "name": "stdout",
          "text": [
            "4029     -6.434\n",
            "31886    -1.898\n",
            "4162     -6.107\n",
            "12107    -2.757\n",
            "1300     -5.649\n",
            "          ...  \n",
            "14156   -12.328\n",
            "29505    -7.191\n",
            "15463    -5.189\n",
            "10582    -8.828\n",
            "13236    -9.909\n",
            "Name: loudness, Length: 100, dtype: float64\n"
          ]
        }
      ]
    },
    {
      "cell_type": "code",
      "source": [
        "import numpy as np\n",
        "\n",
        "# Create a pandas Series from the loudness column of spotify_population\n",
        "loudness_pop = spotify_population['loudness']\n",
        "\n",
        "# Sample 100 values of loudness_pop\n",
        "loudness_samp = loudness_pop.sample(n=100)\n",
        "\n",
        "# Calculate the mean of loudness_pop\n",
        "mean_loudness_pop = np.mean(loudness_pop)\n",
        "\n",
        "# Calculate the mean of loudness_samp\n",
        "mean_loudness_samp = np.mean(loudness_samp)\n",
        "\n",
        "# Print the means\n",
        "print(mean_loudness_pop)\n",
        "print(mean_loudness_samp)"
      ],
      "metadata": {
        "colab": {
          "base_uri": "https://localhost:8080/"
        },
        "id": "RL6K5QPsq855",
        "outputId": "ffdd7dd1-24c4-4b65-886f-f8546d98d805"
      },
      "execution_count": null,
      "outputs": [
        {
          "output_type": "stream",
          "name": "stdout",
          "text": [
            "-7.366856851353947\n",
            "-7.449569999999998\n"
          ]
        }
      ]
    },
    {
      "cell_type": "markdown",
      "source": [
        "## **Convenience sampling**\n"
      ],
      "metadata": {
        "id": "vRzqTfQzxdoM"
      }
    },
    {
      "cell_type": "markdown",
      "source": [
        "#### **Are findings from the sample generalizable?**\n"
      ],
      "metadata": {
        "id": "j5yxH6CUxfDL"
      }
    },
    {
      "cell_type": "code",
      "source": [
        "import matplotlib.pyplot as plt\n",
        "\n",
        "# Visualize the distribution of acousticness with a histogram\n",
        "spotify_population['acousticness'].hist(bins=np.arange(0, 1.01, 0.01))\n",
        "plt.show()"
      ],
      "metadata": {
        "colab": {
          "base_uri": "https://localhost:8080/",
          "height": 430
        },
        "id": "2RmnX97D261U",
        "outputId": "638e28e5-1584-4812-90dc-586b9ce3274c"
      },
      "execution_count": null,
      "outputs": [
        {
          "output_type": "display_data",
          "data": {
            "text/plain": [
              "<Figure size 640x480 with 1 Axes>"
            ],
            "image/png": "[encoded data removed]"
          },
          "metadata": {}
        }
      ]
    },
    {
      "cell_type": "code",
      "source": [
        "# spotify_mysterious_sample\n",
        "import pandas as pd\n",
        "import random\n",
        "\n",
        "# Create random data\n",
        "data = []\n",
        "for i in range(1107):\n",
        "    row = {\n",
        "        'acousticness': round(random.uniform(0.9, 1.0), 3),\n",
        "        'artists': [f'Artist {i}'],\n",
        "        'danceability': round(random.uniform(0.1, 0.9), 3),\n",
        "        'duration_ms': random.randint(100000, 400000),\n",
        "        'duration_minutes': 0.001 * random.randint(1000, 5000),\n",
        "        'release_date': f'{random.randint(2000, 2023)}-01-01',\n",
        "        'speechiness': round(random.uniform(0.01, 0.1), 3),\n",
        "        'tempo': round(random.uniform(60, 180), 3),\n",
        "        'valence': round(random.uniform(0.0, 0.5), 3),\n",
        "        'year': random.randint(2000, 2023)\n",
        "    }\n",
        "    data.append(row)\n",
        "\n",
        "# Create DataFrame\n",
        "spotify_mysterious_sample = pd.DataFrame(data)"
      ],
      "metadata": {
        "id": "TSFp8KqSsJai"
      },
      "execution_count": 31,
      "outputs": []
    },
    {
      "cell_type": "code",
      "source": [
        "# Update the histogram to use spotify_mysterious_sample\n",
        "spotify_mysterious_sample['acousticness'].hist(bins=np.arange(0, 1.01, 0.01))\n",
        "plt.show()"
      ],
      "metadata": {
        "colab": {
          "base_uri": "https://localhost:8080/",
          "height": 430
        },
        "id": "TeSUFywTrvnk",
        "outputId": "1f9b2f8d-bf48-4182-8ada-b84417f9fac4"
      },
      "execution_count": 32,
      "outputs": [
        {
          "output_type": "display_data",
          "data": {
            "text/plain": [
              "<Figure size 640x480 with 1 Axes>"
            ],
            "image/png": "[encoded data removed]"
          },
          "metadata": {}
        }
      ]
    },
    {
      "cell_type": "markdown",
      "source": [
        "#### **Are these findings generalizable?**\n"
      ],
      "metadata": {
        "id": "aOyTp8JAxgdL"
      }
    },
    {
      "cell_type": "code",
      "source": [
        "# Visualize the distribution of duration_minutes as a histogram\n",
        "spotify_population['duration_minutes'].hist(bins=np.arange(0, 15.5, 0.5))\n",
        "plt.show()"
      ],
      "metadata": {
        "id": "m2ZFFegh27Ts",
        "colab": {
          "base_uri": "https://localhost:8080/",
          "height": 430
        },
        "outputId": "f3cb0587-558b-48d3-ffe5-22cec6edc278"
      },
      "execution_count": 33,
      "outputs": [
        {
          "output_type": "display_data",
          "data": {
            "text/plain": [
              "<Figure size 640x480 with 1 Axes>"
            ],
            "image/png": "[encoded data removed]"
          },
          "metadata": {}
        }
      ]
    },
    {
      "cell_type": "markdown",
      "source": [
        "## **Pseudo-random number generation**\n"
      ],
      "metadata": {
        "id": "I8szy8T4xhoK"
      }
    },
    {
      "cell_type": "markdown",
      "source": [
        "#### **Generating random numbers**\n"
      ],
      "metadata": {
        "id": "qR2_2fZ2xjIj"
      }
    },
    {
      "cell_type": "code",
      "source": [
        "# Generate random numbers from a Uniform(-3, 3)\n",
        "uniforms = np.random.uniform(low=-3, high=3, size=5000)\n",
        "\n",
        "# Print uniforms\n",
        "print(uniforms)\n",
        "\n",
        "# Plot a histogram of uniform values, binwidth 0.25\n",
        "plt.hist(uniforms, bins=np.arange(-3, 3.25, 0.25))\n",
        "plt.show()"
      ],
      "metadata": {
        "colab": {
          "base_uri": "https://localhost:8080/",
          "height": 465
        },
        "id": "J8Z30GhA7rbN",
        "outputId": "2e7a74fe-cda2-4ee2-9fba-7a190c574e54"
      },
      "execution_count": 39,
      "outputs": [
        {
          "output_type": "stream",
          "name": "stdout",
          "text": [
            "[-2.51859371  1.88674063 -2.77747768 ... -1.18043956  0.87441894\n",
            " -1.81012414]\n"
          ]
        },
        {
          "output_type": "display_data",
          "data": {
            "text/plain": [
              "<Figure size 640x480 with 1 Axes>"
            ],
            "image/png": "[encoded data removed]"
          },
          "metadata": {}
        }
      ]
    },
    {
      "cell_type": "code",
      "source": [
        "# Generate random numbers from a Normal(5, 2)\n",
        "normals = np.random.normal(loc=5, scale=2, size=5000)\n",
        "\n",
        "# Print normals\n",
        "print(normals)\n",
        "\n",
        "# Plot a histogram of normal values, binwidth 0.5\n",
        "plt.hist(normals, bins=np.arange(-2, 13.5, 0.5))\n",
        "plt.show()"
      ],
      "metadata": {
        "colab": {
          "base_uri": "https://localhost:8080/",
          "height": 447
        },
        "id": "foK1fC1_7mtf",
        "outputId": "9ac97266-f2ab-4ad4-b8cc-b0cab1cafc20"
      },
      "execution_count": 40,
      "outputs": [
        {
          "output_type": "stream",
          "name": "stdout",
          "text": [
            "[4.94878545 9.60540068 6.92241662 ... 4.6944866  3.85708976 5.55313367]\n"
          ]
        },
        {
          "output_type": "display_data",
          "data": {
            "text/plain": [
              "<Figure size 640x480 with 1 Axes>"
            ],
            "image/png": "[encoded data removed]"
          },
          "metadata": {}
        }
      ]
    },
    {
      "cell_type": "markdown",
      "source": [
        "#### **Understanding random seeds**"
      ],
      "metadata": {
        "id": "jTEGrBsexkaj"
      }
    },
    {
      "cell_type": "code",
      "source": [
        "import numpy as np\n",
        "np.random.seed(123)\n",
        "x = np.random.normal(size=5)\n",
        "y = np.random.normal(size=5)\n",
        "print(x==y)"
      ],
      "metadata": {
        "id": "s4O_kZl728mb",
        "colab": {
          "base_uri": "https://localhost:8080/"
        },
        "outputId": "b2059c63-9ef6-4145-8908-bfb4facfea7c"
      },
      "execution_count": 44,
      "outputs": [
        {
          "output_type": "stream",
          "name": "stdout",
          "text": [
            "[False False False False False]\n"
          ]
        }
      ]
    },
    {
      "cell_type": "code",
      "source": [
        "import numpy as np\n",
        "np.random.seed(123)\n",
        "x = np.random.normal(size=5)\n",
        "np.random.seed(123)\n",
        "y = np.random.normal(size=5)\n",
        "print(x==y)"
      ],
      "metadata": {
        "colab": {
          "base_uri": "https://localhost:8080/"
        },
        "id": "XYcOFUuh8xnd",
        "outputId": "f3348a3b-edde-4db6-9c9a-24966d7278ec"
      },
      "execution_count": 46,
      "outputs": [
        {
          "output_type": "stream",
          "name": "stdout",
          "text": [
            "[ True  True  True  True  True]\n"
          ]
        }
      ]
    },
    {
      "cell_type": "code",
      "source": [
        "import numpy as np\n",
        "np.random.seed(123)\n",
        "x = np.random.normal(size=5)\n",
        "np.random.seed(456)\n",
        "y = np.random.normal(size=5)\n",
        "print(x==y)"
      ],
      "metadata": {
        "colab": {
          "base_uri": "https://localhost:8080/"
        },
        "id": "xPAAomH-8Tk9",
        "outputId": "36757a73-b236-407e-8955-e0a42389d506"
      },
      "execution_count": 47,
      "outputs": [
        {
          "output_type": "stream",
          "name": "stdout",
          "text": [
            "[False False False False False]\n"
          ]
        }
      ]
    },
    {
      "cell_type": "markdown",
      "source": [
        "# **2️⃣Sampling Methods**"
      ],
      "metadata": {
        "id": "rAhER41XwSFj"
      }
    },
    {
      "cell_type": "markdown",
      "source": [
        "## **Simple random and systematic sampling**\n"
      ],
      "metadata": {
        "id": "1Ntnn8eq2EID"
      }
    },
    {
      "cell_type": "markdown",
      "source": [
        "#### **Simple random sampling**\n"
      ],
      "metadata": {
        "id": "UPcn7_KD2j2E"
      }
    },
    {
      "cell_type": "code",
      "source": [
        "import pyarrow.feather as feather\n",
        "import pandas as pd\n",
        "\n",
        "attrition_pop = feather.read_feather(url_employee)\n",
        "\n",
        "# Sample 70 rows using simple random sampling and set the seed\n",
        "attrition_samp = attrition_pop.sample(n=70, random_state=18900217)\n",
        "\n",
        "# Print the sample\n",
        "print(attrition_samp)"
      ],
      "metadata": {
        "id": "ohHQaw8G29Rr",
        "colab": {
          "base_uri": "https://localhost:8080/"
        },
        "outputId": "0d791d84-8008-4b7f-ad5d-95c965700133"
      },
      "execution_count": 48,
      "outputs": [
        {
          "output_type": "stream",
          "name": "stdout",
          "text": [
            "      Age  Attrition     BusinessTravel  DailyRate            Department  \\\n",
            "1134   35        0.0      Travel_Rarely        583  Research_Development   \n",
            "1150   52        0.0         Non-Travel        585                 Sales   \n",
            "531    33        0.0      Travel_Rarely        931  Research_Development   \n",
            "395    31        0.0      Travel_Rarely       1332  Research_Development   \n",
            "392    29        0.0      Travel_Rarely        942  Research_Development   \n",
            "...   ...        ...                ...        ...                   ...   \n",
            "361    27        0.0  Travel_Frequently       1410                 Sales   \n",
            "1180   36        0.0      Travel_Rarely        530                 Sales   \n",
            "230    26        0.0      Travel_Rarely       1443                 Sales   \n",
            "211    29        0.0  Travel_Frequently        410  Research_Development   \n",
            "890    30        0.0  Travel_Frequently       1312  Research_Development   \n",
            "\n",
            "      DistanceFromHome      Education    EducationField  \\\n",
            "1134                25         Master           Medical   \n",
            "1150                29         Master     Life_Sciences   \n",
            "531                 14       Bachelor           Medical   \n",
            "395                 11        College           Medical   \n",
            "392                 15  Below_College     Life_Sciences   \n",
            "...                ...            ...               ...   \n",
            "361                  3  Below_College           Medical   \n",
            "1180                 2         Master     Life_Sciences   \n",
            "230                 23       Bachelor         Marketing   \n",
            "211                  2  Below_College     Life_Sciences   \n",
            "890                  2         Master  Technical_Degree   \n",
            "\n",
            "     EnvironmentSatisfaction  Gender  ...  PerformanceRating  \\\n",
            "1134                    High  Female  ...          Excellent   \n",
            "1150                     Low    Male  ...          Excellent   \n",
            "531                Very_High  Female  ...          Excellent   \n",
            "395                     High    Male  ...          Excellent   \n",
            "392                   Medium  Female  ...          Excellent   \n",
            "...                      ...     ...  ...                ...   \n",
            "361                Very_High  Female  ...        Outstanding   \n",
            "1180                    High  Female  ...          Excellent   \n",
            "230                     High  Female  ...          Excellent   \n",
            "211                Very_High  Female  ...          Excellent   \n",
            "890                Very_High  Female  ...          Excellent   \n",
            "\n",
            "     RelationshipSatisfaction  StockOptionLevel TotalWorkingYears  \\\n",
            "1134                     High                 1                16   \n",
            "1150                   Medium                 2                16   \n",
            "531                 Very_High                 1                 8   \n",
            "395                 Very_High                 0                 6   \n",
            "392                       Low                 1                 6   \n",
            "...                       ...               ...               ...   \n",
            "361                    Medium                 2                 6   \n",
            "1180                     High                 0                17   \n",
            "230                      High                 1                 5   \n",
            "211                      High                 3                 4   \n",
            "890                 Very_High                 0                10   \n",
            "\n",
            "     TrainingTimesLastYear WorkLifeBalance  YearsAtCompany  \\\n",
            "1134                     3            Good              16   \n",
            "1150                     3            Good               9   \n",
            "531                      5          Better               8   \n",
            "395                      2            Good               6   \n",
            "392                      2            Good               5   \n",
            "...                    ...             ...             ...   \n",
            "361                      3          Better               6   \n",
            "1180                     2            Good              13   \n",
            "230                      2            Good               2   \n",
            "211                      3          Better               3   \n",
            "890                      2          Better               9   \n",
            "\n",
            "      YearsInCurrentRole  YearsSinceLastPromotion YearsWithCurrManager  \n",
            "1134                  10                       10                    1  \n",
            "1150                   8                        0                    0  \n",
            "531                    7                        1                    6  \n",
            "395                    5                        0                    1  \n",
            "392                    4                        1                    3  \n",
            "...                  ...                      ...                  ...  \n",
            "361                    5                        0                    4  \n",
            "1180                   7                        6                    7  \n",
            "230                    2                        0                    0  \n",
            "211                    2                        0                    2  \n",
            "890                    7                        0                    7  \n",
            "\n",
            "[70 rows x 31 columns]\n"
          ]
        }
      ]
    },
    {
      "cell_type": "markdown",
      "source": [
        "#### **Systematic sampling**\n"
      ],
      "metadata": {
        "id": "2ullBq9p2lQ8"
      }
    },
    {
      "cell_type": "code",
      "source": [
        "# Set the sample size to 70\n",
        "sample_size = 70\n",
        "\n",
        "# Calculate the population size from attrition_pop\n",
        "pop_size = len(attrition_pop)\n",
        "\n",
        "# Calculate the interval\n",
        "interval = pop_size // sample_size\n",
        "\n",
        "# Systematically sample 70 rows\n",
        "attrition_sys_samp = attrition_pop.iloc[::interval]\n",
        "\n",
        "# Print the sample\n",
        "print(attrition_sys_samp)"
      ],
      "metadata": {
        "id": "66mv8lKI291M",
        "colab": {
          "base_uri": "https://localhost:8080/"
        },
        "outputId": "c2cdbcce-2565-4d91-b172-175ab31dff52"
      },
      "execution_count": 64,
      "outputs": [
        {
          "output_type": "stream",
          "name": "stdout",
          "text": [
            "      Age  Attrition BusinessTravel  DailyRate            Department  \\\n",
            "0      21        0.0  Travel_Rarely        391  Research_Development   \n",
            "21     19        0.0  Travel_Rarely       1181  Research_Development   \n",
            "42     45        0.0  Travel_Rarely        252  Research_Development   \n",
            "63     23        0.0  Travel_Rarely        373  Research_Development   \n",
            "84     30        1.0  Travel_Rarely        945                 Sales   \n",
            "...   ...        ...            ...        ...                   ...   \n",
            "1365   48        0.0  Travel_Rarely        715  Research_Development   \n",
            "1386   48        0.0  Travel_Rarely       1355  Research_Development   \n",
            "1407   50        0.0  Travel_Rarely        989  Research_Development   \n",
            "1428   50        0.0     Non-Travel        881  Research_Development   \n",
            "1449   52        0.0  Travel_Rarely        699  Research_Development   \n",
            "\n",
            "      DistanceFromHome      Education EducationField EnvironmentSatisfaction  \\\n",
            "0                   15        College  Life_Sciences                    High   \n",
            "21                   3  Below_College        Medical                  Medium   \n",
            "42                   2       Bachelor  Life_Sciences                  Medium   \n",
            "63                   1        College  Life_Sciences               Very_High   \n",
            "84                   9       Bachelor        Medical                  Medium   \n",
            "...                ...            ...            ...                     ...   \n",
            "1365                 1       Bachelor  Life_Sciences               Very_High   \n",
            "1386                 4         Master  Life_Sciences                    High   \n",
            "1407                 7        College        Medical                  Medium   \n",
            "1428                 2         Master  Life_Sciences                     Low   \n",
            "1449                 1         Master  Life_Sciences                    High   \n",
            "\n",
            "      Gender  ...  PerformanceRating RelationshipSatisfaction  \\\n",
            "0       Male  ...          Excellent                Very_High   \n",
            "21    Female  ...          Excellent                Very_High   \n",
            "42    Female  ...          Excellent                Very_High   \n",
            "63      Male  ...        Outstanding                Very_High   \n",
            "84      Male  ...          Excellent                     High   \n",
            "...      ...  ...                ...                      ...   \n",
            "1365    Male  ...          Excellent                     High   \n",
            "1386    Male  ...          Excellent                   Medium   \n",
            "1407  Female  ...          Excellent                Very_High   \n",
            "1428    Male  ...          Excellent                Very_High   \n",
            "1449    Male  ...          Excellent                      Low   \n",
            "\n",
            "      StockOptionLevel TotalWorkingYears TrainingTimesLastYear  \\\n",
            "0                    0                 0                     6   \n",
            "21                   0                 1                     3   \n",
            "42                   0                 1                     3   \n",
            "63                   1                 1                     2   \n",
            "84                   0                 1                     3   \n",
            "...                ...               ...                   ...   \n",
            "1365                 0                25                     3   \n",
            "1386                 0                27                     3   \n",
            "1407                 1                29                     2   \n",
            "1428                 1                31                     3   \n",
            "1449                 1                34                     5   \n",
            "\n",
            "     WorkLifeBalance  YearsAtCompany  YearsInCurrentRole  \\\n",
            "0             Better               0                   0   \n",
            "21            Better               1                   0   \n",
            "42            Better               1                   0   \n",
            "63            Better               1                   0   \n",
            "84              Good               1                   0   \n",
            "...              ...             ...                 ...   \n",
            "1365            Best               1                   0   \n",
            "1386          Better              15                  11   \n",
            "1407            Good              27                   3   \n",
            "1428          Better              31                   6   \n",
            "1449          Better              33                  18   \n",
            "\n",
            "      YearsSinceLastPromotion YearsWithCurrManager  \n",
            "0                           0                    0  \n",
            "21                          0                    0  \n",
            "42                          0                    0  \n",
            "63                          0                    1  \n",
            "84                          0                    0  \n",
            "...                       ...                  ...  \n",
            "1365                        0                    0  \n",
            "1386                        4                    8  \n",
            "1407                       13                    8  \n",
            "1428                       14                    7  \n",
            "1449                       11                    9  \n",
            "\n",
            "[70 rows x 31 columns]\n"
          ]
        }
      ]
    },
    {
      "cell_type": "markdown",
      "source": [
        "#### **Is systematic sampling OK?**\n"
      ],
      "metadata": {
        "id": "A0n3zhNj2mpU"
      }
    },
    {
      "cell_type": "code",
      "source": [
        "import matplotlib.pyplot as plt\n",
        "\n",
        "# Add an index column to attrition_pop\n",
        "attrition_pop_id = attrition_pop.reset_index()\n",
        "\n",
        "# Plot YearsAtCompany vs. index for attrition_pop_id\n",
        "attrition_pop_id.plot(x=\"index\", y=\"YearsAtCompany\", kind=\"scatter\")\n",
        "plt.show()"
      ],
      "metadata": {
        "id": "ha0Bl9-R2-M7",
        "colab": {
          "base_uri": "https://localhost:8080/",
          "height": 449
        },
        "outputId": "d8d7a8c9-a66f-473a-9839-2bfe0ccc533f"
      },
      "execution_count": 51,
      "outputs": [
        {
          "output_type": "display_data",
          "data": {
            "text/plain": [
              "<Figure size 640x480 with 1 Axes>"
            ],
            "image/png": "[encoded data removed]"
          },
          "metadata": {}
        }
      ]
    },
    {
      "cell_type": "code",
      "source": [
        "# Shuffle the rows of attrition_pop\n",
        "attrition_shuffled = attrition_pop.sample(frac=1)\n",
        "\n",
        "# Reset the row indexes and create an index column\n",
        "attrition_shuffled = attrition_shuffled.reset_index(drop=True).reset_index()\n",
        "\n",
        "# Plot YearsAtCompany vs. index for attrition_shuffled\n",
        "attrition_shuffled.plot(x=\"index\", y=\"YearsAtCompany\", kind=\"scatter\")\n",
        "plt.show()"
      ],
      "metadata": {
        "colab": {
          "base_uri": "https://localhost:8080/",
          "height": 449
        },
        "id": "kjKJZtVXCnrF",
        "outputId": "6d755093-a0bb-4041-b7bd-178047c1ec33"
      },
      "execution_count": 52,
      "outputs": [
        {
          "output_type": "display_data",
          "data": {
            "text/plain": [
              "<Figure size 640x480 with 1 Axes>"
            ],
            "image/png": "[encoded data removed]"
          },
          "metadata": {}
        }
      ]
    },
    {
      "cell_type": "markdown",
      "source": [
        "## **Stratified and weighted random sampling**\n"
      ],
      "metadata": {
        "id": "1g6JHslU2oJr"
      }
    },
    {
      "cell_type": "markdown",
      "source": [
        "#### **Proportional stratified sampling**\n"
      ],
      "metadata": {
        "id": "tj1JsEjx2rEc"
      }
    },
    {
      "cell_type": "code",
      "source": [
        "# Proportion of employees by Education level\n",
        "education_counts_pop = attrition_pop['Education'].value_counts(normalize=True)\n",
        "\n",
        "# Print education_counts_pop\n",
        "print(education_counts_pop)"
      ],
      "metadata": {
        "id": "tItoJWyE2_Qb",
        "colab": {
          "base_uri": "https://localhost:8080/"
        },
        "outputId": "f9d9f08d-1da4-4511-8440-f142edf5a1b7"
      },
      "execution_count": 66,
      "outputs": [
        {
          "output_type": "stream",
          "name": "stdout",
          "text": [
            "Bachelor         0.389116\n",
            "Master           0.270748\n",
            "College          0.191837\n",
            "Below_College    0.115646\n",
            "Doctor           0.032653\n",
            "Name: Education, dtype: float64\n"
          ]
        }
      ]
    },
    {
      "cell_type": "code",
      "source": [
        "# Proportional stratified sampling for 40% of each Education group\n",
        "attrition_strat = attrition_pop.groupby('Education')\\\n",
        "                               .sample(frac=0.4, random_state=2022)\n",
        "\n",
        "# Print the sample\n",
        "display(attrition_strat.head(2))"
      ],
      "metadata": {
        "colab": {
          "base_uri": "https://localhost:8080/",
          "height": 205
        },
        "id": "N3B4rawiCznH",
        "outputId": "7d41f81b-7a36-49c5-fb1a-b7a5bf757b70"
      },
      "execution_count": 69,
      "outputs": [
        {
          "output_type": "display_data",
          "data": {
            "text/plain": [
              "      Age  Attrition     BusinessTravel  DailyRate            Department  \\\n",
              "1191   53        0.0      Travel_Rarely        238                 Sales   \n",
              "407    29        0.0  Travel_Frequently        995  Research_Development   \n",
              "\n",
              "      DistanceFromHome      Education EducationField EnvironmentSatisfaction  \\\n",
              "1191                 1  Below_College        Medical               Very_High   \n",
              "407                  2  Below_College  Life_Sciences                     Low   \n",
              "\n",
              "      Gender  ...  PerformanceRating RelationshipSatisfaction  \\\n",
              "1191  Female  ...        Outstanding                Very_High   \n",
              "407     Male  ...          Excellent                Very_High   \n",
              "\n",
              "      StockOptionLevel TotalWorkingYears TrainingTimesLastYear  \\\n",
              "1191                 0                18                     2   \n",
              "407                  1                 6                     0   \n",
              "\n",
              "     WorkLifeBalance  YearsAtCompany  YearsInCurrentRole  \\\n",
              "1191            Best              14                   7   \n",
              "407             Best               6                   4   \n",
              "\n",
              "      YearsSinceLastPromotion YearsWithCurrManager  \n",
              "1191                        8                   10  \n",
              "407                         1                    3  \n",
              "\n",
              "[2 rows x 31 columns]"
            ],
            "text/html": [
              "\n",
              "  <div id=\"df-d2057d62-c2d9-4cd6-aafb-d586a14157ff\">\n",
              "    <div class=\"colab-df-container\">\n",
              "      <div>\n",
              "<style scoped>\n",
              "    .dataframe tbody tr th:only-of-type {\n",
              "        vertical-align: middle;\n",
              "    }\n",
              "\n",
              "    .dataframe tbody tr th {\n",
              "        vertical-align: top;\n",
              "    }\n",
              "\n",
              "    .dataframe thead th {\n",
              "        text-align: right;\n",
              "    }\n",
              "</style>\n",
              "<table border=\"1\" class=\"dataframe\">\n",
              "  <thead>\n",
              "    <tr style=\"text-align: right;\">\n",
              "      <th></th>\n",
              "      <th>Age</th>\n",
              "      <th>Attrition</th>\n",
              "      <th>BusinessTravel</th>\n",
              "      <th>DailyRate</th>\n",
              "      <th>Department</th>\n",
              "      <th>DistanceFromHome</th>\n",
              "      <th>Education</th>\n",
              "      <th>EducationField</th>\n",
              "      <th>EnvironmentSatisfaction</th>\n",
              "      <th>Gender</th>\n",
              "      <th>...</th>\n",
              "      <th>PerformanceRating</th>\n",
              "      <th>RelationshipSatisfaction</th>\n",
              "      <th>StockOptionLevel</th>\n",
              "      <th>TotalWorkingYears</th>\n",
              "      <th>TrainingTimesLastYear</th>\n",
              "      <th>WorkLifeBalance</th>\n",
              "      <th>YearsAtCompany</th>\n",
              "      <th>YearsInCurrentRole</th>\n",
              "      <th>YearsSinceLastPromotion</th>\n",
              "      <th>YearsWithCurrManager</th>\n",
              "    </tr>\n",
              "  </thead>\n",
              "  <tbody>\n",
              "    <tr>\n",
              "      <th>1191</th>\n",
              "      <td>53</td>\n",
              "      <td>0.0</td>\n",
              "      <td>Travel_Rarely</td>\n",
              "      <td>238</td>\n",
              "      <td>Sales</td>\n",
              "      <td>1</td>\n",
              "      <td>Below_College</td>\n",
              "      <td>Medical</td>\n",
              "      <td>Very_High</td>\n",
              "      <td>Female</td>\n",
              "      <td>...</td>\n",
              "      <td>Outstanding</td>\n",
              "      <td>Very_High</td>\n",
              "      <td>0</td>\n",
              "      <td>18</td>\n",
              "      <td>2</td>\n",
              "      <td>Best</td>\n",
              "      <td>14</td>\n",
              "      <td>7</td>\n",
              "      <td>8</td>\n",
              "      <td>10</td>\n",
              "    </tr>\n",
              "    <tr>\n",
              "      <th>407</th>\n",
              "      <td>29</td>\n",
              "      <td>0.0</td>\n",
              "      <td>Travel_Frequently</td>\n",
              "      <td>995</td>\n",
              "      <td>Research_Development</td>\n",
              "      <td>2</td>\n",
              "      <td>Below_College</td>\n",
              "      <td>Life_Sciences</td>\n",
              "      <td>Low</td>\n",
              "      <td>Male</td>\n",
              "      <td>...</td>\n",
              "      <td>Excellent</td>\n",
              "      <td>Very_High</td>\n",
              "      <td>1</td>\n",
              "      <td>6</td>\n",
              "      <td>0</td>\n",
              "      <td>Best</td>\n",
              "      <td>6</td>\n",
              "      <td>4</td>\n",
              "      <td>1</td>\n",
              "      <td>3</td>\n",
              "    </tr>\n",
              "  </tbody>\n",
              "</table>\n",
              "<p>2 rows × 31 columns</p>\n",
              "</div>\n",
              "      <button class=\"colab-df-convert\" onclick=\"convertToInteractive('df-d2057d62-c2d9-4cd6-aafb-d586a14157ff')\"\n",
              "              title=\"Convert this dataframe to an interactive table.\"\n",
              "              style=\"display:none;\">\n",
              "        \n",
              "  <svg xmlns=\"http://www.w3.org/2000/svg\" height=\"24px\"viewBox=\"0 0 24 24\"\n",
              "       width=\"24px\">\n",
              "    <path d=\"M0 0h24v24H0V0z\" fill=\"none\"/>\n",
              "    <path d=\"M18.56 5.44l.94 2.06.94-2.06 2.06-.94-2.06-.94-.94-2.06-.94 2.06-2.06.94zm-11 1L8.5 8.5l.94-2.06 2.06-.94-2.06-.94L8.5 2.5l-.94 2.06-2.06.94zm10 10l.94 2.06.94-2.06 2.06-.94-2.06-.94-.94-2.06-.94 2.06-2.06.94z\"/><path d=\"M17.41 7.96l-1.37-1.37c-.4-.4-.92-.59-1.43-.59-.52 0-1.04.2-1.43.59L10.3 9.45l-7.72 7.72c-.78.78-.78 2.05 0 2.83L4 21.41c.39.39.9.59 1.41.59.51 0 1.02-.2 1.41-.59l7.78-7.78 2.81-2.81c.8-.78.8-2.07 0-2.86zM5.41 20L4 18.59l7.72-7.72 1.47 1.35L5.41 20z\"/>\n",
              "  </svg>\n",
              "      </button>\n",
              "      \n",
              "  <style>\n",
              "    .colab-df-container {\n",
              "      display:flex;\n",
              "      flex-wrap:wrap;\n",
              "      gap: 12px;\n",
              "    }\n",
              "\n",
              "    .colab-df-convert {\n",
              "      background-color: #E8F0FE;\n",
              "      border: none;\n",
              "      border-radius: 50%;\n",
              "      cursor: pointer;\n",
              "      display: none;\n",
              "      fill: #1967D2;\n",
              "      height: 32px;\n",
              "      padding: 0 0 0 0;\n",
              "      width: 32px;\n",
              "    }\n",
              "\n",
              "    .colab-df-convert:hover {\n",
              "      background-color: #E2EBFA;\n",
              "      box-shadow: 0px 1px 2px rgba(60, 64, 67, 0.3), 0px 1px 3px 1px rgba(60, 64, 67, 0.15);\n",
              "      fill: #174EA6;\n",
              "    }\n",
              "\n",
              "    [theme=dark] .colab-df-convert {\n",
              "      background-color: #3B4455;\n",
              "      fill: #D2E3FC;\n",
              "    }\n",
              "\n",
              "    [theme=dark] .colab-df-convert:hover {\n",
              "      background-color: #434B5C;\n",
              "      box-shadow: 0px 1px 3px 1px rgba(0, 0, 0, 0.15);\n",
              "      filter: drop-shadow(0px 1px 2px rgba(0, 0, 0, 0.3));\n",
              "      fill: #FFFFFF;\n",
              "    }\n",
              "  </style>\n",
              "\n",
              "      <script>\n",
              "        const buttonEl =\n",
              "          document.querySelector('#df-d2057d62-c2d9-4cd6-aafb-d586a14157ff button.colab-df-convert');\n",
              "        buttonEl.style.display =\n",
              "          google.colab.kernel.accessAllowed ? 'block' : 'none';\n",
              "\n",
              "        async function convertToInteractive(key) {\n",
              "          const element = document.querySelector('#df-d2057d62-c2d9-4cd6-aafb-d586a14157ff');\n",
              "          const dataTable =\n",
              "            await google.colab.kernel.invokeFunction('convertToInteractive',\n",
              "                                                     [key], {});\n",
              "          if (!dataTable) return;\n",
              "\n",
              "          const docLinkHtml = 'Like what you see? Visit the ' +\n",
              "            '<a target=\"_blank\" href=https://colab.research.google.com/notebooks/data_table.ipynb>data table notebook</a>'\n",
              "            + ' to learn more about interactive tables.';\n",
              "          element.innerHTML = '';\n",
              "          dataTable['output_type'] = 'display_data';\n",
              "          await google.colab.output.renderOutput(dataTable, element);\n",
              "          const docLink = document.createElement('div');\n",
              "          docLink.innerHTML = docLinkHtml;\n",
              "          element.appendChild(docLink);\n",
              "        }\n",
              "      </script>\n",
              "    </div>\n",
              "  </div>\n",
              "  "
            ]
          },
          "metadata": {}
        }
      ]
    },
    {
      "cell_type": "code",
      "source": [
        "# Calculate the Education level proportions from attrition_strat\n",
        "education_counts_strat = attrition_strat['Education'].value_counts(normalize=True)\n",
        "\n",
        "# Print education_counts_strat\n",
        "print(education_counts_strat)"
      ],
      "metadata": {
        "colab": {
          "base_uri": "https://localhost:8080/"
        },
        "id": "0UApDTxtC5G-",
        "outputId": "97d624eb-194d-413b-f223-1c33bb43c32e"
      },
      "execution_count": 55,
      "outputs": [
        {
          "output_type": "stream",
          "name": "stdout",
          "text": [
            "Bachelor         0.389456\n",
            "Master           0.270408\n",
            "College          0.192177\n",
            "Below_College    0.115646\n",
            "Doctor           0.032313\n",
            "Name: Education, dtype: float64\n"
          ]
        }
      ]
    },
    {
      "cell_type": "markdown",
      "source": [
        "#### **Equal counts stratified sampling**\n"
      ],
      "metadata": {
        "id": "3-FXuNvz2snL"
      }
    },
    {
      "cell_type": "code",
      "source": [
        "# Get 30 employees from each Education group\n",
        "attrition_eq = attrition_pop.groupby('Education')\\\n",
        "                            .sample(n=30, random_state=2022)\n",
        "\n",
        "# Print the sample\n",
        "display(attrition_eq.head(5))"
      ],
      "metadata": {
        "id": "Y-ySZIvN2_m8",
        "colab": {
          "base_uri": "https://localhost:8080/",
          "height": 300
        },
        "outputId": "5c073ef8-ca20-4eb4-a38f-8cde4b3825a5"
      },
      "execution_count": 70,
      "outputs": [
        {
          "output_type": "display_data",
          "data": {
            "text/plain": [
              "      Age  Attrition     BusinessTravel  DailyRate            Department  \\\n",
              "1191   53        0.0      Travel_Rarely        238                 Sales   \n",
              "407    29        0.0  Travel_Frequently        995  Research_Development   \n",
              "1233   59        0.0  Travel_Frequently       1225                 Sales   \n",
              "366    37        0.0      Travel_Rarely        571  Research_Development   \n",
              "702    31        0.0  Travel_Frequently        163  Research_Development   \n",
              "\n",
              "      DistanceFromHome      Education    EducationField  \\\n",
              "1191                 1  Below_College           Medical   \n",
              "407                  2  Below_College     Life_Sciences   \n",
              "1233                 1  Below_College     Life_Sciences   \n",
              "366                 10  Below_College     Life_Sciences   \n",
              "702                 24  Below_College  Technical_Degree   \n",
              "\n",
              "     EnvironmentSatisfaction  Gender  ...  PerformanceRating  \\\n",
              "1191               Very_High  Female  ...        Outstanding   \n",
              "407                      Low    Male  ...          Excellent   \n",
              "1233                     Low  Female  ...          Excellent   \n",
              "366                Very_High  Female  ...          Excellent   \n",
              "702                Very_High  Female  ...        Outstanding   \n",
              "\n",
              "     RelationshipSatisfaction  StockOptionLevel TotalWorkingYears  \\\n",
              "1191                Very_High                 0                18   \n",
              "407                 Very_High                 1                 6   \n",
              "1233                Very_High                 0                20   \n",
              "366                    Medium                 2                 6   \n",
              "702                 Very_High                 0                 9   \n",
              "\n",
              "     TrainingTimesLastYear WorkLifeBalance  YearsAtCompany  \\\n",
              "1191                     2            Best              14   \n",
              "407                      0            Best               6   \n",
              "1233                     2            Good               4   \n",
              "366                      3            Good               5   \n",
              "702                      3            Good               5   \n",
              "\n",
              "      YearsInCurrentRole  YearsSinceLastPromotion YearsWithCurrManager  \n",
              "1191                   7                        8                   10  \n",
              "407                    4                        1                    3  \n",
              "1233                   3                        1                    3  \n",
              "366                    3                        4                    3  \n",
              "702                    4                        1                    4  \n",
              "\n",
              "[5 rows x 31 columns]"
            ],
            "text/html": [
              "\n",
              "  <div id=\"df-946eed89-0874-430c-94e6-ba5404ef8af7\">\n",
              "    <div class=\"colab-df-container\">\n",
              "      <div>\n",
              "<style scoped>\n",
              "    .dataframe tbody tr th:only-of-type {\n",
              "        vertical-align: middle;\n",
              "    }\n",
              "\n",
              "    .dataframe tbody tr th {\n",
              "        vertical-align: top;\n",
              "    }\n",
              "\n",
              "    .dataframe thead th {\n",
              "        text-align: right;\n",
              "    }\n",
              "</style>\n",
              "<table border=\"1\" class=\"dataframe\">\n",
              "  <thead>\n",
              "    <tr style=\"text-align: right;\">\n",
              "      <th></th>\n",
              "      <th>Age</th>\n",
              "      <th>Attrition</th>\n",
              "      <th>BusinessTravel</th>\n",
              "      <th>DailyRate</th>\n",
              "      <th>Department</th>\n",
              "      <th>DistanceFromHome</th>\n",
              "      <th>Education</th>\n",
              "      <th>EducationField</th>\n",
              "      <th>EnvironmentSatisfaction</th>\n",
              "      <th>Gender</th>\n",
              "      <th>...</th>\n",
              "      <th>PerformanceRating</th>\n",
              "      <th>RelationshipSatisfaction</th>\n",
              "      <th>StockOptionLevel</th>\n",
              "      <th>TotalWorkingYears</th>\n",
              "      <th>TrainingTimesLastYear</th>\n",
              "      <th>WorkLifeBalance</th>\n",
              "      <th>YearsAtCompany</th>\n",
              "      <th>YearsInCurrentRole</th>\n",
              "      <th>YearsSinceLastPromotion</th>\n",
              "      <th>YearsWithCurrManager</th>\n",
              "    </tr>\n",
              "  </thead>\n",
              "  <tbody>\n",
              "    <tr>\n",
              "      <th>1191</th>\n",
              "      <td>53</td>\n",
              "      <td>0.0</td>\n",
              "      <td>Travel_Rarely</td>\n",
              "      <td>238</td>\n",
              "      <td>Sales</td>\n",
              "      <td>1</td>\n",
              "      <td>Below_College</td>\n",
              "      <td>Medical</td>\n",
              "      <td>Very_High</td>\n",
              "      <td>Female</td>\n",
              "      <td>...</td>\n",
              "      <td>Outstanding</td>\n",
              "      <td>Very_High</td>\n",
              "      <td>0</td>\n",
              "      <td>18</td>\n",
              "      <td>2</td>\n",
              "      <td>Best</td>\n",
              "      <td>14</td>\n",
              "      <td>7</td>\n",
              "      <td>8</td>\n",
              "      <td>10</td>\n",
              "    </tr>\n",
              "    <tr>\n",
              "      <th>407</th>\n",
              "      <td>29</td>\n",
              "      <td>0.0</td>\n",
              "      <td>Travel_Frequently</td>\n",
              "      <td>995</td>\n",
              "      <td>Research_Development</td>\n",
              "      <td>2</td>\n",
              "      <td>Below_College</td>\n",
              "      <td>Life_Sciences</td>\n",
              "      <td>Low</td>\n",
              "      <td>Male</td>\n",
              "      <td>...</td>\n",
              "      <td>Excellent</td>\n",
              "      <td>Very_High</td>\n",
              "      <td>1</td>\n",
              "      <td>6</td>\n",
              "      <td>0</td>\n",
              "      <td>Best</td>\n",
              "      <td>6</td>\n",
              "      <td>4</td>\n",
              "      <td>1</td>\n",
              "      <td>3</td>\n",
              "    </tr>\n",
              "    <tr>\n",
              "      <th>1233</th>\n",
              "      <td>59</td>\n",
              "      <td>0.0</td>\n",
              "      <td>Travel_Frequently</td>\n",
              "      <td>1225</td>\n",
              "      <td>Sales</td>\n",
              "      <td>1</td>\n",
              "      <td>Below_College</td>\n",
              "      <td>Life_Sciences</td>\n",
              "      <td>Low</td>\n",
              "      <td>Female</td>\n",
              "      <td>...</td>\n",
              "      <td>Excellent</td>\n",
              "      <td>Very_High</td>\n",
              "      <td>0</td>\n",
              "      <td>20</td>\n",
              "      <td>2</td>\n",
              "      <td>Good</td>\n",
              "      <td>4</td>\n",
              "      <td>3</td>\n",
              "      <td>1</td>\n",
              "      <td>3</td>\n",
              "    </tr>\n",
              "    <tr>\n",
              "      <th>366</th>\n",
              "      <td>37</td>\n",
              "      <td>0.0</td>\n",
              "      <td>Travel_Rarely</td>\n",
              "      <td>571</td>\n",
              "      <td>Research_Development</td>\n",
              "      <td>10</td>\n",
              "      <td>Below_College</td>\n",
              "      <td>Life_Sciences</td>\n",
              "      <td>Very_High</td>\n",
              "      <td>Female</td>\n",
              "      <td>...</td>\n",
              "      <td>Excellent</td>\n",
              "      <td>Medium</td>\n",
              "      <td>2</td>\n",
              "      <td>6</td>\n",
              "      <td>3</td>\n",
              "      <td>Good</td>\n",
              "      <td>5</td>\n",
              "      <td>3</td>\n",
              "      <td>4</td>\n",
              "      <td>3</td>\n",
              "    </tr>\n",
              "    <tr>\n",
              "      <th>702</th>\n",
              "      <td>31</td>\n",
              "      <td>0.0</td>\n",
              "      <td>Travel_Frequently</td>\n",
              "      <td>163</td>\n",
              "      <td>Research_Development</td>\n",
              "      <td>24</td>\n",
              "      <td>Below_College</td>\n",
              "      <td>Technical_Degree</td>\n",
              "      <td>Very_High</td>\n",
              "      <td>Female</td>\n",
              "      <td>...</td>\n",
              "      <td>Outstanding</td>\n",
              "      <td>Very_High</td>\n",
              "      <td>0</td>\n",
              "      <td>9</td>\n",
              "      <td>3</td>\n",
              "      <td>Good</td>\n",
              "      <td>5</td>\n",
              "      <td>4</td>\n",
              "      <td>1</td>\n",
              "      <td>4</td>\n",
              "    </tr>\n",
              "  </tbody>\n",
              "</table>\n",
              "<p>5 rows × 31 columns</p>\n",
              "</div>\n",
              "      <button class=\"colab-df-convert\" onclick=\"convertToInteractive('df-946eed89-0874-430c-94e6-ba5404ef8af7')\"\n",
              "              title=\"Convert this dataframe to an interactive table.\"\n",
              "              style=\"display:none;\">\n",
              "        \n",
              "  <svg xmlns=\"http://www.w3.org/2000/svg\" height=\"24px\"viewBox=\"0 0 24 24\"\n",
              "       width=\"24px\">\n",
              "    <path d=\"M0 0h24v24H0V0z\" fill=\"none\"/>\n",
              "    <path d=\"M18.56 5.44l.94 2.06.94-2.06 2.06-.94-2.06-.94-.94-2.06-.94 2.06-2.06.94zm-11 1L8.5 8.5l.94-2.06 2.06-.94-2.06-.94L8.5 2.5l-.94 2.06-2.06.94zm10 10l.94 2.06.94-2.06 2.06-.94-2.06-.94-.94-2.06-.94 2.06-2.06.94z\"/><path d=\"M17.41 7.96l-1.37-1.37c-.4-.4-.92-.59-1.43-.59-.52 0-1.04.2-1.43.59L10.3 9.45l-7.72 7.72c-.78.78-.78 2.05 0 2.83L4 21.41c.39.39.9.59 1.41.59.51 0 1.02-.2 1.41-.59l7.78-7.78 2.81-2.81c.8-.78.8-2.07 0-2.86zM5.41 20L4 18.59l7.72-7.72 1.47 1.35L5.41 20z\"/>\n",
              "  </svg>\n",
              "      </button>\n",
              "      \n",
              "  <style>\n",
              "    .colab-df-container {\n",
              "      display:flex;\n",
              "      flex-wrap:wrap;\n",
              "      gap: 12px;\n",
              "    }\n",
              "\n",
              "    .colab-df-convert {\n",
              "      background-color: #E8F0FE;\n",
              "      border: none;\n",
              "      border-radius: 50%;\n",
              "      cursor: pointer;\n",
              "      display: none;\n",
              "      fill: #1967D2;\n",
              "      height: 32px;\n",
              "      padding: 0 0 0 0;\n",
              "      width: 32px;\n",
              "    }\n",
              "\n",
              "    .colab-df-convert:hover {\n",
              "      background-color: #E2EBFA;\n",
              "      box-shadow: 0px 1px 2px rgba(60, 64, 67, 0.3), 0px 1px 3px 1px rgba(60, 64, 67, 0.15);\n",
              "      fill: #174EA6;\n",
              "    }\n",
              "\n",
              "    [theme=dark] .colab-df-convert {\n",
              "      background-color: #3B4455;\n",
              "      fill: #D2E3FC;\n",
              "    }\n",
              "\n",
              "    [theme=dark] .colab-df-convert:hover {\n",
              "      background-color: #434B5C;\n",
              "      box-shadow: 0px 1px 3px 1px rgba(0, 0, 0, 0.15);\n",
              "      filter: drop-shadow(0px 1px 2px rgba(0, 0, 0, 0.3));\n",
              "      fill: #FFFFFF;\n",
              "    }\n",
              "  </style>\n",
              "\n",
              "      <script>\n",
              "        const buttonEl =\n",
              "          document.querySelector('#df-946eed89-0874-430c-94e6-ba5404ef8af7 button.colab-df-convert');\n",
              "        buttonEl.style.display =\n",
              "          google.colab.kernel.accessAllowed ? 'block' : 'none';\n",
              "\n",
              "        async function convertToInteractive(key) {\n",
              "          const element = document.querySelector('#df-946eed89-0874-430c-94e6-ba5404ef8af7');\n",
              "          const dataTable =\n",
              "            await google.colab.kernel.invokeFunction('convertToInteractive',\n",
              "                                                     [key], {});\n",
              "          if (!dataTable) return;\n",
              "\n",
              "          const docLinkHtml = 'Like what you see? Visit the ' +\n",
              "            '<a target=\"_blank\" href=https://colab.research.google.com/notebooks/data_table.ipynb>data table notebook</a>'\n",
              "            + ' to learn more about interactive tables.';\n",
              "          element.innerHTML = '';\n",
              "          dataTable['output_type'] = 'display_data';\n",
              "          await google.colab.output.renderOutput(dataTable, element);\n",
              "          const docLink = document.createElement('div');\n",
              "          docLink.innerHTML = docLinkHtml;\n",
              "          element.appendChild(docLink);\n",
              "        }\n",
              "      </script>\n",
              "    </div>\n",
              "  </div>\n",
              "  "
            ]
          },
          "metadata": {}
        }
      ]
    },
    {
      "cell_type": "code",
      "source": [
        "# Get the proportions from attrition_eq\n",
        "education_counts_eq = attrition_eq['Education'].value_counts(normalize=True)\n",
        "\n",
        "# Print the results\n",
        "print(education_counts_eq)"
      ],
      "metadata": {
        "colab": {
          "base_uri": "https://localhost:8080/"
        },
        "id": "xQ_aojunC-wG",
        "outputId": "b7fec9cd-e3f8-4c3a-a88b-eb1bf5874efe"
      },
      "execution_count": 57,
      "outputs": [
        {
          "output_type": "stream",
          "name": "stdout",
          "text": [
            "Below_College    0.2\n",
            "College          0.2\n",
            "Bachelor         0.2\n",
            "Master           0.2\n",
            "Doctor           0.2\n",
            "Name: Education, dtype: float64\n"
          ]
        }
      ]
    },
    {
      "cell_type": "markdown",
      "source": [
        "#### **Weighted sampling**\n"
      ],
      "metadata": {
        "id": "-JiMYkwP2t5D"
      }
    },
    {
      "cell_type": "code",
      "source": [
        "import numpy as np\n",
        "\n",
        "# Plot YearsAtCompany from attrition_pop as a histogram\n",
        "attrition_pop['YearsAtCompany'].hist(bins=np.arange(0, 41, 1))\n",
        "plt.show()"
      ],
      "metadata": {
        "id": "rLiGee103ADb",
        "colab": {
          "base_uri": "https://localhost:8080/",
          "height": 430
        },
        "outputId": "e72e985e-3fd5-4ee9-e961-1eff79286b1c"
      },
      "execution_count": 58,
      "outputs": [
        {
          "output_type": "display_data",
          "data": {
            "text/plain": [
              "<Figure size 640x480 with 1 Axes>"
            ],
            "image/png": "[encoded data removed]"
          },
          "metadata": {}
        }
      ]
    },
    {
      "cell_type": "code",
      "source": [
        "# Plot YearsAtCompany from attrition_pop as a histogram\n",
        "attrition_pop['YearsAtCompany'].hist(bins=np.arange(0, 41, 1))\n",
        "plt.show()\n",
        "\n",
        "# Sample 400 employees weighted by YearsAtCompany\n",
        "attrition_weight = attrition_pop.sample(n=400, weights=\"YearsAtCompany\")\n",
        "\n",
        "# Print the sample\n",
        "display(attrition_weight.head(3))"
      ],
      "metadata": {
        "colab": {
          "base_uri": "https://localhost:8080/",
          "height": 650
        },
        "id": "tZIeFcamDBkP",
        "outputId": "d74f8d5d-edd6-47f4-efa6-7fb949984823"
      },
      "execution_count": 74,
      "outputs": [
        {
          "output_type": "display_data",
          "data": {
            "text/plain": [
              "<Figure size 640x480 with 1 Axes>"
            ],
            "image/png": "[encoded data removed]"
          },
          "metadata": {}
        },
        {
          "output_type": "display_data",
          "data": {
            "text/plain": [
              "      Age  Attrition BusinessTravel  DailyRate            Department  \\\n",
              "969    38        0.0  Travel_Rarely        702                 Sales   \n",
              "1172   42        0.0  Travel_Rarely       1265  Research_Development   \n",
              "1269   45        0.0  Travel_Rarely       1385  Research_Development   \n",
              "\n",
              "      DistanceFromHome Education EducationField EnvironmentSatisfaction  \\\n",
              "969                  1    Master  Life_Sciences                     Low   \n",
              "1172                 3  Bachelor  Life_Sciences                    High   \n",
              "1269                20   College        Medical                    High   \n",
              "\n",
              "      Gender  ...  PerformanceRating RelationshipSatisfaction  \\\n",
              "969   Female  ...        Outstanding                     High   \n",
              "1172  Female  ...          Excellent                   Medium   \n",
              "1269    Male  ...          Excellent                   Medium   \n",
              "\n",
              "      StockOptionLevel TotalWorkingYears TrainingTimesLastYear  \\\n",
              "969                  0                12                     2   \n",
              "1172                 1                17                     1   \n",
              "1269                 0                21                     2   \n",
              "\n",
              "     WorkLifeBalance  YearsAtCompany  YearsInCurrentRole  \\\n",
              "969             Best               8                   3   \n",
              "1172            Good               5                   3   \n",
              "1269          Better              20                   7   \n",
              "\n",
              "      YearsSinceLastPromotion YearsWithCurrManager  \n",
              "969                         0                    7  \n",
              "1172                        1                    3  \n",
              "1269                        4                   10  \n",
              "\n",
              "[3 rows x 31 columns]"
            ],
            "text/html": [
              "\n",
              "  <div id=\"df-f32b9915-8e31-4cb4-84c9-3135786823a6\">\n",
              "    <div class=\"colab-df-container\">\n",
              "      <div>\n",
              "<style scoped>\n",
              "    .dataframe tbody tr th:only-of-type {\n",
              "        vertical-align: middle;\n",
              "    }\n",
              "\n",
              "    .dataframe tbody tr th {\n",
              "        vertical-align: top;\n",
              "    }\n",
              "\n",
              "    .dataframe thead th {\n",
              "        text-align: right;\n",
              "    }\n",
              "</style>\n",
              "<table border=\"1\" class=\"dataframe\">\n",
              "  <thead>\n",
              "    <tr style=\"text-align: right;\">\n",
              "      <th></th>\n",
              "      <th>Age</th>\n",
              "      <th>Attrition</th>\n",
              "      <th>BusinessTravel</th>\n",
              "      <th>DailyRate</th>\n",
              "      <th>Department</th>\n",
              "      <th>DistanceFromHome</th>\n",
              "      <th>Education</th>\n",
              "      <th>EducationField</th>\n",
              "      <th>EnvironmentSatisfaction</th>\n",
              "      <th>Gender</th>\n",
              "      <th>...</th>\n",
              "      <th>PerformanceRating</th>\n",
              "      <th>RelationshipSatisfaction</th>\n",
              "      <th>StockOptionLevel</th>\n",
              "      <th>TotalWorkingYears</th>\n",
              "      <th>TrainingTimesLastYear</th>\n",
              "      <th>WorkLifeBalance</th>\n",
              "      <th>YearsAtCompany</th>\n",
              "      <th>YearsInCurrentRole</th>\n",
              "      <th>YearsSinceLastPromotion</th>\n",
              "      <th>YearsWithCurrManager</th>\n",
              "    </tr>\n",
              "  </thead>\n",
              "  <tbody>\n",
              "    <tr>\n",
              "      <th>969</th>\n",
              "      <td>38</td>\n",
              "      <td>0.0</td>\n",
              "      <td>Travel_Rarely</td>\n",
              "      <td>702</td>\n",
              "      <td>Sales</td>\n",
              "      <td>1</td>\n",
              "      <td>Master</td>\n",
              "      <td>Life_Sciences</td>\n",
              "      <td>Low</td>\n",
              "      <td>Female</td>\n",
              "      <td>...</td>\n",
              "      <td>Outstanding</td>\n",
              "      <td>High</td>\n",
              "      <td>0</td>\n",
              "      <td>12</td>\n",
              "      <td>2</td>\n",
              "      <td>Best</td>\n",
              "      <td>8</td>\n",
              "      <td>3</td>\n",
              "      <td>0</td>\n",
              "      <td>7</td>\n",
              "    </tr>\n",
              "    <tr>\n",
              "      <th>1172</th>\n",
              "      <td>42</td>\n",
              "      <td>0.0</td>\n",
              "      <td>Travel_Rarely</td>\n",
              "      <td>1265</td>\n",
              "      <td>Research_Development</td>\n",
              "      <td>3</td>\n",
              "      <td>Bachelor</td>\n",
              "      <td>Life_Sciences</td>\n",
              "      <td>High</td>\n",
              "      <td>Female</td>\n",
              "      <td>...</td>\n",
              "      <td>Excellent</td>\n",
              "      <td>Medium</td>\n",
              "      <td>1</td>\n",
              "      <td>17</td>\n",
              "      <td>1</td>\n",
              "      <td>Good</td>\n",
              "      <td>5</td>\n",
              "      <td>3</td>\n",
              "      <td>1</td>\n",
              "      <td>3</td>\n",
              "    </tr>\n",
              "    <tr>\n",
              "      <th>1269</th>\n",
              "      <td>45</td>\n",
              "      <td>0.0</td>\n",
              "      <td>Travel_Rarely</td>\n",
              "      <td>1385</td>\n",
              "      <td>Research_Development</td>\n",
              "      <td>20</td>\n",
              "      <td>College</td>\n",
              "      <td>Medical</td>\n",
              "      <td>High</td>\n",
              "      <td>Male</td>\n",
              "      <td>...</td>\n",
              "      <td>Excellent</td>\n",
              "      <td>Medium</td>\n",
              "      <td>0</td>\n",
              "      <td>21</td>\n",
              "      <td>2</td>\n",
              "      <td>Better</td>\n",
              "      <td>20</td>\n",
              "      <td>7</td>\n",
              "      <td>4</td>\n",
              "      <td>10</td>\n",
              "    </tr>\n",
              "  </tbody>\n",
              "</table>\n",
              "<p>3 rows × 31 columns</p>\n",
              "</div>\n",
              "      <button class=\"colab-df-convert\" onclick=\"convertToInteractive('df-f32b9915-8e31-4cb4-84c9-3135786823a6')\"\n",
              "              title=\"Convert this dataframe to an interactive table.\"\n",
              "              style=\"display:none;\">\n",
              "        \n",
              "  <svg xmlns=\"http://www.w3.org/2000/svg\" height=\"24px\"viewBox=\"0 0 24 24\"\n",
              "       width=\"24px\">\n",
              "    <path d=\"M0 0h24v24H0V0z\" fill=\"none\"/>\n",
              "    <path d=\"M18.56 5.44l.94 2.06.94-2.06 2.06-.94-2.06-.94-.94-2.06-.94 2.06-2.06.94zm-11 1L8.5 8.5l.94-2.06 2.06-.94-2.06-.94L8.5 2.5l-.94 2.06-2.06.94zm10 10l.94 2.06.94-2.06 2.06-.94-2.06-.94-.94-2.06-.94 2.06-2.06.94z\"/><path d=\"M17.41 7.96l-1.37-1.37c-.4-.4-.92-.59-1.43-.59-.52 0-1.04.2-1.43.59L10.3 9.45l-7.72 7.72c-.78.78-.78 2.05 0 2.83L4 21.41c.39.39.9.59 1.41.59.51 0 1.02-.2 1.41-.59l7.78-7.78 2.81-2.81c.8-.78.8-2.07 0-2.86zM5.41 20L4 18.59l7.72-7.72 1.47 1.35L5.41 20z\"/>\n",
              "  </svg>\n",
              "      </button>\n",
              "      \n",
              "  <style>\n",
              "    .colab-df-container {\n",
              "      display:flex;\n",
              "      flex-wrap:wrap;\n",
              "      gap: 12px;\n",
              "    }\n",
              "\n",
              "    .colab-df-convert {\n",
              "      background-color: #E8F0FE;\n",
              "      border: none;\n",
              "      border-radius: 50%;\n",
              "      cursor: pointer;\n",
              "      display: none;\n",
              "      fill: #1967D2;\n",
              "      height: 32px;\n",
              "      padding: 0 0 0 0;\n",
              "      width: 32px;\n",
              "    }\n",
              "\n",
              "    .colab-df-convert:hover {\n",
              "      background-color: #E2EBFA;\n",
              "      box-shadow: 0px 1px 2px rgba(60, 64, 67, 0.3), 0px 1px 3px 1px rgba(60, 64, 67, 0.15);\n",
              "      fill: #174EA6;\n",
              "    }\n",
              "\n",
              "    [theme=dark] .colab-df-convert {\n",
              "      background-color: #3B4455;\n",
              "      fill: #D2E3FC;\n",
              "    }\n",
              "\n",
              "    [theme=dark] .colab-df-convert:hover {\n",
              "      background-color: #434B5C;\n",
              "      box-shadow: 0px 1px 3px 1px rgba(0, 0, 0, 0.15);\n",
              "      filter: drop-shadow(0px 1px 2px rgba(0, 0, 0, 0.3));\n",
              "      fill: #FFFFFF;\n",
              "    }\n",
              "  </style>\n",
              "\n",
              "      <script>\n",
              "        const buttonEl =\n",
              "          document.querySelector('#df-f32b9915-8e31-4cb4-84c9-3135786823a6 button.colab-df-convert');\n",
              "        buttonEl.style.display =\n",
              "          google.colab.kernel.accessAllowed ? 'block' : 'none';\n",
              "\n",
              "        async function convertToInteractive(key) {\n",
              "          const element = document.querySelector('#df-f32b9915-8e31-4cb4-84c9-3135786823a6');\n",
              "          const dataTable =\n",
              "            await google.colab.kernel.invokeFunction('convertToInteractive',\n",
              "                                                     [key], {});\n",
              "          if (!dataTable) return;\n",
              "\n",
              "          const docLinkHtml = 'Like what you see? Visit the ' +\n",
              "            '<a target=\"_blank\" href=https://colab.research.google.com/notebooks/data_table.ipynb>data table notebook</a>'\n",
              "            + ' to learn more about interactive tables.';\n",
              "          element.innerHTML = '';\n",
              "          dataTable['output_type'] = 'display_data';\n",
              "          await google.colab.output.renderOutput(dataTable, element);\n",
              "          const docLink = document.createElement('div');\n",
              "          docLink.innerHTML = docLinkHtml;\n",
              "          element.appendChild(docLink);\n",
              "        }\n",
              "      </script>\n",
              "    </div>\n",
              "  </div>\n",
              "  "
            ]
          },
          "metadata": {}
        }
      ]
    },
    {
      "cell_type": "code",
      "source": [
        "# Plot YearsAtCompany from attrition_pop as a histogram\n",
        "attrition_pop['YearsAtCompany'].hist(bins=np.arange(0, 41, 1))\n",
        "plt.show()\n",
        "\n",
        "# Sample 400 employees weighted by YearsAtCompany\n",
        "attrition_weight = attrition_pop.sample(n=400, weights=\"YearsAtCompany\")\n",
        "\n",
        "# Plot YearsAtCompany from attrition_weight as a histogram\n",
        "attrition_weight['YearsAtCompany'].hist(bins=np.arange(0, 41, 1))\n",
        "plt.show()"
      ],
      "metadata": {
        "colab": {
          "base_uri": "https://localhost:8080/",
          "height": 843
        },
        "id": "007sBkauDDcV",
        "outputId": "c0f2d444-6d5c-48b3-c1e0-f3dfe76cc7a5"
      },
      "execution_count": 72,
      "outputs": [
        {
          "output_type": "display_data",
          "data": {
            "text/plain": [
              "<Figure size 640x480 with 1 Axes>"
            ],
            "image/png": "[encoded data removed]"
          },
          "metadata": {}
        },
        {
          "output_type": "display_data",
          "data": {
            "text/plain": [
              "<Figure size 640x480 with 1 Axes>"
            ],
            "image/png": "[encoded data removed]"
          },
          "metadata": {}
        }
      ]
    },
    {
      "cell_type": "markdown",
      "source": [
        "## **Cluster sampling**\n"
      ],
      "metadata": {
        "id": "fl4qUWLl2vLT"
      }
    },
    {
      "cell_type": "markdown",
      "source": [
        "#### **Performing cluster sampling**"
      ],
      "metadata": {
        "id": "BeEienjkFllG"
      }
    },
    {
      "cell_type": "code",
      "source": [
        "import random\n",
        "\n",
        "# Create a list of unique JobRole values\n",
        "job_roles_pop = list(attrition_pop['JobRole'].unique())\n",
        "\n",
        "# Randomly sample four JobRole values\n",
        "job_roles_samp = random.sample(job_roles_pop, k=4)\n",
        "\n",
        "# Print the result\n",
        "print(job_roles_samp)"
      ],
      "metadata": {
        "colab": {
          "base_uri": "https://localhost:8080/"
        },
        "id": "fL4PBGVqDJjX",
        "outputId": "cc8cb6db-3f7f-41fc-8893-260f8b76f344"
      },
      "execution_count": 61,
      "outputs": [
        {
          "output_type": "stream",
          "name": "stdout",
          "text": [
            "['Manager', 'Sales_Representative', 'Research_Scientist', 'Manufacturing_Director']\n"
          ]
        }
      ]
    },
    {
      "cell_type": "code",
      "source": [
        "# Filter for rows where JobRole is in job_roles_samp\n",
        "jobrole_condition = attrition_pop['JobRole'].isin(job_roles_samp)\n",
        "attrition_filtered = attrition_pop[jobrole_condition]\n",
        "\n",
        "# Print the result\n",
        "display(attrition_filtered.head(3))"
      ],
      "metadata": {
        "colab": {
          "base_uri": "https://localhost:8080/",
          "height": 237
        },
        "id": "_CzJ42K0DK64",
        "outputId": "8db41c13-88f8-4ef4-f42f-139257b7bbec"
      },
      "execution_count": 76,
      "outputs": [
        {
          "output_type": "display_data",
          "data": {
            "text/plain": [
              "   Age  Attrition BusinessTravel  DailyRate            Department  \\\n",
              "0   21        0.0  Travel_Rarely        391  Research_Development   \n",
              "1   19        1.0  Travel_Rarely        528                 Sales   \n",
              "3   18        0.0  Travel_Rarely        812                 Sales   \n",
              "\n",
              "   DistanceFromHome      Education EducationField EnvironmentSatisfaction  \\\n",
              "0                15        College  Life_Sciences                    High   \n",
              "1                22  Below_College      Marketing               Very_High   \n",
              "3                10       Bachelor        Medical               Very_High   \n",
              "\n",
              "   Gender  ...  PerformanceRating RelationshipSatisfaction  StockOptionLevel  \\\n",
              "0    Male  ...          Excellent                Very_High                 0   \n",
              "1    Male  ...          Excellent                Very_High                 0   \n",
              "3  Female  ...          Excellent                      Low                 0   \n",
              "\n",
              "  TotalWorkingYears TrainingTimesLastYear WorkLifeBalance  YearsAtCompany  \\\n",
              "0                 0                     6          Better               0   \n",
              "1                 0                     2            Good               0   \n",
              "3                 0                     2          Better               0   \n",
              "\n",
              "   YearsInCurrentRole  YearsSinceLastPromotion YearsWithCurrManager  \n",
              "0                   0                        0                    0  \n",
              "1                   0                        0                    0  \n",
              "3                   0                        0                    0  \n",
              "\n",
              "[3 rows x 31 columns]"
            ],
            "text/html": [
              "\n",
              "  <div id=\"df-3f4e117b-4343-4e74-ad92-43a15f7dd337\">\n",
              "    <div class=\"colab-df-container\">\n",
              "      <div>\n",
              "<style scoped>\n",
              "    .dataframe tbody tr th:only-of-type {\n",
              "        vertical-align: middle;\n",
              "    }\n",
              "\n",
              "    .dataframe tbody tr th {\n",
              "        vertical-align: top;\n",
              "    }\n",
              "\n",
              "    .dataframe thead th {\n",
              "        text-align: right;\n",
              "    }\n",
              "</style>\n",
              "<table border=\"1\" class=\"dataframe\">\n",
              "  <thead>\n",
              "    <tr style=\"text-align: right;\">\n",
              "      <th></th>\n",
              "      <th>Age</th>\n",
              "      <th>Attrition</th>\n",
              "      <th>BusinessTravel</th>\n",
              "      <th>DailyRate</th>\n",
              "      <th>Department</th>\n",
              "      <th>DistanceFromHome</th>\n",
              "      <th>Education</th>\n",
              "      <th>EducationField</th>\n",
              "      <th>EnvironmentSatisfaction</th>\n",
              "      <th>Gender</th>\n",
              "      <th>...</th>\n",
              "      <th>PerformanceRating</th>\n",
              "      <th>RelationshipSatisfaction</th>\n",
              "      <th>StockOptionLevel</th>\n",
              "      <th>TotalWorkingYears</th>\n",
              "      <th>TrainingTimesLastYear</th>\n",
              "      <th>WorkLifeBalance</th>\n",
              "      <th>YearsAtCompany</th>\n",
              "      <th>YearsInCurrentRole</th>\n",
              "      <th>YearsSinceLastPromotion</th>\n",
              "      <th>YearsWithCurrManager</th>\n",
              "    </tr>\n",
              "  </thead>\n",
              "  <tbody>\n",
              "    <tr>\n",
              "      <th>0</th>\n",
              "      <td>21</td>\n",
              "      <td>0.0</td>\n",
              "      <td>Travel_Rarely</td>\n",
              "      <td>391</td>\n",
              "      <td>Research_Development</td>\n",
              "      <td>15</td>\n",
              "      <td>College</td>\n",
              "      <td>Life_Sciences</td>\n",
              "      <td>High</td>\n",
              "      <td>Male</td>\n",
              "      <td>...</td>\n",
              "      <td>Excellent</td>\n",
              "      <td>Very_High</td>\n",
              "      <td>0</td>\n",
              "      <td>0</td>\n",
              "      <td>6</td>\n",
              "      <td>Better</td>\n",
              "      <td>0</td>\n",
              "      <td>0</td>\n",
              "      <td>0</td>\n",
              "      <td>0</td>\n",
              "    </tr>\n",
              "    <tr>\n",
              "      <th>1</th>\n",
              "      <td>19</td>\n",
              "      <td>1.0</td>\n",
              "      <td>Travel_Rarely</td>\n",
              "      <td>528</td>\n",
              "      <td>Sales</td>\n",
              "      <td>22</td>\n",
              "      <td>Below_College</td>\n",
              "      <td>Marketing</td>\n",
              "      <td>Very_High</td>\n",
              "      <td>Male</td>\n",
              "      <td>...</td>\n",
              "      <td>Excellent</td>\n",
              "      <td>Very_High</td>\n",
              "      <td>0</td>\n",
              "      <td>0</td>\n",
              "      <td>2</td>\n",
              "      <td>Good</td>\n",
              "      <td>0</td>\n",
              "      <td>0</td>\n",
              "      <td>0</td>\n",
              "      <td>0</td>\n",
              "    </tr>\n",
              "    <tr>\n",
              "      <th>3</th>\n",
              "      <td>18</td>\n",
              "      <td>0.0</td>\n",
              "      <td>Travel_Rarely</td>\n",
              "      <td>812</td>\n",
              "      <td>Sales</td>\n",
              "      <td>10</td>\n",
              "      <td>Bachelor</td>\n",
              "      <td>Medical</td>\n",
              "      <td>Very_High</td>\n",
              "      <td>Female</td>\n",
              "      <td>...</td>\n",
              "      <td>Excellent</td>\n",
              "      <td>Low</td>\n",
              "      <td>0</td>\n",
              "      <td>0</td>\n",
              "      <td>2</td>\n",
              "      <td>Better</td>\n",
              "      <td>0</td>\n",
              "      <td>0</td>\n",
              "      <td>0</td>\n",
              "      <td>0</td>\n",
              "    </tr>\n",
              "  </tbody>\n",
              "</table>\n",
              "<p>3 rows × 31 columns</p>\n",
              "</div>\n",
              "      <button class=\"colab-df-convert\" onclick=\"convertToInteractive('df-3f4e117b-4343-4e74-ad92-43a15f7dd337')\"\n",
              "              title=\"Convert this dataframe to an interactive table.\"\n",
              "              style=\"display:none;\">\n",
              "        \n",
              "  <svg xmlns=\"http://www.w3.org/2000/svg\" height=\"24px\"viewBox=\"0 0 24 24\"\n",
              "       width=\"24px\">\n",
              "    <path d=\"M0 0h24v24H0V0z\" fill=\"none\"/>\n",
              "    <path d=\"M18.56 5.44l.94 2.06.94-2.06 2.06-.94-2.06-.94-.94-2.06-.94 2.06-2.06.94zm-11 1L8.5 8.5l.94-2.06 2.06-.94-2.06-.94L8.5 2.5l-.94 2.06-2.06.94zm10 10l.94 2.06.94-2.06 2.06-.94-2.06-.94-.94-2.06-.94 2.06-2.06.94z\"/><path d=\"M17.41 7.96l-1.37-1.37c-.4-.4-.92-.59-1.43-.59-.52 0-1.04.2-1.43.59L10.3 9.45l-7.72 7.72c-.78.78-.78 2.05 0 2.83L4 21.41c.39.39.9.59 1.41.59.51 0 1.02-.2 1.41-.59l7.78-7.78 2.81-2.81c.8-.78.8-2.07 0-2.86zM5.41 20L4 18.59l7.72-7.72 1.47 1.35L5.41 20z\"/>\n",
              "  </svg>\n",
              "      </button>\n",
              "      \n",
              "  <style>\n",
              "    .colab-df-container {\n",
              "      display:flex;\n",
              "      flex-wrap:wrap;\n",
              "      gap: 12px;\n",
              "    }\n",
              "\n",
              "    .colab-df-convert {\n",
              "      background-color: #E8F0FE;\n",
              "      border: none;\n",
              "      border-radius: 50%;\n",
              "      cursor: pointer;\n",
              "      display: none;\n",
              "      fill: #1967D2;\n",
              "      height: 32px;\n",
              "      padding: 0 0 0 0;\n",
              "      width: 32px;\n",
              "    }\n",
              "\n",
              "    .colab-df-convert:hover {\n",
              "      background-color: #E2EBFA;\n",
              "      box-shadow: 0px 1px 2px rgba(60, 64, 67, 0.3), 0px 1px 3px 1px rgba(60, 64, 67, 0.15);\n",
              "      fill: #174EA6;\n",
              "    }\n",
              "\n",
              "    [theme=dark] .colab-df-convert {\n",
              "      background-color: #3B4455;\n",
              "      fill: #D2E3FC;\n",
              "    }\n",
              "\n",
              "    [theme=dark] .colab-df-convert:hover {\n",
              "      background-color: #434B5C;\n",
              "      box-shadow: 0px 1px 3px 1px rgba(0, 0, 0, 0.15);\n",
              "      filter: drop-shadow(0px 1px 2px rgba(0, 0, 0, 0.3));\n",
              "      fill: #FFFFFF;\n",
              "    }\n",
              "  </style>\n",
              "\n",
              "      <script>\n",
              "        const buttonEl =\n",
              "          document.querySelector('#df-3f4e117b-4343-4e74-ad92-43a15f7dd337 button.colab-df-convert');\n",
              "        buttonEl.style.display =\n",
              "          google.colab.kernel.accessAllowed ? 'block' : 'none';\n",
              "\n",
              "        async function convertToInteractive(key) {\n",
              "          const element = document.querySelector('#df-3f4e117b-4343-4e74-ad92-43a15f7dd337');\n",
              "          const dataTable =\n",
              "            await google.colab.kernel.invokeFunction('convertToInteractive',\n",
              "                                                     [key], {});\n",
              "          if (!dataTable) return;\n",
              "\n",
              "          const docLinkHtml = 'Like what you see? Visit the ' +\n",
              "            '<a target=\"_blank\" href=https://colab.research.google.com/notebooks/data_table.ipynb>data table notebook</a>'\n",
              "            + ' to learn more about interactive tables.';\n",
              "          element.innerHTML = '';\n",
              "          dataTable['output_type'] = 'display_data';\n",
              "          await google.colab.output.renderOutput(dataTable, element);\n",
              "          const docLink = document.createElement('div');\n",
              "          docLink.innerHTML = docLinkHtml;\n",
              "          element.appendChild(docLink);\n",
              "        }\n",
              "      </script>\n",
              "    </div>\n",
              "  </div>\n",
              "  "
            ]
          },
          "metadata": {}
        }
      ]
    },
    {
      "cell_type": "code",
      "source": [
        "# Remove categories with no rows\n",
        "attrition_filtered['JobRole'] = attrition_filtered['JobRole'].cat.remove_unused_categories()\n",
        "\n",
        "# Randomly sample 10 employees from each sampled job role\n",
        "attrition_clust = attrition_filtered.groupby(\"JobRole\").sample(n=10, random_state=2022)\n",
        "\n",
        "# Print the sample\n",
        "display(attrition_clust)"
      ],
      "metadata": {
        "colab": {
          "base_uri": "https://localhost:8080/",
          "height": 1000
        },
        "id": "aveY3oI1DMmm",
        "outputId": "5e75655e-ce14-42b0-8a73-5f8c2bd4c1be"
      },
      "execution_count": 77,
      "outputs": [
        {
          "output_type": "stream",
          "name": "stderr",
          "text": [
            "<ipython-input-77-6b088c102209>:2: SettingWithCopyWarning: \n",
            "A value is trying to be set on a copy of a slice from a DataFrame.\n",
            "Try using .loc[row_indexer,col_indexer] = value instead\n",
            "\n",
            "See the caveats in the documentation: https://pandas.pydata.org/pandas-docs/stable/user_guide/indexing.html#returning-a-view-versus-a-copy\n",
            "  attrition_filtered['JobRole'] = attrition_filtered['JobRole'].cat.remove_unused_categories()\n"
          ]
        },
        {
          "output_type": "display_data",
          "data": {
            "text/plain": [
              "      Age  Attrition     BusinessTravel  DailyRate            Department  \\\n",
              "1380   44        0.0      Travel_Rarely       1099                 Sales   \n",
              "1395   46        0.0      Travel_Rarely        488                 Sales   \n",
              "1300   42        0.0      Travel_Rarely        532  Research_Development   \n",
              "1271   39        0.0      Travel_Rarely        117  Research_Development   \n",
              "1354   42        0.0      Travel_Rarely       1059  Research_Development   \n",
              "858    32        0.0      Travel_Rarely        495  Research_Development   \n",
              "1417   59        0.0         Non-Travel       1420       Human_Resources   \n",
              "1307   41        0.0      Travel_Rarely       1276                 Sales   \n",
              "1377   52        0.0      Travel_Rarely       1053  Research_Development   \n",
              "1388   50        0.0      Travel_Rarely        264                 Sales   \n",
              "1463   56        0.0      Travel_Rarely       1400  Research_Development   \n",
              "464    46        0.0         Non-Travel       1144  Research_Development   \n",
              "1313   54        0.0      Travel_Rarely       1441  Research_Development   \n",
              "1203   36        0.0      Travel_Rarely        429  Research_Development   \n",
              "1427   52        0.0  Travel_Frequently        890  Research_Development   \n",
              "1188   37        0.0      Travel_Rarely       1305  Research_Development   \n",
              "453    49        0.0         Non-Travel       1002  Research_Development   \n",
              "1200   43        0.0  Travel_Frequently       1082  Research_Development   \n",
              "876    38        0.0      Travel_Rarely        397  Research_Development   \n",
              "1176   36        0.0      Travel_Rarely        363  Research_Development   \n",
              "367    34        0.0      Travel_Rarely        121  Research_Development   \n",
              "300    27        0.0      Travel_Rarely        486  Research_Development   \n",
              "137    22        0.0      Travel_Rarely        604  Research_Development   \n",
              "22     27        0.0         Non-Travel       1450  Research_Development   \n",
              "1143   35        0.0      Travel_Rarely        819  Research_Development   \n",
              "36     20        1.0      Travel_Rarely       1362  Research_Development   \n",
              "411    24        0.0  Travel_Frequently        567  Research_Development   \n",
              "42     45        0.0      Travel_Rarely        252  Research_Development   \n",
              "195    31        1.0         Non-Travel        335  Research_Development   \n",
              "213    23        0.0      Travel_Rarely        977  Research_Development   \n",
              "92     35        0.0      Travel_Rarely        890                 Sales   \n",
              "101    29        0.0      Travel_Rarely       1090                 Sales   \n",
              "153    31        1.0  Travel_Frequently       1060                 Sales   \n",
              "1008   53        0.0      Travel_Rarely       1436                 Sales   \n",
              "140    38        0.0      Travel_Rarely        395                 Sales   \n",
              "23     19        1.0  Travel_Frequently        602                 Sales   \n",
              "1150   52        0.0         Non-Travel        585                 Sales   \n",
              "104    20        1.0  Travel_Frequently        769                 Sales   \n",
              "148    33        0.0         Non-Travel       1038                 Sales   \n",
              "188    50        0.0      Travel_Rarely        316                 Sales   \n",
              "\n",
              "      DistanceFromHome      Education    EducationField  \\\n",
              "1380                 5       Bachelor         Marketing   \n",
              "1395                 2       Bachelor  Technical_Degree   \n",
              "1300                 4        College  Technical_Degree   \n",
              "1271                10  Below_College           Medical   \n",
              "1354                 9        College             Other   \n",
              "858                 10       Bachelor           Medical   \n",
              "1417                 2         Master   Human_Resources   \n",
              "1307                 2         Doctor     Life_Sciences   \n",
              "1377                 1        College     Life_Sciences   \n",
              "1388                 9       Bachelor         Marketing   \n",
              "1463                 7       Bachelor     Life_Sciences   \n",
              "464                  7         Master           Medical   \n",
              "1313                17       Bachelor  Technical_Degree   \n",
              "1203                 2         Master     Life_Sciences   \n",
              "1427                25         Master           Medical   \n",
              "1188                10         Master     Life_Sciences   \n",
              "453                 18         Master     Life_Sciences   \n",
              "1200                27       Bachelor     Life_Sciences   \n",
              "876                  2        College           Medical   \n",
              "1176                 1       Bachelor  Technical_Degree   \n",
              "367                  2         Master           Medical   \n",
              "300                  8       Bachelor           Medical   \n",
              "137                  6  Below_College           Medical   \n",
              "22                   3       Bachelor           Medical   \n",
              "1143                18         Doctor     Life_Sciences   \n",
              "36                  10  Below_College           Medical   \n",
              "411                  2  Below_College  Technical_Degree   \n",
              "42                   2       Bachelor     Life_Sciences   \n",
              "195                  9        College           Medical   \n",
              "213                 10       Bachelor  Technical_Degree   \n",
              "92                   2       Bachelor         Marketing   \n",
              "101                 10       Bachelor         Marketing   \n",
              "153                  1       Bachelor     Life_Sciences   \n",
              "1008                 6        College         Marketing   \n",
              "140                  9       Bachelor         Marketing   \n",
              "23                   1  Below_College  Technical_Degree   \n",
              "1150                29         Master     Life_Sciences   \n",
              "104                  9       Bachelor         Marketing   \n",
              "148                  8  Below_College     Life_Sciences   \n",
              "188                  8         Master         Marketing   \n",
              "\n",
              "     EnvironmentSatisfaction  Gender  ...  PerformanceRating  \\\n",
              "1380                  Medium    Male  ...          Excellent   \n",
              "1395                    High  Female  ...          Excellent   \n",
              "1300                    High    Male  ...          Excellent   \n",
              "1271                    High    Male  ...          Excellent   \n",
              "1354               Very_High    Male  ...        Outstanding   \n",
              "858                     High    Male  ...        Outstanding   \n",
              "1417                    High  Female  ...        Outstanding   \n",
              "1307                  Medium  Female  ...          Excellent   \n",
              "1377               Very_High    Male  ...          Excellent   \n",
              "1388                    High    Male  ...          Excellent   \n",
              "1463               Very_High    Male  ...          Excellent   \n",
              "464                     High  Female  ...          Excellent   \n",
              "1313                    High  Female  ...          Excellent   \n",
              "1203                    High  Female  ...          Excellent   \n",
              "1427                    High  Female  ...        Outstanding   \n",
              "1188                    High    Male  ...          Excellent   \n",
              "453                Very_High    Male  ...          Excellent   \n",
              "1200                    High  Female  ...          Excellent   \n",
              "876                Very_High  Female  ...          Excellent   \n",
              "1176                    High  Female  ...        Outstanding   \n",
              "367                     High  Female  ...          Excellent   \n",
              "300                   Medium  Female  ...          Excellent   \n",
              "137                      Low    Male  ...        Outstanding   \n",
              "22                      High    Male  ...          Excellent   \n",
              "1143                  Medium    Male  ...          Excellent   \n",
              "36                 Very_High    Male  ...          Excellent   \n",
              "411                      Low  Female  ...          Excellent   \n",
              "42                    Medium  Female  ...          Excellent   \n",
              "195                     High    Male  ...        Outstanding   \n",
              "213                Very_High    Male  ...          Excellent   \n",
              "92                 Very_High  Female  ...          Excellent   \n",
              "101                Very_High    Male  ...          Excellent   \n",
              "153                Very_High  Female  ...          Excellent   \n",
              "1008                  Medium    Male  ...        Outstanding   \n",
              "140                   Medium    Male  ...          Excellent   \n",
              "23                      High  Female  ...        Outstanding   \n",
              "1150                     Low    Male  ...          Excellent   \n",
              "104                Very_High  Female  ...          Excellent   \n",
              "148                   Medium  Female  ...          Excellent   \n",
              "188                Very_High    Male  ...          Excellent   \n",
              "\n",
              "     RelationshipSatisfaction  StockOptionLevel TotalWorkingYears  \\\n",
              "1380                     High                 1                26   \n",
              "1395                   Medium                 1                28   \n",
              "1300                Very_High                 0                22   \n",
              "1271                Very_High                 0                21   \n",
              "1354                Very_High                 0                24   \n",
              "858                    Medium                 0                10   \n",
              "1417                Very_High                 1                30   \n",
              "1307                   Medium                 1                22   \n",
              "1377                   Medium                 1                26   \n",
              "1388                     High                 1                27   \n",
              "1463                      Low                 0                37   \n",
              "464                      High                 0                 7   \n",
              "1313                     High                 1                22   \n",
              "1203                Very_High                 0                18   \n",
              "1427                     High                 0                31   \n",
              "1188                Very_High                 0                18   \n",
              "453                       Low                 2                 7   \n",
              "1200                     High                 1                18   \n",
              "876                 Very_High                 1                10   \n",
              "1176                     High                 1                17   \n",
              "367                      High                 0                 6   \n",
              "300                       Low                 0                 5   \n",
              "137                 Very_High                 0                 3   \n",
              "22                  Very_High                 1                 1   \n",
              "1143                Very_High                 0                16   \n",
              "36                  Very_High                 0                 1   \n",
              "411                      High                 0                 6   \n",
              "42                  Very_High                 0                 1   \n",
              "195                       Low                 0                 4   \n",
              "213                 Very_High                 1                 4   \n",
              "92                        Low                 0                 2   \n",
              "101                 Very_High                 2                 2   \n",
              "153                       Low                 0                 3   \n",
              "1008                Very_High                 1                13   \n",
              "140                 Very_High                 1                 3   \n",
              "23                        Low                 0                 1   \n",
              "1150                   Medium                 2                16   \n",
              "104                    Medium                 0                 2   \n",
              "148                 Very_High                 0                 3   \n",
              "188                 Very_High                 1                 4   \n",
              "\n",
              "     TrainingTimesLastYear WorkLifeBalance  YearsAtCompany  \\\n",
              "1380                     5          Better              22   \n",
              "1395                     2            Good               7   \n",
              "1300                     3          Better              22   \n",
              "1271                     3          Better              21   \n",
              "1354                     2          Better               1   \n",
              "858                      5            Best               5   \n",
              "1417                     3          Better               3   \n",
              "1307                     2          Better              18   \n",
              "1377                     2            Good               9   \n",
              "1388                     2          Better               1   \n",
              "1463                     3            Good               6   \n",
              "464                      2            Best               1   \n",
              "1313                     2          Better              10   \n",
              "1203                     2          Better              16   \n",
              "1427                     3          Better               9   \n",
              "1188                     2            Good               1   \n",
              "453                      0          Better               7   \n",
              "1200                     1          Better               8   \n",
              "876                      6            Best               5   \n",
              "1176                     2          Better               7   \n",
              "367                      3          Better               6   \n",
              "300                      0          Better               3   \n",
              "137                      3          Better               2   \n",
              "22                       2            Good               1   \n",
              "1143                     2          Better              16   \n",
              "36                       5          Better               1   \n",
              "411                      2          Better               6   \n",
              "42                       3          Better               1   \n",
              "195                      0          Better               3   \n",
              "213                      2          Better               2   \n",
              "92                       3          Better               2   \n",
              "101                      2          Better               2   \n",
              "153                      2            Best               3   \n",
              "1008                     3             Bad               7   \n",
              "140                      3          Better               2   \n",
              "23                       5            Best               0   \n",
              "1150                     3            Good               9   \n",
              "104                      3          Better               2   \n",
              "148                      2            Good               2   \n",
              "188                      2          Better               2   \n",
              "\n",
              "      YearsInCurrentRole  YearsSinceLastPromotion YearsWithCurrManager  \n",
              "1380                   9                        3                   10  \n",
              "1395                   7                        7                    7  \n",
              "1300                  17                       11                   15  \n",
              "1271                   9                       11                   10  \n",
              "1354                   0                        0                    1  \n",
              "858                    2                        0                    0  \n",
              "1417                   2                        2                    2  \n",
              "1307                  16                       11                    8  \n",
              "1377                   8                        7                    8  \n",
              "1388                   0                        0                    0  \n",
              "1463                   4                        0                    2  \n",
              "464                    0                        0                    0  \n",
              "1313                   7                        0                    8  \n",
              "1203                  14                        5                   12  \n",
              "1427                   8                        0                    0  \n",
              "1188                   0                        0                    1  \n",
              "453                    7                        1                    7  \n",
              "1200                   7                        0                    1  \n",
              "876                    4                        0                    2  \n",
              "1176                   7                        7                    7  \n",
              "367                    5                        1                    3  \n",
              "300                    2                        0                    2  \n",
              "137                    2                        2                    2  \n",
              "22                     1                        0                    1  \n",
              "1143                  15                        1                   10  \n",
              "36                     0                        1                    1  \n",
              "411                    3                        1                    3  \n",
              "42                     0                        0                    0  \n",
              "195                    2                        1                    2  \n",
              "213                    2                        2                    2  \n",
              "92                     2                        2                    2  \n",
              "101                    2                        2                    2  \n",
              "153                    2                        2                    2  \n",
              "1008                   7                        4                    5  \n",
              "140                    2                        1                    2  \n",
              "23                     0                        0                    0  \n",
              "1150                   8                        0                    0  \n",
              "104                    2                        0                    2  \n",
              "148                    2                        2                    2  \n",
              "188                    2                        2                    2  \n",
              "\n",
              "[40 rows x 31 columns]"
            ],
            "text/html": [
              "\n",
              "  <div id=\"df-1b7ed79d-1274-424e-9136-2dba3641cce2\">\n",
              "    <div class=\"colab-df-container\">\n",
              "      <div>\n",
              "<style scoped>\n",
              "    .dataframe tbody tr th:only-of-type {\n",
              "        vertical-align: middle;\n",
              "    }\n",
              "\n",
              "    .dataframe tbody tr th {\n",
              "        vertical-align: top;\n",
              "    }\n",
              "\n",
              "    .dataframe thead th {\n",
              "        text-align: right;\n",
              "    }\n",
              "</style>\n",
              "<table border=\"1\" class=\"dataframe\">\n",
              "  <thead>\n",
              "    <tr style=\"text-align: right;\">\n",
              "      <th></th>\n",
              "      <th>Age</th>\n",
              "      <th>Attrition</th>\n",
              "      <th>BusinessTravel</th>\n",
              "      <th>DailyRate</th>\n",
              "      <th>Department</th>\n",
              "      <th>DistanceFromHome</th>\n",
              "      <th>Education</th>\n",
              "      <th>EducationField</th>\n",
              "      <th>EnvironmentSatisfaction</th>\n",
              "      <th>Gender</th>\n",
              "      <th>...</th>\n",
              "      <th>PerformanceRating</th>\n",
              "      <th>RelationshipSatisfaction</th>\n",
              "      <th>StockOptionLevel</th>\n",
              "      <th>TotalWorkingYears</th>\n",
              "      <th>TrainingTimesLastYear</th>\n",
              "      <th>WorkLifeBalance</th>\n",
              "      <th>YearsAtCompany</th>\n",
              "      <th>YearsInCurrentRole</th>\n",
              "      <th>YearsSinceLastPromotion</th>\n",
              "      <th>YearsWithCurrManager</th>\n",
              "    </tr>\n",
              "  </thead>\n",
              "  <tbody>\n",
              "    <tr>\n",
              "      <th>1380</th>\n",
              "      <td>44</td>\n",
              "      <td>0.0</td>\n",
              "      <td>Travel_Rarely</td>\n",
              "      <td>1099</td>\n",
              "      <td>Sales</td>\n",
              "      <td>5</td>\n",
              "      <td>Bachelor</td>\n",
              "      <td>Marketing</td>\n",
              "      <td>Medium</td>\n",
              "      <td>Male</td>\n",
              "      <td>...</td>\n",
              "      <td>Excellent</td>\n",
              "      <td>High</td>\n",
              "      <td>1</td>\n",
              "      <td>26</td>\n",
              "      <td>5</td>\n",
              "      <td>Better</td>\n",
              "      <td>22</td>\n",
              "      <td>9</td>\n",
              "      <td>3</td>\n",
              "      <td>10</td>\n",
              "    </tr>\n",
              "    <tr>\n",
              "      <th>1395</th>\n",
              "      <td>46</td>\n",
              "      <td>0.0</td>\n",
              "      <td>Travel_Rarely</td>\n",
              "      <td>488</td>\n",
              "      <td>Sales</td>\n",
              "      <td>2</td>\n",
              "      <td>Bachelor</td>\n",
              "      <td>Technical_Degree</td>\n",
              "      <td>High</td>\n",
              "      <td>Female</td>\n",
              "      <td>...</td>\n",
              "      <td>Excellent</td>\n",
              "      <td>Medium</td>\n",
              "      <td>1</td>\n",
              "      <td>28</td>\n",
              "      <td>2</td>\n",
              "      <td>Good</td>\n",
              "      <td>7</td>\n",
              "      <td>7</td>\n",
              "      <td>7</td>\n",
              "      <td>7</td>\n",
              "    </tr>\n",
              "    <tr>\n",
              "      <th>1300</th>\n",
              "      <td>42</td>\n",
              "      <td>0.0</td>\n",
              "      <td>Travel_Rarely</td>\n",
              "      <td>532</td>\n",
              "      <td>Research_Development</td>\n",
              "      <td>4</td>\n",
              "      <td>College</td>\n",
              "      <td>Technical_Degree</td>\n",
              "      <td>High</td>\n",
              "      <td>Male</td>\n",
              "      <td>...</td>\n",
              "      <td>Excellent</td>\n",
              "      <td>Very_High</td>\n",
              "      <td>0</td>\n",
              "      <td>22</td>\n",
              "      <td>3</td>\n",
              "      <td>Better</td>\n",
              "      <td>22</td>\n",
              "      <td>17</td>\n",
              "      <td>11</td>\n",
              "      <td>15</td>\n",
              "    </tr>\n",
              "    <tr>\n",
              "      <th>1271</th>\n",
              "      <td>39</td>\n",
              "      <td>0.0</td>\n",
              "      <td>Travel_Rarely</td>\n",
              "      <td>117</td>\n",
              "      <td>Research_Development</td>\n",
              "      <td>10</td>\n",
              "      <td>Below_College</td>\n",
              "      <td>Medical</td>\n",
              "      <td>High</td>\n",
              "      <td>Male</td>\n",
              "      <td>...</td>\n",
              "      <td>Excellent</td>\n",
              "      <td>Very_High</td>\n",
              "      <td>0</td>\n",
              "      <td>21</td>\n",
              "      <td>3</td>\n",
              "      <td>Better</td>\n",
              "      <td>21</td>\n",
              "      <td>9</td>\n",
              "      <td>11</td>\n",
              "      <td>10</td>\n",
              "    </tr>\n",
              "    <tr>\n",
              "      <th>1354</th>\n",
              "      <td>42</td>\n",
              "      <td>0.0</td>\n",
              "      <td>Travel_Rarely</td>\n",
              "      <td>1059</td>\n",
              "      <td>Research_Development</td>\n",
              "      <td>9</td>\n",
              "      <td>College</td>\n",
              "      <td>Other</td>\n",
              "      <td>Very_High</td>\n",
              "      <td>Male</td>\n",
              "      <td>...</td>\n",
              "      <td>Outstanding</td>\n",
              "      <td>Very_High</td>\n",
              "      <td>0</td>\n",
              "      <td>24</td>\n",
              "      <td>2</td>\n",
              "      <td>Better</td>\n",
              "      <td>1</td>\n",
              "      <td>0</td>\n",
              "      <td>0</td>\n",
              "      <td>1</td>\n",
              "    </tr>\n",
              "    <tr>\n",
              "      <th>858</th>\n",
              "      <td>32</td>\n",
              "      <td>0.0</td>\n",
              "      <td>Travel_Rarely</td>\n",
              "      <td>495</td>\n",
              "      <td>Research_Development</td>\n",
              "      <td>10</td>\n",
              "      <td>Bachelor</td>\n",
              "      <td>Medical</td>\n",
              "      <td>High</td>\n",
              "      <td>Male</td>\n",
              "      <td>...</td>\n",
              "      <td>Outstanding</td>\n",
              "      <td>Medium</td>\n",
              "      <td>0</td>\n",
              "      <td>10</td>\n",
              "      <td>5</td>\n",
              "      <td>Best</td>\n",
              "      <td>5</td>\n",
              "      <td>2</td>\n",
              "      <td>0</td>\n",
              "      <td>0</td>\n",
              "    </tr>\n",
              "    <tr>\n",
              "      <th>1417</th>\n",
              "      <td>59</td>\n",
              "      <td>0.0</td>\n",
              "      <td>Non-Travel</td>\n",
              "      <td>1420</td>\n",
              "      <td>Human_Resources</td>\n",
              "      <td>2</td>\n",
              "      <td>Master</td>\n",
              "      <td>Human_Resources</td>\n",
              "      <td>High</td>\n",
              "      <td>Female</td>\n",
              "      <td>...</td>\n",
              "      <td>Outstanding</td>\n",
              "      <td>Very_High</td>\n",
              "      <td>1</td>\n",
              "      <td>30</td>\n",
              "      <td>3</td>\n",
              "      <td>Better</td>\n",
              "      <td>3</td>\n",
              "      <td>2</td>\n",
              "      <td>2</td>\n",
              "      <td>2</td>\n",
              "    </tr>\n",
              "    <tr>\n",
              "      <th>1307</th>\n",
              "      <td>41</td>\n",
              "      <td>0.0</td>\n",
              "      <td>Travel_Rarely</td>\n",
              "      <td>1276</td>\n",
              "      <td>Sales</td>\n",
              "      <td>2</td>\n",
              "      <td>Doctor</td>\n",
              "      <td>Life_Sciences</td>\n",
              "      <td>Medium</td>\n",
              "      <td>Female</td>\n",
              "      <td>...</td>\n",
              "      <td>Excellent</td>\n",
              "      <td>Medium</td>\n",
              "      <td>1</td>\n",
              "      <td>22</td>\n",
              "      <td>2</td>\n",
              "      <td>Better</td>\n",
              "      <td>18</td>\n",
              "      <td>16</td>\n",
              "      <td>11</td>\n",
              "      <td>8</td>\n",
              "    </tr>\n",
              "    <tr>\n",
              "      <th>1377</th>\n",
              "      <td>52</td>\n",
              "      <td>0.0</td>\n",
              "      <td>Travel_Rarely</td>\n",
              "      <td>1053</td>\n",
              "      <td>Research_Development</td>\n",
              "      <td>1</td>\n",
              "      <td>College</td>\n",
              "      <td>Life_Sciences</td>\n",
              "      <td>Very_High</td>\n",
              "      <td>Male</td>\n",
              "      <td>...</td>\n",
              "      <td>Excellent</td>\n",
              "      <td>Medium</td>\n",
              "      <td>1</td>\n",
              "      <td>26</td>\n",
              "      <td>2</td>\n",
              "      <td>Good</td>\n",
              "      <td>9</td>\n",
              "      <td>8</td>\n",
              "      <td>7</td>\n",
              "      <td>8</td>\n",
              "    </tr>\n",
              "    <tr>\n",
              "      <th>1388</th>\n",
              "      <td>50</td>\n",
              "      <td>0.0</td>\n",
              "      <td>Travel_Rarely</td>\n",
              "      <td>264</td>\n",
              "      <td>Sales</td>\n",
              "      <td>9</td>\n",
              "      <td>Bachelor</td>\n",
              "      <td>Marketing</td>\n",
              "      <td>High</td>\n",
              "      <td>Male</td>\n",
              "      <td>...</td>\n",
              "      <td>Excellent</td>\n",
              "      <td>High</td>\n",
              "      <td>1</td>\n",
              "      <td>27</td>\n",
              "      <td>2</td>\n",
              "      <td>Better</td>\n",
              "      <td>1</td>\n",
              "      <td>0</td>\n",
              "      <td>0</td>\n",
              "      <td>0</td>\n",
              "    </tr>\n",
              "    <tr>\n",
              "      <th>1463</th>\n",
              "      <td>56</td>\n",
              "      <td>0.0</td>\n",
              "      <td>Travel_Rarely</td>\n",
              "      <td>1400</td>\n",
              "      <td>Research_Development</td>\n",
              "      <td>7</td>\n",
              "      <td>Bachelor</td>\n",
              "      <td>Life_Sciences</td>\n",
              "      <td>Very_High</td>\n",
              "      <td>Male</td>\n",
              "      <td>...</td>\n",
              "      <td>Excellent</td>\n",
              "      <td>Low</td>\n",
              "      <td>0</td>\n",
              "      <td>37</td>\n",
              "      <td>3</td>\n",
              "      <td>Good</td>\n",
              "      <td>6</td>\n",
              "      <td>4</td>\n",
              "      <td>0</td>\n",
              "      <td>2</td>\n",
              "    </tr>\n",
              "    <tr>\n",
              "      <th>464</th>\n",
              "      <td>46</td>\n",
              "      <td>0.0</td>\n",
              "      <td>Non-Travel</td>\n",
              "      <td>1144</td>\n",
              "      <td>Research_Development</td>\n",
              "      <td>7</td>\n",
              "      <td>Master</td>\n",
              "      <td>Medical</td>\n",
              "      <td>High</td>\n",
              "      <td>Female</td>\n",
              "      <td>...</td>\n",
              "      <td>Excellent</td>\n",
              "      <td>High</td>\n",
              "      <td>0</td>\n",
              "      <td>7</td>\n",
              "      <td>2</td>\n",
              "      <td>Best</td>\n",
              "      <td>1</td>\n",
              "      <td>0</td>\n",
              "      <td>0</td>\n",
              "      <td>0</td>\n",
              "    </tr>\n",
              "    <tr>\n",
              "      <th>1313</th>\n",
              "      <td>54</td>\n",
              "      <td>0.0</td>\n",
              "      <td>Travel_Rarely</td>\n",
              "      <td>1441</td>\n",
              "      <td>Research_Development</td>\n",
              "      <td>17</td>\n",
              "      <td>Bachelor</td>\n",
              "      <td>Technical_Degree</td>\n",
              "      <td>High</td>\n",
              "      <td>Female</td>\n",
              "      <td>...</td>\n",
              "      <td>Excellent</td>\n",
              "      <td>High</td>\n",
              "      <td>1</td>\n",
              "      <td>22</td>\n",
              "      <td>2</td>\n",
              "      <td>Better</td>\n",
              "      <td>10</td>\n",
              "      <td>7</td>\n",
              "      <td>0</td>\n",
              "      <td>8</td>\n",
              "    </tr>\n",
              "    <tr>\n",
              "      <th>1203</th>\n",
              "      <td>36</td>\n",
              "      <td>0.0</td>\n",
              "      <td>Travel_Rarely</td>\n",
              "      <td>429</td>\n",
              "      <td>Research_Development</td>\n",
              "      <td>2</td>\n",
              "      <td>Master</td>\n",
              "      <td>Life_Sciences</td>\n",
              "      <td>High</td>\n",
              "      <td>Female</td>\n",
              "      <td>...</td>\n",
              "      <td>Excellent</td>\n",
              "      <td>Very_High</td>\n",
              "      <td>0</td>\n",
              "      <td>18</td>\n",
              "      <td>2</td>\n",
              "      <td>Better</td>\n",
              "      <td>16</td>\n",
              "      <td>14</td>\n",
              "      <td>5</td>\n",
              "      <td>12</td>\n",
              "    </tr>\n",
              "    <tr>\n",
              "      <th>1427</th>\n",
              "      <td>52</td>\n",
              "      <td>0.0</td>\n",
              "      <td>Travel_Frequently</td>\n",
              "      <td>890</td>\n",
              "      <td>Research_Development</td>\n",
              "      <td>25</td>\n",
              "      <td>Master</td>\n",
              "      <td>Medical</td>\n",
              "      <td>High</td>\n",
              "      <td>Female</td>\n",
              "      <td>...</td>\n",
              "      <td>Outstanding</td>\n",
              "      <td>High</td>\n",
              "      <td>0</td>\n",
              "      <td>31</td>\n",
              "      <td>3</td>\n",
              "      <td>Better</td>\n",
              "      <td>9</td>\n",
              "      <td>8</td>\n",
              "      <td>0</td>\n",
              "      <td>0</td>\n",
              "    </tr>\n",
              "    <tr>\n",
              "      <th>1188</th>\n",
              "      <td>37</td>\n",
              "      <td>0.0</td>\n",
              "      <td>Travel_Rarely</td>\n",
              "      <td>1305</td>\n",
              "      <td>Research_Development</td>\n",
              "      <td>10</td>\n",
              "      <td>Master</td>\n",
              "      <td>Life_Sciences</td>\n",
              "      <td>High</td>\n",
              "      <td>Male</td>\n",
              "      <td>...</td>\n",
              "      <td>Excellent</td>\n",
              "      <td>Very_High</td>\n",
              "      <td>0</td>\n",
              "      <td>18</td>\n",
              "      <td>2</td>\n",
              "      <td>Good</td>\n",
              "      <td>1</td>\n",
              "      <td>0</td>\n",
              "      <td>0</td>\n",
              "      <td>1</td>\n",
              "    </tr>\n",
              "    <tr>\n",
              "      <th>453</th>\n",
              "      <td>49</td>\n",
              "      <td>0.0</td>\n",
              "      <td>Non-Travel</td>\n",
              "      <td>1002</td>\n",
              "      <td>Research_Development</td>\n",
              "      <td>18</td>\n",
              "      <td>Master</td>\n",
              "      <td>Life_Sciences</td>\n",
              "      <td>Very_High</td>\n",
              "      <td>Male</td>\n",
              "      <td>...</td>\n",
              "      <td>Excellent</td>\n",
              "      <td>Low</td>\n",
              "      <td>2</td>\n",
              "      <td>7</td>\n",
              "      <td>0</td>\n",
              "      <td>Better</td>\n",
              "      <td>7</td>\n",
              "      <td>7</td>\n",
              "      <td>1</td>\n",
              "      <td>7</td>\n",
              "    </tr>\n",
              "    <tr>\n",
              "      <th>1200</th>\n",
              "      <td>43</td>\n",
              "      <td>0.0</td>\n",
              "      <td>Travel_Frequently</td>\n",
              "      <td>1082</td>\n",
              "      <td>Research_Development</td>\n",
              "      <td>27</td>\n",
              "      <td>Bachelor</td>\n",
              "      <td>Life_Sciences</td>\n",
              "      <td>High</td>\n",
              "      <td>Female</td>\n",
              "      <td>...</td>\n",
              "      <td>Excellent</td>\n",
              "      <td>High</td>\n",
              "      <td>1</td>\n",
              "      <td>18</td>\n",
              "      <td>1</td>\n",
              "      <td>Better</td>\n",
              "      <td>8</td>\n",
              "      <td>7</td>\n",
              "      <td>0</td>\n",
              "      <td>1</td>\n",
              "    </tr>\n",
              "    <tr>\n",
              "      <th>876</th>\n",
              "      <td>38</td>\n",
              "      <td>0.0</td>\n",
              "      <td>Travel_Rarely</td>\n",
              "      <td>397</td>\n",
              "      <td>Research_Development</td>\n",
              "      <td>2</td>\n",
              "      <td>College</td>\n",
              "      <td>Medical</td>\n",
              "      <td>Very_High</td>\n",
              "      <td>Female</td>\n",
              "      <td>...</td>\n",
              "      <td>Excellent</td>\n",
              "      <td>Very_High</td>\n",
              "      <td>1</td>\n",
              "      <td>10</td>\n",
              "      <td>6</td>\n",
              "      <td>Best</td>\n",
              "      <td>5</td>\n",
              "      <td>4</td>\n",
              "      <td>0</td>\n",
              "      <td>2</td>\n",
              "    </tr>\n",
              "    <tr>\n",
              "      <th>1176</th>\n",
              "      <td>36</td>\n",
              "      <td>0.0</td>\n",
              "      <td>Travel_Rarely</td>\n",
              "      <td>363</td>\n",
              "      <td>Research_Development</td>\n",
              "      <td>1</td>\n",
              "      <td>Bachelor</td>\n",
              "      <td>Technical_Degree</td>\n",
              "      <td>High</td>\n",
              "      <td>Female</td>\n",
              "      <td>...</td>\n",
              "      <td>Outstanding</td>\n",
              "      <td>High</td>\n",
              "      <td>1</td>\n",
              "      <td>17</td>\n",
              "      <td>2</td>\n",
              "      <td>Better</td>\n",
              "      <td>7</td>\n",
              "      <td>7</td>\n",
              "      <td>7</td>\n",
              "      <td>7</td>\n",
              "    </tr>\n",
              "    <tr>\n",
              "      <th>367</th>\n",
              "      <td>34</td>\n",
              "      <td>0.0</td>\n",
              "      <td>Travel_Rarely</td>\n",
              "      <td>121</td>\n",
              "      <td>Research_Development</td>\n",
              "      <td>2</td>\n",
              "      <td>Master</td>\n",
              "      <td>Medical</td>\n",
              "      <td>High</td>\n",
              "      <td>Female</td>\n",
              "      <td>...</td>\n",
              "      <td>Excellent</td>\n",
              "      <td>High</td>\n",
              "      <td>0</td>\n",
              "      <td>6</td>\n",
              "      <td>3</td>\n",
              "      <td>Better</td>\n",
              "      <td>6</td>\n",
              "      <td>5</td>\n",
              "      <td>1</td>\n",
              "      <td>3</td>\n",
              "    </tr>\n",
              "    <tr>\n",
              "      <th>300</th>\n",
              "      <td>27</td>\n",
              "      <td>0.0</td>\n",
              "      <td>Travel_Rarely</td>\n",
              "      <td>486</td>\n",
              "      <td>Research_Development</td>\n",
              "      <td>8</td>\n",
              "      <td>Bachelor</td>\n",
              "      <td>Medical</td>\n",
              "      <td>Medium</td>\n",
              "      <td>Female</td>\n",
              "      <td>...</td>\n",
              "      <td>Excellent</td>\n",
              "      <td>Low</td>\n",
              "      <td>0</td>\n",
              "      <td>5</td>\n",
              "      <td>0</td>\n",
              "      <td>Better</td>\n",
              "      <td>3</td>\n",
              "      <td>2</td>\n",
              "      <td>0</td>\n",
              "      <td>2</td>\n",
              "    </tr>\n",
              "    <tr>\n",
              "      <th>137</th>\n",
              "      <td>22</td>\n",
              "      <td>0.0</td>\n",
              "      <td>Travel_Rarely</td>\n",
              "      <td>604</td>\n",
              "      <td>Research_Development</td>\n",
              "      <td>6</td>\n",
              "      <td>Below_College</td>\n",
              "      <td>Medical</td>\n",
              "      <td>Low</td>\n",
              "      <td>Male</td>\n",
              "      <td>...</td>\n",
              "      <td>Outstanding</td>\n",
              "      <td>Very_High</td>\n",
              "      <td>0</td>\n",
              "      <td>3</td>\n",
              "      <td>3</td>\n",
              "      <td>Better</td>\n",
              "      <td>2</td>\n",
              "      <td>2</td>\n",
              "      <td>2</td>\n",
              "      <td>2</td>\n",
              "    </tr>\n",
              "    <tr>\n",
              "      <th>22</th>\n",
              "      <td>27</td>\n",
              "      <td>0.0</td>\n",
              "      <td>Non-Travel</td>\n",
              "      <td>1450</td>\n",
              "      <td>Research_Development</td>\n",
              "      <td>3</td>\n",
              "      <td>Bachelor</td>\n",
              "      <td>Medical</td>\n",
              "      <td>High</td>\n",
              "      <td>Male</td>\n",
              "      <td>...</td>\n",
              "      <td>Excellent</td>\n",
              "      <td>Very_High</td>\n",
              "      <td>1</td>\n",
              "      <td>1</td>\n",
              "      <td>2</td>\n",
              "      <td>Good</td>\n",
              "      <td>1</td>\n",
              "      <td>1</td>\n",
              "      <td>0</td>\n",
              "      <td>1</td>\n",
              "    </tr>\n",
              "    <tr>\n",
              "      <th>1143</th>\n",
              "      <td>35</td>\n",
              "      <td>0.0</td>\n",
              "      <td>Travel_Rarely</td>\n",
              "      <td>819</td>\n",
              "      <td>Research_Development</td>\n",
              "      <td>18</td>\n",
              "      <td>Doctor</td>\n",
              "      <td>Life_Sciences</td>\n",
              "      <td>Medium</td>\n",
              "      <td>Male</td>\n",
              "      <td>...</td>\n",
              "      <td>Excellent</td>\n",
              "      <td>Very_High</td>\n",
              "      <td>0</td>\n",
              "      <td>16</td>\n",
              "      <td>2</td>\n",
              "      <td>Better</td>\n",
              "      <td>16</td>\n",
              "      <td>15</td>\n",
              "      <td>1</td>\n",
              "      <td>10</td>\n",
              "    </tr>\n",
              "    <tr>\n",
              "      <th>36</th>\n",
              "      <td>20</td>\n",
              "      <td>1.0</td>\n",
              "      <td>Travel_Rarely</td>\n",
              "      <td>1362</td>\n",
              "      <td>Research_Development</td>\n",
              "      <td>10</td>\n",
              "      <td>Below_College</td>\n",
              "      <td>Medical</td>\n",
              "      <td>Very_High</td>\n",
              "      <td>Male</td>\n",
              "      <td>...</td>\n",
              "      <td>Excellent</td>\n",
              "      <td>Very_High</td>\n",
              "      <td>0</td>\n",
              "      <td>1</td>\n",
              "      <td>5</td>\n",
              "      <td>Better</td>\n",
              "      <td>1</td>\n",
              "      <td>0</td>\n",
              "      <td>1</td>\n",
              "      <td>1</td>\n",
              "    </tr>\n",
              "    <tr>\n",
              "      <th>411</th>\n",
              "      <td>24</td>\n",
              "      <td>0.0</td>\n",
              "      <td>Travel_Frequently</td>\n",
              "      <td>567</td>\n",
              "      <td>Research_Development</td>\n",
              "      <td>2</td>\n",
              "      <td>Below_College</td>\n",
              "      <td>Technical_Degree</td>\n",
              "      <td>Low</td>\n",
              "      <td>Female</td>\n",
              "      <td>...</td>\n",
              "      <td>Excellent</td>\n",
              "      <td>High</td>\n",
              "      <td>0</td>\n",
              "      <td>6</td>\n",
              "      <td>2</td>\n",
              "      <td>Better</td>\n",
              "      <td>6</td>\n",
              "      <td>3</td>\n",
              "      <td>1</td>\n",
              "      <td>3</td>\n",
              "    </tr>\n",
              "    <tr>\n",
              "      <th>42</th>\n",
              "      <td>45</td>\n",
              "      <td>0.0</td>\n",
              "      <td>Travel_Rarely</td>\n",
              "      <td>252</td>\n",
              "      <td>Research_Development</td>\n",
              "      <td>2</td>\n",
              "      <td>Bachelor</td>\n",
              "      <td>Life_Sciences</td>\n",
              "      <td>Medium</td>\n",
              "      <td>Female</td>\n",
              "      <td>...</td>\n",
              "      <td>Excellent</td>\n",
              "      <td>Very_High</td>\n",
              "      <td>0</td>\n",
              "      <td>1</td>\n",
              "      <td>3</td>\n",
              "      <td>Better</td>\n",
              "      <td>1</td>\n",
              "      <td>0</td>\n",
              "      <td>0</td>\n",
              "      <td>0</td>\n",
              "    </tr>\n",
              "    <tr>\n",
              "      <th>195</th>\n",
              "      <td>31</td>\n",
              "      <td>1.0</td>\n",
              "      <td>Non-Travel</td>\n",
              "      <td>335</td>\n",
              "      <td>Research_Development</td>\n",
              "      <td>9</td>\n",
              "      <td>College</td>\n",
              "      <td>Medical</td>\n",
              "      <td>High</td>\n",
              "      <td>Male</td>\n",
              "      <td>...</td>\n",
              "      <td>Outstanding</td>\n",
              "      <td>Low</td>\n",
              "      <td>0</td>\n",
              "      <td>4</td>\n",
              "      <td>0</td>\n",
              "      <td>Better</td>\n",
              "      <td>3</td>\n",
              "      <td>2</td>\n",
              "      <td>1</td>\n",
              "      <td>2</td>\n",
              "    </tr>\n",
              "    <tr>\n",
              "      <th>213</th>\n",
              "      <td>23</td>\n",
              "      <td>0.0</td>\n",
              "      <td>Travel_Rarely</td>\n",
              "      <td>977</td>\n",
              "      <td>Research_Development</td>\n",
              "      <td>10</td>\n",
              "      <td>Bachelor</td>\n",
              "      <td>Technical_Degree</td>\n",
              "      <td>Very_High</td>\n",
              "      <td>Male</td>\n",
              "      <td>...</td>\n",
              "      <td>Excellent</td>\n",
              "      <td>Very_High</td>\n",
              "      <td>1</td>\n",
              "      <td>4</td>\n",
              "      <td>2</td>\n",
              "      <td>Better</td>\n",
              "      <td>2</td>\n",
              "      <td>2</td>\n",
              "      <td>2</td>\n",
              "      <td>2</td>\n",
              "    </tr>\n",
              "    <tr>\n",
              "      <th>92</th>\n",
              "      <td>35</td>\n",
              "      <td>0.0</td>\n",
              "      <td>Travel_Rarely</td>\n",
              "      <td>890</td>\n",
              "      <td>Sales</td>\n",
              "      <td>2</td>\n",
              "      <td>Bachelor</td>\n",
              "      <td>Marketing</td>\n",
              "      <td>Very_High</td>\n",
              "      <td>Female</td>\n",
              "      <td>...</td>\n",
              "      <td>Excellent</td>\n",
              "      <td>Low</td>\n",
              "      <td>0</td>\n",
              "      <td>2</td>\n",
              "      <td>3</td>\n",
              "      <td>Better</td>\n",
              "      <td>2</td>\n",
              "      <td>2</td>\n",
              "      <td>2</td>\n",
              "      <td>2</td>\n",
              "    </tr>\n",
              "    <tr>\n",
              "      <th>101</th>\n",
              "      <td>29</td>\n",
              "      <td>0.0</td>\n",
              "      <td>Travel_Rarely</td>\n",
              "      <td>1090</td>\n",
              "      <td>Sales</td>\n",
              "      <td>10</td>\n",
              "      <td>Bachelor</td>\n",
              "      <td>Marketing</td>\n",
              "      <td>Very_High</td>\n",
              "      <td>Male</td>\n",
              "      <td>...</td>\n",
              "      <td>Excellent</td>\n",
              "      <td>Very_High</td>\n",
              "      <td>2</td>\n",
              "      <td>2</td>\n",
              "      <td>2</td>\n",
              "      <td>Better</td>\n",
              "      <td>2</td>\n",
              "      <td>2</td>\n",
              "      <td>2</td>\n",
              "      <td>2</td>\n",
              "    </tr>\n",
              "    <tr>\n",
              "      <th>153</th>\n",
              "      <td>31</td>\n",
              "      <td>1.0</td>\n",
              "      <td>Travel_Frequently</td>\n",
              "      <td>1060</td>\n",
              "      <td>Sales</td>\n",
              "      <td>1</td>\n",
              "      <td>Bachelor</td>\n",
              "      <td>Life_Sciences</td>\n",
              "      <td>Very_High</td>\n",
              "      <td>Female</td>\n",
              "      <td>...</td>\n",
              "      <td>Excellent</td>\n",
              "      <td>Low</td>\n",
              "      <td>0</td>\n",
              "      <td>3</td>\n",
              "      <td>2</td>\n",
              "      <td>Best</td>\n",
              "      <td>3</td>\n",
              "      <td>2</td>\n",
              "      <td>2</td>\n",
              "      <td>2</td>\n",
              "    </tr>\n",
              "    <tr>\n",
              "      <th>1008</th>\n",
              "      <td>53</td>\n",
              "      <td>0.0</td>\n",
              "      <td>Travel_Rarely</td>\n",
              "      <td>1436</td>\n",
              "      <td>Sales</td>\n",
              "      <td>6</td>\n",
              "      <td>College</td>\n",
              "      <td>Marketing</td>\n",
              "      <td>Medium</td>\n",
              "      <td>Male</td>\n",
              "      <td>...</td>\n",
              "      <td>Outstanding</td>\n",
              "      <td>Very_High</td>\n",
              "      <td>1</td>\n",
              "      <td>13</td>\n",
              "      <td>3</td>\n",
              "      <td>Bad</td>\n",
              "      <td>7</td>\n",
              "      <td>7</td>\n",
              "      <td>4</td>\n",
              "      <td>5</td>\n",
              "    </tr>\n",
              "    <tr>\n",
              "      <th>140</th>\n",
              "      <td>38</td>\n",
              "      <td>0.0</td>\n",
              "      <td>Travel_Rarely</td>\n",
              "      <td>395</td>\n",
              "      <td>Sales</td>\n",
              "      <td>9</td>\n",
              "      <td>Bachelor</td>\n",
              "      <td>Marketing</td>\n",
              "      <td>Medium</td>\n",
              "      <td>Male</td>\n",
              "      <td>...</td>\n",
              "      <td>Excellent</td>\n",
              "      <td>Very_High</td>\n",
              "      <td>1</td>\n",
              "      <td>3</td>\n",
              "      <td>3</td>\n",
              "      <td>Better</td>\n",
              "      <td>2</td>\n",
              "      <td>2</td>\n",
              "      <td>1</td>\n",
              "      <td>2</td>\n",
              "    </tr>\n",
              "    <tr>\n",
              "      <th>23</th>\n",
              "      <td>19</td>\n",
              "      <td>1.0</td>\n",
              "      <td>Travel_Frequently</td>\n",
              "      <td>602</td>\n",
              "      <td>Sales</td>\n",
              "      <td>1</td>\n",
              "      <td>Below_College</td>\n",
              "      <td>Technical_Degree</td>\n",
              "      <td>High</td>\n",
              "      <td>Female</td>\n",
              "      <td>...</td>\n",
              "      <td>Outstanding</td>\n",
              "      <td>Low</td>\n",
              "      <td>0</td>\n",
              "      <td>1</td>\n",
              "      <td>5</td>\n",
              "      <td>Best</td>\n",
              "      <td>0</td>\n",
              "      <td>0</td>\n",
              "      <td>0</td>\n",
              "      <td>0</td>\n",
              "    </tr>\n",
              "    <tr>\n",
              "      <th>1150</th>\n",
              "      <td>52</td>\n",
              "      <td>0.0</td>\n",
              "      <td>Non-Travel</td>\n",
              "      <td>585</td>\n",
              "      <td>Sales</td>\n",
              "      <td>29</td>\n",
              "      <td>Master</td>\n",
              "      <td>Life_Sciences</td>\n",
              "      <td>Low</td>\n",
              "      <td>Male</td>\n",
              "      <td>...</td>\n",
              "      <td>Excellent</td>\n",
              "      <td>Medium</td>\n",
              "      <td>2</td>\n",
              "      <td>16</td>\n",
              "      <td>3</td>\n",
              "      <td>Good</td>\n",
              "      <td>9</td>\n",
              "      <td>8</td>\n",
              "      <td>0</td>\n",
              "      <td>0</td>\n",
              "    </tr>\n",
              "    <tr>\n",
              "      <th>104</th>\n",
              "      <td>20</td>\n",
              "      <td>1.0</td>\n",
              "      <td>Travel_Frequently</td>\n",
              "      <td>769</td>\n",
              "      <td>Sales</td>\n",
              "      <td>9</td>\n",
              "      <td>Bachelor</td>\n",
              "      <td>Marketing</td>\n",
              "      <td>Very_High</td>\n",
              "      <td>Female</td>\n",
              "      <td>...</td>\n",
              "      <td>Excellent</td>\n",
              "      <td>Medium</td>\n",
              "      <td>0</td>\n",
              "      <td>2</td>\n",
              "      <td>3</td>\n",
              "      <td>Better</td>\n",
              "      <td>2</td>\n",
              "      <td>2</td>\n",
              "      <td>0</td>\n",
              "      <td>2</td>\n",
              "    </tr>\n",
              "    <tr>\n",
              "      <th>148</th>\n",
              "      <td>33</td>\n",
              "      <td>0.0</td>\n",
              "      <td>Non-Travel</td>\n",
              "      <td>1038</td>\n",
              "      <td>Sales</td>\n",
              "      <td>8</td>\n",
              "      <td>Below_College</td>\n",
              "      <td>Life_Sciences</td>\n",
              "      <td>Medium</td>\n",
              "      <td>Female</td>\n",
              "      <td>...</td>\n",
              "      <td>Excellent</td>\n",
              "      <td>Very_High</td>\n",
              "      <td>0</td>\n",
              "      <td>3</td>\n",
              "      <td>2</td>\n",
              "      <td>Good</td>\n",
              "      <td>2</td>\n",
              "      <td>2</td>\n",
              "      <td>2</td>\n",
              "      <td>2</td>\n",
              "    </tr>\n",
              "    <tr>\n",
              "      <th>188</th>\n",
              "      <td>50</td>\n",
              "      <td>0.0</td>\n",
              "      <td>Travel_Rarely</td>\n",
              "      <td>316</td>\n",
              "      <td>Sales</td>\n",
              "      <td>8</td>\n",
              "      <td>Master</td>\n",
              "      <td>Marketing</td>\n",
              "      <td>Very_High</td>\n",
              "      <td>Male</td>\n",
              "      <td>...</td>\n",
              "      <td>Excellent</td>\n",
              "      <td>Very_High</td>\n",
              "      <td>1</td>\n",
              "      <td>4</td>\n",
              "      <td>2</td>\n",
              "      <td>Better</td>\n",
              "      <td>2</td>\n",
              "      <td>2</td>\n",
              "      <td>2</td>\n",
              "      <td>2</td>\n",
              "    </tr>\n",
              "  </tbody>\n",
              "</table>\n",
              "<p>40 rows × 31 columns</p>\n",
              "</div>\n",
              "      <button class=\"colab-df-convert\" onclick=\"convertToInteractive('df-1b7ed79d-1274-424e-9136-2dba3641cce2')\"\n",
              "              title=\"Convert this dataframe to an interactive table.\"\n",
              "              style=\"display:none;\">\n",
              "        \n",
              "  <svg xmlns=\"http://www.w3.org/2000/svg\" height=\"24px\"viewBox=\"0 0 24 24\"\n",
              "       width=\"24px\">\n",
              "    <path d=\"M0 0h24v24H0V0z\" fill=\"none\"/>\n",
              "    <path d=\"M18.56 5.44l.94 2.06.94-2.06 2.06-.94-2.06-.94-.94-2.06-.94 2.06-2.06.94zm-11 1L8.5 8.5l.94-2.06 2.06-.94-2.06-.94L8.5 2.5l-.94 2.06-2.06.94zm10 10l.94 2.06.94-2.06 2.06-.94-2.06-.94-.94-2.06-.94 2.06-2.06.94z\"/><path d=\"M17.41 7.96l-1.37-1.37c-.4-.4-.92-.59-1.43-.59-.52 0-1.04.2-1.43.59L10.3 9.45l-7.72 7.72c-.78.78-.78 2.05 0 2.83L4 21.41c.39.39.9.59 1.41.59.51 0 1.02-.2 1.41-.59l7.78-7.78 2.81-2.81c.8-.78.8-2.07 0-2.86zM5.41 20L4 18.59l7.72-7.72 1.47 1.35L5.41 20z\"/>\n",
              "  </svg>\n",
              "      </button>\n",
              "      \n",
              "  <style>\n",
              "    .colab-df-container {\n",
              "      display:flex;\n",
              "      flex-wrap:wrap;\n",
              "      gap: 12px;\n",
              "    }\n",
              "\n",
              "    .colab-df-convert {\n",
              "      background-color: #E8F0FE;\n",
              "      border: none;\n",
              "      border-radius: 50%;\n",
              "      cursor: pointer;\n",
              "      display: none;\n",
              "      fill: #1967D2;\n",
              "      height: 32px;\n",
              "      padding: 0 0 0 0;\n",
              "      width: 32px;\n",
              "    }\n",
              "\n",
              "    .colab-df-convert:hover {\n",
              "      background-color: #E2EBFA;\n",
              "      box-shadow: 0px 1px 2px rgba(60, 64, 67, 0.3), 0px 1px 3px 1px rgba(60, 64, 67, 0.15);\n",
              "      fill: #174EA6;\n",
              "    }\n",
              "\n",
              "    [theme=dark] .colab-df-convert {\n",
              "      background-color: #3B4455;\n",
              "      fill: #D2E3FC;\n",
              "    }\n",
              "\n",
              "    [theme=dark] .colab-df-convert:hover {\n",
              "      background-color: #434B5C;\n",
              "      box-shadow: 0px 1px 3px 1px rgba(0, 0, 0, 0.15);\n",
              "      filter: drop-shadow(0px 1px 2px rgba(0, 0, 0, 0.3));\n",
              "      fill: #FFFFFF;\n",
              "    }\n",
              "  </style>\n",
              "\n",
              "      <script>\n",
              "        const buttonEl =\n",
              "          document.querySelector('#df-1b7ed79d-1274-424e-9136-2dba3641cce2 button.colab-df-convert');\n",
              "        buttonEl.style.display =\n",
              "          google.colab.kernel.accessAllowed ? 'block' : 'none';\n",
              "\n",
              "        async function convertToInteractive(key) {\n",
              "          const element = document.querySelector('#df-1b7ed79d-1274-424e-9136-2dba3641cce2');\n",
              "          const dataTable =\n",
              "            await google.colab.kernel.invokeFunction('convertToInteractive',\n",
              "                                                     [key], {});\n",
              "          if (!dataTable) return;\n",
              "\n",
              "          const docLinkHtml = 'Like what you see? Visit the ' +\n",
              "            '<a target=\"_blank\" href=https://colab.research.google.com/notebooks/data_table.ipynb>data table notebook</a>'\n",
              "            + ' to learn more about interactive tables.';\n",
              "          element.innerHTML = '';\n",
              "          dataTable['output_type'] = 'display_data';\n",
              "          await google.colab.output.renderOutput(dataTable, element);\n",
              "          const docLink = document.createElement('div');\n",
              "          docLink.innerHTML = docLinkHtml;\n",
              "          element.appendChild(docLink);\n",
              "        }\n",
              "      </script>\n",
              "    </div>\n",
              "  </div>\n",
              "  "
            ]
          },
          "metadata": {}
        }
      ]
    },
    {
      "cell_type": "markdown",
      "source": [
        "## **Comparing sampling methods**\n"
      ],
      "metadata": {
        "id": "dww-fvEt2zM_"
      }
    },
    {
      "cell_type": "markdown",
      "source": [
        "#### **3 kinds of sampling**\n"
      ],
      "metadata": {
        "id": "236NLLVl20pb"
      }
    },
    {
      "cell_type": "code",
      "source": [
        "# Perform simple random sampling to get 0.25 of the population\n",
        "attrition_srs = attrition_pop.sample(frac=0.25, random_state=2022)"
      ],
      "metadata": {
        "id": "duV2NU2a3CKL"
      },
      "execution_count": 79,
      "outputs": []
    },
    {
      "cell_type": "code",
      "source": [
        "# Perform stratified sampling to get 0.25 of each relationship group\n",
        "attrition_strat = attrition_pop.groupby(\"RelationshipSatisfaction\").sample(frac=0.25, random_state=2022)"
      ],
      "metadata": {
        "id": "Jq1WLLvRDRTm"
      },
      "execution_count": 78,
      "outputs": []
    },
    {
      "cell_type": "code",
      "source": [
        "# Create a list of unique RelationshipSatisfaction values\n",
        "satisfaction_unique = list(attrition_pop['RelationshipSatisfaction'].unique())\n",
        "\n",
        "# Randomly sample 2 unique satisfaction values\n",
        "satisfaction_samp = random.sample(satisfaction_unique, k=2)\n",
        "\n",
        "# Filter for satisfaction_samp and clear unused categories from RelationshipSatisfaction\n",
        "satis_condition = attrition_pop['RelationshipSatisfaction'].isin(satisfaction_samp)\n",
        "attrition_clust_prep = attrition_pop[satis_condition]\n",
        "attrition_clust_prep['RelationshipSatisfaction'] = attrition_clust_prep['RelationshipSatisfaction'].cat.remove_unused_categories()\n",
        "\n",
        "# Perform cluster sampling on the selected group, getting 0.25 of attrition_pop\n",
        "attrition_clust = attrition_clust_prep.groupby(\"RelationshipSatisfaction\").sample(n=len(attrition_pop) // 4, random_state=2022)"
      ],
      "metadata": {
        "colab": {
          "base_uri": "https://localhost:8080/"
        },
        "id": "TLLoKofaDUBW",
        "outputId": "8d099fa3-a3bf-489d-9b12-9d6df7ef10a3"
      },
      "execution_count": 85,
      "outputs": [
        {
          "output_type": "stream",
          "name": "stderr",
          "text": [
            "<ipython-input-85-6c3d223edd9b>:10: SettingWithCopyWarning: \n",
            "A value is trying to be set on a copy of a slice from a DataFrame.\n",
            "Try using .loc[row_indexer,col_indexer] = value instead\n",
            "\n",
            "See the caveats in the documentation: https://pandas.pydata.org/pandas-docs/stable/user_guide/indexing.html#returning-a-view-versus-a-copy\n",
            "  attrition_clust_prep['RelationshipSatisfaction'] = attrition_clust_prep['RelationshipSatisfaction'].cat.remove_unused_categories()\n"
          ]
        }
      ]
    },
    {
      "cell_type": "markdown",
      "source": [
        "#### **Comparing point estimates**"
      ],
      "metadata": {
        "id": "SfVfnxYO22UD"
      }
    },
    {
      "cell_type": "code",
      "source": [
        "# Mean Attrition by RelationshipSatisfaction group\n",
        "mean_attrition_pop = attrition_pop.groupby('RelationshipSatisfaction')['Attrition'].mean()\n",
        "\n",
        "# Print the result\n",
        "print(mean_attrition_pop)"
      ],
      "metadata": {
        "id": "6eeQYms13Cla",
        "colab": {
          "base_uri": "https://localhost:8080/"
        },
        "outputId": "29cdda49-74d7-4b6b-8b7c-7d4dea59311d"
      },
      "execution_count": 80,
      "outputs": [
        {
          "output_type": "stream",
          "name": "stdout",
          "text": [
            "RelationshipSatisfaction\n",
            "Low          0.206522\n",
            "Medium       0.148515\n",
            "High         0.154684\n",
            "Very_High    0.148148\n",
            "Name: Attrition, dtype: float64\n"
          ]
        }
      ]
    },
    {
      "cell_type": "code",
      "source": [
        "# Calculate the same thing for the simple random sample\n",
        "mean_attrition_srs = attrition_srs.groupby('RelationshipSatisfaction')['Attrition'].mean()\n",
        "\n",
        "# Print the result\n",
        "print(mean_attrition_srs)"
      ],
      "metadata": {
        "colab": {
          "base_uri": "https://localhost:8080/"
        },
        "id": "xR1lGYScDXKm",
        "outputId": "c6575df6-b150-403f-9be6-c53f19c23d3c"
      },
      "execution_count": 81,
      "outputs": [
        {
          "output_type": "stream",
          "name": "stdout",
          "text": [
            "RelationshipSatisfaction\n",
            "Low          0.134328\n",
            "Medium       0.164179\n",
            "High         0.160000\n",
            "Very_High    0.155963\n",
            "Name: Attrition, dtype: float64\n"
          ]
        }
      ]
    },
    {
      "cell_type": "code",
      "source": [
        "# Calculate the same thing for the stratified sample\n",
        "mean_attrition_strat = attrition_strat.groupby('RelationshipSatisfaction')['Attrition'].mean()\n",
        "\n",
        "# Print the result\n",
        "print(mean_attrition_strat)"
      ],
      "metadata": {
        "colab": {
          "base_uri": "https://localhost:8080/"
        },
        "id": "5Td49eQGDYxG",
        "outputId": "fc02a45e-3302-4e8c-8786-6e2afc6a6aa4"
      },
      "execution_count": 82,
      "outputs": [
        {
          "output_type": "stream",
          "name": "stdout",
          "text": [
            "RelationshipSatisfaction\n",
            "Low          0.144928\n",
            "Medium       0.078947\n",
            "High         0.165217\n",
            "Very_High    0.129630\n",
            "Name: Attrition, dtype: float64\n"
          ]
        }
      ]
    },
    {
      "cell_type": "code",
      "source": [
        "# Calculate the same thing for the cluster sample\n",
        "mean_attrition_clust = attrition_clust.groupby('RelationshipSatisfaction')['Attrition'].mean()\n",
        "\n",
        "# Print the result\n",
        "print(mean_attrition_clust)"
      ],
      "metadata": {
        "colab": {
          "base_uri": "https://localhost:8080/"
        },
        "id": "VtSMS9WFDaSm",
        "outputId": "60e78df3-6242-44ce-b55c-1cf2624f6c38"
      },
      "execution_count": 83,
      "outputs": [
        {
          "output_type": "stream",
          "name": "stdout",
          "text": [
            "RelationshipSatisfaction\n",
            "Low          0.428571\n",
            "Medium       0.166667\n",
            "High         0.000000\n",
            "Very_High    0.055556\n",
            "Name: Attrition, dtype: float64\n"
          ]
        }
      ]
    },
    {
      "cell_type": "markdown",
      "source": [
        "# **3️⃣Sampling Distributions**"
      ],
      "metadata": {
        "id": "ob6MqC6LwXXy"
      }
    },
    {
      "cell_type": "markdown",
      "source": [
        "## **Relative error of point estimates**\n"
      ],
      "metadata": {
        "id": "GhADadlV3F9D"
      }
    },
    {
      "cell_type": "markdown",
      "source": [
        "#### **Calculating relative errors**\n"
      ],
      "metadata": {
        "id": "PoGp_nX75O_f"
      }
    },
    {
      "cell_type": "code",
      "source": [
        "import pandas as pd\n",
        "import pyarrow.feather as feather\n",
        "import numpy as np\n",
        "\n",
        "attrition_pop = feather.read_feather(url_employee)\n",
        "mean_attrition_pop = attrition_pop.groupby('RelationshipSatisfaction')['Attrition'].mean()\n",
        "\n",
        "# Generate a simple random sample of 50 rows, with seed 2022\n",
        "attrition_srs50 = attrition_pop.sample(n=50, random_state=2022)\n",
        "\n",
        "# Calculate the mean employee attrition in the sample\n",
        "mean_attrition_srs50 = attrition_srs50['Attrition'].mean()\n",
        "\n",
        "# Calculate the relative error percentage\n",
        "rel_error_pct50 = 100 * abs(mean_attrition_pop - mean_attrition_srs50) / mean_attrition_pop\n",
        "\n",
        "# Print rel_error_pct50\n",
        "print(rel_error_pct50)"
      ],
      "metadata": {
        "colab": {
          "base_uri": "https://localhost:8080/"
        },
        "id": "lvCjxcy4GbqV",
        "outputId": "5a5bddd5-f682-41c0-c7b8-6b04ff527a2e"
      },
      "execution_count": 90,
      "outputs": [
        {
          "output_type": "stream",
          "name": "stdout",
          "text": [
            "RelationshipSatisfaction\n",
            "Low          70.947368\n",
            "Medium       59.600000\n",
            "High         61.211268\n",
            "Very_High    59.500000\n",
            "Name: Attrition, dtype: float64\n"
          ]
        }
      ]
    },
    {
      "cell_type": "code",
      "source": [
        "# Generate a simple random sample of 100 rows, with seed 2022\n",
        "attrition_srs100 = attrition_pop.sample(n=100, random_state=2022)\n",
        "\n",
        "# Calculate the mean employee attrition in the sample\n",
        "mean_attrition_srs100 = attrition_srs100['Attrition'].mean()\n",
        "\n",
        "# Calculate the relative error percentage\n",
        "rel_error_pct100 = 100 * abs(mean_attrition_pop-mean_attrition_srs100) / mean_attrition_pop\n",
        "\n",
        "# Print rel_error_pct100\n",
        "print(rel_error_pct100)"
      ],
      "metadata": {
        "colab": {
          "base_uri": "https://localhost:8080/"
        },
        "id": "8p-MBfvvGo5Y",
        "outputId": "137d82e7-a154-4396-cb0c-79cd8ea0a9a0"
      },
      "execution_count": 92,
      "outputs": [
        {
          "output_type": "stream",
          "name": "stdout",
          "text": [
            "RelationshipSatisfaction\n",
            "Low          27.368421\n",
            "Medium        1.000000\n",
            "High          3.028169\n",
            "Very_High     1.250000\n",
            "Name: Attrition, dtype: float64\n"
          ]
        }
      ]
    },
    {
      "cell_type": "markdown",
      "source": [
        "## **Creating a sampling distribution**\n"
      ],
      "metadata": {
        "id": "t93LoCfb5SPo"
      }
    },
    {
      "cell_type": "markdown",
      "source": [
        "#### **Replicating samples**\n"
      ],
      "metadata": {
        "id": "eDOG_IeN5TiH"
      }
    },
    {
      "cell_type": "code",
      "source": [
        "# Create an empty list\n",
        "mean_attritions = []\n",
        "# Loop 500 times to create 500 sample means\n",
        "for i in range(500):\n",
        "    mean_attritions.append(\n",
        "    attrition_pop.sample(n=60)['Attrition'].mean())\n",
        "\n",
        "# Print out the first few entries of the list\n",
        "print(mean_attritions[0:5])\n",
        "\n",
        "# Create a histogram of the 500 sample means\n",
        "plt.hist(mean_attritions, bins=16)\n",
        "plt.show()"
      ],
      "metadata": {
        "colab": {
          "base_uri": "https://localhost:8080/",
          "height": 447
        },
        "id": "vDVD4ryMHJ6G",
        "outputId": "b7356555-472e-448f-9cf7-486fda8c31a0"
      },
      "execution_count": 94,
      "outputs": [
        {
          "output_type": "stream",
          "name": "stdout",
          "text": [
            "[0.2, 0.13333333333333333, 0.13333333333333333, 0.08333333333333333, 0.13333333333333333]\n"
          ]
        },
        {
          "output_type": "display_data",
          "data": {
            "text/plain": [
              "<Figure size 640x480 with 1 Axes>"
            ],
            "image/png": "[encoded data removed]"
          },
          "metadata": {}
        }
      ]
    },
    {
      "cell_type": "markdown",
      "source": [
        "## **Approximate sampling distributions**\n"
      ],
      "metadata": {
        "id": "0MUY0QSG5WbY"
      }
    },
    {
      "cell_type": "markdown",
      "source": [
        "#### **Exact sampling distribution**\n"
      ],
      "metadata": {
        "id": "F1-s1KV_5X9Y"
      }
    },
    {
      "cell_type": "code",
      "source": [
        "import itertools\n",
        "\n",
        "def expand_grid(data_dict):\n",
        "    rows = itertools.product(*data_dict.values())\n",
        "    return pd.DataFrame.from_records(rows, columns=data_dict.keys())\n",
        "\n",
        "# Expand a grid representing 5 8-sided dice\n",
        "dice = expand_grid(\n",
        "  {'die1': [1, 2, 3, 4, 5, 6, 7, 8],\n",
        "   'die2': [1, 2, 3, 4, 5, 6, 7, 8],\n",
        "   'die3': [1, 2, 3, 4, 5, 6, 7, 8],\n",
        "   'die4': [1, 2, 3, 4, 5, 6, 7, 8],\n",
        "   'die5': [1, 2, 3, 4, 5, 6, 7, 8]\n",
        "  })\n",
        "\n",
        "# Print the result\n",
        "print(dice)"
      ],
      "metadata": {
        "colab": {
          "base_uri": "https://localhost:8080/"
        },
        "id": "s3pcuJNbHZzN",
        "outputId": "581ca491-32b6-444a-acc2-a509a808dd88"
      },
      "execution_count": 96,
      "outputs": [
        {
          "output_type": "stream",
          "name": "stdout",
          "text": [
            "       die1  die2  die3  die4  die5\n",
            "0         1     1     1     1     1\n",
            "1         1     1     1     1     2\n",
            "2         1     1     1     1     3\n",
            "3         1     1     1     1     4\n",
            "4         1     1     1     1     5\n",
            "...     ...   ...   ...   ...   ...\n",
            "32763     8     8     8     8     4\n",
            "32764     8     8     8     8     5\n",
            "32765     8     8     8     8     6\n",
            "32766     8     8     8     8     7\n",
            "32767     8     8     8     8     8\n",
            "\n",
            "[32768 rows x 5 columns]\n"
          ]
        }
      ]
    },
    {
      "cell_type": "code",
      "source": [
        "# Add a column of mean rolls and convert to a categorical\n",
        "dice['mean_roll'] = (dice['die1'] + dice['die2'] +\n",
        "                     dice['die3'] + dice['die4'] +\n",
        "                     dice['die5']) / 5\n",
        "dice['mean_roll'] = dice['mean_roll'].astype('category')\n",
        "\n",
        "# Print result\n",
        "print(dice)"
      ],
      "metadata": {
        "colab": {
          "base_uri": "https://localhost:8080/"
        },
        "id": "S0dPrc0gHgZ3",
        "outputId": "d3e6a76c-6421-4c1a-b58f-d9e5aa49e475"
      },
      "execution_count": 97,
      "outputs": [
        {
          "output_type": "stream",
          "name": "stdout",
          "text": [
            "       die1  die2  die3  die4  die5 mean_roll\n",
            "0         1     1     1     1     1       1.0\n",
            "1         1     1     1     1     2       1.2\n",
            "2         1     1     1     1     3       1.4\n",
            "3         1     1     1     1     4       1.6\n",
            "4         1     1     1     1     5       1.8\n",
            "...     ...   ...   ...   ...   ...       ...\n",
            "32763     8     8     8     8     4       7.2\n",
            "32764     8     8     8     8     5       7.4\n",
            "32765     8     8     8     8     6       7.6\n",
            "32766     8     8     8     8     7       7.8\n",
            "32767     8     8     8     8     8       8.0\n",
            "\n",
            "[32768 rows x 6 columns]\n"
          ]
        }
      ]
    },
    {
      "cell_type": "code",
      "source": [
        "# Draw a bar plot of mean_roll\n",
        "dice['mean_roll'].value_counts(sort=False).plot(kind=\"bar\")\n",
        "plt.show()"
      ],
      "metadata": {
        "colab": {
          "base_uri": "https://localhost:8080/",
          "height": 438
        },
        "id": "v0o-DAbmHkiM",
        "outputId": "f8b19bb7-54bd-466d-8aff-e59e462cd15b"
      },
      "execution_count": 98,
      "outputs": [
        {
          "output_type": "display_data",
          "data": {
            "text/plain": [
              "<Figure size 640x480 with 1 Axes>"
            ],
            "image/png": "[encoded data removed]"
          },
          "metadata": {}
        }
      ]
    },
    {
      "cell_type": "markdown",
      "source": [
        "#### **Generating an approximate sampling distribution**\n"
      ],
      "metadata": {
        "id": "3EYyGjpF5ZWR"
      }
    },
    {
      "cell_type": "code",
      "source": [
        "# Sample one to eight, five times, with replacement\n",
        "five_rolls = np.random.choice(list(range(1, 9)), size=5, replace=True)\n",
        "\n",
        "# Print the mean of five_rolls\n",
        "print(five_rolls.mean())"
      ],
      "metadata": {
        "colab": {
          "base_uri": "https://localhost:8080/"
        },
        "id": "8s7BQ_MlHt3f",
        "outputId": "f08ebe4c-63d9-40f8-871a-bc51fac8cf57"
      },
      "execution_count": 99,
      "outputs": [
        {
          "output_type": "stream",
          "name": "stdout",
          "text": [
            "3.2\n"
          ]
        }
      ]
    },
    {
      "cell_type": "code",
      "source": [
        "# Replicate the sampling code 1000 times\n",
        "sample_means_1000 = []\n",
        "for i in range(1000):\n",
        "    sample_means_1000.append(\n",
        "    np.random.choice(list(range(1, 9)), size=5, replace=True).mean()\n",
        "    )\n",
        "\n",
        "# Print the first 10 entries of the result\n",
        "print(sample_means_1000[0:10])"
      ],
      "metadata": {
        "colab": {
          "base_uri": "https://localhost:8080/"
        },
        "id": "MqFux0pMHwoo",
        "outputId": "d6a9bca3-8440-4b8f-9c77-92dd1b581c5a"
      },
      "execution_count": 100,
      "outputs": [
        {
          "output_type": "stream",
          "name": "stdout",
          "text": [
            "[3.8, 4.0, 4.4, 4.2, 5.0, 5.0, 5.2, 4.8, 2.2, 4.8]\n"
          ]
        }
      ]
    },
    {
      "cell_type": "code",
      "source": [
        "# Draw a histogram of sample_means_1000 with 20 bins\n",
        "plt.hist(sample_means_1000, bins=20)\n",
        "plt.show()"
      ],
      "metadata": {
        "colab": {
          "base_uri": "https://localhost:8080/",
          "height": 430
        },
        "id": "eg5UkIC1H1Ol",
        "outputId": "7fbba7a9-aee4-43f8-8de1-c2d6948cae9b"
      },
      "execution_count": 101,
      "outputs": [
        {
          "output_type": "display_data",
          "data": {
            "text/plain": [
              "<Figure size 640x480 with 1 Axes>"
            ],
            "image/png": "[encoded data removed]"
          },
          "metadata": {}
        }
      ]
    },
    {
      "cell_type": "markdown",
      "source": [
        "## **Standard errors and the Central Limit Theorem**\n"
      ],
      "metadata": {
        "id": "7Jx9sneh5cII"
      }
    },
    {
      "cell_type": "markdown",
      "source": [
        "#### **Population & sampling distribution means**\n"
      ],
      "metadata": {
        "id": "hnr_xAEU5dhE"
      }
    },
    {
      "cell_type": "code",
      "source": [
        "import numpy as np\n",
        "\n",
        "# Define the sampling distributions\n",
        "import random\n",
        "\n",
        "sampling_distribution_5 = [random.uniform(0, 1) for _ in range(500)]\n",
        "sampling_distribution_50 = [random.uniform(0, 50) for _ in range(500)]\n",
        "sampling_distribution_500 = [random.uniform(0, 500) for _ in range(500)]\n",
        "\n",
        "# Calculate the mean of the mean attritions for each sampling distribution\n",
        "mean_of_means_5 = np.mean(sampling_distribution_5)\n",
        "mean_of_means_50 = np.mean(sampling_distribution_50)\n",
        "mean_of_means_500 = np.mean(sampling_distribution_500)\n",
        "\n",
        "# Print the results\n",
        "print(\"# Calculate the mean of the mean attritions for each sampling distribution\")\n",
        "print(\"mean_of_means_5 =\", mean_of_means_5)\n",
        "print(\"mean_of_means_50 =\", mean_of_means_50)\n",
        "print(\"mean_of_means_500 =\", mean_of_means_500)\n",
        "\n"
      ],
      "metadata": {
        "colab": {
          "base_uri": "https://localhost:8080/"
        },
        "id": "4MzJuDurH6pG",
        "outputId": "2c81edc7-02d0-448b-fc41-d9c35646bd18"
      },
      "execution_count": 108,
      "outputs": [
        {
          "output_type": "stream",
          "name": "stdout",
          "text": [
            "# Calculate the mean of the mean attritions for each sampling distribution\n",
            "mean_of_means_5 = 0.4965979544065647\n",
            "mean_of_means_50 = 25.6028901509622\n",
            "mean_of_means_500 = 253.99320946542716\n"
          ]
        }
      ]
    },
    {
      "cell_type": "markdown",
      "source": [
        "#### **Population & sampling distribution variation**"
      ],
      "metadata": {
        "id": "OJSgv3OD5e_0"
      }
    },
    {
      "cell_type": "code",
      "source": [
        "# Calculate the std. dev. of the mean attritions for each sampling distribution\n",
        "sd_of_means_5 = np.std(sampling_distribution_5, ddof=1)\n",
        "sd_of_means_50 = np.std(sampling_distribution_50, ddof=1)\n",
        "sd_of_means_500 = np.std(sampling_distribution_500, ddof=1)\n",
        "\n",
        "# Print the results\n",
        "print(sd_of_means_5)\n",
        "print(sd_of_means_50)\n",
        "print(sd_of_means_500)"
      ],
      "metadata": {
        "colab": {
          "base_uri": "https://localhost:8080/"
        },
        "id": "qiGOzw_VH7Cd",
        "outputId": "2f757c7a-dde9-4c59-95ff-f324201cc09c"
      },
      "execution_count": 110,
      "outputs": [
        {
          "output_type": "stream",
          "name": "stdout",
          "text": [
            "0.2918107182455146\n",
            "13.919907975007385\n",
            "143.49358507973994\n"
          ]
        }
      ]
    },
    {
      "cell_type": "markdown",
      "source": [
        "# **4️⃣Bootstrap Distributions**"
      ],
      "metadata": {
        "id": "f2nabT0Bwd1y"
      }
    },
    {
      "cell_type": "markdown",
      "source": [
        "## **Introduction to bootstrapping**\n"
      ],
      "metadata": {
        "id": "5x-rGSU25ooT"
      }
    },
    {
      "cell_type": "code",
      "source": [
        "import pandas as pd\n",
        "import pyarrow.feather as feather\n",
        "import matplotlib.pyplot as plt\n",
        "\n",
        "\n",
        "spotify_population = feather.read_feather(url_spotify)\n",
        "\n",
        "# Sample 1000 rows from spotify_population\n",
        "spotify_sample = spotify_population.sample(n=1000)\n",
        "\n",
        "# Generate 1 bootstrap resample\n",
        "spotify_1_resample = spotify_sample.sample(frac=1, replace=True)\n",
        "\n",
        "# Print the resample\n",
        "display(spotify_1_resample.head(3))"
      ],
      "metadata": {
        "colab": {
          "base_uri": "https://localhost:8080/",
          "height": 381
        },
        "id": "deFSRs7wRiSg",
        "outputId": "a8ada409-169b-4bee-af43-943eaa1e67b4"
      },
      "execution_count": 113,
      "outputs": [
        {
          "output_type": "display_data",
          "data": {
            "text/plain": [
              "       acousticness                                artists  danceability  \\\n",
              "32641        0.1990      ['Miley Cyrus', 'French Montana']         0.548   \n",
              "20086        0.0369                         ['Kat Graham']         0.456   \n",
              "3324         0.0261  ['Jake Owen', 'Florida Georgia Line']         0.510   \n",
              "\n",
              "       duration_ms  duration_minutes  energy  explicit  \\\n",
              "32641     229693.0          3.828217   0.833       1.0   \n",
              "20086     240307.0          4.005117   0.843       0.0   \n",
              "3324      220267.0          3.671117   0.960       0.0   \n",
              "\n",
              "                           id  instrumentalness  key  liveness  loudness  \\\n",
              "32641  6dDIOU6AqgLkrjFNPgvKY6               0.0  7.0    0.3050    -3.294   \n",
              "20086  65YThnxDm8OZPT6vdSwqbT               0.0  1.0    0.0453    -2.724   \n",
              "3324   0s77V2jfwyd8Mz5YHFXPJi               0.0  3.0    0.1320    -4.458   \n",
              "\n",
              "       mode                                               name  popularity  \\\n",
              "32641   1.0                          FU (feat. French Montana)        60.0   \n",
              "20086   1.0                                              Power        53.0   \n",
              "3324    1.0  Summer Jam (feat. Florida Georgia Line) (feat....        48.0   \n",
              "\n",
              "      release_date  speechiness    tempo  valence    year  \n",
              "32641   2013-10-04       0.0497  190.029    0.467  2013.0  \n",
              "20086   2013-01-01       0.0595  161.844    0.560  2013.0  \n",
              "3324    2012-09-25       0.0433   80.000    0.922  2012.0  "
            ],
            "text/html": [
              "\n",
              "  <div id=\"df-147cba3f-f0e9-47c3-b8d3-271e6739d1f1\">\n",
              "    <div class=\"colab-df-container\">\n",
              "      <div>\n",
              "<style scoped>\n",
              "    .dataframe tbody tr th:only-of-type {\n",
              "        vertical-align: middle;\n",
              "    }\n",
              "\n",
              "    .dataframe tbody tr th {\n",
              "        vertical-align: top;\n",
              "    }\n",
              "\n",
              "    .dataframe thead th {\n",
              "        text-align: right;\n",
              "    }\n",
              "</style>\n",
              "<table border=\"1\" class=\"dataframe\">\n",
              "  <thead>\n",
              "    <tr style=\"text-align: right;\">\n",
              "      <th></th>\n",
              "      <th>acousticness</th>\n",
              "      <th>artists</th>\n",
              "      <th>danceability</th>\n",
              "      <th>duration_ms</th>\n",
              "      <th>duration_minutes</th>\n",
              "      <th>energy</th>\n",
              "      <th>explicit</th>\n",
              "      <th>id</th>\n",
              "      <th>instrumentalness</th>\n",
              "      <th>key</th>\n",
              "      <th>liveness</th>\n",
              "      <th>loudness</th>\n",
              "      <th>mode</th>\n",
              "      <th>name</th>\n",
              "      <th>popularity</th>\n",
              "      <th>release_date</th>\n",
              "      <th>speechiness</th>\n",
              "      <th>tempo</th>\n",
              "      <th>valence</th>\n",
              "      <th>year</th>\n",
              "    </tr>\n",
              "  </thead>\n",
              "  <tbody>\n",
              "    <tr>\n",
              "      <th>32641</th>\n",
              "      <td>0.1990</td>\n",
              "      <td>['Miley Cyrus', 'French Montana']</td>\n",
              "      <td>0.548</td>\n",
              "      <td>229693.0</td>\n",
              "      <td>3.828217</td>\n",
              "      <td>0.833</td>\n",
              "      <td>1.0</td>\n",
              "      <td>6dDIOU6AqgLkrjFNPgvKY6</td>\n",
              "      <td>0.0</td>\n",
              "      <td>7.0</td>\n",
              "      <td>0.3050</td>\n",
              "      <td>-3.294</td>\n",
              "      <td>1.0</td>\n",
              "      <td>FU (feat. French Montana)</td>\n",
              "      <td>60.0</td>\n",
              "      <td>2013-10-04</td>\n",
              "      <td>0.0497</td>\n",
              "      <td>190.029</td>\n",
              "      <td>0.467</td>\n",
              "      <td>2013.0</td>\n",
              "    </tr>\n",
              "    <tr>\n",
              "      <th>20086</th>\n",
              "      <td>0.0369</td>\n",
              "      <td>['Kat Graham']</td>\n",
              "      <td>0.456</td>\n",
              "      <td>240307.0</td>\n",
              "      <td>4.005117</td>\n",
              "      <td>0.843</td>\n",
              "      <td>0.0</td>\n",
              "      <td>65YThnxDm8OZPT6vdSwqbT</td>\n",
              "      <td>0.0</td>\n",
              "      <td>1.0</td>\n",
              "      <td>0.0453</td>\n",
              "      <td>-2.724</td>\n",
              "      <td>1.0</td>\n",
              "      <td>Power</td>\n",
              "      <td>53.0</td>\n",
              "      <td>2013-01-01</td>\n",
              "      <td>0.0595</td>\n",
              "      <td>161.844</td>\n",
              "      <td>0.560</td>\n",
              "      <td>2013.0</td>\n",
              "    </tr>\n",
              "    <tr>\n",
              "      <th>3324</th>\n",
              "      <td>0.0261</td>\n",
              "      <td>['Jake Owen', 'Florida Georgia Line']</td>\n",
              "      <td>0.510</td>\n",
              "      <td>220267.0</td>\n",
              "      <td>3.671117</td>\n",
              "      <td>0.960</td>\n",
              "      <td>0.0</td>\n",
              "      <td>0s77V2jfwyd8Mz5YHFXPJi</td>\n",
              "      <td>0.0</td>\n",
              "      <td>3.0</td>\n",
              "      <td>0.1320</td>\n",
              "      <td>-4.458</td>\n",
              "      <td>1.0</td>\n",
              "      <td>Summer Jam (feat. Florida Georgia Line) (feat....</td>\n",
              "      <td>48.0</td>\n",
              "      <td>2012-09-25</td>\n",
              "      <td>0.0433</td>\n",
              "      <td>80.000</td>\n",
              "      <td>0.922</td>\n",
              "      <td>2012.0</td>\n",
              "    </tr>\n",
              "  </tbody>\n",
              "</table>\n",
              "</div>\n",
              "      <button class=\"colab-df-convert\" onclick=\"convertToInteractive('df-147cba3f-f0e9-47c3-b8d3-271e6739d1f1')\"\n",
              "              title=\"Convert this dataframe to an interactive table.\"\n",
              "              style=\"display:none;\">\n",
              "        \n",
              "  <svg xmlns=\"http://www.w3.org/2000/svg\" height=\"24px\"viewBox=\"0 0 24 24\"\n",
              "       width=\"24px\">\n",
              "    <path d=\"M0 0h24v24H0V0z\" fill=\"none\"/>\n",
              "    <path d=\"M18.56 5.44l.94 2.06.94-2.06 2.06-.94-2.06-.94-.94-2.06-.94 2.06-2.06.94zm-11 1L8.5 8.5l.94-2.06 2.06-.94-2.06-.94L8.5 2.5l-.94 2.06-2.06.94zm10 10l.94 2.06.94-2.06 2.06-.94-2.06-.94-.94-2.06-.94 2.06-2.06.94z\"/><path d=\"M17.41 7.96l-1.37-1.37c-.4-.4-.92-.59-1.43-.59-.52 0-1.04.2-1.43.59L10.3 9.45l-7.72 7.72c-.78.78-.78 2.05 0 2.83L4 21.41c.39.39.9.59 1.41.59.51 0 1.02-.2 1.41-.59l7.78-7.78 2.81-2.81c.8-.78.8-2.07 0-2.86zM5.41 20L4 18.59l7.72-7.72 1.47 1.35L5.41 20z\"/>\n",
              "  </svg>\n",
              "      </button>\n",
              "      \n",
              "  <style>\n",
              "    .colab-df-container {\n",
              "      display:flex;\n",
              "      flex-wrap:wrap;\n",
              "      gap: 12px;\n",
              "    }\n",
              "\n",
              "    .colab-df-convert {\n",
              "      background-color: #E8F0FE;\n",
              "      border: none;\n",
              "      border-radius: 50%;\n",
              "      cursor: pointer;\n",
              "      display: none;\n",
              "      fill: #1967D2;\n",
              "      height: 32px;\n",
              "      padding: 0 0 0 0;\n",
              "      width: 32px;\n",
              "    }\n",
              "\n",
              "    .colab-df-convert:hover {\n",
              "      background-color: #E2EBFA;\n",
              "      box-shadow: 0px 1px 2px rgba(60, 64, 67, 0.3), 0px 1px 3px 1px rgba(60, 64, 67, 0.15);\n",
              "      fill: #174EA6;\n",
              "    }\n",
              "\n",
              "    [theme=dark] .colab-df-convert {\n",
              "      background-color: #3B4455;\n",
              "      fill: #D2E3FC;\n",
              "    }\n",
              "\n",
              "    [theme=dark] .colab-df-convert:hover {\n",
              "      background-color: #434B5C;\n",
              "      box-shadow: 0px 1px 3px 1px rgba(0, 0, 0, 0.15);\n",
              "      filter: drop-shadow(0px 1px 2px rgba(0, 0, 0, 0.3));\n",
              "      fill: #FFFFFF;\n",
              "    }\n",
              "  </style>\n",
              "\n",
              "      <script>\n",
              "        const buttonEl =\n",
              "          document.querySelector('#df-147cba3f-f0e9-47c3-b8d3-271e6739d1f1 button.colab-df-convert');\n",
              "        buttonEl.style.display =\n",
              "          google.colab.kernel.accessAllowed ? 'block' : 'none';\n",
              "\n",
              "        async function convertToInteractive(key) {\n",
              "          const element = document.querySelector('#df-147cba3f-f0e9-47c3-b8d3-271e6739d1f1');\n",
              "          const dataTable =\n",
              "            await google.colab.kernel.invokeFunction('convertToInteractive',\n",
              "                                                     [key], {});\n",
              "          if (!dataTable) return;\n",
              "\n",
              "          const docLinkHtml = 'Like what you see? Visit the ' +\n",
              "            '<a target=\"_blank\" href=https://colab.research.google.com/notebooks/data_table.ipynb>data table notebook</a>'\n",
              "            + ' to learn more about interactive tables.';\n",
              "          element.innerHTML = '';\n",
              "          dataTable['output_type'] = 'display_data';\n",
              "          await google.colab.output.renderOutput(dataTable, element);\n",
              "          const docLink = document.createElement('div');\n",
              "          docLink.innerHTML = docLinkHtml;\n",
              "          element.appendChild(docLink);\n",
              "        }\n",
              "      </script>\n",
              "    </div>\n",
              "  </div>\n",
              "  "
            ]
          },
          "metadata": {}
        }
      ]
    },
    {
      "cell_type": "markdown",
      "source": [
        "#### **Generating a bootstrap distribution**\n"
      ],
      "metadata": {
        "id": "1XeN0yNX6TP8"
      }
    },
    {
      "cell_type": "code",
      "source": [
        "# Generate 1 bootstrap resample\n",
        "spotify_1_resample = spotify_sample.sample(frac=1, replace=True)\n",
        "\n",
        "# Print the resample\n",
        "display(spotify_1_resample.head(2))"
      ],
      "metadata": {
        "colab": {
          "base_uri": "https://localhost:8080/",
          "height": 315
        },
        "id": "okLHk9YwS1vZ",
        "outputId": "d579f213-c2a3-49cb-fe61-4534f08fa71c"
      },
      "execution_count": 116,
      "outputs": [
        {
          "output_type": "display_data",
          "data": {
            "text/plain": [
              "       acousticness                           artists  danceability  \\\n",
              "16694      0.173000             ['Donna The Buffalo']         0.667   \n",
              "19240      0.000659  ['Talib Kweli', 'Mary J. Blige']         0.732   \n",
              "\n",
              "       duration_ms  duration_minutes  energy  explicit  \\\n",
              "16694     262333.0          4.372217   0.465       0.0   \n",
              "19240     265107.0          4.418450   0.687       1.0   \n",
              "\n",
              "                           id  instrumentalness   key  liveness  loudness  \\\n",
              "16694  0wgEtvVLi4ZJZPvYLM3omN          0.000055   9.0    0.0936    -9.765   \n",
              "19240  67KzM4JakJxpVAW8IlI2N0          0.001170  11.0    0.2550    -6.866   \n",
              "\n",
              "       mode                          name  popularity release_date  \\\n",
              "16694   1.0  No Place Like The Right Time        34.0         2000   \n",
              "19240   0.0                         I Try        40.0   2004-01-01   \n",
              "\n",
              "       speechiness    tempo  valence    year  \n",
              "16694       0.0275  139.256    0.689  2000.0  \n",
              "19240       0.0765   96.740    0.474  2004.0  "
            ],
            "text/html": [
              "\n",
              "  <div id=\"df-aec5e591-7b8e-433e-8cd6-fdcbf7e8417e\">\n",
              "    <div class=\"colab-df-container\">\n",
              "      <div>\n",
              "<style scoped>\n",
              "    .dataframe tbody tr th:only-of-type {\n",
              "        vertical-align: middle;\n",
              "    }\n",
              "\n",
              "    .dataframe tbody tr th {\n",
              "        vertical-align: top;\n",
              "    }\n",
              "\n",
              "    .dataframe thead th {\n",
              "        text-align: right;\n",
              "    }\n",
              "</style>\n",
              "<table border=\"1\" class=\"dataframe\">\n",
              "  <thead>\n",
              "    <tr style=\"text-align: right;\">\n",
              "      <th></th>\n",
              "      <th>acousticness</th>\n",
              "      <th>artists</th>\n",
              "      <th>danceability</th>\n",
              "      <th>duration_ms</th>\n",
              "      <th>duration_minutes</th>\n",
              "      <th>energy</th>\n",
              "      <th>explicit</th>\n",
              "      <th>id</th>\n",
              "      <th>instrumentalness</th>\n",
              "      <th>key</th>\n",
              "      <th>liveness</th>\n",
              "      <th>loudness</th>\n",
              "      <th>mode</th>\n",
              "      <th>name</th>\n",
              "      <th>popularity</th>\n",
              "      <th>release_date</th>\n",
              "      <th>speechiness</th>\n",
              "      <th>tempo</th>\n",
              "      <th>valence</th>\n",
              "      <th>year</th>\n",
              "    </tr>\n",
              "  </thead>\n",
              "  <tbody>\n",
              "    <tr>\n",
              "      <th>16694</th>\n",
              "      <td>0.173000</td>\n",
              "      <td>['Donna The Buffalo']</td>\n",
              "      <td>0.667</td>\n",
              "      <td>262333.0</td>\n",
              "      <td>4.372217</td>\n",
              "      <td>0.465</td>\n",
              "      <td>0.0</td>\n",
              "      <td>0wgEtvVLi4ZJZPvYLM3omN</td>\n",
              "      <td>0.000055</td>\n",
              "      <td>9.0</td>\n",
              "      <td>0.0936</td>\n",
              "      <td>-9.765</td>\n",
              "      <td>1.0</td>\n",
              "      <td>No Place Like The Right Time</td>\n",
              "      <td>34.0</td>\n",
              "      <td>2000</td>\n",
              "      <td>0.0275</td>\n",
              "      <td>139.256</td>\n",
              "      <td>0.689</td>\n",
              "      <td>2000.0</td>\n",
              "    </tr>\n",
              "    <tr>\n",
              "      <th>19240</th>\n",
              "      <td>0.000659</td>\n",
              "      <td>['Talib Kweli', 'Mary J. Blige']</td>\n",
              "      <td>0.732</td>\n",
              "      <td>265107.0</td>\n",
              "      <td>4.418450</td>\n",
              "      <td>0.687</td>\n",
              "      <td>1.0</td>\n",
              "      <td>67KzM4JakJxpVAW8IlI2N0</td>\n",
              "      <td>0.001170</td>\n",
              "      <td>11.0</td>\n",
              "      <td>0.2550</td>\n",
              "      <td>-6.866</td>\n",
              "      <td>0.0</td>\n",
              "      <td>I Try</td>\n",
              "      <td>40.0</td>\n",
              "      <td>2004-01-01</td>\n",
              "      <td>0.0765</td>\n",
              "      <td>96.740</td>\n",
              "      <td>0.474</td>\n",
              "      <td>2004.0</td>\n",
              "    </tr>\n",
              "  </tbody>\n",
              "</table>\n",
              "</div>\n",
              "      <button class=\"colab-df-convert\" onclick=\"convertToInteractive('df-aec5e591-7b8e-433e-8cd6-fdcbf7e8417e')\"\n",
              "              title=\"Convert this dataframe to an interactive table.\"\n",
              "              style=\"display:none;\">\n",
              "        \n",
              "  <svg xmlns=\"http://www.w3.org/2000/svg\" height=\"24px\"viewBox=\"0 0 24 24\"\n",
              "       width=\"24px\">\n",
              "    <path d=\"M0 0h24v24H0V0z\" fill=\"none\"/>\n",
              "    <path d=\"M18.56 5.44l.94 2.06.94-2.06 2.06-.94-2.06-.94-.94-2.06-.94 2.06-2.06.94zm-11 1L8.5 8.5l.94-2.06 2.06-.94-2.06-.94L8.5 2.5l-.94 2.06-2.06.94zm10 10l.94 2.06.94-2.06 2.06-.94-2.06-.94-.94-2.06-.94 2.06-2.06.94z\"/><path d=\"M17.41 7.96l-1.37-1.37c-.4-.4-.92-.59-1.43-.59-.52 0-1.04.2-1.43.59L10.3 9.45l-7.72 7.72c-.78.78-.78 2.05 0 2.83L4 21.41c.39.39.9.59 1.41.59.51 0 1.02-.2 1.41-.59l7.78-7.78 2.81-2.81c.8-.78.8-2.07 0-2.86zM5.41 20L4 18.59l7.72-7.72 1.47 1.35L5.41 20z\"/>\n",
              "  </svg>\n",
              "      </button>\n",
              "      \n",
              "  <style>\n",
              "    .colab-df-container {\n",
              "      display:flex;\n",
              "      flex-wrap:wrap;\n",
              "      gap: 12px;\n",
              "    }\n",
              "\n",
              "    .colab-df-convert {\n",
              "      background-color: #E8F0FE;\n",
              "      border: none;\n",
              "      border-radius: 50%;\n",
              "      cursor: pointer;\n",
              "      display: none;\n",
              "      fill: #1967D2;\n",
              "      height: 32px;\n",
              "      padding: 0 0 0 0;\n",
              "      width: 32px;\n",
              "    }\n",
              "\n",
              "    .colab-df-convert:hover {\n",
              "      background-color: #E2EBFA;\n",
              "      box-shadow: 0px 1px 2px rgba(60, 64, 67, 0.3), 0px 1px 3px 1px rgba(60, 64, 67, 0.15);\n",
              "      fill: #174EA6;\n",
              "    }\n",
              "\n",
              "    [theme=dark] .colab-df-convert {\n",
              "      background-color: #3B4455;\n",
              "      fill: #D2E3FC;\n",
              "    }\n",
              "\n",
              "    [theme=dark] .colab-df-convert:hover {\n",
              "      background-color: #434B5C;\n",
              "      box-shadow: 0px 1px 3px 1px rgba(0, 0, 0, 0.15);\n",
              "      filter: drop-shadow(0px 1px 2px rgba(0, 0, 0, 0.3));\n",
              "      fill: #FFFFFF;\n",
              "    }\n",
              "  </style>\n",
              "\n",
              "      <script>\n",
              "        const buttonEl =\n",
              "          document.querySelector('#df-aec5e591-7b8e-433e-8cd6-fdcbf7e8417e button.colab-df-convert');\n",
              "        buttonEl.style.display =\n",
              "          google.colab.kernel.accessAllowed ? 'block' : 'none';\n",
              "\n",
              "        async function convertToInteractive(key) {\n",
              "          const element = document.querySelector('#df-aec5e591-7b8e-433e-8cd6-fdcbf7e8417e');\n",
              "          const dataTable =\n",
              "            await google.colab.kernel.invokeFunction('convertToInteractive',\n",
              "                                                     [key], {});\n",
              "          if (!dataTable) return;\n",
              "\n",
              "          const docLinkHtml = 'Like what you see? Visit the ' +\n",
              "            '<a target=\"_blank\" href=https://colab.research.google.com/notebooks/data_table.ipynb>data table notebook</a>'\n",
              "            + ' to learn more about interactive tables.';\n",
              "          element.innerHTML = '';\n",
              "          dataTable['output_type'] = 'display_data';\n",
              "          await google.colab.output.renderOutput(dataTable, element);\n",
              "          const docLink = document.createElement('div');\n",
              "          docLink.innerHTML = docLinkHtml;\n",
              "          element.appendChild(docLink);\n",
              "        }\n",
              "      </script>\n",
              "    </div>\n",
              "  </div>\n",
              "  "
            ]
          },
          "metadata": {}
        }
      ]
    },
    {
      "cell_type": "code",
      "source": [
        "# Generate 1 bootstrap resample\n",
        "spotify_1_resample = spotify_sample.sample(frac=1, replace=True)\n",
        "\n",
        "\n",
        "# Calculate mean danceability of resample\n",
        "mean_danceability_1 = np.mean(spotify_1_resample['danceability'])\n",
        "\n",
        "# Print the result\n",
        "print(mean_danceability_1)"
      ],
      "metadata": {
        "colab": {
          "base_uri": "https://localhost:8080/"
        },
        "id": "i7mKfwiPTEAI",
        "outputId": "f45689bb-ba23-46b4-883a-d8bd097a18d1"
      },
      "execution_count": 117,
      "outputs": [
        {
          "output_type": "stream",
          "name": "stdout",
          "text": [
            "0.5960335999999999\n"
          ]
        }
      ]
    },
    {
      "cell_type": "code",
      "source": [
        "# Replicate this 1000 times\n",
        "mean_danceability_1000 = []\n",
        "for i in range(1000):\n",
        "    mean_danceability_1000.append(\n",
        "        np.mean(spotify_sample.sample(frac=1, replace=True)['danceability']))\n",
        "\n",
        "# Print the result\n",
        "print(mean_danceability_1000)"
      ],
      "metadata": {
        "colab": {
          "base_uri": "https://localhost:8080/"
        },
        "id": "1M5aUVmeTTjR",
        "outputId": "20c80d2d-cf70-44ee-99d4-7484c0d65c2b"
      },
      "execution_count": 118,
      "outputs": [
        {
          "output_type": "stream",
          "name": "stdout",
          "text": [
            "[0.5973619, 0.6036469, 0.5982152, 0.5960334, 0.5974265000000001, 0.6000173999999999, 0.6001599999999999, 0.5969961, 0.5852787, 0.5915001, 0.5975928, 0.5914001000000001, 0.5931522, 0.5899354, 0.5882528, 0.5923827, 0.5929275, 0.5988841, 0.5902705, 0.6021525999999999, 0.5970943999999999, 0.5860986, 0.5992679000000001, 0.5923544999999999, 0.5926642, 0.5936959, 0.5982940999999999, 0.5903917000000001, 0.5970093999999999, 0.58696, 0.5917875, 0.5953942, 0.5971955, 0.5908053999999999, 0.5992468, 0.5916144000000001, 0.5913842, 0.5919134, 0.5912652, 0.5957511, 0.5887918, 0.5859605999999998, 0.6028255, 0.5926988, 0.5921428, 0.5868105, 0.5940314000000001, 0.589731, 0.5930794, 0.5943685000000001, 0.5901222, 0.5837316, 0.5900594, 0.5931687, 0.5933744, 0.5969041, 0.597241, 0.5927717, 0.5964366999999999, 0.5945147, 0.5941096, 0.5917658, 0.5946579999999999, 0.5939008, 0.5960310999999999, 0.5919571, 0.5811628, 0.6031692000000001, 0.5933142, 0.5939312999999999, 0.5972970000000001, 0.5965345, 0.5995364, 0.59802, 0.5846438, 0.5959224, 0.5881012, 0.5949511, 0.5917653, 0.6007326, 0.5940432000000001, 0.5937891, 0.5875594000000001, 0.5904895, 0.595611, 0.5936429, 0.5965908999999999, 0.5957041, 0.5984738, 0.5828078000000001, 0.5957417, 0.5977226, 0.5929092, 0.5995559, 0.5963542, 0.5908921, 0.5910641000000001, 0.5944531, 0.5947520999999999, 0.5985312, 0.603183, 0.5924342, 0.5932125000000001, 0.5909367, 0.5902733000000001, 0.5982617, 0.5915353, 0.5922836, 0.5878706, 0.6000749999999999, 0.5893892000000001, 0.599566, 0.5913402000000001, 0.5995849000000001, 0.5882643000000001, 0.5896753, 0.5963864999999999, 0.5876182, 0.5869582, 0.6010362, 0.5981316000000001, 0.5866876999999999, 0.5985606, 0.5830071, 0.6015481, 0.5934156, 0.5959711999999999, 0.5969990000000001, 0.5899096, 0.5943805999999999, 0.6004050999999999, 0.6047596, 0.5950351, 0.5863375, 0.5845419999999999, 0.5949882, 0.5913130000000001, 0.5999308, 0.5963232, 0.5917279999999999, 0.607856, 0.5905089, 0.5918340999999999, 0.5924662, 0.5938511, 0.5913292, 0.5973109, 0.5913373000000001, 0.5953242, 0.5931692000000001, 0.5925516, 0.5903643999999999, 0.6025716, 0.5990297, 0.5961743, 0.599822, 0.5917281000000001, 0.5937649, 0.5958115, 0.5982971, 0.5936226, 0.5973749, 0.5937159, 0.594913, 0.5890331, 0.5902926, 0.5959238, 0.5879534000000001, 0.5965062, 0.5959952, 0.5943372, 0.5941336000000002, 0.5946962, 0.5933361, 0.5972216, 0.5994965999999999, 0.5936806999999998, 0.5961438, 0.5953957000000001, 0.5972456, 0.5936279000000001, 0.5910895, 0.5965473, 0.5865488, 0.5886499, 0.5974427000000001, 0.5834133999999999, 0.5939621, 0.6081126, 0.6043491, 0.6007323999999999, 0.5976510999999999, 0.6020906, 0.6031277, 0.5939785999999999, 0.5946547000000001, 0.5885714000000001, 0.5962944, 0.594134, 0.5970879, 0.592984, 0.5888179, 0.5963969000000001, 0.5969471999999999, 0.5923989000000001, 0.5872326, 0.5966964, 0.5928326999999999, 0.5931586, 0.597371, 0.595193, 0.5862962, 0.5834353, 0.5882421, 0.5926956999999999, 0.5885634, 0.5888182999999999, 0.5902351, 0.5895726, 0.5888128, 0.5940595000000001, 0.5852644, 0.5964121, 0.5910766, 0.5938591000000001, 0.5918845, 0.5946861999999999, 0.5916117000000001, 0.5866983, 0.5922042000000002, 0.5933723, 0.5925949999999999, 0.5965564999999999, 0.5949404, 0.6068847, 0.5816802, 0.5892722000000001, 0.597596, 0.5917325000000001, 0.5968245000000001, 0.5926712, 0.6017013000000001, 0.589993, 0.5979898, 0.5974594000000001, 0.5971522, 0.5876359999999999, 0.590521, 0.5984212999999999, 0.5980991, 0.591808, 0.5955087000000001, 0.5988727, 0.5891171, 0.5979169999999999, 0.6003727, 0.5904974, 0.5922917, 0.5989347, 0.6023944999999998, 0.600973, 0.596345, 0.593764, 0.5910049000000002, 0.5996055, 0.5918311, 0.5926474, 0.5920216, 0.5955543999999999, 0.591518, 0.5865659000000001, 0.5972935, 0.5821802, 0.5865564000000001, 0.5964201, 0.5947992000000001, 0.6045345999999999, 0.5961222, 0.5971600000000001, 0.5955655, 0.6022645999999999, 0.5962475999999999, 0.5960030999999999, 0.5932668000000001, 0.6003962, 0.5936982000000001, 0.5994602, 0.5910939000000001, 0.5908146, 0.5887477999999999, 0.5971187, 0.5969865999999999, 0.6004522, 0.5931886, 0.5987051, 0.585751, 0.6058884, 0.5869623, 0.6032714000000001, 0.5933706999999999, 0.5867768, 0.5897962, 0.5976114, 0.5945640000000001, 0.5928142000000001, 0.5974982, 0.5893215, 0.5974951, 0.5919012, 0.5891841, 0.5880729, 0.5894761000000001, 0.5965751, 0.5924031, 0.60853, 0.5958125, 0.5955778, 0.6037852, 0.5980806, 0.5993702000000001, 0.5968334, 0.5897709999999999, 0.5892345, 0.5931068, 0.5911702, 0.59361, 0.5904061, 0.5948743, 0.5968861999999999, 0.5967014999999999, 0.5919116, 0.595117, 0.5936225999999999, 0.6018638, 0.5879046000000001, 0.5912007, 0.5851866, 0.5921881000000001, 0.588148, 0.5950844999999999, 0.5934285, 0.5962407, 0.5919605, 0.5874119, 0.6009024000000001, 0.5943670000000001, 0.6010947000000001, 0.5944076, 0.5909167, 0.6005330999999999, 0.5844767, 0.6010579, 0.5904287, 0.6025782, 0.5814532, 0.5924414, 0.5987161000000001, 0.5910346999999999, 0.5903586000000001, 0.5962455999999999, 0.6008786, 0.5965716999999999, 0.5877005000000001, 0.5916287, 0.5998688, 0.5967694, 0.5851632, 0.5978150000000001, 0.5964147000000001, 0.596146, 0.5863934999999999, 0.5841502000000001, 0.597693, 0.5961782, 0.6017374, 0.5960377, 0.5926502, 0.5876905, 0.5960224, 0.5925917, 0.5872837, 0.5921622, 0.5897316, 0.5936319, 0.5978497, 0.5959719, 0.6055598, 0.5904595, 0.5976577999999999, 0.5925157, 0.5971108, 0.5938114, 0.5904522, 0.5930836, 0.5904421999999999, 0.5891299, 0.5990042000000001, 0.6013422, 0.6040000999999999, 0.5965716, 0.5895027, 0.6031508000000001, 0.5933424, 0.5832623, 0.5933276, 0.6010254, 0.5927946999999999, 0.5925802000000001, 0.5874502, 0.5961795, 0.5967766999999999, 0.5931537000000001, 0.5945572, 0.5900371, 0.5940033, 0.5967536999999999, 0.5926327000000001, 0.598703, 0.5947775000000001, 0.5861032, 0.5985501999999999, 0.5966302000000001, 0.5856552, 0.596486, 0.5894184, 0.5984449, 0.6017861, 0.5857024, 0.5940319999999999, 0.5891564, 0.5917888, 0.59732, 0.5934726, 0.5953740000000001, 0.5802956, 0.5933145, 0.5967428, 0.5833706999999999, 0.5853041000000001, 0.5912164, 0.5960175, 0.5995942, 0.5929079999999999, 0.595658, 0.5934431, 0.5913668, 0.5878884000000001, 0.5956566, 0.5913345999999999, 0.5932066000000001, 0.5838880000000001, 0.5868652999999999, 0.5920990999999999, 0.5967345000000001, 0.5868262, 0.5998148000000001, 0.5932972999999999, 0.5931498000000001, 0.5914202000000001, 0.5883062, 0.5882132, 0.5935207, 0.5919881, 0.5900176, 0.5946261999999999, 0.6002893999999999, 0.5943018999999999, 0.596033, 0.596669, 0.5937256999999999, 0.5913034, 0.5905677, 0.5946988, 0.6026699, 0.5926619, 0.5976492000000001, 0.5949046000000001, 0.6033548000000001, 0.5878616999999999, 0.600913, 0.5845388, 0.6003082, 0.6016927000000001, 0.5986151, 0.5914809, 0.5950648, 0.5921727, 0.5829863, 0.5890201999999999, 0.5974674, 0.5968936, 0.6012472, 0.5939877999999998, 0.5997674, 0.5920070000000001, 0.5958144, 0.5938378, 0.5929737, 0.5987484999999999, 0.5960443, 0.6000014, 0.5890462, 0.5901495, 0.5956589, 0.5895451, 0.5911513, 0.5932999999999999, 0.5921147, 0.5844092, 0.5953528, 0.6033007, 0.5894780000000001, 0.5989099999999999, 0.5863113999999999, 0.5967511, 0.5872157, 0.6002774, 0.5905073, 0.5891451999999999, 0.5908257, 0.5902016000000001, 0.5866311000000001, 0.5959821999999999, 0.5976169, 0.5945280000000001, 0.5901213000000001, 0.6003837000000001, 0.5980708, 0.5873126999999999, 0.5908620000000001, 0.5925118, 0.5923856000000001, 0.5853046, 0.5979272, 0.6017122, 0.5886916999999999, 0.5887579, 0.5940931, 0.5952868000000001, 0.5918380999999999, 0.5877534999999999, 0.5968222000000001, 0.5909605, 0.594814, 0.5813299999999999, 0.6050651, 0.5940202, 0.5975218, 0.5995202, 0.6017385, 0.5935467, 0.5870236, 0.5970793, 0.5976724999999999, 0.5983134, 0.5972526, 0.60146, 0.601129, 0.5793341, 0.5958621000000001, 0.5866405, 0.6002541, 0.5949004, 0.5842285999999999, 0.5852329, 0.5970046, 0.5908179, 0.5987839, 0.5906418, 0.5937623, 0.6022584, 0.5949687, 0.6013034, 0.5936912, 0.5986923000000001, 0.5879895, 0.5960653, 0.60103, 0.5942817, 0.5853612, 0.5910284, 0.6000283, 0.5930806, 0.5899715999999999, 0.6001814999999999, 0.5916592999999999, 0.5941413999999999, 0.6018967000000001, 0.5954447, 0.5882264, 0.6007876, 0.5901431, 0.5917088, 0.6000557000000001, 0.5877416000000001, 0.5996002, 0.5894463, 0.5978316, 0.5871826000000001, 0.5927751, 0.5881732999999999, 0.6002182, 0.6051597, 0.5929612999999999, 0.5967569, 0.5815069, 0.6056852, 0.6028823, 0.5930091, 0.5941523, 0.5868091999999999, 0.5988306999999999, 0.5907153, 0.5944095, 0.5902216000000001, 0.5935245, 0.5880678, 0.6014336000000001, 0.5990263, 0.5764060999999999, 0.5869561, 0.5924409999999999, 0.5923505, 0.596917, 0.5881867999999999, 0.5873729000000001, 0.5999824000000001, 0.5894815, 0.5938236, 0.5861452, 0.5975969999999999, 0.5947996000000001, 0.5947656000000001, 0.5974809, 0.5960192, 0.5995055, 0.5911661, 0.6001029, 0.5979903999999999, 0.5935537999999999, 0.593034, 0.5861764, 0.593535, 0.5930987, 0.6059771, 0.5979494999999999, 0.5929502, 0.5871249000000001, 0.5997830000000001, 0.5995254, 0.5916682000000001, 0.5945928, 0.5933461, 0.5997468, 0.5882469000000001, 0.5866586, 0.5927674999999999, 0.600876, 0.5901736000000001, 0.5969991, 0.5871589999999999, 0.5921575, 0.5934682, 0.5961088999999999, 0.6058346, 0.5940934999999999, 0.5869758999999999, 0.6033610000000001, 0.5970154999999999, 0.5940144, 0.6027685, 0.5935008, 0.5897821000000001, 0.5934462, 0.5873057, 0.5930316, 0.5919491, 0.5912067, 0.5883029, 0.5865072, 0.5960715, 0.5914666, 0.5923082, 0.5976285999999998, 0.5961181999999999, 0.5924804999999999, 0.5884421999999999, 0.5886610000000001, 0.6009488000000001, 0.5959675999999999, 0.5999958, 0.5950122999999999, 0.5961554000000001, 0.5893189, 0.5952840000000001, 0.5976847000000001, 0.6029966999999999, 0.5932711999999999, 0.59826, 0.5921871999999999, 0.5933205, 0.5847456999999999, 0.5961155, 0.5885724999999999, 0.5940538000000001, 0.605113, 0.5934956, 0.5897697000000001, 0.5990034, 0.587361, 0.5955473, 0.5900825999999999, 0.5954847, 0.5984423999999999, 0.592226, 0.5874561, 0.5859062, 0.5888291, 0.594731, 0.5938156, 0.5881109999999998, 0.5962327000000001, 0.5883693000000001, 0.5920977000000001, 0.5965434000000001, 0.6020555000000001, 0.5941309, 0.5885027, 0.6009192000000001, 0.5900406, 0.5848951, 0.6000702, 0.5869742, 0.5943035999999999, 0.6063205, 0.5898116, 0.5951154000000001, 0.5877136000000001, 0.5887041, 0.5863759, 0.5870126, 0.5930176, 0.6009149, 0.5919943000000001, 0.5985135, 0.5944660000000002, 0.586685, 0.6014886, 0.6022453000000001, 0.5871423, 0.5884602, 0.5999994999999999, 0.5915365999999999, 0.5973176, 0.5948148, 0.6026876, 0.5917422999999998, 0.5891268, 0.591934, 0.5886355999999999, 0.596951, 0.5942103999999999, 0.5910846000000001, 0.5979732, 0.5888561, 0.5884431000000001, 0.5866952, 0.5868061, 0.5896407999999999, 0.5969021999999999, 0.5934155999999999, 0.5900635999999999, 0.5917125, 0.5920834, 0.5889986, 0.5981911, 0.5989498000000001, 0.5959502, 0.5953089, 0.5990586000000001, 0.5952700999999999, 0.5921788000000001, 0.598795, 0.5943352, 0.5879597999999999, 0.5896944000000001, 0.5949873999999999, 0.6071970999999999, 0.5999082, 0.5865151, 0.5983891, 0.5994196, 0.5960054, 0.5941887, 0.5905170000000001, 0.5887520999999999, 0.5938452, 0.593375, 0.5914645000000001, 0.5901695, 0.5951599, 0.6027817999999999, 0.5962225999999999, 0.5958100999999999, 0.5974771, 0.5927697000000001, 0.6006651, 0.6064276, 0.5923924999999999, 0.5991265, 0.5894707000000001, 0.5956615, 0.5967726, 0.5964259999999999, 0.5998387000000001, 0.5860502, 0.5968036, 0.5962364, 0.5958801, 0.5992056000000001, 0.5982799999999999, 0.6012105, 0.5993379999999999, 0.5953584000000001, 0.5953046, 0.5950941000000001, 0.5951574000000001, 0.5964486, 0.5929830999999999, 0.6013331000000001, 0.5957214, 0.585418, 0.5945788, 0.5989295, 0.5999893999999999, 0.5956662000000001, 0.5900207000000001, 0.59572, 0.5931126, 0.5857247, 0.5860984, 0.5986287, 0.5946081999999999, 0.5941819, 0.5923922, 0.587689, 0.5915689, 0.5904437, 0.5971299999999998, 0.5951365999999999, 0.5981639, 0.5908779999999999, 0.5881647, 0.5910508, 0.5880901000000001, 0.5952615000000001, 0.6025001999999999, 0.6025561, 0.5902415, 0.5914487, 0.5967785999999999, 0.6008363999999999, 0.5917179, 0.5901487, 0.5965256, 0.5974266, 0.6004746, 0.5893218, 0.5953284, 0.598298, 0.5870494, 0.5942884999999999, 0.5890466, 0.5871481, 0.5936020000000001, 0.5974918, 0.6052233000000001, 0.5901726, 0.5797253000000001, 0.6021960000000001, 0.5965931000000001, 0.5972003, 0.5970118999999999, 0.600168, 0.5936589999999999, 0.5911242, 0.5866627, 0.5937946000000001, 0.5906343000000001, 0.5889353, 0.586924, 0.5867517, 0.58646, 0.5920437999999999, 0.5969977000000001, 0.5957247999999999, 0.5958344, 0.5909443, 0.5954590999999999, 0.5924377000000001, 0.5947743000000001, 0.5847022, 0.5886618, 0.5940463, 0.5986044, 0.5927621999999999, 0.5865988, 0.5909784, 0.5949703999999999, 0.5949725000000001, 0.5851580000000001, 0.5881664000000001, 0.5965323000000001, 0.5913918000000001, 0.5966398999999999, 0.5935256000000001, 0.5889911999999999, 0.5982442, 0.5969086, 0.596086, 0.5908838, 0.6032801999999999, 0.5982983, 0.5976936, 0.5913544, 0.5865552, 0.5839310000000001, 0.596708, 0.6002206, 0.5910807, 0.5987639999999999, 0.5985712000000001, 0.5973129, 0.5960126, 0.6011212, 0.5988277000000001, 0.5914929999999999, 0.5873946, 0.5937252, 0.5974665, 0.5889118, 0.5876694, 0.5903031000000001, 0.5965666, 0.5857606999999999, 0.5994534, 0.5891681, 0.5947663, 0.5916024, 0.5929362, 0.6039315, 0.5947161999999999, 0.58762, 0.5893191, 0.588416, 0.5866309, 0.5894797, 0.5935071000000001, 0.6077645, 0.5977769, 0.5988150000000001, 0.5998799999999999, 0.5985696, 0.5963075, 0.5959302, 0.5866879, 0.5923441, 0.5968437, 0.6048026999999999, 0.5925870999999999, 0.5956911, 0.5981072000000001, 0.5981930999999999, 0.5913519, 0.589987, 0.5874541999999999, 0.5813646, 0.5951405, 0.5956956, 0.5880325000000001, 0.5905912000000001, 0.5881207999999999, 0.5976908000000001, 0.5939197999999999, 0.5956835, 0.5866836000000001, 0.5992218, 0.5973401, 0.5909626, 0.5896916000000001, 0.5950753999999999, 0.5817844999999999, 0.5936273, 0.597701, 0.5940293, 0.602552, 0.5956975, 0.5937475000000001, 0.5820428, 0.5915134000000001]\n"
          ]
        }
      ]
    },
    {
      "cell_type": "code",
      "source": [
        "# Replicate this 1000 times\n",
        "mean_danceability_1000 = []\n",
        "for i in range(1000):\n",
        "\tmean_danceability_1000.append(\n",
        "        np.mean(spotify_sample.sample(frac=1, replace=True)['danceability'])\n",
        "\t)\n",
        "\n",
        "# Draw a histogram of the resample means\n",
        "plt.hist(mean_danceability_1000)\n",
        "plt.show()"
      ],
      "metadata": {
        "colab": {
          "base_uri": "https://localhost:8080/",
          "height": 430
        },
        "id": "O-Zf7pmiTUUX",
        "outputId": "0d053ffd-e1a1-4299-be59-b6ee84c3d166"
      },
      "execution_count": 119,
      "outputs": [
        {
          "output_type": "display_data",
          "data": {
            "text/plain": [
              "<Figure size 640x480 with 1 Axes>"
            ],
            "image/png": "[encoded data removed]"
          },
          "metadata": {}
        }
      ]
    },
    {
      "cell_type": "markdown",
      "source": [
        "## **Comparing sampling and bootstrap distributions**\n"
      ],
      "metadata": {
        "id": "94fCUy-V6Ule"
      }
    },
    {
      "cell_type": "markdown",
      "source": [
        "#### **Sampling distribution vs. bootstrap distribution**\n"
      ],
      "metadata": {
        "id": "Knl-uY1F6YQk"
      }
    },
    {
      "cell_type": "code",
      "source": [
        "bootstrap_distribution = []\n",
        "\n",
        "# Generate a sampling distribution of 2000 replicates\n",
        "for i in range(2000):\n",
        "    bootstrap_distribution.append(\n",
        "        # Sample 500 rows and calculate the mean popularity\n",
        "        spotify_population.sample(n=500)['popularity'].mean())\n",
        "\n",
        "# Print the sampling distribution results\n",
        "print(bootstrap_distribution)"
      ],
      "metadata": {
        "colab": {
          "base_uri": "https://localhost:8080/"
        },
        "id": "yVIibCgcTY3-",
        "outputId": "86363088-f65f-4ffd-aaea-aa170b710142"
      },
      "execution_count": 130,
      "outputs": [
        {
          "output_type": "stream",
          "name": "stdout",
          "text": [
            "[55.048, 55.232, 54.418, 54.986, 53.358, 54.424, 54.822, 54.516, 54.444, 54.834, 55.78, 54.676, 55.454, 55.106, 55.338, 55.418, 54.224, 55.528, 55.236, 54.582, 54.902, 54.212, 54.542, 54.858, 54.72, 55.094, 54.548, 54.46, 54.686, 53.624, 55.6, 54.538, 55.444, 55.056, 54.64, 55.06, 54.892, 54.04, 55.326, 54.692, 54.668, 54.678, 55.63, 55.612, 55.198, 54.982, 54.778, 54.884, 55.256, 55.726, 54.492, 55.786, 54.524, 54.266, 54.32, 54.598, 54.884, 54.408, 54.458, 55.616, 54.65, 55.102, 54.276, 54.442, 54.48, 54.868, 55.254, 54.708, 55.918, 53.954, 54.64, 55.74, 55.304, 54.314, 55.302, 54.52, 54.396, 54.21, 53.7, 54.264, 54.788, 55.276, 54.344, 55.55, 54.412, 54.178, 55.096, 55.716, 54.016, 55.506, 54.418, 54.606, 54.486, 55.12, 54.304, 54.314, 54.76, 54.894, 54.702, 54.44, 55.126, 56.126, 55.154, 54.698, 54.464, 54.486, 53.81, 56.146, 55.056, 54.702, 54.024, 54.064, 54.962, 54.056, 54.628, 55.198, 55.018, 54.94, 55.82, 54.288, 54.77, 55.2, 54.404, 54.844, 55.066, 54.938, 54.404, 54.668, 55.258, 55.116, 54.748, 55.546, 54.782, 53.716, 54.29, 54.572, 55.168, 54.85, 54.884, 55.012, 54.91, 54.686, 54.516, 55.208, 54.556, 54.37, 55.566, 54.29, 54.618, 54.748, 55.306, 55.052, 55.288, 54.634, 54.836, 54.948, 55.006, 54.93, 54.624, 54.882, 54.07, 54.906, 54.78, 55.144, 55.188, 53.824, 55.02, 54.618, 54.21, 54.894, 55.04, 55.11, 54.858, 54.868, 55.034, 54.574, 54.32, 54.602, 55.384, 54.466, 54.652, 55.224, 56.434, 55.5, 54.898, 55.426, 54.68, 55.156, 55.348, 55.42, 55.746, 54.652, 54.682, 55.054, 55.188, 54.894, 54.428, 55.514, 55.558, 56.012, 54.152, 54.37, 55.424, 54.732, 54.86, 54.378, 54.992, 54.064, 54.812, 53.558, 54.766, 54.826, 54.742, 55.554, 55.054, 54.774, 55.004, 54.6, 55.02, 55.918, 55.274, 54.898, 54.128, 55.33, 54.238, 54.376, 55.138, 53.738, 55.102, 54.584, 55.964, 55.298, 55.434, 54.432, 55.414, 54.166, 55.25, 54.74, 54.88, 55.232, 55.676, 54.764, 54.436, 55.02, 55.488, 54.54, 54.298, 54.42, 54.284, 54.834, 55.158, 54.73, 54.932, 55.844, 55.604, 54.036, 55.204, 54.682, 54.162, 54.8, 54.066, 54.618, 55.388, 54.448, 54.844, 54.474, 55.138, 55.714, 56.226, 54.43, 55.29, 54.01, 54.294, 54.792, 54.366, 54.65, 54.492, 55.478, 55.708, 55.472, 55.15, 54.488, 55.866, 55.16, 55.172, 55.12, 53.808, 54.85, 55.758, 54.692, 54.416, 54.76, 55.122, 55.184, 54.758, 54.442, 54.072, 54.5, 55.246, 54.15, 54.26, 55.426, 55.178, 54.864, 54.948, 55.23, 55.274, 55.096, 54.328, 54.77, 55.094, 55.76, 54.144, 54.562, 55.062, 55.048, 54.768, 55.358, 55.05, 54.502, 54.746, 54.766, 55.516, 55.598, 55.992, 55.718, 55.876, 54.718, 54.988, 54.314, 54.218, 54.494, 55.092, 54.546, 55.056, 55.038, 55.064, 54.942, 54.936, 55.028, 54.062, 54.918, 55.128, 54.618, 55.382, 55.106, 55.414, 55.022, 55.272, 54.334, 56.034, 55.556, 55.204, 54.3, 54.504, 54.49, 54.644, 55.08, 55.5, 54.79, 55.114, 54.214, 54.926, 54.49, 55.692, 54.33, 55.438, 55.15, 54.692, 54.984, 55.22, 53.728, 55.302, 54.32, 54.322, 54.304, 54.036, 55.298, 55.602, 55.3, 55.21, 54.79, 54.476, 55.532, 54.528, 55.696, 54.694, 54.87, 55.732, 54.528, 53.924, 54.478, 54.938, 54.554, 54.75, 54.192, 55.354, 54.894, 54.47, 55.064, 54.42, 55.412, 55.526, 54.894, 55.414, 54.996, 55.06, 54.898, 55.318, 54.602, 55.148, 54.306, 55.516, 54.776, 54.782, 55.1, 54.438, 54.342, 55.062, 55.702, 55.318, 54.884, 55.528, 54.778, 55.312, 54.746, 55.216, 54.556, 54.508, 54.422, 54.348, 54.874, 54.518, 55.18, 55.416, 55.53, 54.436, 54.578, 54.77, 54.912, 55.374, 55.48, 54.466, 55.616, 55.07, 55.112, 54.936, 55.312, 54.804, 55.294, 54.764, 54.956, 55.31, 54.95, 54.536, 54.914, 53.97, 55.25, 55.064, 54.782, 55.206, 54.83, 55.178, 55.206, 54.896, 54.42, 54.216, 54.856, 54.73, 55.256, 55.144, 55.652, 54.974, 54.844, 54.73, 55.8, 54.848, 55.608, 55.086, 55.322, 54.078, 54.62, 55.064, 54.912, 55.236, 55.06, 54.108, 55.464, 54.094, 54.222, 54.232, 55.816, 54.664, 55.546, 55.39, 55.19, 55.022, 54.776, 54.786, 55.066, 55.484, 54.882, 54.214, 54.494, 54.318, 54.794, 54.596, 54.804, 55.292, 54.866, 54.896, 55.124, 54.424, 54.362, 55.5, 55.606, 55.08, 54.944, 54.988, 55.522, 54.53, 54.41, 55.396, 54.512, 54.99, 54.9, 54.79, 56.302, 54.314, 54.596, 54.534, 55.264, 54.2, 54.172, 54.484, 54.46, 54.882, 54.964, 55.008, 54.624, 54.812, 54.212, 55.356, 54.914, 54.366, 54.768, 55.94, 55.494, 54.508, 55.044, 54.382, 55.98, 54.538, 54.69, 54.528, 54.2, 54.63, 54.218, 54.588, 54.914, 54.508, 55.094, 54.07, 53.964, 55.214, 55.118, 54.35, 54.236, 54.48, 54.666, 55.154, 54.762, 54.508, 55.166, 54.696, 54.718, 54.824, 54.982, 55.016, 55.754, 54.844, 55.996, 55.206, 54.606, 55.25, 55.152, 54.09, 54.604, 54.578, 55.248, 55.516, 55.196, 54.932, 54.354, 54.242, 55.686, 55.528, 54.408, 55.14, 54.66, 54.818, 54.25, 54.712, 54.818, 55.964, 54.966, 55.598, 54.804, 54.624, 54.684, 54.644, 54.17, 54.938, 54.324, 54.336, 54.8, 54.458, 54.832, 55.582, 54.744, 54.49, 55.216, 55.346, 54.036, 54.232, 54.824, 55.1, 54.176, 55.28, 54.736, 56.11, 54.564, 54.138, 54.392, 55.824, 54.778, 54.542, 54.988, 55.63, 54.37, 55.18, 54.95, 55.042, 55.27, 55.094, 54.372, 54.38, 54.692, 54.65, 54.592, 54.514, 54.502, 53.826, 54.392, 54.778, 54.824, 54.994, 54.028, 54.74, 54.912, 54.496, 54.732, 54.994, 55.06, 53.628, 55.138, 54.27, 55.066, 55.11, 55.054, 54.82, 55.566, 55.196, 54.822, 55.296, 54.028, 54.864, 54.994, 54.892, 54.21, 54.908, 54.778, 54.766, 54.844, 54.616, 54.966, 53.908, 54.42, 54.426, 55.492, 54.62, 55.164, 55.26, 56.076, 54.828, 54.894, 55.394, 56.016, 55.204, 54.464, 54.832, 54.558, 54.844, 54.774, 53.952, 55.654, 54.646, 55.21, 55.462, 55.07, 55.274, 54.904, 54.702, 55.12, 55.286, 55.448, 55.116, 54.532, 55.01, 54.544, 54.996, 54.426, 53.974, 55.688, 54.876, 55.136, 54.928, 54.08, 54.91, 54.694, 54.392, 55.244, 54.268, 54.48, 55.262, 54.746, 54.888, 54.788, 54.674, 55.004, 55.276, 54.968, 55.712, 55.65, 55.484, 54.276, 55.232, 54.084, 53.936, 55.434, 55.344, 55.266, 55.324, 54.79, 55.198, 54.744, 55.16, 54.94, 54.826, 54.954, 55.454, 54.77, 53.796, 55.398, 53.686, 54.542, 54.898, 55.138, 54.89, 55.054, 54.27, 55.038, 54.21, 54.668, 55.99, 55.14, 55.652, 54.948, 54.434, 55.224, 54.278, 54.958, 55.06, 54.112, 54.83, 53.876, 53.954, 54.378, 54.726, 53.858, 55.7, 55.47, 54.99, 55.198, 54.914, 55.182, 55.082, 55.628, 54.78, 54.326, 54.758, 55.532, 54.574, 55.15, 54.518, 55.008, 55.514, 54.416, 54.52, 54.472, 54.788, 53.706, 54.696, 54.158, 55.114, 55.118, 55.186, 55.58, 54.128, 54.604, 54.782, 55.096, 55.334, 54.24, 55.568, 55.536, 54.856, 54.406, 55.254, 53.882, 55.352, 54.886, 55.082, 54.998, 54.544, 54.808, 54.412, 55.322, 55.226, 54.396, 54.278, 54.94, 54.554, 54.144, 54.93, 54.366, 54.34, 55.5, 54.936, 55.276, 53.752, 54.7, 54.656, 54.558, 55.304, 55.718, 54.348, 54.75, 54.83, 54.99, 53.918, 54.458, 55.184, 55.51, 54.908, 54.184, 54.6, 55.64, 54.236, 55.282, 55.574, 54.422, 55.014, 54.806, 55.88, 54.146, 55.662, 54.968, 55.426, 55.442, 55.126, 55.92, 54.208, 54.166, 55.356, 55.048, 54.972, 55.386, 55.1, 55.128, 54.378, 54.878, 54.278, 54.256, 54.98, 55.314, 54.836, 55.654, 55.284, 55.76, 54.682, 54.812, 55.29, 54.652, 55.532, 55.238, 55.324, 54.582, 54.54, 54.87, 55.164, 54.824, 55.364, 54.498, 54.61, 55.122, 55.244, 54.068, 55.704, 55.134, 55.156, 55.542, 54.862, 55.768, 53.94, 54.678, 55.02, 54.332, 55.342, 54.464, 55.194, 53.78, 55.014, 54.328, 55.404, 54.342, 54.674, 55.282, 55.118, 54.84, 54.726, 54.55, 55.438, 53.924, 54.806, 55.382, 54.806, 54.46, 55.506, 55.12, 54.756, 55.322, 54.154, 55.09, 55.03, 54.628, 54.316, 55.774, 54.364, 54.782, 54.866, 54.878, 54.878, 54.822, 54.036, 54.312, 54.422, 55.246, 55.458, 55.37, 55.114, 54.712, 55.52, 54.428, 54.222, 55.114, 55.018, 55.354, 55.308, 55.382, 54.3, 54.636, 53.974, 55.082, 55.376, 55.298, 54.688, 54.272, 53.998, 54.648, 54.424, 54.292, 55.164, 55.348, 54.75, 55.688, 53.94, 54.604, 55.166, 54.834, 54.788, 55.0, 55.218, 54.712, 55.026, 54.052, 55.008, 54.348, 54.946, 54.076, 55.102, 55.132, 54.47, 53.83, 54.936, 54.982, 55.088, 55.316, 54.892, 55.24, 54.502, 55.57, 54.774, 55.268, 55.004, 54.606, 54.834, 54.42, 54.796, 54.734, 54.24, 54.444, 55.186, 55.114, 55.042, 54.26, 55.574, 54.674, 55.066, 54.864, 55.414, 54.178, 55.32, 54.908, 54.672, 54.786, 55.218, 55.232, 55.538, 55.022, 54.284, 54.754, 55.066, 54.492, 54.452, 54.744, 55.688, 55.082, 55.33, 54.558, 54.38, 54.644, 54.5, 54.7, 54.75, 54.862, 54.64, 54.924, 55.262, 54.75, 54.714, 55.412, 55.846, 55.5, 54.304, 54.746, 55.084, 54.574, 55.374, 55.072, 55.078, 54.456, 55.156, 54.236, 54.732, 55.424, 53.962, 55.398, 55.554, 54.406, 54.808, 53.932, 54.842, 54.98, 54.966, 53.748, 54.11, 54.736, 54.312, 55.018, 54.938, 55.168, 54.938, 55.18, 54.742, 54.972, 54.706, 55.514, 54.08, 54.626, 55.312, 54.452, 54.352, 54.866, 55.566, 53.56, 54.662, 54.496, 54.814, 55.15, 55.35, 54.904, 54.268, 54.79, 55.552, 54.722, 55.384, 54.874, 54.888, 54.232, 54.562, 54.608, 54.66, 54.806, 54.934, 55.348, 54.062, 54.23, 54.7, 54.87, 54.88, 55.376, 54.972, 54.612, 54.392, 54.3, 54.538, 55.462, 54.706, 55.266, 54.72, 55.282, 54.712, 55.074, 54.51, 54.246, 55.608, 55.478, 55.036, 54.524, 54.54, 55.02, 54.644, 54.9, 53.518, 55.184, 54.426, 55.212, 55.728, 55.168, 54.502, 54.018, 54.83, 55.332, 54.382, 55.228, 55.872, 54.646, 55.122, 55.824, 53.958, 55.366, 55.282, 54.15, 54.84, 54.99, 55.188, 54.594, 55.448, 55.47, 53.76, 55.0, 54.964, 54.182, 54.418, 55.228, 54.548, 55.31, 54.91, 54.952, 54.044, 54.98, 54.278, 54.49, 54.052, 53.958, 54.746, 54.012, 54.442, 54.354, 55.454, 55.266, 54.834, 54.25, 54.986, 54.818, 54.596, 55.308, 55.444, 54.584, 54.808, 55.078, 55.074, 54.59, 55.22, 55.004, 55.0, 54.644, 55.466, 55.702, 55.238, 54.85, 54.69, 55.126, 53.976, 55.138, 54.982, 53.664, 54.794, 54.744, 55.89, 55.044, 54.888, 54.892, 54.892, 53.74, 55.046, 54.33, 54.048, 54.834, 55.154, 54.69, 55.034, 55.21, 55.312, 54.698, 54.632, 54.896, 55.01, 55.186, 54.146, 54.728, 54.128, 54.258, 54.94, 54.662, 54.918, 54.15, 54.528, 54.656, 54.52, 54.398, 54.394, 55.52, 54.254, 54.25, 54.828, 55.316, 54.896, 55.604, 55.226, 54.596, 55.064, 54.88, 54.188, 54.706, 55.228, 54.884, 54.868, 54.098, 54.658, 54.614, 54.852, 54.714, 54.762, 54.196, 54.452, 55.414, 54.66, 54.706, 54.2, 55.106, 56.066, 54.79, 54.952, 54.746, 54.81, 55.798, 54.45, 54.304, 55.198, 55.164, 55.27, 54.8, 54.762, 54.36, 54.81, 54.736, 54.808, 53.836, 53.706, 54.732, 54.528, 55.866, 54.83, 54.254, 54.13, 54.254, 54.552, 54.256, 55.812, 54.744, 54.118, 54.478, 54.236, 55.68, 54.962, 54.458, 55.022, 54.12, 55.226, 54.154, 53.988, 54.414, 53.824, 54.146, 54.536, 55.182, 55.3, 55.07, 55.276, 55.242, 55.216, 55.464, 55.072, 54.6, 54.486, 54.914, 54.29, 54.926, 54.57, 55.294, 55.34, 54.464, 54.314, 54.28, 54.54, 54.44, 55.152, 54.828, 55.198, 54.93, 54.128, 55.658, 55.04, 54.32, 54.334, 55.494, 54.334, 54.562, 55.68, 54.732, 54.452, 55.144, 55.162, 53.834, 54.542, 54.56, 55.182, 55.354, 54.47, 54.958, 54.53, 55.728, 54.714, 54.266, 55.224, 55.28, 55.432, 55.358, 54.682, 54.542, 54.946, 54.746, 55.206, 54.066, 55.412, 55.704, 54.42, 54.552, 55.718, 54.524, 54.906, 54.762, 55.204, 54.496, 55.03, 54.72, 54.252, 55.534, 54.316, 54.098, 55.438, 54.722, 54.692, 54.93, 54.434, 54.372, 54.956, 54.84, 53.818, 55.29, 55.382, 56.372, 54.692, 55.33, 54.47, 55.828, 54.778, 54.206, 55.306, 54.956, 54.78, 55.014, 55.558, 55.026, 54.854, 53.922, 55.218, 54.244, 55.08, 54.152, 54.88, 55.674, 54.328, 55.436, 55.062, 55.094, 54.156, 54.916, 55.026, 55.384, 54.134, 54.804, 54.78, 54.858, 54.888, 54.95, 55.37, 54.802, 54.862, 55.766, 55.284, 54.38, 55.312, 54.59, 54.69, 54.774, 54.908, 54.374, 55.35, 55.264, 54.232, 54.498, 55.42, 54.73, 55.562, 54.972, 55.218, 55.016, 54.386, 55.182, 54.268, 54.62, 55.694, 54.152, 55.144, 54.676, 53.766, 54.938, 55.074, 54.548, 54.8, 54.816, 54.762, 54.014, 55.336, 54.252, 55.792, 55.104, 55.426, 55.058, 54.754, 55.322, 55.814, 54.478, 53.814, 54.128, 55.066, 55.332, 54.828, 54.65, 54.244, 54.714, 54.78, 54.732, 55.234, 55.144, 54.868, 54.894, 54.976, 55.312, 54.274, 54.916, 54.332, 53.92, 55.184, 54.99, 54.672, 54.516, 54.546, 54.388, 54.34, 55.54, 54.438, 54.534, 55.078, 55.736, 53.716, 55.634, 55.292, 55.174, 54.274, 53.95, 54.864, 55.22, 54.748, 54.294, 55.362, 55.368, 55.282, 53.73, 55.428, 55.126, 54.838, 54.476, 55.442, 54.934, 55.816, 54.826, 55.486, 55.972, 54.666, 53.978, 55.052, 56.308, 55.3, 54.772, 55.082, 54.798, 54.59, 55.14, 55.47, 54.844, 54.898, 54.99, 55.21, 54.044, 54.852, 54.734, 54.294, 54.934, 54.536, 54.86, 55.198, 54.5, 54.132, 54.916, 54.62, 55.514, 55.304, 55.474, 55.278, 53.976, 55.3, 54.84, 54.38, 55.244, 54.756, 55.286, 55.332, 54.914, 54.51, 55.208, 55.146, 54.77, 55.49, 54.872, 54.838, 54.686, 54.926, 54.846, 53.896, 55.308, 55.672, 54.806, 54.124, 53.996, 54.698, 55.03, 54.832, 54.244, 54.814, 55.066, 55.416, 54.626, 54.166, 55.052, 54.924, 54.376, 55.56, 54.192, 55.874, 54.794, 54.472, 54.908, 54.69, 55.428, 54.886, 54.548, 54.346, 55.764, 54.718, 54.276, 54.39, 54.408, 54.652, 54.422, 54.86, 54.554, 54.758, 55.058, 54.892, 54.962, 55.436, 54.87, 54.94, 54.496, 55.064, 54.994, 54.514, 54.648, 54.312, 55.42, 54.552, 55.138, 55.79, 54.642, 54.43, 54.59, 54.018, 55.28, 54.4, 54.876, 54.474, 54.814, 54.488, 55.202, 54.33, 54.67, 54.022, 54.718, 54.454, 55.596, 54.972, 54.894, 55.09, 54.738, 54.442, 54.57, 54.206, 55.136, 54.83, 55.372, 53.874, 55.154, 54.554, 54.664, 54.988, 54.448, 55.21, 54.49, 55.942, 54.442, 54.968, 54.63, 55.228, 54.786, 55.346, 55.01, 55.086, 54.746, 55.028, 54.496, 55.346, 54.548, 54.994, 55.014, 55.224, 53.978, 55.104, 55.036, 55.056, 55.488, 54.972, 54.828, 55.458, 54.636, 55.076, 55.422, 55.708, 53.894, 55.02, 55.106, 54.96, 54.788, 53.992, 54.322, 55.038, 54.432, 55.136, 53.724, 54.85, 55.084, 54.646, 55.412, 55.372, 53.94, 54.246, 54.678, 54.46, 55.83, 54.844, 54.918, 54.052, 54.59, 54.326, 55.858, 55.182, 54.744, 54.904, 55.032, 54.978, 54.946, 54.07, 54.332, 53.498, 55.248, 54.64, 55.676, 54.71, 55.252, 55.306, 55.294, 54.436, 54.2, 54.382, 54.738, 54.296, 55.048, 54.79, 54.208, 54.136, 54.882, 54.334, 55.084, 55.002, 54.63, 55.276, 54.446, 55.262, 55.658, 53.57, 55.24, 54.45, 54.06, 54.616, 54.434, 54.97, 55.866, 55.378, 54.592, 55.014, 55.692, 53.498, 53.898, 55.998, 55.188, 53.944, 55.21, 56.096, 55.08, 53.936, 55.1, 55.118, 54.516, 55.272, 55.754, 54.426, 54.104, 54.928, 55.318, 55.0, 54.572, 55.266, 55.132, 55.298, 55.04, 55.156, 54.58, 55.686, 54.968, 54.624, 54.736, 55.53, 55.216, 55.344, 54.942, 54.14, 54.842, 55.238, 55.252, 54.924, 54.434, 55.97, 54.56, 54.94, 54.914, 55.044, 55.15, 55.228, 55.022, 54.324, 53.892, 54.288, 55.262, 54.662, 54.098, 55.806, 53.946, 54.204, 55.352, 54.32, 55.066, 54.954, 55.16, 54.802, 54.458, 55.392, 55.168, 54.774, 54.944, 55.26, 55.322, 55.42, 54.37, 55.296, 55.018, 55.124, 55.112, 54.874, 54.67, 55.376, 55.146, 54.896, 54.724, 54.832, 55.218, 54.624, 55.574, 54.39, 55.324, 54.946, 54.508, 55.292, 55.034, 54.594, 54.184, 54.756, 54.948, 55.116, 54.466, 54.952, 55.026, 54.014, 56.222, 55.746, 54.424, 54.942, 55.432, 54.496, 54.546, 54.566, 54.834, 54.552, 55.034, 54.758, 55.694, 54.092, 54.938, 55.492, 54.578, 55.18, 55.034, 54.674, 54.27, 55.604, 54.972, 54.622, 54.718, 55.276, 55.018, 55.186, 54.996, 54.462, 55.334, 55.12, 55.378, 54.032, 54.882, 55.046, 55.284, 55.304, 54.894, 55.27, 54.832, 55.096, 54.864, 54.448, 55.128, 54.52, 54.31, 55.038, 53.74, 55.62, 54.684, 54.902, 54.748, 55.33, 54.484, 54.636, 54.684, 55.018, 54.646, 54.84, 55.472, 54.62, 54.81, 54.16, 55.712, 55.484, 55.022, 55.182, 54.538, 56.036, 54.842, 54.764, 54.11, 55.366, 54.992, 54.494, 53.744, 55.224, 54.844, 55.072, 54.392, 54.446, 54.082, 54.53, 55.304]\n"
          ]
        }
      ]
    },
    {
      "cell_type": "markdown",
      "source": [
        "**with replacement**"
      ],
      "metadata": {
        "id": "p_n7XTr9TwHP"
      }
    },
    {
      "cell_type": "code",
      "source": [
        "bootstrap_distribution = []\n",
        "\n",
        "# Generate a bootstrap distribution of 2000 replicates\n",
        "for i in range(2000):\n",
        "    bootstrap_distribution.append(\n",
        "    \t# Resample 500 rows and calculate the mean popularity\n",
        "    \tspotify_sample.sample(n=500, replace=True)['popularity'].mean()\n",
        "    )\n",
        "\n",
        "# Print the bootstrap distribution results\n",
        "print(bootstrap_distribution)"
      ],
      "metadata": {
        "colab": {
          "base_uri": "https://localhost:8080/"
        },
        "id": "AEvETlixTkBd",
        "outputId": "ebe338a7-4697-48a1-d649-3edfb0343f26"
      },
      "execution_count": 131,
      "outputs": [
        {
          "output_type": "stream",
          "name": "stdout",
          "text": [
            "[54.682, 54.848, 54.56, 55.0, 55.146, 55.592, 55.066, 54.632, 55.68, 55.334, 55.052, 55.588, 55.478, 55.382, 55.754, 55.224, 55.006, 55.192, 55.928, 55.22, 54.692, 55.944, 55.422, 54.782, 55.58, 54.862, 54.706, 55.008, 54.738, 55.266, 56.488, 54.6, 55.502, 56.01, 54.038, 55.032, 55.1, 54.622, 55.016, 54.7, 55.17, 54.958, 55.984, 54.382, 54.718, 55.026, 54.854, 54.37, 54.268, 54.722, 54.786, 56.16, 54.974, 55.68, 55.782, 55.396, 54.462, 55.04, 54.904, 55.364, 55.69, 55.126, 55.832, 54.308, 55.066, 54.308, 54.878, 55.634, 55.686, 54.89, 54.9, 54.556, 54.58, 55.278, 54.76, 55.208, 55.754, 55.03, 54.692, 54.274, 55.26, 55.576, 54.3, 54.134, 55.558, 55.156, 55.45, 54.99, 55.004, 54.964, 55.332, 55.462, 55.328, 55.522, 55.058, 55.002, 55.338, 55.422, 54.836, 54.614, 55.018, 55.5, 54.988, 55.268, 55.14, 54.922, 55.656, 55.092, 54.414, 55.74, 55.246, 54.504, 54.748, 55.31, 54.728, 55.922, 55.598, 54.82, 54.086, 55.374, 55.514, 55.24, 55.248, 54.982, 55.112, 55.25, 54.204, 54.45, 55.152, 55.136, 55.698, 55.206, 55.148, 54.872, 54.686, 55.56, 55.636, 55.038, 55.774, 54.854, 54.916, 54.482, 54.804, 54.996, 54.336, 55.472, 55.466, 55.066, 55.144, 55.272, 55.316, 54.782, 54.168, 54.258, 55.37, 54.924, 54.352, 54.8, 55.246, 55.764, 55.316, 54.66, 54.908, 54.862, 54.662, 54.336, 55.756, 55.122, 55.136, 54.52, 55.8, 54.586, 54.87, 55.334, 54.946, 55.214, 54.952, 54.818, 54.688, 54.536, 55.894, 55.042, 55.154, 54.468, 55.06, 54.558, 55.432, 55.168, 55.254, 54.9, 55.434, 54.62, 54.366, 55.07, 53.78, 55.738, 54.786, 54.812, 54.244, 54.218, 54.432, 55.442, 54.868, 55.588, 55.232, 55.784, 54.342, 55.274, 54.358, 54.906, 54.846, 55.836, 55.098, 55.144, 55.86, 55.698, 55.338, 55.248, 55.578, 54.186, 54.452, 54.784, 54.548, 54.386, 55.678, 55.882, 54.87, 54.876, 55.632, 54.266, 55.44, 53.874, 55.07, 54.558, 55.216, 54.846, 55.19, 54.94, 55.076, 55.036, 55.11, 55.56, 54.864, 56.462, 54.722, 55.744, 54.798, 54.002, 54.256, 55.446, 55.36, 55.188, 55.548, 55.03, 55.228, 55.66, 54.94, 54.902, 55.442, 55.274, 55.29, 55.576, 55.148, 55.402, 54.996, 56.032, 55.316, 55.45, 55.41, 54.772, 55.288, 55.836, 54.962, 54.372, 55.224, 54.59, 55.634, 54.642, 55.168, 55.33, 54.85, 54.988, 55.662, 55.232, 54.794, 55.434, 55.16, 55.024, 55.416, 55.342, 54.554, 55.44, 55.718, 54.998, 55.78, 55.672, 54.702, 55.1, 55.054, 54.922, 55.974, 55.15, 54.656, 55.11, 55.836, 55.472, 54.388, 54.456, 54.888, 55.122, 55.464, 54.954, 55.142, 55.562, 55.054, 56.118, 54.978, 54.596, 54.662, 55.364, 55.184, 54.844, 55.824, 55.646, 54.446, 54.966, 55.074, 54.51, 56.302, 55.028, 54.75, 55.702, 55.67, 55.412, 55.14, 54.988, 55.38, 54.518, 56.134, 54.306, 54.83, 56.128, 55.118, 55.122, 55.202, 55.686, 55.07, 55.394, 54.802, 54.622, 55.01, 55.666, 55.296, 55.422, 54.898, 54.788, 54.264, 55.528, 54.758, 55.618, 54.748, 55.072, 54.574, 55.262, 55.072, 55.528, 54.546, 55.338, 55.578, 55.006, 54.888, 55.132, 54.686, 54.222, 55.124, 54.86, 54.884, 55.168, 54.682, 55.296, 55.22, 55.756, 55.06, 54.872, 54.762, 55.76, 55.07, 55.104, 54.744, 54.792, 53.902, 55.44, 54.964, 54.912, 54.554, 54.556, 55.162, 55.88, 54.606, 55.484, 54.462, 55.724, 55.162, 54.984, 55.032, 55.03, 55.678, 54.754, 54.972, 54.96, 54.972, 55.63, 55.914, 54.902, 55.666, 54.536, 54.588, 55.012, 54.508, 55.45, 55.986, 55.41, 55.848, 55.374, 55.196, 55.048, 55.64, 54.534, 55.148, 55.398, 55.688, 54.778, 55.188, 55.538, 55.282, 54.858, 55.592, 55.218, 55.578, 54.658, 54.894, 56.066, 54.632, 54.64, 54.602, 55.6, 55.198, 55.542, 54.61, 55.242, 55.61, 55.494, 54.81, 55.174, 55.366, 55.112, 55.39, 55.33, 55.212, 54.22, 54.546, 54.508, 54.876, 55.218, 54.926, 54.94, 55.256, 55.008, 54.832, 55.956, 55.25, 54.76, 55.086, 55.652, 55.542, 54.664, 55.194, 55.106, 55.462, 54.134, 55.074, 55.132, 54.682, 54.552, 55.632, 55.49, 55.27, 54.5, 55.768, 55.47, 55.674, 53.824, 53.98, 54.77, 55.358, 55.68, 55.592, 55.292, 55.108, 55.216, 55.854, 54.934, 55.162, 55.31, 53.948, 54.282, 54.932, 54.646, 55.376, 55.58, 54.994, 54.672, 55.146, 54.52, 54.86, 54.88, 55.006, 55.426, 55.698, 55.326, 55.57, 55.218, 55.292, 54.436, 55.402, 54.706, 54.978, 54.286, 54.828, 55.964, 55.724, 54.492, 55.112, 55.198, 54.45, 54.952, 54.476, 55.078, 54.586, 56.23, 56.002, 55.524, 54.754, 55.656, 55.328, 55.186, 55.488, 55.944, 55.244, 55.536, 54.75, 55.184, 54.774, 55.378, 55.424, 54.736, 55.414, 55.6, 55.2, 55.35, 55.97, 55.106, 55.9, 56.004, 54.624, 54.916, 54.496, 55.388, 54.644, 54.472, 55.838, 54.696, 54.684, 55.37, 53.978, 55.11, 54.6, 54.994, 54.746, 54.448, 54.678, 54.766, 54.606, 55.218, 55.048, 54.72, 54.338, 54.444, 55.708, 55.844, 54.82, 54.594, 54.834, 55.198, 54.14, 55.282, 54.746, 55.436, 55.426, 54.54, 55.188, 53.95, 55.074, 55.166, 55.14, 54.814, 54.926, 55.354, 56.108, 55.638, 54.77, 54.84, 54.714, 55.286, 55.236, 55.73, 56.258, 55.524, 55.662, 54.776, 54.17, 55.326, 55.202, 55.102, 54.976, 56.102, 55.122, 55.366, 54.384, 54.712, 54.012, 55.226, 55.28, 55.044, 55.04, 55.298, 55.016, 55.818, 55.466, 54.534, 55.554, 54.67, 55.24, 54.17, 55.466, 55.432, 55.374, 55.01, 55.626, 55.616, 55.39, 54.95, 54.7, 55.586, 54.876, 55.042, 54.812, 55.554, 54.918, 55.392, 54.278, 55.264, 55.144, 55.044, 54.858, 54.522, 54.49, 55.716, 54.326, 54.8, 55.696, 55.362, 55.584, 54.75, 55.356, 55.082, 55.408, 55.15, 55.172, 55.238, 55.574, 53.728, 54.858, 54.892, 54.526, 54.63, 55.244, 54.81, 54.896, 54.826, 55.226, 55.226, 54.844, 54.408, 54.426, 55.36, 55.32, 54.874, 54.948, 54.812, 54.232, 56.374, 54.992, 55.196, 55.242, 54.428, 55.38, 54.438, 54.85, 54.988, 55.624, 54.956, 54.27, 55.372, 55.068, 54.472, 55.756, 54.802, 55.762, 54.364, 55.158, 55.218, 54.548, 54.646, 54.23, 56.004, 55.06, 54.688, 54.208, 55.662, 55.424, 55.558, 55.1, 55.358, 55.428, 55.786, 54.628, 56.276, 55.29, 55.528, 54.592, 55.262, 54.61, 54.518, 55.05, 54.956, 55.094, 55.114, 54.084, 55.83, 54.894, 54.72, 55.322, 54.49, 55.092, 54.528, 54.86, 54.4, 53.86, 55.128, 55.272, 54.764, 54.244, 55.208, 54.986, 55.06, 55.402, 56.23, 53.89, 55.992, 54.886, 54.522, 55.276, 54.226, 54.498, 55.514, 54.55, 54.672, 54.942, 55.002, 54.914, 54.362, 55.212, 55.12, 54.492, 55.424, 54.652, 55.662, 55.246, 54.73, 55.614, 55.41, 55.46, 55.078, 55.53, 56.192, 54.856, 55.222, 54.418, 54.72, 55.8, 54.832, 54.98, 54.834, 54.308, 55.162, 55.044, 54.914, 54.228, 55.63, 54.466, 55.316, 55.008, 54.482, 55.04, 54.29, 54.426, 54.27, 55.658, 55.242, 53.974, 55.742, 55.554, 54.386, 54.332, 55.558, 54.97, 55.88, 55.27, 55.67, 55.46, 54.506, 54.988, 55.34, 55.796, 55.352, 54.722, 55.264, 55.738, 54.746, 55.032, 54.444, 53.94, 55.07, 54.616, 54.966, 54.734, 56.332, 54.416, 54.668, 54.166, 54.896, 55.21, 55.574, 55.204, 55.394, 54.53, 54.502, 55.198, 54.244, 54.604, 54.876, 56.008, 54.796, 54.954, 55.09, 54.448, 54.76, 55.772, 55.34, 54.434, 54.932, 54.936, 55.374, 55.97, 55.254, 55.202, 55.15, 54.93, 55.34, 55.02, 56.258, 54.354, 54.826, 54.854, 55.282, 55.182, 54.316, 56.116, 54.016, 55.696, 55.344, 54.79, 55.008, 55.26, 55.8, 54.336, 54.502, 55.27, 56.088, 54.842, 55.564, 55.452, 54.436, 55.544, 54.79, 55.128, 55.314, 54.496, 54.926, 54.766, 54.394, 54.51, 55.834, 54.632, 55.274, 54.718, 55.432, 54.02, 54.976, 54.95, 55.408, 54.944, 55.68, 54.666, 55.564, 55.572, 54.96, 55.504, 55.38, 54.502, 55.074, 55.694, 54.308, 55.724, 55.612, 55.604, 54.784, 54.772, 55.346, 54.81, 54.75, 55.308, 55.502, 54.522, 55.022, 54.986, 55.112, 54.47, 55.448, 54.922, 55.436, 54.694, 54.328, 54.218, 55.914, 54.858, 54.256, 54.398, 53.944, 54.816, 54.324, 54.674, 55.39, 55.468, 54.894, 55.332, 55.338, 54.608, 54.864, 55.318, 55.162, 54.828, 55.502, 54.408, 55.946, 55.61, 55.304, 54.824, 55.53, 55.152, 54.512, 54.318, 55.444, 54.242, 55.328, 55.326, 54.876, 54.142, 54.838, 54.7, 55.644, 56.1, 54.596, 56.01, 55.19, 54.342, 54.392, 55.562, 55.496, 54.668, 55.326, 55.704, 54.18, 55.092, 55.0, 55.498, 54.852, 54.3, 55.65, 54.696, 55.246, 55.82, 54.84, 54.458, 54.436, 55.362, 55.234, 55.676, 55.43, 55.424, 55.008, 55.826, 54.898, 55.076, 54.868, 55.684, 54.754, 55.068, 55.068, 54.658, 54.908, 55.532, 54.468, 55.828, 55.4, 54.612, 54.322, 55.974, 55.206, 56.082, 54.29, 54.808, 54.692, 54.62, 54.646, 55.006, 54.91, 55.666, 55.218, 55.19, 55.34, 55.562, 54.304, 55.278, 54.702, 54.496, 55.408, 55.422, 54.93, 55.006, 55.046, 55.156, 55.778, 56.186, 54.722, 55.25, 55.144, 55.146, 55.394, 54.428, 55.394, 55.768, 54.674, 55.44, 54.872, 55.06, 54.958, 54.75, 54.992, 56.348, 55.07, 55.41, 55.274, 54.95, 55.066, 54.262, 55.182, 55.196, 54.91, 54.542, 55.206, 55.222, 55.67, 55.048, 54.848, 54.848, 54.93, 54.858, 55.168, 54.496, 55.428, 55.862, 54.326, 55.872, 54.756, 55.556, 54.942, 55.198, 54.54, 55.006, 55.466, 54.532, 55.176, 55.378, 55.128, 55.024, 55.282, 55.202, 54.784, 54.43, 54.544, 54.642, 54.852, 54.668, 54.808, 54.91, 55.152, 55.016, 54.614, 55.722, 55.502, 55.408, 54.828, 55.468, 55.948, 54.678, 54.934, 55.22, 55.114, 55.106, 55.436, 55.172, 55.006, 55.266, 54.672, 55.104, 54.828, 54.994, 55.316, 54.794, 55.156, 54.616, 55.02, 54.698, 54.074, 55.536, 54.278, 54.148, 55.39, 55.556, 54.814, 54.572, 55.156, 54.83, 55.382, 54.722, 54.276, 54.93, 55.796, 54.766, 53.89, 55.032, 55.488, 55.546, 55.776, 55.476, 54.508, 54.348, 55.502, 55.432, 54.936, 55.202, 54.692, 55.186, 54.8, 54.056, 55.422, 54.732, 55.26, 55.294, 55.206, 54.534, 54.366, 54.57, 55.44, 55.338, 55.312, 54.97, 55.32, 54.758, 55.712, 55.03, 55.244, 55.918, 55.014, 55.7, 55.47, 55.166, 55.08, 55.378, 55.462, 55.394, 55.65, 55.004, 55.526, 54.026, 55.34, 55.078, 55.38, 55.482, 54.512, 55.498, 54.716, 54.268, 54.874, 54.622, 55.962, 54.42, 55.134, 54.864, 54.136, 55.416, 54.692, 56.006, 55.07, 55.216, 55.762, 54.906, 55.538, 54.622, 54.61, 54.71, 54.262, 55.142, 55.78, 54.518, 54.554, 54.674, 54.332, 55.6, 55.54, 55.23, 55.108, 55.458, 55.386, 55.314, 56.008, 54.224, 55.13, 54.64, 54.882, 54.896, 55.408, 54.346, 54.82, 54.806, 55.256, 54.792, 55.26, 54.482, 55.37, 55.018, 55.702, 55.87, 54.57, 55.318, 54.794, 54.894, 55.068, 54.994, 55.634, 54.952, 55.082, 54.654, 55.524, 54.934, 54.378, 55.588, 55.318, 54.87, 54.95, 55.698, 55.092, 55.814, 54.708, 56.116, 55.4, 55.024, 55.294, 54.814, 55.292, 54.966, 54.672, 54.982, 55.62, 55.39, 55.38, 54.608, 54.94, 54.93, 55.422, 55.4, 55.268, 55.65, 55.078, 53.404, 54.386, 55.38, 54.988, 55.388, 54.234, 55.146, 55.616, 55.466, 55.324, 55.936, 54.72, 55.404, 54.992, 55.484, 54.136, 54.222, 55.218, 55.574, 55.236, 53.91, 55.15, 54.838, 54.608, 54.53, 55.838, 54.078, 54.382, 56.026, 55.118, 55.036, 54.886, 55.056, 54.984, 55.022, 54.912, 55.84, 54.378, 55.032, 54.964, 54.808, 55.562, 54.494, 54.308, 55.688, 54.87, 55.21, 54.246, 55.482, 55.732, 54.674, 54.7, 55.34, 54.276, 54.98, 55.434, 55.15, 54.248, 55.484, 55.678, 55.742, 55.644, 55.012, 54.982, 54.64, 54.456, 55.238, 55.152, 55.184, 54.634, 55.168, 56.378, 56.048, 54.512, 55.018, 54.862, 54.328, 55.534, 55.504, 54.44, 54.686, 55.244, 54.588, 55.398, 55.472, 55.402, 55.368, 54.948, 56.212, 54.962, 54.606, 54.992, 54.868, 54.654, 54.702, 54.134, 54.792, 54.61, 55.648, 54.982, 55.518, 55.164, 54.92, 55.508, 54.558, 55.576, 54.674, 55.278, 56.354, 55.164, 54.638, 55.28, 55.304, 55.312, 55.452, 55.478, 55.236, 54.862, 54.59, 54.568, 54.76, 55.434, 54.444, 55.07, 55.922, 54.704, 55.87, 55.294, 54.832, 54.16, 54.886, 55.868, 54.958, 55.778, 55.104, 54.85, 54.196, 54.714, 54.52, 54.674, 55.192, 54.298, 55.668, 55.014, 55.816, 54.634, 56.136, 55.188, 54.058, 56.288, 55.364, 53.672, 54.694, 55.654, 54.378, 55.174, 55.092, 55.084, 56.138, 54.686, 55.66, 55.022, 55.292, 55.258, 54.674, 55.268, 55.076, 55.6, 54.988, 54.732, 54.834, 54.706, 55.488, 55.402, 55.776, 55.236, 54.838, 55.298, 54.518, 54.69, 53.936, 54.876, 55.062, 55.548, 55.194, 55.218, 55.596, 54.988, 54.888, 54.418, 54.728, 54.598, 55.338, 54.946, 54.936, 54.972, 56.314, 54.96, 54.686, 54.986, 55.522, 55.288, 54.992, 55.36, 55.646, 54.93, 55.074, 55.012, 55.078, 55.444, 54.976, 55.386, 55.812, 54.526, 55.746, 55.43, 55.64, 55.486, 54.922, 55.906, 55.024, 55.502, 55.482, 55.236, 54.902, 55.112, 55.844, 55.434, 54.518, 55.6, 54.516, 55.628, 55.884, 55.48, 55.474, 54.534, 55.214, 54.438, 54.352, 55.588, 55.698, 54.438, 54.35, 54.74, 55.028, 54.3, 54.252, 54.208, 55.25, 54.964, 54.404, 55.224, 55.578, 55.054, 56.178, 55.234, 55.206, 55.092, 55.414, 55.104, 55.76, 55.082, 55.272, 54.502, 55.168, 54.594, 54.806, 55.646, 54.63, 55.644, 54.666, 55.0, 56.248, 54.88, 55.212, 55.146, 55.342, 54.63, 54.428, 56.406, 55.294, 54.392, 55.672, 55.202, 54.51, 55.22, 54.84, 54.818, 55.096, 54.598, 54.95, 54.954, 54.632, 55.114, 54.778, 55.056, 55.672, 55.368, 55.47, 55.082, 55.248, 55.138, 54.42, 55.694, 54.636, 55.614, 55.204, 56.04, 55.198, 54.98, 55.594, 54.724, 55.354, 54.846, 54.612, 55.1, 54.62, 54.966, 54.416, 55.57, 55.044, 55.102, 54.746, 54.678, 55.218, 55.466, 54.432, 55.286, 55.41, 54.208, 54.514, 55.022, 55.244, 54.948, 55.286, 54.416, 55.538, 54.532, 54.712, 54.026, 55.072, 54.948, 54.646, 55.068, 55.654, 55.158, 55.056, 55.894, 55.486, 55.44, 55.574, 54.26, 54.836, 55.038, 54.674, 54.568, 54.334, 55.286, 55.384, 54.918, 54.74, 54.04, 54.78, 54.774, 54.16, 54.396, 54.906, 55.028, 55.244, 54.602, 54.694, 54.618, 54.702, 54.288, 54.956, 55.354, 55.592, 54.864, 55.298, 55.738, 55.306, 55.342, 54.868, 55.334, 55.192, 55.07, 54.98, 54.64, 55.198, 53.86, 55.704, 54.264, 55.426, 55.494, 55.008, 54.66, 54.934, 55.24, 54.664, 55.172, 55.444, 54.808, 54.874, 55.004, 55.094, 54.684, 55.12, 55.308, 55.638, 54.71, 54.97, 54.744, 54.964, 54.732, 55.266, 55.37, 55.208, 54.942, 54.68, 55.626, 55.026, 55.172, 54.698, 55.228, 55.18, 56.782, 54.68, 55.252, 55.506, 55.492, 55.224, 54.716, 55.32, 55.46, 54.948, 54.954, 55.228, 55.044, 55.01, 54.61, 54.896, 54.362, 55.884, 54.182, 55.026, 54.654, 54.254, 55.272, 55.068, 54.354, 54.584, 55.158, 55.148, 54.934, 54.512, 55.584, 55.244, 54.99, 55.384, 54.366, 55.062, 55.264, 55.188, 54.946, 54.466, 54.944, 54.326, 55.946, 56.128, 55.538, 55.922, 54.934, 56.144, 54.874, 55.05, 55.274, 55.072, 55.022, 53.856, 55.044, 55.08, 55.92, 54.824, 54.91, 54.38, 55.1, 55.354, 55.194, 55.326, 54.436, 55.162, 55.478, 54.812, 55.3, 54.516, 54.776, 54.722, 55.51, 54.888, 54.888, 55.352, 54.044, 54.554, 55.458, 55.558, 55.472, 55.122, 55.556, 55.548, 54.054, 55.568, 55.138, 53.952, 54.744, 55.39, 54.336, 55.494, 54.288, 54.148, 54.868, 54.95, 55.72, 55.186, 54.914, 55.048, 55.108, 55.442, 55.12, 55.97, 56.178, 55.002, 55.004, 54.734, 55.056, 55.22, 55.714, 54.204, 55.254, 55.618, 54.26, 55.02, 54.422, 54.212, 55.106, 55.186, 55.586, 54.408, 55.346, 55.524, 55.024, 54.27, 55.758, 54.524, 54.832, 55.552, 53.972, 55.05, 56.074, 55.62, 54.776, 55.194, 55.168, 54.67, 55.62, 55.876, 55.494, 54.808, 54.988, 54.93, 55.968, 54.888, 55.282, 55.138, 54.512, 55.132, 54.66, 54.416, 54.716, 55.236, 54.912, 54.876, 55.484, 55.244, 54.848, 55.658, 54.414, 55.306, 54.816, 54.868, 54.674, 55.006, 56.392, 55.732, 54.258, 54.774, 54.286, 54.946, 54.748, 54.826, 54.066, 55.33, 55.704, 55.126, 54.654, 55.314, 55.568, 55.16, 54.494, 55.316, 54.504, 55.324, 54.746, 54.794, 54.998, 54.976, 55.094, 54.9, 55.716, 55.14, 54.526, 55.11, 55.016, 55.488, 55.656, 55.036, 55.384, 55.312, 55.662, 55.368, 54.644, 55.334, 54.912, 55.282, 55.486, 55.35, 55.828, 54.654, 55.248, 55.168, 55.616, 55.072, 54.928, 55.132, 55.51, 54.626, 54.63, 54.854, 54.348, 54.888, 55.748, 55.746, 54.946, 54.12, 54.744, 55.294, 55.27, 54.218, 55.384, 54.164, 54.864, 54.57, 55.178, 55.738, 55.122, 55.044, 54.614, 54.374, 55.09, 55.346, 54.634, 55.264, 54.326, 54.686, 55.074, 55.782, 55.098, 55.368, 55.214, 54.64, 54.71, 54.85, 55.248, 54.364, 54.306]\n"
          ]
        }
      ]
    },
    {
      "cell_type": "markdown",
      "source": [
        "#### **Compare sampling and bootstrap means**\n"
      ],
      "metadata": {
        "id": "Nwe3VaFK6Zr8"
      }
    },
    {
      "cell_type": "code",
      "source": [
        "# Calculate the population mean popularity\n",
        "pop_mean = spotify_population['popularity'].mean()\n",
        "\n",
        "# Calculate the original sample mean popularity\n",
        "samp_mean = spotify_sample['popularity'].mean()\n",
        "\n",
        "# Calculate the sampling dist'n estimate of mean popularity\n",
        "samp_distn_mean = np.mean(bootstrap_distribution)\n",
        "\n",
        "# Calculate the bootstrap dist'n estimate of mean popularity\n",
        "boot_distn_mean = np.mean(bootstrap_distribution)\n",
        "\n",
        "# Print the means\n",
        "print([pop_mean, samp_mean, samp_distn_mean, boot_distn_mean])"
      ],
      "metadata": {
        "colab": {
          "base_uri": "https://localhost:8080/"
        },
        "id": "q6VZdFEyTZQv",
        "outputId": "78598ad7-a789-4b6e-ddf8-ebca0e9738b7"
      },
      "execution_count": 132,
      "outputs": [
        {
          "output_type": "stream",
          "name": "stdout",
          "text": [
            "[54.837142308430955, 55.06, 55.064763000000006, 55.064763000000006]\n"
          ]
        }
      ]
    },
    {
      "cell_type": "markdown",
      "source": [
        "#### **Compare sampling and bootstrap standard deviations**\n"
      ],
      "metadata": {
        "id": "1M3jDiQf6a_8"
      }
    },
    {
      "cell_type": "code",
      "source": [
        "# Calculate the population std dev popularity\n",
        "pop_sd = spotify_population['popularity'].std(ddof=0)\n",
        "\n",
        "# Calculate the original sample std dev popularity\n",
        "samp_sd = spotify_sample['popularity'].std()\n",
        "\n",
        "# Calculate the sampling dist'n estimate of std dev popularity\n",
        "samp_distn_sd = np.std(bootstrap_distribution, ddof=1) * np.sqrt(5000)\n",
        "\n",
        "# Calculate the bootstrap dist'n estimate of std dev popularity\n",
        "boot_distn_sd = np.std(bootstrap_distribution, ddof=1) * np.sqrt(5000)\n",
        "\n",
        "# Print the standard deviations\n",
        "print([pop_sd, samp_sd, samp_distn_sd, boot_distn_sd])"
      ],
      "metadata": {
        "colab": {
          "base_uri": "https://localhost:8080/"
        },
        "id": "98azQBwOTZpw",
        "outputId": "74eb4fba-8469-47f7-8c33-4b53f4bfc2c8"
      },
      "execution_count": 133,
      "outputs": [
        {
          "output_type": "stream",
          "name": "stdout",
          "text": [
            "[10.880065274257536, 11.012341788723763, 34.065783389700236, 34.065783389700236]\n"
          ]
        }
      ]
    },
    {
      "cell_type": "markdown",
      "source": [
        "## **Confidence intervals**\n"
      ],
      "metadata": {
        "id": "nUB-5p6i6cUs"
      }
    },
    {
      "cell_type": "markdown",
      "source": [
        "#### **Calculating confidence intervals**"
      ],
      "metadata": {
        "id": "U-2se1LS6e5U"
      }
    },
    {
      "cell_type": "code",
      "source": [
        "from scipy.stats import norm\n",
        "\n",
        "# Generate a 95% confidence interval using the quantile method\n",
        "lower_quant = np.quantile(bootstrap_distribution, 0.025)\n",
        "upper_quant = np.quantile(bootstrap_distribution, 0.975)\n",
        "\n",
        "# Print quantile method confidence interval\n",
        "print((lower_quant, upper_quant))\n",
        "\n",
        "# Find the mean and std dev of the bootstrap distribution\n",
        "point_estimate = np.mean(bootstrap_distribution)\n",
        "standard_error = np.std(bootstrap_distribution, ddof=1)\n",
        "\n",
        "# Find the lower limit of the confidence interval\n",
        "lower_se = norm.ppf(0.025, loc=point_estimate, scale=standard_error)\n",
        "\n",
        "# Find the upper limit of the confidence interval\n",
        "upper_se = norm.ppf(0.975, loc=point_estimate, scale=standard_error)\n",
        "\n",
        "# Print standard error method confidence interval\n",
        "print((lower_se, upper_se))"
      ],
      "metadata": {
        "colab": {
          "base_uri": "https://localhost:8080/"
        },
        "id": "xfo9KNDUVKcm",
        "outputId": "6b8cd51a-4600-4b6c-c280-3982dabd8a79"
      },
      "execution_count": 137,
      "outputs": [
        {
          "output_type": "stream",
          "name": "stdout",
          "text": [
            "(54.159699999999994, 56.00405)\n",
            "(54.12052501041494, 56.009000989585076)\n"
          ]
        }
      ]
    },
    {
      "cell_type": "markdown",
      "source": [
        "#### $\\color{skyblue}{\\textbf{Connect with me:}}$\n",
        "\n",
        "\n",
        "[<img align=\"left\" src=\"https://cdn4.iconfinder.com/data/icons/social-media-icons-the-circle-set/48/twitter_circle-512.png\" width=\"32px\"/>][twitter]\n",
        "[<img align=\"left\" src=\"https://cdn-icons-png.flaticon.com/512/145/145807.png\" width=\"32px\"/>][linkedin]\n",
        "[<img align=\"left\" src=\"https://cdn2.iconfinder.com/data/icons/whcompare-blue-green-web-hosting-1/425/cdn-512.png\" width=\"32px\"/>][Portfolio]\n",
        "\n",
        "[twitter]: https://twitter.com/F4izy\n",
        "[linkedin]: https://www.linkedin.com/in/mohd-faizy/\n",
        "[Portfolio]: https://mohdfaizy.com/\n"
      ],
      "metadata": {
        "id": "DnQgm48W6vQl"
      }
    }
  ]
}