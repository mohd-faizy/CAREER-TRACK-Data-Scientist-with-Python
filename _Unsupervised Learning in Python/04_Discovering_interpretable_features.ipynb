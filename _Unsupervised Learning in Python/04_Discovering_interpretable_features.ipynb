{
  "nbformat": 4,
  "nbformat_minor": 0,
  "metadata": {
    "colab": {
      "name": "04_Discovering_interpretable_features.ipynb",
      "provenance": [],
      "toc_visible": true,
      "authorship_tag": "ABX9TyPD09OzoRESQDm3wmtMPPAo",
      "include_colab_link": true
    },
    "kernelspec": {
      "name": "python3",
      "display_name": "Python 3"
    }
  },
  "cells": [
    {
      "cell_type": "markdown",
      "metadata": {
        "id": "view-in-github",
        "colab_type": "text"
      },
      "source": [
        "<a href=\"https://colab.research.google.com/github/mohd-faizy/CAREER-TRACK-Data-Scientist-with-Python/blob/main/04_Discovering_interpretable_features.ipynb\" target=\"_parent\"><img src=\"https://colab.research.google.com/assets/colab-badge.svg\" alt=\"Open In Colab\"/></a>"
      ]
    },
    {
      "cell_type": "markdown",
      "metadata": {
        "id": "BSuEABPa0--s"
      },
      "source": [
        "--- \r\n",
        "<strong> \r\n",
        "    <h1 align='center'>Discovering interpretable features</h1> \r\n",
        "</strong>\r\n",
        "\r\n",
        "---\r\n"
      ]
    },
    {
      "cell_type": "markdown",
      "metadata": {
        "id": "-YQQFirK1fe1"
      },
      "source": [
        "In this Notebook, We'll learn about a dimension reduction technique called \"**Non-negative matrix factorization**\" (\"NMF\") that expresses samples as combinations of interpretable parts. For example, it expresses documents as combinations of topics, and images in terms of commonly occurring visual patterns. You'll also learn to use NMF to build recommender systems that can find you similar articles to read, or musical artists that match your listening history!"
      ]
    },
    {
      "cell_type": "code",
      "metadata": {
        "colab": {
          "base_uri": "https://localhost:8080/"
        },
        "id": "eHRsiSczR0fB",
        "outputId": "665957d1-b4e2-47e6-e017-6f53b0612970"
      },
      "source": [
        "! git clone https://github.com/mohd-faizy/CAREER-TRACK-Data-Scientist-with-Python.git"
      ],
      "execution_count": 1,
      "outputs": [
        {
          "output_type": "stream",
          "text": [
            "fatal: destination path 'CAREER-TRACK-Data-Scientist-with-Python' already exists and is not an empty directory.\n"
          ],
          "name": "stdout"
        }
      ]
    },
    {
      "cell_type": "code",
      "metadata": {
        "id": "KJN0hZ3RWQsh"
      },
      "source": [
        "import pandas as pd\r\n",
        "import numpy as np\r\n",
        "import matplotlib.pyplot as plt\r\n",
        "import seaborn as sns\r\n",
        "import os\r\n",
        "\r\n",
        "plt.style.use('ggplot')\r\n",
        "#sns.set_theme(style='whitegrid')\r\n",
        "%matplotlib inline"
      ],
      "execution_count": 2,
      "outputs": []
    },
    {
      "cell_type": "code",
      "metadata": {
        "colab": {
          "base_uri": "https://localhost:8080/"
        },
        "id": "nu0TmPzKTj2V",
        "outputId": "4a911a83-902e-4db0-e5fc-ef0943ad578a"
      },
      "source": [
        "os.chdir('/content/CAREER-TRACK-Data-Scientist-with-Python/27_Unsupervised Learning in Python/_dataset')\r\n",
        "cwd = os.getcwd()\r\n",
        "print('Curent working directory is ', cwd)"
      ],
      "execution_count": 3,
      "outputs": [
        {
          "output_type": "stream",
          "text": [
            "Curent working directory is  /content/CAREER-TRACK-Data-Scientist-with-Python/27_Unsupervised Learning in Python/_dataset\n"
          ],
          "name": "stdout"
        }
      ]
    },
    {
      "cell_type": "code",
      "metadata": {
        "colab": {
          "base_uri": "https://localhost:8080/"
        },
        "id": "b6FFGoWhUD1G",
        "outputId": "0d7311c9-8b61-41cb-fc4d-81b7f620852e"
      },
      "source": [
        "ls"
      ],
      "execution_count": 4,
      "outputs": [
        {
          "output_type": "stream",
          "text": [
            " company-stock-movements-2010-2015-incl.csv  \u001b[0m\u001b[01;34m'Musical artists'\u001b[0m/\n",
            " eurovision-2016.csv                          new_points.csv\n",
            " fish.csv                                     points.csv\n",
            " \u001b[01;34mGrains\u001b[0m/                                     \u001b[01;34m'Wikipedia articles'\u001b[0m/\n",
            " lcd-digits.csv                               wine.csv\n"
          ],
          "name": "stdout"
        }
      ]
    },
    {
      "cell_type": "markdown",
      "metadata": {
        "id": "-jUW7gRp0mMu"
      },
      "source": [
        "## **Non-Negative matrix factorization (NMF)**\n",
        "- NMF = Non-negative matrix factorization\n",
        "    - Dimension reduction technique\n",
        "    - NMF models are interpretable (unlike PCA)\n",
        "    - Easy to interpret means easy to explain\n",
        "    - However, all sample features must be non-negative \n",
        "($\\ge0$)\n",
        "\n",
        "- NMF components\n",
        "    - Just like PCA has principal components\n",
        "    - Dimension of components = dimension of samples\n",
        "    - Entries are non-negative\n",
        "    - Can be used to reconstruct the samples\n",
        "    - Combine feature values with components\n",
        "- Sample reconstruction\n",
        "    - Multiply components by feature values, and add up\n",
        "    - Can also be expressed as a product of matrices\n",
        "    - This is the \"Matrix Factorization\" in \"NMF\""
      ]
    },
    {
      "cell_type": "markdown",
      "metadata": {
        "id": "RqzxixY50mMv"
      },
      "source": [
        "### NMF applied to Wikipedia articles\n",
        "\n",
        "NMF applied to transform a **toy** word-frequency array. Now we can apply it NMF, this time using the tf-idf word-frequency array of Wikipedia articles, given as a `csr_matrix` ```articles```. Here, fit the model and transform the articles."
      ]
    },
    {
      "cell_type": "markdown",
      "metadata": {
        "id": "p0rCqg9c0mMw"
      },
      "source": [
        "#### Preprocess"
      ]
    },
    {
      "cell_type": "code",
      "metadata": {
        "id": "HLHikDag0mMw"
      },
      "source": [
        "from scipy.sparse import csr_matrix\n",
        "\n",
        "documents = pd.read_csv('Wikipedia articles/wikipedia-vectors.csv', index_col=0)\n",
        "titles = documents.columns\n",
        "articles = csr_matrix(documents.values).T"
      ],
      "execution_count": 5,
      "outputs": []
    },
    {
      "cell_type": "code",
      "metadata": {
        "id": "NDoJi1660mMx",
        "colab": {
          "base_uri": "https://localhost:8080/"
        },
        "outputId": "9a90dab6-48ef-4d4b-a8e1-88bb654771cb"
      },
      "source": [
        "from sklearn.decomposition import NMF\n",
        "\n",
        "# Create an NMF instance: model\n",
        "model = NMF(n_components=6)\n",
        "\n",
        "# Fit the model to articles\n",
        "model.fit(articles)\n",
        "\n",
        "# Transform the articles: nmf_features\n",
        "nmf_features = model.transform(articles)\n",
        "\n",
        "# Print the NMF features\n",
        "print(nmf_features)"
      ],
      "execution_count": 6,
      "outputs": [
        {
          "output_type": "stream",
          "text": [
            "[[0.00000000e+00 0.00000000e+00 0.00000000e+00 0.00000000e+00\n",
            "  0.00000000e+00 4.40480628e-01]\n",
            " [0.00000000e+00 0.00000000e+00 0.00000000e+00 0.00000000e+00\n",
            "  0.00000000e+00 5.66624997e-01]\n",
            " [3.82062004e-03 0.00000000e+00 0.00000000e+00 0.00000000e+00\n",
            "  0.00000000e+00 3.98660580e-01]\n",
            " [0.00000000e+00 0.00000000e+00 0.00000000e+00 0.00000000e+00\n",
            "  0.00000000e+00 3.81753073e-01]\n",
            " [0.00000000e+00 0.00000000e+00 0.00000000e+00 0.00000000e+00\n",
            "  0.00000000e+00 4.85534472e-01]\n",
            " [1.29292547e-02 1.37892421e-02 7.76312786e-03 3.34460753e-02\n",
            "  0.00000000e+00 3.34534165e-01]\n",
            " [0.00000000e+00 0.00000000e+00 2.06740475e-02 0.00000000e+00\n",
            "  6.04541756e-03 3.59073381e-01]\n",
            " [0.00000000e+00 0.00000000e+00 0.00000000e+00 0.00000000e+00\n",
            "  0.00000000e+00 4.90994297e-01]\n",
            " [1.54276238e-02 1.42820095e-02 3.76630629e-03 2.37094483e-02\n",
            "  2.62642622e-02 4.80791408e-01]\n",
            " [1.11740179e-02 3.13683927e-02 3.09482055e-02 6.56950627e-02\n",
            "  1.96693535e-02 3.38301150e-01]\n",
            " [0.00000000e+00 0.00000000e+00 5.30713694e-01 0.00000000e+00\n",
            "  2.83703889e-02 0.00000000e+00]\n",
            " [0.00000000e+00 0.00000000e+00 3.56505436e-01 0.00000000e+00\n",
            "  0.00000000e+00 0.00000000e+00]\n",
            " [1.20129047e-02 6.50048534e-03 3.12241872e-01 6.09726704e-02\n",
            "  1.13871107e-02 1.92609411e-02]\n",
            " [3.93491248e-03 6.24446066e-03 3.42369541e-01 1.10760986e-02\n",
            "  0.00000000e+00 0.00000000e+00]\n",
            " [4.63828219e-03 0.00000000e+00 4.34910353e-01 0.00000000e+00\n",
            "  3.84308228e-02 3.08145512e-03]\n",
            " [0.00000000e+00 0.00000000e+00 4.83283858e-01 0.00000000e+00\n",
            "  0.00000000e+00 0.00000000e+00]\n",
            " [5.65025032e-03 1.83536523e-02 3.76528911e-01 3.25437288e-02\n",
            "  0.00000000e+00 1.13339021e-02]\n",
            " [0.00000000e+00 0.00000000e+00 4.80908552e-01 0.00000000e+00\n",
            "  0.00000000e+00 0.00000000e+00]\n",
            " [0.00000000e+00 9.01869216e-03 5.51001947e-01 0.00000000e+00\n",
            "  0.00000000e+00 0.00000000e+00]\n",
            " [0.00000000e+00 0.00000000e+00 4.65964565e-01 0.00000000e+00\n",
            "  0.00000000e+00 0.00000000e+00]\n",
            " [0.00000000e+00 1.14081603e-02 2.08653505e-02 5.17730008e-01\n",
            "  5.81459008e-02 1.37859892e-02]\n",
            " [0.00000000e+00 0.00000000e+00 0.00000000e+00 5.10438530e-01\n",
            "  0.00000000e+00 0.00000000e+00]\n",
            " [0.00000000e+00 5.60108230e-03 0.00000000e+00 4.22349442e-01\n",
            "  0.00000000e+00 0.00000000e+00]\n",
            " [0.00000000e+00 0.00000000e+00 0.00000000e+00 4.36719812e-01\n",
            "  0.00000000e+00 0.00000000e+00]\n",
            " [0.00000000e+00 0.00000000e+00 0.00000000e+00 4.98056177e-01\n",
            "  0.00000000e+00 0.00000000e+00]\n",
            " [9.88408466e-02 8.60048400e-02 3.91031932e-03 3.80990064e-01\n",
            "  4.39275821e-04 5.22175970e-03]\n",
            " [0.00000000e+00 0.00000000e+00 0.00000000e+00 5.72128668e-01\n",
            "  0.00000000e+00 7.13577255e-03]\n",
            " [1.31470724e-02 1.04853977e-02 0.00000000e+00 4.68872271e-01\n",
            "  0.00000000e+00 1.16314714e-02]\n",
            " [3.84556105e-03 0.00000000e+00 0.00000000e+00 5.75669089e-01\n",
            "  0.00000000e+00 0.00000000e+00]\n",
            " [2.25249262e-03 1.38738596e-03 0.00000000e+00 5.27907715e-01\n",
            "  1.20275050e-02 1.49490449e-02]\n",
            " [0.00000000e+00 4.07549936e-01 1.85712528e-03 0.00000000e+00\n",
            "  2.96636520e-03 4.52350450e-04]\n",
            " [1.53423384e-03 6.08175661e-01 5.22271023e-04 6.24807747e-03\n",
            "  1.18454949e-03 4.40086437e-04]\n",
            " [5.38827326e-03 2.65018204e-01 5.38505761e-04 1.86912324e-02\n",
            "  6.38706537e-03 2.90115515e-03]\n",
            " [0.00000000e+00 6.44918682e-01 0.00000000e+00 0.00000000e+00\n",
            "  0.00000000e+00 0.00000000e+00]\n",
            " [0.00000000e+00 6.08909600e-01 0.00000000e+00 0.00000000e+00\n",
            "  0.00000000e+00 0.00000000e+00]\n",
            " [0.00000000e+00 3.43686733e-01 0.00000000e+00 0.00000000e+00\n",
            "  3.97829666e-03 0.00000000e+00]\n",
            " [6.10517555e-03 3.15314178e-01 1.54878301e-02 0.00000000e+00\n",
            "  5.06288707e-03 4.74352027e-03]\n",
            " [6.47383114e-03 2.13329484e-01 9.49485897e-03 4.56948181e-02\n",
            "  1.71929450e-02 9.52097072e-03]\n",
            " [7.99158856e-03 4.67597187e-01 0.00000000e+00 2.43407777e-02\n",
            "  0.00000000e+00 0.00000000e+00]\n",
            " [0.00000000e+00 6.42822887e-01 0.00000000e+00 2.35837517e-03\n",
            "  0.00000000e+00 0.00000000e+00]\n",
            " [0.00000000e+00 0.00000000e+00 0.00000000e+00 0.00000000e+00\n",
            "  4.77121845e-01 0.00000000e+00]\n",
            " [0.00000000e+00 0.00000000e+00 0.00000000e+00 0.00000000e+00\n",
            "  4.94296495e-01 0.00000000e+00]\n",
            " [0.00000000e+00 2.99075835e-04 2.14488131e-03 0.00000000e+00\n",
            "  3.81809586e-01 5.83805389e-03]\n",
            " [0.00000000e+00 0.00000000e+00 0.00000000e+00 5.64654862e-03\n",
            "  5.42285500e-01 0.00000000e+00]\n",
            " [1.78062673e-03 7.84419497e-04 1.41626708e-02 4.59794527e-04\n",
            "  4.24336876e-01 0.00000000e+00]\n",
            " [0.00000000e+00 0.00000000e+00 0.00000000e+00 0.00000000e+00\n",
            "  5.11433586e-01 0.00000000e+00]\n",
            " [0.00000000e+00 0.00000000e+00 3.28385168e-03 0.00000000e+00\n",
            "  3.72917046e-01 0.00000000e+00]\n",
            " [0.00000000e+00 2.62086912e-04 3.61101024e-02 2.32325269e-04\n",
            "  2.30529435e-01 0.00000000e+00]\n",
            " [1.12519376e-02 2.12328535e-03 1.60971084e-02 1.02477516e-02\n",
            "  3.25487932e-01 3.75894730e-02]\n",
            " [0.00000000e+00 0.00000000e+00 0.00000000e+00 0.00000000e+00\n",
            "  4.18992262e-01 3.57734090e-04]\n",
            " [3.08377916e-01 0.00000000e+00 0.00000000e+00 0.00000000e+00\n",
            "  0.00000000e+00 0.00000000e+00]\n",
            " [3.68186898e-01 0.00000000e+00 0.00000000e+00 0.00000000e+00\n",
            "  0.00000000e+00 0.00000000e+00]\n",
            " [3.97958965e-01 2.81704311e-02 3.67008040e-03 1.70054306e-02\n",
            "  1.95983387e-03 2.11652121e-02]\n",
            " [3.75807926e-01 2.07521503e-03 0.00000000e+00 3.72127409e-02\n",
            "  0.00000000e+00 5.85949041e-03]\n",
            " [4.38043725e-01 0.00000000e+00 0.00000000e+00 0.00000000e+00\n",
            "  0.00000000e+00 0.00000000e+00]\n",
            " [4.57897243e-01 0.00000000e+00 0.00000000e+00 0.00000000e+00\n",
            "  0.00000000e+00 0.00000000e+00]\n",
            " [2.75486995e-01 4.46958622e-03 0.00000000e+00 5.29617153e-02\n",
            "  0.00000000e+00 1.91004517e-02]\n",
            " [4.45209702e-01 0.00000000e+00 0.00000000e+00 0.00000000e+00\n",
            "  5.48743440e-03 0.00000000e+00]\n",
            " [2.92750769e-01 1.33665379e-02 1.14262332e-02 1.05192418e-02\n",
            "  1.87711752e-01 9.23998800e-03]\n",
            " [3.78279904e-01 1.43970927e-02 0.00000000e+00 9.85168312e-02\n",
            "  1.35911492e-02 0.00000000e+00]]\n"
          ],
          "name": "stdout"
        }
      ]
    },
    {
      "cell_type": "markdown",
      "metadata": {
        "id": "UvNLIpq_0mMz"
      },
      "source": [
        "### NMF features of the Wikipedia articles\n",
        "Now you will explore the NMF features you created in the previous exercise. A solution to the previous exercise has been pre-loaded, so the array ```nmf_features``` is available. Also available is a list titles giving the ```title``` of each Wikipedia article.\n",
        "\n",
        "When investigating the features, notice that for both actors, the NMF feature 3 has by far the highest value. This means that both articles are reconstructed using mainly the 3rd NMF component. In the next video, you'll see why: NMF components represent topics (for instance, acting!)."
      ]
    },
    {
      "cell_type": "code",
      "metadata": {
        "id": "k8ifrzb00mMz",
        "colab": {
          "base_uri": "https://localhost:8080/"
        },
        "outputId": "20fc4871-22d7-4b06-aede-229ebb89153c"
      },
      "source": [
        "# Create a pandas DataFrame: df\n",
        "df = pd.DataFrame(nmf_features, index=titles)\n",
        "\n",
        "# Print the row for 'Anne Hathaway'\n",
        "print(df.loc['Anne Hathaway'])\n",
        "\n",
        "# Print the row for 'Denzel Washington'\n",
        "print(df.loc['Denzel Washington'])"
      ],
      "execution_count": 7,
      "outputs": [
        {
          "output_type": "stream",
          "text": [
            "0    0.003846\n",
            "1    0.000000\n",
            "2    0.000000\n",
            "3    0.575669\n",
            "4    0.000000\n",
            "5    0.000000\n",
            "Name: Anne Hathaway, dtype: float64\n",
            "0    0.000000\n",
            "1    0.005601\n",
            "2    0.000000\n",
            "3    0.422349\n",
            "4    0.000000\n",
            "5    0.000000\n",
            "Name: Denzel Washington, dtype: float64\n"
          ],
          "name": "stdout"
        }
      ]
    },
    {
      "cell_type": "markdown",
      "metadata": {
        "id": "g2Qm-UW00mM0"
      },
      "source": [
        "### NMF reconstructs samples\n",
        "In this exercise, you'll check your understanding of how NMF reconstructs samples from its components using the NMF feature values. On the right are the components of an NMF model. If the NMF feature values of a sample are ```[2, 1]```, then which of the following is most likely to represent the original sample? A pen and paper will help here! You have to apply the same technique Ben used in the video to reconstruct the sample ```[0.1203 0.1764 0.3195 0.141]```."
      ]
    },
    {
      "cell_type": "code",
      "metadata": {
        "id": "UqjLmnCd0mM1"
      },
      "source": [
        "sample_feature = np.array([2, 1])\n",
        "components = np.array([[1. , 0.5, 0. ],\n",
        "                       [0.2, 0.1, 2.1]])"
      ],
      "execution_count": 8,
      "outputs": []
    },
    {
      "cell_type": "code",
      "metadata": {
        "id": "q5hj8hpq0mM2",
        "colab": {
          "base_uri": "https://localhost:8080/"
        },
        "outputId": "f0e857d3-0e73-4736-c5ff-13b7a24cf480"
      },
      "source": [
        "np.matmul(sample_feature.T, components)"
      ],
      "execution_count": 9,
      "outputs": [
        {
          "output_type": "execute_result",
          "data": {
            "text/plain": [
              "array([2.2, 1.1, 2.1])"
            ]
          },
          "metadata": {
            "tags": []
          },
          "execution_count": 9
        }
      ]
    },
    {
      "cell_type": "markdown",
      "metadata": {
        "id": "OcN1-4IB0mM2"
      },
      "source": [
        "## NMF learns interpretable parts\n"
      ]
    },
    {
      "cell_type": "markdown",
      "metadata": {
        "id": "7g_gIz2f0mM3"
      },
      "source": [
        "### NMF learns topics of documents\n",
        "In the video, you learned when NMF is applied to documents, the components correspond to topics of documents, and the NMF features reconstruct the documents from the topics. Verify this for yourself for the NMF model that you built earlier using the Wikipedia articles. Previously, you saw that the 3rd NMF feature value was high for the articles about actors Anne Hathaway and Denzel Washington. In this exercise, identify the topic of the corresponding NMF component.\n",
        "\n",
        "The NMF model you built earlier is available as ```model```, while ```words``` is a list of the words that label the columns of the word-frequency array.\n",
        "\n",
        "After you are done, take a moment to recognise the topic that the articles about Anne Hathaway and Denzel Washington have in common!"
      ]
    },
    {
      "cell_type": "markdown",
      "metadata": {
        "id": "ytkK8mz30mM3"
      },
      "source": [
        "#### Preprocess"
      ]
    },
    {
      "cell_type": "code",
      "metadata": {
        "id": "EW5GKce20mM4"
      },
      "source": [
        "words = []\n",
        "with open('Wikipedia articles/wikipedia-vocabulary-utf8.txt') as f:\n",
        "    words = f.read().splitlines()"
      ],
      "execution_count": 10,
      "outputs": []
    },
    {
      "cell_type": "code",
      "metadata": {
        "id": "hQto6dLb0mM4",
        "colab": {
          "base_uri": "https://localhost:8080/"
        },
        "outputId": "a70343f9-bcd4-4d53-cf4f-8620aa1c8a31"
      },
      "source": [
        "# Create a DataFrame: components_df\n",
        "components_df = pd.DataFrame(model.components_, columns=words)\n",
        "\n",
        "# Print the shape of the DataFrame\n",
        "print(components_df.shape)\n",
        "\n",
        "# Select row 3: component\n",
        "component = components_df.iloc[3]\n",
        "\n",
        "# Print result of nlargest\n",
        "print(component.nlargest())"
      ],
      "execution_count": 11,
      "outputs": [
        {
          "output_type": "stream",
          "text": [
            "(6, 13125)\n",
            "film       0.627922\n",
            "award      0.253150\n",
            "starred    0.245302\n",
            "role       0.211466\n",
            "actress    0.186411\n",
            "Name: 3, dtype: float64\n"
          ],
          "name": "stdout"
        }
      ]
    },
    {
      "cell_type": "markdown",
      "metadata": {
        "id": "1QsAUHbL0mM5"
      },
      "source": [
        "### Explore the LED digits dataset\n",
        "In the following exercises, you'll use NMF to decompose grayscale images into their commonly occurring patterns. Firstly, explore the image dataset and see how it is encoded as an array. You are given 100 images as a 2D array ```samples```, where each row represents a single 13x8 image. The images in your dataset are pictures of a LED digital display."
      ]
    },
    {
      "cell_type": "markdown",
      "metadata": {
        "id": "Fl5b_rl00mM5"
      },
      "source": [
        "#### Preprocess"
      ]
    },
    {
      "cell_type": "code",
      "metadata": {
        "id": "s6Y3INJm0mM5",
        "colab": {
          "base_uri": "https://localhost:8080/",
          "height": 246
        },
        "outputId": "c17f371e-e539-47ed-db2d-42f3f9bd5aaa"
      },
      "source": [
        "df = pd.read_csv('lcd-digits.csv', header=None)\n",
        "df.head()"
      ],
      "execution_count": 12,
      "outputs": [
        {
          "output_type": "execute_result",
          "data": {
            "text/html": [
              "<div>\n",
              "<style scoped>\n",
              "    .dataframe tbody tr th:only-of-type {\n",
              "        vertical-align: middle;\n",
              "    }\n",
              "\n",
              "    .dataframe tbody tr th {\n",
              "        vertical-align: top;\n",
              "    }\n",
              "\n",
              "    .dataframe thead th {\n",
              "        text-align: right;\n",
              "    }\n",
              "</style>\n",
              "<table border=\"1\" class=\"dataframe\">\n",
              "  <thead>\n",
              "    <tr style=\"text-align: right;\">\n",
              "      <th></th>\n",
              "      <th>0</th>\n",
              "      <th>1</th>\n",
              "      <th>2</th>\n",
              "      <th>3</th>\n",
              "      <th>4</th>\n",
              "      <th>5</th>\n",
              "      <th>6</th>\n",
              "      <th>7</th>\n",
              "      <th>8</th>\n",
              "      <th>9</th>\n",
              "      <th>10</th>\n",
              "      <th>11</th>\n",
              "      <th>12</th>\n",
              "      <th>13</th>\n",
              "      <th>14</th>\n",
              "      <th>15</th>\n",
              "      <th>16</th>\n",
              "      <th>17</th>\n",
              "      <th>18</th>\n",
              "      <th>19</th>\n",
              "      <th>20</th>\n",
              "      <th>21</th>\n",
              "      <th>22</th>\n",
              "      <th>23</th>\n",
              "      <th>24</th>\n",
              "      <th>25</th>\n",
              "      <th>26</th>\n",
              "      <th>27</th>\n",
              "      <th>28</th>\n",
              "      <th>29</th>\n",
              "      <th>30</th>\n",
              "      <th>31</th>\n",
              "      <th>32</th>\n",
              "      <th>33</th>\n",
              "      <th>34</th>\n",
              "      <th>35</th>\n",
              "      <th>36</th>\n",
              "      <th>37</th>\n",
              "      <th>38</th>\n",
              "      <th>39</th>\n",
              "      <th>...</th>\n",
              "      <th>64</th>\n",
              "      <th>65</th>\n",
              "      <th>66</th>\n",
              "      <th>67</th>\n",
              "      <th>68</th>\n",
              "      <th>69</th>\n",
              "      <th>70</th>\n",
              "      <th>71</th>\n",
              "      <th>72</th>\n",
              "      <th>73</th>\n",
              "      <th>74</th>\n",
              "      <th>75</th>\n",
              "      <th>76</th>\n",
              "      <th>77</th>\n",
              "      <th>78</th>\n",
              "      <th>79</th>\n",
              "      <th>80</th>\n",
              "      <th>81</th>\n",
              "      <th>82</th>\n",
              "      <th>83</th>\n",
              "      <th>84</th>\n",
              "      <th>85</th>\n",
              "      <th>86</th>\n",
              "      <th>87</th>\n",
              "      <th>88</th>\n",
              "      <th>89</th>\n",
              "      <th>90</th>\n",
              "      <th>91</th>\n",
              "      <th>92</th>\n",
              "      <th>93</th>\n",
              "      <th>94</th>\n",
              "      <th>95</th>\n",
              "      <th>96</th>\n",
              "      <th>97</th>\n",
              "      <th>98</th>\n",
              "      <th>99</th>\n",
              "      <th>100</th>\n",
              "      <th>101</th>\n",
              "      <th>102</th>\n",
              "      <th>103</th>\n",
              "    </tr>\n",
              "  </thead>\n",
              "  <tbody>\n",
              "    <tr>\n",
              "      <th>0</th>\n",
              "      <td>0.0</td>\n",
              "      <td>0.0</td>\n",
              "      <td>0.0</td>\n",
              "      <td>0.0</td>\n",
              "      <td>0.0</td>\n",
              "      <td>0.0</td>\n",
              "      <td>0.0</td>\n",
              "      <td>0.0</td>\n",
              "      <td>0.0</td>\n",
              "      <td>0.0</td>\n",
              "      <td>1.0</td>\n",
              "      <td>1.0</td>\n",
              "      <td>1.0</td>\n",
              "      <td>1.0</td>\n",
              "      <td>0.0</td>\n",
              "      <td>0.0</td>\n",
              "      <td>0.0</td>\n",
              "      <td>0.0</td>\n",
              "      <td>0.0</td>\n",
              "      <td>0.0</td>\n",
              "      <td>0.0</td>\n",
              "      <td>0.0</td>\n",
              "      <td>1.0</td>\n",
              "      <td>0.0</td>\n",
              "      <td>0.0</td>\n",
              "      <td>0.0</td>\n",
              "      <td>0.0</td>\n",
              "      <td>0.0</td>\n",
              "      <td>0.0</td>\n",
              "      <td>0.0</td>\n",
              "      <td>1.0</td>\n",
              "      <td>0.0</td>\n",
              "      <td>0.0</td>\n",
              "      <td>0.0</td>\n",
              "      <td>0.0</td>\n",
              "      <td>0.0</td>\n",
              "      <td>0.0</td>\n",
              "      <td>0.0</td>\n",
              "      <td>1.0</td>\n",
              "      <td>0.0</td>\n",
              "      <td>...</td>\n",
              "      <td>0.0</td>\n",
              "      <td>0.0</td>\n",
              "      <td>0.0</td>\n",
              "      <td>0.0</td>\n",
              "      <td>0.0</td>\n",
              "      <td>0.0</td>\n",
              "      <td>1.0</td>\n",
              "      <td>0.0</td>\n",
              "      <td>0.0</td>\n",
              "      <td>0.0</td>\n",
              "      <td>0.0</td>\n",
              "      <td>0.0</td>\n",
              "      <td>0.0</td>\n",
              "      <td>0.0</td>\n",
              "      <td>1.0</td>\n",
              "      <td>0.0</td>\n",
              "      <td>0.0</td>\n",
              "      <td>0.0</td>\n",
              "      <td>0.0</td>\n",
              "      <td>0.0</td>\n",
              "      <td>0.0</td>\n",
              "      <td>0.0</td>\n",
              "      <td>1.0</td>\n",
              "      <td>0.0</td>\n",
              "      <td>0.0</td>\n",
              "      <td>0.0</td>\n",
              "      <td>0.0</td>\n",
              "      <td>0.0</td>\n",
              "      <td>0.0</td>\n",
              "      <td>0.0</td>\n",
              "      <td>0.0</td>\n",
              "      <td>0.0</td>\n",
              "      <td>0.0</td>\n",
              "      <td>0.0</td>\n",
              "      <td>0.0</td>\n",
              "      <td>0.0</td>\n",
              "      <td>0.0</td>\n",
              "      <td>0.0</td>\n",
              "      <td>0.0</td>\n",
              "      <td>0.0</td>\n",
              "    </tr>\n",
              "    <tr>\n",
              "      <th>1</th>\n",
              "      <td>0.0</td>\n",
              "      <td>0.0</td>\n",
              "      <td>0.0</td>\n",
              "      <td>0.0</td>\n",
              "      <td>0.0</td>\n",
              "      <td>0.0</td>\n",
              "      <td>0.0</td>\n",
              "      <td>0.0</td>\n",
              "      <td>0.0</td>\n",
              "      <td>0.0</td>\n",
              "      <td>1.0</td>\n",
              "      <td>1.0</td>\n",
              "      <td>1.0</td>\n",
              "      <td>1.0</td>\n",
              "      <td>0.0</td>\n",
              "      <td>0.0</td>\n",
              "      <td>0.0</td>\n",
              "      <td>1.0</td>\n",
              "      <td>0.0</td>\n",
              "      <td>0.0</td>\n",
              "      <td>0.0</td>\n",
              "      <td>0.0</td>\n",
              "      <td>1.0</td>\n",
              "      <td>0.0</td>\n",
              "      <td>0.0</td>\n",
              "      <td>1.0</td>\n",
              "      <td>0.0</td>\n",
              "      <td>0.0</td>\n",
              "      <td>0.0</td>\n",
              "      <td>0.0</td>\n",
              "      <td>1.0</td>\n",
              "      <td>0.0</td>\n",
              "      <td>0.0</td>\n",
              "      <td>1.0</td>\n",
              "      <td>0.0</td>\n",
              "      <td>0.0</td>\n",
              "      <td>0.0</td>\n",
              "      <td>0.0</td>\n",
              "      <td>1.0</td>\n",
              "      <td>0.0</td>\n",
              "      <td>...</td>\n",
              "      <td>0.0</td>\n",
              "      <td>0.0</td>\n",
              "      <td>0.0</td>\n",
              "      <td>0.0</td>\n",
              "      <td>0.0</td>\n",
              "      <td>0.0</td>\n",
              "      <td>0.0</td>\n",
              "      <td>0.0</td>\n",
              "      <td>0.0</td>\n",
              "      <td>0.0</td>\n",
              "      <td>0.0</td>\n",
              "      <td>0.0</td>\n",
              "      <td>0.0</td>\n",
              "      <td>0.0</td>\n",
              "      <td>0.0</td>\n",
              "      <td>0.0</td>\n",
              "      <td>0.0</td>\n",
              "      <td>0.0</td>\n",
              "      <td>0.0</td>\n",
              "      <td>0.0</td>\n",
              "      <td>0.0</td>\n",
              "      <td>0.0</td>\n",
              "      <td>0.0</td>\n",
              "      <td>0.0</td>\n",
              "      <td>0.0</td>\n",
              "      <td>0.0</td>\n",
              "      <td>0.0</td>\n",
              "      <td>0.0</td>\n",
              "      <td>0.0</td>\n",
              "      <td>0.0</td>\n",
              "      <td>0.0</td>\n",
              "      <td>0.0</td>\n",
              "      <td>0.0</td>\n",
              "      <td>0.0</td>\n",
              "      <td>0.0</td>\n",
              "      <td>0.0</td>\n",
              "      <td>0.0</td>\n",
              "      <td>0.0</td>\n",
              "      <td>0.0</td>\n",
              "      <td>0.0</td>\n",
              "    </tr>\n",
              "    <tr>\n",
              "      <th>2</th>\n",
              "      <td>0.0</td>\n",
              "      <td>0.0</td>\n",
              "      <td>0.0</td>\n",
              "      <td>0.0</td>\n",
              "      <td>0.0</td>\n",
              "      <td>0.0</td>\n",
              "      <td>0.0</td>\n",
              "      <td>0.0</td>\n",
              "      <td>0.0</td>\n",
              "      <td>0.0</td>\n",
              "      <td>0.0</td>\n",
              "      <td>0.0</td>\n",
              "      <td>0.0</td>\n",
              "      <td>0.0</td>\n",
              "      <td>0.0</td>\n",
              "      <td>0.0</td>\n",
              "      <td>0.0</td>\n",
              "      <td>1.0</td>\n",
              "      <td>0.0</td>\n",
              "      <td>0.0</td>\n",
              "      <td>0.0</td>\n",
              "      <td>0.0</td>\n",
              "      <td>0.0</td>\n",
              "      <td>0.0</td>\n",
              "      <td>0.0</td>\n",
              "      <td>1.0</td>\n",
              "      <td>0.0</td>\n",
              "      <td>0.0</td>\n",
              "      <td>0.0</td>\n",
              "      <td>0.0</td>\n",
              "      <td>0.0</td>\n",
              "      <td>0.0</td>\n",
              "      <td>0.0</td>\n",
              "      <td>1.0</td>\n",
              "      <td>0.0</td>\n",
              "      <td>0.0</td>\n",
              "      <td>0.0</td>\n",
              "      <td>0.0</td>\n",
              "      <td>0.0</td>\n",
              "      <td>0.0</td>\n",
              "      <td>...</td>\n",
              "      <td>0.0</td>\n",
              "      <td>0.0</td>\n",
              "      <td>0.0</td>\n",
              "      <td>0.0</td>\n",
              "      <td>0.0</td>\n",
              "      <td>0.0</td>\n",
              "      <td>0.0</td>\n",
              "      <td>0.0</td>\n",
              "      <td>0.0</td>\n",
              "      <td>0.0</td>\n",
              "      <td>0.0</td>\n",
              "      <td>0.0</td>\n",
              "      <td>0.0</td>\n",
              "      <td>0.0</td>\n",
              "      <td>0.0</td>\n",
              "      <td>0.0</td>\n",
              "      <td>0.0</td>\n",
              "      <td>0.0</td>\n",
              "      <td>0.0</td>\n",
              "      <td>0.0</td>\n",
              "      <td>0.0</td>\n",
              "      <td>0.0</td>\n",
              "      <td>0.0</td>\n",
              "      <td>0.0</td>\n",
              "      <td>0.0</td>\n",
              "      <td>0.0</td>\n",
              "      <td>1.0</td>\n",
              "      <td>1.0</td>\n",
              "      <td>1.0</td>\n",
              "      <td>1.0</td>\n",
              "      <td>0.0</td>\n",
              "      <td>0.0</td>\n",
              "      <td>0.0</td>\n",
              "      <td>0.0</td>\n",
              "      <td>0.0</td>\n",
              "      <td>0.0</td>\n",
              "      <td>0.0</td>\n",
              "      <td>0.0</td>\n",
              "      <td>0.0</td>\n",
              "      <td>0.0</td>\n",
              "    </tr>\n",
              "    <tr>\n",
              "      <th>3</th>\n",
              "      <td>0.0</td>\n",
              "      <td>0.0</td>\n",
              "      <td>0.0</td>\n",
              "      <td>0.0</td>\n",
              "      <td>0.0</td>\n",
              "      <td>0.0</td>\n",
              "      <td>0.0</td>\n",
              "      <td>0.0</td>\n",
              "      <td>0.0</td>\n",
              "      <td>0.0</td>\n",
              "      <td>1.0</td>\n",
              "      <td>1.0</td>\n",
              "      <td>1.0</td>\n",
              "      <td>1.0</td>\n",
              "      <td>0.0</td>\n",
              "      <td>0.0</td>\n",
              "      <td>0.0</td>\n",
              "      <td>0.0</td>\n",
              "      <td>0.0</td>\n",
              "      <td>0.0</td>\n",
              "      <td>0.0</td>\n",
              "      <td>0.0</td>\n",
              "      <td>0.0</td>\n",
              "      <td>0.0</td>\n",
              "      <td>0.0</td>\n",
              "      <td>0.0</td>\n",
              "      <td>0.0</td>\n",
              "      <td>0.0</td>\n",
              "      <td>0.0</td>\n",
              "      <td>0.0</td>\n",
              "      <td>0.0</td>\n",
              "      <td>0.0</td>\n",
              "      <td>0.0</td>\n",
              "      <td>0.0</td>\n",
              "      <td>0.0</td>\n",
              "      <td>0.0</td>\n",
              "      <td>0.0</td>\n",
              "      <td>0.0</td>\n",
              "      <td>0.0</td>\n",
              "      <td>0.0</td>\n",
              "      <td>...</td>\n",
              "      <td>0.0</td>\n",
              "      <td>0.0</td>\n",
              "      <td>0.0</td>\n",
              "      <td>0.0</td>\n",
              "      <td>0.0</td>\n",
              "      <td>0.0</td>\n",
              "      <td>0.0</td>\n",
              "      <td>0.0</td>\n",
              "      <td>0.0</td>\n",
              "      <td>0.0</td>\n",
              "      <td>0.0</td>\n",
              "      <td>0.0</td>\n",
              "      <td>0.0</td>\n",
              "      <td>0.0</td>\n",
              "      <td>0.0</td>\n",
              "      <td>0.0</td>\n",
              "      <td>0.0</td>\n",
              "      <td>0.0</td>\n",
              "      <td>0.0</td>\n",
              "      <td>0.0</td>\n",
              "      <td>0.0</td>\n",
              "      <td>0.0</td>\n",
              "      <td>0.0</td>\n",
              "      <td>0.0</td>\n",
              "      <td>0.0</td>\n",
              "      <td>0.0</td>\n",
              "      <td>0.0</td>\n",
              "      <td>0.0</td>\n",
              "      <td>0.0</td>\n",
              "      <td>0.0</td>\n",
              "      <td>0.0</td>\n",
              "      <td>0.0</td>\n",
              "      <td>0.0</td>\n",
              "      <td>0.0</td>\n",
              "      <td>0.0</td>\n",
              "      <td>0.0</td>\n",
              "      <td>0.0</td>\n",
              "      <td>0.0</td>\n",
              "      <td>0.0</td>\n",
              "      <td>0.0</td>\n",
              "    </tr>\n",
              "    <tr>\n",
              "      <th>4</th>\n",
              "      <td>0.0</td>\n",
              "      <td>0.0</td>\n",
              "      <td>0.0</td>\n",
              "      <td>0.0</td>\n",
              "      <td>0.0</td>\n",
              "      <td>0.0</td>\n",
              "      <td>0.0</td>\n",
              "      <td>0.0</td>\n",
              "      <td>0.0</td>\n",
              "      <td>0.0</td>\n",
              "      <td>0.0</td>\n",
              "      <td>0.0</td>\n",
              "      <td>0.0</td>\n",
              "      <td>0.0</td>\n",
              "      <td>0.0</td>\n",
              "      <td>0.0</td>\n",
              "      <td>0.0</td>\n",
              "      <td>0.0</td>\n",
              "      <td>0.0</td>\n",
              "      <td>0.0</td>\n",
              "      <td>0.0</td>\n",
              "      <td>0.0</td>\n",
              "      <td>1.0</td>\n",
              "      <td>0.0</td>\n",
              "      <td>0.0</td>\n",
              "      <td>0.0</td>\n",
              "      <td>0.0</td>\n",
              "      <td>0.0</td>\n",
              "      <td>0.0</td>\n",
              "      <td>0.0</td>\n",
              "      <td>1.0</td>\n",
              "      <td>0.0</td>\n",
              "      <td>0.0</td>\n",
              "      <td>0.0</td>\n",
              "      <td>0.0</td>\n",
              "      <td>0.0</td>\n",
              "      <td>0.0</td>\n",
              "      <td>0.0</td>\n",
              "      <td>1.0</td>\n",
              "      <td>0.0</td>\n",
              "      <td>...</td>\n",
              "      <td>0.0</td>\n",
              "      <td>0.0</td>\n",
              "      <td>0.0</td>\n",
              "      <td>0.0</td>\n",
              "      <td>0.0</td>\n",
              "      <td>0.0</td>\n",
              "      <td>0.0</td>\n",
              "      <td>0.0</td>\n",
              "      <td>0.0</td>\n",
              "      <td>0.0</td>\n",
              "      <td>0.0</td>\n",
              "      <td>0.0</td>\n",
              "      <td>0.0</td>\n",
              "      <td>0.0</td>\n",
              "      <td>0.0</td>\n",
              "      <td>0.0</td>\n",
              "      <td>0.0</td>\n",
              "      <td>0.0</td>\n",
              "      <td>0.0</td>\n",
              "      <td>0.0</td>\n",
              "      <td>0.0</td>\n",
              "      <td>0.0</td>\n",
              "      <td>0.0</td>\n",
              "      <td>0.0</td>\n",
              "      <td>0.0</td>\n",
              "      <td>0.0</td>\n",
              "      <td>1.0</td>\n",
              "      <td>1.0</td>\n",
              "      <td>1.0</td>\n",
              "      <td>1.0</td>\n",
              "      <td>0.0</td>\n",
              "      <td>0.0</td>\n",
              "      <td>0.0</td>\n",
              "      <td>0.0</td>\n",
              "      <td>0.0</td>\n",
              "      <td>0.0</td>\n",
              "      <td>0.0</td>\n",
              "      <td>0.0</td>\n",
              "      <td>0.0</td>\n",
              "      <td>0.0</td>\n",
              "    </tr>\n",
              "  </tbody>\n",
              "</table>\n",
              "<p>5 rows × 104 columns</p>\n",
              "</div>"
            ],
            "text/plain": [
              "   0    1    2    3    4    5    6    ...  97   98   99   100  101  102  103\n",
              "0  0.0  0.0  0.0  0.0  0.0  0.0  0.0  ...  0.0  0.0  0.0  0.0  0.0  0.0  0.0\n",
              "1  0.0  0.0  0.0  0.0  0.0  0.0  0.0  ...  0.0  0.0  0.0  0.0  0.0  0.0  0.0\n",
              "2  0.0  0.0  0.0  0.0  0.0  0.0  0.0  ...  0.0  0.0  0.0  0.0  0.0  0.0  0.0\n",
              "3  0.0  0.0  0.0  0.0  0.0  0.0  0.0  ...  0.0  0.0  0.0  0.0  0.0  0.0  0.0\n",
              "4  0.0  0.0  0.0  0.0  0.0  0.0  0.0  ...  0.0  0.0  0.0  0.0  0.0  0.0  0.0\n",
              "\n",
              "[5 rows x 104 columns]"
            ]
          },
          "metadata": {
            "tags": []
          },
          "execution_count": 12
        }
      ]
    },
    {
      "cell_type": "code",
      "metadata": {
        "id": "X7SB9iUz0mM6"
      },
      "source": [
        "samples = df.values"
      ],
      "execution_count": 13,
      "outputs": []
    },
    {
      "cell_type": "code",
      "metadata": {
        "id": "EEcw6ici0mM6",
        "colab": {
          "base_uri": "https://localhost:8080/",
          "height": 606
        },
        "outputId": "b95734a0-d95e-4942-ad8a-af86e2123e1a"
      },
      "source": [
        "# Select the 0th row: digit\n",
        "digit = samples[0]\n",
        "\n",
        "# Print digit\n",
        "print(digit)\n",
        "\n",
        "# Reshape digit to a 13x8 array: bitmap\n",
        "bitmap = digit.reshape(13, 8)\n",
        "\n",
        "# Print bitmap\n",
        "print(bitmap)\n",
        "\n",
        "# Use plt.imshow to display bitmap\n",
        "plt.imshow(bitmap, cmap='gray', interpolation='nearest')\n",
        "plt.colorbar()"
      ],
      "execution_count": 14,
      "outputs": [
        {
          "output_type": "stream",
          "text": [
            "[0. 0. 0. 0. 0. 0. 0. 0. 0. 0. 1. 1. 1. 1. 0. 0. 0. 0. 0. 0. 0. 0. 1. 0.\n",
            " 0. 0. 0. 0. 0. 0. 1. 0. 0. 0. 0. 0. 0. 0. 1. 0. 0. 0. 0. 0. 0. 0. 1. 0.\n",
            " 0. 0. 0. 0. 0. 0. 0. 0. 0. 0. 0. 0. 0. 0. 1. 0. 0. 0. 0. 0. 0. 0. 1. 0.\n",
            " 0. 0. 0. 0. 0. 0. 1. 0. 0. 0. 0. 0. 0. 0. 1. 0. 0. 0. 0. 0. 0. 0. 0. 0.\n",
            " 0. 0. 0. 0. 0. 0. 0. 0.]\n",
            "[[0. 0. 0. 0. 0. 0. 0. 0.]\n",
            " [0. 0. 1. 1. 1. 1. 0. 0.]\n",
            " [0. 0. 0. 0. 0. 0. 1. 0.]\n",
            " [0. 0. 0. 0. 0. 0. 1. 0.]\n",
            " [0. 0. 0. 0. 0. 0. 1. 0.]\n",
            " [0. 0. 0. 0. 0. 0. 1. 0.]\n",
            " [0. 0. 0. 0. 0. 0. 0. 0.]\n",
            " [0. 0. 0. 0. 0. 0. 1. 0.]\n",
            " [0. 0. 0. 0. 0. 0. 1. 0.]\n",
            " [0. 0. 0. 0. 0. 0. 1. 0.]\n",
            " [0. 0. 0. 0. 0. 0. 1. 0.]\n",
            " [0. 0. 0. 0. 0. 0. 0. 0.]\n",
            " [0. 0. 0. 0. 0. 0. 0. 0.]]\n"
          ],
          "name": "stdout"
        },
        {
          "output_type": "execute_result",
          "data": {
            "text/plain": [
              "<matplotlib.colorbar.Colorbar at 0x7f6a49ee1050>"
            ]
          },
          "metadata": {
            "tags": []
          },
          "execution_count": 14
        },
        {
          "output_type": "display_data",
          "data": {
            "image/png": "[encoded data removed]",
            "text/plain": [
              "<Figure size 432x288 with 2 Axes>"
            ]
          },
          "metadata": {
            "tags": [],
            "needs_background": "light"
          }
        }
      ]
    },
    {
      "cell_type": "markdown",
      "metadata": {
        "id": "BQWCc3pj0mM7"
      },
      "source": [
        "### NMF learns the parts of images\n",
        "Now use what you've learned about NMF to decompose the digits dataset. You are again given the digit images as a 2D array ```samples```. This time, you are also provided with a function ```show_as_image()``` that displays the image encoded by any 1D array:\n",
        "```python\n",
        "def show_as_image(sample):\n",
        "    bitmap = sample.reshape((13, 8))\n",
        "    plt.figure()\n",
        "    plt.imshow(bitmap, cmap='gray', interpolation='nearest')\n",
        "    plt.colorbar()\n",
        "    plt.show()\n",
        "```\n"
      ]
    },
    {
      "cell_type": "code",
      "metadata": {
        "id": "tWYpdPEN0mM8"
      },
      "source": [
        "def show_as_image(sample):\n",
        "    bitmap = sample.reshape((13, 8))\n",
        "    plt.figure()\n",
        "    plt.imshow(bitmap, cmap='gray', interpolation='nearest')\n",
        "    plt.colorbar()"
      ],
      "execution_count": 15,
      "outputs": []
    },
    {
      "cell_type": "code",
      "metadata": {
        "id": "c8ZuwZFn0mM8",
        "colab": {
          "base_uri": "https://localhost:8080/",
          "height": 1000
        },
        "outputId": "adab8bb8-db42-4c3e-e690-5bc319b0a735"
      },
      "source": [
        "# Create an NMF model: model\n",
        "model = NMF(n_components=7)\n",
        "\n",
        "# Apply fit_transform to samples: features\n",
        "features = model.fit_transform(samples)\n",
        "\n",
        "# Call show_as_image on each component\n",
        "for component in model.components_:\n",
        "    show_as_image(component)\n",
        "    \n",
        "# Assign the 0th row of features: digit_features\n",
        "digit_features = features[0]\n",
        "\n",
        "# Print digit_features\n",
        "print(digit_features)"
      ],
      "execution_count": 16,
      "outputs": [
        {
          "output_type": "stream",
          "text": [
            "[4.76823559e-01 0.00000000e+00 0.00000000e+00 5.90605054e-01\n",
            " 4.81559442e-01 0.00000000e+00 7.37551667e-16]\n"
          ],
          "name": "stdout"
        },
        {
          "output_type": "display_data",
          "data": {
            "image/png": "[encoded data removed]",
            "text/plain": [
              "<Figure size 432x288 with 2 Axes>"
            ]
          },
          "metadata": {
            "tags": [],
            "needs_background": "light"
          }
        },
        {
          "output_type": "display_data",
          "data": {
            "image/png": "[encoded data removed]",
            "text/plain": [
              "<Figure size 432x288 with 2 Axes>"
            ]
          },
          "metadata": {
            "tags": [],
            "needs_background": "light"
          }
        },
        {
          "output_type": "display_data",
          "data": {
            "image/png": "[encoded data removed]",
            "text/plain": [
              "<Figure size 432x288 with 2 Axes>"
            ]
          },
          "metadata": {
            "tags": [],
            "needs_background": "light"
          }
        },
        {
          "output_type": "display_data",
          "data": {
            "image/png": "[encoded data removed]",
            "text/plain": [
              "<Figure size 432x288 with 2 Axes>"
            ]
          },
          "metadata": {
            "tags": [],
            "needs_background": "light"
          }
        },
        {
          "output_type": "display_data",
          "data": {
            "image/png": "[encoded data removed]",
            "text/plain": [
              "<Figure size 432x288 with 2 Axes>"
            ]
          },
          "metadata": {
            "tags": [],
            "needs_background": "light"
          }
        },
        {
          "output_type": "display_data",
          "data": {
            "image/png": "[encoded data removed]",
            "text/plain": [
              "<Figure size 432x288 with 2 Axes>"
            ]
          },
          "metadata": {
            "tags": [],
            "needs_background": "light"
          }
        },
        {
          "output_type": "display_data",
          "data": {
            "image/png": "[encoded data removed]",
            "text/plain": [
              "<Figure size 432x288 with 2 Axes>"
            ]
          },
          "metadata": {
            "tags": [],
            "needs_background": "light"
          }
        }
      ]
    },
    {
      "cell_type": "markdown",
      "metadata": {
        "id": "XoZFUjon0mM9"
      },
      "source": [
        "### PCA doesn't learn parts\n",
        "Unlike NMF, PCA doesn't learn the parts of things. Its components do not correspond to topics (in the case of documents) or to parts of images, when trained on images. Verify this for yourself by inspecting the components of a PCA model fit to the dataset of LED digit images from the previous exercise. The images are available as a 2D array ```samples```. Also available is a modified version of the ```show_as_image()``` function which colors a pixel red if the value is negative.\n",
        "\n",
        "After submitting the answer, notice that the components of PCA do not represent meaningful parts of images of LED digits!"
      ]
    },
    {
      "cell_type": "code",
      "metadata": {
        "id": "_oFVLtxU0mM9",
        "colab": {
          "base_uri": "https://localhost:8080/",
          "height": 1000
        },
        "outputId": "3ed196dd-aa2b-4b4c-f080-141100676acc"
      },
      "source": [
        "from sklearn.decomposition import PCA\n",
        "\n",
        "# Createa PCA instance: model\n",
        "model = PCA(n_components=7)\n",
        "\n",
        "# Apply fit_transform to samples: features\n",
        "features = model.fit_transform(samples)\n",
        "\n",
        "# Call show_as_image on each component\n",
        "for component in model.components_:\n",
        "    show_as_image(component)"
      ],
      "execution_count": 17,
      "outputs": [
        {
          "output_type": "display_data",
          "data": {
            "image/png": "[encoded data removed]",
            "text/plain": [
              "<Figure size 432x288 with 2 Axes>"
            ]
          },
          "metadata": {
            "tags": [],
            "needs_background": "light"
          }
        },
        {
          "output_type": "display_data",
          "data": {
            "image/png": "[encoded data removed]",
            "text/plain": [
              "<Figure size 432x288 with 2 Axes>"
            ]
          },
          "metadata": {
            "tags": [],
            "needs_background": "light"
          }
        },
        {
          "output_type": "display_data",
          "data": {
            "image/png": "[encoded data removed]",
            "text/plain": [
              "<Figure size 432x288 with 2 Axes>"
            ]
          },
          "metadata": {
            "tags": [],
            "needs_background": "light"
          }
        },
        {
          "output_type": "display_data",
          "data": {
            "image/png": "[encoded data removed]",
            "text/plain": [
              "<Figure size 432x288 with 2 Axes>"
            ]
          },
          "metadata": {
            "tags": [],
            "needs_background": "light"
          }
        },
        {
          "output_type": "display_data",
          "data": {
            "image/png": "[encoded data removed]",
            "text/plain": [
              "<Figure size 432x288 with 2 Axes>"
            ]
          },
          "metadata": {
            "tags": [],
            "needs_background": "light"
          }
        },
        {
          "output_type": "display_data",
          "data": {
            "image/png": "[encoded data removed]",
            "text/plain": [
              "<Figure size 432x288 with 2 Axes>"
            ]
          },
          "metadata": {
            "tags": [],
            "needs_background": "light"
          }
        },
        {
          "output_type": "display_data",
          "data": {
            "image/png": "[encoded data removed]",
            "text/plain": [
              "<Figure size 432x288 with 2 Axes>"
            ]
          },
          "metadata": {
            "tags": [],
            "needs_background": "light"
          }
        }
      ]
    },
    {
      "cell_type": "markdown",
      "metadata": {
        "id": "fd2tEXDD0mM-"
      },
      "source": [
        "## Building recommender systems using NMF\n",
        "- Finding similar articles\n",
        "    - Engineer at a large online newspaper\n",
        "    - Task: recommand articles similar to article being read by customer\n",
        "    - Similar articles should have similar topics\n",
        "- Strategy\n",
        "    - Apply NMF to the word-frequency array\n",
        "    - NMF feature values describe the topics, so similar documents have similar NMF feature values\n",
        "    - Compare NMF feature values?\n",
        "- Versions of articles\n",
        "    - Different versions of the same document have same topic proportions\n",
        "    - exact feature values may be different!\n",
        "        E.g., because one version uses many meaningless words\n",
        "    - But all versions lie on the same line through the origin\n",
        "- Cosine Similarity\n",
        "\n",
        "    - Uses the angle between the lines\n",
        "    - Higher values means more similar\n",
        "    - Maximum value is 1, when angle is 0 degrees\n",
        "    \n",
        "![cosine similarity](https://www.oreilly.com/library/view/statistics-for-machine/9781788295758/assets/2b4a7a82-ad4c-4b2a-b808-e423a334de6f.png)"
      ]
    },
    {
      "cell_type": "markdown",
      "metadata": {
        "id": "xRRYXjfT0mM-"
      },
      "source": [
        "### Which articles are similar to 'Cristiano Ronaldo'?\n",
        "In the video, you learned how to use NMF features and the cosine similarity to find similar articles. Apply this to your NMF model for popular Wikipedia articles, by finding the articles most similar to the article about the footballer Cristiano Ronaldo. The NMF features you obtained earlier are available as ```nmf_features```, while ```titles``` is a list of the article titles."
      ]
    },
    {
      "cell_type": "code",
      "metadata": {
        "id": "qGNUhubG0mM_",
        "colab": {
          "base_uri": "https://localhost:8080/"
        },
        "outputId": "e3c39e36-3d37-4ecc-fc60-7a7038fbc904"
      },
      "source": [
        "from sklearn.preprocessing import normalize\n",
        "\n",
        "# Normalize the NMF features: norm_features\n",
        "norm_features = normalize(nmf_features)\n",
        "\n",
        "# Create a DataFrame: df\n",
        "df = pd.DataFrame(norm_features, index=titles)\n",
        "\n",
        "# Select the row corresponding to 'Cristiano Ronaldo': article\n",
        "article = df.loc['Cristiano Ronaldo']\n",
        "\n",
        "# Compute the dot products: similarities\n",
        "similarities = df.dot(article)\n",
        "\n",
        "# Display thouse with the largest cosine similarity\n",
        "print(similarities.nlargest())"
      ],
      "execution_count": 18,
      "outputs": [
        {
          "output_type": "stream",
          "text": [
            "Cristiano Ronaldo                1.000000\n",
            "Franck Ribéry                    0.999972\n",
            "Radamel Falcao                   0.999942\n",
            "Zlatan Ibrahimović               0.999942\n",
            "France national football team    0.999923\n",
            "dtype: float64\n"
          ],
          "name": "stdout"
        }
      ]
    },
    {
      "cell_type": "markdown",
      "metadata": {
        "id": "wEHTSiME0mM_"
      },
      "source": [
        "### Recommend musical artists part I\n",
        "In this exercise and the next, you'll use what you've learned about NMF to recommend popular music artists! You are given a sparse array ```artists``` whose rows correspond to artists and whose columns correspond to users. The entries give the number of times each artist was listened to by each user.\n",
        "\n",
        "In this exercise, build a pipeline and transform the array into normalized NMF features. The first step in the pipeline, ```MaxAbsScaler```, transforms the data so that all users have the same influence on the model, regardless of how many different artists they've listened to. In the next exercise, you'll use the resulting normalized NMF features for recommendation!"
      ]
    },
    {
      "cell_type": "markdown",
      "metadata": {
        "id": "oDsjJKTA0mNA"
      },
      "source": [
        "#### Preprocess"
      ]
    },
    {
      "cell_type": "code",
      "metadata": {
        "id": "6r2_kLtf0mNB"
      },
      "source": [
        "from scipy.sparse import coo_matrix\n",
        "\n",
        "df = pd.read_csv('Musical artists/scrobbler-small-sample.csv')\n",
        "artists1 = df.sort_values(['artist_offset', 'user_offset'], ascending=[True, True])\n",
        "row_ind = np.array(artists1['artist_offset'])\n",
        "col_ind = np.array(artists1['user_offset'])\n",
        "data1 = np.array(artists1['playcount'])\n",
        "artists = coo_matrix((data1, (row_ind, col_ind)))"
      ],
      "execution_count": 19,
      "outputs": []
    },
    {
      "cell_type": "code",
      "metadata": {
        "id": "-pmf_WcT0mNB",
        "colab": {
          "base_uri": "https://localhost:8080/"
        },
        "outputId": "b9805d70-f224-4eac-9ae7-c5ca16f7faa9"
      },
      "source": [
        "artists"
      ],
      "execution_count": 20,
      "outputs": [
        {
          "output_type": "execute_result",
          "data": {
            "text/plain": [
              "<111x500 sparse matrix of type '<class 'numpy.int64'>'\n",
              "\twith 2894 stored elements in COOrdinate format>"
            ]
          },
          "metadata": {
            "tags": []
          },
          "execution_count": 20
        }
      ]
    },
    {
      "cell_type": "code",
      "metadata": {
        "id": "LHuLmvRL0mNC"
      },
      "source": [
        "from sklearn.preprocessing import Normalizer, MaxAbsScaler\n",
        "from sklearn.pipeline import make_pipeline\n",
        "\n",
        "# Create a MaxAbsScaler: scaler\n",
        "scaler = MaxAbsScaler()\n",
        "\n",
        "# Create an NMF model: nmf\n",
        "nmf = NMF(n_components=20)\n",
        "\n",
        "# Create a Normalizer: normalizer\n",
        "normalizer = Normalizer()\n",
        "\n",
        "# Create a pipeline: pipeline\n",
        "pipeline = make_pipeline(scaler, nmf, normalizer)\n",
        "\n",
        "# Apply fit_transform to artists: norm_features\n",
        "norm_features = pipeline.fit_transform(artists)"
      ],
      "execution_count": 21,
      "outputs": []
    },
    {
      "cell_type": "markdown",
      "metadata": {
        "id": "opm4Gjfr0mNC"
      },
      "source": [
        "### Recommend musical artists part II\n",
        "Suppose you were a big fan of Bruce Springsteen - which other musicial artists might you like? Use your NMF features from the previous exercise and the cosine similarity to find similar musical artists. A solution to the previous exercise has been run, so ```norm_features``` is an array containing the normalized NMF features as rows. The names of the musical artists are available as the list ```artist_names```."
      ]
    },
    {
      "cell_type": "markdown",
      "metadata": {
        "id": "D7CKRN740mND"
      },
      "source": [
        "#### Preprocess"
      ]
    },
    {
      "cell_type": "code",
      "metadata": {
        "id": "CVdZK7BW0mND"
      },
      "source": [
        "df = pd.read_csv('Musical artists/artists.csv', header=None)\n",
        "artist_names = df.values.reshape(111).tolist()"
      ],
      "execution_count": 22,
      "outputs": []
    },
    {
      "cell_type": "code",
      "metadata": {
        "id": "VP4-XSVu0mND",
        "colab": {
          "base_uri": "https://localhost:8080/"
        },
        "outputId": "05789a8b-e870-484e-cba9-ec6d90641394"
      },
      "source": [
        "artist_names"
      ],
      "execution_count": 23,
      "outputs": [
        {
          "output_type": "execute_result",
          "data": {
            "text/plain": [
              "['Massive Attack',\n",
              " 'Sublime',\n",
              " 'Beastie Boys',\n",
              " 'Neil Young',\n",
              " 'Dead Kennedys',\n",
              " 'Orbital',\n",
              " 'Miles Davis',\n",
              " 'Leonard Cohen',\n",
              " 'Van Morrison',\n",
              " 'NOFX',\n",
              " 'Rancid',\n",
              " 'Lamb',\n",
              " 'Korn',\n",
              " 'Dropkick Murphys',\n",
              " 'Bob Dylan',\n",
              " 'Eminem',\n",
              " 'Nirvana',\n",
              " 'Van Halen',\n",
              " 'Damien Rice',\n",
              " 'Elvis Costello',\n",
              " 'Everclear',\n",
              " 'Jimi Hendrix',\n",
              " 'PJ Harvey',\n",
              " 'Red Hot Chili Peppers',\n",
              " 'Ryan Adams',\n",
              " 'Soundgarden',\n",
              " 'The White Stripes',\n",
              " 'Madonna',\n",
              " 'Eric Clapton',\n",
              " 'Bob Marley',\n",
              " 'Dr. Dre',\n",
              " 'The Flaming Lips',\n",
              " 'Tom Waits',\n",
              " 'Moby',\n",
              " 'Cypress Hill',\n",
              " 'Garbage',\n",
              " 'Fear Factory',\n",
              " '50 Cent',\n",
              " 'Ani DiFranco',\n",
              " 'Matchbox Twenty',\n",
              " 'The Police',\n",
              " 'Eagles',\n",
              " 'Phish',\n",
              " 'Stone Temple Pilots',\n",
              " 'Black Sabbath',\n",
              " 'Britney Spears',\n",
              " 'Fatboy Slim',\n",
              " 'System of a Down',\n",
              " 'Simon & Garfunkel',\n",
              " 'Snoop Dogg',\n",
              " 'Aimee Mann',\n",
              " 'Less Than Jake',\n",
              " 'Rammstein',\n",
              " 'Reel Big Fish',\n",
              " 'The Prodigy',\n",
              " 'Pantera',\n",
              " 'Foo Fighters',\n",
              " 'The Beatles',\n",
              " 'Incubus',\n",
              " 'Audioslave',\n",
              " 'Bright Eyes',\n",
              " 'Machine Head',\n",
              " 'AC/DC',\n",
              " 'Dire Straits',\n",
              " 'Motörhead',\n",
              " 'Ramones',\n",
              " 'Slipknot',\n",
              " 'Me First and the Gimme Gimmes',\n",
              " 'Bruce Springsteen',\n",
              " 'Queens of the Stone Age',\n",
              " 'The Chemical Brothers',\n",
              " 'Bon Jovi',\n",
              " 'Goo Goo Dolls',\n",
              " 'Alice in Chains',\n",
              " 'Howard Shore',\n",
              " 'Barenaked Ladies',\n",
              " 'Anti-Flag',\n",
              " 'Nick Cave and the Bad Seeds',\n",
              " 'Static-X',\n",
              " 'Misfits',\n",
              " '2Pac',\n",
              " 'Sparta',\n",
              " 'Interpol',\n",
              " 'The Crystal Method',\n",
              " 'The Beach Boys',\n",
              " 'Goldfrapp',\n",
              " 'Bob Marley & the Wailers',\n",
              " 'Kylie Minogue',\n",
              " 'The Blood Brothers',\n",
              " 'Mirah',\n",
              " 'Ludacris',\n",
              " 'Snow Patrol',\n",
              " 'The Mars Volta',\n",
              " 'Yeah Yeah Yeahs',\n",
              " 'Iced Earth',\n",
              " 'Fiona Apple',\n",
              " 'Rilo Kiley',\n",
              " 'Rufus Wainwright',\n",
              " 'Flogging Molly',\n",
              " 'Hot Hot Heat',\n",
              " 'Dredg',\n",
              " 'Switchfoot',\n",
              " 'Tegan and Sara',\n",
              " 'Rage Against the Machine',\n",
              " 'Keane',\n",
              " 'Jet',\n",
              " 'Franz Ferdinand',\n",
              " 'The Postal Service',\n",
              " 'The Dresden Dolls',\n",
              " 'The Killers',\n",
              " 'Death From Above 1979']"
            ]
          },
          "metadata": {
            "tags": []
          },
          "execution_count": 23
        }
      ]
    },
    {
      "cell_type": "code",
      "metadata": {
        "id": "4ke7WOQ-0mNE",
        "colab": {
          "base_uri": "https://localhost:8080/"
        },
        "outputId": "2eead077-cb02-4bae-a770-e438f80b45f7"
      },
      "source": [
        "# Createa DataFrame: df\n",
        "df = pd.DataFrame(norm_features, index=artist_names)\n",
        "\n",
        "# Select row of 'Bruce Springsteen': artist\n",
        "artist = df.loc['Bruce Springsteen']\n",
        "\n",
        "# Compute cosine similarities: similarities\n",
        "similarities = df.dot(artist)\n",
        "\n",
        "# Display those with highest cosine similarity\n",
        "print(similarities.nlargest())"
      ],
      "execution_count": 24,
      "outputs": [
        {
          "output_type": "stream",
          "text": [
            "Bruce Springsteen    1.000000\n",
            "Neil Young           0.956077\n",
            "Van Morrison         0.872279\n",
            "Leonard Cohen        0.865370\n",
            "Bob Dylan            0.859356\n",
            "dtype: float64\n"
          ],
          "name": "stdout"
        }
      ]
    }
  ]
}