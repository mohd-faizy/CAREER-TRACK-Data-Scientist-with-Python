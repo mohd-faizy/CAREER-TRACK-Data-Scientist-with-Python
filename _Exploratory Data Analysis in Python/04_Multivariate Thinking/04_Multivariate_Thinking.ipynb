{
  "nbformat": 4,
  "nbformat_minor": 0,
  "metadata": {
    "colab": {
      "name": "04_Multivariate_Thinking.ipynb",
      "provenance": []
    },
    "kernelspec": {
      "name": "python3",
      "display_name": "Python 3"
    }
  },
  "cells": [
    {
      "cell_type": "markdown",
      "metadata": {
        "id": "cUdFFwNEVI-P"
      },
      "source": [
        "--- \r\n",
        "<strong> \r\n",
        "    <h1 align='center'>04 Multivariate Thinking\r\n",
        "</h1> \r\n",
        "</strong>\r\n",
        "\r\n",
        "---"
      ]
    },
    {
      "cell_type": "markdown",
      "metadata": {
        "id": "juMJ_HUATF7W"
      },
      "source": [
        "Clone the repository -- __Exploratory Data Analysis in Python__"
      ]
    },
    {
      "cell_type": "code",
      "metadata": {
        "colab": {
          "base_uri": "https://localhost:8080/"
        },
        "id": "45A5T9MIQl4U",
        "outputId": "80a4015b-effc-41fd-ba39-bf83ad7e8479"
      },
      "source": [
        "!git clone https://github.com/mohd-faizy/CAREER-TRACK-Data-Scientist-with-Python.git"
      ],
      "execution_count": 1,
      "outputs": [
        {
          "output_type": "stream",
          "text": [
            "Cloning into 'CAREER-TRACK-Data-Scientist-with-Python'...\n",
            "remote: Enumerating objects: 397, done.\u001b[K\n",
            "remote: Counting objects: 100% (397/397), done.\u001b[K\n",
            "remote: Compressing objects: 100% (340/340), done.\u001b[K\n",
            "remote: Total 1768 (delta 114), reused 333 (delta 52), pack-reused 1371\u001b[K\n",
            "Receiving objects: 100% (1768/1768), 181.58 MiB | 29.42 MiB/s, done.\n",
            "Resolving deltas: 100% (606/606), done.\n",
            "Checking out files: 100% (790/790), done.\n"
          ],
          "name": "stdout"
        }
      ]
    },
    {
      "cell_type": "markdown",
      "metadata": {
        "id": "lgq55HorUEBI"
      },
      "source": [
        "__Change the current working directory__"
      ]
    },
    {
      "cell_type": "code",
      "metadata": {
        "colab": {
          "base_uri": "https://localhost:8080/"
        },
        "id": "sV77zYvcQ4bV",
        "outputId": "78c1224f-92d9-4d5f-dc56-aab326807f54"
      },
      "source": [
        "# import os module \r\n",
        "import os \r\n",
        "   \r\n",
        "# to specified path \r\n",
        "os.chdir('/content/CAREER-TRACK-Data-Scientist-with-Python/20_Exploratory Data Analysis in Python/_dataset') \r\n",
        "  \r\n",
        "# varify the path using getcwd() \r\n",
        "cwd = os.getcwd() \r\n",
        "  \r\n",
        "# print the current directory \r\n",
        "print(\"Current working directory is:\", cwd) "
      ],
      "execution_count": 2,
      "outputs": [
        {
          "output_type": "stream",
          "text": [
            "Current working directory is: /content/CAREER-TRACK-Data-Scientist-with-Python/20_Exploratory Data Analysis in Python/_dataset\n"
          ],
          "name": "stdout"
        }
      ]
    },
    {
      "cell_type": "code",
      "metadata": {
        "colab": {
          "base_uri": "https://localhost:8080/"
        },
        "id": "iWqv8ejWRIec",
        "outputId": "8d913f69-303f-4e89-e798-f0ef162f2aed"
      },
      "source": [
        "ls"
      ],
      "execution_count": 3,
      "outputs": [
        {
          "output_type": "stream",
          "text": [
            "'Behavioral Risk Factor Surveillance System(brfss).hdf5'\n",
            "'General Social Survey(gss).hdf5'\n",
            "'National Survey of Family Growth(nsfg).hdf5'\n"
          ],
          "name": "stdout"
        }
      ]
    },
    {
      "cell_type": "markdown",
      "metadata": {
        "id": "DyXJ4igQz5yj"
      },
      "source": [
        "`pip install empiricaldist`\r\n",
        "\r\n",
        "Python library that represents\r\n",
        "[empirical distributions](https://nbviewer.jupyter.org/github/AllenDowney/empiricaldist/blob/master/empiricaldist/dist_demo.ipynb)\r\n",
        "\r\n",
        "\r\n"
      ]
    },
    {
      "cell_type": "code",
      "metadata": {
        "colab": {
          "base_uri": "https://localhost:8080/"
        },
        "id": "DSXYvm2H0DRi",
        "outputId": "2ddae9f1-4451-4c32-973c-f6dd835a83d3"
      },
      "source": [
        "!pip install empiricaldist"
      ],
      "execution_count": 4,
      "outputs": [
        {
          "output_type": "stream",
          "text": [
            "Collecting empiricaldist\n",
            "  Downloading https://files.pythonhosted.org/packages/f0/44/4b78042efbde4ba9d2f840c774d37a609d9ba6dcf87b8320b02c14b7f018/empiricaldist-0.6.0.tar.gz\n",
            "Building wheels for collected packages: empiricaldist\n",
            "  Building wheel for empiricaldist (setup.py) ... \u001b[?25l\u001b[?25hdone\n",
            "  Created wheel for empiricaldist: filename=empiricaldist-0.6.0-cp36-none-any.whl size=10357 sha256=9a954cdcf9b3550a9b108d85537c6832571fd25d2cf4163e073cdeb785bfde44\n",
            "  Stored in directory: /root/.cache/pip/wheels/a7/18/38/f4791357371b1d677a885149b397cb1437c0ea88939ab642e7\n",
            "Successfully built empiricaldist\n",
            "Installing collected packages: empiricaldist\n",
            "Successfully installed empiricaldist-0.6.0\n"
          ],
          "name": "stdout"
        }
      ]
    },
    {
      "cell_type": "code",
      "metadata": {
        "id": "a2OPlWhtUkSb",
        "colab": {
          "base_uri": "https://localhost:8080/"
        },
        "outputId": "89f8a45b-d394-44a4-b644-45cb393aed96"
      },
      "source": [
        "# importing  the necessary libraries\r\n",
        "import numpy as np\r\n",
        "import pandas as pd\r\n",
        "\r\n",
        "import matplotlib.pyplot as plt\r\n",
        "import seaborn as sns\r\n",
        "\r\n",
        "import statsmodels.formula.api as smf\r\n",
        "from empiricaldist import Pmf"
      ],
      "execution_count": 5,
      "outputs": [
        {
          "output_type": "stream",
          "text": [
            "/usr/local/lib/python3.6/dist-packages/statsmodels/tools/_testing.py:19: FutureWarning: pandas.util.testing is deprecated. Use the functions in the public API at pandas.testing instead.\n",
            "  import pandas.util.testing as tm\n"
          ],
          "name": "stderr"
        }
      ]
    },
    {
      "cell_type": "code",
      "metadata": {
        "colab": {
          "base_uri": "https://localhost:8080/",
          "height": 191
        },
        "id": "I_NKwjwlNLcK",
        "outputId": "ecbd8155-3ee6-4f19-b96e-9e66b2a4983f"
      },
      "source": [
        "brfss = pd.read_hdf('Behavioral Risk Factor Surveillance System(brfss).hdf5', 'brfss')\r\n",
        "brfss.head()"
      ],
      "execution_count": 6,
      "outputs": [
        {
          "output_type": "execute_result",
          "data": {
            "text/html": [
              "<div>\n",
              "<style scoped>\n",
              "    .dataframe tbody tr th:only-of-type {\n",
              "        vertical-align: middle;\n",
              "    }\n",
              "\n",
              "    .dataframe tbody tr th {\n",
              "        vertical-align: top;\n",
              "    }\n",
              "\n",
              "    .dataframe thead th {\n",
              "        text-align: right;\n",
              "    }\n",
              "</style>\n",
              "<table border=\"1\" class=\"dataframe\">\n",
              "  <thead>\n",
              "    <tr style=\"text-align: right;\">\n",
              "      <th></th>\n",
              "      <th>SEX</th>\n",
              "      <th>HTM4</th>\n",
              "      <th>WTKG3</th>\n",
              "      <th>INCOME2</th>\n",
              "      <th>_LLCPWT</th>\n",
              "      <th>_AGEG5YR</th>\n",
              "      <th>_VEGESU1</th>\n",
              "      <th>_HTMG10</th>\n",
              "      <th>AGE</th>\n",
              "    </tr>\n",
              "  </thead>\n",
              "  <tbody>\n",
              "    <tr>\n",
              "      <th>96230</th>\n",
              "      <td>2.0</td>\n",
              "      <td>160.0</td>\n",
              "      <td>60.33</td>\n",
              "      <td>8.0</td>\n",
              "      <td>1398.525290</td>\n",
              "      <td>6.0</td>\n",
              "      <td>2.14</td>\n",
              "      <td>150.0</td>\n",
              "      <td>47.0</td>\n",
              "    </tr>\n",
              "    <tr>\n",
              "      <th>244920</th>\n",
              "      <td>2.0</td>\n",
              "      <td>163.0</td>\n",
              "      <td>58.97</td>\n",
              "      <td>5.0</td>\n",
              "      <td>84.057503</td>\n",
              "      <td>13.0</td>\n",
              "      <td>3.14</td>\n",
              "      <td>160.0</td>\n",
              "      <td>89.5</td>\n",
              "    </tr>\n",
              "    <tr>\n",
              "      <th>57312</th>\n",
              "      <td>2.0</td>\n",
              "      <td>163.0</td>\n",
              "      <td>72.57</td>\n",
              "      <td>8.0</td>\n",
              "      <td>390.248599</td>\n",
              "      <td>5.0</td>\n",
              "      <td>2.64</td>\n",
              "      <td>160.0</td>\n",
              "      <td>42.0</td>\n",
              "    </tr>\n",
              "    <tr>\n",
              "      <th>32573</th>\n",
              "      <td>2.0</td>\n",
              "      <td>165.0</td>\n",
              "      <td>74.84</td>\n",
              "      <td>1.0</td>\n",
              "      <td>11566.705300</td>\n",
              "      <td>3.0</td>\n",
              "      <td>1.46</td>\n",
              "      <td>160.0</td>\n",
              "      <td>32.0</td>\n",
              "    </tr>\n",
              "    <tr>\n",
              "      <th>355929</th>\n",
              "      <td>2.0</td>\n",
              "      <td>170.0</td>\n",
              "      <td>108.86</td>\n",
              "      <td>3.0</td>\n",
              "      <td>844.485450</td>\n",
              "      <td>3.0</td>\n",
              "      <td>1.81</td>\n",
              "      <td>160.0</td>\n",
              "      <td>32.0</td>\n",
              "    </tr>\n",
              "  </tbody>\n",
              "</table>\n",
              "</div>"
            ],
            "text/plain": [
              "        SEX   HTM4   WTKG3  INCOME2  ...  _AGEG5YR  _VEGESU1  _HTMG10   AGE\n",
              "96230   2.0  160.0   60.33      8.0  ...       6.0      2.14    150.0  47.0\n",
              "244920  2.0  163.0   58.97      5.0  ...      13.0      3.14    160.0  89.5\n",
              "57312   2.0  163.0   72.57      8.0  ...       5.0      2.64    160.0  42.0\n",
              "32573   2.0  165.0   74.84      1.0  ...       3.0      1.46    160.0  32.0\n",
              "355929  2.0  170.0  108.86      3.0  ...       3.0      1.81    160.0  32.0\n",
              "\n",
              "[5 rows x 9 columns]"
            ]
          },
          "metadata": {
            "tags": []
          },
          "execution_count": 6
        }
      ]
    },
    {
      "cell_type": "markdown",
      "metadata": {
        "id": "_P9TqWf54V1k"
      },
      "source": [
        "## __01 Regression and causation__\r\n",
        "\r\n",
        "In the BRFSS dataset, there is a strong relationship between **vegetable consumption** and **income**. The income of people who eat 8 servings of vegetables per day is double the income of people who eat none, on average.\r\n",
        "\r\n",
        "__Which of the following conclusions can we draw from this data?__\r\n",
        "\r\n",
        "    A. Eating a good diet leads to better health and higher income.\r\n",
        "\r\n",
        "    B. People with higher income can afford a better diet.\r\n",
        "\r\n",
        "    C. People with high income are more likely to be vegetarians.\r\n",
        " \r\n",
        "__Possible Answer__\r\n",
        "- A Only\r\n",
        "- B Only\r\n",
        "- B & C \r\n",
        "- __None of them__\r\n",
        "\r\n",
        "$\\color{red}{\\textbf{Answer:}}$- __None of them__\r\n",
        "\r\n",
        "This data is consistent with all of these conclusions, but it __does not provide conclusive evidence__ for any of them."
      ]
    },
    {
      "cell_type": "markdown",
      "metadata": {
        "id": "NbsBLgvw6bqw"
      },
      "source": [
        "## __02 Using StatsModels__"
      ]
    },
    {
      "cell_type": "markdown",
      "metadata": {
        "id": "muLSdhwU6etP"
      },
      "source": [
        "Let's run the same regression using SciPy and StatsModels, and confirm we get the same results."
      ]
    },
    {
      "cell_type": "markdown",
      "metadata": {
        "id": "45iv44a86hZ5"
      },
      "source": [
        "__Instructions:__\r\n",
        "\r\n",
        "- Compute the regression of `'_VEGESU1'` as a function of `'INCOME2'` using SciPy's `linregress()`.\r\n",
        "\r\n",
        "- Compute the regression of `'_VEGESU1'` as a function of `'INCOME2'` using StatsModels `smf.ols()`."
      ]
    },
    {
      "cell_type": "code",
      "metadata": {
        "colab": {
          "base_uri": "https://localhost:8080/"
        },
        "id": "m-7i1fWt5o2o",
        "outputId": "7fd36e2f-e511-435d-856c-7f8633f421f4"
      },
      "source": [
        "from scipy.stats import linregress\r\n",
        "import statsmodels.formula.api as smf\r\n",
        "\r\n",
        "# Run regression with linregress\r\n",
        "subset = brfss.dropna(subset=['INCOME2', '_VEGESU1'])\r\n",
        "xs = subset['INCOME2']\r\n",
        "ys = subset['_VEGESU1']\r\n",
        "res = linregress(xs,ys)\r\n",
        "print(res)\r\n",
        "\r\n",
        "# Run regression with StatsModels\r\n",
        "results = smf.ols('_VEGESU1 ~ INCOME2', data = brfss).fit()\r\n",
        "print(results.params)"
      ],
      "execution_count": 7,
      "outputs": [
        {
          "output_type": "stream",
          "text": [
            "LinregressResult(slope=0.06988048092105019, intercept=1.5287786243363106, rvalue=0.11967005884864099, pvalue=1.378503916248713e-238, stderr=0.002110976356332333)\n",
            "Intercept    1.528779\n",
            "INCOME2      0.069880\n",
            "dtype: float64\n"
          ],
          "name": "stdout"
        }
      ]
    },
    {
      "cell_type": "markdown",
      "metadata": {
        "id": "ZurGwlk90flo"
      },
      "source": [
        "$\\color{red}{\\textbf{NOTE:}}$-  __SciPy__ doesn't do __multiple regression__, so we'll to switch to a new library, __StatsModels__"
      ]
    },
    {
      "cell_type": "markdown",
      "metadata": {
        "id": "bo2DpKIH3xO-"
      },
      "source": [
        "- `ols` stands for \"__ordinary least squares__\", another name for **regression**.\r\n",
        "\r\n",
        "- The result from `ols()` represents the model; we have to run dot `.fit()` to get the results. The results object contains a lot of information, but the first thing we'll look at is `params`, which contains the estimated slope and intercept. And we get the same results we got from `SciPy`"
      ]
    },
    {
      "cell_type": "markdown",
      "metadata": {
        "id": "AbZ8Pj45-1iH"
      },
      "source": [
        "## __Dataset:__ *General Social Survey(gss)*"
      ]
    },
    {
      "cell_type": "code",
      "metadata": {
        "colab": {
          "base_uri": "https://localhost:8080/"
        },
        "id": "2VG4x49uD8DS",
        "outputId": "c53a1a18-80ca-4ad4-c9ed-045f7e8e1d07"
      },
      "source": [
        "# Income and education\r\n",
        "gss = pd.read_hdf('General Social Survey(gss).hdf5', 'gss')\r\n",
        "print(gss.columns)\r\n",
        "\r\n",
        "results = smf.ols('realinc ~ educ', data=gss).fit()\r\n",
        "print(results.params)"
      ],
      "execution_count": 8,
      "outputs": [
        {
          "output_type": "stream",
          "text": [
            "Index(['year', 'age', 'cohort', 'sex', 'race', 'educ', 'realinc', 'gunlaw',\n",
            "       'grass', 'wtssall'],\n",
            "      dtype='object')\n",
            "Intercept   -11539.147837\n",
            "educ          3586.523659\n",
            "dtype: float64\n"
          ],
          "name": "stdout"
        }
      ]
    },
    {
      "cell_type": "markdown",
      "metadata": {
        "id": "p6COu4QZGOjE"
      },
      "source": [
        "__StatsModels__:- \r\n",
        "\r\n",
        "Getting from simple to multiple regression is easy."
      ]
    },
    {
      "cell_type": "code",
      "metadata": {
        "colab": {
          "base_uri": "https://localhost:8080/"
        },
        "id": "K8Ih53_pEDOs",
        "outputId": "b277e2c3-77c9-446f-b402-e33aa0931b4f"
      },
      "source": [
        "# Adding Age\r\n",
        "'''\r\n",
        "Income also depends on age, so it would be good to include\r\n",
        "that in the model, too.\r\n",
        "'''\r\n",
        "results = smf.ols('realinc ~ educ + age', data=gss).fit()\r\n",
        "results.params"
      ],
      "execution_count": 9,
      "outputs": [
        {
          "output_type": "execute_result",
          "data": {
            "text/plain": [
              "Intercept   -16117.275684\n",
              "educ          3655.166921\n",
              "age             83.731804\n",
              "dtype: float64"
            ]
          },
          "metadata": {
            "tags": []
          },
          "execution_count": 9
        }
      ]
    },
    {
      "cell_type": "code",
      "metadata": {
        "colab": {
          "base_uri": "https://localhost:8080/",
          "height": 295
        },
        "id": "WthG_9UMEQ5k",
        "outputId": "6114ffb6-99f0-49e9-f4dd-6f84d6f6d94b"
      },
      "source": [
        "# Income and Age\r\n",
        "grouped = gss.groupby('age')\r\n",
        "mean_income_by_age = grouped['realinc'].mean()\r\n",
        "plt.plot(mean_income_by_age, 'o', alpha=0.5)\r\n",
        "plt.xlabel('Age (years)')\r\n",
        "plt.ylabel('Income (1986 $)')\r\n",
        "plt.show"
      ],
      "execution_count": 10,
      "outputs": [
        {
          "output_type": "execute_result",
          "data": {
            "text/plain": [
              "<function matplotlib.pyplot.show>"
            ]
          },
          "metadata": {
            "tags": []
          },
          "execution_count": 10
        },
        {
          "output_type": "display_data",
          "data": {
            "image/png": "[encoded data removed]",
            "text/plain": [
              "<Figure size 432x288 with 1 Axes>"
            ]
          },
          "metadata": {
            "tags": [],
            "needs_background": "light"
          }
        }
      ]
    },
    {
      "cell_type": "markdown",
      "metadata": {
        "id": "wXq785xfIoBe"
      },
      "source": [
        "__Adding a quadratic term__\r\n",
        "\r\n",
        "- To describe a **non-linear relationship**, one option is to add a new variable that is a **non-linear combination** of other variables.\r\n",
        "\r\n",
        "__Example__ we will create a new variable called `age2` that equals age squared.\r\n",
        "\r\n",
        "- Now we can run a regression with both `age` and `age2` on the right side. And here are the results. The slope associated with age is substantial, about $1700 per year. The slope associated with age2 is about -17, which is harder to interpret."
      ]
    },
    {
      "cell_type": "code",
      "metadata": {
        "colab": {
          "base_uri": "https://localhost:8080/"
        },
        "id": "m-jGxLo3EkIM",
        "outputId": "695e0a7e-5829-477a-ad81-e6a145a7eb77"
      },
      "source": [
        "# Adding a quadratic term\r\n",
        "gss['age2'] = gss['age']**2\r\n",
        "model = smf.ols('realinc ~ educ + age + age2', data=gss)\r\n",
        "results = model.fit()\r\n",
        "results.params"
      ],
      "execution_count": 11,
      "outputs": [
        {
          "output_type": "execute_result",
          "data": {
            "text/plain": [
              "Intercept   -48058.679679\n",
              "educ          3442.447178\n",
              "age           1748.232631\n",
              "age2           -17.437552\n",
              "dtype: float64"
            ]
          },
          "metadata": {
            "tags": []
          },
          "execution_count": 11
        }
      ]
    },
    {
      "cell_type": "markdown",
      "metadata": {
        "id": "rE7N0PYqJi8O"
      },
      "source": [
        "## **03 Plot income and education**\r\n",
        "\r\n",
        "To get a closer look at the relationship between income and education, let's use the variable `'educ'` to group the data, then plot mean income in each group.\r\n",
        "\r\n",
        "Here, the GSS dataset has been pre-loaded into a DataFrame called `gss`."
      ]
    },
    {
      "cell_type": "markdown",
      "metadata": {
        "id": "GZvBsq_2Jrh5"
      },
      "source": [
        "__Instructions__\r\n",
        "\r\n",
        "- Group `gss` by `'educ'`. Store the result in `grouped`.\r\n",
        "\r\n",
        "- From grouped, extract `'realinc'` and compute the mean.\r\n",
        "\r\n",
        "- Plot `mean_income_by_educ` as a scatter plot. Specify `'o'` and `alpha=0.5`."
      ]
    },
    {
      "cell_type": "code",
      "metadata": {
        "colab": {
          "base_uri": "https://localhost:8080/",
          "height": 278
        },
        "id": "C7lGQknJI-wy",
        "outputId": "cc5bc663-a889-4be1-cfa8-11e8e3ab919e"
      },
      "source": [
        "# Group by educ\r\n",
        "grouped = gss.groupby('educ')\r\n",
        " \r\n",
        "# Compute mean income in each group\r\n",
        "mean_income_by_educ = grouped['realinc'].mean()\r\n",
        " \r\n",
        "# Plot mean income as a scatter plot\r\n",
        "plt.plot(mean_income_by_educ, 'o', alpha=0.5)\r\n",
        " \r\n",
        "# Label the axes\r\n",
        "plt.xlabel('Education (years)')\r\n",
        "plt.ylabel('Income (1986 $)')\r\n",
        "plt.show()"
      ],
      "execution_count": 12,
      "outputs": [
        {
          "output_type": "display_data",
          "data": {
            "image/png": "[encoded data removed]",
            "text/plain": [
              "<Figure size 432x288 with 1 Axes>"
            ]
          },
          "metadata": {
            "tags": [],
            "needs_background": "light"
          }
        }
      ]
    },
    {
      "cell_type": "markdown",
      "metadata": {
        "id": "8IQi_rFSKrMJ"
      },
      "source": [
        "It looks like the relationship between **income** and **education** is **non-linear**."
      ]
    },
    {
      "cell_type": "markdown",
      "metadata": {
        "id": "yOzCWtxzKvq4"
      },
      "source": [
        "## __04 Non-linear model of education__\r\n",
        "\r\n",
        "The graph in the previous exercise suggests that the relationship between income and education is non-linear. So let's try fitting a non-linear model."
      ]
    },
    {
      "cell_type": "markdown",
      "metadata": {
        "id": "VMx21VosNIRJ"
      },
      "source": [
        "__Instructions__\r\n",
        "\r\n",
        "- Add a column named `'educ2'` to the `gss` DataFrame; it should contain the values from `'educ'` squared.\r\n",
        "\r\n",
        "- Run a regression model that uses `'educ'`, `'educ2'`, `'age'`, and `'age2'` to predict `'realinc'`."
      ]
    },
    {
      "cell_type": "code",
      "metadata": {
        "colab": {
          "base_uri": "https://localhost:8080/"
        },
        "id": "zKMI-CyQKvMe",
        "outputId": "a1e446d0-1ddc-4bad-deb1-3d10bda1eb46"
      },
      "source": [
        "import statsmodels.formula.api as smf\r\n",
        " \r\n",
        "# Add a new column with educ squared\r\n",
        "gss['educ2'] = gss['educ'] ** 2\r\n",
        "gss['age2'] = gss['age']**2\r\n",
        "\r\n",
        "# Run a regression model with educ, educ2, age, and age2\r\n",
        "results = smf.ols('realinc ~ educ + educ2 + age + age2',data=gss).fit()\r\n",
        " \r\n",
        "# Print the estimated parameters\r\n",
        "print(results.params) # parameters are hard to interpret."
      ],
      "execution_count": 13,
      "outputs": [
        {
          "output_type": "stream",
          "text": [
            "Intercept   -23241.884034\n",
            "educ          -528.309369\n",
            "educ2          159.966740\n",
            "age           1696.717149\n",
            "age2           -17.196984\n",
            "dtype: float64\n"
          ],
          "name": "stdout"
        }
      ]
    },
    {
      "cell_type": "markdown",
      "metadata": {
        "id": "Rr5k1tT1Opgb"
      },
      "source": [
        "**Multiple Regression Model** to characterize the relationship between **income** and **age**. Because the model is **non-linear**, **the parameters are hard to interpret**. "
      ]
    },
    {
      "cell_type": "markdown",
      "metadata": {
        "id": "23BRksk1cIhP"
      },
      "source": [
        "## __05 Making predictions__"
      ]
    },
    {
      "cell_type": "markdown",
      "metadata": {
        "id": "TBS83XbDcUXZ"
      },
      "source": [
        "- At this point, we have a model that predicts income using `age`, `education`, and sex.\r\n",
        "\r\n",
        "- Let's see what it predicts for different levels of education, holding `age` constant."
      ]
    },
    {
      "cell_type": "markdown",
      "metadata": {
        "id": "MfqjBXsMcjIR"
      },
      "source": [
        "__Instructions:__\r\n",
        "\r\n",
        "- Using `np.linspace()`, add a variable named `'educ'` to df with a range of values from 0 to 20.\r\n",
        "\r\n",
        "- Add a variable named `'age'` with the constant value 30.\r\n",
        "\r\n",
        "- Use `df` to generate predicted income as a function of education."
      ]
    },
    {
      "cell_type": "code",
      "metadata": {
        "colab": {
          "base_uri": "https://localhost:8080/"
        },
        "id": "gt8RlPLrcT-j",
        "outputId": "12932694-8aeb-434b-ec1d-7d318d2a03e4"
      },
      "source": [
        "# Run a regression model with educ, educ2, age, and age2\r\n",
        "results = smf.ols('realinc ~ educ + educ2 + age + age2', data=gss).fit()\r\n",
        " \r\n",
        "# Make the DataFrame\r\n",
        "df = pd.DataFrame()\r\n",
        "df['educ'] = np.linspace(0,20)\r\n",
        "df['age'] = 30\r\n",
        "df['educ2'] = df['educ']**2\r\n",
        "df['age2'] = df['age']**2\r\n",
        " \r\n",
        "# Generate and plot the predictions\r\n",
        "pred = results.predict(df)\r\n",
        "print(pred.head())"
      ],
      "execution_count": 14,
      "outputs": [
        {
          "output_type": "stream",
          "text": [
            "0    12182.344976\n",
            "1    11993.358518\n",
            "2    11857.672098\n",
            "3    11775.285717\n",
            "4    11746.199374\n",
            "dtype: float64\n"
          ],
          "name": "stdout"
        }
      ]
    },
    {
      "cell_type": "markdown",
      "metadata": {
        "id": "4PuO6wLHeLKM"
      },
      "source": [
        "## __06 Visualizing predictions__"
      ]
    },
    {
      "cell_type": "markdown",
      "metadata": {
        "id": "ZmMMwuTieRZm"
      },
      "source": [
        "Now let's visualize the results from the previous cell\r\n",
        "\r\n",
        "__Instructions___\r\n",
        "\r\n",
        "- Plot `mean_income_by_educ` using circles (`'o'`). Specify an `alpha` of `0.5`.\r\n",
        "\r\n",
        "- Plot the prediction results with a line, with `df['educ']` on the x-axis and pred on the y-axis."
      ]
    },
    {
      "cell_type": "code",
      "metadata": {
        "colab": {
          "base_uri": "https://localhost:8080/",
          "height": 278
        },
        "id": "QSagD_8eOztH",
        "outputId": "7057db16-73d9-4241-ae2f-4ef016661934"
      },
      "source": [
        "# Plot mean income in each age group\r\n",
        "plt.clf()\r\n",
        "grouped = gss.groupby('educ')\r\n",
        "mean_income_by_educ = grouped['realinc'].mean()\r\n",
        "plt.plot(mean_income_by_educ,'o',alpha=0.5, label='realinc')\r\n",
        " \r\n",
        "# Plot the predictions\r\n",
        "pred = results.predict(df)\r\n",
        "plt.plot(df['educ'], pred, label='Age 30')\r\n",
        " \r\n",
        "# Label axes\r\n",
        "plt.xlabel('Education (years)')\r\n",
        "plt.ylabel('Income (1986 $)')\r\n",
        "plt.legend()\r\n",
        "plt.show()"
      ],
      "execution_count": 15,
      "outputs": [
        {
          "output_type": "display_data",
          "data": {
            "image/png": "[encoded data removed]",
            "text/plain": [
              "<Figure size 432x288 with 1 Axes>"
            ]
          },
          "metadata": {
            "tags": [],
            "needs_background": "light"
          }
        }
      ]
    },
    {
      "cell_type": "markdown",
      "metadata": {
        "id": "wucWJ-DdfdnQ"
      },
      "source": [
        "This model captures the relationship pretty well"
      ]
    },
    {
      "cell_type": "code",
      "metadata": {
        "colab": {
          "base_uri": "https://localhost:8080/",
          "height": 278
        },
        "id": "3BAOa_VTff1P",
        "outputId": "1f83179b-fc51-43ae-b619-4ba352b52d7a"
      },
      "source": [
        "# Modeling income and age\r\n",
        "# Make the DataFrame\r\n",
        "df = pd.DataFrame()\r\n",
        "df['age'] = np.linspace(18, 85)\r\n",
        "df['age2'] = df['age']**2\r\n",
        "df['educ'] = 12\r\n",
        "df['educ2'] = df['educ']**2\r\n",
        "\r\n",
        "# Plot mean income in each age group\r\n",
        "plt.clf()\r\n",
        "grouped = gss.groupby('age')\r\n",
        "mean_income_by_age = grouped['realinc'].mean()\r\n",
        "plt.plot(mean_income_by_age, 'o', alpha=0.5, label='realinc')\r\n",
        "\r\n",
        "# Plot the predictions\r\n",
        "pred12 = results.predict(df)\r\n",
        "plt.plot(df['age'], pred12, label='High school')\r\n",
        "\r\n",
        "# Label axes\r\n",
        "plt.xlabel('Age (years)')\r\n",
        "plt.ylabel('Income (1986 $)')\r\n",
        "plt.legend()\r\n",
        "plt.show()"
      ],
      "execution_count": 16,
      "outputs": [
        {
          "output_type": "display_data",
          "data": {
            "image/png": "[encoded data removed]",
            "text/plain": [
              "<Figure size 432x288 with 1 Axes>"
            ]
          },
          "metadata": {
            "tags": [],
            "needs_background": "light"
          }
        }
      ]
    },
    {
      "cell_type": "markdown",
      "metadata": {
        "id": "yWuxycI-2vPy"
      },
      "source": [
        "- The blue dots show the average income in each age group. \r\n",
        "\r\n",
        "- The orange line shows the predictions generated by the model, holding education constant."
      ]
    },
    {
      "cell_type": "code",
      "metadata": {
        "colab": {
          "base_uri": "https://localhost:8080/",
          "height": 457
        },
        "id": "F5rwqVpO1Glx",
        "outputId": "fcf88812-8586-4470-ecd0-8a63ecd429e8"
      },
      "source": [
        "# Multiple Regression\r\n",
        "# Levels of education\r\n",
        "plt.figure(figsize=(10, 7))\r\n",
        "plt.cla()   # Clear axis\r\n",
        "plt.clf()   # Clear figure\r\n",
        "\r\n",
        "# Plot mean income in each age group\r\n",
        "grouped = gss.groupby('age')\r\n",
        "mean_income_by_age = grouped['realinc'].mean()\r\n",
        "plt.plot(mean_income_by_age, 'o', alpha=0.5, label='realinc')\r\n",
        "\r\n",
        "df['educ'] = 12\r\n",
        "df['educ2'] = df['educ']**2\r\n",
        "pred16 = results.predict(df)\r\n",
        "plt.plot(df['age'], pred16, label='High School')\r\n",
        "\r\n",
        "\r\n",
        "df['educ'] = 14\r\n",
        "df['educ2'] = df['educ']**2\r\n",
        "pred14 = results.predict(df)\r\n",
        "plt.plot(df['age'], pred14, label='Associate')\r\n",
        "\r\n",
        "\r\n",
        "df['educ'] = 16\r\n",
        "df['educ2'] = df['educ']**2\r\n",
        "pred16 = results.predict(df)\r\n",
        "plt.plot(df['age'], pred16, label='Bachelor')\r\n",
        "\r\n",
        "\r\n",
        "# Label axes\r\n",
        "plt.xlabel('Age (years)')\r\n",
        "plt.ylabel('Income (1986 $)')\r\n",
        "plt.title('Levels of education')\r\n",
        "plt.legend()\r\n",
        "plt.show()"
      ],
      "execution_count": 17,
      "outputs": [
        {
          "output_type": "display_data",
          "data": {
            "image/png": "[encoded data removed]",
            "text/plain": [
              "<Figure size 720x504 with 1 Axes>"
            ]
          },
          "metadata": {
            "tags": [],
            "needs_background": "light"
          }
        }
      ]
    },
    {
      "cell_type": "markdown",
      "metadata": {
        "id": "Pv_Qq_jSCR0s"
      },
      "source": [
        "## __07 Predicting a binary variable(Logistic regression)__"
      ]
    },
    {
      "cell_type": "markdown",
      "metadata": {
        "id": "1FO0jDPUCtU-"
      },
      "source": [
        "Predicting a binary variable\r\n",
        "Let's use logistic regression to predict a binary variable. Specifically, we'll use age, sex, and education level to predict support for legalizing cannabis (marijuana) in the U.S.\r\n",
        "\r\n",
        "In the GSS dataset, the variable `grass` records the answer to the question \"Do you think the use of marijuana should be made legal or not?\""
      ]
    },
    {
      "cell_type": "markdown",
      "metadata": {
        "id": "1wRzpiwOC1Oj"
      },
      "source": [
        "__Instruction:__\r\n",
        "\r\n",
        "- Fill in the parameters of `smf.logit()` to predict grass using the variables `age`, `age2`, `educ`, and `educ2`, along with `sex` as a categorical variable.\r\n",
        "\r\n",
        "- Add a column called `educ` and set it to 12 years; then compute a second column, `educ2`, which is the square of `educ`.\r\n",
        "\r\n",
        "-\r\n",
        "\r\n",
        "-"
      ]
    },
    {
      "cell_type": "code",
      "metadata": {
        "colab": {
          "base_uri": "https://localhost:8080/"
        },
        "id": "x4EqdNUy_95M",
        "outputId": "0676b28b-3197-4434-e9df-3077e10524fe"
      },
      "source": [
        "# Recode grass\r\n",
        "gss['grass'].replace(2, 0, inplace=True)\r\n",
        " \r\n",
        "# Run logistic regression\r\n",
        "results = smf.logit('grass ~ age + age2 + educ + educ2 + C(sex)', data=gss).fit()\r\n",
        "results.params"
      ],
      "execution_count": 18,
      "outputs": [
        {
          "output_type": "stream",
          "text": [
            "Optimization terminated successfully.\n",
            "         Current function value: 0.588510\n",
            "         Iterations 6\n"
          ],
          "name": "stdout"
        },
        {
          "output_type": "execute_result",
          "data": {
            "text/plain": [
              "Intercept     -1.685223\n",
              "C(sex)[T.2]   -0.384611\n",
              "age           -0.034756\n",
              "age2           0.000192\n",
              "educ           0.221860\n",
              "educ2         -0.004163\n",
              "dtype: float64"
            ]
          },
          "metadata": {
            "tags": []
          },
          "execution_count": 18
        }
      ]
    },
    {
      "cell_type": "code",
      "metadata": {
        "colab": {
          "base_uri": "https://localhost:8080/",
          "height": 507
        },
        "id": "4L-Mu8Mi_9zc",
        "outputId": "339ff0c1-ef14-49b4-840d-5de528597bfc"
      },
      "source": [
        "# Recode grass\r\n",
        "gss['grass'].replace(2, 0, inplace=True)\r\n",
        "\r\n",
        "# Run logistic regression\r\n",
        "results = smf.logit('grass ~ age + age2 + educ + educ2 + C(sex)', data=gss).fit()\r\n",
        "results.params\r\n",
        "\r\n",
        "# Make a DataFrame with a range of ages\r\n",
        "df = pd.DataFrame()\r\n",
        "df['age'] = np.linspace(18, 89)\r\n",
        "df['age2'] = df['age']**2\r\n",
        "\r\n",
        "# Set the education level to 12\r\n",
        "df['educ'] = 12\r\n",
        "df['educ2'] = df['educ']**2\r\n",
        "\r\n",
        "# Generate predictions for men and women\r\n",
        "df['sex'] = 1\r\n",
        "pred1 = results.predict(df)\r\n",
        "\r\n",
        "df['sex'] = 2\r\n",
        "pred2 = results.predict(df)\r\n",
        "\r\n",
        "plt.clf()\r\n",
        "plt.figure(figsize=(10, 7))\r\n",
        "\r\n",
        "grouped = gss.groupby('age')\r\n",
        "favor_by_age = grouped['grass'].mean()\r\n",
        "plt.plot(favor_by_age, 'o', alpha=0.5, label='grass')\r\n",
        "\r\n",
        "plt.plot(df['age'], pred1, label='Male')\r\n",
        "plt.plot(df['age'], pred2, label='Female')\r\n",
        "\r\n",
        "plt.xlabel('Age')\r\n",
        "plt.ylabel('Probability of favoring legalization')\r\n",
        "plt.legend()\r\n",
        "plt.show()"
      ],
      "execution_count": 25,
      "outputs": [
        {
          "output_type": "stream",
          "text": [
            "Optimization terminated successfully.\n",
            "         Current function value: 0.588510\n",
            "         Iterations 6\n"
          ],
          "name": "stdout"
        },
        {
          "output_type": "display_data",
          "data": {
            "text/plain": [
              "<Figure size 432x288 with 0 Axes>"
            ]
          },
          "metadata": {
            "tags": []
          }
        },
        {
          "output_type": "display_data",
          "data": {
            "image/png": "[encoded data removed]",
            "text/plain": [
              "<Figure size 720x504 with 1 Axes>"
            ]
          },
          "metadata": {
            "tags": [],
            "needs_background": "light"
          }
        }
      ]
    },
    {
      "cell_type": "markdown",
      "metadata": {
        "id": "BxXTtRMf_jza"
      },
      "source": [
        "<p align='center'>\r\n",
        "    <a href=\"https://twitter.com/F4izy\">\r\n",
        "        <img src=\"https://th.bing.com/th/id/OIP.FCKMemzqNplY37Jwi0Yk3AHaGl?w=233&h=207&c=7&o=5&pid=1.7\" width=50px\r\n",
        "            height=50px>\r\n",
        "    </a>\r\n",
        "    <a href=\"https://www.linkedin.com/in/mohd-faizy/\">\r\n",
        "        <img src='https://th.bing.com/th/id/OIP.idrBN-LfvMIZl370Vb65SgHaHa?pid=Api&rs=1' width=50px height=50px>\r\n",
        "    </a>\r\n",
        "</p>"
      ]
    }
  ]
}