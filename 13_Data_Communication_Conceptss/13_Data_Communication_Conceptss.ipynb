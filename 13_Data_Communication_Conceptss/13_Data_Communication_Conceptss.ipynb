{
  "cells": [
    {
      "cell_type": "markdown",
      "source": [
        "# <center>**Data Communication Concepts**</center>"
      ],
      "metadata": {
        "id": "SWtZYSlC45Ky"
      },
      "id": "SWtZYSlC45Ky"
    },
    {
      "cell_type": "markdown",
      "id": "d1f5acf0",
      "metadata": {
        "id": "d1f5acf0"
      },
      "source": [
        "# **1️⃣Storytelling with Data**\n"
      ]
    },
    {
      "cell_type": "markdown",
      "id": "0036c7bc",
      "metadata": {
        "id": "0036c7bc"
      },
      "source": [
        "##  **Fundamentals of storytelling**"
      ]
    },
    {
      "cell_type": "markdown",
      "id": "aab41cef",
      "metadata": {
        "id": "aab41cef"
      },
      "source": [
        "#### **The story begins**\n",
        "\n",
        "You recently started working as a data scientist at a company named *Communicatb*. For your first project, you and your team need to analyze churn customer data for a cell phone company. The goal is to predict their behavior and help develop a program to retain customers.\n",
        "\n",
        "Your team lead knows you are an expert on storytelling. She asks you to explain to the team why crafting a compelling story is important when delivering results. You write down a list of reasons to be prepared.\n",
        "\n",
        "---\n",
        "\n",
        "- [x] Even if your data do not reveal a distinct customer behavior, storytelling might influence stakeholders to create the retention program."
      ]
    },
    {
      "cell_type": "markdown",
      "id": "85fdaacd",
      "metadata": {
        "id": "85fdaacd"
      },
      "source": [
        "#### **Building a story**\n",
        "\n",
        "You nailed it! Your explanation of why stories are efficient when conveying insights went very well! Now, your team lead would like you to give a short presentation. You're going explain the different steps involved in telling a story with data to the team. It will be the starting point for delivering the results of the churn project when ready.\n",
        "\n",
        "You know it is an important task. To prepare your talk, you look for your notes on the storytelling course you took, but realize that some parts are erased. So you need to remember the do's and dont's of data storytelling.\n",
        "\n",
        "Which of the following statements about effective data storytelling are true, and which are false?\n",
        "\n",
        "\n",
        "Correctly classify the statements as either true or false.\n",
        "\n",
        "| True                                                                                                                       | False                                                                                            |\n",
        "|:--------------------------------------------------------------------------------------------------------------------------:|:------------------------------------------------------------------------------------------------:|\n",
        "| To drive change, center your story around how the company's profits will increase if the retention program is implemented. | For adding value, include all customers traits analyzed to understand why customers churn.       |\n",
        "| Present one supporting customers data point after each other so they naturally reach a conclusion.                         | To drive change, include data from a successful retention program launched in a similar company. |\n",
        "| To create a compelling narrative, connect the most important findings to actions of the retention programs.                | To be clear and concise, build one story and present it to the managers and your technical team. |\n"
      ]
    },
    {
      "cell_type": "markdown",
      "id": "b6472da6",
      "metadata": {
        "id": "b6472da6"
      },
      "source": [
        "## **Translating technical results**"
      ]
    },
    {
      "cell_type": "markdown",
      "id": "e73c3441",
      "metadata": {
        "id": "e73c3441"
      },
      "source": [
        "#### **A non-tech story**\n",
        "\n",
        "The exploratory data analysis on the churn project is finished! It's now time for the monthly update meeting. You will have to explain your results to the operation specialist and the program director. You are addressing a non-technical audience, and want to make sure that your presentation is adapted to the audience you're addressing so that your message gets across.\n",
        "\n",
        "You write down some statements you could use to explain your work, but you believe some of them are more suitable for a non-technical story, while others are too technical to include.\n",
        "\n",
        "Can you select which sentences you should use in this case?"
      ]
    },
    {
      "cell_type": "markdown",
      "id": "0cb9545e",
      "metadata": {
        "id": "0cb9545e"
      },
      "source": [
        "Instructions\n",
        "\n",
        "Correctly classify the examples as more suitable either for a tech or non-tech stories.\n",
        "\n",
        "| Tech story                                                                                                                                | Non-tech story                                                                                                                                   |\n",
        "|:-----------------------------------------------------------------------------------------------------------------------------------------:|:------------------------------------------------------------------------------------------------------------------------------------------------:|\n",
        "| Churn and no-churn customers show a different probability density distribution of the number of the months a customer has subscribed for. | Imagine that it rains and you have to go to an event. What factors will you consider to go or stay at home? That's how feature importance works. |\n",
        "| The ANOVA showed that payment methods affect churn rate even though SEM is very high.                                                     | The churn customers have subscribed for fewer months than customers that did not churn.                                                          |\n",
        "| After several iterations, the elbow method showed that 4 was the optimal number of clusters to run K-means.                               | The clustering analysis, a model to group customers based on their similarities, showed four types of customers to target with the program.      |\n",
        "| To understand which  features had the most predictive relevance, the feature importance permutation was used.                             | A customer that pays with credit card trends to churn less than a customers that pays with a mailed check.                                       |"
      ]
    },
    {
      "cell_type": "markdown",
      "id": "180ae822",
      "metadata": {
        "id": "180ae822"
      },
      "source": [
        "#### **Be aware**\n",
        "\n",
        "The meeting was a success! The program director asks you to send your results to the business specialists. You need to write a report and send it by email by the end of the week. You have never met them, so you ask for their background and goals.\n",
        "\n",
        "After you gather data, you realize you will be communicating your results to a different audience. You want them to understand your results.\n",
        "\n",
        "---\n",
        "\n",
        "Can you select which of the following examples are **best practices** to translate your results?"
      ]
    },
    {
      "cell_type": "markdown",
      "id": "3fe48a5c",
      "metadata": {
        "id": "3fe48a5c"
      },
      "source": [
        "Instructions\n",
        "\n",
        "Correctly classify the examples as either best practice or bad practice.\n",
        "\n",
        "| Best practice                                                                                                                                  | Bad practice                                                                                                                                |\n",
        "|:----------------------------------------------------------------------------------------------------------------------------------------------:|:-------------------------------------------------------------------------------------------------------------------------------------------:|\n",
        "| Explain that the predictions you made will help target specifically some customers. It will save money for the company in marketing campaigns. | Adjust your content to include some explanation on why you choose your variables for analysis, from a business perspective.                 |\n",
        "| At the end of the report, include a page with all the terminology definitions and the acronyms you could not avoid.                            | When sending the report, anticipate any questions the business team will have. Answer them thoroughly so they know you are willing to help. |\n",
        "|                                                                                                                                                | Do not include analogies to explain a concept with simple terms as it could be confusing and disengaging.                                   |"
      ]
    },
    {
      "cell_type": "markdown",
      "id": "44117484",
      "metadata": {
        "id": "44117484"
      },
      "source": [
        "## **Impacting the decision-making process**"
      ]
    },
    {
      "cell_type": "markdown",
      "id": "d37128f7",
      "metadata": {
        "id": "d37128f7"
      },
      "source": [
        "#### **Is it a true story?**\n",
        "\n",
        "You have done an amazing job explaining your exploratory data analysis on the churn project. Now, it's time to run the model to predict customer churn. You know that you will have to craft an effective story to present these results.\n",
        "\n",
        "You want to be prepared. So you read your notes on how to build a compelling narrative. But you realized that one of your notes is not accurate.\n",
        "\n",
        "---\n",
        "\n",
        "Which of the following statement is **false**?"
      ]
    },
    {
      "cell_type": "markdown",
      "id": "5c0d9d61",
      "metadata": {
        "id": "5c0d9d61"
      },
      "source": [
        "Answers\n",
        "\n",
        "- [x] Unless you have a great data groundwork to support your central insight, your findings will need a well-formed and compelling narrative to drive action and change."
      ]
    },
    {
      "cell_type": "markdown",
      "id": "c3996dd4",
      "metadata": {
        "id": "c3996dd4"
      },
      "source": [
        "#### **Structured to impact**\n",
        "\n",
        "Your project on customer churn is done. You analyzed the data and built your model. You followed the steps for storytelling. Now, it's time to structure your story to have an impact at the decision-making level. You want stakeholders to follow your recommendations.\n",
        "\n",
        "You like to write things down. So you take a pen and paper, and write down the different things you want to say in order on sticky notes. The window suddenly opens, throwing all of your notes on the floor.\n",
        "\n",
        "Can you organize the steps for telling a story with data that is solid enough to influence the decision-makers?"
      ]
    },
    {
      "cell_type": "markdown",
      "id": "4ed29546",
      "metadata": {
        "id": "4ed29546"
      },
      "source": [
        "Order the steps chronologically: the first step should be on top and the last step at the bottom.\n",
        "\n",
        "1. Explain with a line plot that the company usually has a churn rate of 5% but last year that rate suddenly increased to 15%.\n",
        "\n",
        "2. Using boxplots, show that the percentage of churn customers with more than one dependent in their household has increased, affecting the total rate.\n",
        "\n",
        "3. Add further evidence by showing that a higher percentage of customers with more than one dependent in their household with DSL service churn.\n",
        "\n",
        "4. Show a barplot that revel that monthly charges are the most important predictor of customer churn.\n",
        "\n",
        "5. recommend to implement promotional prices to churn-intending customers and show that this will result in 10% more earning with a barplot."
      ]
    },
    {
      "cell_type": "markdown",
      "id": "9f2f9c5e",
      "metadata": {
        "id": "9f2f9c5e"
      },
      "source": [
        "#### **A story to compare**\n",
        "\n",
        "Great job organizing your narrative structure! The next step is to think about how you will present your insights.\n",
        "\n",
        "You start reading and discover there are several ways to present data stories. You can compare your data, show correlation, cluster your data…\n",
        "\n",
        "You are curious to know what type of data story would be a good fit for your data. You write down the central finding, your insights and the supporting evidence.\n",
        "\n",
        "Can you classify your findings into the following categories?"
      ]
    },
    {
      "cell_type": "markdown",
      "id": "7d6dbea0",
      "metadata": {
        "id": "7d6dbea0"
      },
      "source": [
        "Correctly classify the following examples as comparison, correlation or clustering.\n",
        "\n",
        "| Comparison                                                                                                                         | Correlation                                                                                                 | Clustering                                                                                                                           |\n",
        "|:----------------------------------------------------------------------------------------------------------------------------------:|:-----------------------------------------------------------------------------------------------------------:|:------------------------------------------------------------------------------------------------------------------------------------:|\n",
        "| 50% of the churning customers have a pay-as-you-go contact. While 90% of non-churning customers are in a 2-year or 3-year contact. | The number of times a customers that churned streamed movies is higher if they pay higher monthly charge.   | There are customers with low monthly charges and low streaming time and customers with high monthly charges and high streaming time. |\n",
        "| About 50% of the churning customers are married, while only 30% of the non-churning customers have dependents.                     | The monthly charges decrease as the number of months a non-churning customers has subscribed for increases. |                                                                                                                                      |"
      ]
    },
    {
      "cell_type": "markdown",
      "id": "97448191",
      "metadata": {
        "id": "97448191"
      },
      "source": [
        "# **2️⃣Preparing to communicate the data**\n"
      ]
    },
    {
      "cell_type": "markdown",
      "id": "4b09d2c7",
      "metadata": {
        "id": "4b09d2c7"
      },
      "source": [
        "## **Selecting the right data**"
      ]
    },
    {
      "cell_type": "markdown",
      "id": "4d23738b",
      "metadata": {
        "id": "4d23738b"
      },
      "source": [
        "#### **The truth about salaries**\n",
        "\n",
        "Your predictive model for customer churn, which you worked on in Chapter 1, has been deployed. Your project manager asks you to work on a new internal project. The goal is to analyze a database with employee salaries in San Francisco, USA.\n",
        "\n",
        "After doing an exhaustive exploratory data analysis, you have to present your findings to the human resources team. They want to compare San Francisco salary growth to the one at the company; they need to understand how to forecast salaries for the next year. You are about to copy the graphs from your analysis. Your manager reminds you to select the right data for your stakeholders.\n",
        "\n",
        "You start by writing down what you believe can help you choose the proper findings.\n",
        "\n",
        "---\n",
        "\n",
        "One of the statements you wrote is **false**. Can you select which one it is?"
      ]
    },
    {
      "cell_type": "markdown",
      "id": "245dd2ab",
      "metadata": {
        "id": "245dd2ab"
      },
      "source": [
        "Answer \n",
        "\n",
        "- [x] Select all collected numerical data about San Francisco salaries and show them in a big dashboard so it helps understand in detail why salaries have been increasing."
      ]
    },
    {
      "cell_type": "markdown",
      "id": "712b041a",
      "metadata": {
        "id": "712b041a"
      },
      "source": [
        "#### **Earning interests**\n",
        "\n",
        "Well done! Your presentation with the human resource department was a success. Your team lead asks you to show your data analysis results to different stakeholders. Before you dive into preparing the presentation or the report, you want to make sure that you are aligned with their interests.\n",
        "\n",
        "With that goal in mind, you define several personas. It will help you select the suitable data later. You write down the personas, their knowledge, and their interest on this project.\n",
        "\n",
        "Can you classify your notes into the following audience personas?"
      ]
    },
    {
      "cell_type": "markdown",
      "id": "db9087e3",
      "metadata": {
        "id": "db9087e3"
      },
      "source": [
        "Instructions\n",
        "\n",
        "Correctly classify the following examples as Human Resources Director, technical supervisor, or marketing staff.\n",
        "\n",
        "| Human Resources Director                                                                                                      | Technical supervisor                                                                                  | Marketing staff                                                                                                                   |\n",
        "|:-----------------------------------------------------------------------------------------------------------------------------:|:-----------------------------------------------------------------------------------------------------:|:---------------------------------------------------------------------------------------------------------------------------------:|\n",
        "| Basic technical knowledge on data analysis. Wants to raise the salary of the company employees based on actual data.          | Show the variance, mean, and distribution of numerical variable, such as base pay and total benefits. | Select data demonstrating that better company benefits impact the employee performance to help attract talent on the career page. |\n",
        "| Select data comparing employee satisfaction in best-paying companies compared to others to support employees salary increase. | Expert knowledge on statistical methods. Wants to analyze the salary of different European countries. | General knowledge on data analysis. Wants to understand how salary impacts work-life balance to advertise it on the career page.  |"
      ]
    },
    {
      "cell_type": "markdown",
      "id": "1a40eaa1",
      "metadata": {
        "id": "1a40eaa1"
      },
      "source": [
        "## **Showing relevant statistics**"
      ]
    },
    {
      "cell_type": "markdown",
      "id": "38b80b9a",
      "metadata": {
        "id": "38b80b9a"
      },
      "source": [
        "#### **Salary variation**\n",
        "\n",
        "You have selected suitable data for your story on San Francisco salaries. Now, you evaluate which metrics you should use.\n",
        "\n",
        "You want to convey the following message to the human resource team: \"*The total pay of employees has increased or decreased according to their job title from 2017 to 2018*.\"\n",
        "\n",
        "One of the following options is **True**. Can you select which one is it?"
      ]
    },
    {
      "cell_type": "markdown",
      "id": "9ab50636",
      "metadata": {
        "id": "9ab50636"
      },
      "source": [
        "Answer \n",
        "\n",
        "- [x] The graph on the right is the best way to convey the message. With percentage change, the magnitude of the salary change depending on the job is more evident."
      ]
    },
    {
      "cell_type": "markdown",
      "id": "0788a6d5",
      "metadata": {
        "id": "0788a6d5"
      },
      "source": [
        "#### **A payroll**\n",
        "\n",
        "Good job on selecting the most impactful visualization! Your insight made an impact. The human resource team lead asked you to show more findings. You go back to your exploratory data analysis and select some data.\n",
        "\n",
        "But you want to explore different variants of the same data to discover the best one for explaining your distinct insights to the human resource team.\n",
        "\n",
        "Can you decide what data variant would be best suited depending on the finding you want to show?"
      ]
    },
    {
      "cell_type": "markdown",
      "id": "31db707e",
      "metadata": {
        "id": "31db707e"
      },
      "source": [
        "Instructions\n",
        "\n",
        "Correctly classify the following examples as total values, change or ratio.\n",
        "\n",
        "| Total                                                                                                                     | Change                                                                                                                                | Ratio                                                                              |\n",
        "|:-------------------------------------------------------------------------------------------------------------------------:|:-------------------------------------------------------------------------------------------------------------------------------------:|:----------------------------------------------------------------------------------:|\n",
        "| You want to highlight how much total overtime a company  paid for employees working as electronic maintenance technician. | An important finding is the fact that engineer experimented a 50% increase in their salary in 2018, while business analysts only 30%. | The average total pay per worker did not significantly increase from 2014 to 2015. |\n",
        "| It would be interesting to show the total monthly benefits employee will have the next six months.                        | The number of people working in the private sector increased by 100k from 2017 to 2018.                                               |                                                                                    |"
      ]
    },
    {
      "cell_type": "markdown",
      "id": "b0df8753",
      "metadata": {
        "id": "b0df8753"
      },
      "source": [
        "#### **It's not significant**\n",
        "\n",
        "You have a big deadline ahead. You need to submit a report on the data analysis for the project on San Francisco salaries to your technical lead. He will read it and report your results to the senior management team.\n",
        "\n",
        "You have a story, and you select data to support it. You want to show comparisons of average pay for people with different job titles.\n",
        "\n",
        "You are hesitant to show p-values. You know that there are a lot of misconceptions around it. You decide to use it anyway. However, you plan to clarify any confusion about p-values, so your audience understands its meaning and trusts your results.\n",
        "\n",
        "Can you classify these statements as **good use** or **misuse** of the p-value?"
      ]
    },
    {
      "cell_type": "markdown",
      "id": "ed319b40",
      "metadata": {
        "id": "ed319b40"
      },
      "source": [
        "Instructions\n",
        "\n",
        "Correctly classify the following examples as either a good use or a misuse.\n",
        "\n",
        "| Good use                                                                                                                                           | Misuse                                                                                                                                               |\n",
        "|:--------------------------------------------------------------------------------------------------------------------------------------------------:|:----------------------------------------------------------------------------------------------------------------------------------------------------:|\n",
        "| The base pay salary is higher (p-value: 0.03) for a physician than for a special nurse. You will report it but interpret this result with caution. | The mean base pay is higher for an accountant than a lawyer. P-value is the strongest evidence. There is no other interesting alternative to check.  |\n",
        "| The mean overtime pay show higher values (p-value: 0.04) for a department head than for medical examiner. You don't consider this strong evidence. | From evaluating the p-value, you consider there is enough proof that a nurse and a doctor have the same base pay.                                    |\n",
        "|                                                                                                                                                    | The mean total pay is lower (p-value: 0.002) for firefighters than for department chiefs. It's a bigger difference than for captain (p-value: 0.01). |"
      ]
    },
    {
      "cell_type": "markdown",
      "id": "469bb3bf",
      "metadata": {
        "id": "469bb3bf"
      },
      "source": [
        "## **Visualizations for different audiences**"
      ]
    },
    {
      "cell_type": "markdown",
      "id": "9dac6d26",
      "metadata": {
        "id": "9dac6d26"
      },
      "source": [
        "#### **Salary development**\n",
        "\n",
        "You are presenting your data analysis on San Francisco salaries to the business development department.\n",
        "\n",
        "You have your story, and you select data and metrics to support it. But choosing the visualizations is still an ongoing task. You decide to speed it up by getting hands-on. You want to follow the best practices.\n",
        "\n",
        "The message you want to convey is: \"San Francisco salaries have been constantly going up in the last 4 years. The percentage variation is 10% annually. The number of people working in the private sector, such as software or biotechnology, have increased by 100k.\"\n",
        "\n",
        "Can you classify if these practices would be **good** or **bad** when presenting to the *business* department?"
      ]
    },
    {
      "cell_type": "markdown",
      "id": "9120727e",
      "metadata": {
        "id": "9120727e"
      },
      "source": [
        "Instructions\n",
        "\n",
        "Correctly classify the following statements as being either true or false for choosing an effective visualization.\n",
        "\n",
        "| Good practice                                                                                                             | Bad practice                                                                                                                        |\n",
        "|:-------------------------------------------------------------------------------------------------------------------------:|:-----------------------------------------------------------------------------------------------------------------------------------:|\n",
        "| Aggregate the average salary in the public sector into one bar.                                                           | Include a line plot that shows the average salary in the public health sector from 2017 to 2021 to compare with the private sector. |\n",
        "| Instead of labeling the visualization with complex terms, use a terminology that is accessible to a business stakeholder. | Include a detailed feature importance graph, with coefficient, to show which factor has influenced the most.                        |\n",
        "| Include a barplot that shows the average salary in the private software and biotechnology sector from 2017 to 2021.       |                                                                                                                                     |"
      ]
    },
    {
      "cell_type": "markdown",
      "id": "637a1a13",
      "metadata": {
        "id": "637a1a13"
      },
      "source": [
        "#### **Salary on demand**\n",
        "\n",
        "You have selected visualizations for the business development department.\n",
        "\n",
        "It's time to include them in your report and present them. You are aware of the steps you should follow to include and present visualizations effectively, and you want to do your best and impress your business coworkers. So you ask a colleague to help you organize your thoughts.\n",
        "\n",
        "Can you **order** the steps for including and **presenting visual data** effectively?"
      ]
    },
    {
      "cell_type": "markdown",
      "id": "acb57f78",
      "metadata": {
        "id": "acb57f78"
      },
      "source": [
        "Instructions\n",
        "\n",
        "Order the steps chronologically: the first step should be on top and the last step at the bottom.\n",
        "\n",
        "1. Announce the visualization \"Yearly total pay for private sector from 2017-2020\"\n",
        "\n",
        "2. Explain that the data was obtained from a public survey made to 100k employees\n",
        "\n",
        "3. Affirm that the average salary in the private sector has increased from 2017 to 2021\n",
        "\n",
        "4. Show that particularly in software and biotechnology, the average total pay has increased by 50%\n",
        "\n",
        "5. Tell the audience that this is important because the company could attract and retain employees with a competitive salary."
      ]
    },
    {
      "cell_type": "markdown",
      "id": "201ac565",
      "metadata": {
        "id": "201ac565"
      },
      "source": [
        "## **Choosing the appropriate format**"
      ]
    },
    {
      "cell_type": "markdown",
      "id": "b5b550cb",
      "metadata": {
        "id": "b5b550cb"
      },
      "source": [
        "#### communication problem\n",
        "\n",
        "Your coworker has been working on a project on price predictions. He asks you to help him choose the most suitable format to deliver his results to the executive board as well as to his team.\n",
        "\n",
        "You give him a set of advice and rules of thumb, so he can make an informed decision. When you arrive home, you realize that you made one mistake.\n",
        "\n",
        "---\n",
        "\n",
        "Which of the following advice should you not have provided?"
      ]
    },
    {
      "cell_type": "markdown",
      "id": "c28947ee",
      "metadata": {
        "id": "c28947ee"
      },
      "source": [
        "Answers\n",
        "\n",
        "\n",
        "- [x] If a software engineer in your team wants to continue your project with new data, the central piece of information to include in your meeting is the project conclusions."
      ]
    },
    {
      "cell_type": "markdown",
      "id": "404ed772",
      "metadata": {
        "id": "404ed772"
      },
      "source": [
        "####  **Should we meet?**\n",
        "\n",
        "It's Friday. Your project manager comes by your desk. She asks you about the status of your project on salaries for San Francisco employees. She tells you that you need to close the project. Fortunately, you have finished building the model.\n",
        "\n",
        "But to close it, you need to communicate the results to the different stakeholders. After she talks with the people involved, you start to receive emails asking about the results. You need to decide if you are going to use an oral presentation or a written report.\n",
        "\n",
        "Can you decide what type of format would be best suited depending on the situation and requirements?"
      ]
    },
    {
      "cell_type": "markdown",
      "id": "cf2ac77f",
      "metadata": {
        "id": "cf2ac77f"
      },
      "source": [
        "Correctly classify the following inquires as suitable for an oral or written format.\n",
        "\n",
        "| Oral format                                                                                                            | Written format                                                                                                                                      |\n",
        "|:----------------------------------------------------------------------------------------------------------------------:|:---------------------------------------------------------------------------------------------------------------------------------------------------:|\n",
        "| Your program manager wants to close the project and understand what went well and what can be improved.                | A colleague wants to understand and digest your methodology so that she can replicate them on a new dataset regarding churn for New York employees. |\n",
        "| Your manager wants you to present the results to the finance team, so they can ask follow-up questions about salaries. | The software engineering team needs to understand your model to integrate it with an internal application on the backend.                           |\n",
        "| An investor wants the monthly update on your employee salaries project to understand your conclusions.                 | A founder wants to have the San Francisco salaries analysis to support his position at the board meeting.                                           |"
      ]
    },
    {
      "cell_type": "markdown",
      "id": "b51ccb68",
      "metadata": {
        "id": "b51ccb68"
      },
      "source": [
        "#### **When in doubt**\n",
        "\n",
        "You manage to deliver the results to almost all the stakeholders. You are about to start writing the report for the founder when you get an email. Your founder is coming by the office the following Friday. Your manager wants to know if presenting the project during a meeting would be better.\n",
        "\n",
        "You have second thoughts about changing the format. So you decide to write down beneficial and unfavorable aspects of an oral presentation.\n",
        "\n",
        "Can you classify your thoughts correctly?"
      ]
    },
    {
      "cell_type": "markdown",
      "id": "d8a31f47",
      "metadata": {
        "id": "d8a31f47"
      },
      "source": [
        "Correctly classify examples where an oral presentation is either beneficial or a unfavorable.\n",
        "\n",
        "| Beneficial                                                                        | Unfavorable                                                                                             |\n",
        "|:---------------------------------------------------------------------------------:|:-------------------------------------------------------------------------------------------------------:|\n",
        "| You are very eager to know the opinion of the founder about your recommendations. | You want to communicate a lengthy message, so you want all the results to receive the proper attention. |\n",
        "| Your conclusions highlight that a decision is needed immediately.                 | The founder will share your project with a large audience, so she would like to study your conclusions. |\n",
        "| Your body language will contribute to the impact your result will have.           |                                                                                                         |"
      ]
    },
    {
      "cell_type": "markdown",
      "id": "7daf5063",
      "metadata": {
        "id": "7daf5063"
      },
      "source": [
        "# **3️⃣Structuring written reports**"
      ]
    },
    {
      "cell_type": "markdown",
      "id": "a935b2c0",
      "metadata": {
        "id": "a935b2c0"
      },
      "source": [
        "## **Types of reports**"
      ]
    },
    {
      "cell_type": "markdown",
      "id": "9e2ca2f7",
      "metadata": {
        "id": "9e2ca2f7"
      },
      "source": [
        "#### **Something to report**\n",
        "\n",
        "You need to present a report regarding your findings about customer churn and the predictive model you used, which you worked on in Chapter 1. Your project manager asks you to write it according to industry standards. You're aware that this requires you to follow a strict structure. Your manager also specifies that the report will be shared with technical stakeholders.\n",
        "\n",
        "First, you write the sections separately: it's easier to handle that way. Then comes the time to bring all the sections together.\n",
        "\n",
        "Can you organize the sections you wrote for the report in the correct order?"
      ]
    },
    {
      "cell_type": "markdown",
      "id": "c7692882",
      "metadata": {
        "id": "c7692882"
      },
      "source": [
        "Instructions\n",
        "\n",
        "Order the report sections so that the first section should be on top and the last at the bottom.\n",
        "\n",
        "1. The purpose of this report is to describe the results obtained from a model that predicts and identifies customers that will likely churn.\n",
        "\n",
        "2. The data, gathered from the website, contains categorical data, such as gender, and internet service. It was converted to either 0 or 1 columns.\n",
        "\n",
        "3. The datasets was split into train (70%) and test (30%) set. A K-Nearest Neighbors model was trained and model performance was evaluated.\n",
        "\n",
        "4. As you can see in the graph, this reports analyzes the importance of different features such as monthly charges, contract type and phone service.\n",
        "\n",
        "5. The model has an accuracy of 92% in predicting customers churn. The internet service type and discounts correlates with customer churning.\n",
        "\n",
        "6. In summery, discounts on premium phone services should be implemented in order to retain customers."
      ]
    },
    {
      "cell_type": "markdown",
      "id": "0934cd00",
      "metadata": {
        "id": "0934cd00"
      },
      "source": [
        "#### **In summary**\n",
        "\n",
        "Well done ordering the sections in your technical stakeholder report. Your project lead asks you to write a report to send to the directory board. They are non-technical stakeholders. You will revisit your previous report and tailor it as a summary report. But first, you want to refresh how a final report and a summary report differ.\n",
        "\n",
        "Can you correctly classify the statements as characteristics of a final or summary report?"
      ]
    },
    {
      "cell_type": "markdown",
      "id": "e8a05408",
      "metadata": {
        "id": "e8a05408"
      },
      "source": [
        "Instructions\n",
        "\n",
        "Correctly classify the examples as a feature of either a final or summary report.\n",
        "\n",
        "| Final report                                                                                    | Summary report                                                                                                |\n",
        "|:-----------------------------------------------------------------------------------------------:|:-------------------------------------------------------------------------------------------------------------:|\n",
        "| It should be written thinking about an audience that requires details.                          | Your report is about four pages long.                                                                         |\n",
        "| The report includes detailed findings and results showing how you performed your data analysis. | You might include a link to the main document in case the stakeholder wants to inspect more detailed content. |\n",
        "| Your report is about twelve pages long.                                                         | In the results section, you only include three graphs that simply explain the key findings                    |\n",
        "|                                                                                                 | It should be written thinking about an audience that doesn't require details.                                 |"
      ]
    },
    {
      "cell_type": "markdown",
      "id": "45c36988",
      "metadata": {
        "id": "45c36988"
      },
      "source": [
        "## **Reproducibility and references**"
      ]
    },
    {
      "cell_type": "markdown",
      "id": "75f7a6a8",
      "metadata": {
        "id": "75f7a6a8"
      },
      "source": [
        "#### **Replicate me**\n",
        "\n",
        "Your manager asks you to write a report on your customer churn project for your peers at the New York office. She mentions that the team wants to replicate your work. After wrapping up the report, you add a link to your code repository. She looks confused and asks you why you did that.\n",
        "\n",
        "You explain: **If the New York team wants to replicate my work, then they should have access to the same ___ and the same ___ I used. However, if they want to achieve ___ , they can use their own set of tools**.\n",
        "\n",
        "Fill in the blank spaces by choosing the correct word combination from the options."
      ]
    },
    {
      "cell_type": "markdown",
      "id": "2f2c7435",
      "metadata": {
        "id": "2f2c7435"
      },
      "source": [
        "Answers\n",
        "\n",
        "- [x] data, code, reproducibility"
      ]
    },
    {
      "cell_type": "markdown",
      "id": "5061299a",
      "metadata": {
        "id": "5061299a"
      },
      "source": [
        "####  **Same results**\n",
        "\n",
        "Your manager is very interested in learning more about reproducibility. She asks you to give a short presentation at the weekly meeting. You're going to introduce the best practices to create reproducible data science results.\n",
        "\n",
        "You prepare a slide presenting bad practices, and another one highlighting best practices.\n",
        "\n",
        "Which of the following statements are considered best practices in reproducibility, and which should be avoided?"
      ]
    },
    {
      "cell_type": "markdown",
      "id": "68950201",
      "metadata": {
        "id": "68950201"
      },
      "source": [
        "#### Instructions\n",
        "\n",
        "Correctly classify the statements as best or bad practices.\n",
        "\n",
        "| Bad practice                                                                                                                           | Best practice                                                                                                     |\n",
        "|:--------------------------------------------------------------------------------------------------------------------------------------:|:-----------------------------------------------------------------------------------------------------------------:|\n",
        "| For your machine learning model, do not set the random seed argument as it will always return the same result, eliminating randomness. | Use a software to handle references so you can correctly cite the sources you consult during the project work.    |\n",
        "| Before you start analyzing the data, open the dataset in a text editor to delete all unwanted columns.                                 | Use a Jupyter notebook, so you can explain your thought and decision-making process at each step of the analysis. |\n",
        "| Erase intermediate files created from your machine to avoid confusion.                                                                 | Create an extra file where you write down the Python packages and versions you use for the analysis.              |"
      ]
    },
    {
      "cell_type": "markdown",
      "id": "092982e5",
      "metadata": {
        "id": "092982e5"
      },
      "source": [
        "## **Write precise and clear reports**"
      ]
    },
    {
      "cell_type": "markdown",
      "id": "881e4dd0",
      "metadata": {
        "id": "881e4dd0"
      },
      "source": [
        "####  **Half-empty glass**\n",
        "\n",
        "Your coworker, whom you helped with a project on price predictions in Chapter 2, asks you now to read his report. He wants your feedback as the report is designed for the executive team. Particularly, you should focus on fixing any empty or fat phrase, or colloquialism.\n",
        "\n",
        "Can you help him identify improvable sentences, and suggest a better alternative?"
      ]
    },
    {
      "cell_type": "markdown",
      "id": "29ac56dd",
      "metadata": {
        "id": "29ac56dd"
      },
      "source": [
        "Instructions\n",
        "\n",
        "Correctly classify the examples as improvable or intelligible versions.\n",
        "\n",
        "| Improvable                                                                                                                                          | Intelligible                                                                                                               |\n",
        "|:---------------------------------------------------------------------------------------------------------------------------------------------------:|:--------------------------------------------------------------------------------------------------------------------------:|\n",
        "| The project had the aim to create a model that can predict the average house price in the state of Colorado.                                        | The project pursued the creation of a model that can predict the average house price in the state of Colorado.             |\n",
        "| Mean house price increases as the number of rooms increases from range 1 to 3. It should be pointed out that prices decrease for more than 5 rooms. | The result should be interpreted carefully considering the real-estate bubble situation.                                   |\n",
        "| The result should be interpreted carefully through the lens of a real-estate bubble situation.                                                      | Mean house price increases as the number of rooms increases from range 1 to 3. For more than 5 rooms, the price decreases. |"
      ]
    },
    {
      "cell_type": "markdown",
      "id": "2d6a0168",
      "metadata": {
        "id": "2d6a0168"
      },
      "source": [
        "#### **Strong words**\n",
        "\n",
        "Your coworker is very satisfied with your feedback. He now asks you to look at another report he wrote for technical stakeholders. You noticed that the writing style is not confusing and verbose. You decide to help him use more concrete nouns, and to fix redundant adjectives and run-on sentences.\n",
        "\n",
        "Can you classify which of the following examples are intelligible, and which ones can be improved?"
      ]
    },
    {
      "cell_type": "markdown",
      "id": "967210d8",
      "metadata": {
        "id": "967210d8"
      },
      "source": [
        "Correctly classify the examples as either the correct or uncorrected version.\n",
        "\n",
        "| Improvable                                                                                                               | Intelligible                                                                                                                    |\n",
        "|:------------------------------------------------------------------------------------------------------------------------:|:-------------------------------------------------------------------------------------------------------------------------------:|\n",
        "| There is a positive correlation between the number of rooms and the price, people with children are willing to pay more. | A confusion matrix was used to evaluate the classification predictions. The matrix showed a model accuracy of 85%.              |\n",
        "| The data exploration analysis introduced new features that should be incorporated into the model.                        | There is a positive correlation between the number of rooms and the price because people with children are willing to pay more. |\n",
        "| I evaluated the classification prediction using a confusion matrix. This indicated that the model accuracy was 85%.      | The data exploration analysis introduced features that should be incorporated into the model.                                   |"
      ]
    },
    {
      "cell_type": "markdown",
      "id": "e8c64eec",
      "metadata": {
        "id": "e8c64eec"
      },
      "source": [
        "## **Case study: report on credit risk**"
      ]
    },
    {
      "cell_type": "markdown",
      "id": "ee06a6f6",
      "metadata": {
        "id": "ee06a6f6"
      },
      "source": [
        "#### **Credit me**\n",
        "\n",
        "You are about to leave the office when you get a call from the operation director. She tells you that you need to write a report on the credit score to present to the advisory board. She explains: \"*They want to understand your analysis to help plan a strategy to pre-select customers for loans*\".\n",
        "\n",
        "---\n",
        "\n",
        "Which of the following reports is the most suitable to write in this case?"
      ]
    },
    {
      "cell_type": "markdown",
      "id": "e86fec0b",
      "metadata": {
        "id": "e86fec0b"
      },
      "source": [
        "Answer \n",
        "\n",
        "- [x] An analytic report with boxplots displaying the relationship between loan and customer traits, and a barplot of most important predictors."
      ]
    },
    {
      "cell_type": "markdown",
      "id": "aef08d6d",
      "metadata": {
        "id": "aef08d6d"
      },
      "source": [
        "#### **Report my credit**\n",
        "\n",
        "Your analytic report on the credit score project was a success. Your project manager was very satisfied with your work. Now, it's time to write the summary report for the financial department director. You want her to understand the key findings. Particularly, that the most important features for predicting a loan default are income, age, and employment length.\n",
        "\n",
        "Can you put in order the sections of your summary report?"
      ]
    },
    {
      "cell_type": "markdown",
      "id": "d1292542",
      "metadata": {
        "id": "d1292542"
      },
      "source": [
        " Instructions\n",
        "\n",
        "Order the report sections so that the first section should be on top and the last at the bottom.\n",
        "\n",
        "1. The report pursues the feasibility of automatizing a loan approval algorithm.\n",
        "\n",
        "2. The project was motivated by the increasing percentage of defaulting customers over the last 5 years.\n",
        "\n",
        "3. Is it possible to automatize the loan approval to customers with a low likelihood of defaults?\n",
        "\n",
        "4. The data contains the loan details about borrowers from loanme bank. It was gathered over the last 10 years.\n",
        "\n",
        "5. As you can see in the boxplot, the median age of defaulting customers is lower than the non-defaulting ones.\n",
        "\n",
        "6. It is possible to predict which people is more likely to default with an accuracy of 95%.\n",
        "\n",
        "7. If the automatization is implemented, the percentage of customers will decrease by 25% next year."
      ]
    },
    {
      "cell_type": "markdown",
      "id": "00980c5a",
      "metadata": {
        "id": "00980c5a"
      },
      "source": [
        "#  **4️⃣Building compelling oral presentations**\n"
      ]
    },
    {
      "cell_type": "markdown",
      "id": "cdea2891",
      "metadata": {
        "id": "cdea2891"
      },
      "source": [
        "## **Planning an oral presentation**"
      ]
    },
    {
      "cell_type": "markdown",
      "id": "d2d31fb6",
      "metadata": {
        "id": "d2d31fb6"
      },
      "source": [
        "#### **Is this the plan?**\n",
        "\n",
        "You need to present your findings on software development sector salaries for San Francisco employees and the predictive model you used, which you worked on in Chapter 2, to the executive team.\n",
        "\n",
        "You open your computer and start drafting slides. But then, you recall the course you took on communicating with data. You feel that you are missing something. So you write down the facts you remember to build a compelling oral presentation.\n",
        "\n",
        "Can you identify which of the following statements is correct?"
      ]
    },
    {
      "cell_type": "markdown",
      "id": "bf9de4d1",
      "metadata": {
        "id": "bf9de4d1"
      },
      "source": [
        " Instructions\n",
        "\n",
        "Correctly classify the statements as either true or false.\n",
        "\n",
        "| True                                                                                                                                                | False                                                                                                                                                |\n",
        "|:---------------------------------------------------------------------------------------------------------------------------------------------------:|:----------------------------------------------------------------------------------------------------------------------------------------------------:|\n",
        "| Plan to explain how the average private-sector salary has increased in the last five years because it helps you catch the audience's attention.     | Plan to conclude your presentation by listing all the details and limitations of your work. Open for questions concerning improvements of your work. |\n",
        "| For the executive team, you should deliver a persuasive presentation to convince them to have salary ranges that are equal to the industry average. | List at least five key messages that you want to convey to the executive team. This approach helps you determine the structure of your presentation. |\n",
        "|                                                                                                                                                     | The plan for delivering a presentation for five members of the executive team or the whole IT staff would be exactly the same.                       |"
      ]
    },
    {
      "cell_type": "markdown",
      "id": "87282834",
      "metadata": {
        "id": "87282834"
      },
      "source": [
        "#### **An effective plan!**\n",
        "\n",
        "Well done! You identified which statements were correct. Now, you know how to plan your slides on salaries for San Francisco employees. It's time to determine which sections you will include in your presentation.\n",
        "\n",
        "Can you put in order the topics for the sections of your oral presentation?"
      ]
    },
    {
      "cell_type": "markdown",
      "id": "5ae515e1",
      "metadata": {
        "id": "5ae515e1"
      },
      "source": [
        "**Instructions**\n",
        "\n",
        "Order the presentation sections so that the first section should be on top and the last at the bottom.\n",
        "\n",
        "1. Increase in private sector salaries over the last 5 years.\n",
        "\n",
        "2. Analysis of software development salaries from different companies.\n",
        "\n",
        "3. Forecast salaries for the software sector for the next 5 years.\n",
        "\n",
        "4. Employees will be leaving due to higher salaries on the other companies.\n",
        "\n",
        "5. Company should offer competitive salary ranges to retain talented staff."
      ]
    },
    {
      "cell_type": "markdown",
      "id": "64fe1a49",
      "metadata": {
        "id": "64fe1a49"
      },
      "source": [
        "## **Building presentation slides**"
      ]
    },
    {
      "cell_type": "markdown",
      "id": "fc83170b",
      "metadata": {
        "id": "fc83170b"
      },
      "source": [
        "#### **A color building**\n",
        "\n",
        "You have planned the presentation for your findings on software development sector salaries for San Francisco employees. Now, it's time to build the slides. After putting your slide deck together, you ask your coworker to give you feedback. She makes comments on the different slides.\n",
        "\n",
        "\n"
      ]
    },
    {
      "cell_type": "markdown",
      "id": "524d2658",
      "metadata": {
        "id": "524d2658"
      },
      "source": [
        "Answers\n",
        "\n",
        "- [x] The headline looks stylish. Even though the spacing between the letters is small, the font adds originality to the slide.\n",
        "\n"
      ]
    },
    {
      "cell_type": "markdown",
      "id": "651d15e8",
      "metadata": {
        "id": "651d15e8"
      },
      "source": [
        "#### **Too much text**\n",
        "\n",
        "Your coworker also gives you feedback on slides that only have text. She feels like the slide can be improved a lot. She gives you some options on how you can improve the slide.\n"
      ]
    },
    {
      "cell_type": "markdown",
      "id": "d71eec7c",
      "metadata": {
        "id": "d71eec7c"
      },
      "source": [
        "Answers\n",
        "\n",
        "- [x] Highlight the keywords in the text using red, green, yellow, blue, and magenta. Using several colors will help catch the audience's attention."
      ]
    },
    {
      "cell_type": "markdown",
      "id": "2b91f311",
      "metadata": {
        "id": "2b91f311"
      },
      "source": [
        "### **The right building**\n",
        "\n",
        "Well done building a text slide! Now, you need to review the rest of the comments from your coworker. She left you the feedback in two stacks of notes: one stack for best practices and one stack for what you should avoid. However, the stacks fell during your lunch break and are all mixed up.\n",
        "\n",
        "Can you classify which of the following comments are best practice in building a presentation, and which ones should be avoided?"
      ]
    },
    {
      "cell_type": "markdown",
      "id": "910ee763",
      "metadata": {
        "id": "910ee763"
      },
      "source": [
        "Correctly classify the comments as either best practices or practices to avoid.\n",
        "\n",
        "| Best practice                                                                                                                                       | Avoid                                                                                                                                              |\n",
        "|:---------------------------------------------------------------------------------------------------------------------------------------------------:|:--------------------------------------------------------------------------------------------------------------------------------------------------:|\n",
        "| Include two slides that shows that the software market has been growing in the last years to support your message that the salaries are increasing. | Include one slide to display that the company is behind market salaries and also, that 40% of the software companies are located in San Francisco. |\n",
        "| In this paragraph, the keywords salary, market and retention are in bold.                                                                           | Most of the slides have a light blue background. The words appear in grey font.                                                                    |\n",
        "| You were given twenty minutes to talk. The presentation has fifteen slides.                                                                         |                                                                                                                                                    |"
      ]
    },
    {
      "cell_type": "markdown",
      "id": "b214a9d8",
      "metadata": {
        "id": "b214a9d8"
      },
      "source": [
        "## **Delivering the presentatio**n"
      ]
    },
    {
      "cell_type": "markdown",
      "id": "396cac67",
      "metadata": {
        "id": "396cac67"
      },
      "source": [
        "#### **Put it into practice**\n",
        "\n",
        "Excellent job creating those slides for the project on software development sector salaries for San Francisco employees!\n",
        "\n",
        "Now that you have your slide deck ready, it's time to deliver your presentation. Your project manager sends you an email. She asks you if you can have the meeting at the end of the afternoon. You are unsure because you need to practice. So you ask for some time for rehearsal. To convince your manager, you make a list of the advantages of practicing and rehearsing a presentation.\n",
        "\n",
        "Can you decide which example you wrote is correct and which one is incorrect?"
      ]
    },
    {
      "cell_type": "markdown",
      "id": "132ba97a",
      "metadata": {
        "id": "132ba97a"
      },
      "source": [
        "**Instructions**\n",
        "\n",
        "Correctly classify the statements as either true or false.\n",
        "\n",
        "| True                                                                                                                                          | False                                                                                                                                        |\n",
        "|:---------------------------------------------------------------------------------------------------------------------------------------------:|:--------------------------------------------------------------------------------------------------------------------------------------------:|\n",
        "| It is important that you rehearse many times so when you give the presentation you are confident with the content.                            | To become familiar with your content, you should write a script and repeat it many times word by word while rehearsing.                      |\n",
        "| It's a good idea to prepare answers to anticipate the CEO and the board of directors' questions, and to practice responding to them out loud. | You should rehearse your presentation standing up and projecting the slides, and use this rehearsal to figure out what to say in each slide. |\n",
        "| Rehearsing several times helps you discover if you use expressions such as 'actually', 'like', 'um', 'I mean', 'you know', 'kind of', etc.    | Because each slide conveys a single message, there is no need to verbally transition from one slide to the other.                            |"
      ]
    },
    {
      "cell_type": "markdown",
      "id": "6091809b",
      "metadata": {
        "id": "6091809b"
      },
      "source": [
        "#### **Best practice**\n",
        "\n",
        "Your rehearsal went very well! You are ready to present to the stakeholders.\n",
        "\n",
        "However, you feel nervous. You know this is completely normal but you don't want to look like you are unsure of your content. You take three big breaths and remember your training. There are some key points that will help you deliver the presentation effectively.\n",
        "\n",
        "Can you identify which of this statements is a suitable point to consider, and which one is not?"
      ]
    },
    {
      "cell_type": "markdown",
      "id": "50dc78ac",
      "metadata": {
        "id": "50dc78ac"
      },
      "source": [
        "Instructions\n",
        "\n",
        "Correctly classify the following examples as either a true or false.\n",
        "\n",
        "| True                                                                                                                                               | False                                                                                                                                |\n",
        "|:--------------------------------------------------------------------------------------------------------------------------------------------------:|:------------------------------------------------------------------------------------------------------------------------------------:|\n",
        "| Give your presentation with enthusiasm. The audience picks up on your feelings. If you are confident, they will be convinced with your content.    | If you realize you are too nervous, you should avoid making eye contact with the audience. They will be unconvinced of your content. |\n",
        "| Your central message should be repeated and linked to your findings throughout your slide deck.                                                    | If your audience is engaged with your presentation, you can explain your content is detail, even if it takes longer than expected.   |\n",
        "| It's a good idea to pause for a few seconds after you reveal the main findings, so your audience has time to process what you have just explained. | You should emphasize well-known concepts by saying 'As you all know, this algorithm has good accuracy for forecasting problems.'     |"
      ]
    },
    {
      "cell_type": "markdown",
      "id": "9c91dc31",
      "metadata": {
        "id": "9c91dc31"
      },
      "source": [
        "## **Avoiding common errors**"
      ]
    },
    {
      "cell_type": "markdown",
      "id": "a39a2b03",
      "metadata": {
        "id": "a39a2b03"
      },
      "source": [
        "#### The true mistake\n",
        "\n",
        "Your coworker asks you to help him practice for his presentation. He wants your feedback so he can be prepared to deliver an important project to the company's CEO.\n",
        "\n",
        "He gives you a list of best practices he should observe during his speech. But you notice that some of them are not correct.\n",
        "\n",
        "Can you identify which statements are wrong?"
      ]
    },
    {
      "cell_type": "markdown",
      "id": "49c58fdf",
      "metadata": {
        "id": "49c58fdf"
      },
      "source": [
        "Instructions\n",
        "\n",
        "Correctly classify the statements as either true or false.\n",
        "\n",
        "| True                                                                                             | False                                                                                                                                         |\n",
        "|:------------------------------------------------------------------------------------------------:|:---------------------------------------------------------------------------------------------------------------------------------------------:|\n",
        "| A common mistake is to skip the purpose of the presentation and dive directly into the findings. | To catch the audience's attention, start by stating the key assumptions in a low voice, and reveal all the findings at the end speaking loud. |\n",
        "| The speaker is at the center of the presentation and acts as a guide for the audience.           | The audience should be engaged by speaking fast without pauses from the beginning of the presentation.                                        |\n",
        "| Deliver the presentation in 15 minutes and afterwards, open up for 10 minutes of questions.      |                                                                                                                                               |"
      ]
    },
    {
      "cell_type": "markdown",
      "id": "39f34f8b",
      "metadata": {
        "id": "39f34f8b"
      },
      "source": [
        "## 4.13 Do's and don'ts\n",
        "\n",
        "It's the day before the presentation for your project on customer churn. Your team lead arrives and tells you that the CEO will be there to listen to your results. You start getting nervous.\n",
        "\n",
        "You have planned your presentation. You built the slides focusing on a non-tech audience. You have practiced and rehearsed with some colleagues. But you really want to avoid making any common mistakes during your talk. So you decide to practice one more time.\n",
        "\n",
        "To achieve your goal, you need to remember best practices so you can implement them. Also, you should make a list of common errors so you can avoid them."
      ]
    },
    {
      "cell_type": "markdown",
      "id": "6b2b6bb6",
      "metadata": {
        "id": "6b2b6bb6"
      },
      "source": [
        "Instructions\n",
        "\n",
        "Correctly classify the examples as either a best practice or a common mistake.\n",
        "\n",
        "| Best practices                                                                                                                                       | Common mistakes                                                                                                                                  |\n",
        "|:----------------------------------------------------------------------------------------------------------------------------------------------------:|:------------------------------------------------------------------------------------------------------------------------------------------------:|\n",
        "| Speak slowly when showing the importance of Fiber Optic for predicting churn but faster when explaining the urgency to change the Streaming TV plan. | Showing a boxplot of the amount of months churning and non-churning customers subscribe without reiterating that tenure affects customers churn. |\n",
        "| Asking your audience if they believe that the type of phone service a client has is an important factor impacting the customers churn rate.          | Omitting that you assume that it costs 15% more to attract a customer than to retain an existing one, so the presentation is not long.           |\n",
        "|                                                                                                                                                      | Explaining at the end that 20% of customers left with an equal gender balance, and that the monthly charge is a good predictor of churn.         |\n",
        "|                                                                                                                                                      | Avoiding moving your hands or pointing to the screen when showing that the company should create a promotional campaign to retain its customers. |"
      ]
    },
    {
      "cell_type": "markdown",
      "source": [
        "#### $\\color{skyblue}{\\textbf{Connect with me:}}$\n",
        "\n",
        "\n",
        "[<img align=\"left\" src=\"https://cdn4.iconfinder.com/data/icons/social-media-icons-the-circle-set/48/twitter_circle-512.png\" width=\"32px\"/>][twitter]\n",
        "[<img align=\"left\" src=\"https://cdn-icons-png.flaticon.com/512/145/145807.png\" width=\"32px\"/>][linkedin]\n",
        "[<img align=\"left\" src=\"https://cdn2.iconfinder.com/data/icons/whcompare-blue-green-web-hosting-1/425/cdn-512.png\" width=\"32px\"/>][Portfolio]\n",
        "\n",
        "[twitter]: https://twitter.com/F4izy\n",
        "[linkedin]: https://www.linkedin.com/in/mohd-faizy/\n",
        "[Portfolio]: https://mohdfaizy.com/"
      ],
      "metadata": {
        "id": "9xAdk0rdRCrK"
      },
      "id": "9xAdk0rdRCrK"
    }
  ],
  "metadata": {
    "kernelspec": {
      "display_name": "Python 3 (ipykernel)",
      "language": "python",
      "name": "python3"
    },
    "language_info": {
      "codemirror_mode": {
        "name": "ipython",
        "version": 3
      },
      "file_extension": ".py",
      "mimetype": "text/x-python",
      "name": "python",
      "nbconvert_exporter": "python",
      "pygments_lexer": "ipython3",
      "version": "3.9.15"
    },
    "colab": {
      "provenance": [],
      "toc_visible": true
    }
  },
  "nbformat": 4,
  "nbformat_minor": 5
}