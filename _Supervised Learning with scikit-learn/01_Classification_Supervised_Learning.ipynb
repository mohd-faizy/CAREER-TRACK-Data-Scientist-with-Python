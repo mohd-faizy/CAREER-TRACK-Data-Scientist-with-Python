{
  "nbformat": 4,
  "nbformat_minor": 0,
  "metadata": {
    "colab": {
      "name": "01_Classification_Supervised_Learning.ipynb",
      "provenance": [],
      "authorship_tag": "ABX9TyNOPknCNEQfKLc8koKNEVmL",
      "include_colab_link": true
    },
    "kernelspec": {
      "name": "python3",
      "display_name": "Python 3"
    }
  },
  "cells": [
    {
      "cell_type": "markdown",
      "metadata": {
        "id": "view-in-github",
        "colab_type": "text"
      },
      "source": [
        "<a href=\"https://colab.research.google.com/github/mohd-faizy/CAREER-TRACK-Data-Scientist-with-Python/blob/main/01_Classification_Supervised_Learning.ipynb\" target=\"_parent\"><img src=\"https://colab.research.google.com/assets/colab-badge.svg\" alt=\"Open In Colab\"/></a>"
      ]
    },
    {
      "cell_type": "markdown",
      "metadata": {
        "id": "kQY8Y0huFrV8"
      },
      "source": [
        "--- \r\n",
        "<strong> \r\n",
        "    <h1 align='center'>Classification</h1> \r\n",
        "</strong>\r\n",
        "\r\n",
        "---"
      ]
    },
    {
      "cell_type": "markdown",
      "metadata": {
        "id": "FDywWTcaXpyZ"
      },
      "source": [
        "__k-nearest neighbors (KNN)__"
      ]
    },
    {
      "cell_type": "code",
      "metadata": {
        "colab": {
          "base_uri": "https://localhost:8080/"
        },
        "id": "eHRsiSczR0fB",
        "outputId": "9362dc91-a513-486b-e560-c573a7d589df"
      },
      "source": [
        "! git clone https://github.com/mohd-faizy/CAREER-TRACK-Data-Scientist-with-Python.git"
      ],
      "execution_count": 1,
      "outputs": [
        {
          "output_type": "stream",
          "text": [
            "Cloning into 'CAREER-TRACK-Data-Scientist-with-Python'...\n",
            "remote: Enumerating objects: 6, done.\u001b[K\n",
            "remote: Counting objects: 100% (6/6), done.\u001b[K\n",
            "remote: Compressing objects: 100% (6/6), done.\u001b[K\n",
            "remote: Total 2192 (delta 1), reused 2 (delta 0), pack-reused 2186\u001b[K\n",
            "Receiving objects: 100% (2192/2192), 269.45 MiB | 31.34 MiB/s, done.\n",
            "Resolving deltas: 100% (779/779), done.\n",
            "Checking out files: 100% (929/929), done.\n"
          ],
          "name": "stdout"
        }
      ]
    },
    {
      "cell_type": "code",
      "metadata": {
        "id": "KJN0hZ3RWQsh"
      },
      "source": [
        "import pandas as pd\r\n",
        "import numpy as np\r\n",
        "import matplotlib.pyplot as plt\r\n",
        "import seaborn as sns\r\n",
        "import os\r\n",
        "\r\n",
        "#plt.style.use('ggplot')\r\n",
        "sns.set_theme(style='whitegrid')\r\n",
        "%matplotlib inline"
      ],
      "execution_count": 2,
      "outputs": []
    },
    {
      "cell_type": "code",
      "metadata": {
        "colab": {
          "base_uri": "https://localhost:8080/"
        },
        "id": "nu0TmPzKTj2V",
        "outputId": "f58cc141-223f-4ebd-ef89-98f3a938bee7"
      },
      "source": [
        "os.chdir('/content/CAREER-TRACK-Data-Scientist-with-Python/25_Supervised Learning with scikit-learn/_dataset')\r\n",
        "cwd = os.getcwd()\r\n",
        "print('Curent working directory is ', cwd)"
      ],
      "execution_count": 3,
      "outputs": [
        {
          "output_type": "stream",
          "text": [
            "Curent working directory is  /content/CAREER-TRACK-Data-Scientist-with-Python/25_Supervised Learning with scikit-learn/_dataset\n"
          ],
          "name": "stdout"
        }
      ]
    },
    {
      "cell_type": "code",
      "metadata": {
        "colab": {
          "base_uri": "https://localhost:8080/"
        },
        "id": "b6FFGoWhUD1G",
        "outputId": "3c7a173b-ca09-45c9-a3cb-5bb8cfd60d90"
      },
      "source": [
        "ls"
      ],
      "execution_count": 4,
      "outputs": [
        {
          "output_type": "stream",
          "text": [
            "automobile_miles_per_gallon.csv  gm_2008_region.csv\n",
            "boston_housing.csv               house-votes-84.csv\n",
            "diabetes.csv                     house-votes-84_missing_data.csv\n",
            "gapminder_2008_region.csv        PIMA_Indians.csv\n",
            "gapminder_all.csv                white-wine.csv\n",
            "gapminder_drop_region.csv        winequality-red.csv\n"
          ],
          "name": "stdout"
        }
      ]
    },
    {
      "cell_type": "markdown",
      "metadata": {
        "id": "tVS1nThuUL3Q"
      },
      "source": [
        "## __EDA__"
      ]
    },
    {
      "cell_type": "markdown",
      "metadata": {
        "id": "HisfxIvH81zF"
      },
      "source": [
        "### __approch 1__ [X]"
      ]
    },
    {
      "cell_type": "code",
      "metadata": {
        "colab": {
          "base_uri": "https://localhost:8080/",
          "height": 155
        },
        "id": "XmpDlyph9LAb",
        "outputId": "06488eac-715a-4fff-f3a3-9571c595e8c1"
      },
      "source": [
        "dfc = pd.read_csv('house-votes-84.csv')\r\n",
        "print(dfc.shape)\r\n",
        "dfc.head(3)"
      ],
      "execution_count": 5,
      "outputs": [
        {
          "output_type": "stream",
          "text": [
            "(434, 17)\n"
          ],
          "name": "stdout"
        },
        {
          "output_type": "execute_result",
          "data": {
            "text/html": [
              "<div>\n",
              "<style scoped>\n",
              "    .dataframe tbody tr th:only-of-type {\n",
              "        vertical-align: middle;\n",
              "    }\n",
              "\n",
              "    .dataframe tbody tr th {\n",
              "        vertical-align: top;\n",
              "    }\n",
              "\n",
              "    .dataframe thead th {\n",
              "        text-align: right;\n",
              "    }\n",
              "</style>\n",
              "<table border=\"1\" class=\"dataframe\">\n",
              "  <thead>\n",
              "    <tr style=\"text-align: right;\">\n",
              "      <th></th>\n",
              "      <th>republican</th>\n",
              "      <th>n</th>\n",
              "      <th>y</th>\n",
              "      <th>n.1</th>\n",
              "      <th>y.1</th>\n",
              "      <th>y.2</th>\n",
              "      <th>y.3</th>\n",
              "      <th>n.2</th>\n",
              "      <th>n.3</th>\n",
              "      <th>n.4</th>\n",
              "      <th>y.4</th>\n",
              "      <th>?</th>\n",
              "      <th>y.5</th>\n",
              "      <th>y.6</th>\n",
              "      <th>y.7</th>\n",
              "      <th>n.5</th>\n",
              "      <th>y.8</th>\n",
              "    </tr>\n",
              "  </thead>\n",
              "  <tbody>\n",
              "    <tr>\n",
              "      <th>0</th>\n",
              "      <td>republican</td>\n",
              "      <td>n</td>\n",
              "      <td>y</td>\n",
              "      <td>n</td>\n",
              "      <td>y</td>\n",
              "      <td>y</td>\n",
              "      <td>y</td>\n",
              "      <td>n</td>\n",
              "      <td>n</td>\n",
              "      <td>n</td>\n",
              "      <td>n</td>\n",
              "      <td>n</td>\n",
              "      <td>y</td>\n",
              "      <td>y</td>\n",
              "      <td>y</td>\n",
              "      <td>n</td>\n",
              "      <td>?</td>\n",
              "    </tr>\n",
              "    <tr>\n",
              "      <th>1</th>\n",
              "      <td>democrat</td>\n",
              "      <td>?</td>\n",
              "      <td>y</td>\n",
              "      <td>y</td>\n",
              "      <td>?</td>\n",
              "      <td>y</td>\n",
              "      <td>y</td>\n",
              "      <td>n</td>\n",
              "      <td>n</td>\n",
              "      <td>n</td>\n",
              "      <td>n</td>\n",
              "      <td>y</td>\n",
              "      <td>n</td>\n",
              "      <td>y</td>\n",
              "      <td>y</td>\n",
              "      <td>n</td>\n",
              "      <td>n</td>\n",
              "    </tr>\n",
              "    <tr>\n",
              "      <th>2</th>\n",
              "      <td>democrat</td>\n",
              "      <td>n</td>\n",
              "      <td>y</td>\n",
              "      <td>y</td>\n",
              "      <td>n</td>\n",
              "      <td>?</td>\n",
              "      <td>y</td>\n",
              "      <td>n</td>\n",
              "      <td>n</td>\n",
              "      <td>n</td>\n",
              "      <td>n</td>\n",
              "      <td>y</td>\n",
              "      <td>n</td>\n",
              "      <td>y</td>\n",
              "      <td>n</td>\n",
              "      <td>n</td>\n",
              "      <td>y</td>\n",
              "    </tr>\n",
              "  </tbody>\n",
              "</table>\n",
              "</div>"
            ],
            "text/plain": [
              "   republican  n  y n.1 y.1 y.2 y.3 n.2 n.3 n.4 y.4  ? y.5 y.6 y.7 n.5 y.8\n",
              "0  republican  n  y   n   y   y   y   n   n   n   n  n   y   y   y   n   ?\n",
              "1    democrat  ?  y   y   ?   y   y   n   n   n   n  y   n   y   y   n   n\n",
              "2    democrat  n  y   y   n   ?   y   n   n   n   n  y   n   y   n   n   y"
            ]
          },
          "metadata": {
            "tags": []
          },
          "execution_count": 5
        }
      ]
    },
    {
      "cell_type": "code",
      "metadata": {
        "colab": {
          "base_uri": "https://localhost:8080/",
          "height": 155
        },
        "id": "3ulgng999nVo",
        "outputId": "5a86902a-0290-48c6-9f5e-8bfd9f83d889"
      },
      "source": [
        "dfm = pd.read_csv('house-votes-84_missing_data.csv')\r\n",
        "\r\n",
        "# Drop rows with a 'question mark' value in any column in a pandas dataframe\r\n",
        "dfm = dfm[(dfm != '?').all(axis=1)].reset_index(drop=True)\r\n",
        "# Reset index after dropping rows?\r\n",
        "dfm.drop(['index'], axis=1, inplace=True)\r\n",
        "\r\n",
        "print(dfm.shape)\r\n",
        "dfm.head(3)"
      ],
      "execution_count": 6,
      "outputs": [
        {
          "output_type": "stream",
          "text": [
            "(232, 17)\n"
          ],
          "name": "stdout"
        },
        {
          "output_type": "execute_result",
          "data": {
            "text/html": [
              "<div>\n",
              "<style scoped>\n",
              "    .dataframe tbody tr th:only-of-type {\n",
              "        vertical-align: middle;\n",
              "    }\n",
              "\n",
              "    .dataframe tbody tr th {\n",
              "        vertical-align: top;\n",
              "    }\n",
              "\n",
              "    .dataframe thead th {\n",
              "        text-align: right;\n",
              "    }\n",
              "</style>\n",
              "<table border=\"1\" class=\"dataframe\">\n",
              "  <thead>\n",
              "    <tr style=\"text-align: right;\">\n",
              "      <th></th>\n",
              "      <th>party</th>\n",
              "      <th>infants</th>\n",
              "      <th>water</th>\n",
              "      <th>budget</th>\n",
              "      <th>physician</th>\n",
              "      <th>salvador</th>\n",
              "      <th>religious</th>\n",
              "      <th>satellite</th>\n",
              "      <th>aid</th>\n",
              "      <th>missile</th>\n",
              "      <th>immigration</th>\n",
              "      <th>synfuels</th>\n",
              "      <th>education</th>\n",
              "      <th>superfund</th>\n",
              "      <th>crime</th>\n",
              "      <th>duty_free_exports</th>\n",
              "      <th>eaa_rsa</th>\n",
              "    </tr>\n",
              "  </thead>\n",
              "  <tbody>\n",
              "    <tr>\n",
              "      <th>0</th>\n",
              "      <td>democrat</td>\n",
              "      <td>0</td>\n",
              "      <td>1</td>\n",
              "      <td>1</td>\n",
              "      <td>0</td>\n",
              "      <td>1</td>\n",
              "      <td>1</td>\n",
              "      <td>0</td>\n",
              "      <td>0</td>\n",
              "      <td>0</td>\n",
              "      <td>0</td>\n",
              "      <td>0</td>\n",
              "      <td>0</td>\n",
              "      <td>1</td>\n",
              "      <td>1</td>\n",
              "      <td>1</td>\n",
              "      <td>1</td>\n",
              "    </tr>\n",
              "    <tr>\n",
              "      <th>1</th>\n",
              "      <td>republican</td>\n",
              "      <td>0</td>\n",
              "      <td>1</td>\n",
              "      <td>0</td>\n",
              "      <td>1</td>\n",
              "      <td>1</td>\n",
              "      <td>1</td>\n",
              "      <td>0</td>\n",
              "      <td>0</td>\n",
              "      <td>0</td>\n",
              "      <td>0</td>\n",
              "      <td>0</td>\n",
              "      <td>1</td>\n",
              "      <td>1</td>\n",
              "      <td>1</td>\n",
              "      <td>0</td>\n",
              "      <td>1</td>\n",
              "    </tr>\n",
              "    <tr>\n",
              "      <th>2</th>\n",
              "      <td>democrat</td>\n",
              "      <td>1</td>\n",
              "      <td>1</td>\n",
              "      <td>1</td>\n",
              "      <td>0</td>\n",
              "      <td>0</td>\n",
              "      <td>0</td>\n",
              "      <td>1</td>\n",
              "      <td>1</td>\n",
              "      <td>1</td>\n",
              "      <td>0</td>\n",
              "      <td>1</td>\n",
              "      <td>0</td>\n",
              "      <td>0</td>\n",
              "      <td>0</td>\n",
              "      <td>1</td>\n",
              "      <td>1</td>\n",
              "    </tr>\n",
              "  </tbody>\n",
              "</table>\n",
              "</div>"
            ],
            "text/plain": [
              "        party infants water budget  ... superfund crime duty_free_exports eaa_rsa\n",
              "0    democrat       0     1      1  ...         1     1                 1       1\n",
              "1  republican       0     1      0  ...         1     1                 0       1\n",
              "2    democrat       1     1      1  ...         0     0                 1       1\n",
              "\n",
              "[3 rows x 17 columns]"
            ]
          },
          "metadata": {
            "tags": []
          },
          "execution_count": 6
        }
      ]
    },
    {
      "cell_type": "markdown",
      "metadata": {
        "id": "rHZ7up1vGBsV"
      },
      "source": [
        "Shape of the dataframe get reduced."
      ]
    },
    {
      "cell_type": "code",
      "metadata": {
        "colab": {
          "base_uri": "https://localhost:8080/"
        },
        "id": "2QaMJ8gd-yr-",
        "outputId": "ecd5b10d-6120-46b0-e7c1-4b66e39e13c8"
      },
      "source": [
        "dfm.columns"
      ],
      "execution_count": 7,
      "outputs": [
        {
          "output_type": "execute_result",
          "data": {
            "text/plain": [
              "Index(['party', 'infants', 'water', 'budget', 'physician', 'salvador',\n",
              "       'religious', 'satellite', 'aid', 'missile', 'immigration', 'synfuels',\n",
              "       'education', 'superfund', 'crime', 'duty_free_exports', 'eaa_rsa'],\n",
              "      dtype='object')"
            ]
          },
          "metadata": {
            "tags": []
          },
          "execution_count": 7
        }
      ]
    },
    {
      "cell_type": "markdown",
      "metadata": {
        "id": "xVjGfBM8_CF1"
      },
      "source": [
        "### __approch 2__ [✓]"
      ]
    },
    {
      "cell_type": "code",
      "metadata": {
        "id": "icnTtZLH6VL9",
        "colab": {
          "base_uri": "https://localhost:8080/",
          "height": 197
        },
        "outputId": "9b15bcc3-d4ba-468d-87d7-3d46e96be5a8"
      },
      "source": [
        "df = pd.read_csv('house-votes-84.csv', header=None)\n",
        "df.columns = ['party', 'infants', 'water', 'budget', 'physician', 'salvador',\n",
        "              'religious', 'satellite', 'aid', 'missile', 'immigration', 'synfuels',\n",
        "              'education', 'superfund', 'crime', 'duty_free_exports', 'eaa_rsa']\n",
        "df.replace({'?':'n'}, inplace=True)\n",
        "df.replace({'n':0, 'y': 1}, inplace=True)\n",
        "df.head()"
      ],
      "execution_count": 8,
      "outputs": [
        {
          "output_type": "execute_result",
          "data": {
            "text/html": [
              "<div>\n",
              "<style scoped>\n",
              "    .dataframe tbody tr th:only-of-type {\n",
              "        vertical-align: middle;\n",
              "    }\n",
              "\n",
              "    .dataframe tbody tr th {\n",
              "        vertical-align: top;\n",
              "    }\n",
              "\n",
              "    .dataframe thead th {\n",
              "        text-align: right;\n",
              "    }\n",
              "</style>\n",
              "<table border=\"1\" class=\"dataframe\">\n",
              "  <thead>\n",
              "    <tr style=\"text-align: right;\">\n",
              "      <th></th>\n",
              "      <th>party</th>\n",
              "      <th>infants</th>\n",
              "      <th>water</th>\n",
              "      <th>budget</th>\n",
              "      <th>physician</th>\n",
              "      <th>salvador</th>\n",
              "      <th>religious</th>\n",
              "      <th>satellite</th>\n",
              "      <th>aid</th>\n",
              "      <th>missile</th>\n",
              "      <th>immigration</th>\n",
              "      <th>synfuels</th>\n",
              "      <th>education</th>\n",
              "      <th>superfund</th>\n",
              "      <th>crime</th>\n",
              "      <th>duty_free_exports</th>\n",
              "      <th>eaa_rsa</th>\n",
              "    </tr>\n",
              "  </thead>\n",
              "  <tbody>\n",
              "    <tr>\n",
              "      <th>0</th>\n",
              "      <td>republican</td>\n",
              "      <td>0</td>\n",
              "      <td>1</td>\n",
              "      <td>0</td>\n",
              "      <td>1</td>\n",
              "      <td>1</td>\n",
              "      <td>1</td>\n",
              "      <td>0</td>\n",
              "      <td>0</td>\n",
              "      <td>0</td>\n",
              "      <td>1</td>\n",
              "      <td>0</td>\n",
              "      <td>1</td>\n",
              "      <td>1</td>\n",
              "      <td>1</td>\n",
              "      <td>0</td>\n",
              "      <td>1</td>\n",
              "    </tr>\n",
              "    <tr>\n",
              "      <th>1</th>\n",
              "      <td>republican</td>\n",
              "      <td>0</td>\n",
              "      <td>1</td>\n",
              "      <td>0</td>\n",
              "      <td>1</td>\n",
              "      <td>1</td>\n",
              "      <td>1</td>\n",
              "      <td>0</td>\n",
              "      <td>0</td>\n",
              "      <td>0</td>\n",
              "      <td>0</td>\n",
              "      <td>0</td>\n",
              "      <td>1</td>\n",
              "      <td>1</td>\n",
              "      <td>1</td>\n",
              "      <td>0</td>\n",
              "      <td>0</td>\n",
              "    </tr>\n",
              "    <tr>\n",
              "      <th>2</th>\n",
              "      <td>democrat</td>\n",
              "      <td>0</td>\n",
              "      <td>1</td>\n",
              "      <td>1</td>\n",
              "      <td>0</td>\n",
              "      <td>1</td>\n",
              "      <td>1</td>\n",
              "      <td>0</td>\n",
              "      <td>0</td>\n",
              "      <td>0</td>\n",
              "      <td>0</td>\n",
              "      <td>1</td>\n",
              "      <td>0</td>\n",
              "      <td>1</td>\n",
              "      <td>1</td>\n",
              "      <td>0</td>\n",
              "      <td>0</td>\n",
              "    </tr>\n",
              "    <tr>\n",
              "      <th>3</th>\n",
              "      <td>democrat</td>\n",
              "      <td>0</td>\n",
              "      <td>1</td>\n",
              "      <td>1</td>\n",
              "      <td>0</td>\n",
              "      <td>0</td>\n",
              "      <td>1</td>\n",
              "      <td>0</td>\n",
              "      <td>0</td>\n",
              "      <td>0</td>\n",
              "      <td>0</td>\n",
              "      <td>1</td>\n",
              "      <td>0</td>\n",
              "      <td>1</td>\n",
              "      <td>0</td>\n",
              "      <td>0</td>\n",
              "      <td>1</td>\n",
              "    </tr>\n",
              "    <tr>\n",
              "      <th>4</th>\n",
              "      <td>democrat</td>\n",
              "      <td>1</td>\n",
              "      <td>1</td>\n",
              "      <td>1</td>\n",
              "      <td>0</td>\n",
              "      <td>1</td>\n",
              "      <td>1</td>\n",
              "      <td>0</td>\n",
              "      <td>0</td>\n",
              "      <td>0</td>\n",
              "      <td>0</td>\n",
              "      <td>1</td>\n",
              "      <td>0</td>\n",
              "      <td>1</td>\n",
              "      <td>1</td>\n",
              "      <td>1</td>\n",
              "      <td>1</td>\n",
              "    </tr>\n",
              "  </tbody>\n",
              "</table>\n",
              "</div>"
            ],
            "text/plain": [
              "        party  infants  water  ...  crime  duty_free_exports  eaa_rsa\n",
              "0  republican        0      1  ...      1                  0        1\n",
              "1  republican        0      1  ...      1                  0        0\n",
              "2    democrat        0      1  ...      1                  0        0\n",
              "3    democrat        0      1  ...      0                  0        1\n",
              "4    democrat        1      1  ...      1                  1        1\n",
              "\n",
              "[5 rows x 17 columns]"
            ]
          },
          "metadata": {
            "tags": []
          },
          "execution_count": 8
        }
      ]
    },
    {
      "cell_type": "code",
      "metadata": {
        "id": "jQEu5Gv86VMA",
        "colab": {
          "base_uri": "https://localhost:8080/"
        },
        "outputId": "203fda46-eb24-4282-af93-203c4e51ba01"
      },
      "source": [
        "df.info()"
      ],
      "execution_count": 9,
      "outputs": [
        {
          "output_type": "stream",
          "text": [
            "<class 'pandas.core.frame.DataFrame'>\n",
            "RangeIndex: 435 entries, 0 to 434\n",
            "Data columns (total 17 columns):\n",
            " #   Column             Non-Null Count  Dtype \n",
            "---  ------             --------------  ----- \n",
            " 0   party              435 non-null    object\n",
            " 1   infants            435 non-null    int64 \n",
            " 2   water              435 non-null    int64 \n",
            " 3   budget             435 non-null    int64 \n",
            " 4   physician          435 non-null    int64 \n",
            " 5   salvador           435 non-null    int64 \n",
            " 6   religious          435 non-null    int64 \n",
            " 7   satellite          435 non-null    int64 \n",
            " 8   aid                435 non-null    int64 \n",
            " 9   missile            435 non-null    int64 \n",
            " 10  immigration        435 non-null    int64 \n",
            " 11  synfuels           435 non-null    int64 \n",
            " 12  education          435 non-null    int64 \n",
            " 13  superfund          435 non-null    int64 \n",
            " 14  crime              435 non-null    int64 \n",
            " 15  duty_free_exports  435 non-null    int64 \n",
            " 16  eaa_rsa            435 non-null    int64 \n",
            "dtypes: int64(16), object(1)\n",
            "memory usage: 57.9+ KB\n"
          ],
          "name": "stdout"
        }
      ]
    },
    {
      "cell_type": "code",
      "metadata": {
        "id": "jkk-cOt26VMB",
        "colab": {
          "base_uri": "https://localhost:8080/",
          "height": 307
        },
        "outputId": "b6a52bf2-7341-41ab-c78a-1774011a9cd7"
      },
      "source": [
        "df.describe()"
      ],
      "execution_count": 10,
      "outputs": [
        {
          "output_type": "execute_result",
          "data": {
            "text/html": [
              "<div>\n",
              "<style scoped>\n",
              "    .dataframe tbody tr th:only-of-type {\n",
              "        vertical-align: middle;\n",
              "    }\n",
              "\n",
              "    .dataframe tbody tr th {\n",
              "        vertical-align: top;\n",
              "    }\n",
              "\n",
              "    .dataframe thead th {\n",
              "        text-align: right;\n",
              "    }\n",
              "</style>\n",
              "<table border=\"1\" class=\"dataframe\">\n",
              "  <thead>\n",
              "    <tr style=\"text-align: right;\">\n",
              "      <th></th>\n",
              "      <th>infants</th>\n",
              "      <th>water</th>\n",
              "      <th>budget</th>\n",
              "      <th>physician</th>\n",
              "      <th>salvador</th>\n",
              "      <th>religious</th>\n",
              "      <th>satellite</th>\n",
              "      <th>aid</th>\n",
              "      <th>missile</th>\n",
              "      <th>immigration</th>\n",
              "      <th>synfuels</th>\n",
              "      <th>education</th>\n",
              "      <th>superfund</th>\n",
              "      <th>crime</th>\n",
              "      <th>duty_free_exports</th>\n",
              "      <th>eaa_rsa</th>\n",
              "    </tr>\n",
              "  </thead>\n",
              "  <tbody>\n",
              "    <tr>\n",
              "      <th>count</th>\n",
              "      <td>435.000000</td>\n",
              "      <td>435.000000</td>\n",
              "      <td>435.000000</td>\n",
              "      <td>435.000000</td>\n",
              "      <td>435.000000</td>\n",
              "      <td>435.000000</td>\n",
              "      <td>435.000000</td>\n",
              "      <td>435.000000</td>\n",
              "      <td>435.000000</td>\n",
              "      <td>435.000000</td>\n",
              "      <td>435.000000</td>\n",
              "      <td>435.000000</td>\n",
              "      <td>435.000000</td>\n",
              "      <td>435.000000</td>\n",
              "      <td>435.000000</td>\n",
              "      <td>435.000000</td>\n",
              "    </tr>\n",
              "    <tr>\n",
              "      <th>mean</th>\n",
              "      <td>0.429885</td>\n",
              "      <td>0.448276</td>\n",
              "      <td>0.581609</td>\n",
              "      <td>0.406897</td>\n",
              "      <td>0.487356</td>\n",
              "      <td>0.625287</td>\n",
              "      <td>0.549425</td>\n",
              "      <td>0.556322</td>\n",
              "      <td>0.475862</td>\n",
              "      <td>0.496552</td>\n",
              "      <td>0.344828</td>\n",
              "      <td>0.393103</td>\n",
              "      <td>0.480460</td>\n",
              "      <td>0.570115</td>\n",
              "      <td>0.400000</td>\n",
              "      <td>0.618391</td>\n",
              "    </tr>\n",
              "    <tr>\n",
              "      <th>std</th>\n",
              "      <td>0.495630</td>\n",
              "      <td>0.497890</td>\n",
              "      <td>0.493863</td>\n",
              "      <td>0.491821</td>\n",
              "      <td>0.500416</td>\n",
              "      <td>0.484606</td>\n",
              "      <td>0.498124</td>\n",
              "      <td>0.497390</td>\n",
              "      <td>0.499992</td>\n",
              "      <td>0.500564</td>\n",
              "      <td>0.475859</td>\n",
              "      <td>0.489002</td>\n",
              "      <td>0.500193</td>\n",
              "      <td>0.495630</td>\n",
              "      <td>0.490462</td>\n",
              "      <td>0.486341</td>\n",
              "    </tr>\n",
              "    <tr>\n",
              "      <th>min</th>\n",
              "      <td>0.000000</td>\n",
              "      <td>0.000000</td>\n",
              "      <td>0.000000</td>\n",
              "      <td>0.000000</td>\n",
              "      <td>0.000000</td>\n",
              "      <td>0.000000</td>\n",
              "      <td>0.000000</td>\n",
              "      <td>0.000000</td>\n",
              "      <td>0.000000</td>\n",
              "      <td>0.000000</td>\n",
              "      <td>0.000000</td>\n",
              "      <td>0.000000</td>\n",
              "      <td>0.000000</td>\n",
              "      <td>0.000000</td>\n",
              "      <td>0.000000</td>\n",
              "      <td>0.000000</td>\n",
              "    </tr>\n",
              "    <tr>\n",
              "      <th>25%</th>\n",
              "      <td>0.000000</td>\n",
              "      <td>0.000000</td>\n",
              "      <td>0.000000</td>\n",
              "      <td>0.000000</td>\n",
              "      <td>0.000000</td>\n",
              "      <td>0.000000</td>\n",
              "      <td>0.000000</td>\n",
              "      <td>0.000000</td>\n",
              "      <td>0.000000</td>\n",
              "      <td>0.000000</td>\n",
              "      <td>0.000000</td>\n",
              "      <td>0.000000</td>\n",
              "      <td>0.000000</td>\n",
              "      <td>0.000000</td>\n",
              "      <td>0.000000</td>\n",
              "      <td>0.000000</td>\n",
              "    </tr>\n",
              "    <tr>\n",
              "      <th>50%</th>\n",
              "      <td>0.000000</td>\n",
              "      <td>0.000000</td>\n",
              "      <td>1.000000</td>\n",
              "      <td>0.000000</td>\n",
              "      <td>0.000000</td>\n",
              "      <td>1.000000</td>\n",
              "      <td>1.000000</td>\n",
              "      <td>1.000000</td>\n",
              "      <td>0.000000</td>\n",
              "      <td>0.000000</td>\n",
              "      <td>0.000000</td>\n",
              "      <td>0.000000</td>\n",
              "      <td>0.000000</td>\n",
              "      <td>1.000000</td>\n",
              "      <td>0.000000</td>\n",
              "      <td>1.000000</td>\n",
              "    </tr>\n",
              "    <tr>\n",
              "      <th>75%</th>\n",
              "      <td>1.000000</td>\n",
              "      <td>1.000000</td>\n",
              "      <td>1.000000</td>\n",
              "      <td>1.000000</td>\n",
              "      <td>1.000000</td>\n",
              "      <td>1.000000</td>\n",
              "      <td>1.000000</td>\n",
              "      <td>1.000000</td>\n",
              "      <td>1.000000</td>\n",
              "      <td>1.000000</td>\n",
              "      <td>1.000000</td>\n",
              "      <td>1.000000</td>\n",
              "      <td>1.000000</td>\n",
              "      <td>1.000000</td>\n",
              "      <td>1.000000</td>\n",
              "      <td>1.000000</td>\n",
              "    </tr>\n",
              "    <tr>\n",
              "      <th>max</th>\n",
              "      <td>1.000000</td>\n",
              "      <td>1.000000</td>\n",
              "      <td>1.000000</td>\n",
              "      <td>1.000000</td>\n",
              "      <td>1.000000</td>\n",
              "      <td>1.000000</td>\n",
              "      <td>1.000000</td>\n",
              "      <td>1.000000</td>\n",
              "      <td>1.000000</td>\n",
              "      <td>1.000000</td>\n",
              "      <td>1.000000</td>\n",
              "      <td>1.000000</td>\n",
              "      <td>1.000000</td>\n",
              "      <td>1.000000</td>\n",
              "      <td>1.000000</td>\n",
              "      <td>1.000000</td>\n",
              "    </tr>\n",
              "  </tbody>\n",
              "</table>\n",
              "</div>"
            ],
            "text/plain": [
              "          infants       water  ...  duty_free_exports     eaa_rsa\n",
              "count  435.000000  435.000000  ...         435.000000  435.000000\n",
              "mean     0.429885    0.448276  ...           0.400000    0.618391\n",
              "std      0.495630    0.497890  ...           0.490462    0.486341\n",
              "min      0.000000    0.000000  ...           0.000000    0.000000\n",
              "25%      0.000000    0.000000  ...           0.000000    0.000000\n",
              "50%      0.000000    0.000000  ...           0.000000    1.000000\n",
              "75%      1.000000    1.000000  ...           1.000000    1.000000\n",
              "max      1.000000    1.000000  ...           1.000000    1.000000\n",
              "\n",
              "[8 rows x 16 columns]"
            ]
          },
          "metadata": {
            "tags": []
          },
          "execution_count": 10
        }
      ]
    },
    {
      "cell_type": "code",
      "metadata": {
        "id": "tO0IEnqa6VMC",
        "colab": {
          "base_uri": "https://localhost:8080/",
          "height": 501
        },
        "outputId": "ae536a11-948f-4bf7-c2cb-c5fda1ad72ee"
      },
      "source": [
        "plt.figure(figsize=(12, 7), facecolor='lightgrey')\n",
        "sns.countplot(x='education', hue='party', data=df, palette='RdBu')\n",
        "plt.xticks([0, 1], ['No', 'Yes'])"
      ],
      "execution_count": 11,
      "outputs": [
        {
          "output_type": "execute_result",
          "data": {
            "text/plain": [
              "([<matplotlib.axis.XTick at 0x7f795a330790>,\n",
              "  <matplotlib.axis.XTick at 0x7f7959ab8cd0>],\n",
              " [Text(0, 0, 'No'), Text(0, 0, 'Yes')])"
            ]
          },
          "metadata": {
            "tags": []
          },
          "execution_count": 11
        },
        {
          "output_type": "display_data",
          "data": {
            "image/png": "[encoded data removed]",
            "text/plain": [
              "<Figure size 864x504 with 1 Axes>"
            ]
          },
          "metadata": {
            "tags": []
          }
        }
      ]
    },
    {
      "cell_type": "code",
      "metadata": {
        "id": "KE3g7LYz6VMF",
        "colab": {
          "base_uri": "https://localhost:8080/",
          "height": 501
        },
        "outputId": "88f22c03-ed53-4ec7-e435-056690da274f"
      },
      "source": [
        "plt.figure(figsize=(12, 7), facecolor='lightgrey')\n",
        "sns.countplot(x='satellite', hue='party', data=df, palette='RdBu')\n",
        "plt.xticks([0, 1], ['No', 'Yes'])"
      ],
      "execution_count": 12,
      "outputs": [
        {
          "output_type": "execute_result",
          "data": {
            "text/plain": [
              "([<matplotlib.axis.XTick at 0x7f7959a68e90>,\n",
              "  <matplotlib.axis.XTick at 0x7f7959a68e50>],\n",
              " [Text(0, 0, 'No'), Text(0, 0, 'Yes')])"
            ]
          },
          "metadata": {
            "tags": []
          },
          "execution_count": 12
        },
        {
          "output_type": "display_data",
          "data": {
            "image/png": "[encoded data removed]",
            "text/plain": [
              "<Figure size 864x504 with 1 Axes>"
            ]
          },
          "metadata": {
            "tags": []
          }
        }
      ]
    },
    {
      "cell_type": "code",
      "metadata": {
        "id": "Y08QciDH6VMG",
        "colab": {
          "base_uri": "https://localhost:8080/",
          "height": 501
        },
        "outputId": "bccd1ce3-070f-4804-c8e9-647e2136328c"
      },
      "source": [
        "plt.figure(figsize=(12, 7), facecolor='lightgrey')\n",
        "sns.countplot(x='missile', hue='party', data=df, palette='RdBu')\n",
        "plt.xticks([0, 1], ['No', 'Yes'])"
      ],
      "execution_count": 13,
      "outputs": [
        {
          "output_type": "execute_result",
          "data": {
            "text/plain": [
              "([<matplotlib.axis.XTick at 0x7f795959b390>,\n",
              "  <matplotlib.axis.XTick at 0x7f795959b350>],\n",
              " [Text(0, 0, 'No'), Text(0, 0, 'Yes')])"
            ]
          },
          "metadata": {
            "tags": []
          },
          "execution_count": 13
        },
        {
          "output_type": "display_data",
          "data": {
            "image/png": "[encoded data removed]",
            "text/plain": [
              "<Figure size 864x504 with 1 Axes>"
            ]
          },
          "metadata": {
            "tags": []
          }
        }
      ]
    },
    {
      "cell_type": "code",
      "metadata": {
        "colab": {
          "base_uri": "https://localhost:8080/",
          "height": 501
        },
        "id": "6pSR9iFrBwes",
        "outputId": "be07460d-753e-42bf-c7dc-371fd1182a29"
      },
      "source": [
        "plt.figure(figsize=(12, 7), facecolor='lightgrey')\r\n",
        "sns.countplot(x='crime', hue='party', data=df, palette='RdBu')\r\n",
        "plt.xticks([0, 1], ['No', 'Yes'])"
      ],
      "execution_count": 14,
      "outputs": [
        {
          "output_type": "execute_result",
          "data": {
            "text/plain": [
              "([<matplotlib.axis.XTick at 0x7f795950bad0>,\n",
              "  <matplotlib.axis.XTick at 0x7f795950ba90>],\n",
              " [Text(0, 0, 'No'), Text(0, 0, 'Yes')])"
            ]
          },
          "metadata": {
            "tags": []
          },
          "execution_count": 14
        },
        {
          "output_type": "display_data",
          "data": {
            "image/png": "[encoded data removed]",
            "text/plain": [
              "<Figure size 864x504 with 1 Axes>"
            ]
          },
          "metadata": {
            "tags": []
          }
        }
      ]
    },
    {
      "cell_type": "markdown",
      "metadata": {
        "id": "6FQS9JpVG0s1"
      },
      "source": [
        "### __KNeighborsClassifier__"
      ]
    },
    {
      "cell_type": "code",
      "metadata": {
        "id": "KuC9W85UUJyu",
        "colab": {
          "base_uri": "https://localhost:8080/"
        },
        "outputId": "ec58992f-c16d-41c1-bde0-603a9060cab5"
      },
      "source": [
        "# Import KNeighborsClassifier from sklearn.neighbors\r\n",
        "from sklearn.neighbors import KNeighborsClassifier\r\n",
        "\r\n",
        "# Create arrays for the features and the response variable\r\n",
        "y = df['party'].values\r\n",
        "X = df.drop('party', axis=1).values\r\n",
        "\r\n",
        "# Create a k-NN classifier with 6 neighbors\r\n",
        "knn = KNeighborsClassifier(n_neighbors=6)\r\n",
        "\r\n",
        "# Fit the classifier to the data\r\n",
        "knn.fit(X,y)"
      ],
      "execution_count": 15,
      "outputs": [
        {
          "output_type": "execute_result",
          "data": {
            "text/plain": [
              "KNeighborsClassifier(algorithm='auto', leaf_size=30, metric='minkowski',\n",
              "                     metric_params=None, n_jobs=None, n_neighbors=6, p=2,\n",
              "                     weights='uniform')"
            ]
          },
          "metadata": {
            "tags": []
          },
          "execution_count": 15
        }
      ]
    },
    {
      "cell_type": "code",
      "metadata": {
        "id": "LTocHhVm3r2n"
      },
      "source": [
        "# Predict the labels for the training data X\r\n",
        "y_pred = knn.predict(X)"
      ],
      "execution_count": 16,
      "outputs": []
    },
    {
      "cell_type": "code",
      "metadata": {
        "id": "RxUmkz9eARVd"
      },
      "source": [
        "X_new = pd.DataFrame([0.696469, 0.286139, 0.226851, 0.551315, 0.719469, 0.423106, 0.980764, \r\n",
        "                      0.68483, 0.480932, 0.392118, 0.343178, 0.72905, 0.438572, 0.059678,\r\n",
        "                      0.398044, 0.737995]).transpose()"
      ],
      "execution_count": 17,
      "outputs": []
    },
    {
      "cell_type": "code",
      "metadata": {
        "colab": {
          "base_uri": "https://localhost:8080/"
        },
        "id": "iRXc_VAqwcqt",
        "outputId": "71cce50d-d2ab-4e4e-ba07-0da3cb08ec3c"
      },
      "source": [
        "# Predict and print the label for the new data point X_new\r\n",
        "new_prediction = knn.predict(X_new)\r\n",
        "print(\"Prediction: {}\".format(new_prediction))"
      ],
      "execution_count": 18,
      "outputs": [
        {
          "output_type": "stream",
          "text": [
            "Prediction: ['democrat']\n"
          ],
          "name": "stdout"
        }
      ]
    },
    {
      "cell_type": "code",
      "metadata": {
        "colab": {
          "base_uri": "https://localhost:8080/"
        },
        "id": "S8CVXhlFcuKB",
        "outputId": "3d5d0216-2d90-4f0a-f651-61a8dff022a4"
      },
      "source": [
        "X"
      ],
      "execution_count": 19,
      "outputs": [
        {
          "output_type": "execute_result",
          "data": {
            "text/plain": [
              "array([[0, 1, 0, ..., 1, 0, 1],\n",
              "       [0, 1, 0, ..., 1, 0, 0],\n",
              "       [0, 1, 1, ..., 1, 0, 0],\n",
              "       ...,\n",
              "       [0, 0, 0, ..., 1, 0, 1],\n",
              "       [0, 0, 0, ..., 1, 0, 1],\n",
              "       [0, 1, 0, ..., 1, 0, 0]])"
            ]
          },
          "metadata": {
            "tags": []
          },
          "execution_count": 19
        }
      ]
    },
    {
      "cell_type": "code",
      "metadata": {
        "colab": {
          "base_uri": "https://localhost:8080/"
        },
        "id": "Yz1ZW6mrcvTw",
        "outputId": "ad57ad12-6d56-48d0-c266-62cfa0b818a8"
      },
      "source": [
        "y"
      ],
      "execution_count": 20,
      "outputs": [
        {
          "output_type": "execute_result",
          "data": {
            "text/plain": [
              "array(['republican', 'republican', 'democrat', 'democrat', 'democrat',\n",
              "       'democrat', 'democrat', 'republican', 'republican', 'democrat',\n",
              "       'republican', 'republican', 'democrat', 'democrat', 'republican',\n",
              "       'republican', 'democrat', 'democrat', 'republican', 'democrat',\n",
              "       'democrat', 'democrat', 'democrat', 'democrat', 'democrat',\n",
              "       'democrat', 'democrat', 'democrat', 'republican', 'democrat',\n",
              "       'republican', 'democrat', 'democrat', 'republican', 'democrat',\n",
              "       'republican', 'republican', 'republican', 'republican', 'democrat',\n",
              "       'democrat', 'democrat', 'democrat', 'democrat', 'democrat',\n",
              "       'democrat', 'democrat', 'democrat', 'democrat', 'republican',\n",
              "       'democrat', 'republican', 'democrat', 'republican', 'democrat',\n",
              "       'republican', 'republican', 'republican', 'republican',\n",
              "       'republican', 'democrat', 'republican', 'democrat', 'democrat',\n",
              "       'democrat', 'republican', 'republican', 'republican', 'democrat',\n",
              "       'democrat', 'democrat', 'republican', 'democrat', 'republican',\n",
              "       'democrat', 'democrat', 'democrat', 'democrat', 'democrat',\n",
              "       'republican', 'democrat', 'democrat', 'republican', 'republican',\n",
              "       'republican', 'democrat', 'republican', 'republican', 'democrat',\n",
              "       'republican', 'democrat', 'democrat', 'democrat', 'democrat',\n",
              "       'democrat', 'democrat', 'democrat', 'democrat', 'democrat',\n",
              "       'republican', 'democrat', 'democrat', 'democrat', 'democrat',\n",
              "       'democrat', 'democrat', 'republican', 'republican', 'democrat',\n",
              "       'democrat', 'democrat', 'republican', 'democrat', 'republican',\n",
              "       'democrat', 'democrat', 'democrat', 'republican', 'democrat',\n",
              "       'republican', 'republican', 'republican', 'republican',\n",
              "       'republican', 'democrat', 'republican', 'republican', 'democrat',\n",
              "       'democrat', 'democrat', 'democrat', 'democrat', 'republican',\n",
              "       'republican', 'republican', 'republican', 'republican', 'democrat',\n",
              "       'democrat', 'democrat', 'republican', 'republican', 'republican',\n",
              "       'democrat', 'democrat', 'democrat', 'republican', 'democrat',\n",
              "       'republican', 'democrat', 'republican', 'democrat', 'democrat',\n",
              "       'democrat', 'republican', 'republican', 'republican', 'democrat',\n",
              "       'republican', 'democrat', 'democrat', 'democrat', 'democrat',\n",
              "       'republican', 'democrat', 'democrat', 'republican', 'republican',\n",
              "       'democrat', 'democrat', 'democrat', 'republican', 'democrat',\n",
              "       'democrat', 'democrat', 'democrat', 'republican', 'democrat',\n",
              "       'democrat', 'democrat', 'democrat', 'democrat', 'democrat',\n",
              "       'democrat', 'democrat', 'democrat', 'democrat', 'democrat',\n",
              "       'republican', 'democrat', 'republican', 'republican', 'democrat',\n",
              "       'democrat', 'democrat', 'republican', 'democrat', 'republican',\n",
              "       'democrat', 'democrat', 'democrat', 'democrat', 'democrat',\n",
              "       'democrat', 'republican', 'democrat', 'republican', 'republican',\n",
              "       'democrat', 'democrat', 'democrat', 'republican', 'democrat',\n",
              "       'democrat', 'republican', 'democrat', 'democrat', 'republican',\n",
              "       'democrat', 'democrat', 'democrat', 'democrat', 'democrat',\n",
              "       'republican', 'republican', 'republican', 'democrat', 'democrat',\n",
              "       'republican', 'republican', 'republican', 'republican', 'democrat',\n",
              "       'republican', 'democrat', 'republican', 'democrat', 'democrat',\n",
              "       'democrat', 'republican', 'republican', 'democrat', 'republican',\n",
              "       'democrat', 'democrat', 'democrat', 'democrat', 'republican',\n",
              "       'republican', 'democrat', 'republican', 'republican', 'democrat',\n",
              "       'republican', 'democrat', 'democrat', 'republican', 'republican',\n",
              "       'democrat', 'democrat', 'democrat', 'democrat', 'democrat',\n",
              "       'democrat', 'democrat', 'democrat', 'republican', 'republican',\n",
              "       'democrat', 'democrat', 'democrat', 'democrat', 'democrat',\n",
              "       'republican', 'republican', 'democrat', 'republican', 'republican',\n",
              "       'republican', 'republican', 'democrat', 'republican', 'republican',\n",
              "       'republican', 'democrat', 'democrat', 'democrat', 'democrat',\n",
              "       'democrat', 'democrat', 'democrat', 'democrat', 'democrat',\n",
              "       'democrat', 'democrat', 'republican', 'republican', 'democrat',\n",
              "       'democrat', 'democrat', 'republican', 'democrat', 'republican',\n",
              "       'republican', 'republican', 'republican', 'republican', 'democrat',\n",
              "       'republican', 'democrat', 'republican', 'democrat', 'democrat',\n",
              "       'republican', 'republican', 'republican', 'democrat', 'democrat',\n",
              "       'democrat', 'democrat', 'democrat', 'democrat', 'democrat',\n",
              "       'democrat', 'republican', 'democrat', 'democrat', 'republican',\n",
              "       'democrat', 'democrat', 'republican', 'democrat', 'democrat',\n",
              "       'democrat', 'democrat', 'republican', 'democrat', 'democrat',\n",
              "       'democrat', 'republican', 'republican', 'democrat', 'democrat',\n",
              "       'republican', 'democrat', 'republican', 'republican', 'republican',\n",
              "       'democrat', 'republican', 'democrat', 'republican', 'democrat',\n",
              "       'republican', 'democrat', 'republican', 'republican', 'republican',\n",
              "       'democrat', 'republican', 'democrat', 'democrat', 'democrat',\n",
              "       'republican', 'republican', 'democrat', 'democrat', 'democrat',\n",
              "       'democrat', 'republican', 'democrat', 'democrat', 'democrat',\n",
              "       'democrat', 'republican', 'democrat', 'democrat', 'republican',\n",
              "       'republican', 'republican', 'democrat', 'democrat', 'democrat',\n",
              "       'democrat', 'democrat', 'democrat', 'democrat', 'democrat',\n",
              "       'democrat', 'democrat', 'democrat', 'democrat', 'republican',\n",
              "       'republican', 'democrat', 'democrat', 'democrat', 'democrat',\n",
              "       'democrat', 'republican', 'republican', 'republican', 'republican',\n",
              "       'republican', 'republican', 'republican', 'democrat', 'democrat',\n",
              "       'democrat', 'republican', 'republican', 'democrat', 'republican',\n",
              "       'republican', 'democrat', 'democrat', 'republican', 'democrat',\n",
              "       'democrat', 'democrat', 'republican', 'democrat', 'democrat',\n",
              "       'democrat', 'democrat', 'democrat', 'democrat', 'republican',\n",
              "       'democrat', 'democrat', 'republican', 'democrat', 'republican',\n",
              "       'republican', 'republican'], dtype=object)"
            ]
          },
          "metadata": {
            "tags": []
          },
          "execution_count": 20
        }
      ]
    },
    {
      "cell_type": "code",
      "metadata": {
        "colab": {
          "base_uri": "https://localhost:8080/"
        },
        "id": "LayXCZlrx0bZ",
        "outputId": "cd1f0a60-a6e8-43a4-d1a7-0cf72e95a04f"
      },
      "source": [
        "print('shape of X: ',X.shape)\r\n",
        "print('shape of y: ',y.shape)"
      ],
      "execution_count": 21,
      "outputs": [
        {
          "output_type": "stream",
          "text": [
            "shape of X:  (435, 16)\n",
            "shape of y:  (435,)\n"
          ],
          "name": "stdout"
        }
      ]
    },
    {
      "cell_type": "markdown",
      "metadata": {
        "id": "oyDfmy2XAlkA"
      },
      "source": [
        "# __The digits recognition dataset__"
      ]
    },
    {
      "cell_type": "code",
      "metadata": {
        "colab": {
          "base_uri": "https://localhost:8080/",
          "height": 1000
        },
        "id": "LFnnH9I8AjSa",
        "outputId": "6f595b13-fd5d-4b24-f372-601b505c3866"
      },
      "source": [
        "# Import necessary modules\r\n",
        "from sklearn import datasets\r\n",
        "import matplotlib.pyplot as plt\r\n",
        "\r\n",
        "# Load the digits dataset: digits\r\n",
        "digits = datasets.load_digits()\r\n",
        "\r\n",
        "# Print the keys and DESCR of the dataset\r\n",
        "print(digits.keys())\r\n",
        "print(digits.DESCR)\r\n",
        "\r\n",
        "# Print the shape of the images and data keys\r\n",
        "print(digits.images.shape)\r\n",
        "print(digits.data.shape)\r\n",
        "\r\n",
        "# Display digit 1010\r\n",
        "plt.imshow(digits.images[1010], cmap=plt.cm.gray_r, interpolation='nearest')\r\n",
        "plt.show()"
      ],
      "execution_count": 22,
      "outputs": [
        {
          "output_type": "stream",
          "text": [
            "dict_keys(['data', 'target', 'target_names', 'images', 'DESCR'])\n",
            ".. _digits_dataset:\n",
            "\n",
            "Optical recognition of handwritten digits dataset\n",
            "--------------------------------------------------\n",
            "\n",
            "**Data Set Characteristics:**\n",
            "\n",
            "    :Number of Instances: 5620\n",
            "    :Number of Attributes: 64\n",
            "    :Attribute Information: 8x8 image of integer pixels in the range 0..16.\n",
            "    :Missing Attribute Values: None\n",
            "    :Creator: E. Alpaydin (alpaydin '@' boun.edu.tr)\n",
            "    :Date: July; 1998\n",
            "\n",
            "This is a copy of the test set of the UCI ML hand-written digits datasets\n",
            "https://archive.ics.uci.edu/ml/datasets/Optical+Recognition+of+Handwritten+Digits\n",
            "\n",
            "The data set contains images of hand-written digits: 10 classes where\n",
            "each class refers to a digit.\n",
            "\n",
            "Preprocessing programs made available by NIST were used to extract\n",
            "normalized bitmaps of handwritten digits from a preprinted form. From a\n",
            "total of 43 people, 30 contributed to the training set and different 13\n",
            "to the test set. 32x32 bitmaps are divided into nonoverlapping blocks of\n",
            "4x4 and the number of on pixels are counted in each block. This generates\n",
            "an input matrix of 8x8 where each element is an integer in the range\n",
            "0..16. This reduces dimensionality and gives invariance to small\n",
            "distortions.\n",
            "\n",
            "For info on NIST preprocessing routines, see M. D. Garris, J. L. Blue, G.\n",
            "T. Candela, D. L. Dimmick, J. Geist, P. J. Grother, S. A. Janet, and C.\n",
            "L. Wilson, NIST Form-Based Handprint Recognition System, NISTIR 5469,\n",
            "1994.\n",
            "\n",
            ".. topic:: References\n",
            "\n",
            "  - C. Kaynak (1995) Methods of Combining Multiple Classifiers and Their\n",
            "    Applications to Handwritten Digit Recognition, MSc Thesis, Institute of\n",
            "    Graduate Studies in Science and Engineering, Bogazici University.\n",
            "  - E. Alpaydin, C. Kaynak (1998) Cascading Classifiers, Kybernetika.\n",
            "  - Ken Tang and Ponnuthurai N. Suganthan and Xi Yao and A. Kai Qin.\n",
            "    Linear dimensionalityreduction using relevance weighted LDA. School of\n",
            "    Electrical and Electronic Engineering Nanyang Technological University.\n",
            "    2005.\n",
            "  - Claudio Gentile. A New Approximate Maximal Margin Classification\n",
            "    Algorithm. NIPS. 2000.\n",
            "(1797, 8, 8)\n",
            "(1797, 64)\n"
          ],
          "name": "stdout"
        },
        {
          "output_type": "display_data",
          "data": {
            "image/png": "[encoded data removed]",
            "text/plain": [
              "<Figure size 432x288 with 1 Axes>"
            ]
          },
          "metadata": {
            "tags": [],
            "needs_background": "light"
          }
        }
      ]
    },
    {
      "cell_type": "markdown",
      "metadata": {
        "id": "StBY04CEA1W2"
      },
      "source": [
        "### __Train/Test Split + Fit/Predict/Accuracy__"
      ]
    },
    {
      "cell_type": "code",
      "metadata": {
        "colab": {
          "base_uri": "https://localhost:8080/"
        },
        "id": "yNEW1bRUA5ZI",
        "outputId": "9969956a-8ef3-4c72-8feb-1d5a6b7dcf7a"
      },
      "source": [
        "from sklearn.neighbors import KNeighborsClassifier\r\n",
        "from sklearn.model_selection import train_test_split\r\n",
        "\r\n",
        "# Create feature and target arrays\r\n",
        "X = digits.data\r\n",
        "y = digits.target\r\n",
        "\r\n",
        "# Split into training and test set\r\n",
        "X_train, X_test, y_train, y_test = train_test_split(X, y, test_size=0.2, \r\n",
        "                                                    random_state=42, stratify=y)\r\n",
        "\r\n",
        "# Create a k-NN classifier with 7 neighbors: knn\r\n",
        "knn = KNeighborsClassifier(n_neighbors=7)\r\n",
        "\r\n",
        "# Fit the classifier to the training data\r\n",
        "knn.fit(X_train, y_train)\r\n",
        "\r\n",
        "# Print the accuracy\r\n",
        "print(knn.score(X_test, y_test))"
      ],
      "execution_count": 23,
      "outputs": [
        {
          "output_type": "stream",
          "text": [
            "0.9833333333333333\n"
          ],
          "name": "stdout"
        }
      ]
    },
    {
      "cell_type": "markdown",
      "metadata": {
        "id": "N40I9oGiHmMd"
      },
      "source": [
        "`stratify=y`**stratification **means that the `train_test_split` method returns **training** and **test subsets** that have the **same proportions** of class labels as the input dataset."
      ]
    },
    {
      "cell_type": "markdown",
      "metadata": {
        "id": "ATJSgTRUBeNd"
      },
      "source": [
        "### __Overfitting and underfitting__"
      ]
    },
    {
      "cell_type": "code",
      "metadata": {
        "colab": {
          "base_uri": "https://localhost:8080/",
          "height": 464
        },
        "id": "LsYL5IrhBLf5",
        "outputId": "0e94b660-a9d5-486e-d5ff-47a68767383a"
      },
      "source": [
        "# Setup arrays to store train and test accuracies\r\n",
        "neighbors = np.arange(1, 9)\r\n",
        "train_accuracy = np.empty(len(neighbors))\r\n",
        "test_accuracy = np.empty(len(neighbors))\r\n",
        "\r\n",
        "# Loop over different values of k\r\n",
        "for i, k in enumerate(neighbors):\r\n",
        "    # Setup a k-NN Classifier with k neighbors: knn\r\n",
        "    knn = KNeighborsClassifier(n_neighbors=k)\r\n",
        "\r\n",
        "    # Fit the classifier to the training data\r\n",
        "    knn.fit(X_train, y_train)\r\n",
        "    \r\n",
        "    #Compute accuracy on the training set\r\n",
        "    train_accuracy[i] = knn.score(X_train, y_train)\r\n",
        "\r\n",
        "    #Compute accuracy on the testing set\r\n",
        "    test_accuracy[i] = knn.score(X_test, y_test)\r\n",
        "\r\n",
        "# Generate plot\r\n",
        "plt.figure(figsize=(12, 7), facecolor='lightgrey')\r\n",
        "plt.title('k-NN: Varying Number of Neighbors')\r\n",
        "plt.plot(neighbors, test_accuracy, label = 'Testing Accuracy')\r\n",
        "plt.plot(neighbors, train_accuracy, label = 'Training Accuracy')\r\n",
        "plt.xlabel('Number of Neighbors')\r\n",
        "plt.ylabel('Accuracy')\r\n",
        "plt.legend()\r\n",
        "plt.show()"
      ],
      "execution_count": 24,
      "outputs": [
        {
          "output_type": "display_data",
          "data": {
            "image/png": "[encoded data removed]",
            "text/plain": [
              "<Figure size 864x504 with 1 Axes>"
            ]
          },
          "metadata": {
            "tags": []
          }
        }
      ]
    },
    {
      "cell_type": "markdown",
      "metadata": {
        "id": "i4vem7GtHSO-"
      },
      "source": [
        "<p align='center'> \r\n",
        "    <a href=\"https://twitter.com/F4izy\"> \r\n",
        "        <img src=\"https://th.bing.com/th/id/OIP.FCKMemzqNplY37Jwi0Yk3AHaGl?w=233&h=207&c=7&o=5&pid=1.7\" width=50px \r\n",
        "            height=50px> \r\n",
        "    </a> \r\n",
        "    <a href=\"https://www.linkedin.com/in/mohd-faizy/\"> \r\n",
        "        <img src='https://th.bing.com/th/id/OIP.idrBN-LfvMIZl370Vb65SgHaHa?pid=Api&rs=1' width=50px height=50px> \r\n",
        "    </a> \r\n",
        "</p>"
      ]
    }
  ]
}