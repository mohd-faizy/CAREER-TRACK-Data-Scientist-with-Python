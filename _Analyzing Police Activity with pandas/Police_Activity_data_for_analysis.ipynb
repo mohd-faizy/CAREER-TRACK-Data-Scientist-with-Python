{
  "nbformat": 4,
  "nbformat_minor": 0,
  "metadata": {
    "colab": {
      "name": " Police Activity data for analysis",
      "provenance": [],
      "collapsed_sections": [],
      "authorship_tag": "ABX9TyOIxzEpq5CWJsehNxDILpTz",
      "include_colab_link": true
    },
    "kernelspec": {
      "name": "python3",
      "display_name": "Python 3"
    }
  },
  "cells": [
    {
      "cell_type": "markdown",
      "metadata": {
        "id": "view-in-github",
        "colab_type": "text"
      },
      "source": [
        "<a href=\"https://colab.research.google.com/github/mohd-faizy/CAREER-TRACK-Data-Scientist-with-Python/blob/main/Police_Activity_data_for_analysis.ipynb\" target=\"_parent\"><img src=\"https://colab.research.google.com/assets/colab-badge.svg\" alt=\"Open In Colab\"/></a>"
      ]
    },
    {
      "cell_type": "markdown",
      "metadata": {
        "id": "cUdFFwNEVI-P"
      },
      "source": [
        "--- \r\n",
        "<strong> \r\n",
        "    <h1 align='center'>Preparing the Police Activity data for analysis (Part - 1)\r\n",
        "    </h1> \r\n",
        "</strong>\r\n",
        "\r\n",
        "---"
      ]
    },
    {
      "cell_type": "code",
      "metadata": {
        "colab": {
          "base_uri": "https://localhost:8080/"
        },
        "id": "45A5T9MIQl4U",
        "outputId": "ff9593ba-6cc3-4a2d-d336-ce78d63266ff"
      },
      "source": [
        "!git clone https://github.com/mohd-faizy/CAREER-TRACK-Data-Scientist-with-Python.git"
      ],
      "execution_count": 1,
      "outputs": [
        {
          "output_type": "stream",
          "text": [
            "Cloning into 'CAREER-TRACK-Data-Scientist-with-Python'...\n",
            "remote: Enumerating objects: 440, done.\u001b[K\n",
            "remote: Counting objects: 100% (440/440), done.\u001b[K\n",
            "remote: Compressing objects: 100% (375/375), done.\u001b[K\n",
            "remote: Total 1811 (delta 131), reused 367 (delta 60), pack-reused 1371\u001b[K\n",
            "Receiving objects: 100% (1811/1811), 188.37 MiB | 18.41 MiB/s, done.\n",
            "Resolving deltas: 100% (623/623), done.\n",
            "Checking out files: 100% (802/802), done.\n"
          ],
          "name": "stdout"
        }
      ]
    },
    {
      "cell_type": "markdown",
      "metadata": {
        "id": "lgq55HorUEBI"
      },
      "source": [
        "__Change the current working directory__"
      ]
    },
    {
      "cell_type": "code",
      "metadata": {
        "colab": {
          "base_uri": "https://localhost:8080/"
        },
        "id": "sV77zYvcQ4bV",
        "outputId": "7c0a5ead-75f4-41ba-aa0d-377d9c5e02a9"
      },
      "source": [
        "# import os module \r\n",
        "import os \r\n",
        "   \r\n",
        "# to specified path \r\n",
        "os.chdir('/content/CAREER-TRACK-Data-Scientist-with-Python/21_Analyzing Police Activity with pandas/_dataset') \r\n",
        "  \r\n",
        "# varify the path using getcwd() \r\n",
        "cwd = os.getcwd() \r\n",
        "  \r\n",
        "# print the current directory \r\n",
        "print(\"Current working directory is:\", cwd) "
      ],
      "execution_count": 2,
      "outputs": [
        {
          "output_type": "stream",
          "text": [
            "Current working directory is: /content/CAREER-TRACK-Data-Scientist-with-Python/21_Analyzing Police Activity with pandas/_dataset\n"
          ],
          "name": "stdout"
        }
      ]
    },
    {
      "cell_type": "code",
      "metadata": {
        "colab": {
          "base_uri": "https://localhost:8080/"
        },
        "id": "iWqv8ejWRIec",
        "outputId": "2641bb3e-c543-40d5-c8df-94d1293f1336"
      },
      "source": [
        "ls"
      ],
      "execution_count": 3,
      "outputs": [
        {
          "output_type": "stream",
          "text": [
            "police.csv  weather.csv\n"
          ],
          "name": "stdout"
        }
      ]
    },
    {
      "cell_type": "markdown",
      "metadata": {
        "id": "7G7ev3x4N2Wh"
      },
      "source": [
        "## $\\color{green}{\\textbf{Dataset_1_police.csv:}}$ \r\n",
        "\r\n",
        "[Stanford Open Policing Project dataset](https://openpolicing.stanford.edu/)\r\n",
        "\r\n",
        "\r\n",
        "On a typical day in the United States, police officers make more than 50,000 traffic stops. __THE STANFORD OPEN POLICING PROJECT__ gathers, analyse, and release the records from millions of traffic stops by law enforcement agencies across the __US__.\r\n",
        "\r\n",
        "<p align='center'>\r\n",
        "  <a href=\"#\">\r\n",
        "    <img src='https://policylab.stanford.edu/images/icons/stanford-open-policing-project.png' width=500px height=300px alt=\"\">\r\n",
        "  </a>\r\n",
        "</p>\r\n",
        "\r\n"
      ]
    },
    {
      "cell_type": "markdown",
      "metadata": {
        "id": "qVCdN4nkY2_J"
      },
      "source": [
        "## __01 Examining the dataset__\r\n",
        "\r\n",
        "Before beginning your analysis, it's important that you familiarize yourself with the dataset. In this exercise, we'll read the dataset into pandas, examine the first few rows, and then count the number of missing values."
      ]
    },
    {
      "cell_type": "code",
      "metadata": {
        "colab": {
          "base_uri": "https://localhost:8080/",
          "height": 301
        },
        "id": "gf6NUMXZZLXx",
        "outputId": "9bf393a6-7611-4c60-c732-d11a784529b1"
      },
      "source": [
        "# Import the pandas library as pd\r\n",
        "import pandas as pd\r\n",
        "\r\n",
        "# Read 'police.csv' into a DataFrame named ri\r\n",
        "ri = pd.read_csv('police.csv')\r\n",
        "\r\n",
        "# Examine the head of the DataFrame\r\n",
        "ri.head()"
      ],
      "execution_count": 4,
      "outputs": [
        {
          "output_type": "execute_result",
          "data": {
            "text/html": [
              "<div>\n",
              "<style scoped>\n",
              "    .dataframe tbody tr th:only-of-type {\n",
              "        vertical-align: middle;\n",
              "    }\n",
              "\n",
              "    .dataframe tbody tr th {\n",
              "        vertical-align: top;\n",
              "    }\n",
              "\n",
              "    .dataframe thead th {\n",
              "        text-align: right;\n",
              "    }\n",
              "</style>\n",
              "<table border=\"1\" class=\"dataframe\">\n",
              "  <thead>\n",
              "    <tr style=\"text-align: right;\">\n",
              "      <th></th>\n",
              "      <th>state</th>\n",
              "      <th>stop_date</th>\n",
              "      <th>stop_time</th>\n",
              "      <th>county_name</th>\n",
              "      <th>driver_gender</th>\n",
              "      <th>driver_race</th>\n",
              "      <th>violation_raw</th>\n",
              "      <th>violation</th>\n",
              "      <th>search_conducted</th>\n",
              "      <th>search_type</th>\n",
              "      <th>stop_outcome</th>\n",
              "      <th>is_arrested</th>\n",
              "      <th>stop_duration</th>\n",
              "      <th>drugs_related_stop</th>\n",
              "      <th>district</th>\n",
              "    </tr>\n",
              "  </thead>\n",
              "  <tbody>\n",
              "    <tr>\n",
              "      <th>0</th>\n",
              "      <td>RI</td>\n",
              "      <td>2005-01-04</td>\n",
              "      <td>12:55</td>\n",
              "      <td>NaN</td>\n",
              "      <td>M</td>\n",
              "      <td>White</td>\n",
              "      <td>Equipment/Inspection Violation</td>\n",
              "      <td>Equipment</td>\n",
              "      <td>False</td>\n",
              "      <td>NaN</td>\n",
              "      <td>Citation</td>\n",
              "      <td>False</td>\n",
              "      <td>0-15 Min</td>\n",
              "      <td>False</td>\n",
              "      <td>Zone X4</td>\n",
              "    </tr>\n",
              "    <tr>\n",
              "      <th>1</th>\n",
              "      <td>RI</td>\n",
              "      <td>2005-01-23</td>\n",
              "      <td>23:15</td>\n",
              "      <td>NaN</td>\n",
              "      <td>M</td>\n",
              "      <td>White</td>\n",
              "      <td>Speeding</td>\n",
              "      <td>Speeding</td>\n",
              "      <td>False</td>\n",
              "      <td>NaN</td>\n",
              "      <td>Citation</td>\n",
              "      <td>False</td>\n",
              "      <td>0-15 Min</td>\n",
              "      <td>False</td>\n",
              "      <td>Zone K3</td>\n",
              "    </tr>\n",
              "    <tr>\n",
              "      <th>2</th>\n",
              "      <td>RI</td>\n",
              "      <td>2005-02-17</td>\n",
              "      <td>04:15</td>\n",
              "      <td>NaN</td>\n",
              "      <td>M</td>\n",
              "      <td>White</td>\n",
              "      <td>Speeding</td>\n",
              "      <td>Speeding</td>\n",
              "      <td>False</td>\n",
              "      <td>NaN</td>\n",
              "      <td>Citation</td>\n",
              "      <td>False</td>\n",
              "      <td>0-15 Min</td>\n",
              "      <td>False</td>\n",
              "      <td>Zone X4</td>\n",
              "    </tr>\n",
              "    <tr>\n",
              "      <th>3</th>\n",
              "      <td>RI</td>\n",
              "      <td>2005-02-20</td>\n",
              "      <td>17:15</td>\n",
              "      <td>NaN</td>\n",
              "      <td>M</td>\n",
              "      <td>White</td>\n",
              "      <td>Call for Service</td>\n",
              "      <td>Other</td>\n",
              "      <td>False</td>\n",
              "      <td>NaN</td>\n",
              "      <td>Arrest Driver</td>\n",
              "      <td>True</td>\n",
              "      <td>16-30 Min</td>\n",
              "      <td>False</td>\n",
              "      <td>Zone X1</td>\n",
              "    </tr>\n",
              "    <tr>\n",
              "      <th>4</th>\n",
              "      <td>RI</td>\n",
              "      <td>2005-02-24</td>\n",
              "      <td>01:20</td>\n",
              "      <td>NaN</td>\n",
              "      <td>F</td>\n",
              "      <td>White</td>\n",
              "      <td>Speeding</td>\n",
              "      <td>Speeding</td>\n",
              "      <td>False</td>\n",
              "      <td>NaN</td>\n",
              "      <td>Citation</td>\n",
              "      <td>False</td>\n",
              "      <td>0-15 Min</td>\n",
              "      <td>False</td>\n",
              "      <td>Zone X3</td>\n",
              "    </tr>\n",
              "  </tbody>\n",
              "</table>\n",
              "</div>"
            ],
            "text/plain": [
              "  state   stop_date stop_time  ...  stop_duration drugs_related_stop district\n",
              "0    RI  2005-01-04     12:55  ...       0-15 Min              False  Zone X4\n",
              "1    RI  2005-01-23     23:15  ...       0-15 Min              False  Zone K3\n",
              "2    RI  2005-02-17     04:15  ...       0-15 Min              False  Zone X4\n",
              "3    RI  2005-02-20     17:15  ...      16-30 Min              False  Zone X1\n",
              "4    RI  2005-02-24     01:20  ...       0-15 Min              False  Zone X3\n",
              "\n",
              "[5 rows x 15 columns]"
            ]
          },
          "metadata": {
            "tags": []
          },
          "execution_count": 4
        }
      ]
    },
    {
      "cell_type": "code",
      "metadata": {
        "colab": {
          "base_uri": "https://localhost:8080/"
        },
        "id": "pLiUvolr1mVx",
        "outputId": "02b66028-cff1-4eb4-b259-f3c878fb5ac1"
      },
      "source": [
        "ri.isna().sum()"
      ],
      "execution_count": 5,
      "outputs": [
        {
          "output_type": "execute_result",
          "data": {
            "text/plain": [
              "state                     0\n",
              "stop_date                 0\n",
              "stop_time                 0\n",
              "county_name           91741\n",
              "driver_gender          5205\n",
              "driver_race            5202\n",
              "violation_raw          5202\n",
              "violation              5202\n",
              "search_conducted          0\n",
              "search_type           88434\n",
              "stop_outcome           5202\n",
              "is_arrested            5202\n",
              "stop_duration          5202\n",
              "drugs_related_stop        0\n",
              "district                  0\n",
              "dtype: int64"
            ]
          },
          "metadata": {
            "tags": []
          },
          "execution_count": 5
        }
      ]
    },
    {
      "cell_type": "code",
      "metadata": {
        "colab": {
          "base_uri": "https://localhost:8080/",
          "height": 426
        },
        "id": "ZyoQFFMP1rvk",
        "outputId": "b9d3c79b-8c62-42e7-f933-d57e0026869c"
      },
      "source": [
        "ri.isnull()"
      ],
      "execution_count": 6,
      "outputs": [
        {
          "output_type": "execute_result",
          "data": {
            "text/html": [
              "<div>\n",
              "<style scoped>\n",
              "    .dataframe tbody tr th:only-of-type {\n",
              "        vertical-align: middle;\n",
              "    }\n",
              "\n",
              "    .dataframe tbody tr th {\n",
              "        vertical-align: top;\n",
              "    }\n",
              "\n",
              "    .dataframe thead th {\n",
              "        text-align: right;\n",
              "    }\n",
              "</style>\n",
              "<table border=\"1\" class=\"dataframe\">\n",
              "  <thead>\n",
              "    <tr style=\"text-align: right;\">\n",
              "      <th></th>\n",
              "      <th>state</th>\n",
              "      <th>stop_date</th>\n",
              "      <th>stop_time</th>\n",
              "      <th>county_name</th>\n",
              "      <th>driver_gender</th>\n",
              "      <th>driver_race</th>\n",
              "      <th>violation_raw</th>\n",
              "      <th>violation</th>\n",
              "      <th>search_conducted</th>\n",
              "      <th>search_type</th>\n",
              "      <th>stop_outcome</th>\n",
              "      <th>is_arrested</th>\n",
              "      <th>stop_duration</th>\n",
              "      <th>drugs_related_stop</th>\n",
              "      <th>district</th>\n",
              "    </tr>\n",
              "  </thead>\n",
              "  <tbody>\n",
              "    <tr>\n",
              "      <th>0</th>\n",
              "      <td>False</td>\n",
              "      <td>False</td>\n",
              "      <td>False</td>\n",
              "      <td>True</td>\n",
              "      <td>False</td>\n",
              "      <td>False</td>\n",
              "      <td>False</td>\n",
              "      <td>False</td>\n",
              "      <td>False</td>\n",
              "      <td>True</td>\n",
              "      <td>False</td>\n",
              "      <td>False</td>\n",
              "      <td>False</td>\n",
              "      <td>False</td>\n",
              "      <td>False</td>\n",
              "    </tr>\n",
              "    <tr>\n",
              "      <th>1</th>\n",
              "      <td>False</td>\n",
              "      <td>False</td>\n",
              "      <td>False</td>\n",
              "      <td>True</td>\n",
              "      <td>False</td>\n",
              "      <td>False</td>\n",
              "      <td>False</td>\n",
              "      <td>False</td>\n",
              "      <td>False</td>\n",
              "      <td>True</td>\n",
              "      <td>False</td>\n",
              "      <td>False</td>\n",
              "      <td>False</td>\n",
              "      <td>False</td>\n",
              "      <td>False</td>\n",
              "    </tr>\n",
              "    <tr>\n",
              "      <th>2</th>\n",
              "      <td>False</td>\n",
              "      <td>False</td>\n",
              "      <td>False</td>\n",
              "      <td>True</td>\n",
              "      <td>False</td>\n",
              "      <td>False</td>\n",
              "      <td>False</td>\n",
              "      <td>False</td>\n",
              "      <td>False</td>\n",
              "      <td>True</td>\n",
              "      <td>False</td>\n",
              "      <td>False</td>\n",
              "      <td>False</td>\n",
              "      <td>False</td>\n",
              "      <td>False</td>\n",
              "    </tr>\n",
              "    <tr>\n",
              "      <th>3</th>\n",
              "      <td>False</td>\n",
              "      <td>False</td>\n",
              "      <td>False</td>\n",
              "      <td>True</td>\n",
              "      <td>False</td>\n",
              "      <td>False</td>\n",
              "      <td>False</td>\n",
              "      <td>False</td>\n",
              "      <td>False</td>\n",
              "      <td>True</td>\n",
              "      <td>False</td>\n",
              "      <td>False</td>\n",
              "      <td>False</td>\n",
              "      <td>False</td>\n",
              "      <td>False</td>\n",
              "    </tr>\n",
              "    <tr>\n",
              "      <th>4</th>\n",
              "      <td>False</td>\n",
              "      <td>False</td>\n",
              "      <td>False</td>\n",
              "      <td>True</td>\n",
              "      <td>False</td>\n",
              "      <td>False</td>\n",
              "      <td>False</td>\n",
              "      <td>False</td>\n",
              "      <td>False</td>\n",
              "      <td>True</td>\n",
              "      <td>False</td>\n",
              "      <td>False</td>\n",
              "      <td>False</td>\n",
              "      <td>False</td>\n",
              "      <td>False</td>\n",
              "    </tr>\n",
              "    <tr>\n",
              "      <th>...</th>\n",
              "      <td>...</td>\n",
              "      <td>...</td>\n",
              "      <td>...</td>\n",
              "      <td>...</td>\n",
              "      <td>...</td>\n",
              "      <td>...</td>\n",
              "      <td>...</td>\n",
              "      <td>...</td>\n",
              "      <td>...</td>\n",
              "      <td>...</td>\n",
              "      <td>...</td>\n",
              "      <td>...</td>\n",
              "      <td>...</td>\n",
              "      <td>...</td>\n",
              "      <td>...</td>\n",
              "    </tr>\n",
              "    <tr>\n",
              "      <th>91736</th>\n",
              "      <td>False</td>\n",
              "      <td>False</td>\n",
              "      <td>False</td>\n",
              "      <td>True</td>\n",
              "      <td>False</td>\n",
              "      <td>False</td>\n",
              "      <td>False</td>\n",
              "      <td>False</td>\n",
              "      <td>False</td>\n",
              "      <td>True</td>\n",
              "      <td>False</td>\n",
              "      <td>False</td>\n",
              "      <td>False</td>\n",
              "      <td>False</td>\n",
              "      <td>False</td>\n",
              "    </tr>\n",
              "    <tr>\n",
              "      <th>91737</th>\n",
              "      <td>False</td>\n",
              "      <td>False</td>\n",
              "      <td>False</td>\n",
              "      <td>True</td>\n",
              "      <td>False</td>\n",
              "      <td>False</td>\n",
              "      <td>False</td>\n",
              "      <td>False</td>\n",
              "      <td>False</td>\n",
              "      <td>True</td>\n",
              "      <td>False</td>\n",
              "      <td>False</td>\n",
              "      <td>False</td>\n",
              "      <td>False</td>\n",
              "      <td>False</td>\n",
              "    </tr>\n",
              "    <tr>\n",
              "      <th>91738</th>\n",
              "      <td>False</td>\n",
              "      <td>False</td>\n",
              "      <td>False</td>\n",
              "      <td>True</td>\n",
              "      <td>False</td>\n",
              "      <td>False</td>\n",
              "      <td>False</td>\n",
              "      <td>False</td>\n",
              "      <td>False</td>\n",
              "      <td>True</td>\n",
              "      <td>False</td>\n",
              "      <td>False</td>\n",
              "      <td>False</td>\n",
              "      <td>False</td>\n",
              "      <td>False</td>\n",
              "    </tr>\n",
              "    <tr>\n",
              "      <th>91739</th>\n",
              "      <td>False</td>\n",
              "      <td>False</td>\n",
              "      <td>False</td>\n",
              "      <td>True</td>\n",
              "      <td>False</td>\n",
              "      <td>False</td>\n",
              "      <td>False</td>\n",
              "      <td>False</td>\n",
              "      <td>False</td>\n",
              "      <td>True</td>\n",
              "      <td>False</td>\n",
              "      <td>False</td>\n",
              "      <td>False</td>\n",
              "      <td>False</td>\n",
              "      <td>False</td>\n",
              "    </tr>\n",
              "    <tr>\n",
              "      <th>91740</th>\n",
              "      <td>False</td>\n",
              "      <td>False</td>\n",
              "      <td>False</td>\n",
              "      <td>True</td>\n",
              "      <td>False</td>\n",
              "      <td>False</td>\n",
              "      <td>False</td>\n",
              "      <td>False</td>\n",
              "      <td>False</td>\n",
              "      <td>True</td>\n",
              "      <td>False</td>\n",
              "      <td>False</td>\n",
              "      <td>False</td>\n",
              "      <td>False</td>\n",
              "      <td>False</td>\n",
              "    </tr>\n",
              "  </tbody>\n",
              "</table>\n",
              "<p>91741 rows × 15 columns</p>\n",
              "</div>"
            ],
            "text/plain": [
              "       state  stop_date  stop_time  ...  stop_duration  drugs_related_stop  district\n",
              "0      False      False      False  ...          False               False     False\n",
              "1      False      False      False  ...          False               False     False\n",
              "2      False      False      False  ...          False               False     False\n",
              "3      False      False      False  ...          False               False     False\n",
              "4      False      False      False  ...          False               False     False\n",
              "...      ...        ...        ...  ...            ...                 ...       ...\n",
              "91736  False      False      False  ...          False               False     False\n",
              "91737  False      False      False  ...          False               False     False\n",
              "91738  False      False      False  ...          False               False     False\n",
              "91739  False      False      False  ...          False               False     False\n",
              "91740  False      False      False  ...          False               False     False\n",
              "\n",
              "[91741 rows x 15 columns]"
            ]
          },
          "metadata": {
            "tags": []
          },
          "execution_count": 6
        }
      ]
    },
    {
      "cell_type": "code",
      "metadata": {
        "colab": {
          "base_uri": "https://localhost:8080/"
        },
        "id": "JtQl3Ee6ZSMX",
        "outputId": "7e7c1204-6f0a-4a2b-e808-34d4546f6f45"
      },
      "source": [
        "# Count the number of missing values in each column\r\n",
        "ri.isnull().sum()"
      ],
      "execution_count": 7,
      "outputs": [
        {
          "output_type": "execute_result",
          "data": {
            "text/plain": [
              "state                     0\n",
              "stop_date                 0\n",
              "stop_time                 0\n",
              "county_name           91741\n",
              "driver_gender          5205\n",
              "driver_race            5202\n",
              "violation_raw          5202\n",
              "violation              5202\n",
              "search_conducted          0\n",
              "search_type           88434\n",
              "stop_outcome           5202\n",
              "is_arrested            5202\n",
              "stop_duration          5202\n",
              "drugs_related_stop        0\n",
              "district                  0\n",
              "dtype: int64"
            ]
          },
          "metadata": {
            "tags": []
          },
          "execution_count": 7
        }
      ]
    },
    {
      "cell_type": "markdown",
      "metadata": {
        "id": "2XoTfVieZhOL"
      },
      "source": [
        "## __02 Dropping columns__\r\n",
        "\r\n",
        "Often, a DataFrame will contain columns that are not useful to our analysis. Such columns should be dropped from the DataFrame, to make it easier for us to focus on the remaining columns.\r\n",
        "\r\n",
        "In this exercise, we'll drop the `'county_name'` column because it only contains missing values, and we'll drop the `'state'` column because all of the traffic stops took place in one state (__Rhode Island__).\r\n",
        "\r\n",
        "Thus, these columns can be dropped because **they contain no useful information**. "
      ]
    },
    {
      "cell_type": "code",
      "metadata": {
        "colab": {
          "base_uri": "https://localhost:8080/"
        },
        "id": "jA7-jFgiZckQ",
        "outputId": "b2b473e1-08d9-4756-a806-55b4ce02509e"
      },
      "source": [
        "# Examine the shape of the DataFrame\r\n",
        "print(ri.shape)\r\n",
        "\r\n",
        "# Drop the 'county_name' and 'state' columns\r\n",
        "ri.drop(['county_name', 'state'], axis='columns', inplace=True)\r\n",
        "\r\n",
        "# Examine the shape of the DataFrame (again)\r\n",
        "print(ri.shape)"
      ],
      "execution_count": 8,
      "outputs": [
        {
          "output_type": "stream",
          "text": [
            "(91741, 15)\n",
            "(91741, 13)\n"
          ],
          "name": "stdout"
        }
      ]
    },
    {
      "cell_type": "markdown",
      "metadata": {
        "id": "_k3WNF3haW1M"
      },
      "source": [
        "## __03 Dropping rows__\r\n",
        "\r\n",
        "When we know that a **specific column** will be **critical to our analysis**, and only a small fraction of rows are missing a value in that column, *it often makes sense to remove those rows from the dataset.*\r\n",
        "\r\n",
        "the `'driver_gender'` column will be critical to many of our analyses. Because only a small fraction of rows are missing `'driver_gender'`, we'll drop those rows from the dataset."
      ]
    },
    {
      "cell_type": "code",
      "metadata": {
        "colab": {
          "base_uri": "https://localhost:8080/"
        },
        "id": "c8lpkkpHaWXZ",
        "outputId": "4497e20f-884d-4011-964f-864a67c7d340"
      },
      "source": [
        "# Count the number of missing values in each column\r\n",
        "print(ri.isnull().sum())"
      ],
      "execution_count": 9,
      "outputs": [
        {
          "output_type": "stream",
          "text": [
            "stop_date                 0\n",
            "stop_time                 0\n",
            "driver_gender          5205\n",
            "driver_race            5202\n",
            "violation_raw          5202\n",
            "violation              5202\n",
            "search_conducted          0\n",
            "search_type           88434\n",
            "stop_outcome           5202\n",
            "is_arrested            5202\n",
            "stop_duration          5202\n",
            "drugs_related_stop        0\n",
            "district                  0\n",
            "dtype: int64\n"
          ],
          "name": "stdout"
        }
      ]
    },
    {
      "cell_type": "code",
      "metadata": {
        "colab": {
          "base_uri": "https://localhost:8080/"
        },
        "id": "Ts26cdsBbQM0",
        "outputId": "ce41eb1c-4a78-4e71-aa0e-1ac2e4297f79"
      },
      "source": [
        "# Drop all rows that are missing 'driver_gender'\r\n",
        "ri.dropna(subset=['driver_gender'], inplace=True)\r\n",
        "\r\n",
        "# Count the number of missing values in each column (again)\r\n",
        "print(ri.isnull().sum())"
      ],
      "execution_count": 10,
      "outputs": [
        {
          "output_type": "stream",
          "text": [
            "stop_date                 0\n",
            "stop_time                 0\n",
            "driver_gender             0\n",
            "driver_race               0\n",
            "violation_raw             0\n",
            "violation                 0\n",
            "search_conducted          0\n",
            "search_type           83229\n",
            "stop_outcome              0\n",
            "is_arrested               0\n",
            "stop_duration             0\n",
            "drugs_related_stop        0\n",
            "district                  0\n",
            "dtype: int64\n"
          ],
          "name": "stdout"
        }
      ]
    },
    {
      "cell_type": "code",
      "metadata": {
        "colab": {
          "base_uri": "https://localhost:8080/"
        },
        "id": "jmWbEcFvbS4B",
        "outputId": "e350138d-d7ac-4183-efe9-b3a9bad95cfb"
      },
      "source": [
        "# Examine the shape of the DataFrame\r\n",
        "print(ri.shape)"
      ],
      "execution_count": 11,
      "outputs": [
        {
          "output_type": "stream",
          "text": [
            "(86536, 13)\n"
          ],
          "name": "stdout"
        }
      ]
    },
    {
      "cell_type": "markdown",
      "metadata": {
        "id": "HaxF_bM-zQcB"
      },
      "source": [
        "## __04 Finding an incorrect data type__"
      ]
    },
    {
      "cell_type": "code",
      "metadata": {
        "colab": {
          "base_uri": "https://localhost:8080/"
        },
        "id": "iBmtmJW3zUCS",
        "outputId": "37da153a-10b8-489e-d6dd-e10e6635e7bf"
      },
      "source": [
        "ri.dtypes"
      ],
      "execution_count": 12,
      "outputs": [
        {
          "output_type": "execute_result",
          "data": {
            "text/plain": [
              "stop_date             object\n",
              "stop_time             object\n",
              "driver_gender         object\n",
              "driver_race           object\n",
              "violation_raw         object\n",
              "violation             object\n",
              "search_conducted        bool\n",
              "search_type           object\n",
              "stop_outcome          object\n",
              "is_arrested           object\n",
              "stop_duration         object\n",
              "drugs_related_stop      bool\n",
              "district              object\n",
              "dtype: object"
            ]
          },
          "metadata": {
            "tags": []
          },
          "execution_count": 12
        }
      ]
    },
    {
      "cell_type": "markdown",
      "metadata": {
        "id": "GpJuS8Ziz1B2"
      },
      "source": [
        "$\\color{green}{\\textbf{Note:}} $ $\\Rightarrow$ `is_arrested` should have a data type of __bool__"
      ]
    },
    {
      "cell_type": "markdown",
      "metadata": {
        "id": "vdI80EyD0bkq"
      },
      "source": [
        "## __05 Fixing a data type__\r\n",
        "\r\n",
        "- `is_arrested column` currently has the __object__ data type. \r\n",
        "\r\n",
        "- we have to change the data type to __bool__, which is the most suitable type for a column containing **True** and **False** values.\r\n",
        "\r\n",
        ">Fixing the data type will enable us to use __mathematical operations__ on the `is_arrested` column that would not be possible otherwise."
      ]
    },
    {
      "cell_type": "code",
      "metadata": {
        "colab": {
          "base_uri": "https://localhost:8080/"
        },
        "id": "91v0rKIu4lbI",
        "outputId": "8abf70c6-d356-4cf7-991b-6e73ea2e3d2a"
      },
      "source": [
        "# Examine the head of the 'is_arrested' column\r\n",
        "print(ri.is_arrested.head())"
      ],
      "execution_count": 13,
      "outputs": [
        {
          "output_type": "stream",
          "text": [
            "0    False\n",
            "1    False\n",
            "2    False\n",
            "3     True\n",
            "4    False\n",
            "Name: is_arrested, dtype: object\n"
          ],
          "name": "stdout"
        }
      ]
    },
    {
      "cell_type": "code",
      "metadata": {
        "colab": {
          "base_uri": "https://localhost:8080/"
        },
        "id": "PrfjvR2y0SO5",
        "outputId": "a94ebd28-8fd2-490f-9e9a-8c663a98961e"
      },
      "source": [
        "# Change the data type of 'is_arrested' to 'bool'\r\n",
        "ri['is_arrested'] = ri.is_arrested.astype('bool')\r\n",
        "\r\n",
        "# Check the data type of 'is_arrested' \r\n",
        "print(ri.is_arrested.dtype)"
      ],
      "execution_count": 14,
      "outputs": [
        {
          "output_type": "stream",
          "text": [
            "bool\n"
          ],
          "name": "stdout"
        }
      ]
    },
    {
      "cell_type": "markdown",
      "metadata": {
        "id": "t0m0SVFj5Xrg"
      },
      "source": [
        "## __06 Combining object columns (datetime format)__"
      ]
    },
    {
      "cell_type": "markdown",
      "metadata": {
        "id": "ZYdfRO975b4c"
      },
      "source": [
        "- Currently, the date and time of each traffic stop are stored in separate object columns: **stop_date** and **stop_time**.\r\n",
        "\r\n",
        "- we have to **combine** these two columns into a **single column**, and then convert it to **datetime format**. \r\n",
        "\r\n",
        "- This will be beneficial because unlike object columns, datetime columns provide date-based attributes that will make our analysis easier."
      ]
    },
    {
      "cell_type": "code",
      "metadata": {
        "colab": {
          "base_uri": "https://localhost:8080/"
        },
        "id": "r_dILTkI5-tu",
        "outputId": "02178a89-2447-4743-a01e-4bf8f6258e05"
      },
      "source": [
        "# Concatenate 'stop_date' and 'stop_time' (separated by a space)\r\n",
        "combined = ri.stop_date.str.cat(ri.stop_time, sep=' ')\r\n",
        "\r\n",
        "# Convert 'combined' to datetime format\r\n",
        "ri['stop_datetime'] = pd.to_datetime(combined)\r\n",
        "\r\n",
        "# Examine the data types of the DataFrame\r\n",
        "print(ri.dtypes)"
      ],
      "execution_count": 15,
      "outputs": [
        {
          "output_type": "stream",
          "text": [
            "stop_date                     object\n",
            "stop_time                     object\n",
            "driver_gender                 object\n",
            "driver_race                   object\n",
            "violation_raw                 object\n",
            "violation                     object\n",
            "search_conducted                bool\n",
            "search_type                   object\n",
            "stop_outcome                  object\n",
            "is_arrested                     bool\n",
            "stop_duration                 object\n",
            "drugs_related_stop              bool\n",
            "district                      object\n",
            "stop_datetime         datetime64[ns]\n",
            "dtype: object\n"
          ],
          "name": "stdout"
        }
      ]
    },
    {
      "cell_type": "markdown",
      "metadata": {
        "id": "FT7mk4U9BFLl"
      },
      "source": [
        "## __07 Setting the index__\r\n",
        "\r\n",
        "The last step is to set the `stop_datetime` column as the DataFrame's **index**. By **replacing** the **default index** with a **DatetimeIndex**, this will make it easier to analyze the dataset by date and time, which will come in handy later.\r\n",
        "\r\n",
        "\r\n"
      ]
    },
    {
      "cell_type": "code",
      "metadata": {
        "colab": {
          "base_uri": "https://localhost:8080/"
        },
        "id": "VMb3x3I-BfR1",
        "outputId": "f1f9e697-739b-4a39-9892-44c07ed8f6b2"
      },
      "source": [
        "# Set 'stop_datetime' as the index\r\n",
        "ri.set_index('stop_datetime', inplace=True)\r\n",
        "\r\n",
        "# Examine the index\r\n",
        "ri.index"
      ],
      "execution_count": 16,
      "outputs": [
        {
          "output_type": "execute_result",
          "data": {
            "text/plain": [
              "DatetimeIndex(['2005-01-04 12:55:00', '2005-01-23 23:15:00',\n",
              "               '2005-02-17 04:15:00', '2005-02-20 17:15:00',\n",
              "               '2005-02-24 01:20:00', '2005-03-14 10:00:00',\n",
              "               '2005-03-29 21:55:00', '2005-04-04 21:25:00',\n",
              "               '2005-07-14 11:20:00', '2005-07-14 19:55:00',\n",
              "               ...\n",
              "               '2015-12-31 13:23:00', '2015-12-31 18:59:00',\n",
              "               '2015-12-31 19:13:00', '2015-12-31 20:20:00',\n",
              "               '2015-12-31 20:50:00', '2015-12-31 21:21:00',\n",
              "               '2015-12-31 21:59:00', '2015-12-31 22:04:00',\n",
              "               '2015-12-31 22:09:00', '2015-12-31 22:47:00'],\n",
              "              dtype='datetime64[ns]', name='stop_datetime', length=86536, freq=None)"
            ]
          },
          "metadata": {
            "tags": []
          },
          "execution_count": 16
        }
      ]
    },
    {
      "cell_type": "code",
      "metadata": {
        "colab": {
          "base_uri": "https://localhost:8080/"
        },
        "id": "pnTBOgPsBxMf",
        "outputId": "4e400ac4-0b22-4f94-86c6-f279c5e05a84"
      },
      "source": [
        "# Examine the columns\r\n",
        "ri.columns"
      ],
      "execution_count": 17,
      "outputs": [
        {
          "output_type": "execute_result",
          "data": {
            "text/plain": [
              "Index(['stop_date', 'stop_time', 'driver_gender', 'driver_race',\n",
              "       'violation_raw', 'violation', 'search_conducted', 'search_type',\n",
              "       'stop_outcome', 'is_arrested', 'stop_duration', 'drugs_related_stop',\n",
              "       'district'],\n",
              "      dtype='object')"
            ]
          },
          "metadata": {
            "tags": []
          },
          "execution_count": 17
        }
      ]
    },
    {
      "cell_type": "code",
      "metadata": {
        "colab": {
          "base_uri": "https://localhost:8080/",
          "height": 331
        },
        "id": "qq-Rv9teCYZR",
        "outputId": "77226def-ad6d-42c4-9248-db9957a76987"
      },
      "source": [
        "ri.head()"
      ],
      "execution_count": 18,
      "outputs": [
        {
          "output_type": "execute_result",
          "data": {
            "text/html": [
              "<div>\n",
              "<style scoped>\n",
              "    .dataframe tbody tr th:only-of-type {\n",
              "        vertical-align: middle;\n",
              "    }\n",
              "\n",
              "    .dataframe tbody tr th {\n",
              "        vertical-align: top;\n",
              "    }\n",
              "\n",
              "    .dataframe thead th {\n",
              "        text-align: right;\n",
              "    }\n",
              "</style>\n",
              "<table border=\"1\" class=\"dataframe\">\n",
              "  <thead>\n",
              "    <tr style=\"text-align: right;\">\n",
              "      <th></th>\n",
              "      <th>stop_date</th>\n",
              "      <th>stop_time</th>\n",
              "      <th>driver_gender</th>\n",
              "      <th>driver_race</th>\n",
              "      <th>violation_raw</th>\n",
              "      <th>violation</th>\n",
              "      <th>search_conducted</th>\n",
              "      <th>search_type</th>\n",
              "      <th>stop_outcome</th>\n",
              "      <th>is_arrested</th>\n",
              "      <th>stop_duration</th>\n",
              "      <th>drugs_related_stop</th>\n",
              "      <th>district</th>\n",
              "    </tr>\n",
              "    <tr>\n",
              "      <th>stop_datetime</th>\n",
              "      <th></th>\n",
              "      <th></th>\n",
              "      <th></th>\n",
              "      <th></th>\n",
              "      <th></th>\n",
              "      <th></th>\n",
              "      <th></th>\n",
              "      <th></th>\n",
              "      <th></th>\n",
              "      <th></th>\n",
              "      <th></th>\n",
              "      <th></th>\n",
              "      <th></th>\n",
              "    </tr>\n",
              "  </thead>\n",
              "  <tbody>\n",
              "    <tr>\n",
              "      <th>2005-01-04 12:55:00</th>\n",
              "      <td>2005-01-04</td>\n",
              "      <td>12:55</td>\n",
              "      <td>M</td>\n",
              "      <td>White</td>\n",
              "      <td>Equipment/Inspection Violation</td>\n",
              "      <td>Equipment</td>\n",
              "      <td>False</td>\n",
              "      <td>NaN</td>\n",
              "      <td>Citation</td>\n",
              "      <td>False</td>\n",
              "      <td>0-15 Min</td>\n",
              "      <td>False</td>\n",
              "      <td>Zone X4</td>\n",
              "    </tr>\n",
              "    <tr>\n",
              "      <th>2005-01-23 23:15:00</th>\n",
              "      <td>2005-01-23</td>\n",
              "      <td>23:15</td>\n",
              "      <td>M</td>\n",
              "      <td>White</td>\n",
              "      <td>Speeding</td>\n",
              "      <td>Speeding</td>\n",
              "      <td>False</td>\n",
              "      <td>NaN</td>\n",
              "      <td>Citation</td>\n",
              "      <td>False</td>\n",
              "      <td>0-15 Min</td>\n",
              "      <td>False</td>\n",
              "      <td>Zone K3</td>\n",
              "    </tr>\n",
              "    <tr>\n",
              "      <th>2005-02-17 04:15:00</th>\n",
              "      <td>2005-02-17</td>\n",
              "      <td>04:15</td>\n",
              "      <td>M</td>\n",
              "      <td>White</td>\n",
              "      <td>Speeding</td>\n",
              "      <td>Speeding</td>\n",
              "      <td>False</td>\n",
              "      <td>NaN</td>\n",
              "      <td>Citation</td>\n",
              "      <td>False</td>\n",
              "      <td>0-15 Min</td>\n",
              "      <td>False</td>\n",
              "      <td>Zone X4</td>\n",
              "    </tr>\n",
              "    <tr>\n",
              "      <th>2005-02-20 17:15:00</th>\n",
              "      <td>2005-02-20</td>\n",
              "      <td>17:15</td>\n",
              "      <td>M</td>\n",
              "      <td>White</td>\n",
              "      <td>Call for Service</td>\n",
              "      <td>Other</td>\n",
              "      <td>False</td>\n",
              "      <td>NaN</td>\n",
              "      <td>Arrest Driver</td>\n",
              "      <td>True</td>\n",
              "      <td>16-30 Min</td>\n",
              "      <td>False</td>\n",
              "      <td>Zone X1</td>\n",
              "    </tr>\n",
              "    <tr>\n",
              "      <th>2005-02-24 01:20:00</th>\n",
              "      <td>2005-02-24</td>\n",
              "      <td>01:20</td>\n",
              "      <td>F</td>\n",
              "      <td>White</td>\n",
              "      <td>Speeding</td>\n",
              "      <td>Speeding</td>\n",
              "      <td>False</td>\n",
              "      <td>NaN</td>\n",
              "      <td>Citation</td>\n",
              "      <td>False</td>\n",
              "      <td>0-15 Min</td>\n",
              "      <td>False</td>\n",
              "      <td>Zone X3</td>\n",
              "    </tr>\n",
              "  </tbody>\n",
              "</table>\n",
              "</div>"
            ],
            "text/plain": [
              "                      stop_date stop_time  ... drugs_related_stop district\n",
              "stop_datetime                              ...                            \n",
              "2005-01-04 12:55:00  2005-01-04     12:55  ...              False  Zone X4\n",
              "2005-01-23 23:15:00  2005-01-23     23:15  ...              False  Zone K3\n",
              "2005-02-17 04:15:00  2005-02-17     04:15  ...              False  Zone X4\n",
              "2005-02-20 17:15:00  2005-02-20     17:15  ...              False  Zone X1\n",
              "2005-02-24 01:20:00  2005-02-24     01:20  ...              False  Zone X3\n",
              "\n",
              "[5 rows x 13 columns]"
            ]
          },
          "metadata": {
            "tags": []
          },
          "execution_count": 18
        }
      ]
    },
    {
      "cell_type": "markdown",
      "metadata": {
        "id": "CkO9ixGjFWwO"
      },
      "source": [
        "--- \r\n",
        "<strong> \r\n",
        "    <h1 align='center'>Exploring the relationship between gender and policing (Part - 2)\r\n",
        "    </h1> \r\n",
        "</strong>\r\n",
        "\r\n",
        "---"
      ]
    },
    {
      "cell_type": "markdown",
      "metadata": {
        "id": "iWhdECJ5F3l6"
      },
      "source": [
        "## __08 Examining traffic violations__ \r\n",
        "\r\n",
        "Before comparing the violations being committed by each gender, we should examine the **violations** committed by all drivers to get a baseline understanding of the data.\r\n",
        "\r\n",
        "In this exercise, we'll count the **unique values** in the `violation` column, and then separately express those counts as **proportions**."
      ]
    },
    {
      "cell_type": "code",
      "metadata": {
        "colab": {
          "base_uri": "https://localhost:8080/"
        },
        "id": "U4PgpiGDJoya",
        "outputId": "e9643f45-17a9-4c5c-ab70-dabee4cb9368"
      },
      "source": [
        "ri['violation'].value_counts()"
      ],
      "execution_count": 19,
      "outputs": [
        {
          "output_type": "execute_result",
          "data": {
            "text/plain": [
              "Speeding               48423\n",
              "Moving violation       16224\n",
              "Equipment              10921\n",
              "Other                   4409\n",
              "Registration/plates     3703\n",
              "Seat belt               2856\n",
              "Name: violation, dtype: int64"
            ]
          },
          "metadata": {
            "tags": []
          },
          "execution_count": 19
        }
      ]
    },
    {
      "cell_type": "code",
      "metadata": {
        "colab": {
          "base_uri": "https://localhost:8080/"
        },
        "id": "q2VtLrEsFWJn",
        "outputId": "4e8ab54c-10c9-4fbe-8888-b2f6d8559d9d"
      },
      "source": [
        "# dot method\r\n",
        "# Count the unique values in 'violation'\r\n",
        "ri.violation.value_counts()"
      ],
      "execution_count": 20,
      "outputs": [
        {
          "output_type": "execute_result",
          "data": {
            "text/plain": [
              "Speeding               48423\n",
              "Moving violation       16224\n",
              "Equipment              10921\n",
              "Other                   4409\n",
              "Registration/plates     3703\n",
              "Seat belt               2856\n",
              "Name: violation, dtype: int64"
            ]
          },
          "metadata": {
            "tags": []
          },
          "execution_count": 20
        }
      ]
    },
    {
      "cell_type": "code",
      "metadata": {
        "colab": {
          "base_uri": "https://localhost:8080/"
        },
        "id": "IpTWjoIkKdrr",
        "outputId": "42248419-7ef1-40d6-f148-3559dce7fce6"
      },
      "source": [
        "# Counting unique values (2)\r\n",
        "print(ri.violation.value_counts().sum()) \r\n",
        "print(ri.shape)"
      ],
      "execution_count": 21,
      "outputs": [
        {
          "output_type": "stream",
          "text": [
            "86536\n",
            "(86536, 13)\n"
          ],
          "name": "stdout"
        }
      ]
    },
    {
      "cell_type": "code",
      "metadata": {
        "colab": {
          "base_uri": "https://localhost:8080/"
        },
        "id": "jIrmfwAvK_hA",
        "outputId": "666eb09a-2f92-42d2-e422-cc53bccf5484"
      },
      "source": [
        "48423/86536 # Speeding `55.95%`"
      ],
      "execution_count": 22,
      "outputs": [
        {
          "output_type": "execute_result",
          "data": {
            "text/plain": [
              "0.5595705833410373"
            ]
          },
          "metadata": {
            "tags": []
          },
          "execution_count": 22
        }
      ]
    },
    {
      "cell_type": "code",
      "metadata": {
        "colab": {
          "base_uri": "https://localhost:8080/"
        },
        "id": "nesGSmMiGf6N",
        "outputId": "4a191110-5aa1-45ff-fd01-53f0529c0f35"
      },
      "source": [
        "# Express the counts as proportions\r\n",
        "ri.violation.value_counts(normalize=True)"
      ],
      "execution_count": 23,
      "outputs": [
        {
          "output_type": "execute_result",
          "data": {
            "text/plain": [
              "Speeding               0.559571\n",
              "Moving violation       0.187483\n",
              "Equipment              0.126202\n",
              "Other                  0.050950\n",
              "Registration/plates    0.042791\n",
              "Seat belt              0.033004\n",
              "Name: violation, dtype: float64"
            ]
          },
          "metadata": {
            "tags": []
          },
          "execution_count": 23
        }
      ]
    },
    {
      "cell_type": "markdown",
      "metadata": {
        "id": "cAk97dPvLvkS"
      },
      "source": [
        "More than half of all violations are for **speeding**, followed by other moving violations and equipment violations."
      ]
    },
    {
      "cell_type": "markdown",
      "metadata": {
        "id": "Aa8rNf2eL212"
      },
      "source": [
        "## __09 Comparing violations by gender__"
      ]
    },
    {
      "cell_type": "markdown",
      "metadata": {
        "id": "jHQr_c1fR-mX"
      },
      "source": [
        "The question we're trying to answer is whether male and female drivers tend to commit different types of traffic violations.\r\n",
        "\r\n",
        "In this exercise, we'll first create a DataFrame for each gender, and then analyze the violations in each DataFrame separately."
      ]
    },
    {
      "cell_type": "code",
      "metadata": {
        "id": "2crHLgtgLX_l"
      },
      "source": [
        "# Create a DataFrame of male drivers\r\n",
        "male = ri[ri.driver_gender == 'M']\r\n",
        "\r\n",
        "# Create a DataFrame of female drivers\r\n",
        "female = ri[ri.driver_gender == 'F']"
      ],
      "execution_count": 24,
      "outputs": []
    },
    {
      "cell_type": "code",
      "metadata": {
        "colab": {
          "base_uri": "https://localhost:8080/"
        },
        "id": "qK8WyyjfToNB",
        "outputId": "9b95a52f-58bd-4a43-b102-c6f62cd63839"
      },
      "source": [
        "\r\n",
        "# Compute the violations by male drivers (as proportions)\r\n",
        "print(male.violation.value_counts(normalize=True))"
      ],
      "execution_count": 25,
      "outputs": [
        {
          "output_type": "stream",
          "text": [
            "Speeding               0.522243\n",
            "Moving violation       0.206144\n",
            "Equipment              0.134158\n",
            "Other                  0.058985\n",
            "Registration/plates    0.042175\n",
            "Seat belt              0.036296\n",
            "Name: violation, dtype: float64\n"
          ],
          "name": "stdout"
        }
      ]
    },
    {
      "cell_type": "code",
      "metadata": {
        "colab": {
          "base_uri": "https://localhost:8080/"
        },
        "id": "i0LLqz2NTlyD",
        "outputId": "91b29dc3-ce28-4829-c589-7a988e16b7da"
      },
      "source": [
        "# Compute the violations by female drivers (as proportions)\r\n",
        "print(female.violation.value_counts(normalize=True))"
      ],
      "execution_count": 26,
      "outputs": [
        {
          "output_type": "stream",
          "text": [
            "Speeding               0.658114\n",
            "Moving violation       0.138218\n",
            "Equipment              0.105199\n",
            "Registration/plates    0.044418\n",
            "Other                  0.029738\n",
            "Seat belt              0.024312\n",
            "Name: violation, dtype: float64\n"
          ],
          "name": "stdout"
        }
      ]
    },
    {
      "cell_type": "markdown",
      "metadata": {
        "id": "hiNmuk66UWE9"
      },
      "source": [
        "## __10 Filtering by multiple conditions__"
      ]
    },
    {
      "cell_type": "markdown",
      "metadata": {
        "id": "FxiNpIdJUbNw"
      },
      "source": [
        "Which one of these commands would filter the `ri` DataFrame to only include female drivers **who were stopped for a speeding violation**?"
      ]
    },
    {
      "cell_type": "code",
      "metadata": {
        "colab": {
          "base_uri": "https://localhost:8080/",
          "height": 623
        },
        "id": "p31LJkssUZzj",
        "outputId": "d1e55838-e537-4d73-bc35-b9baf2dbfc9e"
      },
      "source": [
        "female_and_speeding = ri[(ri.driver_gender == 'F') & (ri.violation == 'Speeding')]\r\n",
        "female_and_speeding"
      ],
      "execution_count": 27,
      "outputs": [
        {
          "output_type": "execute_result",
          "data": {
            "text/html": [
              "<div>\n",
              "<style scoped>\n",
              "    .dataframe tbody tr th:only-of-type {\n",
              "        vertical-align: middle;\n",
              "    }\n",
              "\n",
              "    .dataframe tbody tr th {\n",
              "        vertical-align: top;\n",
              "    }\n",
              "\n",
              "    .dataframe thead th {\n",
              "        text-align: right;\n",
              "    }\n",
              "</style>\n",
              "<table border=\"1\" class=\"dataframe\">\n",
              "  <thead>\n",
              "    <tr style=\"text-align: right;\">\n",
              "      <th></th>\n",
              "      <th>stop_date</th>\n",
              "      <th>stop_time</th>\n",
              "      <th>driver_gender</th>\n",
              "      <th>driver_race</th>\n",
              "      <th>violation_raw</th>\n",
              "      <th>violation</th>\n",
              "      <th>search_conducted</th>\n",
              "      <th>search_type</th>\n",
              "      <th>stop_outcome</th>\n",
              "      <th>is_arrested</th>\n",
              "      <th>stop_duration</th>\n",
              "      <th>drugs_related_stop</th>\n",
              "      <th>district</th>\n",
              "    </tr>\n",
              "    <tr>\n",
              "      <th>stop_datetime</th>\n",
              "      <th></th>\n",
              "      <th></th>\n",
              "      <th></th>\n",
              "      <th></th>\n",
              "      <th></th>\n",
              "      <th></th>\n",
              "      <th></th>\n",
              "      <th></th>\n",
              "      <th></th>\n",
              "      <th></th>\n",
              "      <th></th>\n",
              "      <th></th>\n",
              "      <th></th>\n",
              "    </tr>\n",
              "  </thead>\n",
              "  <tbody>\n",
              "    <tr>\n",
              "      <th>2005-02-24 01:20:00</th>\n",
              "      <td>2005-02-24</td>\n",
              "      <td>01:20</td>\n",
              "      <td>F</td>\n",
              "      <td>White</td>\n",
              "      <td>Speeding</td>\n",
              "      <td>Speeding</td>\n",
              "      <td>False</td>\n",
              "      <td>NaN</td>\n",
              "      <td>Citation</td>\n",
              "      <td>False</td>\n",
              "      <td>0-15 Min</td>\n",
              "      <td>False</td>\n",
              "      <td>Zone X3</td>\n",
              "    </tr>\n",
              "    <tr>\n",
              "      <th>2005-03-14 10:00:00</th>\n",
              "      <td>2005-03-14</td>\n",
              "      <td>10:00</td>\n",
              "      <td>F</td>\n",
              "      <td>White</td>\n",
              "      <td>Speeding</td>\n",
              "      <td>Speeding</td>\n",
              "      <td>False</td>\n",
              "      <td>NaN</td>\n",
              "      <td>Citation</td>\n",
              "      <td>False</td>\n",
              "      <td>0-15 Min</td>\n",
              "      <td>False</td>\n",
              "      <td>Zone K3</td>\n",
              "    </tr>\n",
              "    <tr>\n",
              "      <th>2005-07-14 11:20:00</th>\n",
              "      <td>2005-07-14</td>\n",
              "      <td>11:20</td>\n",
              "      <td>F</td>\n",
              "      <td>White</td>\n",
              "      <td>Speeding</td>\n",
              "      <td>Speeding</td>\n",
              "      <td>False</td>\n",
              "      <td>NaN</td>\n",
              "      <td>Citation</td>\n",
              "      <td>False</td>\n",
              "      <td>0-15 Min</td>\n",
              "      <td>False</td>\n",
              "      <td>Zone X4</td>\n",
              "    </tr>\n",
              "    <tr>\n",
              "      <th>2005-07-18 19:30:00</th>\n",
              "      <td>2005-07-18</td>\n",
              "      <td>19:30</td>\n",
              "      <td>F</td>\n",
              "      <td>White</td>\n",
              "      <td>Speeding</td>\n",
              "      <td>Speeding</td>\n",
              "      <td>False</td>\n",
              "      <td>NaN</td>\n",
              "      <td>Citation</td>\n",
              "      <td>False</td>\n",
              "      <td>0-15 Min</td>\n",
              "      <td>False</td>\n",
              "      <td>Zone K3</td>\n",
              "    </tr>\n",
              "    <tr>\n",
              "      <th>2005-07-24 20:10:00</th>\n",
              "      <td>2005-07-24</td>\n",
              "      <td>20:10</td>\n",
              "      <td>F</td>\n",
              "      <td>White</td>\n",
              "      <td>Speeding</td>\n",
              "      <td>Speeding</td>\n",
              "      <td>False</td>\n",
              "      <td>NaN</td>\n",
              "      <td>Citation</td>\n",
              "      <td>False</td>\n",
              "      <td>0-15 Min</td>\n",
              "      <td>False</td>\n",
              "      <td>Zone K3</td>\n",
              "    </tr>\n",
              "    <tr>\n",
              "      <th>...</th>\n",
              "      <td>...</td>\n",
              "      <td>...</td>\n",
              "      <td>...</td>\n",
              "      <td>...</td>\n",
              "      <td>...</td>\n",
              "      <td>...</td>\n",
              "      <td>...</td>\n",
              "      <td>...</td>\n",
              "      <td>...</td>\n",
              "      <td>...</td>\n",
              "      <td>...</td>\n",
              "      <td>...</td>\n",
              "      <td>...</td>\n",
              "    </tr>\n",
              "    <tr>\n",
              "      <th>2015-12-30 14:09:00</th>\n",
              "      <td>2015-12-30</td>\n",
              "      <td>14:09</td>\n",
              "      <td>F</td>\n",
              "      <td>White</td>\n",
              "      <td>Speeding</td>\n",
              "      <td>Speeding</td>\n",
              "      <td>False</td>\n",
              "      <td>NaN</td>\n",
              "      <td>Warning</td>\n",
              "      <td>False</td>\n",
              "      <td>0-15 Min</td>\n",
              "      <td>False</td>\n",
              "      <td>Zone X4</td>\n",
              "    </tr>\n",
              "    <tr>\n",
              "      <th>2015-12-30 19:21:00</th>\n",
              "      <td>2015-12-30</td>\n",
              "      <td>19:21</td>\n",
              "      <td>F</td>\n",
              "      <td>White</td>\n",
              "      <td>Speeding</td>\n",
              "      <td>Speeding</td>\n",
              "      <td>False</td>\n",
              "      <td>NaN</td>\n",
              "      <td>Warning</td>\n",
              "      <td>False</td>\n",
              "      <td>0-15 Min</td>\n",
              "      <td>False</td>\n",
              "      <td>Zone X1</td>\n",
              "    </tr>\n",
              "    <tr>\n",
              "      <th>2015-12-30 23:26:00</th>\n",
              "      <td>2015-12-30</td>\n",
              "      <td>23:26</td>\n",
              "      <td>F</td>\n",
              "      <td>Hispanic</td>\n",
              "      <td>Speeding</td>\n",
              "      <td>Speeding</td>\n",
              "      <td>False</td>\n",
              "      <td>NaN</td>\n",
              "      <td>Citation</td>\n",
              "      <td>False</td>\n",
              "      <td>0-15 Min</td>\n",
              "      <td>False</td>\n",
              "      <td>Zone X4</td>\n",
              "    </tr>\n",
              "    <tr>\n",
              "      <th>2015-12-31 07:31:00</th>\n",
              "      <td>2015-12-31</td>\n",
              "      <td>07:31</td>\n",
              "      <td>F</td>\n",
              "      <td>White</td>\n",
              "      <td>Speeding</td>\n",
              "      <td>Speeding</td>\n",
              "      <td>False</td>\n",
              "      <td>NaN</td>\n",
              "      <td>Citation</td>\n",
              "      <td>False</td>\n",
              "      <td>0-15 Min</td>\n",
              "      <td>False</td>\n",
              "      <td>Zone X1</td>\n",
              "    </tr>\n",
              "    <tr>\n",
              "      <th>2015-12-31 21:59:00</th>\n",
              "      <td>2015-12-31</td>\n",
              "      <td>21:59</td>\n",
              "      <td>F</td>\n",
              "      <td>White</td>\n",
              "      <td>Speeding</td>\n",
              "      <td>Speeding</td>\n",
              "      <td>False</td>\n",
              "      <td>NaN</td>\n",
              "      <td>Citation</td>\n",
              "      <td>False</td>\n",
              "      <td>0-15 Min</td>\n",
              "      <td>False</td>\n",
              "      <td>Zone K3</td>\n",
              "    </tr>\n",
              "  </tbody>\n",
              "</table>\n",
              "<p>15646 rows × 13 columns</p>\n",
              "</div>"
            ],
            "text/plain": [
              "                      stop_date stop_time  ... drugs_related_stop district\n",
              "stop_datetime                              ...                            \n",
              "2005-02-24 01:20:00  2005-02-24     01:20  ...              False  Zone X3\n",
              "2005-03-14 10:00:00  2005-03-14     10:00  ...              False  Zone K3\n",
              "2005-07-14 11:20:00  2005-07-14     11:20  ...              False  Zone X4\n",
              "2005-07-18 19:30:00  2005-07-18     19:30  ...              False  Zone K3\n",
              "2005-07-24 20:10:00  2005-07-24     20:10  ...              False  Zone K3\n",
              "...                         ...       ...  ...                ...      ...\n",
              "2015-12-30 14:09:00  2015-12-30     14:09  ...              False  Zone X4\n",
              "2015-12-30 19:21:00  2015-12-30     19:21  ...              False  Zone X1\n",
              "2015-12-30 23:26:00  2015-12-30     23:26  ...              False  Zone X4\n",
              "2015-12-31 07:31:00  2015-12-31     07:31  ...              False  Zone X1\n",
              "2015-12-31 21:59:00  2015-12-31     21:59  ...              False  Zone K3\n",
              "\n",
              "[15646 rows x 13 columns]"
            ]
          },
          "metadata": {
            "tags": []
          },
          "execution_count": 27
        }
      ]
    },
    {
      "cell_type": "markdown",
      "metadata": {
        "id": "yUjGQRwUVY3C"
      },
      "source": [
        "## __11 Comparing speeding outcomes by gender__"
      ]
    },
    {
      "cell_type": "markdown",
      "metadata": {
        "id": "gmDSZ1JnVelz"
      },
      "source": [
        "When a driver is pulled over for `speeding`, **many people believe that gender has an impact on whether the driver will receive a ticket or a warning**. Can you find evidence of this in the dataset?\r\n",
        "\r\n",
        "First, you'll create two DataFrames of drivers who were stopped for speeding: one containing females and the other containing males.\r\n",
        "\r\n",
        "Then, for each gender, you'll use the `stop_outcome` column to calculate what percentage of stops resulted in a \"Citation\" (meaning a ticket) versus a \"Warning\"."
      ]
    },
    {
      "cell_type": "code",
      "metadata": {
        "colab": {
          "base_uri": "https://localhost:8080/"
        },
        "id": "5z2l77ySVWUz",
        "outputId": "222b1504-00b5-477c-c0ef-1d498f7e9317"
      },
      "source": [
        "# Create a DataFrame of female drivers stopped for speeding\r\n",
        "female_and_speeding = ri[(ri.driver_gender == 'F') & (ri.violation == 'Speeding')]\r\n",
        "\r\n",
        "# Compute the stop outcomes for female drivers (as proportions)\r\n",
        "print(female_and_speeding.stop_outcome.value_counts(normalize=True))"
      ],
      "execution_count": 28,
      "outputs": [
        {
          "output_type": "stream",
          "text": [
            "Citation            0.952192\n",
            "Warning             0.040074\n",
            "Arrest Driver       0.005752\n",
            "N/D                 0.000959\n",
            "Arrest Passenger    0.000639\n",
            "No Action           0.000383\n",
            "Name: stop_outcome, dtype: float64\n"
          ],
          "name": "stdout"
        }
      ]
    },
    {
      "cell_type": "code",
      "metadata": {
        "colab": {
          "base_uri": "https://localhost:8080/"
        },
        "id": "NkHQvIjzYHc3",
        "outputId": "bbd6863d-bcf6-42d5-ad07-34cae7d764f6"
      },
      "source": [
        "# Create a DataFrame of male drivers stopped for speeding\r\n",
        "male_and_speeding = ri[(ri.driver_gender == 'M') & (ri.violation == 'Speeding')]\r\n",
        "\r\n",
        "# Compute the stop outcomes for male drivers (as proportions)\r\n",
        "print(male_and_speeding.stop_outcome.value_counts(normalize=True))"
      ],
      "execution_count": 29,
      "outputs": [
        {
          "output_type": "stream",
          "text": [
            "Citation            0.944595\n",
            "Warning             0.036184\n",
            "Arrest Driver       0.015895\n",
            "Arrest Passenger    0.001281\n",
            "No Action           0.001068\n",
            "N/D                 0.000976\n",
            "Name: stop_outcome, dtype: float64\n"
          ],
          "name": "stdout"
        }
      ]
    },
    {
      "cell_type": "markdown",
      "metadata": {
        "id": "uSiB9_tjYTlT"
      },
      "source": [
        "$\\color{red}{\\textbf{Interpretation:}}$\r\n",
        "\r\n",
        ">The numbers are similar for **males** and **females**: about **95%** of stops for speeding result in a ticket. Thus, __the data fails to show that gender has an impact on who gets a ticket for speeding__."
      ]
    },
    {
      "cell_type": "code",
      "metadata": {
        "colab": {
          "base_uri": "https://localhost:8080/"
        },
        "id": "HzRuWpOnmTIp",
        "outputId": "1bba1f2f-bcd2-4d94-b985-8dbb2f7def7c"
      },
      "source": [
        "# Filtering by multiple conditions (1)\r\n",
        "female = ri[ri.driver_gender == 'F']\r\n",
        "female.shape"
      ],
      "execution_count": 30,
      "outputs": [
        {
          "output_type": "execute_result",
          "data": {
            "text/plain": [
              "(23774, 13)"
            ]
          },
          "metadata": {
            "tags": []
          },
          "execution_count": 30
        }
      ]
    },
    {
      "cell_type": "code",
      "metadata": {
        "colab": {
          "base_uri": "https://localhost:8080/"
        },
        "id": "9Ckrja1Dmb8v",
        "outputId": "c9374d8c-8474-4b2f-923b-cefc38d8404b"
      },
      "source": [
        "# Filtering by multiple conditions (2)\r\n",
        "# Only includes female drivers who were arrested\r\n",
        "female_and_arrested = ri[(ri.driver_gender == 'F') &(ri.is_arrested == True)]\r\n",
        "female_and_arrested.shape"
      ],
      "execution_count": 31,
      "outputs": [
        {
          "output_type": "execute_result",
          "data": {
            "text/plain": [
              "(669, 13)"
            ]
          },
          "metadata": {
            "tags": []
          },
          "execution_count": 31
        }
      ]
    },
    {
      "cell_type": "code",
      "metadata": {
        "colab": {
          "base_uri": "https://localhost:8080/"
        },
        "id": "6Yxv9FImmonG",
        "outputId": "9bece0e8-4cae-4db8-8fd7-de21670c86f4"
      },
      "source": [
        "# Filtering by multiple conditions (3)\r\n",
        "female_or_arrested = ri[(ri.driver_gender == 'F') | (ri.is_arrested == True)]\r\n",
        "female_or_arrested.shape"
      ],
      "execution_count": 32,
      "outputs": [
        {
          "output_type": "execute_result",
          "data": {
            "text/plain": [
              "(26183, 13)"
            ]
          },
          "metadata": {
            "tags": []
          },
          "execution_count": 32
        }
      ]
    },
    {
      "cell_type": "markdown",
      "metadata": {
        "id": "CbtUwDazm3wL"
      },
      "source": [
        "- Includes all females\r\n",
        "- Includes all drivers who were arrested"
      ]
    },
    {
      "cell_type": "markdown",
      "metadata": {
        "id": "UuhjCSHBlK5A"
      },
      "source": [
        "## __12 Comparing stop outcomes for two groups__"
      ]
    },
    {
      "cell_type": "code",
      "metadata": {
        "colab": {
          "base_uri": "https://localhost:8080/"
        },
        "id": "0tHI6eeEY5m3",
        "outputId": "6589b674-f7be-4d3d-d9ff-69ca7350eef3"
      },
      "source": [
        "# driver race --> White\r\n",
        "white = ri[ri.driver_race == 'White']\r\n",
        "white.stop_outcome.value_counts(normalize=True)"
      ],
      "execution_count": 33,
      "outputs": [
        {
          "output_type": "execute_result",
          "data": {
            "text/plain": [
              "Citation            0.902263\n",
              "Warning             0.057508\n",
              "Arrest Driver       0.024018\n",
              "No Action           0.007031\n",
              "N/D                 0.006433\n",
              "Arrest Passenger    0.002748\n",
              "Name: stop_outcome, dtype: float64"
            ]
          },
          "metadata": {
            "tags": []
          },
          "execution_count": 33
        }
      ]
    },
    {
      "cell_type": "code",
      "metadata": {
        "colab": {
          "base_uri": "https://localhost:8080/"
        },
        "id": "ZZ9EtsrelZ7A",
        "outputId": "6f5c8bb2-bf53-4f35-85d4-f7f9b55151f9"
      },
      "source": [
        "# driver race --> Black\r\n",
        "black = ri[ri.driver_race =='Black']\r\n",
        "black.stop_outcome.value_counts(normalize=True)"
      ],
      "execution_count": 34,
      "outputs": [
        {
          "output_type": "execute_result",
          "data": {
            "text/plain": [
              "Citation            0.857224\n",
              "Warning             0.065120\n",
              "Arrest Driver       0.054294\n",
              "N/D                 0.008547\n",
              "Arrest Passenger    0.008303\n",
              "No Action           0.006512\n",
              "Name: stop_outcome, dtype: float64"
            ]
          },
          "metadata": {
            "tags": []
          },
          "execution_count": 34
        }
      ]
    },
    {
      "cell_type": "code",
      "metadata": {
        "colab": {
          "base_uri": "https://localhost:8080/"
        },
        "id": "wvfqj_3ilGQT",
        "outputId": "60a04747-5bf0-44af-abdd-42d3fd3c53d4"
      },
      "source": [
        "# driver race --> Asian\r\n",
        "asian = ri[ri.driver_race =='Asian']\r\n",
        "asian.stop_outcome.value_counts(normalize=True)"
      ],
      "execution_count": 35,
      "outputs": [
        {
          "output_type": "execute_result",
          "data": {
            "text/plain": [
              "Citation            0.922980\n",
              "Warning             0.045207\n",
              "Arrest Driver       0.017581\n",
              "No Action           0.008372\n",
              "N/D                 0.004186\n",
              "Arrest Passenger    0.001674\n",
              "Name: stop_outcome, dtype: float64"
            ]
          },
          "metadata": {
            "tags": []
          },
          "execution_count": 35
        }
      ]
    },
    {
      "cell_type": "markdown",
      "metadata": {
        "id": "DqnaQTctnBbT"
      },
      "source": [
        "## __13 Does gender affect whose vehicle is searched?__"
      ]
    },
    {
      "cell_type": "markdown",
      "metadata": {
        "id": "yXrH7ZSlnjTX"
      },
      "source": [
        "**Mean** of **Boolean Series** represents percentage of True values"
      ]
    },
    {
      "cell_type": "code",
      "metadata": {
        "colab": {
          "base_uri": "https://localhost:8080/"
        },
        "id": "Kpixam7knb_f",
        "outputId": "e2a2123e-11c6-4ded-f1e3-cba3fa16701e"
      },
      "source": [
        "ri.isnull().sum()"
      ],
      "execution_count": 36,
      "outputs": [
        {
          "output_type": "execute_result",
          "data": {
            "text/plain": [
              "stop_date                 0\n",
              "stop_time                 0\n",
              "driver_gender             0\n",
              "driver_race               0\n",
              "violation_raw             0\n",
              "violation                 0\n",
              "search_conducted          0\n",
              "search_type           83229\n",
              "stop_outcome              0\n",
              "is_arrested               0\n",
              "stop_duration             0\n",
              "drugs_related_stop        0\n",
              "district                  0\n",
              "dtype: int64"
            ]
          },
          "metadata": {
            "tags": []
          },
          "execution_count": 36
        }
      ]
    },
    {
      "cell_type": "code",
      "metadata": {
        "colab": {
          "base_uri": "https://localhost:8080/"
        },
        "id": "IpEIsc0Rrs6X",
        "outputId": "5c79d0b7-dbfd-4d19-e6b8-d436ab48e7a5"
      },
      "source": [
        "# Taking the mean of a Boolean Series\r\n",
        "print(ri.is_arrested.value_counts(normalize=True))\r\n",
        "print(ri.is_arrested.mean())\r\n",
        "print(ri.is_arrested.dtype)"
      ],
      "execution_count": 37,
      "outputs": [
        {
          "output_type": "stream",
          "text": [
            "False    0.964431\n",
            "True     0.035569\n",
            "Name: is_arrested, dtype: float64\n",
            "0.0355690117407784\n",
            "bool\n"
          ],
          "name": "stdout"
        }
      ]
    },
    {
      "cell_type": "markdown",
      "metadata": {
        "id": "DlSc2rrmr7Rx"
      },
      "source": [
        "__Comparing groups using groupby (1)__"
      ]
    },
    {
      "cell_type": "code",
      "metadata": {
        "colab": {
          "base_uri": "https://localhost:8080/"
        },
        "id": "MoZBO7GOr9IJ",
        "outputId": "96550936-2b2e-42d2-fbac-1295484d2f7a"
      },
      "source": [
        "# Study the arrest rate by police district\r\n",
        "print(ri.district.unique())\r\n",
        "\r\n",
        "# Mean\r\n",
        "print(ri[ri.district == 'Zone K1'].is_arrested.mean())"
      ],
      "execution_count": 38,
      "outputs": [
        {
          "output_type": "stream",
          "text": [
            "['Zone X4' 'Zone K3' 'Zone X1' 'Zone X3' 'Zone K1' 'Zone K2']\n",
            "0.024349083895853423\n"
          ],
          "name": "stdout"
        }
      ]
    },
    {
      "cell_type": "markdown",
      "metadata": {
        "id": "-B1KpPrIsI0m"
      },
      "source": [
        "__Comparing groups using groupby (2)__"
      ]
    },
    {
      "cell_type": "code",
      "metadata": {
        "colab": {
          "base_uri": "https://localhost:8080/"
        },
        "id": "P1TeOiM5sKLt",
        "outputId": "6d8102df-8c09-4bc7-912c-8c04801c99be"
      },
      "source": [
        "ri[ri.district == 'Zone K2'].is_arrested.mean()"
      ],
      "execution_count": 39,
      "outputs": [
        {
          "output_type": "execute_result",
          "data": {
            "text/plain": [
              "0.030800588834786546"
            ]
          },
          "metadata": {
            "tags": []
          },
          "execution_count": 39
        }
      ]
    },
    {
      "cell_type": "code",
      "metadata": {
        "colab": {
          "base_uri": "https://localhost:8080/"
        },
        "id": "XCmxQmGFsPkg",
        "outputId": "ebb08c8d-aae5-42c3-acd3-4e6dc5100c6c"
      },
      "source": [
        "ri.groupby('district').is_arrested.mean()"
      ],
      "execution_count": 40,
      "outputs": [
        {
          "output_type": "execute_result",
          "data": {
            "text/plain": [
              "district\n",
              "Zone K1    0.024349\n",
              "Zone K2    0.030801\n",
              "Zone K3    0.032311\n",
              "Zone X1    0.023494\n",
              "Zone X3    0.034871\n",
              "Zone X4    0.048038\n",
              "Name: is_arrested, dtype: float64"
            ]
          },
          "metadata": {
            "tags": []
          },
          "execution_count": 40
        }
      ]
    },
    {
      "cell_type": "markdown",
      "metadata": {
        "id": "_1pQfBZDsgn1"
      },
      "source": [
        "__Grouping by multiple categories__"
      ]
    },
    {
      "cell_type": "code",
      "metadata": {
        "colab": {
          "base_uri": "https://localhost:8080/"
        },
        "id": "28MSnhLKs4Ye",
        "outputId": "ed4ff342-b495-4c76-dfb8-8eee692c0c64"
      },
      "source": [
        "ri.groupby(['district', 'driver_gender']).is_arrested.mean()"
      ],
      "execution_count": 41,
      "outputs": [
        {
          "output_type": "execute_result",
          "data": {
            "text/plain": [
              "district  driver_gender\n",
              "Zone K1   F                0.019169\n",
              "          M                0.026588\n",
              "Zone K2   F                0.022196\n",
              "          M                0.034285\n",
              "Zone K3   F                0.025156\n",
              "          M                0.034961\n",
              "Zone X1   F                0.019646\n",
              "          M                0.024563\n",
              "Zone X3   F                0.027188\n",
              "          M                0.038166\n",
              "Zone X4   F                0.042149\n",
              "          M                0.049956\n",
              "Name: is_arrested, dtype: float64"
            ]
          },
          "metadata": {
            "tags": []
          },
          "execution_count": 41
        }
      ]
    },
    {
      "cell_type": "code",
      "metadata": {
        "colab": {
          "base_uri": "https://localhost:8080/"
        },
        "id": "NmmNWII6s6jN",
        "outputId": "7041a133-062c-423f-afde-4529c7166683"
      },
      "source": [
        "ri.groupby(['driver_gender', 'district']).is_arrested.mean()"
      ],
      "execution_count": 42,
      "outputs": [
        {
          "output_type": "execute_result",
          "data": {
            "text/plain": [
              "driver_gender  district\n",
              "F              Zone K1     0.019169\n",
              "               Zone K2     0.022196\n",
              "               Zone K3     0.025156\n",
              "               Zone X1     0.019646\n",
              "               Zone X3     0.027188\n",
              "               Zone X4     0.042149\n",
              "M              Zone K1     0.026588\n",
              "               Zone K2     0.034285\n",
              "               Zone K3     0.034961\n",
              "               Zone X1     0.024563\n",
              "               Zone X3     0.038166\n",
              "               Zone X4     0.049956\n",
              "Name: is_arrested, dtype: float64"
            ]
          },
          "metadata": {
            "tags": []
          },
          "execution_count": 42
        }
      ]
    },
    {
      "cell_type": "markdown",
      "metadata": {
        "id": "7-Ck7pJgtOT-"
      },
      "source": [
        "## __14 Calculating the search rate__\r\n",
        "\r\n",
        "During a traffic stop, the police officer sometimes conducts a search of the vehicle.\r\n",
        "\r\n",
        "In this exercise, you'll calculate the percentage of all stops in the ri DataFrame that result in a vehicle search, also known as the search rate."
      ]
    },
    {
      "cell_type": "code",
      "metadata": {
        "colab": {
          "base_uri": "https://localhost:8080/"
        },
        "id": "rDx0RdmotNs5",
        "outputId": "4892d514-d408-4513-b851-43333e5c06c8"
      },
      "source": [
        "# Check the data type of 'search_conducted'\r\n",
        "print(ri.search_conducted.dtype)\r\n",
        "\r\n",
        "# Calculate the search rate by counting the values\r\n",
        "print(ri.search_conducted.value_counts(normalize=True))\r\n",
        "\r\n",
        "# Calculate the search rate by taking the mean\r\n",
        "print(ri.search_conducted.mean())"
      ],
      "execution_count": 43,
      "outputs": [
        {
          "output_type": "stream",
          "text": [
            "bool\n",
            "False    0.961785\n",
            "True     0.038215\n",
            "Name: search_conducted, dtype: float64\n",
            "0.0382153092354627\n"
          ],
          "name": "stdout"
        }
      ]
    },
    {
      "cell_type": "markdown",
      "metadata": {
        "id": "2c2V0La1yhur"
      },
      "source": [
        "$\\color{red}{\\textbf{Interpretation:}}$\r\n",
        "\r\n",
        ">It looks like the search rate is about __3.8%__."
      ]
    },
    {
      "cell_type": "markdown",
      "metadata": {
        "id": "GuEQdeFfyxdC"
      },
      "source": [
        "### __Comparing search rates by gender__"
      ]
    },
    {
      "cell_type": "markdown",
      "metadata": {
        "id": "8ahnrwoWy95E"
      },
      "source": [
        "Remember that the vehicle **search rate **across all stops is about __3.8%.__\r\n",
        "\r\n",
        "First, we'll filter the DataFrame by gender and calculate the **search rate** for each group separately. Then, you'll perform the same calculation for both genders at once using a `.groupby()`."
      ]
    },
    {
      "cell_type": "markdown",
      "metadata": {
        "id": "pyiQWafa02_K"
      },
      "source": [
        "__Instructions:__\r\n",
        "\r\n",
        "- Filter the DataFrame to only include female drivers, and then calculate the search rate by taking the mean of search_conducted.\r\n",
        "\r\n",
        "- Filter the DataFrame to only include male drivers, and then repeat the search rate calculation.\r\n",
        "\r\n",
        "- Group by driver gender to calculate the search rate for both groups simultaneously. (It should match the previous results.)"
      ]
    },
    {
      "cell_type": "code",
      "metadata": {
        "colab": {
          "base_uri": "https://localhost:8080/"
        },
        "id": "hsFFBxD5ysU0",
        "outputId": "fc3fb40f-40b4-4373-f358-227bdf47074e"
      },
      "source": [
        "# Calculate the search rate for female drivers\r\n",
        "print(ri[ri.driver_gender == 'F'].search_conducted.mean())"
      ],
      "execution_count": 44,
      "outputs": [
        {
          "output_type": "stream",
          "text": [
            "0.019180617481282074\n"
          ],
          "name": "stdout"
        }
      ]
    },
    {
      "cell_type": "code",
      "metadata": {
        "colab": {
          "base_uri": "https://localhost:8080/"
        },
        "id": "nf-arLs11HW5",
        "outputId": "a1c33f00-a6e1-4b6d-ba07-a2812aa1ae3b"
      },
      "source": [
        "# Calculate the search rate for male drivers\r\n",
        "print(ri[ri.driver_gender == 'M'].search_conducted.mean())"
      ],
      "execution_count": 45,
      "outputs": [
        {
          "output_type": "stream",
          "text": [
            "0.04542557598546892\n"
          ],
          "name": "stdout"
        }
      ]
    },
    {
      "cell_type": "code",
      "metadata": {
        "colab": {
          "base_uri": "https://localhost:8080/"
        },
        "id": "4BmDtROo1OiI",
        "outputId": "1c6754cb-9167-477a-e779-1b7d7f6c64b2"
      },
      "source": [
        "# Calculate the search rate for both groups simultaneously\r\n",
        "print(ri.groupby('driver_gender').search_conducted.mean())"
      ],
      "execution_count": 46,
      "outputs": [
        {
          "output_type": "stream",
          "text": [
            "driver_gender\n",
            "F    0.019181\n",
            "M    0.045426\n",
            "Name: search_conducted, dtype: float64\n"
          ],
          "name": "stdout"
        }
      ]
    },
    {
      "cell_type": "markdown",
      "metadata": {
        "id": "93ZJGr3l17zS"
      },
      "source": [
        "$\\color{red}{\\textbf{Interpretation:}}$\r\n",
        "\r\n",
        ">Male drivers are searched more than twice as often as female drivers. Why might this be?\r\n"
      ]
    },
    {
      "cell_type": "markdown",
      "metadata": {
        "id": "e-zfE8pn2nBd"
      },
      "source": [
        "## __15 Adding a second factor to the analysis__"
      ]
    },
    {
      "cell_type": "markdown",
      "metadata": {
        "id": "yf6Koc7q225X"
      },
      "source": [
        "Even though the **search rate** for **males is much higher than for females**, *it's possible that the difference is mostly due to a second factor.*\r\n",
        "\r\n",
        ">For example, we might **hypothesize** that **the search rate varies by violation type**, and the difference in search rate between males and females is because they tend to commit different violations.\r\n",
        "\r\n",
        "we can test this hypothesis by examining the **search rate** for **each combination of gender and violation**. If the hypothesis was true, you would find that males and females are searched at about the same rate for each violation. Find out below if that's the case!"
      ]
    },
    {
      "cell_type": "markdown",
      "metadata": {
        "id": "SdD-_18950F9"
      },
      "source": [
        "__Instructions__\r\n",
        "\r\n",
        "- Use a `.groupby()` to calculate the search rate for each combination of gender and violation. Are males and females searched at about the same rate for each violation?\r\n",
        "\r\n",
        "- Reverse the ordering to group by violation before gender. The results may be easier to compare when presented this way."
      ]
    },
    {
      "cell_type": "code",
      "metadata": {
        "colab": {
          "base_uri": "https://localhost:8080/"
        },
        "id": "6oX9VAaE2hPJ",
        "outputId": "04fe2b42-ce3d-40ea-880a-4405677c558e"
      },
      "source": [
        "# Calculate the search rate for each combination of gender and violation\r\n",
        "ri.groupby(['driver_gender', 'violation']).search_conducted.mean()"
      ],
      "execution_count": 47,
      "outputs": [
        {
          "output_type": "execute_result",
          "data": {
            "text/plain": [
              "driver_gender  violation          \n",
              "F              Equipment              0.039984\n",
              "               Moving violation       0.039257\n",
              "               Other                  0.041018\n",
              "               Registration/plates    0.054924\n",
              "               Seat belt              0.017301\n",
              "               Speeding               0.008309\n",
              "M              Equipment              0.071496\n",
              "               Moving violation       0.061524\n",
              "               Other                  0.046191\n",
              "               Registration/plates    0.108802\n",
              "               Seat belt              0.035119\n",
              "               Speeding               0.027885\n",
              "Name: search_conducted, dtype: float64"
            ]
          },
          "metadata": {
            "tags": []
          },
          "execution_count": 47
        }
      ]
    },
    {
      "cell_type": "code",
      "metadata": {
        "colab": {
          "base_uri": "https://localhost:8080/"
        },
        "id": "qUufLeZz5t7u",
        "outputId": "0b644b49-ff48-406a-f280-5395912d00f1"
      },
      "source": [
        "# Reverse the ordering to group by violation before gender\r\n",
        "ri.groupby(['violation', 'driver_gender']).search_conducted.mean()"
      ],
      "execution_count": 48,
      "outputs": [
        {
          "output_type": "execute_result",
          "data": {
            "text/plain": [
              "violation            driver_gender\n",
              "Equipment            F                0.039984\n",
              "                     M                0.071496\n",
              "Moving violation     F                0.039257\n",
              "                     M                0.061524\n",
              "Other                F                0.041018\n",
              "                     M                0.046191\n",
              "Registration/plates  F                0.054924\n",
              "                     M                0.108802\n",
              "Seat belt            F                0.017301\n",
              "                     M                0.035119\n",
              "Speeding             F                0.008309\n",
              "                     M                0.027885\n",
              "Name: search_conducted, dtype: float64"
            ]
          },
          "metadata": {
            "tags": []
          },
          "execution_count": 48
        }
      ]
    },
    {
      "cell_type": "markdown",
      "metadata": {
        "id": "UTxN-HCy6cD1"
      },
      "source": [
        "$\\color{red}{\\textbf{Interpretation:}}$\r\n",
        "\r\n",
        ">For all types of violations, the search rate is higher for males than for females, disproving our hypothesis"
      ]
    },
    {
      "cell_type": "markdown",
      "metadata": {
        "id": "RNM2x7VSDVvk"
      },
      "source": [
        "## __16 Does gender affect who is frisked during a search?__"
      ]
    },
    {
      "cell_type": "code",
      "metadata": {
        "colab": {
          "base_uri": "https://localhost:8080/"
        },
        "id": "YLQdjjRW6iFu",
        "outputId": "c1905f0a-1375-419f-ad37-039b41d14b0c"
      },
      "source": [
        "ri.search_conducted.value_counts()"
      ],
      "execution_count": 49,
      "outputs": [
        {
          "output_type": "execute_result",
          "data": {
            "text/plain": [
              "False    83229\n",
              "True      3307\n",
              "Name: search_conducted, dtype: int64"
            ]
          },
          "metadata": {
            "tags": []
          },
          "execution_count": 49
        }
      ]
    },
    {
      "cell_type": "markdown",
      "metadata": {
        "id": "MOnDwjgID7OU"
      },
      "source": [
        "`.value_counts()`\r\n",
        "__excludes missing\r\n",
        "values by default__\r\n"
      ]
    },
    {
      "cell_type": "code",
      "metadata": {
        "colab": {
          "base_uri": "https://localhost:8080/"
        },
        "id": "4BPzw_6UDvUT",
        "outputId": "ef744d02-1524-48aa-f04f-b4785b776cc4"
      },
      "source": [
        "ri.search_type.value_counts(dropna=False)"
      ],
      "execution_count": 50,
      "outputs": [
        {
          "output_type": "execute_result",
          "data": {
            "text/plain": [
              "NaN                                                         83229\n",
              "Incident to Arrest                                           1290\n",
              "Probable Cause                                                924\n",
              "Inventory                                                     219\n",
              "Reasonable Suspicion                                          214\n",
              "Protective Frisk                                              164\n",
              "Incident to Arrest,Inventory                                  123\n",
              "Incident to Arrest,Probable Cause                             100\n",
              "Probable Cause,Reasonable Suspicion                            54\n",
              "Probable Cause,Protective Frisk                                35\n",
              "Incident to Arrest,Inventory,Probable Cause                    35\n",
              "Incident to Arrest,Protective Frisk                            33\n",
              "Inventory,Probable Cause                                       25\n",
              "Protective Frisk,Reasonable Suspicion                          19\n",
              "Incident to Arrest,Inventory,Protective Frisk                  18\n",
              "Incident to Arrest,Probable Cause,Protective Frisk             13\n",
              "Inventory,Protective Frisk                                     12\n",
              "Incident to Arrest,Reasonable Suspicion                         8\n",
              "Incident to Arrest,Probable Cause,Reasonable Suspicion          5\n",
              "Probable Cause,Protective Frisk,Reasonable Suspicion            5\n",
              "Incident to Arrest,Inventory,Reasonable Suspicion               4\n",
              "Inventory,Reasonable Suspicion                                  2\n",
              "Incident to Arrest,Protective Frisk,Reasonable Suspicion        2\n",
              "Inventory,Probable Cause,Reasonable Suspicion                   1\n",
              "Inventory,Protective Frisk,Reasonable Suspicion                 1\n",
              "Inventory,Probable Cause,Protective Frisk                       1\n",
              "Name: search_type, dtype: int64"
            ]
          },
          "metadata": {
            "tags": []
          },
          "execution_count": 50
        }
      ]
    },
    {
      "cell_type": "markdown",
      "metadata": {
        "id": "K_y9-SqdEFum"
      },
      "source": [
        "\r\n",
        "- `dropna=False`\r\n",
        " **displays missing\r\n",
        "values**"
      ]
    },
    {
      "cell_type": "markdown",
      "metadata": {
        "id": "VHH9kWGlEZsO"
      },
      "source": [
        "**Examining the search types**"
      ]
    },
    {
      "cell_type": "code",
      "metadata": {
        "colab": {
          "base_uri": "https://localhost:8080/"
        },
        "id": "kPqf1IjZEVGG",
        "outputId": "00ef05aa-7814-450e-b2d5-c3fbc5054add"
      },
      "source": [
        "ri.search_type.value_counts()"
      ],
      "execution_count": 51,
      "outputs": [
        {
          "output_type": "execute_result",
          "data": {
            "text/plain": [
              "Incident to Arrest                                          1290\n",
              "Probable Cause                                               924\n",
              "Inventory                                                    219\n",
              "Reasonable Suspicion                                         214\n",
              "Protective Frisk                                             164\n",
              "Incident to Arrest,Inventory                                 123\n",
              "Incident to Arrest,Probable Cause                            100\n",
              "Probable Cause,Reasonable Suspicion                           54\n",
              "Incident to Arrest,Inventory,Probable Cause                   35\n",
              "Probable Cause,Protective Frisk                               35\n",
              "Incident to Arrest,Protective Frisk                           33\n",
              "Inventory,Probable Cause                                      25\n",
              "Protective Frisk,Reasonable Suspicion                         19\n",
              "Incident to Arrest,Inventory,Protective Frisk                 18\n",
              "Incident to Arrest,Probable Cause,Protective Frisk            13\n",
              "Inventory,Protective Frisk                                    12\n",
              "Incident to Arrest,Reasonable Suspicion                        8\n",
              "Incident to Arrest,Probable Cause,Reasonable Suspicion         5\n",
              "Probable Cause,Protective Frisk,Reasonable Suspicion           5\n",
              "Incident to Arrest,Inventory,Reasonable Suspicion              4\n",
              "Inventory,Reasonable Suspicion                                 2\n",
              "Incident to Arrest,Protective Frisk,Reasonable Suspicion       2\n",
              "Inventory,Probable Cause,Protective Frisk                      1\n",
              "Inventory,Probable Cause,Reasonable Suspicion                  1\n",
              "Inventory,Protective Frisk,Reasonable Suspicion                1\n",
              "Name: search_type, dtype: int64"
            ]
          },
          "metadata": {
            "tags": []
          },
          "execution_count": 51
        }
      ]
    },
    {
      "cell_type": "markdown",
      "metadata": {
        "id": "SCbE3E4OEqcS"
      },
      "source": [
        "- Multiple values are separated by commas.\r\n",
        "\r\n",
        "- 219 searches in which **\"Inventory\"** was the only search type.\r\n",
        "\r\n",
        "- Locate **\"Inventory\"** among multiple search types."
      ]
    },
    {
      "cell_type": "markdown",
      "metadata": {
        "id": "8u_0wguHE_IM"
      },
      "source": [
        "__Searching for a string (1)__"
      ]
    },
    {
      "cell_type": "code",
      "metadata": {
        "id": "tgeCs9bmE8Gp"
      },
      "source": [
        "ri['inventory'] = ri.search_type.str.contains('Inventory', na=False)"
      ],
      "execution_count": 52,
      "outputs": []
    },
    {
      "cell_type": "markdown",
      "metadata": {
        "id": "XYniRWKhFKop"
      },
      "source": [
        "- `str.contains()` returns\r\n",
        "    - True if string is found\r\n",
        "    - False if not found.\r\n",
        "\r\n",
        "- `na=False` returns `False` when it ,finds a missing value"
      ]
    },
    {
      "cell_type": "markdown",
      "metadata": {
        "id": "cceCALkAFlhQ"
      },
      "source": [
        "__Searching for a string (2)__"
      ]
    },
    {
      "cell_type": "code",
      "metadata": {
        "colab": {
          "base_uri": "https://localhost:8080/"
        },
        "id": "WBXS21WwFiqa",
        "outputId": "1d5ea61c-b7a7-4695-fcb7-080a1a041e88"
      },
      "source": [
        "ri.inventory.dtype"
      ],
      "execution_count": 53,
      "outputs": [
        {
          "output_type": "execute_result",
          "data": {
            "text/plain": [
              "dtype('bool')"
            ]
          },
          "metadata": {
            "tags": []
          },
          "execution_count": 53
        }
      ]
    },
    {
      "cell_type": "markdown",
      "metadata": {
        "id": "ibIVlPiiFtNa"
      },
      "source": [
        "**True** means inventory was done, **False** means it was not"
      ]
    },
    {
      "cell_type": "code",
      "metadata": {
        "colab": {
          "base_uri": "https://localhost:8080/"
        },
        "id": "TfrPPb78Fvmh",
        "outputId": "f981ac5f-878f-4f9e-f84d-f9e701d98762"
      },
      "source": [
        "ri.inventory.sum()"
      ],
      "execution_count": 54,
      "outputs": [
        {
          "output_type": "execute_result",
          "data": {
            "text/plain": [
              "441"
            ]
          },
          "metadata": {
            "tags": []
          },
          "execution_count": 54
        }
      ]
    },
    {
      "cell_type": "markdown",
      "metadata": {
        "id": "TRJ5qDo1F5aT"
      },
      "source": [
        "__Calculating the inventory rate__"
      ]
    },
    {
      "cell_type": "code",
      "metadata": {
        "colab": {
          "base_uri": "https://localhost:8080/"
        },
        "id": "CAFr5PggF8rL",
        "outputId": "d32dd831-5c27-45e3-844f-c04f93383122"
      },
      "source": [
        "ri.inventory.mean()"
      ],
      "execution_count": 55,
      "outputs": [
        {
          "output_type": "execute_result",
          "data": {
            "text/plain": [
              "0.0050961449570121106"
            ]
          },
          "metadata": {
            "tags": []
          },
          "execution_count": 55
        }
      ]
    },
    {
      "cell_type": "markdown",
      "metadata": {
        "id": "DOJYJZ1EGBXA"
      },
      "source": [
        "**0.5%** of all traffic stops resulted in an inventory."
      ]
    },
    {
      "cell_type": "code",
      "metadata": {
        "colab": {
          "base_uri": "https://localhost:8080/"
        },
        "id": "AuvsRU37GBE_",
        "outputId": "6c3a813f-8e10-4997-dbdb-17f508295bd0"
      },
      "source": [
        "searched = ri[ri.search_conducted == True]\r\n",
        "searched.inventory.mean()"
      ],
      "execution_count": 56,
      "outputs": [
        {
          "output_type": "execute_result",
          "data": {
            "text/plain": [
              "0.13335349259147264"
            ]
          },
          "metadata": {
            "tags": []
          },
          "execution_count": 56
        }
      ]
    },
    {
      "cell_type": "markdown",
      "metadata": {
        "id": "-X4L5nq4GPsh"
      },
      "source": [
        "__13.3% of searches included an inventory__"
      ]
    },
    {
      "cell_type": "markdown",
      "metadata": {
        "id": "suv6A6eLLKQv"
      },
      "source": [
        "## __17 Counting protective frisks__"
      ]
    },
    {
      "cell_type": "markdown",
      "metadata": {
        "id": "VXWXGnB7LPgk"
      },
      "source": [
        "During a vehicle search, the police officer may pat down the driver to check if they have a weapon. This is known as a \"protective frisk.\"\r\n",
        "\r\n",
        "In this exercise, you'll first check to see how many times \"Protective Frisk\" was the only search type. Then, you'll use a string method to locate all instances in which the driver was frisked."
      ]
    },
    {
      "cell_type": "markdown",
      "metadata": {
        "id": "o_Wqe95oLSSy"
      },
      "source": [
        "__Instructions__\r\n",
        "\r\n",
        "- Count the `search_type` values in the `ri` DataFrame to see how many times \"Protective Frisk\" was the only search type.\r\n",
        "\r\n",
        "- Create a new column, `frisk`, that is `True` if search_type contains the string \"Protective Frisk\" and `False` otherwise.\r\n",
        "\r\n",
        "- Check the data type of `frisk` to confirm that it's a Boolean Series.\r\n",
        "\r\n",
        "- Take the sum of `frisk` to count the total number of frisks."
      ]
    },
    {
      "cell_type": "code",
      "metadata": {
        "colab": {
          "base_uri": "https://localhost:8080/"
        },
        "id": "LkgLGOJxLNdN",
        "outputId": "325f0b52-80dc-42aa-8ee1-34a313645c4e"
      },
      "source": [
        "# Count the 'search_type' values\r\n",
        "print(ri.search_type.value_counts())\r\n",
        "\r\n",
        "# Check if 'search_type' contains the string 'Protective Frisk'\r\n",
        "ri['frisk'] = ri.search_type.str.contains('Protective Frisk', na=False)\r\n",
        "\r\n",
        "# Check the data type of 'frisk'\r\n",
        "print(ri['frisk'].dtype)\r\n",
        "\r\n",
        "# Take the sum of 'frisk'\r\n",
        "print(ri['frisk'].sum())"
      ],
      "execution_count": 57,
      "outputs": [
        {
          "output_type": "stream",
          "text": [
            "Incident to Arrest                                          1290\n",
            "Probable Cause                                               924\n",
            "Inventory                                                    219\n",
            "Reasonable Suspicion                                         214\n",
            "Protective Frisk                                             164\n",
            "Incident to Arrest,Inventory                                 123\n",
            "Incident to Arrest,Probable Cause                            100\n",
            "Probable Cause,Reasonable Suspicion                           54\n",
            "Incident to Arrest,Inventory,Probable Cause                   35\n",
            "Probable Cause,Protective Frisk                               35\n",
            "Incident to Arrest,Protective Frisk                           33\n",
            "Inventory,Probable Cause                                      25\n",
            "Protective Frisk,Reasonable Suspicion                         19\n",
            "Incident to Arrest,Inventory,Protective Frisk                 18\n",
            "Incident to Arrest,Probable Cause,Protective Frisk            13\n",
            "Inventory,Protective Frisk                                    12\n",
            "Incident to Arrest,Reasonable Suspicion                        8\n",
            "Incident to Arrest,Probable Cause,Reasonable Suspicion         5\n",
            "Probable Cause,Protective Frisk,Reasonable Suspicion           5\n",
            "Incident to Arrest,Inventory,Reasonable Suspicion              4\n",
            "Inventory,Reasonable Suspicion                                 2\n",
            "Incident to Arrest,Protective Frisk,Reasonable Suspicion       2\n",
            "Inventory,Probable Cause,Protective Frisk                      1\n",
            "Inventory,Probable Cause,Reasonable Suspicion                  1\n",
            "Inventory,Protective Frisk,Reasonable Suspicion                1\n",
            "Name: search_type, dtype: int64\n",
            "bool\n",
            "303\n"
          ],
          "name": "stdout"
        }
      ]
    },
    {
      "cell_type": "markdown",
      "metadata": {
        "id": "cEECRc_hMYsg"
      },
      "source": [
        "$\\color{red}{\\textbf{Interpretation:}}$\r\n",
        "\r\n",
        ">It looks like there were **303 drivers** who were **frisked**. Next, you'll examine whether gender affects who is frisked."
      ]
    },
    {
      "cell_type": "markdown",
      "metadata": {
        "id": "yE69IUHnM3ep"
      },
      "source": [
        "## __18 Comparing frisk rates by gender__"
      ]
    },
    {
      "cell_type": "markdown",
      "metadata": {
        "id": "GURFfqT5M_A_"
      },
      "source": [
        "In this exercise, we'll compare the rates at which **female** and **male** drivers are **frisked during a search**.\r\n",
        "\r\n",
        ">Are males frisked more often than females, perhaps because police officers consider them to be higher risk?\r\n",
        "\r\n",
        "Before doing any calculations, it's important to filter the DataFrame to only include the relevant subset of data, namely stops in which a search was conducted."
      ]
    },
    {
      "cell_type": "markdown",
      "metadata": {
        "id": "G7S38Qv1NNdy"
      },
      "source": [
        "__Instructions__\r\n",
        "\r\n",
        "- Create a DataFrame, **searched**, that only contains rows in which `search_conducted` is `True`.\r\n",
        "\r\n",
        "- Take the mean of the `frisk` column to find out what percentage of searches included a frisk.\r\n",
        "\r\n",
        "- Calculate the frisk rate for each gender using a `.groupby()`."
      ]
    },
    {
      "cell_type": "code",
      "metadata": {
        "colab": {
          "base_uri": "https://localhost:8080/"
        },
        "id": "c7HSRFClGPbP",
        "outputId": "ce41369d-5de3-4c33-8caf-a7bccea3c2ac"
      },
      "source": [
        "# Create a DataFrame of stops in which a search was conducted\r\n",
        "searched = ri[ri.search_conducted == True]\r\n",
        "\r\n",
        "# Calculate the overall frisk rate by taking the mean of 'frisk'\r\n",
        "print(searched.frisk.mean())\r\n",
        "\r\n",
        "# Calculate the frisk rate for each gender\r\n",
        "print(searched.groupby('driver_gender').frisk.mean())"
      ],
      "execution_count": 58,
      "outputs": [
        {
          "output_type": "stream",
          "text": [
            "0.09162382824312065\n",
            "driver_gender\n",
            "F    0.074561\n",
            "M    0.094353\n",
            "Name: frisk, dtype: float64\n"
          ],
          "name": "stdout"
        }
      ]
    },
    {
      "cell_type": "markdown",
      "metadata": {
        "id": "7s5SnAHxPZ7f"
      },
      "source": [
        "$\\color{red}{\\textbf{Interpretation:}}$\r\n",
        "\r\n",
        ">The **frisk rate** is **higher for males than for females**, though we **can't** conclude that this difference is caused by the driver's gender."
      ]
    },
    {
      "cell_type": "markdown",
      "metadata": {
        "id": "BwmFMyqbdzl0"
      },
      "source": [
        "--- \r\n",
        "<strong> \r\n",
        "    <h1 align='center'>Does time of day affect arrest rate?(Part - 3)\r\n",
        "    </h1> \r\n",
        "</strong>\r\n",
        "\r\n",
        "---"
      ]
    },
    {
      "cell_type": "markdown",
      "metadata": {
        "id": "qTPAxygXkj_3"
      },
      "source": [
        "## __19 Calculating the hourly arrest rate__"
      ]
    },
    {
      "cell_type": "markdown",
      "metadata": {
        "id": "LBI-p-i1kzK7"
      },
      "source": [
        "When a police officer stops a driver, a small percentage of those stops ends in an arrest. This is known as the arrest rate. In this exercise, you'll find out whether the arrest rate varies by time of day.\r\n",
        "\r\n",
        "First, you'll calculate the arrest rate across all stops in the **ri** DataFrame. Then, you'll calculate the hourly arrest rate by using the **hour** attribute of the index. The **hour** ranges from 0 to 23, in which:\r\n",
        "\r\n",
        "- *0 = midnight*\r\n",
        "- *12 = noon*\r\n",
        "- *23 = 11 PM*"
      ]
    },
    {
      "cell_type": "markdown",
      "metadata": {
        "id": "3eEsgp5-KKhr"
      },
      "source": [
        "__Instructions__\r\n",
        "\r\n",
        "- Take the mean of the `is_arrested` column to calculate the overall arrest rate.\r\n",
        "\r\n",
        "- Group by the `hour` attribute of the DataFrame index to calculate the hourly arrest rate.\r\n",
        "\r\n",
        "- Save the hourly arrest rate Series as a new object, `hourly_arrest_rate`."
      ]
    },
    {
      "cell_type": "code",
      "metadata": {
        "colab": {
          "base_uri": "https://localhost:8080/"
        },
        "id": "zjV3iMLOdx5A",
        "outputId": "d0c764f2-d8f1-457d-b4ca-a646b834bea8"
      },
      "source": [
        "# Calculate the overall arrest rate\r\n",
        "print(ri.is_arrested.mean())\r\n",
        "\r\n",
        "# Calculate the hourly arrest rate\r\n",
        "print(ri.groupby(ri.index.hour).is_arrested.mean())\r\n",
        "\r\n",
        "# Save the hourly arrest rate\r\n",
        "hourly_arrest_rate = ri.groupby(ri.index.hour).is_arrested.mean()"
      ],
      "execution_count": 59,
      "outputs": [
        {
          "output_type": "stream",
          "text": [
            "0.0355690117407784\n",
            "stop_datetime\n",
            "0     0.051431\n",
            "1     0.064932\n",
            "2     0.060798\n",
            "3     0.060549\n",
            "4     0.048000\n",
            "5     0.042781\n",
            "6     0.013813\n",
            "7     0.013032\n",
            "8     0.021854\n",
            "9     0.025206\n",
            "10    0.028213\n",
            "11    0.028897\n",
            "12    0.037399\n",
            "13    0.030776\n",
            "14    0.030605\n",
            "15    0.030679\n",
            "16    0.035281\n",
            "17    0.040619\n",
            "18    0.038204\n",
            "19    0.032245\n",
            "20    0.038107\n",
            "21    0.064541\n",
            "22    0.048666\n",
            "23    0.047592\n",
            "Name: is_arrested, dtype: float64\n"
          ],
          "name": "stdout"
        }
      ]
    },
    {
      "cell_type": "markdown",
      "metadata": {
        "id": "WCzc0xOcMTiv"
      },
      "source": [
        "## __20 Plotting the hourly arrest rate__"
      ]
    },
    {
      "cell_type": "markdown",
      "metadata": {
        "id": "aRvbRmNAMbK1"
      },
      "source": [
        "In this exercise, we'll create a line plot from the `hourly_arrest_rate` object. A line plot is appropriate in this case because you're showing how a quantity changes over time.\r\n",
        "\r\n",
        "This plot should help you to spot some trends that may not have been obvious when examining the raw numbers!"
      ]
    },
    {
      "cell_type": "markdown",
      "metadata": {
        "id": "GmPVnn0dMzQF"
      },
      "source": [
        ""
      ]
    },
    {
      "cell_type": "code",
      "metadata": {
        "colab": {
          "base_uri": "https://localhost:8080/",
          "height": 294
        },
        "id": "J6ZA1HS5dy8E",
        "outputId": "902a077b-cfc1-4629-eccb-5ffaa69a9b26"
      },
      "source": [
        "# Import matplotlib.pyplot as plt\r\n",
        "import matplotlib.pyplot as plt\r\n",
        "\r\n",
        "# Create a line plot of 'hourly_arrest_rate'\r\n",
        "hourly_arrest_rate.plot()\r\n",
        "\r\n",
        "# Add the xlabel, ylabel, and title\r\n",
        "plt.xlabel('Hour')\r\n",
        "plt.ylabel('Arrest Rate')\r\n",
        "plt.title('Arrest Rate by Time of Day')\r\n",
        "\r\n",
        "# Display the plot\r\n",
        "plt.show()"
      ],
      "execution_count": 60,
      "outputs": [
        {
          "output_type": "display_data",
          "data": {
            "image/png": "[encoded data removed]",
            "text/plain": [
              "<Figure size 432x288 with 1 Axes>"
            ]
          },
          "metadata": {
            "tags": [],
            "needs_background": "light"
          }
        }
      ]
    },
    {
      "cell_type": "markdown",
      "metadata": {
        "id": "z3yc_JK6aK-E"
      },
      "source": [
        "## __21 Plotting drug-related stops__\r\n",
        "\r\n",
        "__Are drug-related\r\n",
        "stops on the rise?__"
      ]
    },
    {
      "cell_type": "markdown",
      "metadata": {
        "id": "MxEoofzaalde"
      },
      "source": [
        "In a small portion of traffic stops, drugs are found in the vehicle during a search. In this exercise, you'll assess whether these drug-related stops are becoming more common over time.\r\n",
        "\r\n",
        "The Boolean column `drugs_related_stop` indicates whether drugs were found during a given stop. You'll calculate the annual drug rate by resampling this column, and then you'll use a line plot to visualize how the rate has changed over time."
      ]
    },
    {
      "cell_type": "markdown",
      "metadata": {
        "id": "5426fBXQasU8"
      },
      "source": [
        "__Instructions__\r\n",
        "\r\n",
        "- Calculate the annual rate of drug-related stops by resampling the `drugs_related_stop` column (on the `'A'` frequency) and taking the mean.\r\n",
        "\r\n",
        "- Save the annual drug rate Series as a new object, `annual_drug_rate`.\r\n",
        "\r\n",
        "- Create a line plot of `annual_drug_rate` using the `.plot()` method.\r\n",
        "\r\n",
        "- Display the plot using the `.show()` function."
      ]
    },
    {
      "cell_type": "code",
      "metadata": {
        "colab": {
          "base_uri": "https://localhost:8080/",
          "height": 525
        },
        "id": "g-ZVArCddy3C",
        "outputId": "91fc56db-65e3-4adf-def6-cf1535db2b5e"
      },
      "source": [
        "# Calculate the annual rate of drug-related stops\r\n",
        "# resampling `drugs_related_stop` represented by 'A' for Annual rate\r\n",
        "# & chain with mean at end\r\n",
        "print(ri.drugs_related_stop.resample('A').mean())\r\n",
        "\r\n",
        "# Save the annual rate of drug-related stops\r\n",
        "annual_drug_rate = ri.drugs_related_stop.resample('A').mean()\r\n",
        "\r\n",
        "# Create a line plot of 'annual_drug_rate'\r\n",
        "annual_drug_rate.plot()\r\n",
        "\r\n",
        "# Display the plot\r\n",
        "plt.xlabel('year')\r\n",
        "plt.ylabel('Annual drug rate')\r\n",
        "plt.title('drugs_related_stop')\r\n",
        "plt.show()"
      ],
      "execution_count": 61,
      "outputs": [
        {
          "output_type": "stream",
          "text": [
            "stop_datetime\n",
            "2005-12-31    0.006501\n",
            "2006-12-31    0.007258\n",
            "2007-12-31    0.007970\n",
            "2008-12-31    0.007505\n",
            "2009-12-31    0.009889\n",
            "2010-12-31    0.010081\n",
            "2011-12-31    0.009731\n",
            "2012-12-31    0.009921\n",
            "2013-12-31    0.013094\n",
            "2014-12-31    0.013826\n",
            "2015-12-31    0.012266\n",
            "Freq: A-DEC, Name: drugs_related_stop, dtype: float64\n"
          ],
          "name": "stdout"
        },
        {
          "output_type": "display_data",
          "data": {
            "image/png": "[encoded data removed]",
            "text/plain": [
              "<Figure size 432x288 with 1 Axes>"
            ]
          },
          "metadata": {
            "tags": [],
            "needs_background": "light"
          }
        }
      ]
    },
    {
      "cell_type": "markdown",
      "metadata": {
        "id": "GaGphEj2fU9E"
      },
      "source": [
        "**Resampling**\r\n",
        " \r\n",
        "Resampling is when we change the frequncy of our __time-series__ obervation.\r\n",
        "\r\n",
        "Most commonly used time series frequency are –\r\n",
        "- **W** : weekly frequency\r\n",
        "- **M** : month end frequency\r\n",
        "- **SM** : semi-month end frequency -(15th and end of month)\r\n",
        "- **Q** : quarter end frequency\r\n",
        "- **A** : Annual\r\n",
        "\r\n",
        "A time series is a series of data points indexed (or listed or graphed) in time order. Most commonly, a time series is a sequence taken at successive equally spaced points in time. \r\n",
        "\r\n",
        "It is a Convenience method for **frequency conversion** and resampling of **time serie**s. Object must have a datetime-like index (**DatetimeIndex**, **PeriodIndex**, or **TimedeltaIndex**), or pass datetime-like values to the on or level keyword."
      ]
    },
    {
      "cell_type": "markdown",
      "metadata": {
        "id": "zjyTaIgxwPFf"
      },
      "source": [
        "## __22 Comparing drug and search rates__"
      ]
    },
    {
      "cell_type": "markdown",
      "metadata": {
        "id": "V_sJrER9wYmu"
      },
      "source": [
        ">From the above plot its evident that rate of `drug-related` stops increased significantly between **2005** and **2015**. \r\n",
        "\r\n",
        "we might **hypothesize** that the **rate of vehicle searches** was also **increasing**, which would have led to an **increase** in **drug-related stops** even if more drivers were not carrying drugs.\r\n",
        "\r\n",
        "You can test this **hypothesis** by calculating the **annual search rate**, and then plotting it against the **annual drug rate**.\r\n",
        "\r\n",
        "*If the hypothesis is true, then you'll see both rates increasing over time.*"
      ]
    },
    {
      "cell_type": "code",
      "metadata": {
        "colab": {
          "base_uri": "https://localhost:8080/",
          "height": 270
        },
        "id": "sw-36M3Mdyxg",
        "outputId": "444492bf-d931-439e-9047-5f7bd9b8e3a5"
      },
      "source": [
        "# Calculate and save the annual search rate\r\n",
        "annual_search_rate = ri.search_conducted.resample('A').mean()\r\n",
        "\r\n",
        "# Concatenate 'annual_drug_rate' and 'annual_search_rate'\r\n",
        "annual = pd.concat([annual_drug_rate, annual_search_rate], axis='columns')\r\n",
        "\r\n",
        "# Create subplots from 'annual'\r\n",
        "annual.plot(subplots=True)\r\n",
        "\r\n",
        "# Display the subplots\r\n",
        "plt.show()"
      ],
      "execution_count": 62,
      "outputs": [
        {
          "output_type": "display_data",
          "data": {
            "image/png": "[encoded data removed]",
            "text/plain": [
              "<Figure size 432x288 with 2 Axes>"
            ]
          },
          "metadata": {
            "tags": [],
            "needs_background": "light"
          }
        }
      ]
    },
    {
      "cell_type": "markdown",
      "metadata": {
        "id": "26oSbx568oRN"
      },
      "source": [
        "$\\color{red}{\\textbf{Interpretation:}}$\r\n",
        "\r\n",
        ">The rate of **drug-related** stops **increased** even though the **search rate decreased**, disproving our hypothesis"
      ]
    },
    {
      "cell_type": "markdown",
      "metadata": {
        "id": "f4IhfnsW9Brt"
      },
      "source": [
        "## __23 What violations are caught in each district?__"
      ]
    },
    {
      "cell_type": "code",
      "metadata": {
        "colab": {
          "base_uri": "https://localhost:8080/",
          "height": 227
        },
        "id": "poxEZsst9sbG",
        "outputId": "13563551-a740-49de-91e6-0bef4a073cc5"
      },
      "source": [
        "# Computing a frequency table\r\n",
        "table = pd.crosstab(ri.driver_race, ri.driver_gender)\r\n",
        "table"
      ],
      "execution_count": 63,
      "outputs": [
        {
          "output_type": "execute_result",
          "data": {
            "text/html": [
              "<div>\n",
              "<style scoped>\n",
              "    .dataframe tbody tr th:only-of-type {\n",
              "        vertical-align: middle;\n",
              "    }\n",
              "\n",
              "    .dataframe tbody tr th {\n",
              "        vertical-align: top;\n",
              "    }\n",
              "\n",
              "    .dataframe thead th {\n",
              "        text-align: right;\n",
              "    }\n",
              "</style>\n",
              "<table border=\"1\" class=\"dataframe\">\n",
              "  <thead>\n",
              "    <tr style=\"text-align: right;\">\n",
              "      <th>driver_gender</th>\n",
              "      <th>F</th>\n",
              "      <th>M</th>\n",
              "    </tr>\n",
              "    <tr>\n",
              "      <th>driver_race</th>\n",
              "      <th></th>\n",
              "      <th></th>\n",
              "    </tr>\n",
              "  </thead>\n",
              "  <tbody>\n",
              "    <tr>\n",
              "      <th>Asian</th>\n",
              "      <td>551</td>\n",
              "      <td>1838</td>\n",
              "    </tr>\n",
              "    <tr>\n",
              "      <th>Black</th>\n",
              "      <td>2681</td>\n",
              "      <td>9604</td>\n",
              "    </tr>\n",
              "    <tr>\n",
              "      <th>Hispanic</th>\n",
              "      <td>1953</td>\n",
              "      <td>7774</td>\n",
              "    </tr>\n",
              "    <tr>\n",
              "      <th>Other</th>\n",
              "      <td>53</td>\n",
              "      <td>212</td>\n",
              "    </tr>\n",
              "    <tr>\n",
              "      <th>White</th>\n",
              "      <td>18536</td>\n",
              "      <td>43334</td>\n",
              "    </tr>\n",
              "  </tbody>\n",
              "</table>\n",
              "</div>"
            ],
            "text/plain": [
              "driver_gender      F      M\n",
              "driver_race                \n",
              "Asian            551   1838\n",
              "Black           2681   9604\n",
              "Hispanic        1953   7774\n",
              "Other             53    212\n",
              "White          18536  43334"
            ]
          },
          "metadata": {
            "tags": []
          },
          "execution_count": 63
        }
      ]
    },
    {
      "cell_type": "code",
      "metadata": {
        "colab": {
          "base_uri": "https://localhost:8080/"
        },
        "id": "BcsXY1tOdyrE",
        "outputId": "deaa8db4-026e-4cdd-a6f4-f6336e6484fa"
      },
      "source": [
        "# Driver Asian and Gender is Female \r\n",
        "ri[(ri.driver_race == 'Asian') & (ri.driver_gender == 'F')].shape"
      ],
      "execution_count": 64,
      "outputs": [
        {
          "output_type": "execute_result",
          "data": {
            "text/plain": [
              "(551, 15)"
            ]
          },
          "metadata": {
            "tags": []
          },
          "execution_count": 64
        }
      ]
    },
    {
      "cell_type": "code",
      "metadata": {
        "colab": {
          "base_uri": "https://localhost:8080/",
          "height": 167
        },
        "id": "8SGG1bP__Eor",
        "outputId": "c5b19832-018b-43de-ee87-1632292a5e72"
      },
      "source": [
        "# Selecting a DataFrame slice\r\n",
        "table1 = table.loc['Asian':'Hispanic']\r\n",
        "table1"
      ],
      "execution_count": 65,
      "outputs": [
        {
          "output_type": "execute_result",
          "data": {
            "text/html": [
              "<div>\n",
              "<style scoped>\n",
              "    .dataframe tbody tr th:only-of-type {\n",
              "        vertical-align: middle;\n",
              "    }\n",
              "\n",
              "    .dataframe tbody tr th {\n",
              "        vertical-align: top;\n",
              "    }\n",
              "\n",
              "    .dataframe thead th {\n",
              "        text-align: right;\n",
              "    }\n",
              "</style>\n",
              "<table border=\"1\" class=\"dataframe\">\n",
              "  <thead>\n",
              "    <tr style=\"text-align: right;\">\n",
              "      <th>driver_gender</th>\n",
              "      <th>F</th>\n",
              "      <th>M</th>\n",
              "    </tr>\n",
              "    <tr>\n",
              "      <th>driver_race</th>\n",
              "      <th></th>\n",
              "      <th></th>\n",
              "    </tr>\n",
              "  </thead>\n",
              "  <tbody>\n",
              "    <tr>\n",
              "      <th>Asian</th>\n",
              "      <td>551</td>\n",
              "      <td>1838</td>\n",
              "    </tr>\n",
              "    <tr>\n",
              "      <th>Black</th>\n",
              "      <td>2681</td>\n",
              "      <td>9604</td>\n",
              "    </tr>\n",
              "    <tr>\n",
              "      <th>Hispanic</th>\n",
              "      <td>1953</td>\n",
              "      <td>7774</td>\n",
              "    </tr>\n",
              "  </tbody>\n",
              "</table>\n",
              "</div>"
            ],
            "text/plain": [
              "driver_gender     F     M\n",
              "driver_race              \n",
              "Asian           551  1838\n",
              "Black          2681  9604\n",
              "Hispanic       1953  7774"
            ]
          },
          "metadata": {
            "tags": []
          },
          "execution_count": 65
        }
      ]
    },
    {
      "cell_type": "code",
      "metadata": {
        "colab": {
          "base_uri": "https://localhost:8080/",
          "height": 283
        },
        "id": "IpwrMh5n_Vk2",
        "outputId": "652974d5-0c18-4a84-93f4-289eb96a5fe7"
      },
      "source": [
        "# Line Plot\r\n",
        "table1.plot()\r\n",
        "plt.show()"
      ],
      "execution_count": 66,
      "outputs": [
        {
          "output_type": "display_data",
          "data": {
            "image/png": "[encoded data removed]",
            "text/plain": [
              "<Figure size 432x288 with 1 Axes>"
            ]
          },
          "metadata": {
            "tags": [],
            "needs_background": "light"
          }
        }
      ]
    },
    {
      "cell_type": "markdown",
      "metadata": {
        "id": "VmsByGOgAdRj"
      },
      "source": [
        "**line plot** is not appropriate in this case because it implies a change in time along the **x-axis**, whereas the **x-axis** actually represents **three** distinct categories."
      ]
    },
    {
      "cell_type": "code",
      "metadata": {
        "colab": {
          "base_uri": "https://localhost:8080/",
          "height": 313
        },
        "id": "PuVLlUZZ__Ac",
        "outputId": "86438d92-6008-4a7f-e1c1-a9c17b531469"
      },
      "source": [
        "# Creating a bar plot\r\n",
        "table.plot(kind='bar')\r\n",
        "plt.show()"
      ],
      "execution_count": 67,
      "outputs": [
        {
          "output_type": "display_data",
          "data": {
            "image/png": "[encoded data removed]",
            "text/plain": [
              "<Figure size 432x288 with 1 Axes>"
            ]
          },
          "metadata": {
            "tags": [],
            "needs_background": "light"
          }
        }
      ]
    },
    {
      "cell_type": "code",
      "metadata": {
        "colab": {
          "base_uri": "https://localhost:8080/",
          "height": 314
        },
        "id": "ajPyp-El_v3P",
        "outputId": "61682e5c-ee1e-4ee2-96c6-01cba1c7d571"
      },
      "source": [
        "# Creating a bar plot\r\n",
        "table1.plot(kind='bar')\r\n",
        "plt.show()"
      ],
      "execution_count": 68,
      "outputs": [
        {
          "output_type": "display_data",
          "data": {
            "image/png": "[encoded data removed]",
            "text/plain": [
              "<Figure size 432x288 with 1 Axes>"
            ]
          },
          "metadata": {
            "tags": [],
            "needs_background": "light"
          }
        }
      ]
    },
    {
      "cell_type": "code",
      "metadata": {
        "colab": {
          "base_uri": "https://localhost:8080/",
          "height": 313
        },
        "id": "OKMuhur1AIfC",
        "outputId": "2a863a39-89a2-4946-9a37-a47a29653c2d"
      },
      "source": [
        "# Stacking the bars for table1\r\n",
        "table1.plot(kind='bar', stacked=True)\r\n",
        "plt.show()"
      ],
      "execution_count": 69,
      "outputs": [
        {
          "output_type": "display_data",
          "data": {
            "image/png": "[encoded data removed]",
            "text/plain": [
              "<Figure size 432x288 with 1 Axes>"
            ]
          },
          "metadata": {
            "tags": [],
            "needs_background": "light"
          }
        }
      ]
    },
    {
      "cell_type": "markdown",
      "metadata": {
        "id": "YPfeJ26vHfZc"
      },
      "source": [
        "__Tallying violations by district__\r\n",
        "\r\n",
        "The state of Rhode Island is broken into **six police districts**, also known as zones. How do the zones compare in terms of what violations are caught by police?\r\n",
        "\r\n",
        "In this exercise, we'll create a **frequency table** to determine **how many violations of each type took place in each of the six zones**. Then, you'll filter the table to focus on the `\"K\" zones`, which you'll examine further in the next exercise."
      ]
    },
    {
      "cell_type": "markdown",
      "metadata": {
        "id": "kFB0e8kFIAiP"
      },
      "source": [
        "__Instructions:__\r\n",
        "\r\n",
        "- Create a frequency table from the `ri` DataFrame's `district` and `violation` columns using the `pd.crosstab()` function.\r\n",
        "\r\n",
        "- Save the frequency table as a new object, `all_zones`.\r\n",
        "\r\n",
        "- Select rows `'Zone K1'` through `'Zone K3'` from `all_zones` using the `.loc[]` accessor.\r\n",
        "Save the smaller table as a new object, `k_zones`."
      ]
    },
    {
      "cell_type": "code",
      "metadata": {
        "colab": {
          "base_uri": "https://localhost:8080/"
        },
        "id": "L3AdlopZHfC2",
        "outputId": "e1aca5a4-70f5-4e32-8fb2-caa884c98a47"
      },
      "source": [
        "# Create a frequency table of districts and violations\r\n",
        "print(pd.crosstab(ri.district, ri.violation))\r\n",
        "\r\n",
        "# Save the frequency table as 'all_zones'\r\n",
        "all_zones = pd.crosstab(ri.district, ri.violation)\r\n",
        "\r\n",
        "# Select rows 'Zone K1' through 'Zone K3'\r\n",
        "print(all_zones.loc['Zone K1':'Zone K3'])\r\n",
        "\r\n",
        "# Save the smaller table as 'k_zones'\r\n",
        "k_zones = all_zones.loc['Zone K1':'Zone K3']"
      ],
      "execution_count": 70,
      "outputs": [
        {
          "output_type": "stream",
          "text": [
            "violation  Equipment  Moving violation  ...  Seat belt  Speeding\n",
            "district                                ...                     \n",
            "Zone K1          672              1254  ...          0      5960\n",
            "Zone K2         2061              2962  ...        481     10448\n",
            "Zone K3         2302              2898  ...        638     12322\n",
            "Zone X1          296               671  ...         74      1119\n",
            "Zone X3         2049              3086  ...        820      8779\n",
            "Zone X4         3541              5353  ...        843      9795\n",
            "\n",
            "[6 rows x 6 columns]\n",
            "violation  Equipment  Moving violation  ...  Seat belt  Speeding\n",
            "district                                ...                     \n",
            "Zone K1          672              1254  ...          0      5960\n",
            "Zone K2         2061              2962  ...        481     10448\n",
            "Zone K3         2302              2898  ...        638     12322\n",
            "\n",
            "[3 rows x 6 columns]\n"
          ],
          "name": "stdout"
        }
      ]
    },
    {
      "cell_type": "markdown",
      "metadata": {
        "id": "wf2aZNC2LZXQ"
      },
      "source": [
        "## __24 Plotting violations by district__"
      ]
    },
    {
      "cell_type": "markdown",
      "metadata": {
        "id": "DPlqNxCzLele"
      },
      "source": [
        "we've created a frequency table focused on the `\"K\"` zones, **visualize** the data to help you compare what **violations** are being caught in each zone.\r\n",
        "\r\n",
        ">**First** we'll create a **bar plot**, which is an appropriate plot type since we're **comparing categorical data**. \r\n",
        "\r\n",
        ">Then we'll create a **stacked bar** plot in order to get a slightly different look at the data to find which plot is more insightful?"
      ]
    },
    {
      "cell_type": "code",
      "metadata": {
        "colab": {
          "base_uri": "https://localhost:8080/",
          "height": 418
        },
        "id": "lzL-MAvcLV8I",
        "outputId": "7ede6a5f-69fd-432c-bf60-af266b0952e3"
      },
      "source": [
        "# Creating a bar plot\r\n",
        "k_zones.plot(kind='bar', figsize=(12, 7))\r\n",
        "\r\n",
        "# Display the plot\r\n",
        "plt.show()"
      ],
      "execution_count": 71,
      "outputs": [
        {
          "output_type": "display_data",
          "data": {
            "image/png": "[encoded data removed]",
            "text/plain": [
              "<Figure size 864x504 with 1 Axes>"
            ]
          },
          "metadata": {
            "tags": [],
            "needs_background": "light"
          }
        }
      ]
    },
    {
      "cell_type": "code",
      "metadata": {
        "colab": {
          "base_uri": "https://localhost:8080/",
          "height": 418
        },
        "id": "2amLjDtWQQn-",
        "outputId": "c383e578-b8d9-4261-d570-c104ce75652c"
      },
      "source": [
        "# Create a stacked bar plot of 'k_zones'\r\n",
        "k_zones.plot(kind='bar', stacked=True, figsize=(12, 7))\r\n",
        "\r\n",
        "# Display the plot\r\n",
        "plt.show()"
      ],
      "execution_count": 72,
      "outputs": [
        {
          "output_type": "display_data",
          "data": {
            "image/png": "[encoded data removed]",
            "text/plain": [
              "<Figure size 864x504 with 1 Axes>"
            ]
          },
          "metadata": {
            "tags": [],
            "needs_background": "light"
          }
        }
      ]
    },
    {
      "cell_type": "markdown",
      "metadata": {
        "id": "KqdfCjmNQwto"
      },
      "source": [
        "The vast majority of traffic stops in **Zone K1** are for speeding, and **Zones K2** and **K3** are remarkably similar to one another in terms of violations."
      ]
    },
    {
      "cell_type": "markdown",
      "metadata": {
        "id": "EXsJHmccRseL"
      },
      "source": [
        "## __25 Converting stop durations to numbers__"
      ]
    },
    {
      "cell_type": "markdown",
      "metadata": {
        "id": "njsRiJ3uR1dQ"
      },
      "source": [
        "In the traffic stops dataset, the `stop_duration` column tells you approximately how long the driver was detained by the officer. Unfortunately, the durations are stored as strings, such as `'0-15 Min'`. How can you make this data easier to analyze?\r\n",
        "\r\n",
        "In this exercise, you'll convert the stop durations to integers. Because the precise durations are not available, you'll have to estimate the numbers using reasonable values:\r\n",
        "\r\n",
        "- Convert `'0-15 Min'` to `8`\r\n",
        "- Convert `'16-30 Min'` to `23`\r\n",
        "- Convert `'30+ Min'` to `45`"
      ]
    },
    {
      "cell_type": "markdown",
      "metadata": {
        "id": "EqfqwBJeRETV"
      },
      "source": [
        "$\\color{red}{\\textbf{Note:}}$\r\n",
        "\r\n",
        ">`astype()` method to convert strings to numbers or Booleans. \r\n",
        "\r\n",
        "However, `astype()` only works when pandas can infer how the conversion should be done, and that's not the case here."
      ]
    },
    {
      "cell_type": "code",
      "metadata": {
        "colab": {
          "base_uri": "https://localhost:8080/"
        },
        "id": "Onc9Gg13QQYN",
        "outputId": "d5fa29c7-60c6-4106-db89-3e957e0cae55"
      },
      "source": [
        "# Print the unique values in 'stop_duration'\r\n",
        "print(ri.stop_duration.unique())\r\n",
        "\r\n",
        "# Create a dictionary that maps strings to integers\r\n",
        "mapping = {'0-15 Min':8, \r\n",
        "            '16-30 Min':23,\r\n",
        "            '30+ Min':45\r\n",
        "            }\r\n",
        "\r\n",
        "# Convert the 'stop_duration' strings to integers using the 'mapping'\r\n",
        "ri['stop_minutes'] = ri.stop_duration.map(mapping)\r\n",
        "\r\n",
        "# Print the unique values in 'stop_minutes'\r\n",
        "print(ri.stop_minutes.unique())"
      ],
      "execution_count": 73,
      "outputs": [
        {
          "output_type": "stream",
          "text": [
            "['0-15 Min' '16-30 Min' '30+ Min']\n",
            "[ 8 23 45]\n"
          ],
          "name": "stdout"
        }
      ]
    },
    {
      "cell_type": "markdown",
      "metadata": {
        "id": "_pblZBsDXk3T"
      },
      "source": [
        "## __26 Plotting stop length__\r\n",
        "\r\n",
        ">If we were **stopped** for a particular violation, how long might we expect to be detained?\r\n",
        "\r\n",
        "In this exercise, we'll visualize the average length of time drivers are stopped for each type of violation. Rather than using the `violation` column in this exercise, you'll use `violation_raw` since it contains more detailed descriptions of the violations."
      ]
    },
    {
      "cell_type": "markdown",
      "metadata": {
        "id": "iJFAWPRtYesU"
      },
      "source": [
        "__Instructions__\r\n",
        "\r\n",
        "- For each value in the ri DataFrame's **violation_raw** column, calculate the mean number of **stop_minutes** that a driver is detained.\r\n",
        "\r\n",
        "- Save the resulting Series as a new object, **stop_length**.\r\n",
        "\r\n",
        "- Sort **stop_length** by its values, and then visualize it using a horizontal bar plot.\r\n",
        "\r\n",
        "- Display the plot."
      ]
    },
    {
      "cell_type": "code",
      "metadata": {
        "colab": {
          "base_uri": "https://localhost:8080/",
          "height": 513
        },
        "id": "i_wiFZpHXz8W",
        "outputId": "6369504f-06f8-4fc9-fb2b-e1bb33ec2742"
      },
      "source": [
        "# Calculate the mean 'stop_minutes' for each value in 'violation_raw'\r\n",
        "print(ri.groupby('violation_raw').stop_minutes.mean())\r\n",
        "\r\n",
        "# Save the resulting Series as 'stop_length'\r\n",
        "stop_length = ri.groupby('violation_raw').stop_minutes.mean()\r\n",
        "\r\n",
        "# Sort 'stop_length' by its values and create a horizontal bar plot\r\n",
        "stop_length.sort_values().plot(kind='barh')\r\n",
        "\r\n",
        "# Display the plot\r\n",
        "plt.show()"
      ],
      "execution_count": 74,
      "outputs": [
        {
          "output_type": "stream",
          "text": [
            "violation_raw\n",
            "APB                                 17.967033\n",
            "Call for Service                    22.124371\n",
            "Equipment/Inspection Violation      11.445655\n",
            "Motorist Assist/Courtesy            17.741463\n",
            "Other Traffic Violation             13.844490\n",
            "Registration Violation              13.736970\n",
            "Seatbelt Violation                   9.662815\n",
            "Special Detail/Directed Patrol      15.123632\n",
            "Speeding                            10.581562\n",
            "Suspicious Person                   14.910714\n",
            "Violation of City/Town Ordinance    13.254144\n",
            "Warrant                             24.055556\n",
            "Name: stop_minutes, dtype: float64\n"
          ],
          "name": "stdout"
        },
        {
          "output_type": "display_data",
          "data": {
            "image/png": "[encoded data removed]",
            "text/plain": [
              "<Figure size 432x288 with 1 Axes>"
            ]
          },
          "metadata": {
            "tags": [],
            "needs_background": "light"
          }
        }
      ]
    },
    {
      "cell_type": "markdown",
      "metadata": {
        "id": "_YBR3HN6SfT3"
      },
      "source": [
        "__Calculating the search rate__\r\n",
        "\r\n",
        "- **Visualizing** how often searches were done after each **violation** type"
      ]
    },
    {
      "cell_type": "code",
      "metadata": {
        "colab": {
          "base_uri": "https://localhost:8080/",
          "height": 264
        },
        "id": "ahnhBHFySyhx",
        "outputId": "f716e529-571b-4246-c2cc-e70921d10157"
      },
      "source": [
        "search_rate = ri.groupby('violation').search_conducted.mean()\r\n",
        "search_rate.sort_values().plot(kind='barh')\r\n",
        "plt.show()"
      ],
      "execution_count": 75,
      "outputs": [
        {
          "output_type": "display_data",
          "data": {
            "image/png": "[encoded data removed]",
            "text/plain": [
              "<Figure size 432x288 with 1 Axes>"
            ]
          },
          "metadata": {
            "tags": [],
            "needs_background": "light"
          }
        }
      ]
    },
    {
      "cell_type": "markdown",
      "metadata": {
        "id": "OYzAkLBeSmE6"
      },
      "source": [
        "--- \r\n",
        "<strong> \r\n",
        "    <h1 align='center'>Analyzing the effect of weather on policing(Part - 4)\r\n",
        "    </h1> \r\n",
        "</strong>\r\n",
        "\r\n",
        "---"
      ]
    },
    {
      "cell_type": "code",
      "metadata": {
        "colab": {
          "base_uri": "https://localhost:8080/"
        },
        "id": "Dn3KVkZhZQHv",
        "outputId": "6af888eb-36e8-4579-ee03-7f023c273337"
      },
      "source": [
        "ls"
      ],
      "execution_count": 76,
      "outputs": [
        {
          "output_type": "stream",
          "text": [
            "police.csv  weather.csv\n"
          ],
          "name": "stdout"
        }
      ]
    },
    {
      "cell_type": "markdown",
      "metadata": {
        "id": "fFVi_nS4UXkE"
      },
      "source": [
        "## $\\color{green}{\\textbf{Dataset_2_weather.csv:}}$ \r\n",
        "\r\n",
        "[National Centers for Environmental Information](https://www.ncei.noaa.gov/)\r\n",
        "\r\n",
        "<p align=''center>\r\n",
        "    <a href='#'><img src='https://www.climatecommunication.org/wp-content/uploads/2013/04/Screen-Shot-2016-01-29-at-10.52.21-AM.png'></a>\r\n",
        "</p>"
      ]
    },
    {
      "cell_type": "code",
      "metadata": {
        "colab": {
          "base_uri": "https://localhost:8080/",
          "height": 301
        },
        "id": "AQr2Pd_5bj5d",
        "outputId": "37d1d030-f7ee-454d-9278-e2f07004ebfb"
      },
      "source": [
        "# Import the pandas library as pd\r\n",
        "import pandas as pd\r\n",
        "\r\n",
        "# Read 'weather.csv' into a DataFrame named 'weather'\r\n",
        "weather = pd.read_csv('weather.csv')\r\n",
        "\r\n",
        "# Examine the head of the DataFrame\r\n",
        "weather.head()"
      ],
      "execution_count": 77,
      "outputs": [
        {
          "output_type": "execute_result",
          "data": {
            "text/html": [
              "<div>\n",
              "<style scoped>\n",
              "    .dataframe tbody tr th:only-of-type {\n",
              "        vertical-align: middle;\n",
              "    }\n",
              "\n",
              "    .dataframe tbody tr th {\n",
              "        vertical-align: top;\n",
              "    }\n",
              "\n",
              "    .dataframe thead th {\n",
              "        text-align: right;\n",
              "    }\n",
              "</style>\n",
              "<table border=\"1\" class=\"dataframe\">\n",
              "  <thead>\n",
              "    <tr style=\"text-align: right;\">\n",
              "      <th></th>\n",
              "      <th>STATION</th>\n",
              "      <th>DATE</th>\n",
              "      <th>TAVG</th>\n",
              "      <th>TMIN</th>\n",
              "      <th>TMAX</th>\n",
              "      <th>AWND</th>\n",
              "      <th>WSF2</th>\n",
              "      <th>WT01</th>\n",
              "      <th>WT02</th>\n",
              "      <th>WT03</th>\n",
              "      <th>WT04</th>\n",
              "      <th>WT05</th>\n",
              "      <th>WT06</th>\n",
              "      <th>WT07</th>\n",
              "      <th>WT08</th>\n",
              "      <th>WT09</th>\n",
              "      <th>WT10</th>\n",
              "      <th>WT11</th>\n",
              "      <th>WT13</th>\n",
              "      <th>WT14</th>\n",
              "      <th>WT15</th>\n",
              "      <th>WT16</th>\n",
              "      <th>WT17</th>\n",
              "      <th>WT18</th>\n",
              "      <th>WT19</th>\n",
              "      <th>WT21</th>\n",
              "      <th>WT22</th>\n",
              "    </tr>\n",
              "  </thead>\n",
              "  <tbody>\n",
              "    <tr>\n",
              "      <th>0</th>\n",
              "      <td>USW00014765</td>\n",
              "      <td>2005-01-01</td>\n",
              "      <td>44.0</td>\n",
              "      <td>35</td>\n",
              "      <td>53</td>\n",
              "      <td>8.95</td>\n",
              "      <td>25.1</td>\n",
              "      <td>1.0</td>\n",
              "      <td>NaN</td>\n",
              "      <td>NaN</td>\n",
              "      <td>NaN</td>\n",
              "      <td>NaN</td>\n",
              "      <td>NaN</td>\n",
              "      <td>NaN</td>\n",
              "      <td>NaN</td>\n",
              "      <td>NaN</td>\n",
              "      <td>NaN</td>\n",
              "      <td>NaN</td>\n",
              "      <td>1.0</td>\n",
              "      <td>NaN</td>\n",
              "      <td>NaN</td>\n",
              "      <td>NaN</td>\n",
              "      <td>NaN</td>\n",
              "      <td>NaN</td>\n",
              "      <td>NaN</td>\n",
              "      <td>NaN</td>\n",
              "      <td>NaN</td>\n",
              "    </tr>\n",
              "    <tr>\n",
              "      <th>1</th>\n",
              "      <td>USW00014765</td>\n",
              "      <td>2005-01-02</td>\n",
              "      <td>36.0</td>\n",
              "      <td>28</td>\n",
              "      <td>44</td>\n",
              "      <td>9.40</td>\n",
              "      <td>14.1</td>\n",
              "      <td>NaN</td>\n",
              "      <td>NaN</td>\n",
              "      <td>NaN</td>\n",
              "      <td>NaN</td>\n",
              "      <td>NaN</td>\n",
              "      <td>NaN</td>\n",
              "      <td>NaN</td>\n",
              "      <td>NaN</td>\n",
              "      <td>NaN</td>\n",
              "      <td>NaN</td>\n",
              "      <td>NaN</td>\n",
              "      <td>NaN</td>\n",
              "      <td>NaN</td>\n",
              "      <td>NaN</td>\n",
              "      <td>1.0</td>\n",
              "      <td>NaN</td>\n",
              "      <td>1.0</td>\n",
              "      <td>NaN</td>\n",
              "      <td>NaN</td>\n",
              "      <td>NaN</td>\n",
              "    </tr>\n",
              "    <tr>\n",
              "      <th>2</th>\n",
              "      <td>USW00014765</td>\n",
              "      <td>2005-01-03</td>\n",
              "      <td>49.0</td>\n",
              "      <td>44</td>\n",
              "      <td>53</td>\n",
              "      <td>6.93</td>\n",
              "      <td>17.0</td>\n",
              "      <td>1.0</td>\n",
              "      <td>NaN</td>\n",
              "      <td>NaN</td>\n",
              "      <td>NaN</td>\n",
              "      <td>NaN</td>\n",
              "      <td>NaN</td>\n",
              "      <td>NaN</td>\n",
              "      <td>NaN</td>\n",
              "      <td>NaN</td>\n",
              "      <td>NaN</td>\n",
              "      <td>NaN</td>\n",
              "      <td>1.0</td>\n",
              "      <td>NaN</td>\n",
              "      <td>NaN</td>\n",
              "      <td>1.0</td>\n",
              "      <td>NaN</td>\n",
              "      <td>NaN</td>\n",
              "      <td>NaN</td>\n",
              "      <td>NaN</td>\n",
              "      <td>NaN</td>\n",
              "    </tr>\n",
              "    <tr>\n",
              "      <th>3</th>\n",
              "      <td>USW00014765</td>\n",
              "      <td>2005-01-04</td>\n",
              "      <td>42.0</td>\n",
              "      <td>39</td>\n",
              "      <td>45</td>\n",
              "      <td>6.93</td>\n",
              "      <td>16.1</td>\n",
              "      <td>1.0</td>\n",
              "      <td>NaN</td>\n",
              "      <td>NaN</td>\n",
              "      <td>NaN</td>\n",
              "      <td>NaN</td>\n",
              "      <td>NaN</td>\n",
              "      <td>NaN</td>\n",
              "      <td>NaN</td>\n",
              "      <td>NaN</td>\n",
              "      <td>NaN</td>\n",
              "      <td>NaN</td>\n",
              "      <td>1.0</td>\n",
              "      <td>1.0</td>\n",
              "      <td>NaN</td>\n",
              "      <td>1.0</td>\n",
              "      <td>NaN</td>\n",
              "      <td>NaN</td>\n",
              "      <td>NaN</td>\n",
              "      <td>NaN</td>\n",
              "      <td>NaN</td>\n",
              "    </tr>\n",
              "    <tr>\n",
              "      <th>4</th>\n",
              "      <td>USW00014765</td>\n",
              "      <td>2005-01-05</td>\n",
              "      <td>36.0</td>\n",
              "      <td>28</td>\n",
              "      <td>43</td>\n",
              "      <td>7.83</td>\n",
              "      <td>17.0</td>\n",
              "      <td>1.0</td>\n",
              "      <td>NaN</td>\n",
              "      <td>NaN</td>\n",
              "      <td>NaN</td>\n",
              "      <td>NaN</td>\n",
              "      <td>NaN</td>\n",
              "      <td>NaN</td>\n",
              "      <td>NaN</td>\n",
              "      <td>NaN</td>\n",
              "      <td>NaN</td>\n",
              "      <td>NaN</td>\n",
              "      <td>1.0</td>\n",
              "      <td>NaN</td>\n",
              "      <td>NaN</td>\n",
              "      <td>1.0</td>\n",
              "      <td>NaN</td>\n",
              "      <td>1.0</td>\n",
              "      <td>NaN</td>\n",
              "      <td>NaN</td>\n",
              "      <td>NaN</td>\n",
              "    </tr>\n",
              "  </tbody>\n",
              "</table>\n",
              "</div>"
            ],
            "text/plain": [
              "       STATION        DATE  TAVG  TMIN  TMAX  ...  WT17  WT18  WT19  WT21  WT22\n",
              "0  USW00014765  2005-01-01  44.0    35    53  ...   NaN   NaN   NaN   NaN   NaN\n",
              "1  USW00014765  2005-01-02  36.0    28    44  ...   NaN   1.0   NaN   NaN   NaN\n",
              "2  USW00014765  2005-01-03  49.0    44    53  ...   NaN   NaN   NaN   NaN   NaN\n",
              "3  USW00014765  2005-01-04  42.0    39    45  ...   NaN   NaN   NaN   NaN   NaN\n",
              "4  USW00014765  2005-01-05  36.0    28    43  ...   NaN   1.0   NaN   NaN   NaN\n",
              "\n",
              "[5 rows x 27 columns]"
            ]
          },
          "metadata": {
            "tags": []
          },
          "execution_count": 77
        }
      ]
    },
    {
      "cell_type": "markdown",
      "metadata": {
        "id": "yuPeFo4yclcN"
      },
      "source": [
        "- __TAVG , TMIN , TMAX__ : Temperature\r\n",
        "- __AWND , WSF2 :__ Wind speed\r\n",
        "- __WT01 ... WT22 :__ Bad weather conditions"
      ]
    },
    {
      "cell_type": "markdown",
      "metadata": {
        "id": "XYefuouPd8OE"
      },
      "source": [
        "__The difference between isnull () and isna ()?__\r\n",
        "\r\n",
        "`.isnull()` and `isna()` are the same functions (an alias), so we can choose either one. `df.isnull().sum()` or `df.isna().sum()`.\r\n",
        "\r\n",
        "Finding which index (or row number) contains missing values can be done analogously to the previous example, simply by adding axis=1. "
      ]
    },
    {
      "cell_type": "code",
      "metadata": {
        "colab": {
          "base_uri": "https://localhost:8080/"
        },
        "id": "FH5DBx78dTbT",
        "outputId": "6f2ec38c-839e-4679-9edf-b9c9af26c38f"
      },
      "source": [
        "# Count the number of missing values in each column\r\n",
        "print(weather.isnull().sum())\r\n",
        "\r\n",
        "# Columns\r\n",
        "print(weather.columns)\r\n",
        "\r\n",
        "# Shape\r\n",
        "print(weather.shape)"
      ],
      "execution_count": 78,
      "outputs": [
        {
          "output_type": "stream",
          "text": [
            "STATION       0\n",
            "DATE          0\n",
            "TAVG       2800\n",
            "TMIN          0\n",
            "TMAX          0\n",
            "AWND          0\n",
            "WSF2          0\n",
            "WT01       2250\n",
            "WT02       3796\n",
            "WT03       3793\n",
            "WT04       3900\n",
            "WT05       3657\n",
            "WT06       3992\n",
            "WT07       3938\n",
            "WT08       3613\n",
            "WT09       3948\n",
            "WT10       4015\n",
            "WT11       4016\n",
            "WT13       2842\n",
            "WT14       3442\n",
            "WT15       4011\n",
            "WT16       2691\n",
            "WT17       4005\n",
            "WT18       3672\n",
            "WT19       4013\n",
            "WT21       3999\n",
            "WT22       3985\n",
            "dtype: int64\n",
            "Index(['STATION', 'DATE', 'TAVG', 'TMIN', 'TMAX', 'AWND', 'WSF2', 'WT01',\n",
            "       'WT02', 'WT03', 'WT04', 'WT05', 'WT06', 'WT07', 'WT08', 'WT09', 'WT10',\n",
            "       'WT11', 'WT13', 'WT14', 'WT15', 'WT16', 'WT17', 'WT18', 'WT19', 'WT21',\n",
            "       'WT22'],\n",
            "      dtype='object')\n",
            "(4017, 27)\n"
          ],
          "name": "stdout"
        }
      ]
    },
    {
      "cell_type": "markdown",
      "metadata": {
        "id": "rupzQ7G0bUjB"
      },
      "source": [
        "## __27 Plotting the temperature__"
      ]
    },
    {
      "cell_type": "code",
      "metadata": {
        "colab": {
          "base_uri": "https://localhost:8080/",
          "height": 480
        },
        "id": "yGgXdCZReei3",
        "outputId": "e39218bc-52c3-4b0a-8644-27c594d04f38"
      },
      "source": [
        "# Describe the temperature columns\r\n",
        "print(weather[['TMIN', 'TAVG', 'TMAX']].describe())\r\n",
        "\r\n",
        "# Create a box plot of the temperature columns\r\n",
        "weather[['TMIN', 'TAVG', 'TMAX']].plot(kind='box')\r\n",
        "\r\n",
        "# Display the plot\r\n",
        "plt.show()"
      ],
      "execution_count": 79,
      "outputs": [
        {
          "output_type": "stream",
          "text": [
            "              TMIN         TAVG         TMAX\n",
            "count  4017.000000  1217.000000  4017.000000\n",
            "mean     43.484441    52.493016    61.268608\n",
            "std      17.020298    17.830714    18.199517\n",
            "min      -5.000000     6.000000    15.000000\n",
            "25%      30.000000    39.000000    47.000000\n",
            "50%      44.000000    54.000000    62.000000\n",
            "75%      58.000000    68.000000    77.000000\n",
            "max      77.000000    86.000000   102.000000\n"
          ],
          "name": "stdout"
        },
        {
          "output_type": "stream",
          "text": [
            "/usr/local/lib/python3.6/dist-packages/numpy/core/_asarray.py:83: VisibleDeprecationWarning: Creating an ndarray from ragged nested sequences (which is a list-or-tuple of lists-or-tuples-or ndarrays with different lengths or shapes) is deprecated. If you meant to do this, you must specify 'dtype=object' when creating the ndarray\n",
            "  return array(a, dtype, copy=False, order=order)\n"
          ],
          "name": "stderr"
        },
        {
          "output_type": "display_data",
          "data": {
            "image/png": "[encoded data removed]",
            "text/plain": [
              "<Figure size 432x288 with 1 Axes>"
            ]
          },
          "metadata": {
            "tags": [],
            "needs_background": "light"
          }
        }
      ]
    },
    {
      "cell_type": "markdown",
      "metadata": {
        "id": "bUx9SRf4u3PC"
      },
      "source": [
        "__Examining the wind speed__\r\n"
      ]
    },
    {
      "cell_type": "code",
      "metadata": {
        "colab": {
          "base_uri": "https://localhost:8080/",
          "height": 713
        },
        "id": "04lDOfMRu8km",
        "outputId": "ffb1c490-cd4a-4750-cb36-5421b2cc7402"
      },
      "source": [
        "print(weather[['AWND', 'WSF2']].head())\r\n",
        "print(weather[['AWND', 'WSF2']].describe())\r\n",
        "\r\n",
        "# Creating a box plot\r\n",
        "weather[['AWND', 'WSF2']].plot(kind='box', figsize=(7, 7))\r\n",
        "plt.figure()\r\n",
        "plt.show()"
      ],
      "execution_count": 80,
      "outputs": [
        {
          "output_type": "stream",
          "text": [
            "   AWND  WSF2\n",
            "0  8.95  25.1\n",
            "1  9.40  14.1\n",
            "2  6.93  17.0\n",
            "3  6.93  16.1\n",
            "4  7.83  17.0\n",
            "              AWND         WSF2\n",
            "count  4017.000000  4017.000000\n",
            "mean      8.593707    19.274782\n",
            "std       3.364601     5.623866\n",
            "min       0.220000     4.900000\n",
            "25%       6.260000    15.000000\n",
            "50%       8.050000    17.900000\n",
            "75%      10.290000    21.900000\n",
            "max      26.840000    48.100000\n"
          ],
          "name": "stdout"
        },
        {
          "output_type": "display_data",
          "data": {
            "image/png": "[encoded data removed]",
            "text/plain": [
              "<Figure size 504x504 with 1 Axes>"
            ]
          },
          "metadata": {
            "tags": [],
            "needs_background": "light"
          }
        },
        {
          "output_type": "display_data",
          "data": {
            "text/plain": [
              "<Figure size 432x288 with 0 Axes>"
            ]
          },
          "metadata": {
            "tags": []
          }
        }
      ]
    },
    {
      "cell_type": "code",
      "metadata": {
        "colab": {
          "base_uri": "https://localhost:8080/",
          "height": 264
        },
        "id": "sopii5d9vPVe",
        "outputId": "c7445d3b-5c5f-4550-96ba-f8d475dfca8a"
      },
      "source": [
        "# Creating a histogram (1)\r\n",
        "weather['WDIFF'] = weather.WSF2 - weather.AWND\r\n",
        "weather.WDIFF.plot(kind='hist')\r\n",
        "plt.show()"
      ],
      "execution_count": 81,
      "outputs": [
        {
          "output_type": "display_data",
          "data": {
            "image/png": "[encoded data removed]",
            "text/plain": [
              "<Figure size 432x288 with 1 Axes>"
            ]
          },
          "metadata": {
            "tags": [],
            "needs_background": "light"
          }
        }
      ]
    },
    {
      "cell_type": "code",
      "metadata": {
        "colab": {
          "base_uri": "https://localhost:8080/",
          "height": 264
        },
        "id": "OitXVGPavVpL",
        "outputId": "99d8c5f4-abb5-4857-c36f-78edd2436afc"
      },
      "source": [
        "# Creating a histogram (2)\r\n",
        "weather.WDIFF.plot(kind='hist', bins=20)\r\n",
        "plt.show()"
      ],
      "execution_count": 82,
      "outputs": [
        {
          "output_type": "display_data",
          "data": {
            "image/png": "[encoded data removed]",
            "text/plain": [
              "<Figure size 432x288 with 1 Axes>"
            ]
          },
          "metadata": {
            "tags": [],
            "needs_background": "light"
          }
        }
      ]
    },
    {
      "cell_type": "markdown",
      "metadata": {
        "id": "c7n24Hldgefj"
      },
      "source": [
        "## __28 Plotting the temperature difference__\r\n",
        "\r\n",
        "\r\n"
      ]
    },
    {
      "cell_type": "code",
      "metadata": {
        "colab": {
          "base_uri": "https://localhost:8080/",
          "height": 424
        },
        "id": "OD9_kDmwgzs4",
        "outputId": "e34f3964-07ef-48cd-ef7e-05611c8a009c"
      },
      "source": [
        "# Create a 'TDIFF' column that represents temperature difference\r\n",
        "weather['TDIFF'] = weather.TMAX - weather.TMIN\r\n",
        "\r\n",
        "# Describe the 'TDIFF' column\r\n",
        "print(weather.TDIFF.describe())\r\n",
        "\r\n",
        "# Create a histogram with 20 bins to visualize 'TDIFF'\r\n",
        "weather.TDIFF.plot(kind='hist', bins=20)\r\n",
        "\r\n",
        "# Display the plot\r\n",
        "plt.show()"
      ],
      "execution_count": 83,
      "outputs": [
        {
          "output_type": "stream",
          "text": [
            "count    4017.000000\n",
            "mean       17.784167\n",
            "std         6.350720\n",
            "min         2.000000\n",
            "25%        14.000000\n",
            "50%        18.000000\n",
            "75%        22.000000\n",
            "max        43.000000\n",
            "Name: TDIFF, dtype: float64\n"
          ],
          "name": "stdout"
        },
        {
          "output_type": "display_data",
          "data": {
            "image/png": "[encoded data removed]",
            "text/plain": [
              "<Figure size 432x288 with 1 Axes>"
            ]
          },
          "metadata": {
            "tags": [],
            "needs_background": "light"
          }
        }
      ]
    },
    {
      "cell_type": "markdown",
      "metadata": {
        "id": "Q8Yst8LD0i70"
      },
      "source": [
        "## __29 Categorizing the weather__"
      ]
    },
    {
      "cell_type": "code",
      "metadata": {
        "colab": {
          "base_uri": "https://localhost:8080/"
        },
        "id": "K2fpgB5g0oLz",
        "outputId": "c7395789-71a9-4508-e99b-ddd341da1252"
      },
      "source": [
        "# Printing the shape and columns\r\n",
        "print(weather.shape)\r\n",
        "print(weather.columns)"
      ],
      "execution_count": 84,
      "outputs": [
        {
          "output_type": "stream",
          "text": [
            "(4017, 29)\n",
            "Index(['STATION', 'DATE', 'TAVG', 'TMIN', 'TMAX', 'AWND', 'WSF2', 'WT01',\n",
            "       'WT02', 'WT03', 'WT04', 'WT05', 'WT06', 'WT07', 'WT08', 'WT09', 'WT10',\n",
            "       'WT11', 'WT13', 'WT14', 'WT15', 'WT16', 'WT17', 'WT18', 'WT19', 'WT21',\n",
            "       'WT22', 'WDIFF', 'TDIFF'],\n",
            "      dtype='object')\n"
          ],
          "name": "stdout"
        }
      ]
    },
    {
      "cell_type": "code",
      "metadata": {
        "colab": {
          "base_uri": "https://localhost:8080/"
        },
        "id": "DCWvrBSM0x6X",
        "outputId": "113ec468-ec9c-4761-efe1-cd990be933d8"
      },
      "source": [
        "# Selecting a DataFrame slice\r\n",
        "temp = weather.loc[:, 'TAVG':'TMAX']\r\n",
        "print(temp.shape)\r\n",
        "print(temp.columns)"
      ],
      "execution_count": 85,
      "outputs": [
        {
          "output_type": "stream",
          "text": [
            "(4017, 3)\n",
            "Index(['TAVG', 'TMIN', 'TMAX'], dtype='object')\n"
          ],
          "name": "stdout"
        }
      ]
    },
    {
      "cell_type": "markdown",
      "metadata": {
        "id": "nftpCyPi1j1g"
      },
      "source": [
        "__Mapping one set of values to another__"
      ]
    },
    {
      "cell_type": "code",
      "metadata": {
        "colab": {
          "base_uri": "https://localhost:8080/"
        },
        "id": "ZwjuJNhB1urW",
        "outputId": "dd583d80-f9a5-4729-c0e4-7aa6506ac04b"
      },
      "source": [
        "print(ri.stop_duration.unique())\r\n",
        "\r\n",
        "mapping = {'0-15 Min':'short',\r\n",
        "           '16-30 Min':'medium',\r\n",
        "           '30+ Min':'long'\r\n",
        "           }\r\n",
        "\r\n",
        "ri['stop_length'] = ri.stop_duration.map(mapping)\r\n",
        "print(ri.stop_length.dtype)\r\n",
        "print(ri.stop_length.unique())"
      ],
      "execution_count": 86,
      "outputs": [
        {
          "output_type": "stream",
          "text": [
            "['0-15 Min' '16-30 Min' '30+ Min']\n",
            "object\n",
            "['short' 'medium' 'long']\n"
          ],
          "name": "stdout"
        }
      ]
    },
    {
      "cell_type": "markdown",
      "metadata": {
        "id": "W17TdQaS2NlO"
      },
      "source": [
        "- Category type stores the data more efficiently.\r\n",
        "- Allows you to specify a logical order for the categories."
      ]
    },
    {
      "cell_type": "code",
      "metadata": {
        "colab": {
          "base_uri": "https://localhost:8080/"
        },
        "id": "a48hzOr82NNe",
        "outputId": "87f72331-964c-483c-9706-c9991a1e6e24"
      },
      "source": [
        "ri.stop_length.memory_usage(deep=True)"
      ],
      "execution_count": 87,
      "outputs": [
        {
          "output_type": "execute_result",
          "data": {
            "text/plain": [
              "6068041"
            ]
          },
          "metadata": {
            "tags": []
          },
          "execution_count": 87
        }
      ]
    },
    {
      "cell_type": "markdown",
      "metadata": {
        "id": "CpthvkvR2pHS"
      },
      "source": [
        "`pandas.DataFrame.memory_usage` __function__\r\n",
        "\r\n",
        "Return the **memory usage** of each column in bytes.\r\n",
        "\r\n",
        "- The **memory usage** can optionally include the contribution of the **index** and **elements** of object dtype.\r\n",
        "\r\n",
        "- `deep` bool, __default False__\r\n",
        "If **True**, introspect the data deeply by interrogating object dtypes for system-level memory consumption, and include it in the returned values.\r\n"
      ]
    },
    {
      "cell_type": "markdown",
      "metadata": {
        "id": "r2kjqVO9H75Z"
      },
      "source": [
        "__Changing data type from object to category__"
      ]
    },
    {
      "cell_type": "code",
      "metadata": {
        "colab": {
          "base_uri": "https://localhost:8080/"
        },
        "id": "gUt9Dhwg1vtf",
        "outputId": "8c4d7c22-f7f1-4737-981b-0df4d5f18774"
      },
      "source": [
        "from pandas.api.types import CategoricalDtype \r\n",
        "\r\n",
        "# Changing data type from object to category\r\n",
        "cats = ['short', 'medium', 'long']\r\n",
        "\r\n",
        "cat_type = CategoricalDtype(categories=cats, ordered=True)\r\n",
        "\r\n",
        "ri['stop_length'] = ri['stop_length'].astype(cat_type)\r\n",
        "\r\n",
        "print(ri.stop_length.memory_usage(deep=True))"
      ],
      "execution_count": 88,
      "outputs": [
        {
          "output_type": "stream",
          "text": [
            "779090\n"
          ],
          "name": "stdout"
        }
      ]
    },
    {
      "cell_type": "code",
      "metadata": {
        "colab": {
          "base_uri": "https://localhost:8080/"
        },
        "id": "6rkIH6CN1vib",
        "outputId": "315d3b69-f0ff-4c43-afc3-042b710ccd31"
      },
      "source": [
        "# Using ordered categories\r\n",
        "print(ri.stop_length.value_counts())"
      ],
      "execution_count": 89,
      "outputs": [
        {
          "output_type": "stream",
          "text": [
            "short     69577\n",
            "medium    13740\n",
            "long       3219\n",
            "Name: stop_length, dtype: int64\n"
          ],
          "name": "stdout"
        }
      ]
    },
    {
      "cell_type": "code",
      "metadata": {
        "colab": {
          "base_uri": "https://localhost:8080/"
        },
        "id": "KorU45H51vR0",
        "outputId": "5085af25-92ec-4841-ef41-9b63c579959c"
      },
      "source": [
        "ri[ri.stop_length > 'short'].shape"
      ],
      "execution_count": 90,
      "outputs": [
        {
          "output_type": "execute_result",
          "data": {
            "text/plain": [
              "(16959, 17)"
            ]
          },
          "metadata": {
            "tags": []
          },
          "execution_count": 90
        }
      ]
    },
    {
      "cell_type": "code",
      "metadata": {
        "colab": {
          "base_uri": "https://localhost:8080/"
        },
        "id": "o9KmhR1R1vIF",
        "outputId": "0f9f0afa-3c72-4052-b049-804c88150b33"
      },
      "source": [
        "ri.groupby('stop_length').is_arrested.mean()"
      ],
      "execution_count": 91,
      "outputs": [
        {
          "output_type": "execute_result",
          "data": {
            "text/plain": [
              "stop_length\n",
              "short     0.013654\n",
              "medium    0.093595\n",
              "long      0.261572\n",
              "Name: is_arrested, dtype: float64"
            ]
          },
          "metadata": {
            "tags": []
          },
          "execution_count": 91
        }
      ]
    },
    {
      "cell_type": "markdown",
      "metadata": {
        "id": "p6qQnmuaLRCU"
      },
      "source": [
        "## __30 Counting bad weather conditions__"
      ]
    },
    {
      "cell_type": "markdown",
      "metadata": {
        "id": "8-6vm1_gLX34"
      },
      "source": [
        "The `weather` DataFrame contains 20 columns that start with `'WT'`, each of which represents a bad weather condition. For example:\r\n",
        "\r\n",
        "- `WT05` indicates \"Hail\"\r\n",
        "- `WT11` indicates \"High or damaging winds\"\r\n",
        "- `WT17` indicates \"Freezing rain\"\r\n",
        "\r\n",
        "For every row in the dataset, each `WT` column contains either a 1 (meaning the condition was present that day) or `NaN` (meaning the condition was not present).\r\n",
        "\r\n",
        "In this exercise, you'll quantify \"how bad\" the weather was each day by counting the number of `1` values in each row."
      ]
    },
    {
      "cell_type": "code",
      "metadata": {
        "colab": {
          "base_uri": "https://localhost:8080/",
          "height": 264
        },
        "id": "lejI37yLLszf",
        "outputId": "356f0ac6-6d63-4777-ec10-de419b87e42b"
      },
      "source": [
        "# Copy 'WT01' through 'WT22' to a new DataFrame\r\n",
        "WT = weather.loc[:, 'WT01':'WT22']\r\n",
        "\r\n",
        "# Calculate the sum of each row in 'WT'\r\n",
        "weather['bad_conditions'] = WT.sum(axis='columns')\r\n",
        "\r\n",
        "# Replace missing values in 'bad_conditions' with '0'\r\n",
        "weather['bad_conditions'] = weather.bad_conditions.fillna(0).astype('int')\r\n",
        "\r\n",
        "# Create a histogram to visualize 'bad_conditions'\r\n",
        "weather.bad_conditions.plot(kind='hist')\r\n",
        "\r\n",
        "# Display the plot\r\n",
        "plt.show()"
      ],
      "execution_count": 92,
      "outputs": [
        {
          "output_type": "display_data",
          "data": {
            "image/png": "[encoded data removed]",
            "text/plain": [
              "<Figure size 432x288 with 1 Axes>"
            ]
          },
          "metadata": {
            "tags": [],
            "needs_background": "light"
          }
        }
      ]
    },
    {
      "cell_type": "markdown",
      "metadata": {
        "id": "vKztKmgmM_B_"
      },
      "source": [
        "$\\color{red}{\\textbf{Interpretation:}}$\r\n",
        "\r\n",
        ">It looks like many days didn't have any bad weather conditions, and only a small portion of days had more than four bad weather conditions."
      ]
    },
    {
      "cell_type": "markdown",
      "metadata": {
        "id": "wqYd2z16NdPm"
      },
      "source": [
        "## __31 Rating the weather conditions__\r\n",
        "\r\n",
        "In the previous exercise, we have counted the number of bad weather conditions each day. In this exercise, we'll use the counts to create a rating system for the weather.\r\n",
        "\r\n",
        "The counts range from 0 to 9, and should be converted to ratings as follows:\r\n",
        "\r\n",
        "- Convert 0 to `'good'`\r\n",
        "- Convert 1 through 4 to `'bad'`\r\n",
        "- Convert 5 through 9 to `'worse'`\r\n"
      ]
    },
    {
      "cell_type": "code",
      "metadata": {
        "colab": {
          "base_uri": "https://localhost:8080/"
        },
        "id": "0BixQr8tNJRc",
        "outputId": "5b2e74d0-ec94-4617-8252-8c893fca5697"
      },
      "source": [
        "# Count the unique values in 'bad_conditions' and sort the index\r\n",
        "print(weather.bad_conditions.value_counts().sort_index())\r\n",
        "\r\n",
        "# Create a dictionary that maps integers to strings\r\n",
        "mapping = {0:'good',\r\n",
        "           1:'bad', 2:'bad', 3:'bad', 4:'bad', \r\n",
        "           5:'worse', 6:'worse', 7:'worse', 8:'worse', 9:'worse'}\r\n",
        "\r\n",
        "# Convert the 'bad_conditions' integers to strings using the 'mapping'\r\n",
        "weather['rating'] = weather.bad_conditions.map(mapping)\r\n",
        "\r\n",
        "# Count the unique values in 'rating'\r\n",
        "print(weather.rating.value_counts())"
      ],
      "execution_count": 93,
      "outputs": [
        {
          "output_type": "stream",
          "text": [
            "0    1749\n",
            "1     613\n",
            "2     367\n",
            "3     380\n",
            "4     476\n",
            "5     282\n",
            "6     101\n",
            "7      41\n",
            "8       4\n",
            "9       4\n",
            "Name: bad_conditions, dtype: int64\n",
            "bad      1836\n",
            "good     1749\n",
            "worse     432\n",
            "Name: rating, dtype: int64\n"
          ],
          "name": "stdout"
        }
      ]
    },
    {
      "cell_type": "markdown",
      "metadata": {
        "id": "jSIb09azQInI"
      },
      "source": [
        "This rating system should make the weather condition data easier to understand."
      ]
    },
    {
      "cell_type": "markdown",
      "metadata": {
        "id": "3_F7qfcMUybH"
      },
      "source": [
        "## __32 Changing the data type to category__"
      ]
    },
    {
      "cell_type": "markdown",
      "metadata": {
        "id": "cdmL9WlGU2eG"
      },
      "source": [
        "Since the `rating` column only has a few possible values, we have to change its **data type to category** in order to store the data more efficiently & then specify a logical order for the categories."
      ]
    },
    {
      "cell_type": "code",
      "metadata": {
        "colab": {
          "base_uri": "https://localhost:8080/"
        },
        "id": "b7SP8nfUWyDI",
        "outputId": "6c0309e3-e711-4aa3-91db-d2f98c6006b8"
      },
      "source": [
        "from pandas.api.types import CategoricalDtype \r\n",
        "\r\n",
        "# Create a list of weather ratings in logical order\r\n",
        "cats = ['good', 'bad', 'worse']\r\n",
        "\r\n",
        "# Change the data type of 'rating' to category\r\n",
        "cat_types= CategoricalDtype(categories=cats, ordered=True)\r\n",
        "weather['rating'] = weather['rating'].astype(cat_types)\r\n",
        "\r\n",
        "# Examine the head of 'rating'\r\n",
        "print(weather.rating.head())"
      ],
      "execution_count": 94,
      "outputs": [
        {
          "output_type": "stream",
          "text": [
            "0    bad\n",
            "1    bad\n",
            "2    bad\n",
            "3    bad\n",
            "4    bad\n",
            "Name: rating, dtype: category\n",
            "Categories (3, object): ['good' < 'bad' < 'worse']\n"
          ],
          "name": "stdout"
        }
      ]
    },
    {
      "cell_type": "code",
      "metadata": {
        "colab": {
          "base_uri": "https://localhost:8080/"
        },
        "id": "ZgevoYrxWx1o",
        "outputId": "ac5ebf28-e2f3-4cca-89ab-08741c158cfd"
      },
      "source": [
        "print(weather.rating.memory_usage(deep=True))"
      ],
      "execution_count": 95,
      "outputs": [
        {
          "output_type": "stream",
          "text": [
            "4408\n"
          ],
          "name": "stdout"
        }
      ]
    },
    {
      "cell_type": "code",
      "metadata": {
        "colab": {
          "base_uri": "https://localhost:8080/"
        },
        "id": "Nfml6itPWxrP",
        "outputId": "7cec131b-560c-466c-fa88-3e6b6a1e9a00"
      },
      "source": [
        "# Using ordered categories\r\n",
        "print(weather.rating.value_counts())"
      ],
      "execution_count": 96,
      "outputs": [
        {
          "output_type": "stream",
          "text": [
            "bad      1836\n",
            "good     1749\n",
            "worse     432\n",
            "Name: rating, dtype: int64\n"
          ],
          "name": "stdout"
        }
      ]
    },
    {
      "cell_type": "code",
      "metadata": {
        "colab": {
          "base_uri": "https://localhost:8080/",
          "height": 284
        },
        "id": "u37yBiz3dxOr",
        "outputId": "302a4519-78b0-47dd-e145-c5af7ec23031"
      },
      "source": [
        "weather.rating.value_counts().plot(kind='bar')\r\n",
        "plt.show()"
      ],
      "execution_count": 97,
      "outputs": [
        {
          "output_type": "display_data",
          "data": {
            "image/png": "[encoded data removed]",
            "text/plain": [
              "<Figure size 432x288 with 1 Axes>"
            ]
          },
          "metadata": {
            "tags": [],
            "needs_background": "light"
          }
        }
      ]
    },
    {
      "cell_type": "markdown",
      "metadata": {
        "id": "6p8Ql5wBeo5Z"
      },
      "source": [
        "## __33 Merging datasets(Preparing the DataFrames)__"
      ]
    },
    {
      "cell_type": "markdown",
      "metadata": {
        "id": "qblRSvcqxKVs"
      },
      "source": [
        "In this exercise, we'll prepare the traffic stop and weather rating DataFrames so that they're ready to be merged:\r\n",
        "\r\n",
        "1. With the `ri` DataFrame, you'll move the `stop_datetime` index to a column since the index will be lost during the merge.\r\n",
        "\r\n",
        "2. With the `weather` DataFrame, you'll select the `DATE` and `rating` columns and put them in a new DataFrame."
      ]
    },
    {
      "cell_type": "markdown",
      "metadata": {
        "id": "p6WNnvWAxx4j"
      },
      "source": [
        "__Instructions__\r\n",
        "\r\n",
        "- Reset the index of the ri DataFrame.\r\n",
        "\r\n",
        "- Examine the head of ri to verify that `stop_datetime` is now a DataFrame column, and the index is now the default integer index.\r\n",
        "\r\n",
        "- Create a new DataFrame named `weather_rating` that contains only the `DATE` and rating columns from the weather DataFrame.\r\n",
        "\r\n",
        "- Examine the head of `weather_rating` to verify that it contains the proper columns."
      ]
    },
    {
      "cell_type": "code",
      "metadata": {
        "colab": {
          "base_uri": "https://localhost:8080/"
        },
        "id": "zWwXX1XIeoce",
        "outputId": "21bc1b97-805d-4cf5-ce78-0f3cf6dc60fe"
      },
      "source": [
        "# Reset the index of 'ri'\r\n",
        "ri.reset_index(inplace=True)\r\n",
        "\r\n",
        "# Examine the head of 'ri'\r\n",
        "print(ri.head())\r\n",
        "\r\n",
        "# Create a DataFrame from the 'DATE' and 'rating' columns\r\n",
        "weather_rating = weather[['DATE','rating']]\r\n",
        "\r\n",
        "# Examine the head of 'weather_rating'\r\n",
        "print(weather_rating.head())"
      ],
      "execution_count": 98,
      "outputs": [
        {
          "output_type": "stream",
          "text": [
            "        stop_datetime   stop_date stop_time  ...  frisk stop_minutes stop_length\n",
            "0 2005-01-04 12:55:00  2005-01-04     12:55  ...  False            8       short\n",
            "1 2005-01-23 23:15:00  2005-01-23     23:15  ...  False            8       short\n",
            "2 2005-02-17 04:15:00  2005-02-17     04:15  ...  False            8       short\n",
            "3 2005-02-20 17:15:00  2005-02-20     17:15  ...  False           23      medium\n",
            "4 2005-02-24 01:20:00  2005-02-24     01:20  ...  False            8       short\n",
            "\n",
            "[5 rows x 18 columns]\n",
            "         DATE rating\n",
            "0  2005-01-01    bad\n",
            "1  2005-01-02    bad\n",
            "2  2005-01-03    bad\n",
            "3  2005-01-04    bad\n",
            "4  2005-01-05    bad\n"
          ],
          "name": "stdout"
        }
      ]
    },
    {
      "cell_type": "markdown",
      "metadata": {
        "id": "JRBivEKzy_Rq"
      },
      "source": [
        "The **ri** and **weather_rating** DataFrames are now ready to be **merged**."
      ]
    },
    {
      "cell_type": "markdown",
      "metadata": {
        "id": "qzBTqpDPzD8B"
      },
      "source": [
        "__Merging the DataFrames__\r\n",
        "\r\n",
        "In this exercise, we'll merge the `ri` and `weather_rating` DataFrames into a new DataFrame, ri_weather.\r\n",
        "\r\n",
        "The DataFrames will be joined using the `stop_date` column from `ri` and the `DATE` column from `weather_rating`. Thankfully the date formatting matches exactly, which is not always the case!\r\n",
        "\r\n",
        "Once the merge is complete, you'll set `stop_datetime` as the index, which is the column you saved in the previous exercise.\r\n"
      ]
    },
    {
      "cell_type": "code",
      "metadata": {
        "colab": {
          "base_uri": "https://localhost:8080/"
        },
        "id": "zpAIlPlCzCtn",
        "outputId": "631f50ad-63e5-4891-d19b-56ae1b5d7601"
      },
      "source": [
        "# Examine the shape of 'ri'\r\n",
        "print(ri.shape)\r\n",
        "\r\n",
        "# Merge 'ri' and 'weather_rating' using a left join\r\n",
        "ri_weather = pd.merge(left=ri, right=weather_rating, left_on='stop_date', right_on='DATE', how='left')\r\n",
        "\r\n",
        "# Examine the shape of 'ri_weather'\r\n",
        "print(ri_weather.shape)\r\n",
        "\r\n",
        "# Set 'stop_datetime' as the index of 'ri_weather'\r\n",
        "ri_weather.set_index('stop_datetime', inplace=True)"
      ],
      "execution_count": 99,
      "outputs": [
        {
          "output_type": "stream",
          "text": [
            "(86536, 18)\n",
            "(86536, 20)\n"
          ],
          "name": "stdout"
        }
      ]
    },
    {
      "cell_type": "markdown",
      "metadata": {
        "id": "po3El87MDNCJ"
      },
      "source": [
        "## __34 Does weather affect the arrest rate?__"
      ]
    },
    {
      "cell_type": "code",
      "metadata": {
        "colab": {
          "base_uri": "https://localhost:8080/"
        },
        "id": "FWNfy91nDTYm",
        "outputId": "d6fc9e92-9235-4ef8-85ce-737db600ed53"
      },
      "source": [
        "# Driver gender and vehicle searches\r\n",
        "print(ri.search_conducted.mean())\r\n",
        "print(ri.groupby('driver_gender').search_conducted.mean())"
      ],
      "execution_count": 100,
      "outputs": [
        {
          "output_type": "stream",
          "text": [
            "0.0382153092354627\n",
            "driver_gender\n",
            "F    0.019181\n",
            "M    0.045426\n",
            "Name: search_conducted, dtype: float64\n"
          ],
          "name": "stdout"
        }
      ]
    },
    {
      "cell_type": "code",
      "metadata": {
        "colab": {
          "base_uri": "https://localhost:8080/"
        },
        "id": "qizlJV_QDr4f",
        "outputId": "0b95d994-39cc-480f-9158-4ac8a7523e07"
      },
      "source": [
        "search_rate = ri.groupby(['violation','driver_gender']).search_conducted.mean()\r\n",
        "search_rate"
      ],
      "execution_count": 101,
      "outputs": [
        {
          "output_type": "execute_result",
          "data": {
            "text/plain": [
              "violation            driver_gender\n",
              "Equipment            F                0.039984\n",
              "                     M                0.071496\n",
              "Moving violation     F                0.039257\n",
              "                     M                0.061524\n",
              "Other                F                0.041018\n",
              "                     M                0.046191\n",
              "Registration/plates  F                0.054924\n",
              "                     M                0.108802\n",
              "Seat belt            F                0.017301\n",
              "                     M                0.035119\n",
              "Speeding             F                0.008309\n",
              "                     M                0.027885\n",
              "Name: search_conducted, dtype: float64"
            ]
          },
          "metadata": {
            "tags": []
          },
          "execution_count": 101
        }
      ]
    },
    {
      "cell_type": "code",
      "metadata": {
        "colab": {
          "base_uri": "https://localhost:8080/"
        },
        "id": "qkr_Or2FD7IZ",
        "outputId": "bf2a8a50-d246-4d99-c8f0-0e24353e0b23"
      },
      "source": [
        "print(type(search_rate))\r\n",
        "print(type(search_rate.index))"
      ],
      "execution_count": 102,
      "outputs": [
        {
          "output_type": "stream",
          "text": [
            "<class 'pandas.core.series.Series'>\n",
            "<class 'pandas.core.indexes.multi.MultiIndex'>\n"
          ],
          "name": "stdout"
        }
      ]
    },
    {
      "cell_type": "code",
      "metadata": {
        "colab": {
          "base_uri": "https://localhost:8080/"
        },
        "id": "Yz_sKlpDD6-l",
        "outputId": "e8811922-a6a6-4231-fee2-dd3be446f8de"
      },
      "source": [
        "search_rate.loc['Equipment']"
      ],
      "execution_count": 103,
      "outputs": [
        {
          "output_type": "execute_result",
          "data": {
            "text/plain": [
              "driver_gender\n",
              "F    0.039984\n",
              "M    0.071496\n",
              "Name: search_conducted, dtype: float64"
            ]
          },
          "metadata": {
            "tags": []
          },
          "execution_count": 103
        }
      ]
    },
    {
      "cell_type": "code",
      "metadata": {
        "colab": {
          "base_uri": "https://localhost:8080/"
        },
        "id": "irV1ZvPwD60u",
        "outputId": "3679ee53-a5c4-4735-8b45-632e787c15f0"
      },
      "source": [
        "search_rate.loc['Equipment', 'M']"
      ],
      "execution_count": 104,
      "outputs": [
        {
          "output_type": "execute_result",
          "data": {
            "text/plain": [
              "0.07149643705463182"
            ]
          },
          "metadata": {
            "tags": []
          },
          "execution_count": 104
        }
      ]
    },
    {
      "cell_type": "code",
      "metadata": {
        "colab": {
          "base_uri": "https://localhost:8080/",
          "height": 257
        },
        "id": "tJ3gT-WsEW-y",
        "outputId": "498c82ef-a009-494b-d90e-50eac39ab242"
      },
      "source": [
        "search_rate.unstack()"
      ],
      "execution_count": 105,
      "outputs": [
        {
          "output_type": "execute_result",
          "data": {
            "text/html": [
              "<div>\n",
              "<style scoped>\n",
              "    .dataframe tbody tr th:only-of-type {\n",
              "        vertical-align: middle;\n",
              "    }\n",
              "\n",
              "    .dataframe tbody tr th {\n",
              "        vertical-align: top;\n",
              "    }\n",
              "\n",
              "    .dataframe thead th {\n",
              "        text-align: right;\n",
              "    }\n",
              "</style>\n",
              "<table border=\"1\" class=\"dataframe\">\n",
              "  <thead>\n",
              "    <tr style=\"text-align: right;\">\n",
              "      <th>driver_gender</th>\n",
              "      <th>F</th>\n",
              "      <th>M</th>\n",
              "    </tr>\n",
              "    <tr>\n",
              "      <th>violation</th>\n",
              "      <th></th>\n",
              "      <th></th>\n",
              "    </tr>\n",
              "  </thead>\n",
              "  <tbody>\n",
              "    <tr>\n",
              "      <th>Equipment</th>\n",
              "      <td>0.039984</td>\n",
              "      <td>0.071496</td>\n",
              "    </tr>\n",
              "    <tr>\n",
              "      <th>Moving violation</th>\n",
              "      <td>0.039257</td>\n",
              "      <td>0.061524</td>\n",
              "    </tr>\n",
              "    <tr>\n",
              "      <th>Other</th>\n",
              "      <td>0.041018</td>\n",
              "      <td>0.046191</td>\n",
              "    </tr>\n",
              "    <tr>\n",
              "      <th>Registration/plates</th>\n",
              "      <td>0.054924</td>\n",
              "      <td>0.108802</td>\n",
              "    </tr>\n",
              "    <tr>\n",
              "      <th>Seat belt</th>\n",
              "      <td>0.017301</td>\n",
              "      <td>0.035119</td>\n",
              "    </tr>\n",
              "    <tr>\n",
              "      <th>Speeding</th>\n",
              "      <td>0.008309</td>\n",
              "      <td>0.027885</td>\n",
              "    </tr>\n",
              "  </tbody>\n",
              "</table>\n",
              "</div>"
            ],
            "text/plain": [
              "driver_gender               F         M\n",
              "violation                              \n",
              "Equipment            0.039984  0.071496\n",
              "Moving violation     0.039257  0.061524\n",
              "Other                0.041018  0.046191\n",
              "Registration/plates  0.054924  0.108802\n",
              "Seat belt            0.017301  0.035119\n",
              "Speeding             0.008309  0.027885"
            ]
          },
          "metadata": {
            "tags": []
          },
          "execution_count": 105
        }
      ]
    },
    {
      "cell_type": "code",
      "metadata": {
        "colab": {
          "base_uri": "https://localhost:8080/"
        },
        "id": "uzmObEzIEZ4m",
        "outputId": "fa0c6b4c-57df-43cd-c069-3466d10e34e6"
      },
      "source": [
        "type(search_rate.unstack())"
      ],
      "execution_count": 106,
      "outputs": [
        {
          "output_type": "execute_result",
          "data": {
            "text/plain": [
              "pandas.core.frame.DataFrame"
            ]
          },
          "metadata": {
            "tags": []
          },
          "execution_count": 106
        }
      ]
    },
    {
      "cell_type": "markdown",
      "metadata": {
        "id": "juySyk4qEhYy"
      },
      "source": [
        "__Converting a multi-indexed Series to a DataFrame__"
      ]
    },
    {
      "cell_type": "code",
      "metadata": {
        "colab": {
          "base_uri": "https://localhost:8080/",
          "height": 257
        },
        "id": "xhnMhz4dEe9c",
        "outputId": "96800221-f6f5-4e85-d6c0-a5c2722d88a4"
      },
      "source": [
        "ri.pivot_table(index='violation',\r\n",
        "               columns='driver_gender',\r\n",
        "               values='search_conducted')"
      ],
      "execution_count": 107,
      "outputs": [
        {
          "output_type": "execute_result",
          "data": {
            "text/html": [
              "<div>\n",
              "<style scoped>\n",
              "    .dataframe tbody tr th:only-of-type {\n",
              "        vertical-align: middle;\n",
              "    }\n",
              "\n",
              "    .dataframe tbody tr th {\n",
              "        vertical-align: top;\n",
              "    }\n",
              "\n",
              "    .dataframe thead th {\n",
              "        text-align: right;\n",
              "    }\n",
              "</style>\n",
              "<table border=\"1\" class=\"dataframe\">\n",
              "  <thead>\n",
              "    <tr style=\"text-align: right;\">\n",
              "      <th>driver_gender</th>\n",
              "      <th>F</th>\n",
              "      <th>M</th>\n",
              "    </tr>\n",
              "    <tr>\n",
              "      <th>violation</th>\n",
              "      <th></th>\n",
              "      <th></th>\n",
              "    </tr>\n",
              "  </thead>\n",
              "  <tbody>\n",
              "    <tr>\n",
              "      <th>Equipment</th>\n",
              "      <td>0.039984</td>\n",
              "      <td>0.071496</td>\n",
              "    </tr>\n",
              "    <tr>\n",
              "      <th>Moving violation</th>\n",
              "      <td>0.039257</td>\n",
              "      <td>0.061524</td>\n",
              "    </tr>\n",
              "    <tr>\n",
              "      <th>Other</th>\n",
              "      <td>0.041018</td>\n",
              "      <td>0.046191</td>\n",
              "    </tr>\n",
              "    <tr>\n",
              "      <th>Registration/plates</th>\n",
              "      <td>0.054924</td>\n",
              "      <td>0.108802</td>\n",
              "    </tr>\n",
              "    <tr>\n",
              "      <th>Seat belt</th>\n",
              "      <td>0.017301</td>\n",
              "      <td>0.035119</td>\n",
              "    </tr>\n",
              "    <tr>\n",
              "      <th>Speeding</th>\n",
              "      <td>0.008309</td>\n",
              "      <td>0.027885</td>\n",
              "    </tr>\n",
              "  </tbody>\n",
              "</table>\n",
              "</div>"
            ],
            "text/plain": [
              "driver_gender               F         M\n",
              "violation                              \n",
              "Equipment            0.039984  0.071496\n",
              "Moving violation     0.039257  0.061524\n",
              "Other                0.041018  0.046191\n",
              "Registration/plates  0.054924  0.108802\n",
              "Seat belt            0.017301  0.035119\n",
              "Speeding             0.008309  0.027885"
            ]
          },
          "metadata": {
            "tags": []
          },
          "execution_count": 107
        }
      ]
    },
    {
      "cell_type": "markdown",
      "metadata": {
        "id": "b0aMp6JGE2cJ"
      },
      "source": [
        "### __Comparing arrest rates by weather rating__"
      ]
    },
    {
      "cell_type": "markdown",
      "metadata": {
        "id": "WZDQug7UFA7v"
      },
      "source": [
        "Do police officers arrest drivers more often when the weather is bad? Find out below!\r\n",
        "\r\n",
        "- First, you'll calculate the overall arrest rate.\r\n",
        "\r\n",
        "- Then, you'll calculate the arrest rate for each of the weather ratings you previously assigned.\r\n",
        "\r\n",
        "- Finally, you'll add violation type as a second factor in the analysis, to see if that accounts for any differences in the arrest rate.\r\n",
        "\r\n",
        "Since you previously defined a logical order for the weather categories, `good < bad < worse`, they will be sorted that way in the results."
      ]
    },
    {
      "cell_type": "markdown",
      "metadata": {
        "id": "doVSRmg0RjV8"
      },
      "source": [
        "__Calculate the overall arrest rate by taking the mean of the `is_arrested` Series__"
      ]
    },
    {
      "cell_type": "code",
      "metadata": {
        "colab": {
          "base_uri": "https://localhost:8080/"
        },
        "id": "jmbLG4X_E9ZT",
        "outputId": "b512fd9e-6ad3-400d-bf34-8122ca37b842"
      },
      "source": [
        "# Calculate the overall arrest rate\r\n",
        "print(ri_weather.is_arrested.mean())"
      ],
      "execution_count": 108,
      "outputs": [
        {
          "output_type": "stream",
          "text": [
            "0.0355690117407784\n"
          ],
          "name": "stdout"
        }
      ]
    },
    {
      "cell_type": "markdown",
      "metadata": {
        "id": "TglT9XuuRppE"
      },
      "source": [
        "__Calculate the arrest rate for each weather `rating` using a `.groupby()`.__"
      ]
    },
    {
      "cell_type": "code",
      "metadata": {
        "colab": {
          "base_uri": "https://localhost:8080/"
        },
        "id": "MrwoHFt6Rv0I",
        "outputId": "27b304f1-24bf-4ef9-9ab2-f6bcb9ba7bf6"
      },
      "source": [
        "# Calculate the arrest rate for each 'rating'\r\n",
        "print(ri_weather.groupby('rating').is_arrested.mean())"
      ],
      "execution_count": 109,
      "outputs": [
        {
          "output_type": "stream",
          "text": [
            "rating\n",
            "good     0.033715\n",
            "bad      0.036261\n",
            "worse    0.041667\n",
            "Name: is_arrested, dtype: float64\n"
          ],
          "name": "stdout"
        }
      ]
    },
    {
      "cell_type": "markdown",
      "metadata": {
        "id": "Ea7WkCNpR1_2"
      },
      "source": [
        "__Calculate the arrest rate for each combination of `violation` and `rating`. How do the arrest rates differ by group?__"
      ]
    },
    {
      "cell_type": "code",
      "metadata": {
        "colab": {
          "base_uri": "https://localhost:8080/"
        },
        "id": "668zbIVrR-0j",
        "outputId": "7e14147c-55f2-45c6-e4f4-4a1572657bb7"
      },
      "source": [
        "# Calculate the arrest rate for each 'violation' and 'rating'\r\n",
        "print(ri_weather.groupby(['violation', 'rating']).is_arrested.mean())"
      ],
      "execution_count": 110,
      "outputs": [
        {
          "output_type": "stream",
          "text": [
            "violation            rating\n",
            "Equipment            good      0.059007\n",
            "                     bad       0.066311\n",
            "                     worse     0.097357\n",
            "Moving violation     good      0.056227\n",
            "                     bad       0.058050\n",
            "                     worse     0.065860\n",
            "Other                good      0.076966\n",
            "                     bad       0.087443\n",
            "                     worse     0.062893\n",
            "Registration/plates  good      0.081574\n",
            "                     bad       0.098160\n",
            "                     worse     0.115625\n",
            "Seat belt            good      0.028587\n",
            "                     bad       0.022493\n",
            "                     worse     0.000000\n",
            "Speeding             good      0.013405\n",
            "                     bad       0.013314\n",
            "                     worse     0.016886\n",
            "Name: is_arrested, dtype: float64\n"
          ],
          "name": "stdout"
        }
      ]
    },
    {
      "cell_type": "markdown",
      "metadata": {
        "id": "ou4Md-WnSbYO"
      },
      "source": [
        "$\\color{red}{\\textbf{Interpretation:}}$\r\n",
        "\r\n",
        ">The arrest rate **increases as the weather gets worse**, and that trend persists across many of the violation types. This doesn't prove a causal link, but it's quite an interesting result"
      ]
    },
    {
      "cell_type": "markdown",
      "metadata": {
        "id": "03PvFlbYURVu"
      },
      "source": [
        "## __35 Selecting from a multi-indexed Series__\r\n",
        "\r\n",
        "The output of a single `.groupby()` operation on multiple columns is a Series with a MultiIndex. Working with this type of object is similar to working with a DataFrame:\r\n",
        "\r\n",
        "- The outer index level is like the DataFrame rows.\r\n",
        "- The inner index level is like the DataFrame columns.\r\n",
        "\r\n",
        "In this exercise, you'll practice accessing data from a multi-indexed Series using the `.loc[]` accessor."
      ]
    },
    {
      "cell_type": "code",
      "metadata": {
        "colab": {
          "base_uri": "https://localhost:8080/"
        },
        "id": "fccDnaTwUqZe",
        "outputId": "ba76f3a5-8277-4f6b-e04b-ee3f5689ae07"
      },
      "source": [
        "# Save the output of the groupby operation from the last exercise\r\n",
        "arrest_rate = ri_weather.groupby(['violation', 'rating']).is_arrested.mean()\r\n",
        "\r\n",
        "# Print the 'arrest_rate' Series\r\n",
        "print(arrest_rate)\r\n",
        "\r\n",
        "# Print the arrest rate for moving violations in bad weather\r\n",
        "print(arrest_rate.loc['Moving violation', 'bad'])\r\n",
        "\r\n",
        "# Print the arrest rates for speeding violations in all three weather conditions\r\n",
        "print(arrest_rate.loc['Speeding'])"
      ],
      "execution_count": 111,
      "outputs": [
        {
          "output_type": "stream",
          "text": [
            "violation            rating\n",
            "Equipment            good      0.059007\n",
            "                     bad       0.066311\n",
            "                     worse     0.097357\n",
            "Moving violation     good      0.056227\n",
            "                     bad       0.058050\n",
            "                     worse     0.065860\n",
            "Other                good      0.076966\n",
            "                     bad       0.087443\n",
            "                     worse     0.062893\n",
            "Registration/plates  good      0.081574\n",
            "                     bad       0.098160\n",
            "                     worse     0.115625\n",
            "Seat belt            good      0.028587\n",
            "                     bad       0.022493\n",
            "                     worse     0.000000\n",
            "Speeding             good      0.013405\n",
            "                     bad       0.013314\n",
            "                     worse     0.016886\n",
            "Name: is_arrested, dtype: float64\n",
            "0.05804964058049641\n",
            "rating\n",
            "good     0.013405\n",
            "bad      0.013314\n",
            "worse    0.016886\n",
            "Name: is_arrested, dtype: float64\n"
          ],
          "name": "stdout"
        }
      ]
    },
    {
      "cell_type": "markdown",
      "metadata": {
        "id": "TkuDFPBXVIfr"
      },
      "source": [
        "## __36 Reshaping the arrest rate data__\r\n",
        "\r\n",
        "In this exercise, we'll the `arrest_rate` Series into a DataFrame. This is a useful step when working with any **multi-indexed Series**, since it enables us to access the *full range of DataFrame methods*.\r\n",
        "\r\n",
        "Then, we'll create the exact same DataFrame using a pivot table. This is a great example of how pandas often gives you more than one way to reach the same result!"
      ]
    },
    {
      "cell_type": "code",
      "metadata": {
        "colab": {
          "base_uri": "https://localhost:8080/"
        },
        "id": "bNME3Pp7VmUh",
        "outputId": "48469472-05a2-4bfa-e6df-42432e7b187b"
      },
      "source": [
        "# Unstack the 'arrest_rate' Series into a DataFrame\r\n",
        "print(arrest_rate.unstack())\r\n",
        "\r\n",
        "# Create the same DataFrame using a pivot table\r\n",
        "print(ri_weather.pivot_table(index='violation', \r\n",
        "                             columns='rating', \r\n",
        "                             values='is_arrested'))"
      ],
      "execution_count": 112,
      "outputs": [
        {
          "output_type": "stream",
          "text": [
            "rating                   good       bad     worse\n",
            "violation                                        \n",
            "Equipment            0.059007  0.066311  0.097357\n",
            "Moving violation     0.056227  0.058050  0.065860\n",
            "Other                0.076966  0.087443  0.062893\n",
            "Registration/plates  0.081574  0.098160  0.115625\n",
            "Seat belt            0.028587  0.022493  0.000000\n",
            "Speeding             0.013405  0.013314  0.016886\n",
            "rating                   good       bad     worse\n",
            "violation                                        \n",
            "Equipment            0.059007  0.066311  0.097357\n",
            "Moving violation     0.056227  0.058050  0.065860\n",
            "Other                0.076966  0.087443  0.062893\n",
            "Registration/plates  0.081574  0.098160  0.115625\n",
            "Seat belt            0.028587  0.022493  0.000000\n",
            "Speeding             0.013405  0.013314  0.016886\n"
          ],
          "name": "stdout"
        }
      ]
    },
    {
      "cell_type": "markdown",
      "metadata": {
        "id": "ABAJvVhWWd6E"
      },
      "source": [
        "---"
      ]
    },
    {
      "cell_type": "markdown",
      "metadata": {
        "id": "ZDxEjL_fNgvd"
      },
      "source": [
        "<p align='center'> \r\n",
        "    <a href=\"https://twitter.com/F4izy\"> \r\n",
        "        <img src=\"https://th.bing.com/th/id/OIP.FCKMemzqNplY37Jwi0Yk3AHaGl?w=233&h=207&c=7&o=5&pid=1.7\" width=50px \r\n",
        "            height=50px> \r\n",
        "    </a> \r\n",
        "    <a href=\"https://www.linkedin.com/in/mohd-faizy/\"> \r\n",
        "        <img src='https://th.bing.com/th/id/OIP.idrBN-LfvMIZl370Vb65SgHaHa?pid=Api&rs=1' width=50px height=50px> \r\n",
        "    </a> \r\n",
        "</p>"
      ]
    },
    {
      "cell_type": "markdown",
      "metadata": {
        "id": "QQjwyHTeWjt4"
      },
      "source": [
        "---"
      ]
    }
  ]
}