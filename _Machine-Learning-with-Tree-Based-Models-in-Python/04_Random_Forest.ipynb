{
  "nbformat": 4,
  "nbformat_minor": 0,
  "metadata": {
    "colab": {
      "name": "Random-Forest.ipynb",
      "provenance": [],
      "toc_visible": true,
      "authorship_tag": "ABX9TyN1CfBOyWL21SZ+bsvZOdNZ",
      "include_colab_link": true
    },
    "kernelspec": {
      "name": "python3",
      "display_name": "Python 3"
    }
  },
  "cells": [
    {
      "cell_type": "markdown",
      "metadata": {
        "id": "view-in-github",
        "colab_type": "text"
      },
      "source": [
        "<a href=\"https://colab.research.google.com/github/mohd-faizy/CAREER-TRACK-Data-Scientist-with-Python/blob/main/Random_Forest.ipynb\" target=\"_parent\"><img src=\"https://colab.research.google.com/assets/colab-badge.svg\" alt=\"Open In Colab\"/></a>"
      ]
    },
    {
      "cell_type": "markdown",
      "metadata": {
        "id": "YPlOZui7b-VP"
      },
      "source": [
        "### **Random Forest Scikit-Learn API**\r\n",
        "\r\n"
      ]
    },
    {
      "cell_type": "code",
      "metadata": {
        "colab": {
          "base_uri": "https://localhost:8080/"
        },
        "id": "Q22bK3qccAVJ",
        "outputId": "bce2c8e2-9a98-43b8-8a71-770ebd579e85"
      },
      "source": [
        "# check scikit-learn version\r\n",
        "import sklearn\r\n",
        "print(sklearn.__version__)"
      ],
      "execution_count": 12,
      "outputs": [
        {
          "output_type": "stream",
          "text": [
            "0.22.2.post1\n"
          ],
          "name": "stdout"
        }
      ]
    },
    {
      "cell_type": "markdown",
      "metadata": {
        "id": "CrIdiZ5McMRn"
      },
      "source": [
        "# **Random Forest for Classification**"
      ]
    },
    {
      "cell_type": "code",
      "metadata": {
        "colab": {
          "base_uri": "https://localhost:8080/"
        },
        "id": "XRur7P0icRWz",
        "outputId": "56cd19ce-42e6-4ff5-f5c6-efe7147d42d3"
      },
      "source": [
        "# test classification dataset\r\n",
        "from sklearn.datasets import make_classification\r\n",
        "\r\n",
        "# define dataset\r\n",
        "X, y = make_classification(n_samples=1000, n_features=20, n_informative=15, n_redundant=5, random_state=3)\r\n",
        "\r\n",
        "# summarize the dataset\r\n",
        "print(X.shape, y.shape)"
      ],
      "execution_count": 13,
      "outputs": [
        {
          "output_type": "stream",
          "text": [
            "(1000, 20) (1000,)\n"
          ],
          "name": "stdout"
        }
      ]
    },
    {
      "cell_type": "markdown",
      "metadata": {
        "id": "sETzOKvtcfGp"
      },
      "source": [
        "Next, we can evaluate a random forest algorithm on this dataset.\r\n",
        "\r\n",
        "We will evaluate the model using repeated stratified k-fold cross-validation, with three repeats and 10 folds. We will report the mean and standard deviation of the accuracy of the model across all repeats and folds."
      ]
    },
    {
      "cell_type": "code",
      "metadata": {
        "colab": {
          "base_uri": "https://localhost:8080/"
        },
        "id": "W5sPVw8GcZJv",
        "outputId": "b2d8b65d-cb58-4758-e948-75f93cfc377a"
      },
      "source": [
        "import numpy as np\r\n",
        "# evaluate random forest algorithm for classification\r\n",
        "from sklearn.datasets import make_classification\r\n",
        "from sklearn.model_selection import cross_val_score\r\n",
        "from sklearn.model_selection import RepeatedStratifiedKFold\r\n",
        "from sklearn.ensemble import RandomForestClassifier\r\n",
        "\r\n",
        "# define dataset\r\n",
        "X, y = make_classification(n_samples=1000, \r\n",
        "                           n_features=20, \r\n",
        "                           n_informative=15,\r\n",
        "                           n_redundant=5,\r\n",
        "                           random_state=3)\r\n",
        "\r\n",
        "# define the model\r\n",
        "model = RandomForestClassifier()\r\n",
        "\r\n",
        "# evaluate the model\r\n",
        "cv = RepeatedStratifiedKFold(n_splits=10,\r\n",
        "                             n_repeats=3,\r\n",
        "                             random_state=1)\r\n",
        "\r\n",
        "n_scores = cross_val_score(model, X, y,\r\n",
        "                           scoring='accuracy',\r\n",
        "                           cv=cv, n_jobs=-1,\r\n",
        "                           error_score='raise')\r\n",
        "\r\n",
        "# report performance\r\n",
        "print('Accuracy: %.3f (%.3f)' % (np.mean(n_scores), np.std(n_scores)))"
      ],
      "execution_count": 14,
      "outputs": [
        {
          "output_type": "stream",
          "text": [
            "Accuracy: 0.907 (0.028)\n"
          ],
          "name": "stdout"
        }
      ]
    },
    {
      "cell_type": "markdown",
      "metadata": {
        "id": "cPkSmqjrdygN"
      },
      "source": [
        "The example below demonstrates this on our binary classification dataset."
      ]
    },
    {
      "cell_type": "code",
      "metadata": {
        "colab": {
          "base_uri": "https://localhost:8080/"
        },
        "id": "in7CGDFwdTSr",
        "outputId": "9f3ef166-c501-4eab-b2a8-a53b4e8f8075"
      },
      "source": [
        "# make predictions using random forest for classification\r\n",
        "from sklearn.datasets import make_classification\r\n",
        "from sklearn.ensemble import RandomForestClassifier\r\n",
        "\r\n",
        "# define dataset\r\n",
        "X, y = make_classification(n_samples=1000, n_features=20, n_informative=15, n_redundant=5, random_state=3)\r\n",
        "\r\n",
        "# define the model\r\n",
        "model = RandomForestClassifier()\r\n",
        "\r\n",
        "# fit the model on the whole dataset\r\n",
        "model.fit(X, y)\r\n",
        "\r\n",
        "# make a single prediction\r\n",
        "row = [[-8.52381793,5.24451077,-12.14967704,-2.92949242,0.99314133,0.67326595,\r\n",
        "        -0.38657932,1.27955683,-0.60712621,3.20807316,0.60504151,-1.38706415,\r\n",
        "        8.92444588,-7.43027595,-2.33653219,1.10358169,0.21547782,1.05057966,\r\n",
        "        0.6975331,0.26076035]]\r\n",
        "        \r\n",
        "y_pred = model.predict(row)\r\n",
        "print('Predicted Class: %d' % y_pred[0])"
      ],
      "execution_count": 15,
      "outputs": [
        {
          "output_type": "stream",
          "text": [
            "Predicted Class: 0\n"
          ],
          "name": "stdout"
        }
      ]
    },
    {
      "cell_type": "markdown",
      "metadata": {
        "id": "T65jf2vcdlWK"
      },
      "source": [
        "# **Random Forest for Regression**"
      ]
    },
    {
      "cell_type": "code",
      "metadata": {
        "colab": {
          "base_uri": "https://localhost:8080/"
        },
        "id": "4H3aeLJed3tD",
        "outputId": "cf419577-9ea9-4224-b53b-15b30e780a61"
      },
      "source": [
        "# test regression dataset\r\n",
        "from sklearn.datasets import make_regression\r\n",
        "\r\n",
        "# define dataset\r\n",
        "X, y = make_regression(n_samples=1000,\r\n",
        "                       n_features=20, \r\n",
        "                       n_informative=15, \r\n",
        "                       noise=0.1, \r\n",
        "                       random_state=2)\r\n",
        "\r\n",
        "# summarize the dataset\r\n",
        "print(X.shape, y.shape)"
      ],
      "execution_count": 16,
      "outputs": [
        {
          "output_type": "stream",
          "text": [
            "(1000, 20) (1000,)\n"
          ],
          "name": "stdout"
        }
      ]
    },
    {
      "cell_type": "code",
      "metadata": {
        "colab": {
          "base_uri": "https://localhost:8080/"
        },
        "id": "jXdNK3BVeB3z",
        "outputId": "fbc71abb-bc99-4fd8-fa46-c41f0e46891b"
      },
      "source": [
        "import numpy as np\r\n",
        "# Evaluate random forest ensemble for regression\r\n",
        "from sklearn.datasets import make_regression\r\n",
        "from sklearn.model_selection import cross_val_score\r\n",
        "from sklearn.model_selection import RepeatedKFold\r\n",
        "from sklearn.ensemble import RandomForestRegressor\r\n",
        "\r\n",
        "# define dataset\r\n",
        "X, y = make_regression(n_samples=1000,\r\n",
        "                       n_features=20,\r\n",
        "                       n_informative=15,\r\n",
        "                       noise=0.1,\r\n",
        "                       random_state=2)\r\n",
        "# define the model\r\n",
        "model = RandomForestRegressor()\r\n",
        "\r\n",
        "# evaluate the model\r\n",
        "cv = RepeatedKFold(n_splits=10,\r\n",
        "                   n_repeats=3,\r\n",
        "                   random_state=1)\r\n",
        "\r\n",
        "n_scores = cross_val_score(model, X, y,\r\n",
        "                           scoring='neg_mean_absolute_error',\r\n",
        "                           cv=cv, n_jobs=-1, error_score='raise')\r\n",
        "# report performance\r\n",
        "print('MAE: {%.3f}, cross-validation Score {%.3f}' % (np.mean(n_scores), np.std(n_scores)))"
      ],
      "execution_count": 17,
      "outputs": [
        {
          "output_type": "stream",
          "text": [
            "MAE: {-90.473}, cross-validation Score {7.836}\n"
          ],
          "name": "stdout"
        }
      ]
    },
    {
      "cell_type": "markdown",
      "metadata": {
        "id": "apCcCuY7eUkj"
      },
      "source": [
        "we can see the **random forest ensemble** with default hyperparameters achieves a MAE of about 90."
      ]
    },
    {
      "cell_type": "code",
      "metadata": {
        "colab": {
          "base_uri": "https://localhost:8080/"
        },
        "id": "s7sZAo1_aFgo",
        "outputId": "ea6f83e2-b818-41ab-828a-669f5cdae0ac"
      },
      "source": [
        "# Random forest for making predictions for regression\r\n",
        "from sklearn.datasets import make_regression\r\n",
        "from sklearn.ensemble import RandomForestRegressor\r\n",
        "\r\n",
        "# define dataset\r\n",
        "X, y = make_regression(n_samples=1000,\r\n",
        "                       n_features=20,\r\n",
        "                       n_informative=15,\r\n",
        "                       noise=0.1,\r\n",
        "                       random_state=2)\r\n",
        "\r\n",
        "# define the model\r\n",
        "model = RandomForestRegressor()\r\n",
        "\r\n",
        "# fit the model on the whole dataset\r\n",
        "model.fit(X, y)\r\n",
        "\r\n",
        "# make a single prediction\r\n",
        "row = [[-0.89483109,-1.0670149,-0.25448694,-0.53850126,0.21082105,1.37435592,0.71203659,0.73093031,-1.25878104,-2.01656886,0.51906798,0.62767387,0.96250155,1.31410617,-1.25527295,-0.85079036,0.24129757,-0.17571721,-1.11454339,0.36268268]]\r\n",
        "y_pred = model.predict(row)\r\n",
        "print('Prediction: %d' % y_pred[0])"
      ],
      "execution_count": 18,
      "outputs": [
        {
          "output_type": "stream",
          "text": [
            "Prediction: -155\n"
          ],
          "name": "stdout"
        }
      ]
    },
    {
      "cell_type": "markdown",
      "metadata": {
        "id": "_8Ghl1IWgRWP"
      },
      "source": [
        "## __Random Forest Hyperparameters__"
      ]
    },
    {
      "cell_type": "markdown",
      "metadata": {
        "id": "4BLvJ3_ggaIz"
      },
      "source": [
        "### Explore Number of Samples"
      ]
    },
    {
      "cell_type": "code",
      "metadata": {
        "colab": {
          "base_uri": "https://localhost:8080/",
          "height": 427
        },
        "id": "axTGz2gaadde",
        "outputId": "0b49dac3-0274-4fbc-9e58-161cfcfb3789"
      },
      "source": [
        "import numpy as np\r\n",
        "# explore random forest bootstrap sample size on performance\r\n",
        "from sklearn.datasets import make_classification\r\n",
        "from sklearn.model_selection import cross_val_score\r\n",
        "from sklearn.model_selection import RepeatedStratifiedKFold\r\n",
        "from sklearn.ensemble import RandomForestClassifier\r\n",
        "from matplotlib import pyplot\r\n",
        "\r\n",
        "# get the dataset\r\n",
        "def get_dataset():\r\n",
        "\tX, y = make_classification(n_samples=1000,\r\n",
        "                            n_features=20,\r\n",
        "                            n_informative=15,\r\n",
        "                            n_redundant=5,\r\n",
        "                            random_state=3)\r\n",
        "\treturn X, y\r\n",
        "\r\n",
        "# get a list of models to evaluate\r\n",
        "def get_models():\r\n",
        "\tmodels = dict()\r\n",
        "\t# explore ratios from 10% to 100% in 10% increments\r\n",
        "\tfor i in np.arange(0.1, 1.1, 0.1):\r\n",
        "\t\tkey = '%.1f' % i\r\n",
        "\t\t# set max_samples=None to use 100%\r\n",
        "\t\tif i == 1.0:\r\n",
        "\t\t\ti = None\r\n",
        "\t\tmodels[key] = RandomForestClassifier(max_samples=i)\r\n",
        "\treturn models\r\n",
        "\r\n",
        "# evaluate a given model using cross-validation\r\n",
        "def evaluate_model(model, X, y):\r\n",
        "\t# define the evaluation procedure\r\n",
        "\tcv = RepeatedStratifiedKFold(n_splits=10, n_repeats=3, random_state=1)\r\n",
        "\t# evaluate the model and collect the results\r\n",
        "\tscores = cross_val_score(model, X, y, scoring='accuracy', cv=cv, n_jobs=-1)\r\n",
        "\treturn scores\r\n",
        "\r\n",
        "# define dataset\r\n",
        "X, y = get_dataset()\r\n",
        "\r\n",
        "# get the models to evaluate\r\n",
        "models = get_models()\r\n",
        "\r\n",
        "# evaluate the models and store results\r\n",
        "results, names = list(), list()\r\n",
        "\r\n",
        "for name, model in models.items():\r\n",
        "\t# evaluate the model\r\n",
        "\tscores = evaluate_model(model, X, y)\r\n",
        "\t# store the results\r\n",
        "\tresults.append(scores)\r\n",
        "\tnames.append(name)\r\n",
        "\t# summarize the performance along the way\r\n",
        "\tprint('>%s %.3f (%.3f)' % (name, np.mean(scores), np.std(scores)))\r\n",
        " \r\n",
        "# plot model performance for comparison\r\n",
        "pyplot.boxplot(results, labels=names, showmeans=True)\r\n",
        "pyplot.show()"
      ],
      "execution_count": 19,
      "outputs": [
        {
          "output_type": "stream",
          "text": [
            ">0.1 0.859 (0.026)\n",
            ">0.2 0.877 (0.027)\n",
            ">0.3 0.886 (0.027)\n",
            ">0.4 0.891 (0.024)\n",
            ">0.5 0.898 (0.025)\n",
            ">0.6 0.902 (0.027)\n",
            ">0.7 0.899 (0.027)\n",
            ">0.8 0.904 (0.024)\n",
            ">0.9 0.904 (0.026)\n",
            ">1.0 0.905 (0.025)\n"
          ],
          "name": "stdout"
        },
        {
          "output_type": "display_data",
          "data": {
            "image/png": "[encoded data removed]",
            "text/plain": [
              "<Figure size 432x288 with 1 Axes>"
            ]
          },
          "metadata": {
            "tags": [],
            "needs_background": "light"
          }
        }
      ]
    },
    {
      "cell_type": "markdown",
      "metadata": {
        "id": "MVIbJynzghEP"
      },
      "source": [
        "### Explore Number of Features"
      ]
    },
    {
      "cell_type": "code",
      "metadata": {
        "colab": {
          "base_uri": "https://localhost:8080/",
          "height": 378
        },
        "id": "lB2DmjPhgi2i",
        "outputId": "c72d6cb2-d732-415d-d3ca-bc27f2f536a8"
      },
      "source": [
        "import numpy as np\r\n",
        "# explore random forest number of features effect on performance\r\n",
        "from sklearn.datasets import make_classification\r\n",
        "from sklearn.model_selection import cross_val_score\r\n",
        "from sklearn.model_selection import RepeatedStratifiedKFold\r\n",
        "from sklearn.ensemble import RandomForestClassifier\r\n",
        "from matplotlib import pyplot\r\n",
        "\r\n",
        "# get the dataset\r\n",
        "def get_dataset():\r\n",
        "\tX, y = make_classification(n_samples=1000, \r\n",
        "                            n_features=20, \r\n",
        "                            n_informative=15, \r\n",
        "                            n_redundant=5, \r\n",
        "                            random_state=3)\r\n",
        "\treturn X, y\r\n",
        "\r\n",
        "# get a list of models to evaluate\r\n",
        "def get_models():\r\n",
        "\tmodels = dict()\r\n",
        "\t# explore number of features from 1 to 7\r\n",
        "\tfor i in range(1,8):\r\n",
        "\t\tmodels[str(i)] = RandomForestClassifier(max_features=i)\r\n",
        "\treturn models\r\n",
        "\r\n",
        "# evaluate a given model using cross-validation\r\n",
        "def evaluate_model(model, X, y):\r\n",
        "\t# define the evaluation procedure\r\n",
        "\tcv = RepeatedStratifiedKFold(n_splits=10, n_repeats=3, random_state=1)\r\n",
        "\t# evaluate the model and collect the results\r\n",
        "\tscores = cross_val_score(model, X, y, scoring='accuracy', cv=cv, n_jobs=-1)\r\n",
        "\treturn scores\r\n",
        "\r\n",
        "# define dataset\r\n",
        "X, y = get_dataset()\r\n",
        "\r\n",
        "# get the models to evaluate\r\n",
        "models = get_models()\r\n",
        "\r\n",
        "# evaluate the models and store results\r\n",
        "results, names = list(), list()\r\n",
        "\r\n",
        "for name, model in models.items():\r\n",
        "\t# evaluate the model\r\n",
        "\tscores = evaluate_model(model, X, y)\r\n",
        "\t# store the results\r\n",
        "\tresults.append(scores)\r\n",
        "\tnames.append(name)\r\n",
        "\t# summarize the performance along the way\r\n",
        "\tprint('>%s %.3f (%.3f)' % (name, np.mean(scores), np.std(scores)))\r\n",
        " \r\n",
        "# plot model performance for comparison\r\n",
        "pyplot.boxplot(results, labels=names, showmeans=True)\r\n",
        "pyplot.show()"
      ],
      "execution_count": 20,
      "outputs": [
        {
          "output_type": "stream",
          "text": [
            ">1 0.894 (0.024)\n",
            ">2 0.903 (0.027)\n",
            ">3 0.901 (0.024)\n",
            ">4 0.900 (0.025)\n",
            ">5 0.897 (0.026)\n",
            ">6 0.900 (0.025)\n",
            ">7 0.892 (0.023)\n"
          ],
          "name": "stdout"
        },
        {
          "output_type": "display_data",
          "data": {
            "image/png": "[encoded data removed]",
            "text/plain": [
              "<Figure size 432x288 with 1 Axes>"
            ]
          },
          "metadata": {
            "tags": [],
            "needs_background": "light"
          }
        }
      ]
    },
    {
      "cell_type": "markdown",
      "metadata": {
        "id": "adJVKipeie5T"
      },
      "source": [
        "### __Explore Number of Trees__"
      ]
    },
    {
      "cell_type": "code",
      "metadata": {
        "colab": {
          "base_uri": "https://localhost:8080/",
          "height": 346
        },
        "id": "GPDTHhTsijTk",
        "outputId": "d3a4686c-2a79-437e-9c31-14917ca694a0"
      },
      "source": [
        "import numpy as np\r\n",
        "# explore random forest number of trees effect on performance\r\n",
        "from sklearn.datasets import make_classification\r\n",
        "from sklearn.model_selection import cross_val_score\r\n",
        "from sklearn.model_selection import RepeatedStratifiedKFold\r\n",
        "from sklearn.ensemble import RandomForestClassifier\r\n",
        "from matplotlib import pyplot\r\n",
        "\r\n",
        "# get the dataset\r\n",
        "def get_dataset():\r\n",
        "\tX, y = make_classification(n_samples=1000, n_features=20, n_informative=15, n_redundant=5, random_state=3)\r\n",
        "\treturn X, y\r\n",
        "\r\n",
        "# get a list of models to evaluate\r\n",
        "def get_models():\r\n",
        "\tmodels = dict()\r\n",
        "\t# define number of trees to consider\r\n",
        "\tn_trees = [10, 50, 100, 500, 1000]\r\n",
        "\tfor n in n_trees:\r\n",
        "\t\tmodels[str(n)] = RandomForestClassifier(n_estimators=n)\r\n",
        "\treturn models\r\n",
        "\r\n",
        "# evaluate a given model using cross-validation\r\n",
        "def evaluate_model(model, X, y):\r\n",
        "\t# define the evaluation procedure\r\n",
        "\tcv = RepeatedStratifiedKFold(n_splits=10, n_repeats=3, random_state=1)\r\n",
        "\t# evaluate the model and collect the results\r\n",
        "\tscores = cross_val_score(model, X, y, scoring='accuracy', cv=cv, n_jobs=-1)\r\n",
        "\treturn scores\r\n",
        "\r\n",
        "# define dataset\r\n",
        "X, y = get_dataset()\r\n",
        "# get the models to evaluate\r\n",
        "models = get_models()\r\n",
        "# evaluate the models and store results\r\n",
        "results, names = list(), list()\r\n",
        "for name, model in models.items():\r\n",
        "\t# evaluate the model\r\n",
        "\tscores = evaluate_model(model, X, y)\r\n",
        "\t# store the results\r\n",
        "\tresults.append(scores)\r\n",
        "\tnames.append(name)\r\n",
        "\t# summarize the performance along the way\r\n",
        "\tprint('>%s %.3f (%.3f)' % (name, np.mean(scores), np.std(scores)))\r\n",
        "# plot model performance for comparison\r\n",
        "pyplot.boxplot(results, labels=names, showmeans=True)\r\n",
        "pyplot.show()"
      ],
      "execution_count": 21,
      "outputs": [
        {
          "output_type": "stream",
          "text": [
            ">10 0.868 (0.030)\n",
            ">50 0.895 (0.030)\n",
            ">100 0.906 (0.021)\n",
            ">500 0.907 (0.025)\n",
            ">1000 0.907 (0.024)\n"
          ],
          "name": "stdout"
        },
        {
          "output_type": "display_data",
          "data": {
            "image/png": "[encoded data removed]",
            "text/plain": [
              "<Figure size 432x288 with 1 Axes>"
            ]
          },
          "metadata": {
            "tags": [],
            "needs_background": "light"
          }
        }
      ]
    },
    {
      "cell_type": "markdown",
      "metadata": {
        "id": "tShLjprBinf3"
      },
      "source": [
        "### __Explore Tree Depth__"
      ]
    },
    {
      "cell_type": "code",
      "metadata": {
        "colab": {
          "base_uri": "https://localhost:8080/",
          "height": 395
        },
        "id": "IHQa74Yuit2n",
        "outputId": "f76fb9fc-9507-42ff-f569-525722156262"
      },
      "source": [
        "import numpy as np\r\n",
        "# explore random forest tree depth effect on performance\r\n",
        "from sklearn.datasets import make_classification\r\n",
        "from sklearn.model_selection import cross_val_score\r\n",
        "from sklearn.model_selection import RepeatedStratifiedKFold\r\n",
        "from sklearn.ensemble import RandomForestClassifier\r\n",
        "from matplotlib import pyplot\r\n",
        "\r\n",
        "# get the dataset\r\n",
        "def get_dataset():\r\n",
        "\tX, y = make_classification(n_samples=1000, n_features=20, n_informative=15, n_redundant=5, random_state=3)\r\n",
        "\treturn X, y\r\n",
        "\r\n",
        "# get a list of models to evaluate\r\n",
        "def get_models():\r\n",
        "\tmodels = dict()\r\n",
        "\t# consider tree depths from 1 to 7 and None=full\r\n",
        "\tdepths = [i for i in range(1,8)] + [None]\r\n",
        "\tfor n in depths:\r\n",
        "\t\tmodels[str(n)] = RandomForestClassifier(max_depth=n)\r\n",
        "\treturn models\r\n",
        "\r\n",
        "# evaluate a given model using cross-validation\r\n",
        "def evaluate_model(model, X, y):\r\n",
        "\t# define the evaluation procedure\r\n",
        "\tcv = RepeatedStratifiedKFold(n_splits=10, n_repeats=3, random_state=1)\r\n",
        "\t# evaluate the model and collect the results\r\n",
        "\tscores = cross_val_score(model, X, y, scoring='accuracy', cv=cv, n_jobs=-1)\r\n",
        "\treturn scores\r\n",
        "\r\n",
        "# define dataset\r\n",
        "X, y = get_dataset()\r\n",
        "# get the models to evaluate\r\n",
        "models = get_models()\r\n",
        "# evaluate the models and store results\r\n",
        "results, names = list(), list()\r\n",
        "for name, model in models.items():\r\n",
        "\t# evaluate the model\r\n",
        "\tscores = evaluate_model(model, X, y)\r\n",
        "\t# store the results\r\n",
        "\tresults.append(scores)\r\n",
        "\tnames.append(name)\r\n",
        "\t# summarize the performance along the way\r\n",
        "\tprint('>%s %.3f (%.3f)' % (name, np.mean(scores), np.std(scores)))\r\n",
        "# plot model performance for comparison\r\n",
        "pyplot.boxplot(results, labels=names, showmeans=True)\r\n",
        "pyplot.show()"
      ],
      "execution_count": 22,
      "outputs": [
        {
          "output_type": "stream",
          "text": [
            ">1 0.771 (0.035)\n",
            ">2 0.809 (0.042)\n",
            ">3 0.837 (0.030)\n",
            ">4 0.853 (0.031)\n",
            ">5 0.871 (0.026)\n",
            ">6 0.881 (0.025)\n",
            ">7 0.892 (0.029)\n",
            ">None 0.909 (0.028)\n"
          ],
          "name": "stdout"
        },
        {
          "output_type": "display_data",
          "data": {
            "image/png": "[encoded data removed]",
            "text/plain": [
              "<Figure size 432x288 with 1 Axes>"
            ]
          },
          "metadata": {
            "tags": [],
            "needs_background": "light"
          }
        }
      ]
    },
    {
      "cell_type": "markdown",
      "metadata": {
        "id": "NoOZ6ERmjZPe"
      },
      "source": [
        "## **Common Questions**\r\n",
        "\r\n",
        "In this section we will take a closer look at some common sticking points you may have with the radom forest ensemble procedure.\r\n",
        "\r\n",
        "**Q. What algorithm should be used in the ensemble?**\r\n",
        "\r\n",
        "Random forest is designed to be an ensemble of decision tree algorithms.\r\n",
        "\r\n",
        "**Q. How many ensemble members should be used?**\r\n",
        "\r\n",
        "The number of trees should be increased until no further improvement in performance is seen on your dataset.\r\n",
        "\r\n",
        "As a starting point, we suggest using at least 1,000 trees. If the cross-validation performance profiles are still improving at 1,000 trees, then incorporate more trees until performance levels off.\r\n",
        "\r\n",
        "\r\n",
        "**Q. Won’t the ensemble overfit with too many trees?**\r\n",
        "\r\n",
        "No. Random forest ensembles (do not) are very unlikely to overfit in general.\r\n",
        "\r\n",
        "Another claim is that random forests “cannot overfit” the data. It is certainly true that increasing [the number of trees] does not cause the random forest sequence to overfit …\r\n",
        "\r\n",
        "\r\n",
        "**Q. How large should the bootstrap sample be?**\r\n",
        "\r\n",
        "It is good practice to make the bootstrap sample as large as the original dataset size.\r\n",
        "\r\n",
        "That is 100% the size or an equal number of rows as the original dataset.\r\n",
        "\r\n",
        "**Q. How many features should be chosen at each split point?**\r\n",
        "\r\n",
        "The best practice is to test a suite of different values and discover what works best for your dataset.\r\n",
        "\r\n",
        "As a heuristic, you can use:\r\n",
        "\r\n",
        "Classification: Square root of the number of features.\r\n",
        "Regression: One third of the number of features.\r\n",
        "\r\n",
        "**Q. What problems are well suited to random forest?**\r\n",
        "\r\n",
        "Random forest is known to work well or even best on a wide range of classification and regression problems. Try it and see.\r\n",
        "\r\n",
        "\r\n",
        "$$\\textbf{Source}: {Jason}\\space{Brownlee}\\space{PhD}   -  Machine\\space learning\\space Mastery$$\r\n"
      ]
    }
  ]
}