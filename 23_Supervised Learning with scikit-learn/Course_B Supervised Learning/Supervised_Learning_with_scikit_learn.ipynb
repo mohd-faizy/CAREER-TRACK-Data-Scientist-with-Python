{
  "nbformat": 4,
  "nbformat_minor": 0,
  "metadata": {
    "colab": {
      "provenance": [],
      "toc_visible": true
    },
    "kernelspec": {
      "name": "python3",
      "display_name": "Python 3"
    },
    "language_info": {
      "name": "python"
    }
  },
  "cells": [
    {
      "cell_type": "markdown",
      "source": [
        "# <center><b><font color=\"red\">Supervised Learning with scikit-learn</font></b></center>"
      ],
      "metadata": {
        "id": "FvUPdwFD5WF8"
      }
    },
    {
      "cell_type": "code",
      "source": [
        "!git clone https://github.com/mohd-faizy/CAREER-TRACK-Data-Scientist-with-Python.git"
      ],
      "metadata": {
        "id": "l0c3u7izxW4D",
        "colab": {
          "base_uri": "https://localhost:8080/"
        },
        "outputId": "a01d6c36-0953-4a03-d611-802968a8d069"
      },
      "execution_count": 1,
      "outputs": [
        {
          "output_type": "stream",
          "name": "stdout",
          "text": [
            "Cloning into 'CAREER-TRACK-Data-Scientist-with-Python'...\n",
            "remote: Enumerating objects: 3125, done.\u001b[K\n",
            "remote: Counting objects: 100% (432/432), done.\u001b[K\n",
            "remote: Compressing objects: 100% (292/292), done.\u001b[K\n",
            "remote: Total 3125 (delta 132), reused 428 (delta 128), pack-reused 2693\u001b[K\n",
            "Receiving objects: 100% (3125/3125), 461.34 MiB | 17.04 MiB/s, done.\n",
            "Resolving deltas: 100% (1116/1116), done.\n",
            "Updating files: 100% (820/820), done.\n"
          ]
        }
      ]
    },
    {
      "cell_type": "code",
      "source": [
        "import pandas as pd\n",
        "import numpy as np\n",
        "import matplotlib.pyplot as plt\n",
        "import seaborn as sns\n",
        "import os\n",
        "\n",
        "plt.style.use('ggplot')\n",
        "# sns.set_theme(style='whitegrid')\n",
        "%matplotlib inline"
      ],
      "metadata": {
        "id": "6ApIwzvaiFJy"
      },
      "execution_count": 2,
      "outputs": []
    },
    {
      "cell_type": "code",
      "source": [
        "os.chdir('/content/CAREER-TRACK-Data-Scientist-with-Python/23_Supervised Learning with scikit-learn/Course_B Supervised Learning/_dataset')\n",
        "cwd = os.getcwd()\n",
        "print('Curent working directory is ', cwd)"
      ],
      "metadata": {
        "id": "B825sPquzlSS",
        "colab": {
          "base_uri": "https://localhost:8080/"
        },
        "outputId": "d3ab9c95-23f5-4de8-d106-d2c56b906577"
      },
      "execution_count": 3,
      "outputs": [
        {
          "output_type": "stream",
          "name": "stdout",
          "text": [
            "Curent working directory is  /content/CAREER-TRACK-Data-Scientist-with-Python/23_Supervised Learning with scikit-learn/Course_B Supervised Learning/_dataset\n"
          ]
        }
      ]
    },
    {
      "cell_type": "code",
      "source": [
        "ls"
      ],
      "metadata": {
        "id": "PO3fWwRlzmQ8",
        "colab": {
          "base_uri": "https://localhost:8080/"
        },
        "outputId": "0fc24f78-842f-457b-9935-c64cf5dbbab7"
      },
      "execution_count": 4,
      "outputs": [
        {
          "output_type": "stream",
          "name": "stdout",
          "text": [
            "advertising_and_sales_clean.csv  music_clean.csv\n",
            "diabetes_clean.csv               telecom_churn_clean.csv\n"
          ]
        }
      ]
    },
    {
      "cell_type": "markdown",
      "source": [
        "# **1️⃣Classification**"
      ],
      "metadata": {
        "id": "S2qBGIWZwLyj"
      }
    },
    {
      "cell_type": "markdown",
      "source": [
        "## **Machine learning with scikit-learn**\n"
      ],
      "metadata": {
        "id": "3i96gesbyg4O"
      }
    },
    {
      "cell_type": "markdown",
      "source": [
        "#### **Binary classification**\n"
      ],
      "metadata": {
        "id": "-G51XMgc0k6Q"
      }
    },
    {
      "cell_type": "code",
      "source": [
        "churn_df = pd.read_csv('telecom_churn_clean.csv')\n",
        "churn_df.head(5)"
      ],
      "metadata": {
        "colab": {
          "base_uri": "https://localhost:8080/",
          "height": 288
        },
        "id": "HQGXOvlO00sW",
        "outputId": "6cd69da3-62ea-4747-e848-ac7ef48f424f"
      },
      "execution_count": 5,
      "outputs": [
        {
          "output_type": "execute_result",
          "data": {
            "text/plain": [
              "   Unnamed: 0  account_length  area_code  international_plan  voice_mail_plan  \\\n",
              "0           0             128        415                   0                1   \n",
              "1           1             107        415                   0                1   \n",
              "2           2             137        415                   0                0   \n",
              "3           3              84        408                   1                0   \n",
              "4           4              75        415                   1                0   \n",
              "\n",
              "   number_vmail_messages  total_day_minutes  total_day_calls  \\\n",
              "0                     25              265.1              110   \n",
              "1                     26              161.6              123   \n",
              "2                      0              243.4              114   \n",
              "3                      0              299.4               71   \n",
              "4                      0              166.7              113   \n",
              "\n",
              "   total_day_charge  total_eve_minutes  total_eve_calls  total_eve_charge  \\\n",
              "0             45.07              197.4               99             16.78   \n",
              "1             27.47              195.5              103             16.62   \n",
              "2             41.38              121.2              110             10.30   \n",
              "3             50.90               61.9               88              5.26   \n",
              "4             28.34              148.3              122             12.61   \n",
              "\n",
              "   total_night_minutes  total_night_calls  total_night_charge  \\\n",
              "0                244.7                 91               11.01   \n",
              "1                254.4                103               11.45   \n",
              "2                162.6                104                7.32   \n",
              "3                196.9                 89                8.86   \n",
              "4                186.9                121                8.41   \n",
              "\n",
              "   total_intl_minutes  total_intl_calls  total_intl_charge  \\\n",
              "0                10.0                 3               2.70   \n",
              "1                13.7                 3               3.70   \n",
              "2                12.2                 5               3.29   \n",
              "3                 6.6                 7               1.78   \n",
              "4                10.1                 3               2.73   \n",
              "\n",
              "   customer_service_calls  churn  \n",
              "0                       1      0  \n",
              "1                       1      0  \n",
              "2                       0      0  \n",
              "3                       2      0  \n",
              "4                       3      0  "
            ],
            "text/html": [
              "\n",
              "  <div id=\"df-20e7e1f8-4242-42f6-a5c3-f3d8d897bec2\">\n",
              "    <div class=\"colab-df-container\">\n",
              "      <div>\n",
              "<style scoped>\n",
              "    .dataframe tbody tr th:only-of-type {\n",
              "        vertical-align: middle;\n",
              "    }\n",
              "\n",
              "    .dataframe tbody tr th {\n",
              "        vertical-align: top;\n",
              "    }\n",
              "\n",
              "    .dataframe thead th {\n",
              "        text-align: right;\n",
              "    }\n",
              "</style>\n",
              "<table border=\"1\" class=\"dataframe\">\n",
              "  <thead>\n",
              "    <tr style=\"text-align: right;\">\n",
              "      <th></th>\n",
              "      <th>Unnamed: 0</th>\n",
              "      <th>account_length</th>\n",
              "      <th>area_code</th>\n",
              "      <th>international_plan</th>\n",
              "      <th>voice_mail_plan</th>\n",
              "      <th>number_vmail_messages</th>\n",
              "      <th>total_day_minutes</th>\n",
              "      <th>total_day_calls</th>\n",
              "      <th>total_day_charge</th>\n",
              "      <th>total_eve_minutes</th>\n",
              "      <th>total_eve_calls</th>\n",
              "      <th>total_eve_charge</th>\n",
              "      <th>total_night_minutes</th>\n",
              "      <th>total_night_calls</th>\n",
              "      <th>total_night_charge</th>\n",
              "      <th>total_intl_minutes</th>\n",
              "      <th>total_intl_calls</th>\n",
              "      <th>total_intl_charge</th>\n",
              "      <th>customer_service_calls</th>\n",
              "      <th>churn</th>\n",
              "    </tr>\n",
              "  </thead>\n",
              "  <tbody>\n",
              "    <tr>\n",
              "      <th>0</th>\n",
              "      <td>0</td>\n",
              "      <td>128</td>\n",
              "      <td>415</td>\n",
              "      <td>0</td>\n",
              "      <td>1</td>\n",
              "      <td>25</td>\n",
              "      <td>265.1</td>\n",
              "      <td>110</td>\n",
              "      <td>45.07</td>\n",
              "      <td>197.4</td>\n",
              "      <td>99</td>\n",
              "      <td>16.78</td>\n",
              "      <td>244.7</td>\n",
              "      <td>91</td>\n",
              "      <td>11.01</td>\n",
              "      <td>10.0</td>\n",
              "      <td>3</td>\n",
              "      <td>2.70</td>\n",
              "      <td>1</td>\n",
              "      <td>0</td>\n",
              "    </tr>\n",
              "    <tr>\n",
              "      <th>1</th>\n",
              "      <td>1</td>\n",
              "      <td>107</td>\n",
              "      <td>415</td>\n",
              "      <td>0</td>\n",
              "      <td>1</td>\n",
              "      <td>26</td>\n",
              "      <td>161.6</td>\n",
              "      <td>123</td>\n",
              "      <td>27.47</td>\n",
              "      <td>195.5</td>\n",
              "      <td>103</td>\n",
              "      <td>16.62</td>\n",
              "      <td>254.4</td>\n",
              "      <td>103</td>\n",
              "      <td>11.45</td>\n",
              "      <td>13.7</td>\n",
              "      <td>3</td>\n",
              "      <td>3.70</td>\n",
              "      <td>1</td>\n",
              "      <td>0</td>\n",
              "    </tr>\n",
              "    <tr>\n",
              "      <th>2</th>\n",
              "      <td>2</td>\n",
              "      <td>137</td>\n",
              "      <td>415</td>\n",
              "      <td>0</td>\n",
              "      <td>0</td>\n",
              "      <td>0</td>\n",
              "      <td>243.4</td>\n",
              "      <td>114</td>\n",
              "      <td>41.38</td>\n",
              "      <td>121.2</td>\n",
              "      <td>110</td>\n",
              "      <td>10.30</td>\n",
              "      <td>162.6</td>\n",
              "      <td>104</td>\n",
              "      <td>7.32</td>\n",
              "      <td>12.2</td>\n",
              "      <td>5</td>\n",
              "      <td>3.29</td>\n",
              "      <td>0</td>\n",
              "      <td>0</td>\n",
              "    </tr>\n",
              "    <tr>\n",
              "      <th>3</th>\n",
              "      <td>3</td>\n",
              "      <td>84</td>\n",
              "      <td>408</td>\n",
              "      <td>1</td>\n",
              "      <td>0</td>\n",
              "      <td>0</td>\n",
              "      <td>299.4</td>\n",
              "      <td>71</td>\n",
              "      <td>50.90</td>\n",
              "      <td>61.9</td>\n",
              "      <td>88</td>\n",
              "      <td>5.26</td>\n",
              "      <td>196.9</td>\n",
              "      <td>89</td>\n",
              "      <td>8.86</td>\n",
              "      <td>6.6</td>\n",
              "      <td>7</td>\n",
              "      <td>1.78</td>\n",
              "      <td>2</td>\n",
              "      <td>0</td>\n",
              "    </tr>\n",
              "    <tr>\n",
              "      <th>4</th>\n",
              "      <td>4</td>\n",
              "      <td>75</td>\n",
              "      <td>415</td>\n",
              "      <td>1</td>\n",
              "      <td>0</td>\n",
              "      <td>0</td>\n",
              "      <td>166.7</td>\n",
              "      <td>113</td>\n",
              "      <td>28.34</td>\n",
              "      <td>148.3</td>\n",
              "      <td>122</td>\n",
              "      <td>12.61</td>\n",
              "      <td>186.9</td>\n",
              "      <td>121</td>\n",
              "      <td>8.41</td>\n",
              "      <td>10.1</td>\n",
              "      <td>3</td>\n",
              "      <td>2.73</td>\n",
              "      <td>3</td>\n",
              "      <td>0</td>\n",
              "    </tr>\n",
              "  </tbody>\n",
              "</table>\n",
              "</div>\n",
              "      <button class=\"colab-df-convert\" onclick=\"convertToInteractive('df-20e7e1f8-4242-42f6-a5c3-f3d8d897bec2')\"\n",
              "              title=\"Convert this dataframe to an interactive table.\"\n",
              "              style=\"display:none;\">\n",
              "        \n",
              "  <svg xmlns=\"http://www.w3.org/2000/svg\" height=\"24px\"viewBox=\"0 0 24 24\"\n",
              "       width=\"24px\">\n",
              "    <path d=\"M0 0h24v24H0V0z\" fill=\"none\"/>\n",
              "    <path d=\"M18.56 5.44l.94 2.06.94-2.06 2.06-.94-2.06-.94-.94-2.06-.94 2.06-2.06.94zm-11 1L8.5 8.5l.94-2.06 2.06-.94-2.06-.94L8.5 2.5l-.94 2.06-2.06.94zm10 10l.94 2.06.94-2.06 2.06-.94-2.06-.94-.94-2.06-.94 2.06-2.06.94z\"/><path d=\"M17.41 7.96l-1.37-1.37c-.4-.4-.92-.59-1.43-.59-.52 0-1.04.2-1.43.59L10.3 9.45l-7.72 7.72c-.78.78-.78 2.05 0 2.83L4 21.41c.39.39.9.59 1.41.59.51 0 1.02-.2 1.41-.59l7.78-7.78 2.81-2.81c.8-.78.8-2.07 0-2.86zM5.41 20L4 18.59l7.72-7.72 1.47 1.35L5.41 20z\"/>\n",
              "  </svg>\n",
              "      </button>\n",
              "      \n",
              "  <style>\n",
              "    .colab-df-container {\n",
              "      display:flex;\n",
              "      flex-wrap:wrap;\n",
              "      gap: 12px;\n",
              "    }\n",
              "\n",
              "    .colab-df-convert {\n",
              "      background-color: #E8F0FE;\n",
              "      border: none;\n",
              "      border-radius: 50%;\n",
              "      cursor: pointer;\n",
              "      display: none;\n",
              "      fill: #1967D2;\n",
              "      height: 32px;\n",
              "      padding: 0 0 0 0;\n",
              "      width: 32px;\n",
              "    }\n",
              "\n",
              "    .colab-df-convert:hover {\n",
              "      background-color: #E2EBFA;\n",
              "      box-shadow: 0px 1px 2px rgba(60, 64, 67, 0.3), 0px 1px 3px 1px rgba(60, 64, 67, 0.15);\n",
              "      fill: #174EA6;\n",
              "    }\n",
              "\n",
              "    [theme=dark] .colab-df-convert {\n",
              "      background-color: #3B4455;\n",
              "      fill: #D2E3FC;\n",
              "    }\n",
              "\n",
              "    [theme=dark] .colab-df-convert:hover {\n",
              "      background-color: #434B5C;\n",
              "      box-shadow: 0px 1px 3px 1px rgba(0, 0, 0, 0.15);\n",
              "      filter: drop-shadow(0px 1px 2px rgba(0, 0, 0, 0.3));\n",
              "      fill: #FFFFFF;\n",
              "    }\n",
              "  </style>\n",
              "\n",
              "      <script>\n",
              "        const buttonEl =\n",
              "          document.querySelector('#df-20e7e1f8-4242-42f6-a5c3-f3d8d897bec2 button.colab-df-convert');\n",
              "        buttonEl.style.display =\n",
              "          google.colab.kernel.accessAllowed ? 'block' : 'none';\n",
              "\n",
              "        async function convertToInteractive(key) {\n",
              "          const element = document.querySelector('#df-20e7e1f8-4242-42f6-a5c3-f3d8d897bec2');\n",
              "          const dataTable =\n",
              "            await google.colab.kernel.invokeFunction('convertToInteractive',\n",
              "                                                     [key], {});\n",
              "          if (!dataTable) return;\n",
              "\n",
              "          const docLinkHtml = 'Like what you see? Visit the ' +\n",
              "            '<a target=\"_blank\" href=https://colab.research.google.com/notebooks/data_table.ipynb>data table notebook</a>'\n",
              "            + ' to learn more about interactive tables.';\n",
              "          element.innerHTML = '';\n",
              "          dataTable['output_type'] = 'display_data';\n",
              "          await google.colab.output.renderOutput(dataTable, element);\n",
              "          const docLink = document.createElement('div');\n",
              "          docLink.innerHTML = docLinkHtml;\n",
              "          element.appendChild(docLink);\n",
              "        }\n",
              "      </script>\n",
              "    </div>\n",
              "  </div>\n",
              "  "
            ]
          },
          "metadata": {},
          "execution_count": 5
        }
      ]
    },
    {
      "cell_type": "markdown",
      "source": [
        "For binary classification `target` variable that has only `two` labels, typically represented numerically with a `zero` or a `one`.\n",
        "\n",
        "$Que:$ *which column could be the target variable for binary classification?*\n",
        "\n",
        "$Ans:$ `churn` has values of `0` or `1`, so it can be predicted using a binary classification model."
      ],
      "metadata": {
        "id": "QR89Pmfd_ZHP"
      }
    },
    {
      "cell_type": "markdown",
      "source": [
        "#### **The supervised learning workflow**\n",
        "\n",
        "\n",
        "```python\n",
        "from sklearn.module import Model\n",
        "model = Model()\n",
        "model.fit(X, y)\n",
        "mode.predict(X_new)\n",
        "```"
      ],
      "metadata": {
        "id": "_yTNB80k0m9X"
      }
    },
    {
      "cell_type": "markdown",
      "source": [
        "## **The classification challenge**\n"
      ],
      "metadata": {
        "id": "lnzv0S9m0obe"
      }
    },
    {
      "cell_type": "code",
      "source": [
        "churn_df.columns"
      ],
      "metadata": {
        "colab": {
          "base_uri": "https://localhost:8080/"
        },
        "id": "i-2yK8buCaOu",
        "outputId": "afac648c-5b52-4336-ab89-2e536b0d559d"
      },
      "execution_count": 6,
      "outputs": [
        {
          "output_type": "execute_result",
          "data": {
            "text/plain": [
              "Index(['Unnamed: 0', 'account_length', 'area_code', 'international_plan',\n",
              "       'voice_mail_plan', 'number_vmail_messages', 'total_day_minutes',\n",
              "       'total_day_calls', 'total_day_charge', 'total_eve_minutes',\n",
              "       'total_eve_calls', 'total_eve_charge', 'total_night_minutes',\n",
              "       'total_night_calls', 'total_night_charge', 'total_intl_minutes',\n",
              "       'total_intl_calls', 'total_intl_charge', 'customer_service_calls',\n",
              "       'churn'],\n",
              "      dtype='object')"
            ]
          },
          "metadata": {},
          "execution_count": 6
        }
      ]
    },
    {
      "cell_type": "markdown",
      "source": [
        ">`Churn`, or customer churn, is a metric that represents the number of customers that have stopped using your product or service during a given period of time."
      ],
      "metadata": {
        "id": "ItXNP8irDHcF"
      }
    },
    {
      "cell_type": "markdown",
      "source": [
        "#### **k-Nearest Neighbors: Fit**\n"
      ],
      "metadata": {
        "id": "CNotIyeJ0pwF"
      }
    },
    {
      "cell_type": "code",
      "source": [
        "# Import KNeighborsClassifier\n",
        "from sklearn.neighbors import KNeighborsClassifier\n",
        "\n",
        "# Create arrays for the features and the target variable\n",
        "y = churn_df[\"churn\"].values\n",
        "X = churn_df[[\"account_length\", \"customer_service_calls\"]].values\n",
        "\n",
        "# Create a KNN classifier with 6 neighbors\n",
        "knn = KNeighborsClassifier(n_neighbors=6)\n",
        "\n",
        "# Fit the classifier to the data\n",
        "knn.fit(X, y)"
      ],
      "metadata": {
        "colab": {
          "base_uri": "https://localhost:8080/",
          "height": 75
        },
        "id": "gz1UPVKm02QW",
        "outputId": "593be2c8-5f79-460c-8491-1d4c53fd7c98"
      },
      "execution_count": 7,
      "outputs": [
        {
          "output_type": "execute_result",
          "data": {
            "text/plain": [
              "KNeighborsClassifier(n_neighbors=6)"
            ],
            "text/html": [
              "<style>#sk-container-id-1 {color: black;background-color: white;}#sk-container-id-1 pre{padding: 0;}#sk-container-id-1 div.sk-toggleable {background-color: white;}#sk-container-id-1 label.sk-toggleable__label {cursor: pointer;display: block;width: 100%;margin-bottom: 0;padding: 0.3em;box-sizing: border-box;text-align: center;}#sk-container-id-1 label.sk-toggleable__label-arrow:before {content: \"▸\";float: left;margin-right: 0.25em;color: #696969;}#sk-container-id-1 label.sk-toggleable__label-arrow:hover:before {color: black;}#sk-container-id-1 div.sk-estimator:hover label.sk-toggleable__label-arrow:before {color: black;}#sk-container-id-1 div.sk-toggleable__content {max-height: 0;max-width: 0;overflow: hidden;text-align: left;background-color: #f0f8ff;}#sk-container-id-1 div.sk-toggleable__content pre {margin: 0.2em;color: black;border-radius: 0.25em;background-color: #f0f8ff;}#sk-container-id-1 input.sk-toggleable__control:checked~div.sk-toggleable__content {max-height: 200px;max-width: 100%;overflow: auto;}#sk-container-id-1 input.sk-toggleable__control:checked~label.sk-toggleable__label-arrow:before {content: \"▾\";}#sk-container-id-1 div.sk-estimator input.sk-toggleable__control:checked~label.sk-toggleable__label {background-color: #d4ebff;}#sk-container-id-1 div.sk-label input.sk-toggleable__control:checked~label.sk-toggleable__label {background-color: #d4ebff;}#sk-container-id-1 input.sk-hidden--visually {border: 0;clip: rect(1px 1px 1px 1px);clip: rect(1px, 1px, 1px, 1px);height: 1px;margin: -1px;overflow: hidden;padding: 0;position: absolute;width: 1px;}#sk-container-id-1 div.sk-estimator {font-family: monospace;background-color: #f0f8ff;border: 1px dotted black;border-radius: 0.25em;box-sizing: border-box;margin-bottom: 0.5em;}#sk-container-id-1 div.sk-estimator:hover {background-color: #d4ebff;}#sk-container-id-1 div.sk-parallel-item::after {content: \"\";width: 100%;border-bottom: 1px solid gray;flex-grow: 1;}#sk-container-id-1 div.sk-label:hover label.sk-toggleable__label {background-color: #d4ebff;}#sk-container-id-1 div.sk-serial::before {content: \"\";position: absolute;border-left: 1px solid gray;box-sizing: border-box;top: 0;bottom: 0;left: 50%;z-index: 0;}#sk-container-id-1 div.sk-serial {display: flex;flex-direction: column;align-items: center;background-color: white;padding-right: 0.2em;padding-left: 0.2em;position: relative;}#sk-container-id-1 div.sk-item {position: relative;z-index: 1;}#sk-container-id-1 div.sk-parallel {display: flex;align-items: stretch;justify-content: center;background-color: white;position: relative;}#sk-container-id-1 div.sk-item::before, #sk-container-id-1 div.sk-parallel-item::before {content: \"\";position: absolute;border-left: 1px solid gray;box-sizing: border-box;top: 0;bottom: 0;left: 50%;z-index: -1;}#sk-container-id-1 div.sk-parallel-item {display: flex;flex-direction: column;z-index: 1;position: relative;background-color: white;}#sk-container-id-1 div.sk-parallel-item:first-child::after {align-self: flex-end;width: 50%;}#sk-container-id-1 div.sk-parallel-item:last-child::after {align-self: flex-start;width: 50%;}#sk-container-id-1 div.sk-parallel-item:only-child::after {width: 0;}#sk-container-id-1 div.sk-dashed-wrapped {border: 1px dashed gray;margin: 0 0.4em 0.5em 0.4em;box-sizing: border-box;padding-bottom: 0.4em;background-color: white;}#sk-container-id-1 div.sk-label label {font-family: monospace;font-weight: bold;display: inline-block;line-height: 1.2em;}#sk-container-id-1 div.sk-label-container {text-align: center;}#sk-container-id-1 div.sk-container {/* jupyter's `normalize.less` sets `[hidden] { display: none; }` but bootstrap.min.css set `[hidden] { display: none !important; }` so we also need the `!important` here to be able to override the default hidden behavior on the sphinx rendered scikit-learn.org. See: https://github.com/scikit-learn/scikit-learn/issues/21755 */display: inline-block !important;position: relative;}#sk-container-id-1 div.sk-text-repr-fallback {display: none;}</style><div id=\"sk-container-id-1\" class=\"sk-top-container\"><div class=\"sk-text-repr-fallback\"><pre>KNeighborsClassifier(n_neighbors=6)</pre><b>In a Jupyter environment, please rerun this cell to show the HTML representation or trust the notebook. <br />On GitHub, the HTML representation is unable to render, please try loading this page with nbviewer.org.</b></div><div class=\"sk-container\" hidden><div class=\"sk-item\"><div class=\"sk-estimator sk-toggleable\"><input class=\"sk-toggleable__control sk-hidden--visually\" id=\"sk-estimator-id-1\" type=\"checkbox\" checked><label for=\"sk-estimator-id-1\" class=\"sk-toggleable__label sk-toggleable__label-arrow\">KNeighborsClassifier</label><div class=\"sk-toggleable__content\"><pre>KNeighborsClassifier(n_neighbors=6)</pre></div></div></div></div></div>"
            ]
          },
          "metadata": {},
          "execution_count": 7
        }
      ]
    },
    {
      "cell_type": "markdown",
      "source": [
        "#### **k-Nearest Neighbors: Predict**\n"
      ],
      "metadata": {
        "id": "_BMtDO_Y0rAW"
      }
    },
    {
      "cell_type": "code",
      "source": [
        "X_new = np.array([[30.0, 17.5],\n",
        "                  [107.0, 24.1],\n",
        "                  [213.0, 10.9]])\n",
        "\n",
        "# Predict the labels for the X_new\n",
        "y_pred = knn.predict(X_new)\n",
        "\n",
        "# Print the predictions for X_new\n",
        "print(\"Predictions: {}\".format(y_pred))"
      ],
      "metadata": {
        "colab": {
          "base_uri": "https://localhost:8080/"
        },
        "id": "PnV4z_jU020H",
        "outputId": "5bcdeb2d-bee3-4559-df57-89a994ff4873"
      },
      "execution_count": 8,
      "outputs": [
        {
          "output_type": "stream",
          "name": "stdout",
          "text": [
            "Predictions: [0 1 0]\n"
          ]
        }
      ]
    },
    {
      "cell_type": "markdown",
      "source": [
        "The model has predicted the first and third customers will not churn in the new array. But how do we know how accurate these predictions are?"
      ],
      "metadata": {
        "id": "3JB8ERIfD-IM"
      }
    },
    {
      "cell_type": "markdown",
      "source": [
        "## **Measuring model performance**\n"
      ],
      "metadata": {
        "id": "zogkO2_x0sVp"
      }
    },
    {
      "cell_type": "markdown",
      "source": [
        "#### **Train/test split + computing accuracy**\n"
      ],
      "metadata": {
        "id": "JI420ZXd0tzu"
      }
    },
    {
      "cell_type": "code",
      "source": [
        "# Import the module\n",
        "from sklearn.model_selection import train_test_split\n",
        "\n",
        "X = churn_df.drop(\"churn\", axis=1).values\n",
        "y = churn_df[\"churn\"].values\n",
        "\n",
        "# Split into training and test sets\n",
        "X_train, X_test, y_train, y_test = train_test_split(X, y, test_size=0.2, random_state=42, stratify=y)\n",
        "knn = KNeighborsClassifier(n_neighbors=7)\n",
        "\n",
        "# Fit the classifier to the training data\n",
        "knn.fit(X_train, y_train)\n",
        "\n",
        "# Print the accuracy\n",
        "print(knn.score(X_test, y_test))"
      ],
      "metadata": {
        "colab": {
          "base_uri": "https://localhost:8080/"
        },
        "id": "0DLhU4S603jX",
        "outputId": "393c044e-1a5d-4dc0-ae51-d6f0c80e4f87"
      },
      "execution_count": 9,
      "outputs": [
        {
          "output_type": "stream",
          "name": "stdout",
          "text": [
            "0.8605697151424287\n"
          ]
        }
      ]
    },
    {
      "cell_type": "markdown",
      "source": [
        "The `stratify=y` parameter is used in machine learning to maintain the proportion of different classes in the target variable when splitting a dataset into training and testing subsets. It helps ensure unbiased performance evaluation and better generalization of models, especially in cases of imbalanced datasets."
      ],
      "metadata": {
        "id": "c0aoMs3FE8kU"
      }
    },
    {
      "cell_type": "markdown",
      "source": [
        "#### **Overfitting and underfitting**\n"
      ],
      "metadata": {
        "id": "-84ikHke0vVd"
      }
    },
    {
      "cell_type": "code",
      "source": [
        "# Create neighbors\n",
        "neighbors = np.arange(1, 13)\n",
        "train_accuracies = {}\n",
        "test_accuracies = {}\n",
        "\n",
        "for neighbor in neighbors:\n",
        "\n",
        "  \t# Set up a KNN Classifier\n",
        "  \tknn = KNeighborsClassifier(n_neighbors=neighbor)\n",
        "\n",
        "  \t# Fit the model\n",
        "  \tknn.fit(X_train, y_train)\n",
        "\n",
        "  \t# Compute accuracy\n",
        "  \ttrain_accuracies[neighbor] = knn.score(X_train, y_train)\n",
        "  \ttest_accuracies[neighbor] = knn.score(X_test, y_test)\n",
        "print(neighbors, '\\n', train_accuracies, '\\n', test_accuracies)"
      ],
      "metadata": {
        "colab": {
          "base_uri": "https://localhost:8080/"
        },
        "id": "9cx2GtMVGQQO",
        "outputId": "059addbc-ac24-49d4-88fa-a1282ef042a5"
      },
      "execution_count": 10,
      "outputs": [
        {
          "output_type": "stream",
          "name": "stdout",
          "text": [
            "[ 1  2  3  4  5  6  7  8  9 10 11 12] \n",
            " {1: 1.0, 2: 0.8885971492873218, 3: 0.8994748687171793, 4: 0.8750937734433608, 5: 0.878469617404351, 6: 0.8660915228807202, 7: 0.8705926481620405, 8: 0.8615903975993998, 9: 0.86384096024006, 10: 0.858589647411853, 11: 0.8604651162790697, 12: 0.8574643660915229} \n",
            " {1: 0.7856071964017991, 2: 0.8470764617691154, 3: 0.8320839580209896, 4: 0.856071964017991, 5: 0.8545727136431784, 6: 0.8590704647676162, 7: 0.8605697151424287, 8: 0.8620689655172413, 9: 0.863568215892054, 10: 0.8605697151424287, 11: 0.8605697151424287, 12: 0.8605697151424287}\n"
          ]
        }
      ]
    },
    {
      "cell_type": "code",
      "source": [
        "# Plot the accuracies as bar plot with transparency\n",
        "plt.bar(neighbors - 0.2, list(train_accuracies.values()), width=0.4, alpha=0.7, label='Train Accuracy')\n",
        "plt.bar(neighbors + 0.2, list(test_accuracies.values()), width=0.4, alpha=0.7, label='Test Accuracy')\n",
        "plt.xlabel('Number of Neighbors')\n",
        "plt.ylabel('Accuracy')\n",
        "plt.title('KNN Accuracy with Different Number of Neighbors')\n",
        "plt.legend()\n",
        "plt.show()"
      ],
      "metadata": {
        "colab": {
          "base_uri": "https://localhost:8080/",
          "height": 477
        },
        "id": "s7RC3arqI-Sk",
        "outputId": "9fdfd2c3-d228-4b9f-978f-d72411fb7382"
      },
      "execution_count": 11,
      "outputs": [
        {
          "output_type": "display_data",
          "data": {
            "text/plain": [
              "<Figure size 640x480 with 1 Axes>"
            ],
            "image/png": "[encoded data removed]"
          },
          "metadata": {}
        }
      ]
    },
    {
      "cell_type": "markdown",
      "source": [
        "how training accuracy decreases as the number of neighbors initially gets larger, and vice versa for the testing accuracy? These scores would be much easier to interpret in a line plot, so let's produce a model complexity curve of these results."
      ],
      "metadata": {
        "id": "-xkKcoOTGao2"
      }
    },
    {
      "cell_type": "markdown",
      "source": [
        "#### **Visualizing model complexity**"
      ],
      "metadata": {
        "id": "Z8_wknqx0wkv"
      }
    },
    {
      "cell_type": "code",
      "source": [
        "# Plot training accuracies\n",
        "plt.plot(neighbors, train_accuracies.values(), label=\"Training Accuracy\")\n",
        "\n",
        "# Plot test accuracies\n",
        "plt.plot(neighbors, test_accuracies.values(), label=\"Testing Accuracy\")\n",
        "\n",
        "plt.xlabel(\"Number of Neighbors\")\n",
        "plt.ylabel(\"Accuracy\")\n",
        "plt.title(\"KNN: Varying Number of Neighbors\")\n",
        "plt.legend()\n",
        "plt.show()"
      ],
      "metadata": {
        "colab": {
          "base_uri": "https://localhost:8080/",
          "height": 477
        },
        "id": "sLtb3q6D04VP",
        "outputId": "ffe96373-287c-4d54-8783-5c2b115d71c4"
      },
      "execution_count": 12,
      "outputs": [
        {
          "output_type": "display_data",
          "data": {
            "text/plain": [
              "<Figure size 640x480 with 1 Axes>"
            ],
            "image/png": "[encoded data removed]"
          },
          "metadata": {}
        }
      ]
    },
    {
      "cell_type": "markdown",
      "source": [
        "See how training accuracy decreases and test accuracy increases as the number of neighbors gets larger. For the test set, accuracy peaks with 7 neighbors, suggesting it is the optimal value for our model. Now let's explore regression models!"
      ],
      "metadata": {
        "id": "ESSEPwYnHLZE"
      }
    },
    {
      "cell_type": "markdown",
      "source": [
        "When the training accuracy decreases and the test accuracy increases, it typically indicates that the model is becoming less overfit to the training data and generalizing better to unseen data.\n",
        "\n",
        "- **Training accuracy:** This refers to the accuracy of the model on the training dataset. It measures how well the model fits the training data. When the model has a high training accuracy, it indicates that it can closely match the patterns and relationships present in the training data.\n",
        "\n",
        "- **Test accuracy:** This refers to the accuracy of the model on a separate test dataset that the model has not seen during training. It measures how well the model generalizes to new, unseen data. Test accuracy is often a better indicator of how the model will perform in real-world scenarios.\n",
        "\n",
        "Now, when the training accuracy decreases and the test accuracy increases as the number of neighbors increases, it suggests that the model is becoming less complex or less prone to overfitting. Overfitting occurs when the model becomes too specialized in capturing the noise and details of the training data, making it perform poorly on unseen data.\n",
        "\n",
        "By increasing the number of neighbors in a k-nearest neighbors (KNN) model, you are reducing the complexity of the model. A smaller number of neighbors may result in the model being overly sensitive to the training data and capturing noise, leading to high training accuracy but poor generalization. As you increase the number of neighbors, the model becomes more generalized and less likely to overfit. This can result in a decrease in training accuracy but an increase in test accuracy as the model's ability to generalize to new data improves.\n",
        "\n",
        "Overall, observing a decreasing training accuracy and increasing test accuracy is a positive sign as it indicates that the model is finding a better balance between fitting the training data and generalizing to unseen data."
      ],
      "metadata": {
        "id": "g7X1AewcHo70"
      }
    },
    {
      "cell_type": "markdown",
      "source": [
        "# **2️⃣Regression**"
      ],
      "metadata": {
        "id": "ATihhh_TzvJL"
      }
    },
    {
      "cell_type": "markdown",
      "source": [
        "## **Introduction to regression**\n",
        "\n"
      ],
      "metadata": {
        "id": "wwOEZtX2ytj1"
      }
    },
    {
      "cell_type": "markdown",
      "source": [
        "#### **Creating features**\n"
      ],
      "metadata": {
        "id": "XVm0Ae_yJ-7U"
      }
    },
    {
      "cell_type": "code",
      "source": [
        "sales_df = pd.read_csv(\"advertising_and_sales_clean.csv\")\n",
        "sales_df.head(5)"
      ],
      "metadata": {
        "colab": {
          "base_uri": "https://localhost:8080/",
          "height": 206
        },
        "id": "hLGAJNNkLV2M",
        "outputId": "ceeee7cc-f4c5-4b03-e984-327029a4faa6"
      },
      "execution_count": 13,
      "outputs": [
        {
          "output_type": "execute_result",
          "data": {
            "text/plain": [
              "        tv     radio  social_media influencer      sales\n",
              "0  16000.0   6566.23       2907.98       Mega   54732.76\n",
              "1  13000.0   9237.76       2409.57       Mega   46677.90\n",
              "2  41000.0  15886.45       2913.41       Mega  150177.83\n",
              "3  83000.0  30020.03       6922.30       Mega  298246.34\n",
              "4  15000.0   8437.41       1406.00      Micro   56594.18"
            ],
            "text/html": [
              "\n",
              "  <div id=\"df-a7859842-18f4-4f15-a5df-ee45093ba929\">\n",
              "    <div class=\"colab-df-container\">\n",
              "      <div>\n",
              "<style scoped>\n",
              "    .dataframe tbody tr th:only-of-type {\n",
              "        vertical-align: middle;\n",
              "    }\n",
              "\n",
              "    .dataframe tbody tr th {\n",
              "        vertical-align: top;\n",
              "    }\n",
              "\n",
              "    .dataframe thead th {\n",
              "        text-align: right;\n",
              "    }\n",
              "</style>\n",
              "<table border=\"1\" class=\"dataframe\">\n",
              "  <thead>\n",
              "    <tr style=\"text-align: right;\">\n",
              "      <th></th>\n",
              "      <th>tv</th>\n",
              "      <th>radio</th>\n",
              "      <th>social_media</th>\n",
              "      <th>influencer</th>\n",
              "      <th>sales</th>\n",
              "    </tr>\n",
              "  </thead>\n",
              "  <tbody>\n",
              "    <tr>\n",
              "      <th>0</th>\n",
              "      <td>16000.0</td>\n",
              "      <td>6566.23</td>\n",
              "      <td>2907.98</td>\n",
              "      <td>Mega</td>\n",
              "      <td>54732.76</td>\n",
              "    </tr>\n",
              "    <tr>\n",
              "      <th>1</th>\n",
              "      <td>13000.0</td>\n",
              "      <td>9237.76</td>\n",
              "      <td>2409.57</td>\n",
              "      <td>Mega</td>\n",
              "      <td>46677.90</td>\n",
              "    </tr>\n",
              "    <tr>\n",
              "      <th>2</th>\n",
              "      <td>41000.0</td>\n",
              "      <td>15886.45</td>\n",
              "      <td>2913.41</td>\n",
              "      <td>Mega</td>\n",
              "      <td>150177.83</td>\n",
              "    </tr>\n",
              "    <tr>\n",
              "      <th>3</th>\n",
              "      <td>83000.0</td>\n",
              "      <td>30020.03</td>\n",
              "      <td>6922.30</td>\n",
              "      <td>Mega</td>\n",
              "      <td>298246.34</td>\n",
              "    </tr>\n",
              "    <tr>\n",
              "      <th>4</th>\n",
              "      <td>15000.0</td>\n",
              "      <td>8437.41</td>\n",
              "      <td>1406.00</td>\n",
              "      <td>Micro</td>\n",
              "      <td>56594.18</td>\n",
              "    </tr>\n",
              "  </tbody>\n",
              "</table>\n",
              "</div>\n",
              "      <button class=\"colab-df-convert\" onclick=\"convertToInteractive('df-a7859842-18f4-4f15-a5df-ee45093ba929')\"\n",
              "              title=\"Convert this dataframe to an interactive table.\"\n",
              "              style=\"display:none;\">\n",
              "        \n",
              "  <svg xmlns=\"http://www.w3.org/2000/svg\" height=\"24px\"viewBox=\"0 0 24 24\"\n",
              "       width=\"24px\">\n",
              "    <path d=\"M0 0h24v24H0V0z\" fill=\"none\"/>\n",
              "    <path d=\"M18.56 5.44l.94 2.06.94-2.06 2.06-.94-2.06-.94-.94-2.06-.94 2.06-2.06.94zm-11 1L8.5 8.5l.94-2.06 2.06-.94-2.06-.94L8.5 2.5l-.94 2.06-2.06.94zm10 10l.94 2.06.94-2.06 2.06-.94-2.06-.94-.94-2.06-.94 2.06-2.06.94z\"/><path d=\"M17.41 7.96l-1.37-1.37c-.4-.4-.92-.59-1.43-.59-.52 0-1.04.2-1.43.59L10.3 9.45l-7.72 7.72c-.78.78-.78 2.05 0 2.83L4 21.41c.39.39.9.59 1.41.59.51 0 1.02-.2 1.41-.59l7.78-7.78 2.81-2.81c.8-.78.8-2.07 0-2.86zM5.41 20L4 18.59l7.72-7.72 1.47 1.35L5.41 20z\"/>\n",
              "  </svg>\n",
              "      </button>\n",
              "      \n",
              "  <style>\n",
              "    .colab-df-container {\n",
              "      display:flex;\n",
              "      flex-wrap:wrap;\n",
              "      gap: 12px;\n",
              "    }\n",
              "\n",
              "    .colab-df-convert {\n",
              "      background-color: #E8F0FE;\n",
              "      border: none;\n",
              "      border-radius: 50%;\n",
              "      cursor: pointer;\n",
              "      display: none;\n",
              "      fill: #1967D2;\n",
              "      height: 32px;\n",
              "      padding: 0 0 0 0;\n",
              "      width: 32px;\n",
              "    }\n",
              "\n",
              "    .colab-df-convert:hover {\n",
              "      background-color: #E2EBFA;\n",
              "      box-shadow: 0px 1px 2px rgba(60, 64, 67, 0.3), 0px 1px 3px 1px rgba(60, 64, 67, 0.15);\n",
              "      fill: #174EA6;\n",
              "    }\n",
              "\n",
              "    [theme=dark] .colab-df-convert {\n",
              "      background-color: #3B4455;\n",
              "      fill: #D2E3FC;\n",
              "    }\n",
              "\n",
              "    [theme=dark] .colab-df-convert:hover {\n",
              "      background-color: #434B5C;\n",
              "      box-shadow: 0px 1px 3px 1px rgba(0, 0, 0, 0.15);\n",
              "      filter: drop-shadow(0px 1px 2px rgba(0, 0, 0, 0.3));\n",
              "      fill: #FFFFFF;\n",
              "    }\n",
              "  </style>\n",
              "\n",
              "      <script>\n",
              "        const buttonEl =\n",
              "          document.querySelector('#df-a7859842-18f4-4f15-a5df-ee45093ba929 button.colab-df-convert');\n",
              "        buttonEl.style.display =\n",
              "          google.colab.kernel.accessAllowed ? 'block' : 'none';\n",
              "\n",
              "        async function convertToInteractive(key) {\n",
              "          const element = document.querySelector('#df-a7859842-18f4-4f15-a5df-ee45093ba929');\n",
              "          const dataTable =\n",
              "            await google.colab.kernel.invokeFunction('convertToInteractive',\n",
              "                                                     [key], {});\n",
              "          if (!dataTable) return;\n",
              "\n",
              "          const docLinkHtml = 'Like what you see? Visit the ' +\n",
              "            '<a target=\"_blank\" href=https://colab.research.google.com/notebooks/data_table.ipynb>data table notebook</a>'\n",
              "            + ' to learn more about interactive tables.';\n",
              "          element.innerHTML = '';\n",
              "          dataTable['output_type'] = 'display_data';\n",
              "          await google.colab.output.renderOutput(dataTable, element);\n",
              "          const docLink = document.createElement('div');\n",
              "          docLink.innerHTML = docLinkHtml;\n",
              "          element.appendChild(docLink);\n",
              "        }\n",
              "      </script>\n",
              "    </div>\n",
              "  </div>\n",
              "  "
            ]
          },
          "metadata": {},
          "execution_count": 13
        }
      ]
    },
    {
      "cell_type": "code",
      "source": [
        "import numpy as np\n",
        "\n",
        "# Create X from the radio column's values\n",
        "X = sales_df[\"radio\"].values\n",
        "print(X.shape)\n",
        "\n",
        "# Create y from the sales column's values\n",
        "y = sales_df[\"sales\"].values\n",
        "print(y.shape)\n",
        "\n",
        "# Reshape X by applying the numpy reshape method\n",
        "X = X.reshape(-1, 1)\n",
        "\n",
        "# Check the shape of the features and targets\n",
        "print(X.shape, y.shape)"
      ],
      "metadata": {
        "colab": {
          "base_uri": "https://localhost:8080/"
        },
        "id": "1QZKrlNCKQ-M",
        "outputId": "05beb76f-b3fb-4e6f-f4c2-e68c55baffe8"
      },
      "execution_count": 14,
      "outputs": [
        {
          "output_type": "stream",
          "name": "stdout",
          "text": [
            "(4546,)\n",
            "(4546,)\n",
            "(4546, 1) (4546,)\n"
          ]
        }
      ]
    },
    {
      "cell_type": "markdown",
      "source": [
        "Checking the shape of feature i.e `X` and target varible `y`, we find that both `X` and `y` are one dimensional varible. this is okey for `y` but our features must be formated as 2D array to be accepted by the scikit-learn."
      ],
      "metadata": {
        "id": "7I_3PidpL9h3"
      }
    },
    {
      "cell_type": "markdown",
      "source": [
        "#### **Building a linear regression model**\n"
      ],
      "metadata": {
        "id": "EWj-9zh6KAks"
      }
    },
    {
      "cell_type": "code",
      "source": [
        "# Import LinearRegression\n",
        "from sklearn.linear_model import LinearRegression\n",
        "\n",
        "# Create the model\n",
        "reg = LinearRegression()\n",
        "\n",
        "# Fit the model to the data\n",
        "reg.fit(X, y)\n",
        "\n",
        "# Make predictions\n",
        "predictions = reg.predict(X)\n",
        "\n",
        "print(predictions[:5])"
      ],
      "metadata": {
        "colab": {
          "base_uri": "https://localhost:8080/"
        },
        "id": "g2dAvlAaKRWX",
        "outputId": "d635ce94-b480-41f2-e717-8e6feba9568f"
      },
      "execution_count": 15,
      "outputs": [
        {
          "output_type": "stream",
          "name": "stdout",
          "text": [
            "[ 95491.17119147 117829.51038393 173423.38071499 291603.11444202\n",
            " 111137.28167129]\n"
          ]
        }
      ]
    },
    {
      "cell_type": "markdown",
      "source": [
        "#### **Visualizing a linear regression model**\n"
      ],
      "metadata": {
        "id": "kJGEuHj9KCRk"
      }
    },
    {
      "cell_type": "code",
      "source": [
        "# Import matplotlib.pyplot\n",
        "import matplotlib.pyplot as plt\n",
        "\n",
        "# Create scatter plot\n",
        "plt.scatter(X, y, color=\"blue\")\n",
        "\n",
        "# Create line plot\n",
        "plt.plot(X, predictions, color=\"red\")\n",
        "plt.xlabel(\"Radio Expenditure ($)\")\n",
        "plt.ylabel(\"Sales ($)\")\n",
        "\n",
        "# Display the plot\n",
        "plt.show()"
      ],
      "metadata": {
        "colab": {
          "base_uri": "https://localhost:8080/",
          "height": 453
        },
        "id": "Bnj8DzOKKSAM",
        "outputId": "bbd33b6f-eccf-44e5-e29b-f47257cb41d5"
      },
      "execution_count": 16,
      "outputs": [
        {
          "output_type": "display_data",
          "data": {
            "text/plain": [
              "<Figure size 640x480 with 1 Axes>"
            ],
            "image/png": "[encoded data removed]"
          },
          "metadata": {}
        }
      ]
    },
    {
      "cell_type": "markdown",
      "source": [
        "## **The basics of linear regression**\n"
      ],
      "metadata": {
        "id": "dF-0UgPlKDyc"
      }
    },
    {
      "cell_type": "markdown",
      "source": [
        "#### **Fit and predict for regression**\n"
      ],
      "metadata": {
        "id": "mkw8RBvKKFSc"
      }
    },
    {
      "cell_type": "code",
      "source": [
        "# Create X and y arrays\n",
        "X = sales_df.drop([\"sales\", \"influencer\"], axis=1).values\n",
        "y = sales_df[\"sales\"].values\n",
        "\n",
        "X_train, X_test, y_train, y_test = train_test_split(X, y, test_size=0.3, random_state=42)\n",
        "\n",
        "# Instantiate the model\n",
        "reg = LinearRegression()\n",
        "\n",
        "# Fit the model to the data\n",
        "reg.fit(X_train, y_train)\n",
        "\n",
        "# Make predictions\n",
        "y_pred = reg.predict(X_test)\n",
        "print(f\"Predictions: {y_pred[:2]}, Actual Values: {y_test[:2]}\")"
      ],
      "metadata": {
        "colab": {
          "base_uri": "https://localhost:8080/"
        },
        "id": "PjueGXSvKSlN",
        "outputId": "32c5153a-e7ed-4061-827c-5ca20b4be1ae"
      },
      "execution_count": 17,
      "outputs": [
        {
          "output_type": "stream",
          "name": "stdout",
          "text": [
            "Predictions: [53176.66154234 70996.19873235], Actual Values: [55261.28 67574.9 ]\n"
          ]
        }
      ]
    },
    {
      "cell_type": "markdown",
      "source": [
        "#### **Regression performance**\n"
      ],
      "metadata": {
        "id": "XeWif-T4KGvs"
      }
    },
    {
      "cell_type": "markdown",
      "source": [
        "- `R-squared (R^2)` measures how well a regression model fits the data, with values ranging from 0 to 1. Higher values indicate a better fit.\n",
        "\n",
        "- `RMSE (Root Mean Squared Error)` measures the average deviation between predicted and actual values in a regression model. Lower values indicate better predictive performance.\n",
        "\n",
        "Both metrics are commonly used to assess the quality and accuracy of regression models."
      ],
      "metadata": {
        "id": "Z-QC5XN1PzV0"
      }
    },
    {
      "cell_type": "code",
      "source": [
        "# Import mean_squared_error\n",
        "from sklearn.metrics import mean_squared_error\n",
        "\n",
        "# Compute R-squared\n",
        "r_squared = reg.score(X_test, y_test)\n",
        "\n",
        "# Compute RMSE\n",
        "rmse = mean_squared_error(y_test, y_pred, squared=False)\n",
        "\n",
        "# Print the metrics\n",
        "print(\"R^2: {}\".format(r_squared))\n",
        "print(\"RMSE: {}\".format(rmse))"
      ],
      "metadata": {
        "colab": {
          "base_uri": "https://localhost:8080/"
        },
        "id": "RBsG6zYxKS_k",
        "outputId": "94d91088-b128-42e5-c356-915964c26a0e"
      },
      "execution_count": 18,
      "outputs": [
        {
          "output_type": "stream",
          "name": "stdout",
          "text": [
            "R^2: 0.9990152104759368\n",
            "RMSE: 2944.4331996001006\n"
          ]
        }
      ]
    },
    {
      "cell_type": "markdown",
      "source": [
        "the features explain `99.9%` of the variance in sales values! Looks like this company's advertising strategy is working well!"
      ],
      "metadata": {
        "id": "lKUszGnxPRsH"
      }
    },
    {
      "cell_type": "markdown",
      "source": [
        "## **Cross-validation**\n"
      ],
      "metadata": {
        "id": "Lr34ro45KIWk"
      }
    },
    {
      "cell_type": "markdown",
      "source": [
        "#### **Cross-validation for R-squared**\n"
      ],
      "metadata": {
        "id": "Mq5p03gBKJus"
      }
    },
    {
      "cell_type": "code",
      "source": [
        "# Import the necessary modules\n",
        "from sklearn.model_selection import KFold, cross_val_score\n",
        "\n",
        "# Create a KFold object\n",
        "kf = KFold(n_splits=6, shuffle=True, random_state=5)\n",
        "\n",
        "reg = LinearRegression()\n",
        "\n",
        "# Compute 6-fold cross-validation scores\n",
        "cv_scores = cross_val_score(reg, X, y, cv=kf)\n",
        "\n",
        "# Print scores\n",
        "print(cv_scores)"
      ],
      "metadata": {
        "colab": {
          "base_uri": "https://localhost:8080/"
        },
        "id": "UCZ0BuURKTjz",
        "outputId": "f84f458b-a69f-428f-fe13-48b63ba3d16b"
      },
      "execution_count": 19,
      "outputs": [
        {
          "output_type": "stream",
          "name": "stdout",
          "text": [
            "[0.99894062 0.99909245 0.9990103  0.99896344 0.99889153 0.99903953]\n"
          ]
        }
      ]
    },
    {
      "cell_type": "markdown",
      "source": [
        "#### **Analyzing cross-validation metrics**\n"
      ],
      "metadata": {
        "id": "5Kr3wIPSKLG8"
      }
    },
    {
      "cell_type": "code",
      "source": [
        "# using datacamp values insted of the above values of cv_scores\n",
        "cv_results  = np.array([0.74451678, 0.77241887, 0.76842114, 0.7410406 , 0.75170022, 0.74406484])"
      ],
      "metadata": {
        "id": "C5f_sWvsT_j9"
      },
      "execution_count": 20,
      "outputs": []
    },
    {
      "cell_type": "code",
      "source": [
        "# Print the mean\n",
        "print(np.mean(cv_results))\n",
        "\n",
        "# Print the standard deviation\n",
        "print(np.std(cv_results))\n",
        "\n",
        "# Print the 95% confidence interval\n",
        "print(np.quantile(cv_results, [0.025, 0.975]))"
      ],
      "metadata": {
        "colab": {
          "base_uri": "https://localhost:8080/"
        },
        "id": "_IZSSnV1KT9t",
        "outputId": "d46a369c-1254-41c7-ede0-dd665bd98fbc"
      },
      "execution_count": 21,
      "outputs": [
        {
          "output_type": "stream",
          "name": "stdout",
          "text": [
            "0.7536937416666666\n",
            "0.012305386274436092\n",
            "[0.74141863 0.77191915]\n"
          ]
        }
      ]
    },
    {
      "cell_type": "markdown",
      "source": [
        "An average score of 0.75 with a low standard deviation is pretty good for a model out of the box! Now let's learn how to apply regularization to our regression models."
      ],
      "metadata": {
        "id": "TlDMABLaUfds"
      }
    },
    {
      "cell_type": "markdown",
      "source": [
        "## **Regularized regression**\n"
      ],
      "metadata": {
        "id": "_5x8pKvsKMem"
      }
    },
    {
      "cell_type": "markdown",
      "source": [
        "- Regularized regression refers to a class of regression methods that incorporate a regularization term in the model to prevent overfitting.\n",
        "\n",
        "- Overfitting occurs when a model fits the training data too closely and fails to generalize well to new, unseen data.\n",
        "\n",
        "- Regularization adds a penalty term to the regression objective function, which encourages the model to find a balance between minimizing the error on the training data and reducing the complexity of the model. The regularization term typically depends on the model coefficients, and it helps in shrinking the coefficient values or setting some coefficients to zero.\n",
        "\n",
        "- The two commonly used regularized regression methods are **Ridge regression** (also known as `L2 regularization`) and **Lasso regression** (also known as `L1 regularization`).\n",
        "\n",
        "- **Ridge regression** adds the squared magnitudes of the coefficients to the objective function, while Lasso regression adds the absolute values of the coefficients. These penalties control the complexity of the model and reduce the impact of irrelevant features.\n",
        "\n",
        "- Regularized regression helps in preventing overfitting by constraining the model and improving its generalization ability. It is particularly useful when dealing with high-dimensional data or when there is a possibility of multicollinearity (high correlation) among the predictor variables. By finding an optimal balance between simplicity and accuracy, regularized regression provides more robust and reliable models."
      ],
      "metadata": {
        "id": "C84Xfwa3UvpM"
      }
    },
    {
      "cell_type": "markdown",
      "source": [
        "#### **Regularized regression: Ridge**\n"
      ],
      "metadata": {
        "id": "IH_Ifh3kKNxc"
      }
    },
    {
      "cell_type": "code",
      "source": [
        "# Import Ridge\n",
        "from sklearn.linear_model import Ridge\n",
        "alphas = [0.1, 1.0, 10.0, 100.0, 1000.0, 10000.0]\n",
        "ridge_scores = []\n",
        "for alpha in alphas:\n",
        "\n",
        "  # Create a Ridge regression model\n",
        "  ridge = Ridge(alpha=alpha)\n",
        "\n",
        "  # Fit the data\n",
        "  ridge.fit(X_train, y_train)\n",
        "\n",
        "  # Obtain R-squared\n",
        "  score = ridge.score(X_test, y_test)\n",
        "  ridge_scores.append(score)\n",
        "print(ridge_scores)"
      ],
      "metadata": {
        "colab": {
          "base_uri": "https://localhost:8080/"
        },
        "id": "qACzjZmdKUhd",
        "outputId": "819abb76-dbae-48f0-9d8b-8b10c11e53bd"
      },
      "execution_count": 22,
      "outputs": [
        {
          "output_type": "stream",
          "name": "stdout",
          "text": [
            "[0.9990152104759369, 0.9990152104759373, 0.9990152104759419, 0.9990152104759871, 0.9990152104764388, 0.9990152104809561]\n"
          ]
        }
      ]
    },
    {
      "cell_type": "markdown",
      "source": [
        "The scores don't appear to change much as alpha increases, which is indicative of how well the features explain the variance in the target—even by heavily penalizing large coefficients, underfitting does not occur!"
      ],
      "metadata": {
        "id": "_5EiuZDUW9H0"
      }
    },
    {
      "cell_type": "markdown",
      "source": [
        "#### **Lasso regression for feature importance**"
      ],
      "metadata": {
        "id": "lebIgy06KPMN"
      }
    },
    {
      "cell_type": "code",
      "source": [
        "# Import Lasso\n",
        "from sklearn.linear_model import Lasso\n",
        "\n",
        "# Instantiate a lasso regression model\n",
        "lasso = Lasso(alpha=0.3)\n",
        "\n",
        "# Fit the model to the data\n",
        "lasso.fit(X, y)\n",
        "\n",
        "# Compute and print the coefficients\n",
        "lasso_coef = lasso.coef_\n",
        "print(lasso_coef)\n",
        "\n",
        "sales_columns = sales_df.drop([\"sales\", \"influencer\"], axis=1).columns\n",
        "lasso_coef = lasso_coef.flatten()  # Flatten the coefficient array if necessary\n",
        "\n",
        "plt.bar(np.arange(len(sales_columns)), lasso_coef)\n",
        "plt.xticks(np.arange(len(sales_columns)), sales_columns, rotation=45)\n",
        "plt.show()"
      ],
      "metadata": {
        "colab": {
          "base_uri": "https://localhost:8080/",
          "height": 506
        },
        "id": "LOTjg8UrKU8c",
        "outputId": "5daedeb9-789d-40e7-b465-241b46cf1215"
      },
      "execution_count": 23,
      "outputs": [
        {
          "output_type": "stream",
          "name": "stdout",
          "text": [
            "[ 3.56256962 -0.00397035  0.00496385]\n"
          ]
        },
        {
          "output_type": "display_data",
          "data": {
            "text/plain": [
              "<Figure size 640x480 with 1 Axes>"
            ],
            "image/png": "[encoded data removed]"
          },
          "metadata": {}
        }
      ]
    },
    {
      "cell_type": "markdown",
      "source": [
        "The `flatten()` function is used to convert a multi-dimensional array into a `1-dimensional array`. In this case, it is necessary to flatten the `lasso_coef` array to ensure compatibility with the `plt.bar()` function, which expects a `1-dimensional array` of values for plotting.\n",
        "\n",
        "Flattening the array helps avoid potential errors related to dimension or shape mismatch when creating the bar plot."
      ],
      "metadata": {
        "id": "YTu7Jh_iYQgU"
      }
    },
    {
      "cell_type": "markdown",
      "source": [
        "# **3️⃣Fine-Tuning Your Model**"
      ],
      "metadata": {
        "id": "OyhwAx34z1JD"
      }
    },
    {
      "cell_type": "markdown",
      "source": [
        "## **How good is your model?**"
      ],
      "metadata": {
        "id": "F67NF2QSPveh"
      }
    },
    {
      "cell_type": "markdown",
      "source": [
        "#### **Deciding on a primary metric**\n"
      ],
      "metadata": {
        "id": "a0A_f6lgLGOo"
      }
    },
    {
      "cell_type": "markdown",
      "source": [
        "\n",
        "\n",
        "As you have seen, several metrics can be useful to evaluate the performance of classification models, including `accuracy`, `precision`, `recall`, and `F1-score`."
      ],
      "metadata": {
        "id": "ivRLGiQ2y9aG"
      }
    },
    {
      "cell_type": "markdown",
      "source": [
        "#### **Assessing a diabetes prediction classifier**\n"
      ],
      "metadata": {
        "id": "feBIE46PLHpq"
      }
    },
    {
      "cell_type": "code",
      "source": [
        "diabetes_df = pd.read_csv(\"diabetes_clean.csv\")\n",
        "diabetes_df.head(5)"
      ],
      "metadata": {
        "colab": {
          "base_uri": "https://localhost:8080/",
          "height": 206
        },
        "id": "ksjRYnrfMFKp",
        "outputId": "f51593e5-fb0c-450c-b995-9ca5fe7e2255"
      },
      "execution_count": 24,
      "outputs": [
        {
          "output_type": "execute_result",
          "data": {
            "text/plain": [
              "   pregnancies  glucose  diastolic  triceps  insulin   bmi    dpf  age  \\\n",
              "0            6      148         72       35        0  33.6  0.627   50   \n",
              "1            1       85         66       29        0  26.6  0.351   31   \n",
              "2            8      183         64        0        0  23.3  0.672   32   \n",
              "3            1       89         66       23       94  28.1  0.167   21   \n",
              "4            0      137         40       35      168  43.1  2.288   33   \n",
              "\n",
              "   diabetes  \n",
              "0         1  \n",
              "1         0  \n",
              "2         1  \n",
              "3         0  \n",
              "4         1  "
            ],
            "text/html": [
              "\n",
              "  <div id=\"df-ff2dd518-e3fd-4c89-bcf0-39a36c1d0ed7\">\n",
              "    <div class=\"colab-df-container\">\n",
              "      <div>\n",
              "<style scoped>\n",
              "    .dataframe tbody tr th:only-of-type {\n",
              "        vertical-align: middle;\n",
              "    }\n",
              "\n",
              "    .dataframe tbody tr th {\n",
              "        vertical-align: top;\n",
              "    }\n",
              "\n",
              "    .dataframe thead th {\n",
              "        text-align: right;\n",
              "    }\n",
              "</style>\n",
              "<table border=\"1\" class=\"dataframe\">\n",
              "  <thead>\n",
              "    <tr style=\"text-align: right;\">\n",
              "      <th></th>\n",
              "      <th>pregnancies</th>\n",
              "      <th>glucose</th>\n",
              "      <th>diastolic</th>\n",
              "      <th>triceps</th>\n",
              "      <th>insulin</th>\n",
              "      <th>bmi</th>\n",
              "      <th>dpf</th>\n",
              "      <th>age</th>\n",
              "      <th>diabetes</th>\n",
              "    </tr>\n",
              "  </thead>\n",
              "  <tbody>\n",
              "    <tr>\n",
              "      <th>0</th>\n",
              "      <td>6</td>\n",
              "      <td>148</td>\n",
              "      <td>72</td>\n",
              "      <td>35</td>\n",
              "      <td>0</td>\n",
              "      <td>33.6</td>\n",
              "      <td>0.627</td>\n",
              "      <td>50</td>\n",
              "      <td>1</td>\n",
              "    </tr>\n",
              "    <tr>\n",
              "      <th>1</th>\n",
              "      <td>1</td>\n",
              "      <td>85</td>\n",
              "      <td>66</td>\n",
              "      <td>29</td>\n",
              "      <td>0</td>\n",
              "      <td>26.6</td>\n",
              "      <td>0.351</td>\n",
              "      <td>31</td>\n",
              "      <td>0</td>\n",
              "    </tr>\n",
              "    <tr>\n",
              "      <th>2</th>\n",
              "      <td>8</td>\n",
              "      <td>183</td>\n",
              "      <td>64</td>\n",
              "      <td>0</td>\n",
              "      <td>0</td>\n",
              "      <td>23.3</td>\n",
              "      <td>0.672</td>\n",
              "      <td>32</td>\n",
              "      <td>1</td>\n",
              "    </tr>\n",
              "    <tr>\n",
              "      <th>3</th>\n",
              "      <td>1</td>\n",
              "      <td>89</td>\n",
              "      <td>66</td>\n",
              "      <td>23</td>\n",
              "      <td>94</td>\n",
              "      <td>28.1</td>\n",
              "      <td>0.167</td>\n",
              "      <td>21</td>\n",
              "      <td>0</td>\n",
              "    </tr>\n",
              "    <tr>\n",
              "      <th>4</th>\n",
              "      <td>0</td>\n",
              "      <td>137</td>\n",
              "      <td>40</td>\n",
              "      <td>35</td>\n",
              "      <td>168</td>\n",
              "      <td>43.1</td>\n",
              "      <td>2.288</td>\n",
              "      <td>33</td>\n",
              "      <td>1</td>\n",
              "    </tr>\n",
              "  </tbody>\n",
              "</table>\n",
              "</div>\n",
              "      <button class=\"colab-df-convert\" onclick=\"convertToInteractive('df-ff2dd518-e3fd-4c89-bcf0-39a36c1d0ed7')\"\n",
              "              title=\"Convert this dataframe to an interactive table.\"\n",
              "              style=\"display:none;\">\n",
              "        \n",
              "  <svg xmlns=\"http://www.w3.org/2000/svg\" height=\"24px\"viewBox=\"0 0 24 24\"\n",
              "       width=\"24px\">\n",
              "    <path d=\"M0 0h24v24H0V0z\" fill=\"none\"/>\n",
              "    <path d=\"M18.56 5.44l.94 2.06.94-2.06 2.06-.94-2.06-.94-.94-2.06-.94 2.06-2.06.94zm-11 1L8.5 8.5l.94-2.06 2.06-.94-2.06-.94L8.5 2.5l-.94 2.06-2.06.94zm10 10l.94 2.06.94-2.06 2.06-.94-2.06-.94-.94-2.06-.94 2.06-2.06.94z\"/><path d=\"M17.41 7.96l-1.37-1.37c-.4-.4-.92-.59-1.43-.59-.52 0-1.04.2-1.43.59L10.3 9.45l-7.72 7.72c-.78.78-.78 2.05 0 2.83L4 21.41c.39.39.9.59 1.41.59.51 0 1.02-.2 1.41-.59l7.78-7.78 2.81-2.81c.8-.78.8-2.07 0-2.86zM5.41 20L4 18.59l7.72-7.72 1.47 1.35L5.41 20z\"/>\n",
              "  </svg>\n",
              "      </button>\n",
              "      \n",
              "  <style>\n",
              "    .colab-df-container {\n",
              "      display:flex;\n",
              "      flex-wrap:wrap;\n",
              "      gap: 12px;\n",
              "    }\n",
              "\n",
              "    .colab-df-convert {\n",
              "      background-color: #E8F0FE;\n",
              "      border: none;\n",
              "      border-radius: 50%;\n",
              "      cursor: pointer;\n",
              "      display: none;\n",
              "      fill: #1967D2;\n",
              "      height: 32px;\n",
              "      padding: 0 0 0 0;\n",
              "      width: 32px;\n",
              "    }\n",
              "\n",
              "    .colab-df-convert:hover {\n",
              "      background-color: #E2EBFA;\n",
              "      box-shadow: 0px 1px 2px rgba(60, 64, 67, 0.3), 0px 1px 3px 1px rgba(60, 64, 67, 0.15);\n",
              "      fill: #174EA6;\n",
              "    }\n",
              "\n",
              "    [theme=dark] .colab-df-convert {\n",
              "      background-color: #3B4455;\n",
              "      fill: #D2E3FC;\n",
              "    }\n",
              "\n",
              "    [theme=dark] .colab-df-convert:hover {\n",
              "      background-color: #434B5C;\n",
              "      box-shadow: 0px 1px 3px 1px rgba(0, 0, 0, 0.15);\n",
              "      filter: drop-shadow(0px 1px 2px rgba(0, 0, 0, 0.3));\n",
              "      fill: #FFFFFF;\n",
              "    }\n",
              "  </style>\n",
              "\n",
              "      <script>\n",
              "        const buttonEl =\n",
              "          document.querySelector('#df-ff2dd518-e3fd-4c89-bcf0-39a36c1d0ed7 button.colab-df-convert');\n",
              "        buttonEl.style.display =\n",
              "          google.colab.kernel.accessAllowed ? 'block' : 'none';\n",
              "\n",
              "        async function convertToInteractive(key) {\n",
              "          const element = document.querySelector('#df-ff2dd518-e3fd-4c89-bcf0-39a36c1d0ed7');\n",
              "          const dataTable =\n",
              "            await google.colab.kernel.invokeFunction('convertToInteractive',\n",
              "                                                     [key], {});\n",
              "          if (!dataTable) return;\n",
              "\n",
              "          const docLinkHtml = 'Like what you see? Visit the ' +\n",
              "            '<a target=\"_blank\" href=https://colab.research.google.com/notebooks/data_table.ipynb>data table notebook</a>'\n",
              "            + ' to learn more about interactive tables.';\n",
              "          element.innerHTML = '';\n",
              "          dataTable['output_type'] = 'display_data';\n",
              "          await google.colab.output.renderOutput(dataTable, element);\n",
              "          const docLink = document.createElement('div');\n",
              "          docLink.innerHTML = docLinkHtml;\n",
              "          element.appendChild(docLink);\n",
              "        }\n",
              "      </script>\n",
              "    </div>\n",
              "  </div>\n",
              "  "
            ]
          },
          "metadata": {},
          "execution_count": 24
        }
      ]
    },
    {
      "cell_type": "code",
      "source": [
        "# Import the module\n",
        "from sklearn.metrics import confusion_matrix, classification_report\n",
        "from sklearn.model_selection import train_test_split\n",
        "\n",
        "# Create X and y arrays\n",
        "X = diabetes_df.drop([\"diabetes\"], axis=1).values\n",
        "y = diabetes_df[\"diabetes\"].values\n",
        "\n",
        "X_train, X_test, y_train, y_test = train_test_split(X, y, test_size=0.2, random_state=42)\n",
        "\n",
        "knn = KNeighborsClassifier(n_neighbors=6)\n",
        "\n",
        "# Fit the model to the training data\n",
        "knn.fit(X_train, y_train)\n",
        "\n",
        "# Predict the labels of the test data: y_pred\n",
        "y_pred = knn.predict(X_test)\n",
        "\n",
        "# Generate the confusion matrix and classification report\n",
        "print(confusion_matrix(y_test, y_pred))\n",
        "print(classification_report(y_test, y_pred))"
      ],
      "metadata": {
        "colab": {
          "base_uri": "https://localhost:8080/"
        },
        "id": "wRCKf84rMZ1h",
        "outputId": "9a2fd610-0d6f-4035-d837-b48270250d86"
      },
      "execution_count": 25,
      "outputs": [
        {
          "output_type": "stream",
          "name": "stdout",
          "text": [
            "[[81 18]\n",
            " [24 31]]\n",
            "              precision    recall  f1-score   support\n",
            "\n",
            "           0       0.77      0.82      0.79        99\n",
            "           1       0.63      0.56      0.60        55\n",
            "\n",
            "    accuracy                           0.73       154\n",
            "   macro avg       0.70      0.69      0.70       154\n",
            "weighted avg       0.72      0.73      0.72       154\n",
            "\n"
          ]
        }
      ]
    },
    {
      "cell_type": "markdown",
      "source": [
        "**Ploting the `confusion matrics`**"
      ],
      "metadata": {
        "id": "4DAgCsqbN3-y"
      }
    },
    {
      "cell_type": "code",
      "source": [
        "import matplotlib.pyplot as plt\n",
        "import numpy as np\n",
        "from sklearn.metrics import confusion_matrix\n",
        "import seaborn as sns\n",
        "\n",
        "# Define the confusion matrix\n",
        "cm = confusion_matrix(y_test, y_pred)\n",
        "\n",
        "# Create labels for the matrix\n",
        "labels = np.unique(y_test)\n",
        "\n",
        "# Create a heatmap of the confusion matrix\n",
        "sns.heatmap(cm, annot=True, fmt=\"d\", cmap=\"Blues\", xticklabels=labels, yticklabels=labels)\n",
        "\n",
        "# Add labels, title, and axis ticks\n",
        "plt.xlabel('Predicted')\n",
        "plt.ylabel('Actual')\n",
        "plt.title('Confusion Matrix')\n",
        "\n",
        "# Display the plot\n",
        "plt.show()"
      ],
      "metadata": {
        "colab": {
          "base_uri": "https://localhost:8080/",
          "height": 477
        },
        "id": "xgpoaLIyNn72",
        "outputId": "1d284aa7-d4d2-4b8f-cef8-16455c05b238"
      },
      "execution_count": 26,
      "outputs": [
        {
          "output_type": "display_data",
          "data": {
            "text/plain": [
              "<Figure size 640x480 with 2 Axes>"
            ],
            "image/png": "[encoded data removed]"
          },
          "metadata": {}
        }
      ]
    },
    {
      "cell_type": "markdown",
      "source": [
        "The model produced `31` `true positives` and `18` `false positives`, meaning precision is above  than 50%, which is confirmed in the classification report. The output also shows a better `F1-score` for the zero class, which represents individuals who do not have diabetes"
      ],
      "metadata": {
        "id": "eTannn9gNGu5"
      }
    },
    {
      "cell_type": "markdown",
      "source": [
        "## **Logistic regression and the ROC curve**\n"
      ],
      "metadata": {
        "id": "GiNUzkUWLJGJ"
      }
    },
    {
      "cell_type": "markdown",
      "source": [
        "#### **Building a logistic regression model**\n"
      ],
      "metadata": {
        "id": "K54oxyv1LLEQ"
      }
    },
    {
      "cell_type": "code",
      "source": [
        "# Import the module\n",
        "from sklearn.linear_model import LogisticRegression\n",
        "from sklearn.model_selection import train_test_split\n",
        "from sklearn.preprocessing import StandardScaler\n",
        "\n",
        "# Create X and y arrays\n",
        "X = diabetes_df.drop([\"diabetes\"], axis=1).values\n",
        "y = diabetes_df[\"diabetes\"].values\n",
        "\n",
        "scaler = StandardScaler()\n",
        "X_scaled = scaler.fit_transform(X)\n",
        "\n",
        "X_train, X_test, y_train, y_test = train_test_split(X, y, test_size=0.3, random_state=42)\n",
        "\n",
        "# Instantiate the model\n",
        "logreg = LogisticRegression(max_iter=1000)\n",
        "\n",
        "# Fit the model\n",
        "logreg.fit(X_train, y_train)\n",
        "\n",
        "# Predict probabilities\n",
        "y_pred_probs = logreg.predict_proba(X_test)[:, 1]\n",
        "\n",
        "print(y_pred_probs[:10])"
      ],
      "metadata": {
        "colab": {
          "base_uri": "https://localhost:8080/"
        },
        "id": "G3WUratybgea",
        "outputId": "7585a5ac-d417-40c5-da44-398811791081"
      },
      "execution_count": 27,
      "outputs": [
        {
          "output_type": "stream",
          "name": "stdout",
          "text": [
            "[0.26656619 0.19010665 0.1235877  0.14565317 0.50460975 0.45336229\n",
            " 0.01327809 0.59615896 0.56323694 0.79996745]\n"
          ]
        }
      ]
    },
    {
      "cell_type": "markdown",
      "source": [
        "👆 Probability of a diabetes diagnosis for the first `10` individuals in the test set ranges from `0.01` to `0.79`. Now let's plot the ROC curve to visualize performance using different thresholds"
      ],
      "metadata": {
        "id": "lZSHlQAAcq5n"
      }
    },
    {
      "cell_type": "markdown",
      "source": [
        "#### **The ROC curve**\n"
      ],
      "metadata": {
        "id": "-OVP5QVCLMfB"
      }
    },
    {
      "cell_type": "code",
      "source": [
        "# Import roc_curve\n",
        "from sklearn.metrics import roc_curve\n",
        "\n",
        "# Generate ROC curve values: fpr, tpr, thresholds\n",
        "fpr, tpr, thresholds = roc_curve(y_test, y_pred_probs)\n",
        "\n",
        "plt.plot([0, 1], [0, 1], 'k--')\n",
        "\n",
        "# Plot tpr against fpr\n",
        "plt.plot(fpr, tpr)\n",
        "plt.xlabel('False Positive Rate')\n",
        "plt.ylabel('True Positive Rate')\n",
        "plt.title('ROC Curve for Diabetes Prediction')\n",
        "plt.show()"
      ],
      "metadata": {
        "colab": {
          "base_uri": "https://localhost:8080/",
          "height": 477
        },
        "id": "3IDerDdgc3Ax",
        "outputId": "8c83aec3-3631-4ad3-bf9c-11f430f6d6e8"
      },
      "execution_count": 28,
      "outputs": [
        {
          "output_type": "display_data",
          "data": {
            "text/plain": [
              "<Figure size 640x480 with 1 Axes>"
            ],
            "image/png": "[encoded data removed]"
          },
          "metadata": {}
        }
      ]
    },
    {
      "cell_type": "markdown",
      "source": [
        "#### **ROC-AUC**\n"
      ],
      "metadata": {
        "id": "UKfGLqllLN6Y"
      }
    },
    {
      "cell_type": "code",
      "source": [
        "# Import roc_auc_score, confusion_matrix, and classification_report\n",
        "from sklearn.metrics import roc_auc_score, confusion_matrix, classification_report\n",
        "\n",
        "# Calculate roc_auc_score\n",
        "print(roc_auc_score(y_test, y_pred_probs))\n",
        "\n",
        "# Convert predicted probabilities to binary labels\n",
        "y_pred = (y_pred_probs > 0.5).astype(int)\n",
        "\n",
        "# Calculate the confusion matrix\n",
        "print(confusion_matrix(y_test, y_pred))\n",
        "\n",
        "# Calculate the classification report\n",
        "print(classification_report(y_test, y_pred))\n"
      ],
      "metadata": {
        "colab": {
          "base_uri": "https://localhost:8080/"
        },
        "id": "-iwcoUo8dIV6",
        "outputId": "7a9e4048-4ed7-417b-e631-9e4b9fa7de9b"
      },
      "execution_count": 29,
      "outputs": [
        {
          "output_type": "stream",
          "name": "stdout",
          "text": [
            "0.7964403973509933\n",
            "[[120  31]\n",
            " [ 30  50]]\n",
            "              precision    recall  f1-score   support\n",
            "\n",
            "           0       0.80      0.79      0.80       151\n",
            "           1       0.62      0.62      0.62        80\n",
            "\n",
            "    accuracy                           0.74       231\n",
            "   macro avg       0.71      0.71      0.71       231\n",
            "weighted avg       0.74      0.74      0.74       231\n",
            "\n"
          ]
        }
      ]
    },
    {
      "cell_type": "markdown",
      "source": [
        "Did you notice that logistic regression performs better than the `KNN` model across all the metrics you calculated? A `ROC` `AUC` score of `0.8002` means this model is `60%` better than a chance model at correctly predicting labels! scikit-learn makes it easy to produce several classification metrics with only a few lines of code."
      ],
      "metadata": {
        "id": "BEInBQxidS3J"
      }
    },
    {
      "cell_type": "markdown",
      "source": [
        "## **Hyperparameter tuning**\n"
      ],
      "metadata": {
        "id": "14tIKdwILPwQ"
      }
    },
    {
      "cell_type": "markdown",
      "source": [
        "#### **Hyperparameter tuning with GridSearchCV**\n"
      ],
      "metadata": {
        "id": "glbAazBmLRHZ"
      }
    },
    {
      "cell_type": "markdown",
      "source": [
        "`Ridge()`"
      ],
      "metadata": {
        "id": "uDTvP7I7fVCJ"
      }
    },
    {
      "cell_type": "code",
      "source": [
        "# Import the module\n",
        "from sklearn.linear_model import LogisticRegression\n",
        "from sklearn.model_selection import train_test_split\n",
        "from sklearn.preprocessing import StandardScaler\n",
        "from sklearn.linear_model import Ridge\n",
        "from sklearn.model_selection import GridSearchCV, KFold\n",
        "import numpy as np\n",
        "\n",
        "# Create X and y arrays\n",
        "X = diabetes_df.drop([\"diabetes\"], axis=1).values\n",
        "y = diabetes_df[\"diabetes\"].values\n",
        "\n",
        "scaler = StandardScaler()\n",
        "X_scaled = scaler.fit_transform(X)\n",
        "\n",
        "X_train, X_test, y_train, y_test = train_test_split(X, y, test_size=0.3, random_state=42)\n",
        "\n",
        "\n",
        "# Create a KFold object\n",
        "kf = KFold(n_splits=5, shuffle=True, random_state=42)\n",
        "\n",
        "# Set up the parameter grid with the desired values for the hyperparameters\n",
        "param_grid = {\n",
        "    \"alpha\": np.linspace(0.00001, 1, 20),\n",
        "    \"solver\": [\"sag\", \"lsqr\"]\n",
        "}\n",
        "\n",
        "ridge = Ridge(max_iter=10000)  # Increase max_iter to allow for more iterations\n",
        "\n",
        "ridge_cv = GridSearchCV(ridge, param_grid, cv=kf)\n",
        "ridge_cv.fit(X_train, y_train)\n",
        "\n",
        "print(ridge_cv.best_params_, ridge_cv.best_score_)"
      ],
      "metadata": {
        "colab": {
          "base_uri": "https://localhost:8080/"
        },
        "id": "oLR7cVi7fT5p",
        "outputId": "1f159ff2-7c85-455c-9a55-1e5d77061eba"
      },
      "execution_count": 30,
      "outputs": [
        {
          "output_type": "stream",
          "name": "stdout",
          "text": [
            "{'alpha': 0.947368947368421, 'solver': 'sag'} 0.2966523471733867\n"
          ]
        }
      ]
    },
    {
      "cell_type": "markdown",
      "source": [
        "`lasso`"
      ],
      "metadata": {
        "id": "Q5A0URGvfY9p"
      }
    },
    {
      "cell_type": "code",
      "source": [
        "# Import GridSearchCV\n",
        "from sklearn.model_selection import GridSearchCV\n",
        "\n",
        "# Set up the parameter grid\n",
        "param_grid = {\"alpha\": np.linspace(0.00001, 1, 20)}\n",
        "\n",
        "# Instantiate lasso_cv\n",
        "lasso_cv = GridSearchCV(lasso, param_grid, cv=kf)\n",
        "\n",
        "# Fit to the training data\n",
        "lasso_cv.fit(X_train, y_train)\n",
        "print(\"Tuned lasso paramaters: {}\".format(lasso_cv.best_params_))\n",
        "print(\"Tuned lasso score: {}\".format(lasso_cv.best_score_))"
      ],
      "metadata": {
        "colab": {
          "base_uri": "https://localhost:8080/"
        },
        "id": "vO4jr0Sdd-Ti",
        "outputId": "1b07fe9a-aaaa-48fc-dab3-289a435d5cf4"
      },
      "execution_count": 31,
      "outputs": [
        {
          "output_type": "stream",
          "name": "stdout",
          "text": [
            "Tuned lasso paramaters: {'alpha': 1e-05}\n",
            "Tuned lasso score: 0.29604708033272703\n"
          ]
        }
      ]
    },
    {
      "cell_type": "markdown",
      "source": [
        "#### **Hyperparameter tuning with RandomizedSearchCV**"
      ],
      "metadata": {
        "id": "qyp4jTIbLSZQ"
      }
    },
    {
      "cell_type": "code",
      "source": [
        "from sklearn.model_selection import RandomizedSearchCV\n",
        "import numpy as np\n",
        "\n",
        "# Create the parameter space\n",
        "params = {\n",
        "    \"penalty\": [\"l2\"],\n",
        "    \"tol\": np.linspace(0.0001, 1.0, 50),\n",
        "    \"C\": np.linspace(0.1, 1.0, 50),\n",
        "    \"class_weight\": [\"balanced\", {0: 0.8, 1: 0.2}]\n",
        "}\n",
        "\n",
        "# Instantiate the RandomizedSearchCV object\n",
        "logreg_cv = RandomizedSearchCV(logreg, params, cv=kf)\n",
        "\n",
        "# Fit the data to the model\n",
        "logreg_cv.fit(X_train, y_train)\n",
        "\n",
        "# Print the tuned parameters and score\n",
        "print(\"Tuned Logistic Regression Parameters: {}\".format(logreg_cv.best_params_))\n",
        "print(\"Tuned Logistic Regression Best Accuracy Score: {}\".format(logreg_cv.best_score_))\n"
      ],
      "metadata": {
        "colab": {
          "base_uri": "https://localhost:8080/"
        },
        "id": "2qYFqKucd-xk",
        "outputId": "d6eb3c69-67aa-4f70-e800-3f3bf603ce26"
      },
      "execution_count": 32,
      "outputs": [
        {
          "output_type": "stream",
          "name": "stdout",
          "text": [
            "Tuned Logistic Regression Parameters: {'tol': 0.6530959183673469, 'penalty': 'l2', 'class_weight': 'balanced', 'C': 0.9816326530612246}\n",
            "Tuned Logistic Regression Best Accuracy Score: 0.7634129456559363\n"
          ]
        }
      ]
    },
    {
      "cell_type": "markdown",
      "source": [
        "Even without exhaustively trying every combination of hyperparameters, the model has an accuracy of over `70%` on the test set! So far we have worked with clean datasets."
      ],
      "metadata": {
        "id": "UoppmID8iBBl"
      }
    },
    {
      "cell_type": "markdown",
      "source": [
        "# **4️⃣Preprocessing and Pipelines** (dataset Need to be fixed)"
      ],
      "metadata": {
        "id": "ZdqJvF5Hz5ri"
      }
    },
    {
      "cell_type": "markdown",
      "source": [
        "## **Preprocessing data**\n"
      ],
      "metadata": {
        "id": "j5KKpZlZzKe3"
      }
    },
    {
      "cell_type": "code",
      "source": [
        "music_df = pd.read_csv(\"music_clean.csv\")"
      ],
      "metadata": {
        "id": "D_RIPRnDmDjg"
      },
      "execution_count": 33,
      "outputs": []
    },
    {
      "cell_type": "code",
      "source": [
        "import pandas as pd\n",
        "import random\n",
        "import numpy as np\n",
        "\n",
        "# Set the random seed\n",
        "np.random.seed(42)\n",
        "\n",
        "# Define the list of music genres\n",
        "music_genres = [\"Rock\", \"Blues\", \"Jazz\", \"Rap\", \"Hip-Hop\", \"Country\", \"Alternative\", \"Electronic\", \"Classical\", \"Anime\"]\n",
        "\n",
        "# Generate a random music genre for each row\n",
        "random_music_genres = [random.choice(music_genres) if random.random() > 0.1 else np.nan for _ in range(1000)]\n",
        "\n",
        "# Add the \"music_genre\" column to the dataframe\n",
        "music_df[\"music_genre\"] = random_music_genres\n",
        "\n",
        "# Drop the \"genre\" and \"Unnamed: 0\" columns\n",
        "music_df = music_df.drop(columns=[\"genre\", \"Unnamed: 0\"], axis=1)\n",
        "\n",
        "# renaming the music_genre to genre\n",
        "music_df = music_df.rename(columns={'music_genre': 'genre'})\n",
        "\n",
        "# Verify the changes\n",
        "print(music_df[\"genre\"].value_counts())"
      ],
      "metadata": {
        "colab": {
          "base_uri": "https://localhost:8080/"
        },
        "id": "hWN1y8r3t2HN",
        "outputId": "0c4fdc20-1e56-46cb-a48b-ba738e19b7ed"
      },
      "execution_count": 34,
      "outputs": [
        {
          "output_type": "stream",
          "name": "stdout",
          "text": [
            "Alternative    104\n",
            "Anime          102\n",
            "Electronic      92\n",
            "Rock            91\n",
            "Rap             89\n",
            "Hip-Hop         85\n",
            "Blues           84\n",
            "Country         83\n",
            "Jazz            78\n",
            "Classical       77\n",
            "Name: genre, dtype: int64\n"
          ]
        }
      ]
    },
    {
      "cell_type": "code",
      "source": [
        "music_df.head(10)"
      ],
      "metadata": {
        "colab": {
          "base_uri": "https://localhost:8080/",
          "height": 363
        },
        "id": "KTn9di8aooPA",
        "outputId": "6fb0fd1b-e662-4fec-ca02-cf756c17a494"
      },
      "execution_count": 35,
      "outputs": [
        {
          "output_type": "execute_result",
          "data": {
            "text/plain": [
              "   popularity  acousticness  danceability  duration_ms  energy  \\\n",
              "0        60.0      0.896000         0.726     214547.0   0.177   \n",
              "1        63.0      0.003840         0.635     190448.0   0.908   \n",
              "2        59.0      0.000075         0.352     456320.0   0.956   \n",
              "3        54.0      0.945000         0.488     352280.0   0.326   \n",
              "4        55.0      0.245000         0.667     273693.0   0.647   \n",
              "5        62.0      0.010800         0.743     243333.0   0.670   \n",
              "6        58.0      0.001070         0.500     207173.0   0.836   \n",
              "7        74.0      0.076400         0.686     200467.0   0.783   \n",
              "8        64.0      0.002720         0.235     227296.0   0.860   \n",
              "9        55.0      0.122000         0.500     173773.0   0.854   \n",
              "\n",
              "   instrumentalness  liveness  loudness  speechiness       tempo  valence  \\\n",
              "0          0.000002    0.1160   -14.824       0.0353   92.934000    0.618   \n",
              "1          0.083400    0.2390    -4.795       0.0563  110.012000    0.637   \n",
              "2          0.020300    0.1250    -3.634       0.1490  122.897000    0.228   \n",
              "3          0.015700    0.1190   -12.020       0.0328  106.063000    0.323   \n",
              "4          0.000297    0.0633    -7.787       0.0487  143.995000    0.300   \n",
              "5          0.070200    0.2200    -4.547       0.0293  110.832000    0.934   \n",
              "6          0.000040    0.1970    -6.165       0.0454   90.011000    0.410   \n",
              "7          0.000000    0.1630    -4.977       0.1190  119.952961    0.814   \n",
              "8          0.096900    0.3880    -2.842       0.0561  127.788000    0.342   \n",
              "9          0.000000    0.0794    -5.151       0.0945   94.960000    0.404   \n",
              "\n",
              "         genre  \n",
              "0      Hip-Hop  \n",
              "1          Rap  \n",
              "2        Anime  \n",
              "3          NaN  \n",
              "4        Anime  \n",
              "5      Hip-Hop  \n",
              "6  Alternative  \n",
              "7        Blues  \n",
              "8  Alternative  \n",
              "9          NaN  "
            ],
            "text/html": [
              "\n",
              "  <div id=\"df-56ddf17e-b611-430a-ae83-d8f0fb40756a\">\n",
              "    <div class=\"colab-df-container\">\n",
              "      <div>\n",
              "<style scoped>\n",
              "    .dataframe tbody tr th:only-of-type {\n",
              "        vertical-align: middle;\n",
              "    }\n",
              "\n",
              "    .dataframe tbody tr th {\n",
              "        vertical-align: top;\n",
              "    }\n",
              "\n",
              "    .dataframe thead th {\n",
              "        text-align: right;\n",
              "    }\n",
              "</style>\n",
              "<table border=\"1\" class=\"dataframe\">\n",
              "  <thead>\n",
              "    <tr style=\"text-align: right;\">\n",
              "      <th></th>\n",
              "      <th>popularity</th>\n",
              "      <th>acousticness</th>\n",
              "      <th>danceability</th>\n",
              "      <th>duration_ms</th>\n",
              "      <th>energy</th>\n",
              "      <th>instrumentalness</th>\n",
              "      <th>liveness</th>\n",
              "      <th>loudness</th>\n",
              "      <th>speechiness</th>\n",
              "      <th>tempo</th>\n",
              "      <th>valence</th>\n",
              "      <th>genre</th>\n",
              "    </tr>\n",
              "  </thead>\n",
              "  <tbody>\n",
              "    <tr>\n",
              "      <th>0</th>\n",
              "      <td>60.0</td>\n",
              "      <td>0.896000</td>\n",
              "      <td>0.726</td>\n",
              "      <td>214547.0</td>\n",
              "      <td>0.177</td>\n",
              "      <td>0.000002</td>\n",
              "      <td>0.1160</td>\n",
              "      <td>-14.824</td>\n",
              "      <td>0.0353</td>\n",
              "      <td>92.934000</td>\n",
              "      <td>0.618</td>\n",
              "      <td>Hip-Hop</td>\n",
              "    </tr>\n",
              "    <tr>\n",
              "      <th>1</th>\n",
              "      <td>63.0</td>\n",
              "      <td>0.003840</td>\n",
              "      <td>0.635</td>\n",
              "      <td>190448.0</td>\n",
              "      <td>0.908</td>\n",
              "      <td>0.083400</td>\n",
              "      <td>0.2390</td>\n",
              "      <td>-4.795</td>\n",
              "      <td>0.0563</td>\n",
              "      <td>110.012000</td>\n",
              "      <td>0.637</td>\n",
              "      <td>Rap</td>\n",
              "    </tr>\n",
              "    <tr>\n",
              "      <th>2</th>\n",
              "      <td>59.0</td>\n",
              "      <td>0.000075</td>\n",
              "      <td>0.352</td>\n",
              "      <td>456320.0</td>\n",
              "      <td>0.956</td>\n",
              "      <td>0.020300</td>\n",
              "      <td>0.1250</td>\n",
              "      <td>-3.634</td>\n",
              "      <td>0.1490</td>\n",
              "      <td>122.897000</td>\n",
              "      <td>0.228</td>\n",
              "      <td>Anime</td>\n",
              "    </tr>\n",
              "    <tr>\n",
              "      <th>3</th>\n",
              "      <td>54.0</td>\n",
              "      <td>0.945000</td>\n",
              "      <td>0.488</td>\n",
              "      <td>352280.0</td>\n",
              "      <td>0.326</td>\n",
              "      <td>0.015700</td>\n",
              "      <td>0.1190</td>\n",
              "      <td>-12.020</td>\n",
              "      <td>0.0328</td>\n",
              "      <td>106.063000</td>\n",
              "      <td>0.323</td>\n",
              "      <td>NaN</td>\n",
              "    </tr>\n",
              "    <tr>\n",
              "      <th>4</th>\n",
              "      <td>55.0</td>\n",
              "      <td>0.245000</td>\n",
              "      <td>0.667</td>\n",
              "      <td>273693.0</td>\n",
              "      <td>0.647</td>\n",
              "      <td>0.000297</td>\n",
              "      <td>0.0633</td>\n",
              "      <td>-7.787</td>\n",
              "      <td>0.0487</td>\n",
              "      <td>143.995000</td>\n",
              "      <td>0.300</td>\n",
              "      <td>Anime</td>\n",
              "    </tr>\n",
              "    <tr>\n",
              "      <th>5</th>\n",
              "      <td>62.0</td>\n",
              "      <td>0.010800</td>\n",
              "      <td>0.743</td>\n",
              "      <td>243333.0</td>\n",
              "      <td>0.670</td>\n",
              "      <td>0.070200</td>\n",
              "      <td>0.2200</td>\n",
              "      <td>-4.547</td>\n",
              "      <td>0.0293</td>\n",
              "      <td>110.832000</td>\n",
              "      <td>0.934</td>\n",
              "      <td>Hip-Hop</td>\n",
              "    </tr>\n",
              "    <tr>\n",
              "      <th>6</th>\n",
              "      <td>58.0</td>\n",
              "      <td>0.001070</td>\n",
              "      <td>0.500</td>\n",
              "      <td>207173.0</td>\n",
              "      <td>0.836</td>\n",
              "      <td>0.000040</td>\n",
              "      <td>0.1970</td>\n",
              "      <td>-6.165</td>\n",
              "      <td>0.0454</td>\n",
              "      <td>90.011000</td>\n",
              "      <td>0.410</td>\n",
              "      <td>Alternative</td>\n",
              "    </tr>\n",
              "    <tr>\n",
              "      <th>7</th>\n",
              "      <td>74.0</td>\n",
              "      <td>0.076400</td>\n",
              "      <td>0.686</td>\n",
              "      <td>200467.0</td>\n",
              "      <td>0.783</td>\n",
              "      <td>0.000000</td>\n",
              "      <td>0.1630</td>\n",
              "      <td>-4.977</td>\n",
              "      <td>0.1190</td>\n",
              "      <td>119.952961</td>\n",
              "      <td>0.814</td>\n",
              "      <td>Blues</td>\n",
              "    </tr>\n",
              "    <tr>\n",
              "      <th>8</th>\n",
              "      <td>64.0</td>\n",
              "      <td>0.002720</td>\n",
              "      <td>0.235</td>\n",
              "      <td>227296.0</td>\n",
              "      <td>0.860</td>\n",
              "      <td>0.096900</td>\n",
              "      <td>0.3880</td>\n",
              "      <td>-2.842</td>\n",
              "      <td>0.0561</td>\n",
              "      <td>127.788000</td>\n",
              "      <td>0.342</td>\n",
              "      <td>Alternative</td>\n",
              "    </tr>\n",
              "    <tr>\n",
              "      <th>9</th>\n",
              "      <td>55.0</td>\n",
              "      <td>0.122000</td>\n",
              "      <td>0.500</td>\n",
              "      <td>173773.0</td>\n",
              "      <td>0.854</td>\n",
              "      <td>0.000000</td>\n",
              "      <td>0.0794</td>\n",
              "      <td>-5.151</td>\n",
              "      <td>0.0945</td>\n",
              "      <td>94.960000</td>\n",
              "      <td>0.404</td>\n",
              "      <td>NaN</td>\n",
              "    </tr>\n",
              "  </tbody>\n",
              "</table>\n",
              "</div>\n",
              "      <button class=\"colab-df-convert\" onclick=\"convertToInteractive('df-56ddf17e-b611-430a-ae83-d8f0fb40756a')\"\n",
              "              title=\"Convert this dataframe to an interactive table.\"\n",
              "              style=\"display:none;\">\n",
              "        \n",
              "  <svg xmlns=\"http://www.w3.org/2000/svg\" height=\"24px\"viewBox=\"0 0 24 24\"\n",
              "       width=\"24px\">\n",
              "    <path d=\"M0 0h24v24H0V0z\" fill=\"none\"/>\n",
              "    <path d=\"M18.56 5.44l.94 2.06.94-2.06 2.06-.94-2.06-.94-.94-2.06-.94 2.06-2.06.94zm-11 1L8.5 8.5l.94-2.06 2.06-.94-2.06-.94L8.5 2.5l-.94 2.06-2.06.94zm10 10l.94 2.06.94-2.06 2.06-.94-2.06-.94-.94-2.06-.94 2.06-2.06.94z\"/><path d=\"M17.41 7.96l-1.37-1.37c-.4-.4-.92-.59-1.43-.59-.52 0-1.04.2-1.43.59L10.3 9.45l-7.72 7.72c-.78.78-.78 2.05 0 2.83L4 21.41c.39.39.9.59 1.41.59.51 0 1.02-.2 1.41-.59l7.78-7.78 2.81-2.81c.8-.78.8-2.07 0-2.86zM5.41 20L4 18.59l7.72-7.72 1.47 1.35L5.41 20z\"/>\n",
              "  </svg>\n",
              "      </button>\n",
              "      \n",
              "  <style>\n",
              "    .colab-df-container {\n",
              "      display:flex;\n",
              "      flex-wrap:wrap;\n",
              "      gap: 12px;\n",
              "    }\n",
              "\n",
              "    .colab-df-convert {\n",
              "      background-color: #E8F0FE;\n",
              "      border: none;\n",
              "      border-radius: 50%;\n",
              "      cursor: pointer;\n",
              "      display: none;\n",
              "      fill: #1967D2;\n",
              "      height: 32px;\n",
              "      padding: 0 0 0 0;\n",
              "      width: 32px;\n",
              "    }\n",
              "\n",
              "    .colab-df-convert:hover {\n",
              "      background-color: #E2EBFA;\n",
              "      box-shadow: 0px 1px 2px rgba(60, 64, 67, 0.3), 0px 1px 3px 1px rgba(60, 64, 67, 0.15);\n",
              "      fill: #174EA6;\n",
              "    }\n",
              "\n",
              "    [theme=dark] .colab-df-convert {\n",
              "      background-color: #3B4455;\n",
              "      fill: #D2E3FC;\n",
              "    }\n",
              "\n",
              "    [theme=dark] .colab-df-convert:hover {\n",
              "      background-color: #434B5C;\n",
              "      box-shadow: 0px 1px 3px 1px rgba(0, 0, 0, 0.15);\n",
              "      filter: drop-shadow(0px 1px 2px rgba(0, 0, 0, 0.3));\n",
              "      fill: #FFFFFF;\n",
              "    }\n",
              "  </style>\n",
              "\n",
              "      <script>\n",
              "        const buttonEl =\n",
              "          document.querySelector('#df-56ddf17e-b611-430a-ae83-d8f0fb40756a button.colab-df-convert');\n",
              "        buttonEl.style.display =\n",
              "          google.colab.kernel.accessAllowed ? 'block' : 'none';\n",
              "\n",
              "        async function convertToInteractive(key) {\n",
              "          const element = document.querySelector('#df-56ddf17e-b611-430a-ae83-d8f0fb40756a');\n",
              "          const dataTable =\n",
              "            await google.colab.kernel.invokeFunction('convertToInteractive',\n",
              "                                                     [key], {});\n",
              "          if (!dataTable) return;\n",
              "\n",
              "          const docLinkHtml = 'Like what you see? Visit the ' +\n",
              "            '<a target=\"_blank\" href=https://colab.research.google.com/notebooks/data_table.ipynb>data table notebook</a>'\n",
              "            + ' to learn more about interactive tables.';\n",
              "          element.innerHTML = '';\n",
              "          dataTable['output_type'] = 'display_data';\n",
              "          await google.colab.output.renderOutput(dataTable, element);\n",
              "          const docLink = document.createElement('div');\n",
              "          docLink.innerHTML = docLinkHtml;\n",
              "          element.appendChild(docLink);\n",
              "        }\n",
              "      </script>\n",
              "    </div>\n",
              "  </div>\n",
              "  "
            ]
          },
          "metadata": {},
          "execution_count": 35
        }
      ]
    },
    {
      "cell_type": "markdown",
      "source": [
        "#### **Creating dummy variables**\n"
      ],
      "metadata": {
        "id": "L1nEu0mNiWwK"
      }
    },
    {
      "cell_type": "code",
      "source": [
        "# Create music_dummies\n",
        "music_dummies = pd.get_dummies(music_df, drop_first=True)\n",
        "\n",
        "# Print the new DataFrame's shape\n",
        "print(\"Shape of music_dummies: {}\".format(music_dummies.shape))\n",
        "display(music_dummies.head(5))"
      ],
      "metadata": {
        "colab": {
          "base_uri": "https://localhost:8080/",
          "height": 305
        },
        "id": "RXHaX6xTqNZr",
        "outputId": "af34ac1e-9118-4859-dee3-2be15a7968e8"
      },
      "execution_count": 36,
      "outputs": [
        {
          "output_type": "stream",
          "name": "stdout",
          "text": [
            "Shape of music_dummies: (1000, 20)\n"
          ]
        },
        {
          "output_type": "display_data",
          "data": {
            "text/plain": [
              "   popularity  acousticness  danceability  duration_ms  energy  \\\n",
              "0        60.0      0.896000         0.726     214547.0   0.177   \n",
              "1        63.0      0.003840         0.635     190448.0   0.908   \n",
              "2        59.0      0.000075         0.352     456320.0   0.956   \n",
              "3        54.0      0.945000         0.488     352280.0   0.326   \n",
              "4        55.0      0.245000         0.667     273693.0   0.647   \n",
              "\n",
              "   instrumentalness  liveness  loudness  speechiness    tempo  valence  \\\n",
              "0          0.000002    0.1160   -14.824       0.0353   92.934    0.618   \n",
              "1          0.083400    0.2390    -4.795       0.0563  110.012    0.637   \n",
              "2          0.020300    0.1250    -3.634       0.1490  122.897    0.228   \n",
              "3          0.015700    0.1190   -12.020       0.0328  106.063    0.323   \n",
              "4          0.000297    0.0633    -7.787       0.0487  143.995    0.300   \n",
              "\n",
              "   genre_Anime  genre_Blues  genre_Classical  genre_Country  genre_Electronic  \\\n",
              "0            0            0                0              0                 0   \n",
              "1            0            0                0              0                 0   \n",
              "2            1            0                0              0                 0   \n",
              "3            0            0                0              0                 0   \n",
              "4            1            0                0              0                 0   \n",
              "\n",
              "   genre_Hip-Hop  genre_Jazz  genre_Rap  genre_Rock  \n",
              "0              1           0          0           0  \n",
              "1              0           0          1           0  \n",
              "2              0           0          0           0  \n",
              "3              0           0          0           0  \n",
              "4              0           0          0           0  "
            ],
            "text/html": [
              "\n",
              "  <div id=\"df-35632bae-0023-42a6-97d4-95bd674afb66\">\n",
              "    <div class=\"colab-df-container\">\n",
              "      <div>\n",
              "<style scoped>\n",
              "    .dataframe tbody tr th:only-of-type {\n",
              "        vertical-align: middle;\n",
              "    }\n",
              "\n",
              "    .dataframe tbody tr th {\n",
              "        vertical-align: top;\n",
              "    }\n",
              "\n",
              "    .dataframe thead th {\n",
              "        text-align: right;\n",
              "    }\n",
              "</style>\n",
              "<table border=\"1\" class=\"dataframe\">\n",
              "  <thead>\n",
              "    <tr style=\"text-align: right;\">\n",
              "      <th></th>\n",
              "      <th>popularity</th>\n",
              "      <th>acousticness</th>\n",
              "      <th>danceability</th>\n",
              "      <th>duration_ms</th>\n",
              "      <th>energy</th>\n",
              "      <th>instrumentalness</th>\n",
              "      <th>liveness</th>\n",
              "      <th>loudness</th>\n",
              "      <th>speechiness</th>\n",
              "      <th>tempo</th>\n",
              "      <th>valence</th>\n",
              "      <th>genre_Anime</th>\n",
              "      <th>genre_Blues</th>\n",
              "      <th>genre_Classical</th>\n",
              "      <th>genre_Country</th>\n",
              "      <th>genre_Electronic</th>\n",
              "      <th>genre_Hip-Hop</th>\n",
              "      <th>genre_Jazz</th>\n",
              "      <th>genre_Rap</th>\n",
              "      <th>genre_Rock</th>\n",
              "    </tr>\n",
              "  </thead>\n",
              "  <tbody>\n",
              "    <tr>\n",
              "      <th>0</th>\n",
              "      <td>60.0</td>\n",
              "      <td>0.896000</td>\n",
              "      <td>0.726</td>\n",
              "      <td>214547.0</td>\n",
              "      <td>0.177</td>\n",
              "      <td>0.000002</td>\n",
              "      <td>0.1160</td>\n",
              "      <td>-14.824</td>\n",
              "      <td>0.0353</td>\n",
              "      <td>92.934</td>\n",
              "      <td>0.618</td>\n",
              "      <td>0</td>\n",
              "      <td>0</td>\n",
              "      <td>0</td>\n",
              "      <td>0</td>\n",
              "      <td>0</td>\n",
              "      <td>1</td>\n",
              "      <td>0</td>\n",
              "      <td>0</td>\n",
              "      <td>0</td>\n",
              "    </tr>\n",
              "    <tr>\n",
              "      <th>1</th>\n",
              "      <td>63.0</td>\n",
              "      <td>0.003840</td>\n",
              "      <td>0.635</td>\n",
              "      <td>190448.0</td>\n",
              "      <td>0.908</td>\n",
              "      <td>0.083400</td>\n",
              "      <td>0.2390</td>\n",
              "      <td>-4.795</td>\n",
              "      <td>0.0563</td>\n",
              "      <td>110.012</td>\n",
              "      <td>0.637</td>\n",
              "      <td>0</td>\n",
              "      <td>0</td>\n",
              "      <td>0</td>\n",
              "      <td>0</td>\n",
              "      <td>0</td>\n",
              "      <td>0</td>\n",
              "      <td>0</td>\n",
              "      <td>1</td>\n",
              "      <td>0</td>\n",
              "    </tr>\n",
              "    <tr>\n",
              "      <th>2</th>\n",
              "      <td>59.0</td>\n",
              "      <td>0.000075</td>\n",
              "      <td>0.352</td>\n",
              "      <td>456320.0</td>\n",
              "      <td>0.956</td>\n",
              "      <td>0.020300</td>\n",
              "      <td>0.1250</td>\n",
              "      <td>-3.634</td>\n",
              "      <td>0.1490</td>\n",
              "      <td>122.897</td>\n",
              "      <td>0.228</td>\n",
              "      <td>1</td>\n",
              "      <td>0</td>\n",
              "      <td>0</td>\n",
              "      <td>0</td>\n",
              "      <td>0</td>\n",
              "      <td>0</td>\n",
              "      <td>0</td>\n",
              "      <td>0</td>\n",
              "      <td>0</td>\n",
              "    </tr>\n",
              "    <tr>\n",
              "      <th>3</th>\n",
              "      <td>54.0</td>\n",
              "      <td>0.945000</td>\n",
              "      <td>0.488</td>\n",
              "      <td>352280.0</td>\n",
              "      <td>0.326</td>\n",
              "      <td>0.015700</td>\n",
              "      <td>0.1190</td>\n",
              "      <td>-12.020</td>\n",
              "      <td>0.0328</td>\n",
              "      <td>106.063</td>\n",
              "      <td>0.323</td>\n",
              "      <td>0</td>\n",
              "      <td>0</td>\n",
              "      <td>0</td>\n",
              "      <td>0</td>\n",
              "      <td>0</td>\n",
              "      <td>0</td>\n",
              "      <td>0</td>\n",
              "      <td>0</td>\n",
              "      <td>0</td>\n",
              "    </tr>\n",
              "    <tr>\n",
              "      <th>4</th>\n",
              "      <td>55.0</td>\n",
              "      <td>0.245000</td>\n",
              "      <td>0.667</td>\n",
              "      <td>273693.0</td>\n",
              "      <td>0.647</td>\n",
              "      <td>0.000297</td>\n",
              "      <td>0.0633</td>\n",
              "      <td>-7.787</td>\n",
              "      <td>0.0487</td>\n",
              "      <td>143.995</td>\n",
              "      <td>0.300</td>\n",
              "      <td>1</td>\n",
              "      <td>0</td>\n",
              "      <td>0</td>\n",
              "      <td>0</td>\n",
              "      <td>0</td>\n",
              "      <td>0</td>\n",
              "      <td>0</td>\n",
              "      <td>0</td>\n",
              "      <td>0</td>\n",
              "    </tr>\n",
              "  </tbody>\n",
              "</table>\n",
              "</div>\n",
              "      <button class=\"colab-df-convert\" onclick=\"convertToInteractive('df-35632bae-0023-42a6-97d4-95bd674afb66')\"\n",
              "              title=\"Convert this dataframe to an interactive table.\"\n",
              "              style=\"display:none;\">\n",
              "        \n",
              "  <svg xmlns=\"http://www.w3.org/2000/svg\" height=\"24px\"viewBox=\"0 0 24 24\"\n",
              "       width=\"24px\">\n",
              "    <path d=\"M0 0h24v24H0V0z\" fill=\"none\"/>\n",
              "    <path d=\"M18.56 5.44l.94 2.06.94-2.06 2.06-.94-2.06-.94-.94-2.06-.94 2.06-2.06.94zm-11 1L8.5 8.5l.94-2.06 2.06-.94-2.06-.94L8.5 2.5l-.94 2.06-2.06.94zm10 10l.94 2.06.94-2.06 2.06-.94-2.06-.94-.94-2.06-.94 2.06-2.06.94z\"/><path d=\"M17.41 7.96l-1.37-1.37c-.4-.4-.92-.59-1.43-.59-.52 0-1.04.2-1.43.59L10.3 9.45l-7.72 7.72c-.78.78-.78 2.05 0 2.83L4 21.41c.39.39.9.59 1.41.59.51 0 1.02-.2 1.41-.59l7.78-7.78 2.81-2.81c.8-.78.8-2.07 0-2.86zM5.41 20L4 18.59l7.72-7.72 1.47 1.35L5.41 20z\"/>\n",
              "  </svg>\n",
              "      </button>\n",
              "      \n",
              "  <style>\n",
              "    .colab-df-container {\n",
              "      display:flex;\n",
              "      flex-wrap:wrap;\n",
              "      gap: 12px;\n",
              "    }\n",
              "\n",
              "    .colab-df-convert {\n",
              "      background-color: #E8F0FE;\n",
              "      border: none;\n",
              "      border-radius: 50%;\n",
              "      cursor: pointer;\n",
              "      display: none;\n",
              "      fill: #1967D2;\n",
              "      height: 32px;\n",
              "      padding: 0 0 0 0;\n",
              "      width: 32px;\n",
              "    }\n",
              "\n",
              "    .colab-df-convert:hover {\n",
              "      background-color: #E2EBFA;\n",
              "      box-shadow: 0px 1px 2px rgba(60, 64, 67, 0.3), 0px 1px 3px 1px rgba(60, 64, 67, 0.15);\n",
              "      fill: #174EA6;\n",
              "    }\n",
              "\n",
              "    [theme=dark] .colab-df-convert {\n",
              "      background-color: #3B4455;\n",
              "      fill: #D2E3FC;\n",
              "    }\n",
              "\n",
              "    [theme=dark] .colab-df-convert:hover {\n",
              "      background-color: #434B5C;\n",
              "      box-shadow: 0px 1px 3px 1px rgba(0, 0, 0, 0.15);\n",
              "      filter: drop-shadow(0px 1px 2px rgba(0, 0, 0, 0.3));\n",
              "      fill: #FFFFFF;\n",
              "    }\n",
              "  </style>\n",
              "\n",
              "      <script>\n",
              "        const buttonEl =\n",
              "          document.querySelector('#df-35632bae-0023-42a6-97d4-95bd674afb66 button.colab-df-convert');\n",
              "        buttonEl.style.display =\n",
              "          google.colab.kernel.accessAllowed ? 'block' : 'none';\n",
              "\n",
              "        async function convertToInteractive(key) {\n",
              "          const element = document.querySelector('#df-35632bae-0023-42a6-97d4-95bd674afb66');\n",
              "          const dataTable =\n",
              "            await google.colab.kernel.invokeFunction('convertToInteractive',\n",
              "                                                     [key], {});\n",
              "          if (!dataTable) return;\n",
              "\n",
              "          const docLinkHtml = 'Like what you see? Visit the ' +\n",
              "            '<a target=\"_blank\" href=https://colab.research.google.com/notebooks/data_table.ipynb>data table notebook</a>'\n",
              "            + ' to learn more about interactive tables.';\n",
              "          element.innerHTML = '';\n",
              "          dataTable['output_type'] = 'display_data';\n",
              "          await google.colab.output.renderOutput(dataTable, element);\n",
              "          const docLink = document.createElement('div');\n",
              "          docLink.innerHTML = docLinkHtml;\n",
              "          element.appendChild(docLink);\n",
              "        }\n",
              "      </script>\n",
              "    </div>\n",
              "  </div>\n",
              "  "
            ]
          },
          "metadata": {}
        }
      ]
    },
    {
      "cell_type": "markdown",
      "source": [
        "As there were ten values in the `\"genre\"` column, nine new columns were added by a call of `pd.get_dummies()` using `drop_first=True`. After dropping the original \"genre\" column, there are still eight new columns in the DataFrame!"
      ],
      "metadata": {
        "id": "eWa97zsjqim7"
      }
    },
    {
      "cell_type": "markdown",
      "source": [
        "#### **Regression with categorical features**\n"
      ],
      "metadata": {
        "id": "3in59FiZiYHy"
      }
    },
    {
      "cell_type": "code",
      "source": [
        "# Create X and y\n",
        "X = music_dummies.drop(\"popularity\", axis=1).values\n",
        "y = music_dummies[\"popularity\"].values\n",
        "\n",
        "# Instantiate a ridge model\n",
        "ridge = Ridge(alpha=0.2)\n",
        "\n",
        "# Perform cross-validation\n",
        "scores = cross_val_score(ridge, X, y, cv=kf, scoring=\"neg_mean_squared_error\")\n",
        "\n",
        "# Calculate RMSE\n",
        "rmse = np.sqrt(-scores)\n",
        "print(\"Average RMSE: {}\".format(np.mean(rmse)))\n",
        "print(\"Standard Deviation of the target array: {}\".format(np.std(y)))"
      ],
      "metadata": {
        "colab": {
          "base_uri": "https://localhost:8080/"
        },
        "id": "ACbPrBdjumpN",
        "outputId": "bbad9676-82ea-44d4-9444-d71a97ac7bdd"
      },
      "execution_count": 37,
      "outputs": [
        {
          "output_type": "stream",
          "name": "stdout",
          "text": [
            "Average RMSE: 12.569835059599813\n",
            "Standard Deviation of the target array: 14.02156909907019\n"
          ]
        }
      ]
    },
    {
      "cell_type": "markdown",
      "source": [
        "An average `RMSE` of approximately `12.54` is lower than the standard deviation of the target variable (song popularity), suggesting the model is reasonably accurate."
      ],
      "metadata": {
        "id": "SBCqFBDapoOO"
      }
    },
    {
      "cell_type": "markdown",
      "source": [
        "## **Handling missing data**\n"
      ],
      "metadata": {
        "id": "XEyk_xoniZgy"
      }
    },
    {
      "cell_type": "markdown",
      "source": [
        "#### **Dropping missing data**\n"
      ],
      "metadata": {
        "id": "RWBBvKPLia3S"
      }
    },
    {
      "cell_type": "code",
      "source": [
        "# Print missing values for each column\n",
        "print(music_df.isna().sum().sort_values())\n",
        "\n",
        "# Remove values where less than 5% are missing\n",
        "music_df = music_df.dropna(subset=[\"genre\", \"popularity\", \"loudness\", \"liveness\", \"tempo\"])\n",
        "\n",
        "# Convert genre to a binary feature\n",
        "music_df[\"genre\"] = np.where(music_df[\"genre\"] == \"Rock\", 1, 0)\n",
        "\n",
        "print(music_df.isna().sum().sort_values())\n",
        "print(\"Shape of the `music_df`: {}\".format(music_df.shape))"
      ],
      "metadata": {
        "colab": {
          "base_uri": "https://localhost:8080/"
        },
        "id": "IigppLsMwJJX",
        "outputId": "77923ae4-6704-4e2c-d2b7-508e84205b45"
      },
      "execution_count": 38,
      "outputs": [
        {
          "output_type": "stream",
          "name": "stdout",
          "text": [
            "popularity            0\n",
            "acousticness          0\n",
            "danceability          0\n",
            "duration_ms           0\n",
            "energy                0\n",
            "instrumentalness      0\n",
            "liveness              0\n",
            "loudness              0\n",
            "speechiness           0\n",
            "tempo                 0\n",
            "valence               0\n",
            "genre               115\n",
            "dtype: int64\n",
            "popularity          0\n",
            "acousticness        0\n",
            "danceability        0\n",
            "duration_ms         0\n",
            "energy              0\n",
            "instrumentalness    0\n",
            "liveness            0\n",
            "loudness            0\n",
            "speechiness         0\n",
            "tempo               0\n",
            "valence             0\n",
            "genre               0\n",
            "dtype: int64\n",
            "Shape of the `music_df`: (885, 12)\n"
          ]
        },
        {
          "output_type": "stream",
          "name": "stderr",
          "text": [
            "<ipython-input-38-4b41f80d9593>:8: SettingWithCopyWarning: \n",
            "A value is trying to be set on a copy of a slice from a DataFrame.\n",
            "Try using .loc[row_indexer,col_indexer] = value instead\n",
            "\n",
            "See the caveats in the documentation: https://pandas.pydata.org/pandas-docs/stable/user_guide/indexing.html#returning-a-view-versus-a-copy\n",
            "  music_df[\"genre\"] = np.where(music_df[\"genre\"] == \"Rock\", 1, 0)\n"
          ]
        }
      ]
    },
    {
      "cell_type": "markdown",
      "source": [
        "The dataset has gone from 1000 observations down to 902, but it is now in the correct format for binary classification and the remaining missing values can be imputed as part of a pipeline."
      ],
      "metadata": {
        "id": "IeCyqAiQwQQm"
      }
    },
    {
      "cell_type": "markdown",
      "source": [
        "#### **Pipeline for song genre prediction\n"
      ],
      "metadata": {
        "id": "6Rf_lbt7icTC"
      }
    },
    {
      "cell_type": "code",
      "source": [
        "# Import modules\n",
        "from sklearn.impute import SimpleImputer\n",
        "from sklearn.pipeline import Pipeline\n",
        "from sklearn.neighbors import KNeighborsClassifier\n",
        "from sklearn.metrics import confusion_matrix\n",
        "\n",
        "# Instantiate an imputer\n",
        "imputer = SimpleImputer(strategy='mean')\n",
        "\n",
        "# Instantiate a knn model\n",
        "knn = KNeighborsClassifier(n_neighbors=3)\n",
        "\n",
        "# Build steps for the pipeline\n",
        "steps = [(\"imputer\", imputer),\n",
        "         (\"knn\", knn)]\n",
        "\n",
        "# Create the pipeline\n",
        "pipeline = Pipeline(steps)\n",
        "\n",
        "# Fit the pipeline to the training data\n",
        "pipeline.fit(X_train, y_train)\n",
        "\n",
        "# Make predictions on the test set\n",
        "y_pred = pipeline.predict(X_test)\n",
        "\n",
        "# Print the confusion matrix\n",
        "print(confusion_matrix(y_test, y_pred))"
      ],
      "metadata": {
        "colab": {
          "base_uri": "https://localhost:8080/"
        },
        "id": "0ubpwMrcwUfq",
        "outputId": "5e81dc85-08e1-4ac6-82ea-045d6d02c754"
      },
      "execution_count": 39,
      "outputs": [
        {
          "output_type": "stream",
          "name": "stdout",
          "text": [
            "[[108  43]\n",
            " [ 32  48]]\n"
          ]
        }
      ]
    },
    {
      "cell_type": "markdown",
      "source": [
        "The confusion matrix highlights that the model had `108` true positives and `48` true negatives!"
      ],
      "metadata": {
        "id": "YOQind0Htr2S"
      }
    },
    {
      "cell_type": "markdown",
      "source": [
        "## **Centering and scaling**\n"
      ],
      "metadata": {
        "id": "s5fCHkgBie6p"
      }
    },
    {
      "cell_type": "markdown",
      "source": [
        "#### **Centering and scaling for regression**\n"
      ],
      "metadata": {
        "id": "z7XYHMVnigJZ"
      }
    },
    {
      "cell_type": "code",
      "source": [
        "# Import StandardScaler\n",
        "from sklearn.preprocessing import StandardScaler\n",
        "\n",
        "# Create pipeline steps\n",
        "steps = [(\"scaler\", StandardScaler()),\n",
        "         (\"lasso\", Lasso(alpha=0.5))]\n",
        "\n",
        "# Instantiate the pipeline\n",
        "pipeline = Pipeline(steps)\n",
        "pipeline.fit(X_train, y_train)\n",
        "\n",
        "# Calculate and print R-squared\n",
        "print(pipeline.score(X_test, y_test))"
      ],
      "metadata": {
        "colab": {
          "base_uri": "https://localhost:8080/"
        },
        "id": "3wISpWjfweUz",
        "outputId": "dc92922e-6c42-4c8a-fc2d-57cc69b4caa2"
      },
      "execution_count": 40,
      "outputs": [
        {
          "output_type": "stream",
          "name": "stdout",
          "text": [
            "-6.287473975308266e-05\n"
          ]
        }
      ]
    },
    {
      "cell_type": "markdown",
      "source": [
        "The model may have only produced an R-squared of `0.619`, but without scaling this exact model would have only produced a score of 0.35, which proves just how powerful scaling can be!"
      ],
      "metadata": {
        "id": "IxeEsHavwzcx"
      }
    },
    {
      "cell_type": "markdown",
      "source": [
        "#### **Centering and scaling for classification**\n"
      ],
      "metadata": {
        "id": "Um-eAvq_ihhp"
      }
    },
    {
      "cell_type": "code",
      "source": [
        "import warnings\n",
        "warnings.filterwarnings(\"ignore\")\n",
        "\n",
        "from sklearn.model_selection import train_test_split, GridSearchCV, StratifiedKFold\n",
        "from sklearn.preprocessing import StandardScaler\n",
        "from sklearn.linear_model import LogisticRegression\n",
        "from sklearn.pipeline import Pipeline\n",
        "import numpy as np\n",
        "\n",
        "# Build the steps\n",
        "steps = [(\"scaler\", StandardScaler()),\n",
        "         (\"logreg\", LogisticRegression(max_iter=1000))]\n",
        "\n",
        "pipeline = Pipeline(steps)\n",
        "\n",
        "# Create the parameter space\n",
        "parameters = {\"logreg__C\": np.linspace(0.001, 1.0, 20)}\n",
        "\n",
        "X_train, X_test, y_train, y_test = train_test_split(X, y, test_size=0.2, random_state=21)\n",
        "\n",
        "# Instantiate the grid search object with stratified cross-validation\n",
        "cv = GridSearchCV(pipeline, param_grid=parameters)\n",
        "\n",
        "# Fit to the training data\n",
        "cv.fit(X_train, y_train)\n",
        "print(cv.best_score_, \"\\n\", cv.best_params_)"
      ],
      "metadata": {
        "colab": {
          "base_uri": "https://localhost:8080/"
        },
        "id": "SyxnjY0tweyr",
        "outputId": "a650c9d1-c3c2-4f5b-d292-c0e36f106bbe"
      },
      "execution_count": 41,
      "outputs": [
        {
          "output_type": "stream",
          "name": "stdout",
          "text": [
            "0.045 \n",
            " {'logreg__C': 0.001}\n"
          ]
        }
      ]
    },
    {
      "cell_type": "markdown",
      "source": [
        "## **Evaluating multiple models**\n"
      ],
      "metadata": {
        "id": "C2vfLlOXii0y"
      }
    },
    {
      "cell_type": "markdown",
      "source": [
        "#### **Visualizing regression model performance**\n"
      ],
      "metadata": {
        "id": "mx5BjilZikBS"
      }
    },
    {
      "cell_type": "code",
      "source": [
        "from sklearn.linear_model import LinearRegression, Ridge, Lasso\n",
        "from sklearn.model_selection import cross_val_score, KFold\n",
        "import matplotlib.pyplot as plt\n",
        "\n",
        "models = {\"Linear Regression\": LinearRegression(), \"Ridge\": Ridge(alpha=0.1), \"Lasso\": Lasso(alpha=0.1)}\n",
        "results = []\n",
        "\n",
        "# Loop through the models' values\n",
        "for model in models.values():\n",
        "    kf = KFold(n_splits=6, random_state=42, shuffle=True)\n",
        "\n",
        "    # Perform cross-validation\n",
        "    cv_scores = cross_val_score(model, X_train, y_train, cv=kf)\n",
        "\n",
        "    # Append the results\n",
        "    results.append(cv_scores)\n",
        "\n",
        "# Create a box plot of the results\n",
        "plt.boxplot(results, labels=models.keys())\n",
        "plt.show()"
      ],
      "metadata": {
        "colab": {
          "base_uri": "https://localhost:8080/",
          "height": 430
        },
        "id": "T8FNksTFwfUy",
        "outputId": "778af342-91b2-49c7-a974-b41a6823a143"
      },
      "execution_count": 42,
      "outputs": [
        {
          "output_type": "display_data",
          "data": {
            "text/plain": [
              "<Figure size 640x480 with 1 Axes>"
            ],
            "image/png": "[encoded data removed]"
          },
          "metadata": {}
        }
      ]
    },
    {
      "cell_type": "markdown",
      "source": [
        "#### **Predicting on the test set**\n"
      ],
      "metadata": {
        "id": "L-QFiQhaile5"
      }
    },
    {
      "cell_type": "code",
      "source": [
        "from sklearn.metrics import mean_squared_error\n",
        "from sklearn.preprocessing import StandardScaler\n",
        "from sklearn.linear_model import LinearRegression, Ridge\n",
        "\n",
        "# Initialize the models\n",
        "models = {\n",
        "    'Linear Regression': LinearRegression(),\n",
        "    'Ridge': Ridge(alpha=1.0)\n",
        "}\n",
        "\n",
        "# Create a scaler object\n",
        "scaler = StandardScaler()\n",
        "\n",
        "# Scale the training features\n",
        "X_train_scaled = scaler.fit_transform(X_train)\n",
        "\n",
        "# Scale the test features\n",
        "X_test_scaled = scaler.transform(X_test)\n",
        "\n",
        "# Fit the models, make predictions, and calculate RMSE\n",
        "for name, model in models.items():\n",
        "    # Fit the model to the training data\n",
        "    model.fit(X_train_scaled, y_train)\n",
        "\n",
        "    # Make predictions on the test set\n",
        "    y_pred = model.predict(X_test_scaled)\n",
        "\n",
        "    # Calculate the test_rmse\n",
        "    test_rmse = mean_squared_error(y_test, y_pred, squared=False)\n",
        "    print(\"{} Test Set RMSE: {}\".format(name, test_rmse))"
      ],
      "metadata": {
        "colab": {
          "base_uri": "https://localhost:8080/"
        },
        "id": "Qo4PdxQuwf2C",
        "outputId": "4060ce1b-f384-444b-9256-8095708016bf"
      },
      "execution_count": 43,
      "outputs": [
        {
          "output_type": "stream",
          "name": "stdout",
          "text": [
            "Linear Regression Test Set RMSE: 12.527887501704456\n",
            "Ridge Test Set RMSE: 12.52732718092126\n"
          ]
        }
      ]
    },
    {
      "cell_type": "markdown",
      "source": [
        "#### **Visualizing classification model performance**\n"
      ],
      "metadata": {
        "id": "o-MkUGrMimyB"
      }
    },
    {
      "cell_type": "code",
      "source": [
        "from sklearn.model_selection import cross_val_score, KFold\n",
        "from sklearn.neighbors import KNeighborsClassifier\n",
        "from sklearn.tree import DecisionTreeClassifier\n",
        "from sklearn.linear_model import LogisticRegression\n",
        "\n",
        "# Create models dictionary\n",
        "models = {\"Logistic Regression\": LogisticRegression(),\n",
        "          \"KNN\": KNeighborsClassifier(),\n",
        "          \"Decision Tree Classifier\": DecisionTreeClassifier()}\n",
        "results = []\n",
        "\n",
        "# Loop through the models' values\n",
        "for model in models.values():\n",
        "\n",
        "  # Instantiate a KFold object\n",
        "  kf = KFold(n_splits=6, random_state=12, shuffle=True)\n",
        "\n",
        "  # Perform cross-validation\n",
        "  cv_results = cross_val_score(model, X_train_scaled, y_train, cv=kf)\n",
        "  results.append(cv_results)\n",
        "plt.boxplot(results, labels=models.keys())\n",
        "plt.show()"
      ],
      "metadata": {
        "colab": {
          "base_uri": "https://localhost:8080/",
          "height": 430
        },
        "id": "SgEfH-dHwgSK",
        "outputId": "866bd0ee-0fb9-440c-e2b4-f67160ae4c52"
      },
      "execution_count": 44,
      "outputs": [
        {
          "output_type": "display_data",
          "data": {
            "text/plain": [
              "<Figure size 640x480 with 1 Axes>"
            ],
            "image/png": "[encoded data removed]"
          },
          "metadata": {}
        }
      ]
    },
    {
      "cell_type": "markdown",
      "source": [
        "#### **Pipeline for predicting song popularity**\n"
      ],
      "metadata": {
        "id": "__GAGhRuioNx"
      }
    },
    {
      "cell_type": "code",
      "source": [
        "from sklearn.impute import SimpleImputer\n",
        "from sklearn.preprocessing import StandardScaler\n",
        "from sklearn.linear_model import LogisticRegression\n",
        "from sklearn.pipeline import Pipeline\n",
        "from sklearn.model_selection import GridSearchCV\n",
        "import numpy as np\n",
        "\n",
        "\n",
        "# Create steps\n",
        "steps = [(\"imp_mean\", SimpleImputer()),\n",
        "         (\"scaler\", StandardScaler()),\n",
        "         (\"logreg\", LogisticRegression())]\n",
        "\n",
        "# Set up pipeline\n",
        "pipeline = Pipeline(steps)\n",
        "params = {\"logreg__solver\": [\"newton-cg\", \"saga\", \"lbfgs\"],\n",
        "         \"logreg__C\": np.linspace(0.001, 1.0, 10)}\n",
        "\n",
        "# Create the GridSearchCV object\n",
        "tuning = GridSearchCV(pipeline, param_grid=params)\n",
        "tuning.fit(X_train, y_train)\n",
        "y_pred = tuning.predict(X_test)\n",
        "\n",
        "# Compute and print performance\n",
        "print(\"Tuned Logistic Regression Parameters: {}, Accuracy: {}\".format(tuning.best_params_, tuning.score(X_test, y_test)))"
      ],
      "metadata": {
        "colab": {
          "base_uri": "https://localhost:8080/"
        },
        "id": "Ti4H0TUzwgtt",
        "outputId": "67a75437-75b9-40b9-98b6-4feab9df7a0b"
      },
      "execution_count": 45,
      "outputs": [
        {
          "output_type": "stream",
          "name": "stdout",
          "text": [
            "Tuned Logistic Regression Parameters: {'logreg__C': 0.001, 'logreg__solver': 'newton-cg'}, Accuracy: 0.045\n"
          ]
        }
      ]
    },
    {
      "cell_type": "markdown",
      "source": [
        "## **Congratulations**"
      ],
      "metadata": {
        "id": "wOPJL4m6ipoR"
      }
    },
    {
      "cell_type": "markdown",
      "source": [
        "#### $\\color{skyblue}{\\textbf{Connect with me:}}$\n",
        "\n",
        "\n",
        "[<img align=\"left\" src=\"https://cdn4.iconfinder.com/data/icons/social-media-icons-the-circle-set/48/twitter_circle-512.png\" width=\"32px\"/>][twitter]\n",
        "[<img align=\"left\" src=\"https://cdn-icons-png.flaticon.com/512/145/145807.png\" width=\"32px\"/>][linkedin]\n",
        "[<img align=\"left\" src=\"https://cdn2.iconfinder.com/data/icons/whcompare-blue-green-web-hosting-1/425/cdn-512.png\" width=\"32px\"/>][Portfolio]\n",
        "\n",
        "[twitter]: https://twitter.com/F4izy\n",
        "[linkedin]: https://www.linkedin.com/in/mohd-faizy/\n",
        "[Portfolio]: https://mohdfaizy.com/\n"
      ],
      "metadata": {
        "id": "2ZuprT2Czqry"
      }
    }
  ]
}