{
  "nbformat": 4,
  "nbformat_minor": 0,
  "metadata": {
    "colab": {
      "name": "03_Bagging-and-Random-Forests.ipynb",
      "provenance": [],
      "collapsed_sections": [],
      "toc_visible": true,
      "authorship_tag": "ABX9TyMsBCLrIK+8Ng+xwSbD0uSO",
      "include_colab_link": true
    },
    "kernelspec": {
      "name": "python3",
      "display_name": "Python 3"
    }
  },
  "cells": [
    {
      "cell_type": "markdown",
      "metadata": {
        "id": "view-in-github",
        "colab_type": "text"
      },
      "source": [
        "<a href=\"https://colab.research.google.com/github/mohd-faizy/CAREER-TRACK-Data-Scientist-with-Python/blob/main/03_Bagging_and_Random_Forests.ipynb\" target=\"_parent\"><img src=\"https://colab.research.google.com/assets/colab-badge.svg\" alt=\"Open In Colab\"/></a>"
      ]
    },
    {
      "cell_type": "markdown",
      "metadata": {
        "id": "BSuEABPa0--s"
      },
      "source": [
        "--- \r\n",
        "<strong> \r\n",
        "    <h1 align='center'>Bootstrap Aggregating[Bagging] & Random Forests</h1> \r\n",
        "</strong>\r\n",
        "\r\n",
        "---\r\n"
      ]
    },
    {
      "cell_type": "markdown",
      "metadata": {
        "id": "crnYDcntkcSH"
      },
      "source": [
        "<p align='center'>\r\n",
        "    <a href='#'><img src='https://github.com/mohd-faizy/CAREER-TRACK-Data-Scientist-with-Python/blob/main/28_Machine-Learning-with-Tree-Based-Models-in-Python/_img/Ensamble_map_.png?raw=true' width=400></a>\r\n",
        "</p>"
      ]
    },
    {
      "cell_type": "markdown",
      "metadata": {
        "id": "Ba2J0Xpzop6Z"
      },
      "source": [
        "__Clone the Repository__"
      ]
    },
    {
      "cell_type": "code",
      "metadata": {
        "colab": {
          "base_uri": "https://localhost:8080/"
        },
        "id": "eHRsiSczR0fB",
        "outputId": "fec265dd-92be-4d44-d7bd-7c52269dc280"
      },
      "source": [
        "! git clone https://github.com/mohd-faizy/CAREER-TRACK-Data-Scientist-with-Python.git"
      ],
      "execution_count": 1,
      "outputs": [
        {
          "output_type": "stream",
          "text": [
            "Cloning into 'CAREER-TRACK-Data-Scientist-with-Python'...\n",
            "remote: Enumerating objects: 248, done.\u001b[K\n",
            "remote: Counting objects: 100% (248/248), done.\u001b[K\n",
            "remote: Compressing objects: 100% (223/223), done.\u001b[K\n",
            "remote: Total 2434 (delta 69), reused 175 (delta 24), pack-reused 2186\u001b[K\n",
            "Receiving objects: 100% (2434/2434), 298.15 MiB | 22.03 MiB/s, done.\n",
            "Resolving deltas: 100% (847/847), done.\n",
            "Checking out files: 100% (1044/1044), done.\n"
          ],
          "name": "stdout"
        }
      ]
    },
    {
      "cell_type": "code",
      "metadata": {
        "id": "KJN0hZ3RWQsh"
      },
      "source": [
        "import pandas as pd\r\n",
        "import numpy as np\r\n",
        "import matplotlib.pyplot as plt\r\n",
        "import seaborn as sns\r\n",
        "import os\r\n",
        "\r\n",
        "plt.style.use('ggplot')\r\n",
        "#sns.set_theme(style='whitegrid')\r\n",
        "%matplotlib inline"
      ],
      "execution_count": 2,
      "outputs": []
    },
    {
      "cell_type": "code",
      "metadata": {
        "colab": {
          "base_uri": "https://localhost:8080/"
        },
        "id": "nu0TmPzKTj2V",
        "outputId": "382b901b-a192-4404-9ce6-d08ef9e8246a"
      },
      "source": [
        "os.chdir('/content/CAREER-TRACK-Data-Scientist-with-Python/28_Machine-Learning-with-Tree-Based-Models-in-Python/_dataset')\r\n",
        "cwd = os.getcwd()\r\n",
        "print('Curent working directory is ', cwd)"
      ],
      "execution_count": 3,
      "outputs": [
        {
          "output_type": "stream",
          "text": [
            "Curent working directory is  /content/CAREER-TRACK-Data-Scientist-with-Python/28_Machine-Learning-with-Tree-Based-Models-in-Python/_dataset\n"
          ],
          "name": "stdout"
        }
      ]
    },
    {
      "cell_type": "code",
      "metadata": {
        "colab": {
          "base_uri": "https://localhost:8080/"
        },
        "id": "b6FFGoWhUD1G",
        "outputId": "bc03e91f-7e81-49e9-be55-ee9616585e85"
      },
      "source": [
        "ls"
      ],
      "execution_count": 4,
      "outputs": [
        {
          "output_type": "stream",
          "text": [
            "auto.csv   indian_liver_patient.csv               wbc.csv\n",
            "bikes.csv  indian_liver_patient_preprocessed.csv\n"
          ],
          "name": "stdout"
        }
      ]
    },
    {
      "cell_type": "markdown",
      "metadata": {
        "id": "oNsfxIm4BnMR"
      },
      "source": [
        "## **Bagging**\n",
        "\n",
        "A Bagging classifier is an **ensemble meta-estimator** that **fits** **base classifiers** each on **random subsets** of the original dataset and then **aggregate** their individual **predictions** (*either* by voting or by averaging) to form a **final prediction**. Such a meta-estimator can typically be used as a way ***to reduce the variance*** of a black-box estimator (e.g., a decision tree), by introducing randomization into its construction procedure and then making an ensemble out of it.\n",
        "\n",
        "- Bagging is used with **decision trees**, where it significantly raises the stability of models in the **reduction** of **variance** and **improving accuracy**, which **eliminates** the challenge of **overfitting**. Bagging in ensemble machine learning takes several weak models, aggregating the predictions to select the best prediction.\n",
        "\n",
        "- Uses a techinque known as **bootstrap** (sample with replacement for multiple times at a fixed size)\n",
        "\n",
        "- **Reduces variance** of individual models in the ensemble.\n",
        "-Train each model on a bootstrap subset of the traning set.\n",
        "\n",
        "- Output a final prediction:\n",
        "    - **Classification:** aggregates predictions by majority voting. `BaggingClassifier`\n",
        "    - **Regression:** aggregates predictions through averaging. `BaggingRegressor`\n",
        "\n",
        "![Bagging](https://github.com/mohd-faizy/CAREER-TRACK-Data-Scientist-with-Python/blob/main/28_Machine-Learning-with-Tree-Based-Models-in-Python/_img/bagging.png?raw=true)\n",
        "\n",
        "$\\Rightarrow$ Decision trees are sensitive to the specific data on which they are trained. If the training data is changed (e.g. a tree is trained on a subset of the training data) the resulting decision tree can be quite different and in turn the predictions can be quite different.\n",
        "\n",
        "$\\Rightarrow$ Bagging is the application of the Bootstrap procedure to a high-variance machine learning algorithm, typically decision trees.\n",
        "\n",
        "Let’s assume we have a sample dataset of `1000` instances `(x)` and we are using the `CART algorithm`. Bagging of the CART algorithm would work as follows.\n",
        "\n",
        "1. Create many (e.g. `100`) random sub-samples of our dataset with replacement.\n",
        "2. Train a CART model on each sample.\n",
        "3. Given a new dataset, calculate the average prediction from each model.\n",
        "\n",
        "__For example__, *if we had 5 bagged decision trees that made the following class predictions for a in input sample: blue, blue, red, blue and red, we would take the most frequent class and predict blue.*\n",
        "\n",
        ">When bagging with decision trees, we are less concerned about individual trees overfitting the training data. For this reason and for efficiency, the individual decision trees are grown deep (e.g. few training samples at each leaf-node of the tree) and the trees are not pruned. *These trees will have both high variance and low bias*. These are important characteristics of sub-models when combining predictions using bagging.\n",
        "\n",
        ">The only parameters when bagging decision trees is the number of samples and hence the number of trees to include. This can be chosen by increasing the number of trees on run after run until the accuracy begins to stop showing improvement (e.g. on a cross validation test harness). Very large numbers of models may take a long time to prepare, but will not overfit the training data.\n",
        "\n",
        "Just like the decision trees themselves, __Bagging can be used for classification and regression problems__.\n",
        "\n"
      ]
    },
    {
      "cell_type": "markdown",
      "metadata": {
        "id": "MYnriN0cBnMR"
      },
      "source": [
        "## **Define the bagging classifier**\n",
        "\n",
        "In the following exercises you'll work with the [Indian Liver Patient dataset](https://www.kaggle.com/uciml/indian-liver-patient-records) from the UCI machine learning repository. Our task is to predict whether a patient suffers from a liver disease using 10 features including Albumin, age and gender. we'll do so using a Bagging Classifier.\n",
        "\n",
        "\n",
        "\n",
        "\n"
      ]
    },
    {
      "cell_type": "markdown",
      "metadata": {
        "id": "ZnMr4somBnMS"
      },
      "source": [
        "__Preprocess__"
      ]
    },
    {
      "cell_type": "code",
      "metadata": {
        "id": "VRq9GFanBnMS",
        "colab": {
          "base_uri": "https://localhost:8080/",
          "height": 211
        },
        "outputId": "977a9aea-bb38-4dc6-b6af-28d966224b23"
      },
      "source": [
        "df_liver = pd.read_csv('indian_liver_patient_preprocessed.csv', index_col=0)\n",
        "df_liver.head()"
      ],
      "execution_count": 5,
      "outputs": [
        {
          "output_type": "execute_result",
          "data": {
            "text/html": [
              "<div>\n",
              "<style scoped>\n",
              "    .dataframe tbody tr th:only-of-type {\n",
              "        vertical-align: middle;\n",
              "    }\n",
              "\n",
              "    .dataframe tbody tr th {\n",
              "        vertical-align: top;\n",
              "    }\n",
              "\n",
              "    .dataframe thead th {\n",
              "        text-align: right;\n",
              "    }\n",
              "</style>\n",
              "<table border=\"1\" class=\"dataframe\">\n",
              "  <thead>\n",
              "    <tr style=\"text-align: right;\">\n",
              "      <th></th>\n",
              "      <th>Age_std</th>\n",
              "      <th>Total_Bilirubin_std</th>\n",
              "      <th>Direct_Bilirubin_std</th>\n",
              "      <th>Alkaline_Phosphotase_std</th>\n",
              "      <th>Alamine_Aminotransferase_std</th>\n",
              "      <th>Aspartate_Aminotransferase_std</th>\n",
              "      <th>Total_Protiens_std</th>\n",
              "      <th>Albumin_std</th>\n",
              "      <th>Albumin_and_Globulin_Ratio_std</th>\n",
              "      <th>Is_male_std</th>\n",
              "      <th>Liver_disease</th>\n",
              "    </tr>\n",
              "  </thead>\n",
              "  <tbody>\n",
              "    <tr>\n",
              "      <th>0</th>\n",
              "      <td>1.247403</td>\n",
              "      <td>-0.420320</td>\n",
              "      <td>-0.495414</td>\n",
              "      <td>-0.428870</td>\n",
              "      <td>-0.355832</td>\n",
              "      <td>-0.319111</td>\n",
              "      <td>0.293722</td>\n",
              "      <td>0.203446</td>\n",
              "      <td>-0.147390</td>\n",
              "      <td>0</td>\n",
              "      <td>1</td>\n",
              "    </tr>\n",
              "    <tr>\n",
              "      <th>1</th>\n",
              "      <td>1.062306</td>\n",
              "      <td>1.218936</td>\n",
              "      <td>1.423518</td>\n",
              "      <td>1.675083</td>\n",
              "      <td>-0.093573</td>\n",
              "      <td>-0.035962</td>\n",
              "      <td>0.939655</td>\n",
              "      <td>0.077462</td>\n",
              "      <td>-0.648461</td>\n",
              "      <td>1</td>\n",
              "      <td>1</td>\n",
              "    </tr>\n",
              "    <tr>\n",
              "      <th>2</th>\n",
              "      <td>1.062306</td>\n",
              "      <td>0.640375</td>\n",
              "      <td>0.926017</td>\n",
              "      <td>0.816243</td>\n",
              "      <td>-0.115428</td>\n",
              "      <td>-0.146459</td>\n",
              "      <td>0.478274</td>\n",
              "      <td>0.203446</td>\n",
              "      <td>-0.178707</td>\n",
              "      <td>1</td>\n",
              "      <td>1</td>\n",
              "    </tr>\n",
              "    <tr>\n",
              "      <th>3</th>\n",
              "      <td>0.815511</td>\n",
              "      <td>-0.372106</td>\n",
              "      <td>-0.388807</td>\n",
              "      <td>-0.449416</td>\n",
              "      <td>-0.366760</td>\n",
              "      <td>-0.312205</td>\n",
              "      <td>0.293722</td>\n",
              "      <td>0.329431</td>\n",
              "      <td>0.165780</td>\n",
              "      <td>1</td>\n",
              "      <td>1</td>\n",
              "    </tr>\n",
              "    <tr>\n",
              "      <th>4</th>\n",
              "      <td>1.679294</td>\n",
              "      <td>0.093956</td>\n",
              "      <td>0.179766</td>\n",
              "      <td>-0.395996</td>\n",
              "      <td>-0.295731</td>\n",
              "      <td>-0.177537</td>\n",
              "      <td>0.755102</td>\n",
              "      <td>-0.930414</td>\n",
              "      <td>-1.713237</td>\n",
              "      <td>1</td>\n",
              "      <td>1</td>\n",
              "    </tr>\n",
              "  </tbody>\n",
              "</table>\n",
              "</div>"
            ],
            "text/plain": [
              "    Age_std  Total_Bilirubin_std  ...  Is_male_std  Liver_disease\n",
              "0  1.247403            -0.420320  ...            0              1\n",
              "1  1.062306             1.218936  ...            1              1\n",
              "2  1.062306             0.640375  ...            1              1\n",
              "3  0.815511            -0.372106  ...            1              1\n",
              "4  1.679294             0.093956  ...            1              1\n",
              "\n",
              "[5 rows x 11 columns]"
            ]
          },
          "metadata": {
            "tags": []
          },
          "execution_count": 5
        }
      ]
    },
    {
      "cell_type": "code",
      "metadata": {
        "id": "FLxHH2QuBnMU",
        "colab": {
          "base_uri": "https://localhost:8080/"
        },
        "outputId": "1f6030ef-fcca-4aad-ef57-97cce6ef6c96"
      },
      "source": [
        "from sklearn.tree import DecisionTreeClassifier\n",
        "from sklearn.ensemble import BaggingClassifier\n",
        "from sklearn.model_selection import train_test_split\n",
        "from sklearn.metrics import accuracy_score\n",
        "\n",
        "X = df_liver.drop('Liver_disease', axis='columns')\n",
        "y = df_liver['Liver_disease']\n",
        "\n",
        "# Instantiate dt\n",
        "dt = DecisionTreeClassifier(random_state=1)\n",
        "\n",
        "\n",
        "# Instantiate bc\n",
        "bc = BaggingClassifier(base_estimator=dt,\n",
        "                       n_estimators=50,\n",
        "                       random_state=1)\n",
        "\n",
        "X_train, X_test, y_train, y_test = train_test_split(X, y, \n",
        "                                                    test_size=0.2, \n",
        "                                                    stratify=y, \n",
        "                                                    random_state=1)\n",
        "\n",
        "# Fit dt to the training set\n",
        "dt.fit(X_train, y_train)\n",
        "\n",
        "# Predict test set labels\n",
        "y_pred_dt = dt.predict(X_test)\n",
        "\n",
        "# Evaluate acc_test\n",
        "acc_test_dt = accuracy_score(y_test, y_pred_dt)\n",
        "print('Test set accuracy of Decision Tree Classifier: {:.2f}'.format(acc_test_dt))\n",
        "\n",
        "# Fit bc to the training set\n",
        "bc.fit(X_train, y_train)\n",
        "\n",
        "# Predict test set labels\n",
        "y_pred = bc.predict(X_test)\n",
        "\n",
        "# Evaluate acc_test\n",
        "acc_test_bc = accuracy_score(y_test, y_pred)\n",
        "print('Test set accuracy of Bagging Classifier: {:.2f}'.format(acc_test_bc))"
      ],
      "execution_count": 6,
      "outputs": [
        {
          "output_type": "stream",
          "text": [
            "Test set accuracy of Decision Tree Classifier: 0.63\n",
            "Test set accuracy of Bagging Classifier: 0.71\n"
          ],
          "name": "stdout"
        }
      ]
    },
    {
      "cell_type": "markdown",
      "metadata": {
        "id": "m1xroF7pBnMY"
      },
      "source": [
        "## **Out of Bag Evaluation**\n",
        "\n",
        "When performing a **bootstrapping**, For each **bootstrap sample** taken from the **training data**, there will be samples left behind that were not included. These samples are called **Out-Of-Bag samples** or **OOB**. Therefore, we can use these **unused data points** to ***test the performance of the model***, instead of using $CV$.\n",
        "\n",
        "- **Out Of Bag (OOB)** instances\n",
        "    - On average, for each model, 63% of the training instances are sampled\n",
        "    - The remaining 37% constitute the OOB instances\n",
        "- **OOB Evaluation**\n",
        "\n",
        "$$Final-OOB-Score=\\frac{OOB_1+…+OOB_N}{N}$$"
      ]
    },
    {
      "cell_type": "markdown",
      "metadata": {
        "id": "BL1Yq2SzBnMZ"
      },
      "source": [
        "In sklearn, we can evaluate the `OOB accuracy` of an `ensemble classifier` by setting the parameter `oob_score` to `True` during __instantiation__. After training the classifier, the OOB accuracy can be obtained by accessing the `.oob_score_` attribute from the corresponding instance.\n",
        "\n",
        "\n",
        "<p align='center'>\n",
        "  <a href=\"#\">\n",
        "    <img src='https://github.com/mohd-faizy/CAREER-TRACK-Data-Scientist-with-Python/blob/main/28_Machine-Learning-with-Tree-Based-Models-in-Python/_img/oob.png?raw=true' width=800 alt=\"\">\n",
        "  </a>\n",
        "</p>\n"
      ]
    },
    {
      "cell_type": "code",
      "metadata": {
        "id": "tYBCfekKBnMZ",
        "colab": {
          "base_uri": "https://localhost:8080/"
        },
        "outputId": "d1a1a8bb-b265-4aca-a04f-5491c49cafc6"
      },
      "source": [
        "# Import DecisionTreeClassifier\n",
        "from sklearn.tree import DecisionTreeClassifier\n",
        "# Import BaggingClassifier\n",
        "from sklearn.ensemble import BaggingClassifier\n",
        "\n",
        "# Instantiate dt\n",
        "dt = DecisionTreeClassifier(min_samples_leaf=8, \n",
        "                            random_state=1)\n",
        "\n",
        "# Instantiate bc\n",
        "bc = BaggingClassifier(base_estimator=dt, \n",
        "                       n_estimators=50, \n",
        "                       oob_score=True, \n",
        "                       random_state=1)\n",
        "\n",
        "# Fit bc to the training set\n",
        "bc.fit(X_train, y_train)\n",
        "\n",
        "# Predict test set labels\n",
        "y_pred = bc.predict(X_test)\n",
        "\n",
        "# Evaluate test set accuracy\n",
        "acc_test = accuracy_score(y_test, y_pred)\n",
        "\n",
        "# Evaluate OOB accuracy\n",
        "acc_oob = bc.oob_score_\n",
        "\n",
        "# Print acc_test and acc_oob\n",
        "print('Test set accuracy: {:.3f}'.format(acc_test))\n",
        "print('OOB accuracy: {:.3f}'.format(acc_oob))"
      ],
      "execution_count": 7,
      "outputs": [
        {
          "output_type": "stream",
          "text": [
            "Test set accuracy: 0.698\n",
            "OOB accuracy: 0.700\n"
          ],
          "name": "stdout"
        }
      ]
    },
    {
      "cell_type": "markdown",
      "metadata": {
        "id": "yJqZIPv2AQ__"
      },
      "source": [
        "A single tree `dt` would have achieved an accuracy of 69.8% which is lower than `bc`'s accuracy!"
      ]
    },
    {
      "cell_type": "markdown",
      "metadata": {
        "id": "zqToghjOB0ik"
      },
      "source": [
        "## **Random Forests (RF)**\r\n"
      ]
    },
    {
      "cell_type": "markdown",
      "metadata": {
        "id": "SIlKlhXGB45p"
      },
      "source": [
        "**Random forest** is a **supervised learning algorithm**. The **forest** it builds, is an **ensemble** of decision trees, usually trained with the **bagging**.\r\n",
        "\r\n",
        ">**Random Forests are an improvement over bagged decision trees.**\r\n",
        "\r\n",
        "A problem with decision trees like **CART** is that they are greedy. They choose which variable to split on using a greedy algorithm that minimizes error. As such, even with Bagging, the decision trees can have a lot of structural similarities and in turn have **high correlation** in their predictions.\r\n",
        "\r\n",
        ">***Combining predictions from multiple models in ensembles works better if the predictions from the sub-models are uncorrelated or at best weakly correlated.***\r\n",
        "\r\n",
        "Random forest __changes__ the algorithm for the way that the __sub-trees__ are learned so that the __resulting predictions__ from all of the subtrees have __less correlation__.\r\n",
        "\r\n",
        ">It is a __simple tweak__. In CART, when selecting a split point, the learning algorithm is allowed to look through all variables and all variable values in order to select the most optimal split-point. The random forest algorithm changes this procedure so that the __learning algorithm is limited to a random sample__ of features of which to search.\r\n",
        "\r\n",
        "The number of features that can be searched at each split point (m) must be specified as a parameter to the algorithm. You can try different values and tune it using cross validation.\r\n",
        "\r\n",
        "- For __classification__ a good default is: ${m = \\sqrt(p)}$\r\n",
        "- For __regression__ a good default is: ${m = \\frac{p}{3}}$\r\n",
        "\r\n",
        "Where $m$ is the number of randomly selected features that can be searched at a split point and p is the number of input variables. For example, if a dataset had $25$ input variables for a classification problem, then:\r\n",
        "\r\n",
        "$\\Rightarrow{m = \\sqrt(p)}$\r\n",
        "\r\n",
        "$\\Rightarrow{m = 5}$\r\n",
        "\r\n"
      ]
    },
    {
      "cell_type": "markdown",
      "metadata": {
        "id": "v814KRv4WLAI"
      },
      "source": [
        "\r\n",
        "\r\n",
        "**Why Random Forest algorithm?**\r\n",
        "\r\n",
        "***Advantages:***\r\n",
        "- It can be used for both **classification** and **regression** tasks.\r\n",
        "\r\n",
        "- **Second**: **Overfitting** is one critical problem that may make the results worse, but for Random Forest algorithm, *if there are enough trees in the forest, the classifier won’t overfit the model.*\r\n",
        "\r\n",
        "- **Third**: advantage is the classifier of Random Forest **can handle missing values**, and\r\n",
        "\r\n",
        "- the **last** advantage is that the Random Forest classifier ***can be modeled for categorical values***.\r\n",
        "\r\n",
        "- The difference between **Random Forest algorithm** and the **decision tree algorithm** is that in Random Forest, the processes of finding the **root node** and **splitting** the feature nodes will run **randomly**.\r\n",
        "\r\n",
        "***How the Random Forest Classifier works***\r\n",
        "\r\n",
        "- Randomly select $K$ features from total $m$ features where ${k<<m}$\r\n",
        "- Among the $K$ features, calculate the node $d$ using the best split point.\r\n"
      ]
    },
    {
      "cell_type": "markdown",
      "metadata": {
        "id": "mjtfP-5HBnMb"
      },
      "source": [
        "\n",
        "- **Bagging**\n",
        "    - Base estimator: Decision Tree, Logistic Regression, Neural Network, ...\n",
        "    - Each estimator is trained on a distinct bootstrap sample of the training set\n",
        "    - Estimators use all features for training and prediction\n",
        "\n",
        "- **Further Diversity with Random Forest**\n",
        "    - Base estimator: Decision Tree\n",
        "    - Each estimator is trained on a different bootstrap sample having the same size as the training set\n",
        "    - RF introduces further randomization in the training of individual trees\n",
        "    - __d__ features are sampled at each node without replacement\n",
        " \n",
        "- ***Random Forest: Training***\n",
        "![rf_train](https://github.com/mohd-faizy/CAREER-TRACK-Data-Scientist-with-Python/blob/main/28_Machine-Learning-with-Tree-Based-Models-in-Python/_img/rf_training.png?raw=true)\n",
        "\n",
        "- ***Random Forest: Prediction***\n",
        "\n",
        "\n",
        "![rf_pred](https://github.com/mohd-faizy/CAREER-TRACK-Data-Scientist-with-Python/blob/main/28_Machine-Learning-with-Tree-Based-Models-in-Python/_img/rf_pred.png?raw=true)\n",
        "- Feature importance\n",
        "    - Tree based methods: enable measuring the importance of each feature in prediction\n",
        "    "
      ]
    },
    {
      "cell_type": "markdown",
      "metadata": {
        "id": "Adp2302BBnMb"
      },
      "source": [
        "### Train an RF regressor\n",
        "In the following exercises you'll predict bike rental demand in the Capital Bikeshare program in Washington, D.C using historical weather data from the [Bike Sharing Demand](https://www.kaggle.com/c/bike-sharing-demand) dataset available through Kaggle. For this purpose, you will be using the random forests algorithm. As a first step, you'll define a random forests regressor and fit it to the training set."
      ]
    },
    {
      "cell_type": "markdown",
      "metadata": {
        "id": "sreH67BLBnMc"
      },
      "source": [
        "- Preprocess"
      ]
    },
    {
      "cell_type": "code",
      "metadata": {
        "id": "K-Q50EfHBnMc",
        "colab": {
          "base_uri": "https://localhost:8080/",
          "height": 191
        },
        "outputId": "28feeb93-2d3f-46b4-ca5b-b4d5c6a64e9b"
      },
      "source": [
        "bike = pd.read_csv('bikes.csv')\n",
        "bike.head()"
      ],
      "execution_count": 8,
      "outputs": [
        {
          "output_type": "execute_result",
          "data": {
            "text/html": [
              "<div>\n",
              "<style scoped>\n",
              "    .dataframe tbody tr th:only-of-type {\n",
              "        vertical-align: middle;\n",
              "    }\n",
              "\n",
              "    .dataframe tbody tr th {\n",
              "        vertical-align: top;\n",
              "    }\n",
              "\n",
              "    .dataframe thead th {\n",
              "        text-align: right;\n",
              "    }\n",
              "</style>\n",
              "<table border=\"1\" class=\"dataframe\">\n",
              "  <thead>\n",
              "    <tr style=\"text-align: right;\">\n",
              "      <th></th>\n",
              "      <th>hr</th>\n",
              "      <th>holiday</th>\n",
              "      <th>workingday</th>\n",
              "      <th>temp</th>\n",
              "      <th>hum</th>\n",
              "      <th>windspeed</th>\n",
              "      <th>cnt</th>\n",
              "      <th>instant</th>\n",
              "      <th>mnth</th>\n",
              "      <th>yr</th>\n",
              "      <th>Clear to partly cloudy</th>\n",
              "      <th>Light Precipitation</th>\n",
              "      <th>Misty</th>\n",
              "    </tr>\n",
              "  </thead>\n",
              "  <tbody>\n",
              "    <tr>\n",
              "      <th>0</th>\n",
              "      <td>0</td>\n",
              "      <td>0</td>\n",
              "      <td>0</td>\n",
              "      <td>0.76</td>\n",
              "      <td>0.66</td>\n",
              "      <td>0.0000</td>\n",
              "      <td>149</td>\n",
              "      <td>13004</td>\n",
              "      <td>7</td>\n",
              "      <td>1</td>\n",
              "      <td>1</td>\n",
              "      <td>0</td>\n",
              "      <td>0</td>\n",
              "    </tr>\n",
              "    <tr>\n",
              "      <th>1</th>\n",
              "      <td>1</td>\n",
              "      <td>0</td>\n",
              "      <td>0</td>\n",
              "      <td>0.74</td>\n",
              "      <td>0.70</td>\n",
              "      <td>0.1343</td>\n",
              "      <td>93</td>\n",
              "      <td>13005</td>\n",
              "      <td>7</td>\n",
              "      <td>1</td>\n",
              "      <td>1</td>\n",
              "      <td>0</td>\n",
              "      <td>0</td>\n",
              "    </tr>\n",
              "    <tr>\n",
              "      <th>2</th>\n",
              "      <td>2</td>\n",
              "      <td>0</td>\n",
              "      <td>0</td>\n",
              "      <td>0.72</td>\n",
              "      <td>0.74</td>\n",
              "      <td>0.0896</td>\n",
              "      <td>90</td>\n",
              "      <td>13006</td>\n",
              "      <td>7</td>\n",
              "      <td>1</td>\n",
              "      <td>1</td>\n",
              "      <td>0</td>\n",
              "      <td>0</td>\n",
              "    </tr>\n",
              "    <tr>\n",
              "      <th>3</th>\n",
              "      <td>3</td>\n",
              "      <td>0</td>\n",
              "      <td>0</td>\n",
              "      <td>0.72</td>\n",
              "      <td>0.84</td>\n",
              "      <td>0.1343</td>\n",
              "      <td>33</td>\n",
              "      <td>13007</td>\n",
              "      <td>7</td>\n",
              "      <td>1</td>\n",
              "      <td>1</td>\n",
              "      <td>0</td>\n",
              "      <td>0</td>\n",
              "    </tr>\n",
              "    <tr>\n",
              "      <th>4</th>\n",
              "      <td>4</td>\n",
              "      <td>0</td>\n",
              "      <td>0</td>\n",
              "      <td>0.70</td>\n",
              "      <td>0.79</td>\n",
              "      <td>0.1940</td>\n",
              "      <td>4</td>\n",
              "      <td>13008</td>\n",
              "      <td>7</td>\n",
              "      <td>1</td>\n",
              "      <td>1</td>\n",
              "      <td>0</td>\n",
              "      <td>0</td>\n",
              "    </tr>\n",
              "  </tbody>\n",
              "</table>\n",
              "</div>"
            ],
            "text/plain": [
              "   hr  holiday  workingday  ...  Clear to partly cloudy  Light Precipitation  Misty\n",
              "0   0        0           0  ...                       1                    0      0\n",
              "1   1        0           0  ...                       1                    0      0\n",
              "2   2        0           0  ...                       1                    0      0\n",
              "3   3        0           0  ...                       1                    0      0\n",
              "4   4        0           0  ...                       1                    0      0\n",
              "\n",
              "[5 rows x 13 columns]"
            ]
          },
          "metadata": {
            "tags": []
          },
          "execution_count": 8
        }
      ]
    },
    {
      "cell_type": "code",
      "metadata": {
        "id": "eILxoXSLBnMf",
        "colab": {
          "base_uri": "https://localhost:8080/",
          "height": 461
        },
        "outputId": "8d666821-e51a-450f-9e34-7acc8faf4883"
      },
      "source": [
        "from sklearn.ensemble import RandomForestRegressor\n",
        "from sklearn.model_selection import train_test_split\n",
        "from sklearn.metrics import mean_squared_error as MSE\n",
        "\n",
        "X = bike.drop('cnt', axis='columns')\n",
        "y = bike['cnt']\n",
        "\n",
        "X_train, X_test, y_train, y_test = train_test_split(X, y, test_size=0.2, random_state=2)\n",
        "\n",
        "# Instantiate rf\n",
        "rf = RandomForestRegressor(n_estimators=25, random_state=2)\n",
        "\n",
        "# Fit rf to the training set\n",
        "rf.fit(X_train, y_train)\n",
        "\n",
        "# Evaluate the RF regressor-----------------------------------------------------\n",
        "# Predict the test set labels\n",
        "y_pred = rf.predict(X_test)\n",
        "\n",
        "# Evaluate the test set RMSE\n",
        "rmse_test = MSE(y_test, y_pred)**0.5\n",
        "\n",
        "# Print rmse_test\n",
        "print('Test set RMSE of Random forest: {:.2f}'.format(rmse_test))\n",
        "\n",
        "# Visualizing features importances----------------------------------------------\n",
        "# Create a pd.Series of features importances\n",
        "importances = pd.Series(data=rf.feature_importances_, index=X_train.columns)\n",
        "\n",
        "# Sort importances\n",
        "importances_sorted = importances.sort_values()\n",
        "\n",
        "# Draw a horizontal barplot of importances_sorted\n",
        "importances_sorted.plot(kind='barh', color='lightgreen', figsize=(12,7))\n",
        "plt.title('Features Importances')\n",
        "plt.savefig('/content/feature_importances.png')"
      ],
      "execution_count": 9,
      "outputs": [
        {
          "output_type": "stream",
          "text": [
            "Test set RMSE of Random forest: 54.49\n"
          ],
          "name": "stdout"
        },
        {
          "output_type": "display_data",
          "data": {
            "image/png": "[encoded data removed]",
            "text/plain": [
              "<Figure size 864x504 with 1 Axes>"
            ]
          },
          "metadata": {
            "tags": [],
            "needs_background": "light"
          }
        }
      ]
    },
    {
      "cell_type": "markdown",
      "metadata": {
        "id": "s1IFGhEcBnMh"
      },
      "source": [
        "Apparently, ```hr``` and ```workingday``` are the most important features according to ```rf```. The importances of these two features add up to more than 90%!"
      ]
    },
    {
      "cell_type": "markdown",
      "metadata": {
        "id": "3Kjeq0hrDWeU"
      },
      "source": [
        "# **Bagging - IRIS DataSet** "
      ]
    },
    {
      "cell_type": "code",
      "metadata": {
        "colab": {
          "base_uri": "https://localhost:8080/"
        },
        "id": "mBq5QiVEDV9q",
        "outputId": "900b6e88-c92c-48d4-f4ac-64cec48373e3"
      },
      "source": [
        "# Import All the required packages from sklearn\r\n",
        "import numpy as np\r\n",
        "from sklearn import model_selection\r\n",
        "from sklearn.ensemble import BaggingClassifier\r\n",
        "from sklearn.tree import DecisionTreeClassifier\r\n",
        "from sklearn.datasets import load_iris\r\n",
        "\r\n",
        "# Load the data\r\n",
        "iris = load_iris()\r\n",
        "X = iris.data\r\n",
        "Y = iris.target\r\n",
        "\r\n",
        "# Split the data in traning and testing set\r\n",
        "X_fit, X_eval, y_fit, y_test= model_selection.train_test_split( X, Y, test_size=0.30, random_state=1 )\r\n",
        "\r\n",
        "# Creat data in training and testing set\r\n",
        "seed = 7\r\n",
        "kfold = model_selection.KFold(n_splits=10, random_state=seed)\r\n",
        "\r\n",
        "# Define the decision tree clissifier\r\n",
        "cart = DecisionTreeClassifier()\r\n",
        "num_trees = 100\r\n",
        "\r\n",
        "# Create classification model for bagging\r\n",
        "model = BaggingClassifier(base_estimator=cart, n_estimators=num_trees, random_state=seed)\r\n",
        "\r\n",
        "# Train different models and print their accuracy\r\n",
        "results = model_selection.cross_val_score(model, X_fit, y_fit,cv=kfold)\r\n",
        "for i in range(len(results)):\r\n",
        "    print(\"Model: \"+str(i)+\" Accuracy is: \"+str(results[i]))\r\n",
        "\r\n",
        "print(\"Mean Accuracy is: \"+str(results.mean()))\r\n",
        "\r\n",
        "model.fit(X_fit, y_fit)\r\n",
        "pred_label = model.predict(X_eval)\r\n",
        "nnz = np.shape(y_test)[0] - np.count_nonzero(pred_label - y_test)\r\n",
        "acc = 100*nnz/np.shape(y_test)[0]\r\n",
        "print('accuracy is: '+str(acc))"
      ],
      "execution_count": 10,
      "outputs": [
        {
          "output_type": "stream",
          "text": [
            "/usr/local/lib/python3.7/dist-packages/sklearn/model_selection/_split.py:296: FutureWarning: Setting a random_state has no effect since shuffle is False. This will raise an error in 0.24. You should leave random_state to its default (None), or set shuffle=True.\n",
            "  FutureWarning\n"
          ],
          "name": "stderr"
        },
        {
          "output_type": "stream",
          "text": [
            "Model: 0 Accuracy is: 1.0\n",
            "Model: 1 Accuracy is: 1.0\n",
            "Model: 2 Accuracy is: 1.0\n",
            "Model: 3 Accuracy is: 0.9090909090909091\n",
            "Model: 4 Accuracy is: 1.0\n",
            "Model: 5 Accuracy is: 1.0\n",
            "Model: 6 Accuracy is: 0.9\n",
            "Model: 7 Accuracy is: 1.0\n",
            "Model: 8 Accuracy is: 1.0\n",
            "Model: 9 Accuracy is: 0.7\n",
            "Mean Accuracy is: 0.9509090909090908\n",
            "accuracy is: 95.55555555555556\n"
          ],
          "name": "stdout"
        }
      ]
    },
    {
      "cell_type": "markdown",
      "metadata": {
        "id": "UPeejTLX2ZZm"
      },
      "source": [
        "<p align='center'> \r\n",
        "    <a href=\"https://twitter.com/F4izy\"> \r\n",
        "        <img src=\"https://th.bing.com/th/id/OIP.FCKMemzqNplY37Jwi0Yk3AHaGl?w=233&h=207&c=7&o=5&pid=1.7\" width=50px \r\n",
        "            height=50px> \r\n",
        "    </a> \r\n",
        "    <a href=\"https://www.linkedin.com/in/mohd-faizy/\"> \r\n",
        "        <img src='https://th.bing.com/th/id/OIP.idrBN-LfvMIZl370Vb65SgHaHa?pid=Api&rs=1' width=50px height=50px> \r\n",
        "    </a> \r\n",
        "</p>"
      ]
    }
  ]
}