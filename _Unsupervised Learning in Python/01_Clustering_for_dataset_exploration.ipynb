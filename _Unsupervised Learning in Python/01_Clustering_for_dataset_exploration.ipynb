{
  "nbformat": 4,
  "nbformat_minor": 0,
  "metadata": {
    "colab": {
      "name": "01_Clustering-for-dataset-exploration.ipynb",
      "provenance": [],
      "collapsed_sections": [],
      "toc_visible": true,
      "authorship_tag": "ABX9TyPSsNIeFPhKIV5u4IVl6i+I",
      "include_colab_link": true
    },
    "kernelspec": {
      "name": "python3",
      "display_name": "Python 3"
    }
  },
  "cells": [
    {
      "cell_type": "markdown",
      "metadata": {
        "id": "view-in-github",
        "colab_type": "text"
      },
      "source": [
        "<a href=\"https://colab.research.google.com/github/mohd-faizy/CAREER-TRACK-Data-Scientist-with-Python/blob/main/01_Clustering_for_dataset_exploration.ipynb\" target=\"_parent\"><img src=\"https://colab.research.google.com/assets/colab-badge.svg\" alt=\"Open In Colab\"/></a>"
      ]
    },
    {
      "cell_type": "markdown",
      "metadata": {
        "id": "BSuEABPa0--s"
      },
      "source": [
        "--- \r\n",
        "<strong> \r\n",
        "    <h1 align='center'>Clustering for dataset exploration</h1> \r\n",
        "</strong>\r\n",
        "\r\n",
        "---\r\n"
      ]
    },
    {
      "cell_type": "markdown",
      "metadata": {
        "id": "VHpT4aOUAz0j"
      },
      "source": [
        "Learn how to discover the underlying groups (or \"clusters\") in a dataset. By the end of this Notebook, we'll be clustering companies using their stock market prices, and distinguishing different species by clustering their measurements."
      ]
    },
    {
      "cell_type": "code",
      "metadata": {
        "colab": {
          "base_uri": "https://localhost:8080/"
        },
        "id": "eHRsiSczR0fB",
        "outputId": "ba1dd0db-e797-4c6b-96e5-9b115ad24f09"
      },
      "source": [
        "! git clone https://github.com/mohd-faizy/CAREER-TRACK-Data-Scientist-with-Python.git"
      ],
      "execution_count": 1,
      "outputs": [
        {
          "output_type": "stream",
          "text": [
            "Cloning into 'CAREER-TRACK-Data-Scientist-with-Python'...\n",
            "remote: Enumerating objects: 124, done.\u001b[K\n",
            "remote: Counting objects: 100% (124/124), done.\u001b[K\n",
            "remote: Compressing objects: 100% (118/118), done.\u001b[K\n",
            "remote: Total 2310 (delta 17), reused 100 (delta 6), pack-reused 2186\u001b[K\n",
            "Receiving objects: 100% (2310/2310), 276.16 MiB | 33.53 MiB/s, done.\n",
            "Resolving deltas: 100% (795/795), done.\n",
            "Checking out files: 100% (1004/1004), done.\n"
          ],
          "name": "stdout"
        }
      ]
    },
    {
      "cell_type": "code",
      "metadata": {
        "id": "KJN0hZ3RWQsh"
      },
      "source": [
        "import pandas as pd\r\n",
        "import numpy as np\r\n",
        "import matplotlib.pyplot as plt\r\n",
        "import seaborn as sns\r\n",
        "import os\r\n",
        "\r\n",
        "plt.style.use('ggplot')\r\n",
        "#sns.set_theme(style='whitegrid')\r\n",
        "%matplotlib inline"
      ],
      "execution_count": 2,
      "outputs": []
    },
    {
      "cell_type": "code",
      "metadata": {
        "colab": {
          "base_uri": "https://localhost:8080/"
        },
        "id": "nu0TmPzKTj2V",
        "outputId": "8b710dd6-0079-47db-9d7b-f8b3d64086cc"
      },
      "source": [
        "os.chdir('/content/CAREER-TRACK-Data-Scientist-with-Python/27_Unsupervised Learning in Python/_dataset')\r\n",
        "cwd = os.getcwd()\r\n",
        "print('Curent working directory is ', cwd)"
      ],
      "execution_count": 3,
      "outputs": [
        {
          "output_type": "stream",
          "text": [
            "Curent working directory is  /content/CAREER-TRACK-Data-Scientist-with-Python/27_Unsupervised Learning in Python/_dataset\n"
          ],
          "name": "stdout"
        }
      ]
    },
    {
      "cell_type": "code",
      "metadata": {
        "colab": {
          "base_uri": "https://localhost:8080/"
        },
        "id": "b6FFGoWhUD1G",
        "outputId": "83f393f1-f7f7-4711-c08e-f846fada2b57"
      },
      "source": [
        "ls"
      ],
      "execution_count": 4,
      "outputs": [
        {
          "output_type": "stream",
          "text": [
            " company-stock-movements-2010-2015-incl.csv  \u001b[0m\u001b[01;34m'Musical artists'\u001b[0m/\n",
            " eurovision-2016.csv                          new_points.csv\n",
            " fish.csv                                     points.csv\n",
            " \u001b[01;34mGrains\u001b[0m/                                     \u001b[01;34m'Wikipedia articles'\u001b[0m/\n",
            " lcd-digits.csv                               wine.csv\n"
          ],
          "name": "stdout"
        }
      ]
    },
    {
      "cell_type": "markdown",
      "metadata": {
        "id": "YGY8agHvE1yB"
      },
      "source": [
        "## Unsupervised Learning\n",
        "\n",
        "- **Unsupervised Learning**\n",
        "    - Finds patterns in data (E.g., clustering customers by their purchase)\n",
        "    - Compressing the data using purchase patterns (dimension reduction)\n",
        "\n",
        "- **Supervised vs unsupervised learning**\n",
        "    - Supervised learning finds patterns for a prediction task \n",
        "    \n",
        "    e.g., classify tumors as benign or cancerous (labels)\n",
        "    - Unsupervised learning finds patterns in data, but without a specific prediction task in mind\n",
        "\n",
        "- **K-means clustering**\n",
        "    - Finds clusters of samples\n",
        "    - Number of clusters must be specified\n",
        "    \n",
        "- **Cluster labels for new samples**\n",
        "    - New samples can be assigned to existing clusters\n",
        "    - k-means remembers the mean of each cluster (the \"centroids\")\n",
        "    - Finds the nearest centroid to each new sample"
      ]
    },
    {
      "cell_type": "markdown",
      "metadata": {
        "id": "CbWF0olYE1yD"
      },
      "source": [
        "### How many clusters?"
      ]
    },
    {
      "cell_type": "code",
      "metadata": {
        "colab": {
          "base_uri": "https://localhost:8080/"
        },
        "id": "967EJltKMuKP",
        "outputId": "d414632f-9564-436e-9527-866d5e0dc165"
      },
      "source": [
        "points = pd.read_csv('points.csv').reset_index(drop=True)\r\n",
        "points.drop(['Unnamed: 0'], axis=1, inplace=True)\r\n",
        "points.columns"
      ],
      "execution_count": 5,
      "outputs": [
        {
          "output_type": "execute_result",
          "data": {
            "text/plain": [
              "Index(['0', '1'], dtype='object')"
            ]
          },
          "metadata": {
            "tags": []
          },
          "execution_count": 5
        }
      ]
    },
    {
      "cell_type": "code",
      "metadata": {
        "id": "oPf4grHZE1yM",
        "colab": {
          "base_uri": "https://localhost:8080/",
          "height": 517
        },
        "outputId": "362371c4-6e29-4d9a-b01b-3e89c45574a8"
      },
      "source": [
        "xs = points['0']\n",
        "ys = points['1']\n",
        "\n",
        "plt.figure(figsize=(12,7), facecolor='lightgrey')\n",
        "sns.scatterplot(xs, ys)"
      ],
      "execution_count": 6,
      "outputs": [
        {
          "output_type": "stream",
          "text": [
            "/usr/local/lib/python3.7/dist-packages/seaborn/_decorators.py:43: FutureWarning: Pass the following variables as keyword args: x, y. From version 0.12, the only valid positional argument will be `data`, and passing other arguments without an explicit keyword will result in an error or misinterpretation.\n",
            "  FutureWarning\n"
          ],
          "name": "stderr"
        },
        {
          "output_type": "execute_result",
          "data": {
            "text/plain": [
              "<matplotlib.axes._subplots.AxesSubplot at 0x7f65359281d0>"
            ]
          },
          "metadata": {
            "tags": []
          },
          "execution_count": 6
        },
        {
          "output_type": "display_data",
          "data": {
            "image/png": "[encoded data removed]",
            "text/plain": [
              "<Figure size 864x504 with 1 Axes>"
            ]
          },
          "metadata": {
            "tags": []
          }
        }
      ]
    },
    {
      "cell_type": "markdown",
      "metadata": {
        "id": "M6RUrDqtE1yW"
      },
      "source": [
        "### Clustering 2D points\n",
        "From the scatter plot of the previous exercise, you saw that the points seem to separate into 3 clusters. You'll now create a KMeans model to find 3 clusters, and fit it to the data points from the previous exercise. After the model has been fit, you'll obtain the cluster labels for some new points using the ```.predict()``` method."
      ]
    },
    {
      "cell_type": "code",
      "metadata": {
        "colab": {
          "base_uri": "https://localhost:8080/"
        },
        "id": "aGG1-8rRWND7",
        "outputId": "f87cab0d-6d6f-42a2-ea58-ab4575f7089d"
      },
      "source": [
        "new_points = pd.read_csv('new_points.csv').reset_index(drop=True)\r\n",
        "new_points.drop(['Unnamed: 0'], axis=1, inplace=True)\r\n",
        "new_points.columns"
      ],
      "execution_count": 7,
      "outputs": [
        {
          "output_type": "execute_result",
          "data": {
            "text/plain": [
              "Index(['0', '1'], dtype='object')"
            ]
          },
          "metadata": {
            "tags": []
          },
          "execution_count": 7
        }
      ]
    },
    {
      "cell_type": "markdown",
      "metadata": {
        "id": "QuQEzeDwofMh"
      },
      "source": [
        "__KMeans Clustring__"
      ]
    },
    {
      "cell_type": "code",
      "metadata": {
        "id": "68OtmK6WE1yX",
        "colab": {
          "base_uri": "https://localhost:8080/"
        },
        "outputId": "e80854de-eaf7-4e8d-d422-23110765f7c0"
      },
      "source": [
        "from sklearn.cluster import KMeans\n",
        "\n",
        "# Create a KMeans instance with 3 clusters: model\n",
        "model = KMeans(n_clusters=3)\n",
        "\n",
        "# Fit model to points\n",
        "model.fit(points)   \n",
        "\n",
        "# Determine the cluster labels of new_points: labels\n",
        "labels = model.predict(new_points)\n",
        "\n",
        "# Print cluster labels of new_points\n",
        "print(labels)"
      ],
      "execution_count": 8,
      "outputs": [
        {
          "output_type": "stream",
          "text": [
            "[1 2 0 1 2 1 2 2 2 0 1 2 2 0 0 2 0 0 2 2 0 2 1 2 1 0 2 0 0 1 1 2 2 2 0 1 2\n",
            " 2 1 2 0 1 1 0 1 2 0 0 2 2 2 2 0 0 1 1 0 0 0 1 1 2 2 2 1 2 0 2 1 0 1 1 1 2\n",
            " 1 0 0 1 2 0 1 0 1 2 0 2 0 1 2 2 2 1 2 2 1 0 0 0 0 1 2 1 0 0 1 1 2 1 0 0 1\n",
            " 0 0 0 2 2 2 2 0 0 2 1 2 0 2 1 0 2 0 0 2 0 2 0 1 2 1 1 2 0 1 2 1 1 0 2 2 1\n",
            " 0 1 0 2 1 0 0 1 0 2 2 0 2 0 0 2 2 1 2 2 0 1 0 1 1 2 1 2 2 1 1 0 1 1 1 0 2\n",
            " 2 1 0 1 0 0 2 2 2 1 2 2 2 0 0 1 2 1 1 1 0 2 2 2 2 2 2 0 0 2 0 0 0 0 2 0 0\n",
            " 2 2 1 0 1 1 0 1 0 1 0 2 2 0 2 2 2 0 1 1 0 2 2 0 2 0 0 2 0 0 1 0 1 1 1 2 0\n",
            " 0 0 1 2 1 0 1 0 0 2 1 1 1 0 2 2 2 1 2 0 0 2 1 1 0 1 1 0 1 2 1 0 0 0 0 2 0\n",
            " 0 2 2 1]\n"
          ],
          "name": "stdout"
        }
      ]
    },
    {
      "cell_type": "markdown",
      "metadata": {
        "id": "8d9lZCoyE1yY"
      },
      "source": [
        "### ***Inspect your clustering***\n",
        "Let's now inspect the clustering you performed in the previous exercise!\n",
        "\n"
      ]
    },
    {
      "cell_type": "code",
      "metadata": {
        "id": "NlmGNi_bE1yY",
        "colab": {
          "base_uri": "https://localhost:8080/",
          "height": 427
        },
        "outputId": "a2ba0a81-435f-4de6-c354-cdb8b0fade6a"
      },
      "source": [
        "# Assign the columns of new_points: xs and ys\n",
        "xs = new_points['0']\n",
        "ys = new_points['1']\n",
        "\n",
        "# plot size\n",
        "plt.figure(figsize=(12,7), facecolor='lightgrey')\n",
        "\n",
        "# Make a scatter plot of xs and ys, using labels to define the colors\n",
        "plt.scatter(xs, ys, cmap='tab10', c=labels, alpha=0.8) #label according to the \n",
        "\n",
        "# Assign the cluster centers: centroids\n",
        "centroids = model.cluster_centers_\n",
        "\n",
        "# Assign the columns of centroids: centroids_x, centroids_y\n",
        "centroids_x = centroids[:, 0]\n",
        "centroids_y = centroids[:, 1]\n",
        "\n",
        "# Make a scatter plot of centroids_x and centroids_y\n",
        "plt.scatter(centroids_x, centroids_y, marker='D', s=50, color='red')\n",
        "plt.show()"
      ],
      "execution_count": 9,
      "outputs": [
        {
          "output_type": "display_data",
          "data": {
            "image/png": "[encoded data removed]",
            "text/plain": [
              "<Figure size 864x504 with 1 Axes>"
            ]
          },
          "metadata": {
            "tags": []
          }
        }
      ]
    },
    {
      "cell_type": "markdown",
      "metadata": {
        "id": "cnFGD6TbV6zc"
      },
      "source": [
        "```python\r\n",
        "plt.savefig('/content/kmeans-centroid.png')\r\n",
        "```"
      ]
    },
    {
      "cell_type": "markdown",
      "metadata": {
        "id": "Yu4kwcUME1yY"
      },
      "source": [
        "## Evaluating a clustering\n",
        "- Evaluating a clustering\n",
        "    - Can check correspondence with e.g. iris species, but what if there are no species to check against?\n",
        "    - Measure quality of a clustering\n",
        "    - Informs choice of how many clusters to look for\n",
        "- Cross-tabulation with pandas\n",
        "    - Clusters vs species is a \"cross-tabulation\"\n",
        "- Measuring clustering quality\n",
        "    - Using only samples and their cluster labels\n",
        "    - A good clustering has tight clusters\n",
        "    - Samples in each cluster bunched together\n",
        "- Inertia measures clustering quality\n",
        "    - Measures how spread out the clusters are (lower is better)\n",
        "    - Distance from each sample to centroid of its cluster\n",
        "    - k-means attempts to minimize the inertia when choosing clusters\n",
        "- How many clusters to choose?\n",
        "    - Choose an \"elbow\" in the inertia plot\n",
        "    - Where inertia begins to decrease more slowly"
      ]
    },
    {
      "cell_type": "markdown",
      "metadata": {
        "id": "_hG4w8uLE1yZ"
      },
      "source": [
        "### How many clusters of grain?\n",
        "In the video, you learned how to choose a good number of clusters for a dataset using the k-means inertia graph. You are given an array ```samples``` containing the measurements (such as area, perimeter, length, and several others) of samples of grain. What's a good number of clusters in this case?"
      ]
    },
    {
      "cell_type": "markdown",
      "metadata": {
        "id": "OIfZIVP-E1yZ"
      },
      "source": [
        "#### Preprocess"
      ]
    },
    {
      "cell_type": "code",
      "metadata": {
        "id": "r8yxOg1XE1yZ",
        "colab": {
          "base_uri": "https://localhost:8080/",
          "height": 197
        },
        "outputId": "fd62ecb9-05cd-4303-ee13-f08f036f567f"
      },
      "source": [
        "df = pd.read_csv('Grains/seeds.csv', header=None)\n",
        "df[7] = df[7].map({1:'Kama wheat', 2:'Rosa wheat', 3:'Canadian wheat'})\n",
        "df.head()"
      ],
      "execution_count": 10,
      "outputs": [
        {
          "output_type": "execute_result",
          "data": {
            "text/html": [
              "<div>\n",
              "<style scoped>\n",
              "    .dataframe tbody tr th:only-of-type {\n",
              "        vertical-align: middle;\n",
              "    }\n",
              "\n",
              "    .dataframe tbody tr th {\n",
              "        vertical-align: top;\n",
              "    }\n",
              "\n",
              "    .dataframe thead th {\n",
              "        text-align: right;\n",
              "    }\n",
              "</style>\n",
              "<table border=\"1\" class=\"dataframe\">\n",
              "  <thead>\n",
              "    <tr style=\"text-align: right;\">\n",
              "      <th></th>\n",
              "      <th>0</th>\n",
              "      <th>1</th>\n",
              "      <th>2</th>\n",
              "      <th>3</th>\n",
              "      <th>4</th>\n",
              "      <th>5</th>\n",
              "      <th>6</th>\n",
              "      <th>7</th>\n",
              "    </tr>\n",
              "  </thead>\n",
              "  <tbody>\n",
              "    <tr>\n",
              "      <th>0</th>\n",
              "      <td>15.26</td>\n",
              "      <td>14.84</td>\n",
              "      <td>0.8710</td>\n",
              "      <td>5.763</td>\n",
              "      <td>3.312</td>\n",
              "      <td>2.221</td>\n",
              "      <td>5.220</td>\n",
              "      <td>Kama wheat</td>\n",
              "    </tr>\n",
              "    <tr>\n",
              "      <th>1</th>\n",
              "      <td>14.88</td>\n",
              "      <td>14.57</td>\n",
              "      <td>0.8811</td>\n",
              "      <td>5.554</td>\n",
              "      <td>3.333</td>\n",
              "      <td>1.018</td>\n",
              "      <td>4.956</td>\n",
              "      <td>Kama wheat</td>\n",
              "    </tr>\n",
              "    <tr>\n",
              "      <th>2</th>\n",
              "      <td>14.29</td>\n",
              "      <td>14.09</td>\n",
              "      <td>0.9050</td>\n",
              "      <td>5.291</td>\n",
              "      <td>3.337</td>\n",
              "      <td>2.699</td>\n",
              "      <td>4.825</td>\n",
              "      <td>Kama wheat</td>\n",
              "    </tr>\n",
              "    <tr>\n",
              "      <th>3</th>\n",
              "      <td>13.84</td>\n",
              "      <td>13.94</td>\n",
              "      <td>0.8955</td>\n",
              "      <td>5.324</td>\n",
              "      <td>3.379</td>\n",
              "      <td>2.259</td>\n",
              "      <td>4.805</td>\n",
              "      <td>Kama wheat</td>\n",
              "    </tr>\n",
              "    <tr>\n",
              "      <th>4</th>\n",
              "      <td>16.14</td>\n",
              "      <td>14.99</td>\n",
              "      <td>0.9034</td>\n",
              "      <td>5.658</td>\n",
              "      <td>3.562</td>\n",
              "      <td>1.355</td>\n",
              "      <td>5.175</td>\n",
              "      <td>Kama wheat</td>\n",
              "    </tr>\n",
              "  </tbody>\n",
              "</table>\n",
              "</div>"
            ],
            "text/plain": [
              "       0      1       2      3      4      5      6           7\n",
              "0  15.26  14.84  0.8710  5.763  3.312  2.221  5.220  Kama wheat\n",
              "1  14.88  14.57  0.8811  5.554  3.333  1.018  4.956  Kama wheat\n",
              "2  14.29  14.09  0.9050  5.291  3.337  2.699  4.825  Kama wheat\n",
              "3  13.84  13.94  0.8955  5.324  3.379  2.259  4.805  Kama wheat\n",
              "4  16.14  14.99  0.9034  5.658  3.562  1.355  5.175  Kama wheat"
            ]
          },
          "metadata": {
            "tags": []
          },
          "execution_count": 10
        }
      ]
    },
    {
      "cell_type": "code",
      "metadata": {
        "id": "Ox0ji15xE1ya"
      },
      "source": [
        "samples = df.iloc[:, :-1].values\n",
        "varieties = df.iloc[:, -1].values"
      ],
      "execution_count": 11,
      "outputs": []
    },
    {
      "cell_type": "code",
      "metadata": {
        "id": "2stEdYZhE1ya",
        "colab": {
          "base_uri": "https://localhost:8080/",
          "height": 551
        },
        "outputId": "0847633f-9b4e-4109-875d-953e732aa73f"
      },
      "source": [
        "ks = range(1,6)\n",
        "inertias = []\n",
        "\n",
        "for k in ks:\n",
        "    # Create a KMeans instance with k clusters: model\n",
        "    model = KMeans(n_clusters=k)\n",
        "    \n",
        "    # Fit model to samples\n",
        "    model.fit(samples)\n",
        "    \n",
        "    # Append the inertia to the list of inertias\n",
        "    inertias.append(model.inertia_)\n",
        "    \n",
        "# Plot ks vs inertias\n",
        "plt.figure(figsize=(12, 7), facecolor='lightgrey')\n",
        "plt.plot(ks, inertias, '-o')\n",
        "plt.xlabel('number of clusters, k')\n",
        "plt.ylabel('inertia')\n",
        "plt.xticks(ks)"
      ],
      "execution_count": 12,
      "outputs": [
        {
          "output_type": "execute_result",
          "data": {
            "text/plain": [
              "([<matplotlib.axis.XTick at 0x7f652dcf9bd0>,\n",
              "  <matplotlib.axis.XTick at 0x7f652dcf9b90>,\n",
              "  <matplotlib.axis.XTick at 0x7f652dcf9790>,\n",
              "  <matplotlib.axis.XTick at 0x7f652549bcd0>,\n",
              "  <matplotlib.axis.XTick at 0x7f65254a7610>],\n",
              " <a list of 5 Text major ticklabel objects>)"
            ]
          },
          "metadata": {
            "tags": []
          },
          "execution_count": 12
        },
        {
          "output_type": "display_data",
          "data": {
            "image/png": "[encoded data removed]",
            "text/plain": [
              "<Figure size 864x504 with 1 Axes>"
            ]
          },
          "metadata": {
            "tags": []
          }
        }
      ]
    },
    {
      "cell_type": "markdown",
      "metadata": {
        "id": "K1WvnjvOE1yb"
      },
      "source": [
        "### Evaluating the grain clustering\n",
        "In the previous exercise, you observed from the inertia plot that 3 is a good number of clusters for the grain data. In fact, the grain samples come from a mix of 3 different grain varieties: \"Kama\", \"Rosa\" and \"Canadian\". In this exercise, cluster the grain samples into three clusters, and compare the clusters to the grain varieties using a cross-tabulation.\n"
      ]
    },
    {
      "cell_type": "code",
      "metadata": {
        "id": "EAyuzpjAE1yb",
        "colab": {
          "base_uri": "https://localhost:8080/"
        },
        "outputId": "464d7edd-aa1c-402c-8293-8c4c8a718323"
      },
      "source": [
        "# Create a KMeans model with 3 clusters: model\n",
        "model = KMeans(n_clusters=3)\n",
        "\n",
        "# Use fit_predict to fit model and obtain cluster labels: labels\n",
        "labels = model.fit_predict(samples)\n",
        "\n",
        "# Create a DataFrame with labels and varieties as columns: df\n",
        "df = pd.DataFrame({'labels': labels, 'varieties': varieties})\n",
        "\n",
        "# Create crosstab: ct\n",
        "ct = pd.crosstab(df['labels'], df['varieties'])\n",
        "\n",
        "# Display ct\n",
        "print(ct)"
      ],
      "execution_count": 13,
      "outputs": [
        {
          "output_type": "stream",
          "text": [
            "varieties  Canadian wheat  Kama wheat  Rosa wheat\n",
            "labels                                           \n",
            "0                       2          60          10\n",
            "1                       0           1          60\n",
            "2                      68           9           0\n"
          ],
          "name": "stdout"
        }
      ]
    },
    {
      "cell_type": "markdown",
      "metadata": {
        "id": "Ghxiri8-E1yb"
      },
      "source": [
        "## Transforming features for better clusterings\n",
        "- StandardScaler\n",
        "    - In kmeans, feature variance = feature influence\n",
        "    - ```StandardScaler``` transforms each feature to have mean 0 and variance 1\n",
        "    - Features are said to be \"standardized\"\n",
        "- StandardScaler, then KMeans\n",
        "    - Need to perform two steps: ```StandardScaler```, then ```KMeans```\n",
        "    - Use ```sklearn``` pipeline to combine multiple steps\n",
        "    - Data flows from one step into the next"
      ]
    },
    {
      "cell_type": "markdown",
      "metadata": {
        "id": "2YrrtSlZE1yc"
      },
      "source": [
        "### Scaling fish data for clustering\n",
        "You are given an array ```samples``` giving measurements of fish. Each row represents an individual fish. The measurements, such as weight in grams, length in centimeters, and the percentage ratio of height to length, have very different scales. In order to cluster this data effectively, you'll need to standardize these features first. In this exercise, you'll build a pipeline to standardize and cluster the data.\n",
        "\n",
        "These fish measurement data were sourced from the [Journal of Statistics Education](http://ww2.amstat.org/publications/jse/jse_data_archive.htm)."
      ]
    },
    {
      "cell_type": "markdown",
      "metadata": {
        "id": "MjwkmgivE1yc"
      },
      "source": [
        "#### Preprocess"
      ]
    },
    {
      "cell_type": "code",
      "metadata": {
        "id": "jgbNGLNrE1yd",
        "colab": {
          "base_uri": "https://localhost:8080/",
          "height": 197
        },
        "outputId": "8037d44c-46ca-4cd7-98fd-b4a103612995"
      },
      "source": [
        "df = pd.read_csv('Grains/seeds.csv', header=None)\n",
        "df.head()"
      ],
      "execution_count": 14,
      "outputs": [
        {
          "output_type": "execute_result",
          "data": {
            "text/html": [
              "<div>\n",
              "<style scoped>\n",
              "    .dataframe tbody tr th:only-of-type {\n",
              "        vertical-align: middle;\n",
              "    }\n",
              "\n",
              "    .dataframe tbody tr th {\n",
              "        vertical-align: top;\n",
              "    }\n",
              "\n",
              "    .dataframe thead th {\n",
              "        text-align: right;\n",
              "    }\n",
              "</style>\n",
              "<table border=\"1\" class=\"dataframe\">\n",
              "  <thead>\n",
              "    <tr style=\"text-align: right;\">\n",
              "      <th></th>\n",
              "      <th>0</th>\n",
              "      <th>1</th>\n",
              "      <th>2</th>\n",
              "      <th>3</th>\n",
              "      <th>4</th>\n",
              "      <th>5</th>\n",
              "      <th>6</th>\n",
              "      <th>7</th>\n",
              "    </tr>\n",
              "  </thead>\n",
              "  <tbody>\n",
              "    <tr>\n",
              "      <th>0</th>\n",
              "      <td>15.26</td>\n",
              "      <td>14.84</td>\n",
              "      <td>0.8710</td>\n",
              "      <td>5.763</td>\n",
              "      <td>3.312</td>\n",
              "      <td>2.221</td>\n",
              "      <td>5.220</td>\n",
              "      <td>1</td>\n",
              "    </tr>\n",
              "    <tr>\n",
              "      <th>1</th>\n",
              "      <td>14.88</td>\n",
              "      <td>14.57</td>\n",
              "      <td>0.8811</td>\n",
              "      <td>5.554</td>\n",
              "      <td>3.333</td>\n",
              "      <td>1.018</td>\n",
              "      <td>4.956</td>\n",
              "      <td>1</td>\n",
              "    </tr>\n",
              "    <tr>\n",
              "      <th>2</th>\n",
              "      <td>14.29</td>\n",
              "      <td>14.09</td>\n",
              "      <td>0.9050</td>\n",
              "      <td>5.291</td>\n",
              "      <td>3.337</td>\n",
              "      <td>2.699</td>\n",
              "      <td>4.825</td>\n",
              "      <td>1</td>\n",
              "    </tr>\n",
              "    <tr>\n",
              "      <th>3</th>\n",
              "      <td>13.84</td>\n",
              "      <td>13.94</td>\n",
              "      <td>0.8955</td>\n",
              "      <td>5.324</td>\n",
              "      <td>3.379</td>\n",
              "      <td>2.259</td>\n",
              "      <td>4.805</td>\n",
              "      <td>1</td>\n",
              "    </tr>\n",
              "    <tr>\n",
              "      <th>4</th>\n",
              "      <td>16.14</td>\n",
              "      <td>14.99</td>\n",
              "      <td>0.9034</td>\n",
              "      <td>5.658</td>\n",
              "      <td>3.562</td>\n",
              "      <td>1.355</td>\n",
              "      <td>5.175</td>\n",
              "      <td>1</td>\n",
              "    </tr>\n",
              "  </tbody>\n",
              "</table>\n",
              "</div>"
            ],
            "text/plain": [
              "       0      1       2      3      4      5      6  7\n",
              "0  15.26  14.84  0.8710  5.763  3.312  2.221  5.220  1\n",
              "1  14.88  14.57  0.8811  5.554  3.333  1.018  4.956  1\n",
              "2  14.29  14.09  0.9050  5.291  3.337  2.699  4.825  1\n",
              "3  13.84  13.94  0.8955  5.324  3.379  2.259  4.805  1\n",
              "4  16.14  14.99  0.9034  5.658  3.562  1.355  5.175  1"
            ]
          },
          "metadata": {
            "tags": []
          },
          "execution_count": 14
        }
      ]
    },
    {
      "cell_type": "code",
      "metadata": {
        "id": "L_pheBOYE1yf"
      },
      "source": [
        "samples = df.iloc[:, 1:].values\n",
        "species = df.iloc[:, 0].values"
      ],
      "execution_count": 15,
      "outputs": []
    },
    {
      "cell_type": "code",
      "metadata": {
        "id": "fQ2MFBHXE1yg"
      },
      "source": [
        "from sklearn.pipeline import make_pipeline\n",
        "from sklearn.preprocessing import StandardScaler\n",
        "from sklearn.cluster import KMeans\n",
        "\n",
        "# Create scaler: scaler\n",
        "scaler = StandardScaler()\n",
        "\n",
        "# Create KMeans instance: kmeans\n",
        "kmeans = KMeans(n_clusters=4)\n",
        "\n",
        "# Create pipeline: pipeline\n",
        "pipeline = make_pipeline(scaler, kmeans)"
      ],
      "execution_count": 16,
      "outputs": []
    },
    {
      "cell_type": "markdown",
      "metadata": {
        "id": "A8ZQr8AiE1yh"
      },
      "source": [
        "### Clustering the fish data\n",
        "You'll now use your standardization and clustering pipeline from the previous exercise to cluster the fish by their measurements, and then create a cross-tabulation to compare the cluster labels with the fish species."
      ]
    },
    {
      "cell_type": "code",
      "metadata": {
        "id": "dSswoZtLE1yh",
        "colab": {
          "base_uri": "https://localhost:8080/"
        },
        "outputId": "ad6f8b42-af97-49e8-9b74-1451a1359852"
      },
      "source": [
        "# Fit the pipeline to samples\n",
        "pipeline.fit(samples)\n",
        "\n",
        "# Calculate the cluster labels: labels\n",
        "labels = pipeline.predict(samples)\n",
        "\n",
        "# Create a DataFrame with labels and species as columns: df\n",
        "df = pd.DataFrame({'labels': labels, 'species': species})\n",
        "\n",
        "# Create crosstab: ct\n",
        "ct = pd.crosstab(df['labels'], df['species'])\n",
        "\n",
        "# Display ct\n",
        "print(ct)"
      ],
      "execution_count": 17,
      "outputs": [
        {
          "output_type": "stream",
          "text": [
            "species  10.59  10.74  10.79  10.80  10.82  ...  20.24  20.71  20.88  20.97  21.18\n",
            "labels                                      ...                                   \n",
            "0            0      0      0      0      0  ...      1      1      1      1      1\n",
            "1            1      0      0      1      0  ...      0      0      0      0      0\n",
            "2            0      0      0      0      0  ...      0      0      0      0      0\n",
            "3            0      1      1      0      1  ...      0      0      0      0      0\n",
            "\n",
            "[4 rows x 193 columns]\n"
          ],
          "name": "stdout"
        }
      ]
    },
    {
      "cell_type": "markdown",
      "metadata": {
        "id": "w6d3GLKeE1yi"
      },
      "source": [
        "### Clustering stocks using KMeans\n",
        "In this exercise, you'll cluster companies using their daily stock price movements (i.e. the dollar difference between the closing and opening prices for each trading day). You are given a NumPy array ```movements``` of daily price movements from 2010 to 2015 (obtained from Yahoo! Finance), where each row corresponds to a company, and each column corresponds to a trading day.\n",
        "\n",
        "Some stocks are more expensive than others. To account for this, include a ```Normalizer``` at the beginning of your pipeline. The Normalizer will separately transform each company's stock price to a relative scale before the clustering begins.\n",
        "\n",
        "Note that ```Normalizer()``` is different to ```StandardScaler()```, which you used in the previous exercise. While ```StandardScaler()``` standardizes features (such as the features of the fish data from the previous exercise) by removing the mean and scaling to unit variance, ```Normalizer()``` rescales each sample - here, each company's stock price - independently of the other."
      ]
    },
    {
      "cell_type": "markdown",
      "metadata": {
        "id": "j91Zddi8E1yj"
      },
      "source": [
        "#### Preprocess"
      ]
    },
    {
      "cell_type": "code",
      "metadata": {
        "id": "JIPdXagrE1yj",
        "colab": {
          "base_uri": "https://localhost:8080/",
          "height": 280
        },
        "outputId": "98048d47-b707-4589-fb12-0002ac39f470"
      },
      "source": [
        "df = pd.read_csv('company-stock-movements-2010-2015-incl.csv', index_col=0)\n",
        "df.head()"
      ],
      "execution_count": 18,
      "outputs": [
        {
          "output_type": "execute_result",
          "data": {
            "text/html": [
              "<div>\n",
              "<style scoped>\n",
              "    .dataframe tbody tr th:only-of-type {\n",
              "        vertical-align: middle;\n",
              "    }\n",
              "\n",
              "    .dataframe tbody tr th {\n",
              "        vertical-align: top;\n",
              "    }\n",
              "\n",
              "    .dataframe thead th {\n",
              "        text-align: right;\n",
              "    }\n",
              "</style>\n",
              "<table border=\"1\" class=\"dataframe\">\n",
              "  <thead>\n",
              "    <tr style=\"text-align: right;\">\n",
              "      <th></th>\n",
              "      <th>2010-01-04</th>\n",
              "      <th>2010-01-05</th>\n",
              "      <th>2010-01-06</th>\n",
              "      <th>2010-01-07</th>\n",
              "      <th>2010-01-08</th>\n",
              "      <th>2010-01-11</th>\n",
              "      <th>2010-01-12</th>\n",
              "      <th>2010-01-13</th>\n",
              "      <th>2010-01-14</th>\n",
              "      <th>2010-01-15</th>\n",
              "      <th>2010-01-19</th>\n",
              "      <th>2010-01-20</th>\n",
              "      <th>2010-01-21</th>\n",
              "      <th>2010-01-22</th>\n",
              "      <th>2010-01-25</th>\n",
              "      <th>2010-01-26</th>\n",
              "      <th>2010-01-27</th>\n",
              "      <th>2010-01-28</th>\n",
              "      <th>2010-01-29</th>\n",
              "      <th>2010-02-01</th>\n",
              "      <th>2010-02-02</th>\n",
              "      <th>2010-02-03</th>\n",
              "      <th>2010-02-04</th>\n",
              "      <th>2010-02-05</th>\n",
              "      <th>2010-02-08</th>\n",
              "      <th>2010-02-09</th>\n",
              "      <th>2010-02-10</th>\n",
              "      <th>2010-02-11</th>\n",
              "      <th>2010-02-12</th>\n",
              "      <th>2010-02-16</th>\n",
              "      <th>2010-02-17</th>\n",
              "      <th>2010-02-18</th>\n",
              "      <th>2010-02-19</th>\n",
              "      <th>2010-02-22</th>\n",
              "      <th>2010-02-23</th>\n",
              "      <th>2010-02-24</th>\n",
              "      <th>2010-02-25</th>\n",
              "      <th>2010-02-26</th>\n",
              "      <th>2010-03-01</th>\n",
              "      <th>2010-03-02</th>\n",
              "      <th>...</th>\n",
              "      <th>2013-09-04</th>\n",
              "      <th>2013-09-05</th>\n",
              "      <th>2013-09-06</th>\n",
              "      <th>2013-09-09</th>\n",
              "      <th>2013-09-10</th>\n",
              "      <th>2013-09-11</th>\n",
              "      <th>2013-09-12</th>\n",
              "      <th>2013-09-13</th>\n",
              "      <th>2013-09-16</th>\n",
              "      <th>2013-09-17</th>\n",
              "      <th>2013-09-18</th>\n",
              "      <th>2013-09-19</th>\n",
              "      <th>2013-09-20</th>\n",
              "      <th>2013-09-23</th>\n",
              "      <th>2013-09-24</th>\n",
              "      <th>2013-09-25</th>\n",
              "      <th>2013-09-26</th>\n",
              "      <th>2013-09-27</th>\n",
              "      <th>2013-09-30</th>\n",
              "      <th>2013-10-01</th>\n",
              "      <th>2013-10-02</th>\n",
              "      <th>2013-10-03</th>\n",
              "      <th>2013-10-04</th>\n",
              "      <th>2013-10-07</th>\n",
              "      <th>2013-10-08</th>\n",
              "      <th>2013-10-09</th>\n",
              "      <th>2013-10-10</th>\n",
              "      <th>2013-10-11</th>\n",
              "      <th>2013-10-14</th>\n",
              "      <th>2013-10-15</th>\n",
              "      <th>2013-10-16</th>\n",
              "      <th>2013-10-17</th>\n",
              "      <th>2013-10-18</th>\n",
              "      <th>2013-10-21</th>\n",
              "      <th>2013-10-22</th>\n",
              "      <th>2013-10-23</th>\n",
              "      <th>2013-10-24</th>\n",
              "      <th>2013-10-25</th>\n",
              "      <th>2013-10-28</th>\n",
              "      <th>2013-10-29</th>\n",
              "    </tr>\n",
              "  </thead>\n",
              "  <tbody>\n",
              "    <tr>\n",
              "      <th>Apple</th>\n",
              "      <td>0.580000</td>\n",
              "      <td>-0.220005</td>\n",
              "      <td>-3.409998</td>\n",
              "      <td>-1.170000</td>\n",
              "      <td>1.680011</td>\n",
              "      <td>-2.689994</td>\n",
              "      <td>-1.469994</td>\n",
              "      <td>2.779997</td>\n",
              "      <td>-0.680003</td>\n",
              "      <td>-4.999995</td>\n",
              "      <td>6.709993</td>\n",
              "      <td>-3.180006</td>\n",
              "      <td>-4.009998</td>\n",
              "      <td>-9.030006</td>\n",
              "      <td>0.560000</td>\n",
              "      <td>-0.010000</td>\n",
              "      <td>1.030010</td>\n",
              "      <td>-5.640009</td>\n",
              "      <td>-9.019993</td>\n",
              "      <td>2.360001</td>\n",
              "      <td>-0.050001</td>\n",
              "      <td>4.060000</td>\n",
              "      <td>-4.680000</td>\n",
              "      <td>2.829998</td>\n",
              "      <td>-1.570009</td>\n",
              "      <td>-0.229992</td>\n",
              "      <td>-0.769990</td>\n",
              "      <td>3.789993</td>\n",
              "      <td>2.269998</td>\n",
              "      <td>1.459994</td>\n",
              "      <td>-1.639998</td>\n",
              "      <td>1.300003</td>\n",
              "      <td>-0.190005</td>\n",
              "      <td>-1.920004</td>\n",
              "      <td>-2.940000</td>\n",
              "      <td>2.430002</td>\n",
              "      <td>4.619999</td>\n",
              "      <td>2.239998</td>\n",
              "      <td>3.240008</td>\n",
              "      <td>-1.079998</td>\n",
              "      <td>...</td>\n",
              "      <td>-0.869980</td>\n",
              "      <td>-4.980034</td>\n",
              "      <td>-0.219979</td>\n",
              "      <td>1.169960</td>\n",
              "      <td>-11.559998</td>\n",
              "      <td>0.699989</td>\n",
              "      <td>4.190003</td>\n",
              "      <td>-4.439995</td>\n",
              "      <td>-10.879982</td>\n",
              "      <td>7.360008</td>\n",
              "      <td>1.500008</td>\n",
              "      <td>1.599983</td>\n",
              "      <td>-10.589988</td>\n",
              "      <td>-5.459991</td>\n",
              "      <td>-5.779999</td>\n",
              "      <td>-7.669976</td>\n",
              "      <td>0.219979</td>\n",
              "      <td>-1.029983</td>\n",
              "      <td>-0.500038</td>\n",
              "      <td>9.510018</td>\n",
              "      <td>3.929970</td>\n",
              "      <td>-7.100029</td>\n",
              "      <td>-0.829979</td>\n",
              "      <td>1.190040</td>\n",
              "      <td>-9.000045</td>\n",
              "      <td>1.950005</td>\n",
              "      <td>-1.679985</td>\n",
              "      <td>5.820000</td>\n",
              "      <td>6.209969</td>\n",
              "      <td>1.169960</td>\n",
              "      <td>0.320008</td>\n",
              "      <td>4.519997</td>\n",
              "      <td>2.899987</td>\n",
              "      <td>9.590019</td>\n",
              "      <td>-6.540016</td>\n",
              "      <td>5.959976</td>\n",
              "      <td>6.910011</td>\n",
              "      <td>-5.359962</td>\n",
              "      <td>0.840019</td>\n",
              "      <td>-19.589981</td>\n",
              "    </tr>\n",
              "    <tr>\n",
              "      <th>AIG</th>\n",
              "      <td>-0.640002</td>\n",
              "      <td>-0.650000</td>\n",
              "      <td>-0.210001</td>\n",
              "      <td>-0.420000</td>\n",
              "      <td>0.710001</td>\n",
              "      <td>-0.200001</td>\n",
              "      <td>-1.130001</td>\n",
              "      <td>0.069999</td>\n",
              "      <td>-0.119999</td>\n",
              "      <td>-0.500000</td>\n",
              "      <td>0.200001</td>\n",
              "      <td>-0.100000</td>\n",
              "      <td>-0.460001</td>\n",
              "      <td>-1.190001</td>\n",
              "      <td>-0.650000</td>\n",
              "      <td>-1.300001</td>\n",
              "      <td>0.430000</td>\n",
              "      <td>-1.690000</td>\n",
              "      <td>-0.300001</td>\n",
              "      <td>-0.420000</td>\n",
              "      <td>-0.020001</td>\n",
              "      <td>-0.099998</td>\n",
              "      <td>-0.940001</td>\n",
              "      <td>-0.090000</td>\n",
              "      <td>-0.250000</td>\n",
              "      <td>0.760000</td>\n",
              "      <td>3.710001</td>\n",
              "      <td>-0.200001</td>\n",
              "      <td>1.000000</td>\n",
              "      <td>0.000000</td>\n",
              "      <td>-0.630001</td>\n",
              "      <td>0.299999</td>\n",
              "      <td>-0.010000</td>\n",
              "      <td>1.540001</td>\n",
              "      <td>-1.459999</td>\n",
              "      <td>0.830000</td>\n",
              "      <td>0.069999</td>\n",
              "      <td>-0.900000</td>\n",
              "      <td>-2.179998</td>\n",
              "      <td>-0.899999</td>\n",
              "      <td>...</td>\n",
              "      <td>0.680000</td>\n",
              "      <td>0.229999</td>\n",
              "      <td>-0.720002</td>\n",
              "      <td>0.829998</td>\n",
              "      <td>-0.130001</td>\n",
              "      <td>0.340000</td>\n",
              "      <td>-0.620003</td>\n",
              "      <td>0.320000</td>\n",
              "      <td>-0.470001</td>\n",
              "      <td>0.790001</td>\n",
              "      <td>0.279999</td>\n",
              "      <td>-0.930000</td>\n",
              "      <td>-0.020000</td>\n",
              "      <td>-0.439998</td>\n",
              "      <td>0.100003</td>\n",
              "      <td>0.190003</td>\n",
              "      <td>-0.239998</td>\n",
              "      <td>-0.029998</td>\n",
              "      <td>0.020000</td>\n",
              "      <td>0.579998</td>\n",
              "      <td>0.350002</td>\n",
              "      <td>-0.210003</td>\n",
              "      <td>0.660000</td>\n",
              "      <td>-0.310001</td>\n",
              "      <td>-1.099998</td>\n",
              "      <td>0.050000</td>\n",
              "      <td>1.290001</td>\n",
              "      <td>0.330002</td>\n",
              "      <td>0.599999</td>\n",
              "      <td>-0.160000</td>\n",
              "      <td>0.919998</td>\n",
              "      <td>0.709999</td>\n",
              "      <td>0.119999</td>\n",
              "      <td>-0.480000</td>\n",
              "      <td>0.010002</td>\n",
              "      <td>-0.279998</td>\n",
              "      <td>-0.190003</td>\n",
              "      <td>-0.040001</td>\n",
              "      <td>-0.400002</td>\n",
              "      <td>0.660000</td>\n",
              "    </tr>\n",
              "    <tr>\n",
              "      <th>Amazon</th>\n",
              "      <td>-2.350006</td>\n",
              "      <td>1.260009</td>\n",
              "      <td>-2.350006</td>\n",
              "      <td>-2.009995</td>\n",
              "      <td>2.960006</td>\n",
              "      <td>-2.309997</td>\n",
              "      <td>-1.640007</td>\n",
              "      <td>1.209999</td>\n",
              "      <td>-1.790001</td>\n",
              "      <td>-2.039994</td>\n",
              "      <td>1.300003</td>\n",
              "      <td>-1.349998</td>\n",
              "      <td>-0.639999</td>\n",
              "      <td>-4.169998</td>\n",
              "      <td>-1.790000</td>\n",
              "      <td>-1.079995</td>\n",
              "      <td>1.720001</td>\n",
              "      <td>1.599999</td>\n",
              "      <td>-4.360000</td>\n",
              "      <td>-4.309997</td>\n",
              "      <td>-0.669998</td>\n",
              "      <td>1.979995</td>\n",
              "      <td>-2.699997</td>\n",
              "      <td>1.510002</td>\n",
              "      <td>-2.549995</td>\n",
              "      <td>-0.169998</td>\n",
              "      <td>-0.639999</td>\n",
              "      <td>2.879997</td>\n",
              "      <td>0.670006</td>\n",
              "      <td>-2.529999</td>\n",
              "      <td>-0.760002</td>\n",
              "      <td>2.240006</td>\n",
              "      <td>-0.390007</td>\n",
              "      <td>0.639999</td>\n",
              "      <td>-0.770004</td>\n",
              "      <td>1.760002</td>\n",
              "      <td>0.029999</td>\n",
              "      <td>0.520005</td>\n",
              "      <td>5.840004</td>\n",
              "      <td>0.519997</td>\n",
              "      <td>...</td>\n",
              "      <td>5.310028</td>\n",
              "      <td>0.470001</td>\n",
              "      <td>0.529998</td>\n",
              "      <td>2.489990</td>\n",
              "      <td>-0.190003</td>\n",
              "      <td>0.730011</td>\n",
              "      <td>-0.530030</td>\n",
              "      <td>-2.220002</td>\n",
              "      <td>-3.760009</td>\n",
              "      <td>6.540008</td>\n",
              "      <td>7.970001</td>\n",
              "      <td>-1.709991</td>\n",
              "      <td>3.799987</td>\n",
              "      <td>-2.520020</td>\n",
              "      <td>1.700012</td>\n",
              "      <td>-1.880005</td>\n",
              "      <td>4.220001</td>\n",
              "      <td>-0.910003</td>\n",
              "      <td>-0.769989</td>\n",
              "      <td>6.730011</td>\n",
              "      <td>2.470001</td>\n",
              "      <td>-5.630005</td>\n",
              "      <td>3.910004</td>\n",
              "      <td>-5.209991</td>\n",
              "      <td>-8.269989</td>\n",
              "      <td>-5.190002</td>\n",
              "      <td>0.540008</td>\n",
              "      <td>6.120026</td>\n",
              "      <td>1.480011</td>\n",
              "      <td>-3.470001</td>\n",
              "      <td>2.109985</td>\n",
              "      <td>3.699982</td>\n",
              "      <td>9.570008</td>\n",
              "      <td>-3.450013</td>\n",
              "      <td>4.820008</td>\n",
              "      <td>-4.079986</td>\n",
              "      <td>2.579986</td>\n",
              "      <td>4.790009</td>\n",
              "      <td>-1.760009</td>\n",
              "      <td>3.740021</td>\n",
              "    </tr>\n",
              "    <tr>\n",
              "      <th>American express</th>\n",
              "      <td>0.109997</td>\n",
              "      <td>0.000000</td>\n",
              "      <td>0.260002</td>\n",
              "      <td>0.720002</td>\n",
              "      <td>0.190003</td>\n",
              "      <td>-0.270001</td>\n",
              "      <td>0.750000</td>\n",
              "      <td>0.300004</td>\n",
              "      <td>0.639999</td>\n",
              "      <td>-0.130001</td>\n",
              "      <td>0.719997</td>\n",
              "      <td>0.050000</td>\n",
              "      <td>-0.830002</td>\n",
              "      <td>-2.770001</td>\n",
              "      <td>-1.309997</td>\n",
              "      <td>0.559997</td>\n",
              "      <td>0.709999</td>\n",
              "      <td>-1.239998</td>\n",
              "      <td>0.060002</td>\n",
              "      <td>0.369999</td>\n",
              "      <td>0.340000</td>\n",
              "      <td>-0.579998</td>\n",
              "      <td>-0.500000</td>\n",
              "      <td>0.189998</td>\n",
              "      <td>-0.969997</td>\n",
              "      <td>0.270001</td>\n",
              "      <td>0.169998</td>\n",
              "      <td>0.480000</td>\n",
              "      <td>0.629997</td>\n",
              "      <td>0.809998</td>\n",
              "      <td>-0.480000</td>\n",
              "      <td>0.080002</td>\n",
              "      <td>0.170002</td>\n",
              "      <td>-0.169998</td>\n",
              "      <td>-0.810002</td>\n",
              "      <td>0.310002</td>\n",
              "      <td>0.370003</td>\n",
              "      <td>0.039997</td>\n",
              "      <td>-0.070000</td>\n",
              "      <td>0.270000</td>\n",
              "      <td>...</td>\n",
              "      <td>0.620002</td>\n",
              "      <td>0.639999</td>\n",
              "      <td>-0.570000</td>\n",
              "      <td>0.070008</td>\n",
              "      <td>0.379997</td>\n",
              "      <td>0.480003</td>\n",
              "      <td>0.000000</td>\n",
              "      <td>-0.279999</td>\n",
              "      <td>-0.739998</td>\n",
              "      <td>1.320000</td>\n",
              "      <td>0.650001</td>\n",
              "      <td>-0.239998</td>\n",
              "      <td>-0.300003</td>\n",
              "      <td>-0.849999</td>\n",
              "      <td>-0.319999</td>\n",
              "      <td>-0.139999</td>\n",
              "      <td>0.320000</td>\n",
              "      <td>-0.169999</td>\n",
              "      <td>0.549996</td>\n",
              "      <td>0.290001</td>\n",
              "      <td>-0.549995</td>\n",
              "      <td>-0.090004</td>\n",
              "      <td>0.430001</td>\n",
              "      <td>-0.559998</td>\n",
              "      <td>-0.809998</td>\n",
              "      <td>-0.159996</td>\n",
              "      <td>1.470002</td>\n",
              "      <td>0.730004</td>\n",
              "      <td>0.739998</td>\n",
              "      <td>-0.379997</td>\n",
              "      <td>0.680001</td>\n",
              "      <td>2.290001</td>\n",
              "      <td>0.409996</td>\n",
              "      <td>-0.069999</td>\n",
              "      <td>0.100006</td>\n",
              "      <td>0.069999</td>\n",
              "      <td>0.130005</td>\n",
              "      <td>1.849999</td>\n",
              "      <td>0.040001</td>\n",
              "      <td>0.540001</td>\n",
              "    </tr>\n",
              "    <tr>\n",
              "      <th>Boeing</th>\n",
              "      <td>0.459999</td>\n",
              "      <td>1.770000</td>\n",
              "      <td>1.549999</td>\n",
              "      <td>2.690003</td>\n",
              "      <td>0.059997</td>\n",
              "      <td>-1.080002</td>\n",
              "      <td>0.360000</td>\n",
              "      <td>0.549999</td>\n",
              "      <td>0.530002</td>\n",
              "      <td>-0.709999</td>\n",
              "      <td>0.050004</td>\n",
              "      <td>-0.130001</td>\n",
              "      <td>-1.099998</td>\n",
              "      <td>-0.849999</td>\n",
              "      <td>-0.569999</td>\n",
              "      <td>0.169998</td>\n",
              "      <td>3.090000</td>\n",
              "      <td>0.409999</td>\n",
              "      <td>-2.200001</td>\n",
              "      <td>0.959999</td>\n",
              "      <td>0.649998</td>\n",
              "      <td>-0.060001</td>\n",
              "      <td>-1.630001</td>\n",
              "      <td>-0.809997</td>\n",
              "      <td>-0.440003</td>\n",
              "      <td>1.120003</td>\n",
              "      <td>-0.169998</td>\n",
              "      <td>0.840000</td>\n",
              "      <td>-0.219997</td>\n",
              "      <td>0.840000</td>\n",
              "      <td>0.430001</td>\n",
              "      <td>1.110000</td>\n",
              "      <td>0.939998</td>\n",
              "      <td>0.389999</td>\n",
              "      <td>-1.040001</td>\n",
              "      <td>0.480000</td>\n",
              "      <td>0.149998</td>\n",
              "      <td>0.070000</td>\n",
              "      <td>0.950001</td>\n",
              "      <td>-0.199997</td>\n",
              "      <td>...</td>\n",
              "      <td>1.320000</td>\n",
              "      <td>0.489998</td>\n",
              "      <td>-0.930000</td>\n",
              "      <td>0.610000</td>\n",
              "      <td>0.529999</td>\n",
              "      <td>0.980003</td>\n",
              "      <td>0.610001</td>\n",
              "      <td>1.400002</td>\n",
              "      <td>1.939995</td>\n",
              "      <td>1.330002</td>\n",
              "      <td>1.120003</td>\n",
              "      <td>-0.180000</td>\n",
              "      <td>-2.520005</td>\n",
              "      <td>0.360000</td>\n",
              "      <td>1.809998</td>\n",
              "      <td>-0.809998</td>\n",
              "      <td>0.669998</td>\n",
              "      <td>0.229996</td>\n",
              "      <td>0.150002</td>\n",
              "      <td>-0.220001</td>\n",
              "      <td>0.459999</td>\n",
              "      <td>-2.110000</td>\n",
              "      <td>1.930000</td>\n",
              "      <td>1.180000</td>\n",
              "      <td>-1.229996</td>\n",
              "      <td>-0.930001</td>\n",
              "      <td>2.800004</td>\n",
              "      <td>-0.619995</td>\n",
              "      <td>2.040001</td>\n",
              "      <td>-1.239998</td>\n",
              "      <td>1.559997</td>\n",
              "      <td>2.480003</td>\n",
              "      <td>0.019997</td>\n",
              "      <td>-1.220001</td>\n",
              "      <td>0.480003</td>\n",
              "      <td>3.020004</td>\n",
              "      <td>-0.029999</td>\n",
              "      <td>1.940002</td>\n",
              "      <td>1.130005</td>\n",
              "      <td>0.309998</td>\n",
              "    </tr>\n",
              "  </tbody>\n",
              "</table>\n",
              "<p>5 rows × 963 columns</p>\n",
              "</div>"
            ],
            "text/plain": [
              "                  2010-01-04  2010-01-05  ...  2013-10-28  2013-10-29\n",
              "Apple               0.580000   -0.220005  ...    0.840019  -19.589981\n",
              "AIG                -0.640002   -0.650000  ...   -0.400002    0.660000\n",
              "Amazon             -2.350006    1.260009  ...   -1.760009    3.740021\n",
              "American express    0.109997    0.000000  ...    0.040001    0.540001\n",
              "Boeing              0.459999    1.770000  ...    1.130005    0.309998\n",
              "\n",
              "[5 rows x 963 columns]"
            ]
          },
          "metadata": {
            "tags": []
          },
          "execution_count": 18
        }
      ]
    },
    {
      "cell_type": "code",
      "metadata": {
        "id": "UX9tF-2hE1yk"
      },
      "source": [
        "movements = df.values\n",
        "companies = df.index.values"
      ],
      "execution_count": 19,
      "outputs": []
    },
    {
      "cell_type": "code",
      "metadata": {
        "id": "e7uZy6WZE1yk",
        "colab": {
          "base_uri": "https://localhost:8080/"
        },
        "outputId": "b8922e59-d62d-4195-f3ab-579ffb3e9ed8"
      },
      "source": [
        "from sklearn.preprocessing import Normalizer\n",
        "from sklearn.pipeline import make_pipeline\n",
        "\n",
        "# Create a normalizer: normalizer\n",
        "normalizer = Normalizer()\n",
        "\n",
        "# Create a KMeans model with 10 clusters: kmeans\n",
        "kmeans = KMeans(n_clusters=10)\n",
        "\n",
        "# Make a pipeline chaining normalizer and kmeans: pipeline\n",
        "pipeline = make_pipeline(normalizer, kmeans)\n",
        "\n",
        "# Fit pipeline to the daily price movements\n",
        "pipeline.fit(movements)"
      ],
      "execution_count": 20,
      "outputs": [
        {
          "output_type": "execute_result",
          "data": {
            "text/plain": [
              "Pipeline(memory=None,\n",
              "         steps=[('normalizer', Normalizer(copy=True, norm='l2')),\n",
              "                ('kmeans',\n",
              "                 KMeans(algorithm='auto', copy_x=True, init='k-means++',\n",
              "                        max_iter=300, n_clusters=10, n_init=10, n_jobs=None,\n",
              "                        precompute_distances='auto', random_state=None,\n",
              "                        tol=0.0001, verbose=0))],\n",
              "         verbose=False)"
            ]
          },
          "metadata": {
            "tags": []
          },
          "execution_count": 20
        }
      ]
    },
    {
      "cell_type": "markdown",
      "metadata": {
        "id": "WbdUA8RrE1yk"
      },
      "source": [
        "### Which stocks move together?\n",
        "In the previous exercise, you clustered companies by their daily stock price movements. So which company have stock prices that tend to change in the same way? You'll now inspect the cluster labels from your clustering to find out."
      ]
    },
    {
      "cell_type": "code",
      "metadata": {
        "id": "6wWVEtW7E1yl",
        "colab": {
          "base_uri": "https://localhost:8080/"
        },
        "outputId": "c7e76cb3-5a87-4db5-90ef-67c44270a079"
      },
      "source": [
        "# Predict the cluster labels: labels\n",
        "labels = pipeline.predict(movements)\n",
        "\n",
        "# Create a DataFrame aligning labels and companies: df\n",
        "df = pd.DataFrame({'labels': labels, 'companies': companies})\n",
        "\n",
        "# Display df sorted by cluster label\n",
        "print(df.sort_values('labels'))"
      ],
      "execution_count": 21,
      "outputs": [
        {
          "output_type": "stream",
          "text": [
            "    labels                           companies\n",
            "19       0                     GlaxoSmithKline\n",
            "39       0                              Pfizer\n",
            "37       0                            Novartis\n",
            "1        1                                 AIG\n",
            "3        1                    American express\n",
            "5        1                     Bank of America\n",
            "26       1                      JPMorgan Chase\n",
            "55       1                         Wells Fargo\n",
            "18       1                       Goldman Sachs\n",
            "16       1                   General Electrics\n",
            "15       1                                Ford\n",
            "40       2                      Procter Gamble\n",
            "41       2                       Philip Morris\n",
            "28       2                           Coca Cola\n",
            "27       2                      Kimberly-Clark\n",
            "25       2                   Johnson & Johnson\n",
            "38       2                               Pepsi\n",
            "56       2                            Wal-Mart\n",
            "9        2                   Colgate-Palmolive\n",
            "36       3                    Northrop Grumman\n",
            "4        3                              Boeing\n",
            "29       3                     Lookheed Martin\n",
            "45       4                                Sony\n",
            "48       4                              Toyota\n",
            "34       4                          Mitsubishi\n",
            "7        4                               Canon\n",
            "21       4                               Honda\n",
            "46       5                      Sanofi-Aventis\n",
            "53       5                       Valero Energy\n",
            "35       5                            Navistar\n",
            "57       5                               Exxon\n",
            "12       5                             Chevron\n",
            "42       5                   Royal Dutch Shell\n",
            "43       5                                 SAP\n",
            "52       5                            Unilever\n",
            "10       5                      ConocoPhillips\n",
            "44       5                        Schlumberger\n",
            "6        5            British American Tobacco\n",
            "49       5                               Total\n",
            "0        6                               Apple\n",
            "17       6                     Google/Alphabet\n",
            "2        6                              Amazon\n",
            "8        7                         Caterpillar\n",
            "11       7                               Cisco\n",
            "13       7                   DuPont de Nemours\n",
            "14       7                                Dell\n",
            "51       7                   Texas instruments\n",
            "50       7  Taiwan Semiconductor Manufacturing\n",
            "33       7                           Microsoft\n",
            "32       7                                  3M\n",
            "47       7                            Symantec\n",
            "22       7                                  HP\n",
            "23       7                                 IBM\n",
            "24       7                               Intel\n",
            "58       7                               Xerox\n",
            "30       7                          MasterCard\n",
            "31       7                           McDonalds\n",
            "20       7                          Home Depot\n",
            "59       8                               Yahoo\n",
            "54       9                            Walgreen\n"
          ],
          "name": "stdout"
        }
      ]
    }
  ]
}