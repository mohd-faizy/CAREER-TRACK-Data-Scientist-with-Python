{
  "nbformat": 4,
  "nbformat_minor": 0,
  "metadata": {
    "colab": {
      "provenance": [],
      "toc_visible": true
    },
    "kernelspec": {
      "name": "python3",
      "display_name": "Python 3"
    },
    "language_info": {
      "name": "python"
    }
  },
  "cells": [
    {
      "cell_type": "markdown",
      "source": [
        "# <center><b><font color=\"red\">Hypothesis Testing in Python</font></b></center>"
      ],
      "metadata": {
        "id": "FvUPdwFD5WF8"
      }
    },
    {
      "cell_type": "markdown",
      "source": [
        "![HT](https://th.bing.com/th/id/R.67ed341078f274221efef2207cdac23b?rik=9ONkeAdroUNs7A&riu=http%3a%2f%2fwww.processexam.com%2ffiles%2fprocessexam%2fdownload%2fsix-sigma-hypothesis.jpg&ehk=7Apm%2fRg5Qal8c9lwzxcBaCtCEIMW0IP%2b2oR%2fOI55Jm0%3d&risl=&pid=ImgRaw&r=0)"
      ],
      "metadata": {
        "id": "jgBj5JW0IiKv"
      }
    },
    {
      "cell_type": "code",
      "source": [
        "import pandas as pd\n",
        "import numpy as np\n",
        "import matplotlib.pyplot as plt\n",
        "import seaborn as sns"
      ],
      "metadata": {
        "id": "6ApIwzvaiFJy"
      },
      "execution_count": 1,
      "outputs": []
    },
    {
      "cell_type": "code",
      "source": [
        "!git clone \"https://github.com/mohd-faizy/CAREER-TRACK-Data-Scientist-with-Python.git\" -q"
      ],
      "metadata": {
        "id": "jdwAc6ljH6X-"
      },
      "execution_count": 2,
      "outputs": []
    },
    {
      "cell_type": "code",
      "source": [
        "url_demo_votes = \"/content/CAREER-TRACK-Data-Scientist-with-Python/22_Hypothesis_Testing_in_Python/_dataset/dem_votes_potus_12_16.feather\"\n",
        "url_repubs_votes = \"/content/CAREER-TRACK-Data-Scientist-with-Python/22_Hypothesis_Testing_in_Python/_dataset/repub_votes_potus_08_12.feather\"\n",
        "url_shipments = \"/content/CAREER-TRACK-Data-Scientist-with-Python/22_Hypothesis_Testing_in_Python/_dataset/late_shipments.feather\"\n",
        "url_stack_overflow = \"/content/CAREER-TRACK-Data-Scientist-with-Python/22_Hypothesis_Testing_in_Python/_dataset/stack_overflow.feather\""
      ],
      "metadata": {
        "id": "B825sPquzlSS"
      },
      "execution_count": 3,
      "outputs": []
    },
    {
      "cell_type": "code",
      "source": [
        "late_shipments = pd.read_feather(url_shipments)\n",
        "stack_overflow = pd.read_feather(url_stack_overflow)\n",
        "repubs_votes = pd.read_feather(url_repubs_votes)\n",
        "sample_dem_data = pd.read_feather(url_demo_votes)"
      ],
      "metadata": {
        "id": "ogxutCROa9TB"
      },
      "execution_count": 4,
      "outputs": []
    },
    {
      "cell_type": "code",
      "source": [
        "late_shipments.columns"
      ],
      "metadata": {
        "colab": {
          "base_uri": "https://localhost:8080/"
        },
        "id": "dI4SJTbcQ5PH",
        "outputId": "86b24d2e-0547-4070-a8c1-5f48963217dd"
      },
      "execution_count": 5,
      "outputs": [
        {
          "output_type": "execute_result",
          "data": {
            "text/plain": [
              "Index(['id', 'country', 'managed_by', 'fulfill_via', 'vendor_inco_term',\n",
              "       'shipment_mode', 'late_delivery', 'late', 'product_group',\n",
              "       'sub_classification', 'vendor', 'item_description',\n",
              "       'molecule_test_type', 'brand', 'dosage', 'dosage_form',\n",
              "       'unit_of_measure_per_pack', 'line_item_quantity', 'line_item_value',\n",
              "       'pack_price', 'unit_price', 'manufacturing_site',\n",
              "       'first_line_designation', 'weight_kilograms', 'freight_cost_usd',\n",
              "       'freight_cost_groups', 'line_item_insurance_usd'],\n",
              "      dtype='object')"
            ]
          },
          "metadata": {},
          "execution_count": 5
        }
      ]
    },
    {
      "cell_type": "code",
      "source": [
        "stack_overflow.columns"
      ],
      "metadata": {
        "colab": {
          "base_uri": "https://localhost:8080/"
        },
        "id": "Epp5r5z7RD5X",
        "outputId": "7030984d-db0b-4565-871d-959f85eb71ef"
      },
      "execution_count": 6,
      "outputs": [
        {
          "output_type": "execute_result",
          "data": {
            "text/plain": [
              "Index(['respondent', 'main_branch', 'hobbyist', 'age', 'age_1st_code',\n",
              "       'age_first_code_cut', 'comp_freq', 'comp_total', 'converted_comp',\n",
              "       'country', 'currency_desc', 'currency_symbol',\n",
              "       'database_desire_next_year', 'database_worked_with', 'dev_type',\n",
              "       'ed_level', 'employment', 'ethnicity', 'gender', 'job_factors',\n",
              "       'job_sat', 'job_seek', 'language_desire_next_year',\n",
              "       'language_worked_with', 'misc_tech_desire_next_year',\n",
              "       'misc_tech_worked_with', 'new_collab_tools_desire_next_year',\n",
              "       'new_collab_tools_worked_with', 'new_dev_ops', 'new_dev_ops_impt',\n",
              "       'new_ed_impt', 'new_job_hunt', 'new_job_hunt_research', 'new_learn',\n",
              "       'new_off_topic', 'new_onboard_good', 'new_other_comms', 'new_overtime',\n",
              "       'new_purchase_research', 'purple_link', 'newso_sites', 'new_stuck',\n",
              "       'op_sys', 'org_size', 'platform_desire_next_year',\n",
              "       'platform_worked_with', 'purchase_what', 'sexuality', 'so_account',\n",
              "       'so_comm', 'so_part_freq', 'so_visit_freq', 'survey_ease',\n",
              "       'survey_length', 'trans', 'undergrad_major',\n",
              "       'webframe_desire_next_year', 'webframe_worked_with', 'welcome_change',\n",
              "       'work_week_hrs', 'years_code', 'years_code_pro', 'age_cat'],\n",
              "      dtype='object')"
            ]
          },
          "metadata": {},
          "execution_count": 6
        }
      ]
    },
    {
      "cell_type": "code",
      "source": [
        "repubs_votes.columns"
      ],
      "metadata": {
        "colab": {
          "base_uri": "https://localhost:8080/"
        },
        "id": "NXgiT01HRGrf",
        "outputId": "000c8337-258e-484d-b465-f7d6282ccbe9"
      },
      "execution_count": 7,
      "outputs": [
        {
          "output_type": "execute_result",
          "data": {
            "text/plain": [
              "Index(['state', 'county', 'repub_percent_08', 'repub_percent_12'], dtype='object')"
            ]
          },
          "metadata": {},
          "execution_count": 7
        }
      ]
    },
    {
      "cell_type": "code",
      "source": [
        "sample_dem_data.columns"
      ],
      "metadata": {
        "colab": {
          "base_uri": "https://localhost:8080/"
        },
        "id": "8W6h1FhJRFMl",
        "outputId": "db721c6c-cd00-419a-d01e-7727d79cb8e3"
      },
      "execution_count": 8,
      "outputs": [
        {
          "output_type": "execute_result",
          "data": {
            "text/plain": [
              "Index(['state', 'county', 'dem_percent_12', 'dem_percent_16'], dtype='object')"
            ]
          },
          "metadata": {},
          "execution_count": 8
        }
      ]
    },
    {
      "cell_type": "markdown",
      "source": [
        "|            | Parametric Test                           | Nonparametric Test                       |\n",
        "|------------|-------------------------------------------|------------------------------------------|\n",
        "| Assumption | Assumes specific population distribution   | Makes no assumption about population distribution |\n",
        "| Data Type  | Requires interval or ratio data            | Can handle nominal, ordinal, interval, and ratio data |\n",
        "| Sample Size | More powerful with large sample sizes      | Can be effective with small sample sizes  |\n",
        "| Test Statistic | Based on population parameters (e.g., mean, variance) | Based on ranks, differences, or frequencies |\n",
        "| Examples   | t-test, ANOVA, regression analysis         | Mann-Whitney U test, Wilcoxon signed-rank test, Chi-square test |\n"
      ],
      "metadata": {
        "id": "cpuhm43eLGvR"
      }
    },
    {
      "cell_type": "markdown",
      "source": [
        "Here's a brief explanation of each aspect:\n",
        "\n",
        "- `Assumption`:\n",
        "    - `Parametric tests` **it make assumptions** that the data is sampled from a specific population distribution (e.g., `normal distribution`).\n",
        "    - `Nonparametric tests`, on the other hand, **do not make any assumptions** about the population distribution.\n",
        "\n",
        "- `Data Type`:\n",
        "    - `Parametric tests` require `interval` or `ratio data`, which have specific measurement scales.It means that these tests are designed to work with data that has a specific measurement scale.\n",
        "        - **Interval scale** data represents values that have a consistentunit of measurement and meaningful differences between the values.Examples include temperature measured in Celsius or Fahrenheit,where the difference between 20°C and 30°C is the same as thedifference between 30°C and 40°C.\n",
        "        - **Ratio scale data**, in addition to having a consistent unit ofmeasurement and meaningful differences, also has a true zero point.This means that a value of zero represents the absence of themeasured attribute. Examples of ratio scale data include weight,height, and time. A weight of 0 kg means no weight at all.\n",
        "    - `Nonparametric tests` can handle a wider range of data types, including `nominal`, `ordinal`, `interval`, and `ratio data`.\n",
        "        - `Nominal data`: Categorical data without any inherent order or numerical value.\n",
        "        - `Ordinal data`: Categorical data with a specific order or ranking.\n",
        "        - `Interval data`: Numerical data with consistent intervals, but without a true zero point.\n",
        "        - `Ratio data`: Numerical data with consistent intervals and a true zero point.\n",
        "\n",
        "- `Sample Size`:\n",
        "    - `Parametric tests` tend to be more powerful when the sample size is `large`.\n",
        "    - `Nonparametric tests` can still provide valid results even with `small` sample sizes.\n",
        "\n",
        "- `Test Statistic`:\n",
        "    - `Parametric tests` use test statistics that are based on population parameters  (e.g., `mean`, `variance`) to compare groups or test hypotheses.\n",
        "    - `Nonparametric tests` use test statistics that are based on `ranks`, `differences`, or `frequencies` of the data.\n",
        "\n",
        "- `Examples`:\n",
        "    - `Parametric tests` include the `t-test`, analysis of variance (`ANOVA`), and `regression analysis`.\n",
        "    - `Nonparametric tests` include the `Mann-Whitney`, `U test`, `Wilcoxon signed-rank test`, and `Chi-square test`.\n",
        "\n",
        "Parametric tests are more powerful but require specific assumptions, while nonparametric tests are more flexible but might be less powerful in certain situations."
      ],
      "metadata": {
        "id": "QCBj7kP0LIFR"
      }
    },
    {
      "cell_type": "markdown",
      "source": [
        "# **1️⃣Introduction to Hypothesis Testing**"
      ],
      "metadata": {
        "id": "S2qBGIWZwLyj"
      }
    },
    {
      "cell_type": "markdown",
      "source": [
        "## **Hypothesis tests and `z-scores`**\n"
      ],
      "metadata": {
        "id": "S-6Q50FdB__e"
      }
    },
    {
      "cell_type": "markdown",
      "source": [
        "#### **`A/B testing`** -  lets you compare scenarios to see which best achieves some goal\n",
        "\n",
        "\n"
      ],
      "metadata": {
        "id": "ck4sYcBUGWB-"
      }
    },
    {
      "cell_type": "markdown",
      "source": [
        "`A/B` testing, also known as `split testing`, is a method of **comparing** two versions of a `webpage`, `app`, or other `digital product` to determine which one performs better.\n",
        "\n",
        "In an `A/B` test, two variations of the product are presented to users at random, with one variation being the control and the other variation being the treatment. The objective is to determine which variation performs better in terms of a specific metric, such as click-through rates, conversion rates, or revenue.\n",
        "\n",
        "`A/B` testing is a popular method used in marketing and user experience research to optimize websites, apps, and other digital products.\n",
        "\n",
        ">By testing different variations, companies can identify which changes are most likely to improve user engagement, increase conversions, and generate more revenue."
      ],
      "metadata": {
        "id": "BoG03ayOV2Ha"
      }
    },
    {
      "cell_type": "code",
      "source": [
        "import numpy as np\n",
        "from statsmodels.stats.proportion import proportions_ztest\n",
        "\n",
        "# Simulated data for two variations (A and B)\n",
        "clicks_A = 200   # Number of clicks for variation A\n",
        "views_A = 1000   # Number of views for variation A\n",
        "\n",
        "clicks_B = 220   # Number of clicks for variation B\n",
        "views_B = 1100   # Number of views for variation B\n",
        "\n",
        "# Perform A/B test using proportions_ztest\n",
        "successes = np.array([clicks_A, clicks_B])\n",
        "trials = np.array([views_A, views_B])\n",
        "\n",
        "z_stat, p_value = proportions_ztest(successes, trials)\n",
        "print(z_stat, p_value )\n",
        "\n",
        "# Check the significance level (e.g., alpha = 0.05)\n",
        "alpha = 0.05\n",
        "\n",
        "if p_value < alpha:\n",
        "    print(\"There is a statistically significant difference between the variations.\")\n",
        "    print(\"Version B performed better than Version A.\")\n",
        "else:\n",
        "    print(\"There is no statistically significant difference between the variations.\")"
      ],
      "metadata": {
        "colab": {
          "base_uri": "https://localhost:8080/"
        },
        "id": "xQtQfGTlVmoZ",
        "outputId": "82a91314-d3fa-4b9a-80fd-0b42b9de697d"
      },
      "execution_count": 9,
      "outputs": [
        {
          "output_type": "stream",
          "name": "stdout",
          "text": [
            "0.0 1.0\n",
            "There is no statistically significant difference between the variations.\n"
          ]
        }
      ]
    },
    {
      "cell_type": "code",
      "source": [
        "# click-through rates (CTR) of two different button colors on a website\n",
        "import random\n",
        "import scipy.stats as stats\n",
        "\n",
        "# Simulated data for two groups (A and B)\n",
        "group_A = [random.randint(0, 1) for _ in range(1000)]  # Button color A clicks (0 - no click, 1 - click)\n",
        "group_B = [random.randint(0, 1) for _ in range(1000)]  # Button color B clicks (0 - no click, 1 - click)\n",
        "\n",
        "# Calculate click-through rates (CTR)\n",
        "ctr_A = sum(group_A) / len(group_A)\n",
        "ctr_B = sum(group_B) / len(group_B)\n",
        "\n",
        "# Perform hypothesis test (assuming independent samples and equal variances)\n",
        "_, p_value = stats.ttest_ind(group_A, group_B)\n",
        "\n",
        "# Print results\n",
        "print(\"Button A CTR: {:.2f}%\".format(ctr_A * 100))\n",
        "print(\"Button B CTR: {:.2f}%\".format(ctr_B * 100))\n",
        "print(\"P-value: {:.4f}\".format(p_value))"
      ],
      "metadata": {
        "colab": {
          "base_uri": "https://localhost:8080/"
        },
        "id": "BEE9T5diW2OD",
        "outputId": "7c796a7d-ba53-4b11-c477-9872eb784378"
      },
      "execution_count": 10,
      "outputs": [
        {
          "output_type": "stream",
          "name": "stdout",
          "text": [
            "Button A CTR: 48.90%\n",
            "Button B CTR: 48.60%\n",
            "P-value: 0.8933\n"
          ]
        }
      ]
    },
    {
      "cell_type": "code",
      "source": [
        "import numpy as np\n",
        "from scipy import stats\n",
        "\n",
        "# Generate sample data\n",
        "np.random.seed(123)  # for reproducibility\n",
        "sample_size = 100\n",
        "sample_mean = 10\n",
        "sample_std = 2\n",
        "sample_data = np.random.normal(sample_mean, sample_std, sample_size)\n",
        "\n",
        "# Define the null hypothesis values\n",
        "null_mean = 9\n",
        "null_std = 2\n",
        "\n",
        "# Calculate the z-score\n",
        "z_score = (sample_mean - null_mean) / (sample_std / np.sqrt(sample_size))\n",
        "\n",
        "# Calculate the p-value\n",
        "p_value = 2 * (1 - stats.norm.cdf(abs(z_score)))  # two-tailed test\n",
        "\n",
        "\n",
        "# Calculate the confidence interval\n",
        "confidence_level = 0.95\n",
        "alpha = 1 - confidence_level\n",
        "z_critical = stats.norm.ppf(1 - alpha / 2)  # Two-tailed test\n",
        "\n",
        "margin_of_error = z_critical * (sample_std / np.sqrt(sample_size))\n",
        "confidence_interval = (sample_mean - margin_of_error, sample_mean + margin_of_error)\n",
        "\n",
        "# Compare p-value with alpha\n",
        "if p_value < alpha:\n",
        "    print(\"Reject the null hypothesis\")\n",
        "else:\n",
        "    print(\"Accept the null hypothesis\")\n",
        "\n",
        "print(\"Z-score:\", z_score)\n",
        "print(\"P-value:\", p_value)\n",
        "print(\"Confidence Interval:\", confidence_interval)"
      ],
      "metadata": {
        "colab": {
          "base_uri": "https://localhost:8080/"
        },
        "id": "GoCFNB5AyFX0",
        "outputId": "caca760d-6d10-4e85-cdaa-97028905cbf0"
      },
      "execution_count": 11,
      "outputs": [
        {
          "output_type": "stream",
          "name": "stdout",
          "text": [
            "Reject the null hypothesis\n",
            "Z-score: 5.0\n",
            "P-value: 5.733031438470704e-07\n",
            "Confidence Interval: (9.60800720309199, 10.39199279690801)\n"
          ]
        }
      ]
    },
    {
      "cell_type": "markdown",
      "source": [
        "#### **Calculating the sample `mean` & `z-score`**\n"
      ],
      "metadata": {
        "id": "7pK7gXfpglFO"
      }
    },
    {
      "cell_type": "markdown",
      "source": [
        "**Generating the bootstrap distribution**"
      ],
      "metadata": {
        "id": "nviHRBpbhsUA"
      }
    },
    {
      "cell_type": "markdown",
      "source": [
        "for `stack_overflow` data:\n",
        "\n",
        "```python\n",
        "import numpy as np\n",
        "\n",
        "so_boot_distn = []\n",
        "\n",
        "for i in range(5000):\n",
        "    resampled_data = np.random.choice(stack_overflow['converted_comp'], size=len(stack_overflow), replace=True)\n",
        "    point_estimate = np.mean(resampled_data)\n",
        "    so_boot_distn.append(point_estimate)\n",
        "```"
      ],
      "metadata": {
        "id": "QKzIHcs1nVo-"
      }
    },
    {
      "cell_type": "code",
      "source": [
        "# Print the late_shipments dataset\n",
        "display(late_shipments.head(2))"
      ],
      "metadata": {
        "colab": {
          "base_uri": "https://localhost:8080/",
          "height": 223
        },
        "id": "m7ynj37po5nu",
        "outputId": "a9f979aa-132b-4fab-87d1-5e98a59e4186"
      },
      "execution_count": 12,
      "outputs": [
        {
          "output_type": "display_data",
          "data": {
            "text/plain": [
              "        id   country managed_by  fulfill_via vendor_inco_term shipment_mode  \\\n",
              "0  36203.0   Nigeria   PMO - US  Direct Drop              EXW           Air   \n",
              "1  30998.0  Botswana   PMO - US  Direct Drop              EXW           Air   \n",
              "\n",
              "   late_delivery late product_group sub_classification  ...  \\\n",
              "0            1.0  Yes          HRDT           HIV test  ...   \n",
              "1            0.0   No          HRDT           HIV test  ...   \n",
              "\n",
              "  line_item_quantity line_item_value pack_price unit_price  \\\n",
              "0             2996.0        266644.0       89.0       0.89   \n",
              "1               25.0           800.0       32.0       1.60   \n",
              "\n",
              "        manufacturing_site first_line_designation  weight_kilograms  \\\n",
              "0  Alere Medical Co., Ltd.                    Yes            1426.0   \n",
              "1     Trinity Biotech, Plc                    Yes              10.0   \n",
              "\n",
              "   freight_cost_usd  freight_cost_groups  line_item_insurance_usd  \n",
              "0          33279.83            expensive                   373.83  \n",
              "1            559.89           reasonable                     1.72  \n",
              "\n",
              "[2 rows x 27 columns]"
            ],
            "text/html": [
              "\n",
              "  <div id=\"df-136bb992-b6ee-44bf-9bd4-73118f1f4f09\">\n",
              "    <div class=\"colab-df-container\">\n",
              "      <div>\n",
              "<style scoped>\n",
              "    .dataframe tbody tr th:only-of-type {\n",
              "        vertical-align: middle;\n",
              "    }\n",
              "\n",
              "    .dataframe tbody tr th {\n",
              "        vertical-align: top;\n",
              "    }\n",
              "\n",
              "    .dataframe thead th {\n",
              "        text-align: right;\n",
              "    }\n",
              "</style>\n",
              "<table border=\"1\" class=\"dataframe\">\n",
              "  <thead>\n",
              "    <tr style=\"text-align: right;\">\n",
              "      <th></th>\n",
              "      <th>id</th>\n",
              "      <th>country</th>\n",
              "      <th>managed_by</th>\n",
              "      <th>fulfill_via</th>\n",
              "      <th>vendor_inco_term</th>\n",
              "      <th>shipment_mode</th>\n",
              "      <th>late_delivery</th>\n",
              "      <th>late</th>\n",
              "      <th>product_group</th>\n",
              "      <th>sub_classification</th>\n",
              "      <th>...</th>\n",
              "      <th>line_item_quantity</th>\n",
              "      <th>line_item_value</th>\n",
              "      <th>pack_price</th>\n",
              "      <th>unit_price</th>\n",
              "      <th>manufacturing_site</th>\n",
              "      <th>first_line_designation</th>\n",
              "      <th>weight_kilograms</th>\n",
              "      <th>freight_cost_usd</th>\n",
              "      <th>freight_cost_groups</th>\n",
              "      <th>line_item_insurance_usd</th>\n",
              "    </tr>\n",
              "  </thead>\n",
              "  <tbody>\n",
              "    <tr>\n",
              "      <th>0</th>\n",
              "      <td>36203.0</td>\n",
              "      <td>Nigeria</td>\n",
              "      <td>PMO - US</td>\n",
              "      <td>Direct Drop</td>\n",
              "      <td>EXW</td>\n",
              "      <td>Air</td>\n",
              "      <td>1.0</td>\n",
              "      <td>Yes</td>\n",
              "      <td>HRDT</td>\n",
              "      <td>HIV test</td>\n",
              "      <td>...</td>\n",
              "      <td>2996.0</td>\n",
              "      <td>266644.0</td>\n",
              "      <td>89.0</td>\n",
              "      <td>0.89</td>\n",
              "      <td>Alere Medical Co., Ltd.</td>\n",
              "      <td>Yes</td>\n",
              "      <td>1426.0</td>\n",
              "      <td>33279.83</td>\n",
              "      <td>expensive</td>\n",
              "      <td>373.83</td>\n",
              "    </tr>\n",
              "    <tr>\n",
              "      <th>1</th>\n",
              "      <td>30998.0</td>\n",
              "      <td>Botswana</td>\n",
              "      <td>PMO - US</td>\n",
              "      <td>Direct Drop</td>\n",
              "      <td>EXW</td>\n",
              "      <td>Air</td>\n",
              "      <td>0.0</td>\n",
              "      <td>No</td>\n",
              "      <td>HRDT</td>\n",
              "      <td>HIV test</td>\n",
              "      <td>...</td>\n",
              "      <td>25.0</td>\n",
              "      <td>800.0</td>\n",
              "      <td>32.0</td>\n",
              "      <td>1.60</td>\n",
              "      <td>Trinity Biotech, Plc</td>\n",
              "      <td>Yes</td>\n",
              "      <td>10.0</td>\n",
              "      <td>559.89</td>\n",
              "      <td>reasonable</td>\n",
              "      <td>1.72</td>\n",
              "    </tr>\n",
              "  </tbody>\n",
              "</table>\n",
              "<p>2 rows × 27 columns</p>\n",
              "</div>\n",
              "      <button class=\"colab-df-convert\" onclick=\"convertToInteractive('df-136bb992-b6ee-44bf-9bd4-73118f1f4f09')\"\n",
              "              title=\"Convert this dataframe to an interactive table.\"\n",
              "              style=\"display:none;\">\n",
              "        \n",
              "  <svg xmlns=\"http://www.w3.org/2000/svg\" height=\"24px\"viewBox=\"0 0 24 24\"\n",
              "       width=\"24px\">\n",
              "    <path d=\"M0 0h24v24H0V0z\" fill=\"none\"/>\n",
              "    <path d=\"M18.56 5.44l.94 2.06.94-2.06 2.06-.94-2.06-.94-.94-2.06-.94 2.06-2.06.94zm-11 1L8.5 8.5l.94-2.06 2.06-.94-2.06-.94L8.5 2.5l-.94 2.06-2.06.94zm10 10l.94 2.06.94-2.06 2.06-.94-2.06-.94-.94-2.06-.94 2.06-2.06.94z\"/><path d=\"M17.41 7.96l-1.37-1.37c-.4-.4-.92-.59-1.43-.59-.52 0-1.04.2-1.43.59L10.3 9.45l-7.72 7.72c-.78.78-.78 2.05 0 2.83L4 21.41c.39.39.9.59 1.41.59.51 0 1.02-.2 1.41-.59l7.78-7.78 2.81-2.81c.8-.78.8-2.07 0-2.86zM5.41 20L4 18.59l7.72-7.72 1.47 1.35L5.41 20z\"/>\n",
              "  </svg>\n",
              "      </button>\n",
              "      \n",
              "  <style>\n",
              "    .colab-df-container {\n",
              "      display:flex;\n",
              "      flex-wrap:wrap;\n",
              "      gap: 12px;\n",
              "    }\n",
              "\n",
              "    .colab-df-convert {\n",
              "      background-color: #E8F0FE;\n",
              "      border: none;\n",
              "      border-radius: 50%;\n",
              "      cursor: pointer;\n",
              "      display: none;\n",
              "      fill: #1967D2;\n",
              "      height: 32px;\n",
              "      padding: 0 0 0 0;\n",
              "      width: 32px;\n",
              "    }\n",
              "\n",
              "    .colab-df-convert:hover {\n",
              "      background-color: #E2EBFA;\n",
              "      box-shadow: 0px 1px 2px rgba(60, 64, 67, 0.3), 0px 1px 3px 1px rgba(60, 64, 67, 0.15);\n",
              "      fill: #174EA6;\n",
              "    }\n",
              "\n",
              "    [theme=dark] .colab-df-convert {\n",
              "      background-color: #3B4455;\n",
              "      fill: #D2E3FC;\n",
              "    }\n",
              "\n",
              "    [theme=dark] .colab-df-convert:hover {\n",
              "      background-color: #434B5C;\n",
              "      box-shadow: 0px 1px 3px 1px rgba(0, 0, 0, 0.15);\n",
              "      filter: drop-shadow(0px 1px 2px rgba(0, 0, 0, 0.3));\n",
              "      fill: #FFFFFF;\n",
              "    }\n",
              "  </style>\n",
              "\n",
              "      <script>\n",
              "        const buttonEl =\n",
              "          document.querySelector('#df-136bb992-b6ee-44bf-9bd4-73118f1f4f09 button.colab-df-convert');\n",
              "        buttonEl.style.display =\n",
              "          google.colab.kernel.accessAllowed ? 'block' : 'none';\n",
              "\n",
              "        async function convertToInteractive(key) {\n",
              "          const element = document.querySelector('#df-136bb992-b6ee-44bf-9bd4-73118f1f4f09');\n",
              "          const dataTable =\n",
              "            await google.colab.kernel.invokeFunction('convertToInteractive',\n",
              "                                                     [key], {});\n",
              "          if (!dataTable) return;\n",
              "\n",
              "          const docLinkHtml = 'Like what you see? Visit the ' +\n",
              "            '<a target=\"_blank\" href=https://colab.research.google.com/notebooks/data_table.ipynb>data table notebook</a>'\n",
              "            + ' to learn more about interactive tables.';\n",
              "          element.innerHTML = '';\n",
              "          dataTable['output_type'] = 'display_data';\n",
              "          await google.colab.output.renderOutput(dataTable, element);\n",
              "          const docLink = document.createElement('div');\n",
              "          docLink.innerHTML = docLinkHtml;\n",
              "          element.appendChild(docLink);\n",
              "        }\n",
              "      </script>\n",
              "    </div>\n",
              "  </div>\n",
              "  "
            ]
          },
          "metadata": {}
        }
      ]
    },
    {
      "cell_type": "code",
      "source": [
        "import numpy as np\n",
        "\n",
        "late_shipments_boot_distn = []\n",
        "\n",
        "for i in range(5000):\n",
        "    resampled_data = np.random.choice(late_shipments['late'], size=len(late_shipments), replace=True)\n",
        "    proportion_late = (resampled_data == \"Yes\").mean()\n",
        "    late_shipments_boot_distn.append(proportion_late)"
      ],
      "metadata": {
        "id": "3WanH18tmvyX"
      },
      "execution_count": 13,
      "outputs": []
    },
    {
      "cell_type": "markdown",
      "source": [
        "`replace=True` means that the sampling is done with replacement, allowing for the possibility of selecting the same item multiple times."
      ],
      "metadata": {
        "id": "5Kr_bTyVpj44"
      }
    },
    {
      "cell_type": "code",
      "source": [
        "import matplotlib.pyplot as plt\n",
        "plt.hist(late_shipments_boot_distn, bins=50)\n",
        "plt.show()"
      ],
      "metadata": {
        "colab": {
          "base_uri": "https://localhost:8080/",
          "height": 430
        },
        "id": "6ERPFYbpkgg1",
        "outputId": "a6e2e2fc-680b-4450-eda4-d0df63466bba"
      },
      "execution_count": 14,
      "outputs": [
        {
          "output_type": "display_data",
          "data": {
            "text/plain": [
              "<Figure size 640x480 with 1 Axes>"
            ],
            "image/png": "[encoded data removed]"
          },
          "metadata": {}
        }
      ]
    },
    {
      "cell_type": "code",
      "source": [
        "# Calculate the proportion of late shipments\n",
        "late_prop_samp = (late_shipments['late'] == \"Yes\").mean()\n",
        "\n",
        "# Print the results\n",
        "print(\"late_prop_samp =\",late_prop_samp)\n",
        "\n",
        "# Hypothesize that the proportion is 6%\n",
        "late_prop_hyp = 0.06\n",
        "\n",
        "# Calculate the standard error\n",
        "std_error = np.std(late_shipments_boot_distn, ddof = 1)\n",
        "\n",
        "# Find z-score of late_prop_samp\n",
        "z_score = (late_prop_samp - late_prop_hyp)/std_error\n",
        "\n",
        "# Print z_score\n",
        "print(\"z_score =\",z_score)"
      ],
      "metadata": {
        "colab": {
          "base_uri": "https://localhost:8080/"
        },
        "id": "IcTBSGhegnu-",
        "outputId": "fc5fb693-1c93-4cdc-a24f-86cf2f72810e"
      },
      "execution_count": 15,
      "outputs": [
        {
          "output_type": "stream",
          "name": "stdout",
          "text": [
            "late_prop_samp = 0.061\n",
            "z_score = 0.13291411707457765\n"
          ]
        }
      ]
    },
    {
      "cell_type": "markdown",
      "source": [
        "#### **Calculating p-values**\n"
      ],
      "metadata": {
        "id": "eLErnuX-SgBd"
      }
    },
    {
      "cell_type": "code",
      "source": [
        "from scipy.stats import norm\n",
        "\n",
        "# Calculate the z-score of late_prop_samp\n",
        "z_score = (late_prop_samp - late_prop_hyp) / std_error\n",
        "\n",
        "# Calculate the p-value\n",
        "p_value = 1 - norm.cdf(z_score)\n",
        "\n",
        "# Print the p-value\n",
        "print(\"z_score =\",z_score)\n",
        "print(\"p_value =\",p_value)"
      ],
      "metadata": {
        "colab": {
          "base_uri": "https://localhost:8080/"
        },
        "id": "4K2KnwgvoQbl",
        "outputId": "fd5428ea-de7f-4efc-c53d-1c9bd8cbedf8"
      },
      "execution_count": 16,
      "outputs": [
        {
          "output_type": "stream",
          "name": "stdout",
          "text": [
            "z_score = 0.13291411707457765\n",
            "p_value = 0.44713065107692573\n"
          ]
        }
      ]
    },
    {
      "cell_type": "markdown",
      "source": [
        "#### **Statistical significance $\\alpha$ - Decisions from `p-values`**\n"
      ],
      "metadata": {
        "id": "wzLjYOtboOYd"
      }
    },
    {
      "cell_type": "markdown",
      "source": [
        "By comparing the `p-value` to the `significance level` $\\alpha$, you can make a decision about which hypothesis to support.\n",
        "\n",
        "- The p-value is a measure of evidence against the `null` hypothesis.\n",
        "The null hypothesis ($H_0$) assumes no significant difference or relationship between variables.\n",
        "\n",
        "- The `alternative hypothesis` ($H_1$) suggests a significant difference or relationship.\n",
        "\n",
        "- A `significance level` ($\\alpha$) is chosen as the threshold for decision-making.\n",
        "\n",
        "- Calculate the `p-value`, which represents the probability of obtaining the observed data or more extreme if the `null` hypothesis is true.\n",
        "\n",
        "- If the `p-value` ≤ `alpha`, typically `0.05` or `0.01`, you reject the `null` hypothesis.\n",
        "\n",
        "- Rejecting the `null` hypothesis indicates evidence in support of the `alternative` hypothesis.\n",
        "\n",
        "- If the `p-value` > `alpha`, you `fail` to reject the `null` hypothesis.\n",
        "Failing to reject the null hypothesis means there is insufficient evidence to support the alternative hypothesis.\n",
        "\n",
        "- The decision should be interpreted in the context of the study and practical implications.\n"
      ],
      "metadata": {
        "id": "U6rnDYu-rDPP"
      }
    },
    {
      "cell_type": "markdown",
      "source": [
        "#### **Calculating a confidence interval**\n"
      ],
      "metadata": {
        "id": "YfY3oQ-6romm"
      }
    },
    {
      "cell_type": "code",
      "source": [
        "# Calculate 95% confidence interval using quantile method\n",
        "lower = np.quantile(late_shipments_boot_distn, 0.025)\n",
        "upper = np.quantile(late_shipments_boot_distn, 0.975)\n",
        "\n",
        "# Print the confidence interval\n",
        "print((lower, upper))"
      ],
      "metadata": {
        "colab": {
          "base_uri": "https://localhost:8080/"
        },
        "id": "awJN3LTEsiuG",
        "outputId": "ceb92dc6-ca70-44c9-e693-a5ccd8226271"
      },
      "execution_count": 17,
      "outputs": [
        {
          "output_type": "stream",
          "name": "stdout",
          "text": [
            "(0.047, 0.076)\n"
          ]
        }
      ]
    },
    {
      "cell_type": "markdown",
      "source": [
        "#### **Type I and type II errors**"
      ],
      "metadata": {
        "id": "9PDkI6q1s9ud"
      }
    },
    {
      "cell_type": "markdown",
      "source": [
        "In hypothesis testing, `Type I` and `Type II` errors are two types of mistakes that can occur when making conclusions about a population based on sample data. Let's understand each type of error with an example and provide code snippets to demonstrate them.\n",
        "\n",
        "- **Type I Error (`False Positive`):**\n",
        "    - A `Type I` error occurs **when you reject a null hypothesis that is actually true**. In other words, you conclude that there is a significant effect or difference when, in reality, there is none. The probability of committing a `Type I` error is denoted by the `significance level` (usually denoted as alpha, α).\n",
        "\n",
        "        - `Example`: Suppose you are testing a new drug's effectiveness to treat a specific disease.     The `null` hypothesis (`H0`) states that the drug has no effect, while the  `alternative` hypothesis (`Ha`) states that the drug is effective. A `Type I` error    would occur if you reject the null hypothesis and conclude that the drug is    effective, even though it has no actual effect."
      ],
      "metadata": {
        "id": "RCbtb6n6tifF"
      }
    },
    {
      "cell_type": "markdown",
      "source": [
        "- **`Type II` Error (False Negative):**\n",
        "    - A `Type II` error occurs when you fail to reject a null hypothesis that is actually false. In other words, you conclude that there is no significant effect or difference when, in reality, there is one. The probability of committing a Type II error is denoted by beta (β).\n",
        "\n",
        "        - `Example`:Continuing with the previous example, let's say the drug is indeed effective, but you fail to reject the null hypothesis and conclude that it has no effect."
      ],
      "metadata": {
        "id": "_aWea7fIuGf9"
      }
    },
    {
      "cell_type": "code",
      "source": [
        "import numpy as np\n",
        "from scipy import stats\n",
        "\n",
        "# Generating a sample dataset\n",
        "np.random.seed(0)\n",
        "population_mean = 100  # True population mean\n",
        "population_std = 15  # True population standard deviation\n",
        "sample_size = 100  # Sample size\n",
        "sample_data = np.random.normal(population_mean, population_std, sample_size)\n",
        "\n",
        "# Setting up null and alternative hypotheses\n",
        "null_hypothesis_mean = 95  # Null hypothesis: population mean is 95\n",
        "alternative_hypothesis_mean = 105  # Alternative hypothesis: population mean is 105\n",
        "\n",
        "# Setting significance level (alpha)\n",
        "alpha = 0.05\n",
        "\n",
        "# Performing a one-sample t-test for Type 1 error\n",
        "t_statistic, p_value = stats.ttest_1samp(sample_data, null_hypothesis_mean)\n",
        "type_1_error = p_value if t_statistic > 0 else 1 - p_value\n",
        "\n",
        "# Performing a one-sample t-test for Type 2 error\n",
        "t_statistic, p_value = stats.ttest_1samp(sample_data, alternative_hypothesis_mean)\n",
        "type_2_error = p_value if t_statistic < 0 else 1 - p_value\n",
        "\n",
        "print(\"Type 1 error:\", type_1_error)\n",
        "print(\"Type 2 error:\", type_2_error)"
      ],
      "metadata": {
        "colab": {
          "base_uri": "https://localhost:8080/"
        },
        "id": "P4lCso_nvktF",
        "outputId": "8b6cd6a3-795b-4d81-dbce-d372c11b8469"
      },
      "execution_count": 18,
      "outputs": [
        {
          "output_type": "stream",
          "name": "stdout",
          "text": [
            "Type 1 error: 0.00018756560539117116\n",
            "Type 2 error: 0.008150276399454719\n"
          ]
        }
      ]
    },
    {
      "cell_type": "markdown",
      "source": [
        "# **2️⃣Two-Sample and ANOVA Tests**"
      ],
      "metadata": {
        "id": "ATihhh_TzvJL"
      }
    },
    {
      "cell_type": "markdown",
      "source": [
        "## **Performing `t-tests`**\n"
      ],
      "metadata": {
        "id": "kaIKyhMlCZxI"
      }
    },
    {
      "cell_type": "markdown",
      "source": [
        "#### **Hypothesis testing workflow**\n",
        "\n",
        "\n",
        "\n",
        "- Identify population parameter that is hypothesized about.\n",
        "\n",
        "- Specify the null and alternative hypotheses.\n",
        "\n",
        "- Determine (standardized) test statistic and corresponding null distribution.\n",
        "\n",
        "- Conduct hypothesis test in Python.\n",
        "\n",
        "- Measure evidence against the null hypothesis.\n",
        "\n",
        "- Make a decision comparing evidence to significance level.\n",
        "\n",
        "- Interpret the results in the context of the original problem."
      ],
      "metadata": {
        "id": "OFnP0RJq3Yv6"
      }
    },
    {
      "cell_type": "markdown",
      "source": [
        "`two-sample` `t-test` using the `scipy.stats` module in Python"
      ],
      "metadata": {
        "id": "3QCeb3PV1T2j"
      }
    },
    {
      "cell_type": "code",
      "source": [
        "import numpy as np\n",
        "import scipy.stats as stats\n",
        "\n",
        "# Generate random data for two samples\n",
        "np.random.seed(0)\n",
        "sample1 = np.random.normal(loc=5, scale=2, size=100)  # Sample 1 with mean 5 and standard deviation 2\n",
        "sample2 = np.random.normal(loc=7, scale=2, size=100)  # Sample 2 with mean 7 and standard deviation 2\n",
        "\n",
        "# Perform two-sample t-test\n",
        "t_statistic, p_value = stats.ttest_ind(sample1, sample2)\n",
        "\n",
        "# Print the results\n",
        "print(\"Two-Sample T-Test:\")\n",
        "print(\"T-Statistic:\", t_statistic)\n",
        "print(\"P-Value:\", p_value)"
      ],
      "metadata": {
        "colab": {
          "base_uri": "https://localhost:8080/"
        },
        "id": "dZg3ppNk1RSD",
        "outputId": "3e5c4b41-3a5b-443f-8af5-4e9c5aadf7f2"
      },
      "execution_count": 19,
      "outputs": [
        {
          "output_type": "stream",
          "name": "stdout",
          "text": [
            "Two-Sample T-Test:\n",
            "T-Statistic: -7.04142736901327\n",
            "P-Value: 3.059820094514085e-11\n"
          ]
        }
      ]
    },
    {
      "cell_type": "code",
      "source": [
        "import numpy as np\n",
        "import scipy.stats as stats\n",
        "\n",
        "# Two-Sample t-test\n",
        "def two_sample_ttest(sample1, sample2):\n",
        "    t_statistic, p_value = stats.ttest_ind(sample1, sample2)\n",
        "    return t_statistic, p_value\n",
        "\n",
        "# ANOVA Test\n",
        "def anova_test(*samples):\n",
        "    f_statistic, p_value = stats.f_oneway(*samples)\n",
        "    return f_statistic, p_value\n",
        "\n",
        "# Hypothesis Testing Workflow\n",
        "def hypothesis_testing_workflow():\n",
        "    # Step 1: Define null and alternative hypotheses\n",
        "    null_hypothesis = \"The means of the two samples are equal.\"\n",
        "    alternative_hypothesis = \"The means of the two samples are not equal.\"\n",
        "\n",
        "    # Step 2: Collect and preprocess data\n",
        "    sample1 = [1, 2, 3, 4, 5]  # Sample 1 data\n",
        "    sample2 = [3, 4, 5, 6, 7]  # Sample 2 data\n",
        "\n",
        "    # Step 3: Choose a significance level (e.g., alpha = 0.05)\n",
        "\n",
        "    # Step 4: Perform the two-sample t-test\n",
        "    t_statistic, p_value = two_sample_ttest(sample1, sample2)\n",
        "\n",
        "    # Step 5: Perform ANOVA test\n",
        "    f_statistic, p_value_anova = anova_test(sample1, sample2)\n",
        "\n",
        "    # Step 6: Make a decision based on p-value and significance level\n",
        "    alpha = 0.05\n",
        "    if p_value < alpha:\n",
        "        print(\"Reject the null hypothesis for the t-test. The means of the two samples are not equal.\")\n",
        "    else:\n",
        "        print(\"Fail to reject the null hypothesis for the t-test. The means of the two samples may be equal.\")\n",
        "\n",
        "    if p_value_anova < alpha:\n",
        "        print(\"Reject the null hypothesis for the ANOVA test. The means of the two samples are not equal.\")\n",
        "    else:\n",
        "        print(\"Fail to reject the null hypothesis for the ANOVA test. The means of the two samples may be equal.\")\n",
        "\n",
        "    # Step 7: Calculate and interpret the test statistics\n",
        "    print(\"The calculated t-statistic is:\", t_statistic)\n",
        "    print(\"The calculated f-statistic for ANOVA is:\", f_statistic)\n",
        "\n",
        "    # Step 8: Calculate and print sample means\n",
        "    print(\"Sample 1 mean:\", np.mean(sample1))\n",
        "    print(\"Sample 2 mean:\", np.mean(sample2))\n",
        "\n",
        "# Example usage:\n",
        "hypothesis_testing_workflow()"
      ],
      "metadata": {
        "colab": {
          "base_uri": "https://localhost:8080/"
        },
        "id": "5QNbEreg0rvf",
        "outputId": "3e6be83f-5f7d-4b36-c2a6-985fab67530c"
      },
      "execution_count": 20,
      "outputs": [
        {
          "output_type": "stream",
          "name": "stdout",
          "text": [
            "Fail to reject the null hypothesis for the t-test. The means of the two samples may be equal.\n",
            "Fail to reject the null hypothesis for the ANOVA test. The means of the two samples may be equal.\n",
            "The calculated t-statistic is: -2.0\n",
            "The calculated f-statistic for ANOVA is: 4.0\n",
            "Sample 1 mean: 3.0\n",
            "Sample 2 mean: 5.0\n"
          ]
        }
      ]
    },
    {
      "cell_type": "code",
      "source": [
        "import numpy as np\n",
        "from scipy.stats import t\n",
        "\n",
        "# Sample data\n",
        "mean_group1 = 5.6  # Sample mean for the first group\n",
        "mean_group2 = 6.3  # Sample mean for the second group\n",
        "std_group1 = 1.2  # Sample standard deviation for the first group\n",
        "std_group2 = 1.5  # Sample standard deviation for the second group\n",
        "size_group1 = 30  # Sample size for the first group\n",
        "size_group2 = 25  # Sample size for the second group\n",
        "\n",
        "# Calculate the degrees of freedom\n",
        "df = size_group1 + size_group2 - 2\n",
        "\n",
        "# Calculate the pooled standard deviation\n",
        "sp = np.sqrt(((size_group1 - 1) * std_group1 ** 2 + (size_group2 - 1) * std_group2 ** 2) / df)\n",
        "\n",
        "# Calculate the standard error of the difference between means\n",
        "se = sp * np.sqrt(1 / size_group1 + 1 / size_group2)\n",
        "\n",
        "# Calculate the t-statistic\n",
        "t_statistic = (mean_group1 - mean_group2) / se\n",
        "\n",
        "# Calculate the critical value for a given significance level (e.g., 0.05 for 95% confidence)\n",
        "alpha = 0.05\n",
        "critical_value = t.ppf(1 - alpha / 2, df)\n",
        "\n",
        "# Compare the t-statistic with the critical value and make a decision\n",
        "if t_statistic < -critical_value or t_statistic > critical_value:\n",
        "    decision = \"Reject the null hypothesis\"\n",
        "else:\n",
        "    decision = \"Fail to reject the null hypothesis\"\n",
        "\n",
        "# Print the results\n",
        "print(\"t-statistic:\", t_statistic)\n",
        "print(\"Critical value:\", critical_value)\n",
        "print(\"Decision:\", decision)"
      ],
      "metadata": {
        "colab": {
          "base_uri": "https://localhost:8080/"
        },
        "id": "gkHMEGwk4qJD",
        "outputId": "10ee71c5-7d06-4639-9f9a-ad585ea5f295"
      },
      "execution_count": 21,
      "outputs": [
        {
          "output_type": "stream",
          "name": "stdout",
          "text": [
            "t-statistic: -1.923061587474125\n",
            "Critical value: 2.0057459935369497\n",
            "Decision: Fail to reject the null hypothesis\n"
          ]
        }
      ]
    },
    {
      "cell_type": "markdown",
      "source": [
        "#### **Two sample mean test statistic**"
      ],
      "metadata": {
        "id": "odYvH6n0xieU"
      }
    },
    {
      "cell_type": "markdown",
      "source": [
        "The hypothesis test for determining if there is a difference between the means of two populations uses a different type of test statistic to the z-scores you saw in above section 1. It's called `t`, and it can be calculated from three values from each sample using this equation.\n",
        "\n",
        "$$t=\\frac{(\\bar{x}_{child} - \\bar{x}_{adult})}\n",
        "{\\sqrt{\\frac{s^2_{child}}{n_{child}}   + \\frac{s^2_{adult}}{n_{aduilt}} }}$$\n",
        "\n",
        "While trying to determine why some shipments are late, you may wonder if the weight of the shipments that were on time is less than the weight of the shipments that were late.\n",
        "\n",
        "To perform the hypothesis test for the difference between the means of two populations, you need the following information:\n",
        "\n",
        "- Sample mean for the \"yes\" group: `xbar_yes`\n",
        "- Sample mean for the \"no\" group: `xbar_no`\n",
        "- Sample standard deviation for the \"yes\" group: `s_yes`\n",
        "- Sample standard deviation for the \"no\" group: `s_no`\n",
        "- Sample size for the \"yes\" group: `n_yes`\n",
        "- Sample size for the \"no\" group: `n_no`"
      ],
      "metadata": {
        "id": "Th3BJREwxwy6"
      }
    },
    {
      "cell_type": "code",
      "source": [
        "late_shipments['late']"
      ],
      "metadata": {
        "colab": {
          "base_uri": "https://localhost:8080/"
        },
        "id": "hYiUQvWz0q_V",
        "outputId": "5cf4f192-ae86-47f1-e0b0-a9a02437d18f"
      },
      "execution_count": 22,
      "outputs": [
        {
          "output_type": "execute_result",
          "data": {
            "text/plain": [
              "0      Yes\n",
              "1       No\n",
              "2       No\n",
              "3       No\n",
              "4       No\n",
              "      ... \n",
              "995     No\n",
              "996     No\n",
              "997    Yes\n",
              "998     No\n",
              "999     No\n",
              "Name: late, Length: 1000, dtype: object"
            ]
          },
          "metadata": {},
          "execution_count": 22
        }
      ]
    },
    {
      "cell_type": "code",
      "source": [
        "import numpy as np\n",
        "\n",
        "# Filter the DataFrame for the \"yes\" group\n",
        "late_yes_group = late_shipments[late_shipments['late'] == 'Yes']\n",
        "\n",
        "# Filter the DataFrame for the \"no\" group\n",
        "late_no_group = late_shipments[late_shipments['late'] == 'No']\n",
        "\n",
        "# Calculate sample means\n",
        "xbar_yes = late_yes_group['weight_kilograms'].mean()\n",
        "xbar_no = late_no_group['weight_kilograms'].mean()\n",
        "\n",
        "# Calculate sample standard deviations\n",
        "s_yes = late_yes_group['weight_kilograms'].std(ddof=1) # \"ddof\" stands for \"delta degrees of freedom.\"\n",
        "s_no = late_no_group['weight_kilograms'].std(ddof=1)\n",
        "\n",
        "# Calculate sample sizes\n",
        "n_yes = late_yes_group.shape[0]\n",
        "n_no = late_no_group.shape[0]\n",
        "\n",
        "# Calculate the numerator of the test statistic\n",
        "numerator = xbar_yes - xbar_no\n",
        "\n",
        "# Calculate the denominator of the test statistic\n",
        "denominator = np.sqrt(s_no**2 / n_no + s_yes**2 / n_yes)\n",
        "\n",
        "# Calculate the test statistic\n",
        "t_stat = numerator / denominator\n",
        "\n",
        "# Print the test statistic\n",
        "print(\"t_stat =\", t_stat)\n"
      ],
      "metadata": {
        "colab": {
          "base_uri": "https://localhost:8080/"
        },
        "id": "oqzS0ydLxopq",
        "outputId": "952add0b-4d61-4568-9cf6-3efbe2499069"
      },
      "execution_count": 23,
      "outputs": [
        {
          "output_type": "stream",
          "name": "stdout",
          "text": [
            "t_stat = 2.3936661778766433\n"
          ]
        }
      ]
    },
    {
      "cell_type": "markdown",
      "source": [
        "## **Calculating `p-values` from `t-statistics`**\n"
      ],
      "metadata": {
        "id": "T8EsK5XhGsXH"
      }
    },
    {
      "cell_type": "markdown",
      "source": [
        "The `t-distribution` is used in hypothesis testing when the population standard deviation is unknown and needs to be estimated from the sample data, particularly when the sample size is small.\n",
        "\n",
        "It accounts for the uncertainty introduced by estimating the standard deviation from the sample, resulting in fatter tails compared to the `z-distribution`. When the sample size is large, the `t-distribution` approximates the z-distribution. In summary, the `t-distribution` is needed when the population standard deviation is unknown and needs to be estimated, especially with small sample sizes."
      ],
      "metadata": {
        "id": "ZlBzk-tU3AJG"
      }
    },
    {
      "cell_type": "markdown",
      "source": [
        "The **t-distribution** is used to calculate the `p-value` from the test statistic, and having a sense of how the PDF and CDF look can help you understand this calculation. It has two parameters: the degrees of freedom, and the non-centrality parameter.\n",
        "\n",
        "The plots show the PDF and CDF for a t-distribution (solid black line), and for comparison show a standard normal distribution with mean 0 and variance 1 (gray dotted line)."
      ],
      "metadata": {
        "id": "jND7m9Zp68Sa"
      }
    },
    {
      "cell_type": "code",
      "source": [
        "import numpy as np\n",
        "import matplotlib.pyplot as plt\n",
        "from scipy.stats import t, norm\n",
        "\n",
        "# Parameters\n",
        "degrees_of_freedom = 1\n",
        "\n",
        "# Create the x-axis values\n",
        "x = np.linspace(-4, 4, 100)\n",
        "\n",
        "# Calculate the PDF and CDF for t-distribution\n",
        "t_pdf = t.pdf(x, df=degrees_of_freedom)\n",
        "t_cdf = t.cdf(x, df=degrees_of_freedom)\n",
        "\n",
        "# Calculate the PDF and CDF for standard normal distribution\n",
        "normal_pdf = norm.pdf(x)\n",
        "normal_cdf = norm.cdf(x)\n",
        "\n",
        "# Plot\n",
        "plt.figure(figsize=(10, 5))\n",
        "\n",
        "# Plot the PDFs\n",
        "plt.subplot(2, 1, 1)\n",
        "plt.plot(x, t_pdf, 'k', label='t-distribution')\n",
        "plt.plot(x, normal_pdf, 'gray', linestyle='--', label='Standard Normal')\n",
        "plt.xlabel('x')\n",
        "plt.ylabel('PDF')\n",
        "plt.title('Probability Density Function (PDF)')\n",
        "plt.legend()\n",
        "\n",
        "# Plot the CDFs\n",
        "plt.subplot(2, 1, 2)\n",
        "plt.plot(x, t_cdf, 'k', label='t-distribution')\n",
        "plt.plot(x, normal_cdf, 'gray', linestyle='--', label='Standard Normal')\n",
        "plt.xlabel('x')\n",
        "plt.ylabel('CDF')\n",
        "plt.title('Cumulative Distribution Function (CDF)')\n",
        "plt.legend()\n",
        "\n",
        "# Show the plot\n",
        "plt.tight_layout()\n",
        "plt.show()"
      ],
      "metadata": {
        "colab": {
          "base_uri": "https://localhost:8080/",
          "height": 507
        },
        "id": "ACdYW-BF5G93",
        "outputId": "75edca7a-b25c-4793-d40e-08bbda1f46a2"
      },
      "execution_count": 24,
      "outputs": [
        {
          "output_type": "display_data",
          "data": {
            "text/plain": [
              "<Figure size 1000x500 with 2 Axes>"
            ],
            "image/png": "[encoded data removed]"
          },
          "metadata": {}
        }
      ]
    },
    {
      "cell_type": "markdown",
      "source": [
        "As you increase the `degrees of freedom` from `1` to `10`, the `t-distribution` `PDF` and `CDF` curves get closer to those of a `normal distribution`."
      ],
      "metadata": {
        "id": "-diVWpiY6NwC"
      }
    },
    {
      "cell_type": "code",
      "source": [
        "import numpy as np\n",
        "import matplotlib.pyplot as plt\n",
        "from scipy.stats import t, norm\n",
        "\n",
        "# Parameters\n",
        "degrees_of_freedom = 10\n",
        "\n",
        "# Create the x-axis values\n",
        "x = np.linspace(-4, 4, 100)\n",
        "\n",
        "# Calculate the PDF and CDF for t-distribution\n",
        "t_pdf = t.pdf(x, df=degrees_of_freedom)\n",
        "t_cdf = t.cdf(x, df=degrees_of_freedom)\n",
        "\n",
        "# Calculate the PDF and CDF for standard normal distribution\n",
        "normal_pdf = norm.pdf(x)\n",
        "normal_cdf = norm.cdf(x)\n",
        "\n",
        "# Plot\n",
        "plt.figure(figsize=(10, 5))\n",
        "\n",
        "# Plot the PDFs\n",
        "plt.subplot(2, 1, 1)\n",
        "plt.plot(x, t_pdf, 'k', label='t-distribution')\n",
        "plt.plot(x, normal_pdf, 'gray', linestyle='--', label='Standard Normal')\n",
        "plt.xlabel('x')\n",
        "plt.ylabel('PDF')\n",
        "plt.title('Probability Density Function (PDF)')\n",
        "plt.legend()\n",
        "\n",
        "# Plot the CDFs\n",
        "plt.subplot(2, 1, 2)\n",
        "plt.plot(x, t_cdf, 'k', label='t-distribution')\n",
        "plt.plot(x, normal_cdf, 'gray', linestyle='--', label='Standard Normal')\n",
        "plt.xlabel('x')\n",
        "plt.ylabel('CDF')\n",
        "plt.title('Cumulative Distribution Function (CDF)')\n",
        "plt.legend()\n",
        "\n",
        "# Show the plot\n",
        "plt.tight_layout()\n",
        "plt.show()"
      ],
      "metadata": {
        "colab": {
          "base_uri": "https://localhost:8080/",
          "height": 507
        },
        "id": "OqE0QVnK6Zkr",
        "outputId": "9d65eb96-15f5-4e78-9c67-ab7be2b8cc6d"
      },
      "execution_count": 25,
      "outputs": [
        {
          "output_type": "display_data",
          "data": {
            "text/plain": [
              "<Figure size 1000x500 with 2 Axes>"
            ],
            "image/png": "[encoded data removed]"
          },
          "metadata": {}
        }
      ]
    },
    {
      "cell_type": "markdown",
      "source": [
        "#### **From `t` to `p`**\n"
      ],
      "metadata": {
        "id": "VhiQROAWGwX3"
      }
    },
    {
      "cell_type": "code",
      "source": [
        "import numpy as np\n",
        "from scipy.stats import t\n",
        "\n",
        "# Parameters\n",
        "alpha = 0.05  # Significance level\n",
        "group1_data = np.array([1, 2, 3, 4, 5])  # Data of group 1\n",
        "group2_data = np.array([2, 4, 6, 8, 10])  # Data of group 2\n",
        "\n",
        "# Calculate the sample means\n",
        "mean1 = np.mean(group1_data)\n",
        "mean2 = np.mean(group2_data)\n",
        "\n",
        "# Calculate the sample standard deviations\n",
        "std1 = np.std(group1_data, ddof=1)\n",
        "std2 = np.std(group2_data, ddof=1)\n",
        "\n",
        "# Calculate the sample sizes\n",
        "n1 = len(group1_data)\n",
        "n2 = len(group2_data)\n",
        "\n",
        "# Calculate the pooled standard deviation\n",
        "pooled_std = np.sqrt(((n1 - 1) * std1 ** 2 + (n2 - 1) * std2 ** 2) / (n1 + n2 - 2))\n",
        "\n",
        "# Calculate the test statistic\n",
        "t_stat = (mean1 - mean2) / (pooled_std * np.sqrt(1 / n1 + 1 / n2))\n",
        "\n",
        "# Calculate the degrees of freedom\n",
        "degrees_of_freedom = n1 + n2 - 2\n",
        "\n",
        "# Calculate the p-value\n",
        "p_value = 1 - t.cdf(t_stat, df=degrees_of_freedom)\n",
        "\n",
        "# Print the calculated values\n",
        "print(\"Test Statistic:\", t_stat)\n",
        "print(\"Degrees of Freedom:\", degrees_of_freedom)\n",
        "print(\"p-value:\", p_value)"
      ],
      "metadata": {
        "colab": {
          "base_uri": "https://localhost:8080/"
        },
        "id": "enU9t-dB79gp",
        "outputId": "89aa8102-2ddf-4880-85f8-9a60247c4685"
      },
      "execution_count": 26,
      "outputs": [
        {
          "output_type": "stream",
          "name": "stdout",
          "text": [
            "Test Statistic: -1.8973665961010275\n",
            "Degrees of Freedom: 8\n",
            "p-value: 0.9528251135787812\n"
          ]
        }
      ]
    },
    {
      "cell_type": "markdown",
      "source": [
        "## **Paired `t-tests`**\n"
      ],
      "metadata": {
        "id": "TTo_KF0JGxoP"
      }
    },
    {
      "cell_type": "markdown",
      "source": [
        "#### **Is pairing needed?**\n",
        "\n",
        "pairing is needed in a hypothesis test when the observations in the two groups are related or matched. If the observations are independent and not related, pairing is not necessary. The decision to use a paired or independent t-test depends on the experimental design and the relationship between the observations in the groups.\n"
      ],
      "metadata": {
        "id": "srE6Mg5yGzS3"
      }
    },
    {
      "cell_type": "code",
      "source": [
        "import numpy as np\n",
        "from scipy.stats import ttest_ind # Independent t-test\n",
        "\n",
        "# Data for Group 1\n",
        "group1 = np.array([5, 7, 9, 11, 13])\n",
        "\n",
        "# Data for Group 2\n",
        "group2 = np.array([8, 9, 10, 11, 12])\n",
        "\n",
        "# Perform independent t-test\n",
        "t_statistic, p_value = ttest_ind(group1, group2)\n",
        "\n",
        "# Print the results\n",
        "print(\"Independent t-test\")\n",
        "print(\"T-Statistic:\", t_statistic)\n",
        "print(\"P-Value:\", p_value)"
      ],
      "metadata": {
        "colab": {
          "base_uri": "https://localhost:8080/"
        },
        "id": "FOB_oDUF_syz",
        "outputId": "32b7cd10-e664-4b10-b3bf-0c54d4f63396"
      },
      "execution_count": 27,
      "outputs": [
        {
          "output_type": "stream",
          "name": "stdout",
          "text": [
            "Independent t-test\n",
            "T-Statistic: -0.6324555320336759\n",
            "P-Value: 0.544737300804491\n"
          ]
        }
      ]
    },
    {
      "cell_type": "code",
      "source": [
        "import numpy as np\n",
        "from scipy.stats import ttest_rel # Paired t-test\n",
        "\n",
        "# Blood pressure measurements before treatment\n",
        "before_treatment = [120, 130, 140, 125, 135, 130, 122, 138, 132, 127]\n",
        "\n",
        "# Blood pressure measurements after treatment\n",
        "after_treatment = [115, 125, 135, 118, 128, 123, 116, 133, 126, 121]\n",
        "\n",
        "# Perform paired t-test\n",
        "t_statistic, p_value = ttest_rel(before_treatment, after_treatment)\n",
        "\n",
        "# Print the results\n",
        "print(\"Paired t-test\")\n",
        "print(\"T-Statistic:\", t_statistic)\n",
        "print(\"P-Value:\", p_value)"
      ],
      "metadata": {
        "colab": {
          "base_uri": "https://localhost:8080/"
        },
        "id": "Afga8-I-_b8M",
        "outputId": "7fa163a8-9c01-449c-f7e1-848f91eb0d3c"
      },
      "execution_count": 28,
      "outputs": [
        {
          "output_type": "stream",
          "name": "stdout",
          "text": [
            "Paired t-test\n",
            "T-Statistic: 21.30829599618115\n",
            "P-Value: 5.1886608645111844e-09\n"
          ]
        }
      ]
    },
    {
      "cell_type": "markdown",
      "source": [
        "| Feature                   | `ttest_ind` (Independent t-test)                  | `ttest_rel` (Paired t-test)                              |\n",
        "|---------------------------|------------------------------------------------|----------------------------------------------------------|\n",
        "| Purpose                   | Compare means of two independent groups        | Compare means of two related/paired groups               |\n",
        "| Input                    | Two separate arrays/lists for each group       | Two arrays/lists with paired observations                |\n",
        "| Assumption                | Observations in each group are independent     | Observations in each pair are dependent/related          |\n",
        "| Null Hypothesis           | The means of the two groups are equal          | The means of the two groups are equal                    |\n",
        "| Alternative Hypothesis    | The means of the two groups are not equal      | The means of the two groups are not equal                |\n",
        "| Statistical Test          | Two-sample t-test (unpaired)                   | One-sample t-test (paired)                               |\n",
        "| Degrees of Freedom        | Calculated based on the sample sizes          | Calculated based on the number of pairs                  |\n",
        "| Test Statistic            | Independent t-statistic                        | Paired t-statistic                                       |\n",
        "| Calculation of p-value    | Uses the t-distribution                         | Uses the t-distribution                                  |\n",
        "| Example Scenario          | Comparing the effect of a drug on two groups   | Comparing the effect of a training program on pre/post measurements |\n",
        "| Python Function           | `ttest_ind(group_a, group_b)`                  | `ttest_rel(before_treatment, after_treatment)`           |\n"
      ],
      "metadata": {
        "id": "5LJyMzPoCpXu"
      }
    },
    {
      "cell_type": "markdown",
      "source": [
        "#### **Visualizing the difference**\n"
      ],
      "metadata": {
        "id": "Ov2XoaWOG0f3"
      }
    },
    {
      "cell_type": "code",
      "source": [
        "# Calculate the differences from 2012 to 2016\n",
        "sample_dem_data['diff'] = sample_dem_data['dem_percent_12'] - sample_dem_data['dem_percent_16']\n",
        "\n",
        "# Print sample_dem_data\n",
        "display(sample_dem_data.head(5))\n",
        "print(\"\\n\")\n",
        "\n",
        "# Find the mean of the diff column\n",
        "xbar_diff = sample_dem_data['diff'].mean()\n",
        "\n",
        "# Print xbar_diff\n",
        "print(\"Mean of the diff Column =\",xbar_diff, \"\\n\")\n",
        "\n",
        "# Find the standard deviation of the diff column\n",
        "s_diff = sample_dem_data['diff'].std()\n",
        "\n",
        "# Print s_diff\n",
        "print(\"standard deviation of the diff column =\",s_diff, \"\\n\")\n",
        "\n",
        "# Plot a histogram of diff with 20 bins\n",
        "sample_dem_data['diff'].hist(bins=20)\n",
        "plt.show()"
      ],
      "metadata": {
        "colab": {
          "base_uri": "https://localhost:8080/",
          "height": 723
        },
        "id": "4bfXlDpi7ZIt",
        "outputId": "2ca6b63f-4486-4d2d-abaf-0ea54d10d21a"
      },
      "execution_count": 29,
      "outputs": [
        {
          "output_type": "display_data",
          "data": {
            "text/plain": [
              "     state    county  dem_percent_12  dem_percent_16      diff\n",
              "0  Alabama   Bullock       76.305900       74.946921  1.358979\n",
              "1  Alabama   Chilton       19.453671       15.847352  3.606319\n",
              "2  Alabama      Clay       26.673672       18.674517  7.999155\n",
              "3  Alabama   Cullman       14.661752       10.028252  4.633500\n",
              "4  Alabama  Escambia       36.915731       31.020546  5.895185"
            ],
            "text/html": [
              "\n",
              "  <div id=\"df-1018781f-6445-400e-af9f-4921605d0219\">\n",
              "    <div class=\"colab-df-container\">\n",
              "      <div>\n",
              "<style scoped>\n",
              "    .dataframe tbody tr th:only-of-type {\n",
              "        vertical-align: middle;\n",
              "    }\n",
              "\n",
              "    .dataframe tbody tr th {\n",
              "        vertical-align: top;\n",
              "    }\n",
              "\n",
              "    .dataframe thead th {\n",
              "        text-align: right;\n",
              "    }\n",
              "</style>\n",
              "<table border=\"1\" class=\"dataframe\">\n",
              "  <thead>\n",
              "    <tr style=\"text-align: right;\">\n",
              "      <th></th>\n",
              "      <th>state</th>\n",
              "      <th>county</th>\n",
              "      <th>dem_percent_12</th>\n",
              "      <th>dem_percent_16</th>\n",
              "      <th>diff</th>\n",
              "    </tr>\n",
              "  </thead>\n",
              "  <tbody>\n",
              "    <tr>\n",
              "      <th>0</th>\n",
              "      <td>Alabama</td>\n",
              "      <td>Bullock</td>\n",
              "      <td>76.305900</td>\n",
              "      <td>74.946921</td>\n",
              "      <td>1.358979</td>\n",
              "    </tr>\n",
              "    <tr>\n",
              "      <th>1</th>\n",
              "      <td>Alabama</td>\n",
              "      <td>Chilton</td>\n",
              "      <td>19.453671</td>\n",
              "      <td>15.847352</td>\n",
              "      <td>3.606319</td>\n",
              "    </tr>\n",
              "    <tr>\n",
              "      <th>2</th>\n",
              "      <td>Alabama</td>\n",
              "      <td>Clay</td>\n",
              "      <td>26.673672</td>\n",
              "      <td>18.674517</td>\n",
              "      <td>7.999155</td>\n",
              "    </tr>\n",
              "    <tr>\n",
              "      <th>3</th>\n",
              "      <td>Alabama</td>\n",
              "      <td>Cullman</td>\n",
              "      <td>14.661752</td>\n",
              "      <td>10.028252</td>\n",
              "      <td>4.633500</td>\n",
              "    </tr>\n",
              "    <tr>\n",
              "      <th>4</th>\n",
              "      <td>Alabama</td>\n",
              "      <td>Escambia</td>\n",
              "      <td>36.915731</td>\n",
              "      <td>31.020546</td>\n",
              "      <td>5.895185</td>\n",
              "    </tr>\n",
              "  </tbody>\n",
              "</table>\n",
              "</div>\n",
              "      <button class=\"colab-df-convert\" onclick=\"convertToInteractive('df-1018781f-6445-400e-af9f-4921605d0219')\"\n",
              "              title=\"Convert this dataframe to an interactive table.\"\n",
              "              style=\"display:none;\">\n",
              "        \n",
              "  <svg xmlns=\"http://www.w3.org/2000/svg\" height=\"24px\"viewBox=\"0 0 24 24\"\n",
              "       width=\"24px\">\n",
              "    <path d=\"M0 0h24v24H0V0z\" fill=\"none\"/>\n",
              "    <path d=\"M18.56 5.44l.94 2.06.94-2.06 2.06-.94-2.06-.94-.94-2.06-.94 2.06-2.06.94zm-11 1L8.5 8.5l.94-2.06 2.06-.94-2.06-.94L8.5 2.5l-.94 2.06-2.06.94zm10 10l.94 2.06.94-2.06 2.06-.94-2.06-.94-.94-2.06-.94 2.06-2.06.94z\"/><path d=\"M17.41 7.96l-1.37-1.37c-.4-.4-.92-.59-1.43-.59-.52 0-1.04.2-1.43.59L10.3 9.45l-7.72 7.72c-.78.78-.78 2.05 0 2.83L4 21.41c.39.39.9.59 1.41.59.51 0 1.02-.2 1.41-.59l7.78-7.78 2.81-2.81c.8-.78.8-2.07 0-2.86zM5.41 20L4 18.59l7.72-7.72 1.47 1.35L5.41 20z\"/>\n",
              "  </svg>\n",
              "      </button>\n",
              "      \n",
              "  <style>\n",
              "    .colab-df-container {\n",
              "      display:flex;\n",
              "      flex-wrap:wrap;\n",
              "      gap: 12px;\n",
              "    }\n",
              "\n",
              "    .colab-df-convert {\n",
              "      background-color: #E8F0FE;\n",
              "      border: none;\n",
              "      border-radius: 50%;\n",
              "      cursor: pointer;\n",
              "      display: none;\n",
              "      fill: #1967D2;\n",
              "      height: 32px;\n",
              "      padding: 0 0 0 0;\n",
              "      width: 32px;\n",
              "    }\n",
              "\n",
              "    .colab-df-convert:hover {\n",
              "      background-color: #E2EBFA;\n",
              "      box-shadow: 0px 1px 2px rgba(60, 64, 67, 0.3), 0px 1px 3px 1px rgba(60, 64, 67, 0.15);\n",
              "      fill: #174EA6;\n",
              "    }\n",
              "\n",
              "    [theme=dark] .colab-df-convert {\n",
              "      background-color: #3B4455;\n",
              "      fill: #D2E3FC;\n",
              "    }\n",
              "\n",
              "    [theme=dark] .colab-df-convert:hover {\n",
              "      background-color: #434B5C;\n",
              "      box-shadow: 0px 1px 3px 1px rgba(0, 0, 0, 0.15);\n",
              "      filter: drop-shadow(0px 1px 2px rgba(0, 0, 0, 0.3));\n",
              "      fill: #FFFFFF;\n",
              "    }\n",
              "  </style>\n",
              "\n",
              "      <script>\n",
              "        const buttonEl =\n",
              "          document.querySelector('#df-1018781f-6445-400e-af9f-4921605d0219 button.colab-df-convert');\n",
              "        buttonEl.style.display =\n",
              "          google.colab.kernel.accessAllowed ? 'block' : 'none';\n",
              "\n",
              "        async function convertToInteractive(key) {\n",
              "          const element = document.querySelector('#df-1018781f-6445-400e-af9f-4921605d0219');\n",
              "          const dataTable =\n",
              "            await google.colab.kernel.invokeFunction('convertToInteractive',\n",
              "                                                     [key], {});\n",
              "          if (!dataTable) return;\n",
              "\n",
              "          const docLinkHtml = 'Like what you see? Visit the ' +\n",
              "            '<a target=\"_blank\" href=https://colab.research.google.com/notebooks/data_table.ipynb>data table notebook</a>'\n",
              "            + ' to learn more about interactive tables.';\n",
              "          element.innerHTML = '';\n",
              "          dataTable['output_type'] = 'display_data';\n",
              "          await google.colab.output.renderOutput(dataTable, element);\n",
              "          const docLink = document.createElement('div');\n",
              "          docLink.innerHTML = docLinkHtml;\n",
              "          element.appendChild(docLink);\n",
              "        }\n",
              "      </script>\n",
              "    </div>\n",
              "  </div>\n",
              "  "
            ]
          },
          "metadata": {}
        },
        {
          "output_type": "stream",
          "name": "stdout",
          "text": [
            "\n",
            "\n",
            "Mean of the diff Column = 6.829312660106834 \n",
            "\n",
            "standard deviation of the diff column = 5.040139140132317 \n",
            "\n"
          ]
        },
        {
          "output_type": "display_data",
          "data": {
            "text/plain": [
              "<Figure size 640x480 with 1 Axes>"
            ],
            "image/png": "[encoded data removed]"
          },
          "metadata": {}
        }
      ]
    },
    {
      "cell_type": "markdown",
      "source": [
        "#### **Using `ttest()`**"
      ],
      "metadata": {
        "id": "HBr_eKj79Am8"
      }
    },
    {
      "cell_type": "code",
      "source": [
        "!pip install pingouin -q"
      ],
      "metadata": {
        "colab": {
          "base_uri": "https://localhost:8080/"
        },
        "id": "1iYJagSo9P6z",
        "outputId": "359b2cdf-bd16-4a7d-da05-95969f8c1003"
      },
      "execution_count": 30,
      "outputs": [
        {
          "output_type": "stream",
          "name": "stdout",
          "text": [
            "\u001b[?25l     \u001b[90m━━━━━━━━━━━━━━━━━━━━━━━━━━━━━━━━━━━━━━━━\u001b[0m \u001b[32m0.0/198.6 kB\u001b[0m \u001b[31m?\u001b[0m eta \u001b[36m-:--:--\u001b[0m\r\u001b[2K     \u001b[90m━━━━━━━━━━━━━━━━━━━━━━━━━━━━━━━━━━━━━━━\u001b[0m \u001b[32m198.6/198.6 kB\u001b[0m \u001b[31m6.2 MB/s\u001b[0m eta \u001b[36m0:00:00\u001b[0m\n",
            "\u001b[?25h  Preparing metadata (setup.py) ... \u001b[?25l\u001b[?25hdone\n",
            "  Building wheel for littleutils (setup.py) ... \u001b[?25l\u001b[?25hdone\n"
          ]
        }
      ]
    },
    {
      "cell_type": "code",
      "source": [
        "import pingouin as pg\n",
        "\n",
        "# Conduct a t-test on 'diff'\n",
        "ttest_results = pg.ttest(sample_dem_data['diff'],\n",
        "                         y=0,\n",
        "                         alternative='two-sided')\n",
        "\n",
        "# Print the t-test results\n",
        "print(\"T-test results:\")\n",
        "display(ttest_results)\n",
        "print(\"\\n\")\n",
        "\n",
        "# Conduct a paired t-test on 'dem_percent_12' and 'dem_percent_16'\n",
        "paired_ttest_results = pg.ttest(sample_dem_data['dem_percent_12'],\n",
        "                                sample_dem_data['dem_percent_16'],\n",
        "                                paired=True,\n",
        "                                alternative='two-sided')\n",
        "\n",
        "# Print the paired t-test results\n",
        "print(\"Paired t-test results:\")\n",
        "display(paired_ttest_results)"
      ],
      "metadata": {
        "colab": {
          "base_uri": "https://localhost:8080/",
          "height": 214
        },
        "id": "pDU83iLF9F1D",
        "outputId": "4c00ce71-397c-4432-a26f-3dd375922690"
      },
      "execution_count": 31,
      "outputs": [
        {
          "output_type": "stream",
          "name": "stdout",
          "text": [
            "T-test results:\n"
          ]
        },
        {
          "output_type": "display_data",
          "data": {
            "text/plain": [
              "                T  dof alternative          p-val         CI95%   cohen-d  \\\n",
              "T-test  30.298384  499   two-sided  3.600634e-115  [6.39, 7.27]  1.354985   \n",
              "\n",
              "              BF10  power  \n",
              "T-test  2.246e+111    1.0  "
            ],
            "text/html": [
              "\n",
              "  <div id=\"df-a52c059a-0dc0-4580-acfd-d6c0d433789c\">\n",
              "    <div class=\"colab-df-container\">\n",
              "      <div>\n",
              "<style scoped>\n",
              "    .dataframe tbody tr th:only-of-type {\n",
              "        vertical-align: middle;\n",
              "    }\n",
              "\n",
              "    .dataframe tbody tr th {\n",
              "        vertical-align: top;\n",
              "    }\n",
              "\n",
              "    .dataframe thead th {\n",
              "        text-align: right;\n",
              "    }\n",
              "</style>\n",
              "<table border=\"1\" class=\"dataframe\">\n",
              "  <thead>\n",
              "    <tr style=\"text-align: right;\">\n",
              "      <th></th>\n",
              "      <th>T</th>\n",
              "      <th>dof</th>\n",
              "      <th>alternative</th>\n",
              "      <th>p-val</th>\n",
              "      <th>CI95%</th>\n",
              "      <th>cohen-d</th>\n",
              "      <th>BF10</th>\n",
              "      <th>power</th>\n",
              "    </tr>\n",
              "  </thead>\n",
              "  <tbody>\n",
              "    <tr>\n",
              "      <th>T-test</th>\n",
              "      <td>30.298384</td>\n",
              "      <td>499</td>\n",
              "      <td>two-sided</td>\n",
              "      <td>3.600634e-115</td>\n",
              "      <td>[6.39, 7.27]</td>\n",
              "      <td>1.354985</td>\n",
              "      <td>2.246e+111</td>\n",
              "      <td>1.0</td>\n",
              "    </tr>\n",
              "  </tbody>\n",
              "</table>\n",
              "</div>\n",
              "      <button class=\"colab-df-convert\" onclick=\"convertToInteractive('df-a52c059a-0dc0-4580-acfd-d6c0d433789c')\"\n",
              "              title=\"Convert this dataframe to an interactive table.\"\n",
              "              style=\"display:none;\">\n",
              "        \n",
              "  <svg xmlns=\"http://www.w3.org/2000/svg\" height=\"24px\"viewBox=\"0 0 24 24\"\n",
              "       width=\"24px\">\n",
              "    <path d=\"M0 0h24v24H0V0z\" fill=\"none\"/>\n",
              "    <path d=\"M18.56 5.44l.94 2.06.94-2.06 2.06-.94-2.06-.94-.94-2.06-.94 2.06-2.06.94zm-11 1L8.5 8.5l.94-2.06 2.06-.94-2.06-.94L8.5 2.5l-.94 2.06-2.06.94zm10 10l.94 2.06.94-2.06 2.06-.94-2.06-.94-.94-2.06-.94 2.06-2.06.94z\"/><path d=\"M17.41 7.96l-1.37-1.37c-.4-.4-.92-.59-1.43-.59-.52 0-1.04.2-1.43.59L10.3 9.45l-7.72 7.72c-.78.78-.78 2.05 0 2.83L4 21.41c.39.39.9.59 1.41.59.51 0 1.02-.2 1.41-.59l7.78-7.78 2.81-2.81c.8-.78.8-2.07 0-2.86zM5.41 20L4 18.59l7.72-7.72 1.47 1.35L5.41 20z\"/>\n",
              "  </svg>\n",
              "      </button>\n",
              "      \n",
              "  <style>\n",
              "    .colab-df-container {\n",
              "      display:flex;\n",
              "      flex-wrap:wrap;\n",
              "      gap: 12px;\n",
              "    }\n",
              "\n",
              "    .colab-df-convert {\n",
              "      background-color: #E8F0FE;\n",
              "      border: none;\n",
              "      border-radius: 50%;\n",
              "      cursor: pointer;\n",
              "      display: none;\n",
              "      fill: #1967D2;\n",
              "      height: 32px;\n",
              "      padding: 0 0 0 0;\n",
              "      width: 32px;\n",
              "    }\n",
              "\n",
              "    .colab-df-convert:hover {\n",
              "      background-color: #E2EBFA;\n",
              "      box-shadow: 0px 1px 2px rgba(60, 64, 67, 0.3), 0px 1px 3px 1px rgba(60, 64, 67, 0.15);\n",
              "      fill: #174EA6;\n",
              "    }\n",
              "\n",
              "    [theme=dark] .colab-df-convert {\n",
              "      background-color: #3B4455;\n",
              "      fill: #D2E3FC;\n",
              "    }\n",
              "\n",
              "    [theme=dark] .colab-df-convert:hover {\n",
              "      background-color: #434B5C;\n",
              "      box-shadow: 0px 1px 3px 1px rgba(0, 0, 0, 0.15);\n",
              "      filter: drop-shadow(0px 1px 2px rgba(0, 0, 0, 0.3));\n",
              "      fill: #FFFFFF;\n",
              "    }\n",
              "  </style>\n",
              "\n",
              "      <script>\n",
              "        const buttonEl =\n",
              "          document.querySelector('#df-a52c059a-0dc0-4580-acfd-d6c0d433789c button.colab-df-convert');\n",
              "        buttonEl.style.display =\n",
              "          google.colab.kernel.accessAllowed ? 'block' : 'none';\n",
              "\n",
              "        async function convertToInteractive(key) {\n",
              "          const element = document.querySelector('#df-a52c059a-0dc0-4580-acfd-d6c0d433789c');\n",
              "          const dataTable =\n",
              "            await google.colab.kernel.invokeFunction('convertToInteractive',\n",
              "                                                     [key], {});\n",
              "          if (!dataTable) return;\n",
              "\n",
              "          const docLinkHtml = 'Like what you see? Visit the ' +\n",
              "            '<a target=\"_blank\" href=https://colab.research.google.com/notebooks/data_table.ipynb>data table notebook</a>'\n",
              "            + ' to learn more about interactive tables.';\n",
              "          element.innerHTML = '';\n",
              "          dataTable['output_type'] = 'display_data';\n",
              "          await google.colab.output.renderOutput(dataTable, element);\n",
              "          const docLink = document.createElement('div');\n",
              "          docLink.innerHTML = docLinkHtml;\n",
              "          element.appendChild(docLink);\n",
              "        }\n",
              "      </script>\n",
              "    </div>\n",
              "  </div>\n",
              "  "
            ]
          },
          "metadata": {}
        },
        {
          "output_type": "stream",
          "name": "stdout",
          "text": [
            "\n",
            "\n",
            "Paired t-test results:\n"
          ]
        },
        {
          "output_type": "display_data",
          "data": {
            "text/plain": [
              "                T  dof alternative          p-val         CI95%   cohen-d  \\\n",
              "T-test  30.298384  499   two-sided  3.600634e-115  [6.39, 7.27]  0.454202   \n",
              "\n",
              "              BF10  power  \n",
              "T-test  2.246e+111    1.0  "
            ],
            "text/html": [
              "\n",
              "  <div id=\"df-15a2a1c1-cf03-48a8-bf99-d8217aa47154\">\n",
              "    <div class=\"colab-df-container\">\n",
              "      <div>\n",
              "<style scoped>\n",
              "    .dataframe tbody tr th:only-of-type {\n",
              "        vertical-align: middle;\n",
              "    }\n",
              "\n",
              "    .dataframe tbody tr th {\n",
              "        vertical-align: top;\n",
              "    }\n",
              "\n",
              "    .dataframe thead th {\n",
              "        text-align: right;\n",
              "    }\n",
              "</style>\n",
              "<table border=\"1\" class=\"dataframe\">\n",
              "  <thead>\n",
              "    <tr style=\"text-align: right;\">\n",
              "      <th></th>\n",
              "      <th>T</th>\n",
              "      <th>dof</th>\n",
              "      <th>alternative</th>\n",
              "      <th>p-val</th>\n",
              "      <th>CI95%</th>\n",
              "      <th>cohen-d</th>\n",
              "      <th>BF10</th>\n",
              "      <th>power</th>\n",
              "    </tr>\n",
              "  </thead>\n",
              "  <tbody>\n",
              "    <tr>\n",
              "      <th>T-test</th>\n",
              "      <td>30.298384</td>\n",
              "      <td>499</td>\n",
              "      <td>two-sided</td>\n",
              "      <td>3.600634e-115</td>\n",
              "      <td>[6.39, 7.27]</td>\n",
              "      <td>0.454202</td>\n",
              "      <td>2.246e+111</td>\n",
              "      <td>1.0</td>\n",
              "    </tr>\n",
              "  </tbody>\n",
              "</table>\n",
              "</div>\n",
              "      <button class=\"colab-df-convert\" onclick=\"convertToInteractive('df-15a2a1c1-cf03-48a8-bf99-d8217aa47154')\"\n",
              "              title=\"Convert this dataframe to an interactive table.\"\n",
              "              style=\"display:none;\">\n",
              "        \n",
              "  <svg xmlns=\"http://www.w3.org/2000/svg\" height=\"24px\"viewBox=\"0 0 24 24\"\n",
              "       width=\"24px\">\n",
              "    <path d=\"M0 0h24v24H0V0z\" fill=\"none\"/>\n",
              "    <path d=\"M18.56 5.44l.94 2.06.94-2.06 2.06-.94-2.06-.94-.94-2.06-.94 2.06-2.06.94zm-11 1L8.5 8.5l.94-2.06 2.06-.94-2.06-.94L8.5 2.5l-.94 2.06-2.06.94zm10 10l.94 2.06.94-2.06 2.06-.94-2.06-.94-.94-2.06-.94 2.06-2.06.94z\"/><path d=\"M17.41 7.96l-1.37-1.37c-.4-.4-.92-.59-1.43-.59-.52 0-1.04.2-1.43.59L10.3 9.45l-7.72 7.72c-.78.78-.78 2.05 0 2.83L4 21.41c.39.39.9.59 1.41.59.51 0 1.02-.2 1.41-.59l7.78-7.78 2.81-2.81c.8-.78.8-2.07 0-2.86zM5.41 20L4 18.59l7.72-7.72 1.47 1.35L5.41 20z\"/>\n",
              "  </svg>\n",
              "      </button>\n",
              "      \n",
              "  <style>\n",
              "    .colab-df-container {\n",
              "      display:flex;\n",
              "      flex-wrap:wrap;\n",
              "      gap: 12px;\n",
              "    }\n",
              "\n",
              "    .colab-df-convert {\n",
              "      background-color: #E8F0FE;\n",
              "      border: none;\n",
              "      border-radius: 50%;\n",
              "      cursor: pointer;\n",
              "      display: none;\n",
              "      fill: #1967D2;\n",
              "      height: 32px;\n",
              "      padding: 0 0 0 0;\n",
              "      width: 32px;\n",
              "    }\n",
              "\n",
              "    .colab-df-convert:hover {\n",
              "      background-color: #E2EBFA;\n",
              "      box-shadow: 0px 1px 2px rgba(60, 64, 67, 0.3), 0px 1px 3px 1px rgba(60, 64, 67, 0.15);\n",
              "      fill: #174EA6;\n",
              "    }\n",
              "\n",
              "    [theme=dark] .colab-df-convert {\n",
              "      background-color: #3B4455;\n",
              "      fill: #D2E3FC;\n",
              "    }\n",
              "\n",
              "    [theme=dark] .colab-df-convert:hover {\n",
              "      background-color: #434B5C;\n",
              "      box-shadow: 0px 1px 3px 1px rgba(0, 0, 0, 0.15);\n",
              "      filter: drop-shadow(0px 1px 2px rgba(0, 0, 0, 0.3));\n",
              "      fill: #FFFFFF;\n",
              "    }\n",
              "  </style>\n",
              "\n",
              "      <script>\n",
              "        const buttonEl =\n",
              "          document.querySelector('#df-15a2a1c1-cf03-48a8-bf99-d8217aa47154 button.colab-df-convert');\n",
              "        buttonEl.style.display =\n",
              "          google.colab.kernel.accessAllowed ? 'block' : 'none';\n",
              "\n",
              "        async function convertToInteractive(key) {\n",
              "          const element = document.querySelector('#df-15a2a1c1-cf03-48a8-bf99-d8217aa47154');\n",
              "          const dataTable =\n",
              "            await google.colab.kernel.invokeFunction('convertToInteractive',\n",
              "                                                     [key], {});\n",
              "          if (!dataTable) return;\n",
              "\n",
              "          const docLinkHtml = 'Like what you see? Visit the ' +\n",
              "            '<a target=\"_blank\" href=https://colab.research.google.com/notebooks/data_table.ipynb>data table notebook</a>'\n",
              "            + ' to learn more about interactive tables.';\n",
              "          element.innerHTML = '';\n",
              "          dataTable['output_type'] = 'display_data';\n",
              "          await google.colab.output.renderOutput(dataTable, element);\n",
              "          const docLink = document.createElement('div');\n",
              "          docLink.innerHTML = docLinkHtml;\n",
              "          element.appendChild(docLink);\n",
              "        }\n",
              "      </script>\n",
              "    </div>\n",
              "  </div>\n",
              "  "
            ]
          },
          "metadata": {}
        }
      ]
    },
    {
      "cell_type": "markdown",
      "source": [
        "| **Aspect**         | **Paired t-test**                                         | **Unpaired t-test**                                   |\n",
        "|--------------------|----------------------------------------------------------|------------------------------------------------------|\n",
        "| Data               | Paired or matched observations                            | Independent and unrelated observations                |\n",
        "| Purpose            | Compare means within the same subjects or entities        | Compare means between separate groups of subjects     |\n",
        "| Assumption         | The differences between paired observations are normally distributed | The data in each group is normally distributed |\n",
        "| Hypotheses         | Null hypothesis: No significant difference between the means of paired observations | Null hypothesis: No significant difference between the means of two independent groups |\n",
        "| Test statistic     | t-statistic                                               | t-statistic                                           |\n",
        "| Degrees of freedom | Based on the number of pairs (n-1)                        | Based on the sample sizes of the two groups (n1 + n2 - 2) |\n",
        "| Calculation        | Mean of the differences between paired observations       | Difference in means between the two groups            |\n",
        "| P-value interpretation | P-value indicates the probability of observing the observed difference (or more extreme) if the null hypothesis is true | P-value indicates the probability of observing the observed difference (or more extreme) if the null hypothesis is true |\n",
        "| P-value significance | A small p-value (typically less than 0.05) suggests strong evidence against the null hypothesis, indicating a significant difference between the means | A small p-value (typically less than 0.05) suggests strong evidence against the null hypothesis, indicating a significant difference between the means |\n"
      ],
      "metadata": {
        "id": "QQTUs-xCDOya"
      }
    },
    {
      "cell_type": "markdown",
      "source": [
        "## **`ANOVA` tests**\n"
      ],
      "metadata": {
        "id": "0YAIdzaHG3l3"
      }
    },
    {
      "cell_type": "code",
      "source": [
        "import scipy.stats as stats\n",
        "\n",
        "# Heights of plants in each treatment group\n",
        "treatment_A = [10, 12, 14, 11, 9, 13, 10, 12, 11, 14, 9, 10, 12, 13, 11, 10, 12, 11, 13, 14]\n",
        "treatment_B = [15, 17, 16, 14, 18, 15, 16, 17, 16, 15, 16, 17, 14, 15, 16, 17, 15, 16, 15, 17]\n",
        "treatment_C = [20, 22, 23, 21, 19, 20, 22, 21, 22, 23, 21, 19, 20, 22, 21, 20, 19, 20, 21, 23]\n",
        "\n",
        "# Perform one-way ANOVA\n",
        "statistic, p_value = stats.f_oneway(treatment_A, treatment_B, treatment_C)\n",
        "\n",
        "# Print the results\n",
        "print(\"One-way ANOVA results:\")\n",
        "print(\"F-statistic:\", statistic)\n",
        "print(\"p-value:\", p_value)\n",
        "\n",
        "# Chosen significance level (α)\n",
        "alpha = 0.05\n",
        "\n",
        "# Degrees of freedom\n",
        "df_between = 2  # Number of treatment groups - 1\n",
        "df_within = 57  # Total number of observations - Number of treatment groups\n",
        "\n",
        "# Calculate the critical value\n",
        "critical_value = stats.f.ppf(1 - alpha, df_between, df_within)\n",
        "\n",
        "# Determine if the null hypothesis is rejected\n",
        "if p_value < alpha:\n",
        "    print(\"Reject the null hypothesis.\")\n",
        "else:\n",
        "    print(\"Fail to reject the null hypothesis.\")\n",
        "\n",
        "# Calculate the confidence interval\n",
        "mean_values = [np.mean(treatment_A), np.mean(treatment_B), np.mean(treatment_C)]\n",
        "overall_mean = np.mean(mean_values)\n",
        "group_sizes = [len(treatment_A), len(treatment_B), len(treatment_C)]\n",
        "mean_square_within = np.mean([np.var(treatment_A), np.var(treatment_B), np.var(treatment_C)])\n",
        "\n",
        "margin_of_error = critical_value * np.sqrt(mean_square_within / np.sum(group_sizes))\n",
        "\n",
        "confidence_interval = (overall_mean - margin_of_error, overall_mean + margin_of_error)\n",
        "print(\"Confidence Interval:\", confidence_interval)"
      ],
      "metadata": {
        "colab": {
          "base_uri": "https://localhost:8080/"
        },
        "id": "KUYBZEZyEjgp",
        "outputId": "c7272d17-be1b-4d0c-ac35-f64dac0642e3"
      },
      "execution_count": 32,
      "outputs": [
        {
          "output_type": "stream",
          "name": "stdout",
          "text": [
            "One-way ANOVA results:\n",
            "F-statistic: 241.6792723791287\n",
            "p-value: 1.4487575739598525e-28\n",
            "Reject the null hypothesis.\n",
            "Confidence Interval: (15.578606335709518, 16.654726997623808)\n"
          ]
        }
      ]
    },
    {
      "cell_type": "markdown",
      "source": [
        "#### **Visualizing many categories** - **Conducting an ANOVA test**\n"
      ],
      "metadata": {
        "id": "hCclbBkWG49n"
      }
    },
    {
      "cell_type": "code",
      "source": [
        "# Calculate the mean pack_price for each shipment_mode\n",
        "xbar_pack_by_mode = late_shipments.groupby(\"shipment_mode\")['pack_price'].mean()\n",
        "\n",
        "# Print the grouped means\n",
        "print(\"The grouped means\", xbar_pack_by_mode)\n",
        "print(\"\\n\")\n",
        "\n",
        "# Calculate the standard deviation of the pack_price for each shipment_mode\n",
        "s_pack_by_mode = late_shipments.groupby(\"shipment_mode\")['pack_price'].std()\n",
        "\n",
        "# Print the grouped standard deviations\n",
        "print(\"The grouped standard deviations\",s_pack_by_mode)\n",
        "print(\"\\n\")\n",
        "\n",
        "\n",
        "# Boxplot of shipment_mode vs. pack_price\n",
        "sns.boxplot(x=\"pack_price\", y=\"shipment_mode\", data=late_shipments)\n",
        "plt.show()"
      ],
      "metadata": {
        "colab": {
          "base_uri": "https://localhost:8080/",
          "height": 693
        },
        "id": "uFq_n7xED8hW",
        "outputId": "7fc5d73e-427a-46c6-d590-2ecec73fabaa"
      },
      "execution_count": 33,
      "outputs": [
        {
          "output_type": "stream",
          "name": "stdout",
          "text": [
            "The grouped means shipment_mode\n",
            "Air            39.712395\n",
            "Air Charter     4.226667\n",
            "Ocean           6.432273\n",
            "Name: pack_price, dtype: float64\n",
            "\n",
            "\n",
            "The grouped standard deviations shipment_mode\n",
            "Air            48.932861\n",
            "Air Charter     0.992969\n",
            "Ocean           5.303047\n",
            "Name: pack_price, dtype: float64\n",
            "\n",
            "\n"
          ]
        },
        {
          "output_type": "display_data",
          "data": {
            "text/plain": [
              "<Figure size 640x480 with 1 Axes>"
            ],
            "image/png": "[encoded data removed]"
          },
          "metadata": {}
        }
      ]
    },
    {
      "cell_type": "code",
      "source": [
        "import pingouin as pg\n",
        "\n",
        "# Run an ANOVA for pack_price across shipment_mode\n",
        "anova_results = pg.anova(data=late_shipments,\n",
        "                        dv=\"pack_price\",\n",
        "                        between=\"shipment_mode\")\n",
        "\n",
        "# Print anova_results\n",
        "display(anova_results)"
      ],
      "metadata": {
        "colab": {
          "base_uri": "https://localhost:8080/",
          "height": 81
        },
        "id": "4i5fqnivEFAM",
        "outputId": "936db48c-635a-4694-c8cd-7de52e5d3ec3"
      },
      "execution_count": 34,
      "outputs": [
        {
          "output_type": "display_data",
          "data": {
            "text/plain": [
              "          Source  ddof1  ddof2        F         p-unc       np2\n",
              "0  shipment_mode      2    997  21.8646  5.089479e-10  0.042018"
            ],
            "text/html": [
              "\n",
              "  <div id=\"df-16d2058c-293b-4dc8-bce5-f13c49200b1b\">\n",
              "    <div class=\"colab-df-container\">\n",
              "      <div>\n",
              "<style scoped>\n",
              "    .dataframe tbody tr th:only-of-type {\n",
              "        vertical-align: middle;\n",
              "    }\n",
              "\n",
              "    .dataframe tbody tr th {\n",
              "        vertical-align: top;\n",
              "    }\n",
              "\n",
              "    .dataframe thead th {\n",
              "        text-align: right;\n",
              "    }\n",
              "</style>\n",
              "<table border=\"1\" class=\"dataframe\">\n",
              "  <thead>\n",
              "    <tr style=\"text-align: right;\">\n",
              "      <th></th>\n",
              "      <th>Source</th>\n",
              "      <th>ddof1</th>\n",
              "      <th>ddof2</th>\n",
              "      <th>F</th>\n",
              "      <th>p-unc</th>\n",
              "      <th>np2</th>\n",
              "    </tr>\n",
              "  </thead>\n",
              "  <tbody>\n",
              "    <tr>\n",
              "      <th>0</th>\n",
              "      <td>shipment_mode</td>\n",
              "      <td>2</td>\n",
              "      <td>997</td>\n",
              "      <td>21.8646</td>\n",
              "      <td>5.089479e-10</td>\n",
              "      <td>0.042018</td>\n",
              "    </tr>\n",
              "  </tbody>\n",
              "</table>\n",
              "</div>\n",
              "      <button class=\"colab-df-convert\" onclick=\"convertToInteractive('df-16d2058c-293b-4dc8-bce5-f13c49200b1b')\"\n",
              "              title=\"Convert this dataframe to an interactive table.\"\n",
              "              style=\"display:none;\">\n",
              "        \n",
              "  <svg xmlns=\"http://www.w3.org/2000/svg\" height=\"24px\"viewBox=\"0 0 24 24\"\n",
              "       width=\"24px\">\n",
              "    <path d=\"M0 0h24v24H0V0z\" fill=\"none\"/>\n",
              "    <path d=\"M18.56 5.44l.94 2.06.94-2.06 2.06-.94-2.06-.94-.94-2.06-.94 2.06-2.06.94zm-11 1L8.5 8.5l.94-2.06 2.06-.94-2.06-.94L8.5 2.5l-.94 2.06-2.06.94zm10 10l.94 2.06.94-2.06 2.06-.94-2.06-.94-.94-2.06-.94 2.06-2.06.94z\"/><path d=\"M17.41 7.96l-1.37-1.37c-.4-.4-.92-.59-1.43-.59-.52 0-1.04.2-1.43.59L10.3 9.45l-7.72 7.72c-.78.78-.78 2.05 0 2.83L4 21.41c.39.39.9.59 1.41.59.51 0 1.02-.2 1.41-.59l7.78-7.78 2.81-2.81c.8-.78.8-2.07 0-2.86zM5.41 20L4 18.59l7.72-7.72 1.47 1.35L5.41 20z\"/>\n",
              "  </svg>\n",
              "      </button>\n",
              "      \n",
              "  <style>\n",
              "    .colab-df-container {\n",
              "      display:flex;\n",
              "      flex-wrap:wrap;\n",
              "      gap: 12px;\n",
              "    }\n",
              "\n",
              "    .colab-df-convert {\n",
              "      background-color: #E8F0FE;\n",
              "      border: none;\n",
              "      border-radius: 50%;\n",
              "      cursor: pointer;\n",
              "      display: none;\n",
              "      fill: #1967D2;\n",
              "      height: 32px;\n",
              "      padding: 0 0 0 0;\n",
              "      width: 32px;\n",
              "    }\n",
              "\n",
              "    .colab-df-convert:hover {\n",
              "      background-color: #E2EBFA;\n",
              "      box-shadow: 0px 1px 2px rgba(60, 64, 67, 0.3), 0px 1px 3px 1px rgba(60, 64, 67, 0.15);\n",
              "      fill: #174EA6;\n",
              "    }\n",
              "\n",
              "    [theme=dark] .colab-df-convert {\n",
              "      background-color: #3B4455;\n",
              "      fill: #D2E3FC;\n",
              "    }\n",
              "\n",
              "    [theme=dark] .colab-df-convert:hover {\n",
              "      background-color: #434B5C;\n",
              "      box-shadow: 0px 1px 3px 1px rgba(0, 0, 0, 0.15);\n",
              "      filter: drop-shadow(0px 1px 2px rgba(0, 0, 0, 0.3));\n",
              "      fill: #FFFFFF;\n",
              "    }\n",
              "  </style>\n",
              "\n",
              "      <script>\n",
              "        const buttonEl =\n",
              "          document.querySelector('#df-16d2058c-293b-4dc8-bce5-f13c49200b1b button.colab-df-convert');\n",
              "        buttonEl.style.display =\n",
              "          google.colab.kernel.accessAllowed ? 'block' : 'none';\n",
              "\n",
              "        async function convertToInteractive(key) {\n",
              "          const element = document.querySelector('#df-16d2058c-293b-4dc8-bce5-f13c49200b1b');\n",
              "          const dataTable =\n",
              "            await google.colab.kernel.invokeFunction('convertToInteractive',\n",
              "                                                     [key], {});\n",
              "          if (!dataTable) return;\n",
              "\n",
              "          const docLinkHtml = 'Like what you see? Visit the ' +\n",
              "            '<a target=\"_blank\" href=https://colab.research.google.com/notebooks/data_table.ipynb>data table notebook</a>'\n",
              "            + ' to learn more about interactive tables.';\n",
              "          element.innerHTML = '';\n",
              "          dataTable['output_type'] = 'display_data';\n",
              "          await google.colab.output.renderOutput(dataTable, element);\n",
              "          const docLink = document.createElement('div');\n",
              "          docLink.innerHTML = docLinkHtml;\n",
              "          element.appendChild(docLink);\n",
              "        }\n",
              "      </script>\n",
              "    </div>\n",
              "  </div>\n",
              "  "
            ]
          },
          "metadata": {}
        }
      ]
    },
    {
      "cell_type": "markdown",
      "source": [
        "**Assuming a significance level of `0.1`, should you reject the null hypothesis that there is no difference in pack prices between shipment modes?**\n",
        "\n",
        "\n",
        ">`Yes`! The p-value is less than or equal to the significance level, so the null hypothesis should be rejected.\n"
      ],
      "metadata": {
        "id": "pFxljvRbFqnI"
      }
    },
    {
      "cell_type": "markdown",
      "source": [
        "#### **Pairwise t-tests**"
      ],
      "metadata": {
        "id": "-be8J33CG9hH"
      }
    },
    {
      "cell_type": "code",
      "source": [
        "import pingouin as pg\n",
        "\n",
        "# Perform a pairwise t-test on pack price, grouped by shipment mode\n",
        "pairwise_results = pg.pairwise_tests(data= late_shipments,\n",
        "                                            dv = 'pack_price',\n",
        "                                            between = 'shipment_mode')\n",
        "\n",
        "# Print pairwise_results\n",
        "display(pairwise_results)"
      ],
      "metadata": {
        "colab": {
          "base_uri": "https://localhost:8080/",
          "height": 143
        },
        "id": "xZFdmlPaKqUz",
        "outputId": "60aee5db-7eab-43ae-8269-8df60b9fc7f0"
      },
      "execution_count": 35,
      "outputs": [
        {
          "output_type": "display_data",
          "data": {
            "text/plain": [
              "        Contrast            A            B  Paired  Parametric          T  \\\n",
              "0  shipment_mode          Air  Air Charter   False        True  21.179625   \n",
              "1  shipment_mode          Air        Ocean   False        True  19.335760   \n",
              "2  shipment_mode  Air Charter        Ocean   False        True  -3.170654   \n",
              "\n",
              "          dof alternative         p-unc       BF10    hedges  \n",
              "0  600.685682   two-sided  8.748346e-75  5.809e+76  0.726592  \n",
              "1  986.979785   two-sided  6.934555e-71  1.129e+67  0.711119  \n",
              "2   35.615026   two-sided  3.123012e-03     15.277 -0.423775  "
            ],
            "text/html": [
              "\n",
              "  <div id=\"df-596e76fa-4f01-498a-8ca2-ae1a31569968\">\n",
              "    <div class=\"colab-df-container\">\n",
              "      <div>\n",
              "<style scoped>\n",
              "    .dataframe tbody tr th:only-of-type {\n",
              "        vertical-align: middle;\n",
              "    }\n",
              "\n",
              "    .dataframe tbody tr th {\n",
              "        vertical-align: top;\n",
              "    }\n",
              "\n",
              "    .dataframe thead th {\n",
              "        text-align: right;\n",
              "    }\n",
              "</style>\n",
              "<table border=\"1\" class=\"dataframe\">\n",
              "  <thead>\n",
              "    <tr style=\"text-align: right;\">\n",
              "      <th></th>\n",
              "      <th>Contrast</th>\n",
              "      <th>A</th>\n",
              "      <th>B</th>\n",
              "      <th>Paired</th>\n",
              "      <th>Parametric</th>\n",
              "      <th>T</th>\n",
              "      <th>dof</th>\n",
              "      <th>alternative</th>\n",
              "      <th>p-unc</th>\n",
              "      <th>BF10</th>\n",
              "      <th>hedges</th>\n",
              "    </tr>\n",
              "  </thead>\n",
              "  <tbody>\n",
              "    <tr>\n",
              "      <th>0</th>\n",
              "      <td>shipment_mode</td>\n",
              "      <td>Air</td>\n",
              "      <td>Air Charter</td>\n",
              "      <td>False</td>\n",
              "      <td>True</td>\n",
              "      <td>21.179625</td>\n",
              "      <td>600.685682</td>\n",
              "      <td>two-sided</td>\n",
              "      <td>8.748346e-75</td>\n",
              "      <td>5.809e+76</td>\n",
              "      <td>0.726592</td>\n",
              "    </tr>\n",
              "    <tr>\n",
              "      <th>1</th>\n",
              "      <td>shipment_mode</td>\n",
              "      <td>Air</td>\n",
              "      <td>Ocean</td>\n",
              "      <td>False</td>\n",
              "      <td>True</td>\n",
              "      <td>19.335760</td>\n",
              "      <td>986.979785</td>\n",
              "      <td>two-sided</td>\n",
              "      <td>6.934555e-71</td>\n",
              "      <td>1.129e+67</td>\n",
              "      <td>0.711119</td>\n",
              "    </tr>\n",
              "    <tr>\n",
              "      <th>2</th>\n",
              "      <td>shipment_mode</td>\n",
              "      <td>Air Charter</td>\n",
              "      <td>Ocean</td>\n",
              "      <td>False</td>\n",
              "      <td>True</td>\n",
              "      <td>-3.170654</td>\n",
              "      <td>35.615026</td>\n",
              "      <td>two-sided</td>\n",
              "      <td>3.123012e-03</td>\n",
              "      <td>15.277</td>\n",
              "      <td>-0.423775</td>\n",
              "    </tr>\n",
              "  </tbody>\n",
              "</table>\n",
              "</div>\n",
              "      <button class=\"colab-df-convert\" onclick=\"convertToInteractive('df-596e76fa-4f01-498a-8ca2-ae1a31569968')\"\n",
              "              title=\"Convert this dataframe to an interactive table.\"\n",
              "              style=\"display:none;\">\n",
              "        \n",
              "  <svg xmlns=\"http://www.w3.org/2000/svg\" height=\"24px\"viewBox=\"0 0 24 24\"\n",
              "       width=\"24px\">\n",
              "    <path d=\"M0 0h24v24H0V0z\" fill=\"none\"/>\n",
              "    <path d=\"M18.56 5.44l.94 2.06.94-2.06 2.06-.94-2.06-.94-.94-2.06-.94 2.06-2.06.94zm-11 1L8.5 8.5l.94-2.06 2.06-.94-2.06-.94L8.5 2.5l-.94 2.06-2.06.94zm10 10l.94 2.06.94-2.06 2.06-.94-2.06-.94-.94-2.06-.94 2.06-2.06.94z\"/><path d=\"M17.41 7.96l-1.37-1.37c-.4-.4-.92-.59-1.43-.59-.52 0-1.04.2-1.43.59L10.3 9.45l-7.72 7.72c-.78.78-.78 2.05 0 2.83L4 21.41c.39.39.9.59 1.41.59.51 0 1.02-.2 1.41-.59l7.78-7.78 2.81-2.81c.8-.78.8-2.07 0-2.86zM5.41 20L4 18.59l7.72-7.72 1.47 1.35L5.41 20z\"/>\n",
              "  </svg>\n",
              "      </button>\n",
              "      \n",
              "  <style>\n",
              "    .colab-df-container {\n",
              "      display:flex;\n",
              "      flex-wrap:wrap;\n",
              "      gap: 12px;\n",
              "    }\n",
              "\n",
              "    .colab-df-convert {\n",
              "      background-color: #E8F0FE;\n",
              "      border: none;\n",
              "      border-radius: 50%;\n",
              "      cursor: pointer;\n",
              "      display: none;\n",
              "      fill: #1967D2;\n",
              "      height: 32px;\n",
              "      padding: 0 0 0 0;\n",
              "      width: 32px;\n",
              "    }\n",
              "\n",
              "    .colab-df-convert:hover {\n",
              "      background-color: #E2EBFA;\n",
              "      box-shadow: 0px 1px 2px rgba(60, 64, 67, 0.3), 0px 1px 3px 1px rgba(60, 64, 67, 0.15);\n",
              "      fill: #174EA6;\n",
              "    }\n",
              "\n",
              "    [theme=dark] .colab-df-convert {\n",
              "      background-color: #3B4455;\n",
              "      fill: #D2E3FC;\n",
              "    }\n",
              "\n",
              "    [theme=dark] .colab-df-convert:hover {\n",
              "      background-color: #434B5C;\n",
              "      box-shadow: 0px 1px 3px 1px rgba(0, 0, 0, 0.15);\n",
              "      filter: drop-shadow(0px 1px 2px rgba(0, 0, 0, 0.3));\n",
              "      fill: #FFFFFF;\n",
              "    }\n",
              "  </style>\n",
              "\n",
              "      <script>\n",
              "        const buttonEl =\n",
              "          document.querySelector('#df-596e76fa-4f01-498a-8ca2-ae1a31569968 button.colab-df-convert');\n",
              "        buttonEl.style.display =\n",
              "          google.colab.kernel.accessAllowed ? 'block' : 'none';\n",
              "\n",
              "        async function convertToInteractive(key) {\n",
              "          const element = document.querySelector('#df-596e76fa-4f01-498a-8ca2-ae1a31569968');\n",
              "          const dataTable =\n",
              "            await google.colab.kernel.invokeFunction('convertToInteractive',\n",
              "                                                     [key], {});\n",
              "          if (!dataTable) return;\n",
              "\n",
              "          const docLinkHtml = 'Like what you see? Visit the ' +\n",
              "            '<a target=\"_blank\" href=https://colab.research.google.com/notebooks/data_table.ipynb>data table notebook</a>'\n",
              "            + ' to learn more about interactive tables.';\n",
              "          element.innerHTML = '';\n",
              "          dataTable['output_type'] = 'display_data';\n",
              "          await google.colab.output.renderOutput(dataTable, element);\n",
              "          const docLink = document.createElement('div');\n",
              "          docLink.innerHTML = docLinkHtml;\n",
              "          element.appendChild(docLink);\n",
              "        }\n",
              "      </script>\n",
              "    </div>\n",
              "  </div>\n",
              "  "
            ]
          },
          "metadata": {}
        }
      ]
    },
    {
      "cell_type": "code",
      "source": [
        "import pingouin as pg\n",
        "\n",
        "# Perform a pairwise t-test on pack price, grouped by shipment mode\n",
        "pairwise_results = pg.pairwise_tests(data=late_shipments,\n",
        "                                     dv=\"pack_price\",\n",
        "                                     between=\"shipment_mode\",\n",
        "                                     padjust=\"none\")\n",
        "\n",
        "# Print pairwise_results\n",
        "display(pairwise_results)"
      ],
      "metadata": {
        "colab": {
          "base_uri": "https://localhost:8080/",
          "height": 143
        },
        "id": "_U1zbK6JHgCE",
        "outputId": "2072619a-25d0-4c11-f959-ac96cb54db96"
      },
      "execution_count": 36,
      "outputs": [
        {
          "output_type": "display_data",
          "data": {
            "text/plain": [
              "        Contrast            A            B  Paired  Parametric          T  \\\n",
              "0  shipment_mode          Air  Air Charter   False        True  21.179625   \n",
              "1  shipment_mode          Air        Ocean   False        True  19.335760   \n",
              "2  shipment_mode  Air Charter        Ocean   False        True  -3.170654   \n",
              "\n",
              "          dof alternative         p-unc       BF10    hedges  \n",
              "0  600.685682   two-sided  8.748346e-75  5.809e+76  0.726592  \n",
              "1  986.979785   two-sided  6.934555e-71  1.129e+67  0.711119  \n",
              "2   35.615026   two-sided  3.123012e-03     15.277 -0.423775  "
            ],
            "text/html": [
              "\n",
              "  <div id=\"df-dfa9497b-191b-4315-bbd9-76e38dc1d028\">\n",
              "    <div class=\"colab-df-container\">\n",
              "      <div>\n",
              "<style scoped>\n",
              "    .dataframe tbody tr th:only-of-type {\n",
              "        vertical-align: middle;\n",
              "    }\n",
              "\n",
              "    .dataframe tbody tr th {\n",
              "        vertical-align: top;\n",
              "    }\n",
              "\n",
              "    .dataframe thead th {\n",
              "        text-align: right;\n",
              "    }\n",
              "</style>\n",
              "<table border=\"1\" class=\"dataframe\">\n",
              "  <thead>\n",
              "    <tr style=\"text-align: right;\">\n",
              "      <th></th>\n",
              "      <th>Contrast</th>\n",
              "      <th>A</th>\n",
              "      <th>B</th>\n",
              "      <th>Paired</th>\n",
              "      <th>Parametric</th>\n",
              "      <th>T</th>\n",
              "      <th>dof</th>\n",
              "      <th>alternative</th>\n",
              "      <th>p-unc</th>\n",
              "      <th>BF10</th>\n",
              "      <th>hedges</th>\n",
              "    </tr>\n",
              "  </thead>\n",
              "  <tbody>\n",
              "    <tr>\n",
              "      <th>0</th>\n",
              "      <td>shipment_mode</td>\n",
              "      <td>Air</td>\n",
              "      <td>Air Charter</td>\n",
              "      <td>False</td>\n",
              "      <td>True</td>\n",
              "      <td>21.179625</td>\n",
              "      <td>600.685682</td>\n",
              "      <td>two-sided</td>\n",
              "      <td>8.748346e-75</td>\n",
              "      <td>5.809e+76</td>\n",
              "      <td>0.726592</td>\n",
              "    </tr>\n",
              "    <tr>\n",
              "      <th>1</th>\n",
              "      <td>shipment_mode</td>\n",
              "      <td>Air</td>\n",
              "      <td>Ocean</td>\n",
              "      <td>False</td>\n",
              "      <td>True</td>\n",
              "      <td>19.335760</td>\n",
              "      <td>986.979785</td>\n",
              "      <td>two-sided</td>\n",
              "      <td>6.934555e-71</td>\n",
              "      <td>1.129e+67</td>\n",
              "      <td>0.711119</td>\n",
              "    </tr>\n",
              "    <tr>\n",
              "      <th>2</th>\n",
              "      <td>shipment_mode</td>\n",
              "      <td>Air Charter</td>\n",
              "      <td>Ocean</td>\n",
              "      <td>False</td>\n",
              "      <td>True</td>\n",
              "      <td>-3.170654</td>\n",
              "      <td>35.615026</td>\n",
              "      <td>two-sided</td>\n",
              "      <td>3.123012e-03</td>\n",
              "      <td>15.277</td>\n",
              "      <td>-0.423775</td>\n",
              "    </tr>\n",
              "  </tbody>\n",
              "</table>\n",
              "</div>\n",
              "      <button class=\"colab-df-convert\" onclick=\"convertToInteractive('df-dfa9497b-191b-4315-bbd9-76e38dc1d028')\"\n",
              "              title=\"Convert this dataframe to an interactive table.\"\n",
              "              style=\"display:none;\">\n",
              "        \n",
              "  <svg xmlns=\"http://www.w3.org/2000/svg\" height=\"24px\"viewBox=\"0 0 24 24\"\n",
              "       width=\"24px\">\n",
              "    <path d=\"M0 0h24v24H0V0z\" fill=\"none\"/>\n",
              "    <path d=\"M18.56 5.44l.94 2.06.94-2.06 2.06-.94-2.06-.94-.94-2.06-.94 2.06-2.06.94zm-11 1L8.5 8.5l.94-2.06 2.06-.94-2.06-.94L8.5 2.5l-.94 2.06-2.06.94zm10 10l.94 2.06.94-2.06 2.06-.94-2.06-.94-.94-2.06-.94 2.06-2.06.94z\"/><path d=\"M17.41 7.96l-1.37-1.37c-.4-.4-.92-.59-1.43-.59-.52 0-1.04.2-1.43.59L10.3 9.45l-7.72 7.72c-.78.78-.78 2.05 0 2.83L4 21.41c.39.39.9.59 1.41.59.51 0 1.02-.2 1.41-.59l7.78-7.78 2.81-2.81c.8-.78.8-2.07 0-2.86zM5.41 20L4 18.59l7.72-7.72 1.47 1.35L5.41 20z\"/>\n",
              "  </svg>\n",
              "      </button>\n",
              "      \n",
              "  <style>\n",
              "    .colab-df-container {\n",
              "      display:flex;\n",
              "      flex-wrap:wrap;\n",
              "      gap: 12px;\n",
              "    }\n",
              "\n",
              "    .colab-df-convert {\n",
              "      background-color: #E8F0FE;\n",
              "      border: none;\n",
              "      border-radius: 50%;\n",
              "      cursor: pointer;\n",
              "      display: none;\n",
              "      fill: #1967D2;\n",
              "      height: 32px;\n",
              "      padding: 0 0 0 0;\n",
              "      width: 32px;\n",
              "    }\n",
              "\n",
              "    .colab-df-convert:hover {\n",
              "      background-color: #E2EBFA;\n",
              "      box-shadow: 0px 1px 2px rgba(60, 64, 67, 0.3), 0px 1px 3px 1px rgba(60, 64, 67, 0.15);\n",
              "      fill: #174EA6;\n",
              "    }\n",
              "\n",
              "    [theme=dark] .colab-df-convert {\n",
              "      background-color: #3B4455;\n",
              "      fill: #D2E3FC;\n",
              "    }\n",
              "\n",
              "    [theme=dark] .colab-df-convert:hover {\n",
              "      background-color: #434B5C;\n",
              "      box-shadow: 0px 1px 3px 1px rgba(0, 0, 0, 0.15);\n",
              "      filter: drop-shadow(0px 1px 2px rgba(0, 0, 0, 0.3));\n",
              "      fill: #FFFFFF;\n",
              "    }\n",
              "  </style>\n",
              "\n",
              "      <script>\n",
              "        const buttonEl =\n",
              "          document.querySelector('#df-dfa9497b-191b-4315-bbd9-76e38dc1d028 button.colab-df-convert');\n",
              "        buttonEl.style.display =\n",
              "          google.colab.kernel.accessAllowed ? 'block' : 'none';\n",
              "\n",
              "        async function convertToInteractive(key) {\n",
              "          const element = document.querySelector('#df-dfa9497b-191b-4315-bbd9-76e38dc1d028');\n",
              "          const dataTable =\n",
              "            await google.colab.kernel.invokeFunction('convertToInteractive',\n",
              "                                                     [key], {});\n",
              "          if (!dataTable) return;\n",
              "\n",
              "          const docLinkHtml = 'Like what you see? Visit the ' +\n",
              "            '<a target=\"_blank\" href=https://colab.research.google.com/notebooks/data_table.ipynb>data table notebook</a>'\n",
              "            + ' to learn more about interactive tables.';\n",
              "          element.innerHTML = '';\n",
              "          dataTable['output_type'] = 'display_data';\n",
              "          await google.colab.output.renderOutput(dataTable, element);\n",
              "          const docLink = document.createElement('div');\n",
              "          docLink.innerHTML = docLinkHtml;\n",
              "          element.appendChild(docLink);\n",
              "        }\n",
              "      </script>\n",
              "    </div>\n",
              "  </div>\n",
              "  "
            ]
          },
          "metadata": {}
        }
      ]
    },
    {
      "cell_type": "markdown",
      "source": [
        "# **📉Pingouin**"
      ],
      "metadata": {
        "id": "RkCRePxlH5ec"
      }
    },
    {
      "cell_type": "markdown",
      "source": [
        "[**Pingouin**](https://pingouin-stats.org/build/html/index.html) is an open-source statistical package written in Python 3 and based mostly on Pandas and NumPy. Some of its main features are listed below:\n",
        "\n",
        "\n",
        "- ANOVAs: N-ways, repeated measures, mixed, ancova\n",
        "- Pairwise post-hocs tests (parametric and non-parametric) and pairwise correlations\n",
        "- Robust, partial, distance and repeated measures correlations\n",
        "- `Linear/logistic` regression and mediation analysis\n",
        "- `Bayes` Factors\n",
        "- Multivariate tests\n",
        "- Reliability and consistency\n",
        "- Effect sizes and power analysis\n",
        "- `Parametric/bootstrapped` confidence intervals around an effect size or a correlation coefficient\n",
        "- Circular statistics\n",
        "- `Chi-squared` tests\n",
        "- Plotting: Bland-Altman plot, `Q-Q plot`, `paired plot`, `robust correlation`."
      ],
      "metadata": {
        "id": "t77kDoR2Gz07"
      }
    },
    {
      "cell_type": "code",
      "source": [
        "import pingouin as pg\n",
        "\n",
        "# Generate some sample data\n",
        "x = [1, 2, 3, 4, 5]\n",
        "y = [2, 4, 6, 8, 10]\n",
        "\n",
        "# Perform a t-test\n",
        "t_result = pg.ttest(x, y)\n",
        "\n",
        "# Print the result\n",
        "print(t_result)\n"
      ],
      "metadata": {
        "colab": {
          "base_uri": "https://localhost:8080/"
        },
        "id": "AAZHLXM3GYGP",
        "outputId": "90e317a1-506e-4c7e-c392-e9a2698e8a6e"
      },
      "execution_count": 37,
      "outputs": [
        {
          "output_type": "stream",
          "name": "stdout",
          "text": [
            "               T  dof alternative    p-val          CI95%  cohen-d   BF10  \\\n",
            "T-test -1.897367    8   two-sided  0.09435  [-6.65, 0.65]      1.2  1.286   \n",
            "\n",
            "           power  \n",
            "T-test  0.386437  \n"
          ]
        }
      ]
    },
    {
      "cell_type": "code",
      "source": [
        "import pingouin as pg\n",
        "import pandas as pd\n",
        "\n",
        "# Create a pandas DataFrame with the data\n",
        "data = pd.DataFrame({'Group': ['A', 'A', 'A', 'B', 'B', 'B', 'C', 'C', 'C'],\n",
        "                     'Value': [1, 2, 3, 4, 5, 6, 7, 8, 9]})\n",
        "\n",
        "# Perform one-way ANOVA\n",
        "anova_result = pg.anova(data=data, dv='Value', between='Group')\n",
        "\n",
        "# Print the result\n",
        "print(anova_result)"
      ],
      "metadata": {
        "colab": {
          "base_uri": "https://localhost:8080/"
        },
        "id": "qB4LyiWmGaTE",
        "outputId": "792848f2-91cc-45cd-cc01-bd4461e49f39"
      },
      "execution_count": 38,
      "outputs": [
        {
          "output_type": "stream",
          "name": "stdout",
          "text": [
            "  Source  ddof1  ddof2     F  p-unc  np2\n",
            "0  Group      2      6  27.0  0.001  0.9\n"
          ]
        }
      ]
    },
    {
      "cell_type": "code",
      "source": [
        "import pingouin as pg\n",
        "import pandas as pd\n",
        "\n",
        "# Create a pandas DataFrame with the data\n",
        "data = pd.DataFrame({'Group': ['A', 'A', 'A', 'B', 'B', 'B', 'C', 'C', 'C'],\n",
        "                     'Value': [1, 2, 3, 4, 5, 6, 7, 8, 9]})\n",
        "\n",
        "# Perform pairwise t-tests\n",
        "pairwise_ttests_result = pg.pairwise_tests(data=data, dv='Value', between='Group')\n",
        "\n",
        "# Print the result\n",
        "display(pairwise_ttests_result)"
      ],
      "metadata": {
        "colab": {
          "base_uri": "https://localhost:8080/",
          "height": 143
        },
        "id": "BhRxHsf0GmhS",
        "outputId": "2331ebab-be65-4fa3-e3bd-87a87b72eced"
      },
      "execution_count": 39,
      "outputs": [
        {
          "output_type": "display_data",
          "data": {
            "text/plain": [
              "  Contrast  A  B  Paired  Parametric         T  dof alternative     p-unc  \\\n",
              "0    Group  A  B   False        True -3.674235  4.0   two-sided  0.021312   \n",
              "1    Group  A  C   False        True -7.348469  4.0   two-sided  0.001826   \n",
              "2    Group  B  C   False        True -3.674235  4.0   two-sided  0.021312   \n",
              "\n",
              "     BF10  hedges  \n",
              "0   3.235    -2.4  \n",
              "1  15.154    -4.8  \n",
              "2   3.235    -2.4  "
            ],
            "text/html": [
              "\n",
              "  <div id=\"df-d1227ca7-3d18-4410-b5f0-60ca2be782e6\">\n",
              "    <div class=\"colab-df-container\">\n",
              "      <div>\n",
              "<style scoped>\n",
              "    .dataframe tbody tr th:only-of-type {\n",
              "        vertical-align: middle;\n",
              "    }\n",
              "\n",
              "    .dataframe tbody tr th {\n",
              "        vertical-align: top;\n",
              "    }\n",
              "\n",
              "    .dataframe thead th {\n",
              "        text-align: right;\n",
              "    }\n",
              "</style>\n",
              "<table border=\"1\" class=\"dataframe\">\n",
              "  <thead>\n",
              "    <tr style=\"text-align: right;\">\n",
              "      <th></th>\n",
              "      <th>Contrast</th>\n",
              "      <th>A</th>\n",
              "      <th>B</th>\n",
              "      <th>Paired</th>\n",
              "      <th>Parametric</th>\n",
              "      <th>T</th>\n",
              "      <th>dof</th>\n",
              "      <th>alternative</th>\n",
              "      <th>p-unc</th>\n",
              "      <th>BF10</th>\n",
              "      <th>hedges</th>\n",
              "    </tr>\n",
              "  </thead>\n",
              "  <tbody>\n",
              "    <tr>\n",
              "      <th>0</th>\n",
              "      <td>Group</td>\n",
              "      <td>A</td>\n",
              "      <td>B</td>\n",
              "      <td>False</td>\n",
              "      <td>True</td>\n",
              "      <td>-3.674235</td>\n",
              "      <td>4.0</td>\n",
              "      <td>two-sided</td>\n",
              "      <td>0.021312</td>\n",
              "      <td>3.235</td>\n",
              "      <td>-2.4</td>\n",
              "    </tr>\n",
              "    <tr>\n",
              "      <th>1</th>\n",
              "      <td>Group</td>\n",
              "      <td>A</td>\n",
              "      <td>C</td>\n",
              "      <td>False</td>\n",
              "      <td>True</td>\n",
              "      <td>-7.348469</td>\n",
              "      <td>4.0</td>\n",
              "      <td>two-sided</td>\n",
              "      <td>0.001826</td>\n",
              "      <td>15.154</td>\n",
              "      <td>-4.8</td>\n",
              "    </tr>\n",
              "    <tr>\n",
              "      <th>2</th>\n",
              "      <td>Group</td>\n",
              "      <td>B</td>\n",
              "      <td>C</td>\n",
              "      <td>False</td>\n",
              "      <td>True</td>\n",
              "      <td>-3.674235</td>\n",
              "      <td>4.0</td>\n",
              "      <td>two-sided</td>\n",
              "      <td>0.021312</td>\n",
              "      <td>3.235</td>\n",
              "      <td>-2.4</td>\n",
              "    </tr>\n",
              "  </tbody>\n",
              "</table>\n",
              "</div>\n",
              "      <button class=\"colab-df-convert\" onclick=\"convertToInteractive('df-d1227ca7-3d18-4410-b5f0-60ca2be782e6')\"\n",
              "              title=\"Convert this dataframe to an interactive table.\"\n",
              "              style=\"display:none;\">\n",
              "        \n",
              "  <svg xmlns=\"http://www.w3.org/2000/svg\" height=\"24px\"viewBox=\"0 0 24 24\"\n",
              "       width=\"24px\">\n",
              "    <path d=\"M0 0h24v24H0V0z\" fill=\"none\"/>\n",
              "    <path d=\"M18.56 5.44l.94 2.06.94-2.06 2.06-.94-2.06-.94-.94-2.06-.94 2.06-2.06.94zm-11 1L8.5 8.5l.94-2.06 2.06-.94-2.06-.94L8.5 2.5l-.94 2.06-2.06.94zm10 10l.94 2.06.94-2.06 2.06-.94-2.06-.94-.94-2.06-.94 2.06-2.06.94z\"/><path d=\"M17.41 7.96l-1.37-1.37c-.4-.4-.92-.59-1.43-.59-.52 0-1.04.2-1.43.59L10.3 9.45l-7.72 7.72c-.78.78-.78 2.05 0 2.83L4 21.41c.39.39.9.59 1.41.59.51 0 1.02-.2 1.41-.59l7.78-7.78 2.81-2.81c.8-.78.8-2.07 0-2.86zM5.41 20L4 18.59l7.72-7.72 1.47 1.35L5.41 20z\"/>\n",
              "  </svg>\n",
              "      </button>\n",
              "      \n",
              "  <style>\n",
              "    .colab-df-container {\n",
              "      display:flex;\n",
              "      flex-wrap:wrap;\n",
              "      gap: 12px;\n",
              "    }\n",
              "\n",
              "    .colab-df-convert {\n",
              "      background-color: #E8F0FE;\n",
              "      border: none;\n",
              "      border-radius: 50%;\n",
              "      cursor: pointer;\n",
              "      display: none;\n",
              "      fill: #1967D2;\n",
              "      height: 32px;\n",
              "      padding: 0 0 0 0;\n",
              "      width: 32px;\n",
              "    }\n",
              "\n",
              "    .colab-df-convert:hover {\n",
              "      background-color: #E2EBFA;\n",
              "      box-shadow: 0px 1px 2px rgba(60, 64, 67, 0.3), 0px 1px 3px 1px rgba(60, 64, 67, 0.15);\n",
              "      fill: #174EA6;\n",
              "    }\n",
              "\n",
              "    [theme=dark] .colab-df-convert {\n",
              "      background-color: #3B4455;\n",
              "      fill: #D2E3FC;\n",
              "    }\n",
              "\n",
              "    [theme=dark] .colab-df-convert:hover {\n",
              "      background-color: #434B5C;\n",
              "      box-shadow: 0px 1px 3px 1px rgba(0, 0, 0, 0.15);\n",
              "      filter: drop-shadow(0px 1px 2px rgba(0, 0, 0, 0.3));\n",
              "      fill: #FFFFFF;\n",
              "    }\n",
              "  </style>\n",
              "\n",
              "      <script>\n",
              "        const buttonEl =\n",
              "          document.querySelector('#df-d1227ca7-3d18-4410-b5f0-60ca2be782e6 button.colab-df-convert');\n",
              "        buttonEl.style.display =\n",
              "          google.colab.kernel.accessAllowed ? 'block' : 'none';\n",
              "\n",
              "        async function convertToInteractive(key) {\n",
              "          const element = document.querySelector('#df-d1227ca7-3d18-4410-b5f0-60ca2be782e6');\n",
              "          const dataTable =\n",
              "            await google.colab.kernel.invokeFunction('convertToInteractive',\n",
              "                                                     [key], {});\n",
              "          if (!dataTable) return;\n",
              "\n",
              "          const docLinkHtml = 'Like what you see? Visit the ' +\n",
              "            '<a target=\"_blank\" href=https://colab.research.google.com/notebooks/data_table.ipynb>data table notebook</a>'\n",
              "            + ' to learn more about interactive tables.';\n",
              "          element.innerHTML = '';\n",
              "          dataTable['output_type'] = 'display_data';\n",
              "          await google.colab.output.renderOutput(dataTable, element);\n",
              "          const docLink = document.createElement('div');\n",
              "          docLink.innerHTML = docLinkHtml;\n",
              "          element.appendChild(docLink);\n",
              "        }\n",
              "      </script>\n",
              "    </div>\n",
              "  </div>\n",
              "  "
            ]
          },
          "metadata": {}
        }
      ]
    },
    {
      "cell_type": "markdown",
      "source": [
        "# **3️⃣Proportion Tests**"
      ],
      "metadata": {
        "id": "OyhwAx34z1JD"
      }
    },
    {
      "cell_type": "markdown",
      "source": [
        "## **One-sample proportion tests**\n"
      ],
      "metadata": {
        "id": "u6aSbN0cDBMB"
      }
    },
    {
      "cell_type": "markdown",
      "source": [
        "#### **Test for single proportions**\n"
      ],
      "metadata": {
        "id": "n3KDp1zoEuGP"
      }
    },
    {
      "cell_type": "markdown",
      "source": [
        "$$ z = \\frac{\\hat{p} - p_0}\n",
        "{\\sqrt{\\frac{p_0 * (1-p_0)}\n",
        "{n}}}\n",
        "$$\n",
        "\n",
        "\n",
        "- $z$: The test statistic, which measures how many standard deviations the sample proportion ($\\hat{p}$) is away from the hypothesized proportion ($p_0$).\n",
        "\n",
        "- $\\hat{p}$: The sample proportion of a specific characteristic or event of interest. In this case, it represents the proportion of late shipments in the sample.\n",
        "\n",
        "- $p_0$: The hypothesized proportion of the characteristic or event of interest. It represents the proportion of late shipments assumed under the null hypothesis.\n",
        "\n",
        "- $n$: The sample size, which refers to the number of observations in the sample.\n",
        "\n",
        "- $(1 - p_0)$: Represents the probability of not observing the characteristic or event of interest (e.g., no late shipments) under the null hypothesis.\n",
        "\n",
        "- $p_0 * (1 - p_0)$: The variance of a binomial distribution, which describes the distribution of proportions.\n",
        "\n",
        "- $\\frac{p_0 * (1-p_0)}{n}$: The standard error of the sample proportion, which measures the variability of the sample proportion estimate.\n"
      ],
      "metadata": {
        "id": "JrWFhzD0MsBs"
      }
    },
    {
      "cell_type": "code",
      "source": [
        "late_shipments = pd.read_feather(url_shipments)"
      ],
      "metadata": {
        "id": "3lwi9qGNT5vi"
      },
      "execution_count": 40,
      "outputs": []
    },
    {
      "cell_type": "code",
      "source": [
        "# Hypothesize that the proportion of late shipments is 6%\n",
        "p_0 = 0.06\n",
        "\n",
        "# Calculate the sample proportion of late shipments\n",
        "p_hat = (late_shipments['late'] == 'Yes').mean()\n",
        "\n",
        "# Calculate the sample size\n",
        "n = len(late_shipments)\n",
        "\n",
        "# Print p_hat and n\n",
        "print(p_hat, n)"
      ],
      "metadata": {
        "colab": {
          "base_uri": "https://localhost:8080/"
        },
        "id": "gG7tRJHDUOEi",
        "outputId": "7559640e-c68f-4f30-e723-44fab959e960"
      },
      "execution_count": 41,
      "outputs": [
        {
          "output_type": "stream",
          "name": "stdout",
          "text": [
            "0.061 1000\n"
          ]
        }
      ]
    },
    {
      "cell_type": "markdown",
      "source": [
        "**Z-score**"
      ],
      "metadata": {
        "id": "0nsYA6QVUp0C"
      }
    },
    {
      "cell_type": "code",
      "source": [
        "# Calculate the numerator and denominator of the test statistic\n",
        "numerator = p_hat - p_0\n",
        "denominator = np.sqrt(p_0 * (1 - p_0) / n)\n",
        "\n",
        "# Calculate the test statistic\n",
        "z_score = numerator / denominator\n",
        "\n",
        "# Print the result\n",
        "print(z_score)"
      ],
      "metadata": {
        "colab": {
          "base_uri": "https://localhost:8080/"
        },
        "id": "51mLDrQqUQsi",
        "outputId": "be030146-e00f-472b-a75b-d66c64dff455"
      },
      "execution_count": 42,
      "outputs": [
        {
          "output_type": "stream",
          "name": "stdout",
          "text": [
            "0.13315591032282698\n"
          ]
        }
      ]
    },
    {
      "cell_type": "markdown",
      "source": [
        "**P-value**"
      ],
      "metadata": {
        "id": "sEni7lqJUsTz"
      }
    },
    {
      "cell_type": "code",
      "source": [
        "# Calculate the p-value from the z-score\n",
        "p_value = 1 - norm.cdf(z_score)\n",
        "\n",
        "# Print the p-value\n",
        "print(p_value)"
      ],
      "metadata": {
        "colab": {
          "base_uri": "https://localhost:8080/"
        },
        "id": "qc1STlA2NIM2",
        "outputId": "23c357f7-bb6c-478a-d2aa-269954fc0a8b"
      },
      "execution_count": 43,
      "outputs": [
        {
          "output_type": "stream",
          "name": "stdout",
          "text": [
            "0.44703503936503364\n"
          ]
        }
      ]
    },
    {
      "cell_type": "markdown",
      "source": [
        "## **Two-sample proportion tests**\n"
      ],
      "metadata": {
        "id": "HlfGDQe8EvbX"
      }
    },
    {
      "cell_type": "markdown",
      "source": [
        "You may wonder if the amount paid for freight affects whether or not the shipment was late. Recall that in the late_shipments dataset, whether or not the shipment was late is stored in the late column. Freight costs are stored in the freight_cost_group column, and the categories are \"expensive\" and \"reasonable\".\n",
        "\n",
        "The hypotheses to test, with \"late\" corresponding to the proportion of late shipments for that group, are\n",
        "\n",
        "$ H_0: late_{expensive} - late_{reasonable} = 0$\n",
        "\n",
        "\n",
        "$ H_A: late_{expensive} - late_{reasonable} > 0$\n",
        "\n",
        "p_hats contains the estimates of population proportions (sample proportions) for the \"expensive\" and \"reasonable\" groups. ns contains the sample sizes for these groups. p_hats and ns have been printed for you.\n",
        "\n",
        "pandas and numpy have been imported under their usual aliases, and norm is available from scipy.stats.\n",
        "\n",
        "\n",
        "**Instructions**\n",
        "\n",
        "\n",
        "- Calculate the pooled sample proportion, $\\hat{p}$, from p_hats and ns.\n",
        "\n",
        "$$ \\hat{p} = \\frac{n_{expensive} \\times \\hat{p}_{expensive} + n_{reasonable} \\times \\hat{p}_{reasonable}}{n_{expensive} + n\n",
        "_{reasonable}}$$\n",
        "\n",
        "\n",
        "- Calculate the standard error of the sample using this equation.\n",
        "\n",
        "$$SE(\\hat{p}_{expensive} - \\hat{p}_{reasonable}) = \\sqrt{\\frac{\\hat{p}\\times(1-\\hat{p})}{n_{expensive}} + \\frac{\\hat{p}\\times(1-\\hat{p})}{n_{reasonable}}}\n",
        "$$\n",
        "\n",
        "- Calculate the pooled sample proportion times one minus the pooled sample proportion.\n",
        "\n",
        "\n",
        "- Divide p_hat_times_not_p_hat by the sample sizes and sum those two values.\n",
        "\n",
        "\n",
        "- Calculate the square root of p_hat_times_not_p_hat_over_ns.\n",
        "\n",
        "\n",
        "- Calculate the z-score using the following equation.\n",
        "\n",
        "\n",
        "$$ z = \\frac{(\\hat{p}_{expensive} - \\hat{p}_{reasonable})}{SE(\\hat{p}_{expensive} - \\hat{p}_{reasonable})}\n",
        "$$\n",
        "\n",
        "\n",
        "- Calculate the p-value from the z-score."
      ],
      "metadata": {
        "id": "zToSA4k8UzpK"
      }
    },
    {
      "cell_type": "code",
      "source": [
        "late_shipments = pd.read_feather(url_shipments)\n",
        "late_shipments.columns"
      ],
      "metadata": {
        "colab": {
          "base_uri": "https://localhost:8080/"
        },
        "id": "xsVPWAvSVT_b",
        "outputId": "4b157ff6-ca1f-4b42-e193-37f613d93ba1"
      },
      "execution_count": 44,
      "outputs": [
        {
          "output_type": "execute_result",
          "data": {
            "text/plain": [
              "Index(['id', 'country', 'managed_by', 'fulfill_via', 'vendor_inco_term',\n",
              "       'shipment_mode', 'late_delivery', 'late', 'product_group',\n",
              "       'sub_classification', 'vendor', 'item_description',\n",
              "       'molecule_test_type', 'brand', 'dosage', 'dosage_form',\n",
              "       'unit_of_measure_per_pack', 'line_item_quantity', 'line_item_value',\n",
              "       'pack_price', 'unit_price', 'manufacturing_site',\n",
              "       'first_line_designation', 'weight_kilograms', 'freight_cost_usd',\n",
              "       'freight_cost_groups', 'line_item_insurance_usd'],\n",
              "      dtype='object')"
            ]
          },
          "metadata": {},
          "execution_count": 44
        }
      ]
    },
    {
      "cell_type": "code",
      "source": [
        "import numpy as np\n",
        "from scipy.stats import norm\n",
        "\n",
        "# Define the sample proportions and sizes\n",
        "p_hats = {\n",
        "    \"reasonable\": 0.6,\n",
        "    \"expensive\": 0.8\n",
        "}\n",
        "\n",
        "ns = {\n",
        "    \"reasonable\": 100,\n",
        "    \"expensive\": 150\n",
        "}\n",
        "\n",
        "# Calculate the pooled estimate of the population proportion\n",
        "p_hat = (p_hats[\"reasonable\"] * ns[\"reasonable\"] + p_hats[\"expensive\"] * ns[\"expensive\"]) / (ns[\"reasonable\"] + ns[\"expensive\"])\n",
        "\n",
        "# Calculate p_hat one minus p_hat\n",
        "p_hat_times_not_p_hat = p_hat * (1 - p_hat)\n",
        "\n",
        "# Divide this by each of the sample sizes and then sum\n",
        "p_hat_times_not_p_hat_over_ns = p_hat_times_not_p_hat / ns[\"expensive\"] + p_hat_times_not_p_hat / ns[\"reasonable\"]\n",
        "\n",
        "# Calculate the standard error\n",
        "std_error = np.sqrt(p_hat_times_not_p_hat_over_ns)\n",
        "\n",
        "# Calculate the z-score\n",
        "z_score = (p_hats[\"expensive\"] - p_hats[\"reasonable\"]) / std_error\n",
        "\n",
        "# Calculate the p-value from the z-score\n",
        "p_value = 1 - norm.cdf(z_score)\n",
        "\n",
        "# Print p_value\n",
        "print(p_value)"
      ],
      "metadata": {
        "colab": {
          "base_uri": "https://localhost:8080/"
        },
        "id": "z4dXKd1qd_o6",
        "outputId": "e7e5c767-347e-42b0-c2dc-1f24bc8f2818"
      },
      "execution_count": 45,
      "outputs": [
        {
          "output_type": "stream",
          "name": "stdout",
          "text": [
            "0.00027995312400308503\n"
          ]
        }
      ]
    },
    {
      "cell_type": "markdown",
      "source": [
        "#### **`proportions_ztest()` for two samples**\n"
      ],
      "metadata": {
        "id": "WgszWrmrEyIo"
      }
    },
    {
      "cell_type": "code",
      "source": [
        "# Count the late column values for each freight_cost_group\n",
        "late_by_freight_cost_group = late_shipments.groupby(\"freight_cost_groups\")['late'].value_counts()\n",
        "\n",
        "# Print the counts\n",
        "print(late_by_freight_cost_group)"
      ],
      "metadata": {
        "colab": {
          "base_uri": "https://localhost:8080/"
        },
        "id": "y8_38sTPdKYz",
        "outputId": "452ba426-2625-4113-e244-16632c1f025f"
      },
      "execution_count": 46,
      "outputs": [
        {
          "output_type": "stream",
          "name": "stdout",
          "text": [
            "freight_cost_groups  late\n",
            "expensive            No      489\n",
            "                     Yes      42\n",
            "reasonable           No      439\n",
            "                     Yes      16\n",
            "Name: late, dtype: int64\n"
          ]
        }
      ]
    },
    {
      "cell_type": "markdown",
      "source": [
        "## **Chi-square test of independence**\n"
      ],
      "metadata": {
        "id": "OAjuCbe9E2y3"
      }
    },
    {
      "cell_type": "markdown",
      "source": [
        "#### **The `chi-square` distribution**\n"
      ],
      "metadata": {
        "id": "nMLrXgyfE4I4"
      }
    },
    {
      "cell_type": "code",
      "source": [
        "import numpy as np\n",
        "import matplotlib.pyplot as plt\n",
        "from scipy.stats import chi2, norm\n",
        "\n",
        "# Set the degrees of freedom for the chi-square distribution\n",
        "df = 5\n",
        "\n",
        "# Calculate the mean and variance of the chi-square distribution\n",
        "mean_chi2 = df\n",
        "var_chi2 = 2 * df\n",
        "\n",
        "# Create a normal distribution with the same mean and variance\n",
        "mean_norm = mean_chi2\n",
        "var_norm = var_chi2\n",
        "std_norm = np.sqrt(var_norm)\n",
        "\n",
        "# Generate x values for the plot\n",
        "x = np.linspace(chi2.ppf(0.001, df), chi2.ppf(0.999, df), 1000)\n",
        "\n",
        "# Calculate the PDF and CDF of the chi-square distribution\n",
        "pdf_chi2 = chi2.pdf(x, df)\n",
        "cdf_chi2 = chi2.cdf(x, df)\n",
        "\n",
        "# Calculate the PDF and CDF of the normal distribution\n",
        "pdf_norm = norm.pdf(x, mean_norm, std_norm)\n",
        "cdf_norm = norm.cdf(x, mean_norm, std_norm)\n",
        "\n",
        "# Plot the PDFs\n",
        "plt.figure()\n",
        "plt.plot(x, pdf_chi2, 'k-', label='Chi-square PDF')\n",
        "plt.plot(x, pdf_norm, 'k--', label='Normal PDF')\n",
        "plt.xlabel('x')\n",
        "plt.ylabel('Probability Density')\n",
        "plt.legend()\n",
        "plt.title('PDF Comparison: Chi-square vs. Normal Distribution')\n",
        "\n",
        "# Plot the CDFs\n",
        "plt.figure()\n",
        "plt.plot(x, cdf_chi2, 'k-', label='Chi-square CDF')\n",
        "plt.plot(x, cdf_norm, 'k--', label='Normal CDF')\n",
        "plt.xlabel('x')\n",
        "plt.ylabel('Cumulative Probability')\n",
        "plt.legend()\n",
        "plt.title('CDF Comparison: Chi-square vs. Normal Distribution')\n",
        "\n",
        "# Show the plots\n",
        "plt.show()"
      ],
      "metadata": {
        "colab": {
          "base_uri": "https://localhost:8080/",
          "height": 927
        },
        "id": "gPIInSKAjGBi",
        "outputId": "9a07df98-db2c-4716-894b-ac821c222712"
      },
      "execution_count": 47,
      "outputs": [
        {
          "output_type": "display_data",
          "data": {
            "text/plain": [
              "<Figure size 640x480 with 1 Axes>"
            ],
            "image/png": "[encoded data removed]"
          },
          "metadata": {}
        },
        {
          "output_type": "display_data",
          "data": {
            "text/plain": [
              "<Figure size 640x480 with 1 Axes>"
            ],
            "image/png": "[encoded data removed]"
          },
          "metadata": {}
        }
      ]
    },
    {
      "cell_type": "markdown",
      "source": [
        "#### **How many tails for `chi-square` tests?**\n"
      ],
      "metadata": {
        "id": "-6woKq2PE5Z3"
      }
    },
    {
      "cell_type": "markdown",
      "source": [
        "Unlike `pingouin.ttest()` and `statsmodels.stats.proportion.proportions_ztest()`, `pingouin.chi2_independence()` does not have an alternative argument to specify which tails are considered by the alternative hypothesis.\n",
        "\n",
        "**Which tail is almost always considered in chi-square tests?**\n",
        "\n",
        "\n",
        "#### Answer the question\n",
        "\n",
        "✅ $Right-tailed$\n",
        "\n"
      ],
      "metadata": {
        "id": "8UptLs7ykKrc"
      }
    },
    {
      "cell_type": "markdown",
      "source": [
        "#### **Performing a `chi-square` test**\n"
      ],
      "metadata": {
        "id": "t4JF1OmpE63w"
      }
    },
    {
      "cell_type": "code",
      "source": [
        "import warnings\n",
        "import pingouin as pg\n",
        "import matplotlib.pyplot as plt\n",
        "\n",
        "# Group categories to avoid low counts\n",
        "late_shipments['vendor_inco_term_grouped'] = late_shipments['vendor_inco_term']\n",
        "late_shipments.loc[late_shipments['vendor_inco_term_grouped'].isin(['category1', 'category2']), 'vendor_inco_term_grouped'] = 'Other'\n",
        "\n",
        "# Proportion of freight_cost_group grouped by vendor_inco_term_grouped\n",
        "props = late_shipments.groupby('vendor_inco_term_grouped')['freight_cost_groups'].value_counts(normalize=True)\n",
        "\n",
        "# Convert props to wide format\n",
        "wide_props = props.unstack()\n",
        "\n",
        "# Proportional stacked bar plot of freight_cost_group vs. vendor_inco_term_grouped\n",
        "wide_props.plot(kind=\"bar\", stacked=True)\n",
        "plt.show()\n",
        "\n",
        "# Disable warnings temporarily\n",
        "warnings.filterwarnings(\"ignore\")\n",
        "\n",
        "# Determine if freight_cost_group and vendor_inco_term_grouped are independent\n",
        "expected, observed, stats = pg.chi2_independence(data=late_shipments, x=\"vendor_inco_term_grouped\", y=\"freight_cost_groups\")\n",
        "\n",
        "# Print results\n",
        "print(stats[stats['test'] == 'pearson'])\n",
        "\n",
        "# Enable warnings again\n",
        "warnings.filterwarnings(\"default\")"
      ],
      "metadata": {
        "colab": {
          "base_uri": "https://localhost:8080/",
          "height": 503
        },
        "id": "ucwcS5JOkp1a",
        "outputId": "ffc62445-e527-47c2-cb3f-12dff9298099"
      },
      "execution_count": 48,
      "outputs": [
        {
          "output_type": "display_data",
          "data": {
            "text/plain": [
              "<Figure size 640x480 with 1 Axes>"
            ],
            "image/png": "[encoded data removed]"
          },
          "metadata": {}
        },
        {
          "output_type": "stream",
          "name": "stdout",
          "text": [
            "      test  lambda       chi2  dof          pval    cramer     power\n",
            "0  pearson     1.0  34.805072  4.0  5.093922e-07  0.186561  0.999235\n"
          ]
        }
      ]
    },
    {
      "cell_type": "markdown",
      "source": [
        "## **Chi-square goodness of fit tests**\n"
      ],
      "metadata": {
        "id": "pGXgwkXOE8-Y"
      }
    },
    {
      "cell_type": "code",
      "source": [
        "late_shipments = pd.read_feather(url_shipments)\n",
        "late_shipments.columns"
      ],
      "metadata": {
        "colab": {
          "base_uri": "https://localhost:8080/"
        },
        "id": "O7qpOallkwpZ",
        "outputId": "f177627f-915d-4961-9640-e2d223800450"
      },
      "execution_count": 49,
      "outputs": [
        {
          "output_type": "stream",
          "name": "stderr",
          "text": [
            "/usr/local/lib/python3.10/dist-packages/ipykernel/ipkernel.py:283: DeprecationWarning: `should_run_async` will not call `transform_cell` automatically in the future. Please pass the result to `transformed_cell` argument and any exception that happen during thetransform in `preprocessing_exc_tuple` in IPython 7.17 and above.\n",
            "  and should_run_async(code)\n"
          ]
        },
        {
          "output_type": "execute_result",
          "data": {
            "text/plain": [
              "Index(['id', 'country', 'managed_by', 'fulfill_via', 'vendor_inco_term',\n",
              "       'shipment_mode', 'late_delivery', 'late', 'product_group',\n",
              "       'sub_classification', 'vendor', 'item_description',\n",
              "       'molecule_test_type', 'brand', 'dosage', 'dosage_form',\n",
              "       'unit_of_measure_per_pack', 'line_item_quantity', 'line_item_value',\n",
              "       'pack_price', 'unit_price', 'manufacturing_site',\n",
              "       'first_line_designation', 'weight_kilograms', 'freight_cost_usd',\n",
              "       'freight_cost_groups', 'line_item_insurance_usd'],\n",
              "      dtype='object')"
            ]
          },
          "metadata": {},
          "execution_count": 49
        }
      ]
    },
    {
      "cell_type": "markdown",
      "source": [
        "#### **Visualizing goodness of fit**\n"
      ],
      "metadata": {
        "id": "l74omhrbE-qP"
      }
    },
    {
      "cell_type": "code",
      "source": [
        "# Find the number of rows in late_shipments\n",
        "n_total = len(late_shipments)\n",
        "\n",
        "# Print n_total\n",
        "print(n_total)"
      ],
      "metadata": {
        "colab": {
          "base_uri": "https://localhost:8080/"
        },
        "id": "E_ElaSCNl5Y5",
        "outputId": "7caf76b0-a15d-477d-93dc-bf6fc2f8e50e"
      },
      "execution_count": 50,
      "outputs": [
        {
          "output_type": "stream",
          "name": "stdout",
          "text": [
            "1000\n"
          ]
        },
        {
          "output_type": "stream",
          "name": "stderr",
          "text": [
            "/usr/local/lib/python3.10/dist-packages/ipykernel/ipkernel.py:283: DeprecationWarning: `should_run_async` will not call `transform_cell` automatically in the future. Please pass the result to `transformed_cell` argument and any exception that happen during thetransform in `preprocessing_exc_tuple` in IPython 7.17 and above.\n",
            "  and should_run_async(code)\n"
          ]
        }
      ]
    },
    {
      "cell_type": "code",
      "source": [
        "import pandas as pd\n",
        "\n",
        "# Define the hypothesized DataFrame\n",
        "hypothesized = pd.DataFrame({\n",
        "    \"incoterms\": [\"CIP\", \"DDP\", \"EXW\", \"FCA\"],\n",
        "    \"prop\": [0.05, 0.1, 0.75, 0.1]\n",
        "})\n",
        "\n",
        "# Find the number of rows in late_shipments\n",
        "n_total = len(late_shipments)\n",
        "\n",
        "# Create n column that is prop column * n_total\n",
        "hypothesized[\"n\"] = hypothesized[\"prop\"] * n_total\n",
        "\n",
        "# Print the modified hypothesized DataFrame\n",
        "print(hypothesized)\n"
      ],
      "metadata": {
        "colab": {
          "base_uri": "https://localhost:8080/"
        },
        "id": "QsSim1ipl7lx",
        "outputId": "38e7b044-af94-4234-b165-b6dea1f6f4d9"
      },
      "execution_count": 51,
      "outputs": [
        {
          "output_type": "stream",
          "name": "stdout",
          "text": [
            "  incoterms  prop      n\n",
            "0       CIP  0.05   50.0\n",
            "1       DDP  0.10  100.0\n",
            "2       EXW  0.75  750.0\n",
            "3       FCA  0.10  100.0\n"
          ]
        }
      ]
    },
    {
      "cell_type": "code",
      "source": [
        "import pandas as pd\n",
        "import matplotlib.pyplot as plt\n",
        "\n",
        "# Find the value counts of vendor_inco_term column and store in incoterm_counts\n",
        "incoterm_counts = late_shipments['vendor_inco_term'].value_counts().reset_index()\n",
        "\n",
        "# Rename the columns in incoterm_counts\n",
        "incoterm_counts.columns = ['vendor_inco_term', 'count']\n",
        "\n",
        "# Find the number of rows in late_shipments\n",
        "n_total = len(late_shipments)\n",
        "\n",
        "# Create n column that is count column * n_total\n",
        "incoterm_counts[\"n\"] = incoterm_counts[\"count\"] * n_total\n",
        "\n",
        "# Plot a red bar graph of n vs. vendor_inco_term for incoterm_counts\n",
        "plt.bar(incoterm_counts['vendor_inco_term'], incoterm_counts['n'], color=\"red\", label=\"Observed\")\n",
        "plt.legend()\n",
        "plt.show()\n"
      ],
      "metadata": {
        "colab": {
          "base_uri": "https://localhost:8080/",
          "height": 485
        },
        "id": "wfpbzUUcnC9x",
        "outputId": "db6c1eef-0cfd-4438-998b-6b53a0391663"
      },
      "execution_count": 52,
      "outputs": [
        {
          "output_type": "stream",
          "name": "stderr",
          "text": [
            "/usr/local/lib/python3.10/dist-packages/ipykernel/ipkernel.py:283: DeprecationWarning: `should_run_async` will not call `transform_cell` automatically in the future. Please pass the result to `transformed_cell` argument and any exception that happen during thetransform in `preprocessing_exc_tuple` in IPython 7.17 and above.\n",
            "  and should_run_async(code)\n"
          ]
        },
        {
          "output_type": "display_data",
          "data": {
            "text/plain": [
              "<Figure size 640x480 with 1 Axes>"
            ],
            "image/png": "[encoded data removed]"
          },
          "metadata": {}
        }
      ]
    },
    {
      "cell_type": "markdown",
      "source": [
        "#### **Performing a goodness of fit test**"
      ],
      "metadata": {
        "id": "WCzijz-CFALY"
      }
    },
    {
      "cell_type": "code",
      "source": [
        "from scipy.stats import chisquare\n",
        "\n",
        "# Observed frequencies\n",
        "observed = [45, 55, 60, 40]\n",
        "\n",
        "# Expected frequencies (null hypothesis)\n",
        "expected = [50, 50, 50, 50]\n",
        "\n",
        "# Perform chi-square test\n",
        "chi2, p_value = chisquare(f_obs=observed, f_exp=expected)\n",
        "\n",
        "# Print chi-square test results\n",
        "print(\"Chi-square statistic:\", chi2)\n",
        "print(\"p-value:\", p_value)"
      ],
      "metadata": {
        "colab": {
          "base_uri": "https://localhost:8080/"
        },
        "id": "QyKk-HfroQ9J",
        "outputId": "b8ddc458-9a55-4aaa-8705-0d8f9a2bfc95"
      },
      "execution_count": 53,
      "outputs": [
        {
          "output_type": "stream",
          "name": "stdout",
          "text": [
            "Chi-square statistic: 5.0\n",
            "p-value: 0.1717971442967335\n"
          ]
        },
        {
          "output_type": "stream",
          "name": "stderr",
          "text": [
            "/usr/local/lib/python3.10/dist-packages/ipykernel/ipkernel.py:283: DeprecationWarning: `should_run_async` will not call `transform_cell` automatically in the future. Please pass the result to `transformed_cell` argument and any exception that happen during thetransform in `preprocessing_exc_tuple` in IPython 7.17 and above.\n",
            "  and should_run_async(code)\n"
          ]
        }
      ]
    },
    {
      "cell_type": "markdown",
      "source": [
        "# **4️⃣Non-Parametric Tests**"
      ],
      "metadata": {
        "id": "ZdqJvF5Hz5ri"
      }
    },
    {
      "cell_type": "markdown",
      "source": [
        "## **Assumptions in hypothesis testing**\n"
      ],
      "metadata": {
        "id": "FQDex1YcFhJ3"
      }
    },
    {
      "cell_type": "markdown",
      "source": [
        "#### **Common assumptions of hypothesis tests**\n"
      ],
      "metadata": {
        "id": "kiDOM67vHACY"
      }
    },
    {
      "cell_type": "markdown",
      "source": [
        "Hypothesis tests make assumptions about the dataset that they are testing, and the conclusions you draw from the test results are only valid if those assumptions hold. While some assumptions differ between types of test, others are common to all hypothesis tests.\n",
        "\n",
        "**Which of the following statements is a common assumption of hypothesis tests?**\n",
        "\n",
        ">✅ Sample observations have no direct releationship with each other.\n",
        "\n",
        "\n",
        "All hypothesis tests assume that the data are collected at random from the population, that each row is independent of the others, and that the sample size is \"big enough\"\n"
      ],
      "metadata": {
        "id": "S0fuKliVobwQ"
      }
    },
    {
      "cell_type": "markdown",
      "source": [
        "#### **Testing sample size**\n"
      ],
      "metadata": {
        "id": "3WJHnWj5HB-p"
      }
    },
    {
      "cell_type": "code",
      "source": [
        "late_shipments = pd.read_feather(url_shipments)\n",
        "late_shipments.columns"
      ],
      "metadata": {
        "colab": {
          "base_uri": "https://localhost:8080/"
        },
        "id": "5e_Wj2Yopa_q",
        "outputId": "31f3f601-0854-4cac-ccbc-d5f1214485a3"
      },
      "execution_count": 54,
      "outputs": [
        {
          "output_type": "execute_result",
          "data": {
            "text/plain": [
              "Index(['id', 'country', 'managed_by', 'fulfill_via', 'vendor_inco_term',\n",
              "       'shipment_mode', 'late_delivery', 'late', 'product_group',\n",
              "       'sub_classification', 'vendor', 'item_description',\n",
              "       'molecule_test_type', 'brand', 'dosage', 'dosage_form',\n",
              "       'unit_of_measure_per_pack', 'line_item_quantity', 'line_item_value',\n",
              "       'pack_price', 'unit_price', 'manufacturing_site',\n",
              "       'first_line_designation', 'weight_kilograms', 'freight_cost_usd',\n",
              "       'freight_cost_groups', 'line_item_insurance_usd'],\n",
              "      dtype='object')"
            ]
          },
          "metadata": {},
          "execution_count": 54
        }
      ]
    },
    {
      "cell_type": "code",
      "source": [
        "# Count the freight_cost_group values\n",
        "counts = late_shipments['freight_cost_groups'].value_counts()\n",
        "\n",
        "# Print the result\n",
        "print(counts)\n",
        "\n",
        "# Inspect whether the counts are big enough\n",
        "print((counts >= 30).all())\n",
        "\n",
        "\n",
        "# Count the late values\n",
        "counts = late_shipments['late'].value_counts()\n",
        "\n",
        "# Print the result\n",
        "print(counts)\n",
        "\n",
        "# Inspect whether the counts are big enough\n",
        "print((counts >= 10).all())\n",
        "\n",
        "\n",
        "# Count the values of freight_cost_group grouped by vendor_inco_term\n",
        "counts = late_shipments.groupby(['vendor_inco_term'])['freight_cost_groups'].value_counts()\n",
        "\n",
        "# Print the result\n",
        "print(counts)\n",
        "\n",
        "# Inspect whether the counts are big enough\n",
        "print((counts >= 5).all())\n",
        "\n",
        "\n",
        "# Count the shipment_mode values\n",
        "counts = late_shipments['shipment_mode'].value_counts()\n",
        "\n",
        "# Print the result\n",
        "print(counts)\n",
        "\n",
        "# Inspect whether the counts are big enough\n",
        "print((counts >= 30).all())"
      ],
      "metadata": {
        "colab": {
          "base_uri": "https://localhost:8080/"
        },
        "id": "w2s8bwmVpWsp",
        "outputId": "ba2dfaff-e175-4b72-be63-c6b80389b2fc"
      },
      "execution_count": 55,
      "outputs": [
        {
          "output_type": "stream",
          "name": "stdout",
          "text": [
            "expensive     531\n",
            "reasonable    455\n",
            "Name: freight_cost_groups, dtype: int64\n",
            "True\n",
            "No     939\n",
            "Yes     61\n",
            "Name: late, dtype: int64\n",
            "True\n",
            "vendor_inco_term  freight_cost_groups\n",
            "CIP               reasonable              34\n",
            "                  expensive               16\n",
            "DDP               expensive               55\n",
            "                  reasonable              45\n",
            "DDU               reasonable               1\n",
            "EXW               expensive              423\n",
            "                  reasonable             302\n",
            "FCA               reasonable              73\n",
            "                  expensive               37\n",
            "Name: freight_cost_groups, dtype: int64\n",
            "False\n",
            "Air            906\n",
            "Ocean           88\n",
            "Air Charter      6\n",
            "Name: shipment_mode, dtype: int64\n",
            "False\n"
          ]
        },
        {
          "output_type": "stream",
          "name": "stderr",
          "text": [
            "/usr/local/lib/python3.10/dist-packages/ipykernel/ipkernel.py:283: DeprecationWarning: `should_run_async` will not call `transform_cell` automatically in the future. Please pass the result to `transformed_cell` argument and any exception that happen during thetransform in `preprocessing_exc_tuple` in IPython 7.17 and above.\n",
            "  and should_run_async(code)\n"
          ]
        }
      ]
    },
    {
      "cell_type": "markdown",
      "source": [
        "## **`Non-parametric` tests**\n"
      ],
      "metadata": {
        "id": "cszPfImfHDVX"
      }
    },
    {
      "cell_type": "markdown",
      "source": [
        "#### **Which parametric test?**\n",
        "\n",
        "Which test is a parametric equivalent to the `Wilcoxon signed-rank` test?\n",
        "\n",
        "- z-test for a difference in proportions ❌\n",
        "\n",
        "\n",
        "- Chi-square goodness of fit test ❌\n",
        "\n",
        "\n",
        "- Paired t-test  ✅\n",
        "\n",
        "\n",
        "- ANOVA ❌\n",
        "\n"
      ],
      "metadata": {
        "id": "i5rQ9RU-HEif"
      }
    },
    {
      "cell_type": "markdown",
      "source": [
        "#### **`Wilcoxon` signed-rank test**\n"
      ],
      "metadata": {
        "id": "xlhB8_8yHF6H"
      }
    },
    {
      "cell_type": "code",
      "source": [
        "import pingouin as pg\n",
        "\n",
        "# Suppress deprecation warning\n",
        "warnings.filterwarnings(\"ignore\", category=DeprecationWarning)\n",
        "\n",
        "\n",
        "# Conduct a paired t-test on dem_percent_12 and dem_percent_16\n",
        "paired_test_results =  pg.ttest(x= sample_dem_data['dem_percent_12'],\n",
        "                                     y= sample_dem_data['dem_percent_16'],\n",
        "                                     paired= True,\n",
        "                                     alternative= 'greater')\n",
        "\n",
        "\n",
        "\n",
        "\n",
        "# Print paired t-test results\n",
        "display(paired_test_results)\n",
        "\n",
        "\n",
        "# Conduct a Wilcoxon test on dem_percent_12 and dem_percent_16\n",
        "wilcoxon_test_results = pg.wilcoxon(x = sample_dem_data['dem_percent_12'],\n",
        "                                          y = sample_dem_data['dem_percent_16'],\n",
        "                                          alternative = 'greater')\n",
        "\n",
        "\n",
        "# Print Wilcoxon test results\n",
        "display(wilcoxon_test_results)"
      ],
      "metadata": {
        "colab": {
          "base_uri": "https://localhost:8080/",
          "height": 199
        },
        "id": "Vtxyb7AlptUQ",
        "outputId": "019d9117-bcfc-4ec4-d6a5-8a0163735c0a"
      },
      "execution_count": 56,
      "outputs": [
        {
          "output_type": "stream",
          "name": "stderr",
          "text": [
            "/usr/local/lib/python3.10/dist-packages/ipykernel/ipkernel.py:283: DeprecationWarning: `should_run_async` will not call `transform_cell` automatically in the future. Please pass the result to `transformed_cell` argument and any exception that happen during thetransform in `preprocessing_exc_tuple` in IPython 7.17 and above.\n",
            "  and should_run_async(code)\n"
          ]
        },
        {
          "output_type": "display_data",
          "data": {
            "text/plain": [
              "                T  dof alternative          p-val        CI95%   cohen-d  \\\n",
              "T-test  30.298384  499     greater  1.800317e-115  [6.46, inf]  0.454202   \n",
              "\n",
              "              BF10  power  \n",
              "T-test  4.491e+111    1.0  "
            ],
            "text/html": [
              "\n",
              "  <div id=\"df-3e8e660a-f3df-4f61-8d25-9240ae6d987e\">\n",
              "    <div class=\"colab-df-container\">\n",
              "      <div>\n",
              "<style scoped>\n",
              "    .dataframe tbody tr th:only-of-type {\n",
              "        vertical-align: middle;\n",
              "    }\n",
              "\n",
              "    .dataframe tbody tr th {\n",
              "        vertical-align: top;\n",
              "    }\n",
              "\n",
              "    .dataframe thead th {\n",
              "        text-align: right;\n",
              "    }\n",
              "</style>\n",
              "<table border=\"1\" class=\"dataframe\">\n",
              "  <thead>\n",
              "    <tr style=\"text-align: right;\">\n",
              "      <th></th>\n",
              "      <th>T</th>\n",
              "      <th>dof</th>\n",
              "      <th>alternative</th>\n",
              "      <th>p-val</th>\n",
              "      <th>CI95%</th>\n",
              "      <th>cohen-d</th>\n",
              "      <th>BF10</th>\n",
              "      <th>power</th>\n",
              "    </tr>\n",
              "  </thead>\n",
              "  <tbody>\n",
              "    <tr>\n",
              "      <th>T-test</th>\n",
              "      <td>30.298384</td>\n",
              "      <td>499</td>\n",
              "      <td>greater</td>\n",
              "      <td>1.800317e-115</td>\n",
              "      <td>[6.46, inf]</td>\n",
              "      <td>0.454202</td>\n",
              "      <td>4.491e+111</td>\n",
              "      <td>1.0</td>\n",
              "    </tr>\n",
              "  </tbody>\n",
              "</table>\n",
              "</div>\n",
              "      <button class=\"colab-df-convert\" onclick=\"convertToInteractive('df-3e8e660a-f3df-4f61-8d25-9240ae6d987e')\"\n",
              "              title=\"Convert this dataframe to an interactive table.\"\n",
              "              style=\"display:none;\">\n",
              "        \n",
              "  <svg xmlns=\"http://www.w3.org/2000/svg\" height=\"24px\"viewBox=\"0 0 24 24\"\n",
              "       width=\"24px\">\n",
              "    <path d=\"M0 0h24v24H0V0z\" fill=\"none\"/>\n",
              "    <path d=\"M18.56 5.44l.94 2.06.94-2.06 2.06-.94-2.06-.94-.94-2.06-.94 2.06-2.06.94zm-11 1L8.5 8.5l.94-2.06 2.06-.94-2.06-.94L8.5 2.5l-.94 2.06-2.06.94zm10 10l.94 2.06.94-2.06 2.06-.94-2.06-.94-.94-2.06-.94 2.06-2.06.94z\"/><path d=\"M17.41 7.96l-1.37-1.37c-.4-.4-.92-.59-1.43-.59-.52 0-1.04.2-1.43.59L10.3 9.45l-7.72 7.72c-.78.78-.78 2.05 0 2.83L4 21.41c.39.39.9.59 1.41.59.51 0 1.02-.2 1.41-.59l7.78-7.78 2.81-2.81c.8-.78.8-2.07 0-2.86zM5.41 20L4 18.59l7.72-7.72 1.47 1.35L5.41 20z\"/>\n",
              "  </svg>\n",
              "      </button>\n",
              "      \n",
              "  <style>\n",
              "    .colab-df-container {\n",
              "      display:flex;\n",
              "      flex-wrap:wrap;\n",
              "      gap: 12px;\n",
              "    }\n",
              "\n",
              "    .colab-df-convert {\n",
              "      background-color: #E8F0FE;\n",
              "      border: none;\n",
              "      border-radius: 50%;\n",
              "      cursor: pointer;\n",
              "      display: none;\n",
              "      fill: #1967D2;\n",
              "      height: 32px;\n",
              "      padding: 0 0 0 0;\n",
              "      width: 32px;\n",
              "    }\n",
              "\n",
              "    .colab-df-convert:hover {\n",
              "      background-color: #E2EBFA;\n",
              "      box-shadow: 0px 1px 2px rgba(60, 64, 67, 0.3), 0px 1px 3px 1px rgba(60, 64, 67, 0.15);\n",
              "      fill: #174EA6;\n",
              "    }\n",
              "\n",
              "    [theme=dark] .colab-df-convert {\n",
              "      background-color: #3B4455;\n",
              "      fill: #D2E3FC;\n",
              "    }\n",
              "\n",
              "    [theme=dark] .colab-df-convert:hover {\n",
              "      background-color: #434B5C;\n",
              "      box-shadow: 0px 1px 3px 1px rgba(0, 0, 0, 0.15);\n",
              "      filter: drop-shadow(0px 1px 2px rgba(0, 0, 0, 0.3));\n",
              "      fill: #FFFFFF;\n",
              "    }\n",
              "  </style>\n",
              "\n",
              "      <script>\n",
              "        const buttonEl =\n",
              "          document.querySelector('#df-3e8e660a-f3df-4f61-8d25-9240ae6d987e button.colab-df-convert');\n",
              "        buttonEl.style.display =\n",
              "          google.colab.kernel.accessAllowed ? 'block' : 'none';\n",
              "\n",
              "        async function convertToInteractive(key) {\n",
              "          const element = document.querySelector('#df-3e8e660a-f3df-4f61-8d25-9240ae6d987e');\n",
              "          const dataTable =\n",
              "            await google.colab.kernel.invokeFunction('convertToInteractive',\n",
              "                                                     [key], {});\n",
              "          if (!dataTable) return;\n",
              "\n",
              "          const docLinkHtml = 'Like what you see? Visit the ' +\n",
              "            '<a target=\"_blank\" href=https://colab.research.google.com/notebooks/data_table.ipynb>data table notebook</a>'\n",
              "            + ' to learn more about interactive tables.';\n",
              "          element.innerHTML = '';\n",
              "          dataTable['output_type'] = 'display_data';\n",
              "          await google.colab.output.renderOutput(dataTable, element);\n",
              "          const docLink = document.createElement('div');\n",
              "          docLink.innerHTML = docLinkHtml;\n",
              "          element.appendChild(docLink);\n",
              "        }\n",
              "      </script>\n",
              "    </div>\n",
              "  </div>\n",
              "  "
            ]
          },
          "metadata": {}
        },
        {
          "output_type": "display_data",
          "data": {
            "text/plain": [
              "             W-val alternative         p-val       RBC      CLES\n",
              "Wilcoxon  122849.0     greater  8.901980e-78  0.961661  0.644816"
            ],
            "text/html": [
              "\n",
              "  <div id=\"df-2246d342-b7b3-483d-af7d-f3d845f7c874\">\n",
              "    <div class=\"colab-df-container\">\n",
              "      <div>\n",
              "<style scoped>\n",
              "    .dataframe tbody tr th:only-of-type {\n",
              "        vertical-align: middle;\n",
              "    }\n",
              "\n",
              "    .dataframe tbody tr th {\n",
              "        vertical-align: top;\n",
              "    }\n",
              "\n",
              "    .dataframe thead th {\n",
              "        text-align: right;\n",
              "    }\n",
              "</style>\n",
              "<table border=\"1\" class=\"dataframe\">\n",
              "  <thead>\n",
              "    <tr style=\"text-align: right;\">\n",
              "      <th></th>\n",
              "      <th>W-val</th>\n",
              "      <th>alternative</th>\n",
              "      <th>p-val</th>\n",
              "      <th>RBC</th>\n",
              "      <th>CLES</th>\n",
              "    </tr>\n",
              "  </thead>\n",
              "  <tbody>\n",
              "    <tr>\n",
              "      <th>Wilcoxon</th>\n",
              "      <td>122849.0</td>\n",
              "      <td>greater</td>\n",
              "      <td>8.901980e-78</td>\n",
              "      <td>0.961661</td>\n",
              "      <td>0.644816</td>\n",
              "    </tr>\n",
              "  </tbody>\n",
              "</table>\n",
              "</div>\n",
              "      <button class=\"colab-df-convert\" onclick=\"convertToInteractive('df-2246d342-b7b3-483d-af7d-f3d845f7c874')\"\n",
              "              title=\"Convert this dataframe to an interactive table.\"\n",
              "              style=\"display:none;\">\n",
              "        \n",
              "  <svg xmlns=\"http://www.w3.org/2000/svg\" height=\"24px\"viewBox=\"0 0 24 24\"\n",
              "       width=\"24px\">\n",
              "    <path d=\"M0 0h24v24H0V0z\" fill=\"none\"/>\n",
              "    <path d=\"M18.56 5.44l.94 2.06.94-2.06 2.06-.94-2.06-.94-.94-2.06-.94 2.06-2.06.94zm-11 1L8.5 8.5l.94-2.06 2.06-.94-2.06-.94L8.5 2.5l-.94 2.06-2.06.94zm10 10l.94 2.06.94-2.06 2.06-.94-2.06-.94-.94-2.06-.94 2.06-2.06.94z\"/><path d=\"M17.41 7.96l-1.37-1.37c-.4-.4-.92-.59-1.43-.59-.52 0-1.04.2-1.43.59L10.3 9.45l-7.72 7.72c-.78.78-.78 2.05 0 2.83L4 21.41c.39.39.9.59 1.41.59.51 0 1.02-.2 1.41-.59l7.78-7.78 2.81-2.81c.8-.78.8-2.07 0-2.86zM5.41 20L4 18.59l7.72-7.72 1.47 1.35L5.41 20z\"/>\n",
              "  </svg>\n",
              "      </button>\n",
              "      \n",
              "  <style>\n",
              "    .colab-df-container {\n",
              "      display:flex;\n",
              "      flex-wrap:wrap;\n",
              "      gap: 12px;\n",
              "    }\n",
              "\n",
              "    .colab-df-convert {\n",
              "      background-color: #E8F0FE;\n",
              "      border: none;\n",
              "      border-radius: 50%;\n",
              "      cursor: pointer;\n",
              "      display: none;\n",
              "      fill: #1967D2;\n",
              "      height: 32px;\n",
              "      padding: 0 0 0 0;\n",
              "      width: 32px;\n",
              "    }\n",
              "\n",
              "    .colab-df-convert:hover {\n",
              "      background-color: #E2EBFA;\n",
              "      box-shadow: 0px 1px 2px rgba(60, 64, 67, 0.3), 0px 1px 3px 1px rgba(60, 64, 67, 0.15);\n",
              "      fill: #174EA6;\n",
              "    }\n",
              "\n",
              "    [theme=dark] .colab-df-convert {\n",
              "      background-color: #3B4455;\n",
              "      fill: #D2E3FC;\n",
              "    }\n",
              "\n",
              "    [theme=dark] .colab-df-convert:hover {\n",
              "      background-color: #434B5C;\n",
              "      box-shadow: 0px 1px 3px 1px rgba(0, 0, 0, 0.15);\n",
              "      filter: drop-shadow(0px 1px 2px rgba(0, 0, 0, 0.3));\n",
              "      fill: #FFFFFF;\n",
              "    }\n",
              "  </style>\n",
              "\n",
              "      <script>\n",
              "        const buttonEl =\n",
              "          document.querySelector('#df-2246d342-b7b3-483d-af7d-f3d845f7c874 button.colab-df-convert');\n",
              "        buttonEl.style.display =\n",
              "          google.colab.kernel.accessAllowed ? 'block' : 'none';\n",
              "\n",
              "        async function convertToInteractive(key) {\n",
              "          const element = document.querySelector('#df-2246d342-b7b3-483d-af7d-f3d845f7c874');\n",
              "          const dataTable =\n",
              "            await google.colab.kernel.invokeFunction('convertToInteractive',\n",
              "                                                     [key], {});\n",
              "          if (!dataTable) return;\n",
              "\n",
              "          const docLinkHtml = 'Like what you see? Visit the ' +\n",
              "            '<a target=\"_blank\" href=https://colab.research.google.com/notebooks/data_table.ipynb>data table notebook</a>'\n",
              "            + ' to learn more about interactive tables.';\n",
              "          element.innerHTML = '';\n",
              "          dataTable['output_type'] = 'display_data';\n",
              "          await google.colab.output.renderOutput(dataTable, element);\n",
              "          const docLink = document.createElement('div');\n",
              "          docLink.innerHTML = docLinkHtml;\n",
              "          element.appendChild(docLink);\n",
              "        }\n",
              "      </script>\n",
              "    </div>\n",
              "  </div>\n",
              "  "
            ]
          },
          "metadata": {}
        }
      ]
    },
    {
      "cell_type": "markdown",
      "source": [
        "## **Non-parametric `ANOVA` and unpaired `t-tests`**\n"
      ],
      "metadata": {
        "id": "XMiI8EOMHHRP"
      }
    },
    {
      "cell_type": "markdown",
      "source": [
        "#### **`Wilcoxon-Mann-Whitney`**\n",
        "\n",
        "Another class of non-parametric hypothesis tests are called rank sum tests. Ranks are the positions of numeric values from smallest to largest. Think of them as positions in running events: whoever has the fastest (smallest) time is rank 1, second fastest is rank 2, and so on.\n",
        "\n",
        "By calculating on the ranks of data instead of the actual values, you can avoid making assumptions about the distribution of the test statistic. It's more robust in the same way that a median is more robust than a mean.\n",
        "\n",
        "One common rank-based test is the Wilcoxon-Mann-Whitney test, which is like a non-parametric t-test.\n"
      ],
      "metadata": {
        "id": "j7_mFLOzHIs_"
      }
    },
    {
      "cell_type": "code",
      "source": [
        "# Choose the weight_kilograms and late columns\n",
        "weight_vs_late = late_shipments[['weight_kilograms', 'late']]\n",
        "\n",
        "# Convert weight_vs_late into wide format\n",
        "weight_vs_late_wide = weight_vs_late.pivot(columns = 'late', values = 'weight_kilograms')\n",
        "\n",
        "\n",
        "# Run a two-sided Wilcoxon-Mann-Whitney test on weight_kilograms vs. late\n",
        "wmw_test = pg.mwu(x= weight_vs_late_wide['No'], y= weight_vs_late_wide['Yes'], alternative = 'two-sided')\n",
        "\n",
        "# Print the test results\n",
        "display(wmw_test)"
      ],
      "metadata": {
        "colab": {
          "base_uri": "https://localhost:8080/",
          "height": 81
        },
        "id": "w7KVamrhqt8A",
        "outputId": "40ae4e7e-fe76-43e0-e238-ba5e91f9b48a"
      },
      "execution_count": 57,
      "outputs": [
        {
          "output_type": "display_data",
          "data": {
            "text/plain": [
              "       U-val alternative     p-val       RBC      CLES\n",
              "MWU  19134.0   two-sided  0.000014  0.331902  0.334049"
            ],
            "text/html": [
              "\n",
              "  <div id=\"df-0a1b7264-f03a-4b58-a7b3-a703e8b7e3d9\">\n",
              "    <div class=\"colab-df-container\">\n",
              "      <div>\n",
              "<style scoped>\n",
              "    .dataframe tbody tr th:only-of-type {\n",
              "        vertical-align: middle;\n",
              "    }\n",
              "\n",
              "    .dataframe tbody tr th {\n",
              "        vertical-align: top;\n",
              "    }\n",
              "\n",
              "    .dataframe thead th {\n",
              "        text-align: right;\n",
              "    }\n",
              "</style>\n",
              "<table border=\"1\" class=\"dataframe\">\n",
              "  <thead>\n",
              "    <tr style=\"text-align: right;\">\n",
              "      <th></th>\n",
              "      <th>U-val</th>\n",
              "      <th>alternative</th>\n",
              "      <th>p-val</th>\n",
              "      <th>RBC</th>\n",
              "      <th>CLES</th>\n",
              "    </tr>\n",
              "  </thead>\n",
              "  <tbody>\n",
              "    <tr>\n",
              "      <th>MWU</th>\n",
              "      <td>19134.0</td>\n",
              "      <td>two-sided</td>\n",
              "      <td>0.000014</td>\n",
              "      <td>0.331902</td>\n",
              "      <td>0.334049</td>\n",
              "    </tr>\n",
              "  </tbody>\n",
              "</table>\n",
              "</div>\n",
              "      <button class=\"colab-df-convert\" onclick=\"convertToInteractive('df-0a1b7264-f03a-4b58-a7b3-a703e8b7e3d9')\"\n",
              "              title=\"Convert this dataframe to an interactive table.\"\n",
              "              style=\"display:none;\">\n",
              "        \n",
              "  <svg xmlns=\"http://www.w3.org/2000/svg\" height=\"24px\"viewBox=\"0 0 24 24\"\n",
              "       width=\"24px\">\n",
              "    <path d=\"M0 0h24v24H0V0z\" fill=\"none\"/>\n",
              "    <path d=\"M18.56 5.44l.94 2.06.94-2.06 2.06-.94-2.06-.94-.94-2.06-.94 2.06-2.06.94zm-11 1L8.5 8.5l.94-2.06 2.06-.94-2.06-.94L8.5 2.5l-.94 2.06-2.06.94zm10 10l.94 2.06.94-2.06 2.06-.94-2.06-.94-.94-2.06-.94 2.06-2.06.94z\"/><path d=\"M17.41 7.96l-1.37-1.37c-.4-.4-.92-.59-1.43-.59-.52 0-1.04.2-1.43.59L10.3 9.45l-7.72 7.72c-.78.78-.78 2.05 0 2.83L4 21.41c.39.39.9.59 1.41.59.51 0 1.02-.2 1.41-.59l7.78-7.78 2.81-2.81c.8-.78.8-2.07 0-2.86zM5.41 20L4 18.59l7.72-7.72 1.47 1.35L5.41 20z\"/>\n",
              "  </svg>\n",
              "      </button>\n",
              "      \n",
              "  <style>\n",
              "    .colab-df-container {\n",
              "      display:flex;\n",
              "      flex-wrap:wrap;\n",
              "      gap: 12px;\n",
              "    }\n",
              "\n",
              "    .colab-df-convert {\n",
              "      background-color: #E8F0FE;\n",
              "      border: none;\n",
              "      border-radius: 50%;\n",
              "      cursor: pointer;\n",
              "      display: none;\n",
              "      fill: #1967D2;\n",
              "      height: 32px;\n",
              "      padding: 0 0 0 0;\n",
              "      width: 32px;\n",
              "    }\n",
              "\n",
              "    .colab-df-convert:hover {\n",
              "      background-color: #E2EBFA;\n",
              "      box-shadow: 0px 1px 2px rgba(60, 64, 67, 0.3), 0px 1px 3px 1px rgba(60, 64, 67, 0.15);\n",
              "      fill: #174EA6;\n",
              "    }\n",
              "\n",
              "    [theme=dark] .colab-df-convert {\n",
              "      background-color: #3B4455;\n",
              "      fill: #D2E3FC;\n",
              "    }\n",
              "\n",
              "    [theme=dark] .colab-df-convert:hover {\n",
              "      background-color: #434B5C;\n",
              "      box-shadow: 0px 1px 3px 1px rgba(0, 0, 0, 0.15);\n",
              "      filter: drop-shadow(0px 1px 2px rgba(0, 0, 0, 0.3));\n",
              "      fill: #FFFFFF;\n",
              "    }\n",
              "  </style>\n",
              "\n",
              "      <script>\n",
              "        const buttonEl =\n",
              "          document.querySelector('#df-0a1b7264-f03a-4b58-a7b3-a703e8b7e3d9 button.colab-df-convert');\n",
              "        buttonEl.style.display =\n",
              "          google.colab.kernel.accessAllowed ? 'block' : 'none';\n",
              "\n",
              "        async function convertToInteractive(key) {\n",
              "          const element = document.querySelector('#df-0a1b7264-f03a-4b58-a7b3-a703e8b7e3d9');\n",
              "          const dataTable =\n",
              "            await google.colab.kernel.invokeFunction('convertToInteractive',\n",
              "                                                     [key], {});\n",
              "          if (!dataTable) return;\n",
              "\n",
              "          const docLinkHtml = 'Like what you see? Visit the ' +\n",
              "            '<a target=\"_blank\" href=https://colab.research.google.com/notebooks/data_table.ipynb>data table notebook</a>'\n",
              "            + ' to learn more about interactive tables.';\n",
              "          element.innerHTML = '';\n",
              "          dataTable['output_type'] = 'display_data';\n",
              "          await google.colab.output.renderOutput(dataTable, element);\n",
              "          const docLink = document.createElement('div');\n",
              "          docLink.innerHTML = docLinkHtml;\n",
              "          element.appendChild(docLink);\n",
              "        }\n",
              "      </script>\n",
              "    </div>\n",
              "  </div>\n",
              "  "
            ]
          },
          "metadata": {}
        }
      ]
    },
    {
      "cell_type": "markdown",
      "source": [
        "#### **`Kruskal-Wallis`**\n",
        "\n",
        "Recall that the Kruskal-Wallis test is a non-parametric version of an ANOVA test, comparing the means across multiple groups.\n"
      ],
      "metadata": {
        "id": "WXyp9OdPHKBp"
      }
    },
    {
      "cell_type": "code",
      "source": [
        "# Run a Kruskal-Wallis test on weight_kilograms vs. shipment_mode\n",
        "kw_test = pg.kruskal(data = late_shipments, dv= 'weight_kilograms', between = 'freight_cost_groups')\n",
        "\n",
        "# Print the results\n",
        "print(kw_test)"
      ],
      "metadata": {
        "colab": {
          "base_uri": "https://localhost:8080/"
        },
        "id": "asV_niehq6X-",
        "outputId": "847788ee-aaf2-48eb-b89e-54602f04210e"
      },
      "execution_count": 58,
      "outputs": [
        {
          "output_type": "stream",
          "name": "stdout",
          "text": [
            "                      Source  ddof1           H         p-unc\n",
            "Kruskal  freight_cost_groups      1  428.607103  3.266278e-95\n"
          ]
        }
      ]
    },
    {
      "cell_type": "markdown",
      "source": [
        "## **Congratulations!**"
      ],
      "metadata": {
        "id": "Ojox-QpDHLX3"
      }
    },
    {
      "cell_type": "markdown",
      "source": [
        "#### $\\color{skyblue}{\\textbf{Connect with me:}}$\n",
        "\n",
        "\n",
        "[<img align=\"left\" src=\"https://cdn4.iconfinder.com/data/icons/social-media-icons-the-circle-set/48/twitter_circle-512.png\" width=\"32px\"/>][twitter]\n",
        "[<img align=\"left\" src=\"https://cdn-icons-png.flaticon.com/512/145/145807.png\" width=\"32px\"/>][linkedin]\n",
        "[<img align=\"left\" src=\"https://cdn2.iconfinder.com/data/icons/whcompare-blue-green-web-hosting-1/425/cdn-512.png\" width=\"32px\"/>][Portfolio]\n",
        "\n",
        "[twitter]: https://twitter.com/F4izy\n",
        "[linkedin]: https://www.linkedin.com/in/mohd-faizy/\n",
        "[Portfolio]: https://mohdfaizy.com/\n"
      ],
      "metadata": {
        "id": "2ZuprT2Czqry"
      }
    }
  ]
}