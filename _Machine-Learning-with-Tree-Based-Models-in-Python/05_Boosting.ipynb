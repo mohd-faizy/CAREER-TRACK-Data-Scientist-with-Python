{
  "nbformat": 4,
  "nbformat_minor": 0,
  "metadata": {
    "colab": {
      "name": "04_Boosting.ipynb",
      "provenance": [],
      "toc_visible": true,
      "authorship_tag": "ABX9TyPk/+oEGUJbLeoIb8ydCu8L",
      "include_colab_link": true
    },
    "kernelspec": {
      "name": "python3",
      "display_name": "Python 3"
    }
  },
  "cells": [
    {
      "cell_type": "markdown",
      "metadata": {
        "id": "view-in-github",
        "colab_type": "text"
      },
      "source": [
        "<a href=\"https://colab.research.google.com/github/mohd-faizy/CAREER-TRACK-Data-Scientist-with-Python/blob/main/04_Boosting.ipynb\" target=\"_parent\"><img src=\"https://colab.research.google.com/assets/colab-badge.svg\" alt=\"Open In Colab\"/></a>"
      ]
    },
    {
      "cell_type": "markdown",
      "metadata": {
        "id": "BSuEABPa0--s"
      },
      "source": [
        "--- \r\n",
        "<strong> \r\n",
        "    <h1 align='center'>Boosting</h1> \r\n",
        "</strong>\r\n",
        "\r\n",
        "---\r\n"
      ]
    },
    {
      "cell_type": "markdown",
      "metadata": {
        "id": "9TyMgD0-JNWp"
      },
      "source": [
        "<p align='center'>\r\n",
        "  <a href=\"#\">\r\n",
        "    <img src='https://github.com/mohd-faizy/CAREER-TRACK-Data-Scientist-with-Python/blob/main/28_Machine-Learning-with-Tree-Based-Models-in-Python/_img/boosting.png?raw=true'>\r\n",
        "  </a>\r\n",
        "</p>"
      ]
    },
    {
      "cell_type": "markdown",
      "metadata": {
        "id": "CXoFEDxJZIbT"
      },
      "source": [
        "![Boosting](https://github.com/mohd-faizy/CAREER-TRACK-Data-Scientist-with-Python/blob/main/28_Machine-Learning-with-Tree-Based-Models-in-Python/_img/Boosting2x.png?raw=true)"
      ]
    },
    {
      "cell_type": "markdown",
      "metadata": {
        "id": "Ba2J0Xpzop6Z"
      },
      "source": [
        "__Clone the Repository__"
      ]
    },
    {
      "cell_type": "code",
      "metadata": {
        "colab": {
          "base_uri": "https://localhost:8080/"
        },
        "id": "eHRsiSczR0fB",
        "outputId": "cd9680da-df84-4401-caaf-d650a7b5c838"
      },
      "source": [
        "! git clone https://github.com/mohd-faizy/CAREER-TRACK-Data-Scientist-with-Python.git"
      ],
      "execution_count": 1,
      "outputs": [
        {
          "output_type": "stream",
          "text": [
            "Cloning into 'CAREER-TRACK-Data-Scientist-with-Python'...\n",
            "remote: Enumerating objects: 324, done.\u001b[K\n",
            "remote: Counting objects: 100% (324/324), done.\u001b[K\n",
            "remote: Compressing objects: 100% (293/293), done.\u001b[K\n",
            "remote: Total 2510 (delta 109), reused 205 (delta 30), pack-reused 2186\u001b[K\n",
            "Receiving objects: 100% (2510/2510), 304.21 MiB | 32.72 MiB/s, done.\n",
            "Resolving deltas: 100% (887/887), done.\n",
            "Checking out files: 100% (1056/1056), done.\n"
          ],
          "name": "stdout"
        }
      ]
    },
    {
      "cell_type": "code",
      "metadata": {
        "id": "KJN0hZ3RWQsh"
      },
      "source": [
        "import pandas as pd\r\n",
        "import numpy as np\r\n",
        "import matplotlib.pyplot as plt\r\n",
        "import seaborn as sns\r\n",
        "import os\r\n",
        "\r\n",
        "plt.style.use('ggplot')\r\n",
        "#sns.set_theme(style='whitegrid')\r\n",
        "%matplotlib inline"
      ],
      "execution_count": 2,
      "outputs": []
    },
    {
      "cell_type": "code",
      "metadata": {
        "colab": {
          "base_uri": "https://localhost:8080/"
        },
        "id": "nu0TmPzKTj2V",
        "outputId": "ffb23494-6048-473d-ce2c-d42d9dcba759"
      },
      "source": [
        "os.chdir('/content/CAREER-TRACK-Data-Scientist-with-Python/28_Machine-Learning-with-Tree-Based-Models-in-Python/_dataset')\r\n",
        "cwd = os.getcwd()\r\n",
        "print('Curent working directory is ', cwd)"
      ],
      "execution_count": 3,
      "outputs": [
        {
          "output_type": "stream",
          "text": [
            "Curent working directory is  /content/CAREER-TRACK-Data-Scientist-with-Python/28_Machine-Learning-with-Tree-Based-Models-in-Python/_dataset\n"
          ],
          "name": "stdout"
        }
      ]
    },
    {
      "cell_type": "code",
      "metadata": {
        "colab": {
          "base_uri": "https://localhost:8080/"
        },
        "id": "b6FFGoWhUD1G",
        "outputId": "0d7b17e4-9938-4854-9957-9013d6582307"
      },
      "source": [
        "ls"
      ],
      "execution_count": 4,
      "outputs": [
        {
          "output_type": "stream",
          "text": [
            "auto.csv   indian_liver_patient.csv               wbc.csv\n",
            "bikes.csv  indian_liver_patient_preprocessed.csv\n"
          ],
          "name": "stdout"
        }
      ]
    },
    {
      "cell_type": "markdown",
      "metadata": {
        "id": "vZXmb51mcI4F"
      },
      "source": [
        "# **Boosting**\r\n",
        "\r\n",
        "Boosting refers to an **ensemble method** in which many predictors are trained and ***each predictor learns from the errors of its predecessor***.\r\n",
        "\r\n",
        "**Boosting:**\r\n",
        "\r\n",
        "- Ensemble method combining several __weak learners__ to from a __strong learner__\r\n",
        "    - __Weak learner__: Model doing slightly better than radom guessing\r\n",
        "        - e.g. __Decision stump__ (CART whose `max depth=1`)\r\n",
        "\r\n",
        "- Train predictors sequentially\r\n",
        "Each predictor tries to correct its predecessor"
      ]
    },
    {
      "cell_type": "markdown",
      "metadata": {
        "id": "AeemePfMcGoO"
      },
      "source": [
        "## **AdaBoost**\r\n",
        "\r\n",
        "- Stands for **Adaptive Boosting**.\r\n",
        "\r\n",
        "- Each predictor pays more attention to the instances wrongly predicted by its predecessor, which is achieved by **chaging the weights of training instances** after each individual model.\r\n",
        "\r\n",
        "- Each predictor is assigne a coefficient $α$, which depends on the predictor’s training error.\r\n",
        "\r\n",
        "![adaBoost](https://github.com/mohd-faizy/CAREER-TRACK-Data-Scientist-with-Python/blob/main/28_Machine-Learning-with-Tree-Based-Models-in-Python/_img/AdaBoost.png?raw=true)\r\n",
        "\r\n",
        "- Details:\r\n",
        "    - Suppose we have $N$ predictors in total.\r\n",
        "    - The $predictor_1$ is trained on the initial dataset $(X,y)$, and the training error $e_1$ is determined.\r\n",
        "\r\n",
        "    - We use $e_1$ to determine $α_1$, which is $predictor_1$’s coefficient.\r\n",
        "\r\n",
        "    - $ηα_1$ is then used to determine $W2$ of the training instances for $predictor_2$.\r\n",
        "\r\n",
        "        - Here, __the incorrectly predicted instances will gain a higher weight__, which would force the next predictor to pay more attention to these instances.\r\n",
        "\r\n",
        "    - The above process is repeated sequentially, until $N$ predictors forming the ensemble are trained.\r\n",
        "\r\n",
        "\r\n",
        "- An important parameter: learning rate $η$.\r\n",
        "    - $η∈[0,1]$\r\n",
        "    - It is used to shrink the coefficient α of a trained predictor\r\n",
        "    - Tradeoff between $η$ and the number of predictors\r\n",
        "        - Small $η$ should be compensated by a greater number of predictors.\r\n",
        "\r\n",
        "- Output a final prediction:\r\n",
        "\r\n",
        "    - Classification: aggregates predictions by majority voting. `AdaBoostClassifier`.\r\n",
        "\r\n",
        "    - Regression: aggregates predictions through averaging. `AdaBoostRegressor`\r\n"
      ]
    },
    {
      "cell_type": "code",
      "metadata": {
        "id": "MzcGlH8PRBzj",
        "colab": {
          "base_uri": "https://localhost:8080/",
          "height": 217
        },
        "outputId": "d791af43-c770-4787-aeea-cbc12e2bf0f5"
      },
      "source": [
        "indian = pd.read_csv('indian_liver_patient_preprocessed.csv', index_col=0)\n",
        "indian.head()"
      ],
      "execution_count": 5,
      "outputs": [
        {
          "output_type": "execute_result",
          "data": {
            "text/html": [
              "<div>\n",
              "<style scoped>\n",
              "    .dataframe tbody tr th:only-of-type {\n",
              "        vertical-align: middle;\n",
              "    }\n",
              "\n",
              "    .dataframe tbody tr th {\n",
              "        vertical-align: top;\n",
              "    }\n",
              "\n",
              "    .dataframe thead th {\n",
              "        text-align: right;\n",
              "    }\n",
              "</style>\n",
              "<table border=\"1\" class=\"dataframe\">\n",
              "  <thead>\n",
              "    <tr style=\"text-align: right;\">\n",
              "      <th></th>\n",
              "      <th>Age_std</th>\n",
              "      <th>Total_Bilirubin_std</th>\n",
              "      <th>Direct_Bilirubin_std</th>\n",
              "      <th>Alkaline_Phosphotase_std</th>\n",
              "      <th>Alamine_Aminotransferase_std</th>\n",
              "      <th>Aspartate_Aminotransferase_std</th>\n",
              "      <th>Total_Protiens_std</th>\n",
              "      <th>Albumin_std</th>\n",
              "      <th>Albumin_and_Globulin_Ratio_std</th>\n",
              "      <th>Is_male_std</th>\n",
              "      <th>Liver_disease</th>\n",
              "    </tr>\n",
              "  </thead>\n",
              "  <tbody>\n",
              "    <tr>\n",
              "      <th>0</th>\n",
              "      <td>1.247403</td>\n",
              "      <td>-0.420320</td>\n",
              "      <td>-0.495414</td>\n",
              "      <td>-0.428870</td>\n",
              "      <td>-0.355832</td>\n",
              "      <td>-0.319111</td>\n",
              "      <td>0.293722</td>\n",
              "      <td>0.203446</td>\n",
              "      <td>-0.147390</td>\n",
              "      <td>0</td>\n",
              "      <td>1</td>\n",
              "    </tr>\n",
              "    <tr>\n",
              "      <th>1</th>\n",
              "      <td>1.062306</td>\n",
              "      <td>1.218936</td>\n",
              "      <td>1.423518</td>\n",
              "      <td>1.675083</td>\n",
              "      <td>-0.093573</td>\n",
              "      <td>-0.035962</td>\n",
              "      <td>0.939655</td>\n",
              "      <td>0.077462</td>\n",
              "      <td>-0.648461</td>\n",
              "      <td>1</td>\n",
              "      <td>1</td>\n",
              "    </tr>\n",
              "    <tr>\n",
              "      <th>2</th>\n",
              "      <td>1.062306</td>\n",
              "      <td>0.640375</td>\n",
              "      <td>0.926017</td>\n",
              "      <td>0.816243</td>\n",
              "      <td>-0.115428</td>\n",
              "      <td>-0.146459</td>\n",
              "      <td>0.478274</td>\n",
              "      <td>0.203446</td>\n",
              "      <td>-0.178707</td>\n",
              "      <td>1</td>\n",
              "      <td>1</td>\n",
              "    </tr>\n",
              "    <tr>\n",
              "      <th>3</th>\n",
              "      <td>0.815511</td>\n",
              "      <td>-0.372106</td>\n",
              "      <td>-0.388807</td>\n",
              "      <td>-0.449416</td>\n",
              "      <td>-0.366760</td>\n",
              "      <td>-0.312205</td>\n",
              "      <td>0.293722</td>\n",
              "      <td>0.329431</td>\n",
              "      <td>0.165780</td>\n",
              "      <td>1</td>\n",
              "      <td>1</td>\n",
              "    </tr>\n",
              "    <tr>\n",
              "      <th>4</th>\n",
              "      <td>1.679294</td>\n",
              "      <td>0.093956</td>\n",
              "      <td>0.179766</td>\n",
              "      <td>-0.395996</td>\n",
              "      <td>-0.295731</td>\n",
              "      <td>-0.177537</td>\n",
              "      <td>0.755102</td>\n",
              "      <td>-0.930414</td>\n",
              "      <td>-1.713237</td>\n",
              "      <td>1</td>\n",
              "      <td>1</td>\n",
              "    </tr>\n",
              "  </tbody>\n",
              "</table>\n",
              "</div>"
            ],
            "text/plain": [
              "    Age_std  Total_Bilirubin_std  ...  Is_male_std  Liver_disease\n",
              "0  1.247403            -0.420320  ...            0              1\n",
              "1  1.062306             1.218936  ...            1              1\n",
              "2  1.062306             0.640375  ...            1              1\n",
              "3  0.815511            -0.372106  ...            1              1\n",
              "4  1.679294             0.093956  ...            1              1\n",
              "\n",
              "[5 rows x 11 columns]"
            ]
          },
          "metadata": {
            "tags": []
          },
          "execution_count": 5
        }
      ]
    },
    {
      "cell_type": "code",
      "metadata": {
        "id": "0Fpq067tRBzl",
        "colab": {
          "base_uri": "https://localhost:8080/"
        },
        "outputId": "319821b2-b9c5-40b0-8552-f5207d5de8fe"
      },
      "source": [
        "# Imports\n",
        "from sklearn.tree import DecisionTreeClassifier\n",
        "from sklearn.ensemble import AdaBoostClassifier\n",
        "from sklearn.model_selection import train_test_split\n",
        "from sklearn.metrics import roc_auc_score\n",
        "\n",
        "X = indian.drop('Liver_disease', axis='columns')\n",
        "y = indian['Liver_disease']\n",
        "\n",
        "X_train, X_test, y_train, y_test = train_test_split(X, y, test_size=0.2, random_state=1)\n",
        "\n",
        "# Set seed for reproducibility\n",
        "SEED=1\n",
        "\n",
        "# Instantiate dt_clf\n",
        "dt_clf = DecisionTreeClassifier(max_depth = 2,\n",
        "                            random_state=SEED)\n",
        "\n",
        "# Instantiate ada_clf\n",
        "ada_clf = AdaBoostClassifier(base_estimator = dt_clf, \n",
        "                         n_estimators = 180,\n",
        "                         random_state = 1)\n",
        "\n",
        "# Fit ada_clf to the training set\n",
        "ada_clf.fit(X_train, y_train)\n",
        "\n",
        "# Compute the probabilities of obtaining the positive class\n",
        "y_pred_proba = ada_clf.predict_proba(X_test)[:, 1]\n",
        "\n",
        "# Evaluate test-set roc_auc_score\n",
        "ada_clf_roc_auc_score = roc_auc_score(y_test, y_pred_proba)\n",
        "\n",
        "# Print roc_auc_score\n",
        "print('ROC AUC score: {:.2f}'.format(ada_clf_roc_auc_score))"
      ],
      "execution_count": 6,
      "outputs": [
        {
          "output_type": "stream",
          "text": [
            "ROC AUC score: 0.63\n"
          ],
          "name": "stdout"
        }
      ]
    },
    {
      "cell_type": "code",
      "metadata": {
        "colab": {
          "base_uri": "https://localhost:8080/",
          "height": 462
        },
        "id": "TaQuamwHr3tz",
        "outputId": "bbd91e94-4ddb-4ef3-eb92-eda0daeabb2a"
      },
      "source": [
        "import sklearn.metrics as metrics\r\n",
        "import matplotlib.pyplot as plt\r\n",
        "\r\n",
        "# calculate the fpr and tpr for all thresholds of the classification\r\n",
        "# Compute the probabilities of obtaining the positive class\r\n",
        "y_pred_proba = ada_clf.predict_proba(X_test)\r\n",
        "preds = y_pred_proba[:, 1]\r\n",
        "fpr, tpr, threshold = metrics.roc_curve(y_test, preds)\r\n",
        "roc_auc = metrics.auc(fpr, tpr)\r\n",
        "\r\n",
        "# plot\r\n",
        "plt.figure(figsize=(12, 7))\r\n",
        "plt.title('Receiver Operating Characteristic(ROC)')\r\n",
        "plt.plot(fpr, tpr, color='tab:blue', label='AUC = %0.2f' % roc_auc)\r\n",
        "plt.legend(loc = 'lower right')\r\n",
        "plt.plot([0, 1], [0, 1],'r--') \r\n",
        "plt.xlim([0, 1])\r\n",
        "plt.ylim([0, 1])\r\n",
        "plt.ylabel('True Positive Rate')\r\n",
        "plt.xlabel('False Positive Rate')\r\n",
        "plt.show()"
      ],
      "execution_count": 7,
      "outputs": [
        {
          "output_type": "display_data",
          "data": {
            "image/png": "[encoded data removed]",
            "text/plain": [
              "<Figure size 864x504 with 1 Axes>"
            ]
          },
          "metadata": {
            "tags": [],
            "needs_background": "light"
          }
        }
      ]
    },
    {
      "cell_type": "markdown",
      "metadata": {
        "id": "ON14BwgmcMYw"
      },
      "source": [
        "## __Gradient Boosting (GB)__"
      ]
    },
    {
      "cell_type": "markdown",
      "metadata": {
        "id": "qVi5rS7VCTYY"
      },
      "source": [
        "__Gradient Boosting__\r\n",
        "\r\n",
        "- **Sequential correction** of predecessor’s errors.\r\n",
        "\r\n",
        "- **Does not tweak** the weights of training instances.\r\n",
        "\r\n",
        "- Fit each predictor is trained using its predecessor’s **residual errors** as labels.\r\n",
        "\r\n",
        "- **Gradient Boosted Trees**: a CART is used as a base learner.\r\n",
        "\r\n",
        "\r\n",
        "__Gradient Boosted Trees for Regression:__\r\n",
        "\r\n",
        "**Details:**\r\n",
        "\r\n",
        "- The ensemble consists $N$ trees.\r\n",
        "- ${Tree_1}$ is trained using feature matrix $X$ and the dataset labels $y$.\r\n",
        "\r\n",
        "- The prediction $\\hat{y_1}$ are used to determine the training set residual errors $r1$.\r\n",
        "\r\n",
        "- ${Tree_2}$ is then trained using feature matrix $X$ and residual error ${r_1}$ as labels.\r\n",
        "\r\n",
        "- The predicted residuals times learning rate, ${ηr_1}$, is then used to determine the residuals of residuals, which are labeled ${r_2}$\r\n",
        "\r\n",
        "- This process is repeated until all of the $N$ trees forming the ensemble are trained.\r\n",
        "\r\n",
        "\r\n",
        "__Important parameter: learning rate η__\r\n",
        "\r\n",
        "- ${η∈[0,1]}$\r\n",
        "\r\n",
        "- It is used to shrink the labels of each tree, which is essentially r of the previous trained tree.\r\n",
        "\r\n",
        "- Tradeoff between ${η}$ and the number of predictors.\r\n",
        "\r\n",
        "    - Small ${η}$ should be compensated by a greater number of predictors.\r\n",
        "\r\n",
        "\r\n",
        "\r\n",
        "__Shrinkage__\r\n",
        "\r\n",
        "- An important parameter used in training gradient boosted trees is __shrinkage__. In this context, shrinkage refers to the fact that the prediction of each tree in the ensemble is shrinked after it is multiplied by a learning rate $\\eta$, which is a number between 0 and 1.\r\n",
        "\r\n",
        "- Similarly to __AdaBoost__, there's a trade-off between $\\eta$ and the number of estimators `n_estimators`. Decreasing the learning rate $\\eta$ needs to be compensated by increasing the number of `n_estimators` in order for the ensemble to reach a certain performance.\r\n",
        "\r\n",
        "Ensemble is shrinked after it is multiplied by a learning rate $\\eta$.\r\n",
        "\r\n",
        "__Output a final prediction:__\r\n",
        "- __Classification:__\r\n",
        "- not covered in this course\r\n",
        "`GradientBoostingClassifier`\r\n",
        "- __Regression:__\r\n",
        "When a new instance is available, each tree predicts a label and the final ensemble prediction is given by the formula shown\r\n",
        "    - $y_{pred}=y_1+ηr_1+…+ηr_N$\r\n",
        "    - `GradientBoostingRegressor`\r\n",
        "\r\n",
        "<p align='center'>\r\n",
        "  <a href=\"#\">\r\n",
        "    <img src='https://github.com/mohd-faizy/CAREER-TRACK-Data-Scientist-with-Python/blob/main/28_Machine-Learning-with-Tree-Based-Models-in-Python/_img/GB_train.png?raw=true'>\r\n",
        "  </a>\r\n",
        "</p>"
      ]
    },
    {
      "cell_type": "markdown",
      "metadata": {
        "id": "kUy_1INtRBzs"
      },
      "source": [
        "__Define the GB regressor__\n",
        "\n",
        "We'll now revisit the [Bike Sharing Demand](https://www.kaggle.com/c/bike-sharing-demand) dataset. \n",
        "\n",
        "__TASK__\n",
        ">Our task is to predict the bike rental demand using historical weather data from the Capital Bikeshare program in Washington, D.C.. For this purpose, you'll be using a **gradient boosting regressor**.\n",
        "\n",
        "As a first step, is to instantiate a **gradient boosting regressor**."
      ]
    },
    {
      "cell_type": "code",
      "metadata": {
        "id": "WTOr8BtaRBzt",
        "colab": {
          "base_uri": "https://localhost:8080/",
          "height": 107
        },
        "outputId": "87d3305c-6d49-4c9d-f96b-4953eb256547"
      },
      "source": [
        "bike = pd.read_csv('bikes.csv')\n",
        "bike.head(2)"
      ],
      "execution_count": 8,
      "outputs": [
        {
          "output_type": "execute_result",
          "data": {
            "text/html": [
              "<div>\n",
              "<style scoped>\n",
              "    .dataframe tbody tr th:only-of-type {\n",
              "        vertical-align: middle;\n",
              "    }\n",
              "\n",
              "    .dataframe tbody tr th {\n",
              "        vertical-align: top;\n",
              "    }\n",
              "\n",
              "    .dataframe thead th {\n",
              "        text-align: right;\n",
              "    }\n",
              "</style>\n",
              "<table border=\"1\" class=\"dataframe\">\n",
              "  <thead>\n",
              "    <tr style=\"text-align: right;\">\n",
              "      <th></th>\n",
              "      <th>hr</th>\n",
              "      <th>holiday</th>\n",
              "      <th>workingday</th>\n",
              "      <th>temp</th>\n",
              "      <th>hum</th>\n",
              "      <th>windspeed</th>\n",
              "      <th>cnt</th>\n",
              "      <th>instant</th>\n",
              "      <th>mnth</th>\n",
              "      <th>yr</th>\n",
              "      <th>Clear to partly cloudy</th>\n",
              "      <th>Light Precipitation</th>\n",
              "      <th>Misty</th>\n",
              "    </tr>\n",
              "  </thead>\n",
              "  <tbody>\n",
              "    <tr>\n",
              "      <th>0</th>\n",
              "      <td>0</td>\n",
              "      <td>0</td>\n",
              "      <td>0</td>\n",
              "      <td>0.76</td>\n",
              "      <td>0.66</td>\n",
              "      <td>0.0000</td>\n",
              "      <td>149</td>\n",
              "      <td>13004</td>\n",
              "      <td>7</td>\n",
              "      <td>1</td>\n",
              "      <td>1</td>\n",
              "      <td>0</td>\n",
              "      <td>0</td>\n",
              "    </tr>\n",
              "    <tr>\n",
              "      <th>1</th>\n",
              "      <td>1</td>\n",
              "      <td>0</td>\n",
              "      <td>0</td>\n",
              "      <td>0.74</td>\n",
              "      <td>0.70</td>\n",
              "      <td>0.1343</td>\n",
              "      <td>93</td>\n",
              "      <td>13005</td>\n",
              "      <td>7</td>\n",
              "      <td>1</td>\n",
              "      <td>1</td>\n",
              "      <td>0</td>\n",
              "      <td>0</td>\n",
              "    </tr>\n",
              "  </tbody>\n",
              "</table>\n",
              "</div>"
            ],
            "text/plain": [
              "   hr  holiday  workingday  ...  Clear to partly cloudy  Light Precipitation  Misty\n",
              "0   0        0           0  ...                       1                    0      0\n",
              "1   1        0           0  ...                       1                    0      0\n",
              "\n",
              "[2 rows x 13 columns]"
            ]
          },
          "metadata": {
            "tags": []
          },
          "execution_count": 8
        }
      ]
    },
    {
      "cell_type": "code",
      "metadata": {
        "colab": {
          "base_uri": "https://localhost:8080/"
        },
        "id": "9oqUc9yvuADn",
        "outputId": "cf4ea876-cc21-4a92-f626-dcf925491b2d"
      },
      "source": [
        "# Imports\r\n",
        "from sklearn.ensemble import GradientBoostingRegressor\r\n",
        "from sklearn.model_selection import train_test_split\r\n",
        "from sklearn.metrics import mean_squared_error as MSE\r\n",
        "\r\n",
        "X = bike.drop('cnt', axis='columns')\r\n",
        "y = bike['cnt']\r\n",
        "\r\n",
        "X_train, X_test, y_train, y_test = train_test_split(X, y, test_size=0.2, random_state=2)\r\n",
        "\r\n",
        "# Instantiate gb\r\n",
        "gb = GradientBoostingRegressor(max_depth = 4,\r\n",
        "                               n_estimators = 200,\r\n",
        "                               random_state = 2)\r\n",
        "\r\n",
        "# Fit gb to the training set\r\n",
        "gb.fit(X_train, y_train)\r\n",
        "\r\n",
        "# Predict test set labels\r\n",
        "y_pred = gb.predict(X_test)\r\n",
        "\r\n",
        "# Compute MSE\r\n",
        "mse_test = MSE(y_test, y_pred)\r\n",
        "\r\n",
        "# Compute RMSE\r\n",
        "rmse_test = mse_test**(1/2)\r\n",
        "\r\n",
        "# Print RMSE\r\n",
        "print('Test set RMSE of gb: {:.3f}'.format(rmse_test))"
      ],
      "execution_count": 9,
      "outputs": [
        {
          "output_type": "stream",
          "text": [
            "Test set RMSE of gb: 49.537\n"
          ],
          "name": "stdout"
        }
      ]
    },
    {
      "cell_type": "markdown",
      "metadata": {
        "id": "uglfBGhlcMNd"
      },
      "source": [
        "## __Stochastic Gradient Boosting (SGB)__"
      ]
    },
    {
      "cell_type": "markdown",
      "metadata": {
        "id": "Wxs95G3_P6w5"
      },
      "source": [
        "**Gradient Boosting has its limitations:**\r\n",
        "\r\n",
        "- GB involves an **exhaustive search** procedure.\r\n",
        "\r\n",
        "- Each CART is trained to **find the best split points** and **features**, and thus may lead to CARTs using the same split points and maybe the same features.\r\n",
        "\r\n",
        "__Stochastic Gradient Boosting helps avoid this from happening:__\r\n",
        "\r\n",
        "- Each tree is trained on a __random subset__ of rows of the training data.\r\n",
        "\r\n",
        "- The sampled instances (***40%-80% of the training set***) are sampled **without** replacement.\r\n",
        "\r\n",
        "- Features are sampled (without replacement) when choosing split points.\r\n",
        "\r\n",
        "- **Result**: **further ensemble diversity**.\r\n",
        "\r\n",
        "- **Effect**: adding further variance to the ensemble of trees.\r\n",
        "\r\n"
      ]
    },
    {
      "cell_type": "markdown",
      "metadata": {
        "id": "FcApap85SKL8"
      },
      "source": [
        "__Stochastic Gradient Boosting: Training__\r\n",
        "\r\n",
        "<p align='center'>\r\n",
        "  <a href=\"#\">\r\n",
        "    <img src='https://github.com/mohd-faizy/CAREER-TRACK-Data-Scientist-with-Python/blob/main/28_Machine-Learning-with-Tree-Based-Models-in-Python/_img/SGD.png?raw=true'>\r\n",
        "  </a>\r\n",
        "</p>\r\n",
        "\r\n",
        "- Residual errors are multiplied by the learning rate $\\eta$ and are fed to the next tree in ensemble.\r\n",
        "\r\n",
        "- Process is repeated sequentially until all the trees in the ensemble are trained."
      ]
    },
    {
      "cell_type": "markdown",
      "metadata": {
        "id": "4g0wP8qqTzla"
      },
      "source": [
        "**Details of SGB:**\r\n",
        "\r\n",
        "- We **randomly sampl**e only a **fraction** of the training set **without replacement** to feed into the *first predictor* ${Tree_1}$.\r\n",
        "\r\n",
        "- Then, when it comes to **features**, we **ramdomly sample** a fraction of the features **without replacement** when considering makeing a **split**.\r\n",
        "\r\n",
        "- Once a tree is trained, **predictions** ($\\hat{y_1}$) are made and the **residual errors** ${r_1}$ on the training set can be calculated.\r\n",
        "\r\n",
        "- These **residual errors** are then multiplied by **learning rate** ${\\eta}$ and fed to the __next__ tree in the ensemble.\r\n",
        "\r\n",
        "- This procedure is repeated sequentially until all the trees in the ensemble are trained. ***The prediction procedure of SGB is similar to GB.***"
      ]
    },
    {
      "cell_type": "code",
      "metadata": {
        "colab": {
          "base_uri": "https://localhost:8080/"
        },
        "id": "4NRzifK5uBQ6",
        "outputId": "cfd13bda-e547-42bb-ca16-74549e89badc"
      },
      "source": [
        "# Import GradientBoostingRegressor\r\n",
        "from sklearn.ensemble import GradientBoostingRegressor\r\n",
        "# Import mean_squared_error as MSE\r\n",
        "from sklearn.metrics import mean_squared_error as MSE\r\n",
        "\r\n",
        "# Instantiate sgbr\r\n",
        "sgbr = GradientBoostingRegressor(\r\n",
        "    max_depth = 4, \r\n",
        "    subsample = 0.9, # set the fraction of training set to use in each tree\r\n",
        "    max_features = 0.75, # set the fraction of features to use when making a split\r\n",
        "    n_estimators = 200,\r\n",
        "    random_state = 2)\r\n",
        "\r\n",
        "# Fit sgbr to the training set\r\n",
        "sgbr.fit(X_train, y_train)\r\n",
        "\r\n",
        "# Predict test set labels\r\n",
        "y_pred = sgbr.predict(X_test)\r\n",
        "\r\n",
        "# Compute test set MSE\r\n",
        "mse_test = MSE(y_pred, y_test)\r\n",
        "\r\n",
        "# Compute test set RMSE\r\n",
        "rmse_test = mse_test**(1/2)\r\n",
        "\r\n",
        "# Print rmse_test\r\n",
        "print('Test set RMSE of sgbr: {:.3f}'.format(rmse_test))\r\n",
        "# output:\r\n",
        "    # Test set RMSE of sgbr: 49.979\r\n",
        "\r\n",
        "# The stochastic gradient boosting regressor achieves \r\n",
        "# a lower test set RMSE than the gradient boosting regressor \r\n",
        "# (which was 52.065)"
      ],
      "execution_count": 10,
      "outputs": [
        {
          "output_type": "stream",
          "text": [
            "Test set RMSE of sgbr: 47.260\n"
          ],
          "name": "stdout"
        }
      ]
    },
    {
      "cell_type": "markdown",
      "metadata": {
        "id": "bLzzGNuvVvbp"
      },
      "source": [
        "$\\color{red}{\\textbf{NOTE:}}$\r\n",
        "\r\n",
        "The **Stochastic Gradient Boosting Regressor** achieves a lower test set **RMSE** than the gradient boosting regressor."
      ]
    },
    {
      "cell_type": "markdown",
      "metadata": {
        "id": "YhEqRbIUWCE_"
      },
      "source": [
        "<p align='center'> \r\n",
        "    <a href=\"https://twitter.com/F4izy\"> \r\n",
        "        <img src=\"https://th.bing.com/th/id/OIP.FCKMemzqNplY37Jwi0Yk3AHaGl?w=233&h=207&c=7&o=5&pid=1.7\" width=50px \r\n",
        "            height=50px> \r\n",
        "    </a> \r\n",
        "    <a href=\"https://www.linkedin.com/in/mohd-faizy/\"> \r\n",
        "        <img src='https://th.bing.com/th/id/OIP.idrBN-LfvMIZl370Vb65SgHaHa?pid=Api&rs=1' width=50px height=50px> \r\n",
        "    </a> \r\n",
        "</p>"
      ]
    }
  ]
}